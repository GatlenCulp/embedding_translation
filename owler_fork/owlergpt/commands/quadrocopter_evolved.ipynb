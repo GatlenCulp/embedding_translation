{
 "cells": [
  {
   "cell_type": "code",
   "execution_count": 1,
   "metadata": {},
   "outputs": [],
   "source": [
    "from __future__ import annotations\n",
    "from IPython.display import clear_output\n",
    "clear_output(wait=True)  # wait=True waits for new output before clearing\n",
    "#...\n",
    "from pathlib import Path\n",
    "from safetensors.torch import load_file\n",
    "import itertools\n",
    "from pydantic import BaseModel, ConfigDict\n",
    "import numpy as np\n",
    "import tqdm\n",
    "import torch\n",
    "from typing import List, Tuple, Literal, Dict\n",
    "\n",
    "DATASETS = [\n",
    "    # (numbers are counts for documents, there may be some longer documents -> slightly more chunks)\n",
    "    \"arguana\", # 10K\n",
    "    \"fiqa\", # 50K -> 20K\n",
    "    \"scidocs\", # 25K -> 20K\n",
    "    \"nfcorpus\", # 5K\n",
    "    \"hotpotqa\", # 100K -> 20K\n",
    "    \"trec-covid\", # too much -> 20K\n",
    "]\n",
    "\n",
    "MODEL_NAMES = [\n",
    "    \"WhereIsAI/UAE-Large-V1\",\n",
    "    \"BAAI/bge-base-en-v1.5\",\n",
    "    \"BAAI/bge-large-en-v1.5\",\n",
    "    \"BAAI/bge-small-en-v1.5\",\n",
    "    \"intfloat/e5-base-v2\",\n",
    "    \"intfloat/e5-large-v2\",\n",
    "    \"intfloat/e5-small-v2\",\n",
    "    \"thenlper/gte-base\",\n",
    "    \"thenlper/gte-large\",\n",
    "    \"thenlper/gte-small\",\n",
    "    \"sentence-transformers/gtr-t5-base\",\n",
    "    \"sentence-transformers/gtr-t5-large\",\n",
    "    \"mixedbread-ai/mxbai-embed-large-v1\",\n",
    "    \"sentence-transformers/sentence-t5-base\",\n",
    "    \"sentence-transformers/sentence-t5-large\",\n",
    "    \"openai/text-embedding-3-large\", # openai\n",
    "    \"openai/text-embedding-3-small\", # openai\n",
    "]\n",
    "\n",
    "\"\"\"\n",
    "TODO(Adriano) finish this (it might turn into a jupyter notebook idk)\n",
    "\n",
    "This is an offline script to basically do the same thing as `quadracopter.ipynb`. It will provide functionality (through\n",
    "multiple click commands) to:\n",
    "1. Train optimal OLS and batched OLS for all pairs of embedding spaces, speeding up acquisition of our results by 1000x\n",
    "2. Be able to calculate a set of visualizations that we need for the paper and store them somewhere\n",
    "    - MAE Table\n",
    "    - MSE Table\n",
    "    - Variance Explained Table\n",
    "    - MAE Explained Table\n",
    "    - Aggregated of the above (using harmonic/arithmetic means)\n",
    "    - CKA, Ranking Jaccard Similarity, and Rank score (to compare with the previous tables)\n",
    "        - Cluster for CKA like the old paper\n",
    "        - Sample a few random pairs of models and dataset and showcase the triplet loss\n",
    "        - Cherry pick rank similarity from one model to all others and same for Jaccard like in the paper (this is done both in the\n",
    "            bofore stitch section and in the after stitch section)\n",
    "        - Table of rank similarity and jaccard similarity over top 10\n",
    "    - Kernel maps\n",
    "        - Sample a few random pairs of models and dataset and showcase the triplet loss\n",
    "    - UMAP, PCA, and t-SNE for embeddings (combined with a clustering algorithm to get some labels on this shit)\n",
    "        - Bonus: find some relevant labels for the chunks and then add that in there?\n",
    "    - MSE/MAE of single cycle\n",
    "    - Randomly sample some different transformations and calculate over-cycle performance (i.e. so we can see how long\n",
    "        it takes to get error up by some percent like a half-life -> geometric mean)\n",
    "    - Random matrix controls for CKA, Jaccard, MAE, MSE, etc... with sampling to provide error bars\n",
    "(parses outputs from OLS or GD outputs and then creates this shit)\n",
    "\"\"\"\n",
    "\n",
    "\n",
    "paths_gd = [\n",
    "    Path(\"/mnt/align3_drive/adrianoh/dl_final_project_layers/arguana_hf_cartesian_product\"),\n",
    "    Path(\"/mnt/align3_drive/adrianoh/dl_final_project_layers/nfcorpus_hf_cartesian_product\"),\n",
    "    Path(\"/mnt/align3_drive/adrianoh/dl_final_project_layers/scidocs_hf_cartesian_product\"),\n",
    "    Path(\"/mnt/align3_drive/adrianoh/dl_final_project_layers/trec-covid_hf_cartesian_product\"),\n",
    "    Path(\"/mnt/align3_drive/adrianoh/dl_final_project_layers/fiqa_hf_cartesian_product\"),\n",
    "    Path(\"/mnt/align3_drive/adrianoh/dl_final_project_layers/hotpotqa_hf_cartesian_product\"),\n",
    "]\n",
    "paths_ols = [\n",
    "    Path(\"/mnt/align3_drive/adrianoh/dl_final_project_layers/ols_all_datasets\")\n",
    "]\n",
    "\n",
    "class LossResultsLineEntry(BaseModel):\n",
    "    epoch: int\n",
    "    train_mse: float\n",
    "    train_mae: float\n",
    "    test_mse: float\n",
    "    test_mae: float\n",
    "\n",
    "class LossResults(BaseModel):\n",
    "    model_config = ConfigDict(arbitrary_types_allowed=True)\n",
    "    train_mses: torch.Tensor\n",
    "    train_maes: torch.Tensor\n",
    "    validation_mses: torch.Tensor\n",
    "    validation_maes: torch.Tensor\n",
    "\n",
    "class StitchPair(BaseModel):\n",
    "    source: str\n",
    "    target: str\n",
    "    dataset: str\n",
    "    mode: Literal[\"affine\", \"affine_ols\"] = \"affine\" \n",
    "\n",
    "class TableCreator:\n",
    "    def __init__(self, paths: List[Path]):\n",
    "        self.paths = paths\n",
    "\n",
    "    def __load_stitch_info(self, path: Path) -> StitchPair:\n",
    "        name = \"stitch_info.json\" if (path / \"stitch_info.json\").exists() else \"stitch_info_pairs.json\"\n",
    "        with open(path / name, \"r\") as f:\n",
    "            return StitchPair.model_validate_json(f.read())\n",
    "\n",
    "    def __load_loss_results(self, path: Path) -> LossResults:\n",
    "        with open(path / \"log.jsonl\", \"r\") as f:\n",
    "            les = [LossResultsLineEntry.model_validate_json(line.strip()) for line in f if len(line.strip()) > 0]\n",
    "        return LossResults(\n",
    "            train_mses=torch.tensor([le.train_mse for le in les]),\n",
    "            train_maes=torch.tensor([le.train_mae for le in les]),\n",
    "            validation_mses=torch.tensor([le.test_mse for le in les]),\n",
    "            validation_maes=torch.tensor([le.test_mae for le in les]),\n",
    "        )\n",
    "\n",
    "    def __get_minimal_mse_mae(self, loss_results: LossResults) -> torch.Tensor:\n",
    "        train_mse, validation_mse = torch.min(loss_results.train_mses).item(), torch.min(loss_results.validation_mses).item()\n",
    "        train_mae, validation_mae = torch.min(loss_results.train_maes).item(), torch.min(loss_results.validation_maes).item()\n",
    "        return train_mse, validation_mse, train_mae, validation_mae\n",
    "\n",
    "    def get_all_table_elements(self) -> Tuple[Dict[str, int], Dict[str, int], Dict[str, torch.Tensor], Dict[str, torch.Tensor]]:\n",
    "        \"\"\"\n",
    "        Get a table of the minimal MSE and MAE out of all the models and datasets.\n",
    "        \"\"\"\n",
    "        ################ 1. Load parent paths and sanity test ################\n",
    "        jsonl_files = []\n",
    "        # NOTE: log.jsonl = losses\n",
    "        for path in self.paths:\n",
    "            jsonl_files.extend(list(path.glob(\"**/*.jsonl\")))\n",
    "        # ---- Sanity Check Files Present ----\n",
    "        parents = set([jsonl_file.parent for jsonl_file in jsonl_files])\n",
    "        assert all((p / \"log.jsonl\").exists() for p in tqdm.tqdm(parents)) # get the losses that we will plit (i.e. MSEs and MAEs)\n",
    "        assert all((p / \"stitch_info.json\").exists() or (p / \"stitch_info_pairs.json\").exists() for p in tqdm.tqdm(parents)) # get information about pair of models, etc...\n",
    "        # TODO(Adriano) it appears that in some cases I forgot to measure this\n",
    "        # assert all((p / \"linear_transform.safetensors\").exists() for p in tqdm.tqdm(parents)) # get layers if we care about it <--- technically not use rn, but sans\n",
    "        info_losses: List[Tuple[StitchPair, LossResults]] = [\n",
    "            (self.__load_stitch_info(p), self.__load_loss_results(p)) for p in parents\n",
    "        ]\n",
    "        # ---- Sanity Check Model-Dataset Pairs Used ----\n",
    "        _expected_model_dataset_pairs_used = set(x for x in itertools.product(DATASETS, MODEL_NAMES, MODEL_NAMES) if x[1] != x[2]) # both directions, not equal\n",
    "        for info, _ in tqdm.tqdm(info_losses):\n",
    "            entry = (info.dataset, info.source, info.target)\n",
    "            assert entry in _expected_model_dataset_pairs_used # Make sure not already passed\n",
    "            _expected_model_dataset_pairs_used.remove(entry)\n",
    "        if len(_expected_model_dataset_pairs_used) > 0:\n",
    "            for entry in _expected_model_dataset_pairs_used: # [DEBUG]\n",
    "                print(entry) # [DEBUG]\n",
    "        assert len(_expected_model_dataset_pairs_used) == 0, f\"Expected {len(_expected_model_dataset_pairs_used)} model-dataset pairs, got {len(info_losses)}\"\n",
    "        ################ 2. Populate the tables ################\n",
    "        # TODO(Adriano) find a way to permute this intelligently?\n",
    "        model2idx = {model: i for i, model in enumerate(MODEL_NAMES)}\n",
    "        idx2model = {i: model for model, i in model2idx.items()}\n",
    "        dataset2table_train_mse = {dataset: -1 * torch.ones(len(MODEL_NAMES), len(MODEL_NAMES)) for dataset in DATASETS}\n",
    "        dataset2table_validation_mse = {dataset: -1 * torch.ones(len(MODEL_NAMES), len(MODEL_NAMES)) for dataset in DATASETS}\n",
    "        dataset2table_train_mae = {dataset: -1 * torch.ones(len(MODEL_NAMES), len(MODEL_NAMES)) for dataset in DATASETS}\n",
    "        dataset2table_validation_mae = {dataset: -1 * torch.ones(len(MODEL_NAMES), len(MODEL_NAMES)) for dataset in DATASETS}\n",
    "\n",
    "        for info, loss_results in tqdm.tqdm(info_losses):\n",
    "            # ---- Fetch indices ----\n",
    "            src_idx, tgt_idx = model2idx[info.source], model2idx[info.target]\n",
    "            # ---- Sanity Check ----\n",
    "            assert dataset2table_train_mse[info.dataset][src_idx, tgt_idx] == -1, f\"Dataset {info.dataset} already has a value at {src_idx, tgt_idx}\"\n",
    "            assert dataset2table_validation_mse[info.dataset][src_idx, tgt_idx] == -1, f\"Dataset {info.dataset} already has a value at {src_idx, tgt_idx}\"\n",
    "            assert dataset2table_train_mae[info.dataset][src_idx, tgt_idx] == -1, f\"Dataset {info.dataset} already has a value at {src_idx, tgt_idx}\"\n",
    "            assert dataset2table_validation_mae[info.dataset][src_idx, tgt_idx] == -1, f\"Dataset {info.dataset} already has a value at {src_idx, tgt_idx}\"\n",
    "            # ---- Fill in da tables ----\n",
    "            train_mse, validation_mse, train_mae, validation_mae = self.__get_minimal_mse_mae(loss_results)\n",
    "            dataset2table_train_mse[info.dataset][src_idx, tgt_idx] = train_mse\n",
    "            dataset2table_validation_mse[info.dataset][src_idx, tgt_idx] = validation_mse\n",
    "            dataset2table_train_mae[info.dataset][src_idx, tgt_idx] = train_mae\n",
    "            dataset2table_validation_mae[info.dataset][src_idx, tgt_idx] = validation_mae\n",
    "        # ---- Fill diagonal with 0s ----\n",
    "        for dataset in DATASETS:\n",
    "            for i in range(len(MODEL_NAMES)):\n",
    "                assert dataset2table_train_mse[dataset][i, i] == -1, f\"Dataset {dataset} already has a value at {i, i}\"\n",
    "                assert dataset2table_validation_mse[dataset][i, i] == -1, f\"Dataset {dataset} already has a value at {i, i}\"\n",
    "                assert dataset2table_train_mae[dataset][i, i] == -1, f\"Dataset {dataset} already has a value at {i, i}\"\n",
    "                assert dataset2table_validation_mae[dataset][i, i] == -1, f\"Dataset {dataset} already has a value at {i, i}\"\n",
    "                dataset2table_train_mse[dataset][i, i] = 0\n",
    "                dataset2table_validation_mse[dataset][i, i] = 0\n",
    "                dataset2table_train_mae[dataset][i, i] = 0\n",
    "                dataset2table_validation_mae[dataset][i, i] = 0\n",
    "        ################ 3. Sanity Check Tables were filled correctly ################\n",
    "        assert all(0 <= d.min() <= d.max() for d in dataset2table_train_mse.values())\n",
    "        assert all(0 <= d.min() <= d.max() for d in dataset2table_validation_mse.values())\n",
    "        assert all(0 <= d.min() <= d.max() for d in dataset2table_train_mae.values())\n",
    "        assert all(0 <= d.min() <= d.max() for d in dataset2table_validation_mae.values())\n",
    "        # ret\n",
    "        return model2idx, idx2model, dataset2table_train_mse, dataset2table_validation_mse, dataset2table_train_mae, dataset2table_validation_mae"
   ]
  },
  {
   "cell_type": "code",
   "execution_count": 2,
   "metadata": {},
   "outputs": [],
   "source": [
    "creator1 = TableCreator(paths_gd)\n",
    "creator2 = TableCreator(paths_ols)"
   ]
  },
  {
   "cell_type": "code",
   "execution_count": 3,
   "metadata": {},
   "outputs": [
    {
     "name": "stderr",
     "output_type": "stream",
     "text": [
      "100%|██████████| 1632/1632 [00:00<00:00, 51631.94it/s]\n",
      "100%|██████████| 1632/1632 [00:00<00:00, 31060.88it/s]\n",
      "100%|██████████| 1632/1632 [00:00<00:00, 973837.55it/s]\n",
      "100%|██████████| 1632/1632 [00:00<00:00, 15711.06it/s]"
     ]
    },
    {
     "name": "stdout",
     "output_type": "stream",
     "text": [
      "tensor([[0.0000e+00, 2.1409e-04, 1.7688e-05, 3.8022e-04, 1.4615e-04, 1.2339e-04,\n",
      "         2.5228e-04, 1.1638e-04, 3.3081e-05, 2.1894e-04, 2.3299e-04, 2.2096e-04,\n",
      "         5.3694e-06, 9.4156e-05, 1.2276e-04, 1.1722e-04, 1.9921e-04],\n",
      "        [1.9851e-04, 0.0000e+00, 1.8212e-04, 3.8609e-04, 1.3326e-04, 1.3031e-04,\n",
      "         2.5906e-04, 4.0098e-05, 8.7585e-05, 2.2226e-04, 2.4388e-04, 2.3890e-04,\n",
      "         1.8207e-04, 1.0100e-04, 1.3619e-04, 1.2865e-04, 2.1820e-04],\n",
      "        [1.7824e-05, 2.1355e-04, 0.0000e+00, 3.8432e-04, 1.4492e-04, 1.2234e-04,\n",
      "         2.5182e-04, 1.1819e-04, 3.5541e-05, 2.2295e-04, 2.3854e-04, 2.2654e-04,\n",
      "         2.1329e-05, 9.6897e-05, 1.2671e-04, 1.1975e-04, 2.0493e-04],\n",
      "        [2.4368e-04, 2.6703e-04, 2.2255e-04, 0.0000e+00, 1.7826e-04, 1.4847e-04,\n",
      "         2.5177e-04, 1.4171e-04, 1.0531e-04, 6.8418e-05, 2.8192e-04, 2.7708e-04,\n",
      "         2.2453e-04, 1.1663e-04, 1.5691e-04, 1.4592e-04, 2.5209e-04],\n",
      "        [2.0576e-04, 2.0061e-04, 1.8838e-04, 4.1758e-04, 0.0000e+00, 1.1187e-04,\n",
      "         2.2602e-04, 1.0063e-04, 8.4205e-05, 2.2603e-04, 2.4006e-04, 2.3222e-04,\n",
      "         1.8739e-04, 9.2591e-05, 1.2461e-04, 1.2421e-04, 2.0891e-04],\n",
      "        [2.0075e-04, 2.3701e-04, 1.8434e-04, 4.2578e-04, 1.2709e-04, 0.0000e+00,\n",
      "         2.2548e-04, 1.2057e-04, 8.2245e-05, 2.2869e-04, 2.3610e-04, 2.2020e-04,\n",
      "         1.8305e-04, 9.1789e-05, 1.1636e-04, 1.1679e-04, 1.9904e-04],\n",
      "        [2.4898e-04, 2.7669e-04, 2.2553e-04, 3.9112e-04, 1.5418e-04, 1.3104e-04,\n",
      "         0.0000e+00, 1.4058e-04, 1.0202e-04, 2.1199e-04, 2.7704e-04, 2.6992e-04,\n",
      "         2.2859e-04, 1.0970e-04, 1.4779e-04, 1.4251e-04, 2.4511e-04],\n",
      "        [1.9594e-04, 7.3258e-05, 1.8427e-04, 3.8358e-04, 1.2434e-04, 1.2373e-04,\n",
      "         2.4561e-04, 0.0000e+00, 7.6349e-05, 1.9828e-04, 2.3186e-04, 2.2693e-04,\n",
      "         1.7825e-04, 9.3274e-05, 1.2630e-04, 1.2106e-04, 2.0303e-04],\n",
      "        [6.9348e-05, 2.1180e-04, 7.2450e-05, 3.8234e-04, 1.3610e-04, 1.1505e-04,\n",
      "         2.3818e-04, 1.0051e-04, 0.0000e+00, 1.9434e-04, 2.2165e-04, 2.0884e-04,\n",
      "         6.2292e-05, 8.5929e-05, 1.1179e-04, 1.0961e-04, 1.8437e-04],\n",
      "        [2.4385e-04, 2.6739e-04, 2.2510e-04, 1.2359e-04, 1.7225e-04, 1.4400e-04,\n",
      "         2.4296e-04, 1.2993e-04, 9.5897e-05, 0.0000e+00, 2.7382e-04, 2.6924e-04,\n",
      "         2.2381e-04, 1.1221e-04, 1.5019e-04, 1.4039e-04, 2.4082e-04],\n",
      "        [2.4795e-04, 2.8103e-04, 2.3048e-04, 4.8497e-04, 1.7536e-04, 1.4450e-04,\n",
      "         2.9605e-04, 1.4581e-04, 1.0521e-04, 2.6592e-04, 0.0000e+00, 1.7782e-04,\n",
      "         2.3020e-04, 7.1390e-05, 1.3045e-04, 1.3282e-04, 2.2433e-04],\n",
      "        [2.2302e-04, 2.6159e-04, 2.0896e-04, 4.5492e-04, 1.6256e-04, 1.3169e-04,\n",
      "         2.7623e-04, 1.3425e-04, 9.3545e-05, 2.4758e-04, 1.6025e-04, 0.0000e+00,\n",
      "         2.0557e-04, 8.4596e-05, 8.3519e-05, 1.1646e-04, 1.9736e-04],\n",
      "        [5.4709e-06, 2.1277e-04, 2.2019e-05, 3.7762e-04, 1.4430e-04, 1.2206e-04,\n",
      "         2.5002e-04, 1.1449e-04, 3.1693e-05, 2.1647e-04, 2.3123e-04, 2.1885e-04,\n",
      "         0.0000e+00, 9.1805e-05, 1.1958e-04, 1.1564e-04, 1.9595e-04],\n",
      "        [2.3199e-04, 2.7025e-04, 2.1814e-04, 4.6956e-04, 1.6384e-04, 1.3536e-04,\n",
      "         2.8179e-04, 1.3580e-04, 9.4879e-05, 2.5102e-04, 1.5613e-04, 2.0886e-04,\n",
      "         2.1125e-04, 0.0000e+00, 8.8753e-05, 1.2306e-04, 2.0797e-04],\n",
      "        [2.2030e-04, 2.6525e-04, 2.0920e-04, 4.6492e-04, 1.5907e-04, 1.2816e-04,\n",
      "         2.7590e-04, 1.3234e-04, 8.9502e-05, 2.4589e-04, 2.1137e-04, 1.4115e-04,\n",
      "         2.0008e-04, 6.0555e-05, 0.0000e+00, 1.1066e-04, 1.9127e-04],\n",
      "        [1.5321e-04, 1.8348e-04, 1.4874e-04, 2.9987e-04, 1.2253e-04, 1.0172e-04,\n",
      "         1.9438e-04, 9.9762e-05, 7.0975e-05, 1.7116e-04, 1.6144e-04, 1.4642e-04,\n",
      "         1.4124e-04, 7.2176e-05, 8.4928e-05, 0.0000e+00, 1.0446e-04],\n",
      "        [1.8651e-04, 2.2018e-04, 1.7912e-04, 3.6770e-04, 1.4127e-04, 1.1828e-04,\n",
      "         2.3191e-04, 1.1504e-04, 8.1102e-05, 2.0332e-04, 1.9059e-04, 1.7682e-04,\n",
      "         1.7063e-04, 8.1222e-05, 1.0073e-04, 8.0433e-05, 0.0000e+00]])\n"
     ]
    },
    {
     "name": "stderr",
     "output_type": "stream",
     "text": [
      "\n"
     ]
    }
   ],
   "source": [
    "(\n",
    "    nnlinear_model2idx,\n",
    "    nnlinear_idx2model,\n",
    "    nnlinear_dataset2table_train_mse,\n",
    "    nnlinear_dataset2table_validation_mse,\n",
    "    nnlinear_dataset2table_train_mae,\n",
    "    nnlinear_dataset2table_validation_mae\n",
    ") = creator1.get_all_table_elements()\n",
    "example_table = nnlinear_dataset2table_train_mse[\"arguana\"]\n",
    "print(example_table) # should be a nice torch tensor, 17 x 17\n"
   ]
  },
  {
   "cell_type": "code",
   "execution_count": 4,
   "metadata": {},
   "outputs": [
    {
     "name": "stderr",
     "output_type": "stream",
     "text": [
      "Find safetensors files:   0%|          | 0/1 [00:00<?, ?it/s]"
     ]
    },
    {
     "name": "stderr",
     "output_type": "stream",
     "text": [
      "Find safetensors files: 100%|██████████| 1/1 [00:00<00:00, 12.67it/s]\n"
     ]
    },
    {
     "name": "stdout",
     "output_type": "stream",
     "text": [
      "{PosixPath('/mnt/align3_drive/adrianoh/dl_final_project_embeddings/openai_text-embedding-3-large/fiqa'), PosixPath('/mnt/align3_drive/adrianoh/dl_final_project_embeddings/sentence-transformers_gtr-t5-large/hotpotqa'), PosixPath('/mnt/align3_drive/adrianoh/dl_final_project_embeddings/intfloat_e5-small-v2/scidocs'), PosixPath('/mnt/align3_drive/adrianoh/dl_final_project_embeddings/thenlper_gte-large/trec-covid'), PosixPath('/mnt/align3_drive/adrianoh/dl_final_project_embeddings/thenlper_gte-large/hotpotqa'), PosixPath('/mnt/align3_drive/adrianoh/dl_final_project_embeddings/BAAI_bge-large-en-v1.5/arguana'), PosixPath('/mnt/align3_drive/adrianoh/dl_final_project_embeddings/WhereIsAI_UAE-Large-V1/fiqa'), PosixPath('/mnt/align3_drive/adrianoh/dl_final_project_embeddings/sentence-transformers_sentence-t5-base/nfcorpus'), PosixPath('/mnt/align3_drive/adrianoh/dl_final_project_embeddings/intfloat_e5-large-v2/trec-covid'), PosixPath('/mnt/align3_drive/adrianoh/dl_final_project_embeddings/mixedbread-ai_mxbai-embed-large-v1/fiqa'), PosixPath('/mnt/align3_drive/adrianoh/dl_final_project_embeddings/sentence-transformers_sentence-t5-large/arguana'), PosixPath('/mnt/align3_drive/adrianoh/dl_final_project_embeddings/intfloat_e5-large-v2/hotpotqa'), PosixPath('/mnt/align3_drive/adrianoh/dl_final_project_embeddings/BAAI_bge-small-en-v1.5/arguana'), PosixPath('/mnt/align3_drive/adrianoh/dl_final_project_embeddings/intfloat_e5-base-v2/hotpotqa'), PosixPath('/mnt/align3_drive/adrianoh/dl_final_project_embeddings/openai_text-embedding-3-large/trec-covid'), PosixPath('/mnt/align3_drive/adrianoh/dl_final_project_embeddings/openai_text-embedding-3-large/hotpotqa'), PosixPath('/mnt/align3_drive/adrianoh/dl_final_project_embeddings/thenlper_gte-small/nfcorpus'), PosixPath('/mnt/align3_drive/adrianoh/dl_final_project_embeddings/sentence-transformers_gtr-t5-base/arguana'), PosixPath('/mnt/align3_drive/adrianoh/dl_final_project_embeddings/BAAI_bge-base-en-v1.5/fiqa'), PosixPath('/mnt/align3_drive/adrianoh/dl_final_project_embeddings/openai_text-embedding-3-small/scidocs'), PosixPath('/mnt/align3_drive/adrianoh/dl_final_project_embeddings/WhereIsAI_UAE-Large-V1/trec-covid'), PosixPath('/mnt/align3_drive/adrianoh/dl_final_project_embeddings/sentence-transformers_sentence-t5-large/fiqa'), PosixPath('/mnt/align3_drive/adrianoh/dl_final_project_embeddings/WhereIsAI_UAE-Large-V1/hotpotqa'), PosixPath('/mnt/align3_drive/adrianoh/dl_final_project_embeddings/BAAI_bge-small-en-v1.5/fiqa'), PosixPath('/mnt/align3_drive/adrianoh/dl_final_project_embeddings/sentence-transformers_gtr-t5-large/fiqa'), PosixPath('/mnt/align3_drive/adrianoh/dl_final_project_embeddings/intfloat_e5-large-v2/nfcorpus'), PosixPath('/mnt/align3_drive/adrianoh/dl_final_project_embeddings/sentence-transformers_gtr-t5-base/fiqa'), PosixPath('/mnt/align3_drive/adrianoh/dl_final_project_embeddings/BAAI_bge-base-en-v1.5/trec-covid'), PosixPath('/mnt/align3_drive/adrianoh/dl_final_project_embeddings/thenlper_gte-large/scidocs'), PosixPath('/mnt/align3_drive/adrianoh/dl_final_project_embeddings/BAAI_bge-large-en-v1.5/trec-covid'), PosixPath('/mnt/align3_drive/adrianoh/dl_final_project_embeddings/BAAI_bge-base-en-v1.5/hotpotqa'), PosixPath('/mnt/align3_drive/adrianoh/dl_final_project_embeddings/BAAI_bge-large-en-v1.5/hotpotqa'), PosixPath('/mnt/align3_drive/adrianoh/dl_final_project_embeddings/sentence-transformers_sentence-t5-large/trec-covid'), PosixPath('/mnt/align3_drive/adrianoh/dl_final_project_embeddings/intfloat_e5-base-v2/fiqa'), PosixPath('/mnt/align3_drive/adrianoh/dl_final_project_embeddings/sentence-transformers_sentence-t5-base/arguana'), PosixPath('/mnt/align3_drive/adrianoh/dl_final_project_embeddings/thenlper_gte-base/nfcorpus'), PosixPath('/mnt/align3_drive/adrianoh/dl_final_project_embeddings/sentence-transformers_sentence-t5-large/hotpotqa'), PosixPath('/mnt/align3_drive/adrianoh/dl_final_project_embeddings/intfloat_e5-large-v2/scidocs'), PosixPath('/mnt/align3_drive/adrianoh/dl_final_project_embeddings/BAAI_bge-small-en-v1.5/trec-covid'), PosixPath('/mnt/align3_drive/adrianoh/dl_final_project_embeddings/sentence-transformers_gtr-t5-large/trec-covid'), PosixPath('/mnt/align3_drive/adrianoh/dl_final_project_embeddings/BAAI_bge-small-en-v1.5/hotpotqa'), PosixPath('/mnt/align3_drive/adrianoh/dl_final_project_embeddings/mixedbread-ai_mxbai-embed-large-v1/nfcorpus'), PosixPath('/mnt/align3_drive/adrianoh/dl_final_project_embeddings/sentence-transformers_gtr-t5-base/trec-covid'), PosixPath('/mnt/align3_drive/adrianoh/dl_final_project_embeddings/sentence-transformers_gtr-t5-base/hotpotqa'), PosixPath('/mnt/align3_drive/adrianoh/dl_final_project_embeddings/openai_text-embedding-3-small/nfcorpus'), PosixPath('/mnt/align3_drive/adrianoh/dl_final_project_embeddings/thenlper_gte-base/scidocs'), PosixPath('/mnt/align3_drive/adrianoh/dl_final_project_embeddings/WhereIsAI_UAE-Large-V1/scidocs'), PosixPath('/mnt/align3_drive/adrianoh/dl_final_project_embeddings/intfloat_e5-base-v2/trec-covid'), PosixPath('/mnt/align3_drive/adrianoh/dl_final_project_embeddings/mixedbread-ai_mxbai-embed-large-v1/scidocs'), PosixPath('/mnt/align3_drive/adrianoh/dl_final_project_embeddings/sentence-transformers_gtr-t5-large/nfcorpus'), PosixPath('/mnt/align3_drive/adrianoh/dl_final_project_embeddings/BAAI_bge-large-en-v1.5/fiqa'), PosixPath('/mnt/align3_drive/adrianoh/dl_final_project_embeddings/BAAI_bge-base-en-v1.5/scidocs'), PosixPath('/mnt/align3_drive/adrianoh/dl_final_project_embeddings/intfloat_e5-small-v2/arguana'), PosixPath('/mnt/align3_drive/adrianoh/dl_final_project_embeddings/thenlper_gte-large/nfcorpus'), PosixPath('/mnt/align3_drive/adrianoh/dl_final_project_embeddings/sentence-transformers_sentence-t5-large/scidocs'), PosixPath('/mnt/align3_drive/adrianoh/dl_final_project_embeddings/BAAI_bge-small-en-v1.5/scidocs'), PosixPath('/mnt/align3_drive/adrianoh/dl_final_project_embeddings/sentence-transformers_gtr-t5-large/scidocs'), PosixPath('/mnt/align3_drive/adrianoh/dl_final_project_embeddings/intfloat_e5-base-v2/nfcorpus'), PosixPath('/mnt/align3_drive/adrianoh/dl_final_project_embeddings/sentence-transformers_gtr-t5-base/scidocs'), PosixPath('/mnt/align3_drive/adrianoh/dl_final_project_embeddings/intfloat_e5-small-v2/fiqa'), PosixPath('/mnt/align3_drive/adrianoh/dl_final_project_embeddings/openai_text-embedding-3-large/nfcorpus'), PosixPath('/mnt/align3_drive/adrianoh/dl_final_project_embeddings/openai_text-embedding-3-small/arguana'), PosixPath('/mnt/align3_drive/adrianoh/dl_final_project_embeddings/WhereIsAI_UAE-Large-V1/nfcorpus'), PosixPath('/mnt/align3_drive/adrianoh/dl_final_project_embeddings/intfloat_e5-base-v2/scidocs'), PosixPath('/mnt/align3_drive/adrianoh/dl_final_project_embeddings/openai_text-embedding-3-large/scidocs'), PosixPath('/mnt/align3_drive/adrianoh/dl_final_project_embeddings/thenlper_gte-small/arguana'), PosixPath('/mnt/align3_drive/adrianoh/dl_final_project_embeddings/intfloat_e5-small-v2/trec-covid'), PosixPath('/mnt/align3_drive/adrianoh/dl_final_project_embeddings/intfloat_e5-small-v2/hotpotqa'), PosixPath('/mnt/align3_drive/adrianoh/dl_final_project_embeddings/BAAI_bge-base-en-v1.5/nfcorpus'), PosixPath('/mnt/align3_drive/adrianoh/dl_final_project_embeddings/sentence-transformers_sentence-t5-base/fiqa'), PosixPath('/mnt/align3_drive/adrianoh/dl_final_project_embeddings/BAAI_bge-large-en-v1.5/nfcorpus'), PosixPath('/mnt/align3_drive/adrianoh/dl_final_project_embeddings/sentence-transformers_sentence-t5-large/nfcorpus'), PosixPath('/mnt/align3_drive/adrianoh/dl_final_project_embeddings/BAAI_bge-small-en-v1.5/nfcorpus'), PosixPath('/mnt/align3_drive/adrianoh/dl_final_project_embeddings/intfloat_e5-large-v2/arguana'), PosixPath('/mnt/align3_drive/adrianoh/dl_final_project_embeddings/thenlper_gte-small/fiqa'), PosixPath('/mnt/align3_drive/adrianoh/dl_final_project_embeddings/sentence-transformers_gtr-t5-base/nfcorpus'), PosixPath('/mnt/align3_drive/adrianoh/dl_final_project_embeddings/BAAI_bge-large-en-v1.5/scidocs'), PosixPath('/mnt/align3_drive/adrianoh/dl_final_project_embeddings/sentence-transformers_sentence-t5-base/trec-covid'), PosixPath('/mnt/align3_drive/adrianoh/dl_final_project_embeddings/sentence-transformers_sentence-t5-base/hotpotqa'), PosixPath('/mnt/align3_drive/adrianoh/dl_final_project_embeddings/thenlper_gte-base/arguana'), PosixPath('/mnt/align3_drive/adrianoh/dl_final_project_embeddings/mixedbread-ai_mxbai-embed-large-v1/arguana'), PosixPath('/mnt/align3_drive/adrianoh/dl_final_project_embeddings/thenlper_gte-small/trec-covid'), PosixPath('/mnt/align3_drive/adrianoh/dl_final_project_embeddings/thenlper_gte-small/hotpotqa'), PosixPath('/mnt/align3_drive/adrianoh/dl_final_project_embeddings/BAAI_bge-base-en-v1.5/arguana'), PosixPath('/mnt/align3_drive/adrianoh/dl_final_project_embeddings/thenlper_gte-base/fiqa'), PosixPath('/mnt/align3_drive/adrianoh/dl_final_project_embeddings/sentence-transformers_gtr-t5-large/arguana'), PosixPath('/mnt/align3_drive/adrianoh/dl_final_project_embeddings/thenlper_gte-large/arguana'), PosixPath('/mnt/align3_drive/adrianoh/dl_final_project_embeddings/openai_text-embedding-3-small/fiqa'), PosixPath('/mnt/align3_drive/adrianoh/dl_final_project_embeddings/thenlper_gte-base/trec-covid'), PosixPath('/mnt/align3_drive/adrianoh/dl_final_project_embeddings/sentence-transformers_sentence-t5-base/scidocs'), PosixPath('/mnt/align3_drive/adrianoh/dl_final_project_embeddings/thenlper_gte-base/hotpotqa'), PosixPath('/mnt/align3_drive/adrianoh/dl_final_project_embeddings/mixedbread-ai_mxbai-embed-large-v1/trec-covid'), PosixPath('/mnt/align3_drive/adrianoh/dl_final_project_embeddings/mixedbread-ai_mxbai-embed-large-v1/hotpotqa'), PosixPath('/mnt/align3_drive/adrianoh/dl_final_project_embeddings/intfloat_e5-base-v2/arguana'), PosixPath('/mnt/align3_drive/adrianoh/dl_final_project_embeddings/thenlper_gte-small/scidocs'), PosixPath('/mnt/align3_drive/adrianoh/dl_final_project_embeddings/openai_text-embedding-3-large/arguana'), PosixPath('/mnt/align3_drive/adrianoh/dl_final_project_embeddings/thenlper_gte-large/fiqa'), PosixPath('/mnt/align3_drive/adrianoh/dl_final_project_embeddings/openai_text-embedding-3-small/trec-covid'), PosixPath('/mnt/align3_drive/adrianoh/dl_final_project_embeddings/intfloat_e5-small-v2/nfcorpus'), PosixPath('/mnt/align3_drive/adrianoh/dl_final_project_embeddings/openai_text-embedding-3-small/hotpotqa'), PosixPath('/mnt/align3_drive/adrianoh/dl_final_project_embeddings/WhereIsAI_UAE-Large-V1/arguana'), PosixPath('/mnt/align3_drive/adrianoh/dl_final_project_embeddings/intfloat_e5-large-v2/fiqa')}\n"
     ]
    },
    {
     "name": "stderr",
     "output_type": "stream",
     "text": [
      "Sanity checking model files: 100%|██████████| 102/102 [00:00<00:00, 1503.67it/s]\n",
      "Loading embeddings: 100%|██████████| 102/102 [00:03<00:00, 28.67it/s]"
     ]
    },
    {
     "name": "stdout",
     "output_type": "stream",
     "text": [
      "\n",
      "Embeddings Statistics:\n",
      "+------------+-----------------------------------------+------------------+----------------+------------------+----------------+---------------------------+-------------------------+\n",
      "| Dataset    | Model                                   |   Train Variance |   Val Variance |   Train Mean Mag |   Val Mean Mag |   Train MSE w/ Gaussian01 |   Val MSE w/ Gaussian01 |\n",
      "+============+=========================================+==================+================+==================+================+===========================+=========================+\n",
      "| arguana    | BAAI/bge-base-en-v1.5                   |       0.00022816 |     0.00022825 |          0.87542 |        0.87537 |                    1.0008 |                 1.0007  |\n",
      "+------------+-----------------------------------------+------------------+----------------+------------------+----------------+---------------------------+-------------------------+\n",
      "| arguana    | BAAI/bge-large-en-v1.5                  |       0.00022816 |     0.00022825 |          0.87542 |        0.87537 |                    1.0015 |                 1.0014  |\n",
      "+------------+-----------------------------------------+------------------+----------------+------------------+----------------+---------------------------+-------------------------+\n",
      "| arguana    | BAAI/bge-small-en-v1.5                  |       0.00022816 |     0.00022825 |          0.87542 |        0.87537 |                    1.0007 |                 1.0014  |\n",
      "+------------+-----------------------------------------+------------------+----------------+------------------+----------------+---------------------------+-------------------------+\n",
      "| arguana    | WhereIsAI/UAE-Large-V1                  |       0.00022816 |     0.00022825 |          0.87542 |        0.87537 |                    1.001  |                 1.0011  |\n",
      "+------------+-----------------------------------------+------------------+----------------+------------------+----------------+---------------------------+-------------------------+\n",
      "| arguana    | intfloat/e5-base-v2                     |       0.00022816 |     0.00022825 |          0.87542 |        0.87537 |                    1.0013 |                 1.0015  |\n",
      "+------------+-----------------------------------------+------------------+----------------+------------------+----------------+---------------------------+-------------------------+\n",
      "| arguana    | intfloat/e5-large-v2                    |       0.00022816 |     0.00022825 |          0.87542 |        0.87537 |                    1.0013 |                 1.0002  |\n",
      "+------------+-----------------------------------------+------------------+----------------+------------------+----------------+---------------------------+-------------------------+\n",
      "| arguana    | intfloat/e5-small-v2                    |       0.00022816 |     0.00022825 |          0.87542 |        0.87537 |                    1.0009 |                 1.0013  |\n",
      "+------------+-----------------------------------------+------------------+----------------+------------------+----------------+---------------------------+-------------------------+\n",
      "| arguana    | mixedbread-ai/mxbai-embed-large-v1      |       0.00022816 |     0.00022825 |          0.87542 |        0.87537 |                    1.0006 |                 1.001   |\n",
      "+------------+-----------------------------------------+------------------+----------------+------------------+----------------+---------------------------+-------------------------+\n",
      "| arguana    | openai/text-embedding-3-large           |       0.00022816 |     0.00022825 |          0.87542 |        0.87537 |                    1.0009 |                 1.0011  |\n",
      "+------------+-----------------------------------------+------------------+----------------+------------------+----------------+---------------------------+-------------------------+\n",
      "| arguana    | openai/text-embedding-3-small           |       0.00022816 |     0.00022825 |          0.87542 |        0.87537 |                    1.0016 |                 1.0016  |\n",
      "+------------+-----------------------------------------+------------------+----------------+------------------+----------------+---------------------------+-------------------------+\n",
      "| arguana    | sentence-transformers/gtr-t5-base       |       0.00022816 |     0.00022825 |          0.87542 |        0.87537 |                    1.0007 |                 1.0009  |\n",
      "+------------+-----------------------------------------+------------------+----------------+------------------+----------------+---------------------------+-------------------------+\n",
      "| arguana    | sentence-transformers/gtr-t5-large      |       0.00022816 |     0.00022825 |          0.87542 |        0.87537 |                    1.0017 |                 1.0011  |\n",
      "+------------+-----------------------------------------+------------------+----------------+------------------+----------------+---------------------------+-------------------------+\n",
      "| arguana    | sentence-transformers/sentence-t5-base  |       0.00022816 |     0.00022825 |          0.87542 |        0.87537 |                    1.001  |                 1.0017  |\n",
      "+------------+-----------------------------------------+------------------+----------------+------------------+----------------+---------------------------+-------------------------+\n",
      "| arguana    | sentence-transformers/sentence-t5-large |       0.00022816 |     0.00022825 |          0.87542 |        0.87537 |                    1.0012 |                 0.99963 |\n",
      "+------------+-----------------------------------------+------------------+----------------+------------------+----------------+---------------------------+-------------------------+\n",
      "| arguana    | thenlper/gte-base                       |       0.00022816 |     0.00022825 |          0.87542 |        0.87537 |                    1.0013 |                 1.0003  |\n",
      "+------------+-----------------------------------------+------------------+----------------+------------------+----------------+---------------------------+-------------------------+\n",
      "| arguana    | thenlper/gte-large                      |       0.00022816 |     0.00022825 |          0.87542 |        0.87537 |                    1.001  |                 1.0017  |\n",
      "+------------+-----------------------------------------+------------------+----------------+------------------+----------------+---------------------------+-------------------------+\n",
      "| arguana    | thenlper/gte-small                      |       0.00022816 |     0.00022825 |          0.87542 |        0.87537 |                    1.0011 |                 1.0007  |\n",
      "+------------+-----------------------------------------+------------------+----------------+------------------+----------------+---------------------------+-------------------------+\n",
      "| fiqa       | BAAI/bge-base-en-v1.5                   |       0.00022816 |     0.00022825 |          0.87542 |        0.87537 |                    1.0011 |                 1.0011  |\n",
      "+------------+-----------------------------------------+------------------+----------------+------------------+----------------+---------------------------+-------------------------+\n",
      "| fiqa       | BAAI/bge-large-en-v1.5                  |       0.00022816 |     0.00022825 |          0.87542 |        0.87537 |                    1.0013 |                 1.0013  |\n",
      "+------------+-----------------------------------------+------------------+----------------+------------------+----------------+---------------------------+-------------------------+\n",
      "| fiqa       | BAAI/bge-small-en-v1.5                  |       0.00022816 |     0.00022825 |          0.87542 |        0.87537 |                    1.0011 |                 1.0005  |\n",
      "+------------+-----------------------------------------+------------------+----------------+------------------+----------------+---------------------------+-------------------------+\n",
      "| fiqa       | WhereIsAI/UAE-Large-V1                  |       0.00022816 |     0.00022825 |          0.87542 |        0.87537 |                    1.0011 |                 1.0012  |\n",
      "+------------+-----------------------------------------+------------------+----------------+------------------+----------------+---------------------------+-------------------------+\n",
      "| fiqa       | intfloat/e5-base-v2                     |       0.00022816 |     0.00022825 |          0.87542 |        0.87537 |                    1.0007 |                 1.0009  |\n",
      "+------------+-----------------------------------------+------------------+----------------+------------------+----------------+---------------------------+-------------------------+\n",
      "| fiqa       | intfloat/e5-large-v2                    |       0.00022816 |     0.00022825 |          0.87542 |        0.87537 |                    1.001  |                 0.99993 |\n",
      "+------------+-----------------------------------------+------------------+----------------+------------------+----------------+---------------------------+-------------------------+\n",
      "| fiqa       | intfloat/e5-small-v2                    |       0.00022816 |     0.00022825 |          0.87542 |        0.87537 |                    1.0013 |                 1.0001  |\n",
      "+------------+-----------------------------------------+------------------+----------------+------------------+----------------+---------------------------+-------------------------+\n",
      "| fiqa       | mixedbread-ai/mxbai-embed-large-v1      |       0.00022816 |     0.00022825 |          0.87542 |        0.87537 |                    1.0009 |                 1.0013  |\n",
      "+------------+-----------------------------------------+------------------+----------------+------------------+----------------+---------------------------+-------------------------+\n",
      "| fiqa       | openai/text-embedding-3-large           |       0.00022816 |     0.00022825 |          0.87542 |        0.87537 |                    1.0014 |                 1.0014  |\n",
      "+------------+-----------------------------------------+------------------+----------------+------------------+----------------+---------------------------+-------------------------+\n",
      "| fiqa       | openai/text-embedding-3-small           |       0.00022816 |     0.00022825 |          0.87542 |        0.87537 |                    1.0008 |                 1.001   |\n",
      "+------------+-----------------------------------------+------------------+----------------+------------------+----------------+---------------------------+-------------------------+\n",
      "| fiqa       | sentence-transformers/gtr-t5-base       |       0.00022816 |     0.00022825 |          0.87542 |        0.87537 |                    1.0005 |                 1.0007  |\n",
      "+------------+-----------------------------------------+------------------+----------------+------------------+----------------+---------------------------+-------------------------+\n",
      "| fiqa       | sentence-transformers/gtr-t5-large      |       0.00022816 |     0.00022825 |          0.87542 |        0.87537 |                    1.0007 |                 1.0016  |\n",
      "+------------+-----------------------------------------+------------------+----------------+------------------+----------------+---------------------------+-------------------------+\n",
      "| fiqa       | sentence-transformers/sentence-t5-base  |       0.00022816 |     0.00022825 |          0.87542 |        0.87537 |                    1.001  |                 1.0006  |\n",
      "+------------+-----------------------------------------+------------------+----------------+------------------+----------------+---------------------------+-------------------------+\n",
      "| fiqa       | sentence-transformers/sentence-t5-large |       0.00022816 |     0.00022825 |          0.87542 |        0.87537 |                    1.0008 |                 1.0009  |\n",
      "+------------+-----------------------------------------+------------------+----------------+------------------+----------------+---------------------------+-------------------------+\n",
      "| fiqa       | thenlper/gte-base                       |       0.00022816 |     0.00022825 |          0.87542 |        0.87537 |                    1.0008 |                 1.0005  |\n",
      "+------------+-----------------------------------------+------------------+----------------+------------------+----------------+---------------------------+-------------------------+\n",
      "| fiqa       | thenlper/gte-large                      |       0.00022816 |     0.00022825 |          0.87542 |        0.87537 |                    1.0008 |                 1.0009  |\n",
      "+------------+-----------------------------------------+------------------+----------------+------------------+----------------+---------------------------+-------------------------+\n",
      "| fiqa       | thenlper/gte-small                      |       0.00022816 |     0.00022825 |          0.87542 |        0.87537 |                    1.001  |                 1.001   |\n",
      "+------------+-----------------------------------------+------------------+----------------+------------------+----------------+---------------------------+-------------------------+\n",
      "| hotpotqa   | BAAI/bge-base-en-v1.5                   |       0.00022816 |     0.00022825 |          0.87542 |        0.87537 |                    1.0014 |                 1.001   |\n",
      "+------------+-----------------------------------------+------------------+----------------+------------------+----------------+---------------------------+-------------------------+\n",
      "| hotpotqa   | BAAI/bge-large-en-v1.5                  |       0.00022816 |     0.00022825 |          0.87542 |        0.87537 |                    1.0011 |                 1.0014  |\n",
      "+------------+-----------------------------------------+------------------+----------------+------------------+----------------+---------------------------+-------------------------+\n",
      "| hotpotqa   | BAAI/bge-small-en-v1.5                  |       0.00022816 |     0.00022825 |          0.87542 |        0.87537 |                    1.0006 |                 1.0021  |\n",
      "+------------+-----------------------------------------+------------------+----------------+------------------+----------------+---------------------------+-------------------------+\n",
      "| hotpotqa   | WhereIsAI/UAE-Large-V1                  |       0.00022816 |     0.00022825 |          0.87542 |        0.87537 |                    1.001  |                 1.0012  |\n",
      "+------------+-----------------------------------------+------------------+----------------+------------------+----------------+---------------------------+-------------------------+\n",
      "| hotpotqa   | intfloat/e5-base-v2                     |       0.00022816 |     0.00022825 |          0.87542 |        0.87537 |                    1.0008 |                 1.0006  |\n",
      "+------------+-----------------------------------------+------------------+----------------+------------------+----------------+---------------------------+-------------------------+\n",
      "| hotpotqa   | intfloat/e5-large-v2                    |       0.00022816 |     0.00022825 |          0.87542 |        0.87537 |                    1.0009 |                 1.0004  |\n",
      "+------------+-----------------------------------------+------------------+----------------+------------------+----------------+---------------------------+-------------------------+\n",
      "| hotpotqa   | intfloat/e5-small-v2                    |       0.00022816 |     0.00022825 |          0.87542 |        0.87537 |                    1.0008 |                 1.001   |\n",
      "+------------+-----------------------------------------+------------------+----------------+------------------+----------------+---------------------------+-------------------------+\n",
      "| hotpotqa   | mixedbread-ai/mxbai-embed-large-v1      |       0.00022816 |     0.00022825 |          0.87542 |        0.87537 |                    1.0006 |                 1.0014  |\n",
      "+------------+-----------------------------------------+------------------+----------------+------------------+----------------+---------------------------+-------------------------+\n",
      "| hotpotqa   | openai/text-embedding-3-large           |       0.00022816 |     0.00022825 |          0.87542 |        0.87537 |                    1.001  |                 1.0013  |\n",
      "+------------+-----------------------------------------+------------------+----------------+------------------+----------------+---------------------------+-------------------------+\n",
      "| hotpotqa   | openai/text-embedding-3-small           |       0.00022816 |     0.00022825 |          0.87542 |        0.87537 |                    1.0003 |                 1.0008  |\n",
      "+------------+-----------------------------------------+------------------+----------------+------------------+----------------+---------------------------+-------------------------+\n",
      "| hotpotqa   | sentence-transformers/gtr-t5-base       |       0.00022816 |     0.00022825 |          0.87542 |        0.87537 |                    1.001  |                 1.0012  |\n",
      "+------------+-----------------------------------------+------------------+----------------+------------------+----------------+---------------------------+-------------------------+\n",
      "| hotpotqa   | sentence-transformers/gtr-t5-large      |       0.00022816 |     0.00022825 |          0.87542 |        0.87537 |                    1.0012 |                 1.0016  |\n",
      "+------------+-----------------------------------------+------------------+----------------+------------------+----------------+---------------------------+-------------------------+\n",
      "| hotpotqa   | sentence-transformers/sentence-t5-base  |       0.00022816 |     0.00022825 |          0.87542 |        0.87537 |                    1.0011 |                 1.0008  |\n",
      "+------------+-----------------------------------------+------------------+----------------+------------------+----------------+---------------------------+-------------------------+\n",
      "| hotpotqa   | sentence-transformers/sentence-t5-large |       0.00022816 |     0.00022825 |          0.87542 |        0.87537 |                    1.001  |                 1.0008  |\n",
      "+------------+-----------------------------------------+------------------+----------------+------------------+----------------+---------------------------+-------------------------+\n",
      "| hotpotqa   | thenlper/gte-base                       |       0.00022816 |     0.00022825 |          0.87542 |        0.87537 |                    1.0014 |                 1.0005  |\n",
      "+------------+-----------------------------------------+------------------+----------------+------------------+----------------+---------------------------+-------------------------+\n",
      "| hotpotqa   | thenlper/gte-large                      |       0.00022816 |     0.00022825 |          0.87542 |        0.87537 |                    1.0007 |                 1.0008  |\n",
      "+------------+-----------------------------------------+------------------+----------------+------------------+----------------+---------------------------+-------------------------+\n",
      "| hotpotqa   | thenlper/gte-small                      |       0.00022816 |     0.00022825 |          0.87542 |        0.87537 |                    1.0011 |                 1.0023  |\n",
      "+------------+-----------------------------------------+------------------+----------------+------------------+----------------+---------------------------+-------------------------+\n",
      "| nfcorpus   | BAAI/bge-base-en-v1.5                   |       0.00022816 |     0.00022825 |          0.87542 |        0.87537 |                    1.0008 |                 1.0009  |\n",
      "+------------+-----------------------------------------+------------------+----------------+------------------+----------------+---------------------------+-------------------------+\n",
      "| nfcorpus   | BAAI/bge-large-en-v1.5                  |       0.00022816 |     0.00022825 |          0.87542 |        0.87537 |                    1.0009 |                 0.9998  |\n",
      "+------------+-----------------------------------------+------------------+----------------+------------------+----------------+---------------------------+-------------------------+\n",
      "| nfcorpus   | BAAI/bge-small-en-v1.5                  |       0.00022816 |     0.00022825 |          0.87542 |        0.87537 |                    1.0012 |                 1.0006  |\n",
      "+------------+-----------------------------------------+------------------+----------------+------------------+----------------+---------------------------+-------------------------+\n",
      "| nfcorpus   | WhereIsAI/UAE-Large-V1                  |       0.00022816 |     0.00022825 |          0.87542 |        0.87537 |                    1.0007 |                 1.0008  |\n",
      "+------------+-----------------------------------------+------------------+----------------+------------------+----------------+---------------------------+-------------------------+\n",
      "| nfcorpus   | intfloat/e5-base-v2                     |       0.00022816 |     0.00022825 |          0.87542 |        0.87537 |                    1.001  |                 1.0011  |\n",
      "+------------+-----------------------------------------+------------------+----------------+------------------+----------------+---------------------------+-------------------------+\n",
      "| nfcorpus   | intfloat/e5-large-v2                    |       0.00022816 |     0.00022825 |          0.87542 |        0.87537 |                    1.0009 |                 1.001   |\n",
      "+------------+-----------------------------------------+------------------+----------------+------------------+----------------+---------------------------+-------------------------+\n",
      "| nfcorpus   | intfloat/e5-small-v2                    |       0.00022816 |     0.00022825 |          0.87542 |        0.87537 |                    1.0015 |                 1.0014  |\n",
      "+------------+-----------------------------------------+------------------+----------------+------------------+----------------+---------------------------+-------------------------+\n",
      "| nfcorpus   | mixedbread-ai/mxbai-embed-large-v1      |       0.00022816 |     0.00022825 |          0.87542 |        0.87537 |                    1.0012 |                 1.0005  |\n",
      "+------------+-----------------------------------------+------------------+----------------+------------------+----------------+---------------------------+-------------------------+\n",
      "| nfcorpus   | openai/text-embedding-3-large           |       0.00022816 |     0.00022825 |          0.87542 |        0.87537 |                    1.0004 |                 1.0008  |\n",
      "+------------+-----------------------------------------+------------------+----------------+------------------+----------------+---------------------------+-------------------------+\n",
      "| nfcorpus   | openai/text-embedding-3-small           |       0.00022816 |     0.00022825 |          0.87542 |        0.87537 |                    1.0009 |                 1.0004  |\n",
      "+------------+-----------------------------------------+------------------+----------------+------------------+----------------+---------------------------+-------------------------+\n",
      "| nfcorpus   | sentence-transformers/gtr-t5-base       |       0.00022816 |     0.00022825 |          0.87542 |        0.87537 |                    1.0011 |                 1.0005  |\n",
      "+------------+-----------------------------------------+------------------+----------------+------------------+----------------+---------------------------+-------------------------+\n",
      "| nfcorpus   | sentence-transformers/gtr-t5-large      |       0.00022816 |     0.00022825 |          0.87542 |        0.87537 |                    1.0006 |                 1.0006  |\n",
      "+------------+-----------------------------------------+------------------+----------------+------------------+----------------+---------------------------+-------------------------+\n",
      "| nfcorpus   | sentence-transformers/sentence-t5-base  |       0.00022816 |     0.00022825 |          0.87542 |        0.87537 |                    1.001  |                 1.0015  |\n",
      "+------------+-----------------------------------------+------------------+----------------+------------------+----------------+---------------------------+-------------------------+\n",
      "| nfcorpus   | sentence-transformers/sentence-t5-large |       0.00022816 |     0.00022825 |          0.87542 |        0.87537 |                    1.001  |                 1.0008  |\n",
      "+------------+-----------------------------------------+------------------+----------------+------------------+----------------+---------------------------+-------------------------+\n",
      "| nfcorpus   | thenlper/gte-base                       |       0.00022816 |     0.00022825 |          0.87542 |        0.87537 |                    1.0012 |                 1.0002  |\n",
      "+------------+-----------------------------------------+------------------+----------------+------------------+----------------+---------------------------+-------------------------+\n",
      "| nfcorpus   | thenlper/gte-large                      |       0.00022816 |     0.00022825 |          0.87542 |        0.87537 |                    1.0009 |                 1.0007  |\n",
      "+------------+-----------------------------------------+------------------+----------------+------------------+----------------+---------------------------+-------------------------+\n",
      "| nfcorpus   | thenlper/gte-small                      |       0.00022816 |     0.00022825 |          0.87542 |        0.87537 |                    1.0008 |                 1.0006  |\n",
      "+------------+-----------------------------------------+------------------+----------------+------------------+----------------+---------------------------+-------------------------+\n",
      "| scidocs    | BAAI/bge-base-en-v1.5                   |       0.00022816 |     0.00022825 |          0.87542 |        0.87537 |                    1.0009 |                 1.0005  |\n",
      "+------------+-----------------------------------------+------------------+----------------+------------------+----------------+---------------------------+-------------------------+\n",
      "| scidocs    | BAAI/bge-large-en-v1.5                  |       0.00022816 |     0.00022825 |          0.87542 |        0.87537 |                    1.0007 |                 1.0018  |\n",
      "+------------+-----------------------------------------+------------------+----------------+------------------+----------------+---------------------------+-------------------------+\n",
      "| scidocs    | BAAI/bge-small-en-v1.5                  |       0.00022816 |     0.00022825 |          0.87542 |        0.87537 |                    1.001  |                 1.0009  |\n",
      "+------------+-----------------------------------------+------------------+----------------+------------------+----------------+---------------------------+-------------------------+\n",
      "| scidocs    | WhereIsAI/UAE-Large-V1                  |       0.00022816 |     0.00022825 |          0.87542 |        0.87537 |                    1.0011 |                 0.99953 |\n",
      "+------------+-----------------------------------------+------------------+----------------+------------------+----------------+---------------------------+-------------------------+\n",
      "| scidocs    | intfloat/e5-base-v2                     |       0.00022816 |     0.00022825 |          0.87542 |        0.87537 |                    1.0005 |                 1.0017  |\n",
      "+------------+-----------------------------------------+------------------+----------------+------------------+----------------+---------------------------+-------------------------+\n",
      "| scidocs    | intfloat/e5-large-v2                    |       0.00022816 |     0.00022825 |          0.87542 |        0.87537 |                    1.001  |                 1.0012  |\n",
      "+------------+-----------------------------------------+------------------+----------------+------------------+----------------+---------------------------+-------------------------+\n",
      "| scidocs    | intfloat/e5-small-v2                    |       0.00022816 |     0.00022825 |          0.87542 |        0.87537 |                    1.0014 |                 1.0014  |\n",
      "+------------+-----------------------------------------+------------------+----------------+------------------+----------------+---------------------------+-------------------------+\n",
      "| scidocs    | mixedbread-ai/mxbai-embed-large-v1      |       0.00022816 |     0.00022825 |          0.87542 |        0.87537 |                    1.001  |                 1.0016  |\n",
      "+------------+-----------------------------------------+------------------+----------------+------------------+----------------+---------------------------+-------------------------+\n",
      "| scidocs    | openai/text-embedding-3-large           |       0.00022816 |     0.00022825 |          0.87542 |        0.87537 |                    1.0009 |                 1.0005  |\n",
      "+------------+-----------------------------------------+------------------+----------------+------------------+----------------+---------------------------+-------------------------+\n",
      "| scidocs    | openai/text-embedding-3-small           |       0.00022816 |     0.00022825 |          0.87542 |        0.87537 |                    1.001  |                 0.99993 |\n",
      "+------------+-----------------------------------------+------------------+----------------+------------------+----------------+---------------------------+-------------------------+\n",
      "| scidocs    | sentence-transformers/gtr-t5-base       |       0.00022816 |     0.00022825 |          0.87542 |        0.87537 |                    1.0003 |                 1.0008  |\n",
      "+------------+-----------------------------------------+------------------+----------------+------------------+----------------+---------------------------+-------------------------+\n",
      "| scidocs    | sentence-transformers/gtr-t5-large      |       0.00022816 |     0.00022825 |          0.87542 |        0.87537 |                    1.0008 |                 1       |\n",
      "+------------+-----------------------------------------+------------------+----------------+------------------+----------------+---------------------------+-------------------------+\n",
      "| scidocs    | sentence-transformers/sentence-t5-base  |       0.00022816 |     0.00022825 |          0.87542 |        0.87537 |                    1.0012 |                 1.0009  |\n",
      "+------------+-----------------------------------------+------------------+----------------+------------------+----------------+---------------------------+-------------------------+\n",
      "| scidocs    | sentence-transformers/sentence-t5-large |       0.00022816 |     0.00022825 |          0.87542 |        0.87537 |                    1.0009 |                 1.0007  |\n",
      "+------------+-----------------------------------------+------------------+----------------+------------------+----------------+---------------------------+-------------------------+\n",
      "| scidocs    | thenlper/gte-base                       |       0.00022816 |     0.00022825 |          0.87542 |        0.87537 |                    1.0007 |                 1.0008  |\n",
      "+------------+-----------------------------------------+------------------+----------------+------------------+----------------+---------------------------+-------------------------+\n",
      "| scidocs    | thenlper/gte-large                      |       0.00022816 |     0.00022825 |          0.87542 |        0.87537 |                    1.0005 |                 0.99976 |\n",
      "+------------+-----------------------------------------+------------------+----------------+------------------+----------------+---------------------------+-------------------------+\n",
      "| scidocs    | thenlper/gte-small                      |       0.00022816 |     0.00022825 |          0.87542 |        0.87537 |                    1.0009 |                 1.0017  |\n",
      "+------------+-----------------------------------------+------------------+----------------+------------------+----------------+---------------------------+-------------------------+\n",
      "| trec-covid | BAAI/bge-base-en-v1.5                   |       0.00022816 |     0.00022825 |          0.87542 |        0.87537 |                    1.0009 |                 1.0003  |\n",
      "+------------+-----------------------------------------+------------------+----------------+------------------+----------------+---------------------------+-------------------------+\n",
      "| trec-covid | BAAI/bge-large-en-v1.5                  |       0.00022816 |     0.00022825 |          0.87542 |        0.87537 |                    1.0015 |                 1.0013  |\n",
      "+------------+-----------------------------------------+------------------+----------------+------------------+----------------+---------------------------+-------------------------+\n",
      "| trec-covid | BAAI/bge-small-en-v1.5                  |       0.00022816 |     0.00022825 |          0.87542 |        0.87537 |                    1.0008 |                 1.0012  |\n",
      "+------------+-----------------------------------------+------------------+----------------+------------------+----------------+---------------------------+-------------------------+\n",
      "| trec-covid | WhereIsAI/UAE-Large-V1                  |       0.00022816 |     0.00022825 |          0.87542 |        0.87537 |                    1.0011 |                 1.0015  |\n",
      "+------------+-----------------------------------------+------------------+----------------+------------------+----------------+---------------------------+-------------------------+\n",
      "| trec-covid | intfloat/e5-base-v2                     |       0.00022816 |     0.00022825 |          0.87542 |        0.87537 |                    1.0013 |                 1.0014  |\n",
      "+------------+-----------------------------------------+------------------+----------------+------------------+----------------+---------------------------+-------------------------+\n",
      "| trec-covid | intfloat/e5-large-v2                    |       0.00022816 |     0.00022825 |          0.87542 |        0.87537 |                    1.0009 |                 1.001   |\n",
      "+------------+-----------------------------------------+------------------+----------------+------------------+----------------+---------------------------+-------------------------+\n",
      "| trec-covid | intfloat/e5-small-v2                    |       0.00022816 |     0.00022825 |          0.87542 |        0.87537 |                    1.0008 |                 1.0004  |\n",
      "+------------+-----------------------------------------+------------------+----------------+------------------+----------------+---------------------------+-------------------------+\n",
      "| trec-covid | mixedbread-ai/mxbai-embed-large-v1      |       0.00022816 |     0.00022825 |          0.87542 |        0.87537 |                    1.0009 |                 1.0005  |\n",
      "+------------+-----------------------------------------+------------------+----------------+------------------+----------------+---------------------------+-------------------------+\n",
      "| trec-covid | openai/text-embedding-3-large           |       0.00022816 |     0.00022825 |          0.87542 |        0.87537 |                    1.0007 |                 1.0014  |\n",
      "+------------+-----------------------------------------+------------------+----------------+------------------+----------------+---------------------------+-------------------------+\n",
      "| trec-covid | openai/text-embedding-3-small           |       0.00022816 |     0.00022825 |          0.87542 |        0.87537 |                    1.0008 |                 1.0007  |\n",
      "+------------+-----------------------------------------+------------------+----------------+------------------+----------------+---------------------------+-------------------------+\n",
      "| trec-covid | sentence-transformers/gtr-t5-base       |       0.00022816 |     0.00022825 |          0.87542 |        0.87537 |                    1.0012 |                 1.0011  |\n",
      "+------------+-----------------------------------------+------------------+----------------+------------------+----------------+---------------------------+-------------------------+\n",
      "| trec-covid | sentence-transformers/gtr-t5-large      |       0.00022816 |     0.00022825 |          0.87542 |        0.87537 |                    1.0012 |                 1.0013  |\n",
      "+------------+-----------------------------------------+------------------+----------------+------------------+----------------+---------------------------+-------------------------+\n",
      "| trec-covid | sentence-transformers/sentence-t5-base  |       0.00022816 |     0.00022825 |          0.87542 |        0.87537 |                    1.0011 |                 1.0002  |\n",
      "+------------+-----------------------------------------+------------------+----------------+------------------+----------------+---------------------------+-------------------------+\n",
      "| trec-covid | sentence-transformers/sentence-t5-large |       0.00022816 |     0.00022825 |          0.87542 |        0.87537 |                    1.0013 |                 1.0011  |\n",
      "+------------+-----------------------------------------+------------------+----------------+------------------+----------------+---------------------------+-------------------------+\n",
      "| trec-covid | thenlper/gte-base                       |       0.00022816 |     0.00022825 |          0.87542 |        0.87537 |                    1.0008 |                 1.0012  |\n",
      "+------------+-----------------------------------------+------------------+----------------+------------------+----------------+---------------------------+-------------------------+\n",
      "| trec-covid | thenlper/gte-large                      |       0.00022816 |     0.00022825 |          0.87542 |        0.87537 |                    1.0011 |                 1.0006  |\n",
      "+------------+-----------------------------------------+------------------+----------------+------------------+----------------+---------------------------+-------------------------+\n",
      "| trec-covid | thenlper/gte-small                      |       0.00022816 |     0.00022825 |          0.87542 |        0.87537 |                    1.0009 |                 1.001   |\n",
      "+------------+-----------------------------------------+------------------+----------------+------------------+----------------+---------------------------+-------------------------+\n"
     ]
    },
    {
     "name": "stderr",
     "output_type": "stream",
     "text": [
      "\n"
     ]
    }
   ],
   "source": [
    "from safetensors.torch import load_file\n",
    "from tabulate import tabulate\n",
    "\n",
    "\n",
    "def __get_model_files(model_dir: Path) -> List[Path]:\n",
    "    return  [\n",
    "            # embeddings\n",
    "            model_dir / f\"embeddings_corpus_train.safetensors\",\n",
    "            model_dir / f\"embeddings_corpus_validation.safetensors\",\n",
    "            # model_dir / f\"embeddings_queries_train.safetensors\",\n",
    "            # model_dir / f\"embeddings_queries_validation.safetensors\",\n",
    "            # metadata\n",
    "            # model_dir / f\"metadatas_corpus_train.jsonl\",\n",
    "            # model_dir / f\"metadatas_corpus_validation.jsonl\",\n",
    "            # model_dir / f\"metadatas_queries_train.jsonl\",\n",
    "            # model_dir / f\"metadatas_queries_validation.jsonl\",\n",
    "        ]\n",
    "def __get_reversed_model_files(model_dir: Path) -> List[Path]:\n",
    "    return [\n",
    "        # reverse because sometimes we do \"corpus_embeddings...\"\n",
    "        #\n",
    "        # saftensors\n",
    "        model_dir / f\"corpus_train_embeddings.safetensors\",\n",
    "        # model_dir / f\"queries_train_embeddings.safetensors\",\n",
    "        model_dir / f\"corpus_validation_embeddings.safetensors\",\n",
    "        # model_dir / f\"queries_validation_embeddings.safetensors\",\n",
    "        # jsonls\n",
    "        # model_dir / f\"corpus_train_metadatas.jsonl\",\n",
    "        # model_dir / f\"queries_train_metadatas.jsonl\",\n",
    "        # model_dir / f\"corpus_validation_metadatas.jsonl\",\n",
    "        # model_dir / f\"queries_validation_metadatas.jsonl\",\n",
    "    ]\n",
    "\n",
    "def get_model_files(model_dir: Path) -> List[Path]:\n",
    "    files = __get_model_files(model_dir)\n",
    "    if not all(f.exists() for f in files):\n",
    "        files = __get_reversed_model_files(model_dir)\n",
    "    assert all(f.exists() for f in files), f\"Files {files} do not exist in {model_dir}\"\n",
    "    return files\n",
    "    \n",
    "\n",
    "\n",
    "embeddings_paths = [Path(\"/mnt/align3_drive/adrianoh/dl_final_project_embeddings\")]\n",
    "class EmbeddingsLoader:\n",
    "    def __init__(self, paths: list[Path], device: torch.device = torch.device(\"cuda\")):\n",
    "        self.paths = paths\n",
    "        self.model_names = MODEL_NAMES\n",
    "        self.datasets = DATASETS\n",
    "        self.device = device\n",
    "\n",
    "    def get_mean_variance(self, embeddings: torch.Tensor) -> Tuple[torch.Tensor, float]:\n",
    "        assert len(embeddings.shape) == 2, f\"Embeddings must be 2D, got {embeddings.shape}\"\n",
    "        # (num_datapoints, num_features)\n",
    "        # assert embeddings.shape[0] >= embeddings.shape[1], f\"Embeddings must have more rows than columns, got {embeddings.shape}\"\n",
    "        mean_embeddings = embeddings.mean(dim=0)\n",
    "        mean_centered = embeddings - mean_embeddings\n",
    "        squares = mean_centered.pow(2)\n",
    "        variance = squares.mean().item()\n",
    "        return mean_embeddings, variance\n",
    "    \n",
    "    def get_mse_wrt_gaussian01(self, embeddings: torch.Tensor) -> float:\n",
    "        return (embeddings - torch.randn_like(embeddings)).pow(2).mean().item()\n",
    "\n",
    "    def get_all_embeddings(self) -> tuple[dict[str, torch.Tensor], dict[str, torch.Tensor]]:\n",
    "        # Initialize storage\n",
    "        # NOTE: we only do the corpus embeddings now!\n",
    "        # all_embeddings_train: dict[Tuple[str, str], torch.Tensor] = {} # Might be used later\n",
    "        # all_embeddings_validation: dict[Tuple[str, str], torch.Tensor] = {} # Might be used later\n",
    "        all_variances_train: dict[Tuple[str, str], float] = {}\n",
    "        all_variances_validation: dict[Tuple[str, str], float] = {}\n",
    "        all_mean_magnitudes_train: dict[Tuple[str, str], float] = {}\n",
    "        all_mean_magnitudes_validation: dict[Tuple[str, str], float] = {}\n",
    "        all_mse_wrt_gaussian01_train: dict[Tuple[str, str], float] = {}\n",
    "        all_mse_wrt_gaussian01_validation: dict[Tuple[str, str], float] = {}\n",
    "\n",
    "        # Fetch all the model + datasets' embeddings\n",
    "        all_safetensors_files = []\n",
    "        for path in tqdm.tqdm(self.paths, desc=\"Find safetensors files\"):\n",
    "            all_safetensors_files.extend(list(path.glob(\"**/*.safetensors\")))\n",
    "        assert len(all_safetensors_files) > 0, \"No safetensors files found\"\n",
    "        parents = set([file.parent for file in all_safetensors_files])\n",
    "        # print(parents) # DEBUG\n",
    "        for parent in tqdm.tqdm(parents, desc=\"Sanity checking model files\"):\n",
    "            assert all(x.exists() for x in get_model_files(parent)), f\"Files {get_model_files(parent)} do not exist in {parent}\"\n",
    "        \n",
    "        # Load all embeddings... do we crash?\n",
    "        _product = list(itertools.product(self.datasets, self.model_names))\n",
    "        for dataset, model_name in tqdm.tqdm(_product, desc=\"Loading embeddings\"):\n",
    "            embeddings_train_file, embeddings_validation_file = get_model_files(parent)\n",
    "            embeddings_train = load_file(embeddings_train_file)[\"embeddings\"].to(self.device)\n",
    "            embeddings_validation = load_file(embeddings_validation_file)[\"embeddings\"].to(self.device)\n",
    "            # all_embeddings_train[(dataset, model_name)] = embeddings_train # Might be used later\n",
    "            # all_embeddings_validation[(dataset, model_name)] = embeddings_validation # Might be used later\n",
    "            mean_train, variance_train = self.get_mean_variance(embeddings_train)\n",
    "            mean_validation, variance_validation = self.get_mean_variance(embeddings_validation)\n",
    "            mean_train_magnitude = mean_train.norm().item()\n",
    "            mean_validation_magnitude = mean_validation.norm().item()\n",
    "            mse_wrt_gaussian01_train = self.get_mse_wrt_gaussian01(embeddings_train)\n",
    "            mse_wrt_gaussian01_validation = self.get_mse_wrt_gaussian01(embeddings_validation)\n",
    "            all_variances_train[(dataset, model_name)] = variance_train\n",
    "            all_variances_validation[(dataset, model_name)] = variance_validation\n",
    "            all_mean_magnitudes_train[(dataset, model_name)] = mean_train_magnitude\n",
    "            all_mean_magnitudes_validation[(dataset, model_name)] = mean_validation_magnitude\n",
    "            all_mse_wrt_gaussian01_train[(dataset, model_name)] = mse_wrt_gaussian01_train\n",
    "            all_mse_wrt_gaussian01_validation[(dataset, model_name)] = mse_wrt_gaussian01_validation\n",
    "\n",
    "        return (\n",
    "            all_variances_train, all_variances_validation, \n",
    "            all_mean_magnitudes_train, all_mean_magnitudes_validation, \n",
    "            all_mse_wrt_gaussian01_train, all_mse_wrt_gaussian01_validation\n",
    "        )\n",
    "################################  TABLE CREATION ################################\n",
    "loader = EmbeddingsLoader(embeddings_paths)\n",
    "all_variances_train, all_variances_validation, all_mean_magnitudes_train, all_mean_magnitudes_validation, all_mse_wrt_gaussian01_train, all_mse_wrt_gaussian01_validation = loader.get_all_embeddings()\n",
    "\n",
    "# Combine all data into a list of rows\n",
    "rows = []\n",
    "headers = [\"Dataset\", \"Model\", \"Train Variance\", \"Val Variance\", \"Train Mean Mag\", \"Val Mean Mag\", \"Train MSE w/ Gaussian01\", \"Val MSE w/ Gaussian01\"]\n",
    "for (dataset, model) in sorted(all_variances_train.keys()): # dataset first then model\n",
    "    row = [\n",
    "        dataset,\n",
    "        model,\n",
    "        f\"{all_variances_train[(dataset, model)]:.4e}\",\n",
    "        f\"{all_variances_validation[(dataset, model)]:.4e}\", \n",
    "        f\"{all_mean_magnitudes_train[(dataset, model)]:.4e}\",\n",
    "        f\"{all_mean_magnitudes_validation[(dataset, model)]:.4e}\",\n",
    "        f\"{all_mse_wrt_gaussian01_train[(dataset, model)]:.4e}\",\n",
    "        f\"{all_mse_wrt_gaussian01_validation[(dataset, model)]:.4e}\"\n",
    "    ]\n",
    "    rows.append(row)\n",
    "\n",
    "# Print nicely formatted table\n",
    "print(\"\\nEmbeddings Statistics:\")\n",
    "print(tabulate(rows, headers=headers, tablefmt=\"grid\"))\n",
    "\n"
   ]
  },
  {
   "cell_type": "code",
   "execution_count": 5,
   "metadata": {},
   "outputs": [
    {
     "name": "stdout",
     "output_type": "stream",
     "text": [
      "================ ORDERING ==================\n",
      "['WhereIsAI/UAE-Large-V1', 'BAAI/bge-base-en-v1.5', 'BAAI/bge-large-en-v1.5', 'BAAI/bge-small-en-v1.5', 'intfloat/e5-base-v2', 'intfloat/e5-large-v2', 'intfloat/e5-small-v2', 'thenlper/gte-base', 'thenlper/gte-large', 'thenlper/gte-small', 'sentence-transformers/gtr-t5-base', 'sentence-transformers/gtr-t5-large', 'mixedbread-ai/mxbai-embed-large-v1', 'sentence-transformers/sentence-t5-base', 'sentence-transformers/sentence-t5-large', 'openai/text-embedding-3-large', 'openai/text-embedding-3-small']\n",
      "=>\n",
      "['BAAI/bge-small-en-v1.5', 'intfloat/e5-small-v2', 'thenlper/gte-small', 'BAAI/bge-base-en-v1.5', 'intfloat/e5-base-v2', 'sentence-transformers/gtr-t5-base', 'sentence-transformers/gtr-t5-large', 'sentence-transformers/sentence-t5-base', 'sentence-transformers/sentence-t5-large', 'thenlper/gte-base', 'BAAI/bge-large-en-v1.5', 'WhereIsAI/UAE-Large-V1', 'intfloat/e5-large-v2', 'mixedbread-ai/mxbai-embed-large-v1', 'thenlper/gte-large', 'openai/text-embedding-3-small', 'openai/text-embedding-3-large']\n",
      "Via\n",
      "tensor([ 3,  6,  9,  1,  4, 10, 11, 13, 14,  7,  2,  0,  5, 12,  8, 16, 15])\n"
     ]
    }
   ],
   "source": [
    "from matplotlib import pyplot as plt\n",
    "import numpy as np\n",
    "from typing import Optional\n",
    "from loguru import logger\n",
    "import plotly.graph_objects as go\n",
    "from plotly.basedatatypes import BaseFigure\n",
    "\n",
    "# Set up the figure size and style\n",
    "plt.style.use('default')  # Use default matplotlib style\n",
    "plt.rcParams['figure.facecolor'] = 'white'  # Set white background\n",
    "plt.rcParams['axes.facecolor'] = 'white'  # Set white plot background\n",
    "plt.rcParams['axes.grid'] = True  # Enable grid\n",
    "plt.rcParams['grid.alpha'] = 0.3  # Subtle grid\n",
    "fig_size = (15, 10)\n",
    "\n",
    "# Log plot version\n",
    "def format_value(val: float) -> str:\n",
    "    if val == float('-inf'):\n",
    "        return \"0\"\n",
    "    return f\"{val:.1e}\"\n",
    "\n",
    "\n",
    "################################  COPIED FROM GATLENS SHIT ################################\n",
    "def _plot_heatmap(\n",
    "    matrix: np.ndarray,\n",
    "    row_labels: list[str] | None = None,\n",
    "    col_labels: list[str] | None = None,\n",
    "    title: str = \"Heatmap\",\n",
    "    width: int = 800,\n",
    "    height: int = 600,\n",
    "    color_scale: str = \"Viridis\",\n",
    "    show_values: bool = True,\n",
    "    value_format: str = \".2f\",\n",
    "    xaxis_title: str | None = None,\n",
    "    yaxis_title: str | None = None,\n",
    ") -> go.Figure:\n",
    "    \"\"\"Create a Plotly heatmap from a 2D array.\n",
    "\n",
    "    :param matrix: 2D numpy array or list of lists with numerical values or None\n",
    "    :param row_labels: Optional list of row labels\n",
    "    :param col_labels: Optional list of column labels\n",
    "    :param title: Plot title\n",
    "    :param width: Figure width in pixels\n",
    "    :param height: Figure height in pixels\n",
    "    :param color_scale: Colorscale for the heatmap (e.g. 'Viridis', 'Cividis')\n",
    "    :param show_values: Whether to overlay cell values on the heatmap\n",
    "    :param value_format: Format string for the displayed values\n",
    "    :param xaxis_title: Optional title for the x-axis\n",
    "    :param yaxis_title: Optional title for the y-axis\n",
    "    :return: Plotly figure object\n",
    "    \"\"\"\n",
    "    logger.info(\"Creating heatmap visualization...\")\n",
    "\n",
    "    # Convert input to numpy array if it's a list\n",
    "    matrix = np.array(\n",
    "        matrix, dtype=object\n",
    "    )\n",
    "\n",
    "    # Create mask for None values\n",
    "    none_mask = matrix is None\n",
    "\n",
    "    # Convert None to np.nan for numerical operations\n",
    "    matrix = matrix.astype(float)\n",
    "    matrix[none_mask] = np.nan\n",
    "\n",
    "    # Create text annotations for each cell if requested\n",
    "    text_vals = None\n",
    "    text_template = None\n",
    "    if show_values:\n",
    "\n",
    "        def format_value(x):\n",
    "            return \"N/A\" if np.isnan(x) else f\"{x:{value_format}}\"\n",
    "\n",
    "        text_vals = np.vectorize(format_value)(matrix)\n",
    "        text_template = \"%{text}\"\n",
    "\n",
    "    fig = go.Figure(\n",
    "        data=go.Heatmap(\n",
    "            z=matrix,\n",
    "            x=col_labels,\n",
    "            y=row_labels,\n",
    "            colorscale=color_scale,\n",
    "            text=text_vals,\n",
    "            texttemplate=text_template,\n",
    "            textfont={\"color\": \"black\"},\n",
    "            reversescale=False,\n",
    "            showscale=True,\n",
    "        )\n",
    "    )\n",
    "\n",
    "    fig.update_layout(\n",
    "        title=title,\n",
    "        width=width,\n",
    "        height=height,\n",
    "        xaxis_nticks=len(col_labels) if col_labels else None,\n",
    "        yaxis_nticks=len(row_labels) if row_labels else None,\n",
    "        xaxis_title=xaxis_title,\n",
    "        yaxis_title=yaxis_title,\n",
    "    )\n",
    "\n",
    "    logger.success(\"Heatmap created successfully\")\n",
    "    return fig\n",
    "\n",
    "def visualize_heatmap(\n",
    "    matrix: np.ndarray,\n",
    "    config: dict | None = None,\n",
    "    do_scientific_notation: bool = True,\n",
    ") -> go.Figure:\n",
    "    \"\"\"Create a heatmap visualization using a configuration dictionary.\n",
    "\n",
    "    :param matrix: 2D numpy array of values\n",
    "    :param config: Optional dictionary to specify plot parameters\n",
    "    :return: Plotly figure object\n",
    "    \"\"\"\n",
    "    if config is None:\n",
    "        config = {\n",
    "            \"title\": \"Heatmap\",\n",
    "            \"width\": 800,\n",
    "            \"height\": 600,\n",
    "            \"color_scale\": \"Viridis\",\n",
    "            \"show_values\": True,\n",
    "            \"value_format\": \".2e\" if do_scientific_notation else \".2f\",\n",
    "            \"row_labels\": None,\n",
    "            \"col_labels\": None,\n",
    "        }\n",
    "\n",
    "    logger.info(\"Starting heatmap visualization process\")\n",
    "\n",
    "    fig = _plot_heatmap(\n",
    "        matrix=matrix,\n",
    "        row_labels=config.get(\"row_labels\"),\n",
    "        col_labels=config.get(\"col_labels\"),\n",
    "        title=config.get(\"title\", \"Heatmap\"),\n",
    "        width=config.get(\"width\", 800),\n",
    "        height=config.get(\"height\", 600),\n",
    "        color_scale=config.get(\"color_scale\", \"Viridis\"),\n",
    "        show_values=config.get(\"show_values\", True),\n",
    "        value_format=config.get(\"value_format\", \".2f\"),\n",
    "        xaxis_title=config.get(\"xaxis_title\"),\n",
    "        yaxis_title=config.get(\"yaxis_title\"),\n",
    "    )\n",
    "\n",
    "    return fig\n",
    "\n",
    "def _save_figure_html(\n",
    "    fig: BaseFigure,\n",
    "    filepath: Path,\n",
    ") -> Path:\n",
    "    \"\"\"Save a plotly figure as an HTML file.\n",
    "\n",
    "    :param BaseFigure fig: The plotly figure to save\n",
    "    :param Path filepath: Full path including filename and .html extension\n",
    "    :return: Path to the saved HTML file\n",
    "    :rtype: Path\n",
    "    \"\"\"\n",
    "    logger.info(f\"Saving HTML figure to {filepath}\")\n",
    "\n",
    "    try:\n",
    "        fig.write_html(\n",
    "            filepath,\n",
    "            include_plotlyjs=\"cdn\",  # Use CDN to reduce file size\n",
    "            full_html=True,\n",
    "        )\n",
    "        logger.success(f\"Successfully saved HTML to {filepath}\")\n",
    "\n",
    "    except Exception as e:\n",
    "        logger.error(f\"Failed to save HTML: {e!s}\")\n",
    "        raise\n",
    "\n",
    "    else:\n",
    "        return filepath\n",
    "    \n",
    "def _save_figure_png(\n",
    "    fig: BaseFigure,\n",
    "    filepath: Path,\n",
    "    width: int = 1200,\n",
    "    height: int = 800,\n",
    "    scale: float = 2.0,\n",
    ") -> Path:\n",
    "    \"\"\"Save a plotly figure as a PNG file.\n",
    "\n",
    "    :param BaseFigure fig: The plotly figure to save\n",
    "    :param Path filepath: Full path including filename and .png extension\n",
    "    :param int width: Width of the figure in pixels\n",
    "    :param int height: Height of the figure in pixels\n",
    "    :param float scale: Scale factor for PNG resolution\n",
    "    :return: Path to the saved PNG file\n",
    "    :rtype: Path\n",
    "    \"\"\"\n",
    "    logger.info(f\"Saving PNG figure to {filepath}\")\n",
    "\n",
    "    try:\n",
    "        fig.write_image(\n",
    "            filepath,\n",
    "            width=width,\n",
    "            height=height,\n",
    "            scale=scale,\n",
    "        )\n",
    "        logger.success(f\"Successfully saved PNG to {filepath}\")\n",
    "\n",
    "    except Exception as e:\n",
    "        logger.error(f\"Failed to save PNG: {e!s}\")\n",
    "        raise\n",
    "\n",
    "    else:\n",
    "        return filepath\n",
    "    \n",
    "def save_figure(\n",
    "    fig: BaseFigure,\n",
    "    filename: str | Path,\n",
    "    output_dir: str | Path = \"data/figs\",\n",
    "    width: int = 1200,\n",
    "    height: int = 800,\n",
    "    scale: float = 2.0,\n",
    ") -> tuple[Path, Path]:\n",
    "    \"\"\"Save a plotly figure as both HTML and PNG files.\n",
    "\n",
    "    :param BaseFigure fig: The plotly figure to save\n",
    "    :param str | Path filename: Name of the file without extension\n",
    "    :param str | Path output_dir: Directory to save the files in\n",
    "    :param int width: Width of the figure in pixels\n",
    "    :param int height: Height of the figure in pixels\n",
    "    :param float scale: Scale factor for PNG resolution\n",
    "    :return: Tuple of paths to the saved HTML and PNG files\n",
    "    :rtype: tuple[Path, Path]\n",
    "    \"\"\"\n",
    "    # Convert paths to Path objects\n",
    "    output_dir = Path(output_dir)\n",
    "    filename = Path(filename).stem  # Get filename without extension\n",
    "\n",
    "    # Generate file paths\n",
    "    html_dir = output_dir / \"html\"\n",
    "    png_dir = output_dir / \"imgs\"\n",
    "\n",
    "    html_dir.mkdir(parents=True, exist_ok=True)\n",
    "    png_dir.mkdir(parents=True, exist_ok=True)\n",
    "\n",
    "    html_path = html_dir / f\"{filename}.html\"\n",
    "    png_path = png_dir / f\"{filename}.png\"\n",
    "\n",
    "    # Save both formats\n",
    "    html_path = _save_figure_html(fig, html_path)\n",
    "    png_path = _save_figure_png(fig, png_path, width, height, scale)\n",
    "\n",
    "    return html_path, png_path\n",
    "################################  [END] COPIED FROM GATLENS SHIT ################################\n",
    "\n",
    "def visualize_plt_heatmap(\n",
    "        dataset: str,\n",
    "        mse_data: torch.Tensor,\n",
    "        mae_data: torch.Tensor,\n",
    "        use_log_plot: bool = True,\n",
    "        log_base: float = 10.0,\n",
    "        save_path: Optional[Path] = None,\n",
    "        show_plot: bool = True,\n",
    "        add_text_annotations: bool = True,\n",
    "    ):\n",
    "    if log_base != 10.0:\n",
    "        raise NotImplementedError(f\"Log base {log_base} is not supported\")\n",
    "    # Create figure with 2 subplots side by side\n",
    "    fig, (ax1, ax2) = plt.subplots(1, 2, figsize=fig_size)\n",
    "    fig.suptitle(f'Log Error Metrics for {dataset.capitalize()} Dataset', fontsize=16)\n",
    "    \n",
    "    # Convert zeros to small value before taking log\n",
    "    mse_data = mse_data.clone()\n",
    "    mae_data = mae_data.clone()\n",
    "    \n",
    "    # Replace zeros with -inf for log plot\n",
    "    if use_log_plot:\n",
    "        mse_data[mse_data == 0] = float('-inf')\n",
    "        mae_data[mae_data == 0] = float('-inf')\n",
    "    \n",
    "    # Plot log MSE\n",
    "    if use_log_plot:\n",
    "        mse_data[mse_data > 0] = torch.log10(mse_data[mse_data > 0])\n",
    "    im1 = ax1.imshow(mse_data)\n",
    "    ax1.set_title('Log10 Validation MSE')\n",
    "    plt.colorbar(im1, ax=ax1)\n",
    "\n",
    "    # Add text annotations for MSE\n",
    "    if add_text_annotations:\n",
    "        for i in range(mse_data.shape[0]):\n",
    "            for j in range(mse_data.shape[1]):\n",
    "                text = format_value(mse_data[i, j].item())\n",
    "                ax1.text(j, i, text, ha='center', va='center', \n",
    "                        fontsize=8, rotation=45)\n",
    "    \n",
    "    # Plot log MAE\n",
    "    mae_data[mae_data > 0] = torch.log10(mae_data[mae_data > 0])\n",
    "    im2 = ax2.imshow(mae_data)\n",
    "    ax2.set_title('Log10 Validation MAE')\n",
    "    plt.colorbar(im2, ax=ax2)\n",
    "\n",
    "    # Add text annotations for MAE\n",
    "    if add_text_annotations:\n",
    "        for i in range(mae_data.shape[0]):\n",
    "            for j in range(mae_data.shape[1]):\n",
    "                text = format_value(mae_data[i, j].item())\n",
    "                ax2.text(j, i, text, ha='center', va='center', \n",
    "                        fontsize=8, rotation=45)\n",
    "    \n",
    "    # Add labels\n",
    "    for ax in [ax1, ax2]:\n",
    "        ax.set_xlabel('Target Model Index')\n",
    "        ax.set_ylabel('Source Model Index')\n",
    "        \n",
    "    plt.tight_layout()\n",
    "    if save_path is not None:\n",
    "        plt.savefig(save_path)\n",
    "    if show_plot:\n",
    "        plt.show()\n",
    "    plt.close(fig)\n",
    "\n",
    "\n",
    "def gatlen_default_heatmap_plot(\n",
    "        idx2model: dict,\n",
    "        dataset_name: str,\n",
    "        architecture: str,\n",
    "        table: torch.Tensor,\n",
    "        do_log: bool = False,\n",
    "        sort_permutation: Optional[torch.Tensor] = None,\n",
    ") -> go.Figure:\n",
    "    if do_log:\n",
    "        table = table.clone()\n",
    "        table[table == 0] = float('-inf')\n",
    "        table[table > 0] = torch.log10(table[table > 0])\n",
    "    model_names = [idx2model[m] for m in range(len(idx2model))]\n",
    "    if sort_permutation is not None:\n",
    "        table = table[sort_permutation] # permute rows\n",
    "        table = table[:, sort_permutation] # permute columns\n",
    "        model_names = [model_names[m] for m in sort_permutation]\n",
    "        assert set(model_names) == set(model_names)\n",
    "\n",
    "    default_config = {\n",
    "        \"row_labels\": model_names,\n",
    "        \"col_labels\": model_names,\n",
    "        \"title\": f\"MSE Matrix on {dataset_name}, (Architecture: {architecture})\" + (\" (Logarithmic Scale)\" if do_log else \"\"),\n",
    "        \"xaxis_title\": \"Native Embedding Space\",\n",
    "        \"yaxis_title\": \"Target Embedding Space\",\n",
    "        \"value_format\": \".2f\" if do_log else \".2e\",\n",
    "    }\n",
    "    return visualize_heatmap(table, config=default_config)\n",
    "\n",
    "def model2model_dimension(model_name: str) -> int:\n",
    "    \"\"\" Helper: get the size of the embedding dimension vector (1D, usually something like 768-4096). \"\"\"\n",
    "    # Miscellaneous (HF)\n",
    "    if \"/\" in model_name:\n",
    "        assert model_name.count(\"/\") == 1\n",
    "        model_name = model_name.split(\"/\")[-1]\n",
    "    if model_name == \"SFR-Embedding-Mistral\":\n",
    "        return 4096\n",
    "    elif model_name == \"UAE-Large-V1\":\n",
    "        return 1024\n",
    "    elif model_name == \"mxbai-embed-large-v1\":\n",
    "        return 1024\n",
    "    # BGE Models (HF)\n",
    "    elif model_name == \"bge-base-en-v1.5\":\n",
    "        return 768\n",
    "    elif model_name == \"bge-large-en-v1.5\":\n",
    "        return 1024\n",
    "    elif model_name == \"bge-small-en-v1.5\":\n",
    "        return 384\n",
    "    #  E5 Models (HF)\n",
    "    elif model_name == \"e5-base-v2\":\n",
    "        return 768\n",
    "    elif model_name == \"e5-large-v2\":\n",
    "        return 1024\n",
    "    elif model_name == \"e5-small-v2\":\n",
    "        return 384\n",
    "    # GTE Models (HF)\n",
    "    elif model_name == \"gte-base\":\n",
    "        return 768\n",
    "    elif model_name == \"gte-large\":\n",
    "        return 1024\n",
    "    elif model_name == \"gte-small\":\n",
    "        return 384\n",
    "    # GTR-T5 Models (HF)\n",
    "    elif model_name == \"gtr-t5-base\":\n",
    "        return 768\n",
    "    elif model_name == \"gtr-t5-large\":\n",
    "        return 768\n",
    "    # Sentence T5 (HF)\n",
    "    elif model_name == \"sentence-t5-base\":\n",
    "        return 768\n",
    "    elif model_name == \"sentence-t5-large\":\n",
    "        return 768\n",
    "    # OpenAI Models\n",
    "    elif model_name == \"text-embedding-3-large\":\n",
    "        return 3072\n",
    "    elif model_name == \"text-embedding-3-small\":\n",
    "        return 1536\n",
    "    else:\n",
    "        # NOTE: cohere may be supported in THE FUTURE\n",
    "        raise ValueError(f\"Unsupported model: {model_name}\")\n",
    "# Sort by (dimension, org)\n",
    "DESIRED_MODEL_ORDER_NAMES = sorted(MODEL_NAMES, key=lambda x: (model2model_dimension(x), x.split(\"/\", 1)[0], x.split(\"/\", 1)[1]))\n",
    "assert set(MODEL_NAMES) == set(DESIRED_MODEL_ORDER_NAMES)\n",
    "sort_permutation = torch.tensor([MODEL_NAMES.index(m) for m in DESIRED_MODEL_ORDER_NAMES])\n",
    "print(\"================ ORDERING ==================\")\n",
    "print(MODEL_NAMES)\n",
    "print(\"=>\")\n",
    "print(DESIRED_MODEL_ORDER_NAMES)\n",
    "print(\"Via\")\n",
    "print(sort_permutation)\n"
   ]
  },
  {
   "cell_type": "code",
   "execution_count": 30,
   "metadata": {},
   "outputs": [
    {
     "name": "stderr",
     "output_type": "stream",
     "text": [
      "\u001b[32m2024-12-12 19:44:54.865\u001b[0m | \u001b[1mINFO    \u001b[0m | \u001b[36m__main__\u001b[0m:\u001b[36mvisualize_heatmap\u001b[0m:\u001b[36m127\u001b[0m - \u001b[1mStarting heatmap visualization process\u001b[0m\n",
      "\u001b[32m2024-12-12 19:44:54.866\u001b[0m | \u001b[1mINFO    \u001b[0m | \u001b[36m__main__\u001b[0m:\u001b[36m_plot_heatmap\u001b[0m:\u001b[36m52\u001b[0m - \u001b[1mCreating heatmap visualization...\u001b[0m\n",
      "\u001b[32m2024-12-12 19:44:54.875\u001b[0m | \u001b[32m\u001b[1mSUCCESS \u001b[0m | \u001b[36m__main__\u001b[0m:\u001b[36m_plot_heatmap\u001b[0m:\u001b[36m101\u001b[0m - \u001b[32m\u001b[1mHeatmap created successfully\u001b[0m\n"
     ]
    },
    {
     "name": "stdout",
     "output_type": "stream",
     "text": [
      "DEBUG: 19 19\n"
     ]
    },
    {
     "data": {
      "application/vnd.plotly.v1+json": {
       "config": {
        "plotlyServerURL": "https://plot.ly"
       },
       "data": [
        {
         "colorscale": [
          [
           0,
           "#440154"
          ],
          [
           0.1111111111111111,
           "#482878"
          ],
          [
           0.2222222222222222,
           "#3e4989"
          ],
          [
           0.3333333333333333,
           "#31688e"
          ],
          [
           0.4444444444444444,
           "#26828e"
          ],
          [
           0.5555555555555556,
           "#1f9e89"
          ],
          [
           0.6666666666666666,
           "#35b779"
          ],
          [
           0.7777777777777778,
           "#6ece58"
          ],
          [
           0.8888888888888888,
           "#b5de2b"
          ],
          [
           1,
           "#fde725"
          ]
         ],
         "reversescale": false,
         "showscale": true,
         "text": [
          [
           "-inf",
           "-3.58",
           "-4.17",
           "-3.58",
           "-3.74",
           "-3.48",
           "-3.48",
           "-3.83",
           "-3.70",
           "-3.81",
           "-3.67",
           "-3.63",
           "-3.81",
           "-3.65",
           "-3.93",
           "-3.53",
           "-3.76",
           "-3.64",
           "0.00"
          ],
          [
           "-3.40",
           "-inf",
           "-3.59",
           "-3.54",
           "-3.80",
           "-3.47",
           "-3.48",
           "-3.84",
           "-3.72",
           "-3.77",
           "-3.65",
           "-3.60",
           "-3.85",
           "-3.63",
           "-3.91",
           "-3.52",
           "-3.76",
           "-3.64",
           "0.00"
          ],
          [
           "-3.96",
           "-3.59",
           "-inf",
           "-3.58",
           "-3.75",
           "-3.49",
           "-3.49",
           "-3.82",
           "-3.70",
           "-3.83",
           "-3.67",
           "-3.63",
           "-3.81",
           "-3.65",
           "-3.95",
           "-3.53",
           "-3.77",
           "-3.64",
           "0.00"
          ],
          [
           "-3.41",
           "-3.55",
           "-3.59",
           "-inf",
           "-3.83",
           "-3.51",
           "-3.52",
           "-3.86",
           "-3.73",
           "-4.36",
           "-3.73",
           "-3.69",
           "-3.83",
           "-3.71",
           "-3.97",
           "-3.56",
           "-3.78",
           "-3.64",
           "0.00"
          ],
          [
           "-3.36",
           "-3.61",
           "-3.56",
           "-3.65",
           "-inf",
           "-3.52",
           "-3.52",
           "-3.89",
           "-3.77",
           "-3.88",
           "-3.71",
           "-3.66",
           "-3.89",
           "-3.69",
           "-3.96",
           "-3.57",
           "-3.79",
           "-3.64",
           "0.00"
          ],
          [
           "-3.31",
           "-3.51",
           "-3.51",
           "-3.53",
           "-3.74",
           "-inf",
           "-3.65",
           "-4.01",
           "-3.76",
           "-3.76",
           "-3.63",
           "-3.59",
           "-3.80",
           "-3.61",
           "-3.89",
           "-3.56",
           "-3.78",
           "-3.64",
           "0.00"
          ],
          [
           "-3.32",
           "-3.53",
           "-3.52",
           "-3.55",
           "-3.76",
           "-3.69",
           "-inf",
           "-3.93",
           "-3.98",
           "-3.78",
           "-3.66",
           "-3.62",
           "-3.83",
           "-3.65",
           "-3.93",
           "-3.60",
           "-3.83",
           "-3.64",
           "0.00"
          ],
          [
           "-3.33",
           "-3.53",
           "-3.53",
           "-3.56",
           "-3.77",
           "-3.71",
           "-3.59",
           "-inf",
           "-3.94",
           "-3.78",
           "-3.66",
           "-3.63",
           "-3.83",
           "-3.66",
           "-3.93",
           "-3.59",
           "-3.81",
           "-3.64",
           "0.00"
          ],
          [
           "-3.32",
           "-3.53",
           "-3.52",
           "-3.54",
           "-3.77",
           "-3.56",
           "-3.77",
           "-4.08",
           "-inf",
           "-3.77",
           "-3.66",
           "-3.64",
           "-3.84",
           "-3.67",
           "-3.93",
           "-3.61",
           "-3.85",
           "-3.64",
           "0.00"
          ],
          [
           "-3.41",
           "-3.56",
           "-3.63",
           "-4.16",
           "-3.85",
           "-3.53",
           "-3.53",
           "-3.87",
           "-3.75",
           "-inf",
           "-3.73",
           "-3.69",
           "-3.84",
           "-3.72",
           "-4.01",
           "-3.58",
           "-3.80",
           "-3.64",
           "0.00"
          ],
          [
           "-3.39",
           "-3.55",
           "-3.57",
           "-3.63",
           "-3.79",
           "-3.51",
           "-3.53",
           "-3.87",
           "-3.76",
           "-3.84",
           "-inf",
           "-4.87",
           "-3.84",
           "-4.71",
           "-4.42",
           "-3.57",
           "-3.79",
           "-3.64",
           "0.00"
          ],
          [
           "-3.39",
           "-3.55",
           "-3.58",
           "-3.62",
           "-3.78",
           "-3.51",
           "-3.53",
           "-3.87",
           "-3.76",
           "-3.84",
           "-4.89",
           "-inf",
           "-3.84",
           "-5.13",
           "-4.43",
           "-3.57",
           "-3.80",
           "-3.64",
           "0.00"
          ],
          [
           "-3.33",
           "-3.59",
           "-3.53",
           "-3.56",
           "-3.83",
           "-3.50",
           "-3.53",
           "-3.88",
           "-3.78",
           "-3.79",
           "-3.69",
           "-3.65",
           "-inf",
           "-3.67",
           "-3.94",
           "-3.57",
           "-3.80",
           "-3.64",
           "0.00"
          ],
          [
           "-3.39",
           "-3.55",
           "-3.58",
           "-3.63",
           "-3.78",
           "-3.52",
           "-3.53",
           "-3.88",
           "-3.77",
           "-3.84",
           "-4.72",
           "-5.12",
           "-3.84",
           "-inf",
           "-4.43",
           "-3.57",
           "-3.80",
           "-3.64",
           "0.00"
          ],
          [
           "-3.40",
           "-3.56",
           "-3.62",
           "-3.64",
           "-3.80",
           "-3.53",
           "-3.55",
           "-3.89",
           "-3.78",
           "-3.88",
           "-4.18",
           "-4.17",
           "-3.85",
           "-4.18",
           "-inf",
           "-3.59",
           "-3.81",
           "-3.64",
           "0.00"
          ],
          [
           "-3.36",
           "-3.55",
           "-3.56",
           "-3.58",
           "-3.77",
           "-3.57",
           "-3.59",
           "-3.91",
           "-3.82",
           "-3.80",
           "-3.68",
           "-3.65",
           "-3.83",
           "-3.67",
           "-3.94",
           "-inf",
           "-3.95",
           "-3.64",
           "0.00"
          ],
          [
           "-3.35",
           "-3.53",
           "-3.54",
           "-3.56",
           "-3.75",
           "-3.55",
           "-3.60",
           "-3.89",
           "-3.82",
           "-3.77",
           "-3.66",
           "-3.63",
           "-3.81",
           "-3.66",
           "-3.91",
           "-3.75",
           "-inf",
           "-3.64",
           "0.00"
          ],
          [
           "-3.64",
           "-3.64",
           "-3.64",
           "-3.64",
           "-3.64",
           "-3.64",
           "-3.64",
           "-3.64",
           "-3.64",
           "-3.64",
           "-3.64",
           "-3.64",
           "-3.64",
           "-3.64",
           "-3.64",
           "-3.64",
           "-3.64",
           "-inf",
           "-inf"
          ],
          [
           "0.00",
           "0.00",
           "0.00",
           "0.00",
           "0.00",
           "0.00",
           "0.00",
           "0.00",
           "0.00",
           "0.00",
           "0.00",
           "0.00",
           "0.00",
           "0.00",
           "0.00",
           "0.00",
           "0.00",
           "-inf",
           "-inf"
          ]
         ],
         "textfont": {
          "color": "black"
         },
         "texttemplate": "%{text}",
         "type": "heatmap",
         "x": [
          "BAAI/bge-small-en-v1.5",
          "intfloat/e5-small-v2",
          "thenlper/gte-small",
          "BAAI/bge-base-en-v1.5",
          "intfloat/e5-base-v2",
          "sentence-transformers/gtr-t5-base",
          "sentence-transformers/gtr-t5-large",
          "sentence-transformers/sentence-t5-base",
          "sentence-transformers/sentence-t5-large",
          "thenlper/gte-base",
          "BAAI/bge-large-en-v1.5",
          "WhereIsAI/UAE-Large-V1",
          "intfloat/e5-large-v2",
          "mixedbread-ai/mxbai-embed-large-v1",
          "thenlper/gte-large",
          "openai/text-embedding-3-small",
          "openai/text-embedding-3-large",
          "Mean_estimator",
          "Random_estimator"
         ],
         "y": [
          "BAAI/bge-small-en-v1.5",
          "intfloat/e5-small-v2",
          "thenlper/gte-small",
          "BAAI/bge-base-en-v1.5",
          "intfloat/e5-base-v2",
          "sentence-transformers/gtr-t5-base",
          "sentence-transformers/gtr-t5-large",
          "sentence-transformers/sentence-t5-base",
          "sentence-transformers/sentence-t5-large",
          "thenlper/gte-base",
          "BAAI/bge-large-en-v1.5",
          "WhereIsAI/UAE-Large-V1",
          "intfloat/e5-large-v2",
          "mixedbread-ai/mxbai-embed-large-v1",
          "thenlper/gte-large",
          "openai/text-embedding-3-small",
          "openai/text-embedding-3-large",
          "Mean_estimator",
          "Random_estimator"
         ],
         "z": [
          [
           null,
           -3.583838701248169,
           -4.165817737579346,
           -3.5845940113067627,
           -3.7442550659179688,
           -3.480034351348877,
           -3.4802956581115723,
           -3.828342914581299,
           -3.7030036449432373,
           -3.8063735961914062,
           -3.672426700592041,
           -3.630326747894287,
           -3.8069679737091064,
           -3.652461051940918,
           -3.9270949363708496,
           -3.5261588096618652,
           -3.762183666229248,
           -3.641674041748047,
           0.00046559423208236694
          ],
          [
           -3.3994624614715576,
           null,
           -3.592411994934082,
           -3.539482355117798,
           -3.797079563140869,
           -3.4717392921447754,
           -3.4772231578826904,
           -3.8367607593536377,
           -3.716218948364258,
           -3.771258592605591,
           -3.646462917327881,
           -3.6044325828552246,
           -3.8510794639587402,
           -3.626769542694092,
           -3.905325174331665,
           -3.5233678817749023,
           -3.7602646350860596,
           -3.641674041748047,
           0.0004915550816804171
          ],
          [
           -3.959258556365967,
           -3.586217164993286,
           null,
           -3.5841171741485596,
           -3.7495875358581543,
           -3.485872983932495,
           -3.486259698867798,
           -3.8220341205596924,
           -3.7024431228637695,
           -3.8333311080932617,
           -3.6701509952545166,
           -3.6313302516937256,
           -3.8089280128479004,
           -3.6523964405059814,
           -3.9520838260650635,
           -3.534872055053711,
           -3.766575813293457,
           -3.641674041748047,
           0.0002901365514844656
          ],
          [
           -3.4148008823394775,
           -3.5493645668029785,
           -3.5941853523254395,
           null,
           -3.8314754962921143,
           -3.5148603916168213,
           -3.5150668621063232,
           -3.863598346710205,
           -3.7348973751068115,
           -4.357378959655762,
           -3.728691577911377,
           -3.6875102519989014,
           -3.8274729251861572,
           -3.71160888671875,
           -3.9700560569763184,
           -3.5580873489379883,
           -3.7811083793640137,
           -3.641674041748047,
           0.0003033810935448855
          ],
          [
           -3.363306760787964,
           -3.6149821281433105,
           -3.557241916656494,
           -3.6549298763275146,
           null,
           -3.5152809619903564,
           -3.5248148441314697,
           -3.886136531829834,
           -3.7672762870788574,
           -3.8787014484405518,
           -3.706054210662842,
           -3.662360668182373,
           -3.8926217555999756,
           -3.6879701614379883,
           -3.955925226211548,
           -3.5678176879882812,
           -3.79439377784729,
           -3.641674041748047,
           0.0003361803537700325
          ],
          [
           -3.3117728233337402,
           -3.5100650787353516,
           -3.5087485313415527,
           -3.5313613414764404,
           -3.735395908355713,
           null,
           -3.6471078395843506,
           -4.013442039489746,
           -3.7648539543151855,
           -3.7569282054901123,
           -3.632579803466797,
           -3.5912303924560547,
           -3.799985647201538,
           -3.61103892326355,
           -3.8913187980651855,
           -3.5580427646636963,
           -3.7830700874328613,
           -3.641674041748047,
           0.0005633273394778371
          ],
          [
           -3.3208703994750977,
           -3.525214910507202,
           -3.520859956741333,
           -3.5476796627044678,
           -3.7587156295776367,
           -3.687950611114502,
           null,
           -3.934180498123169,
           -3.978440523147583,
           -3.775280714035034,
           -3.663393259048462,
           -3.6240322589874268,
           -3.8318634033203125,
           -3.6454501152038574,
           -3.925633668899536,
           -3.6009323596954346,
           -3.829691171646118,
           -3.641674041748047,
           0.0005055692163296044
          ],
          [
           -3.3338186740875244,
           -3.532273769378662,
           -3.5313758850097656,
           -3.555205821990967,
           -3.7675418853759766,
           -3.7093327045440674,
           -3.5886290073394775,
           null,
           -3.9389827251434326,
           -3.7849791049957275,
           -3.6641364097595215,
           -3.628952980041504,
           -3.83105731010437,
           -3.6554884910583496,
           -3.926947593688965,
           -3.590646982192993,
           -3.813599109649658,
           -3.641674041748047,
           0.0004814191779587418
          ],
          [
           -3.3185651302337646,
           -3.528963088989258,
           -3.5151069164276123,
           -3.5423781871795654,
           -3.765190362930298,
           -3.561699628829956,
           -3.7679741382598877,
           -4.076998710632324,
           null,
           -3.7716126441955566,
           -3.6647090911865234,
           -3.6361470222473145,
           -3.844994068145752,
           -3.665527105331421,
           -3.9293038845062256,
           -3.6071035861968994,
           -3.846299171447754,
           -3.641674041748047,
           0.0003751327167265117
          ],
          [
           -3.414641857147217,
           -3.5612986087799072,
           -3.6314053535461426,
           -4.164323329925537,
           -3.8456523418426514,
           -3.5281174182891846,
           -3.5290420055389404,
           -3.872418165206909,
           -3.74519944190979,
           null,
           -3.7269766330718994,
           -3.693574905395508,
           -3.8379292488098145,
           -3.7188303470611572,
           -4.009568214416504,
           -3.575002908706665,
           -3.795945167541504,
           -3.641674041748047,
           0.0003656148037407547
          ],
          [
           -3.393217086791992,
           -3.5485401153564453,
           -3.5734846591949463,
           -3.6259078979492188,
           -3.7856085300445557,
           -3.512439727783203,
           -3.5280773639678955,
           -3.868791103363037,
           -3.7604305744171143,
           -3.8413736820220947,
           null,
           -4.873978614807129,
           -3.8430418968200684,
           -4.712703227996826,
           -4.420389652252197,
           -3.5683720111846924,
           -3.7918641567230225,
           -3.641674041748047,
           0.00044180400436744094
          ],
          [
           -3.3922548294067383,
           -3.5470921993255615,
           -3.575441598892212,
           -3.6235406398773193,
           -3.782999038696289,
           -3.512552499771118,
           -3.5291669368743896,
           -3.8740456104278564,
           -3.7640538215637207,
           -3.840120315551758,
           -4.892450332641602,
           null,
           -3.838503122329712,
           -5.133630752563477,
           -4.432229518890381,
           -3.570007801055908,
           -3.7950987815856934,
           -3.641674041748047,
           0.0003533549897838384
          ],
          [
           -3.330768585205078,
           -3.5926413536071777,
           -3.527198553085327,
           -3.5594913959503174,
           -3.834928512573242,
           -3.504744529724121,
           -3.5328330993652344,
           -3.878025770187378,
           -3.7772908210754395,
           -3.7923836708068848,
           -3.6856632232666016,
           -3.6501030921936035,
           null,
           -3.670779228210449,
           -3.943873405456543,
           -3.5677502155303955,
           -3.796283721923828,
           -3.641674041748047,
           0.0002603348111733794
          ],
          [
           -3.3941898345947266,
           -3.5476982593536377,
           -3.5785579681396484,
           -3.625307321548462,
           -3.7839694023132324,
           -3.515190839767456,
           -3.5293352603912354,
           -3.8835105895996094,
           -3.772122383117676,
           -3.8421671390533447,
           -4.7221550941467285,
           -5.123931407928467,
           -3.8400111198425293,
           null,
           -4.42970609664917,
           -3.5739822387695312,
           -3.797746181488037,
           -3.641674041748047,
           0.00019648182205855846
          ],
          [
           -3.40092396736145,
           -3.55621600151062,
           -3.618709087371826,
           -3.6358869075775146,
           -3.798391580581665,
           -3.53299880027771,
           -3.5513548851013184,
           -3.88700270652771,
           -3.77579665184021,
           -3.884638786315918,
           -4.178887367248535,
           -4.169336318969727,
           -3.85099196434021,
           -4.1757941246032715,
           null,
           -3.5910255908966064,
           -3.8113160133361816,
           -3.641674041748047,
           0.0003832537913694978
          ],
          [
           -3.361119270324707,
           -3.546260118484497,
           -3.555529832839966,
           -3.575108051300049,
           -3.7683613300323486,
           -3.56652569770813,
           -3.594143867492676,
           -3.9120986461639404,
           -3.8154444694519043,
           -3.7996819019317627,
           -3.6818783283233643,
           -3.6488630771636963,
           -3.8267672061920166,
           -3.670537233352661,
           -3.9370710849761963,
           null,
           -3.9529032707214355,
           -3.641674041748047,
           0.0006193717708811164
          ],
          [
           -3.3508827686309814,
           -3.5335259437561035,
           -3.539780855178833,
           -3.5565943717956543,
           -3.750354290008545,
           -3.552039623260498,
           -3.5972676277160645,
           -3.8926591873168945,
           -3.8153257369995117,
           -3.7702322006225586,
           -3.663236379623413,
           -3.6326651573181152,
           -3.814586639404297,
           -3.655858039855957,
           -3.909308671951294,
           -3.7533397674560547,
           null,
           -3.641674041748047,
           0.0003801502170972526
          ],
          [
           -3.641674041748047,
           -3.641674041748047,
           -3.641674041748047,
           -3.641674041748047,
           -3.641674041748047,
           -3.641674041748047,
           -3.641674041748047,
           -3.641674041748047,
           -3.641674041748047,
           -3.641674041748047,
           -3.641674041748047,
           -3.641674041748047,
           -3.641674041748047,
           -3.641674041748047,
           -3.641674041748047,
           -3.641674041748047,
           -3.641674041748047,
           null,
           null
          ],
          [
           0.00046559423208236694,
           0.0004915550816804171,
           0.0002901365514844656,
           0.0003033810935448855,
           0.0003361803537700325,
           0.0005633273394778371,
           0.0005055692163296044,
           0.0004814191779587418,
           0.0003751327167265117,
           0.0003656148037407547,
           0.00044180400436744094,
           0.0003533549897838384,
           0.0002603348111733794,
           0.00019648182205855846,
           0.0003832537913694978,
           0.0006193717708811164,
           0.0003801502170972526,
           null,
           null
          ]
         ]
        }
       ],
       "layout": {
        "height": 600,
        "template": {
         "data": {
          "bar": [
           {
            "error_x": {
             "color": "#2a3f5f"
            },
            "error_y": {
             "color": "#2a3f5f"
            },
            "marker": {
             "line": {
              "color": "#E5ECF6",
              "width": 0.5
             },
             "pattern": {
              "fillmode": "overlay",
              "size": 10,
              "solidity": 0.2
             }
            },
            "type": "bar"
           }
          ],
          "barpolar": [
           {
            "marker": {
             "line": {
              "color": "#E5ECF6",
              "width": 0.5
             },
             "pattern": {
              "fillmode": "overlay",
              "size": 10,
              "solidity": 0.2
             }
            },
            "type": "barpolar"
           }
          ],
          "carpet": [
           {
            "aaxis": {
             "endlinecolor": "#2a3f5f",
             "gridcolor": "white",
             "linecolor": "white",
             "minorgridcolor": "white",
             "startlinecolor": "#2a3f5f"
            },
            "baxis": {
             "endlinecolor": "#2a3f5f",
             "gridcolor": "white",
             "linecolor": "white",
             "minorgridcolor": "white",
             "startlinecolor": "#2a3f5f"
            },
            "type": "carpet"
           }
          ],
          "choropleth": [
           {
            "colorbar": {
             "outlinewidth": 0,
             "ticks": ""
            },
            "type": "choropleth"
           }
          ],
          "contour": [
           {
            "colorbar": {
             "outlinewidth": 0,
             "ticks": ""
            },
            "colorscale": [
             [
              0,
              "#0d0887"
             ],
             [
              0.1111111111111111,
              "#46039f"
             ],
             [
              0.2222222222222222,
              "#7201a8"
             ],
             [
              0.3333333333333333,
              "#9c179e"
             ],
             [
              0.4444444444444444,
              "#bd3786"
             ],
             [
              0.5555555555555556,
              "#d8576b"
             ],
             [
              0.6666666666666666,
              "#ed7953"
             ],
             [
              0.7777777777777778,
              "#fb9f3a"
             ],
             [
              0.8888888888888888,
              "#fdca26"
             ],
             [
              1,
              "#f0f921"
             ]
            ],
            "type": "contour"
           }
          ],
          "contourcarpet": [
           {
            "colorbar": {
             "outlinewidth": 0,
             "ticks": ""
            },
            "type": "contourcarpet"
           }
          ],
          "heatmap": [
           {
            "colorbar": {
             "outlinewidth": 0,
             "ticks": ""
            },
            "colorscale": [
             [
              0,
              "#0d0887"
             ],
             [
              0.1111111111111111,
              "#46039f"
             ],
             [
              0.2222222222222222,
              "#7201a8"
             ],
             [
              0.3333333333333333,
              "#9c179e"
             ],
             [
              0.4444444444444444,
              "#bd3786"
             ],
             [
              0.5555555555555556,
              "#d8576b"
             ],
             [
              0.6666666666666666,
              "#ed7953"
             ],
             [
              0.7777777777777778,
              "#fb9f3a"
             ],
             [
              0.8888888888888888,
              "#fdca26"
             ],
             [
              1,
              "#f0f921"
             ]
            ],
            "type": "heatmap"
           }
          ],
          "heatmapgl": [
           {
            "colorbar": {
             "outlinewidth": 0,
             "ticks": ""
            },
            "colorscale": [
             [
              0,
              "#0d0887"
             ],
             [
              0.1111111111111111,
              "#46039f"
             ],
             [
              0.2222222222222222,
              "#7201a8"
             ],
             [
              0.3333333333333333,
              "#9c179e"
             ],
             [
              0.4444444444444444,
              "#bd3786"
             ],
             [
              0.5555555555555556,
              "#d8576b"
             ],
             [
              0.6666666666666666,
              "#ed7953"
             ],
             [
              0.7777777777777778,
              "#fb9f3a"
             ],
             [
              0.8888888888888888,
              "#fdca26"
             ],
             [
              1,
              "#f0f921"
             ]
            ],
            "type": "heatmapgl"
           }
          ],
          "histogram": [
           {
            "marker": {
             "pattern": {
              "fillmode": "overlay",
              "size": 10,
              "solidity": 0.2
             }
            },
            "type": "histogram"
           }
          ],
          "histogram2d": [
           {
            "colorbar": {
             "outlinewidth": 0,
             "ticks": ""
            },
            "colorscale": [
             [
              0,
              "#0d0887"
             ],
             [
              0.1111111111111111,
              "#46039f"
             ],
             [
              0.2222222222222222,
              "#7201a8"
             ],
             [
              0.3333333333333333,
              "#9c179e"
             ],
             [
              0.4444444444444444,
              "#bd3786"
             ],
             [
              0.5555555555555556,
              "#d8576b"
             ],
             [
              0.6666666666666666,
              "#ed7953"
             ],
             [
              0.7777777777777778,
              "#fb9f3a"
             ],
             [
              0.8888888888888888,
              "#fdca26"
             ],
             [
              1,
              "#f0f921"
             ]
            ],
            "type": "histogram2d"
           }
          ],
          "histogram2dcontour": [
           {
            "colorbar": {
             "outlinewidth": 0,
             "ticks": ""
            },
            "colorscale": [
             [
              0,
              "#0d0887"
             ],
             [
              0.1111111111111111,
              "#46039f"
             ],
             [
              0.2222222222222222,
              "#7201a8"
             ],
             [
              0.3333333333333333,
              "#9c179e"
             ],
             [
              0.4444444444444444,
              "#bd3786"
             ],
             [
              0.5555555555555556,
              "#d8576b"
             ],
             [
              0.6666666666666666,
              "#ed7953"
             ],
             [
              0.7777777777777778,
              "#fb9f3a"
             ],
             [
              0.8888888888888888,
              "#fdca26"
             ],
             [
              1,
              "#f0f921"
             ]
            ],
            "type": "histogram2dcontour"
           }
          ],
          "mesh3d": [
           {
            "colorbar": {
             "outlinewidth": 0,
             "ticks": ""
            },
            "type": "mesh3d"
           }
          ],
          "parcoords": [
           {
            "line": {
             "colorbar": {
              "outlinewidth": 0,
              "ticks": ""
             }
            },
            "type": "parcoords"
           }
          ],
          "pie": [
           {
            "automargin": true,
            "type": "pie"
           }
          ],
          "scatter": [
           {
            "fillpattern": {
             "fillmode": "overlay",
             "size": 10,
             "solidity": 0.2
            },
            "type": "scatter"
           }
          ],
          "scatter3d": [
           {
            "line": {
             "colorbar": {
              "outlinewidth": 0,
              "ticks": ""
             }
            },
            "marker": {
             "colorbar": {
              "outlinewidth": 0,
              "ticks": ""
             }
            },
            "type": "scatter3d"
           }
          ],
          "scattercarpet": [
           {
            "marker": {
             "colorbar": {
              "outlinewidth": 0,
              "ticks": ""
             }
            },
            "type": "scattercarpet"
           }
          ],
          "scattergeo": [
           {
            "marker": {
             "colorbar": {
              "outlinewidth": 0,
              "ticks": ""
             }
            },
            "type": "scattergeo"
           }
          ],
          "scattergl": [
           {
            "marker": {
             "colorbar": {
              "outlinewidth": 0,
              "ticks": ""
             }
            },
            "type": "scattergl"
           }
          ],
          "scattermapbox": [
           {
            "marker": {
             "colorbar": {
              "outlinewidth": 0,
              "ticks": ""
             }
            },
            "type": "scattermapbox"
           }
          ],
          "scatterpolar": [
           {
            "marker": {
             "colorbar": {
              "outlinewidth": 0,
              "ticks": ""
             }
            },
            "type": "scatterpolar"
           }
          ],
          "scatterpolargl": [
           {
            "marker": {
             "colorbar": {
              "outlinewidth": 0,
              "ticks": ""
             }
            },
            "type": "scatterpolargl"
           }
          ],
          "scatterternary": [
           {
            "marker": {
             "colorbar": {
              "outlinewidth": 0,
              "ticks": ""
             }
            },
            "type": "scatterternary"
           }
          ],
          "surface": [
           {
            "colorbar": {
             "outlinewidth": 0,
             "ticks": ""
            },
            "colorscale": [
             [
              0,
              "#0d0887"
             ],
             [
              0.1111111111111111,
              "#46039f"
             ],
             [
              0.2222222222222222,
              "#7201a8"
             ],
             [
              0.3333333333333333,
              "#9c179e"
             ],
             [
              0.4444444444444444,
              "#bd3786"
             ],
             [
              0.5555555555555556,
              "#d8576b"
             ],
             [
              0.6666666666666666,
              "#ed7953"
             ],
             [
              0.7777777777777778,
              "#fb9f3a"
             ],
             [
              0.8888888888888888,
              "#fdca26"
             ],
             [
              1,
              "#f0f921"
             ]
            ],
            "type": "surface"
           }
          ],
          "table": [
           {
            "cells": {
             "fill": {
              "color": "#EBF0F8"
             },
             "line": {
              "color": "white"
             }
            },
            "header": {
             "fill": {
              "color": "#C8D4E3"
             },
             "line": {
              "color": "white"
             }
            },
            "type": "table"
           }
          ]
         },
         "layout": {
          "annotationdefaults": {
           "arrowcolor": "#2a3f5f",
           "arrowhead": 0,
           "arrowwidth": 1
          },
          "autotypenumbers": "strict",
          "coloraxis": {
           "colorbar": {
            "outlinewidth": 0,
            "ticks": ""
           }
          },
          "colorscale": {
           "diverging": [
            [
             0,
             "#8e0152"
            ],
            [
             0.1,
             "#c51b7d"
            ],
            [
             0.2,
             "#de77ae"
            ],
            [
             0.3,
             "#f1b6da"
            ],
            [
             0.4,
             "#fde0ef"
            ],
            [
             0.5,
             "#f7f7f7"
            ],
            [
             0.6,
             "#e6f5d0"
            ],
            [
             0.7,
             "#b8e186"
            ],
            [
             0.8,
             "#7fbc41"
            ],
            [
             0.9,
             "#4d9221"
            ],
            [
             1,
             "#276419"
            ]
           ],
           "sequential": [
            [
             0,
             "#0d0887"
            ],
            [
             0.1111111111111111,
             "#46039f"
            ],
            [
             0.2222222222222222,
             "#7201a8"
            ],
            [
             0.3333333333333333,
             "#9c179e"
            ],
            [
             0.4444444444444444,
             "#bd3786"
            ],
            [
             0.5555555555555556,
             "#d8576b"
            ],
            [
             0.6666666666666666,
             "#ed7953"
            ],
            [
             0.7777777777777778,
             "#fb9f3a"
            ],
            [
             0.8888888888888888,
             "#fdca26"
            ],
            [
             1,
             "#f0f921"
            ]
           ],
           "sequentialminus": [
            [
             0,
             "#0d0887"
            ],
            [
             0.1111111111111111,
             "#46039f"
            ],
            [
             0.2222222222222222,
             "#7201a8"
            ],
            [
             0.3333333333333333,
             "#9c179e"
            ],
            [
             0.4444444444444444,
             "#bd3786"
            ],
            [
             0.5555555555555556,
             "#d8576b"
            ],
            [
             0.6666666666666666,
             "#ed7953"
            ],
            [
             0.7777777777777778,
             "#fb9f3a"
            ],
            [
             0.8888888888888888,
             "#fdca26"
            ],
            [
             1,
             "#f0f921"
            ]
           ]
          },
          "colorway": [
           "#636efa",
           "#EF553B",
           "#00cc96",
           "#ab63fa",
           "#FFA15A",
           "#19d3f3",
           "#FF6692",
           "#B6E880",
           "#FF97FF",
           "#FECB52"
          ],
          "font": {
           "color": "#2a3f5f"
          },
          "geo": {
           "bgcolor": "white",
           "lakecolor": "white",
           "landcolor": "#E5ECF6",
           "showlakes": true,
           "showland": true,
           "subunitcolor": "white"
          },
          "hoverlabel": {
           "align": "left"
          },
          "hovermode": "closest",
          "mapbox": {
           "style": "light"
          },
          "paper_bgcolor": "white",
          "plot_bgcolor": "#E5ECF6",
          "polar": {
           "angularaxis": {
            "gridcolor": "white",
            "linecolor": "white",
            "ticks": ""
           },
           "bgcolor": "#E5ECF6",
           "radialaxis": {
            "gridcolor": "white",
            "linecolor": "white",
            "ticks": ""
           }
          },
          "scene": {
           "xaxis": {
            "backgroundcolor": "#E5ECF6",
            "gridcolor": "white",
            "gridwidth": 2,
            "linecolor": "white",
            "showbackground": true,
            "ticks": "",
            "zerolinecolor": "white"
           },
           "yaxis": {
            "backgroundcolor": "#E5ECF6",
            "gridcolor": "white",
            "gridwidth": 2,
            "linecolor": "white",
            "showbackground": true,
            "ticks": "",
            "zerolinecolor": "white"
           },
           "zaxis": {
            "backgroundcolor": "#E5ECF6",
            "gridcolor": "white",
            "gridwidth": 2,
            "linecolor": "white",
            "showbackground": true,
            "ticks": "",
            "zerolinecolor": "white"
           }
          },
          "shapedefaults": {
           "line": {
            "color": "#2a3f5f"
           }
          },
          "ternary": {
           "aaxis": {
            "gridcolor": "white",
            "linecolor": "white",
            "ticks": ""
           },
           "baxis": {
            "gridcolor": "white",
            "linecolor": "white",
            "ticks": ""
           },
           "bgcolor": "#E5ECF6",
           "caxis": {
            "gridcolor": "white",
            "linecolor": "white",
            "ticks": ""
           }
          },
          "title": {
           "x": 0.05
          },
          "xaxis": {
           "automargin": true,
           "gridcolor": "white",
           "linecolor": "white",
           "ticks": "",
           "title": {
            "standoff": 15
           },
           "zerolinecolor": "white",
           "zerolinewidth": 2
          },
          "yaxis": {
           "automargin": true,
           "gridcolor": "white",
           "linecolor": "white",
           "ticks": "",
           "title": {
            "standoff": 15
           },
           "zerolinecolor": "white",
           "zerolinewidth": 2
          }
         }
        },
        "title": {
         "text": "MSE Matrix on fiqa, (Architecture: nnlinear) (Logarithmic Scale)"
        },
        "width": 800,
        "xaxis": {
         "nticks": 19,
         "title": {
          "text": "Native Embedding Space"
         }
        },
        "yaxis": {
         "nticks": 19,
         "title": {
          "text": "Target Embedding Space"
         }
        }
       }
      },
      "text/html": [
       "<div>                            <div id=\"e322ba4a-a02d-4d77-8675-d7c9dfd2bd53\" class=\"plotly-graph-div\" style=\"height:600px; width:800px;\"></div>            <script type=\"text/javascript\">                require([\"plotly\"], function(Plotly) {                    window.PLOTLYENV=window.PLOTLYENV || {};                                    if (document.getElementById(\"e322ba4a-a02d-4d77-8675-d7c9dfd2bd53\")) {                    Plotly.newPlot(                        \"e322ba4a-a02d-4d77-8675-d7c9dfd2bd53\",                        [{\"colorscale\":[[0.0,\"#440154\"],[0.1111111111111111,\"#482878\"],[0.2222222222222222,\"#3e4989\"],[0.3333333333333333,\"#31688e\"],[0.4444444444444444,\"#26828e\"],[0.5555555555555556,\"#1f9e89\"],[0.6666666666666666,\"#35b779\"],[0.7777777777777778,\"#6ece58\"],[0.8888888888888888,\"#b5de2b\"],[1.0,\"#fde725\"]],\"reversescale\":false,\"showscale\":true,\"text\":[[\"-inf\",\"-3.58\",\"-4.17\",\"-3.58\",\"-3.74\",\"-3.48\",\"-3.48\",\"-3.83\",\"-3.70\",\"-3.81\",\"-3.67\",\"-3.63\",\"-3.81\",\"-3.65\",\"-3.93\",\"-3.53\",\"-3.76\",\"-3.64\",\"0.00\"],[\"-3.40\",\"-inf\",\"-3.59\",\"-3.54\",\"-3.80\",\"-3.47\",\"-3.48\",\"-3.84\",\"-3.72\",\"-3.77\",\"-3.65\",\"-3.60\",\"-3.85\",\"-3.63\",\"-3.91\",\"-3.52\",\"-3.76\",\"-3.64\",\"0.00\"],[\"-3.96\",\"-3.59\",\"-inf\",\"-3.58\",\"-3.75\",\"-3.49\",\"-3.49\",\"-3.82\",\"-3.70\",\"-3.83\",\"-3.67\",\"-3.63\",\"-3.81\",\"-3.65\",\"-3.95\",\"-3.53\",\"-3.77\",\"-3.64\",\"0.00\"],[\"-3.41\",\"-3.55\",\"-3.59\",\"-inf\",\"-3.83\",\"-3.51\",\"-3.52\",\"-3.86\",\"-3.73\",\"-4.36\",\"-3.73\",\"-3.69\",\"-3.83\",\"-3.71\",\"-3.97\",\"-3.56\",\"-3.78\",\"-3.64\",\"0.00\"],[\"-3.36\",\"-3.61\",\"-3.56\",\"-3.65\",\"-inf\",\"-3.52\",\"-3.52\",\"-3.89\",\"-3.77\",\"-3.88\",\"-3.71\",\"-3.66\",\"-3.89\",\"-3.69\",\"-3.96\",\"-3.57\",\"-3.79\",\"-3.64\",\"0.00\"],[\"-3.31\",\"-3.51\",\"-3.51\",\"-3.53\",\"-3.74\",\"-inf\",\"-3.65\",\"-4.01\",\"-3.76\",\"-3.76\",\"-3.63\",\"-3.59\",\"-3.80\",\"-3.61\",\"-3.89\",\"-3.56\",\"-3.78\",\"-3.64\",\"0.00\"],[\"-3.32\",\"-3.53\",\"-3.52\",\"-3.55\",\"-3.76\",\"-3.69\",\"-inf\",\"-3.93\",\"-3.98\",\"-3.78\",\"-3.66\",\"-3.62\",\"-3.83\",\"-3.65\",\"-3.93\",\"-3.60\",\"-3.83\",\"-3.64\",\"0.00\"],[\"-3.33\",\"-3.53\",\"-3.53\",\"-3.56\",\"-3.77\",\"-3.71\",\"-3.59\",\"-inf\",\"-3.94\",\"-3.78\",\"-3.66\",\"-3.63\",\"-3.83\",\"-3.66\",\"-3.93\",\"-3.59\",\"-3.81\",\"-3.64\",\"0.00\"],[\"-3.32\",\"-3.53\",\"-3.52\",\"-3.54\",\"-3.77\",\"-3.56\",\"-3.77\",\"-4.08\",\"-inf\",\"-3.77\",\"-3.66\",\"-3.64\",\"-3.84\",\"-3.67\",\"-3.93\",\"-3.61\",\"-3.85\",\"-3.64\",\"0.00\"],[\"-3.41\",\"-3.56\",\"-3.63\",\"-4.16\",\"-3.85\",\"-3.53\",\"-3.53\",\"-3.87\",\"-3.75\",\"-inf\",\"-3.73\",\"-3.69\",\"-3.84\",\"-3.72\",\"-4.01\",\"-3.58\",\"-3.80\",\"-3.64\",\"0.00\"],[\"-3.39\",\"-3.55\",\"-3.57\",\"-3.63\",\"-3.79\",\"-3.51\",\"-3.53\",\"-3.87\",\"-3.76\",\"-3.84\",\"-inf\",\"-4.87\",\"-3.84\",\"-4.71\",\"-4.42\",\"-3.57\",\"-3.79\",\"-3.64\",\"0.00\"],[\"-3.39\",\"-3.55\",\"-3.58\",\"-3.62\",\"-3.78\",\"-3.51\",\"-3.53\",\"-3.87\",\"-3.76\",\"-3.84\",\"-4.89\",\"-inf\",\"-3.84\",\"-5.13\",\"-4.43\",\"-3.57\",\"-3.80\",\"-3.64\",\"0.00\"],[\"-3.33\",\"-3.59\",\"-3.53\",\"-3.56\",\"-3.83\",\"-3.50\",\"-3.53\",\"-3.88\",\"-3.78\",\"-3.79\",\"-3.69\",\"-3.65\",\"-inf\",\"-3.67\",\"-3.94\",\"-3.57\",\"-3.80\",\"-3.64\",\"0.00\"],[\"-3.39\",\"-3.55\",\"-3.58\",\"-3.63\",\"-3.78\",\"-3.52\",\"-3.53\",\"-3.88\",\"-3.77\",\"-3.84\",\"-4.72\",\"-5.12\",\"-3.84\",\"-inf\",\"-4.43\",\"-3.57\",\"-3.80\",\"-3.64\",\"0.00\"],[\"-3.40\",\"-3.56\",\"-3.62\",\"-3.64\",\"-3.80\",\"-3.53\",\"-3.55\",\"-3.89\",\"-3.78\",\"-3.88\",\"-4.18\",\"-4.17\",\"-3.85\",\"-4.18\",\"-inf\",\"-3.59\",\"-3.81\",\"-3.64\",\"0.00\"],[\"-3.36\",\"-3.55\",\"-3.56\",\"-3.58\",\"-3.77\",\"-3.57\",\"-3.59\",\"-3.91\",\"-3.82\",\"-3.80\",\"-3.68\",\"-3.65\",\"-3.83\",\"-3.67\",\"-3.94\",\"-inf\",\"-3.95\",\"-3.64\",\"0.00\"],[\"-3.35\",\"-3.53\",\"-3.54\",\"-3.56\",\"-3.75\",\"-3.55\",\"-3.60\",\"-3.89\",\"-3.82\",\"-3.77\",\"-3.66\",\"-3.63\",\"-3.81\",\"-3.66\",\"-3.91\",\"-3.75\",\"-inf\",\"-3.64\",\"0.00\"],[\"-3.64\",\"-3.64\",\"-3.64\",\"-3.64\",\"-3.64\",\"-3.64\",\"-3.64\",\"-3.64\",\"-3.64\",\"-3.64\",\"-3.64\",\"-3.64\",\"-3.64\",\"-3.64\",\"-3.64\",\"-3.64\",\"-3.64\",\"-inf\",\"-inf\"],[\"0.00\",\"0.00\",\"0.00\",\"0.00\",\"0.00\",\"0.00\",\"0.00\",\"0.00\",\"0.00\",\"0.00\",\"0.00\",\"0.00\",\"0.00\",\"0.00\",\"0.00\",\"0.00\",\"0.00\",\"-inf\",\"-inf\"]],\"textfont\":{\"color\":\"black\"},\"texttemplate\":\"%{text}\",\"x\":[\"BAAI\\u002fbge-small-en-v1.5\",\"intfloat\\u002fe5-small-v2\",\"thenlper\\u002fgte-small\",\"BAAI\\u002fbge-base-en-v1.5\",\"intfloat\\u002fe5-base-v2\",\"sentence-transformers\\u002fgtr-t5-base\",\"sentence-transformers\\u002fgtr-t5-large\",\"sentence-transformers\\u002fsentence-t5-base\",\"sentence-transformers\\u002fsentence-t5-large\",\"thenlper\\u002fgte-base\",\"BAAI\\u002fbge-large-en-v1.5\",\"WhereIsAI\\u002fUAE-Large-V1\",\"intfloat\\u002fe5-large-v2\",\"mixedbread-ai\\u002fmxbai-embed-large-v1\",\"thenlper\\u002fgte-large\",\"openai\\u002ftext-embedding-3-small\",\"openai\\u002ftext-embedding-3-large\",\"Mean_estimator\",\"Random_estimator\"],\"y\":[\"BAAI\\u002fbge-small-en-v1.5\",\"intfloat\\u002fe5-small-v2\",\"thenlper\\u002fgte-small\",\"BAAI\\u002fbge-base-en-v1.5\",\"intfloat\\u002fe5-base-v2\",\"sentence-transformers\\u002fgtr-t5-base\",\"sentence-transformers\\u002fgtr-t5-large\",\"sentence-transformers\\u002fsentence-t5-base\",\"sentence-transformers\\u002fsentence-t5-large\",\"thenlper\\u002fgte-base\",\"BAAI\\u002fbge-large-en-v1.5\",\"WhereIsAI\\u002fUAE-Large-V1\",\"intfloat\\u002fe5-large-v2\",\"mixedbread-ai\\u002fmxbai-embed-large-v1\",\"thenlper\\u002fgte-large\",\"openai\\u002ftext-embedding-3-small\",\"openai\\u002ftext-embedding-3-large\",\"Mean_estimator\",\"Random_estimator\"],\"z\":[[null,-3.583838701248169,-4.165817737579346,-3.5845940113067627,-3.7442550659179688,-3.480034351348877,-3.4802956581115723,-3.828342914581299,-3.7030036449432373,-3.8063735961914062,-3.672426700592041,-3.630326747894287,-3.8069679737091064,-3.652461051940918,-3.9270949363708496,-3.5261588096618652,-3.762183666229248,-3.641674041748047,0.00046559423208236694],[-3.3994624614715576,null,-3.592411994934082,-3.539482355117798,-3.797079563140869,-3.4717392921447754,-3.4772231578826904,-3.8367607593536377,-3.716218948364258,-3.771258592605591,-3.646462917327881,-3.6044325828552246,-3.8510794639587402,-3.626769542694092,-3.905325174331665,-3.5233678817749023,-3.7602646350860596,-3.641674041748047,0.0004915550816804171],[-3.959258556365967,-3.586217164993286,null,-3.5841171741485596,-3.7495875358581543,-3.485872983932495,-3.486259698867798,-3.8220341205596924,-3.7024431228637695,-3.8333311080932617,-3.6701509952545166,-3.6313302516937256,-3.8089280128479004,-3.6523964405059814,-3.9520838260650635,-3.534872055053711,-3.766575813293457,-3.641674041748047,0.0002901365514844656],[-3.4148008823394775,-3.5493645668029785,-3.5941853523254395,null,-3.8314754962921143,-3.5148603916168213,-3.5150668621063232,-3.863598346710205,-3.7348973751068115,-4.357378959655762,-3.728691577911377,-3.6875102519989014,-3.8274729251861572,-3.71160888671875,-3.9700560569763184,-3.5580873489379883,-3.7811083793640137,-3.641674041748047,0.0003033810935448855],[-3.363306760787964,-3.6149821281433105,-3.557241916656494,-3.6549298763275146,null,-3.5152809619903564,-3.5248148441314697,-3.886136531829834,-3.7672762870788574,-3.8787014484405518,-3.706054210662842,-3.662360668182373,-3.8926217555999756,-3.6879701614379883,-3.955925226211548,-3.5678176879882812,-3.79439377784729,-3.641674041748047,0.0003361803537700325],[-3.3117728233337402,-3.5100650787353516,-3.5087485313415527,-3.5313613414764404,-3.735395908355713,null,-3.6471078395843506,-4.013442039489746,-3.7648539543151855,-3.7569282054901123,-3.632579803466797,-3.5912303924560547,-3.799985647201538,-3.61103892326355,-3.8913187980651855,-3.5580427646636963,-3.7830700874328613,-3.641674041748047,0.0005633273394778371],[-3.3208703994750977,-3.525214910507202,-3.520859956741333,-3.5476796627044678,-3.7587156295776367,-3.687950611114502,null,-3.934180498123169,-3.978440523147583,-3.775280714035034,-3.663393259048462,-3.6240322589874268,-3.8318634033203125,-3.6454501152038574,-3.925633668899536,-3.6009323596954346,-3.829691171646118,-3.641674041748047,0.0005055692163296044],[-3.3338186740875244,-3.532273769378662,-3.5313758850097656,-3.555205821990967,-3.7675418853759766,-3.7093327045440674,-3.5886290073394775,null,-3.9389827251434326,-3.7849791049957275,-3.6641364097595215,-3.628952980041504,-3.83105731010437,-3.6554884910583496,-3.926947593688965,-3.590646982192993,-3.813599109649658,-3.641674041748047,0.0004814191779587418],[-3.3185651302337646,-3.528963088989258,-3.5151069164276123,-3.5423781871795654,-3.765190362930298,-3.561699628829956,-3.7679741382598877,-4.076998710632324,null,-3.7716126441955566,-3.6647090911865234,-3.6361470222473145,-3.844994068145752,-3.665527105331421,-3.9293038845062256,-3.6071035861968994,-3.846299171447754,-3.641674041748047,0.0003751327167265117],[-3.414641857147217,-3.5612986087799072,-3.6314053535461426,-4.164323329925537,-3.8456523418426514,-3.5281174182891846,-3.5290420055389404,-3.872418165206909,-3.74519944190979,null,-3.7269766330718994,-3.693574905395508,-3.8379292488098145,-3.7188303470611572,-4.009568214416504,-3.575002908706665,-3.795945167541504,-3.641674041748047,0.0003656148037407547],[-3.393217086791992,-3.5485401153564453,-3.5734846591949463,-3.6259078979492188,-3.7856085300445557,-3.512439727783203,-3.5280773639678955,-3.868791103363037,-3.7604305744171143,-3.8413736820220947,null,-4.873978614807129,-3.8430418968200684,-4.712703227996826,-4.420389652252197,-3.5683720111846924,-3.7918641567230225,-3.641674041748047,0.00044180400436744094],[-3.3922548294067383,-3.5470921993255615,-3.575441598892212,-3.6235406398773193,-3.782999038696289,-3.512552499771118,-3.5291669368743896,-3.8740456104278564,-3.7640538215637207,-3.840120315551758,-4.892450332641602,null,-3.838503122329712,-5.133630752563477,-4.432229518890381,-3.570007801055908,-3.7950987815856934,-3.641674041748047,0.0003533549897838384],[-3.330768585205078,-3.5926413536071777,-3.527198553085327,-3.5594913959503174,-3.834928512573242,-3.504744529724121,-3.5328330993652344,-3.878025770187378,-3.7772908210754395,-3.7923836708068848,-3.6856632232666016,-3.6501030921936035,null,-3.670779228210449,-3.943873405456543,-3.5677502155303955,-3.796283721923828,-3.641674041748047,0.0002603348111733794],[-3.3941898345947266,-3.5476982593536377,-3.5785579681396484,-3.625307321548462,-3.7839694023132324,-3.515190839767456,-3.5293352603912354,-3.8835105895996094,-3.772122383117676,-3.8421671390533447,-4.7221550941467285,-5.123931407928467,-3.8400111198425293,null,-4.42970609664917,-3.5739822387695312,-3.797746181488037,-3.641674041748047,0.00019648182205855846],[-3.40092396736145,-3.55621600151062,-3.618709087371826,-3.6358869075775146,-3.798391580581665,-3.53299880027771,-3.5513548851013184,-3.88700270652771,-3.77579665184021,-3.884638786315918,-4.178887367248535,-4.169336318969727,-3.85099196434021,-4.1757941246032715,null,-3.5910255908966064,-3.8113160133361816,-3.641674041748047,0.0003832537913694978],[-3.361119270324707,-3.546260118484497,-3.555529832839966,-3.575108051300049,-3.7683613300323486,-3.56652569770813,-3.594143867492676,-3.9120986461639404,-3.8154444694519043,-3.7996819019317627,-3.6818783283233643,-3.6488630771636963,-3.8267672061920166,-3.670537233352661,-3.9370710849761963,null,-3.9529032707214355,-3.641674041748047,0.0006193717708811164],[-3.3508827686309814,-3.5335259437561035,-3.539780855178833,-3.5565943717956543,-3.750354290008545,-3.552039623260498,-3.5972676277160645,-3.8926591873168945,-3.8153257369995117,-3.7702322006225586,-3.663236379623413,-3.6326651573181152,-3.814586639404297,-3.655858039855957,-3.909308671951294,-3.7533397674560547,null,-3.641674041748047,0.0003801502170972526],[-3.641674041748047,-3.641674041748047,-3.641674041748047,-3.641674041748047,-3.641674041748047,-3.641674041748047,-3.641674041748047,-3.641674041748047,-3.641674041748047,-3.641674041748047,-3.641674041748047,-3.641674041748047,-3.641674041748047,-3.641674041748047,-3.641674041748047,-3.641674041748047,-3.641674041748047,null,null],[0.00046559423208236694,0.0004915550816804171,0.0002901365514844656,0.0003033810935448855,0.0003361803537700325,0.0005633273394778371,0.0005055692163296044,0.0004814191779587418,0.0003751327167265117,0.0003656148037407547,0.00044180400436744094,0.0003533549897838384,0.0002603348111733794,0.00019648182205855846,0.0003832537913694978,0.0006193717708811164,0.0003801502170972526,null,null]],\"type\":\"heatmap\"}],                        {\"template\":{\"data\":{\"histogram2dcontour\":[{\"type\":\"histogram2dcontour\",\"colorbar\":{\"outlinewidth\":0,\"ticks\":\"\"},\"colorscale\":[[0.0,\"#0d0887\"],[0.1111111111111111,\"#46039f\"],[0.2222222222222222,\"#7201a8\"],[0.3333333333333333,\"#9c179e\"],[0.4444444444444444,\"#bd3786\"],[0.5555555555555556,\"#d8576b\"],[0.6666666666666666,\"#ed7953\"],[0.7777777777777778,\"#fb9f3a\"],[0.8888888888888888,\"#fdca26\"],[1.0,\"#f0f921\"]]}],\"choropleth\":[{\"type\":\"choropleth\",\"colorbar\":{\"outlinewidth\":0,\"ticks\":\"\"}}],\"histogram2d\":[{\"type\":\"histogram2d\",\"colorbar\":{\"outlinewidth\":0,\"ticks\":\"\"},\"colorscale\":[[0.0,\"#0d0887\"],[0.1111111111111111,\"#46039f\"],[0.2222222222222222,\"#7201a8\"],[0.3333333333333333,\"#9c179e\"],[0.4444444444444444,\"#bd3786\"],[0.5555555555555556,\"#d8576b\"],[0.6666666666666666,\"#ed7953\"],[0.7777777777777778,\"#fb9f3a\"],[0.8888888888888888,\"#fdca26\"],[1.0,\"#f0f921\"]]}],\"heatmap\":[{\"type\":\"heatmap\",\"colorbar\":{\"outlinewidth\":0,\"ticks\":\"\"},\"colorscale\":[[0.0,\"#0d0887\"],[0.1111111111111111,\"#46039f\"],[0.2222222222222222,\"#7201a8\"],[0.3333333333333333,\"#9c179e\"],[0.4444444444444444,\"#bd3786\"],[0.5555555555555556,\"#d8576b\"],[0.6666666666666666,\"#ed7953\"],[0.7777777777777778,\"#fb9f3a\"],[0.8888888888888888,\"#fdca26\"],[1.0,\"#f0f921\"]]}],\"heatmapgl\":[{\"type\":\"heatmapgl\",\"colorbar\":{\"outlinewidth\":0,\"ticks\":\"\"},\"colorscale\":[[0.0,\"#0d0887\"],[0.1111111111111111,\"#46039f\"],[0.2222222222222222,\"#7201a8\"],[0.3333333333333333,\"#9c179e\"],[0.4444444444444444,\"#bd3786\"],[0.5555555555555556,\"#d8576b\"],[0.6666666666666666,\"#ed7953\"],[0.7777777777777778,\"#fb9f3a\"],[0.8888888888888888,\"#fdca26\"],[1.0,\"#f0f921\"]]}],\"contourcarpet\":[{\"type\":\"contourcarpet\",\"colorbar\":{\"outlinewidth\":0,\"ticks\":\"\"}}],\"contour\":[{\"type\":\"contour\",\"colorbar\":{\"outlinewidth\":0,\"ticks\":\"\"},\"colorscale\":[[0.0,\"#0d0887\"],[0.1111111111111111,\"#46039f\"],[0.2222222222222222,\"#7201a8\"],[0.3333333333333333,\"#9c179e\"],[0.4444444444444444,\"#bd3786\"],[0.5555555555555556,\"#d8576b\"],[0.6666666666666666,\"#ed7953\"],[0.7777777777777778,\"#fb9f3a\"],[0.8888888888888888,\"#fdca26\"],[1.0,\"#f0f921\"]]}],\"surface\":[{\"type\":\"surface\",\"colorbar\":{\"outlinewidth\":0,\"ticks\":\"\"},\"colorscale\":[[0.0,\"#0d0887\"],[0.1111111111111111,\"#46039f\"],[0.2222222222222222,\"#7201a8\"],[0.3333333333333333,\"#9c179e\"],[0.4444444444444444,\"#bd3786\"],[0.5555555555555556,\"#d8576b\"],[0.6666666666666666,\"#ed7953\"],[0.7777777777777778,\"#fb9f3a\"],[0.8888888888888888,\"#fdca26\"],[1.0,\"#f0f921\"]]}],\"mesh3d\":[{\"type\":\"mesh3d\",\"colorbar\":{\"outlinewidth\":0,\"ticks\":\"\"}}],\"scatter\":[{\"fillpattern\":{\"fillmode\":\"overlay\",\"size\":10,\"solidity\":0.2},\"type\":\"scatter\"}],\"parcoords\":[{\"type\":\"parcoords\",\"line\":{\"colorbar\":{\"outlinewidth\":0,\"ticks\":\"\"}}}],\"scatterpolargl\":[{\"type\":\"scatterpolargl\",\"marker\":{\"colorbar\":{\"outlinewidth\":0,\"ticks\":\"\"}}}],\"bar\":[{\"error_x\":{\"color\":\"#2a3f5f\"},\"error_y\":{\"color\":\"#2a3f5f\"},\"marker\":{\"line\":{\"color\":\"#E5ECF6\",\"width\":0.5},\"pattern\":{\"fillmode\":\"overlay\",\"size\":10,\"solidity\":0.2}},\"type\":\"bar\"}],\"scattergeo\":[{\"type\":\"scattergeo\",\"marker\":{\"colorbar\":{\"outlinewidth\":0,\"ticks\":\"\"}}}],\"scatterpolar\":[{\"type\":\"scatterpolar\",\"marker\":{\"colorbar\":{\"outlinewidth\":0,\"ticks\":\"\"}}}],\"histogram\":[{\"marker\":{\"pattern\":{\"fillmode\":\"overlay\",\"size\":10,\"solidity\":0.2}},\"type\":\"histogram\"}],\"scattergl\":[{\"type\":\"scattergl\",\"marker\":{\"colorbar\":{\"outlinewidth\":0,\"ticks\":\"\"}}}],\"scatter3d\":[{\"type\":\"scatter3d\",\"line\":{\"colorbar\":{\"outlinewidth\":0,\"ticks\":\"\"}},\"marker\":{\"colorbar\":{\"outlinewidth\":0,\"ticks\":\"\"}}}],\"scattermapbox\":[{\"type\":\"scattermapbox\",\"marker\":{\"colorbar\":{\"outlinewidth\":0,\"ticks\":\"\"}}}],\"scatterternary\":[{\"type\":\"scatterternary\",\"marker\":{\"colorbar\":{\"outlinewidth\":0,\"ticks\":\"\"}}}],\"scattercarpet\":[{\"type\":\"scattercarpet\",\"marker\":{\"colorbar\":{\"outlinewidth\":0,\"ticks\":\"\"}}}],\"carpet\":[{\"aaxis\":{\"endlinecolor\":\"#2a3f5f\",\"gridcolor\":\"white\",\"linecolor\":\"white\",\"minorgridcolor\":\"white\",\"startlinecolor\":\"#2a3f5f\"},\"baxis\":{\"endlinecolor\":\"#2a3f5f\",\"gridcolor\":\"white\",\"linecolor\":\"white\",\"minorgridcolor\":\"white\",\"startlinecolor\":\"#2a3f5f\"},\"type\":\"carpet\"}],\"table\":[{\"cells\":{\"fill\":{\"color\":\"#EBF0F8\"},\"line\":{\"color\":\"white\"}},\"header\":{\"fill\":{\"color\":\"#C8D4E3\"},\"line\":{\"color\":\"white\"}},\"type\":\"table\"}],\"barpolar\":[{\"marker\":{\"line\":{\"color\":\"#E5ECF6\",\"width\":0.5},\"pattern\":{\"fillmode\":\"overlay\",\"size\":10,\"solidity\":0.2}},\"type\":\"barpolar\"}],\"pie\":[{\"automargin\":true,\"type\":\"pie\"}]},\"layout\":{\"autotypenumbers\":\"strict\",\"colorway\":[\"#636efa\",\"#EF553B\",\"#00cc96\",\"#ab63fa\",\"#FFA15A\",\"#19d3f3\",\"#FF6692\",\"#B6E880\",\"#FF97FF\",\"#FECB52\"],\"font\":{\"color\":\"#2a3f5f\"},\"hovermode\":\"closest\",\"hoverlabel\":{\"align\":\"left\"},\"paper_bgcolor\":\"white\",\"plot_bgcolor\":\"#E5ECF6\",\"polar\":{\"bgcolor\":\"#E5ECF6\",\"angularaxis\":{\"gridcolor\":\"white\",\"linecolor\":\"white\",\"ticks\":\"\"},\"radialaxis\":{\"gridcolor\":\"white\",\"linecolor\":\"white\",\"ticks\":\"\"}},\"ternary\":{\"bgcolor\":\"#E5ECF6\",\"aaxis\":{\"gridcolor\":\"white\",\"linecolor\":\"white\",\"ticks\":\"\"},\"baxis\":{\"gridcolor\":\"white\",\"linecolor\":\"white\",\"ticks\":\"\"},\"caxis\":{\"gridcolor\":\"white\",\"linecolor\":\"white\",\"ticks\":\"\"}},\"coloraxis\":{\"colorbar\":{\"outlinewidth\":0,\"ticks\":\"\"}},\"colorscale\":{\"sequential\":[[0.0,\"#0d0887\"],[0.1111111111111111,\"#46039f\"],[0.2222222222222222,\"#7201a8\"],[0.3333333333333333,\"#9c179e\"],[0.4444444444444444,\"#bd3786\"],[0.5555555555555556,\"#d8576b\"],[0.6666666666666666,\"#ed7953\"],[0.7777777777777778,\"#fb9f3a\"],[0.8888888888888888,\"#fdca26\"],[1.0,\"#f0f921\"]],\"sequentialminus\":[[0.0,\"#0d0887\"],[0.1111111111111111,\"#46039f\"],[0.2222222222222222,\"#7201a8\"],[0.3333333333333333,\"#9c179e\"],[0.4444444444444444,\"#bd3786\"],[0.5555555555555556,\"#d8576b\"],[0.6666666666666666,\"#ed7953\"],[0.7777777777777778,\"#fb9f3a\"],[0.8888888888888888,\"#fdca26\"],[1.0,\"#f0f921\"]],\"diverging\":[[0,\"#8e0152\"],[0.1,\"#c51b7d\"],[0.2,\"#de77ae\"],[0.3,\"#f1b6da\"],[0.4,\"#fde0ef\"],[0.5,\"#f7f7f7\"],[0.6,\"#e6f5d0\"],[0.7,\"#b8e186\"],[0.8,\"#7fbc41\"],[0.9,\"#4d9221\"],[1,\"#276419\"]]},\"xaxis\":{\"gridcolor\":\"white\",\"linecolor\":\"white\",\"ticks\":\"\",\"title\":{\"standoff\":15},\"zerolinecolor\":\"white\",\"automargin\":true,\"zerolinewidth\":2},\"yaxis\":{\"gridcolor\":\"white\",\"linecolor\":\"white\",\"ticks\":\"\",\"title\":{\"standoff\":15},\"zerolinecolor\":\"white\",\"automargin\":true,\"zerolinewidth\":2},\"scene\":{\"xaxis\":{\"backgroundcolor\":\"#E5ECF6\",\"gridcolor\":\"white\",\"linecolor\":\"white\",\"showbackground\":true,\"ticks\":\"\",\"zerolinecolor\":\"white\",\"gridwidth\":2},\"yaxis\":{\"backgroundcolor\":\"#E5ECF6\",\"gridcolor\":\"white\",\"linecolor\":\"white\",\"showbackground\":true,\"ticks\":\"\",\"zerolinecolor\":\"white\",\"gridwidth\":2},\"zaxis\":{\"backgroundcolor\":\"#E5ECF6\",\"gridcolor\":\"white\",\"linecolor\":\"white\",\"showbackground\":true,\"ticks\":\"\",\"zerolinecolor\":\"white\",\"gridwidth\":2}},\"shapedefaults\":{\"line\":{\"color\":\"#2a3f5f\"}},\"annotationdefaults\":{\"arrowcolor\":\"#2a3f5f\",\"arrowhead\":0,\"arrowwidth\":1},\"geo\":{\"bgcolor\":\"white\",\"landcolor\":\"#E5ECF6\",\"subunitcolor\":\"white\",\"showland\":true,\"showlakes\":true,\"lakecolor\":\"white\"},\"title\":{\"x\":0.05},\"mapbox\":{\"style\":\"light\"}}},\"xaxis\":{\"nticks\":19,\"title\":{\"text\":\"Native Embedding Space\"}},\"yaxis\":{\"nticks\":19,\"title\":{\"text\":\"Target Embedding Space\"}},\"title\":{\"text\":\"MSE Matrix on fiqa, (Architecture: nnlinear) (Logarithmic Scale)\"},\"width\":800,\"height\":600},                        {\"responsive\": true}                    ).then(function(){\n",
       "                            \n",
       "var gd = document.getElementById('e322ba4a-a02d-4d77-8675-d7c9dfd2bd53');\n",
       "var x = new MutationObserver(function (mutations, observer) {{\n",
       "        var display = window.getComputedStyle(gd).display;\n",
       "        if (!display || display === 'none') {{\n",
       "            console.log([gd, 'removed!']);\n",
       "            Plotly.purge(gd);\n",
       "            observer.disconnect();\n",
       "        }}\n",
       "}});\n",
       "\n",
       "// Listen for the removal of the full notebook cells\n",
       "var notebookContainer = gd.closest('#notebook-container');\n",
       "if (notebookContainer) {{\n",
       "    x.observe(notebookContainer, {childList: true});\n",
       "}}\n",
       "\n",
       "// Listen for the clearing of the current output cell\n",
       "var outputEl = gd.closest('.output');\n",
       "if (outputEl) {{\n",
       "    x.observe(outputEl, {childList: true});\n",
       "}}\n",
       "\n",
       "                        })                };                });            </script>        </div>"
      ]
     },
     "metadata": {},
     "output_type": "display_data"
    },
    {
     "name": "stdout",
     "output_type": "stream",
     "text": [
      "\n",
      "Ranking by rows (how well a model performs on average):\n",
      "| Model                                   |   Average MSE/MAE (rows) |    | Model                                   |   Average MSE/MAE (columns) |\n",
      "|:----------------------------------------|-------------------------:|    |:----------------------------------------|----------------------------:|\n",
      "| mixedbread-ai/mxbai-embed-large-v1      |                 0.000178 |    | thenlper/gte-large                      |                    9.5e-05  |\n",
      "| WhereIsAI/UAE-Large-V1                  |                 0.000179 |    | sentence-transformers/sentence-t5-base  |                    0.000121 |\n",
      "| BAAI/bge-large-en-v1.5                  |                 0.00018  |    | intfloat/e5-large-v2                    |                    0.000138 |\n",
      "| thenlper/gte-large                      |                 0.00018  |    | thenlper/gte-base                       |                    0.00014  |\n",
      "| thenlper/gte-base                       |                 0.000192 |    | openai/text-embedding-3-large           |                    0.000148 |\n",
      "| BAAI/bge-base-en-v1.5                   |                 0.000196 |    | intfloat/e5-base-v2                     |                    0.000156 |\n",
      "| BAAI/bge-small-en-v1.5                  |                 0.000197 |    | sentence-transformers/sentence-t5-large |                    0.000157 |\n",
      "| thenlper/gte-small                      |                 0.000197 |    | BAAI/bge-large-en-v1.5                  |                    0.000167 |\n",
      "| openai/text-embedding-3-small           |                 0.000201 |    | mixedbread-ai/mxbai-embed-large-v1      |                    0.000172 |\n",
      "| sentence-transformers/gtr-t5-large      |                 0.000204 |    | WhereIsAI/UAE-Large-V1                  |                    0.000181 |\n",
      "| intfloat/e5-base-v2                     |                 0.000206 |    | Mean_estimator                          |                    0.000228 |\n",
      "| sentence-transformers/sentence-t5-large |                 0.000209 |    | BAAI/bge-base-en-v1.5                   |                    0.000236 |\n",
      "| sentence-transformers/sentence-t5-base  |                 0.000211 |    | thenlper/gte-small                      |                    0.000247 |\n",
      "| openai/text-embedding-3-large           |                 0.000211 |    | openai/text-embedding-3-small           |                    0.00025  |\n",
      "| intfloat/e5-large-v2                    |                 0.000217 |    | intfloat/e5-small-v2                    |                    0.000263 |\n",
      "| sentence-transformers/gtr-t5-base       |                 0.000219 |    | sentence-transformers/gtr-t5-large      |                    0.000266 |\n",
      "| intfloat/e5-small-v2                    |                 0.000219 |    | sentence-transformers/gtr-t5-base       |                    0.000274 |\n",
      "| Mean_estimator                          |                 0.000228 |    | BAAI/bge-small-en-v1.5                  |                    0.000387 |\n",
      "| Random_estimator                        |                 1.00092  |    | Random_estimator                        |                    1.00092  |\n"
     ]
    }
   ],
   "source": [
    "import einops\n",
    "dataset_name = \"fiqa\"\n",
    "table = nnlinear_dataset2table_validation_mse[dataset_name]\n",
    "assert isinstance(table, torch.Tensor)\n",
    "assert table.shape == (len(MODEL_NAMES), len(MODEL_NAMES))\n",
    "\n",
    "def get_table_with_controls(\n",
    "        table: torch.Tensor, \n",
    "        dataset_name: str, \n",
    "        all_variances_train: Dict[Tuple[str, str], float], \n",
    "        all_variances_validation: Dict[Tuple[str, str], float], \n",
    "        all_mse_wrt_gaussian01_train: Dict[Tuple[str, str], float], \n",
    "        all_mse_wrt_gaussian01_validation: Dict[Tuple[str, str], float],\n",
    "        desired_model_order_names: List[str],\n",
    "        permutation: torch.Tensor,\n",
    "        diagonal_value: float = 0.0,\n",
    "    ) -> Tuple[torch.Tensor, List[str]]:\n",
    "    \"\"\"\n",
    "    Create controls:\n",
    "    - Mean estimator\n",
    "    - N(0, 1)\n",
    "    \"\"\"\n",
    "    assert table.shape == (len(desired_model_order_names), len(desired_model_order_names)), f\"table.shape: {table.shape}, desired_model_order_names: {desired_model_order_names}\"\n",
    "    assert len(desired_model_order_names) == len(permutation), f\"len(desired_model_order_names): {len(desired_model_order_names)}, permutation: {permutation}\"\n",
    "    variances_train_pt = torch.Tensor([all_variances_train[(dataset_name, model_name)] for model_name in desired_model_order_names])\n",
    "    variances_validation_pt = torch.Tensor([all_variances_validation[(dataset_name, model_name)] for model_name in desired_model_order_names])\n",
    "    mse_wrt_gaussian01_train_pt = torch.Tensor([all_mse_wrt_gaussian01_train[(dataset_name, model_name)] for model_name in desired_model_order_names])\n",
    "    mse_wrt_gaussian01_validation_pt = torch.Tensor([all_mse_wrt_gaussian01_validation[(dataset_name, model_name)] for model_name in desired_model_order_names])\n",
    "\n",
    "    variances_pt = (variances_train_pt + variances_validation_pt) / 2\n",
    "    mse_wrt_gaussian01_pt = (mse_wrt_gaussian01_train_pt + mse_wrt_gaussian01_validation_pt) / 2\n",
    "    assert len(variances_pt) == len(desired_model_order_names), f\"len(variances_pt): {len(variances_pt)}, desired_model_order_names: {desired_model_order_names}\"\n",
    "    assert len(mse_wrt_gaussian01_pt) == len(desired_model_order_names), f\"len(mse_wrt_gaussian01_pt): {len(mse_wrt_gaussian01_pt)}, desired_model_order_names: {desired_model_order_names}\"\n",
    "\n",
    "    # add as a new row\n",
    "    concat_tensor = torch.cat([variances_pt.unsqueeze(0), mse_wrt_gaussian01_pt.unsqueeze(0)], dim=0)\n",
    "    assert concat_tensor.shape == (2, len(desired_model_order_names))\n",
    "    table = torch.cat([table, concat_tensor], dim=0)\n",
    "    assert table.shape == (len(desired_model_order_names) + 2, len(desired_model_order_names)), f\"table.shape: {table.shape}, desired_model_order_names: {desired_model_order_names}\"\n",
    "    # add as a new column\n",
    "    # 1. add a 2x2 to the concat tensor that has an expected diagonal everywhere and should be ignored\n",
    "    _2x2 = torch.ones(2, 2) * diagonal_value\n",
    "    concat_tensor = torch.cat([concat_tensor, _2x2], dim=1)\n",
    "    concat_tensor = einops.rearrange(concat_tensor, \"d1 d2 -> d2 d1\")\n",
    "    assert concat_tensor.shape == (len(desired_model_order_names) + 2, 2), f\"concat_tensor.shape: {concat_tensor.shape}, desired_model_order_names: {desired_model_order_names}\"\n",
    "    table = torch.cat([table, concat_tensor], dim=1)\n",
    "    assert table.shape == (len(desired_model_order_names) + 2, len(desired_model_order_names) + 2), f\"table.shape: {table.shape}, desired_model_order_names: {desired_model_order_names}\"\n",
    "    new_names = desired_model_order_names + [\"Mean_estimator\", \"Random_estimator\"]\n",
    "    return table, new_names\n",
    "\n",
    "table_w_controls, new_names = get_table_with_controls(\n",
    "    table,\n",
    "    dataset_name,\n",
    "    all_variances_train,\n",
    "    all_variances_validation,\n",
    "    all_mse_wrt_gaussian01_train,\n",
    "    all_mse_wrt_gaussian01_validation,\n",
    "    DESIRED_MODEL_ORDER_NAMES,\n",
    "    sort_permutation,\n",
    "    diagonal_value=0.0,\n",
    ")\n",
    "\n",
    "# visualize_plt_heatmap(\"arguana\", table, table, use_log_plot=False, show_plot=True, add_text_annotations=False)\n",
    "# visualize_plt_heatmap(\"arguana\", table_w_controls, table_w_controls, use_log_plot=False, show_plot=True, add_text_annotations=False)\n",
    "assert new_names[-2] not in nnlinear_model2idx # two new ones\n",
    "assert new_names[-1] not in nnlinear_model2idx # ...\n",
    "assert len(new_names) == len(nnlinear_model2idx) + 2, f\"len(new_names): {len(new_names)}, len(nnlinear_model2idx): {len(nnlinear_model2idx)}\" # ...\n",
    "nnlinear_idx2model_w_controls = nnlinear_idx2model.copy()\n",
    "nnlinear_idx2model_w_controls[len(nnlinear_idx2model_w_controls)] = new_names[-2]\n",
    "nnlinear_idx2model_w_controls[len(nnlinear_idx2model_w_controls)] = new_names[-1]\n",
    "assert len(nnlinear_idx2model_w_controls) == len(new_names), f\"len(nnlinear_idx2model_w_controls): {len(nnlinear_idx2model_w_controls)}, len(new_names): {len(new_names)}\"\n",
    "print(\"DEBUG:\", len(nnlinear_idx2model_w_controls), len(new_names))\n",
    "sort_permutation_w_controls = torch.tensor(sort_permutation.tolist() + [len(sort_permutation), len(sort_permutation) + 1])\n",
    "assert len(sort_permutation_w_controls) == len(nnlinear_idx2model_w_controls), f\"len(sort_permutation_w_controls): {len(sort_permutation_w_controls)}, len(nnlinear_idx2model_w_controls): {len(nnlinear_idx2model_w_controls)}\"\n",
    "assert table_w_controls.shape == (len(nnlinear_idx2model_w_controls), len(nnlinear_idx2model_w_controls)), f\"table_w_controls.shape: {table_w_controls.shape}, len(nnlinear_idx2model_w_controls): {len(nnlinear_idx2model_w_controls)}\"\n",
    "assert set(nnlinear_idx2model_w_controls.values()) == set(new_names), f\"set(nnlinear_idx2model_w_controls.keys()): {set(nnlinear_idx2model_w_controls.keys())}, set(new_names): {set(new_names)}\"\n",
    "fig = gatlen_default_heatmap_plot(\n",
    "    nnlinear_idx2model_w_controls,\n",
    "    dataset_name,\n",
    "    \"nnlinear\",\n",
    "    table_w_controls,\n",
    "    sort_permutation=sort_permutation_w_controls,\n",
    "    do_log=True,\n",
    ")\n",
    "# save_figure(fig, \"arguana_nnlinear_mse_validation\")\n",
    "fig.show()\n",
    "\n",
    "def get_values_by_row_or_column(table: torch.Tensor, idx2model: dict[int, str], do_rows: bool, clip_last: int = 2) -> List[Tuple[str, float]]:\n",
    "    \"\"\" Return a list of (name, MSE/MAE value) for each row or for each column by getting the mean of the values in the table.\"\"\"\n",
    "    table = table.clone()\n",
    "    if clip_last is not None:\n",
    "        table = table[:, :-clip_last] if do_rows else table[:-clip_last]\n",
    "    if do_rows:\n",
    "        return sorted([(idx2model[i], table[i].mean().item()) for i in range(table.shape[0])], key=lambda x: x[1])\n",
    "    else:\n",
    "        return sorted([(idx2model[i], table[:, i].mean().item()) for i in range(table.shape[1])], key=lambda x: x[1])\n",
    "\n",
    "# print(table_w_controls) # [DEBUG]\n",
    "by_rows = get_values_by_row_or_column(table_w_controls, nnlinear_idx2model_w_controls, do_rows=True)\n",
    "by_columns = get_values_by_row_or_column(table_w_controls, nnlinear_idx2model_w_controls, do_rows=False)\n",
    "print(\"\\nRanking by rows (how well a model performs on average):\")\n",
    "x =tabulate(\n",
    "    [(name, f\"{value:.6f}\") for name, value in by_rows],\n",
    "    headers=[\"Model\", \"Average MSE/MAE (rows)\"],\n",
    "    tablefmt=\"pipe\"\n",
    ")\n",
    "y = tabulate(\n",
    "    [(name, f\"{value:.6f}\") for name, value in by_columns],\n",
    "    headers=[\"Model\", \"Average MSE/MAE (columns)\"], \n",
    "    tablefmt=\"pipe\"\n",
    ")\n",
    "assert len(x.split(\"\\n\")) == len(y.split(\"\\n\"))\n",
    "z = \"\\n\".join(xx + \"    \" + yy for xx, yy in zip(x.split(\"\\n\"), y.split(\"\\n\")))\n",
    "print(z)\n",
    "\n"
   ]
  },
  {
   "cell_type": "code",
   "execution_count": 84,
   "metadata": {},
   "outputs": [
    {
     "name": "stdout",
     "output_type": "stream",
     "text": [
      "================== LOADING LINEAR LAYERS ==================\n",
      "(dimensions were torch.Size([768, 1024]))\n",
      "================== LOADING EMBEDDINGS ==================\n",
      "================== DONE EMBEDDINGS ==================\n",
      "NNLinear MSE (validation): 0.000247\n",
      "NNLinear MSE (train): 0.000203\n",
      "OLSLinear MSE (validation): 0.000224\n",
      "OLSLinear MSE (train): 0.000176\n",
      "======================================== COMPARING TO TRAINSET-BASED VALIDATION ESTIMATORS ========================================\n",
      "[TRAIN ACC] Trainset-based validation estimator MSE: 0.000635\n",
      "[VALID ACC] Trainset-based validation estimator MSE: 0.000636\n",
      "========================================LOOKING AT PROPERTIES OF THE MATRICES ========================================\n",
      "---- Weight (Frobenius norm) ----\n",
      "NNLinear Frobenius norm: 32.453888\n",
      "OLSLinear Frobenius norm: 38.328732\n",
      "Random N(0, 1) Matrix Frobenius norm: 886.967468 ± 0.738029\n",
      "Random NNLinear Matrix Frobenius norm: 15.998528 ± 0.008728\n",
      "---- Bias ----\n",
      "OLSLinear bias norm: 0.542240\n",
      "NNLinear bias norm: 0.363759\n",
      "Random N(0, 1) Matrix bias norm: 27.788881 ± 0.679367\n",
      "Random NNLinear Matrix bias norm: 0.500223 ± 0.007756\n",
      "OLSLinear bias mean: -0.000788\n",
      "NNLinear bias mean: -0.000595\n",
      "Target mean norm: 0.715941\n",
      "---- Weight (Eigenvalues, Singular values, Spectral Properties) ----\n",
      "Top singular values: 4.4743924, 4.158472, 4.116919, 3.9311495, 3.9024472, 3.7682726, 3.7162955, 3.6793885, 3.6512928, 3.6318061\n",
      "50th, 100th, 150th, 200th, 250th, 500th, 700th singular values: 2.8170233, 2.2322233, 1.8237438, 1.5070431, 1.237272, 0.38290533, 0.09008994\n",
      "OLS Matrix rank: 768\n",
      "NNMatrix rank: 768\n"
     ]
    },
    {
     "name": "stderr",
     "output_type": "stream",
     "text": [
      "100%|██████████| 15/15 [00:02<00:00,  6.30it/s]\n",
      "100%|██████████| 15/15 [00:02<00:00,  6.22it/s]\n"
     ]
    },
    {
     "name": "stdout",
     "output_type": "stream",
     "text": [
      "Random matrix rank: 768.0 ± 0.0\n",
      "Random NNLinear matrix rank: 768.0 ± 0.0\n",
      "======== SOFT RANKING ========\n",
      "Soft rank OLS (1e-06): 768\n",
      "Soft rank NNLinear (1e-06): 768\n"
     ]
    },
    {
     "name": "stderr",
     "output_type": "stream",
     "text": [
      "100%|██████████| 15/15 [00:01<00:00,  9.11it/s]\n",
      "100%|██████████| 15/15 [00:03<00:00,  4.42it/s]\n"
     ]
    },
    {
     "name": "stdout",
     "output_type": "stream",
     "text": [
      "Random matrix soft rank (1e-06): 768.0 ± 0.0\n",
      "Random NNLinear matrix soft rank (1e-06): 768.0 ± 0.0\n",
      "Soft rank OLS (1e-05): 768\n",
      "Soft rank NNLinear (1e-05): 768\n"
     ]
    },
    {
     "name": "stderr",
     "output_type": "stream",
     "text": [
      "100%|██████████| 15/15 [00:01<00:00,  9.12it/s]\n",
      "100%|██████████| 15/15 [00:04<00:00,  3.70it/s]\n"
     ]
    },
    {
     "name": "stdout",
     "output_type": "stream",
     "text": [
      "Random matrix soft rank (1e-05): 768.0 ± 0.0\n",
      "Random NNLinear matrix soft rank (1e-05): 768.0 ± 0.0\n",
      "Soft rank OLS (0.0001): 768\n",
      "Soft rank NNLinear (0.0001): 768\n"
     ]
    },
    {
     "name": "stderr",
     "output_type": "stream",
     "text": [
      "100%|██████████| 15/15 [00:01<00:00,  9.12it/s]\n",
      "100%|██████████| 15/15 [00:03<00:00,  3.98it/s]\n"
     ]
    },
    {
     "name": "stdout",
     "output_type": "stream",
     "text": [
      "Random matrix soft rank (0.0001): 768.0 ± 0.0\n",
      "Random NNLinear matrix soft rank (0.0001): 768.0 ± 0.0\n",
      "Soft rank OLS (0.001): 768\n",
      "Soft rank NNLinear (0.001): 768\n"
     ]
    },
    {
     "name": "stderr",
     "output_type": "stream",
     "text": [
      "100%|██████████| 15/15 [00:01<00:00,  9.08it/s]\n",
      "100%|██████████| 15/15 [00:03<00:00,  3.96it/s]\n"
     ]
    },
    {
     "name": "stdout",
     "output_type": "stream",
     "text": [
      "Random matrix soft rank (0.001): 768.0 ± 0.0\n",
      "Random NNLinear matrix soft rank (0.001): 768.0 ± 0.0\n",
      "Soft rank OLS (0.01): 767\n",
      "Soft rank NNLinear (0.01): 768\n"
     ]
    },
    {
     "name": "stderr",
     "output_type": "stream",
     "text": [
      "100%|██████████| 15/15 [00:01<00:00,  9.09it/s]\n",
      "100%|██████████| 15/15 [00:03<00:00,  3.88it/s]\n"
     ]
    },
    {
     "name": "stdout",
     "output_type": "stream",
     "text": [
      "Random matrix soft rank (0.01): 768.0 ± 0.0\n",
      "Random NNLinear matrix soft rank (0.01): 768.0 ± 0.0\n",
      "Soft rank OLS (0.1): 687\n",
      "Soft rank NNLinear (0.1): 696\n"
     ]
    },
    {
     "name": "stderr",
     "output_type": "stream",
     "text": [
      "100%|██████████| 15/15 [00:01<00:00,  9.70it/s]\n",
      "100%|██████████| 15/15 [00:03<00:00,  3.84it/s]\n"
     ]
    },
    {
     "name": "stdout",
     "output_type": "stream",
     "text": [
      "Random matrix soft rank (0.1): 768.0 ± 0.0\n",
      "Random NNLinear matrix soft rank (0.1): 756.8666381835938 ± 0.8338093757629395\n",
      "Soft rank OLS (1.0): 303\n",
      "Soft rank NNLinear (1.0): 276\n"
     ]
    },
    {
     "name": "stderr",
     "output_type": "stream",
     "text": [
      "100%|██████████| 15/15 [00:01<00:00,  9.07it/s]\n",
      "100%|██████████| 15/15 [00:03<00:00,  4.14it/s]\n"
     ]
    },
    {
     "name": "stdout",
     "output_type": "stream",
     "text": [
      "Random matrix soft rank (1.0): 768.0 ± 0.0\n",
      "Random NNLinear matrix soft rank (1.0): 20.33333396911621 ± 0.7237468361854553\n",
      "Soft rank OLS (3.0): 38\n",
      "Soft rank NNLinear (3.0): 7\n"
     ]
    },
    {
     "name": "stderr",
     "output_type": "stream",
     "text": [
      "100%|██████████| 15/15 [00:01<00:00,  9.13it/s]\n",
      "100%|██████████| 15/15 [00:03<00:00,  4.22it/s]\n"
     ]
    },
    {
     "name": "stdout",
     "output_type": "stream",
     "text": [
      "Random matrix soft rank (3.0): 768.0 ± 0.0\n",
      "Random NNLinear matrix soft rank (3.0): 0.0 ± 0.0\n",
      "Soft rank OLS (10.0): 0\n",
      "Soft rank NNLinear (10.0): 0\n"
     ]
    },
    {
     "name": "stderr",
     "output_type": "stream",
     "text": [
      "100%|██████████| 15/15 [00:01<00:00,  9.14it/s]\n",
      "100%|██████████| 15/15 [00:03<00:00,  3.99it/s]\n"
     ]
    },
    {
     "name": "stdout",
     "output_type": "stream",
     "text": [
      "Random matrix soft rank (10.0): 688.4000244140625 ± 1.3522467613220215\n",
      "Random NNLinear matrix soft rank (10.0): 0.0 ± 0.0\n",
      "======================================== DONE SOFT RANKING ========================================\n",
      "\n",
      "---- Rank Measures [Generated by Claude + O1] ----\n",
      "\n",
      "OLS Linear:\n",
      "Stable Rank: 73.3805\n",
      "Effective Rank: 300.1768\n",
      "Nuclear Norm Ratio: 173.8396\n",
      "----\n",
      "\n",
      "NN Linear:\n",
      "Stable Rank: 71.3765\n",
      "Effective Rank: 323.1936\n",
      "Nuclear Norm Ratio: 176.4435\n",
      "----\n",
      "\n",
      "Random N(0,1) Matrix (mean ± std):\n",
      "Stable Rank: 222.7273 ± 1.6974\n",
      "Effective Rank: 527.5589 ± 0.3818\n",
      "Nuclear Norm Ratio: 369.8502 ± 1.3843\n",
      "\n",
      "Random NNLinear Matrix (mean ± std):\n",
      "Stable Rank: 222.1487 ± 2.3583\n",
      "Effective Rank: 527.7904 ± 0.4278\n",
      "Nuclear Norm Ratio: 370.0917 ± 1.7133\n"
     ]
    },
    {
     "data": {
      "image/png": "[encoded data removed]",
      "text/plain": [
       "<Figure size 640x480 with 1 Axes>"
      ]
     },
     "metadata": {},
     "output_type": "display_data"
    }
   ],
   "source": [
    "\"\"\"\n",
    "Above the MSEs seem to be too good for the mean estimator, but seem to suck for the regular estimators relative to it. We are going to check what's going on here\n",
    "in the embeddings on maybe scidocs or smth.\n",
    "\n",
    "Here we do the following:\n",
    "1. Pick a pair of layer and then get their MSE by geneating the image of the embeddings set. We then compare this with the train and validation MSEs\n",
    "    claimed from the training loss as well as the MSEs from the mean estimator. this should give us a sense of how well we are doing.\n",
    "        - Do this for OLS\n",
    "        - Do this for the NNLinear\n",
    "2. For that pair of layers look at the frobenius norm of the weight matrix\n",
    "    - OLS\n",
    "    - NNLinear\n",
    "    - Compare with 30 random layers with; NOTE that the identity should have a frobenius norm of around sqrt(d) -> >>>> 1 (i.e. could be as large as 30+)\n",
    "\"\"\"\n",
    "\n",
    "print(\"================== LOADING LINEAR LAYERS ==================\")\n",
    "from safetensors.torch import load_file\n",
    "import torch\n",
    "import torch.nn as nn\n",
    "dataset = \"arguana\"\n",
    "model1 = MODEL_NAMES[0]\n",
    "model2 = MODEL_NAMES[1]\n",
    "device = \"cuda:3\"\n",
    "nn_linear_path = Path(\n",
    "    \"/mnt/align3_drive/adrianoh/dl_final_project_layers/arguana_hf_cartesian_product/\" + \n",
    "    f\"{model1.replace('/', '_')}_{model2.replace('/', '_')}/{dataset}/checkpoints/checkpoint_40.safetensors\"\n",
    ")\n",
    "ols_linear_path = Path(\n",
    "    \"/mnt/align3_drive/adrianoh/dl_final_project_layers/ols_all_datasets/\" + \n",
    "    f\"{model1.replace('/', '_')}_{model2.replace('/', '_')}/{dataset}/linear_transform.safetensors\"\n",
    ")\n",
    "assert nn_linear_path.exists()\n",
    "assert ols_linear_path.exists()\n",
    "nn_linear_state_dict = load_file(nn_linear_path)\n",
    "ols_linear_state_dict = load_file(ols_linear_path)\n",
    "nn_linear = nn.Linear(*reversed(nn_linear_state_dict[\"weight\"].shape)).to(device)\n",
    "nn_linear.load_state_dict(nn_linear_state_dict)\n",
    "nn_linear.eval()\n",
    "assert ols_linear_state_dict['bias'].shape == nn_linear_state_dict['bias'].shape\n",
    "if nn_linear_state_dict['weight'].shape != ols_linear_state_dict['weight'].shape:\n",
    "    ols_linear_state_dict['weight'] = ols_linear_state_dict['weight'].T\n",
    "assert nn_linear_state_dict['bias'].shape == ols_linear_state_dict['bias'].shape\n",
    "ols_linear = nn.Linear(*reversed(ols_linear_state_dict[\"weight\"].shape)).to(device)\n",
    "ols_linear.load_state_dict(ols_linear_state_dict)\n",
    "ols_linear.eval()\n",
    "print(f\"(dimensions were {nn_linear_state_dict['weight'].shape})\")\n",
    "print(\"================== LOADING EMBEDDINGS ==================\")\n",
    "src_embeddings_validation_path = Path(\n",
    "    \"/mnt/align3_drive/adrianoh/dl_final_project_embeddings/\" + \n",
    "    f\"{model1.replace('/', '_')}/{dataset}/embeddings_corpus_validation.safetensors\"\n",
    ")\n",
    "src_embeddings_train_path = Path(\n",
    "    \"/mnt/align3_drive/adrianoh/dl_final_project_embeddings/\" + \n",
    "    f\"{model1.replace('/', '_')}/{dataset}/embeddings_corpus_train.safetensors\"\n",
    ")\n",
    "tgt_embeddings_validation_path = Path(\n",
    "    \"/mnt/align3_drive/adrianoh/dl_final_project_embeddings/\" + \n",
    "    f\"{model2.replace('/', '_')}/{dataset}/embeddings_corpus_validation.safetensors\"\n",
    ")\n",
    "tgt_embeddings_train_path = Path(\n",
    "    \"/mnt/align3_drive/adrianoh/dl_final_project_embeddings/\" + \n",
    "    f\"{model2.replace('/', '_')}/{dataset}/embeddings_corpus_train.safetensors\"\n",
    ")\n",
    "assert src_embeddings_validation_path.exists()\n",
    "assert src_embeddings_train_path.exists()\n",
    "assert tgt_embeddings_validation_path.exists()\n",
    "assert tgt_embeddings_train_path.exists()\n",
    "src_embeddings_validation = load_file(src_embeddings_validation_path)[\"embeddings\"].to(device)\n",
    "src_embeddings_train = load_file(src_embeddings_train_path)[\"embeddings\"].to(device)\n",
    "tgt_embeddings_validation = load_file(tgt_embeddings_validation_path)[\"embeddings\"].to(device)\n",
    "tgt_embeddings_train = load_file(tgt_embeddings_train_path)[\"embeddings\"].to(device)\n",
    "assert src_embeddings_validation.shape[0] == tgt_embeddings_validation.shape[0]\n",
    "assert src_embeddings_validation.shape[1] == nn_linear_state_dict[\"weight\"].shape[1]\n",
    "assert tgt_embeddings_validation.shape[1] == nn_linear_state_dict[\"weight\"].shape[0]\n",
    "print(\"================== DONE EMBEDDINGS ==================\")\n",
    "nn_linear_output_validation = nn_linear(src_embeddings_validation) # src -> tgt\n",
    "nn_linear_mse_validation = (nn_linear_output_validation - tgt_embeddings_validation).pow(2).mean()\n",
    "nn_linear_output_train = nn_linear(src_embeddings_train) # src -> tgt\n",
    "nn_linear_mse_train = (nn_linear_output_train - tgt_embeddings_train).pow(2).mean()\n",
    "ols_linear_output_validation = ols_linear(src_embeddings_validation) # src -> src\n",
    "ols_linear_mse_validation = (ols_linear_output_validation - tgt_embeddings_validation).pow(2).mean()\n",
    "ols_linear_output_train = ols_linear(src_embeddings_train) # src -> src\n",
    "ols_linear_mse_train = (ols_linear_output_train - tgt_embeddings_train).pow(2).mean()\n",
    "print(f\"NNLinear MSE (validation): {nn_linear_mse_validation:.6f}\")\n",
    "print(f\"NNLinear MSE (train): {nn_linear_mse_train:.6f}\")\n",
    "print(f\"OLSLinear MSE (validation): {ols_linear_mse_validation:.6f}\")\n",
    "print(f\"OLSLinear MSE (train): {ols_linear_mse_train:.6f}\")\n",
    "print(\"=\"*40 + \" COMPARING TO TRAINSET-BASED VALIDATION ESTIMATORS \" + \"=\"*40)\n",
    "train_tgt_embeddings_mean = tgt_embeddings_train.mean(dim=0)\n",
    "train_tgt_embeddings_mean_mse_validation = (train_tgt_embeddings_mean - tgt_embeddings_validation).pow(2).mean() # NOTE: VALIDATION IS USED HERE\n",
    "train_tgt_embeddings_mean_mse_train = (train_tgt_embeddings_mean - tgt_embeddings_train).pow(2).mean()\n",
    "print(f\"[TRAIN ACC] Trainset-based validation estimator MSE: {train_tgt_embeddings_mean_mse_train:.6f}\") # <---- very similar      v\n",
    "print(f\"[VALID ACC] Trainset-based validation estimator MSE: {train_tgt_embeddings_mean_mse_validation:.6f}\") # <---- very similar ^\n",
    "print(\"=\"*40 + \"LOOKING AT PROPERTIES OF THE MATRICES \" + \"=\"*40)\n",
    "ols_linear_frobenius_norm = ols_linear.weight.norm(p=2)\n",
    "nn_linear_frobenius_norm = nn_linear.weight.norm(p=2)\n",
    "randn_mat_frobenius_norms = torch.tensor([torch.randn_like(ols_linear.weight).norm(p=2) for _ in range(30)])\n",
    "rand_lin_mat_frobenius_norms = torch.tensor([nn.Linear(*reversed(nn_linear_state_dict[\"weight\"].shape)).weight.norm(p=2) for _ in range(30)])\n",
    "print(\"---- Weight (Frobenius norm) ----\")\n",
    "print(f\"NNLinear Frobenius norm: {nn_linear_frobenius_norm:.6f}\")\n",
    "print(f\"OLSLinear Frobenius norm: {ols_linear_frobenius_norm:.6f}\")\n",
    "print(f\"Random N(0, 1) Matrix Frobenius norm: {randn_mat_frobenius_norms.mean():.6f} ± {randn_mat_frobenius_norms.std():.6f}\")\n",
    "print(f\"Random NNLinear Matrix Frobenius norm: {rand_lin_mat_frobenius_norms.mean():.6f} ± {rand_lin_mat_frobenius_norms.std():.6f}\")\n",
    "ols_bias_norm = ols_linear.bias.norm(p=2)\n",
    "nn_bias_norm = nn_linear.bias.norm(p=2)\n",
    "rand_mat_bias_norms = torch.tensor([torch.randn_like(ols_linear.bias).norm(p=2) for _ in range(30)])\n",
    "rand_lin_mat_bias_norms = torch.tensor([nn.Linear(*reversed(nn_linear_state_dict[\"weight\"].shape)).bias.norm(p=2) for _ in range(30)])\n",
    "print(\"---- Bias ----\")\n",
    "print(f\"OLSLinear bias norm: {ols_bias_norm:.6f}\")\n",
    "print(f\"NNLinear bias norm: {nn_bias_norm:.6f}\")\n",
    "print(f\"Random N(0, 1) Matrix bias norm: {rand_mat_bias_norms.mean().item():.6f} ± {rand_mat_bias_norms.std().item():.6f}\")\n",
    "print(f\"Random NNLinear Matrix bias norm: {rand_lin_mat_bias_norms.mean().item():.6f} ± {rand_lin_mat_bias_norms.std().item():.6f}\")\n",
    "print(f\"OLSLinear bias mean: {ols_linear.bias.mean().item():.6f}\")\n",
    "print(f\"NNLinear bias mean: {nn_linear.bias.mean().item():.6f}\")\n",
    "print(f\"Target mean norm: {tgt_embeddings_train.mean(dim=0).norm(p=2).item():.6f}\")\n",
    "print(\"---- Weight (Eigenvalues, Singular values, Spectral Properties) ----\")\n",
    "# plotting singular values and eigenvectors\n",
    "singular_values = torch.svd(ols_linear.weight).S.cpu().detach().numpy()\n",
    "import matplotlib.pyplot as plt\n",
    "# print(type(singular_values), singular_values.shape) # [DEBUG]\n",
    "print(\"Top singular values:\", \", \".join(map(str, singular_values[:10])))\n",
    "print(\"50th, 100th, 150th, 200th, 250th, 500th, 700th singular values:\", \", \".join(map(str, [singular_values[49], singular_values[99], singular_values[149], singular_values[199], singular_values[249], singular_values[499], singular_values[699]])))\n",
    "print(\"OLS Matrix rank:\", np.linalg.matrix_rank(ols_linear.weight.cpu().detach().numpy()))\n",
    "print(\"NNMatrix rank:\", np.linalg.matrix_rank(nn_linear.weight.cpu().detach().numpy()))\n",
    "randn_matrix_ranks = torch.tensor([float(np.linalg.matrix_rank(torch.randn_like(ols_linear.weight).cpu().detach().numpy())) for _ in tqdm.trange(15)])\n",
    "rand_lin_matrix_ranks = torch.tensor([float(np.linalg.matrix_rank(nn.Linear(*reversed(nn_linear_state_dict[\"weight\"].shape)).weight.cpu().detach().numpy())) for _ in tqdm.trange(15)])\n",
    "print(\"Random matrix rank:\", randn_matrix_ranks.mean().item(), \"±\", randn_matrix_ranks.std().item())\n",
    "print(\"Random NNLinear matrix rank:\", rand_lin_matrix_ranks.mean().item(), \"±\", rand_lin_matrix_ranks.std().item())\n",
    "\n",
    "def soft_rank(matrix: torch.Tensor, thresh: float = 1e-4) -> float:\n",
    "    singular_values = torch.svd(matrix).S.cpu().detach().numpy()\n",
    "    singular_values_above_thresh = singular_values > thresh\n",
    "    s = singular_values_above_thresh.sum()\n",
    "    assert 0 <= s <= singular_values.shape[0], f\"s: {s}, singular_values.shape[0]: {singular_values.shape[0]}\"\n",
    "    return s\n",
    "\n",
    "print(\"======== SOFT RANKING ========\")\n",
    "for thresh in [1e-6, 1e-5, 1e-4, 1e-3, 1e-2, 1e-1, 1.0, 3.0, 10.0]:\n",
    "    print(f\"Soft rank OLS ({thresh}):\", soft_rank(ols_linear.weight, thresh))\n",
    "    print(f\"Soft rank NNLinear ({thresh}):\", soft_rank(nn_linear.weight, thresh))\n",
    "    randn_soft_ranks = torch.tensor([float(soft_rank(torch.randn_like(ols_linear.weight), thresh)) for _ in tqdm.trange(15)])\n",
    "    rand_lin_soft_ranks = torch.tensor([float(soft_rank(nn.Linear(*reversed(nn_linear_state_dict[\"weight\"].shape)).weight, thresh)) for _ in tqdm.trange(15)])\n",
    "    print(f\"Random matrix soft rank ({thresh}):\", randn_soft_ranks.mean().item(), \"±\", randn_soft_ranks.std().item())\n",
    "    print(f\"Random NNLinear matrix soft rank ({thresh}):\", rand_lin_soft_ranks.mean().item(), \"±\", rand_lin_soft_ranks.std().item())\n",
    "print(\"=\"*40 + \" DONE SOFT RANKING \" + \"=\"*40)\n",
    "print(\"\\n---- Rank Measures [Generated by Claude + O1] ----\")\n",
    "\n",
    "# Calculate stable rank\n",
    "def stable_rank(matrix: torch.Tensor) -> float:\n",
    "    frob_norm = matrix.norm(p='fro')\n",
    "    spec_norm = torch.svd(matrix).S[0]  # Largest singular value\n",
    "    return (frob_norm / spec_norm).item() ** 2\n",
    "\n",
    "# Calculate effective rank\n",
    "def effective_rank(matrix: torch.Tensor) -> float:\n",
    "    singular_values = torch.svd(matrix).S\n",
    "    # Normalize squared singular values to get probability-like weights\n",
    "    squared_sv = singular_values ** 2\n",
    "    total = squared_sv.sum()\n",
    "    probs = squared_sv / total\n",
    "    # Calculate entropy, handling 0 probabilities\n",
    "    entropy = 0.0\n",
    "    for p in probs:\n",
    "        if p > 0:  # Avoid log(0)\n",
    "            entropy -= p * torch.log(p)\n",
    "    return torch.exp(entropy).item()\n",
    "\n",
    "# Calculate nuclear norm ratio\n",
    "def nuclear_norm_ratio(matrix: torch.Tensor) -> float:\n",
    "    singular_values = torch.svd(matrix).S\n",
    "    nuclear_norm = singular_values.sum()\n",
    "    spec_norm = singular_values[0]\n",
    "    return (nuclear_norm / spec_norm).item()\n",
    "\n",
    "# Calculate measures for OLS and NNLinear\n",
    "print(\"\\nOLS Linear:\")\n",
    "print(f\"Stable Rank: {stable_rank(ols_linear.weight):.4f}\")\n",
    "print(f\"Effective Rank: {effective_rank(ols_linear.weight):.4f}\")\n",
    "print(f\"Nuclear Norm Ratio: {nuclear_norm_ratio(ols_linear.weight):.4f}\")\n",
    "print(\"----\")\n",
    "print(\"\\nNN Linear:\")\n",
    "print(f\"Stable Rank: {stable_rank(nn_linear.weight):.4f}\")\n",
    "print(f\"Effective Rank: {effective_rank(nn_linear.weight):.4f}\")\n",
    "print(f\"Nuclear Norm Ratio: {nuclear_norm_ratio(nn_linear.weight):.4f}\")\n",
    "print(\"----\")\n",
    "\n",
    "# Calculate statistics for random matrices\n",
    "print(\"\\nRandom N(0,1) Matrix (mean ± std):\")\n",
    "randn_stable_ranks = torch.tensor([stable_rank(torch.randn_like(ols_linear.weight)) for _ in tqdm.trange(30)])\n",
    "randn_effective_ranks = torch.tensor([effective_rank(torch.randn_like(ols_linear.weight)) for _ in tqdm.trange(30)])\n",
    "randn_nuclear_ratios = torch.tensor([nuclear_norm_ratio(torch.randn_like(ols_linear.weight)) for _ in tqdm.trange(30)])\n",
    "\n",
    "print(f\"Stable Rank: {randn_stable_ranks.mean():.4f} ± {randn_stable_ranks.std():.4f}\")\n",
    "print(f\"Effective Rank: {randn_effective_ranks.mean():.4f} ± {randn_effective_ranks.std():.4f}\")\n",
    "print(f\"Nuclear Norm Ratio: {randn_nuclear_ratios.mean():.4f} ± {randn_nuclear_ratios.std():.4f}\")\n",
    "\n",
    "print(\"\\nRandom NNLinear Matrix (mean ± std):\")\n",
    "rand_lin_stable_ranks = torch.tensor([stable_rank(nn.Linear(*reversed(nn_linear_state_dict[\"weight\"].shape)).weight) for _ in tqdm.trange(30)])\n",
    "rand_lin_effective_ranks = torch.tensor([effective_rank(nn.Linear(*reversed(nn_linear_state_dict[\"weight\"].shape)).weight) for _ in tqdm.trange(30)])\n",
    "rand_lin_nuclear_ratios = torch.tensor([nuclear_norm_ratio(nn.Linear(*reversed(nn_linear_state_dict[\"weight\"].shape)).weight) for _ in tqdm.trange(30)])\n",
    "\n",
    "print(f\"Stable Rank: {rand_lin_stable_ranks.mean():.4f} ± {rand_lin_stable_ranks.std():.4f}\")\n",
    "print(f\"Effective Rank: {rand_lin_effective_ranks.mean():.4f} ± {rand_lin_effective_ranks.std():.4f}\")\n",
    "print(f\"Nuclear Norm Ratio: {rand_lin_nuclear_ratios.mean():.4f} ± {rand_lin_nuclear_ratios.std():.4f}\")\n",
    "\n",
    "plt.plot(singular_values)\n",
    "plt.show()\n",
    "\"\"\"\n",
    "Conclusions:\n",
    "- These are in some sense lower rank than random matrices\n",
    "- They have high-ish singular values (but not that that high); in this case it seems like it's actually quite shearing the space; this might depend a lot\n",
    "    on the directionality you go in\n",
    "- Bias seems to be much smaller than mean, so it's not just doing mean estimation, which is odd?\n",
    "- Indeed the MSE is correct as we report it (probably)---at least the order of magnitude is correct; this means that our layers are not very good;\n",
    "    to get a better look into this we should look at the variance explained.\n",
    "\"\"\""
   ]
  },
  {
   "cell_type": "code",
   "execution_count": 23,
   "metadata": {},
   "outputs": [
    {
     "name": "stderr",
     "output_type": "stream",
     "text": [
      "  0%|          | 0/6 [00:00<?, ?it/s]\u001b[32m2024-12-11 19:50:24.753\u001b[0m | \u001b[1mINFO    \u001b[0m | \u001b[36m__main__\u001b[0m:\u001b[36mvisualize_heatmap\u001b[0m:\u001b[36m127\u001b[0m - \u001b[1mStarting heatmap visualization process\u001b[0m\n",
      "\u001b[32m2024-12-11 19:50:24.754\u001b[0m | \u001b[1mINFO    \u001b[0m | \u001b[36m__main__\u001b[0m:\u001b[36m_plot_heatmap\u001b[0m:\u001b[36m52\u001b[0m - \u001b[1mCreating heatmap visualization...\u001b[0m\n",
      "\u001b[32m2024-12-11 19:50:24.764\u001b[0m | \u001b[32m\u001b[1mSUCCESS \u001b[0m | \u001b[36m__main__\u001b[0m:\u001b[36m_plot_heatmap\u001b[0m:\u001b[36m101\u001b[0m - \u001b[32m\u001b[1mHeatmap created successfully\u001b[0m\n",
      "\u001b[32m2024-12-11 19:50:24.765\u001b[0m | \u001b[1mINFO    \u001b[0m | \u001b[36m__main__\u001b[0m:\u001b[36mvisualize_heatmap\u001b[0m:\u001b[36m127\u001b[0m - \u001b[1mStarting heatmap visualization process\u001b[0m\n",
      "\u001b[32m2024-12-11 19:50:24.765\u001b[0m | \u001b[1mINFO    \u001b[0m | \u001b[36m__main__\u001b[0m:\u001b[36m_plot_heatmap\u001b[0m:\u001b[36m52\u001b[0m - \u001b[1mCreating heatmap visualization...\u001b[0m\n",
      "\u001b[32m2024-12-11 19:50:24.774\u001b[0m | \u001b[32m\u001b[1mSUCCESS \u001b[0m | \u001b[36m__main__\u001b[0m:\u001b[36m_plot_heatmap\u001b[0m:\u001b[36m101\u001b[0m - \u001b[32m\u001b[1mHeatmap created successfully\u001b[0m\n",
      "\u001b[32m2024-12-11 19:50:24.775\u001b[0m | \u001b[1mINFO    \u001b[0m | \u001b[36m__main__\u001b[0m:\u001b[36mvisualize_heatmap\u001b[0m:\u001b[36m127\u001b[0m - \u001b[1mStarting heatmap visualization process\u001b[0m\n",
      "\u001b[32m2024-12-11 19:50:24.776\u001b[0m | \u001b[1mINFO    \u001b[0m | \u001b[36m__main__\u001b[0m:\u001b[36m_plot_heatmap\u001b[0m:\u001b[36m52\u001b[0m - \u001b[1mCreating heatmap visualization...\u001b[0m\n",
      "\u001b[32m2024-12-11 19:50:24.785\u001b[0m | \u001b[32m\u001b[1mSUCCESS \u001b[0m | \u001b[36m__main__\u001b[0m:\u001b[36m_plot_heatmap\u001b[0m:\u001b[36m101\u001b[0m - \u001b[32m\u001b[1mHeatmap created successfully\u001b[0m\n",
      "\u001b[32m2024-12-11 19:50:24.786\u001b[0m | \u001b[1mINFO    \u001b[0m | \u001b[36m__main__\u001b[0m:\u001b[36mvisualize_heatmap\u001b[0m:\u001b[36m127\u001b[0m - \u001b[1mStarting heatmap visualization process\u001b[0m\n",
      "\u001b[32m2024-12-11 19:50:24.787\u001b[0m | \u001b[1mINFO    \u001b[0m | \u001b[36m__main__\u001b[0m:\u001b[36m_plot_heatmap\u001b[0m:\u001b[36m52\u001b[0m - \u001b[1mCreating heatmap visualization...\u001b[0m\n",
      "\u001b[32m2024-12-11 19:50:24.795\u001b[0m | \u001b[32m\u001b[1mSUCCESS \u001b[0m | \u001b[36m__main__\u001b[0m:\u001b[36m_plot_heatmap\u001b[0m:\u001b[36m101\u001b[0m - \u001b[32m\u001b[1mHeatmap created successfully\u001b[0m\n",
      "\u001b[32m2024-12-11 19:50:24.800\u001b[0m | \u001b[1mINFO    \u001b[0m | \u001b[36m__main__\u001b[0m:\u001b[36m_save_figure_html\u001b[0m:\u001b[36m156\u001b[0m - \u001b[1mSaving HTML figure to data/figs/html/arguana_nnlinear_mse_withoutlog_validation.html\u001b[0m\n",
      "\u001b[32m2024-12-11 19:50:24.805\u001b[0m | \u001b[32m\u001b[1mSUCCESS \u001b[0m | \u001b[36m__main__\u001b[0m:\u001b[36m_save_figure_html\u001b[0m:\u001b[36m164\u001b[0m - \u001b[32m\u001b[1mSuccessfully saved HTML to data/figs/html/arguana_nnlinear_mse_withoutlog_validation.html\u001b[0m\n",
      "\u001b[32m2024-12-11 19:50:24.806\u001b[0m | \u001b[1mINFO    \u001b[0m | \u001b[36m__main__\u001b[0m:\u001b[36m_save_figure_png\u001b[0m:\u001b[36m190\u001b[0m - \u001b[1mSaving PNG figure to data/figs/imgs/arguana_nnlinear_mse_withoutlog_validation.png\u001b[0m\n",
      "\u001b[32m2024-12-11 19:50:25.198\u001b[0m | \u001b[32m\u001b[1mSUCCESS \u001b[0m | \u001b[36m__main__\u001b[0m:\u001b[36m_save_figure_png\u001b[0m:\u001b[36m199\u001b[0m - \u001b[32m\u001b[1mSuccessfully saved PNG to data/figs/imgs/arguana_nnlinear_mse_withoutlog_validation.png\u001b[0m\n",
      "\u001b[32m2024-12-11 19:50:25.199\u001b[0m | \u001b[1mINFO    \u001b[0m | \u001b[36m__main__\u001b[0m:\u001b[36m_save_figure_html\u001b[0m:\u001b[36m156\u001b[0m - \u001b[1mSaving HTML figure to data/figs/html/arguana_nnlinear_mae_withoutlog_validation.html\u001b[0m\n",
      "\u001b[32m2024-12-11 19:50:25.203\u001b[0m | \u001b[32m\u001b[1mSUCCESS \u001b[0m | \u001b[36m__main__\u001b[0m:\u001b[36m_save_figure_html\u001b[0m:\u001b[36m164\u001b[0m - \u001b[32m\u001b[1mSuccessfully saved HTML to data/figs/html/arguana_nnlinear_mae_withoutlog_validation.html\u001b[0m\n",
      "\u001b[32m2024-12-11 19:50:25.203\u001b[0m | \u001b[1mINFO    \u001b[0m | \u001b[36m__main__\u001b[0m:\u001b[36m_save_figure_png\u001b[0m:\u001b[36m190\u001b[0m - \u001b[1mSaving PNG figure to data/figs/imgs/arguana_nnlinear_mae_withoutlog_validation.png\u001b[0m\n",
      "\u001b[32m2024-12-11 19:50:25.550\u001b[0m | \u001b[32m\u001b[1mSUCCESS \u001b[0m | \u001b[36m__main__\u001b[0m:\u001b[36m_save_figure_png\u001b[0m:\u001b[36m199\u001b[0m - \u001b[32m\u001b[1mSuccessfully saved PNG to data/figs/imgs/arguana_nnlinear_mae_withoutlog_validation.png\u001b[0m\n",
      "\u001b[32m2024-12-11 19:50:25.551\u001b[0m | \u001b[1mINFO    \u001b[0m | \u001b[36m__main__\u001b[0m:\u001b[36m_save_figure_html\u001b[0m:\u001b[36m156\u001b[0m - \u001b[1mSaving HTML figure to data/figs/html/arguana_nnlinear_mse_withlog_validation.html\u001b[0m\n",
      "\u001b[32m2024-12-11 19:50:25.555\u001b[0m | \u001b[32m\u001b[1mSUCCESS \u001b[0m | \u001b[36m__main__\u001b[0m:\u001b[36m_save_figure_html\u001b[0m:\u001b[36m164\u001b[0m - \u001b[32m\u001b[1mSuccessfully saved HTML to data/figs/html/arguana_nnlinear_mse_withlog_validation.html\u001b[0m\n",
      "\u001b[32m2024-12-11 19:50:25.555\u001b[0m | \u001b[1mINFO    \u001b[0m | \u001b[36m__main__\u001b[0m:\u001b[36m_save_figure_png\u001b[0m:\u001b[36m190\u001b[0m - \u001b[1mSaving PNG figure to data/figs/imgs/arguana_nnlinear_mse_withlog_validation.png\u001b[0m\n",
      "\u001b[32m2024-12-11 19:50:25.889\u001b[0m | \u001b[32m\u001b[1mSUCCESS \u001b[0m | \u001b[36m__main__\u001b[0m:\u001b[36m_save_figure_png\u001b[0m:\u001b[36m199\u001b[0m - \u001b[32m\u001b[1mSuccessfully saved PNG to data/figs/imgs/arguana_nnlinear_mse_withlog_validation.png\u001b[0m\n",
      "\u001b[32m2024-12-11 19:50:25.891\u001b[0m | \u001b[1mINFO    \u001b[0m | \u001b[36m__main__\u001b[0m:\u001b[36m_save_figure_html\u001b[0m:\u001b[36m156\u001b[0m - \u001b[1mSaving HTML figure to data/figs/html/arguana_nnlinear_mae_withlog_validation.html\u001b[0m\n",
      "\u001b[32m2024-12-11 19:50:25.896\u001b[0m | \u001b[32m\u001b[1mSUCCESS \u001b[0m | \u001b[36m__main__\u001b[0m:\u001b[36m_save_figure_html\u001b[0m:\u001b[36m164\u001b[0m - \u001b[32m\u001b[1mSuccessfully saved HTML to data/figs/html/arguana_nnlinear_mae_withlog_validation.html\u001b[0m\n",
      "\u001b[32m2024-12-11 19:50:25.896\u001b[0m | \u001b[1mINFO    \u001b[0m | \u001b[36m__main__\u001b[0m:\u001b[36m_save_figure_png\u001b[0m:\u001b[36m190\u001b[0m - \u001b[1mSaving PNG figure to data/figs/imgs/arguana_nnlinear_mae_withlog_validation.png\u001b[0m\n",
      "\u001b[32m2024-12-11 19:50:26.240\u001b[0m | \u001b[32m\u001b[1mSUCCESS \u001b[0m | \u001b[36m__main__\u001b[0m:\u001b[36m_save_figure_png\u001b[0m:\u001b[36m199\u001b[0m - \u001b[32m\u001b[1mSuccessfully saved PNG to data/figs/imgs/arguana_nnlinear_mae_withlog_validation.png\u001b[0m\n",
      " 17%|█▋        | 1/6 [00:01<00:07,  1.49s/it]\u001b[32m2024-12-11 19:50:26.241\u001b[0m | \u001b[1mINFO    \u001b[0m | \u001b[36m__main__\u001b[0m:\u001b[36mvisualize_heatmap\u001b[0m:\u001b[36m127\u001b[0m - \u001b[1mStarting heatmap visualization process\u001b[0m\n",
      "\u001b[32m2024-12-11 19:50:26.242\u001b[0m | \u001b[1mINFO    \u001b[0m | \u001b[36m__main__\u001b[0m:\u001b[36m_plot_heatmap\u001b[0m:\u001b[36m52\u001b[0m - \u001b[1mCreating heatmap visualization...\u001b[0m\n",
      "\u001b[32m2024-12-11 19:50:26.246\u001b[0m | \u001b[32m\u001b[1mSUCCESS \u001b[0m | \u001b[36m__main__\u001b[0m:\u001b[36m_plot_heatmap\u001b[0m:\u001b[36m101\u001b[0m - \u001b[32m\u001b[1mHeatmap created successfully\u001b[0m\n",
      "\u001b[32m2024-12-11 19:50:26.246\u001b[0m | \u001b[1mINFO    \u001b[0m | \u001b[36m__main__\u001b[0m:\u001b[36mvisualize_heatmap\u001b[0m:\u001b[36m127\u001b[0m - \u001b[1mStarting heatmap visualization process\u001b[0m\n",
      "\u001b[32m2024-12-11 19:50:26.247\u001b[0m | \u001b[1mINFO    \u001b[0m | \u001b[36m__main__\u001b[0m:\u001b[36m_plot_heatmap\u001b[0m:\u001b[36m52\u001b[0m - \u001b[1mCreating heatmap visualization...\u001b[0m\n",
      "\u001b[32m2024-12-11 19:50:26.251\u001b[0m | \u001b[32m\u001b[1mSUCCESS \u001b[0m | \u001b[36m__main__\u001b[0m:\u001b[36m_plot_heatmap\u001b[0m:\u001b[36m101\u001b[0m - \u001b[32m\u001b[1mHeatmap created successfully\u001b[0m\n",
      "\u001b[32m2024-12-11 19:50:26.251\u001b[0m | \u001b[1mINFO    \u001b[0m | \u001b[36m__main__\u001b[0m:\u001b[36mvisualize_heatmap\u001b[0m:\u001b[36m127\u001b[0m - \u001b[1mStarting heatmap visualization process\u001b[0m\n",
      "\u001b[32m2024-12-11 19:50:26.252\u001b[0m | \u001b[1mINFO    \u001b[0m | \u001b[36m__main__\u001b[0m:\u001b[36m_plot_heatmap\u001b[0m:\u001b[36m52\u001b[0m - \u001b[1mCreating heatmap visualization...\u001b[0m\n",
      "\u001b[32m2024-12-11 19:50:26.256\u001b[0m | \u001b[32m\u001b[1mSUCCESS \u001b[0m | \u001b[36m__main__\u001b[0m:\u001b[36m_plot_heatmap\u001b[0m:\u001b[36m101\u001b[0m - \u001b[32m\u001b[1mHeatmap created successfully\u001b[0m\n",
      "\u001b[32m2024-12-11 19:50:26.256\u001b[0m | \u001b[1mINFO    \u001b[0m | \u001b[36m__main__\u001b[0m:\u001b[36mvisualize_heatmap\u001b[0m:\u001b[36m127\u001b[0m - \u001b[1mStarting heatmap visualization process\u001b[0m\n",
      "\u001b[32m2024-12-11 19:50:26.256\u001b[0m | \u001b[1mINFO    \u001b[0m | \u001b[36m__main__\u001b[0m:\u001b[36m_plot_heatmap\u001b[0m:\u001b[36m52\u001b[0m - \u001b[1mCreating heatmap visualization...\u001b[0m\n",
      "\u001b[32m2024-12-11 19:50:26.260\u001b[0m | \u001b[32m\u001b[1mSUCCESS \u001b[0m | \u001b[36m__main__\u001b[0m:\u001b[36m_plot_heatmap\u001b[0m:\u001b[36m101\u001b[0m - \u001b[32m\u001b[1mHeatmap created successfully\u001b[0m\n",
      "\u001b[32m2024-12-11 19:50:26.262\u001b[0m | \u001b[1mINFO    \u001b[0m | \u001b[36m__main__\u001b[0m:\u001b[36m_save_figure_html\u001b[0m:\u001b[36m156\u001b[0m - \u001b[1mSaving HTML figure to data/figs/html/fiqa_nnlinear_mse_withoutlog_validation.html\u001b[0m\n",
      "\u001b[32m2024-12-11 19:50:26.265\u001b[0m | \u001b[32m\u001b[1mSUCCESS \u001b[0m | \u001b[36m__main__\u001b[0m:\u001b[36m_save_figure_html\u001b[0m:\u001b[36m164\u001b[0m - \u001b[32m\u001b[1mSuccessfully saved HTML to data/figs/html/fiqa_nnlinear_mse_withoutlog_validation.html\u001b[0m\n",
      "\u001b[32m2024-12-11 19:50:26.265\u001b[0m | \u001b[1mINFO    \u001b[0m | \u001b[36m__main__\u001b[0m:\u001b[36m_save_figure_png\u001b[0m:\u001b[36m190\u001b[0m - \u001b[1mSaving PNG figure to data/figs/imgs/fiqa_nnlinear_mse_withoutlog_validation.png\u001b[0m\n",
      "\u001b[32m2024-12-11 19:50:26.598\u001b[0m | \u001b[32m\u001b[1mSUCCESS \u001b[0m | \u001b[36m__main__\u001b[0m:\u001b[36m_save_figure_png\u001b[0m:\u001b[36m199\u001b[0m - \u001b[32m\u001b[1mSuccessfully saved PNG to data/figs/imgs/fiqa_nnlinear_mse_withoutlog_validation.png\u001b[0m\n",
      "\u001b[32m2024-12-11 19:50:26.600\u001b[0m | \u001b[1mINFO    \u001b[0m | \u001b[36m__main__\u001b[0m:\u001b[36m_save_figure_html\u001b[0m:\u001b[36m156\u001b[0m - \u001b[1mSaving HTML figure to data/figs/html/fiqa_nnlinear_mae_withoutlog_validation.html\u001b[0m\n",
      "\u001b[32m2024-12-11 19:50:26.604\u001b[0m | \u001b[32m\u001b[1mSUCCESS \u001b[0m | \u001b[36m__main__\u001b[0m:\u001b[36m_save_figure_html\u001b[0m:\u001b[36m164\u001b[0m - \u001b[32m\u001b[1mSuccessfully saved HTML to data/figs/html/fiqa_nnlinear_mae_withoutlog_validation.html\u001b[0m\n",
      "\u001b[32m2024-12-11 19:50:26.605\u001b[0m | \u001b[1mINFO    \u001b[0m | \u001b[36m__main__\u001b[0m:\u001b[36m_save_figure_png\u001b[0m:\u001b[36m190\u001b[0m - \u001b[1mSaving PNG figure to data/figs/imgs/fiqa_nnlinear_mae_withoutlog_validation.png\u001b[0m\n",
      "\u001b[32m2024-12-11 19:50:26.925\u001b[0m | \u001b[32m\u001b[1mSUCCESS \u001b[0m | \u001b[36m__main__\u001b[0m:\u001b[36m_save_figure_png\u001b[0m:\u001b[36m199\u001b[0m - \u001b[32m\u001b[1mSuccessfully saved PNG to data/figs/imgs/fiqa_nnlinear_mae_withoutlog_validation.png\u001b[0m\n",
      "\u001b[32m2024-12-11 19:50:26.927\u001b[0m | \u001b[1mINFO    \u001b[0m | \u001b[36m__main__\u001b[0m:\u001b[36m_save_figure_html\u001b[0m:\u001b[36m156\u001b[0m - \u001b[1mSaving HTML figure to data/figs/html/fiqa_nnlinear_mse_withlog_validation.html\u001b[0m\n",
      "\u001b[32m2024-12-11 19:50:26.932\u001b[0m | \u001b[32m\u001b[1mSUCCESS \u001b[0m | \u001b[36m__main__\u001b[0m:\u001b[36m_save_figure_html\u001b[0m:\u001b[36m164\u001b[0m - \u001b[32m\u001b[1mSuccessfully saved HTML to data/figs/html/fiqa_nnlinear_mse_withlog_validation.html\u001b[0m\n",
      "\u001b[32m2024-12-11 19:50:26.932\u001b[0m | \u001b[1mINFO    \u001b[0m | \u001b[36m__main__\u001b[0m:\u001b[36m_save_figure_png\u001b[0m:\u001b[36m190\u001b[0m - \u001b[1mSaving PNG figure to data/figs/imgs/fiqa_nnlinear_mse_withlog_validation.png\u001b[0m\n",
      "\u001b[32m2024-12-11 19:50:27.244\u001b[0m | \u001b[32m\u001b[1mSUCCESS \u001b[0m | \u001b[36m__main__\u001b[0m:\u001b[36m_save_figure_png\u001b[0m:\u001b[36m199\u001b[0m - \u001b[32m\u001b[1mSuccessfully saved PNG to data/figs/imgs/fiqa_nnlinear_mse_withlog_validation.png\u001b[0m\n",
      "\u001b[32m2024-12-11 19:50:27.246\u001b[0m | \u001b[1mINFO    \u001b[0m | \u001b[36m__main__\u001b[0m:\u001b[36m_save_figure_html\u001b[0m:\u001b[36m156\u001b[0m - \u001b[1mSaving HTML figure to data/figs/html/fiqa_nnlinear_mae_withlog_validation.html\u001b[0m\n",
      "\u001b[32m2024-12-11 19:50:27.249\u001b[0m | \u001b[32m\u001b[1mSUCCESS \u001b[0m | \u001b[36m__main__\u001b[0m:\u001b[36m_save_figure_html\u001b[0m:\u001b[36m164\u001b[0m - \u001b[32m\u001b[1mSuccessfully saved HTML to data/figs/html/fiqa_nnlinear_mae_withlog_validation.html\u001b[0m\n",
      "\u001b[32m2024-12-11 19:50:27.250\u001b[0m | \u001b[1mINFO    \u001b[0m | \u001b[36m__main__\u001b[0m:\u001b[36m_save_figure_png\u001b[0m:\u001b[36m190\u001b[0m - \u001b[1mSaving PNG figure to data/figs/imgs/fiqa_nnlinear_mae_withlog_validation.png\u001b[0m\n",
      "\u001b[32m2024-12-11 19:50:27.570\u001b[0m | \u001b[32m\u001b[1mSUCCESS \u001b[0m | \u001b[36m__main__\u001b[0m:\u001b[36m_save_figure_png\u001b[0m:\u001b[36m199\u001b[0m - \u001b[32m\u001b[1mSuccessfully saved PNG to data/figs/imgs/fiqa_nnlinear_mae_withlog_validation.png\u001b[0m\n",
      " 33%|███▎      | 2/6 [00:02<00:05,  1.39s/it]\u001b[32m2024-12-11 19:50:27.571\u001b[0m | \u001b[1mINFO    \u001b[0m | \u001b[36m__main__\u001b[0m:\u001b[36mvisualize_heatmap\u001b[0m:\u001b[36m127\u001b[0m - \u001b[1mStarting heatmap visualization process\u001b[0m\n",
      "\u001b[32m2024-12-11 19:50:27.572\u001b[0m | \u001b[1mINFO    \u001b[0m | \u001b[36m__main__\u001b[0m:\u001b[36m_plot_heatmap\u001b[0m:\u001b[36m52\u001b[0m - \u001b[1mCreating heatmap visualization...\u001b[0m\n",
      "\u001b[32m2024-12-11 19:50:27.581\u001b[0m | \u001b[32m\u001b[1mSUCCESS \u001b[0m | \u001b[36m__main__\u001b[0m:\u001b[36m_plot_heatmap\u001b[0m:\u001b[36m101\u001b[0m - \u001b[32m\u001b[1mHeatmap created successfully\u001b[0m\n",
      "\u001b[32m2024-12-11 19:50:27.582\u001b[0m | \u001b[1mINFO    \u001b[0m | \u001b[36m__main__\u001b[0m:\u001b[36mvisualize_heatmap\u001b[0m:\u001b[36m127\u001b[0m - \u001b[1mStarting heatmap visualization process\u001b[0m\n",
      "\u001b[32m2024-12-11 19:50:27.582\u001b[0m | \u001b[1mINFO    \u001b[0m | \u001b[36m__main__\u001b[0m:\u001b[36m_plot_heatmap\u001b[0m:\u001b[36m52\u001b[0m - \u001b[1mCreating heatmap visualization...\u001b[0m\n",
      "\u001b[32m2024-12-11 19:50:27.591\u001b[0m | \u001b[32m\u001b[1mSUCCESS \u001b[0m | \u001b[36m__main__\u001b[0m:\u001b[36m_plot_heatmap\u001b[0m:\u001b[36m101\u001b[0m - \u001b[32m\u001b[1mHeatmap created successfully\u001b[0m\n",
      "\u001b[32m2024-12-11 19:50:27.593\u001b[0m | \u001b[1mINFO    \u001b[0m | \u001b[36m__main__\u001b[0m:\u001b[36mvisualize_heatmap\u001b[0m:\u001b[36m127\u001b[0m - \u001b[1mStarting heatmap visualization process\u001b[0m\n",
      "\u001b[32m2024-12-11 19:50:27.593\u001b[0m | \u001b[1mINFO    \u001b[0m | \u001b[36m__main__\u001b[0m:\u001b[36m_plot_heatmap\u001b[0m:\u001b[36m52\u001b[0m - \u001b[1mCreating heatmap visualization...\u001b[0m\n",
      "\u001b[32m2024-12-11 19:50:27.602\u001b[0m | \u001b[32m\u001b[1mSUCCESS \u001b[0m | \u001b[36m__main__\u001b[0m:\u001b[36m_plot_heatmap\u001b[0m:\u001b[36m101\u001b[0m - \u001b[32m\u001b[1mHeatmap created successfully\u001b[0m\n",
      "\u001b[32m2024-12-11 19:50:27.603\u001b[0m | \u001b[1mINFO    \u001b[0m | \u001b[36m__main__\u001b[0m:\u001b[36mvisualize_heatmap\u001b[0m:\u001b[36m127\u001b[0m - \u001b[1mStarting heatmap visualization process\u001b[0m\n",
      "\u001b[32m2024-12-11 19:50:27.604\u001b[0m | \u001b[1mINFO    \u001b[0m | \u001b[36m__main__\u001b[0m:\u001b[36m_plot_heatmap\u001b[0m:\u001b[36m52\u001b[0m - \u001b[1mCreating heatmap visualization...\u001b[0m\n",
      "\u001b[32m2024-12-11 19:50:27.612\u001b[0m | \u001b[32m\u001b[1mSUCCESS \u001b[0m | \u001b[36m__main__\u001b[0m:\u001b[36m_plot_heatmap\u001b[0m:\u001b[36m101\u001b[0m - \u001b[32m\u001b[1mHeatmap created successfully\u001b[0m\n",
      "\u001b[32m2024-12-11 19:50:27.614\u001b[0m | \u001b[1mINFO    \u001b[0m | \u001b[36m__main__\u001b[0m:\u001b[36m_save_figure_html\u001b[0m:\u001b[36m156\u001b[0m - \u001b[1mSaving HTML figure to data/figs/html/scidocs_nnlinear_mse_withoutlog_validation.html\u001b[0m\n",
      "\u001b[32m2024-12-11 19:50:27.619\u001b[0m | \u001b[32m\u001b[1mSUCCESS \u001b[0m | \u001b[36m__main__\u001b[0m:\u001b[36m_save_figure_html\u001b[0m:\u001b[36m164\u001b[0m - \u001b[32m\u001b[1mSuccessfully saved HTML to data/figs/html/scidocs_nnlinear_mse_withoutlog_validation.html\u001b[0m\n",
      "\u001b[32m2024-12-11 19:50:27.619\u001b[0m | \u001b[1mINFO    \u001b[0m | \u001b[36m__main__\u001b[0m:\u001b[36m_save_figure_png\u001b[0m:\u001b[36m190\u001b[0m - \u001b[1mSaving PNG figure to data/figs/imgs/scidocs_nnlinear_mse_withoutlog_validation.png\u001b[0m\n",
      "\u001b[32m2024-12-11 19:50:27.927\u001b[0m | \u001b[32m\u001b[1mSUCCESS \u001b[0m | \u001b[36m__main__\u001b[0m:\u001b[36m_save_figure_png\u001b[0m:\u001b[36m199\u001b[0m - \u001b[32m\u001b[1mSuccessfully saved PNG to data/figs/imgs/scidocs_nnlinear_mse_withoutlog_validation.png\u001b[0m\n",
      "\u001b[32m2024-12-11 19:50:27.929\u001b[0m | \u001b[1mINFO    \u001b[0m | \u001b[36m__main__\u001b[0m:\u001b[36m_save_figure_html\u001b[0m:\u001b[36m156\u001b[0m - \u001b[1mSaving HTML figure to data/figs/html/scidocs_nnlinear_mae_withoutlog_validation.html\u001b[0m\n",
      "\u001b[32m2024-12-11 19:50:27.933\u001b[0m | \u001b[32m\u001b[1mSUCCESS \u001b[0m | \u001b[36m__main__\u001b[0m:\u001b[36m_save_figure_html\u001b[0m:\u001b[36m164\u001b[0m - \u001b[32m\u001b[1mSuccessfully saved HTML to data/figs/html/scidocs_nnlinear_mae_withoutlog_validation.html\u001b[0m\n",
      "\u001b[32m2024-12-11 19:50:27.934\u001b[0m | \u001b[1mINFO    \u001b[0m | \u001b[36m__main__\u001b[0m:\u001b[36m_save_figure_png\u001b[0m:\u001b[36m190\u001b[0m - \u001b[1mSaving PNG figure to data/figs/imgs/scidocs_nnlinear_mae_withoutlog_validation.png\u001b[0m\n",
      "\u001b[32m2024-12-11 19:50:28.275\u001b[0m | \u001b[32m\u001b[1mSUCCESS \u001b[0m | \u001b[36m__main__\u001b[0m:\u001b[36m_save_figure_png\u001b[0m:\u001b[36m199\u001b[0m - \u001b[32m\u001b[1mSuccessfully saved PNG to data/figs/imgs/scidocs_nnlinear_mae_withoutlog_validation.png\u001b[0m\n",
      "\u001b[32m2024-12-11 19:50:28.277\u001b[0m | \u001b[1mINFO    \u001b[0m | \u001b[36m__main__\u001b[0m:\u001b[36m_save_figure_html\u001b[0m:\u001b[36m156\u001b[0m - \u001b[1mSaving HTML figure to data/figs/html/scidocs_nnlinear_mse_withlog_validation.html\u001b[0m\n",
      "\u001b[32m2024-12-11 19:50:28.281\u001b[0m | \u001b[32m\u001b[1mSUCCESS \u001b[0m | \u001b[36m__main__\u001b[0m:\u001b[36m_save_figure_html\u001b[0m:\u001b[36m164\u001b[0m - \u001b[32m\u001b[1mSuccessfully saved HTML to data/figs/html/scidocs_nnlinear_mse_withlog_validation.html\u001b[0m\n",
      "\u001b[32m2024-12-11 19:50:28.282\u001b[0m | \u001b[1mINFO    \u001b[0m | \u001b[36m__main__\u001b[0m:\u001b[36m_save_figure_png\u001b[0m:\u001b[36m190\u001b[0m - \u001b[1mSaving PNG figure to data/figs/imgs/scidocs_nnlinear_mse_withlog_validation.png\u001b[0m\n",
      "\u001b[32m2024-12-11 19:50:28.592\u001b[0m | \u001b[32m\u001b[1mSUCCESS \u001b[0m | \u001b[36m__main__\u001b[0m:\u001b[36m_save_figure_png\u001b[0m:\u001b[36m199\u001b[0m - \u001b[32m\u001b[1mSuccessfully saved PNG to data/figs/imgs/scidocs_nnlinear_mse_withlog_validation.png\u001b[0m\n",
      "\u001b[32m2024-12-11 19:50:28.594\u001b[0m | \u001b[1mINFO    \u001b[0m | \u001b[36m__main__\u001b[0m:\u001b[36m_save_figure_html\u001b[0m:\u001b[36m156\u001b[0m - \u001b[1mSaving HTML figure to data/figs/html/scidocs_nnlinear_mae_withlog_validation.html\u001b[0m\n",
      "\u001b[32m2024-12-11 19:50:28.597\u001b[0m | \u001b[32m\u001b[1mSUCCESS \u001b[0m | \u001b[36m__main__\u001b[0m:\u001b[36m_save_figure_html\u001b[0m:\u001b[36m164\u001b[0m - \u001b[32m\u001b[1mSuccessfully saved HTML to data/figs/html/scidocs_nnlinear_mae_withlog_validation.html\u001b[0m\n",
      "\u001b[32m2024-12-11 19:50:28.597\u001b[0m | \u001b[1mINFO    \u001b[0m | \u001b[36m__main__\u001b[0m:\u001b[36m_save_figure_png\u001b[0m:\u001b[36m190\u001b[0m - \u001b[1mSaving PNG figure to data/figs/imgs/scidocs_nnlinear_mae_withlog_validation.png\u001b[0m\n",
      "\u001b[32m2024-12-11 19:50:28.894\u001b[0m | \u001b[32m\u001b[1mSUCCESS \u001b[0m | \u001b[36m__main__\u001b[0m:\u001b[36m_save_figure_png\u001b[0m:\u001b[36m199\u001b[0m - \u001b[32m\u001b[1mSuccessfully saved PNG to data/figs/imgs/scidocs_nnlinear_mae_withlog_validation.png\u001b[0m\n",
      " 50%|█████     | 3/6 [00:04<00:04,  1.36s/it]\u001b[32m2024-12-11 19:50:28.896\u001b[0m | \u001b[1mINFO    \u001b[0m | \u001b[36m__main__\u001b[0m:\u001b[36mvisualize_heatmap\u001b[0m:\u001b[36m127\u001b[0m - \u001b[1mStarting heatmap visualization process\u001b[0m\n",
      "\u001b[32m2024-12-11 19:50:28.897\u001b[0m | \u001b[1mINFO    \u001b[0m | \u001b[36m__main__\u001b[0m:\u001b[36m_plot_heatmap\u001b[0m:\u001b[36m52\u001b[0m - \u001b[1mCreating heatmap visualization...\u001b[0m\n",
      "\u001b[32m2024-12-11 19:50:28.906\u001b[0m | \u001b[32m\u001b[1mSUCCESS \u001b[0m | \u001b[36m__main__\u001b[0m:\u001b[36m_plot_heatmap\u001b[0m:\u001b[36m101\u001b[0m - \u001b[32m\u001b[1mHeatmap created successfully\u001b[0m\n",
      "\u001b[32m2024-12-11 19:50:28.907\u001b[0m | \u001b[1mINFO    \u001b[0m | \u001b[36m__main__\u001b[0m:\u001b[36mvisualize_heatmap\u001b[0m:\u001b[36m127\u001b[0m - \u001b[1mStarting heatmap visualization process\u001b[0m\n",
      "\u001b[32m2024-12-11 19:50:28.907\u001b[0m | \u001b[1mINFO    \u001b[0m | \u001b[36m__main__\u001b[0m:\u001b[36m_plot_heatmap\u001b[0m:\u001b[36m52\u001b[0m - \u001b[1mCreating heatmap visualization...\u001b[0m\n",
      "\u001b[32m2024-12-11 19:50:28.916\u001b[0m | \u001b[32m\u001b[1mSUCCESS \u001b[0m | \u001b[36m__main__\u001b[0m:\u001b[36m_plot_heatmap\u001b[0m:\u001b[36m101\u001b[0m - \u001b[32m\u001b[1mHeatmap created successfully\u001b[0m\n",
      "\u001b[32m2024-12-11 19:50:28.917\u001b[0m | \u001b[1mINFO    \u001b[0m | \u001b[36m__main__\u001b[0m:\u001b[36mvisualize_heatmap\u001b[0m:\u001b[36m127\u001b[0m - \u001b[1mStarting heatmap visualization process\u001b[0m\n",
      "\u001b[32m2024-12-11 19:50:28.918\u001b[0m | \u001b[1mINFO    \u001b[0m | \u001b[36m__main__\u001b[0m:\u001b[36m_plot_heatmap\u001b[0m:\u001b[36m52\u001b[0m - \u001b[1mCreating heatmap visualization...\u001b[0m\n",
      "\u001b[32m2024-12-11 19:50:28.927\u001b[0m | \u001b[32m\u001b[1mSUCCESS \u001b[0m | \u001b[36m__main__\u001b[0m:\u001b[36m_plot_heatmap\u001b[0m:\u001b[36m101\u001b[0m - \u001b[32m\u001b[1mHeatmap created successfully\u001b[0m\n",
      "\u001b[32m2024-12-11 19:50:28.928\u001b[0m | \u001b[1mINFO    \u001b[0m | \u001b[36m__main__\u001b[0m:\u001b[36mvisualize_heatmap\u001b[0m:\u001b[36m127\u001b[0m - \u001b[1mStarting heatmap visualization process\u001b[0m\n",
      "\u001b[32m2024-12-11 19:50:28.928\u001b[0m | \u001b[1mINFO    \u001b[0m | \u001b[36m__main__\u001b[0m:\u001b[36m_plot_heatmap\u001b[0m:\u001b[36m52\u001b[0m - \u001b[1mCreating heatmap visualization...\u001b[0m\n",
      "\u001b[32m2024-12-11 19:50:28.937\u001b[0m | \u001b[32m\u001b[1mSUCCESS \u001b[0m | \u001b[36m__main__\u001b[0m:\u001b[36m_plot_heatmap\u001b[0m:\u001b[36m101\u001b[0m - \u001b[32m\u001b[1mHeatmap created successfully\u001b[0m\n",
      "\u001b[32m2024-12-11 19:50:28.939\u001b[0m | \u001b[1mINFO    \u001b[0m | \u001b[36m__main__\u001b[0m:\u001b[36m_save_figure_html\u001b[0m:\u001b[36m156\u001b[0m - \u001b[1mSaving HTML figure to data/figs/html/nfcorpus_nnlinear_mse_withoutlog_validation.html\u001b[0m\n",
      "\u001b[32m2024-12-11 19:50:28.943\u001b[0m | \u001b[32m\u001b[1mSUCCESS \u001b[0m | \u001b[36m__main__\u001b[0m:\u001b[36m_save_figure_html\u001b[0m:\u001b[36m164\u001b[0m - \u001b[32m\u001b[1mSuccessfully saved HTML to data/figs/html/nfcorpus_nnlinear_mse_withoutlog_validation.html\u001b[0m\n",
      "\u001b[32m2024-12-11 19:50:28.944\u001b[0m | \u001b[1mINFO    \u001b[0m | \u001b[36m__main__\u001b[0m:\u001b[36m_save_figure_png\u001b[0m:\u001b[36m190\u001b[0m - \u001b[1mSaving PNG figure to data/figs/imgs/nfcorpus_nnlinear_mse_withoutlog_validation.png\u001b[0m\n",
      "\u001b[32m2024-12-11 19:50:29.255\u001b[0m | \u001b[32m\u001b[1mSUCCESS \u001b[0m | \u001b[36m__main__\u001b[0m:\u001b[36m_save_figure_png\u001b[0m:\u001b[36m199\u001b[0m - \u001b[32m\u001b[1mSuccessfully saved PNG to data/figs/imgs/nfcorpus_nnlinear_mse_withoutlog_validation.png\u001b[0m\n",
      "\u001b[32m2024-12-11 19:50:29.257\u001b[0m | \u001b[1mINFO    \u001b[0m | \u001b[36m__main__\u001b[0m:\u001b[36m_save_figure_html\u001b[0m:\u001b[36m156\u001b[0m - \u001b[1mSaving HTML figure to data/figs/html/nfcorpus_nnlinear_mae_withoutlog_validation.html\u001b[0m\n",
      "\u001b[32m2024-12-11 19:50:29.260\u001b[0m | \u001b[32m\u001b[1mSUCCESS \u001b[0m | \u001b[36m__main__\u001b[0m:\u001b[36m_save_figure_html\u001b[0m:\u001b[36m164\u001b[0m - \u001b[32m\u001b[1mSuccessfully saved HTML to data/figs/html/nfcorpus_nnlinear_mae_withoutlog_validation.html\u001b[0m\n",
      "\u001b[32m2024-12-11 19:50:29.261\u001b[0m | \u001b[1mINFO    \u001b[0m | \u001b[36m__main__\u001b[0m:\u001b[36m_save_figure_png\u001b[0m:\u001b[36m190\u001b[0m - \u001b[1mSaving PNG figure to data/figs/imgs/nfcorpus_nnlinear_mae_withoutlog_validation.png\u001b[0m\n",
      "\u001b[32m2024-12-11 19:50:29.572\u001b[0m | \u001b[32m\u001b[1mSUCCESS \u001b[0m | \u001b[36m__main__\u001b[0m:\u001b[36m_save_figure_png\u001b[0m:\u001b[36m199\u001b[0m - \u001b[32m\u001b[1mSuccessfully saved PNG to data/figs/imgs/nfcorpus_nnlinear_mae_withoutlog_validation.png\u001b[0m\n",
      "\u001b[32m2024-12-11 19:50:29.574\u001b[0m | \u001b[1mINFO    \u001b[0m | \u001b[36m__main__\u001b[0m:\u001b[36m_save_figure_html\u001b[0m:\u001b[36m156\u001b[0m - \u001b[1mSaving HTML figure to data/figs/html/nfcorpus_nnlinear_mse_withlog_validation.html\u001b[0m\n",
      "\u001b[32m2024-12-11 19:50:29.578\u001b[0m | \u001b[32m\u001b[1mSUCCESS \u001b[0m | \u001b[36m__main__\u001b[0m:\u001b[36m_save_figure_html\u001b[0m:\u001b[36m164\u001b[0m - \u001b[32m\u001b[1mSuccessfully saved HTML to data/figs/html/nfcorpus_nnlinear_mse_withlog_validation.html\u001b[0m\n",
      "\u001b[32m2024-12-11 19:50:29.579\u001b[0m | \u001b[1mINFO    \u001b[0m | \u001b[36m__main__\u001b[0m:\u001b[36m_save_figure_png\u001b[0m:\u001b[36m190\u001b[0m - \u001b[1mSaving PNG figure to data/figs/imgs/nfcorpus_nnlinear_mse_withlog_validation.png\u001b[0m\n",
      "\u001b[32m2024-12-11 19:50:29.870\u001b[0m | \u001b[32m\u001b[1mSUCCESS \u001b[0m | \u001b[36m__main__\u001b[0m:\u001b[36m_save_figure_png\u001b[0m:\u001b[36m199\u001b[0m - \u001b[32m\u001b[1mSuccessfully saved PNG to data/figs/imgs/nfcorpus_nnlinear_mse_withlog_validation.png\u001b[0m\n",
      "\u001b[32m2024-12-11 19:50:29.871\u001b[0m | \u001b[1mINFO    \u001b[0m | \u001b[36m__main__\u001b[0m:\u001b[36m_save_figure_html\u001b[0m:\u001b[36m156\u001b[0m - \u001b[1mSaving HTML figure to data/figs/html/nfcorpus_nnlinear_mae_withlog_validation.html\u001b[0m\n",
      "\u001b[32m2024-12-11 19:50:29.874\u001b[0m | \u001b[32m\u001b[1mSUCCESS \u001b[0m | \u001b[36m__main__\u001b[0m:\u001b[36m_save_figure_html\u001b[0m:\u001b[36m164\u001b[0m - \u001b[32m\u001b[1mSuccessfully saved HTML to data/figs/html/nfcorpus_nnlinear_mae_withlog_validation.html\u001b[0m\n",
      "\u001b[32m2024-12-11 19:50:29.874\u001b[0m | \u001b[1mINFO    \u001b[0m | \u001b[36m__main__\u001b[0m:\u001b[36m_save_figure_png\u001b[0m:\u001b[36m190\u001b[0m - \u001b[1mSaving PNG figure to data/figs/imgs/nfcorpus_nnlinear_mae_withlog_validation.png\u001b[0m\n",
      "\u001b[32m2024-12-11 19:50:30.214\u001b[0m | \u001b[32m\u001b[1mSUCCESS \u001b[0m | \u001b[36m__main__\u001b[0m:\u001b[36m_save_figure_png\u001b[0m:\u001b[36m199\u001b[0m - \u001b[32m\u001b[1mSuccessfully saved PNG to data/figs/imgs/nfcorpus_nnlinear_mae_withlog_validation.png\u001b[0m\n",
      " 67%|██████▋   | 4/6 [00:05<00:02,  1.35s/it]\u001b[32m2024-12-11 19:50:30.215\u001b[0m | \u001b[1mINFO    \u001b[0m | \u001b[36m__main__\u001b[0m:\u001b[36mvisualize_heatmap\u001b[0m:\u001b[36m127\u001b[0m - \u001b[1mStarting heatmap visualization process\u001b[0m\n",
      "\u001b[32m2024-12-11 19:50:30.216\u001b[0m | \u001b[1mINFO    \u001b[0m | \u001b[36m__main__\u001b[0m:\u001b[36m_plot_heatmap\u001b[0m:\u001b[36m52\u001b[0m - \u001b[1mCreating heatmap visualization...\u001b[0m\n",
      "\u001b[32m2024-12-11 19:50:30.225\u001b[0m | \u001b[32m\u001b[1mSUCCESS \u001b[0m | \u001b[36m__main__\u001b[0m:\u001b[36m_plot_heatmap\u001b[0m:\u001b[36m101\u001b[0m - \u001b[32m\u001b[1mHeatmap created successfully\u001b[0m\n",
      "\u001b[32m2024-12-11 19:50:30.226\u001b[0m | \u001b[1mINFO    \u001b[0m | \u001b[36m__main__\u001b[0m:\u001b[36mvisualize_heatmap\u001b[0m:\u001b[36m127\u001b[0m - \u001b[1mStarting heatmap visualization process\u001b[0m\n",
      "\u001b[32m2024-12-11 19:50:30.226\u001b[0m | \u001b[1mINFO    \u001b[0m | \u001b[36m__main__\u001b[0m:\u001b[36m_plot_heatmap\u001b[0m:\u001b[36m52\u001b[0m - \u001b[1mCreating heatmap visualization...\u001b[0m\n",
      "\u001b[32m2024-12-11 19:50:30.236\u001b[0m | \u001b[32m\u001b[1mSUCCESS \u001b[0m | \u001b[36m__main__\u001b[0m:\u001b[36m_plot_heatmap\u001b[0m:\u001b[36m101\u001b[0m - \u001b[32m\u001b[1mHeatmap created successfully\u001b[0m\n",
      "\u001b[32m2024-12-11 19:50:30.237\u001b[0m | \u001b[1mINFO    \u001b[0m | \u001b[36m__main__\u001b[0m:\u001b[36mvisualize_heatmap\u001b[0m:\u001b[36m127\u001b[0m - \u001b[1mStarting heatmap visualization process\u001b[0m\n",
      "\u001b[32m2024-12-11 19:50:30.238\u001b[0m | \u001b[1mINFO    \u001b[0m | \u001b[36m__main__\u001b[0m:\u001b[36m_plot_heatmap\u001b[0m:\u001b[36m52\u001b[0m - \u001b[1mCreating heatmap visualization...\u001b[0m\n",
      "\u001b[32m2024-12-11 19:50:30.246\u001b[0m | \u001b[32m\u001b[1mSUCCESS \u001b[0m | \u001b[36m__main__\u001b[0m:\u001b[36m_plot_heatmap\u001b[0m:\u001b[36m101\u001b[0m - \u001b[32m\u001b[1mHeatmap created successfully\u001b[0m\n",
      "\u001b[32m2024-12-11 19:50:30.247\u001b[0m | \u001b[1mINFO    \u001b[0m | \u001b[36m__main__\u001b[0m:\u001b[36mvisualize_heatmap\u001b[0m:\u001b[36m127\u001b[0m - \u001b[1mStarting heatmap visualization process\u001b[0m\n",
      "\u001b[32m2024-12-11 19:50:30.248\u001b[0m | \u001b[1mINFO    \u001b[0m | \u001b[36m__main__\u001b[0m:\u001b[36m_plot_heatmap\u001b[0m:\u001b[36m52\u001b[0m - \u001b[1mCreating heatmap visualization...\u001b[0m\n",
      "\u001b[32m2024-12-11 19:50:30.257\u001b[0m | \u001b[32m\u001b[1mSUCCESS \u001b[0m | \u001b[36m__main__\u001b[0m:\u001b[36m_plot_heatmap\u001b[0m:\u001b[36m101\u001b[0m - \u001b[32m\u001b[1mHeatmap created successfully\u001b[0m\n",
      "\u001b[32m2024-12-11 19:50:30.259\u001b[0m | \u001b[1mINFO    \u001b[0m | \u001b[36m__main__\u001b[0m:\u001b[36m_save_figure_html\u001b[0m:\u001b[36m156\u001b[0m - \u001b[1mSaving HTML figure to data/figs/html/hotpotqa_nnlinear_mse_withoutlog_validation.html\u001b[0m\n",
      "\u001b[32m2024-12-11 19:50:30.265\u001b[0m | \u001b[32m\u001b[1mSUCCESS \u001b[0m | \u001b[36m__main__\u001b[0m:\u001b[36m_save_figure_html\u001b[0m:\u001b[36m164\u001b[0m - \u001b[32m\u001b[1mSuccessfully saved HTML to data/figs/html/hotpotqa_nnlinear_mse_withoutlog_validation.html\u001b[0m\n",
      "\u001b[32m2024-12-11 19:50:30.266\u001b[0m | \u001b[1mINFO    \u001b[0m | \u001b[36m__main__\u001b[0m:\u001b[36m_save_figure_png\u001b[0m:\u001b[36m190\u001b[0m - \u001b[1mSaving PNG figure to data/figs/imgs/hotpotqa_nnlinear_mse_withoutlog_validation.png\u001b[0m\n",
      "\u001b[32m2024-12-11 19:50:30.593\u001b[0m | \u001b[32m\u001b[1mSUCCESS \u001b[0m | \u001b[36m__main__\u001b[0m:\u001b[36m_save_figure_png\u001b[0m:\u001b[36m199\u001b[0m - \u001b[32m\u001b[1mSuccessfully saved PNG to data/figs/imgs/hotpotqa_nnlinear_mse_withoutlog_validation.png\u001b[0m\n",
      "\u001b[32m2024-12-11 19:50:30.595\u001b[0m | \u001b[1mINFO    \u001b[0m | \u001b[36m__main__\u001b[0m:\u001b[36m_save_figure_html\u001b[0m:\u001b[36m156\u001b[0m - \u001b[1mSaving HTML figure to data/figs/html/hotpotqa_nnlinear_mae_withoutlog_validation.html\u001b[0m\n",
      "\u001b[32m2024-12-11 19:50:30.599\u001b[0m | \u001b[32m\u001b[1mSUCCESS \u001b[0m | \u001b[36m__main__\u001b[0m:\u001b[36m_save_figure_html\u001b[0m:\u001b[36m164\u001b[0m - \u001b[32m\u001b[1mSuccessfully saved HTML to data/figs/html/hotpotqa_nnlinear_mae_withoutlog_validation.html\u001b[0m\n",
      "\u001b[32m2024-12-11 19:50:30.600\u001b[0m | \u001b[1mINFO    \u001b[0m | \u001b[36m__main__\u001b[0m:\u001b[36m_save_figure_png\u001b[0m:\u001b[36m190\u001b[0m - \u001b[1mSaving PNG figure to data/figs/imgs/hotpotqa_nnlinear_mae_withoutlog_validation.png\u001b[0m\n",
      "\u001b[32m2024-12-11 19:50:30.892\u001b[0m | \u001b[32m\u001b[1mSUCCESS \u001b[0m | \u001b[36m__main__\u001b[0m:\u001b[36m_save_figure_png\u001b[0m:\u001b[36m199\u001b[0m - \u001b[32m\u001b[1mSuccessfully saved PNG to data/figs/imgs/hotpotqa_nnlinear_mae_withoutlog_validation.png\u001b[0m\n",
      "\u001b[32m2024-12-11 19:50:30.893\u001b[0m | \u001b[1mINFO    \u001b[0m | \u001b[36m__main__\u001b[0m:\u001b[36m_save_figure_html\u001b[0m:\u001b[36m156\u001b[0m - \u001b[1mSaving HTML figure to data/figs/html/hotpotqa_nnlinear_mse_withlog_validation.html\u001b[0m\n",
      "\u001b[32m2024-12-11 19:50:30.897\u001b[0m | \u001b[32m\u001b[1mSUCCESS \u001b[0m | \u001b[36m__main__\u001b[0m:\u001b[36m_save_figure_html\u001b[0m:\u001b[36m164\u001b[0m - \u001b[32m\u001b[1mSuccessfully saved HTML to data/figs/html/hotpotqa_nnlinear_mse_withlog_validation.html\u001b[0m\n",
      "\u001b[32m2024-12-11 19:50:30.897\u001b[0m | \u001b[1mINFO    \u001b[0m | \u001b[36m__main__\u001b[0m:\u001b[36m_save_figure_png\u001b[0m:\u001b[36m190\u001b[0m - \u001b[1mSaving PNG figure to data/figs/imgs/hotpotqa_nnlinear_mse_withlog_validation.png\u001b[0m\n",
      "\u001b[32m2024-12-11 19:50:31.256\u001b[0m | \u001b[32m\u001b[1mSUCCESS \u001b[0m | \u001b[36m__main__\u001b[0m:\u001b[36m_save_figure_png\u001b[0m:\u001b[36m199\u001b[0m - \u001b[32m\u001b[1mSuccessfully saved PNG to data/figs/imgs/hotpotqa_nnlinear_mse_withlog_validation.png\u001b[0m\n",
      "\u001b[32m2024-12-11 19:50:31.258\u001b[0m | \u001b[1mINFO    \u001b[0m | \u001b[36m__main__\u001b[0m:\u001b[36m_save_figure_html\u001b[0m:\u001b[36m156\u001b[0m - \u001b[1mSaving HTML figure to data/figs/html/hotpotqa_nnlinear_mae_withlog_validation.html\u001b[0m\n",
      "\u001b[32m2024-12-11 19:50:31.262\u001b[0m | \u001b[32m\u001b[1mSUCCESS \u001b[0m | \u001b[36m__main__\u001b[0m:\u001b[36m_save_figure_html\u001b[0m:\u001b[36m164\u001b[0m - \u001b[32m\u001b[1mSuccessfully saved HTML to data/figs/html/hotpotqa_nnlinear_mae_withlog_validation.html\u001b[0m\n",
      "\u001b[32m2024-12-11 19:50:31.262\u001b[0m | \u001b[1mINFO    \u001b[0m | \u001b[36m__main__\u001b[0m:\u001b[36m_save_figure_png\u001b[0m:\u001b[36m190\u001b[0m - \u001b[1mSaving PNG figure to data/figs/imgs/hotpotqa_nnlinear_mae_withlog_validation.png\u001b[0m\n",
      "\u001b[32m2024-12-11 19:50:31.588\u001b[0m | \u001b[32m\u001b[1mSUCCESS \u001b[0m | \u001b[36m__main__\u001b[0m:\u001b[36m_save_figure_png\u001b[0m:\u001b[36m199\u001b[0m - \u001b[32m\u001b[1mSuccessfully saved PNG to data/figs/imgs/hotpotqa_nnlinear_mae_withlog_validation.png\u001b[0m\n",
      " 83%|████████▎ | 5/6 [00:06<00:01,  1.36s/it]\u001b[32m2024-12-11 19:50:31.589\u001b[0m | \u001b[1mINFO    \u001b[0m | \u001b[36m__main__\u001b[0m:\u001b[36mvisualize_heatmap\u001b[0m:\u001b[36m127\u001b[0m - \u001b[1mStarting heatmap visualization process\u001b[0m\n",
      "\u001b[32m2024-12-11 19:50:31.589\u001b[0m | \u001b[1mINFO    \u001b[0m | \u001b[36m__main__\u001b[0m:\u001b[36m_plot_heatmap\u001b[0m:\u001b[36m52\u001b[0m - \u001b[1mCreating heatmap visualization...\u001b[0m\n",
      "\u001b[32m2024-12-11 19:50:31.593\u001b[0m | \u001b[32m\u001b[1mSUCCESS \u001b[0m | \u001b[36m__main__\u001b[0m:\u001b[36m_plot_heatmap\u001b[0m:\u001b[36m101\u001b[0m - \u001b[32m\u001b[1mHeatmap created successfully\u001b[0m\n",
      "\u001b[32m2024-12-11 19:50:31.593\u001b[0m | \u001b[1mINFO    \u001b[0m | \u001b[36m__main__\u001b[0m:\u001b[36mvisualize_heatmap\u001b[0m:\u001b[36m127\u001b[0m - \u001b[1mStarting heatmap visualization process\u001b[0m\n",
      "\u001b[32m2024-12-11 19:50:31.594\u001b[0m | \u001b[1mINFO    \u001b[0m | \u001b[36m__main__\u001b[0m:\u001b[36m_plot_heatmap\u001b[0m:\u001b[36m52\u001b[0m - \u001b[1mCreating heatmap visualization...\u001b[0m\n",
      "\u001b[32m2024-12-11 19:50:31.597\u001b[0m | \u001b[32m\u001b[1mSUCCESS \u001b[0m | \u001b[36m__main__\u001b[0m:\u001b[36m_plot_heatmap\u001b[0m:\u001b[36m101\u001b[0m - \u001b[32m\u001b[1mHeatmap created successfully\u001b[0m\n",
      "\u001b[32m2024-12-11 19:50:31.598\u001b[0m | \u001b[1mINFO    \u001b[0m | \u001b[36m__main__\u001b[0m:\u001b[36mvisualize_heatmap\u001b[0m:\u001b[36m127\u001b[0m - \u001b[1mStarting heatmap visualization process\u001b[0m\n",
      "\u001b[32m2024-12-11 19:50:31.598\u001b[0m | \u001b[1mINFO    \u001b[0m | \u001b[36m__main__\u001b[0m:\u001b[36m_plot_heatmap\u001b[0m:\u001b[36m52\u001b[0m - \u001b[1mCreating heatmap visualization...\u001b[0m\n",
      "\u001b[32m2024-12-11 19:50:31.602\u001b[0m | \u001b[32m\u001b[1mSUCCESS \u001b[0m | \u001b[36m__main__\u001b[0m:\u001b[36m_plot_heatmap\u001b[0m:\u001b[36m101\u001b[0m - \u001b[32m\u001b[1mHeatmap created successfully\u001b[0m\n",
      "\u001b[32m2024-12-11 19:50:31.602\u001b[0m | \u001b[1mINFO    \u001b[0m | \u001b[36m__main__\u001b[0m:\u001b[36mvisualize_heatmap\u001b[0m:\u001b[36m127\u001b[0m - \u001b[1mStarting heatmap visualization process\u001b[0m\n",
      "\u001b[32m2024-12-11 19:50:31.603\u001b[0m | \u001b[1mINFO    \u001b[0m | \u001b[36m__main__\u001b[0m:\u001b[36m_plot_heatmap\u001b[0m:\u001b[36m52\u001b[0m - \u001b[1mCreating heatmap visualization...\u001b[0m\n",
      "\u001b[32m2024-12-11 19:50:31.606\u001b[0m | \u001b[32m\u001b[1mSUCCESS \u001b[0m | \u001b[36m__main__\u001b[0m:\u001b[36m_plot_heatmap\u001b[0m:\u001b[36m101\u001b[0m - \u001b[32m\u001b[1mHeatmap created successfully\u001b[0m\n",
      "\u001b[32m2024-12-11 19:50:31.608\u001b[0m | \u001b[1mINFO    \u001b[0m | \u001b[36m__main__\u001b[0m:\u001b[36m_save_figure_html\u001b[0m:\u001b[36m156\u001b[0m - \u001b[1mSaving HTML figure to data/figs/html/trec-covid_nnlinear_mse_withoutlog_validation.html\u001b[0m\n",
      "\u001b[32m2024-12-11 19:50:31.611\u001b[0m | \u001b[32m\u001b[1mSUCCESS \u001b[0m | \u001b[36m__main__\u001b[0m:\u001b[36m_save_figure_html\u001b[0m:\u001b[36m164\u001b[0m - \u001b[32m\u001b[1mSuccessfully saved HTML to data/figs/html/trec-covid_nnlinear_mse_withoutlog_validation.html\u001b[0m\n",
      "\u001b[32m2024-12-11 19:50:31.611\u001b[0m | \u001b[1mINFO    \u001b[0m | \u001b[36m__main__\u001b[0m:\u001b[36m_save_figure_png\u001b[0m:\u001b[36m190\u001b[0m - \u001b[1mSaving PNG figure to data/figs/imgs/trec-covid_nnlinear_mse_withoutlog_validation.png\u001b[0m\n",
      "\u001b[32m2024-12-11 19:50:31.906\u001b[0m | \u001b[32m\u001b[1mSUCCESS \u001b[0m | \u001b[36m__main__\u001b[0m:\u001b[36m_save_figure_png\u001b[0m:\u001b[36m199\u001b[0m - \u001b[32m\u001b[1mSuccessfully saved PNG to data/figs/imgs/trec-covid_nnlinear_mse_withoutlog_validation.png\u001b[0m\n",
      "\u001b[32m2024-12-11 19:50:31.907\u001b[0m | \u001b[1mINFO    \u001b[0m | \u001b[36m__main__\u001b[0m:\u001b[36m_save_figure_html\u001b[0m:\u001b[36m156\u001b[0m - \u001b[1mSaving HTML figure to data/figs/html/trec-covid_nnlinear_mae_withoutlog_validation.html\u001b[0m\n",
      "\u001b[32m2024-12-11 19:50:31.911\u001b[0m | \u001b[32m\u001b[1mSUCCESS \u001b[0m | \u001b[36m__main__\u001b[0m:\u001b[36m_save_figure_html\u001b[0m:\u001b[36m164\u001b[0m - \u001b[32m\u001b[1mSuccessfully saved HTML to data/figs/html/trec-covid_nnlinear_mae_withoutlog_validation.html\u001b[0m\n",
      "\u001b[32m2024-12-11 19:50:31.911\u001b[0m | \u001b[1mINFO    \u001b[0m | \u001b[36m__main__\u001b[0m:\u001b[36m_save_figure_png\u001b[0m:\u001b[36m190\u001b[0m - \u001b[1mSaving PNG figure to data/figs/imgs/trec-covid_nnlinear_mae_withoutlog_validation.png\u001b[0m\n",
      "\u001b[32m2024-12-11 19:50:32.255\u001b[0m | \u001b[32m\u001b[1mSUCCESS \u001b[0m | \u001b[36m__main__\u001b[0m:\u001b[36m_save_figure_png\u001b[0m:\u001b[36m199\u001b[0m - \u001b[32m\u001b[1mSuccessfully saved PNG to data/figs/imgs/trec-covid_nnlinear_mae_withoutlog_validation.png\u001b[0m\n",
      "\u001b[32m2024-12-11 19:50:32.257\u001b[0m | \u001b[1mINFO    \u001b[0m | \u001b[36m__main__\u001b[0m:\u001b[36m_save_figure_html\u001b[0m:\u001b[36m156\u001b[0m - \u001b[1mSaving HTML figure to data/figs/html/trec-covid_nnlinear_mse_withlog_validation.html\u001b[0m\n",
      "\u001b[32m2024-12-11 19:50:32.261\u001b[0m | \u001b[32m\u001b[1mSUCCESS \u001b[0m | \u001b[36m__main__\u001b[0m:\u001b[36m_save_figure_html\u001b[0m:\u001b[36m164\u001b[0m - \u001b[32m\u001b[1mSuccessfully saved HTML to data/figs/html/trec-covid_nnlinear_mse_withlog_validation.html\u001b[0m\n",
      "\u001b[32m2024-12-11 19:50:32.262\u001b[0m | \u001b[1mINFO    \u001b[0m | \u001b[36m__main__\u001b[0m:\u001b[36m_save_figure_png\u001b[0m:\u001b[36m190\u001b[0m - \u001b[1mSaving PNG figure to data/figs/imgs/trec-covid_nnlinear_mse_withlog_validation.png\u001b[0m\n",
      "\u001b[32m2024-12-11 19:50:32.615\u001b[0m | \u001b[32m\u001b[1mSUCCESS \u001b[0m | \u001b[36m__main__\u001b[0m:\u001b[36m_save_figure_png\u001b[0m:\u001b[36m199\u001b[0m - \u001b[32m\u001b[1mSuccessfully saved PNG to data/figs/imgs/trec-covid_nnlinear_mse_withlog_validation.png\u001b[0m\n",
      "\u001b[32m2024-12-11 19:50:32.617\u001b[0m | \u001b[1mINFO    \u001b[0m | \u001b[36m__main__\u001b[0m:\u001b[36m_save_figure_html\u001b[0m:\u001b[36m156\u001b[0m - \u001b[1mSaving HTML figure to data/figs/html/trec-covid_nnlinear_mae_withlog_validation.html\u001b[0m\n",
      "\u001b[32m2024-12-11 19:50:32.620\u001b[0m | \u001b[32m\u001b[1mSUCCESS \u001b[0m | \u001b[36m__main__\u001b[0m:\u001b[36m_save_figure_html\u001b[0m:\u001b[36m164\u001b[0m - \u001b[32m\u001b[1mSuccessfully saved HTML to data/figs/html/trec-covid_nnlinear_mae_withlog_validation.html\u001b[0m\n",
      "\u001b[32m2024-12-11 19:50:32.621\u001b[0m | \u001b[1mINFO    \u001b[0m | \u001b[36m__main__\u001b[0m:\u001b[36m_save_figure_png\u001b[0m:\u001b[36m190\u001b[0m - \u001b[1mSaving PNG figure to data/figs/imgs/trec-covid_nnlinear_mae_withlog_validation.png\u001b[0m\n",
      "\u001b[32m2024-12-11 19:50:32.942\u001b[0m | \u001b[32m\u001b[1mSUCCESS \u001b[0m | \u001b[36m__main__\u001b[0m:\u001b[36m_save_figure_png\u001b[0m:\u001b[36m199\u001b[0m - \u001b[32m\u001b[1mSuccessfully saved PNG to data/figs/imgs/trec-covid_nnlinear_mae_withlog_validation.png\u001b[0m\n",
      "100%|██████████| 6/6 [00:08<00:00,  1.36s/it]"
     ]
    },
    {
     "name": "stdout",
     "output_type": "stream",
     "text": [
      "Done\n"
     ]
    },
    {
     "name": "stderr",
     "output_type": "stream",
     "text": [
      "\n"
     ]
    }
   ],
   "source": [
    "# Path.cwd() # [DEBUG] -> in commands\n",
    "# plot without log\n",
    "import shutil\n",
    "plots_folder = Path.cwd().parent / \"plots\"\n",
    "CLEAR_PREVIOUS_PLOTS = True\n",
    "if CLEAR_PREVIOUS_PLOTS and plots_folder.exists():\n",
    "    shutil.rmtree(plots_folder)\n",
    "plots_folder.mkdir(parents=True, exist_ok=True)\n",
    "DISPLAY = True\n",
    "for dataset_name in tqdm.tqdm(DATASETS):\n",
    "    # _ = visualize_plt_heatmap(\n",
    "    #     dataset_name,\n",
    "    #     nnlinear_dataset2table_validation_mse[dataset_name],\n",
    "    #     nnlinear_dataset2table_validation_mae[dataset_name],\n",
    "    #     use_log_plot=False,\n",
    "    #     save_path=plots_folder / f\"{dataset_name}_nnlinear_msemae_withoutlog.png\", # _ seperates\n",
    "    #     show_plot=DISPLAY\n",
    "    # )\n",
    "    fig_mse_withoutlog = gatlen_default_heatmap_plot(nnlinear_idx2model, dataset_name, \"nnlinear\", nnlinear_dataset2table_validation_mse[dataset_name], do_log=False)\n",
    "    fig_mae_withoutlog = gatlen_default_heatmap_plot(nnlinear_idx2model, dataset_name, \"nnlinear\", nnlinear_dataset2table_validation_mae[dataset_name], do_log=False)\n",
    "    fig_mse_withlog = gatlen_default_heatmap_plot(nnlinear_idx2model, dataset_name, \"nnlinear\", nnlinear_dataset2table_validation_mse[dataset_name], do_log=True)\n",
    "    fig_mae_withlog = gatlen_default_heatmap_plot(nnlinear_idx2model, dataset_name, \"nnlinear\", nnlinear_dataset2table_validation_mae[dataset_name], do_log=True)\n",
    "    save_figure(fig_mse_withoutlog, f\"{dataset_name}_nnlinear_mse_withoutlog_validation\")\n",
    "    save_figure(fig_mae_withoutlog, f\"{dataset_name}_nnlinear_mae_withoutlog_validation\")\n",
    "    save_figure(fig_mse_withlog, f\"{dataset_name}_nnlinear_mse_withlog_validation\")\n",
    "    save_figure(fig_mae_withlog, f\"{dataset_name}_nnlinear_mae_withlog_validation\")\n",
    "print(\"Done\")"
   ]
  },
  {
   "cell_type": "code",
   "execution_count": 24,
   "metadata": {},
   "outputs": [],
   "source": [
    "# # plot with log\n",
    "# DISPLAY = False\n",
    "# for dataset_name in tqdm.tqdm(DATASETS):\n",
    "#     _ = visualize_plt_heatmap(\n",
    "#         dataset_name,\n",
    "#         nnlinear_dataset2table_validation_mse[dataset_name],\n",
    "#         nnlinear_dataset2table_validation_mae[dataset_name],\n",
    "#         use_log_plot=True,\n",
    "#         save_path=plots_folder / f\"{dataset_name}_nnlinear_msemae_withlog.png\", # _ seperates\n",
    "#         show_plot=DISPLAY\n",
    "#     )\n",
    "# print(\"Done\")\n"
   ]
  },
  {
   "cell_type": "code",
   "execution_count": 25,
   "metadata": {},
   "outputs": [
    {
     "name": "stderr",
     "output_type": "stream",
     "text": [
      "100%|██████████| 1632/1632 [00:00<00:00, 2300.47it/s]\n",
      "100%|██████████| 1632/1632 [00:00<00:00, 2322.80it/s]\n",
      "100%|██████████| 1632/1632 [00:00<00:00, 780691.62it/s]\n",
      "100%|██████████| 1632/1632 [00:00<00:00, 15352.41it/s]\n",
      "\u001b[32m2024-12-11 19:50:39.481\u001b[0m | \u001b[1mINFO    \u001b[0m | \u001b[36m__main__\u001b[0m:\u001b[36mvisualize_heatmap\u001b[0m:\u001b[36m127\u001b[0m - \u001b[1mStarting heatmap visualization process\u001b[0m\n",
      "\u001b[32m2024-12-11 19:50:39.482\u001b[0m | \u001b[1mINFO    \u001b[0m | \u001b[36m__main__\u001b[0m:\u001b[36m_plot_heatmap\u001b[0m:\u001b[36m52\u001b[0m - \u001b[1mCreating heatmap visualization...\u001b[0m\n",
      "\u001b[32m2024-12-11 19:50:39.487\u001b[0m | \u001b[32m\u001b[1mSUCCESS \u001b[0m | \u001b[36m__main__\u001b[0m:\u001b[36m_plot_heatmap\u001b[0m:\u001b[36m101\u001b[0m - \u001b[32m\u001b[1mHeatmap created successfully\u001b[0m\n",
      "\u001b[32m2024-12-11 19:50:39.488\u001b[0m | \u001b[1mINFO    \u001b[0m | \u001b[36m__main__\u001b[0m:\u001b[36mvisualize_heatmap\u001b[0m:\u001b[36m127\u001b[0m - \u001b[1mStarting heatmap visualization process\u001b[0m\n",
      "\u001b[32m2024-12-11 19:50:39.489\u001b[0m | \u001b[1mINFO    \u001b[0m | \u001b[36m__main__\u001b[0m:\u001b[36m_plot_heatmap\u001b[0m:\u001b[36m52\u001b[0m - \u001b[1mCreating heatmap visualization...\u001b[0m\n",
      "\u001b[32m2024-12-11 19:50:39.496\u001b[0m | \u001b[32m\u001b[1mSUCCESS \u001b[0m | \u001b[36m__main__\u001b[0m:\u001b[36m_plot_heatmap\u001b[0m:\u001b[36m101\u001b[0m - \u001b[32m\u001b[1mHeatmap created successfully\u001b[0m\n",
      "\u001b[32m2024-12-11 19:50:39.497\u001b[0m | \u001b[1mINFO    \u001b[0m | \u001b[36m__main__\u001b[0m:\u001b[36mvisualize_heatmap\u001b[0m:\u001b[36m127\u001b[0m - \u001b[1mStarting heatmap visualization process\u001b[0m\n",
      "\u001b[32m2024-12-11 19:50:39.498\u001b[0m | \u001b[1mINFO    \u001b[0m | \u001b[36m__main__\u001b[0m:\u001b[36m_plot_heatmap\u001b[0m:\u001b[36m52\u001b[0m - \u001b[1mCreating heatmap visualization...\u001b[0m\n",
      "\u001b[32m2024-12-11 19:50:39.503\u001b[0m | \u001b[32m\u001b[1mSUCCESS \u001b[0m | \u001b[36m__main__\u001b[0m:\u001b[36m_plot_heatmap\u001b[0m:\u001b[36m101\u001b[0m - \u001b[32m\u001b[1mHeatmap created successfully\u001b[0m\n",
      "\u001b[32m2024-12-11 19:50:39.504\u001b[0m | \u001b[1mINFO    \u001b[0m | \u001b[36m__main__\u001b[0m:\u001b[36mvisualize_heatmap\u001b[0m:\u001b[36m127\u001b[0m - \u001b[1mStarting heatmap visualization process\u001b[0m\n",
      "\u001b[32m2024-12-11 19:50:39.504\u001b[0m | \u001b[1mINFO    \u001b[0m | \u001b[36m__main__\u001b[0m:\u001b[36m_plot_heatmap\u001b[0m:\u001b[36m52\u001b[0m - \u001b[1mCreating heatmap visualization...\u001b[0m\n",
      "\u001b[32m2024-12-11 19:50:39.508\u001b[0m | \u001b[32m\u001b[1mSUCCESS \u001b[0m | \u001b[36m__main__\u001b[0m:\u001b[36m_plot_heatmap\u001b[0m:\u001b[36m101\u001b[0m - \u001b[32m\u001b[1mHeatmap created successfully\u001b[0m\n",
      "\u001b[32m2024-12-11 19:50:39.510\u001b[0m | \u001b[1mINFO    \u001b[0m | \u001b[36m__main__\u001b[0m:\u001b[36m_save_figure_html\u001b[0m:\u001b[36m156\u001b[0m - \u001b[1mSaving HTML figure to data/figs/html/arguana_olsaffine_mse_withoutlog_validation.html\u001b[0m\n",
      "\u001b[32m2024-12-11 19:50:39.514\u001b[0m | \u001b[32m\u001b[1mSUCCESS \u001b[0m | \u001b[36m__main__\u001b[0m:\u001b[36m_save_figure_html\u001b[0m:\u001b[36m164\u001b[0m - \u001b[32m\u001b[1mSuccessfully saved HTML to data/figs/html/arguana_olsaffine_mse_withoutlog_validation.html\u001b[0m\n",
      "\u001b[32m2024-12-11 19:50:39.515\u001b[0m | \u001b[1mINFO    \u001b[0m | \u001b[36m__main__\u001b[0m:\u001b[36m_save_figure_png\u001b[0m:\u001b[36m190\u001b[0m - \u001b[1mSaving PNG figure to data/figs/imgs/arguana_olsaffine_mse_withoutlog_validation.png\u001b[0m\n",
      "\u001b[32m2024-12-11 19:50:39.874\u001b[0m | \u001b[32m\u001b[1mSUCCESS \u001b[0m | \u001b[36m__main__\u001b[0m:\u001b[36m_save_figure_png\u001b[0m:\u001b[36m199\u001b[0m - \u001b[32m\u001b[1mSuccessfully saved PNG to data/figs/imgs/arguana_olsaffine_mse_withoutlog_validation.png\u001b[0m\n",
      "\u001b[32m2024-12-11 19:50:39.876\u001b[0m | \u001b[1mINFO    \u001b[0m | \u001b[36m__main__\u001b[0m:\u001b[36m_save_figure_html\u001b[0m:\u001b[36m156\u001b[0m - \u001b[1mSaving HTML figure to data/figs/html/arguana_olsaffine_mae_withoutlog_validation.html\u001b[0m\n",
      "\u001b[32m2024-12-11 19:50:39.880\u001b[0m | \u001b[32m\u001b[1mSUCCESS \u001b[0m | \u001b[36m__main__\u001b[0m:\u001b[36m_save_figure_html\u001b[0m:\u001b[36m164\u001b[0m - \u001b[32m\u001b[1mSuccessfully saved HTML to data/figs/html/arguana_olsaffine_mae_withoutlog_validation.html\u001b[0m\n",
      "\u001b[32m2024-12-11 19:50:39.881\u001b[0m | \u001b[1mINFO    \u001b[0m | \u001b[36m__main__\u001b[0m:\u001b[36m_save_figure_png\u001b[0m:\u001b[36m190\u001b[0m - \u001b[1mSaving PNG figure to data/figs/imgs/arguana_olsaffine_mae_withoutlog_validation.png\u001b[0m\n",
      "\u001b[32m2024-12-11 19:50:40.204\u001b[0m | \u001b[32m\u001b[1mSUCCESS \u001b[0m | \u001b[36m__main__\u001b[0m:\u001b[36m_save_figure_png\u001b[0m:\u001b[36m199\u001b[0m - \u001b[32m\u001b[1mSuccessfully saved PNG to data/figs/imgs/arguana_olsaffine_mae_withoutlog_validation.png\u001b[0m\n",
      "\u001b[32m2024-12-11 19:50:40.206\u001b[0m | \u001b[1mINFO    \u001b[0m | \u001b[36m__main__\u001b[0m:\u001b[36m_save_figure_html\u001b[0m:\u001b[36m156\u001b[0m - \u001b[1mSaving HTML figure to data/figs/html/arguana_olsaffine_mse_withlog_validation.html\u001b[0m\n",
      "\u001b[32m2024-12-11 19:50:40.212\u001b[0m | \u001b[32m\u001b[1mSUCCESS \u001b[0m | \u001b[36m__main__\u001b[0m:\u001b[36m_save_figure_html\u001b[0m:\u001b[36m164\u001b[0m - \u001b[32m\u001b[1mSuccessfully saved HTML to data/figs/html/arguana_olsaffine_mse_withlog_validation.html\u001b[0m\n",
      "\u001b[32m2024-12-11 19:50:40.212\u001b[0m | \u001b[1mINFO    \u001b[0m | \u001b[36m__main__\u001b[0m:\u001b[36m_save_figure_png\u001b[0m:\u001b[36m190\u001b[0m - \u001b[1mSaving PNG figure to data/figs/imgs/arguana_olsaffine_mse_withlog_validation.png\u001b[0m\n",
      "\u001b[32m2024-12-11 19:50:40.517\u001b[0m | \u001b[32m\u001b[1mSUCCESS \u001b[0m | \u001b[36m__main__\u001b[0m:\u001b[36m_save_figure_png\u001b[0m:\u001b[36m199\u001b[0m - \u001b[32m\u001b[1mSuccessfully saved PNG to data/figs/imgs/arguana_olsaffine_mse_withlog_validation.png\u001b[0m\n",
      "\u001b[32m2024-12-11 19:50:40.519\u001b[0m | \u001b[1mINFO    \u001b[0m | \u001b[36m__main__\u001b[0m:\u001b[36m_save_figure_html\u001b[0m:\u001b[36m156\u001b[0m - \u001b[1mSaving HTML figure to data/figs/html/arguana_olsaffine_mae_withlog_validation.html\u001b[0m\n",
      "\u001b[32m2024-12-11 19:50:40.531\u001b[0m | \u001b[32m\u001b[1mSUCCESS \u001b[0m | \u001b[36m__main__\u001b[0m:\u001b[36m_save_figure_html\u001b[0m:\u001b[36m164\u001b[0m - \u001b[32m\u001b[1mSuccessfully saved HTML to data/figs/html/arguana_olsaffine_mae_withlog_validation.html\u001b[0m\n",
      "\u001b[32m2024-12-11 19:50:40.531\u001b[0m | \u001b[1mINFO    \u001b[0m | \u001b[36m__main__\u001b[0m:\u001b[36m_save_figure_png\u001b[0m:\u001b[36m190\u001b[0m - \u001b[1mSaving PNG figure to data/figs/imgs/arguana_olsaffine_mae_withlog_validation.png\u001b[0m\n",
      "\u001b[32m2024-12-11 19:50:40.851\u001b[0m | \u001b[32m\u001b[1mSUCCESS \u001b[0m | \u001b[36m__main__\u001b[0m:\u001b[36m_save_figure_png\u001b[0m:\u001b[36m199\u001b[0m - \u001b[32m\u001b[1mSuccessfully saved PNG to data/figs/imgs/arguana_olsaffine_mae_withlog_validation.png\u001b[0m\n",
      "\u001b[32m2024-12-11 19:50:40.851\u001b[0m | \u001b[1mINFO    \u001b[0m | \u001b[36m__main__\u001b[0m:\u001b[36mvisualize_heatmap\u001b[0m:\u001b[36m127\u001b[0m - \u001b[1mStarting heatmap visualization process\u001b[0m\n",
      "\u001b[32m2024-12-11 19:50:40.852\u001b[0m | \u001b[1mINFO    \u001b[0m | \u001b[36m__main__\u001b[0m:\u001b[36m_plot_heatmap\u001b[0m:\u001b[36m52\u001b[0m - \u001b[1mCreating heatmap visualization...\u001b[0m\n",
      "\u001b[32m2024-12-11 19:50:40.862\u001b[0m | \u001b[32m\u001b[1mSUCCESS \u001b[0m | \u001b[36m__main__\u001b[0m:\u001b[36m_plot_heatmap\u001b[0m:\u001b[36m101\u001b[0m - \u001b[32m\u001b[1mHeatmap created successfully\u001b[0m\n",
      "\u001b[32m2024-12-11 19:50:40.863\u001b[0m | \u001b[1mINFO    \u001b[0m | \u001b[36m__main__\u001b[0m:\u001b[36mvisualize_heatmap\u001b[0m:\u001b[36m127\u001b[0m - \u001b[1mStarting heatmap visualization process\u001b[0m\n",
      "\u001b[32m2024-12-11 19:50:40.863\u001b[0m | \u001b[1mINFO    \u001b[0m | \u001b[36m__main__\u001b[0m:\u001b[36m_plot_heatmap\u001b[0m:\u001b[36m52\u001b[0m - \u001b[1mCreating heatmap visualization...\u001b[0m\n",
      "\u001b[32m2024-12-11 19:50:40.872\u001b[0m | \u001b[32m\u001b[1mSUCCESS \u001b[0m | \u001b[36m__main__\u001b[0m:\u001b[36m_plot_heatmap\u001b[0m:\u001b[36m101\u001b[0m - \u001b[32m\u001b[1mHeatmap created successfully\u001b[0m\n",
      "\u001b[32m2024-12-11 19:50:40.874\u001b[0m | \u001b[1mINFO    \u001b[0m | \u001b[36m__main__\u001b[0m:\u001b[36mvisualize_heatmap\u001b[0m:\u001b[36m127\u001b[0m - \u001b[1mStarting heatmap visualization process\u001b[0m\n",
      "\u001b[32m2024-12-11 19:50:40.874\u001b[0m | \u001b[1mINFO    \u001b[0m | \u001b[36m__main__\u001b[0m:\u001b[36m_plot_heatmap\u001b[0m:\u001b[36m52\u001b[0m - \u001b[1mCreating heatmap visualization...\u001b[0m\n",
      "\u001b[32m2024-12-11 19:50:40.883\u001b[0m | \u001b[32m\u001b[1mSUCCESS \u001b[0m | \u001b[36m__main__\u001b[0m:\u001b[36m_plot_heatmap\u001b[0m:\u001b[36m101\u001b[0m - \u001b[32m\u001b[1mHeatmap created successfully\u001b[0m\n",
      "\u001b[32m2024-12-11 19:50:40.884\u001b[0m | \u001b[1mINFO    \u001b[0m | \u001b[36m__main__\u001b[0m:\u001b[36mvisualize_heatmap\u001b[0m:\u001b[36m127\u001b[0m - \u001b[1mStarting heatmap visualization process\u001b[0m\n",
      "\u001b[32m2024-12-11 19:50:40.885\u001b[0m | \u001b[1mINFO    \u001b[0m | \u001b[36m__main__\u001b[0m:\u001b[36m_plot_heatmap\u001b[0m:\u001b[36m52\u001b[0m - \u001b[1mCreating heatmap visualization...\u001b[0m\n",
      "\u001b[32m2024-12-11 19:50:40.894\u001b[0m | \u001b[32m\u001b[1mSUCCESS \u001b[0m | \u001b[36m__main__\u001b[0m:\u001b[36m_plot_heatmap\u001b[0m:\u001b[36m101\u001b[0m - \u001b[32m\u001b[1mHeatmap created successfully\u001b[0m\n",
      "\u001b[32m2024-12-11 19:50:40.896\u001b[0m | \u001b[1mINFO    \u001b[0m | \u001b[36m__main__\u001b[0m:\u001b[36m_save_figure_html\u001b[0m:\u001b[36m156\u001b[0m - \u001b[1mSaving HTML figure to data/figs/html/fiqa_olsaffine_mse_withoutlog_validation.html\u001b[0m\n",
      "\u001b[32m2024-12-11 19:50:40.900\u001b[0m | \u001b[32m\u001b[1mSUCCESS \u001b[0m | \u001b[36m__main__\u001b[0m:\u001b[36m_save_figure_html\u001b[0m:\u001b[36m164\u001b[0m - \u001b[32m\u001b[1mSuccessfully saved HTML to data/figs/html/fiqa_olsaffine_mse_withoutlog_validation.html\u001b[0m\n",
      "\u001b[32m2024-12-11 19:50:40.901\u001b[0m | \u001b[1mINFO    \u001b[0m | \u001b[36m__main__\u001b[0m:\u001b[36m_save_figure_png\u001b[0m:\u001b[36m190\u001b[0m - \u001b[1mSaving PNG figure to data/figs/imgs/fiqa_olsaffine_mse_withoutlog_validation.png\u001b[0m\n",
      "\u001b[32m2024-12-11 19:50:41.215\u001b[0m | \u001b[32m\u001b[1mSUCCESS \u001b[0m | \u001b[36m__main__\u001b[0m:\u001b[36m_save_figure_png\u001b[0m:\u001b[36m199\u001b[0m - \u001b[32m\u001b[1mSuccessfully saved PNG to data/figs/imgs/fiqa_olsaffine_mse_withoutlog_validation.png\u001b[0m\n",
      "\u001b[32m2024-12-11 19:50:41.217\u001b[0m | \u001b[1mINFO    \u001b[0m | \u001b[36m__main__\u001b[0m:\u001b[36m_save_figure_html\u001b[0m:\u001b[36m156\u001b[0m - \u001b[1mSaving HTML figure to data/figs/html/fiqa_olsaffine_mae_withoutlog_validation.html\u001b[0m\n",
      "\u001b[32m2024-12-11 19:50:41.229\u001b[0m | \u001b[32m\u001b[1mSUCCESS \u001b[0m | \u001b[36m__main__\u001b[0m:\u001b[36m_save_figure_html\u001b[0m:\u001b[36m164\u001b[0m - \u001b[32m\u001b[1mSuccessfully saved HTML to data/figs/html/fiqa_olsaffine_mae_withoutlog_validation.html\u001b[0m\n",
      "\u001b[32m2024-12-11 19:50:41.230\u001b[0m | \u001b[1mINFO    \u001b[0m | \u001b[36m__main__\u001b[0m:\u001b[36m_save_figure_png\u001b[0m:\u001b[36m190\u001b[0m - \u001b[1mSaving PNG figure to data/figs/imgs/fiqa_olsaffine_mae_withoutlog_validation.png\u001b[0m\n",
      "\u001b[32m2024-12-11 19:50:41.605\u001b[0m | \u001b[32m\u001b[1mSUCCESS \u001b[0m | \u001b[36m__main__\u001b[0m:\u001b[36m_save_figure_png\u001b[0m:\u001b[36m199\u001b[0m - \u001b[32m\u001b[1mSuccessfully saved PNG to data/figs/imgs/fiqa_olsaffine_mae_withoutlog_validation.png\u001b[0m\n",
      "\u001b[32m2024-12-11 19:50:41.607\u001b[0m | \u001b[1mINFO    \u001b[0m | \u001b[36m__main__\u001b[0m:\u001b[36m_save_figure_html\u001b[0m:\u001b[36m156\u001b[0m - \u001b[1mSaving HTML figure to data/figs/html/fiqa_olsaffine_mse_withlog_validation.html\u001b[0m\n",
      "\u001b[32m2024-12-11 19:50:41.612\u001b[0m | \u001b[32m\u001b[1mSUCCESS \u001b[0m | \u001b[36m__main__\u001b[0m:\u001b[36m_save_figure_html\u001b[0m:\u001b[36m164\u001b[0m - \u001b[32m\u001b[1mSuccessfully saved HTML to data/figs/html/fiqa_olsaffine_mse_withlog_validation.html\u001b[0m\n",
      "\u001b[32m2024-12-11 19:50:41.613\u001b[0m | \u001b[1mINFO    \u001b[0m | \u001b[36m__main__\u001b[0m:\u001b[36m_save_figure_png\u001b[0m:\u001b[36m190\u001b[0m - \u001b[1mSaving PNG figure to data/figs/imgs/fiqa_olsaffine_mse_withlog_validation.png\u001b[0m\n",
      "\u001b[32m2024-12-11 19:50:41.944\u001b[0m | \u001b[32m\u001b[1mSUCCESS \u001b[0m | \u001b[36m__main__\u001b[0m:\u001b[36m_save_figure_png\u001b[0m:\u001b[36m199\u001b[0m - \u001b[32m\u001b[1mSuccessfully saved PNG to data/figs/imgs/fiqa_olsaffine_mse_withlog_validation.png\u001b[0m\n",
      "\u001b[32m2024-12-11 19:50:41.946\u001b[0m | \u001b[1mINFO    \u001b[0m | \u001b[36m__main__\u001b[0m:\u001b[36m_save_figure_html\u001b[0m:\u001b[36m156\u001b[0m - \u001b[1mSaving HTML figure to data/figs/html/fiqa_olsaffine_mae_withlog_validation.html\u001b[0m\n",
      "\u001b[32m2024-12-11 19:50:41.952\u001b[0m | \u001b[32m\u001b[1mSUCCESS \u001b[0m | \u001b[36m__main__\u001b[0m:\u001b[36m_save_figure_html\u001b[0m:\u001b[36m164\u001b[0m - \u001b[32m\u001b[1mSuccessfully saved HTML to data/figs/html/fiqa_olsaffine_mae_withlog_validation.html\u001b[0m\n",
      "\u001b[32m2024-12-11 19:50:41.952\u001b[0m | \u001b[1mINFO    \u001b[0m | \u001b[36m__main__\u001b[0m:\u001b[36m_save_figure_png\u001b[0m:\u001b[36m190\u001b[0m - \u001b[1mSaving PNG figure to data/figs/imgs/fiqa_olsaffine_mae_withlog_validation.png\u001b[0m\n",
      "\u001b[32m2024-12-11 19:50:42.258\u001b[0m | \u001b[32m\u001b[1mSUCCESS \u001b[0m | \u001b[36m__main__\u001b[0m:\u001b[36m_save_figure_png\u001b[0m:\u001b[36m199\u001b[0m - \u001b[32m\u001b[1mSuccessfully saved PNG to data/figs/imgs/fiqa_olsaffine_mae_withlog_validation.png\u001b[0m\n",
      "\u001b[32m2024-12-11 19:50:42.259\u001b[0m | \u001b[1mINFO    \u001b[0m | \u001b[36m__main__\u001b[0m:\u001b[36mvisualize_heatmap\u001b[0m:\u001b[36m127\u001b[0m - \u001b[1mStarting heatmap visualization process\u001b[0m\n",
      "\u001b[32m2024-12-11 19:50:42.260\u001b[0m | \u001b[1mINFO    \u001b[0m | \u001b[36m__main__\u001b[0m:\u001b[36m_plot_heatmap\u001b[0m:\u001b[36m52\u001b[0m - \u001b[1mCreating heatmap visualization...\u001b[0m\n",
      "\u001b[32m2024-12-11 19:50:42.264\u001b[0m | \u001b[32m\u001b[1mSUCCESS \u001b[0m | \u001b[36m__main__\u001b[0m:\u001b[36m_plot_heatmap\u001b[0m:\u001b[36m101\u001b[0m - \u001b[32m\u001b[1mHeatmap created successfully\u001b[0m\n",
      "\u001b[32m2024-12-11 19:50:42.265\u001b[0m | \u001b[1mINFO    \u001b[0m | \u001b[36m__main__\u001b[0m:\u001b[36mvisualize_heatmap\u001b[0m:\u001b[36m127\u001b[0m - \u001b[1mStarting heatmap visualization process\u001b[0m\n",
      "\u001b[32m2024-12-11 19:50:42.266\u001b[0m | \u001b[1mINFO    \u001b[0m | \u001b[36m__main__\u001b[0m:\u001b[36m_plot_heatmap\u001b[0m:\u001b[36m52\u001b[0m - \u001b[1mCreating heatmap visualization...\u001b[0m\n",
      "\u001b[32m2024-12-11 19:50:42.270\u001b[0m | \u001b[32m\u001b[1mSUCCESS \u001b[0m | \u001b[36m__main__\u001b[0m:\u001b[36m_plot_heatmap\u001b[0m:\u001b[36m101\u001b[0m - \u001b[32m\u001b[1mHeatmap created successfully\u001b[0m\n",
      "\u001b[32m2024-12-11 19:50:42.272\u001b[0m | \u001b[1mINFO    \u001b[0m | \u001b[36m__main__\u001b[0m:\u001b[36mvisualize_heatmap\u001b[0m:\u001b[36m127\u001b[0m - \u001b[1mStarting heatmap visualization process\u001b[0m\n",
      "\u001b[32m2024-12-11 19:50:42.272\u001b[0m | \u001b[1mINFO    \u001b[0m | \u001b[36m__main__\u001b[0m:\u001b[36m_plot_heatmap\u001b[0m:\u001b[36m52\u001b[0m - \u001b[1mCreating heatmap visualization...\u001b[0m\n",
      "\u001b[32m2024-12-11 19:50:42.276\u001b[0m | \u001b[32m\u001b[1mSUCCESS \u001b[0m | \u001b[36m__main__\u001b[0m:\u001b[36m_plot_heatmap\u001b[0m:\u001b[36m101\u001b[0m - \u001b[32m\u001b[1mHeatmap created successfully\u001b[0m\n",
      "\u001b[32m2024-12-11 19:50:42.277\u001b[0m | \u001b[1mINFO    \u001b[0m | \u001b[36m__main__\u001b[0m:\u001b[36mvisualize_heatmap\u001b[0m:\u001b[36m127\u001b[0m - \u001b[1mStarting heatmap visualization process\u001b[0m\n",
      "\u001b[32m2024-12-11 19:50:42.278\u001b[0m | \u001b[1mINFO    \u001b[0m | \u001b[36m__main__\u001b[0m:\u001b[36m_plot_heatmap\u001b[0m:\u001b[36m52\u001b[0m - \u001b[1mCreating heatmap visualization...\u001b[0m\n",
      "\u001b[32m2024-12-11 19:50:42.282\u001b[0m | \u001b[32m\u001b[1mSUCCESS \u001b[0m | \u001b[36m__main__\u001b[0m:\u001b[36m_plot_heatmap\u001b[0m:\u001b[36m101\u001b[0m - \u001b[32m\u001b[1mHeatmap created successfully\u001b[0m\n",
      "\u001b[32m2024-12-11 19:50:42.283\u001b[0m | \u001b[1mINFO    \u001b[0m | \u001b[36m__main__\u001b[0m:\u001b[36m_save_figure_html\u001b[0m:\u001b[36m156\u001b[0m - \u001b[1mSaving HTML figure to data/figs/html/scidocs_olsaffine_mse_withoutlog_validation.html\u001b[0m\n",
      "\u001b[32m2024-12-11 19:50:42.287\u001b[0m | \u001b[32m\u001b[1mSUCCESS \u001b[0m | \u001b[36m__main__\u001b[0m:\u001b[36m_save_figure_html\u001b[0m:\u001b[36m164\u001b[0m - \u001b[32m\u001b[1mSuccessfully saved HTML to data/figs/html/scidocs_olsaffine_mse_withoutlog_validation.html\u001b[0m\n",
      "\u001b[32m2024-12-11 19:50:42.288\u001b[0m | \u001b[1mINFO    \u001b[0m | \u001b[36m__main__\u001b[0m:\u001b[36m_save_figure_png\u001b[0m:\u001b[36m190\u001b[0m - \u001b[1mSaving PNG figure to data/figs/imgs/scidocs_olsaffine_mse_withoutlog_validation.png\u001b[0m\n",
      "\u001b[32m2024-12-11 19:50:42.592\u001b[0m | \u001b[32m\u001b[1mSUCCESS \u001b[0m | \u001b[36m__main__\u001b[0m:\u001b[36m_save_figure_png\u001b[0m:\u001b[36m199\u001b[0m - \u001b[32m\u001b[1mSuccessfully saved PNG to data/figs/imgs/scidocs_olsaffine_mse_withoutlog_validation.png\u001b[0m\n",
      "\u001b[32m2024-12-11 19:50:42.594\u001b[0m | \u001b[1mINFO    \u001b[0m | \u001b[36m__main__\u001b[0m:\u001b[36m_save_figure_html\u001b[0m:\u001b[36m156\u001b[0m - \u001b[1mSaving HTML figure to data/figs/html/scidocs_olsaffine_mae_withoutlog_validation.html\u001b[0m\n",
      "\u001b[32m2024-12-11 19:50:42.598\u001b[0m | \u001b[32m\u001b[1mSUCCESS \u001b[0m | \u001b[36m__main__\u001b[0m:\u001b[36m_save_figure_html\u001b[0m:\u001b[36m164\u001b[0m - \u001b[32m\u001b[1mSuccessfully saved HTML to data/figs/html/scidocs_olsaffine_mae_withoutlog_validation.html\u001b[0m\n",
      "\u001b[32m2024-12-11 19:50:42.598\u001b[0m | \u001b[1mINFO    \u001b[0m | \u001b[36m__main__\u001b[0m:\u001b[36m_save_figure_png\u001b[0m:\u001b[36m190\u001b[0m - \u001b[1mSaving PNG figure to data/figs/imgs/scidocs_olsaffine_mae_withoutlog_validation.png\u001b[0m\n",
      "\u001b[32m2024-12-11 19:50:42.967\u001b[0m | \u001b[32m\u001b[1mSUCCESS \u001b[0m | \u001b[36m__main__\u001b[0m:\u001b[36m_save_figure_png\u001b[0m:\u001b[36m199\u001b[0m - \u001b[32m\u001b[1mSuccessfully saved PNG to data/figs/imgs/scidocs_olsaffine_mae_withoutlog_validation.png\u001b[0m\n",
      "\u001b[32m2024-12-11 19:50:42.969\u001b[0m | \u001b[1mINFO    \u001b[0m | \u001b[36m__main__\u001b[0m:\u001b[36m_save_figure_html\u001b[0m:\u001b[36m156\u001b[0m - \u001b[1mSaving HTML figure to data/figs/html/scidocs_olsaffine_mse_withlog_validation.html\u001b[0m\n",
      "\u001b[32m2024-12-11 19:50:42.972\u001b[0m | \u001b[32m\u001b[1mSUCCESS \u001b[0m | \u001b[36m__main__\u001b[0m:\u001b[36m_save_figure_html\u001b[0m:\u001b[36m164\u001b[0m - \u001b[32m\u001b[1mSuccessfully saved HTML to data/figs/html/scidocs_olsaffine_mse_withlog_validation.html\u001b[0m\n",
      "\u001b[32m2024-12-11 19:50:42.973\u001b[0m | \u001b[1mINFO    \u001b[0m | \u001b[36m__main__\u001b[0m:\u001b[36m_save_figure_png\u001b[0m:\u001b[36m190\u001b[0m - \u001b[1mSaving PNG figure to data/figs/imgs/scidocs_olsaffine_mse_withlog_validation.png\u001b[0m\n",
      "\u001b[32m2024-12-11 19:50:43.280\u001b[0m | \u001b[32m\u001b[1mSUCCESS \u001b[0m | \u001b[36m__main__\u001b[0m:\u001b[36m_save_figure_png\u001b[0m:\u001b[36m199\u001b[0m - \u001b[32m\u001b[1mSuccessfully saved PNG to data/figs/imgs/scidocs_olsaffine_mse_withlog_validation.png\u001b[0m\n",
      "\u001b[32m2024-12-11 19:50:43.282\u001b[0m | \u001b[1mINFO    \u001b[0m | \u001b[36m__main__\u001b[0m:\u001b[36m_save_figure_html\u001b[0m:\u001b[36m156\u001b[0m - \u001b[1mSaving HTML figure to data/figs/html/scidocs_olsaffine_mae_withlog_validation.html\u001b[0m\n",
      "\u001b[32m2024-12-11 19:50:43.288\u001b[0m | \u001b[32m\u001b[1mSUCCESS \u001b[0m | \u001b[36m__main__\u001b[0m:\u001b[36m_save_figure_html\u001b[0m:\u001b[36m164\u001b[0m - \u001b[32m\u001b[1mSuccessfully saved HTML to data/figs/html/scidocs_olsaffine_mae_withlog_validation.html\u001b[0m\n",
      "\u001b[32m2024-12-11 19:50:43.288\u001b[0m | \u001b[1mINFO    \u001b[0m | \u001b[36m__main__\u001b[0m:\u001b[36m_save_figure_png\u001b[0m:\u001b[36m190\u001b[0m - \u001b[1mSaving PNG figure to data/figs/imgs/scidocs_olsaffine_mae_withlog_validation.png\u001b[0m\n",
      "\u001b[32m2024-12-11 19:50:43.587\u001b[0m | \u001b[32m\u001b[1mSUCCESS \u001b[0m | \u001b[36m__main__\u001b[0m:\u001b[36m_save_figure_png\u001b[0m:\u001b[36m199\u001b[0m - \u001b[32m\u001b[1mSuccessfully saved PNG to data/figs/imgs/scidocs_olsaffine_mae_withlog_validation.png\u001b[0m\n",
      "\u001b[32m2024-12-11 19:50:43.587\u001b[0m | \u001b[1mINFO    \u001b[0m | \u001b[36m__main__\u001b[0m:\u001b[36mvisualize_heatmap\u001b[0m:\u001b[36m127\u001b[0m - \u001b[1mStarting heatmap visualization process\u001b[0m\n",
      "\u001b[32m2024-12-11 19:50:43.588\u001b[0m | \u001b[1mINFO    \u001b[0m | \u001b[36m__main__\u001b[0m:\u001b[36m_plot_heatmap\u001b[0m:\u001b[36m52\u001b[0m - \u001b[1mCreating heatmap visualization...\u001b[0m\n",
      "\u001b[32m2024-12-11 19:50:43.593\u001b[0m | \u001b[32m\u001b[1mSUCCESS \u001b[0m | \u001b[36m__main__\u001b[0m:\u001b[36m_plot_heatmap\u001b[0m:\u001b[36m101\u001b[0m - \u001b[32m\u001b[1mHeatmap created successfully\u001b[0m\n",
      "\u001b[32m2024-12-11 19:50:43.594\u001b[0m | \u001b[1mINFO    \u001b[0m | \u001b[36m__main__\u001b[0m:\u001b[36mvisualize_heatmap\u001b[0m:\u001b[36m127\u001b[0m - \u001b[1mStarting heatmap visualization process\u001b[0m\n",
      "\u001b[32m2024-12-11 19:50:43.595\u001b[0m | \u001b[1mINFO    \u001b[0m | \u001b[36m__main__\u001b[0m:\u001b[36m_plot_heatmap\u001b[0m:\u001b[36m52\u001b[0m - \u001b[1mCreating heatmap visualization...\u001b[0m\n",
      "\u001b[32m2024-12-11 19:50:43.599\u001b[0m | \u001b[32m\u001b[1mSUCCESS \u001b[0m | \u001b[36m__main__\u001b[0m:\u001b[36m_plot_heatmap\u001b[0m:\u001b[36m101\u001b[0m - \u001b[32m\u001b[1mHeatmap created successfully\u001b[0m\n",
      "\u001b[32m2024-12-11 19:50:43.600\u001b[0m | \u001b[1mINFO    \u001b[0m | \u001b[36m__main__\u001b[0m:\u001b[36mvisualize_heatmap\u001b[0m:\u001b[36m127\u001b[0m - \u001b[1mStarting heatmap visualization process\u001b[0m\n",
      "\u001b[32m2024-12-11 19:50:43.600\u001b[0m | \u001b[1mINFO    \u001b[0m | \u001b[36m__main__\u001b[0m:\u001b[36m_plot_heatmap\u001b[0m:\u001b[36m52\u001b[0m - \u001b[1mCreating heatmap visualization...\u001b[0m\n",
      "\u001b[32m2024-12-11 19:50:43.604\u001b[0m | \u001b[32m\u001b[1mSUCCESS \u001b[0m | \u001b[36m__main__\u001b[0m:\u001b[36m_plot_heatmap\u001b[0m:\u001b[36m101\u001b[0m - \u001b[32m\u001b[1mHeatmap created successfully\u001b[0m\n",
      "\u001b[32m2024-12-11 19:50:43.605\u001b[0m | \u001b[1mINFO    \u001b[0m | \u001b[36m__main__\u001b[0m:\u001b[36mvisualize_heatmap\u001b[0m:\u001b[36m127\u001b[0m - \u001b[1mStarting heatmap visualization process\u001b[0m\n",
      "\u001b[32m2024-12-11 19:50:43.606\u001b[0m | \u001b[1mINFO    \u001b[0m | \u001b[36m__main__\u001b[0m:\u001b[36m_plot_heatmap\u001b[0m:\u001b[36m52\u001b[0m - \u001b[1mCreating heatmap visualization...\u001b[0m\n",
      "\u001b[32m2024-12-11 19:50:43.610\u001b[0m | \u001b[32m\u001b[1mSUCCESS \u001b[0m | \u001b[36m__main__\u001b[0m:\u001b[36m_plot_heatmap\u001b[0m:\u001b[36m101\u001b[0m - \u001b[32m\u001b[1mHeatmap created successfully\u001b[0m\n",
      "\u001b[32m2024-12-11 19:50:43.612\u001b[0m | \u001b[1mINFO    \u001b[0m | \u001b[36m__main__\u001b[0m:\u001b[36m_save_figure_html\u001b[0m:\u001b[36m156\u001b[0m - \u001b[1mSaving HTML figure to data/figs/html/nfcorpus_olsaffine_mse_withoutlog_validation.html\u001b[0m\n",
      "\u001b[32m2024-12-11 19:50:43.615\u001b[0m | \u001b[32m\u001b[1mSUCCESS \u001b[0m | \u001b[36m__main__\u001b[0m:\u001b[36m_save_figure_html\u001b[0m:\u001b[36m164\u001b[0m - \u001b[32m\u001b[1mSuccessfully saved HTML to data/figs/html/nfcorpus_olsaffine_mse_withoutlog_validation.html\u001b[0m\n",
      "\u001b[32m2024-12-11 19:50:43.616\u001b[0m | \u001b[1mINFO    \u001b[0m | \u001b[36m__main__\u001b[0m:\u001b[36m_save_figure_png\u001b[0m:\u001b[36m190\u001b[0m - \u001b[1mSaving PNG figure to data/figs/imgs/nfcorpus_olsaffine_mse_withoutlog_validation.png\u001b[0m\n",
      "\u001b[32m2024-12-11 19:50:43.986\u001b[0m | \u001b[32m\u001b[1mSUCCESS \u001b[0m | \u001b[36m__main__\u001b[0m:\u001b[36m_save_figure_png\u001b[0m:\u001b[36m199\u001b[0m - \u001b[32m\u001b[1mSuccessfully saved PNG to data/figs/imgs/nfcorpus_olsaffine_mse_withoutlog_validation.png\u001b[0m\n",
      "\u001b[32m2024-12-11 19:50:43.988\u001b[0m | \u001b[1mINFO    \u001b[0m | \u001b[36m__main__\u001b[0m:\u001b[36m_save_figure_html\u001b[0m:\u001b[36m156\u001b[0m - \u001b[1mSaving HTML figure to data/figs/html/nfcorpus_olsaffine_mae_withoutlog_validation.html\u001b[0m\n",
      "\u001b[32m2024-12-11 19:50:43.991\u001b[0m | \u001b[32m\u001b[1mSUCCESS \u001b[0m | \u001b[36m__main__\u001b[0m:\u001b[36m_save_figure_html\u001b[0m:\u001b[36m164\u001b[0m - \u001b[32m\u001b[1mSuccessfully saved HTML to data/figs/html/nfcorpus_olsaffine_mae_withoutlog_validation.html\u001b[0m\n",
      "\u001b[32m2024-12-11 19:50:43.992\u001b[0m | \u001b[1mINFO    \u001b[0m | \u001b[36m__main__\u001b[0m:\u001b[36m_save_figure_png\u001b[0m:\u001b[36m190\u001b[0m - \u001b[1mSaving PNG figure to data/figs/imgs/nfcorpus_olsaffine_mae_withoutlog_validation.png\u001b[0m\n",
      "\u001b[32m2024-12-11 19:50:44.317\u001b[0m | \u001b[32m\u001b[1mSUCCESS \u001b[0m | \u001b[36m__main__\u001b[0m:\u001b[36m_save_figure_png\u001b[0m:\u001b[36m199\u001b[0m - \u001b[32m\u001b[1mSuccessfully saved PNG to data/figs/imgs/nfcorpus_olsaffine_mae_withoutlog_validation.png\u001b[0m\n",
      "\u001b[32m2024-12-11 19:50:44.319\u001b[0m | \u001b[1mINFO    \u001b[0m | \u001b[36m__main__\u001b[0m:\u001b[36m_save_figure_html\u001b[0m:\u001b[36m156\u001b[0m - \u001b[1mSaving HTML figure to data/figs/html/nfcorpus_olsaffine_mse_withlog_validation.html\u001b[0m\n",
      "\u001b[32m2024-12-11 19:50:44.324\u001b[0m | \u001b[32m\u001b[1mSUCCESS \u001b[0m | \u001b[36m__main__\u001b[0m:\u001b[36m_save_figure_html\u001b[0m:\u001b[36m164\u001b[0m - \u001b[32m\u001b[1mSuccessfully saved HTML to data/figs/html/nfcorpus_olsaffine_mse_withlog_validation.html\u001b[0m\n",
      "\u001b[32m2024-12-11 19:50:44.325\u001b[0m | \u001b[1mINFO    \u001b[0m | \u001b[36m__main__\u001b[0m:\u001b[36m_save_figure_png\u001b[0m:\u001b[36m190\u001b[0m - \u001b[1mSaving PNG figure to data/figs/imgs/nfcorpus_olsaffine_mse_withlog_validation.png\u001b[0m\n",
      "\u001b[32m2024-12-11 19:50:44.621\u001b[0m | \u001b[32m\u001b[1mSUCCESS \u001b[0m | \u001b[36m__main__\u001b[0m:\u001b[36m_save_figure_png\u001b[0m:\u001b[36m199\u001b[0m - \u001b[32m\u001b[1mSuccessfully saved PNG to data/figs/imgs/nfcorpus_olsaffine_mse_withlog_validation.png\u001b[0m\n",
      "\u001b[32m2024-12-11 19:50:44.623\u001b[0m | \u001b[1mINFO    \u001b[0m | \u001b[36m__main__\u001b[0m:\u001b[36m_save_figure_html\u001b[0m:\u001b[36m156\u001b[0m - \u001b[1mSaving HTML figure to data/figs/html/nfcorpus_olsaffine_mae_withlog_validation.html\u001b[0m\n",
      "\u001b[32m2024-12-11 19:50:44.629\u001b[0m | \u001b[32m\u001b[1mSUCCESS \u001b[0m | \u001b[36m__main__\u001b[0m:\u001b[36m_save_figure_html\u001b[0m:\u001b[36m164\u001b[0m - \u001b[32m\u001b[1mSuccessfully saved HTML to data/figs/html/nfcorpus_olsaffine_mae_withlog_validation.html\u001b[0m\n",
      "\u001b[32m2024-12-11 19:50:44.629\u001b[0m | \u001b[1mINFO    \u001b[0m | \u001b[36m__main__\u001b[0m:\u001b[36m_save_figure_png\u001b[0m:\u001b[36m190\u001b[0m - \u001b[1mSaving PNG figure to data/figs/imgs/nfcorpus_olsaffine_mae_withlog_validation.png\u001b[0m\n",
      "\u001b[32m2024-12-11 19:50:44.975\u001b[0m | \u001b[32m\u001b[1mSUCCESS \u001b[0m | \u001b[36m__main__\u001b[0m:\u001b[36m_save_figure_png\u001b[0m:\u001b[36m199\u001b[0m - \u001b[32m\u001b[1mSuccessfully saved PNG to data/figs/imgs/nfcorpus_olsaffine_mae_withlog_validation.png\u001b[0m\n",
      "\u001b[32m2024-12-11 19:50:44.976\u001b[0m | \u001b[1mINFO    \u001b[0m | \u001b[36m__main__\u001b[0m:\u001b[36mvisualize_heatmap\u001b[0m:\u001b[36m127\u001b[0m - \u001b[1mStarting heatmap visualization process\u001b[0m\n",
      "\u001b[32m2024-12-11 19:50:44.976\u001b[0m | \u001b[1mINFO    \u001b[0m | \u001b[36m__main__\u001b[0m:\u001b[36m_plot_heatmap\u001b[0m:\u001b[36m52\u001b[0m - \u001b[1mCreating heatmap visualization...\u001b[0m\n",
      "\u001b[32m2024-12-11 19:50:44.982\u001b[0m | \u001b[32m\u001b[1mSUCCESS \u001b[0m | \u001b[36m__main__\u001b[0m:\u001b[36m_plot_heatmap\u001b[0m:\u001b[36m101\u001b[0m - \u001b[32m\u001b[1mHeatmap created successfully\u001b[0m\n",
      "\u001b[32m2024-12-11 19:50:44.982\u001b[0m | \u001b[1mINFO    \u001b[0m | \u001b[36m__main__\u001b[0m:\u001b[36mvisualize_heatmap\u001b[0m:\u001b[36m127\u001b[0m - \u001b[1mStarting heatmap visualization process\u001b[0m\n",
      "\u001b[32m2024-12-11 19:50:44.983\u001b[0m | \u001b[1mINFO    \u001b[0m | \u001b[36m__main__\u001b[0m:\u001b[36m_plot_heatmap\u001b[0m:\u001b[36m52\u001b[0m - \u001b[1mCreating heatmap visualization...\u001b[0m\n",
      "\u001b[32m2024-12-11 19:50:44.987\u001b[0m | \u001b[32m\u001b[1mSUCCESS \u001b[0m | \u001b[36m__main__\u001b[0m:\u001b[36m_plot_heatmap\u001b[0m:\u001b[36m101\u001b[0m - \u001b[32m\u001b[1mHeatmap created successfully\u001b[0m\n",
      "\u001b[32m2024-12-11 19:50:44.988\u001b[0m | \u001b[1mINFO    \u001b[0m | \u001b[36m__main__\u001b[0m:\u001b[36mvisualize_heatmap\u001b[0m:\u001b[36m127\u001b[0m - \u001b[1mStarting heatmap visualization process\u001b[0m\n",
      "\u001b[32m2024-12-11 19:50:44.988\u001b[0m | \u001b[1mINFO    \u001b[0m | \u001b[36m__main__\u001b[0m:\u001b[36m_plot_heatmap\u001b[0m:\u001b[36m52\u001b[0m - \u001b[1mCreating heatmap visualization...\u001b[0m\n",
      "\u001b[32m2024-12-11 19:50:44.993\u001b[0m | \u001b[32m\u001b[1mSUCCESS \u001b[0m | \u001b[36m__main__\u001b[0m:\u001b[36m_plot_heatmap\u001b[0m:\u001b[36m101\u001b[0m - \u001b[32m\u001b[1mHeatmap created successfully\u001b[0m\n",
      "\u001b[32m2024-12-11 19:50:44.993\u001b[0m | \u001b[1mINFO    \u001b[0m | \u001b[36m__main__\u001b[0m:\u001b[36mvisualize_heatmap\u001b[0m:\u001b[36m127\u001b[0m - \u001b[1mStarting heatmap visualization process\u001b[0m\n",
      "\u001b[32m2024-12-11 19:50:44.994\u001b[0m | \u001b[1mINFO    \u001b[0m | \u001b[36m__main__\u001b[0m:\u001b[36m_plot_heatmap\u001b[0m:\u001b[36m52\u001b[0m - \u001b[1mCreating heatmap visualization...\u001b[0m\n",
      "\u001b[32m2024-12-11 19:50:44.998\u001b[0m | \u001b[32m\u001b[1mSUCCESS \u001b[0m | \u001b[36m__main__\u001b[0m:\u001b[36m_plot_heatmap\u001b[0m:\u001b[36m101\u001b[0m - \u001b[32m\u001b[1mHeatmap created successfully\u001b[0m\n",
      "\u001b[32m2024-12-11 19:50:45.000\u001b[0m | \u001b[1mINFO    \u001b[0m | \u001b[36m__main__\u001b[0m:\u001b[36m_save_figure_html\u001b[0m:\u001b[36m156\u001b[0m - \u001b[1mSaving HTML figure to data/figs/html/hotpotqa_olsaffine_mse_withoutlog_validation.html\u001b[0m\n",
      "\u001b[32m2024-12-11 19:50:45.004\u001b[0m | \u001b[32m\u001b[1mSUCCESS \u001b[0m | \u001b[36m__main__\u001b[0m:\u001b[36m_save_figure_html\u001b[0m:\u001b[36m164\u001b[0m - \u001b[32m\u001b[1mSuccessfully saved HTML to data/figs/html/hotpotqa_olsaffine_mse_withoutlog_validation.html\u001b[0m\n",
      "\u001b[32m2024-12-11 19:50:45.004\u001b[0m | \u001b[1mINFO    \u001b[0m | \u001b[36m__main__\u001b[0m:\u001b[36m_save_figure_png\u001b[0m:\u001b[36m190\u001b[0m - \u001b[1mSaving PNG figure to data/figs/imgs/hotpotqa_olsaffine_mse_withoutlog_validation.png\u001b[0m\n",
      "\u001b[32m2024-12-11 19:50:45.301\u001b[0m | \u001b[32m\u001b[1mSUCCESS \u001b[0m | \u001b[36m__main__\u001b[0m:\u001b[36m_save_figure_png\u001b[0m:\u001b[36m199\u001b[0m - \u001b[32m\u001b[1mSuccessfully saved PNG to data/figs/imgs/hotpotqa_olsaffine_mse_withoutlog_validation.png\u001b[0m\n",
      "\u001b[32m2024-12-11 19:50:45.302\u001b[0m | \u001b[1mINFO    \u001b[0m | \u001b[36m__main__\u001b[0m:\u001b[36m_save_figure_html\u001b[0m:\u001b[36m156\u001b[0m - \u001b[1mSaving HTML figure to data/figs/html/hotpotqa_olsaffine_mae_withoutlog_validation.html\u001b[0m\n",
      "\u001b[32m2024-12-11 19:50:45.307\u001b[0m | \u001b[32m\u001b[1mSUCCESS \u001b[0m | \u001b[36m__main__\u001b[0m:\u001b[36m_save_figure_html\u001b[0m:\u001b[36m164\u001b[0m - \u001b[32m\u001b[1mSuccessfully saved HTML to data/figs/html/hotpotqa_olsaffine_mae_withoutlog_validation.html\u001b[0m\n",
      "\u001b[32m2024-12-11 19:50:45.308\u001b[0m | \u001b[1mINFO    \u001b[0m | \u001b[36m__main__\u001b[0m:\u001b[36m_save_figure_png\u001b[0m:\u001b[36m190\u001b[0m - \u001b[1mSaving PNG figure to data/figs/imgs/hotpotqa_olsaffine_mae_withoutlog_validation.png\u001b[0m\n",
      "\u001b[32m2024-12-11 19:50:45.621\u001b[0m | \u001b[32m\u001b[1mSUCCESS \u001b[0m | \u001b[36m__main__\u001b[0m:\u001b[36m_save_figure_png\u001b[0m:\u001b[36m199\u001b[0m - \u001b[32m\u001b[1mSuccessfully saved PNG to data/figs/imgs/hotpotqa_olsaffine_mae_withoutlog_validation.png\u001b[0m\n",
      "\u001b[32m2024-12-11 19:50:45.623\u001b[0m | \u001b[1mINFO    \u001b[0m | \u001b[36m__main__\u001b[0m:\u001b[36m_save_figure_html\u001b[0m:\u001b[36m156\u001b[0m - \u001b[1mSaving HTML figure to data/figs/html/hotpotqa_olsaffine_mse_withlog_validation.html\u001b[0m\n",
      "\u001b[32m2024-12-11 19:50:45.627\u001b[0m | \u001b[32m\u001b[1mSUCCESS \u001b[0m | \u001b[36m__main__\u001b[0m:\u001b[36m_save_figure_html\u001b[0m:\u001b[36m164\u001b[0m - \u001b[32m\u001b[1mSuccessfully saved HTML to data/figs/html/hotpotqa_olsaffine_mse_withlog_validation.html\u001b[0m\n",
      "\u001b[32m2024-12-11 19:50:45.628\u001b[0m | \u001b[1mINFO    \u001b[0m | \u001b[36m__main__\u001b[0m:\u001b[36m_save_figure_png\u001b[0m:\u001b[36m190\u001b[0m - \u001b[1mSaving PNG figure to data/figs/imgs/hotpotqa_olsaffine_mse_withlog_validation.png\u001b[0m\n",
      "\u001b[32m2024-12-11 19:50:45.953\u001b[0m | \u001b[32m\u001b[1mSUCCESS \u001b[0m | \u001b[36m__main__\u001b[0m:\u001b[36m_save_figure_png\u001b[0m:\u001b[36m199\u001b[0m - \u001b[32m\u001b[1mSuccessfully saved PNG to data/figs/imgs/hotpotqa_olsaffine_mse_withlog_validation.png\u001b[0m\n",
      "\u001b[32m2024-12-11 19:50:45.955\u001b[0m | \u001b[1mINFO    \u001b[0m | \u001b[36m__main__\u001b[0m:\u001b[36m_save_figure_html\u001b[0m:\u001b[36m156\u001b[0m - \u001b[1mSaving HTML figure to data/figs/html/hotpotqa_olsaffine_mae_withlog_validation.html\u001b[0m\n",
      "\u001b[32m2024-12-11 19:50:45.959\u001b[0m | \u001b[32m\u001b[1mSUCCESS \u001b[0m | \u001b[36m__main__\u001b[0m:\u001b[36m_save_figure_html\u001b[0m:\u001b[36m164\u001b[0m - \u001b[32m\u001b[1mSuccessfully saved HTML to data/figs/html/hotpotqa_olsaffine_mae_withlog_validation.html\u001b[0m\n",
      "\u001b[32m2024-12-11 19:50:45.959\u001b[0m | \u001b[1mINFO    \u001b[0m | \u001b[36m__main__\u001b[0m:\u001b[36m_save_figure_png\u001b[0m:\u001b[36m190\u001b[0m - \u001b[1mSaving PNG figure to data/figs/imgs/hotpotqa_olsaffine_mae_withlog_validation.png\u001b[0m\n",
      "\u001b[32m2024-12-11 19:50:46.271\u001b[0m | \u001b[32m\u001b[1mSUCCESS \u001b[0m | \u001b[36m__main__\u001b[0m:\u001b[36m_save_figure_png\u001b[0m:\u001b[36m199\u001b[0m - \u001b[32m\u001b[1mSuccessfully saved PNG to data/figs/imgs/hotpotqa_olsaffine_mae_withlog_validation.png\u001b[0m\n",
      "\u001b[32m2024-12-11 19:50:46.272\u001b[0m | \u001b[1mINFO    \u001b[0m | \u001b[36m__main__\u001b[0m:\u001b[36mvisualize_heatmap\u001b[0m:\u001b[36m127\u001b[0m - \u001b[1mStarting heatmap visualization process\u001b[0m\n",
      "\u001b[32m2024-12-11 19:50:46.273\u001b[0m | \u001b[1mINFO    \u001b[0m | \u001b[36m__main__\u001b[0m:\u001b[36m_plot_heatmap\u001b[0m:\u001b[36m52\u001b[0m - \u001b[1mCreating heatmap visualization...\u001b[0m\n",
      "\u001b[32m2024-12-11 19:50:46.277\u001b[0m | \u001b[32m\u001b[1mSUCCESS \u001b[0m | \u001b[36m__main__\u001b[0m:\u001b[36m_plot_heatmap\u001b[0m:\u001b[36m101\u001b[0m - \u001b[32m\u001b[1mHeatmap created successfully\u001b[0m\n",
      "\u001b[32m2024-12-11 19:50:46.278\u001b[0m | \u001b[1mINFO    \u001b[0m | \u001b[36m__main__\u001b[0m:\u001b[36mvisualize_heatmap\u001b[0m:\u001b[36m127\u001b[0m - \u001b[1mStarting heatmap visualization process\u001b[0m\n",
      "\u001b[32m2024-12-11 19:50:46.278\u001b[0m | \u001b[1mINFO    \u001b[0m | \u001b[36m__main__\u001b[0m:\u001b[36m_plot_heatmap\u001b[0m:\u001b[36m52\u001b[0m - \u001b[1mCreating heatmap visualization...\u001b[0m\n",
      "\u001b[32m2024-12-11 19:50:46.283\u001b[0m | \u001b[32m\u001b[1mSUCCESS \u001b[0m | \u001b[36m__main__\u001b[0m:\u001b[36m_plot_heatmap\u001b[0m:\u001b[36m101\u001b[0m - \u001b[32m\u001b[1mHeatmap created successfully\u001b[0m\n",
      "\u001b[32m2024-12-11 19:50:46.285\u001b[0m | \u001b[1mINFO    \u001b[0m | \u001b[36m__main__\u001b[0m:\u001b[36mvisualize_heatmap\u001b[0m:\u001b[36m127\u001b[0m - \u001b[1mStarting heatmap visualization process\u001b[0m\n",
      "\u001b[32m2024-12-11 19:50:46.285\u001b[0m | \u001b[1mINFO    \u001b[0m | \u001b[36m__main__\u001b[0m:\u001b[36m_plot_heatmap\u001b[0m:\u001b[36m52\u001b[0m - \u001b[1mCreating heatmap visualization...\u001b[0m\n",
      "\u001b[32m2024-12-11 19:50:46.289\u001b[0m | \u001b[32m\u001b[1mSUCCESS \u001b[0m | \u001b[36m__main__\u001b[0m:\u001b[36m_plot_heatmap\u001b[0m:\u001b[36m101\u001b[0m - \u001b[32m\u001b[1mHeatmap created successfully\u001b[0m\n",
      "\u001b[32m2024-12-11 19:50:46.290\u001b[0m | \u001b[1mINFO    \u001b[0m | \u001b[36m__main__\u001b[0m:\u001b[36mvisualize_heatmap\u001b[0m:\u001b[36m127\u001b[0m - \u001b[1mStarting heatmap visualization process\u001b[0m\n",
      "\u001b[32m2024-12-11 19:50:46.291\u001b[0m | \u001b[1mINFO    \u001b[0m | \u001b[36m__main__\u001b[0m:\u001b[36m_plot_heatmap\u001b[0m:\u001b[36m52\u001b[0m - \u001b[1mCreating heatmap visualization...\u001b[0m\n",
      "\u001b[32m2024-12-11 19:50:46.294\u001b[0m | \u001b[32m\u001b[1mSUCCESS \u001b[0m | \u001b[36m__main__\u001b[0m:\u001b[36m_plot_heatmap\u001b[0m:\u001b[36m101\u001b[0m - \u001b[32m\u001b[1mHeatmap created successfully\u001b[0m\n",
      "\u001b[32m2024-12-11 19:50:46.296\u001b[0m | \u001b[1mINFO    \u001b[0m | \u001b[36m__main__\u001b[0m:\u001b[36m_save_figure_html\u001b[0m:\u001b[36m156\u001b[0m - \u001b[1mSaving HTML figure to data/figs/html/trec-covid_olsaffine_mse_withoutlog_validation.html\u001b[0m\n",
      "\u001b[32m2024-12-11 19:50:46.299\u001b[0m | \u001b[32m\u001b[1mSUCCESS \u001b[0m | \u001b[36m__main__\u001b[0m:\u001b[36m_save_figure_html\u001b[0m:\u001b[36m164\u001b[0m - \u001b[32m\u001b[1mSuccessfully saved HTML to data/figs/html/trec-covid_olsaffine_mse_withoutlog_validation.html\u001b[0m\n",
      "\u001b[32m2024-12-11 19:50:46.300\u001b[0m | \u001b[1mINFO    \u001b[0m | \u001b[36m__main__\u001b[0m:\u001b[36m_save_figure_png\u001b[0m:\u001b[36m190\u001b[0m - \u001b[1mSaving PNG figure to data/figs/imgs/trec-covid_olsaffine_mse_withoutlog_validation.png\u001b[0m\n",
      "\u001b[32m2024-12-11 19:50:46.591\u001b[0m | \u001b[32m\u001b[1mSUCCESS \u001b[0m | \u001b[36m__main__\u001b[0m:\u001b[36m_save_figure_png\u001b[0m:\u001b[36m199\u001b[0m - \u001b[32m\u001b[1mSuccessfully saved PNG to data/figs/imgs/trec-covid_olsaffine_mse_withoutlog_validation.png\u001b[0m\n",
      "\u001b[32m2024-12-11 19:50:46.593\u001b[0m | \u001b[1mINFO    \u001b[0m | \u001b[36m__main__\u001b[0m:\u001b[36m_save_figure_html\u001b[0m:\u001b[36m156\u001b[0m - \u001b[1mSaving HTML figure to data/figs/html/trec-covid_olsaffine_mae_withoutlog_validation.html\u001b[0m\n",
      "\u001b[32m2024-12-11 19:50:46.596\u001b[0m | \u001b[32m\u001b[1mSUCCESS \u001b[0m | \u001b[36m__main__\u001b[0m:\u001b[36m_save_figure_html\u001b[0m:\u001b[36m164\u001b[0m - \u001b[32m\u001b[1mSuccessfully saved HTML to data/figs/html/trec-covid_olsaffine_mae_withoutlog_validation.html\u001b[0m\n",
      "\u001b[32m2024-12-11 19:50:46.597\u001b[0m | \u001b[1mINFO    \u001b[0m | \u001b[36m__main__\u001b[0m:\u001b[36m_save_figure_png\u001b[0m:\u001b[36m190\u001b[0m - \u001b[1mSaving PNG figure to data/figs/imgs/trec-covid_olsaffine_mae_withoutlog_validation.png\u001b[0m\n",
      "\u001b[32m2024-12-11 19:50:46.955\u001b[0m | \u001b[32m\u001b[1mSUCCESS \u001b[0m | \u001b[36m__main__\u001b[0m:\u001b[36m_save_figure_png\u001b[0m:\u001b[36m199\u001b[0m - \u001b[32m\u001b[1mSuccessfully saved PNG to data/figs/imgs/trec-covid_olsaffine_mae_withoutlog_validation.png\u001b[0m\n",
      "\u001b[32m2024-12-11 19:50:46.957\u001b[0m | \u001b[1mINFO    \u001b[0m | \u001b[36m__main__\u001b[0m:\u001b[36m_save_figure_html\u001b[0m:\u001b[36m156\u001b[0m - \u001b[1mSaving HTML figure to data/figs/html/trec-covid_olsaffine_mse_withlog_validation.html\u001b[0m\n",
      "\u001b[32m2024-12-11 19:50:46.961\u001b[0m | \u001b[32m\u001b[1mSUCCESS \u001b[0m | \u001b[36m__main__\u001b[0m:\u001b[36m_save_figure_html\u001b[0m:\u001b[36m164\u001b[0m - \u001b[32m\u001b[1mSuccessfully saved HTML to data/figs/html/trec-covid_olsaffine_mse_withlog_validation.html\u001b[0m\n",
      "\u001b[32m2024-12-11 19:50:46.961\u001b[0m | \u001b[1mINFO    \u001b[0m | \u001b[36m__main__\u001b[0m:\u001b[36m_save_figure_png\u001b[0m:\u001b[36m190\u001b[0m - \u001b[1mSaving PNG figure to data/figs/imgs/trec-covid_olsaffine_mse_withlog_validation.png\u001b[0m\n",
      "\u001b[32m2024-12-11 19:50:47.240\u001b[0m | \u001b[32m\u001b[1mSUCCESS \u001b[0m | \u001b[36m__main__\u001b[0m:\u001b[36m_save_figure_png\u001b[0m:\u001b[36m199\u001b[0m - \u001b[32m\u001b[1mSuccessfully saved PNG to data/figs/imgs/trec-covid_olsaffine_mse_withlog_validation.png\u001b[0m\n",
      "\u001b[32m2024-12-11 19:50:47.241\u001b[0m | \u001b[1mINFO    \u001b[0m | \u001b[36m__main__\u001b[0m:\u001b[36m_save_figure_html\u001b[0m:\u001b[36m156\u001b[0m - \u001b[1mSaving HTML figure to data/figs/html/trec-covid_olsaffine_mae_withlog_validation.html\u001b[0m\n",
      "\u001b[32m2024-12-11 19:50:47.245\u001b[0m | \u001b[32m\u001b[1mSUCCESS \u001b[0m | \u001b[36m__main__\u001b[0m:\u001b[36m_save_figure_html\u001b[0m:\u001b[36m164\u001b[0m - \u001b[32m\u001b[1mSuccessfully saved HTML to data/figs/html/trec-covid_olsaffine_mae_withlog_validation.html\u001b[0m\n",
      "\u001b[32m2024-12-11 19:50:47.245\u001b[0m | \u001b[1mINFO    \u001b[0m | \u001b[36m__main__\u001b[0m:\u001b[36m_save_figure_png\u001b[0m:\u001b[36m190\u001b[0m - \u001b[1mSaving PNG figure to data/figs/imgs/trec-covid_olsaffine_mae_withlog_validation.png\u001b[0m\n",
      "\u001b[32m2024-12-11 19:50:47.564\u001b[0m | \u001b[32m\u001b[1mSUCCESS \u001b[0m | \u001b[36m__main__\u001b[0m:\u001b[36m_save_figure_png\u001b[0m:\u001b[36m199\u001b[0m - \u001b[32m\u001b[1mSuccessfully saved PNG to data/figs/imgs/trec-covid_olsaffine_mae_withlog_validation.png\u001b[0m\n"
     ]
    },
    {
     "name": "stdout",
     "output_type": "stream",
     "text": [
      "Done\n"
     ]
    }
   ],
   "source": [
    "(\n",
    "    ols_model2idx,\n",
    "    ols_idx2model,\n",
    "    ols_dataset2table_train_mse,\n",
    "    ols_dataset2table_validation_mse,\n",
    "    ols_dataset2table_train_mae,\n",
    "    ols_dataset2table_validation_mae\n",
    ") = creator2.get_all_table_elements()\n",
    "# plot with log\n",
    "DISPLAY = False\n",
    "for dataset_name in DATASETS:\n",
    "    # visualize_plt_heatmap(\n",
    "    #     dataset_name,\n",
    "    #     ols_dataset2table_validation_mse[dataset_name],\n",
    "    #     ols_dataset2table_validation_mae[dataset_name],\n",
    "    #     use_log_plot=True,\n",
    "    #     save_path=plots_folder / f\"{dataset_name}_olsaffine_msemae_withlog.png\", # _ seperates\n",
    "    #     show_plot=DISPLAY\n",
    "    # )\n",
    "    fig_mse_withoutlog = gatlen_default_heatmap_plot(ols_idx2model, dataset_name, \"olsaffine\", ols_dataset2table_validation_mse[dataset_name], do_log=False)\n",
    "    fig_mae_withoutlog = gatlen_default_heatmap_plot(ols_idx2model, dataset_name, \"olsaffine\", ols_dataset2table_validation_mae[dataset_name], do_log=False)\n",
    "    fig_mse_withlog = gatlen_default_heatmap_plot(ols_idx2model, dataset_name, \"olsaffine\", ols_dataset2table_validation_mse[dataset_name], do_log=True)\n",
    "    fig_mae_withlog = gatlen_default_heatmap_plot(ols_idx2model, dataset_name, \"olsaffine\", ols_dataset2table_validation_mae[dataset_name], do_log=True)\n",
    "    save_figure(fig_mse_withoutlog, f\"{dataset_name}_olsaffine_mse_withoutlog_validation\")\n",
    "    save_figure(fig_mae_withoutlog, f\"{dataset_name}_olsaffine_mae_withoutlog_validation\")\n",
    "    save_figure(fig_mse_withlog, f\"{dataset_name}_olsaffine_mse_withlog_validation\")\n",
    "    save_figure(fig_mae_withlog, f\"{dataset_name}_olsaffine_mae_withlog_validation\")\n",
    "print(\"Done\")\n",
    "# for dataset_name in DATASETS:\n",
    "#     visualize_plt_heatmap(\n",
    "#         dataset_name,\n",
    "#         ols_dataset2table_validation_mse[dataset_name],\n",
    "#         ols_dataset2table_validation_mae[dataset_name],\n",
    "#         use_log_plot=False,\n",
    "#         save_path=plots_folder / f\"{dataset_name}_olsaffine_msemae_withoutlog.png\", # _ seperates\n",
    "#         show_plot=DISPLAY\n",
    "#     )\n",
    "\n"
   ]
  },
  {
   "cell_type": "code",
   "execution_count": 26,
   "metadata": {},
   "outputs": [
    {
     "name": "stderr",
     "output_type": "stream",
     "text": [
      "\u001b[32m2024-12-11 19:50:47.588\u001b[0m | \u001b[1mINFO    \u001b[0m | \u001b[36m__main__\u001b[0m:\u001b[36mvisualize_heatmap\u001b[0m:\u001b[36m127\u001b[0m - \u001b[1mStarting heatmap visualization process\u001b[0m\n",
      "\u001b[32m2024-12-11 19:50:47.589\u001b[0m | \u001b[1mINFO    \u001b[0m | \u001b[36m__main__\u001b[0m:\u001b[36m_plot_heatmap\u001b[0m:\u001b[36m52\u001b[0m - \u001b[1mCreating heatmap visualization...\u001b[0m\n",
      "\u001b[32m2024-12-11 19:50:47.598\u001b[0m | \u001b[32m\u001b[1mSUCCESS \u001b[0m | \u001b[36m__main__\u001b[0m:\u001b[36m_plot_heatmap\u001b[0m:\u001b[36m101\u001b[0m - \u001b[32m\u001b[1mHeatmap created successfully\u001b[0m\n",
      "\u001b[32m2024-12-11 19:50:47.599\u001b[0m | \u001b[1mINFO    \u001b[0m | \u001b[36m__main__\u001b[0m:\u001b[36mvisualize_heatmap\u001b[0m:\u001b[36m127\u001b[0m - \u001b[1mStarting heatmap visualization process\u001b[0m\n",
      "\u001b[32m2024-12-11 19:50:47.600\u001b[0m | \u001b[1mINFO    \u001b[0m | \u001b[36m__main__\u001b[0m:\u001b[36m_plot_heatmap\u001b[0m:\u001b[36m52\u001b[0m - \u001b[1mCreating heatmap visualization...\u001b[0m\n",
      "\u001b[32m2024-12-11 19:50:47.609\u001b[0m | \u001b[32m\u001b[1mSUCCESS \u001b[0m | \u001b[36m__main__\u001b[0m:\u001b[36m_plot_heatmap\u001b[0m:\u001b[36m101\u001b[0m - \u001b[32m\u001b[1mHeatmap created successfully\u001b[0m\n",
      "\u001b[32m2024-12-11 19:50:47.610\u001b[0m | \u001b[1mINFO    \u001b[0m | \u001b[36m__main__\u001b[0m:\u001b[36mvisualize_heatmap\u001b[0m:\u001b[36m127\u001b[0m - \u001b[1mStarting heatmap visualization process\u001b[0m\n",
      "\u001b[32m2024-12-11 19:50:47.611\u001b[0m | \u001b[1mINFO    \u001b[0m | \u001b[36m__main__\u001b[0m:\u001b[36m_plot_heatmap\u001b[0m:\u001b[36m52\u001b[0m - \u001b[1mCreating heatmap visualization...\u001b[0m\n",
      "\u001b[32m2024-12-11 19:50:47.620\u001b[0m | \u001b[32m\u001b[1mSUCCESS \u001b[0m | \u001b[36m__main__\u001b[0m:\u001b[36m_plot_heatmap\u001b[0m:\u001b[36m101\u001b[0m - \u001b[32m\u001b[1mHeatmap created successfully\u001b[0m\n",
      "\u001b[32m2024-12-11 19:50:47.621\u001b[0m | \u001b[1mINFO    \u001b[0m | \u001b[36m__main__\u001b[0m:\u001b[36mvisualize_heatmap\u001b[0m:\u001b[36m127\u001b[0m - \u001b[1mStarting heatmap visualization process\u001b[0m\n",
      "\u001b[32m2024-12-11 19:50:47.622\u001b[0m | \u001b[1mINFO    \u001b[0m | \u001b[36m__main__\u001b[0m:\u001b[36m_plot_heatmap\u001b[0m:\u001b[36m52\u001b[0m - \u001b[1mCreating heatmap visualization...\u001b[0m\n",
      "\u001b[32m2024-12-11 19:50:47.631\u001b[0m | \u001b[32m\u001b[1mSUCCESS \u001b[0m | \u001b[36m__main__\u001b[0m:\u001b[36m_plot_heatmap\u001b[0m:\u001b[36m101\u001b[0m - \u001b[32m\u001b[1mHeatmap created successfully\u001b[0m\n",
      "\u001b[32m2024-12-11 19:50:47.633\u001b[0m | \u001b[1mINFO    \u001b[0m | \u001b[36m__main__\u001b[0m:\u001b[36m_save_figure_html\u001b[0m:\u001b[36m156\u001b[0m - \u001b[1mSaving HTML figure to data/figs/html/weightedmean_olsaffine_mse_withoutlog_validation.html\u001b[0m\n",
      "\u001b[32m2024-12-11 19:50:47.638\u001b[0m | \u001b[32m\u001b[1mSUCCESS \u001b[0m | \u001b[36m__main__\u001b[0m:\u001b[36m_save_figure_html\u001b[0m:\u001b[36m164\u001b[0m - \u001b[32m\u001b[1mSuccessfully saved HTML to data/figs/html/weightedmean_olsaffine_mse_withoutlog_validation.html\u001b[0m\n",
      "\u001b[32m2024-12-11 19:50:47.639\u001b[0m | \u001b[1mINFO    \u001b[0m | \u001b[36m__main__\u001b[0m:\u001b[36m_save_figure_png\u001b[0m:\u001b[36m190\u001b[0m - \u001b[1mSaving PNG figure to data/figs/imgs/weightedmean_olsaffine_mse_withoutlog_validation.png\u001b[0m\n",
      "\u001b[32m2024-12-11 19:50:47.979\u001b[0m | \u001b[32m\u001b[1mSUCCESS \u001b[0m | \u001b[36m__main__\u001b[0m:\u001b[36m_save_figure_png\u001b[0m:\u001b[36m199\u001b[0m - \u001b[32m\u001b[1mSuccessfully saved PNG to data/figs/imgs/weightedmean_olsaffine_mse_withoutlog_validation.png\u001b[0m\n",
      "\u001b[32m2024-12-11 19:50:47.981\u001b[0m | \u001b[1mINFO    \u001b[0m | \u001b[36m__main__\u001b[0m:\u001b[36m_save_figure_html\u001b[0m:\u001b[36m156\u001b[0m - \u001b[1mSaving HTML figure to data/figs/html/weightedmean_olsaffine_mae_withoutlog_validation.html\u001b[0m\n",
      "\u001b[32m2024-12-11 19:50:47.987\u001b[0m | \u001b[32m\u001b[1mSUCCESS \u001b[0m | \u001b[36m__main__\u001b[0m:\u001b[36m_save_figure_html\u001b[0m:\u001b[36m164\u001b[0m - \u001b[32m\u001b[1mSuccessfully saved HTML to data/figs/html/weightedmean_olsaffine_mae_withoutlog_validation.html\u001b[0m\n",
      "\u001b[32m2024-12-11 19:50:47.987\u001b[0m | \u001b[1mINFO    \u001b[0m | \u001b[36m__main__\u001b[0m:\u001b[36m_save_figure_png\u001b[0m:\u001b[36m190\u001b[0m - \u001b[1mSaving PNG figure to data/figs/imgs/weightedmean_olsaffine_mae_withoutlog_validation.png\u001b[0m\n",
      "\u001b[32m2024-12-11 19:50:48.289\u001b[0m | \u001b[32m\u001b[1mSUCCESS \u001b[0m | \u001b[36m__main__\u001b[0m:\u001b[36m_save_figure_png\u001b[0m:\u001b[36m199\u001b[0m - \u001b[32m\u001b[1mSuccessfully saved PNG to data/figs/imgs/weightedmean_olsaffine_mae_withoutlog_validation.png\u001b[0m\n",
      "\u001b[32m2024-12-11 19:50:48.290\u001b[0m | \u001b[1mINFO    \u001b[0m | \u001b[36m__main__\u001b[0m:\u001b[36m_save_figure_html\u001b[0m:\u001b[36m156\u001b[0m - \u001b[1mSaving HTML figure to data/figs/html/weightedmean_olsaffine_mse_withlog_validation.html\u001b[0m\n",
      "\u001b[32m2024-12-11 19:50:48.295\u001b[0m | \u001b[32m\u001b[1mSUCCESS \u001b[0m | \u001b[36m__main__\u001b[0m:\u001b[36m_save_figure_html\u001b[0m:\u001b[36m164\u001b[0m - \u001b[32m\u001b[1mSuccessfully saved HTML to data/figs/html/weightedmean_olsaffine_mse_withlog_validation.html\u001b[0m\n",
      "\u001b[32m2024-12-11 19:50:48.296\u001b[0m | \u001b[1mINFO    \u001b[0m | \u001b[36m__main__\u001b[0m:\u001b[36m_save_figure_png\u001b[0m:\u001b[36m190\u001b[0m - \u001b[1mSaving PNG figure to data/figs/imgs/weightedmean_olsaffine_mse_withlog_validation.png\u001b[0m\n",
      "\u001b[32m2024-12-11 19:50:48.594\u001b[0m | \u001b[32m\u001b[1mSUCCESS \u001b[0m | \u001b[36m__main__\u001b[0m:\u001b[36m_save_figure_png\u001b[0m:\u001b[36m199\u001b[0m - \u001b[32m\u001b[1mSuccessfully saved PNG to data/figs/imgs/weightedmean_olsaffine_mse_withlog_validation.png\u001b[0m\n",
      "\u001b[32m2024-12-11 19:50:48.596\u001b[0m | \u001b[1mINFO    \u001b[0m | \u001b[36m__main__\u001b[0m:\u001b[36m_save_figure_html\u001b[0m:\u001b[36m156\u001b[0m - \u001b[1mSaving HTML figure to data/figs/html/weightedmean_olsaffine_mae_withlog_validation.html\u001b[0m\n",
      "\u001b[32m2024-12-11 19:50:48.601\u001b[0m | \u001b[32m\u001b[1mSUCCESS \u001b[0m | \u001b[36m__main__\u001b[0m:\u001b[36m_save_figure_html\u001b[0m:\u001b[36m164\u001b[0m - \u001b[32m\u001b[1mSuccessfully saved HTML to data/figs/html/weightedmean_olsaffine_mae_withlog_validation.html\u001b[0m\n",
      "\u001b[32m2024-12-11 19:50:48.602\u001b[0m | \u001b[1mINFO    \u001b[0m | \u001b[36m__main__\u001b[0m:\u001b[36m_save_figure_png\u001b[0m:\u001b[36m190\u001b[0m - \u001b[1mSaving PNG figure to data/figs/imgs/weightedmean_olsaffine_mae_withlog_validation.png\u001b[0m\n",
      "\u001b[32m2024-12-11 19:50:48.947\u001b[0m | \u001b[32m\u001b[1mSUCCESS \u001b[0m | \u001b[36m__main__\u001b[0m:\u001b[36m_save_figure_png\u001b[0m:\u001b[36m199\u001b[0m - \u001b[32m\u001b[1mSuccessfully saved PNG to data/figs/imgs/weightedmean_olsaffine_mae_withlog_validation.png\u001b[0m\n"
     ]
    },
    {
     "data": {
      "text/plain": [
       "(PosixPath('data/figs/html/weightedmean_olsaffine_mae_withlog_validation.html'),\n",
       " PosixPath('data/figs/imgs/weightedmean_olsaffine_mae_withlog_validation.png'))"
      ]
     },
     "execution_count": 26,
     "metadata": {},
     "output_type": "execute_result"
    }
   ],
   "source": [
    "import einops\n",
    "dataset_sizes = {\n",
    "    \"arguana\": 10000,\n",
    "    \"fiqa\": 50000,\n",
    "    \"scidocs\": 25000,\n",
    "    \"nfcorpus\": 5000,\n",
    "    \"hotpotqa\": 100000,\n",
    "    \"trec-covid\": 20000,\n",
    "}\n",
    "proportions = torch.tensor([dataset_sizes[x] for x in DATASETS])\n",
    "proportions = proportions / proportions.sum()\n",
    "proportions = einops.rearrange(proportions, \"d -> d 1 1\")\n",
    "assert proportions.sum() == 1.0\n",
    "# 1. Stack\n",
    "nnlinear_mse_validation_tables = torch.stack([nnlinear_dataset2table_validation_mse[x] for x in DATASETS])\n",
    "nnlinear_mse_train_tables = torch.stack([nnlinear_dataset2table_train_mse[x] for x in DATASETS])\n",
    "nnlinear_mae_validation_tables = torch.stack([nnlinear_dataset2table_validation_mae[x] for x in DATASETS])\n",
    "nnlinear_mae_train_tables = torch.stack([nnlinear_dataset2table_train_mae[x] for x in DATASETS])\n",
    "ols_mse_validation_tables = torch.stack([ols_dataset2table_validation_mse[x] for x in DATASETS])\n",
    "ols_mse_train_tables = torch.stack([ols_dataset2table_train_mse[x] for x in DATASETS])\n",
    "ols_mae_validation_tables = torch.stack([ols_dataset2table_validation_mae[x] for x in DATASETS])\n",
    "ols_mae_train_tables = torch.stack([ols_dataset2table_train_mae[x] for x in DATASETS])\n",
    "# 2. Scale\n",
    "nnlinear_scaled_mse_validation_tables = nnlinear_mse_validation_tables * proportions\n",
    "nnlinear_scaled_mse_train_tables = nnlinear_mse_train_tables * proportions\n",
    "nnlinear_scaled_mae_validation_tables = nnlinear_mae_validation_tables * proportions\n",
    "nnlinear_scaled_mae_train_tables = nnlinear_mae_train_tables * proportions\n",
    "ols_scaled_mse_validation_tables = ols_mse_validation_tables * proportions\n",
    "ols_scaled_mse_train_tables = ols_mse_train_tables * proportions\n",
    "ols_scaled_mae_validation_tables = ols_mae_validation_tables * proportions\n",
    "ols_scaled_mae_train_tables = ols_mae_train_tables * proportions\n",
    "# 3. Sum\n",
    "nnlinear_mean_mse_validation_table = nnlinear_scaled_mse_validation_tables.sum(dim=0)\n",
    "nnlinear_mean_mse_train_table = nnlinear_scaled_mse_train_tables.sum(dim=0)\n",
    "nnlinear_mean_mae_validation_table = nnlinear_scaled_mae_validation_tables.sum(dim=0)\n",
    "nnlinear_mean_mae_train_table = nnlinear_scaled_mae_train_tables.sum(dim=0)\n",
    "ols_mean_mse_validation_table = ols_scaled_mse_validation_tables.sum(dim=0)\n",
    "ols_mean_mse_train_table = ols_scaled_mse_train_tables.sum(dim=0)\n",
    "ols_mean_mae_validation_table = ols_scaled_mae_validation_tables.sum(dim=0)\n",
    "ols_mean_mae_train_table = ols_scaled_mae_train_tables.sum(dim=0)\n",
    "assert nnlinear_mean_mse_validation_table.shape == nnlinear_mean_mse_train_table.shape == nnlinear_mean_mae_validation_table.shape == nnlinear_mean_mae_train_table.shape == (len(MODEL_NAMES), len(MODEL_NAMES))\n",
    "assert ols_mean_mse_validation_table.shape == ols_mean_mse_train_table.shape == ols_mean_mae_validation_table.shape == ols_mean_mae_train_table.shape == (len(MODEL_NAMES), len(MODEL_NAMES))\n",
    "# 4. Plot\n",
    "DISPLAY = False\n",
    "# visualize_plt_heatmap(\n",
    "#     \"mean\",\n",
    "#     nnlinear_mean_mse_validation_table,\n",
    "#     nnlinear_mean_mae_validation_table,\n",
    "#     use_log_plot=False,\n",
    "#     save_path=plots_folder / f\"weightedmean_nnlinear_msemae_withoutlog.png\",\n",
    "#     show_plot=DISPLAY\n",
    "# )\n",
    "# visualize_plt_heatmap(\n",
    "#     \"mean\",\n",
    "#     ols_mean_mse_validation_table,\n",
    "#     ols_mean_mae_validation_table,\n",
    "#     use_log_plot=False,\n",
    "#     save_path=plots_folder / f\"weightedmean_olsaffine_msemae_withoutlog.png\",\n",
    "#     show_plot=DISPLAY\n",
    "# )\n",
    "fig_mse_withoutlog = gatlen_default_heatmap_plot(ols_idx2model, \"mean\", \"olsaffine\", ols_mean_mse_validation_table, do_log=False)\n",
    "fig_mae_withoutlog = gatlen_default_heatmap_plot(ols_idx2model, \"mean\", \"olsaffine\", ols_mean_mae_validation_table, do_log=False)\n",
    "fig_mse_withlog = gatlen_default_heatmap_plot(ols_idx2model, \"mean\", \"olsaffine\", ols_mean_mse_validation_table, do_log=True)\n",
    "fig_mae_withlog = gatlen_default_heatmap_plot(ols_idx2model, \"mean\", \"olsaffine\", ols_mean_mae_validation_table, do_log=True)\n",
    "save_figure(fig_mse_withoutlog, f\"weightedmean_olsaffine_mse_withoutlog_validation\")\n",
    "save_figure(fig_mae_withoutlog, f\"weightedmean_olsaffine_mae_withoutlog_validation\")\n",
    "save_figure(fig_mse_withlog, f\"weightedmean_olsaffine_mse_withlog_validation\")\n",
    "save_figure(fig_mae_withlog, f\"weightedmean_olsaffine_mae_withlog_validation\")\n"
   ]
  },
  {
   "cell_type": "code",
   "execution_count": null,
   "metadata": {},
   "outputs": [],
   "source": []
  }
 ],
 "metadata": {
  "kernelspec": {
   "display_name": "python311",
   "language": "python",
   "name": "python3"
  },
  "language_info": {
   "codemirror_mode": {
    "name": "ipython",
    "version": 3
   },
   "file_extension": ".py",
   "mimetype": "text/x-python",
   "name": "python",
   "nbconvert_exporter": "python",
   "pygments_lexer": "ipython3",
   "version": "3.11.10"
  }
 },
 "nbformat": 4,
 "nbformat_minor": 2
}
