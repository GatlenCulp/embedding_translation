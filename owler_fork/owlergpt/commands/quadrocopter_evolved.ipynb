{
 "cells": [
  {
   "cell_type": "code",
   "execution_count": null,
   "metadata": {},
   "outputs": [],
   "source": [
    "from __future__ import annotations\n",
    "\"\"\"\n",
    "TODO(Adriano) finish this (it might turn into a jupyter notebook idk)\n",
    "\n",
    "This is an offline script to basically do the same thing as `quadracopter.ipynb`. It will provide functionality (through\n",
    "multiple click commands) to:\n",
    "1. Train optimal OLS and batched OLS for all pairs of embedding spaces, speeding up acquisition of our results by 1000x\n",
    "2. Be able to calculate a set of visualizations that we need for the paper and store them somewhere\n",
    "    - MAE Table\n",
    "    - MSE Table\n",
    "    - Variance Explained Table\n",
    "    - MAE Explained Table\n",
    "    - Aggregated of the above (using harmonic/arithmetic means)\n",
    "    - CKA, Ranking Jaccard Similarity, and Rank score (to compare with the previous tables)\n",
    "        - Cluster for CKA like the old paper\n",
    "        - Sample a few random pairs of models and dataset and showcase the triplet loss\n",
    "        - Cherry pick rank similarity from one model to all others and same for Jaccard like in the paper (this is done both in the\n",
    "            bofore stitch section and in the after stitch section)\n",
    "        - Table of rank similarity and jaccard similarity over top 10\n",
    "    - Kernel maps\n",
    "        - Sample a few random pairs of models and dataset and showcase the triplet loss\n",
    "    - UMAP, PCA, and t-SNE for embeddings (combined with a clustering algorithm to get some labels on this shit)\n",
    "        - Bonus: find some relevant labels for the chunks and then add that in there?\n",
    "    - MSE/MAE of single cycle\n",
    "    - Randomly sample some different transformations and calculate over-cycle performance (i.e. so we can see how long\n",
    "        it takes to get error up by some percent like a half-life -> geometric mean)\n",
    "    - Random matrix controls for CKA, Jaccard, MAE, MSE, etc... with sampling to provide error bars\n",
    "(parses outputs from OLS or GD outputs and then creates this shit)\n",
    "3. \n",
    "\"\"\"\n"
   ]
  }
 ],
 "metadata": {
  "language_info": {
   "name": "python"
  }
 },
 "nbformat": 4,
 "nbformat_minor": 2
}
