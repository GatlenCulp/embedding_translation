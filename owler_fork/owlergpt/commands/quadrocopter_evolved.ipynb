{
 "cells": [
  {
   "cell_type": "code",
   "execution_count": 1,
   "metadata": {},
   "outputs": [],
   "source": [
    "from __future__ import annotations\n",
    "from IPython.display import clear_output\n",
    "clear_output(wait=True)  # wait=True waits for new output before clearing\n",
    "#...\n",
    "from pathlib import Path\n",
    "from safetensors.torch import load_file\n",
    "import itertools\n",
    "from pydantic import BaseModel, ConfigDict\n",
    "import numpy as np\n",
    "import tqdm\n",
    "import torch\n",
    "from typing import List, Tuple, Literal, Dict\n",
    "\n",
    "DATASETS = [\n",
    "    # (numbers are counts for documents, there may be some longer documents -> slightly more chunks)\n",
    "    \"arguana\", # 10K\n",
    "    \"fiqa\", # 50K -> 20K\n",
    "    \"scidocs\", # 25K -> 20K\n",
    "    \"nfcorpus\", # 5K\n",
    "    \"hotpotqa\", # 100K -> 20K\n",
    "    \"trec-covid\", # too much -> 20K\n",
    "]\n",
    "\n",
    "MODEL_NAMES = [\n",
    "    \"WhereIsAI/UAE-Large-V1\",\n",
    "    \"BAAI/bge-base-en-v1.5\",\n",
    "    \"BAAI/bge-large-en-v1.5\",\n",
    "    \"BAAI/bge-small-en-v1.5\",\n",
    "    \"intfloat/e5-base-v2\",\n",
    "    \"intfloat/e5-large-v2\",\n",
    "    \"intfloat/e5-small-v2\",\n",
    "    \"thenlper/gte-base\",\n",
    "    \"thenlper/gte-large\",\n",
    "    \"thenlper/gte-small\",\n",
    "    \"sentence-transformers/gtr-t5-base\",\n",
    "    \"sentence-transformers/gtr-t5-large\",\n",
    "    \"mixedbread-ai/mxbai-embed-large-v1\",\n",
    "    \"sentence-transformers/sentence-t5-base\",\n",
    "    \"sentence-transformers/sentence-t5-large\",\n",
    "    \"openai/text-embedding-3-large\", # openai\n",
    "    \"openai/text-embedding-3-small\", # openai\n",
    "]\n",
    "\n",
    "\"\"\"\n",
    "TODO(Adriano) finish this (it might turn into a jupyter notebook idk)\n",
    "\n",
    "This is an offline script to basically do the same thing as `quadracopter.ipynb`. It will provide functionality (through\n",
    "multiple click commands) to:\n",
    "1. Train optimal OLS and batched OLS for all pairs of embedding spaces, speeding up acquisition of our results by 1000x\n",
    "2. Be able to calculate a set of visualizations that we need for the paper and store them somewhere\n",
    "    - MAE Table\n",
    "    - MSE Table\n",
    "    - Variance Explained Table\n",
    "    - MAE Explained Table\n",
    "    - Aggregated of the above (using harmonic/arithmetic means)\n",
    "    - CKA, Ranking Jaccard Similarity, and Rank score (to compare with the previous tables)\n",
    "        - Cluster for CKA like the old paper\n",
    "        - Sample a few random pairs of models and dataset and showcase the triplet loss\n",
    "        - Cherry pick rank similarity from one model to all others and same for Jaccard like in the paper (this is done both in the\n",
    "            bofore stitch section and in the after stitch section)\n",
    "        - Table of rank similarity and jaccard similarity over top 10\n",
    "    - Kernel maps\n",
    "        - Sample a few random pairs of models and dataset and showcase the triplet loss\n",
    "    - UMAP, PCA, and t-SNE for embeddings (combined with a clustering algorithm to get some labels on this shit)\n",
    "        - Bonus: find some relevant labels for the chunks and then add that in there?\n",
    "    - MSE/MAE of single cycle\n",
    "    - Randomly sample some different transformations and calculate over-cycle performance (i.e. so we can see how long\n",
    "        it takes to get error up by some percent like a half-life -> geometric mean)\n",
    "    - Random matrix controls for CKA, Jaccard, MAE, MSE, etc... with sampling to provide error bars\n",
    "(parses outputs from OLS or GD outputs and then creates this shit)\n",
    "\"\"\"\n",
    "\n",
    "\n",
    "paths_gd = [\n",
    "    Path(\"/mnt/align3_drive/adrianoh/dl_final_project_layers/arguana_hf_cartesian_product\"),\n",
    "    Path(\"/mnt/align3_drive/adrianoh/dl_final_project_layers/nfcorpus_hf_cartesian_product\"),\n",
    "    Path(\"/mnt/align3_drive/adrianoh/dl_final_project_layers/scidocs_hf_cartesian_product\"),\n",
    "    Path(\"/mnt/align3_drive/adrianoh/dl_final_project_layers/trec-covid_hf_cartesian_product\"),\n",
    "    Path(\"/mnt/align3_drive/adrianoh/dl_final_project_layers/fiqa_hf_cartesian_product\"),\n",
    "    Path(\"/mnt/align3_drive/adrianoh/dl_final_project_layers/hotpotqa_hf_cartesian_product\"),\n",
    "]\n",
    "paths_ols = [\n",
    "    Path(\"/mnt/align3_drive/adrianoh/dl_final_project_layers/ols_all_datasets\")\n",
    "]\n",
    "\n",
    "class LossResultsLineEntry(BaseModel):\n",
    "    epoch: int\n",
    "    train_mse: float\n",
    "    train_mae: float\n",
    "    test_mse: float\n",
    "    test_mae: float\n",
    "\n",
    "class LossResults(BaseModel):\n",
    "    model_config = ConfigDict(arbitrary_types_allowed=True)\n",
    "    train_mses: torch.Tensor\n",
    "    train_maes: torch.Tensor\n",
    "    validation_mses: torch.Tensor\n",
    "    validation_maes: torch.Tensor\n",
    "\n",
    "class StitchPair(BaseModel):\n",
    "    source: str\n",
    "    target: str\n",
    "    dataset: str\n",
    "    mode: Literal[\"affine\", \"affine_ols\"] = \"affine\" \n",
    "\n",
    "class TableCreator:\n",
    "    def __init__(self, paths: List[Path]):\n",
    "        self.paths = paths\n",
    "\n",
    "    def __load_stitch_info(self, path: Path) -> StitchPair:\n",
    "        name = \"stitch_info.json\" if (path / \"stitch_info.json\").exists() else \"stitch_info_pairs.json\"\n",
    "        with open(path / name, \"r\") as f:\n",
    "            return StitchPair.model_validate_json(f.read())\n",
    "\n",
    "    def __load_loss_results(self, path: Path) -> LossResults:\n",
    "        with open(path / \"log.jsonl\", \"r\") as f:\n",
    "            les = [LossResultsLineEntry.model_validate_json(line.strip()) for line in f if len(line.strip()) > 0]\n",
    "        return LossResults(\n",
    "            train_mses=torch.tensor([le.train_mse for le in les]),\n",
    "            train_maes=torch.tensor([le.train_mae for le in les]),\n",
    "            validation_mses=torch.tensor([le.test_mse for le in les]),\n",
    "            validation_maes=torch.tensor([le.test_mae for le in les]),\n",
    "        )\n",
    "\n",
    "    def __get_minimal_mse_mae(self, loss_results: LossResults) -> torch.Tensor:\n",
    "        train_mse, validation_mse = torch.min(loss_results.train_mses).item(), torch.min(loss_results.validation_mses).item()\n",
    "        train_mae, validation_mae = torch.min(loss_results.train_maes).item(), torch.min(loss_results.validation_maes).item()\n",
    "        return train_mse, validation_mse, train_mae, validation_mae\n",
    "\n",
    "    def get_all_table_elements(self) -> Tuple[Dict[str, int], Dict[str, int], Dict[str, torch.Tensor], Dict[str, torch.Tensor]]:\n",
    "        \"\"\"\n",
    "        Get a table of the minimal MSE and MAE out of all the models and datasets.\n",
    "        \"\"\"\n",
    "        ################ 1. Load parent paths and sanity test ################\n",
    "        jsonl_files = []\n",
    "        # NOTE: log.jsonl = losses\n",
    "        for path in self.paths:\n",
    "            jsonl_files.extend(list(path.glob(\"**/*.jsonl\")))\n",
    "        # ---- Sanity Check Files Present ----\n",
    "        parents = set([jsonl_file.parent for jsonl_file in jsonl_files])\n",
    "        assert all((p / \"log.jsonl\").exists() for p in tqdm.tqdm(parents)) # get the losses that we will plit (i.e. MSEs and MAEs)\n",
    "        assert all((p / \"stitch_info.json\").exists() or (p / \"stitch_info_pairs.json\").exists() for p in tqdm.tqdm(parents)) # get information about pair of models, etc...\n",
    "        # TODO(Adriano) it appears that in some cases I forgot to measure this\n",
    "        # assert all((p / \"linear_transform.safetensors\").exists() for p in tqdm.tqdm(parents)) # get layers if we care about it <--- technically not use rn, but sans\n",
    "        info_losses: List[Tuple[StitchPair, LossResults]] = [\n",
    "            (self.__load_stitch_info(p), self.__load_loss_results(p)) for p in parents\n",
    "        ]\n",
    "        # ---- Sanity Check Model-Dataset Pairs Used ----\n",
    "        _expected_model_dataset_pairs_used = set(x for x in itertools.product(DATASETS, MODEL_NAMES, MODEL_NAMES) if x[1] != x[2]) # both directions, not equal\n",
    "        for info, _ in tqdm.tqdm(info_losses):\n",
    "            entry = (info.dataset, info.source, info.target)\n",
    "            assert entry in _expected_model_dataset_pairs_used # Make sure not already passed\n",
    "            _expected_model_dataset_pairs_used.remove(entry)\n",
    "        if len(_expected_model_dataset_pairs_used) > 0:\n",
    "            for entry in _expected_model_dataset_pairs_used: # [DEBUG]\n",
    "                print(entry) # [DEBUG]\n",
    "        assert len(_expected_model_dataset_pairs_used) == 0, f\"Expected {len(_expected_model_dataset_pairs_used)} model-dataset pairs, got {len(info_losses)}\"\n",
    "        ################ 2. Populate the tables ################\n",
    "        # TODO(Adriano) find a way to permute this intelligently?\n",
    "        model2idx = {model: i for i, model in enumerate(MODEL_NAMES)}\n",
    "        idx2model = {i: model for model, i in model2idx.items()}\n",
    "        dataset2table_train_mse = {dataset: -1 * torch.ones(len(MODEL_NAMES), len(MODEL_NAMES)) for dataset in DATASETS}\n",
    "        dataset2table_validation_mse = {dataset: -1 * torch.ones(len(MODEL_NAMES), len(MODEL_NAMES)) for dataset in DATASETS}\n",
    "        dataset2table_train_mae = {dataset: -1 * torch.ones(len(MODEL_NAMES), len(MODEL_NAMES)) for dataset in DATASETS}\n",
    "        dataset2table_validation_mae = {dataset: -1 * torch.ones(len(MODEL_NAMES), len(MODEL_NAMES)) for dataset in DATASETS}\n",
    "\n",
    "        for info, loss_results in tqdm.tqdm(info_losses):\n",
    "            # ---- Fetch indices ----\n",
    "            src_idx, tgt_idx = model2idx[info.source], model2idx[info.target]\n",
    "            # ---- Sanity Check ----\n",
    "            assert dataset2table_train_mse[info.dataset][src_idx, tgt_idx] == -1, f\"Dataset {info.dataset} already has a value at {src_idx, tgt_idx}\"\n",
    "            assert dataset2table_validation_mse[info.dataset][src_idx, tgt_idx] == -1, f\"Dataset {info.dataset} already has a value at {src_idx, tgt_idx}\"\n",
    "            assert dataset2table_train_mae[info.dataset][src_idx, tgt_idx] == -1, f\"Dataset {info.dataset} already has a value at {src_idx, tgt_idx}\"\n",
    "            assert dataset2table_validation_mae[info.dataset][src_idx, tgt_idx] == -1, f\"Dataset {info.dataset} already has a value at {src_idx, tgt_idx}\"\n",
    "            # ---- Fill in da tables ----\n",
    "            train_mse, validation_mse, train_mae, validation_mae = self.__get_minimal_mse_mae(loss_results)\n",
    "            dataset2table_train_mse[info.dataset][src_idx, tgt_idx] = train_mse\n",
    "            dataset2table_validation_mse[info.dataset][src_idx, tgt_idx] = validation_mse\n",
    "            dataset2table_train_mae[info.dataset][src_idx, tgt_idx] = train_mae\n",
    "            dataset2table_validation_mae[info.dataset][src_idx, tgt_idx] = validation_mae\n",
    "        # ---- Fill diagonal with 0s ----\n",
    "        for dataset in DATASETS:\n",
    "            for i in range(len(MODEL_NAMES)):\n",
    "                assert dataset2table_train_mse[dataset][i, i] == -1, f\"Dataset {dataset} already has a value at {i, i}\"\n",
    "                assert dataset2table_validation_mse[dataset][i, i] == -1, f\"Dataset {dataset} already has a value at {i, i}\"\n",
    "                assert dataset2table_train_mae[dataset][i, i] == -1, f\"Dataset {dataset} already has a value at {i, i}\"\n",
    "                assert dataset2table_validation_mae[dataset][i, i] == -1, f\"Dataset {dataset} already has a value at {i, i}\"\n",
    "                dataset2table_train_mse[dataset][i, i] = 0\n",
    "                dataset2table_validation_mse[dataset][i, i] = 0\n",
    "                dataset2table_train_mae[dataset][i, i] = 0\n",
    "                dataset2table_validation_mae[dataset][i, i] = 0\n",
    "        ################ 3. Sanity Check Tables were filled correctly ################\n",
    "        assert all(0 <= d.min() <= d.max() for d in dataset2table_train_mse.values())\n",
    "        assert all(0 <= d.min() <= d.max() for d in dataset2table_validation_mse.values())\n",
    "        assert all(0 <= d.min() <= d.max() for d in dataset2table_train_mae.values())\n",
    "        assert all(0 <= d.min() <= d.max() for d in dataset2table_validation_mae.values())\n",
    "        # ret\n",
    "        return model2idx, idx2model, dataset2table_train_mse, dataset2table_validation_mse, dataset2table_train_mae, dataset2table_validation_mae"
   ]
  },
  {
   "cell_type": "code",
   "execution_count": 2,
   "metadata": {},
   "outputs": [],
   "source": [
    "creator1 = TableCreator(paths_gd)\n",
    "creator2 = TableCreator(paths_ols)"
   ]
  },
  {
   "cell_type": "code",
   "execution_count": 3,
   "metadata": {},
   "outputs": [
    {
     "name": "stderr",
     "output_type": "stream",
     "text": [
      "100%|██████████| 1632/1632 [00:00<00:00, 3114.17it/s]\n",
      "100%|██████████| 1632/1632 [00:00<00:00, 2977.00it/s]\n",
      "100%|██████████| 1632/1632 [00:00<00:00, 690309.01it/s]\n",
      "100%|██████████| 1632/1632 [00:00<00:00, 16015.35it/s]"
     ]
    },
    {
     "name": "stdout",
     "output_type": "stream",
     "text": [
      "tensor([[0.0000e+00, 2.1409e-04, 1.7688e-05, 3.8022e-04, 1.4615e-04, 1.2339e-04,\n",
      "         2.5228e-04, 1.1638e-04, 3.3081e-05, 2.1894e-04, 2.3299e-04, 2.2096e-04,\n",
      "         5.3694e-06, 9.4156e-05, 1.2276e-04, 1.1722e-04, 1.9921e-04],\n",
      "        [1.9851e-04, 0.0000e+00, 1.8212e-04, 3.8609e-04, 1.3326e-04, 1.3031e-04,\n",
      "         2.5906e-04, 4.0098e-05, 8.7585e-05, 2.2226e-04, 2.4388e-04, 2.3890e-04,\n",
      "         1.8207e-04, 1.0100e-04, 1.3619e-04, 1.2865e-04, 2.1820e-04],\n",
      "        [1.7824e-05, 2.1355e-04, 0.0000e+00, 3.8432e-04, 1.4492e-04, 1.2234e-04,\n",
      "         2.5182e-04, 1.1819e-04, 3.5541e-05, 2.2295e-04, 2.3854e-04, 2.2654e-04,\n",
      "         2.1329e-05, 9.6897e-05, 1.2671e-04, 1.1975e-04, 2.0493e-04],\n",
      "        [2.4368e-04, 2.6703e-04, 2.2255e-04, 0.0000e+00, 1.7826e-04, 1.4847e-04,\n",
      "         2.5177e-04, 1.4171e-04, 1.0531e-04, 6.8418e-05, 2.8192e-04, 2.7708e-04,\n",
      "         2.2453e-04, 1.1663e-04, 1.5691e-04, 1.4592e-04, 2.5209e-04],\n",
      "        [2.0576e-04, 2.0061e-04, 1.8838e-04, 4.1758e-04, 0.0000e+00, 1.1187e-04,\n",
      "         2.2602e-04, 1.0063e-04, 8.4205e-05, 2.2603e-04, 2.4006e-04, 2.3222e-04,\n",
      "         1.8739e-04, 9.2591e-05, 1.2461e-04, 1.2421e-04, 2.0891e-04],\n",
      "        [2.0075e-04, 2.3701e-04, 1.8434e-04, 4.2578e-04, 1.2709e-04, 0.0000e+00,\n",
      "         2.2548e-04, 1.2057e-04, 8.2245e-05, 2.2869e-04, 2.3610e-04, 2.2020e-04,\n",
      "         1.8305e-04, 9.1789e-05, 1.1636e-04, 1.1679e-04, 1.9904e-04],\n",
      "        [2.4898e-04, 2.7669e-04, 2.2553e-04, 3.9112e-04, 1.5418e-04, 1.3104e-04,\n",
      "         0.0000e+00, 1.4058e-04, 1.0202e-04, 2.1199e-04, 2.7704e-04, 2.6992e-04,\n",
      "         2.2859e-04, 1.0970e-04, 1.4779e-04, 1.4251e-04, 2.4511e-04],\n",
      "        [1.9594e-04, 7.3258e-05, 1.8427e-04, 3.8358e-04, 1.2434e-04, 1.2373e-04,\n",
      "         2.4561e-04, 0.0000e+00, 7.6349e-05, 1.9828e-04, 2.3186e-04, 2.2693e-04,\n",
      "         1.7825e-04, 9.3274e-05, 1.2630e-04, 1.2106e-04, 2.0303e-04],\n",
      "        [6.9348e-05, 2.1180e-04, 7.2450e-05, 3.8234e-04, 1.3610e-04, 1.1505e-04,\n",
      "         2.3818e-04, 1.0051e-04, 0.0000e+00, 1.9434e-04, 2.2165e-04, 2.0884e-04,\n",
      "         6.2292e-05, 8.5929e-05, 1.1179e-04, 1.0961e-04, 1.8437e-04],\n",
      "        [2.4385e-04, 2.6739e-04, 2.2510e-04, 1.2359e-04, 1.7225e-04, 1.4400e-04,\n",
      "         2.4296e-04, 1.2993e-04, 9.5897e-05, 0.0000e+00, 2.7382e-04, 2.6924e-04,\n",
      "         2.2381e-04, 1.1221e-04, 1.5019e-04, 1.4039e-04, 2.4082e-04],\n",
      "        [2.4795e-04, 2.8103e-04, 2.3048e-04, 4.8497e-04, 1.7536e-04, 1.4450e-04,\n",
      "         2.9605e-04, 1.4581e-04, 1.0521e-04, 2.6592e-04, 0.0000e+00, 1.7782e-04,\n",
      "         2.3020e-04, 7.1390e-05, 1.3045e-04, 1.3282e-04, 2.2433e-04],\n",
      "        [2.2302e-04, 2.6159e-04, 2.0896e-04, 4.5492e-04, 1.6256e-04, 1.3169e-04,\n",
      "         2.7623e-04, 1.3425e-04, 9.3545e-05, 2.4758e-04, 1.6025e-04, 0.0000e+00,\n",
      "         2.0557e-04, 8.4596e-05, 8.3519e-05, 1.1646e-04, 1.9736e-04],\n",
      "        [5.4709e-06, 2.1277e-04, 2.2019e-05, 3.7762e-04, 1.4430e-04, 1.2206e-04,\n",
      "         2.5002e-04, 1.1449e-04, 3.1693e-05, 2.1647e-04, 2.3123e-04, 2.1885e-04,\n",
      "         0.0000e+00, 9.1805e-05, 1.1958e-04, 1.1564e-04, 1.9595e-04],\n",
      "        [2.3199e-04, 2.7025e-04, 2.1814e-04, 4.6956e-04, 1.6384e-04, 1.3536e-04,\n",
      "         2.8179e-04, 1.3580e-04, 9.4879e-05, 2.5102e-04, 1.5613e-04, 2.0886e-04,\n",
      "         2.1125e-04, 0.0000e+00, 8.8753e-05, 1.2306e-04, 2.0797e-04],\n",
      "        [2.2030e-04, 2.6525e-04, 2.0920e-04, 4.6492e-04, 1.5907e-04, 1.2816e-04,\n",
      "         2.7590e-04, 1.3234e-04, 8.9502e-05, 2.4589e-04, 2.1137e-04, 1.4115e-04,\n",
      "         2.0008e-04, 6.0555e-05, 0.0000e+00, 1.1066e-04, 1.9127e-04],\n",
      "        [1.5321e-04, 1.8348e-04, 1.4874e-04, 2.9987e-04, 1.2253e-04, 1.0172e-04,\n",
      "         1.9438e-04, 9.9762e-05, 7.0975e-05, 1.7116e-04, 1.6144e-04, 1.4642e-04,\n",
      "         1.4124e-04, 7.2176e-05, 8.4928e-05, 0.0000e+00, 1.0446e-04],\n",
      "        [1.8651e-04, 2.2018e-04, 1.7912e-04, 3.6770e-04, 1.4127e-04, 1.1828e-04,\n",
      "         2.3191e-04, 1.1504e-04, 8.1102e-05, 2.0332e-04, 1.9059e-04, 1.7682e-04,\n",
      "         1.7063e-04, 8.1222e-05, 1.0073e-04, 8.0433e-05, 0.0000e+00]])\n"
     ]
    },
    {
     "name": "stderr",
     "output_type": "stream",
     "text": [
      "\n"
     ]
    }
   ],
   "source": [
    "(\n",
    "    nnlinear_model2idx,\n",
    "    nnlinear_idx2model,\n",
    "    nnlinear_dataset2table_train_mse,\n",
    "    nnlinear_dataset2table_validation_mse,\n",
    "    nnlinear_dataset2table_train_mae,\n",
    "    nnlinear_dataset2table_validation_mae\n",
    ") = creator1.get_all_table_elements()\n",
    "example_table = nnlinear_dataset2table_train_mse[\"arguana\"]\n",
    "print(example_table) # should be a nice torch tensor, 17 x 17\n"
   ]
  },
  {
   "cell_type": "code",
   "execution_count": 21,
   "metadata": {},
   "outputs": [
    {
     "name": "stdout",
     "output_type": "stream",
     "text": [
      "================ ORDERING ==================\n",
      "['WhereIsAI/UAE-Large-V1', 'BAAI/bge-base-en-v1.5', 'BAAI/bge-large-en-v1.5', 'BAAI/bge-small-en-v1.5', 'intfloat/e5-base-v2', 'intfloat/e5-large-v2', 'intfloat/e5-small-v2', 'thenlper/gte-base', 'thenlper/gte-large', 'thenlper/gte-small', 'sentence-transformers/gtr-t5-base', 'sentence-transformers/gtr-t5-large', 'mixedbread-ai/mxbai-embed-large-v1', 'sentence-transformers/sentence-t5-base', 'sentence-transformers/sentence-t5-large', 'openai/text-embedding-3-large', 'openai/text-embedding-3-small']\n",
      "=>\n",
      "['BAAI/bge-small-en-v1.5', 'intfloat/e5-small-v2', 'thenlper/gte-small', 'BAAI/bge-base-en-v1.5', 'intfloat/e5-base-v2', 'sentence-transformers/gtr-t5-base', 'sentence-transformers/gtr-t5-large', 'sentence-transformers/sentence-t5-base', 'sentence-transformers/sentence-t5-large', 'thenlper/gte-base', 'BAAI/bge-large-en-v1.5', 'WhereIsAI/UAE-Large-V1', 'intfloat/e5-large-v2', 'mixedbread-ai/mxbai-embed-large-v1', 'thenlper/gte-large', 'openai/text-embedding-3-small', 'openai/text-embedding-3-large']\n",
      "Via\n",
      "tensor([ 3,  6,  9,  1,  4, 10, 11, 13, 14,  7,  2,  0,  5, 12,  8, 16, 15])\n"
     ]
    }
   ],
   "source": [
    "from matplotlib import pyplot as plt\n",
    "import numpy as np\n",
    "from typing import Optional\n",
    "from loguru import logger\n",
    "import plotly.graph_objects as go\n",
    "from plotly.basedatatypes import BaseFigure\n",
    "\n",
    "# Set up the figure size and style\n",
    "plt.style.use('default')  # Use default matplotlib style\n",
    "plt.rcParams['figure.facecolor'] = 'white'  # Set white background\n",
    "plt.rcParams['axes.facecolor'] = 'white'  # Set white plot background\n",
    "plt.rcParams['axes.grid'] = True  # Enable grid\n",
    "plt.rcParams['grid.alpha'] = 0.3  # Subtle grid\n",
    "fig_size = (15, 10)\n",
    "\n",
    "# Log plot version\n",
    "def format_value(val: float) -> str:\n",
    "    if val == float('-inf'):\n",
    "        return \"0\"\n",
    "    return f\"{val:.1e}\"\n",
    "\n",
    "\n",
    "################################  COPIED FROM GATLENS SHIT ################################\n",
    "def _plot_heatmap(\n",
    "    matrix: np.ndarray,\n",
    "    row_labels: list[str] | None = None,\n",
    "    col_labels: list[str] | None = None,\n",
    "    title: str = \"Heatmap\",\n",
    "    width: int = 800,\n",
    "    height: int = 600,\n",
    "    color_scale: str = \"Viridis\",\n",
    "    show_values: bool = True,\n",
    "    value_format: str = \".2f\",\n",
    "    xaxis_title: str | None = None,\n",
    "    yaxis_title: str | None = None,\n",
    ") -> go.Figure:\n",
    "    \"\"\"Create a Plotly heatmap from a 2D array.\n",
    "\n",
    "    :param matrix: 2D numpy array or list of lists with numerical values or None\n",
    "    :param row_labels: Optional list of row labels\n",
    "    :param col_labels: Optional list of column labels\n",
    "    :param title: Plot title\n",
    "    :param width: Figure width in pixels\n",
    "    :param height: Figure height in pixels\n",
    "    :param color_scale: Colorscale for the heatmap (e.g. 'Viridis', 'Cividis')\n",
    "    :param show_values: Whether to overlay cell values on the heatmap\n",
    "    :param value_format: Format string for the displayed values\n",
    "    :param xaxis_title: Optional title for the x-axis\n",
    "    :param yaxis_title: Optional title for the y-axis\n",
    "    :return: Plotly figure object\n",
    "    \"\"\"\n",
    "    logger.info(\"Creating heatmap visualization...\")\n",
    "\n",
    "    # Convert input to numpy array if it's a list\n",
    "    matrix = np.array(\n",
    "        matrix, dtype=object\n",
    "    )\n",
    "\n",
    "    # Create mask for None values\n",
    "    none_mask = matrix is None\n",
    "\n",
    "    # Convert None to np.nan for numerical operations\n",
    "    matrix = matrix.astype(float)\n",
    "    matrix[none_mask] = np.nan\n",
    "\n",
    "    # Create text annotations for each cell if requested\n",
    "    text_vals = None\n",
    "    text_template = None\n",
    "    if show_values:\n",
    "\n",
    "        def format_value(x):\n",
    "            return \"N/A\" if np.isnan(x) else f\"{x:{value_format}}\"\n",
    "\n",
    "        text_vals = np.vectorize(format_value)(matrix)\n",
    "        text_template = \"%{text}\"\n",
    "\n",
    "    fig = go.Figure(\n",
    "        data=go.Heatmap(\n",
    "            z=matrix,\n",
    "            x=col_labels,\n",
    "            y=row_labels,\n",
    "            colorscale=color_scale,\n",
    "            text=text_vals,\n",
    "            texttemplate=text_template,\n",
    "            textfont={\"color\": \"black\"},\n",
    "            reversescale=False,\n",
    "            showscale=True,\n",
    "        )\n",
    "    )\n",
    "\n",
    "    fig.update_layout(\n",
    "        title=title,\n",
    "        width=width,\n",
    "        height=height,\n",
    "        xaxis_nticks=len(col_labels) if col_labels else None,\n",
    "        yaxis_nticks=len(row_labels) if row_labels else None,\n",
    "        xaxis_title=xaxis_title,\n",
    "        yaxis_title=yaxis_title,\n",
    "    )\n",
    "\n",
    "    logger.success(\"Heatmap created successfully\")\n",
    "    return fig\n",
    "\n",
    "def visualize_heatmap(\n",
    "    matrix: np.ndarray,\n",
    "    config: dict | None = None,\n",
    "    do_scientific_notation: bool = True,\n",
    ") -> go.Figure:\n",
    "    \"\"\"Create a heatmap visualization using a configuration dictionary.\n",
    "\n",
    "    :param matrix: 2D numpy array of values\n",
    "    :param config: Optional dictionary to specify plot parameters\n",
    "    :return: Plotly figure object\n",
    "    \"\"\"\n",
    "    if config is None:\n",
    "        config = {\n",
    "            \"title\": \"Heatmap\",\n",
    "            \"width\": 800,\n",
    "            \"height\": 600,\n",
    "            \"color_scale\": \"Viridis\",\n",
    "            \"show_values\": True,\n",
    "            \"value_format\": \".2e\" if do_scientific_notation else \".2f\",\n",
    "            \"row_labels\": None,\n",
    "            \"col_labels\": None,\n",
    "        }\n",
    "\n",
    "    logger.info(\"Starting heatmap visualization process\")\n",
    "\n",
    "    fig = _plot_heatmap(\n",
    "        matrix=matrix,\n",
    "        row_labels=config.get(\"row_labels\"),\n",
    "        col_labels=config.get(\"col_labels\"),\n",
    "        title=config.get(\"title\", \"Heatmap\"),\n",
    "        width=config.get(\"width\", 800),\n",
    "        height=config.get(\"height\", 600),\n",
    "        color_scale=config.get(\"color_scale\", \"Viridis\"),\n",
    "        show_values=config.get(\"show_values\", True),\n",
    "        value_format=config.get(\"value_format\", \".2f\"),\n",
    "        xaxis_title=config.get(\"xaxis_title\"),\n",
    "        yaxis_title=config.get(\"yaxis_title\"),\n",
    "    )\n",
    "\n",
    "    return fig\n",
    "\n",
    "def _save_figure_html(\n",
    "    fig: BaseFigure,\n",
    "    filepath: Path,\n",
    ") -> Path:\n",
    "    \"\"\"Save a plotly figure as an HTML file.\n",
    "\n",
    "    :param BaseFigure fig: The plotly figure to save\n",
    "    :param Path filepath: Full path including filename and .html extension\n",
    "    :return: Path to the saved HTML file\n",
    "    :rtype: Path\n",
    "    \"\"\"\n",
    "    logger.info(f\"Saving HTML figure to {filepath}\")\n",
    "\n",
    "    try:\n",
    "        fig.write_html(\n",
    "            filepath,\n",
    "            include_plotlyjs=\"cdn\",  # Use CDN to reduce file size\n",
    "            full_html=True,\n",
    "        )\n",
    "        logger.success(f\"Successfully saved HTML to {filepath}\")\n",
    "\n",
    "    except Exception as e:\n",
    "        logger.error(f\"Failed to save HTML: {e!s}\")\n",
    "        raise\n",
    "\n",
    "    else:\n",
    "        return filepath\n",
    "    \n",
    "def _save_figure_png(\n",
    "    fig: BaseFigure,\n",
    "    filepath: Path,\n",
    "    width: int = 1200,\n",
    "    height: int = 800,\n",
    "    scale: float = 2.0,\n",
    ") -> Path:\n",
    "    \"\"\"Save a plotly figure as a PNG file.\n",
    "\n",
    "    :param BaseFigure fig: The plotly figure to save\n",
    "    :param Path filepath: Full path including filename and .png extension\n",
    "    :param int width: Width of the figure in pixels\n",
    "    :param int height: Height of the figure in pixels\n",
    "    :param float scale: Scale factor for PNG resolution\n",
    "    :return: Path to the saved PNG file\n",
    "    :rtype: Path\n",
    "    \"\"\"\n",
    "    logger.info(f\"Saving PNG figure to {filepath}\")\n",
    "\n",
    "    try:\n",
    "        fig.write_image(\n",
    "            filepath,\n",
    "            width=width,\n",
    "            height=height,\n",
    "            scale=scale,\n",
    "        )\n",
    "        logger.success(f\"Successfully saved PNG to {filepath}\")\n",
    "\n",
    "    except Exception as e:\n",
    "        logger.error(f\"Failed to save PNG: {e!s}\")\n",
    "        raise\n",
    "\n",
    "    else:\n",
    "        return filepath\n",
    "    \n",
    "def save_figure(\n",
    "    fig: BaseFigure,\n",
    "    filename: str | Path,\n",
    "    output_dir: str | Path = \"data/figs\",\n",
    "    width: int = 1200,\n",
    "    height: int = 800,\n",
    "    scale: float = 2.0,\n",
    ") -> tuple[Path, Path]:\n",
    "    \"\"\"Save a plotly figure as both HTML and PNG files.\n",
    "\n",
    "    :param BaseFigure fig: The plotly figure to save\n",
    "    :param str | Path filename: Name of the file without extension\n",
    "    :param str | Path output_dir: Directory to save the files in\n",
    "    :param int width: Width of the figure in pixels\n",
    "    :param int height: Height of the figure in pixels\n",
    "    :param float scale: Scale factor for PNG resolution\n",
    "    :return: Tuple of paths to the saved HTML and PNG files\n",
    "    :rtype: tuple[Path, Path]\n",
    "    \"\"\"\n",
    "    # Convert paths to Path objects\n",
    "    output_dir = Path(output_dir)\n",
    "    filename = Path(filename).stem  # Get filename without extension\n",
    "\n",
    "    # Generate file paths\n",
    "    html_dir = output_dir / \"html\"\n",
    "    png_dir = output_dir / \"imgs\"\n",
    "\n",
    "    html_dir.mkdir(parents=True, exist_ok=True)\n",
    "    png_dir.mkdir(parents=True, exist_ok=True)\n",
    "\n",
    "    html_path = html_dir / f\"{filename}.html\"\n",
    "    png_path = png_dir / f\"{filename}.png\"\n",
    "\n",
    "    # Save both formats\n",
    "    html_path = _save_figure_html(fig, html_path)\n",
    "    png_path = _save_figure_png(fig, png_path, width, height, scale)\n",
    "\n",
    "    return html_path, png_path\n",
    "################################  [END] COPIED FROM GATLENS SHIT ################################\n",
    "\n",
    "def visualize_plt_heatmap(\n",
    "        dataset: str,\n",
    "        mse_data: torch.Tensor,\n",
    "        mae_data: torch.Tensor,\n",
    "        use_log_plot: bool = True,\n",
    "        log_base: float = 10.0,\n",
    "        save_path: Optional[Path] = None,\n",
    "        show_plot: bool = True\n",
    "    ):\n",
    "    if log_base != 10.0:\n",
    "        raise NotImplementedError(f\"Log base {log_base} is not supported\")\n",
    "    # Create figure with 2 subplots side by side\n",
    "    fig, (ax1, ax2) = plt.subplots(1, 2, figsize=fig_size)\n",
    "    fig.suptitle(f'Log Error Metrics for {dataset.capitalize()} Dataset', fontsize=16)\n",
    "    \n",
    "    # Convert zeros to small value before taking log\n",
    "    mse_data = mse_data.clone()\n",
    "    mae_data = mae_data.clone()\n",
    "    \n",
    "    # Replace zeros with -inf for log plot\n",
    "    if use_log_plot:\n",
    "        mse_data[mse_data == 0] = float('-inf')\n",
    "        mae_data[mae_data == 0] = float('-inf')\n",
    "    \n",
    "    # Plot log MSE\n",
    "    if use_log_plot:\n",
    "        mse_data[mse_data > 0] = torch.log10(mse_data[mse_data > 0])\n",
    "    im1 = ax1.imshow(mse_data)\n",
    "    ax1.set_title('Log10 Validation MSE')\n",
    "    plt.colorbar(im1, ax=ax1)\n",
    "\n",
    "    # Add text annotations for MSE\n",
    "    for i in range(mse_data.shape[0]):\n",
    "        for j in range(mse_data.shape[1]):\n",
    "            text = format_value(mse_data[i, j].item())\n",
    "            ax1.text(j, i, text, ha='center', va='center', \n",
    "                    fontsize=8, rotation=45)\n",
    "    \n",
    "    # Plot log MAE\n",
    "    mae_data[mae_data > 0] = torch.log10(mae_data[mae_data > 0])\n",
    "    im2 = ax2.imshow(mae_data)\n",
    "    ax2.set_title('Log10 Validation MAE')\n",
    "    plt.colorbar(im2, ax=ax2)\n",
    "\n",
    "    # Add text annotations for MAE\n",
    "    for i in range(mae_data.shape[0]):\n",
    "        for j in range(mae_data.shape[1]):\n",
    "            text = format_value(mae_data[i, j].item())\n",
    "            ax2.text(j, i, text, ha='center', va='center', \n",
    "                    fontsize=8, rotation=45)\n",
    "    \n",
    "    # Add labels\n",
    "    for ax in [ax1, ax2]:\n",
    "        ax.set_xlabel('Target Model Index')\n",
    "        ax.set_ylabel('Source Model Index')\n",
    "        \n",
    "    plt.tight_layout()\n",
    "    if save_path is not None:\n",
    "        plt.savefig(save_path)\n",
    "    if show_plot:\n",
    "        plt.show()\n",
    "    plt.close(fig)\n",
    "\n",
    "\n",
    "def gatlen_default_heatmap_plot(\n",
    "        idx2model: dict,\n",
    "        dataset_name: str,\n",
    "        architecture: str,\n",
    "        table: torch.Tensor,\n",
    "        do_log: bool = False,\n",
    "        sort_permutation: Optional[torch.Tensor] = None,\n",
    ") -> go.Figure:\n",
    "    if do_log:\n",
    "        table = table.clone()\n",
    "        table[table == 0] = float('-inf')\n",
    "        table[table > 0] = torch.log10(table[table > 0])\n",
    "    model_names = [idx2model[m] for m in range(len(idx2model))]\n",
    "    if sort_permutation is not None:\n",
    "        table = table[sort_permutation] # permute rows\n",
    "        table = table[:, sort_permutation] # permute columns\n",
    "        model_names = [model_names[m] for m in sort_permutation]\n",
    "        assert set(model_names) == set(model_names)\n",
    "\n",
    "    default_config = {\n",
    "        \"row_labels\": model_names,\n",
    "        \"col_labels\": model_names,\n",
    "        \"title\": f\"MSE Matrix on {dataset_name}, (Architecture: {architecture})\" + (\" (Logarithmic Scale)\" if do_log else \"\"),\n",
    "        \"xaxis_title\": \"Native Embedding Space\",\n",
    "        \"yaxis_title\": \"Target Embedding Space\",\n",
    "        \"value_format\": \".2f\" if do_log else \".2e\",\n",
    "    }\n",
    "    return visualize_heatmap(table, config=default_config)\n",
    "\n",
    "def model2model_dimension(model_name: str) -> int:\n",
    "    \"\"\" Helper: get the size of the embedding dimension vector (1D, usually something like 768-4096). \"\"\"\n",
    "    # Miscellaneous (HF)\n",
    "    if \"/\" in model_name:\n",
    "        assert model_name.count(\"/\") == 1\n",
    "        model_name = model_name.split(\"/\")[-1]\n",
    "    if model_name == \"SFR-Embedding-Mistral\":\n",
    "        return 4096\n",
    "    elif model_name == \"UAE-Large-V1\":\n",
    "        return 1024\n",
    "    elif model_name == \"mxbai-embed-large-v1\":\n",
    "        return 1024\n",
    "    # BGE Models (HF)\n",
    "    elif model_name == \"bge-base-en-v1.5\":\n",
    "        return 768\n",
    "    elif model_name == \"bge-large-en-v1.5\":\n",
    "        return 1024\n",
    "    elif model_name == \"bge-small-en-v1.5\":\n",
    "        return 384\n",
    "    #  E5 Models (HF)\n",
    "    elif model_name == \"e5-base-v2\":\n",
    "        return 768\n",
    "    elif model_name == \"e5-large-v2\":\n",
    "        return 1024\n",
    "    elif model_name == \"e5-small-v2\":\n",
    "        return 384\n",
    "    # GTE Models (HF)\n",
    "    elif model_name == \"gte-base\":\n",
    "        return 768\n",
    "    elif model_name == \"gte-large\":\n",
    "        return 1024\n",
    "    elif model_name == \"gte-small\":\n",
    "        return 384\n",
    "    # GTR-T5 Models (HF)\n",
    "    elif model_name == \"gtr-t5-base\":\n",
    "        return 768\n",
    "    elif model_name == \"gtr-t5-large\":\n",
    "        return 768\n",
    "    # Sentence T5 (HF)\n",
    "    elif model_name == \"sentence-t5-base\":\n",
    "        return 768\n",
    "    elif model_name == \"sentence-t5-large\":\n",
    "        return 768\n",
    "    # OpenAI Models\n",
    "    elif model_name == \"text-embedding-3-large\":\n",
    "        return 3072\n",
    "    elif model_name == \"text-embedding-3-small\":\n",
    "        return 1536\n",
    "    else:\n",
    "        # NOTE: cohere may be supported in THE FUTURE\n",
    "        raise ValueError(f\"Unsupported model: {model_name}\")\n",
    "# Sort by (dimension, org)\n",
    "DESIRED_MODEL_ORDER_NAMES = sorted(MODEL_NAMES, key=lambda x: (model2model_dimension(x), x.split(\"/\", 1)[0], x.split(\"/\", 1)[1]))\n",
    "assert set(MODEL_NAMES) == set(DESIRED_MODEL_ORDER_NAMES)\n",
    "sort_permutation = torch.tensor([MODEL_NAMES.index(m) for m in DESIRED_MODEL_ORDER_NAMES])\n",
    "print(\"================ ORDERING ==================\")\n",
    "print(MODEL_NAMES)\n",
    "print(\"=>\")\n",
    "print(DESIRED_MODEL_ORDER_NAMES)\n",
    "print(\"Via\")\n",
    "print(sort_permutation)\n"
   ]
  },
  {
   "cell_type": "code",
   "execution_count": 22,
   "metadata": {},
   "outputs": [
    {
     "name": "stderr",
     "output_type": "stream",
     "text": [
      "\u001b[32m2024-12-11 19:49:52.489\u001b[0m | \u001b[1mINFO    \u001b[0m | \u001b[36m__main__\u001b[0m:\u001b[36mvisualize_heatmap\u001b[0m:\u001b[36m127\u001b[0m - \u001b[1mStarting heatmap visualization process\u001b[0m\n",
      "\u001b[32m2024-12-11 19:49:52.489\u001b[0m | \u001b[1mINFO    \u001b[0m | \u001b[36m__main__\u001b[0m:\u001b[36m_plot_heatmap\u001b[0m:\u001b[36m52\u001b[0m - \u001b[1mCreating heatmap visualization...\u001b[0m\n",
      "\u001b[32m2024-12-11 19:49:52.500\u001b[0m | \u001b[32m\u001b[1mSUCCESS \u001b[0m | \u001b[36m__main__\u001b[0m:\u001b[36m_plot_heatmap\u001b[0m:\u001b[36m101\u001b[0m - \u001b[32m\u001b[1mHeatmap created successfully\u001b[0m\n",
      "\u001b[32m2024-12-11 19:49:52.506\u001b[0m | \u001b[1mINFO    \u001b[0m | \u001b[36m__main__\u001b[0m:\u001b[36m_save_figure_html\u001b[0m:\u001b[36m156\u001b[0m - \u001b[1mSaving HTML figure to data/figs/html/arguana_nnlinear_mse_validation.html\u001b[0m\n",
      "\u001b[32m2024-12-11 19:49:52.511\u001b[0m | \u001b[32m\u001b[1mSUCCESS \u001b[0m | \u001b[36m__main__\u001b[0m:\u001b[36m_save_figure_html\u001b[0m:\u001b[36m164\u001b[0m - \u001b[32m\u001b[1mSuccessfully saved HTML to data/figs/html/arguana_nnlinear_mse_validation.html\u001b[0m\n",
      "\u001b[32m2024-12-11 19:49:52.512\u001b[0m | \u001b[1mINFO    \u001b[0m | \u001b[36m__main__\u001b[0m:\u001b[36m_save_figure_png\u001b[0m:\u001b[36m190\u001b[0m - \u001b[1mSaving PNG figure to data/figs/imgs/arguana_nnlinear_mse_validation.png\u001b[0m\n",
      "\u001b[32m2024-12-11 19:49:52.886\u001b[0m | \u001b[32m\u001b[1mSUCCESS \u001b[0m | \u001b[36m__main__\u001b[0m:\u001b[36m_save_figure_png\u001b[0m:\u001b[36m199\u001b[0m - \u001b[32m\u001b[1mSuccessfully saved PNG to data/figs/imgs/arguana_nnlinear_mse_validation.png\u001b[0m\n"
     ]
    },
    {
     "data": {
      "application/vnd.plotly.v1+json": {
       "config": {
        "plotlyServerURL": "https://plot.ly"
       },
       "data": [
        {
         "colorscale": [
          [
           0,
           "#440154"
          ],
          [
           0.1111111111111111,
           "#482878"
          ],
          [
           0.2222222222222222,
           "#3e4989"
          ],
          [
           0.3333333333333333,
           "#31688e"
          ],
          [
           0.4444444444444444,
           "#26828e"
          ],
          [
           0.5555555555555556,
           "#1f9e89"
          ],
          [
           0.6666666666666666,
           "#35b779"
          ],
          [
           0.7777777777777778,
           "#6ece58"
          ],
          [
           0.8888888888888888,
           "#b5de2b"
          ],
          [
           1,
           "#fde725"
          ]
         ],
         "reversescale": false,
         "showscale": true,
         "text": [
          [
           "0.00e+00",
           "2.62e-04",
           "6.98e-05",
           "2.79e-04",
           "1.85e-04",
           "2.93e-04",
           "2.88e-04",
           "1.20e-04",
           "1.62e-04",
           "1.47e-04",
           "2.32e-04",
           "2.54e-04",
           "1.54e-04",
           "2.33e-04",
           "1.09e-04",
           "2.63e-04",
           "1.52e-04"
          ],
          [
           "4.14e-04",
           "0.00e+00",
           "2.23e-04",
           "2.92e-04",
           "1.62e-04",
           "2.91e-04",
           "2.83e-04",
           "1.15e-04",
           "1.54e-04",
           "1.48e-04",
           "2.37e-04",
           "2.63e-04",
           "1.37e-04",
           "2.41e-04",
           "1.07e-04",
           "2.59e-04",
           "1.50e-04"
          ],
          [
           "1.29e-04",
           "2.55e-04",
           "0.00e+00",
           "2.81e-04",
           "1.81e-04",
           "2.86e-04",
           "2.83e-04",
           "1.17e-04",
           "1.57e-04",
           "1.37e-04",
           "2.38e-04",
           "2.57e-04",
           "1.51e-04",
           "2.35e-04",
           "1.01e-04",
           "2.55e-04",
           "1.48e-04"
          ],
          [
           "4.33e-04",
           "2.87e-04",
           "2.46e-04",
           "0.00e+00",
           "1.47e-04",
           "2.71e-04",
           "2.64e-04",
           "1.10e-04",
           "1.50e-04",
           "4.31e-05",
           "2.01e-04",
           "2.19e-04",
           "1.43e-04",
           "2.01e-04",
           "9.58e-05",
           "2.42e-04",
           "1.42e-04"
          ],
          [
           "4.67e-04",
           "2.52e-04",
           "2.53e-04",
           "2.23e-04",
           "0.00e+00",
           "2.68e-04",
           "2.58e-04",
           "1.03e-04",
           "1.38e-04",
           "1.11e-04",
           "2.10e-04",
           "2.29e-04",
           "1.24e-04",
           "2.09e-04",
           "9.33e-05",
           "2.34e-04",
           "1.39e-04"
          ],
          [
           "5.22e-04",
           "3.16e-04",
           "2.84e-04",
           "3.01e-04",
           "1.86e-04",
           "0.00e+00",
           "1.89e-04",
           "7.49e-05",
           "1.39e-04",
           "1.55e-04",
           "2.46e-04",
           "2.64e-04",
           "1.54e-04",
           "2.45e-04",
           "1.12e-04",
           "2.40e-04",
           "1.41e-04"
          ],
          [
           "5.01e-04",
           "3.02e-04",
           "2.71e-04",
           "2.86e-04",
           "1.77e-04",
           "1.73e-04",
           "0.00e+00",
           "9.13e-05",
           "9.05e-05",
           "1.46e-04",
           "2.27e-04",
           "2.42e-04",
           "1.43e-04",
           "2.23e-04",
           "1.01e-04",
           "2.16e-04",
           "1.27e-04"
          ],
          [
           "5.06e-04",
           "3.04e-04",
           "2.71e-04",
           "2.91e-04",
           "1.76e-04",
           "1.65e-04",
           "2.24e-04",
           "0.00e+00",
           "9.44e-05",
           "1.46e-04",
           "2.34e-04",
           "2.49e-04",
           "1.45e-04",
           "2.26e-04",
           "1.01e-04",
           "2.24e-04",
           "1.32e-04"
          ],
          [
           "5.12e-04",
           "3.03e-04",
           "2.71e-04",
           "2.90e-04",
           "1.74e-04",
           "2.31e-04",
           "1.54e-04",
           "6.54e-05",
           "0.00e+00",
           "1.44e-04",
           "2.28e-04",
           "2.41e-04",
           "1.40e-04",
           "2.18e-04",
           "9.75e-05",
           "2.11e-04",
           "1.21e-04"
          ],
          [
           "4.31e-04",
           "2.73e-04",
           "2.22e-04",
           "7.96e-05",
           "1.37e-04",
           "2.58e-04",
           "2.51e-04",
           "1.02e-04",
           "1.40e-04",
           "0.00e+00",
           "2.05e-04",
           "2.17e-04",
           "1.37e-04",
           "1.97e-04",
           "8.43e-05",
           "2.27e-04",
           "1.35e-04"
          ],
          [
           "4.46e-04",
           "2.89e-04",
           "2.57e-04",
           "2.46e-04",
           "1.65e-04",
           "2.72e-04",
           "2.57e-04",
           "1.09e-04",
           "1.44e-04",
           "1.34e-04",
           "0.00e+00",
           "1.96e-05",
           "1.40e-04",
           "2.39e-05",
           "3.99e-05",
           "2.36e-04",
           "1.38e-04"
          ],
          [
           "4.41e-04",
           "2.89e-04",
           "2.52e-04",
           "2.45e-04",
           "1.67e-04",
           "2.66e-04",
           "2.52e-04",
           "1.07e-04",
           "1.39e-04",
           "1.32e-04",
           "1.93e-05",
           "0.00e+00",
           "1.40e-04",
           "5.56e-06",
           "3.64e-05",
           "2.29e-04",
           "1.34e-04"
          ],
          [
           "4.96e-04",
           "2.59e-04",
           "2.66e-04",
           "2.74e-04",
           "1.46e-04",
           "2.71e-04",
           "2.52e-04",
           "1.04e-04",
           "1.33e-04",
           "1.38e-04",
           "2.13e-04",
           "2.31e-04",
           "0.00e+00",
           "2.09e-04",
           "9.42e-05",
           "2.31e-04",
           "1.35e-04"
          ],
          [
           "4.37e-04",
           "2.87e-04",
           "2.50e-04",
           "2.44e-04",
           "1.65e-04",
           "2.64e-04",
           "2.50e-04",
           "1.04e-04",
           "1.36e-04",
           "1.30e-04",
           "2.46e-05",
           "5.86e-06",
           "1.39e-04",
           "0.00e+00",
           "3.49e-05",
           "2.26e-04",
           "1.33e-04"
          ],
          [
           "4.38e-04",
           "2.73e-04",
           "2.23e-04",
           "2.40e-04",
           "1.56e-04",
           "2.52e-04",
           "2.36e-04",
           "9.71e-05",
           "1.26e-04",
           "1.14e-04",
           "8.22e-05",
           "7.88e-05",
           "1.31e-04",
           "7.00e-05",
           "0.00e+00",
           "2.11e-04",
           "1.25e-04"
          ],
          [
           "4.58e-04",
           "2.86e-04",
           "2.51e-04",
           "2.70e-04",
           "1.71e-04",
           "2.33e-04",
           "2.15e-04",
           "9.71e-05",
           "1.21e-04",
           "1.39e-04",
           "2.18e-04",
           "2.28e-04",
           "1.43e-04",
           "2.08e-04",
           "9.73e-05",
           "0.00e+00",
           "9.79e-05"
          ],
          [
           "4.57e-04",
           "2.89e-04",
           "2.55e-04",
           "2.71e-04",
           "1.76e-04",
           "2.37e-04",
           "2.14e-04",
           "1.02e-04",
           "1.22e-04",
           "1.44e-04",
           "2.18e-04",
           "2.26e-04",
           "1.47e-04",
           "2.06e-04",
           "1.00e-04",
           "1.55e-04",
           "0.00e+00"
          ]
         ],
         "textfont": {
          "color": "black"
         },
         "texttemplate": "%{text}",
         "type": "heatmap",
         "x": [
          "BAAI/bge-small-en-v1.5",
          "intfloat/e5-small-v2",
          "thenlper/gte-small",
          "BAAI/bge-base-en-v1.5",
          "intfloat/e5-base-v2",
          "sentence-transformers/gtr-t5-base",
          "sentence-transformers/gtr-t5-large",
          "sentence-transformers/sentence-t5-base",
          "sentence-transformers/sentence-t5-large",
          "thenlper/gte-base",
          "BAAI/bge-large-en-v1.5",
          "WhereIsAI/UAE-Large-V1",
          "intfloat/e5-large-v2",
          "mixedbread-ai/mxbai-embed-large-v1",
          "thenlper/gte-large",
          "openai/text-embedding-3-small",
          "openai/text-embedding-3-large"
         ],
         "y": [
          "BAAI/bge-small-en-v1.5",
          "intfloat/e5-small-v2",
          "thenlper/gte-small",
          "BAAI/bge-base-en-v1.5",
          "intfloat/e5-base-v2",
          "sentence-transformers/gtr-t5-base",
          "sentence-transformers/gtr-t5-large",
          "sentence-transformers/sentence-t5-base",
          "sentence-transformers/sentence-t5-large",
          "thenlper/gte-base",
          "BAAI/bge-large-en-v1.5",
          "WhereIsAI/UAE-Large-V1",
          "intfloat/e5-large-v2",
          "mixedbread-ai/mxbai-embed-large-v1",
          "thenlper/gte-large",
          "openai/text-embedding-3-small",
          "openai/text-embedding-3-large"
         ],
         "z": [
          [
           0,
           0.0002619409642647952,
           0.0000698440198902972,
           0.0002788458950817585,
           0.0001852203713497147,
           0.0002927928580902517,
           0.00028765833121724427,
           0.0001202695129904896,
           0.00016210865578614175,
           0.00014710087270941585,
           0.00023179520212579519,
           0.0002541676221881062,
           0.00015425214951392263,
           0.00023344640794675797,
           0.0001090894074877724,
           0.0002632998221088201,
           0.00015170614642556757
          ],
          [
           0.0004142916004639119,
           0,
           0.00022319224081002176,
           0.0002920668921433389,
           0.00016180326929315925,
           0.00029100742540322244,
           0.0002829406876116991,
           0.00011474329221528023,
           0.00015435679233632982,
           0.00014756948803551495,
           0.0002372967719566077,
           0.0002629122755024582,
           0.00013732552179135382,
           0.0002407944411970675,
           0.00010739066055975854,
           0.0002592110831756145,
           0.00015018779959063977
          ],
          [
           0.00012868482735939324,
           0.0002551869547460228,
           0,
           0.0002814840117935091,
           0.00018099002772942185,
           0.00028646638384088874,
           0.00028259423561394215,
           0.00011675892164930701,
           0.0001569354790262878,
           0.00013667487655766308,
           0.00023765757214277983,
           0.0002567046321928501,
           0.00015109076048247516,
           0.0002351448783883825,
           0.00010070585267385468,
           0.0002545003080740571,
           0.00014780637866351753
          ],
          [
           0.0004328102804720402,
           0.0002865760470740497,
           0.00024609247338958085,
           0,
           0.00014655185805168003,
           0.0002707232197280973,
           0.0002635349810589105,
           0.00010998266952810809,
           0.00014960292901378125,
           0.00004305013862904161,
           0.00020097866945434362,
           0.00021884310990571976,
           0.00014331255806609988,
           0.00020086622680537403,
           0.00009581272024661303,
           0.00024231703719124198,
           0.00014239778101909906
          ],
          [
           0.0004674938099924475,
           0.00025194004410877824,
           0.0002533617662265897,
           0.00022320143762044609,
           0,
           0.00026836415054276586,
           0.00025764829479157925,
           0.00010283820301992819,
           0.00013801436580251902,
           0.00011079640535172075,
           0.00020966443116776645,
           0.00022885877115186304,
           0.00012430493370629847,
           0.00020860409131273627,
           0.00009330563625553623,
           0.0002338582562515512,
           0.00013876058801542968
          ],
          [
           0.0005219542072154582,
           0.0003164924855809659,
           0.00028437472064979374,
           0.00030094903195276856,
           0.00018619309412315488,
           0,
           0.00018906987679656595,
           0.00007494183955714107,
           0.00013925642997492105,
           0.0001547600404592231,
           0.0002461375552229583,
           0.00026437846827320755,
           0.0001535454939585179,
           0.0002453525667078793,
           0.0001117161227739416,
           0.00024047584156505764,
           0.0001411361590726301
          ],
          [
           0.0005008604493923485,
           0.00030181484180502594,
           0.00027133934781886637,
           0.00028631731402128935,
           0.0001765930064721033,
           0.00017331344133708626,
           0,
           0.00009126840450335294,
           0.00009049960499396548,
           0.000145616359077394,
           0.00022743975569028407,
           0.0002417482901364565,
           0.0001430574629921466,
           0.0002226478245574981,
           0.00010105600813403726,
           0.0002163014723919332,
           0.00012692931341007352
          ],
          [
           0.0005060156690888107,
           0.0003041803138330579,
           0.000271186581812799,
           0.00029065500712022185,
           0.0001761496823746711,
           0.00016538483032491058,
           0.00022431148681789637,
           0,
           0.00009440993017051369,
           0.0001459170744055882,
           0.00023369969858322293,
           0.00024872279027476907,
           0.00014497965457849205,
           0.00022637750953435898,
           0.00010129177098860964,
           0.0002239336899947375,
           0.00013233916251920164
          ],
          [
           0.0005118867265991867,
           0.00030303874518722296,
           0.00027056882390752435,
           0.00028987161931581795,
           0.00017412037414032966,
           0.00023140084522310644,
           0.0001543903781566769,
           0.0000653667957521975,
           0,
           0.00014441115490626544,
           0.0002280202170368284,
           0.00024067057529464364,
           0.00013998291979078203,
           0.00021816327353008091,
           0.00009746165596880019,
           0.00021063440362922847,
           0.0001214869917021133
          ],
          [
           0.0004306856426410377,
           0.0002732464636210352,
           0.00022207890287972987,
           0.00007962518429849297,
           0.00013670649786945432,
           0.0002582708257250488,
           0.0002512531937099993,
           0.00010218451643595472,
           0.00013969553401693702,
           0,
           0.00020496435172390193,
           0.0002165918267564848,
           0.00013692786160390824,
           0.0001966791896848008,
           0.00008427946158917621,
           0.0002270141412736848,
           0.00013463948562275618
          ],
          [
           0.00044649705523625016,
           0.0002890465548262,
           0.00025661979452706873,
           0.0002459996903780848,
           0.00016518324264325202,
           0.00027161368052475154,
           0.0002567352494224906,
           0.00010919121268671006,
           0.0001439414481865242,
           0.00013408056111074984,
           0,
           0.000019625698769232258,
           0.0001397623709635809,
           0.00002393493559793569,
           0.00003993714926764369,
           0.00023585853341501206,
           0.00013751616643276066
          ],
          [
           0.0004405176150612533,
           0.00028902184567414224,
           0.00025196897331625223,
           0.0002449783496558666,
           0.0001665642048465088,
           0.00026597946998663247,
           0.00025196405476890504,
           0.00010651790944393724,
           0.00013945171667728573,
           0.0001319236762356013,
           0.0000192639599845279,
           0,
           0.00014008830476086587,
           0.000005558636530622607,
           0.00003638775888248347,
           0.00022906616504769772,
           0.0001341733877779916
          ],
          [
           0.0004958327044732869,
           0.00025933835422620177,
           0.0002663161722011864,
           0.00027427409077063203,
           0.00014567363541573286,
           0.00027115779812447727,
           0.000252008467214182,
           0.00010421289334772155,
           0.00013257544196676463,
           0.00013826553185936064,
           0.00021301594097167253,
           0.00023135852825362235,
           0,
           0.00020937263616360724,
           0.00009416003013029695,
           0.00023146603780332953,
           0.00013513634621631354
          ],
          [
           0.0004367327783256769,
           0.00028734980151057243,
           0.0002497032401151955,
           0.00024395617947448045,
           0.00016505665553268045,
           0.00026417378103360534,
           0.0002497263194527477,
           0.00010378342994954437,
           0.0001357765431748703,
           0.00013041406054981053,
           0.000024579525415902026,
           0.000005859312750544632,
           0.00013881608902011067,
           0,
           0.000034935939766000956,
           0.00022615706257056445,
           0.0001329275401076302
          ],
          [
           0.00043835234828293324,
           0.0002730541455093771,
           0.00022301390708889812,
           0.00024045440659392625,
           0.0001558007934363559,
           0.0002519497647881508,
           0.00023630735813640058,
           0.00009711882739793509,
           0.00012601468188222498,
           0.00011447598808445036,
           0.00008223341865232214,
           0.0000787968747317791,
           0.00013140497321728617,
           0.00006999953620834276,
           0,
           0.00021121469035279006,
           0.00012520121526904404
          ],
          [
           0.00045782720553688705,
           0.0002864328562282026,
           0.0002508567413315177,
           0.00026974742650054395,
           0.00017148641927633435,
           0.00023298269661609083,
           0.00021539031877182424,
           0.00009714943007566035,
           0.00012135877477703616,
           0.0001393375132465735,
           0.00021845691662747413,
           0.00022779365826863796,
           0.00014297303277999163,
           0.0002076199307339266,
           0.00009728621080284938,
           0,
           0.00009788409079192206
          ],
          [
           0.00045655411668121815,
           0.000289029732812196,
           0.00025456532603129745,
           0.0002711065753828734,
           0.0001763746258802712,
           0.00023702533508185297,
           0.0002144275204045698,
           0.00010183168342337012,
           0.00012155815784353763,
           0.00014361162902787328,
           0.0002181064774049446,
           0.00022553942108061165,
           0.00014703437045682222,
           0.00020587608742062002,
           0.00010022774949902669,
           0.00015470875950995833,
           0
          ]
         ]
        }
       ],
       "layout": {
        "height": 600,
        "template": {
         "data": {
          "bar": [
           {
            "error_x": {
             "color": "#2a3f5f"
            },
            "error_y": {
             "color": "#2a3f5f"
            },
            "marker": {
             "line": {
              "color": "#E5ECF6",
              "width": 0.5
             },
             "pattern": {
              "fillmode": "overlay",
              "size": 10,
              "solidity": 0.2
             }
            },
            "type": "bar"
           }
          ],
          "barpolar": [
           {
            "marker": {
             "line": {
              "color": "#E5ECF6",
              "width": 0.5
             },
             "pattern": {
              "fillmode": "overlay",
              "size": 10,
              "solidity": 0.2
             }
            },
            "type": "barpolar"
           }
          ],
          "carpet": [
           {
            "aaxis": {
             "endlinecolor": "#2a3f5f",
             "gridcolor": "white",
             "linecolor": "white",
             "minorgridcolor": "white",
             "startlinecolor": "#2a3f5f"
            },
            "baxis": {
             "endlinecolor": "#2a3f5f",
             "gridcolor": "white",
             "linecolor": "white",
             "minorgridcolor": "white",
             "startlinecolor": "#2a3f5f"
            },
            "type": "carpet"
           }
          ],
          "choropleth": [
           {
            "colorbar": {
             "outlinewidth": 0,
             "ticks": ""
            },
            "type": "choropleth"
           }
          ],
          "contour": [
           {
            "colorbar": {
             "outlinewidth": 0,
             "ticks": ""
            },
            "colorscale": [
             [
              0,
              "#0d0887"
             ],
             [
              0.1111111111111111,
              "#46039f"
             ],
             [
              0.2222222222222222,
              "#7201a8"
             ],
             [
              0.3333333333333333,
              "#9c179e"
             ],
             [
              0.4444444444444444,
              "#bd3786"
             ],
             [
              0.5555555555555556,
              "#d8576b"
             ],
             [
              0.6666666666666666,
              "#ed7953"
             ],
             [
              0.7777777777777778,
              "#fb9f3a"
             ],
             [
              0.8888888888888888,
              "#fdca26"
             ],
             [
              1,
              "#f0f921"
             ]
            ],
            "type": "contour"
           }
          ],
          "contourcarpet": [
           {
            "colorbar": {
             "outlinewidth": 0,
             "ticks": ""
            },
            "type": "contourcarpet"
           }
          ],
          "heatmap": [
           {
            "colorbar": {
             "outlinewidth": 0,
             "ticks": ""
            },
            "colorscale": [
             [
              0,
              "#0d0887"
             ],
             [
              0.1111111111111111,
              "#46039f"
             ],
             [
              0.2222222222222222,
              "#7201a8"
             ],
             [
              0.3333333333333333,
              "#9c179e"
             ],
             [
              0.4444444444444444,
              "#bd3786"
             ],
             [
              0.5555555555555556,
              "#d8576b"
             ],
             [
              0.6666666666666666,
              "#ed7953"
             ],
             [
              0.7777777777777778,
              "#fb9f3a"
             ],
             [
              0.8888888888888888,
              "#fdca26"
             ],
             [
              1,
              "#f0f921"
             ]
            ],
            "type": "heatmap"
           }
          ],
          "heatmapgl": [
           {
            "colorbar": {
             "outlinewidth": 0,
             "ticks": ""
            },
            "colorscale": [
             [
              0,
              "#0d0887"
             ],
             [
              0.1111111111111111,
              "#46039f"
             ],
             [
              0.2222222222222222,
              "#7201a8"
             ],
             [
              0.3333333333333333,
              "#9c179e"
             ],
             [
              0.4444444444444444,
              "#bd3786"
             ],
             [
              0.5555555555555556,
              "#d8576b"
             ],
             [
              0.6666666666666666,
              "#ed7953"
             ],
             [
              0.7777777777777778,
              "#fb9f3a"
             ],
             [
              0.8888888888888888,
              "#fdca26"
             ],
             [
              1,
              "#f0f921"
             ]
            ],
            "type": "heatmapgl"
           }
          ],
          "histogram": [
           {
            "marker": {
             "pattern": {
              "fillmode": "overlay",
              "size": 10,
              "solidity": 0.2
             }
            },
            "type": "histogram"
           }
          ],
          "histogram2d": [
           {
            "colorbar": {
             "outlinewidth": 0,
             "ticks": ""
            },
            "colorscale": [
             [
              0,
              "#0d0887"
             ],
             [
              0.1111111111111111,
              "#46039f"
             ],
             [
              0.2222222222222222,
              "#7201a8"
             ],
             [
              0.3333333333333333,
              "#9c179e"
             ],
             [
              0.4444444444444444,
              "#bd3786"
             ],
             [
              0.5555555555555556,
              "#d8576b"
             ],
             [
              0.6666666666666666,
              "#ed7953"
             ],
             [
              0.7777777777777778,
              "#fb9f3a"
             ],
             [
              0.8888888888888888,
              "#fdca26"
             ],
             [
              1,
              "#f0f921"
             ]
            ],
            "type": "histogram2d"
           }
          ],
          "histogram2dcontour": [
           {
            "colorbar": {
             "outlinewidth": 0,
             "ticks": ""
            },
            "colorscale": [
             [
              0,
              "#0d0887"
             ],
             [
              0.1111111111111111,
              "#46039f"
             ],
             [
              0.2222222222222222,
              "#7201a8"
             ],
             [
              0.3333333333333333,
              "#9c179e"
             ],
             [
              0.4444444444444444,
              "#bd3786"
             ],
             [
              0.5555555555555556,
              "#d8576b"
             ],
             [
              0.6666666666666666,
              "#ed7953"
             ],
             [
              0.7777777777777778,
              "#fb9f3a"
             ],
             [
              0.8888888888888888,
              "#fdca26"
             ],
             [
              1,
              "#f0f921"
             ]
            ],
            "type": "histogram2dcontour"
           }
          ],
          "mesh3d": [
           {
            "colorbar": {
             "outlinewidth": 0,
             "ticks": ""
            },
            "type": "mesh3d"
           }
          ],
          "parcoords": [
           {
            "line": {
             "colorbar": {
              "outlinewidth": 0,
              "ticks": ""
             }
            },
            "type": "parcoords"
           }
          ],
          "pie": [
           {
            "automargin": true,
            "type": "pie"
           }
          ],
          "scatter": [
           {
            "fillpattern": {
             "fillmode": "overlay",
             "size": 10,
             "solidity": 0.2
            },
            "type": "scatter"
           }
          ],
          "scatter3d": [
           {
            "line": {
             "colorbar": {
              "outlinewidth": 0,
              "ticks": ""
             }
            },
            "marker": {
             "colorbar": {
              "outlinewidth": 0,
              "ticks": ""
             }
            },
            "type": "scatter3d"
           }
          ],
          "scattercarpet": [
           {
            "marker": {
             "colorbar": {
              "outlinewidth": 0,
              "ticks": ""
             }
            },
            "type": "scattercarpet"
           }
          ],
          "scattergeo": [
           {
            "marker": {
             "colorbar": {
              "outlinewidth": 0,
              "ticks": ""
             }
            },
            "type": "scattergeo"
           }
          ],
          "scattergl": [
           {
            "marker": {
             "colorbar": {
              "outlinewidth": 0,
              "ticks": ""
             }
            },
            "type": "scattergl"
           }
          ],
          "scattermapbox": [
           {
            "marker": {
             "colorbar": {
              "outlinewidth": 0,
              "ticks": ""
             }
            },
            "type": "scattermapbox"
           }
          ],
          "scatterpolar": [
           {
            "marker": {
             "colorbar": {
              "outlinewidth": 0,
              "ticks": ""
             }
            },
            "type": "scatterpolar"
           }
          ],
          "scatterpolargl": [
           {
            "marker": {
             "colorbar": {
              "outlinewidth": 0,
              "ticks": ""
             }
            },
            "type": "scatterpolargl"
           }
          ],
          "scatterternary": [
           {
            "marker": {
             "colorbar": {
              "outlinewidth": 0,
              "ticks": ""
             }
            },
            "type": "scatterternary"
           }
          ],
          "surface": [
           {
            "colorbar": {
             "outlinewidth": 0,
             "ticks": ""
            },
            "colorscale": [
             [
              0,
              "#0d0887"
             ],
             [
              0.1111111111111111,
              "#46039f"
             ],
             [
              0.2222222222222222,
              "#7201a8"
             ],
             [
              0.3333333333333333,
              "#9c179e"
             ],
             [
              0.4444444444444444,
              "#bd3786"
             ],
             [
              0.5555555555555556,
              "#d8576b"
             ],
             [
              0.6666666666666666,
              "#ed7953"
             ],
             [
              0.7777777777777778,
              "#fb9f3a"
             ],
             [
              0.8888888888888888,
              "#fdca26"
             ],
             [
              1,
              "#f0f921"
             ]
            ],
            "type": "surface"
           }
          ],
          "table": [
           {
            "cells": {
             "fill": {
              "color": "#EBF0F8"
             },
             "line": {
              "color": "white"
             }
            },
            "header": {
             "fill": {
              "color": "#C8D4E3"
             },
             "line": {
              "color": "white"
             }
            },
            "type": "table"
           }
          ]
         },
         "layout": {
          "annotationdefaults": {
           "arrowcolor": "#2a3f5f",
           "arrowhead": 0,
           "arrowwidth": 1
          },
          "autotypenumbers": "strict",
          "coloraxis": {
           "colorbar": {
            "outlinewidth": 0,
            "ticks": ""
           }
          },
          "colorscale": {
           "diverging": [
            [
             0,
             "#8e0152"
            ],
            [
             0.1,
             "#c51b7d"
            ],
            [
             0.2,
             "#de77ae"
            ],
            [
             0.3,
             "#f1b6da"
            ],
            [
             0.4,
             "#fde0ef"
            ],
            [
             0.5,
             "#f7f7f7"
            ],
            [
             0.6,
             "#e6f5d0"
            ],
            [
             0.7,
             "#b8e186"
            ],
            [
             0.8,
             "#7fbc41"
            ],
            [
             0.9,
             "#4d9221"
            ],
            [
             1,
             "#276419"
            ]
           ],
           "sequential": [
            [
             0,
             "#0d0887"
            ],
            [
             0.1111111111111111,
             "#46039f"
            ],
            [
             0.2222222222222222,
             "#7201a8"
            ],
            [
             0.3333333333333333,
             "#9c179e"
            ],
            [
             0.4444444444444444,
             "#bd3786"
            ],
            [
             0.5555555555555556,
             "#d8576b"
            ],
            [
             0.6666666666666666,
             "#ed7953"
            ],
            [
             0.7777777777777778,
             "#fb9f3a"
            ],
            [
             0.8888888888888888,
             "#fdca26"
            ],
            [
             1,
             "#f0f921"
            ]
           ],
           "sequentialminus": [
            [
             0,
             "#0d0887"
            ],
            [
             0.1111111111111111,
             "#46039f"
            ],
            [
             0.2222222222222222,
             "#7201a8"
            ],
            [
             0.3333333333333333,
             "#9c179e"
            ],
            [
             0.4444444444444444,
             "#bd3786"
            ],
            [
             0.5555555555555556,
             "#d8576b"
            ],
            [
             0.6666666666666666,
             "#ed7953"
            ],
            [
             0.7777777777777778,
             "#fb9f3a"
            ],
            [
             0.8888888888888888,
             "#fdca26"
            ],
            [
             1,
             "#f0f921"
            ]
           ]
          },
          "colorway": [
           "#636efa",
           "#EF553B",
           "#00cc96",
           "#ab63fa",
           "#FFA15A",
           "#19d3f3",
           "#FF6692",
           "#B6E880",
           "#FF97FF",
           "#FECB52"
          ],
          "font": {
           "color": "#2a3f5f"
          },
          "geo": {
           "bgcolor": "white",
           "lakecolor": "white",
           "landcolor": "#E5ECF6",
           "showlakes": true,
           "showland": true,
           "subunitcolor": "white"
          },
          "hoverlabel": {
           "align": "left"
          },
          "hovermode": "closest",
          "mapbox": {
           "style": "light"
          },
          "paper_bgcolor": "white",
          "plot_bgcolor": "#E5ECF6",
          "polar": {
           "angularaxis": {
            "gridcolor": "white",
            "linecolor": "white",
            "ticks": ""
           },
           "bgcolor": "#E5ECF6",
           "radialaxis": {
            "gridcolor": "white",
            "linecolor": "white",
            "ticks": ""
           }
          },
          "scene": {
           "xaxis": {
            "backgroundcolor": "#E5ECF6",
            "gridcolor": "white",
            "gridwidth": 2,
            "linecolor": "white",
            "showbackground": true,
            "ticks": "",
            "zerolinecolor": "white"
           },
           "yaxis": {
            "backgroundcolor": "#E5ECF6",
            "gridcolor": "white",
            "gridwidth": 2,
            "linecolor": "white",
            "showbackground": true,
            "ticks": "",
            "zerolinecolor": "white"
           },
           "zaxis": {
            "backgroundcolor": "#E5ECF6",
            "gridcolor": "white",
            "gridwidth": 2,
            "linecolor": "white",
            "showbackground": true,
            "ticks": "",
            "zerolinecolor": "white"
           }
          },
          "shapedefaults": {
           "line": {
            "color": "#2a3f5f"
           }
          },
          "ternary": {
           "aaxis": {
            "gridcolor": "white",
            "linecolor": "white",
            "ticks": ""
           },
           "baxis": {
            "gridcolor": "white",
            "linecolor": "white",
            "ticks": ""
           },
           "bgcolor": "#E5ECF6",
           "caxis": {
            "gridcolor": "white",
            "linecolor": "white",
            "ticks": ""
           }
          },
          "title": {
           "x": 0.05
          },
          "xaxis": {
           "automargin": true,
           "gridcolor": "white",
           "linecolor": "white",
           "ticks": "",
           "title": {
            "standoff": 15
           },
           "zerolinecolor": "white",
           "zerolinewidth": 2
          },
          "yaxis": {
           "automargin": true,
           "gridcolor": "white",
           "linecolor": "white",
           "ticks": "",
           "title": {
            "standoff": 15
           },
           "zerolinecolor": "white",
           "zerolinewidth": 2
          }
         }
        },
        "title": {
         "text": "MSE Matrix on arguana, (Architecture: nnlinear)"
        },
        "width": 800,
        "xaxis": {
         "nticks": 17,
         "title": {
          "text": "Native Embedding Space"
         }
        },
        "yaxis": {
         "nticks": 17,
         "title": {
          "text": "Target Embedding Space"
         }
        }
       }
      },
      "text/html": [
       "<div>                            <div id=\"36bd9f35-a29a-4328-80b5-ee1313d84dab\" class=\"plotly-graph-div\" style=\"height:600px; width:800px;\"></div>            <script type=\"text/javascript\">                require([\"plotly\"], function(Plotly) {                    window.PLOTLYENV=window.PLOTLYENV || {};                                    if (document.getElementById(\"36bd9f35-a29a-4328-80b5-ee1313d84dab\")) {                    Plotly.newPlot(                        \"36bd9f35-a29a-4328-80b5-ee1313d84dab\",                        [{\"colorscale\":[[0.0,\"#440154\"],[0.1111111111111111,\"#482878\"],[0.2222222222222222,\"#3e4989\"],[0.3333333333333333,\"#31688e\"],[0.4444444444444444,\"#26828e\"],[0.5555555555555556,\"#1f9e89\"],[0.6666666666666666,\"#35b779\"],[0.7777777777777778,\"#6ece58\"],[0.8888888888888888,\"#b5de2b\"],[1.0,\"#fde725\"]],\"reversescale\":false,\"showscale\":true,\"text\":[[\"0.00e+00\",\"2.62e-04\",\"6.98e-05\",\"2.79e-04\",\"1.85e-04\",\"2.93e-04\",\"2.88e-04\",\"1.20e-04\",\"1.62e-04\",\"1.47e-04\",\"2.32e-04\",\"2.54e-04\",\"1.54e-04\",\"2.33e-04\",\"1.09e-04\",\"2.63e-04\",\"1.52e-04\"],[\"4.14e-04\",\"0.00e+00\",\"2.23e-04\",\"2.92e-04\",\"1.62e-04\",\"2.91e-04\",\"2.83e-04\",\"1.15e-04\",\"1.54e-04\",\"1.48e-04\",\"2.37e-04\",\"2.63e-04\",\"1.37e-04\",\"2.41e-04\",\"1.07e-04\",\"2.59e-04\",\"1.50e-04\"],[\"1.29e-04\",\"2.55e-04\",\"0.00e+00\",\"2.81e-04\",\"1.81e-04\",\"2.86e-04\",\"2.83e-04\",\"1.17e-04\",\"1.57e-04\",\"1.37e-04\",\"2.38e-04\",\"2.57e-04\",\"1.51e-04\",\"2.35e-04\",\"1.01e-04\",\"2.55e-04\",\"1.48e-04\"],[\"4.33e-04\",\"2.87e-04\",\"2.46e-04\",\"0.00e+00\",\"1.47e-04\",\"2.71e-04\",\"2.64e-04\",\"1.10e-04\",\"1.50e-04\",\"4.31e-05\",\"2.01e-04\",\"2.19e-04\",\"1.43e-04\",\"2.01e-04\",\"9.58e-05\",\"2.42e-04\",\"1.42e-04\"],[\"4.67e-04\",\"2.52e-04\",\"2.53e-04\",\"2.23e-04\",\"0.00e+00\",\"2.68e-04\",\"2.58e-04\",\"1.03e-04\",\"1.38e-04\",\"1.11e-04\",\"2.10e-04\",\"2.29e-04\",\"1.24e-04\",\"2.09e-04\",\"9.33e-05\",\"2.34e-04\",\"1.39e-04\"],[\"5.22e-04\",\"3.16e-04\",\"2.84e-04\",\"3.01e-04\",\"1.86e-04\",\"0.00e+00\",\"1.89e-04\",\"7.49e-05\",\"1.39e-04\",\"1.55e-04\",\"2.46e-04\",\"2.64e-04\",\"1.54e-04\",\"2.45e-04\",\"1.12e-04\",\"2.40e-04\",\"1.41e-04\"],[\"5.01e-04\",\"3.02e-04\",\"2.71e-04\",\"2.86e-04\",\"1.77e-04\",\"1.73e-04\",\"0.00e+00\",\"9.13e-05\",\"9.05e-05\",\"1.46e-04\",\"2.27e-04\",\"2.42e-04\",\"1.43e-04\",\"2.23e-04\",\"1.01e-04\",\"2.16e-04\",\"1.27e-04\"],[\"5.06e-04\",\"3.04e-04\",\"2.71e-04\",\"2.91e-04\",\"1.76e-04\",\"1.65e-04\",\"2.24e-04\",\"0.00e+00\",\"9.44e-05\",\"1.46e-04\",\"2.34e-04\",\"2.49e-04\",\"1.45e-04\",\"2.26e-04\",\"1.01e-04\",\"2.24e-04\",\"1.32e-04\"],[\"5.12e-04\",\"3.03e-04\",\"2.71e-04\",\"2.90e-04\",\"1.74e-04\",\"2.31e-04\",\"1.54e-04\",\"6.54e-05\",\"0.00e+00\",\"1.44e-04\",\"2.28e-04\",\"2.41e-04\",\"1.40e-04\",\"2.18e-04\",\"9.75e-05\",\"2.11e-04\",\"1.21e-04\"],[\"4.31e-04\",\"2.73e-04\",\"2.22e-04\",\"7.96e-05\",\"1.37e-04\",\"2.58e-04\",\"2.51e-04\",\"1.02e-04\",\"1.40e-04\",\"0.00e+00\",\"2.05e-04\",\"2.17e-04\",\"1.37e-04\",\"1.97e-04\",\"8.43e-05\",\"2.27e-04\",\"1.35e-04\"],[\"4.46e-04\",\"2.89e-04\",\"2.57e-04\",\"2.46e-04\",\"1.65e-04\",\"2.72e-04\",\"2.57e-04\",\"1.09e-04\",\"1.44e-04\",\"1.34e-04\",\"0.00e+00\",\"1.96e-05\",\"1.40e-04\",\"2.39e-05\",\"3.99e-05\",\"2.36e-04\",\"1.38e-04\"],[\"4.41e-04\",\"2.89e-04\",\"2.52e-04\",\"2.45e-04\",\"1.67e-04\",\"2.66e-04\",\"2.52e-04\",\"1.07e-04\",\"1.39e-04\",\"1.32e-04\",\"1.93e-05\",\"0.00e+00\",\"1.40e-04\",\"5.56e-06\",\"3.64e-05\",\"2.29e-04\",\"1.34e-04\"],[\"4.96e-04\",\"2.59e-04\",\"2.66e-04\",\"2.74e-04\",\"1.46e-04\",\"2.71e-04\",\"2.52e-04\",\"1.04e-04\",\"1.33e-04\",\"1.38e-04\",\"2.13e-04\",\"2.31e-04\",\"0.00e+00\",\"2.09e-04\",\"9.42e-05\",\"2.31e-04\",\"1.35e-04\"],[\"4.37e-04\",\"2.87e-04\",\"2.50e-04\",\"2.44e-04\",\"1.65e-04\",\"2.64e-04\",\"2.50e-04\",\"1.04e-04\",\"1.36e-04\",\"1.30e-04\",\"2.46e-05\",\"5.86e-06\",\"1.39e-04\",\"0.00e+00\",\"3.49e-05\",\"2.26e-04\",\"1.33e-04\"],[\"4.38e-04\",\"2.73e-04\",\"2.23e-04\",\"2.40e-04\",\"1.56e-04\",\"2.52e-04\",\"2.36e-04\",\"9.71e-05\",\"1.26e-04\",\"1.14e-04\",\"8.22e-05\",\"7.88e-05\",\"1.31e-04\",\"7.00e-05\",\"0.00e+00\",\"2.11e-04\",\"1.25e-04\"],[\"4.58e-04\",\"2.86e-04\",\"2.51e-04\",\"2.70e-04\",\"1.71e-04\",\"2.33e-04\",\"2.15e-04\",\"9.71e-05\",\"1.21e-04\",\"1.39e-04\",\"2.18e-04\",\"2.28e-04\",\"1.43e-04\",\"2.08e-04\",\"9.73e-05\",\"0.00e+00\",\"9.79e-05\"],[\"4.57e-04\",\"2.89e-04\",\"2.55e-04\",\"2.71e-04\",\"1.76e-04\",\"2.37e-04\",\"2.14e-04\",\"1.02e-04\",\"1.22e-04\",\"1.44e-04\",\"2.18e-04\",\"2.26e-04\",\"1.47e-04\",\"2.06e-04\",\"1.00e-04\",\"1.55e-04\",\"0.00e+00\"]],\"textfont\":{\"color\":\"black\"},\"texttemplate\":\"%{text}\",\"x\":[\"BAAI\\u002fbge-small-en-v1.5\",\"intfloat\\u002fe5-small-v2\",\"thenlper\\u002fgte-small\",\"BAAI\\u002fbge-base-en-v1.5\",\"intfloat\\u002fe5-base-v2\",\"sentence-transformers\\u002fgtr-t5-base\",\"sentence-transformers\\u002fgtr-t5-large\",\"sentence-transformers\\u002fsentence-t5-base\",\"sentence-transformers\\u002fsentence-t5-large\",\"thenlper\\u002fgte-base\",\"BAAI\\u002fbge-large-en-v1.5\",\"WhereIsAI\\u002fUAE-Large-V1\",\"intfloat\\u002fe5-large-v2\",\"mixedbread-ai\\u002fmxbai-embed-large-v1\",\"thenlper\\u002fgte-large\",\"openai\\u002ftext-embedding-3-small\",\"openai\\u002ftext-embedding-3-large\"],\"y\":[\"BAAI\\u002fbge-small-en-v1.5\",\"intfloat\\u002fe5-small-v2\",\"thenlper\\u002fgte-small\",\"BAAI\\u002fbge-base-en-v1.5\",\"intfloat\\u002fe5-base-v2\",\"sentence-transformers\\u002fgtr-t5-base\",\"sentence-transformers\\u002fgtr-t5-large\",\"sentence-transformers\\u002fsentence-t5-base\",\"sentence-transformers\\u002fsentence-t5-large\",\"thenlper\\u002fgte-base\",\"BAAI\\u002fbge-large-en-v1.5\",\"WhereIsAI\\u002fUAE-Large-V1\",\"intfloat\\u002fe5-large-v2\",\"mixedbread-ai\\u002fmxbai-embed-large-v1\",\"thenlper\\u002fgte-large\",\"openai\\u002ftext-embedding-3-small\",\"openai\\u002ftext-embedding-3-large\"],\"z\":[[0.0,0.0002619409642647952,0.0000698440198902972,0.0002788458950817585,0.0001852203713497147,0.0002927928580902517,0.00028765833121724427,0.0001202695129904896,0.00016210865578614175,0.00014710087270941585,0.00023179520212579519,0.0002541676221881062,0.00015425214951392263,0.00023344640794675797,0.0001090894074877724,0.0002632998221088201,0.00015170614642556757],[0.0004142916004639119,0.0,0.00022319224081002176,0.0002920668921433389,0.00016180326929315925,0.00029100742540322244,0.0002829406876116991,0.00011474329221528023,0.00015435679233632982,0.00014756948803551495,0.0002372967719566077,0.0002629122755024582,0.00013732552179135382,0.0002407944411970675,0.00010739066055975854,0.0002592110831756145,0.00015018779959063977],[0.00012868482735939324,0.0002551869547460228,0.0,0.0002814840117935091,0.00018099002772942185,0.00028646638384088874,0.00028259423561394215,0.00011675892164930701,0.0001569354790262878,0.00013667487655766308,0.00023765757214277983,0.0002567046321928501,0.00015109076048247516,0.0002351448783883825,0.00010070585267385468,0.0002545003080740571,0.00014780637866351753],[0.0004328102804720402,0.0002865760470740497,0.00024609247338958085,0.0,0.00014655185805168003,0.0002707232197280973,0.0002635349810589105,0.00010998266952810809,0.00014960292901378125,0.00004305013862904161,0.00020097866945434362,0.00021884310990571976,0.00014331255806609988,0.00020086622680537403,0.00009581272024661303,0.00024231703719124198,0.00014239778101909906],[0.0004674938099924475,0.00025194004410877824,0.0002533617662265897,0.00022320143762044609,0.0,0.00026836415054276586,0.00025764829479157925,0.00010283820301992819,0.00013801436580251902,0.00011079640535172075,0.00020966443116776645,0.00022885877115186304,0.00012430493370629847,0.00020860409131273627,0.00009330563625553623,0.0002338582562515512,0.00013876058801542968],[0.0005219542072154582,0.0003164924855809659,0.00028437472064979374,0.00030094903195276856,0.00018619309412315488,0.0,0.00018906987679656595,0.00007494183955714107,0.00013925642997492105,0.0001547600404592231,0.0002461375552229583,0.00026437846827320755,0.0001535454939585179,0.0002453525667078793,0.0001117161227739416,0.00024047584156505764,0.0001411361590726301],[0.0005008604493923485,0.00030181484180502594,0.00027133934781886637,0.00028631731402128935,0.0001765930064721033,0.00017331344133708626,0.0,0.00009126840450335294,0.00009049960499396548,0.000145616359077394,0.00022743975569028407,0.0002417482901364565,0.0001430574629921466,0.0002226478245574981,0.00010105600813403726,0.0002163014723919332,0.00012692931341007352],[0.0005060156690888107,0.0003041803138330579,0.000271186581812799,0.00029065500712022185,0.0001761496823746711,0.00016538483032491058,0.00022431148681789637,0.0,0.00009440993017051369,0.0001459170744055882,0.00023369969858322293,0.00024872279027476907,0.00014497965457849205,0.00022637750953435898,0.00010129177098860964,0.0002239336899947375,0.00013233916251920164],[0.0005118867265991867,0.00030303874518722296,0.00027056882390752435,0.00028987161931581795,0.00017412037414032966,0.00023140084522310644,0.0001543903781566769,0.0000653667957521975,0.0,0.00014441115490626544,0.0002280202170368284,0.00024067057529464364,0.00013998291979078203,0.00021816327353008091,0.00009746165596880019,0.00021063440362922847,0.0001214869917021133],[0.0004306856426410377,0.0002732464636210352,0.00022207890287972987,0.00007962518429849297,0.00013670649786945432,0.0002582708257250488,0.0002512531937099993,0.00010218451643595472,0.00013969553401693702,0.0,0.00020496435172390193,0.0002165918267564848,0.00013692786160390824,0.0001966791896848008,0.00008427946158917621,0.0002270141412736848,0.00013463948562275618],[0.00044649705523625016,0.0002890465548262,0.00025661979452706873,0.0002459996903780848,0.00016518324264325202,0.00027161368052475154,0.0002567352494224906,0.00010919121268671006,0.0001439414481865242,0.00013408056111074984,0.0,0.000019625698769232258,0.0001397623709635809,0.00002393493559793569,0.00003993714926764369,0.00023585853341501206,0.00013751616643276066],[0.0004405176150612533,0.00028902184567414224,0.00025196897331625223,0.0002449783496558666,0.0001665642048465088,0.00026597946998663247,0.00025196405476890504,0.00010651790944393724,0.00013945171667728573,0.0001319236762356013,0.0000192639599845279,0.0,0.00014008830476086587,5.558636530622607e-6,0.00003638775888248347,0.00022906616504769772,0.0001341733877779916],[0.0004958327044732869,0.00025933835422620177,0.0002663161722011864,0.00027427409077063203,0.00014567363541573286,0.00027115779812447727,0.000252008467214182,0.00010421289334772155,0.00013257544196676463,0.00013826553185936064,0.00021301594097167253,0.00023135852825362235,0.0,0.00020937263616360724,0.00009416003013029695,0.00023146603780332953,0.00013513634621631354],[0.0004367327783256769,0.00028734980151057243,0.0002497032401151955,0.00024395617947448045,0.00016505665553268045,0.00026417378103360534,0.0002497263194527477,0.00010378342994954437,0.0001357765431748703,0.00013041406054981053,0.000024579525415902026,5.859312750544632e-6,0.00013881608902011067,0.0,0.000034935939766000956,0.00022615706257056445,0.0001329275401076302],[0.00043835234828293324,0.0002730541455093771,0.00022301390708889812,0.00024045440659392625,0.0001558007934363559,0.0002519497647881508,0.00023630735813640058,0.00009711882739793509,0.00012601468188222498,0.00011447598808445036,0.00008223341865232214,0.0000787968747317791,0.00013140497321728617,0.00006999953620834276,0.0,0.00021121469035279006,0.00012520121526904404],[0.00045782720553688705,0.0002864328562282026,0.0002508567413315177,0.00026974742650054395,0.00017148641927633435,0.00023298269661609083,0.00021539031877182424,0.00009714943007566035,0.00012135877477703616,0.0001393375132465735,0.00021845691662747413,0.00022779365826863796,0.00014297303277999163,0.0002076199307339266,0.00009728621080284938,0.0,0.00009788409079192206],[0.00045655411668121815,0.000289029732812196,0.00025456532603129745,0.0002711065753828734,0.0001763746258802712,0.00023702533508185297,0.0002144275204045698,0.00010183168342337012,0.00012155815784353763,0.00014361162902787328,0.0002181064774049446,0.00022553942108061165,0.00014703437045682222,0.00020587608742062002,0.00010022774949902669,0.00015470875950995833,0.0]],\"type\":\"heatmap\"}],                        {\"template\":{\"data\":{\"histogram2dcontour\":[{\"type\":\"histogram2dcontour\",\"colorbar\":{\"outlinewidth\":0,\"ticks\":\"\"},\"colorscale\":[[0.0,\"#0d0887\"],[0.1111111111111111,\"#46039f\"],[0.2222222222222222,\"#7201a8\"],[0.3333333333333333,\"#9c179e\"],[0.4444444444444444,\"#bd3786\"],[0.5555555555555556,\"#d8576b\"],[0.6666666666666666,\"#ed7953\"],[0.7777777777777778,\"#fb9f3a\"],[0.8888888888888888,\"#fdca26\"],[1.0,\"#f0f921\"]]}],\"choropleth\":[{\"type\":\"choropleth\",\"colorbar\":{\"outlinewidth\":0,\"ticks\":\"\"}}],\"histogram2d\":[{\"type\":\"histogram2d\",\"colorbar\":{\"outlinewidth\":0,\"ticks\":\"\"},\"colorscale\":[[0.0,\"#0d0887\"],[0.1111111111111111,\"#46039f\"],[0.2222222222222222,\"#7201a8\"],[0.3333333333333333,\"#9c179e\"],[0.4444444444444444,\"#bd3786\"],[0.5555555555555556,\"#d8576b\"],[0.6666666666666666,\"#ed7953\"],[0.7777777777777778,\"#fb9f3a\"],[0.8888888888888888,\"#fdca26\"],[1.0,\"#f0f921\"]]}],\"heatmap\":[{\"type\":\"heatmap\",\"colorbar\":{\"outlinewidth\":0,\"ticks\":\"\"},\"colorscale\":[[0.0,\"#0d0887\"],[0.1111111111111111,\"#46039f\"],[0.2222222222222222,\"#7201a8\"],[0.3333333333333333,\"#9c179e\"],[0.4444444444444444,\"#bd3786\"],[0.5555555555555556,\"#d8576b\"],[0.6666666666666666,\"#ed7953\"],[0.7777777777777778,\"#fb9f3a\"],[0.8888888888888888,\"#fdca26\"],[1.0,\"#f0f921\"]]}],\"heatmapgl\":[{\"type\":\"heatmapgl\",\"colorbar\":{\"outlinewidth\":0,\"ticks\":\"\"},\"colorscale\":[[0.0,\"#0d0887\"],[0.1111111111111111,\"#46039f\"],[0.2222222222222222,\"#7201a8\"],[0.3333333333333333,\"#9c179e\"],[0.4444444444444444,\"#bd3786\"],[0.5555555555555556,\"#d8576b\"],[0.6666666666666666,\"#ed7953\"],[0.7777777777777778,\"#fb9f3a\"],[0.8888888888888888,\"#fdca26\"],[1.0,\"#f0f921\"]]}],\"contourcarpet\":[{\"type\":\"contourcarpet\",\"colorbar\":{\"outlinewidth\":0,\"ticks\":\"\"}}],\"contour\":[{\"type\":\"contour\",\"colorbar\":{\"outlinewidth\":0,\"ticks\":\"\"},\"colorscale\":[[0.0,\"#0d0887\"],[0.1111111111111111,\"#46039f\"],[0.2222222222222222,\"#7201a8\"],[0.3333333333333333,\"#9c179e\"],[0.4444444444444444,\"#bd3786\"],[0.5555555555555556,\"#d8576b\"],[0.6666666666666666,\"#ed7953\"],[0.7777777777777778,\"#fb9f3a\"],[0.8888888888888888,\"#fdca26\"],[1.0,\"#f0f921\"]]}],\"surface\":[{\"type\":\"surface\",\"colorbar\":{\"outlinewidth\":0,\"ticks\":\"\"},\"colorscale\":[[0.0,\"#0d0887\"],[0.1111111111111111,\"#46039f\"],[0.2222222222222222,\"#7201a8\"],[0.3333333333333333,\"#9c179e\"],[0.4444444444444444,\"#bd3786\"],[0.5555555555555556,\"#d8576b\"],[0.6666666666666666,\"#ed7953\"],[0.7777777777777778,\"#fb9f3a\"],[0.8888888888888888,\"#fdca26\"],[1.0,\"#f0f921\"]]}],\"mesh3d\":[{\"type\":\"mesh3d\",\"colorbar\":{\"outlinewidth\":0,\"ticks\":\"\"}}],\"scatter\":[{\"fillpattern\":{\"fillmode\":\"overlay\",\"size\":10,\"solidity\":0.2},\"type\":\"scatter\"}],\"parcoords\":[{\"type\":\"parcoords\",\"line\":{\"colorbar\":{\"outlinewidth\":0,\"ticks\":\"\"}}}],\"scatterpolargl\":[{\"type\":\"scatterpolargl\",\"marker\":{\"colorbar\":{\"outlinewidth\":0,\"ticks\":\"\"}}}],\"bar\":[{\"error_x\":{\"color\":\"#2a3f5f\"},\"error_y\":{\"color\":\"#2a3f5f\"},\"marker\":{\"line\":{\"color\":\"#E5ECF6\",\"width\":0.5},\"pattern\":{\"fillmode\":\"overlay\",\"size\":10,\"solidity\":0.2}},\"type\":\"bar\"}],\"scattergeo\":[{\"type\":\"scattergeo\",\"marker\":{\"colorbar\":{\"outlinewidth\":0,\"ticks\":\"\"}}}],\"scatterpolar\":[{\"type\":\"scatterpolar\",\"marker\":{\"colorbar\":{\"outlinewidth\":0,\"ticks\":\"\"}}}],\"histogram\":[{\"marker\":{\"pattern\":{\"fillmode\":\"overlay\",\"size\":10,\"solidity\":0.2}},\"type\":\"histogram\"}],\"scattergl\":[{\"type\":\"scattergl\",\"marker\":{\"colorbar\":{\"outlinewidth\":0,\"ticks\":\"\"}}}],\"scatter3d\":[{\"type\":\"scatter3d\",\"line\":{\"colorbar\":{\"outlinewidth\":0,\"ticks\":\"\"}},\"marker\":{\"colorbar\":{\"outlinewidth\":0,\"ticks\":\"\"}}}],\"scattermapbox\":[{\"type\":\"scattermapbox\",\"marker\":{\"colorbar\":{\"outlinewidth\":0,\"ticks\":\"\"}}}],\"scatterternary\":[{\"type\":\"scatterternary\",\"marker\":{\"colorbar\":{\"outlinewidth\":0,\"ticks\":\"\"}}}],\"scattercarpet\":[{\"type\":\"scattercarpet\",\"marker\":{\"colorbar\":{\"outlinewidth\":0,\"ticks\":\"\"}}}],\"carpet\":[{\"aaxis\":{\"endlinecolor\":\"#2a3f5f\",\"gridcolor\":\"white\",\"linecolor\":\"white\",\"minorgridcolor\":\"white\",\"startlinecolor\":\"#2a3f5f\"},\"baxis\":{\"endlinecolor\":\"#2a3f5f\",\"gridcolor\":\"white\",\"linecolor\":\"white\",\"minorgridcolor\":\"white\",\"startlinecolor\":\"#2a3f5f\"},\"type\":\"carpet\"}],\"table\":[{\"cells\":{\"fill\":{\"color\":\"#EBF0F8\"},\"line\":{\"color\":\"white\"}},\"header\":{\"fill\":{\"color\":\"#C8D4E3\"},\"line\":{\"color\":\"white\"}},\"type\":\"table\"}],\"barpolar\":[{\"marker\":{\"line\":{\"color\":\"#E5ECF6\",\"width\":0.5},\"pattern\":{\"fillmode\":\"overlay\",\"size\":10,\"solidity\":0.2}},\"type\":\"barpolar\"}],\"pie\":[{\"automargin\":true,\"type\":\"pie\"}]},\"layout\":{\"autotypenumbers\":\"strict\",\"colorway\":[\"#636efa\",\"#EF553B\",\"#00cc96\",\"#ab63fa\",\"#FFA15A\",\"#19d3f3\",\"#FF6692\",\"#B6E880\",\"#FF97FF\",\"#FECB52\"],\"font\":{\"color\":\"#2a3f5f\"},\"hovermode\":\"closest\",\"hoverlabel\":{\"align\":\"left\"},\"paper_bgcolor\":\"white\",\"plot_bgcolor\":\"#E5ECF6\",\"polar\":{\"bgcolor\":\"#E5ECF6\",\"angularaxis\":{\"gridcolor\":\"white\",\"linecolor\":\"white\",\"ticks\":\"\"},\"radialaxis\":{\"gridcolor\":\"white\",\"linecolor\":\"white\",\"ticks\":\"\"}},\"ternary\":{\"bgcolor\":\"#E5ECF6\",\"aaxis\":{\"gridcolor\":\"white\",\"linecolor\":\"white\",\"ticks\":\"\"},\"baxis\":{\"gridcolor\":\"white\",\"linecolor\":\"white\",\"ticks\":\"\"},\"caxis\":{\"gridcolor\":\"white\",\"linecolor\":\"white\",\"ticks\":\"\"}},\"coloraxis\":{\"colorbar\":{\"outlinewidth\":0,\"ticks\":\"\"}},\"colorscale\":{\"sequential\":[[0.0,\"#0d0887\"],[0.1111111111111111,\"#46039f\"],[0.2222222222222222,\"#7201a8\"],[0.3333333333333333,\"#9c179e\"],[0.4444444444444444,\"#bd3786\"],[0.5555555555555556,\"#d8576b\"],[0.6666666666666666,\"#ed7953\"],[0.7777777777777778,\"#fb9f3a\"],[0.8888888888888888,\"#fdca26\"],[1.0,\"#f0f921\"]],\"sequentialminus\":[[0.0,\"#0d0887\"],[0.1111111111111111,\"#46039f\"],[0.2222222222222222,\"#7201a8\"],[0.3333333333333333,\"#9c179e\"],[0.4444444444444444,\"#bd3786\"],[0.5555555555555556,\"#d8576b\"],[0.6666666666666666,\"#ed7953\"],[0.7777777777777778,\"#fb9f3a\"],[0.8888888888888888,\"#fdca26\"],[1.0,\"#f0f921\"]],\"diverging\":[[0,\"#8e0152\"],[0.1,\"#c51b7d\"],[0.2,\"#de77ae\"],[0.3,\"#f1b6da\"],[0.4,\"#fde0ef\"],[0.5,\"#f7f7f7\"],[0.6,\"#e6f5d0\"],[0.7,\"#b8e186\"],[0.8,\"#7fbc41\"],[0.9,\"#4d9221\"],[1,\"#276419\"]]},\"xaxis\":{\"gridcolor\":\"white\",\"linecolor\":\"white\",\"ticks\":\"\",\"title\":{\"standoff\":15},\"zerolinecolor\":\"white\",\"automargin\":true,\"zerolinewidth\":2},\"yaxis\":{\"gridcolor\":\"white\",\"linecolor\":\"white\",\"ticks\":\"\",\"title\":{\"standoff\":15},\"zerolinecolor\":\"white\",\"automargin\":true,\"zerolinewidth\":2},\"scene\":{\"xaxis\":{\"backgroundcolor\":\"#E5ECF6\",\"gridcolor\":\"white\",\"linecolor\":\"white\",\"showbackground\":true,\"ticks\":\"\",\"zerolinecolor\":\"white\",\"gridwidth\":2},\"yaxis\":{\"backgroundcolor\":\"#E5ECF6\",\"gridcolor\":\"white\",\"linecolor\":\"white\",\"showbackground\":true,\"ticks\":\"\",\"zerolinecolor\":\"white\",\"gridwidth\":2},\"zaxis\":{\"backgroundcolor\":\"#E5ECF6\",\"gridcolor\":\"white\",\"linecolor\":\"white\",\"showbackground\":true,\"ticks\":\"\",\"zerolinecolor\":\"white\",\"gridwidth\":2}},\"shapedefaults\":{\"line\":{\"color\":\"#2a3f5f\"}},\"annotationdefaults\":{\"arrowcolor\":\"#2a3f5f\",\"arrowhead\":0,\"arrowwidth\":1},\"geo\":{\"bgcolor\":\"white\",\"landcolor\":\"#E5ECF6\",\"subunitcolor\":\"white\",\"showland\":true,\"showlakes\":true,\"lakecolor\":\"white\"},\"title\":{\"x\":0.05},\"mapbox\":{\"style\":\"light\"}}},\"xaxis\":{\"nticks\":17,\"title\":{\"text\":\"Native Embedding Space\"}},\"yaxis\":{\"nticks\":17,\"title\":{\"text\":\"Target Embedding Space\"}},\"title\":{\"text\":\"MSE Matrix on arguana, (Architecture: nnlinear)\"},\"width\":800,\"height\":600},                        {\"responsive\": true}                    ).then(function(){\n",
       "                            \n",
       "var gd = document.getElementById('36bd9f35-a29a-4328-80b5-ee1313d84dab');\n",
       "var x = new MutationObserver(function (mutations, observer) {{\n",
       "        var display = window.getComputedStyle(gd).display;\n",
       "        if (!display || display === 'none') {{\n",
       "            console.log([gd, 'removed!']);\n",
       "            Plotly.purge(gd);\n",
       "            observer.disconnect();\n",
       "        }}\n",
       "}});\n",
       "\n",
       "// Listen for the removal of the full notebook cells\n",
       "var notebookContainer = gd.closest('#notebook-container');\n",
       "if (notebookContainer) {{\n",
       "    x.observe(notebookContainer, {childList: true});\n",
       "}}\n",
       "\n",
       "// Listen for the clearing of the current output cell\n",
       "var outputEl = gd.closest('.output');\n",
       "if (outputEl) {{\n",
       "    x.observe(outputEl, {childList: true});\n",
       "}}\n",
       "\n",
       "                        })                };                });            </script>        </div>"
      ]
     },
     "metadata": {},
     "output_type": "display_data"
    }
   ],
   "source": [
    "# This is an experiment\n",
    "table = nnlinear_dataset2table_validation_mse[\"arguana\"]\n",
    "fig = gatlen_default_heatmap_plot(nnlinear_idx2model, \"arguana\", \"nnlinear\", table, sort_permutation=sort_permutation)\n",
    "save_figure(fig, \"arguana_nnlinear_mse_validation\")\n",
    "fig.show()"
   ]
  },
  {
   "cell_type": "code",
   "execution_count": 23,
   "metadata": {},
   "outputs": [
    {
     "name": "stderr",
     "output_type": "stream",
     "text": [
      "  0%|          | 0/6 [00:00<?, ?it/s]\u001b[32m2024-12-11 19:50:24.753\u001b[0m | \u001b[1mINFO    \u001b[0m | \u001b[36m__main__\u001b[0m:\u001b[36mvisualize_heatmap\u001b[0m:\u001b[36m127\u001b[0m - \u001b[1mStarting heatmap visualization process\u001b[0m\n",
      "\u001b[32m2024-12-11 19:50:24.754\u001b[0m | \u001b[1mINFO    \u001b[0m | \u001b[36m__main__\u001b[0m:\u001b[36m_plot_heatmap\u001b[0m:\u001b[36m52\u001b[0m - \u001b[1mCreating heatmap visualization...\u001b[0m\n",
      "\u001b[32m2024-12-11 19:50:24.764\u001b[0m | \u001b[32m\u001b[1mSUCCESS \u001b[0m | \u001b[36m__main__\u001b[0m:\u001b[36m_plot_heatmap\u001b[0m:\u001b[36m101\u001b[0m - \u001b[32m\u001b[1mHeatmap created successfully\u001b[0m\n",
      "\u001b[32m2024-12-11 19:50:24.765\u001b[0m | \u001b[1mINFO    \u001b[0m | \u001b[36m__main__\u001b[0m:\u001b[36mvisualize_heatmap\u001b[0m:\u001b[36m127\u001b[0m - \u001b[1mStarting heatmap visualization process\u001b[0m\n",
      "\u001b[32m2024-12-11 19:50:24.765\u001b[0m | \u001b[1mINFO    \u001b[0m | \u001b[36m__main__\u001b[0m:\u001b[36m_plot_heatmap\u001b[0m:\u001b[36m52\u001b[0m - \u001b[1mCreating heatmap visualization...\u001b[0m\n",
      "\u001b[32m2024-12-11 19:50:24.774\u001b[0m | \u001b[32m\u001b[1mSUCCESS \u001b[0m | \u001b[36m__main__\u001b[0m:\u001b[36m_plot_heatmap\u001b[0m:\u001b[36m101\u001b[0m - \u001b[32m\u001b[1mHeatmap created successfully\u001b[0m\n",
      "\u001b[32m2024-12-11 19:50:24.775\u001b[0m | \u001b[1mINFO    \u001b[0m | \u001b[36m__main__\u001b[0m:\u001b[36mvisualize_heatmap\u001b[0m:\u001b[36m127\u001b[0m - \u001b[1mStarting heatmap visualization process\u001b[0m\n",
      "\u001b[32m2024-12-11 19:50:24.776\u001b[0m | \u001b[1mINFO    \u001b[0m | \u001b[36m__main__\u001b[0m:\u001b[36m_plot_heatmap\u001b[0m:\u001b[36m52\u001b[0m - \u001b[1mCreating heatmap visualization...\u001b[0m\n",
      "\u001b[32m2024-12-11 19:50:24.785\u001b[0m | \u001b[32m\u001b[1mSUCCESS \u001b[0m | \u001b[36m__main__\u001b[0m:\u001b[36m_plot_heatmap\u001b[0m:\u001b[36m101\u001b[0m - \u001b[32m\u001b[1mHeatmap created successfully\u001b[0m\n",
      "\u001b[32m2024-12-11 19:50:24.786\u001b[0m | \u001b[1mINFO    \u001b[0m | \u001b[36m__main__\u001b[0m:\u001b[36mvisualize_heatmap\u001b[0m:\u001b[36m127\u001b[0m - \u001b[1mStarting heatmap visualization process\u001b[0m\n",
      "\u001b[32m2024-12-11 19:50:24.787\u001b[0m | \u001b[1mINFO    \u001b[0m | \u001b[36m__main__\u001b[0m:\u001b[36m_plot_heatmap\u001b[0m:\u001b[36m52\u001b[0m - \u001b[1mCreating heatmap visualization...\u001b[0m\n",
      "\u001b[32m2024-12-11 19:50:24.795\u001b[0m | \u001b[32m\u001b[1mSUCCESS \u001b[0m | \u001b[36m__main__\u001b[0m:\u001b[36m_plot_heatmap\u001b[0m:\u001b[36m101\u001b[0m - \u001b[32m\u001b[1mHeatmap created successfully\u001b[0m\n",
      "\u001b[32m2024-12-11 19:50:24.800\u001b[0m | \u001b[1mINFO    \u001b[0m | \u001b[36m__main__\u001b[0m:\u001b[36m_save_figure_html\u001b[0m:\u001b[36m156\u001b[0m - \u001b[1mSaving HTML figure to data/figs/html/arguana_nnlinear_mse_withoutlog_validation.html\u001b[0m\n",
      "\u001b[32m2024-12-11 19:50:24.805\u001b[0m | \u001b[32m\u001b[1mSUCCESS \u001b[0m | \u001b[36m__main__\u001b[0m:\u001b[36m_save_figure_html\u001b[0m:\u001b[36m164\u001b[0m - \u001b[32m\u001b[1mSuccessfully saved HTML to data/figs/html/arguana_nnlinear_mse_withoutlog_validation.html\u001b[0m\n",
      "\u001b[32m2024-12-11 19:50:24.806\u001b[0m | \u001b[1mINFO    \u001b[0m | \u001b[36m__main__\u001b[0m:\u001b[36m_save_figure_png\u001b[0m:\u001b[36m190\u001b[0m - \u001b[1mSaving PNG figure to data/figs/imgs/arguana_nnlinear_mse_withoutlog_validation.png\u001b[0m\n",
      "\u001b[32m2024-12-11 19:50:25.198\u001b[0m | \u001b[32m\u001b[1mSUCCESS \u001b[0m | \u001b[36m__main__\u001b[0m:\u001b[36m_save_figure_png\u001b[0m:\u001b[36m199\u001b[0m - \u001b[32m\u001b[1mSuccessfully saved PNG to data/figs/imgs/arguana_nnlinear_mse_withoutlog_validation.png\u001b[0m\n",
      "\u001b[32m2024-12-11 19:50:25.199\u001b[0m | \u001b[1mINFO    \u001b[0m | \u001b[36m__main__\u001b[0m:\u001b[36m_save_figure_html\u001b[0m:\u001b[36m156\u001b[0m - \u001b[1mSaving HTML figure to data/figs/html/arguana_nnlinear_mae_withoutlog_validation.html\u001b[0m\n",
      "\u001b[32m2024-12-11 19:50:25.203\u001b[0m | \u001b[32m\u001b[1mSUCCESS \u001b[0m | \u001b[36m__main__\u001b[0m:\u001b[36m_save_figure_html\u001b[0m:\u001b[36m164\u001b[0m - \u001b[32m\u001b[1mSuccessfully saved HTML to data/figs/html/arguana_nnlinear_mae_withoutlog_validation.html\u001b[0m\n",
      "\u001b[32m2024-12-11 19:50:25.203\u001b[0m | \u001b[1mINFO    \u001b[0m | \u001b[36m__main__\u001b[0m:\u001b[36m_save_figure_png\u001b[0m:\u001b[36m190\u001b[0m - \u001b[1mSaving PNG figure to data/figs/imgs/arguana_nnlinear_mae_withoutlog_validation.png\u001b[0m\n",
      "\u001b[32m2024-12-11 19:50:25.550\u001b[0m | \u001b[32m\u001b[1mSUCCESS \u001b[0m | \u001b[36m__main__\u001b[0m:\u001b[36m_save_figure_png\u001b[0m:\u001b[36m199\u001b[0m - \u001b[32m\u001b[1mSuccessfully saved PNG to data/figs/imgs/arguana_nnlinear_mae_withoutlog_validation.png\u001b[0m\n",
      "\u001b[32m2024-12-11 19:50:25.551\u001b[0m | \u001b[1mINFO    \u001b[0m | \u001b[36m__main__\u001b[0m:\u001b[36m_save_figure_html\u001b[0m:\u001b[36m156\u001b[0m - \u001b[1mSaving HTML figure to data/figs/html/arguana_nnlinear_mse_withlog_validation.html\u001b[0m\n",
      "\u001b[32m2024-12-11 19:50:25.555\u001b[0m | \u001b[32m\u001b[1mSUCCESS \u001b[0m | \u001b[36m__main__\u001b[0m:\u001b[36m_save_figure_html\u001b[0m:\u001b[36m164\u001b[0m - \u001b[32m\u001b[1mSuccessfully saved HTML to data/figs/html/arguana_nnlinear_mse_withlog_validation.html\u001b[0m\n",
      "\u001b[32m2024-12-11 19:50:25.555\u001b[0m | \u001b[1mINFO    \u001b[0m | \u001b[36m__main__\u001b[0m:\u001b[36m_save_figure_png\u001b[0m:\u001b[36m190\u001b[0m - \u001b[1mSaving PNG figure to data/figs/imgs/arguana_nnlinear_mse_withlog_validation.png\u001b[0m\n",
      "\u001b[32m2024-12-11 19:50:25.889\u001b[0m | \u001b[32m\u001b[1mSUCCESS \u001b[0m | \u001b[36m__main__\u001b[0m:\u001b[36m_save_figure_png\u001b[0m:\u001b[36m199\u001b[0m - \u001b[32m\u001b[1mSuccessfully saved PNG to data/figs/imgs/arguana_nnlinear_mse_withlog_validation.png\u001b[0m\n",
      "\u001b[32m2024-12-11 19:50:25.891\u001b[0m | \u001b[1mINFO    \u001b[0m | \u001b[36m__main__\u001b[0m:\u001b[36m_save_figure_html\u001b[0m:\u001b[36m156\u001b[0m - \u001b[1mSaving HTML figure to data/figs/html/arguana_nnlinear_mae_withlog_validation.html\u001b[0m\n",
      "\u001b[32m2024-12-11 19:50:25.896\u001b[0m | \u001b[32m\u001b[1mSUCCESS \u001b[0m | \u001b[36m__main__\u001b[0m:\u001b[36m_save_figure_html\u001b[0m:\u001b[36m164\u001b[0m - \u001b[32m\u001b[1mSuccessfully saved HTML to data/figs/html/arguana_nnlinear_mae_withlog_validation.html\u001b[0m\n",
      "\u001b[32m2024-12-11 19:50:25.896\u001b[0m | \u001b[1mINFO    \u001b[0m | \u001b[36m__main__\u001b[0m:\u001b[36m_save_figure_png\u001b[0m:\u001b[36m190\u001b[0m - \u001b[1mSaving PNG figure to data/figs/imgs/arguana_nnlinear_mae_withlog_validation.png\u001b[0m\n",
      "\u001b[32m2024-12-11 19:50:26.240\u001b[0m | \u001b[32m\u001b[1mSUCCESS \u001b[0m | \u001b[36m__main__\u001b[0m:\u001b[36m_save_figure_png\u001b[0m:\u001b[36m199\u001b[0m - \u001b[32m\u001b[1mSuccessfully saved PNG to data/figs/imgs/arguana_nnlinear_mae_withlog_validation.png\u001b[0m\n",
      " 17%|█▋        | 1/6 [00:01<00:07,  1.49s/it]\u001b[32m2024-12-11 19:50:26.241\u001b[0m | \u001b[1mINFO    \u001b[0m | \u001b[36m__main__\u001b[0m:\u001b[36mvisualize_heatmap\u001b[0m:\u001b[36m127\u001b[0m - \u001b[1mStarting heatmap visualization process\u001b[0m\n",
      "\u001b[32m2024-12-11 19:50:26.242\u001b[0m | \u001b[1mINFO    \u001b[0m | \u001b[36m__main__\u001b[0m:\u001b[36m_plot_heatmap\u001b[0m:\u001b[36m52\u001b[0m - \u001b[1mCreating heatmap visualization...\u001b[0m\n",
      "\u001b[32m2024-12-11 19:50:26.246\u001b[0m | \u001b[32m\u001b[1mSUCCESS \u001b[0m | \u001b[36m__main__\u001b[0m:\u001b[36m_plot_heatmap\u001b[0m:\u001b[36m101\u001b[0m - \u001b[32m\u001b[1mHeatmap created successfully\u001b[0m\n",
      "\u001b[32m2024-12-11 19:50:26.246\u001b[0m | \u001b[1mINFO    \u001b[0m | \u001b[36m__main__\u001b[0m:\u001b[36mvisualize_heatmap\u001b[0m:\u001b[36m127\u001b[0m - \u001b[1mStarting heatmap visualization process\u001b[0m\n",
      "\u001b[32m2024-12-11 19:50:26.247\u001b[0m | \u001b[1mINFO    \u001b[0m | \u001b[36m__main__\u001b[0m:\u001b[36m_plot_heatmap\u001b[0m:\u001b[36m52\u001b[0m - \u001b[1mCreating heatmap visualization...\u001b[0m\n",
      "\u001b[32m2024-12-11 19:50:26.251\u001b[0m | \u001b[32m\u001b[1mSUCCESS \u001b[0m | \u001b[36m__main__\u001b[0m:\u001b[36m_plot_heatmap\u001b[0m:\u001b[36m101\u001b[0m - \u001b[32m\u001b[1mHeatmap created successfully\u001b[0m\n",
      "\u001b[32m2024-12-11 19:50:26.251\u001b[0m | \u001b[1mINFO    \u001b[0m | \u001b[36m__main__\u001b[0m:\u001b[36mvisualize_heatmap\u001b[0m:\u001b[36m127\u001b[0m - \u001b[1mStarting heatmap visualization process\u001b[0m\n",
      "\u001b[32m2024-12-11 19:50:26.252\u001b[0m | \u001b[1mINFO    \u001b[0m | \u001b[36m__main__\u001b[0m:\u001b[36m_plot_heatmap\u001b[0m:\u001b[36m52\u001b[0m - \u001b[1mCreating heatmap visualization...\u001b[0m\n",
      "\u001b[32m2024-12-11 19:50:26.256\u001b[0m | \u001b[32m\u001b[1mSUCCESS \u001b[0m | \u001b[36m__main__\u001b[0m:\u001b[36m_plot_heatmap\u001b[0m:\u001b[36m101\u001b[0m - \u001b[32m\u001b[1mHeatmap created successfully\u001b[0m\n",
      "\u001b[32m2024-12-11 19:50:26.256\u001b[0m | \u001b[1mINFO    \u001b[0m | \u001b[36m__main__\u001b[0m:\u001b[36mvisualize_heatmap\u001b[0m:\u001b[36m127\u001b[0m - \u001b[1mStarting heatmap visualization process\u001b[0m\n",
      "\u001b[32m2024-12-11 19:50:26.256\u001b[0m | \u001b[1mINFO    \u001b[0m | \u001b[36m__main__\u001b[0m:\u001b[36m_plot_heatmap\u001b[0m:\u001b[36m52\u001b[0m - \u001b[1mCreating heatmap visualization...\u001b[0m\n",
      "\u001b[32m2024-12-11 19:50:26.260\u001b[0m | \u001b[32m\u001b[1mSUCCESS \u001b[0m | \u001b[36m__main__\u001b[0m:\u001b[36m_plot_heatmap\u001b[0m:\u001b[36m101\u001b[0m - \u001b[32m\u001b[1mHeatmap created successfully\u001b[0m\n",
      "\u001b[32m2024-12-11 19:50:26.262\u001b[0m | \u001b[1mINFO    \u001b[0m | \u001b[36m__main__\u001b[0m:\u001b[36m_save_figure_html\u001b[0m:\u001b[36m156\u001b[0m - \u001b[1mSaving HTML figure to data/figs/html/fiqa_nnlinear_mse_withoutlog_validation.html\u001b[0m\n",
      "\u001b[32m2024-12-11 19:50:26.265\u001b[0m | \u001b[32m\u001b[1mSUCCESS \u001b[0m | \u001b[36m__main__\u001b[0m:\u001b[36m_save_figure_html\u001b[0m:\u001b[36m164\u001b[0m - \u001b[32m\u001b[1mSuccessfully saved HTML to data/figs/html/fiqa_nnlinear_mse_withoutlog_validation.html\u001b[0m\n",
      "\u001b[32m2024-12-11 19:50:26.265\u001b[0m | \u001b[1mINFO    \u001b[0m | \u001b[36m__main__\u001b[0m:\u001b[36m_save_figure_png\u001b[0m:\u001b[36m190\u001b[0m - \u001b[1mSaving PNG figure to data/figs/imgs/fiqa_nnlinear_mse_withoutlog_validation.png\u001b[0m\n",
      "\u001b[32m2024-12-11 19:50:26.598\u001b[0m | \u001b[32m\u001b[1mSUCCESS \u001b[0m | \u001b[36m__main__\u001b[0m:\u001b[36m_save_figure_png\u001b[0m:\u001b[36m199\u001b[0m - \u001b[32m\u001b[1mSuccessfully saved PNG to data/figs/imgs/fiqa_nnlinear_mse_withoutlog_validation.png\u001b[0m\n",
      "\u001b[32m2024-12-11 19:50:26.600\u001b[0m | \u001b[1mINFO    \u001b[0m | \u001b[36m__main__\u001b[0m:\u001b[36m_save_figure_html\u001b[0m:\u001b[36m156\u001b[0m - \u001b[1mSaving HTML figure to data/figs/html/fiqa_nnlinear_mae_withoutlog_validation.html\u001b[0m\n",
      "\u001b[32m2024-12-11 19:50:26.604\u001b[0m | \u001b[32m\u001b[1mSUCCESS \u001b[0m | \u001b[36m__main__\u001b[0m:\u001b[36m_save_figure_html\u001b[0m:\u001b[36m164\u001b[0m - \u001b[32m\u001b[1mSuccessfully saved HTML to data/figs/html/fiqa_nnlinear_mae_withoutlog_validation.html\u001b[0m\n",
      "\u001b[32m2024-12-11 19:50:26.605\u001b[0m | \u001b[1mINFO    \u001b[0m | \u001b[36m__main__\u001b[0m:\u001b[36m_save_figure_png\u001b[0m:\u001b[36m190\u001b[0m - \u001b[1mSaving PNG figure to data/figs/imgs/fiqa_nnlinear_mae_withoutlog_validation.png\u001b[0m\n",
      "\u001b[32m2024-12-11 19:50:26.925\u001b[0m | \u001b[32m\u001b[1mSUCCESS \u001b[0m | \u001b[36m__main__\u001b[0m:\u001b[36m_save_figure_png\u001b[0m:\u001b[36m199\u001b[0m - \u001b[32m\u001b[1mSuccessfully saved PNG to data/figs/imgs/fiqa_nnlinear_mae_withoutlog_validation.png\u001b[0m\n",
      "\u001b[32m2024-12-11 19:50:26.927\u001b[0m | \u001b[1mINFO    \u001b[0m | \u001b[36m__main__\u001b[0m:\u001b[36m_save_figure_html\u001b[0m:\u001b[36m156\u001b[0m - \u001b[1mSaving HTML figure to data/figs/html/fiqa_nnlinear_mse_withlog_validation.html\u001b[0m\n",
      "\u001b[32m2024-12-11 19:50:26.932\u001b[0m | \u001b[32m\u001b[1mSUCCESS \u001b[0m | \u001b[36m__main__\u001b[0m:\u001b[36m_save_figure_html\u001b[0m:\u001b[36m164\u001b[0m - \u001b[32m\u001b[1mSuccessfully saved HTML to data/figs/html/fiqa_nnlinear_mse_withlog_validation.html\u001b[0m\n",
      "\u001b[32m2024-12-11 19:50:26.932\u001b[0m | \u001b[1mINFO    \u001b[0m | \u001b[36m__main__\u001b[0m:\u001b[36m_save_figure_png\u001b[0m:\u001b[36m190\u001b[0m - \u001b[1mSaving PNG figure to data/figs/imgs/fiqa_nnlinear_mse_withlog_validation.png\u001b[0m\n",
      "\u001b[32m2024-12-11 19:50:27.244\u001b[0m | \u001b[32m\u001b[1mSUCCESS \u001b[0m | \u001b[36m__main__\u001b[0m:\u001b[36m_save_figure_png\u001b[0m:\u001b[36m199\u001b[0m - \u001b[32m\u001b[1mSuccessfully saved PNG to data/figs/imgs/fiqa_nnlinear_mse_withlog_validation.png\u001b[0m\n",
      "\u001b[32m2024-12-11 19:50:27.246\u001b[0m | \u001b[1mINFO    \u001b[0m | \u001b[36m__main__\u001b[0m:\u001b[36m_save_figure_html\u001b[0m:\u001b[36m156\u001b[0m - \u001b[1mSaving HTML figure to data/figs/html/fiqa_nnlinear_mae_withlog_validation.html\u001b[0m\n",
      "\u001b[32m2024-12-11 19:50:27.249\u001b[0m | \u001b[32m\u001b[1mSUCCESS \u001b[0m | \u001b[36m__main__\u001b[0m:\u001b[36m_save_figure_html\u001b[0m:\u001b[36m164\u001b[0m - \u001b[32m\u001b[1mSuccessfully saved HTML to data/figs/html/fiqa_nnlinear_mae_withlog_validation.html\u001b[0m\n",
      "\u001b[32m2024-12-11 19:50:27.250\u001b[0m | \u001b[1mINFO    \u001b[0m | \u001b[36m__main__\u001b[0m:\u001b[36m_save_figure_png\u001b[0m:\u001b[36m190\u001b[0m - \u001b[1mSaving PNG figure to data/figs/imgs/fiqa_nnlinear_mae_withlog_validation.png\u001b[0m\n",
      "\u001b[32m2024-12-11 19:50:27.570\u001b[0m | \u001b[32m\u001b[1mSUCCESS \u001b[0m | \u001b[36m__main__\u001b[0m:\u001b[36m_save_figure_png\u001b[0m:\u001b[36m199\u001b[0m - \u001b[32m\u001b[1mSuccessfully saved PNG to data/figs/imgs/fiqa_nnlinear_mae_withlog_validation.png\u001b[0m\n",
      " 33%|███▎      | 2/6 [00:02<00:05,  1.39s/it]\u001b[32m2024-12-11 19:50:27.571\u001b[0m | \u001b[1mINFO    \u001b[0m | \u001b[36m__main__\u001b[0m:\u001b[36mvisualize_heatmap\u001b[0m:\u001b[36m127\u001b[0m - \u001b[1mStarting heatmap visualization process\u001b[0m\n",
      "\u001b[32m2024-12-11 19:50:27.572\u001b[0m | \u001b[1mINFO    \u001b[0m | \u001b[36m__main__\u001b[0m:\u001b[36m_plot_heatmap\u001b[0m:\u001b[36m52\u001b[0m - \u001b[1mCreating heatmap visualization...\u001b[0m\n",
      "\u001b[32m2024-12-11 19:50:27.581\u001b[0m | \u001b[32m\u001b[1mSUCCESS \u001b[0m | \u001b[36m__main__\u001b[0m:\u001b[36m_plot_heatmap\u001b[0m:\u001b[36m101\u001b[0m - \u001b[32m\u001b[1mHeatmap created successfully\u001b[0m\n",
      "\u001b[32m2024-12-11 19:50:27.582\u001b[0m | \u001b[1mINFO    \u001b[0m | \u001b[36m__main__\u001b[0m:\u001b[36mvisualize_heatmap\u001b[0m:\u001b[36m127\u001b[0m - \u001b[1mStarting heatmap visualization process\u001b[0m\n",
      "\u001b[32m2024-12-11 19:50:27.582\u001b[0m | \u001b[1mINFO    \u001b[0m | \u001b[36m__main__\u001b[0m:\u001b[36m_plot_heatmap\u001b[0m:\u001b[36m52\u001b[0m - \u001b[1mCreating heatmap visualization...\u001b[0m\n",
      "\u001b[32m2024-12-11 19:50:27.591\u001b[0m | \u001b[32m\u001b[1mSUCCESS \u001b[0m | \u001b[36m__main__\u001b[0m:\u001b[36m_plot_heatmap\u001b[0m:\u001b[36m101\u001b[0m - \u001b[32m\u001b[1mHeatmap created successfully\u001b[0m\n",
      "\u001b[32m2024-12-11 19:50:27.593\u001b[0m | \u001b[1mINFO    \u001b[0m | \u001b[36m__main__\u001b[0m:\u001b[36mvisualize_heatmap\u001b[0m:\u001b[36m127\u001b[0m - \u001b[1mStarting heatmap visualization process\u001b[0m\n",
      "\u001b[32m2024-12-11 19:50:27.593\u001b[0m | \u001b[1mINFO    \u001b[0m | \u001b[36m__main__\u001b[0m:\u001b[36m_plot_heatmap\u001b[0m:\u001b[36m52\u001b[0m - \u001b[1mCreating heatmap visualization...\u001b[0m\n",
      "\u001b[32m2024-12-11 19:50:27.602\u001b[0m | \u001b[32m\u001b[1mSUCCESS \u001b[0m | \u001b[36m__main__\u001b[0m:\u001b[36m_plot_heatmap\u001b[0m:\u001b[36m101\u001b[0m - \u001b[32m\u001b[1mHeatmap created successfully\u001b[0m\n",
      "\u001b[32m2024-12-11 19:50:27.603\u001b[0m | \u001b[1mINFO    \u001b[0m | \u001b[36m__main__\u001b[0m:\u001b[36mvisualize_heatmap\u001b[0m:\u001b[36m127\u001b[0m - \u001b[1mStarting heatmap visualization process\u001b[0m\n",
      "\u001b[32m2024-12-11 19:50:27.604\u001b[0m | \u001b[1mINFO    \u001b[0m | \u001b[36m__main__\u001b[0m:\u001b[36m_plot_heatmap\u001b[0m:\u001b[36m52\u001b[0m - \u001b[1mCreating heatmap visualization...\u001b[0m\n",
      "\u001b[32m2024-12-11 19:50:27.612\u001b[0m | \u001b[32m\u001b[1mSUCCESS \u001b[0m | \u001b[36m__main__\u001b[0m:\u001b[36m_plot_heatmap\u001b[0m:\u001b[36m101\u001b[0m - \u001b[32m\u001b[1mHeatmap created successfully\u001b[0m\n",
      "\u001b[32m2024-12-11 19:50:27.614\u001b[0m | \u001b[1mINFO    \u001b[0m | \u001b[36m__main__\u001b[0m:\u001b[36m_save_figure_html\u001b[0m:\u001b[36m156\u001b[0m - \u001b[1mSaving HTML figure to data/figs/html/scidocs_nnlinear_mse_withoutlog_validation.html\u001b[0m\n",
      "\u001b[32m2024-12-11 19:50:27.619\u001b[0m | \u001b[32m\u001b[1mSUCCESS \u001b[0m | \u001b[36m__main__\u001b[0m:\u001b[36m_save_figure_html\u001b[0m:\u001b[36m164\u001b[0m - \u001b[32m\u001b[1mSuccessfully saved HTML to data/figs/html/scidocs_nnlinear_mse_withoutlog_validation.html\u001b[0m\n",
      "\u001b[32m2024-12-11 19:50:27.619\u001b[0m | \u001b[1mINFO    \u001b[0m | \u001b[36m__main__\u001b[0m:\u001b[36m_save_figure_png\u001b[0m:\u001b[36m190\u001b[0m - \u001b[1mSaving PNG figure to data/figs/imgs/scidocs_nnlinear_mse_withoutlog_validation.png\u001b[0m\n",
      "\u001b[32m2024-12-11 19:50:27.927\u001b[0m | \u001b[32m\u001b[1mSUCCESS \u001b[0m | \u001b[36m__main__\u001b[0m:\u001b[36m_save_figure_png\u001b[0m:\u001b[36m199\u001b[0m - \u001b[32m\u001b[1mSuccessfully saved PNG to data/figs/imgs/scidocs_nnlinear_mse_withoutlog_validation.png\u001b[0m\n",
      "\u001b[32m2024-12-11 19:50:27.929\u001b[0m | \u001b[1mINFO    \u001b[0m | \u001b[36m__main__\u001b[0m:\u001b[36m_save_figure_html\u001b[0m:\u001b[36m156\u001b[0m - \u001b[1mSaving HTML figure to data/figs/html/scidocs_nnlinear_mae_withoutlog_validation.html\u001b[0m\n",
      "\u001b[32m2024-12-11 19:50:27.933\u001b[0m | \u001b[32m\u001b[1mSUCCESS \u001b[0m | \u001b[36m__main__\u001b[0m:\u001b[36m_save_figure_html\u001b[0m:\u001b[36m164\u001b[0m - \u001b[32m\u001b[1mSuccessfully saved HTML to data/figs/html/scidocs_nnlinear_mae_withoutlog_validation.html\u001b[0m\n",
      "\u001b[32m2024-12-11 19:50:27.934\u001b[0m | \u001b[1mINFO    \u001b[0m | \u001b[36m__main__\u001b[0m:\u001b[36m_save_figure_png\u001b[0m:\u001b[36m190\u001b[0m - \u001b[1mSaving PNG figure to data/figs/imgs/scidocs_nnlinear_mae_withoutlog_validation.png\u001b[0m\n",
      "\u001b[32m2024-12-11 19:50:28.275\u001b[0m | \u001b[32m\u001b[1mSUCCESS \u001b[0m | \u001b[36m__main__\u001b[0m:\u001b[36m_save_figure_png\u001b[0m:\u001b[36m199\u001b[0m - \u001b[32m\u001b[1mSuccessfully saved PNG to data/figs/imgs/scidocs_nnlinear_mae_withoutlog_validation.png\u001b[0m\n",
      "\u001b[32m2024-12-11 19:50:28.277\u001b[0m | \u001b[1mINFO    \u001b[0m | \u001b[36m__main__\u001b[0m:\u001b[36m_save_figure_html\u001b[0m:\u001b[36m156\u001b[0m - \u001b[1mSaving HTML figure to data/figs/html/scidocs_nnlinear_mse_withlog_validation.html\u001b[0m\n",
      "\u001b[32m2024-12-11 19:50:28.281\u001b[0m | \u001b[32m\u001b[1mSUCCESS \u001b[0m | \u001b[36m__main__\u001b[0m:\u001b[36m_save_figure_html\u001b[0m:\u001b[36m164\u001b[0m - \u001b[32m\u001b[1mSuccessfully saved HTML to data/figs/html/scidocs_nnlinear_mse_withlog_validation.html\u001b[0m\n",
      "\u001b[32m2024-12-11 19:50:28.282\u001b[0m | \u001b[1mINFO    \u001b[0m | \u001b[36m__main__\u001b[0m:\u001b[36m_save_figure_png\u001b[0m:\u001b[36m190\u001b[0m - \u001b[1mSaving PNG figure to data/figs/imgs/scidocs_nnlinear_mse_withlog_validation.png\u001b[0m\n",
      "\u001b[32m2024-12-11 19:50:28.592\u001b[0m | \u001b[32m\u001b[1mSUCCESS \u001b[0m | \u001b[36m__main__\u001b[0m:\u001b[36m_save_figure_png\u001b[0m:\u001b[36m199\u001b[0m - \u001b[32m\u001b[1mSuccessfully saved PNG to data/figs/imgs/scidocs_nnlinear_mse_withlog_validation.png\u001b[0m\n",
      "\u001b[32m2024-12-11 19:50:28.594\u001b[0m | \u001b[1mINFO    \u001b[0m | \u001b[36m__main__\u001b[0m:\u001b[36m_save_figure_html\u001b[0m:\u001b[36m156\u001b[0m - \u001b[1mSaving HTML figure to data/figs/html/scidocs_nnlinear_mae_withlog_validation.html\u001b[0m\n",
      "\u001b[32m2024-12-11 19:50:28.597\u001b[0m | \u001b[32m\u001b[1mSUCCESS \u001b[0m | \u001b[36m__main__\u001b[0m:\u001b[36m_save_figure_html\u001b[0m:\u001b[36m164\u001b[0m - \u001b[32m\u001b[1mSuccessfully saved HTML to data/figs/html/scidocs_nnlinear_mae_withlog_validation.html\u001b[0m\n",
      "\u001b[32m2024-12-11 19:50:28.597\u001b[0m | \u001b[1mINFO    \u001b[0m | \u001b[36m__main__\u001b[0m:\u001b[36m_save_figure_png\u001b[0m:\u001b[36m190\u001b[0m - \u001b[1mSaving PNG figure to data/figs/imgs/scidocs_nnlinear_mae_withlog_validation.png\u001b[0m\n",
      "\u001b[32m2024-12-11 19:50:28.894\u001b[0m | \u001b[32m\u001b[1mSUCCESS \u001b[0m | \u001b[36m__main__\u001b[0m:\u001b[36m_save_figure_png\u001b[0m:\u001b[36m199\u001b[0m - \u001b[32m\u001b[1mSuccessfully saved PNG to data/figs/imgs/scidocs_nnlinear_mae_withlog_validation.png\u001b[0m\n",
      " 50%|█████     | 3/6 [00:04<00:04,  1.36s/it]\u001b[32m2024-12-11 19:50:28.896\u001b[0m | \u001b[1mINFO    \u001b[0m | \u001b[36m__main__\u001b[0m:\u001b[36mvisualize_heatmap\u001b[0m:\u001b[36m127\u001b[0m - \u001b[1mStarting heatmap visualization process\u001b[0m\n",
      "\u001b[32m2024-12-11 19:50:28.897\u001b[0m | \u001b[1mINFO    \u001b[0m | \u001b[36m__main__\u001b[0m:\u001b[36m_plot_heatmap\u001b[0m:\u001b[36m52\u001b[0m - \u001b[1mCreating heatmap visualization...\u001b[0m\n",
      "\u001b[32m2024-12-11 19:50:28.906\u001b[0m | \u001b[32m\u001b[1mSUCCESS \u001b[0m | \u001b[36m__main__\u001b[0m:\u001b[36m_plot_heatmap\u001b[0m:\u001b[36m101\u001b[0m - \u001b[32m\u001b[1mHeatmap created successfully\u001b[0m\n",
      "\u001b[32m2024-12-11 19:50:28.907\u001b[0m | \u001b[1mINFO    \u001b[0m | \u001b[36m__main__\u001b[0m:\u001b[36mvisualize_heatmap\u001b[0m:\u001b[36m127\u001b[0m - \u001b[1mStarting heatmap visualization process\u001b[0m\n",
      "\u001b[32m2024-12-11 19:50:28.907\u001b[0m | \u001b[1mINFO    \u001b[0m | \u001b[36m__main__\u001b[0m:\u001b[36m_plot_heatmap\u001b[0m:\u001b[36m52\u001b[0m - \u001b[1mCreating heatmap visualization...\u001b[0m\n",
      "\u001b[32m2024-12-11 19:50:28.916\u001b[0m | \u001b[32m\u001b[1mSUCCESS \u001b[0m | \u001b[36m__main__\u001b[0m:\u001b[36m_plot_heatmap\u001b[0m:\u001b[36m101\u001b[0m - \u001b[32m\u001b[1mHeatmap created successfully\u001b[0m\n",
      "\u001b[32m2024-12-11 19:50:28.917\u001b[0m | \u001b[1mINFO    \u001b[0m | \u001b[36m__main__\u001b[0m:\u001b[36mvisualize_heatmap\u001b[0m:\u001b[36m127\u001b[0m - \u001b[1mStarting heatmap visualization process\u001b[0m\n",
      "\u001b[32m2024-12-11 19:50:28.918\u001b[0m | \u001b[1mINFO    \u001b[0m | \u001b[36m__main__\u001b[0m:\u001b[36m_plot_heatmap\u001b[0m:\u001b[36m52\u001b[0m - \u001b[1mCreating heatmap visualization...\u001b[0m\n",
      "\u001b[32m2024-12-11 19:50:28.927\u001b[0m | \u001b[32m\u001b[1mSUCCESS \u001b[0m | \u001b[36m__main__\u001b[0m:\u001b[36m_plot_heatmap\u001b[0m:\u001b[36m101\u001b[0m - \u001b[32m\u001b[1mHeatmap created successfully\u001b[0m\n",
      "\u001b[32m2024-12-11 19:50:28.928\u001b[0m | \u001b[1mINFO    \u001b[0m | \u001b[36m__main__\u001b[0m:\u001b[36mvisualize_heatmap\u001b[0m:\u001b[36m127\u001b[0m - \u001b[1mStarting heatmap visualization process\u001b[0m\n",
      "\u001b[32m2024-12-11 19:50:28.928\u001b[0m | \u001b[1mINFO    \u001b[0m | \u001b[36m__main__\u001b[0m:\u001b[36m_plot_heatmap\u001b[0m:\u001b[36m52\u001b[0m - \u001b[1mCreating heatmap visualization...\u001b[0m\n",
      "\u001b[32m2024-12-11 19:50:28.937\u001b[0m | \u001b[32m\u001b[1mSUCCESS \u001b[0m | \u001b[36m__main__\u001b[0m:\u001b[36m_plot_heatmap\u001b[0m:\u001b[36m101\u001b[0m - \u001b[32m\u001b[1mHeatmap created successfully\u001b[0m\n",
      "\u001b[32m2024-12-11 19:50:28.939\u001b[0m | \u001b[1mINFO    \u001b[0m | \u001b[36m__main__\u001b[0m:\u001b[36m_save_figure_html\u001b[0m:\u001b[36m156\u001b[0m - \u001b[1mSaving HTML figure to data/figs/html/nfcorpus_nnlinear_mse_withoutlog_validation.html\u001b[0m\n",
      "\u001b[32m2024-12-11 19:50:28.943\u001b[0m | \u001b[32m\u001b[1mSUCCESS \u001b[0m | \u001b[36m__main__\u001b[0m:\u001b[36m_save_figure_html\u001b[0m:\u001b[36m164\u001b[0m - \u001b[32m\u001b[1mSuccessfully saved HTML to data/figs/html/nfcorpus_nnlinear_mse_withoutlog_validation.html\u001b[0m\n",
      "\u001b[32m2024-12-11 19:50:28.944\u001b[0m | \u001b[1mINFO    \u001b[0m | \u001b[36m__main__\u001b[0m:\u001b[36m_save_figure_png\u001b[0m:\u001b[36m190\u001b[0m - \u001b[1mSaving PNG figure to data/figs/imgs/nfcorpus_nnlinear_mse_withoutlog_validation.png\u001b[0m\n",
      "\u001b[32m2024-12-11 19:50:29.255\u001b[0m | \u001b[32m\u001b[1mSUCCESS \u001b[0m | \u001b[36m__main__\u001b[0m:\u001b[36m_save_figure_png\u001b[0m:\u001b[36m199\u001b[0m - \u001b[32m\u001b[1mSuccessfully saved PNG to data/figs/imgs/nfcorpus_nnlinear_mse_withoutlog_validation.png\u001b[0m\n",
      "\u001b[32m2024-12-11 19:50:29.257\u001b[0m | \u001b[1mINFO    \u001b[0m | \u001b[36m__main__\u001b[0m:\u001b[36m_save_figure_html\u001b[0m:\u001b[36m156\u001b[0m - \u001b[1mSaving HTML figure to data/figs/html/nfcorpus_nnlinear_mae_withoutlog_validation.html\u001b[0m\n",
      "\u001b[32m2024-12-11 19:50:29.260\u001b[0m | \u001b[32m\u001b[1mSUCCESS \u001b[0m | \u001b[36m__main__\u001b[0m:\u001b[36m_save_figure_html\u001b[0m:\u001b[36m164\u001b[0m - \u001b[32m\u001b[1mSuccessfully saved HTML to data/figs/html/nfcorpus_nnlinear_mae_withoutlog_validation.html\u001b[0m\n",
      "\u001b[32m2024-12-11 19:50:29.261\u001b[0m | \u001b[1mINFO    \u001b[0m | \u001b[36m__main__\u001b[0m:\u001b[36m_save_figure_png\u001b[0m:\u001b[36m190\u001b[0m - \u001b[1mSaving PNG figure to data/figs/imgs/nfcorpus_nnlinear_mae_withoutlog_validation.png\u001b[0m\n",
      "\u001b[32m2024-12-11 19:50:29.572\u001b[0m | \u001b[32m\u001b[1mSUCCESS \u001b[0m | \u001b[36m__main__\u001b[0m:\u001b[36m_save_figure_png\u001b[0m:\u001b[36m199\u001b[0m - \u001b[32m\u001b[1mSuccessfully saved PNG to data/figs/imgs/nfcorpus_nnlinear_mae_withoutlog_validation.png\u001b[0m\n",
      "\u001b[32m2024-12-11 19:50:29.574\u001b[0m | \u001b[1mINFO    \u001b[0m | \u001b[36m__main__\u001b[0m:\u001b[36m_save_figure_html\u001b[0m:\u001b[36m156\u001b[0m - \u001b[1mSaving HTML figure to data/figs/html/nfcorpus_nnlinear_mse_withlog_validation.html\u001b[0m\n",
      "\u001b[32m2024-12-11 19:50:29.578\u001b[0m | \u001b[32m\u001b[1mSUCCESS \u001b[0m | \u001b[36m__main__\u001b[0m:\u001b[36m_save_figure_html\u001b[0m:\u001b[36m164\u001b[0m - \u001b[32m\u001b[1mSuccessfully saved HTML to data/figs/html/nfcorpus_nnlinear_mse_withlog_validation.html\u001b[0m\n",
      "\u001b[32m2024-12-11 19:50:29.579\u001b[0m | \u001b[1mINFO    \u001b[0m | \u001b[36m__main__\u001b[0m:\u001b[36m_save_figure_png\u001b[0m:\u001b[36m190\u001b[0m - \u001b[1mSaving PNG figure to data/figs/imgs/nfcorpus_nnlinear_mse_withlog_validation.png\u001b[0m\n",
      "\u001b[32m2024-12-11 19:50:29.870\u001b[0m | \u001b[32m\u001b[1mSUCCESS \u001b[0m | \u001b[36m__main__\u001b[0m:\u001b[36m_save_figure_png\u001b[0m:\u001b[36m199\u001b[0m - \u001b[32m\u001b[1mSuccessfully saved PNG to data/figs/imgs/nfcorpus_nnlinear_mse_withlog_validation.png\u001b[0m\n",
      "\u001b[32m2024-12-11 19:50:29.871\u001b[0m | \u001b[1mINFO    \u001b[0m | \u001b[36m__main__\u001b[0m:\u001b[36m_save_figure_html\u001b[0m:\u001b[36m156\u001b[0m - \u001b[1mSaving HTML figure to data/figs/html/nfcorpus_nnlinear_mae_withlog_validation.html\u001b[0m\n",
      "\u001b[32m2024-12-11 19:50:29.874\u001b[0m | \u001b[32m\u001b[1mSUCCESS \u001b[0m | \u001b[36m__main__\u001b[0m:\u001b[36m_save_figure_html\u001b[0m:\u001b[36m164\u001b[0m - \u001b[32m\u001b[1mSuccessfully saved HTML to data/figs/html/nfcorpus_nnlinear_mae_withlog_validation.html\u001b[0m\n",
      "\u001b[32m2024-12-11 19:50:29.874\u001b[0m | \u001b[1mINFO    \u001b[0m | \u001b[36m__main__\u001b[0m:\u001b[36m_save_figure_png\u001b[0m:\u001b[36m190\u001b[0m - \u001b[1mSaving PNG figure to data/figs/imgs/nfcorpus_nnlinear_mae_withlog_validation.png\u001b[0m\n",
      "\u001b[32m2024-12-11 19:50:30.214\u001b[0m | \u001b[32m\u001b[1mSUCCESS \u001b[0m | \u001b[36m__main__\u001b[0m:\u001b[36m_save_figure_png\u001b[0m:\u001b[36m199\u001b[0m - \u001b[32m\u001b[1mSuccessfully saved PNG to data/figs/imgs/nfcorpus_nnlinear_mae_withlog_validation.png\u001b[0m\n",
      " 67%|██████▋   | 4/6 [00:05<00:02,  1.35s/it]\u001b[32m2024-12-11 19:50:30.215\u001b[0m | \u001b[1mINFO    \u001b[0m | \u001b[36m__main__\u001b[0m:\u001b[36mvisualize_heatmap\u001b[0m:\u001b[36m127\u001b[0m - \u001b[1mStarting heatmap visualization process\u001b[0m\n",
      "\u001b[32m2024-12-11 19:50:30.216\u001b[0m | \u001b[1mINFO    \u001b[0m | \u001b[36m__main__\u001b[0m:\u001b[36m_plot_heatmap\u001b[0m:\u001b[36m52\u001b[0m - \u001b[1mCreating heatmap visualization...\u001b[0m\n",
      "\u001b[32m2024-12-11 19:50:30.225\u001b[0m | \u001b[32m\u001b[1mSUCCESS \u001b[0m | \u001b[36m__main__\u001b[0m:\u001b[36m_plot_heatmap\u001b[0m:\u001b[36m101\u001b[0m - \u001b[32m\u001b[1mHeatmap created successfully\u001b[0m\n",
      "\u001b[32m2024-12-11 19:50:30.226\u001b[0m | \u001b[1mINFO    \u001b[0m | \u001b[36m__main__\u001b[0m:\u001b[36mvisualize_heatmap\u001b[0m:\u001b[36m127\u001b[0m - \u001b[1mStarting heatmap visualization process\u001b[0m\n",
      "\u001b[32m2024-12-11 19:50:30.226\u001b[0m | \u001b[1mINFO    \u001b[0m | \u001b[36m__main__\u001b[0m:\u001b[36m_plot_heatmap\u001b[0m:\u001b[36m52\u001b[0m - \u001b[1mCreating heatmap visualization...\u001b[0m\n",
      "\u001b[32m2024-12-11 19:50:30.236\u001b[0m | \u001b[32m\u001b[1mSUCCESS \u001b[0m | \u001b[36m__main__\u001b[0m:\u001b[36m_plot_heatmap\u001b[0m:\u001b[36m101\u001b[0m - \u001b[32m\u001b[1mHeatmap created successfully\u001b[0m\n",
      "\u001b[32m2024-12-11 19:50:30.237\u001b[0m | \u001b[1mINFO    \u001b[0m | \u001b[36m__main__\u001b[0m:\u001b[36mvisualize_heatmap\u001b[0m:\u001b[36m127\u001b[0m - \u001b[1mStarting heatmap visualization process\u001b[0m\n",
      "\u001b[32m2024-12-11 19:50:30.238\u001b[0m | \u001b[1mINFO    \u001b[0m | \u001b[36m__main__\u001b[0m:\u001b[36m_plot_heatmap\u001b[0m:\u001b[36m52\u001b[0m - \u001b[1mCreating heatmap visualization...\u001b[0m\n",
      "\u001b[32m2024-12-11 19:50:30.246\u001b[0m | \u001b[32m\u001b[1mSUCCESS \u001b[0m | \u001b[36m__main__\u001b[0m:\u001b[36m_plot_heatmap\u001b[0m:\u001b[36m101\u001b[0m - \u001b[32m\u001b[1mHeatmap created successfully\u001b[0m\n",
      "\u001b[32m2024-12-11 19:50:30.247\u001b[0m | \u001b[1mINFO    \u001b[0m | \u001b[36m__main__\u001b[0m:\u001b[36mvisualize_heatmap\u001b[0m:\u001b[36m127\u001b[0m - \u001b[1mStarting heatmap visualization process\u001b[0m\n",
      "\u001b[32m2024-12-11 19:50:30.248\u001b[0m | \u001b[1mINFO    \u001b[0m | \u001b[36m__main__\u001b[0m:\u001b[36m_plot_heatmap\u001b[0m:\u001b[36m52\u001b[0m - \u001b[1mCreating heatmap visualization...\u001b[0m\n",
      "\u001b[32m2024-12-11 19:50:30.257\u001b[0m | \u001b[32m\u001b[1mSUCCESS \u001b[0m | \u001b[36m__main__\u001b[0m:\u001b[36m_plot_heatmap\u001b[0m:\u001b[36m101\u001b[0m - \u001b[32m\u001b[1mHeatmap created successfully\u001b[0m\n",
      "\u001b[32m2024-12-11 19:50:30.259\u001b[0m | \u001b[1mINFO    \u001b[0m | \u001b[36m__main__\u001b[0m:\u001b[36m_save_figure_html\u001b[0m:\u001b[36m156\u001b[0m - \u001b[1mSaving HTML figure to data/figs/html/hotpotqa_nnlinear_mse_withoutlog_validation.html\u001b[0m\n",
      "\u001b[32m2024-12-11 19:50:30.265\u001b[0m | \u001b[32m\u001b[1mSUCCESS \u001b[0m | \u001b[36m__main__\u001b[0m:\u001b[36m_save_figure_html\u001b[0m:\u001b[36m164\u001b[0m - \u001b[32m\u001b[1mSuccessfully saved HTML to data/figs/html/hotpotqa_nnlinear_mse_withoutlog_validation.html\u001b[0m\n",
      "\u001b[32m2024-12-11 19:50:30.266\u001b[0m | \u001b[1mINFO    \u001b[0m | \u001b[36m__main__\u001b[0m:\u001b[36m_save_figure_png\u001b[0m:\u001b[36m190\u001b[0m - \u001b[1mSaving PNG figure to data/figs/imgs/hotpotqa_nnlinear_mse_withoutlog_validation.png\u001b[0m\n",
      "\u001b[32m2024-12-11 19:50:30.593\u001b[0m | \u001b[32m\u001b[1mSUCCESS \u001b[0m | \u001b[36m__main__\u001b[0m:\u001b[36m_save_figure_png\u001b[0m:\u001b[36m199\u001b[0m - \u001b[32m\u001b[1mSuccessfully saved PNG to data/figs/imgs/hotpotqa_nnlinear_mse_withoutlog_validation.png\u001b[0m\n",
      "\u001b[32m2024-12-11 19:50:30.595\u001b[0m | \u001b[1mINFO    \u001b[0m | \u001b[36m__main__\u001b[0m:\u001b[36m_save_figure_html\u001b[0m:\u001b[36m156\u001b[0m - \u001b[1mSaving HTML figure to data/figs/html/hotpotqa_nnlinear_mae_withoutlog_validation.html\u001b[0m\n",
      "\u001b[32m2024-12-11 19:50:30.599\u001b[0m | \u001b[32m\u001b[1mSUCCESS \u001b[0m | \u001b[36m__main__\u001b[0m:\u001b[36m_save_figure_html\u001b[0m:\u001b[36m164\u001b[0m - \u001b[32m\u001b[1mSuccessfully saved HTML to data/figs/html/hotpotqa_nnlinear_mae_withoutlog_validation.html\u001b[0m\n",
      "\u001b[32m2024-12-11 19:50:30.600\u001b[0m | \u001b[1mINFO    \u001b[0m | \u001b[36m__main__\u001b[0m:\u001b[36m_save_figure_png\u001b[0m:\u001b[36m190\u001b[0m - \u001b[1mSaving PNG figure to data/figs/imgs/hotpotqa_nnlinear_mae_withoutlog_validation.png\u001b[0m\n",
      "\u001b[32m2024-12-11 19:50:30.892\u001b[0m | \u001b[32m\u001b[1mSUCCESS \u001b[0m | \u001b[36m__main__\u001b[0m:\u001b[36m_save_figure_png\u001b[0m:\u001b[36m199\u001b[0m - \u001b[32m\u001b[1mSuccessfully saved PNG to data/figs/imgs/hotpotqa_nnlinear_mae_withoutlog_validation.png\u001b[0m\n",
      "\u001b[32m2024-12-11 19:50:30.893\u001b[0m | \u001b[1mINFO    \u001b[0m | \u001b[36m__main__\u001b[0m:\u001b[36m_save_figure_html\u001b[0m:\u001b[36m156\u001b[0m - \u001b[1mSaving HTML figure to data/figs/html/hotpotqa_nnlinear_mse_withlog_validation.html\u001b[0m\n",
      "\u001b[32m2024-12-11 19:50:30.897\u001b[0m | \u001b[32m\u001b[1mSUCCESS \u001b[0m | \u001b[36m__main__\u001b[0m:\u001b[36m_save_figure_html\u001b[0m:\u001b[36m164\u001b[0m - \u001b[32m\u001b[1mSuccessfully saved HTML to data/figs/html/hotpotqa_nnlinear_mse_withlog_validation.html\u001b[0m\n",
      "\u001b[32m2024-12-11 19:50:30.897\u001b[0m | \u001b[1mINFO    \u001b[0m | \u001b[36m__main__\u001b[0m:\u001b[36m_save_figure_png\u001b[0m:\u001b[36m190\u001b[0m - \u001b[1mSaving PNG figure to data/figs/imgs/hotpotqa_nnlinear_mse_withlog_validation.png\u001b[0m\n",
      "\u001b[32m2024-12-11 19:50:31.256\u001b[0m | \u001b[32m\u001b[1mSUCCESS \u001b[0m | \u001b[36m__main__\u001b[0m:\u001b[36m_save_figure_png\u001b[0m:\u001b[36m199\u001b[0m - \u001b[32m\u001b[1mSuccessfully saved PNG to data/figs/imgs/hotpotqa_nnlinear_mse_withlog_validation.png\u001b[0m\n",
      "\u001b[32m2024-12-11 19:50:31.258\u001b[0m | \u001b[1mINFO    \u001b[0m | \u001b[36m__main__\u001b[0m:\u001b[36m_save_figure_html\u001b[0m:\u001b[36m156\u001b[0m - \u001b[1mSaving HTML figure to data/figs/html/hotpotqa_nnlinear_mae_withlog_validation.html\u001b[0m\n",
      "\u001b[32m2024-12-11 19:50:31.262\u001b[0m | \u001b[32m\u001b[1mSUCCESS \u001b[0m | \u001b[36m__main__\u001b[0m:\u001b[36m_save_figure_html\u001b[0m:\u001b[36m164\u001b[0m - \u001b[32m\u001b[1mSuccessfully saved HTML to data/figs/html/hotpotqa_nnlinear_mae_withlog_validation.html\u001b[0m\n",
      "\u001b[32m2024-12-11 19:50:31.262\u001b[0m | \u001b[1mINFO    \u001b[0m | \u001b[36m__main__\u001b[0m:\u001b[36m_save_figure_png\u001b[0m:\u001b[36m190\u001b[0m - \u001b[1mSaving PNG figure to data/figs/imgs/hotpotqa_nnlinear_mae_withlog_validation.png\u001b[0m\n",
      "\u001b[32m2024-12-11 19:50:31.588\u001b[0m | \u001b[32m\u001b[1mSUCCESS \u001b[0m | \u001b[36m__main__\u001b[0m:\u001b[36m_save_figure_png\u001b[0m:\u001b[36m199\u001b[0m - \u001b[32m\u001b[1mSuccessfully saved PNG to data/figs/imgs/hotpotqa_nnlinear_mae_withlog_validation.png\u001b[0m\n",
      " 83%|████████▎ | 5/6 [00:06<00:01,  1.36s/it]\u001b[32m2024-12-11 19:50:31.589\u001b[0m | \u001b[1mINFO    \u001b[0m | \u001b[36m__main__\u001b[0m:\u001b[36mvisualize_heatmap\u001b[0m:\u001b[36m127\u001b[0m - \u001b[1mStarting heatmap visualization process\u001b[0m\n",
      "\u001b[32m2024-12-11 19:50:31.589\u001b[0m | \u001b[1mINFO    \u001b[0m | \u001b[36m__main__\u001b[0m:\u001b[36m_plot_heatmap\u001b[0m:\u001b[36m52\u001b[0m - \u001b[1mCreating heatmap visualization...\u001b[0m\n",
      "\u001b[32m2024-12-11 19:50:31.593\u001b[0m | \u001b[32m\u001b[1mSUCCESS \u001b[0m | \u001b[36m__main__\u001b[0m:\u001b[36m_plot_heatmap\u001b[0m:\u001b[36m101\u001b[0m - \u001b[32m\u001b[1mHeatmap created successfully\u001b[0m\n",
      "\u001b[32m2024-12-11 19:50:31.593\u001b[0m | \u001b[1mINFO    \u001b[0m | \u001b[36m__main__\u001b[0m:\u001b[36mvisualize_heatmap\u001b[0m:\u001b[36m127\u001b[0m - \u001b[1mStarting heatmap visualization process\u001b[0m\n",
      "\u001b[32m2024-12-11 19:50:31.594\u001b[0m | \u001b[1mINFO    \u001b[0m | \u001b[36m__main__\u001b[0m:\u001b[36m_plot_heatmap\u001b[0m:\u001b[36m52\u001b[0m - \u001b[1mCreating heatmap visualization...\u001b[0m\n",
      "\u001b[32m2024-12-11 19:50:31.597\u001b[0m | \u001b[32m\u001b[1mSUCCESS \u001b[0m | \u001b[36m__main__\u001b[0m:\u001b[36m_plot_heatmap\u001b[0m:\u001b[36m101\u001b[0m - \u001b[32m\u001b[1mHeatmap created successfully\u001b[0m\n",
      "\u001b[32m2024-12-11 19:50:31.598\u001b[0m | \u001b[1mINFO    \u001b[0m | \u001b[36m__main__\u001b[0m:\u001b[36mvisualize_heatmap\u001b[0m:\u001b[36m127\u001b[0m - \u001b[1mStarting heatmap visualization process\u001b[0m\n",
      "\u001b[32m2024-12-11 19:50:31.598\u001b[0m | \u001b[1mINFO    \u001b[0m | \u001b[36m__main__\u001b[0m:\u001b[36m_plot_heatmap\u001b[0m:\u001b[36m52\u001b[0m - \u001b[1mCreating heatmap visualization...\u001b[0m\n",
      "\u001b[32m2024-12-11 19:50:31.602\u001b[0m | \u001b[32m\u001b[1mSUCCESS \u001b[0m | \u001b[36m__main__\u001b[0m:\u001b[36m_plot_heatmap\u001b[0m:\u001b[36m101\u001b[0m - \u001b[32m\u001b[1mHeatmap created successfully\u001b[0m\n",
      "\u001b[32m2024-12-11 19:50:31.602\u001b[0m | \u001b[1mINFO    \u001b[0m | \u001b[36m__main__\u001b[0m:\u001b[36mvisualize_heatmap\u001b[0m:\u001b[36m127\u001b[0m - \u001b[1mStarting heatmap visualization process\u001b[0m\n",
      "\u001b[32m2024-12-11 19:50:31.603\u001b[0m | \u001b[1mINFO    \u001b[0m | \u001b[36m__main__\u001b[0m:\u001b[36m_plot_heatmap\u001b[0m:\u001b[36m52\u001b[0m - \u001b[1mCreating heatmap visualization...\u001b[0m\n",
      "\u001b[32m2024-12-11 19:50:31.606\u001b[0m | \u001b[32m\u001b[1mSUCCESS \u001b[0m | \u001b[36m__main__\u001b[0m:\u001b[36m_plot_heatmap\u001b[0m:\u001b[36m101\u001b[0m - \u001b[32m\u001b[1mHeatmap created successfully\u001b[0m\n",
      "\u001b[32m2024-12-11 19:50:31.608\u001b[0m | \u001b[1mINFO    \u001b[0m | \u001b[36m__main__\u001b[0m:\u001b[36m_save_figure_html\u001b[0m:\u001b[36m156\u001b[0m - \u001b[1mSaving HTML figure to data/figs/html/trec-covid_nnlinear_mse_withoutlog_validation.html\u001b[0m\n",
      "\u001b[32m2024-12-11 19:50:31.611\u001b[0m | \u001b[32m\u001b[1mSUCCESS \u001b[0m | \u001b[36m__main__\u001b[0m:\u001b[36m_save_figure_html\u001b[0m:\u001b[36m164\u001b[0m - \u001b[32m\u001b[1mSuccessfully saved HTML to data/figs/html/trec-covid_nnlinear_mse_withoutlog_validation.html\u001b[0m\n",
      "\u001b[32m2024-12-11 19:50:31.611\u001b[0m | \u001b[1mINFO    \u001b[0m | \u001b[36m__main__\u001b[0m:\u001b[36m_save_figure_png\u001b[0m:\u001b[36m190\u001b[0m - \u001b[1mSaving PNG figure to data/figs/imgs/trec-covid_nnlinear_mse_withoutlog_validation.png\u001b[0m\n",
      "\u001b[32m2024-12-11 19:50:31.906\u001b[0m | \u001b[32m\u001b[1mSUCCESS \u001b[0m | \u001b[36m__main__\u001b[0m:\u001b[36m_save_figure_png\u001b[0m:\u001b[36m199\u001b[0m - \u001b[32m\u001b[1mSuccessfully saved PNG to data/figs/imgs/trec-covid_nnlinear_mse_withoutlog_validation.png\u001b[0m\n",
      "\u001b[32m2024-12-11 19:50:31.907\u001b[0m | \u001b[1mINFO    \u001b[0m | \u001b[36m__main__\u001b[0m:\u001b[36m_save_figure_html\u001b[0m:\u001b[36m156\u001b[0m - \u001b[1mSaving HTML figure to data/figs/html/trec-covid_nnlinear_mae_withoutlog_validation.html\u001b[0m\n",
      "\u001b[32m2024-12-11 19:50:31.911\u001b[0m | \u001b[32m\u001b[1mSUCCESS \u001b[0m | \u001b[36m__main__\u001b[0m:\u001b[36m_save_figure_html\u001b[0m:\u001b[36m164\u001b[0m - \u001b[32m\u001b[1mSuccessfully saved HTML to data/figs/html/trec-covid_nnlinear_mae_withoutlog_validation.html\u001b[0m\n",
      "\u001b[32m2024-12-11 19:50:31.911\u001b[0m | \u001b[1mINFO    \u001b[0m | \u001b[36m__main__\u001b[0m:\u001b[36m_save_figure_png\u001b[0m:\u001b[36m190\u001b[0m - \u001b[1mSaving PNG figure to data/figs/imgs/trec-covid_nnlinear_mae_withoutlog_validation.png\u001b[0m\n",
      "\u001b[32m2024-12-11 19:50:32.255\u001b[0m | \u001b[32m\u001b[1mSUCCESS \u001b[0m | \u001b[36m__main__\u001b[0m:\u001b[36m_save_figure_png\u001b[0m:\u001b[36m199\u001b[0m - \u001b[32m\u001b[1mSuccessfully saved PNG to data/figs/imgs/trec-covid_nnlinear_mae_withoutlog_validation.png\u001b[0m\n",
      "\u001b[32m2024-12-11 19:50:32.257\u001b[0m | \u001b[1mINFO    \u001b[0m | \u001b[36m__main__\u001b[0m:\u001b[36m_save_figure_html\u001b[0m:\u001b[36m156\u001b[0m - \u001b[1mSaving HTML figure to data/figs/html/trec-covid_nnlinear_mse_withlog_validation.html\u001b[0m\n",
      "\u001b[32m2024-12-11 19:50:32.261\u001b[0m | \u001b[32m\u001b[1mSUCCESS \u001b[0m | \u001b[36m__main__\u001b[0m:\u001b[36m_save_figure_html\u001b[0m:\u001b[36m164\u001b[0m - \u001b[32m\u001b[1mSuccessfully saved HTML to data/figs/html/trec-covid_nnlinear_mse_withlog_validation.html\u001b[0m\n",
      "\u001b[32m2024-12-11 19:50:32.262\u001b[0m | \u001b[1mINFO    \u001b[0m | \u001b[36m__main__\u001b[0m:\u001b[36m_save_figure_png\u001b[0m:\u001b[36m190\u001b[0m - \u001b[1mSaving PNG figure to data/figs/imgs/trec-covid_nnlinear_mse_withlog_validation.png\u001b[0m\n",
      "\u001b[32m2024-12-11 19:50:32.615\u001b[0m | \u001b[32m\u001b[1mSUCCESS \u001b[0m | \u001b[36m__main__\u001b[0m:\u001b[36m_save_figure_png\u001b[0m:\u001b[36m199\u001b[0m - \u001b[32m\u001b[1mSuccessfully saved PNG to data/figs/imgs/trec-covid_nnlinear_mse_withlog_validation.png\u001b[0m\n",
      "\u001b[32m2024-12-11 19:50:32.617\u001b[0m | \u001b[1mINFO    \u001b[0m | \u001b[36m__main__\u001b[0m:\u001b[36m_save_figure_html\u001b[0m:\u001b[36m156\u001b[0m - \u001b[1mSaving HTML figure to data/figs/html/trec-covid_nnlinear_mae_withlog_validation.html\u001b[0m\n",
      "\u001b[32m2024-12-11 19:50:32.620\u001b[0m | \u001b[32m\u001b[1mSUCCESS \u001b[0m | \u001b[36m__main__\u001b[0m:\u001b[36m_save_figure_html\u001b[0m:\u001b[36m164\u001b[0m - \u001b[32m\u001b[1mSuccessfully saved HTML to data/figs/html/trec-covid_nnlinear_mae_withlog_validation.html\u001b[0m\n",
      "\u001b[32m2024-12-11 19:50:32.621\u001b[0m | \u001b[1mINFO    \u001b[0m | \u001b[36m__main__\u001b[0m:\u001b[36m_save_figure_png\u001b[0m:\u001b[36m190\u001b[0m - \u001b[1mSaving PNG figure to data/figs/imgs/trec-covid_nnlinear_mae_withlog_validation.png\u001b[0m\n",
      "\u001b[32m2024-12-11 19:50:32.942\u001b[0m | \u001b[32m\u001b[1mSUCCESS \u001b[0m | \u001b[36m__main__\u001b[0m:\u001b[36m_save_figure_png\u001b[0m:\u001b[36m199\u001b[0m - \u001b[32m\u001b[1mSuccessfully saved PNG to data/figs/imgs/trec-covid_nnlinear_mae_withlog_validation.png\u001b[0m\n",
      "100%|██████████| 6/6 [00:08<00:00,  1.36s/it]"
     ]
    },
    {
     "name": "stdout",
     "output_type": "stream",
     "text": [
      "Done\n"
     ]
    },
    {
     "name": "stderr",
     "output_type": "stream",
     "text": [
      "\n"
     ]
    }
   ],
   "source": [
    "# Path.cwd() # [DEBUG] -> in commands\n",
    "# plot without log\n",
    "import shutil\n",
    "plots_folder = Path.cwd().parent / \"plots\"\n",
    "CLEAR_PREVIOUS_PLOTS = True\n",
    "if CLEAR_PREVIOUS_PLOTS and plots_folder.exists():\n",
    "    shutil.rmtree(plots_folder)\n",
    "plots_folder.mkdir(parents=True, exist_ok=True)\n",
    "DISPLAY = True\n",
    "for dataset_name in tqdm.tqdm(DATASETS):\n",
    "    # _ = visualize_plt_heatmap(\n",
    "    #     dataset_name,\n",
    "    #     nnlinear_dataset2table_validation_mse[dataset_name],\n",
    "    #     nnlinear_dataset2table_validation_mae[dataset_name],\n",
    "    #     use_log_plot=False,\n",
    "    #     save_path=plots_folder / f\"{dataset_name}_nnlinear_msemae_withoutlog.png\", # _ seperates\n",
    "    #     show_plot=DISPLAY\n",
    "    # )\n",
    "    fig_mse_withoutlog = gatlen_default_heatmap_plot(nnlinear_idx2model, dataset_name, \"nnlinear\", nnlinear_dataset2table_validation_mse[dataset_name], do_log=False)\n",
    "    fig_mae_withoutlog = gatlen_default_heatmap_plot(nnlinear_idx2model, dataset_name, \"nnlinear\", nnlinear_dataset2table_validation_mae[dataset_name], do_log=False)\n",
    "    fig_mse_withlog = gatlen_default_heatmap_plot(nnlinear_idx2model, dataset_name, \"nnlinear\", nnlinear_dataset2table_validation_mse[dataset_name], do_log=True)\n",
    "    fig_mae_withlog = gatlen_default_heatmap_plot(nnlinear_idx2model, dataset_name, \"nnlinear\", nnlinear_dataset2table_validation_mae[dataset_name], do_log=True)\n",
    "    save_figure(fig_mse_withoutlog, f\"{dataset_name}_nnlinear_mse_withoutlog_validation\")\n",
    "    save_figure(fig_mae_withoutlog, f\"{dataset_name}_nnlinear_mae_withoutlog_validation\")\n",
    "    save_figure(fig_mse_withlog, f\"{dataset_name}_nnlinear_mse_withlog_validation\")\n",
    "    save_figure(fig_mae_withlog, f\"{dataset_name}_nnlinear_mae_withlog_validation\")\n",
    "print(\"Done\")"
   ]
  },
  {
   "cell_type": "code",
   "execution_count": 24,
   "metadata": {},
   "outputs": [],
   "source": [
    "# # plot with log\n",
    "# DISPLAY = False\n",
    "# for dataset_name in tqdm.tqdm(DATASETS):\n",
    "#     _ = visualize_plt_heatmap(\n",
    "#         dataset_name,\n",
    "#         nnlinear_dataset2table_validation_mse[dataset_name],\n",
    "#         nnlinear_dataset2table_validation_mae[dataset_name],\n",
    "#         use_log_plot=True,\n",
    "#         save_path=plots_folder / f\"{dataset_name}_nnlinear_msemae_withlog.png\", # _ seperates\n",
    "#         show_plot=DISPLAY\n",
    "#     )\n",
    "# print(\"Done\")\n"
   ]
  },
  {
   "cell_type": "code",
   "execution_count": 25,
   "metadata": {},
   "outputs": [
    {
     "name": "stderr",
     "output_type": "stream",
     "text": [
      "100%|██████████| 1632/1632 [00:00<00:00, 2300.47it/s]\n",
      "100%|██████████| 1632/1632 [00:00<00:00, 2322.80it/s]\n",
      "100%|██████████| 1632/1632 [00:00<00:00, 780691.62it/s]\n",
      "100%|██████████| 1632/1632 [00:00<00:00, 15352.41it/s]\n",
      "\u001b[32m2024-12-11 19:50:39.481\u001b[0m | \u001b[1mINFO    \u001b[0m | \u001b[36m__main__\u001b[0m:\u001b[36mvisualize_heatmap\u001b[0m:\u001b[36m127\u001b[0m - \u001b[1mStarting heatmap visualization process\u001b[0m\n",
      "\u001b[32m2024-12-11 19:50:39.482\u001b[0m | \u001b[1mINFO    \u001b[0m | \u001b[36m__main__\u001b[0m:\u001b[36m_plot_heatmap\u001b[0m:\u001b[36m52\u001b[0m - \u001b[1mCreating heatmap visualization...\u001b[0m\n",
      "\u001b[32m2024-12-11 19:50:39.487\u001b[0m | \u001b[32m\u001b[1mSUCCESS \u001b[0m | \u001b[36m__main__\u001b[0m:\u001b[36m_plot_heatmap\u001b[0m:\u001b[36m101\u001b[0m - \u001b[32m\u001b[1mHeatmap created successfully\u001b[0m\n",
      "\u001b[32m2024-12-11 19:50:39.488\u001b[0m | \u001b[1mINFO    \u001b[0m | \u001b[36m__main__\u001b[0m:\u001b[36mvisualize_heatmap\u001b[0m:\u001b[36m127\u001b[0m - \u001b[1mStarting heatmap visualization process\u001b[0m\n",
      "\u001b[32m2024-12-11 19:50:39.489\u001b[0m | \u001b[1mINFO    \u001b[0m | \u001b[36m__main__\u001b[0m:\u001b[36m_plot_heatmap\u001b[0m:\u001b[36m52\u001b[0m - \u001b[1mCreating heatmap visualization...\u001b[0m\n",
      "\u001b[32m2024-12-11 19:50:39.496\u001b[0m | \u001b[32m\u001b[1mSUCCESS \u001b[0m | \u001b[36m__main__\u001b[0m:\u001b[36m_plot_heatmap\u001b[0m:\u001b[36m101\u001b[0m - \u001b[32m\u001b[1mHeatmap created successfully\u001b[0m\n",
      "\u001b[32m2024-12-11 19:50:39.497\u001b[0m | \u001b[1mINFO    \u001b[0m | \u001b[36m__main__\u001b[0m:\u001b[36mvisualize_heatmap\u001b[0m:\u001b[36m127\u001b[0m - \u001b[1mStarting heatmap visualization process\u001b[0m\n",
      "\u001b[32m2024-12-11 19:50:39.498\u001b[0m | \u001b[1mINFO    \u001b[0m | \u001b[36m__main__\u001b[0m:\u001b[36m_plot_heatmap\u001b[0m:\u001b[36m52\u001b[0m - \u001b[1mCreating heatmap visualization...\u001b[0m\n",
      "\u001b[32m2024-12-11 19:50:39.503\u001b[0m | \u001b[32m\u001b[1mSUCCESS \u001b[0m | \u001b[36m__main__\u001b[0m:\u001b[36m_plot_heatmap\u001b[0m:\u001b[36m101\u001b[0m - \u001b[32m\u001b[1mHeatmap created successfully\u001b[0m\n",
      "\u001b[32m2024-12-11 19:50:39.504\u001b[0m | \u001b[1mINFO    \u001b[0m | \u001b[36m__main__\u001b[0m:\u001b[36mvisualize_heatmap\u001b[0m:\u001b[36m127\u001b[0m - \u001b[1mStarting heatmap visualization process\u001b[0m\n",
      "\u001b[32m2024-12-11 19:50:39.504\u001b[0m | \u001b[1mINFO    \u001b[0m | \u001b[36m__main__\u001b[0m:\u001b[36m_plot_heatmap\u001b[0m:\u001b[36m52\u001b[0m - \u001b[1mCreating heatmap visualization...\u001b[0m\n",
      "\u001b[32m2024-12-11 19:50:39.508\u001b[0m | \u001b[32m\u001b[1mSUCCESS \u001b[0m | \u001b[36m__main__\u001b[0m:\u001b[36m_plot_heatmap\u001b[0m:\u001b[36m101\u001b[0m - \u001b[32m\u001b[1mHeatmap created successfully\u001b[0m\n",
      "\u001b[32m2024-12-11 19:50:39.510\u001b[0m | \u001b[1mINFO    \u001b[0m | \u001b[36m__main__\u001b[0m:\u001b[36m_save_figure_html\u001b[0m:\u001b[36m156\u001b[0m - \u001b[1mSaving HTML figure to data/figs/html/arguana_olsaffine_mse_withoutlog_validation.html\u001b[0m\n",
      "\u001b[32m2024-12-11 19:50:39.514\u001b[0m | \u001b[32m\u001b[1mSUCCESS \u001b[0m | \u001b[36m__main__\u001b[0m:\u001b[36m_save_figure_html\u001b[0m:\u001b[36m164\u001b[0m - \u001b[32m\u001b[1mSuccessfully saved HTML to data/figs/html/arguana_olsaffine_mse_withoutlog_validation.html\u001b[0m\n",
      "\u001b[32m2024-12-11 19:50:39.515\u001b[0m | \u001b[1mINFO    \u001b[0m | \u001b[36m__main__\u001b[0m:\u001b[36m_save_figure_png\u001b[0m:\u001b[36m190\u001b[0m - \u001b[1mSaving PNG figure to data/figs/imgs/arguana_olsaffine_mse_withoutlog_validation.png\u001b[0m\n",
      "\u001b[32m2024-12-11 19:50:39.874\u001b[0m | \u001b[32m\u001b[1mSUCCESS \u001b[0m | \u001b[36m__main__\u001b[0m:\u001b[36m_save_figure_png\u001b[0m:\u001b[36m199\u001b[0m - \u001b[32m\u001b[1mSuccessfully saved PNG to data/figs/imgs/arguana_olsaffine_mse_withoutlog_validation.png\u001b[0m\n",
      "\u001b[32m2024-12-11 19:50:39.876\u001b[0m | \u001b[1mINFO    \u001b[0m | \u001b[36m__main__\u001b[0m:\u001b[36m_save_figure_html\u001b[0m:\u001b[36m156\u001b[0m - \u001b[1mSaving HTML figure to data/figs/html/arguana_olsaffine_mae_withoutlog_validation.html\u001b[0m\n",
      "\u001b[32m2024-12-11 19:50:39.880\u001b[0m | \u001b[32m\u001b[1mSUCCESS \u001b[0m | \u001b[36m__main__\u001b[0m:\u001b[36m_save_figure_html\u001b[0m:\u001b[36m164\u001b[0m - \u001b[32m\u001b[1mSuccessfully saved HTML to data/figs/html/arguana_olsaffine_mae_withoutlog_validation.html\u001b[0m\n",
      "\u001b[32m2024-12-11 19:50:39.881\u001b[0m | \u001b[1mINFO    \u001b[0m | \u001b[36m__main__\u001b[0m:\u001b[36m_save_figure_png\u001b[0m:\u001b[36m190\u001b[0m - \u001b[1mSaving PNG figure to data/figs/imgs/arguana_olsaffine_mae_withoutlog_validation.png\u001b[0m\n",
      "\u001b[32m2024-12-11 19:50:40.204\u001b[0m | \u001b[32m\u001b[1mSUCCESS \u001b[0m | \u001b[36m__main__\u001b[0m:\u001b[36m_save_figure_png\u001b[0m:\u001b[36m199\u001b[0m - \u001b[32m\u001b[1mSuccessfully saved PNG to data/figs/imgs/arguana_olsaffine_mae_withoutlog_validation.png\u001b[0m\n",
      "\u001b[32m2024-12-11 19:50:40.206\u001b[0m | \u001b[1mINFO    \u001b[0m | \u001b[36m__main__\u001b[0m:\u001b[36m_save_figure_html\u001b[0m:\u001b[36m156\u001b[0m - \u001b[1mSaving HTML figure to data/figs/html/arguana_olsaffine_mse_withlog_validation.html\u001b[0m\n",
      "\u001b[32m2024-12-11 19:50:40.212\u001b[0m | \u001b[32m\u001b[1mSUCCESS \u001b[0m | \u001b[36m__main__\u001b[0m:\u001b[36m_save_figure_html\u001b[0m:\u001b[36m164\u001b[0m - \u001b[32m\u001b[1mSuccessfully saved HTML to data/figs/html/arguana_olsaffine_mse_withlog_validation.html\u001b[0m\n",
      "\u001b[32m2024-12-11 19:50:40.212\u001b[0m | \u001b[1mINFO    \u001b[0m | \u001b[36m__main__\u001b[0m:\u001b[36m_save_figure_png\u001b[0m:\u001b[36m190\u001b[0m - \u001b[1mSaving PNG figure to data/figs/imgs/arguana_olsaffine_mse_withlog_validation.png\u001b[0m\n",
      "\u001b[32m2024-12-11 19:50:40.517\u001b[0m | \u001b[32m\u001b[1mSUCCESS \u001b[0m | \u001b[36m__main__\u001b[0m:\u001b[36m_save_figure_png\u001b[0m:\u001b[36m199\u001b[0m - \u001b[32m\u001b[1mSuccessfully saved PNG to data/figs/imgs/arguana_olsaffine_mse_withlog_validation.png\u001b[0m\n",
      "\u001b[32m2024-12-11 19:50:40.519\u001b[0m | \u001b[1mINFO    \u001b[0m | \u001b[36m__main__\u001b[0m:\u001b[36m_save_figure_html\u001b[0m:\u001b[36m156\u001b[0m - \u001b[1mSaving HTML figure to data/figs/html/arguana_olsaffine_mae_withlog_validation.html\u001b[0m\n",
      "\u001b[32m2024-12-11 19:50:40.531\u001b[0m | \u001b[32m\u001b[1mSUCCESS \u001b[0m | \u001b[36m__main__\u001b[0m:\u001b[36m_save_figure_html\u001b[0m:\u001b[36m164\u001b[0m - \u001b[32m\u001b[1mSuccessfully saved HTML to data/figs/html/arguana_olsaffine_mae_withlog_validation.html\u001b[0m\n",
      "\u001b[32m2024-12-11 19:50:40.531\u001b[0m | \u001b[1mINFO    \u001b[0m | \u001b[36m__main__\u001b[0m:\u001b[36m_save_figure_png\u001b[0m:\u001b[36m190\u001b[0m - \u001b[1mSaving PNG figure to data/figs/imgs/arguana_olsaffine_mae_withlog_validation.png\u001b[0m\n",
      "\u001b[32m2024-12-11 19:50:40.851\u001b[0m | \u001b[32m\u001b[1mSUCCESS \u001b[0m | \u001b[36m__main__\u001b[0m:\u001b[36m_save_figure_png\u001b[0m:\u001b[36m199\u001b[0m - \u001b[32m\u001b[1mSuccessfully saved PNG to data/figs/imgs/arguana_olsaffine_mae_withlog_validation.png\u001b[0m\n",
      "\u001b[32m2024-12-11 19:50:40.851\u001b[0m | \u001b[1mINFO    \u001b[0m | \u001b[36m__main__\u001b[0m:\u001b[36mvisualize_heatmap\u001b[0m:\u001b[36m127\u001b[0m - \u001b[1mStarting heatmap visualization process\u001b[0m\n",
      "\u001b[32m2024-12-11 19:50:40.852\u001b[0m | \u001b[1mINFO    \u001b[0m | \u001b[36m__main__\u001b[0m:\u001b[36m_plot_heatmap\u001b[0m:\u001b[36m52\u001b[0m - \u001b[1mCreating heatmap visualization...\u001b[0m\n",
      "\u001b[32m2024-12-11 19:50:40.862\u001b[0m | \u001b[32m\u001b[1mSUCCESS \u001b[0m | \u001b[36m__main__\u001b[0m:\u001b[36m_plot_heatmap\u001b[0m:\u001b[36m101\u001b[0m - \u001b[32m\u001b[1mHeatmap created successfully\u001b[0m\n",
      "\u001b[32m2024-12-11 19:50:40.863\u001b[0m | \u001b[1mINFO    \u001b[0m | \u001b[36m__main__\u001b[0m:\u001b[36mvisualize_heatmap\u001b[0m:\u001b[36m127\u001b[0m - \u001b[1mStarting heatmap visualization process\u001b[0m\n",
      "\u001b[32m2024-12-11 19:50:40.863\u001b[0m | \u001b[1mINFO    \u001b[0m | \u001b[36m__main__\u001b[0m:\u001b[36m_plot_heatmap\u001b[0m:\u001b[36m52\u001b[0m - \u001b[1mCreating heatmap visualization...\u001b[0m\n",
      "\u001b[32m2024-12-11 19:50:40.872\u001b[0m | \u001b[32m\u001b[1mSUCCESS \u001b[0m | \u001b[36m__main__\u001b[0m:\u001b[36m_plot_heatmap\u001b[0m:\u001b[36m101\u001b[0m - \u001b[32m\u001b[1mHeatmap created successfully\u001b[0m\n",
      "\u001b[32m2024-12-11 19:50:40.874\u001b[0m | \u001b[1mINFO    \u001b[0m | \u001b[36m__main__\u001b[0m:\u001b[36mvisualize_heatmap\u001b[0m:\u001b[36m127\u001b[0m - \u001b[1mStarting heatmap visualization process\u001b[0m\n",
      "\u001b[32m2024-12-11 19:50:40.874\u001b[0m | \u001b[1mINFO    \u001b[0m | \u001b[36m__main__\u001b[0m:\u001b[36m_plot_heatmap\u001b[0m:\u001b[36m52\u001b[0m - \u001b[1mCreating heatmap visualization...\u001b[0m\n",
      "\u001b[32m2024-12-11 19:50:40.883\u001b[0m | \u001b[32m\u001b[1mSUCCESS \u001b[0m | \u001b[36m__main__\u001b[0m:\u001b[36m_plot_heatmap\u001b[0m:\u001b[36m101\u001b[0m - \u001b[32m\u001b[1mHeatmap created successfully\u001b[0m\n",
      "\u001b[32m2024-12-11 19:50:40.884\u001b[0m | \u001b[1mINFO    \u001b[0m | \u001b[36m__main__\u001b[0m:\u001b[36mvisualize_heatmap\u001b[0m:\u001b[36m127\u001b[0m - \u001b[1mStarting heatmap visualization process\u001b[0m\n",
      "\u001b[32m2024-12-11 19:50:40.885\u001b[0m | \u001b[1mINFO    \u001b[0m | \u001b[36m__main__\u001b[0m:\u001b[36m_plot_heatmap\u001b[0m:\u001b[36m52\u001b[0m - \u001b[1mCreating heatmap visualization...\u001b[0m\n",
      "\u001b[32m2024-12-11 19:50:40.894\u001b[0m | \u001b[32m\u001b[1mSUCCESS \u001b[0m | \u001b[36m__main__\u001b[0m:\u001b[36m_plot_heatmap\u001b[0m:\u001b[36m101\u001b[0m - \u001b[32m\u001b[1mHeatmap created successfully\u001b[0m\n",
      "\u001b[32m2024-12-11 19:50:40.896\u001b[0m | \u001b[1mINFO    \u001b[0m | \u001b[36m__main__\u001b[0m:\u001b[36m_save_figure_html\u001b[0m:\u001b[36m156\u001b[0m - \u001b[1mSaving HTML figure to data/figs/html/fiqa_olsaffine_mse_withoutlog_validation.html\u001b[0m\n",
      "\u001b[32m2024-12-11 19:50:40.900\u001b[0m | \u001b[32m\u001b[1mSUCCESS \u001b[0m | \u001b[36m__main__\u001b[0m:\u001b[36m_save_figure_html\u001b[0m:\u001b[36m164\u001b[0m - \u001b[32m\u001b[1mSuccessfully saved HTML to data/figs/html/fiqa_olsaffine_mse_withoutlog_validation.html\u001b[0m\n",
      "\u001b[32m2024-12-11 19:50:40.901\u001b[0m | \u001b[1mINFO    \u001b[0m | \u001b[36m__main__\u001b[0m:\u001b[36m_save_figure_png\u001b[0m:\u001b[36m190\u001b[0m - \u001b[1mSaving PNG figure to data/figs/imgs/fiqa_olsaffine_mse_withoutlog_validation.png\u001b[0m\n",
      "\u001b[32m2024-12-11 19:50:41.215\u001b[0m | \u001b[32m\u001b[1mSUCCESS \u001b[0m | \u001b[36m__main__\u001b[0m:\u001b[36m_save_figure_png\u001b[0m:\u001b[36m199\u001b[0m - \u001b[32m\u001b[1mSuccessfully saved PNG to data/figs/imgs/fiqa_olsaffine_mse_withoutlog_validation.png\u001b[0m\n",
      "\u001b[32m2024-12-11 19:50:41.217\u001b[0m | \u001b[1mINFO    \u001b[0m | \u001b[36m__main__\u001b[0m:\u001b[36m_save_figure_html\u001b[0m:\u001b[36m156\u001b[0m - \u001b[1mSaving HTML figure to data/figs/html/fiqa_olsaffine_mae_withoutlog_validation.html\u001b[0m\n",
      "\u001b[32m2024-12-11 19:50:41.229\u001b[0m | \u001b[32m\u001b[1mSUCCESS \u001b[0m | \u001b[36m__main__\u001b[0m:\u001b[36m_save_figure_html\u001b[0m:\u001b[36m164\u001b[0m - \u001b[32m\u001b[1mSuccessfully saved HTML to data/figs/html/fiqa_olsaffine_mae_withoutlog_validation.html\u001b[0m\n",
      "\u001b[32m2024-12-11 19:50:41.230\u001b[0m | \u001b[1mINFO    \u001b[0m | \u001b[36m__main__\u001b[0m:\u001b[36m_save_figure_png\u001b[0m:\u001b[36m190\u001b[0m - \u001b[1mSaving PNG figure to data/figs/imgs/fiqa_olsaffine_mae_withoutlog_validation.png\u001b[0m\n",
      "\u001b[32m2024-12-11 19:50:41.605\u001b[0m | \u001b[32m\u001b[1mSUCCESS \u001b[0m | \u001b[36m__main__\u001b[0m:\u001b[36m_save_figure_png\u001b[0m:\u001b[36m199\u001b[0m - \u001b[32m\u001b[1mSuccessfully saved PNG to data/figs/imgs/fiqa_olsaffine_mae_withoutlog_validation.png\u001b[0m\n",
      "\u001b[32m2024-12-11 19:50:41.607\u001b[0m | \u001b[1mINFO    \u001b[0m | \u001b[36m__main__\u001b[0m:\u001b[36m_save_figure_html\u001b[0m:\u001b[36m156\u001b[0m - \u001b[1mSaving HTML figure to data/figs/html/fiqa_olsaffine_mse_withlog_validation.html\u001b[0m\n",
      "\u001b[32m2024-12-11 19:50:41.612\u001b[0m | \u001b[32m\u001b[1mSUCCESS \u001b[0m | \u001b[36m__main__\u001b[0m:\u001b[36m_save_figure_html\u001b[0m:\u001b[36m164\u001b[0m - \u001b[32m\u001b[1mSuccessfully saved HTML to data/figs/html/fiqa_olsaffine_mse_withlog_validation.html\u001b[0m\n",
      "\u001b[32m2024-12-11 19:50:41.613\u001b[0m | \u001b[1mINFO    \u001b[0m | \u001b[36m__main__\u001b[0m:\u001b[36m_save_figure_png\u001b[0m:\u001b[36m190\u001b[0m - \u001b[1mSaving PNG figure to data/figs/imgs/fiqa_olsaffine_mse_withlog_validation.png\u001b[0m\n",
      "\u001b[32m2024-12-11 19:50:41.944\u001b[0m | \u001b[32m\u001b[1mSUCCESS \u001b[0m | \u001b[36m__main__\u001b[0m:\u001b[36m_save_figure_png\u001b[0m:\u001b[36m199\u001b[0m - \u001b[32m\u001b[1mSuccessfully saved PNG to data/figs/imgs/fiqa_olsaffine_mse_withlog_validation.png\u001b[0m\n",
      "\u001b[32m2024-12-11 19:50:41.946\u001b[0m | \u001b[1mINFO    \u001b[0m | \u001b[36m__main__\u001b[0m:\u001b[36m_save_figure_html\u001b[0m:\u001b[36m156\u001b[0m - \u001b[1mSaving HTML figure to data/figs/html/fiqa_olsaffine_mae_withlog_validation.html\u001b[0m\n",
      "\u001b[32m2024-12-11 19:50:41.952\u001b[0m | \u001b[32m\u001b[1mSUCCESS \u001b[0m | \u001b[36m__main__\u001b[0m:\u001b[36m_save_figure_html\u001b[0m:\u001b[36m164\u001b[0m - \u001b[32m\u001b[1mSuccessfully saved HTML to data/figs/html/fiqa_olsaffine_mae_withlog_validation.html\u001b[0m\n",
      "\u001b[32m2024-12-11 19:50:41.952\u001b[0m | \u001b[1mINFO    \u001b[0m | \u001b[36m__main__\u001b[0m:\u001b[36m_save_figure_png\u001b[0m:\u001b[36m190\u001b[0m - \u001b[1mSaving PNG figure to data/figs/imgs/fiqa_olsaffine_mae_withlog_validation.png\u001b[0m\n",
      "\u001b[32m2024-12-11 19:50:42.258\u001b[0m | \u001b[32m\u001b[1mSUCCESS \u001b[0m | \u001b[36m__main__\u001b[0m:\u001b[36m_save_figure_png\u001b[0m:\u001b[36m199\u001b[0m - \u001b[32m\u001b[1mSuccessfully saved PNG to data/figs/imgs/fiqa_olsaffine_mae_withlog_validation.png\u001b[0m\n",
      "\u001b[32m2024-12-11 19:50:42.259\u001b[0m | \u001b[1mINFO    \u001b[0m | \u001b[36m__main__\u001b[0m:\u001b[36mvisualize_heatmap\u001b[0m:\u001b[36m127\u001b[0m - \u001b[1mStarting heatmap visualization process\u001b[0m\n",
      "\u001b[32m2024-12-11 19:50:42.260\u001b[0m | \u001b[1mINFO    \u001b[0m | \u001b[36m__main__\u001b[0m:\u001b[36m_plot_heatmap\u001b[0m:\u001b[36m52\u001b[0m - \u001b[1mCreating heatmap visualization...\u001b[0m\n",
      "\u001b[32m2024-12-11 19:50:42.264\u001b[0m | \u001b[32m\u001b[1mSUCCESS \u001b[0m | \u001b[36m__main__\u001b[0m:\u001b[36m_plot_heatmap\u001b[0m:\u001b[36m101\u001b[0m - \u001b[32m\u001b[1mHeatmap created successfully\u001b[0m\n",
      "\u001b[32m2024-12-11 19:50:42.265\u001b[0m | \u001b[1mINFO    \u001b[0m | \u001b[36m__main__\u001b[0m:\u001b[36mvisualize_heatmap\u001b[0m:\u001b[36m127\u001b[0m - \u001b[1mStarting heatmap visualization process\u001b[0m\n",
      "\u001b[32m2024-12-11 19:50:42.266\u001b[0m | \u001b[1mINFO    \u001b[0m | \u001b[36m__main__\u001b[0m:\u001b[36m_plot_heatmap\u001b[0m:\u001b[36m52\u001b[0m - \u001b[1mCreating heatmap visualization...\u001b[0m\n",
      "\u001b[32m2024-12-11 19:50:42.270\u001b[0m | \u001b[32m\u001b[1mSUCCESS \u001b[0m | \u001b[36m__main__\u001b[0m:\u001b[36m_plot_heatmap\u001b[0m:\u001b[36m101\u001b[0m - \u001b[32m\u001b[1mHeatmap created successfully\u001b[0m\n",
      "\u001b[32m2024-12-11 19:50:42.272\u001b[0m | \u001b[1mINFO    \u001b[0m | \u001b[36m__main__\u001b[0m:\u001b[36mvisualize_heatmap\u001b[0m:\u001b[36m127\u001b[0m - \u001b[1mStarting heatmap visualization process\u001b[0m\n",
      "\u001b[32m2024-12-11 19:50:42.272\u001b[0m | \u001b[1mINFO    \u001b[0m | \u001b[36m__main__\u001b[0m:\u001b[36m_plot_heatmap\u001b[0m:\u001b[36m52\u001b[0m - \u001b[1mCreating heatmap visualization...\u001b[0m\n",
      "\u001b[32m2024-12-11 19:50:42.276\u001b[0m | \u001b[32m\u001b[1mSUCCESS \u001b[0m | \u001b[36m__main__\u001b[0m:\u001b[36m_plot_heatmap\u001b[0m:\u001b[36m101\u001b[0m - \u001b[32m\u001b[1mHeatmap created successfully\u001b[0m\n",
      "\u001b[32m2024-12-11 19:50:42.277\u001b[0m | \u001b[1mINFO    \u001b[0m | \u001b[36m__main__\u001b[0m:\u001b[36mvisualize_heatmap\u001b[0m:\u001b[36m127\u001b[0m - \u001b[1mStarting heatmap visualization process\u001b[0m\n",
      "\u001b[32m2024-12-11 19:50:42.278\u001b[0m | \u001b[1mINFO    \u001b[0m | \u001b[36m__main__\u001b[0m:\u001b[36m_plot_heatmap\u001b[0m:\u001b[36m52\u001b[0m - \u001b[1mCreating heatmap visualization...\u001b[0m\n",
      "\u001b[32m2024-12-11 19:50:42.282\u001b[0m | \u001b[32m\u001b[1mSUCCESS \u001b[0m | \u001b[36m__main__\u001b[0m:\u001b[36m_plot_heatmap\u001b[0m:\u001b[36m101\u001b[0m - \u001b[32m\u001b[1mHeatmap created successfully\u001b[0m\n",
      "\u001b[32m2024-12-11 19:50:42.283\u001b[0m | \u001b[1mINFO    \u001b[0m | \u001b[36m__main__\u001b[0m:\u001b[36m_save_figure_html\u001b[0m:\u001b[36m156\u001b[0m - \u001b[1mSaving HTML figure to data/figs/html/scidocs_olsaffine_mse_withoutlog_validation.html\u001b[0m\n",
      "\u001b[32m2024-12-11 19:50:42.287\u001b[0m | \u001b[32m\u001b[1mSUCCESS \u001b[0m | \u001b[36m__main__\u001b[0m:\u001b[36m_save_figure_html\u001b[0m:\u001b[36m164\u001b[0m - \u001b[32m\u001b[1mSuccessfully saved HTML to data/figs/html/scidocs_olsaffine_mse_withoutlog_validation.html\u001b[0m\n",
      "\u001b[32m2024-12-11 19:50:42.288\u001b[0m | \u001b[1mINFO    \u001b[0m | \u001b[36m__main__\u001b[0m:\u001b[36m_save_figure_png\u001b[0m:\u001b[36m190\u001b[0m - \u001b[1mSaving PNG figure to data/figs/imgs/scidocs_olsaffine_mse_withoutlog_validation.png\u001b[0m\n",
      "\u001b[32m2024-12-11 19:50:42.592\u001b[0m | \u001b[32m\u001b[1mSUCCESS \u001b[0m | \u001b[36m__main__\u001b[0m:\u001b[36m_save_figure_png\u001b[0m:\u001b[36m199\u001b[0m - \u001b[32m\u001b[1mSuccessfully saved PNG to data/figs/imgs/scidocs_olsaffine_mse_withoutlog_validation.png\u001b[0m\n",
      "\u001b[32m2024-12-11 19:50:42.594\u001b[0m | \u001b[1mINFO    \u001b[0m | \u001b[36m__main__\u001b[0m:\u001b[36m_save_figure_html\u001b[0m:\u001b[36m156\u001b[0m - \u001b[1mSaving HTML figure to data/figs/html/scidocs_olsaffine_mae_withoutlog_validation.html\u001b[0m\n",
      "\u001b[32m2024-12-11 19:50:42.598\u001b[0m | \u001b[32m\u001b[1mSUCCESS \u001b[0m | \u001b[36m__main__\u001b[0m:\u001b[36m_save_figure_html\u001b[0m:\u001b[36m164\u001b[0m - \u001b[32m\u001b[1mSuccessfully saved HTML to data/figs/html/scidocs_olsaffine_mae_withoutlog_validation.html\u001b[0m\n",
      "\u001b[32m2024-12-11 19:50:42.598\u001b[0m | \u001b[1mINFO    \u001b[0m | \u001b[36m__main__\u001b[0m:\u001b[36m_save_figure_png\u001b[0m:\u001b[36m190\u001b[0m - \u001b[1mSaving PNG figure to data/figs/imgs/scidocs_olsaffine_mae_withoutlog_validation.png\u001b[0m\n",
      "\u001b[32m2024-12-11 19:50:42.967\u001b[0m | \u001b[32m\u001b[1mSUCCESS \u001b[0m | \u001b[36m__main__\u001b[0m:\u001b[36m_save_figure_png\u001b[0m:\u001b[36m199\u001b[0m - \u001b[32m\u001b[1mSuccessfully saved PNG to data/figs/imgs/scidocs_olsaffine_mae_withoutlog_validation.png\u001b[0m\n",
      "\u001b[32m2024-12-11 19:50:42.969\u001b[0m | \u001b[1mINFO    \u001b[0m | \u001b[36m__main__\u001b[0m:\u001b[36m_save_figure_html\u001b[0m:\u001b[36m156\u001b[0m - \u001b[1mSaving HTML figure to data/figs/html/scidocs_olsaffine_mse_withlog_validation.html\u001b[0m\n",
      "\u001b[32m2024-12-11 19:50:42.972\u001b[0m | \u001b[32m\u001b[1mSUCCESS \u001b[0m | \u001b[36m__main__\u001b[0m:\u001b[36m_save_figure_html\u001b[0m:\u001b[36m164\u001b[0m - \u001b[32m\u001b[1mSuccessfully saved HTML to data/figs/html/scidocs_olsaffine_mse_withlog_validation.html\u001b[0m\n",
      "\u001b[32m2024-12-11 19:50:42.973\u001b[0m | \u001b[1mINFO    \u001b[0m | \u001b[36m__main__\u001b[0m:\u001b[36m_save_figure_png\u001b[0m:\u001b[36m190\u001b[0m - \u001b[1mSaving PNG figure to data/figs/imgs/scidocs_olsaffine_mse_withlog_validation.png\u001b[0m\n",
      "\u001b[32m2024-12-11 19:50:43.280\u001b[0m | \u001b[32m\u001b[1mSUCCESS \u001b[0m | \u001b[36m__main__\u001b[0m:\u001b[36m_save_figure_png\u001b[0m:\u001b[36m199\u001b[0m - \u001b[32m\u001b[1mSuccessfully saved PNG to data/figs/imgs/scidocs_olsaffine_mse_withlog_validation.png\u001b[0m\n",
      "\u001b[32m2024-12-11 19:50:43.282\u001b[0m | \u001b[1mINFO    \u001b[0m | \u001b[36m__main__\u001b[0m:\u001b[36m_save_figure_html\u001b[0m:\u001b[36m156\u001b[0m - \u001b[1mSaving HTML figure to data/figs/html/scidocs_olsaffine_mae_withlog_validation.html\u001b[0m\n",
      "\u001b[32m2024-12-11 19:50:43.288\u001b[0m | \u001b[32m\u001b[1mSUCCESS \u001b[0m | \u001b[36m__main__\u001b[0m:\u001b[36m_save_figure_html\u001b[0m:\u001b[36m164\u001b[0m - \u001b[32m\u001b[1mSuccessfully saved HTML to data/figs/html/scidocs_olsaffine_mae_withlog_validation.html\u001b[0m\n",
      "\u001b[32m2024-12-11 19:50:43.288\u001b[0m | \u001b[1mINFO    \u001b[0m | \u001b[36m__main__\u001b[0m:\u001b[36m_save_figure_png\u001b[0m:\u001b[36m190\u001b[0m - \u001b[1mSaving PNG figure to data/figs/imgs/scidocs_olsaffine_mae_withlog_validation.png\u001b[0m\n",
      "\u001b[32m2024-12-11 19:50:43.587\u001b[0m | \u001b[32m\u001b[1mSUCCESS \u001b[0m | \u001b[36m__main__\u001b[0m:\u001b[36m_save_figure_png\u001b[0m:\u001b[36m199\u001b[0m - \u001b[32m\u001b[1mSuccessfully saved PNG to data/figs/imgs/scidocs_olsaffine_mae_withlog_validation.png\u001b[0m\n",
      "\u001b[32m2024-12-11 19:50:43.587\u001b[0m | \u001b[1mINFO    \u001b[0m | \u001b[36m__main__\u001b[0m:\u001b[36mvisualize_heatmap\u001b[0m:\u001b[36m127\u001b[0m - \u001b[1mStarting heatmap visualization process\u001b[0m\n",
      "\u001b[32m2024-12-11 19:50:43.588\u001b[0m | \u001b[1mINFO    \u001b[0m | \u001b[36m__main__\u001b[0m:\u001b[36m_plot_heatmap\u001b[0m:\u001b[36m52\u001b[0m - \u001b[1mCreating heatmap visualization...\u001b[0m\n",
      "\u001b[32m2024-12-11 19:50:43.593\u001b[0m | \u001b[32m\u001b[1mSUCCESS \u001b[0m | \u001b[36m__main__\u001b[0m:\u001b[36m_plot_heatmap\u001b[0m:\u001b[36m101\u001b[0m - \u001b[32m\u001b[1mHeatmap created successfully\u001b[0m\n",
      "\u001b[32m2024-12-11 19:50:43.594\u001b[0m | \u001b[1mINFO    \u001b[0m | \u001b[36m__main__\u001b[0m:\u001b[36mvisualize_heatmap\u001b[0m:\u001b[36m127\u001b[0m - \u001b[1mStarting heatmap visualization process\u001b[0m\n",
      "\u001b[32m2024-12-11 19:50:43.595\u001b[0m | \u001b[1mINFO    \u001b[0m | \u001b[36m__main__\u001b[0m:\u001b[36m_plot_heatmap\u001b[0m:\u001b[36m52\u001b[0m - \u001b[1mCreating heatmap visualization...\u001b[0m\n",
      "\u001b[32m2024-12-11 19:50:43.599\u001b[0m | \u001b[32m\u001b[1mSUCCESS \u001b[0m | \u001b[36m__main__\u001b[0m:\u001b[36m_plot_heatmap\u001b[0m:\u001b[36m101\u001b[0m - \u001b[32m\u001b[1mHeatmap created successfully\u001b[0m\n",
      "\u001b[32m2024-12-11 19:50:43.600\u001b[0m | \u001b[1mINFO    \u001b[0m | \u001b[36m__main__\u001b[0m:\u001b[36mvisualize_heatmap\u001b[0m:\u001b[36m127\u001b[0m - \u001b[1mStarting heatmap visualization process\u001b[0m\n",
      "\u001b[32m2024-12-11 19:50:43.600\u001b[0m | \u001b[1mINFO    \u001b[0m | \u001b[36m__main__\u001b[0m:\u001b[36m_plot_heatmap\u001b[0m:\u001b[36m52\u001b[0m - \u001b[1mCreating heatmap visualization...\u001b[0m\n",
      "\u001b[32m2024-12-11 19:50:43.604\u001b[0m | \u001b[32m\u001b[1mSUCCESS \u001b[0m | \u001b[36m__main__\u001b[0m:\u001b[36m_plot_heatmap\u001b[0m:\u001b[36m101\u001b[0m - \u001b[32m\u001b[1mHeatmap created successfully\u001b[0m\n",
      "\u001b[32m2024-12-11 19:50:43.605\u001b[0m | \u001b[1mINFO    \u001b[0m | \u001b[36m__main__\u001b[0m:\u001b[36mvisualize_heatmap\u001b[0m:\u001b[36m127\u001b[0m - \u001b[1mStarting heatmap visualization process\u001b[0m\n",
      "\u001b[32m2024-12-11 19:50:43.606\u001b[0m | \u001b[1mINFO    \u001b[0m | \u001b[36m__main__\u001b[0m:\u001b[36m_plot_heatmap\u001b[0m:\u001b[36m52\u001b[0m - \u001b[1mCreating heatmap visualization...\u001b[0m\n",
      "\u001b[32m2024-12-11 19:50:43.610\u001b[0m | \u001b[32m\u001b[1mSUCCESS \u001b[0m | \u001b[36m__main__\u001b[0m:\u001b[36m_plot_heatmap\u001b[0m:\u001b[36m101\u001b[0m - \u001b[32m\u001b[1mHeatmap created successfully\u001b[0m\n",
      "\u001b[32m2024-12-11 19:50:43.612\u001b[0m | \u001b[1mINFO    \u001b[0m | \u001b[36m__main__\u001b[0m:\u001b[36m_save_figure_html\u001b[0m:\u001b[36m156\u001b[0m - \u001b[1mSaving HTML figure to data/figs/html/nfcorpus_olsaffine_mse_withoutlog_validation.html\u001b[0m\n",
      "\u001b[32m2024-12-11 19:50:43.615\u001b[0m | \u001b[32m\u001b[1mSUCCESS \u001b[0m | \u001b[36m__main__\u001b[0m:\u001b[36m_save_figure_html\u001b[0m:\u001b[36m164\u001b[0m - \u001b[32m\u001b[1mSuccessfully saved HTML to data/figs/html/nfcorpus_olsaffine_mse_withoutlog_validation.html\u001b[0m\n",
      "\u001b[32m2024-12-11 19:50:43.616\u001b[0m | \u001b[1mINFO    \u001b[0m | \u001b[36m__main__\u001b[0m:\u001b[36m_save_figure_png\u001b[0m:\u001b[36m190\u001b[0m - \u001b[1mSaving PNG figure to data/figs/imgs/nfcorpus_olsaffine_mse_withoutlog_validation.png\u001b[0m\n",
      "\u001b[32m2024-12-11 19:50:43.986\u001b[0m | \u001b[32m\u001b[1mSUCCESS \u001b[0m | \u001b[36m__main__\u001b[0m:\u001b[36m_save_figure_png\u001b[0m:\u001b[36m199\u001b[0m - \u001b[32m\u001b[1mSuccessfully saved PNG to data/figs/imgs/nfcorpus_olsaffine_mse_withoutlog_validation.png\u001b[0m\n",
      "\u001b[32m2024-12-11 19:50:43.988\u001b[0m | \u001b[1mINFO    \u001b[0m | \u001b[36m__main__\u001b[0m:\u001b[36m_save_figure_html\u001b[0m:\u001b[36m156\u001b[0m - \u001b[1mSaving HTML figure to data/figs/html/nfcorpus_olsaffine_mae_withoutlog_validation.html\u001b[0m\n",
      "\u001b[32m2024-12-11 19:50:43.991\u001b[0m | \u001b[32m\u001b[1mSUCCESS \u001b[0m | \u001b[36m__main__\u001b[0m:\u001b[36m_save_figure_html\u001b[0m:\u001b[36m164\u001b[0m - \u001b[32m\u001b[1mSuccessfully saved HTML to data/figs/html/nfcorpus_olsaffine_mae_withoutlog_validation.html\u001b[0m\n",
      "\u001b[32m2024-12-11 19:50:43.992\u001b[0m | \u001b[1mINFO    \u001b[0m | \u001b[36m__main__\u001b[0m:\u001b[36m_save_figure_png\u001b[0m:\u001b[36m190\u001b[0m - \u001b[1mSaving PNG figure to data/figs/imgs/nfcorpus_olsaffine_mae_withoutlog_validation.png\u001b[0m\n",
      "\u001b[32m2024-12-11 19:50:44.317\u001b[0m | \u001b[32m\u001b[1mSUCCESS \u001b[0m | \u001b[36m__main__\u001b[0m:\u001b[36m_save_figure_png\u001b[0m:\u001b[36m199\u001b[0m - \u001b[32m\u001b[1mSuccessfully saved PNG to data/figs/imgs/nfcorpus_olsaffine_mae_withoutlog_validation.png\u001b[0m\n",
      "\u001b[32m2024-12-11 19:50:44.319\u001b[0m | \u001b[1mINFO    \u001b[0m | \u001b[36m__main__\u001b[0m:\u001b[36m_save_figure_html\u001b[0m:\u001b[36m156\u001b[0m - \u001b[1mSaving HTML figure to data/figs/html/nfcorpus_olsaffine_mse_withlog_validation.html\u001b[0m\n",
      "\u001b[32m2024-12-11 19:50:44.324\u001b[0m | \u001b[32m\u001b[1mSUCCESS \u001b[0m | \u001b[36m__main__\u001b[0m:\u001b[36m_save_figure_html\u001b[0m:\u001b[36m164\u001b[0m - \u001b[32m\u001b[1mSuccessfully saved HTML to data/figs/html/nfcorpus_olsaffine_mse_withlog_validation.html\u001b[0m\n",
      "\u001b[32m2024-12-11 19:50:44.325\u001b[0m | \u001b[1mINFO    \u001b[0m | \u001b[36m__main__\u001b[0m:\u001b[36m_save_figure_png\u001b[0m:\u001b[36m190\u001b[0m - \u001b[1mSaving PNG figure to data/figs/imgs/nfcorpus_olsaffine_mse_withlog_validation.png\u001b[0m\n",
      "\u001b[32m2024-12-11 19:50:44.621\u001b[0m | \u001b[32m\u001b[1mSUCCESS \u001b[0m | \u001b[36m__main__\u001b[0m:\u001b[36m_save_figure_png\u001b[0m:\u001b[36m199\u001b[0m - \u001b[32m\u001b[1mSuccessfully saved PNG to data/figs/imgs/nfcorpus_olsaffine_mse_withlog_validation.png\u001b[0m\n",
      "\u001b[32m2024-12-11 19:50:44.623\u001b[0m | \u001b[1mINFO    \u001b[0m | \u001b[36m__main__\u001b[0m:\u001b[36m_save_figure_html\u001b[0m:\u001b[36m156\u001b[0m - \u001b[1mSaving HTML figure to data/figs/html/nfcorpus_olsaffine_mae_withlog_validation.html\u001b[0m\n",
      "\u001b[32m2024-12-11 19:50:44.629\u001b[0m | \u001b[32m\u001b[1mSUCCESS \u001b[0m | \u001b[36m__main__\u001b[0m:\u001b[36m_save_figure_html\u001b[0m:\u001b[36m164\u001b[0m - \u001b[32m\u001b[1mSuccessfully saved HTML to data/figs/html/nfcorpus_olsaffine_mae_withlog_validation.html\u001b[0m\n",
      "\u001b[32m2024-12-11 19:50:44.629\u001b[0m | \u001b[1mINFO    \u001b[0m | \u001b[36m__main__\u001b[0m:\u001b[36m_save_figure_png\u001b[0m:\u001b[36m190\u001b[0m - \u001b[1mSaving PNG figure to data/figs/imgs/nfcorpus_olsaffine_mae_withlog_validation.png\u001b[0m\n",
      "\u001b[32m2024-12-11 19:50:44.975\u001b[0m | \u001b[32m\u001b[1mSUCCESS \u001b[0m | \u001b[36m__main__\u001b[0m:\u001b[36m_save_figure_png\u001b[0m:\u001b[36m199\u001b[0m - \u001b[32m\u001b[1mSuccessfully saved PNG to data/figs/imgs/nfcorpus_olsaffine_mae_withlog_validation.png\u001b[0m\n",
      "\u001b[32m2024-12-11 19:50:44.976\u001b[0m | \u001b[1mINFO    \u001b[0m | \u001b[36m__main__\u001b[0m:\u001b[36mvisualize_heatmap\u001b[0m:\u001b[36m127\u001b[0m - \u001b[1mStarting heatmap visualization process\u001b[0m\n",
      "\u001b[32m2024-12-11 19:50:44.976\u001b[0m | \u001b[1mINFO    \u001b[0m | \u001b[36m__main__\u001b[0m:\u001b[36m_plot_heatmap\u001b[0m:\u001b[36m52\u001b[0m - \u001b[1mCreating heatmap visualization...\u001b[0m\n",
      "\u001b[32m2024-12-11 19:50:44.982\u001b[0m | \u001b[32m\u001b[1mSUCCESS \u001b[0m | \u001b[36m__main__\u001b[0m:\u001b[36m_plot_heatmap\u001b[0m:\u001b[36m101\u001b[0m - \u001b[32m\u001b[1mHeatmap created successfully\u001b[0m\n",
      "\u001b[32m2024-12-11 19:50:44.982\u001b[0m | \u001b[1mINFO    \u001b[0m | \u001b[36m__main__\u001b[0m:\u001b[36mvisualize_heatmap\u001b[0m:\u001b[36m127\u001b[0m - \u001b[1mStarting heatmap visualization process\u001b[0m\n",
      "\u001b[32m2024-12-11 19:50:44.983\u001b[0m | \u001b[1mINFO    \u001b[0m | \u001b[36m__main__\u001b[0m:\u001b[36m_plot_heatmap\u001b[0m:\u001b[36m52\u001b[0m - \u001b[1mCreating heatmap visualization...\u001b[0m\n",
      "\u001b[32m2024-12-11 19:50:44.987\u001b[0m | \u001b[32m\u001b[1mSUCCESS \u001b[0m | \u001b[36m__main__\u001b[0m:\u001b[36m_plot_heatmap\u001b[0m:\u001b[36m101\u001b[0m - \u001b[32m\u001b[1mHeatmap created successfully\u001b[0m\n",
      "\u001b[32m2024-12-11 19:50:44.988\u001b[0m | \u001b[1mINFO    \u001b[0m | \u001b[36m__main__\u001b[0m:\u001b[36mvisualize_heatmap\u001b[0m:\u001b[36m127\u001b[0m - \u001b[1mStarting heatmap visualization process\u001b[0m\n",
      "\u001b[32m2024-12-11 19:50:44.988\u001b[0m | \u001b[1mINFO    \u001b[0m | \u001b[36m__main__\u001b[0m:\u001b[36m_plot_heatmap\u001b[0m:\u001b[36m52\u001b[0m - \u001b[1mCreating heatmap visualization...\u001b[0m\n",
      "\u001b[32m2024-12-11 19:50:44.993\u001b[0m | \u001b[32m\u001b[1mSUCCESS \u001b[0m | \u001b[36m__main__\u001b[0m:\u001b[36m_plot_heatmap\u001b[0m:\u001b[36m101\u001b[0m - \u001b[32m\u001b[1mHeatmap created successfully\u001b[0m\n",
      "\u001b[32m2024-12-11 19:50:44.993\u001b[0m | \u001b[1mINFO    \u001b[0m | \u001b[36m__main__\u001b[0m:\u001b[36mvisualize_heatmap\u001b[0m:\u001b[36m127\u001b[0m - \u001b[1mStarting heatmap visualization process\u001b[0m\n",
      "\u001b[32m2024-12-11 19:50:44.994\u001b[0m | \u001b[1mINFO    \u001b[0m | \u001b[36m__main__\u001b[0m:\u001b[36m_plot_heatmap\u001b[0m:\u001b[36m52\u001b[0m - \u001b[1mCreating heatmap visualization...\u001b[0m\n",
      "\u001b[32m2024-12-11 19:50:44.998\u001b[0m | \u001b[32m\u001b[1mSUCCESS \u001b[0m | \u001b[36m__main__\u001b[0m:\u001b[36m_plot_heatmap\u001b[0m:\u001b[36m101\u001b[0m - \u001b[32m\u001b[1mHeatmap created successfully\u001b[0m\n",
      "\u001b[32m2024-12-11 19:50:45.000\u001b[0m | \u001b[1mINFO    \u001b[0m | \u001b[36m__main__\u001b[0m:\u001b[36m_save_figure_html\u001b[0m:\u001b[36m156\u001b[0m - \u001b[1mSaving HTML figure to data/figs/html/hotpotqa_olsaffine_mse_withoutlog_validation.html\u001b[0m\n",
      "\u001b[32m2024-12-11 19:50:45.004\u001b[0m | \u001b[32m\u001b[1mSUCCESS \u001b[0m | \u001b[36m__main__\u001b[0m:\u001b[36m_save_figure_html\u001b[0m:\u001b[36m164\u001b[0m - \u001b[32m\u001b[1mSuccessfully saved HTML to data/figs/html/hotpotqa_olsaffine_mse_withoutlog_validation.html\u001b[0m\n",
      "\u001b[32m2024-12-11 19:50:45.004\u001b[0m | \u001b[1mINFO    \u001b[0m | \u001b[36m__main__\u001b[0m:\u001b[36m_save_figure_png\u001b[0m:\u001b[36m190\u001b[0m - \u001b[1mSaving PNG figure to data/figs/imgs/hotpotqa_olsaffine_mse_withoutlog_validation.png\u001b[0m\n",
      "\u001b[32m2024-12-11 19:50:45.301\u001b[0m | \u001b[32m\u001b[1mSUCCESS \u001b[0m | \u001b[36m__main__\u001b[0m:\u001b[36m_save_figure_png\u001b[0m:\u001b[36m199\u001b[0m - \u001b[32m\u001b[1mSuccessfully saved PNG to data/figs/imgs/hotpotqa_olsaffine_mse_withoutlog_validation.png\u001b[0m\n",
      "\u001b[32m2024-12-11 19:50:45.302\u001b[0m | \u001b[1mINFO    \u001b[0m | \u001b[36m__main__\u001b[0m:\u001b[36m_save_figure_html\u001b[0m:\u001b[36m156\u001b[0m - \u001b[1mSaving HTML figure to data/figs/html/hotpotqa_olsaffine_mae_withoutlog_validation.html\u001b[0m\n",
      "\u001b[32m2024-12-11 19:50:45.307\u001b[0m | \u001b[32m\u001b[1mSUCCESS \u001b[0m | \u001b[36m__main__\u001b[0m:\u001b[36m_save_figure_html\u001b[0m:\u001b[36m164\u001b[0m - \u001b[32m\u001b[1mSuccessfully saved HTML to data/figs/html/hotpotqa_olsaffine_mae_withoutlog_validation.html\u001b[0m\n",
      "\u001b[32m2024-12-11 19:50:45.308\u001b[0m | \u001b[1mINFO    \u001b[0m | \u001b[36m__main__\u001b[0m:\u001b[36m_save_figure_png\u001b[0m:\u001b[36m190\u001b[0m - \u001b[1mSaving PNG figure to data/figs/imgs/hotpotqa_olsaffine_mae_withoutlog_validation.png\u001b[0m\n",
      "\u001b[32m2024-12-11 19:50:45.621\u001b[0m | \u001b[32m\u001b[1mSUCCESS \u001b[0m | \u001b[36m__main__\u001b[0m:\u001b[36m_save_figure_png\u001b[0m:\u001b[36m199\u001b[0m - \u001b[32m\u001b[1mSuccessfully saved PNG to data/figs/imgs/hotpotqa_olsaffine_mae_withoutlog_validation.png\u001b[0m\n",
      "\u001b[32m2024-12-11 19:50:45.623\u001b[0m | \u001b[1mINFO    \u001b[0m | \u001b[36m__main__\u001b[0m:\u001b[36m_save_figure_html\u001b[0m:\u001b[36m156\u001b[0m - \u001b[1mSaving HTML figure to data/figs/html/hotpotqa_olsaffine_mse_withlog_validation.html\u001b[0m\n",
      "\u001b[32m2024-12-11 19:50:45.627\u001b[0m | \u001b[32m\u001b[1mSUCCESS \u001b[0m | \u001b[36m__main__\u001b[0m:\u001b[36m_save_figure_html\u001b[0m:\u001b[36m164\u001b[0m - \u001b[32m\u001b[1mSuccessfully saved HTML to data/figs/html/hotpotqa_olsaffine_mse_withlog_validation.html\u001b[0m\n",
      "\u001b[32m2024-12-11 19:50:45.628\u001b[0m | \u001b[1mINFO    \u001b[0m | \u001b[36m__main__\u001b[0m:\u001b[36m_save_figure_png\u001b[0m:\u001b[36m190\u001b[0m - \u001b[1mSaving PNG figure to data/figs/imgs/hotpotqa_olsaffine_mse_withlog_validation.png\u001b[0m\n",
      "\u001b[32m2024-12-11 19:50:45.953\u001b[0m | \u001b[32m\u001b[1mSUCCESS \u001b[0m | \u001b[36m__main__\u001b[0m:\u001b[36m_save_figure_png\u001b[0m:\u001b[36m199\u001b[0m - \u001b[32m\u001b[1mSuccessfully saved PNG to data/figs/imgs/hotpotqa_olsaffine_mse_withlog_validation.png\u001b[0m\n",
      "\u001b[32m2024-12-11 19:50:45.955\u001b[0m | \u001b[1mINFO    \u001b[0m | \u001b[36m__main__\u001b[0m:\u001b[36m_save_figure_html\u001b[0m:\u001b[36m156\u001b[0m - \u001b[1mSaving HTML figure to data/figs/html/hotpotqa_olsaffine_mae_withlog_validation.html\u001b[0m\n",
      "\u001b[32m2024-12-11 19:50:45.959\u001b[0m | \u001b[32m\u001b[1mSUCCESS \u001b[0m | \u001b[36m__main__\u001b[0m:\u001b[36m_save_figure_html\u001b[0m:\u001b[36m164\u001b[0m - \u001b[32m\u001b[1mSuccessfully saved HTML to data/figs/html/hotpotqa_olsaffine_mae_withlog_validation.html\u001b[0m\n",
      "\u001b[32m2024-12-11 19:50:45.959\u001b[0m | \u001b[1mINFO    \u001b[0m | \u001b[36m__main__\u001b[0m:\u001b[36m_save_figure_png\u001b[0m:\u001b[36m190\u001b[0m - \u001b[1mSaving PNG figure to data/figs/imgs/hotpotqa_olsaffine_mae_withlog_validation.png\u001b[0m\n",
      "\u001b[32m2024-12-11 19:50:46.271\u001b[0m | \u001b[32m\u001b[1mSUCCESS \u001b[0m | \u001b[36m__main__\u001b[0m:\u001b[36m_save_figure_png\u001b[0m:\u001b[36m199\u001b[0m - \u001b[32m\u001b[1mSuccessfully saved PNG to data/figs/imgs/hotpotqa_olsaffine_mae_withlog_validation.png\u001b[0m\n",
      "\u001b[32m2024-12-11 19:50:46.272\u001b[0m | \u001b[1mINFO    \u001b[0m | \u001b[36m__main__\u001b[0m:\u001b[36mvisualize_heatmap\u001b[0m:\u001b[36m127\u001b[0m - \u001b[1mStarting heatmap visualization process\u001b[0m\n",
      "\u001b[32m2024-12-11 19:50:46.273\u001b[0m | \u001b[1mINFO    \u001b[0m | \u001b[36m__main__\u001b[0m:\u001b[36m_plot_heatmap\u001b[0m:\u001b[36m52\u001b[0m - \u001b[1mCreating heatmap visualization...\u001b[0m\n",
      "\u001b[32m2024-12-11 19:50:46.277\u001b[0m | \u001b[32m\u001b[1mSUCCESS \u001b[0m | \u001b[36m__main__\u001b[0m:\u001b[36m_plot_heatmap\u001b[0m:\u001b[36m101\u001b[0m - \u001b[32m\u001b[1mHeatmap created successfully\u001b[0m\n",
      "\u001b[32m2024-12-11 19:50:46.278\u001b[0m | \u001b[1mINFO    \u001b[0m | \u001b[36m__main__\u001b[0m:\u001b[36mvisualize_heatmap\u001b[0m:\u001b[36m127\u001b[0m - \u001b[1mStarting heatmap visualization process\u001b[0m\n",
      "\u001b[32m2024-12-11 19:50:46.278\u001b[0m | \u001b[1mINFO    \u001b[0m | \u001b[36m__main__\u001b[0m:\u001b[36m_plot_heatmap\u001b[0m:\u001b[36m52\u001b[0m - \u001b[1mCreating heatmap visualization...\u001b[0m\n",
      "\u001b[32m2024-12-11 19:50:46.283\u001b[0m | \u001b[32m\u001b[1mSUCCESS \u001b[0m | \u001b[36m__main__\u001b[0m:\u001b[36m_plot_heatmap\u001b[0m:\u001b[36m101\u001b[0m - \u001b[32m\u001b[1mHeatmap created successfully\u001b[0m\n",
      "\u001b[32m2024-12-11 19:50:46.285\u001b[0m | \u001b[1mINFO    \u001b[0m | \u001b[36m__main__\u001b[0m:\u001b[36mvisualize_heatmap\u001b[0m:\u001b[36m127\u001b[0m - \u001b[1mStarting heatmap visualization process\u001b[0m\n",
      "\u001b[32m2024-12-11 19:50:46.285\u001b[0m | \u001b[1mINFO    \u001b[0m | \u001b[36m__main__\u001b[0m:\u001b[36m_plot_heatmap\u001b[0m:\u001b[36m52\u001b[0m - \u001b[1mCreating heatmap visualization...\u001b[0m\n",
      "\u001b[32m2024-12-11 19:50:46.289\u001b[0m | \u001b[32m\u001b[1mSUCCESS \u001b[0m | \u001b[36m__main__\u001b[0m:\u001b[36m_plot_heatmap\u001b[0m:\u001b[36m101\u001b[0m - \u001b[32m\u001b[1mHeatmap created successfully\u001b[0m\n",
      "\u001b[32m2024-12-11 19:50:46.290\u001b[0m | \u001b[1mINFO    \u001b[0m | \u001b[36m__main__\u001b[0m:\u001b[36mvisualize_heatmap\u001b[0m:\u001b[36m127\u001b[0m - \u001b[1mStarting heatmap visualization process\u001b[0m\n",
      "\u001b[32m2024-12-11 19:50:46.291\u001b[0m | \u001b[1mINFO    \u001b[0m | \u001b[36m__main__\u001b[0m:\u001b[36m_plot_heatmap\u001b[0m:\u001b[36m52\u001b[0m - \u001b[1mCreating heatmap visualization...\u001b[0m\n",
      "\u001b[32m2024-12-11 19:50:46.294\u001b[0m | \u001b[32m\u001b[1mSUCCESS \u001b[0m | \u001b[36m__main__\u001b[0m:\u001b[36m_plot_heatmap\u001b[0m:\u001b[36m101\u001b[0m - \u001b[32m\u001b[1mHeatmap created successfully\u001b[0m\n",
      "\u001b[32m2024-12-11 19:50:46.296\u001b[0m | \u001b[1mINFO    \u001b[0m | \u001b[36m__main__\u001b[0m:\u001b[36m_save_figure_html\u001b[0m:\u001b[36m156\u001b[0m - \u001b[1mSaving HTML figure to data/figs/html/trec-covid_olsaffine_mse_withoutlog_validation.html\u001b[0m\n",
      "\u001b[32m2024-12-11 19:50:46.299\u001b[0m | \u001b[32m\u001b[1mSUCCESS \u001b[0m | \u001b[36m__main__\u001b[0m:\u001b[36m_save_figure_html\u001b[0m:\u001b[36m164\u001b[0m - \u001b[32m\u001b[1mSuccessfully saved HTML to data/figs/html/trec-covid_olsaffine_mse_withoutlog_validation.html\u001b[0m\n",
      "\u001b[32m2024-12-11 19:50:46.300\u001b[0m | \u001b[1mINFO    \u001b[0m | \u001b[36m__main__\u001b[0m:\u001b[36m_save_figure_png\u001b[0m:\u001b[36m190\u001b[0m - \u001b[1mSaving PNG figure to data/figs/imgs/trec-covid_olsaffine_mse_withoutlog_validation.png\u001b[0m\n",
      "\u001b[32m2024-12-11 19:50:46.591\u001b[0m | \u001b[32m\u001b[1mSUCCESS \u001b[0m | \u001b[36m__main__\u001b[0m:\u001b[36m_save_figure_png\u001b[0m:\u001b[36m199\u001b[0m - \u001b[32m\u001b[1mSuccessfully saved PNG to data/figs/imgs/trec-covid_olsaffine_mse_withoutlog_validation.png\u001b[0m\n",
      "\u001b[32m2024-12-11 19:50:46.593\u001b[0m | \u001b[1mINFO    \u001b[0m | \u001b[36m__main__\u001b[0m:\u001b[36m_save_figure_html\u001b[0m:\u001b[36m156\u001b[0m - \u001b[1mSaving HTML figure to data/figs/html/trec-covid_olsaffine_mae_withoutlog_validation.html\u001b[0m\n",
      "\u001b[32m2024-12-11 19:50:46.596\u001b[0m | \u001b[32m\u001b[1mSUCCESS \u001b[0m | \u001b[36m__main__\u001b[0m:\u001b[36m_save_figure_html\u001b[0m:\u001b[36m164\u001b[0m - \u001b[32m\u001b[1mSuccessfully saved HTML to data/figs/html/trec-covid_olsaffine_mae_withoutlog_validation.html\u001b[0m\n",
      "\u001b[32m2024-12-11 19:50:46.597\u001b[0m | \u001b[1mINFO    \u001b[0m | \u001b[36m__main__\u001b[0m:\u001b[36m_save_figure_png\u001b[0m:\u001b[36m190\u001b[0m - \u001b[1mSaving PNG figure to data/figs/imgs/trec-covid_olsaffine_mae_withoutlog_validation.png\u001b[0m\n",
      "\u001b[32m2024-12-11 19:50:46.955\u001b[0m | \u001b[32m\u001b[1mSUCCESS \u001b[0m | \u001b[36m__main__\u001b[0m:\u001b[36m_save_figure_png\u001b[0m:\u001b[36m199\u001b[0m - \u001b[32m\u001b[1mSuccessfully saved PNG to data/figs/imgs/trec-covid_olsaffine_mae_withoutlog_validation.png\u001b[0m\n",
      "\u001b[32m2024-12-11 19:50:46.957\u001b[0m | \u001b[1mINFO    \u001b[0m | \u001b[36m__main__\u001b[0m:\u001b[36m_save_figure_html\u001b[0m:\u001b[36m156\u001b[0m - \u001b[1mSaving HTML figure to data/figs/html/trec-covid_olsaffine_mse_withlog_validation.html\u001b[0m\n",
      "\u001b[32m2024-12-11 19:50:46.961\u001b[0m | \u001b[32m\u001b[1mSUCCESS \u001b[0m | \u001b[36m__main__\u001b[0m:\u001b[36m_save_figure_html\u001b[0m:\u001b[36m164\u001b[0m - \u001b[32m\u001b[1mSuccessfully saved HTML to data/figs/html/trec-covid_olsaffine_mse_withlog_validation.html\u001b[0m\n",
      "\u001b[32m2024-12-11 19:50:46.961\u001b[0m | \u001b[1mINFO    \u001b[0m | \u001b[36m__main__\u001b[0m:\u001b[36m_save_figure_png\u001b[0m:\u001b[36m190\u001b[0m - \u001b[1mSaving PNG figure to data/figs/imgs/trec-covid_olsaffine_mse_withlog_validation.png\u001b[0m\n",
      "\u001b[32m2024-12-11 19:50:47.240\u001b[0m | \u001b[32m\u001b[1mSUCCESS \u001b[0m | \u001b[36m__main__\u001b[0m:\u001b[36m_save_figure_png\u001b[0m:\u001b[36m199\u001b[0m - \u001b[32m\u001b[1mSuccessfully saved PNG to data/figs/imgs/trec-covid_olsaffine_mse_withlog_validation.png\u001b[0m\n",
      "\u001b[32m2024-12-11 19:50:47.241\u001b[0m | \u001b[1mINFO    \u001b[0m | \u001b[36m__main__\u001b[0m:\u001b[36m_save_figure_html\u001b[0m:\u001b[36m156\u001b[0m - \u001b[1mSaving HTML figure to data/figs/html/trec-covid_olsaffine_mae_withlog_validation.html\u001b[0m\n",
      "\u001b[32m2024-12-11 19:50:47.245\u001b[0m | \u001b[32m\u001b[1mSUCCESS \u001b[0m | \u001b[36m__main__\u001b[0m:\u001b[36m_save_figure_html\u001b[0m:\u001b[36m164\u001b[0m - \u001b[32m\u001b[1mSuccessfully saved HTML to data/figs/html/trec-covid_olsaffine_mae_withlog_validation.html\u001b[0m\n",
      "\u001b[32m2024-12-11 19:50:47.245\u001b[0m | \u001b[1mINFO    \u001b[0m | \u001b[36m__main__\u001b[0m:\u001b[36m_save_figure_png\u001b[0m:\u001b[36m190\u001b[0m - \u001b[1mSaving PNG figure to data/figs/imgs/trec-covid_olsaffine_mae_withlog_validation.png\u001b[0m\n",
      "\u001b[32m2024-12-11 19:50:47.564\u001b[0m | \u001b[32m\u001b[1mSUCCESS \u001b[0m | \u001b[36m__main__\u001b[0m:\u001b[36m_save_figure_png\u001b[0m:\u001b[36m199\u001b[0m - \u001b[32m\u001b[1mSuccessfully saved PNG to data/figs/imgs/trec-covid_olsaffine_mae_withlog_validation.png\u001b[0m\n"
     ]
    },
    {
     "name": "stdout",
     "output_type": "stream",
     "text": [
      "Done\n"
     ]
    }
   ],
   "source": [
    "(\n",
    "    ols_model2idx,\n",
    "    ols_idx2model,\n",
    "    ols_dataset2table_train_mse,\n",
    "    ols_dataset2table_validation_mse,\n",
    "    ols_dataset2table_train_mae,\n",
    "    ols_dataset2table_validation_mae\n",
    ") = creator2.get_all_table_elements()\n",
    "# plot with log\n",
    "DISPLAY = False\n",
    "for dataset_name in DATASETS:\n",
    "    # visualize_plt_heatmap(\n",
    "    #     dataset_name,\n",
    "    #     ols_dataset2table_validation_mse[dataset_name],\n",
    "    #     ols_dataset2table_validation_mae[dataset_name],\n",
    "    #     use_log_plot=True,\n",
    "    #     save_path=plots_folder / f\"{dataset_name}_olsaffine_msemae_withlog.png\", # _ seperates\n",
    "    #     show_plot=DISPLAY\n",
    "    # )\n",
    "    fig_mse_withoutlog = gatlen_default_heatmap_plot(ols_idx2model, dataset_name, \"olsaffine\", ols_dataset2table_validation_mse[dataset_name], do_log=False)\n",
    "    fig_mae_withoutlog = gatlen_default_heatmap_plot(ols_idx2model, dataset_name, \"olsaffine\", ols_dataset2table_validation_mae[dataset_name], do_log=False)\n",
    "    fig_mse_withlog = gatlen_default_heatmap_plot(ols_idx2model, dataset_name, \"olsaffine\", ols_dataset2table_validation_mse[dataset_name], do_log=True)\n",
    "    fig_mae_withlog = gatlen_default_heatmap_plot(ols_idx2model, dataset_name, \"olsaffine\", ols_dataset2table_validation_mae[dataset_name], do_log=True)\n",
    "    save_figure(fig_mse_withoutlog, f\"{dataset_name}_olsaffine_mse_withoutlog_validation\")\n",
    "    save_figure(fig_mae_withoutlog, f\"{dataset_name}_olsaffine_mae_withoutlog_validation\")\n",
    "    save_figure(fig_mse_withlog, f\"{dataset_name}_olsaffine_mse_withlog_validation\")\n",
    "    save_figure(fig_mae_withlog, f\"{dataset_name}_olsaffine_mae_withlog_validation\")\n",
    "print(\"Done\")\n",
    "# for dataset_name in DATASETS:\n",
    "#     visualize_plt_heatmap(\n",
    "#         dataset_name,\n",
    "#         ols_dataset2table_validation_mse[dataset_name],\n",
    "#         ols_dataset2table_validation_mae[dataset_name],\n",
    "#         use_log_plot=False,\n",
    "#         save_path=plots_folder / f\"{dataset_name}_olsaffine_msemae_withoutlog.png\", # _ seperates\n",
    "#         show_plot=DISPLAY\n",
    "#     )\n",
    "\n"
   ]
  },
  {
   "cell_type": "code",
   "execution_count": 26,
   "metadata": {},
   "outputs": [
    {
     "name": "stderr",
     "output_type": "stream",
     "text": [
      "\u001b[32m2024-12-11 19:50:47.588\u001b[0m | \u001b[1mINFO    \u001b[0m | \u001b[36m__main__\u001b[0m:\u001b[36mvisualize_heatmap\u001b[0m:\u001b[36m127\u001b[0m - \u001b[1mStarting heatmap visualization process\u001b[0m\n",
      "\u001b[32m2024-12-11 19:50:47.589\u001b[0m | \u001b[1mINFO    \u001b[0m | \u001b[36m__main__\u001b[0m:\u001b[36m_plot_heatmap\u001b[0m:\u001b[36m52\u001b[0m - \u001b[1mCreating heatmap visualization...\u001b[0m\n",
      "\u001b[32m2024-12-11 19:50:47.598\u001b[0m | \u001b[32m\u001b[1mSUCCESS \u001b[0m | \u001b[36m__main__\u001b[0m:\u001b[36m_plot_heatmap\u001b[0m:\u001b[36m101\u001b[0m - \u001b[32m\u001b[1mHeatmap created successfully\u001b[0m\n",
      "\u001b[32m2024-12-11 19:50:47.599\u001b[0m | \u001b[1mINFO    \u001b[0m | \u001b[36m__main__\u001b[0m:\u001b[36mvisualize_heatmap\u001b[0m:\u001b[36m127\u001b[0m - \u001b[1mStarting heatmap visualization process\u001b[0m\n",
      "\u001b[32m2024-12-11 19:50:47.600\u001b[0m | \u001b[1mINFO    \u001b[0m | \u001b[36m__main__\u001b[0m:\u001b[36m_plot_heatmap\u001b[0m:\u001b[36m52\u001b[0m - \u001b[1mCreating heatmap visualization...\u001b[0m\n",
      "\u001b[32m2024-12-11 19:50:47.609\u001b[0m | \u001b[32m\u001b[1mSUCCESS \u001b[0m | \u001b[36m__main__\u001b[0m:\u001b[36m_plot_heatmap\u001b[0m:\u001b[36m101\u001b[0m - \u001b[32m\u001b[1mHeatmap created successfully\u001b[0m\n",
      "\u001b[32m2024-12-11 19:50:47.610\u001b[0m | \u001b[1mINFO    \u001b[0m | \u001b[36m__main__\u001b[0m:\u001b[36mvisualize_heatmap\u001b[0m:\u001b[36m127\u001b[0m - \u001b[1mStarting heatmap visualization process\u001b[0m\n",
      "\u001b[32m2024-12-11 19:50:47.611\u001b[0m | \u001b[1mINFO    \u001b[0m | \u001b[36m__main__\u001b[0m:\u001b[36m_plot_heatmap\u001b[0m:\u001b[36m52\u001b[0m - \u001b[1mCreating heatmap visualization...\u001b[0m\n",
      "\u001b[32m2024-12-11 19:50:47.620\u001b[0m | \u001b[32m\u001b[1mSUCCESS \u001b[0m | \u001b[36m__main__\u001b[0m:\u001b[36m_plot_heatmap\u001b[0m:\u001b[36m101\u001b[0m - \u001b[32m\u001b[1mHeatmap created successfully\u001b[0m\n",
      "\u001b[32m2024-12-11 19:50:47.621\u001b[0m | \u001b[1mINFO    \u001b[0m | \u001b[36m__main__\u001b[0m:\u001b[36mvisualize_heatmap\u001b[0m:\u001b[36m127\u001b[0m - \u001b[1mStarting heatmap visualization process\u001b[0m\n",
      "\u001b[32m2024-12-11 19:50:47.622\u001b[0m | \u001b[1mINFO    \u001b[0m | \u001b[36m__main__\u001b[0m:\u001b[36m_plot_heatmap\u001b[0m:\u001b[36m52\u001b[0m - \u001b[1mCreating heatmap visualization...\u001b[0m\n",
      "\u001b[32m2024-12-11 19:50:47.631\u001b[0m | \u001b[32m\u001b[1mSUCCESS \u001b[0m | \u001b[36m__main__\u001b[0m:\u001b[36m_plot_heatmap\u001b[0m:\u001b[36m101\u001b[0m - \u001b[32m\u001b[1mHeatmap created successfully\u001b[0m\n",
      "\u001b[32m2024-12-11 19:50:47.633\u001b[0m | \u001b[1mINFO    \u001b[0m | \u001b[36m__main__\u001b[0m:\u001b[36m_save_figure_html\u001b[0m:\u001b[36m156\u001b[0m - \u001b[1mSaving HTML figure to data/figs/html/weightedmean_olsaffine_mse_withoutlog_validation.html\u001b[0m\n",
      "\u001b[32m2024-12-11 19:50:47.638\u001b[0m | \u001b[32m\u001b[1mSUCCESS \u001b[0m | \u001b[36m__main__\u001b[0m:\u001b[36m_save_figure_html\u001b[0m:\u001b[36m164\u001b[0m - \u001b[32m\u001b[1mSuccessfully saved HTML to data/figs/html/weightedmean_olsaffine_mse_withoutlog_validation.html\u001b[0m\n",
      "\u001b[32m2024-12-11 19:50:47.639\u001b[0m | \u001b[1mINFO    \u001b[0m | \u001b[36m__main__\u001b[0m:\u001b[36m_save_figure_png\u001b[0m:\u001b[36m190\u001b[0m - \u001b[1mSaving PNG figure to data/figs/imgs/weightedmean_olsaffine_mse_withoutlog_validation.png\u001b[0m\n",
      "\u001b[32m2024-12-11 19:50:47.979\u001b[0m | \u001b[32m\u001b[1mSUCCESS \u001b[0m | \u001b[36m__main__\u001b[0m:\u001b[36m_save_figure_png\u001b[0m:\u001b[36m199\u001b[0m - \u001b[32m\u001b[1mSuccessfully saved PNG to data/figs/imgs/weightedmean_olsaffine_mse_withoutlog_validation.png\u001b[0m\n",
      "\u001b[32m2024-12-11 19:50:47.981\u001b[0m | \u001b[1mINFO    \u001b[0m | \u001b[36m__main__\u001b[0m:\u001b[36m_save_figure_html\u001b[0m:\u001b[36m156\u001b[0m - \u001b[1mSaving HTML figure to data/figs/html/weightedmean_olsaffine_mae_withoutlog_validation.html\u001b[0m\n",
      "\u001b[32m2024-12-11 19:50:47.987\u001b[0m | \u001b[32m\u001b[1mSUCCESS \u001b[0m | \u001b[36m__main__\u001b[0m:\u001b[36m_save_figure_html\u001b[0m:\u001b[36m164\u001b[0m - \u001b[32m\u001b[1mSuccessfully saved HTML to data/figs/html/weightedmean_olsaffine_mae_withoutlog_validation.html\u001b[0m\n",
      "\u001b[32m2024-12-11 19:50:47.987\u001b[0m | \u001b[1mINFO    \u001b[0m | \u001b[36m__main__\u001b[0m:\u001b[36m_save_figure_png\u001b[0m:\u001b[36m190\u001b[0m - \u001b[1mSaving PNG figure to data/figs/imgs/weightedmean_olsaffine_mae_withoutlog_validation.png\u001b[0m\n",
      "\u001b[32m2024-12-11 19:50:48.289\u001b[0m | \u001b[32m\u001b[1mSUCCESS \u001b[0m | \u001b[36m__main__\u001b[0m:\u001b[36m_save_figure_png\u001b[0m:\u001b[36m199\u001b[0m - \u001b[32m\u001b[1mSuccessfully saved PNG to data/figs/imgs/weightedmean_olsaffine_mae_withoutlog_validation.png\u001b[0m\n",
      "\u001b[32m2024-12-11 19:50:48.290\u001b[0m | \u001b[1mINFO    \u001b[0m | \u001b[36m__main__\u001b[0m:\u001b[36m_save_figure_html\u001b[0m:\u001b[36m156\u001b[0m - \u001b[1mSaving HTML figure to data/figs/html/weightedmean_olsaffine_mse_withlog_validation.html\u001b[0m\n",
      "\u001b[32m2024-12-11 19:50:48.295\u001b[0m | \u001b[32m\u001b[1mSUCCESS \u001b[0m | \u001b[36m__main__\u001b[0m:\u001b[36m_save_figure_html\u001b[0m:\u001b[36m164\u001b[0m - \u001b[32m\u001b[1mSuccessfully saved HTML to data/figs/html/weightedmean_olsaffine_mse_withlog_validation.html\u001b[0m\n",
      "\u001b[32m2024-12-11 19:50:48.296\u001b[0m | \u001b[1mINFO    \u001b[0m | \u001b[36m__main__\u001b[0m:\u001b[36m_save_figure_png\u001b[0m:\u001b[36m190\u001b[0m - \u001b[1mSaving PNG figure to data/figs/imgs/weightedmean_olsaffine_mse_withlog_validation.png\u001b[0m\n",
      "\u001b[32m2024-12-11 19:50:48.594\u001b[0m | \u001b[32m\u001b[1mSUCCESS \u001b[0m | \u001b[36m__main__\u001b[0m:\u001b[36m_save_figure_png\u001b[0m:\u001b[36m199\u001b[0m - \u001b[32m\u001b[1mSuccessfully saved PNG to data/figs/imgs/weightedmean_olsaffine_mse_withlog_validation.png\u001b[0m\n",
      "\u001b[32m2024-12-11 19:50:48.596\u001b[0m | \u001b[1mINFO    \u001b[0m | \u001b[36m__main__\u001b[0m:\u001b[36m_save_figure_html\u001b[0m:\u001b[36m156\u001b[0m - \u001b[1mSaving HTML figure to data/figs/html/weightedmean_olsaffine_mae_withlog_validation.html\u001b[0m\n",
      "\u001b[32m2024-12-11 19:50:48.601\u001b[0m | \u001b[32m\u001b[1mSUCCESS \u001b[0m | \u001b[36m__main__\u001b[0m:\u001b[36m_save_figure_html\u001b[0m:\u001b[36m164\u001b[0m - \u001b[32m\u001b[1mSuccessfully saved HTML to data/figs/html/weightedmean_olsaffine_mae_withlog_validation.html\u001b[0m\n",
      "\u001b[32m2024-12-11 19:50:48.602\u001b[0m | \u001b[1mINFO    \u001b[0m | \u001b[36m__main__\u001b[0m:\u001b[36m_save_figure_png\u001b[0m:\u001b[36m190\u001b[0m - \u001b[1mSaving PNG figure to data/figs/imgs/weightedmean_olsaffine_mae_withlog_validation.png\u001b[0m\n",
      "\u001b[32m2024-12-11 19:50:48.947\u001b[0m | \u001b[32m\u001b[1mSUCCESS \u001b[0m | \u001b[36m__main__\u001b[0m:\u001b[36m_save_figure_png\u001b[0m:\u001b[36m199\u001b[0m - \u001b[32m\u001b[1mSuccessfully saved PNG to data/figs/imgs/weightedmean_olsaffine_mae_withlog_validation.png\u001b[0m\n"
     ]
    },
    {
     "data": {
      "text/plain": [
       "(PosixPath('data/figs/html/weightedmean_olsaffine_mae_withlog_validation.html'),\n",
       " PosixPath('data/figs/imgs/weightedmean_olsaffine_mae_withlog_validation.png'))"
      ]
     },
     "execution_count": 26,
     "metadata": {},
     "output_type": "execute_result"
    }
   ],
   "source": [
    "import einops\n",
    "dataset_sizes = {\n",
    "    \"arguana\": 10000,\n",
    "    \"fiqa\": 50000,\n",
    "    \"scidocs\": 25000,\n",
    "    \"nfcorpus\": 5000,\n",
    "    \"hotpotqa\": 100000,\n",
    "    \"trec-covid\": 20000,\n",
    "}\n",
    "proportions = torch.tensor([dataset_sizes[x] for x in DATASETS])\n",
    "proportions = proportions / proportions.sum()\n",
    "proportions = einops.rearrange(proportions, \"d -> d 1 1\")\n",
    "assert proportions.sum() == 1.0\n",
    "# 1. Stack\n",
    "nnlinear_mse_validation_tables = torch.stack([nnlinear_dataset2table_validation_mse[x] for x in DATASETS])\n",
    "nnlinear_mse_train_tables = torch.stack([nnlinear_dataset2table_train_mse[x] for x in DATASETS])\n",
    "nnlinear_mae_validation_tables = torch.stack([nnlinear_dataset2table_validation_mae[x] for x in DATASETS])\n",
    "nnlinear_mae_train_tables = torch.stack([nnlinear_dataset2table_train_mae[x] for x in DATASETS])\n",
    "ols_mse_validation_tables = torch.stack([ols_dataset2table_validation_mse[x] for x in DATASETS])\n",
    "ols_mse_train_tables = torch.stack([ols_dataset2table_train_mse[x] for x in DATASETS])\n",
    "ols_mae_validation_tables = torch.stack([ols_dataset2table_validation_mae[x] for x in DATASETS])\n",
    "ols_mae_train_tables = torch.stack([ols_dataset2table_train_mae[x] for x in DATASETS])\n",
    "# 2. Scale\n",
    "nnlinear_scaled_mse_validation_tables = nnlinear_mse_validation_tables * proportions\n",
    "nnlinear_scaled_mse_train_tables = nnlinear_mse_train_tables * proportions\n",
    "nnlinear_scaled_mae_validation_tables = nnlinear_mae_validation_tables * proportions\n",
    "nnlinear_scaled_mae_train_tables = nnlinear_mae_train_tables * proportions\n",
    "ols_scaled_mse_validation_tables = ols_mse_validation_tables * proportions\n",
    "ols_scaled_mse_train_tables = ols_mse_train_tables * proportions\n",
    "ols_scaled_mae_validation_tables = ols_mae_validation_tables * proportions\n",
    "ols_scaled_mae_train_tables = ols_mae_train_tables * proportions\n",
    "# 3. Sum\n",
    "nnlinear_mean_mse_validation_table = nnlinear_scaled_mse_validation_tables.sum(dim=0)\n",
    "nnlinear_mean_mse_train_table = nnlinear_scaled_mse_train_tables.sum(dim=0)\n",
    "nnlinear_mean_mae_validation_table = nnlinear_scaled_mae_validation_tables.sum(dim=0)\n",
    "nnlinear_mean_mae_train_table = nnlinear_scaled_mae_train_tables.sum(dim=0)\n",
    "ols_mean_mse_validation_table = ols_scaled_mse_validation_tables.sum(dim=0)\n",
    "ols_mean_mse_train_table = ols_scaled_mse_train_tables.sum(dim=0)\n",
    "ols_mean_mae_validation_table = ols_scaled_mae_validation_tables.sum(dim=0)\n",
    "ols_mean_mae_train_table = ols_scaled_mae_train_tables.sum(dim=0)\n",
    "assert nnlinear_mean_mse_validation_table.shape == nnlinear_mean_mse_train_table.shape == nnlinear_mean_mae_validation_table.shape == nnlinear_mean_mae_train_table.shape == (len(MODEL_NAMES), len(MODEL_NAMES))\n",
    "assert ols_mean_mse_validation_table.shape == ols_mean_mse_train_table.shape == ols_mean_mae_validation_table.shape == ols_mean_mae_train_table.shape == (len(MODEL_NAMES), len(MODEL_NAMES))\n",
    "# 4. Plot\n",
    "DISPLAY = False\n",
    "# visualize_plt_heatmap(\n",
    "#     \"mean\",\n",
    "#     nnlinear_mean_mse_validation_table,\n",
    "#     nnlinear_mean_mae_validation_table,\n",
    "#     use_log_plot=False,\n",
    "#     save_path=plots_folder / f\"weightedmean_nnlinear_msemae_withoutlog.png\",\n",
    "#     show_plot=DISPLAY\n",
    "# )\n",
    "# visualize_plt_heatmap(\n",
    "#     \"mean\",\n",
    "#     ols_mean_mse_validation_table,\n",
    "#     ols_mean_mae_validation_table,\n",
    "#     use_log_plot=False,\n",
    "#     save_path=plots_folder / f\"weightedmean_olsaffine_msemae_withoutlog.png\",\n",
    "#     show_plot=DISPLAY\n",
    "# )\n",
    "fig_mse_withoutlog = gatlen_default_heatmap_plot(ols_idx2model, \"mean\", \"olsaffine\", ols_mean_mse_validation_table, do_log=False)\n",
    "fig_mae_withoutlog = gatlen_default_heatmap_plot(ols_idx2model, \"mean\", \"olsaffine\", ols_mean_mae_validation_table, do_log=False)\n",
    "fig_mse_withlog = gatlen_default_heatmap_plot(ols_idx2model, \"mean\", \"olsaffine\", ols_mean_mse_validation_table, do_log=True)\n",
    "fig_mae_withlog = gatlen_default_heatmap_plot(ols_idx2model, \"mean\", \"olsaffine\", ols_mean_mae_validation_table, do_log=True)\n",
    "save_figure(fig_mse_withoutlog, f\"weightedmean_olsaffine_mse_withoutlog_validation\")\n",
    "save_figure(fig_mae_withoutlog, f\"weightedmean_olsaffine_mae_withoutlog_validation\")\n",
    "save_figure(fig_mse_withlog, f\"weightedmean_olsaffine_mse_withlog_validation\")\n",
    "save_figure(fig_mae_withlog, f\"weightedmean_olsaffine_mae_withlog_validation\")\n"
   ]
  },
  {
   "cell_type": "code",
   "execution_count": null,
   "metadata": {},
   "outputs": [],
   "source": []
  }
 ],
 "metadata": {
  "kernelspec": {
   "display_name": "python311",
   "language": "python",
   "name": "python3"
  },
  "language_info": {
   "codemirror_mode": {
    "name": "ipython",
    "version": 3
   },
   "file_extension": ".py",
   "mimetype": "text/x-python",
   "name": "python",
   "nbconvert_exporter": "python",
   "pygments_lexer": "ipython3",
   "version": "3.11.10"
  }
 },
 "nbformat": 4,
 "nbformat_minor": 2
}
