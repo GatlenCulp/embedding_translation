{
 "cells": [
  {
   "cell_type": "code",
   "execution_count": null,
   "metadata": {},
   "outputs": [],
   "source": [
    "from __future__ import annotations\n",
    "\"\"\"\n",
    "TODO(Adriano) in quadracopter evolved (the second quadrocopter) we should generate all the MSE and MAE\n",
    "tables and MSE/MAE explained relative to the mean estimator BEFORE doing this.\n",
    "\n",
    "TODO(Adriano) implement this. This is a succinct modules to:\n",
    "1. Get a bunch of matrix norms, rank metrics, and other such information to understand the linear layers\n",
    "2. Generate plots and aggregate/informational metrics for this shit\n",
    "3. Get cycle loss and other such plots\n",
    "4. CKA and Jaccard for all the triplets (this shit should be pretty fast)\n",
    "\"\"\"\n",
    "from pydantic import BaseModel, Field\n",
    "from typing import Optional, List, Dict, Tuple\n",
    "\n",
    "\n",
    "class MatrixStats(BaseModel):\n",
    "    \"\"\"Core matrix statistics.\"\"\"\n",
    "    frobenius_norm: float = Field(..., description=\"Frobenius norm of the weight matrix\")\n",
    "    bias_norm: Optional[float] = Field(None, description=\"L2 norm of the bias vector if present\") \n",
    "    rank: float = Field(..., description=\"Matrix rank\")\n",
    "    stable_rank: float = Field(..., description=\"Stable rank (squared ratio of Frobenius to spectral norm)\")\n",
    "    effective_rank: float = Field(..., description=\"Effective rank based on singular value entropy\")\n",
    "    nuclear_ratio: float = Field(..., description=\"Ratio of nuclear norm to spectral norm\")\n",
    "    top_singular_values: List[float] = Field(..., description=\"Top 10 singular values\")"
   ]
  }
 ],
 "metadata": {
  "language_info": {
   "name": "python"
  }
 },
 "nbformat": 4,
 "nbformat_minor": 2
}
