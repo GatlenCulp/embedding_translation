{
 "cells": [
  {
   "cell_type": "code",
   "execution_count": null,
   "metadata": {},
   "outputs": [],
   "source": [
    "\"\"\"\n",
    "TODO(Adriano) in quadracopter evolved (the second quadrocopter) we should generate all the MSE and MAE\n",
    "tables and MSE/MAE explained relative to the mean estimator BEFORE doing this.\n",
    "\n",
    "TODO(Adriano) implement this. This is a succinct modules to:\n",
    "1. Get a bunch of matrix norms, rank metrics, and other such information to understand the linear layers\n",
    "2. Generate plots and aggregate/informational metrics for this shit\n",
    "3. Get cycle loss and other such plots\n",
    "4. CKA and Jaccard for all the triplets (this shit should be pretty fast)\n",
    "\"\"\""
   ]
  }
 ],
 "metadata": {
  "language_info": {
   "name": "python"
  }
 },
 "nbformat": 4,
 "nbformat_minor": 2
}
