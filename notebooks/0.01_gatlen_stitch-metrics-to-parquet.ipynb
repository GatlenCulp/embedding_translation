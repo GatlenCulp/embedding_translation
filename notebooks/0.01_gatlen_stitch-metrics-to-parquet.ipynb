{
 "cells": [
  {
   "cell_type": "markdown",
   "metadata": {},
   "source": [
    "# JSON to Parquet\n"
   ]
  },
  {
   "cell_type": "markdown",
   "metadata": {},
   "source": [
    "I'm kinda just playing around with different datafiles here\n"
   ]
  },
  {
   "cell_type": "markdown",
   "metadata": {},
   "source": [
    "## 00 Imports\n"
   ]
  },
  {
   "cell_type": "code",
   "execution_count": 1,
   "metadata": {},
   "outputs": [],
   "source": [
    "# %load_ext autoreload\n",
    "# %autoreload 2"
   ]
  },
  {
   "cell_type": "code",
   "execution_count": 5,
   "metadata": {},
   "outputs": [],
   "source": [
    "import json\n",
    "from pathlib import Path\n",
    "\n",
    "import orjson\n",
    "import jsonlines\n",
    "from loguru import logger\n",
    "import polars as pl"
   ]
  },
  {
   "cell_type": "code",
   "execution_count": 6,
   "metadata": {},
   "outputs": [
    {
     "name": "stderr",
     "output_type": "stream",
     "text": [
      "\u001b[32m2025-01-07 20:03:46.958\u001b[0m | \u001b[1mINFO    \u001b[0m | \u001b[36m__main__\u001b[0m:\u001b[36m<cell line: 0>\u001b[0m:\u001b[36m3\u001b[0m - \u001b[1m/Users/gat/work/FA2024/embedding_translation\u001b[0m\n",
      "\u001b[32m2025-01-07 20:03:46.959\u001b[0m | \u001b[1mINFO    \u001b[0m | \u001b[36m__main__\u001b[0m:\u001b[36m<cell line: 0>\u001b[0m:\u001b[36m5\u001b[0m - \u001b[1m/Users/gat/work/FA2024/embedding_translation/data\u001b[0m\n"
     ]
    }
   ],
   "source": [
    "__file__ = __vsc_ipynb_file__\n",
    "PROJ_ROOT = Path(__file__).parent.parent\n",
    "logger.info(PROJ_ROOT)\n",
    "DATA_DIR = PROJ_ROOT / \"data\"\n",
    "logger.info(DATA_DIR)\n",
    "MLP_MSE_VALIDATION = DATA_DIR / \"mlp_mse_validation\"\n",
    "MLP_MSE_VALIDATION_TENSORS = MLP_MSE_VALIDATION / \"validation_mses.safetensors\"\n",
    "MLP_MSE_VALIDATION_META = MLP_MSE_VALIDATION / \"validation_mses.json\""
   ]
  },
  {
   "cell_type": "code",
   "execution_count": 10,
   "metadata": {},
   "outputs": [
    {
     "data": {
      "text/plain": [
       "{'dataset2idx': {'arguana': 0,\n",
       "  'fiqa': 1,\n",
       "  'scidocs': 2,\n",
       "  'nfcorpus': 3,\n",
       "  'hotpotqa': 4,\n",
       "  'trec-covid': 5},\n",
       " 'model2idx': {'WhereIsAI_UAE-Large-V1': 0,\n",
       "  'BAAI_bge-base-en-v1.5': 1,\n",
       "  'BAAI_bge-large-en-v1.5': 2,\n",
       "  'BAAI_bge-small-en-v1.5': 3,\n",
       "  'intfloat_e5-base-v2': 4,\n",
       "  'intfloat_e5-large-v2': 5,\n",
       "  'intfloat_e5-small-v2': 6,\n",
       "  'thenlper_gte-base': 7,\n",
       "  'thenlper_gte-large': 8,\n",
       "  'thenlper_gte-small': 9,\n",
       "  'sentence-transformers_gtr-t5-base': 10,\n",
       "  'sentence-transformers_gtr-t5-large': 11,\n",
       "  'mixedbread-ai_mxbai-embed-large-v1': 12,\n",
       "  'sentence-transformers_sentence-t5-base': 13,\n",
       "  'sentence-transformers_sentence-t5-large': 14,\n",
       "  'openai_text-embedding-3-large': 15,\n",
       "  'openai_text-embedding-3-small': 16},\n",
       " 'num_layers': [2, 3, 4, 5, 6, 7]}"
      ]
     },
     "execution_count": 10,
     "metadata": {},
     "output_type": "execute_result"
    }
   ],
   "source": [
    "with MLP_MSE_VALIDATION_META.open() as f:\n",
    "    meta = orjson.loads(f.read())\n",
    "\n",
    "meta"
   ]
  },
  {
   "cell_type": "code",
   "execution_count": 4,
   "metadata": {},
   "outputs": [],
   "source": [
    "data_dir = PROJ_ROOT / \"data\"\n",
    "output_dir = data_dir / \"01_interim\"\n",
    "output_dir.mkdir(exist_ok=True)"
   ]
  },
  {
   "cell_type": "markdown",
   "metadata": {},
   "source": [
    "## 01 Load\n"
   ]
  },
  {
   "cell_type": "code",
   "execution_count": 5,
   "metadata": {},
   "outputs": [],
   "source": [
    "def load_stitch_pairs(file_path: Path) -> pl.DataFrame:\n",
    "    \"\"\"Load stitch pair information into a DataFrame.\"\"\"\n",
    "    with Path.open(file_path) as f:\n",
    "        data = json.load(f)\n",
    "    return pl.DataFrame(\n",
    "        [\n",
    "            {\n",
    "                \"source_model\": data[\"source\"],\n",
    "                \"target_model\": data[\"target\"],\n",
    "                \"dataset\": data[\"dataset\"],\n",
    "                \"stitch_mode\": data[\"mode\"],\n",
    "            },\n",
    "        ],\n",
    "    )"
   ]
  },
  {
   "cell_type": "code",
   "execution_count": 6,
   "metadata": {},
   "outputs": [
    {
     "data": {
      "text/html": [
       "<div><style>\n",
       ".dataframe > thead > tr,\n",
       ".dataframe > tbody > tr {\n",
       "  text-align: right;\n",
       "  white-space: pre-wrap;\n",
       "}\n",
       "</style>\n",
       "<small>shape: (1, 4)</small><table border=\"1\" class=\"dataframe\"><thead><tr><th>source_model</th><th>target_model</th><th>dataset</th><th>stitch_mode</th></tr><tr><td>str</td><td>str</td><td>str</td><td>str</td></tr></thead><tbody><tr><td>&quot;BAAI/bge-base-en-v1.5&quot;</td><td>&quot;BAAI/bge-large-en-v1.5&quot;</td><td>&quot;arguana&quot;</td><td>&quot;affine&quot;</td></tr></tbody></table></div>"
      ],
      "text/plain": [
       "shape: (1, 4)\n",
       "┌───────────────────────┬────────────────────────┬─────────┬─────────────┐\n",
       "│ source_model          ┆ target_model           ┆ dataset ┆ stitch_mode │\n",
       "│ ---                   ┆ ---                    ┆ ---     ┆ ---         │\n",
       "│ str                   ┆ str                    ┆ str     ┆ str         │\n",
       "╞═══════════════════════╪════════════════════════╪═════════╪═════════════╡\n",
       "│ BAAI/bge-base-en-v1.5 ┆ BAAI/bge-large-en-v1.5 ┆ arguana ┆ affine      │\n",
       "└───────────────────────┴────────────────────────┴─────────┴─────────────┘"
      ]
     },
     "execution_count": 6,
     "metadata": {},
     "output_type": "execute_result"
    }
   ],
   "source": [
    "stitch_pairs = load_stitch_pairs(\n",
    "    data_dir\n",
    "    / \"arguana_loss\"\n",
    "    / \"BAAI_bge-base-en-v1.5_BAAI_bge-large-en-v1.5/arguana/stitch_info_pairs.json\",\n",
    ")\n",
    "\n",
    "stitch_pairs.write_parquet(output_dir / \"stitch_pairs.parquet\")\n",
    "stitch_pairs"
   ]
  }
 ],
 "metadata": {
  "kernelspec": {
   "display_name": ".venv",
   "language": "python",
   "name": "python3"
  },
  "language_info": {
   "codemirror_mode": {
    "name": "ipython",
    "version": 3
   },
   "file_extension": ".py",
   "mimetype": "text/x-python",
   "name": "python",
   "nbconvert_exporter": "python",
   "pygments_lexer": "ipython3",
   "version": "3.12.8"
  }
 },
 "nbformat": 4,
 "nbformat_minor": 2
}
