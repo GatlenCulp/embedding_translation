{
 "cells": [
  {
   "cell_type": "markdown",
   "metadata": {
    "id": "i8bZ6tbFxqXs"
   },
   "source": [
    "# Embedding Translations\n"
   ]
  },
  {
   "cell_type": "markdown",
   "metadata": {},
   "source": [
    "see `plan.md` for more info\n"
   ]
  },
  {
   "cell_type": "markdown",
   "metadata": {},
   "source": [
    "# 01 Setup\n"
   ]
  },
  {
   "cell_type": "code",
   "execution_count": null,
   "metadata": {},
   "outputs": [],
   "source": [
    "### LOCAL INSTALLS ###\n",
    "%pip install torch\n",
    "%pip install torchvision\n",
    "%pip install torchaudio\n",
    "%pip install datasets\n",
    "%pip install click\n",
    "%pip install scikit-learn\n",
    "%pip install plotly\n",
    "%pip install seaborn"
   ]
  },
  {
   "cell_type": "code",
   "execution_count": null,
   "metadata": {
    "colab": {
     "base_uri": "https://localhost:8080/"
    },
    "id": "HVvUGz4-5QRQ",
    "outputId": "f8659746-cbfe-4950-b0c2-0f04f3c4c0e6"
   },
   "outputs": [],
   "source": [
    "### GENERAL IMPORTS ###\n",
    "\n",
    "### ML IMPORTS ###\n",
    "import torch\n",
    "\n",
    "from src.viz.owl_metrics import calculate_metric\n",
    "\n",
    "\n",
    "print(f\"PyTorch version: {torch.__version__}\")\n",
    "print(f\"CUDA available: {torch.cuda.is_available()}\")\n",
    "\n",
    "\n",
    "device = torch.device(\"cuda:0\")\n",
    "# assert torch.cuda.is_available()"
   ]
  },
  {
   "cell_type": "code",
   "execution_count": 3,
   "metadata": {},
   "outputs": [],
   "source": [
    "\"\"\"owler metrics document.\"\"\"\n",
    "\n",
    "import random\n",
    "from typing import Any\n",
    "\n",
    "import click\n",
    "import numpy as np\n",
    "import plotly.express as px\n",
    "import torch\n",
    "from sklearn.neighbors import NearestNeighbors\n",
    "from torch.nn.functional import cosine_similarity\n",
    "from torch.nn.functional import pairwise_distance\n",
    "\n",
    "\n",
    "COSINE = \"cosine\"\n",
    "EUCLIDEAN = \"euclidean\"\n",
    "JACCARD = \"jaccard\"\n",
    "RANK = \"rank\"\n",
    "CKA = \"cka\"\n",
    "AVAILABLE_METRICS = [COSINE, EUCLIDEAN, JACCARD, RANK, CKA]\n",
    "MATCH_DIM_METRICS = [COSINE, EUCLIDEAN]\n",
    "NEAREST_NEIGHBORS = [JACCARD, RANK]\n",
    "\n",
    "\n",
    "def _pairwise_similarity(\n",
    "    embeds1: torch.Tensor, embeds2: torch.Tensor, metric: str, device: torch.device\n",
    ") -> torch.Tensor:\n",
    "    \"\"\"Calculates the pairwise cosine similarity or Euclidean distance between the given tensors.\n",
    "\n",
    "    :param embeds1: The first tensors of dimension (N, D).\n",
    "    :param embeds2: The second tensors of dimension (N, D).\n",
    "    :param metric: The metric to be used.\n",
    "    :param device: The device on which calculations are performed.\n",
    "    :return: The calculated pairwise scores.\n",
    "    \"\"\"\n",
    "    if metric == COSINE:\n",
    "        return cosine_similarity(embeds1.to(device), embeds2.to(device))\n",
    "    if metric == EUCLIDEAN:\n",
    "        return pairwise_distance(embeds1.to(device), embeds2.to(device))\n",
    "    raise NotImplementedError(\n",
    "        f\"Provided unsupported metric {metric} for pairwise similarity!\"\n",
    "    )\n",
    "\n",
    "\n",
    "def _mean_pairwise_similarity(\n",
    "    embeds1: torch.Tensor,\n",
    "    embeds2: torch.Tensor,\n",
    "    metric: str,\n",
    "    batch_size: int,\n",
    "    device: torch.device,\n",
    ") -> torch.Tensor:\n",
    "    \"\"\"Calculates the pairwise cosine similarity or Euclidean distance between batches of the given tensors and sums them\n",
    "    up. In the end, the mean score is returned.\n",
    "\n",
    "    :param embeds1: A tensor of dimension (N, D).\n",
    "    :param embeds2: A tensor of dimension (N, D).\n",
    "    :param metric: The metric to use for calculating the pairwise scores.\n",
    "    :param batch_size: The batch size used to split the tensors.\n",
    "    :param device: The device on which calculations should be performed.\n",
    "    :return: The mean score over all batches.\n",
    "    \"\"\"\n",
    "    assert embeds1.shape == embeds2.shape\n",
    "    embeds1_batches = embeds1.split(batch_size)\n",
    "    embeds2_batches = embeds2.split(batch_size)\n",
    "    total = 0\n",
    "    sims = []\n",
    "    for embed1, embed2 in zip(embeds1_batches, embeds2_batches, strict=False):\n",
    "        sim = _pairwise_similarity(embed1, embed2, metric, device)\n",
    "        sims = sims + sim.detach().cpu().tolist()\n",
    "        total += torch.sum(sim).detach().cpu()\n",
    "    text = \"Cosine Similarities\" if metric is COSINE else \"Euclidean Distance\"\n",
    "    fig = px.histogram(x=sims, labels={\"x\": text}, title=f\"{text} Distribution\")\n",
    "    return total / len(embeds1), fig\n",
    "\n",
    "\n",
    "def _jaccard_sim(indices1: np.ndarray, indices2: np.ndarray) -> np.float64:\n",
    "    \"\"\"Calculates the Jaccard similarity between two 2D arrays by dividing the number of overlapping entries by the union\n",
    "    of entries per row. The mean score over all rows is returned in the end.\n",
    "\n",
    "    :param indices1: The first array of indices of shape (N, D).\n",
    "    :param indices2: The second array of indices of shape (N, D).\n",
    "    :return: The mean Jaccard similarity.\n",
    "    \"\"\"\n",
    "    inds = np.concatenate((indices1, indices2), axis=1)\n",
    "    len_union = np.array([len(np.unique(i)) for i in inds])\n",
    "    len_intersection = np.array(\n",
    "        [\n",
    "            len(set(i).intersection(set(j)))\n",
    "            for i, j in zip(indices1, indices2, strict=False)\n",
    "        ]\n",
    "    )\n",
    "    return np.mean(len_intersection / len_union)\n",
    "\n",
    "\n",
    "def _get_rank_sum(indices1: np.ndarray, indices2: np.ndarray) -> Any:\n",
    "    \"\"\"Computes the sum term for rank similarity given the two 1D-arrays containing the indices of the k-nearest neighbors\n",
    "    of two sets of activations.\n",
    "\n",
    "    :param indices1: One row of indices calculated for the first set of activations.\n",
    "    :param indices2: One row of indices calculated for the second set of activations.\n",
    "    :return: The calculated rank sum.\n",
    "    \"\"\"\n",
    "    aux = np.concatenate((indices1, indices2))\n",
    "    aux_sort_indices = np.argsort(aux, kind=\"mergesort\")\n",
    "    aux = aux[aux_sort_indices]\n",
    "    mask = aux[1:] == aux[:-1]\n",
    "    ar1_indices = aux_sort_indices[:-1][mask] + 1\n",
    "    ar2_indices = aux_sort_indices[1:][mask] - indices1.size + 1\n",
    "    rank_sum = np.sum(\n",
    "        [\n",
    "            2 / ((1 + abs(i - j)) * (i + j))\n",
    "            for i, j in zip(ar1_indices, ar2_indices, strict=False)\n",
    "        ]\n",
    "    )\n",
    "    return rank_sum\n",
    "\n",
    "\n",
    "def _rank_sim(indices1: np.ndarray, indices2: np.ndarray):\n",
    "    \"\"\"Computes the rank similarity between two sets of indices. Rank similarities are calculated for each pair of rows and\n",
    "    averaged.\n",
    "\n",
    "    :param indices1: The first array of indices of shape (N, D).\n",
    "    :param indices2: The second array of indices of shape (N, D).\n",
    "    :return: The mean rank similarity.\n",
    "    \"\"\"\n",
    "    rank_sums = [_get_rank_sum(i, j) for i, j in zip(indices1, indices2, strict=False)]\n",
    "    len_intersection = np.array(\n",
    "        [\n",
    "            len(set(i).intersection(set(j)))\n",
    "            for i, j in zip(indices1, indices2, strict=False)\n",
    "        ]\n",
    "    )\n",
    "    factors = []\n",
    "    for idx, elem1 in enumerate(len_intersection):\n",
    "        if elem1 > 0:\n",
    "            factors.append(1 / sum([1 / (i + 1) for i in range(int(elem1))]))\n",
    "        else:\n",
    "            factors.append(0)\n",
    "    res = np.array(factors) * np.array(rank_sums)\n",
    "    return np.mean(res)\n",
    "\n",
    "\n",
    "def nn_sim(indices1: np.ndarray, indices2: np.ndarray, metric: str) -> Any:\n",
    "    \"\"\"Calculates the similarity of two sets of indices representing the index of nearest neighbors using Jaccard or rank\n",
    "    similarity.\n",
    "\n",
    "    :param indices1: The first array of indices of shape (N, D).\n",
    "    :param indices2: The second array of indices of shape (N, D).\n",
    "    :return: The average similarity.\n",
    "    \"\"\"\n",
    "    if metric == JACCARD:\n",
    "        return _jaccard_sim(indices1, indices2)\n",
    "    return _rank_sim(indices1, indices2)\n",
    "\n",
    "\n",
    "def _nearest_neighbors(\n",
    "    embeds1: np.ndarray,\n",
    "    embeds2: np.ndarray,\n",
    "    queries1: np.ndarray,\n",
    "    queries2: np.ndarray,\n",
    "    metric: str,\n",
    "    k: int,\n",
    "    nn_function: str,\n",
    "    baseline: bool = False,\n",
    ") -> tuple[Any, None]:\n",
    "    \"\"\"Calculates the nearest neighbors for two sets of queries and returns the k indices of the closest embeddings for\n",
    "    each query. After obtaining the indices, their similarity is calculated.\n",
    "\n",
    "    :param embeds1: The first set of embeddings of shape (N, D1).\n",
    "    :param embeds2: The second set of embeddings of shape (N, D2).\n",
    "    :param queries1: The first set of queries of shape (M, D1).\n",
    "    :param queries2: The second set of queries of shape (M, D2).\n",
    "    :param metric: The metric to use for comparing nearest neighbors.\n",
    "    :param k: The number of nearest neighbors to retrieve.\n",
    "    :param nn_function: The metric to use for finding nearest neighbors.\n",
    "    :param baseline: Whether to compute a baseline score, default: False.\n",
    "    :return: A list of similarity scores of length k.\n",
    "    \"\"\"\n",
    "    neigh1 = NearestNeighbors(n_neighbors=k, metric=nn_function, algorithm=\"brute\")\n",
    "    neigh1.fit(embeds1)\n",
    "\n",
    "    neigh2 = NearestNeighbors(n_neighbors=k, metric=nn_function, algorithm=\"brute\")\n",
    "    neigh2.fit(embeds2)\n",
    "\n",
    "    indices1 = neigh1.kneighbors(queries1, n_neighbors=k, return_distance=False)\n",
    "    indices2 = neigh2.kneighbors(queries2, n_neighbors=k, return_distance=False)\n",
    "\n",
    "    if baseline:\n",
    "        np.random.shuffle(indices1)\n",
    "\n",
    "    sims = []\n",
    "\n",
    "    for i in range(k):\n",
    "        j = i + 1\n",
    "        sims.append(nn_sim(indices1[:, :j], indices2[:, :j], metric))\n",
    "    return sims, None\n",
    "\n",
    "\n",
    "# Code taken from https://haydn.fgl.dev/posts/a-better-index-of-similarity/\n",
    "def _cka(A: torch.Tensor, B: torch.Tensor) -> tuple[Any, None]:\n",
    "    # Mean center each neuron\n",
    "    A = A - torch.mean(A, dim=0, keepdim=True)\n",
    "    B = B - torch.mean(B, dim=0, keepdim=True)\n",
    "\n",
    "    dot_product_similarity = torch.linalg.norm(torch.matmul(A.t(), B)) ** 2\n",
    "\n",
    "    normalization_x = torch.linalg.norm(torch.matmul(A.t(), A))\n",
    "    normalization_y = torch.linalg.norm(torch.matmul(B.t(), B))\n",
    "\n",
    "    cka = dot_product_similarity / (normalization_x * normalization_y)\n",
    "\n",
    "    dot_product_similarity.detach()\n",
    "    normalization_x.detach()\n",
    "    normalization_y.detach()\n",
    "    A.detach()\n",
    "    B.detach()\n",
    "    del dot_product_similarity, normalization_x, normalization_y, A, B\n",
    "    return cka, None\n",
    "\n",
    "\n",
    "def _calculate_embed_metric(\n",
    "    embeds1: torch.Tensor,\n",
    "    embeds2: torch.Tensor,\n",
    "    queries1: np.ndarray,\n",
    "    queries2: np.ndarray,\n",
    "    metric: str,\n",
    "    batch_size: int,\n",
    "    device: torch.device,\n",
    "    k: int,\n",
    "    nn_function: str,\n",
    "    baseline: bool = False,\n",
    "):\n",
    "    \"\"\"Calculates the similarity between two embedding matrices using the given metric.\n",
    "\n",
    "    :param embeds1: Document embedding tensor of shape (N, D1).\n",
    "    :param embeds2: Document embedding tensor of shape (N, D1) if the metric requires matching dimensions or (N, D2).\n",
    "    :param queries1: Embedding of queries of shape (N, D1).\n",
    "    :param queries2: Embedding of queries of shape (N, D2).\n",
    "    :param metric: The metric to be used, required to be one of AVAILABLE_METRICS.\n",
    "    :param batch_size: The batch size used to calculate pairwise similarity.\n",
    "    :param device: The device on which calculations should be performed.\n",
    "    :param k: The number of nearest neighbors to retrieve for Jaccard or rank similarity.\n",
    "    :param nn_function: The function for determining nearest neighbors.\n",
    "    :param baseline: Whether to compute a baseline score, default: False.\n",
    "    :return: The calculated similarity.\n",
    "    \"\"\"\n",
    "    assert len(embeds1) == len(embeds2)\n",
    "\n",
    "    if metric in MATCH_DIM_METRICS:\n",
    "        return _mean_pairwise_similarity(embeds1, embeds2, metric, batch_size, device)\n",
    "    if metric in NEAREST_NEIGHBORS:\n",
    "        return _nearest_neighbors(\n",
    "            np.array(embeds1),\n",
    "            np.array(embeds2),\n",
    "            queries1,\n",
    "            queries2,\n",
    "            metric,\n",
    "            k,\n",
    "            nn_function,\n",
    "            baseline,\n",
    "        )\n",
    "    if metric == CKA:\n",
    "        return _cka(embeds1, embeds2)\n",
    "    raise NotImplementedError(\n",
    "        f\"Provided unsupported metric {metric} for embedding similarity!\"\n",
    "    )\n",
    "\n",
    "\n",
    "def _sample_embeddings(\n",
    "    embeds1: torch.Tensor,\n",
    "    embeds2: torch.Tensor,\n",
    "    min_size: int,\n",
    "    num_embeds: int,\n",
    "    baseline: bool = False,\n",
    "):\n",
    "    \"\"\"Returns a subset of embeddings if the desired number of embeddings to be compared is lower than the available ones.\n",
    "    If a baseline score should be computed, the first set of embeddings is shuffled randomly if all embeddings are used\n",
    "    or two different random subsets are returned.\n",
    "\n",
    "    :param embeds1: Document embedding tensor of shape (N, D1).\n",
    "    :param embeds2: Document embedding tensor of shape (N, D1) if the metric requires matching dimensions or (N, D2).\n",
    "    :param min_size: The maximum number of embeddings that can be compared.\n",
    "    :param num_embeds: The number of embeddings that should be compared.\n",
    "    :param baseline: Whether a baseline score should be computed.\n",
    "    \"\"\"\n",
    "    if baseline:\n",
    "        indices = torch.randperm(embeds1.shape[0])\n",
    "        embeds1 = embeds1[indices]\n",
    "    if num_embeds > 0:\n",
    "        if min_size < num_embeds:\n",
    "            click.echo(\n",
    "                f\"Chosen number of embeddings is larger than number of available ones {min_size}. \"\n",
    "                f\"Using all available.\"\n",
    "            )\n",
    "        else:\n",
    "            indices = random.sample(range(min_size), num_embeds)\n",
    "            embeds1 = embeds1[indices]\n",
    "            embeds2 = embeds2[indices]\n",
    "    return embeds1, embeds2\n",
    "\n",
    "\n",
    "def calculate_metric(\n",
    "    embeds1: torch.Tensor,\n",
    "    embeds2: torch.Tensor,\n",
    "    queries1: np.ndarray,\n",
    "    queries2: np.ndarray,\n",
    "    metric: str,\n",
    "    batch_size: int,\n",
    "    device: torch.device,\n",
    "    num_embeds: int,\n",
    "    k: int,\n",
    "    nn_function: str,\n",
    "    center: bool = False,\n",
    "    baseline: bool = False,\n",
    "):\n",
    "    \"\"\"Calculates the similarity between document embeddings after pre-processing the embedding vectors.\n",
    "\n",
    "    :param embeds1: Document embedding tensor of shape (N, D1).\n",
    "    :param embeds2: Document embedding tensor of shape (N, D1) if the metric requires matching dimensions or (N, D2).\n",
    "    :param queries1: Embedding of queries of shape (N, D1).\n",
    "    :param queries2: Embedding of queries of shape (N, D2).\n",
    "    :param metric: The metric to be used, required to be one of AVAILABLE_METRICS.\n",
    "    :param batch_size: The batch size used to calculate pairwise similarity.\n",
    "    :param device: The device on which calculations should be performed.\n",
    "    :param num_embeds: The number of embeddings to be compared.\n",
    "    :param k: The number of nearest neighbors to retrieve for Jaccard or rank similarity.\n",
    "    :param nn_function: The function for determining nearest neighbors.\n",
    "    :param center: Whether embeddings should be mean-centered, default: False.\n",
    "    :param baseline: Whether to compute a baseline score, default: False.\n",
    "    :return: The calculated similarity.\n",
    "    \"\"\"\n",
    "    min_size = min(len(embeds1), len(embeds2))\n",
    "    assert k <= min_size\n",
    "    embeddings1 = embeds1[:min_size]\n",
    "    embeddings2 = embeds2[:min_size]\n",
    "    embeddings1, embeddings2 = _sample_embeddings(\n",
    "        embeddings1, embeddings2, min_size, num_embeds, baseline\n",
    "    )\n",
    "\n",
    "    if center:\n",
    "        embeddings1 = embeddings1 - torch.mean(embeddings1, axis=0, keepdim=True)\n",
    "        embeddings2 = embeddings2 - torch.mean(embeddings2, axis=0, keepdim=True)\n",
    "\n",
    "    return _calculate_embed_metric(\n",
    "        embeddings1,\n",
    "        embeddings2,\n",
    "        queries1,\n",
    "        queries2,\n",
    "        metric,\n",
    "        batch_size,\n",
    "        device,\n",
    "        k,\n",
    "        nn_function,\n",
    "        baseline,\n",
    "    )\n",
    "\n",
    "\n",
    "def self_sim_score(metric: str):\n",
    "    \"\"\"Returns the similarity score between two identical vectors for the given metric.\n",
    "\n",
    "    :param metric: The name of the metric.\n",
    "    :return: The self-similarity score.\n",
    "    \"\"\"\n",
    "    if metric == COSINE or metric == JACCARD or metric == RANK or metric == CKA:\n",
    "        return 1\n",
    "    if metric == EUCLIDEAN:\n",
    "        return 0\n",
    "    raise NotImplementedError(\n",
    "        f\"Cannot return self-similarity score of unsupported metric {metric}!\"\n",
    "    )"
   ]
  },
  {
   "cell_type": "code",
   "execution_count": null,
   "metadata": {},
   "outputs": [],
   "source": [
    "from safetensors.torch import load_file\n",
    "\n",
    "\n",
    "# Create sample embeddings (100 documents, 768 dimensions each)\n",
    "embeds1 = load_file(\n",
    "    \"/Users/gat/work/FA2024/embedding_translation/data/openai_embeddings/text-embedding-3-large/fiqa/corpus_validation_embeddings.safetensors\"\n",
    ")[\"embeddings\"]\n",
    "embeds2 = load_file(\n",
    "    \"/Users/gat/work/FA2024/embedding_translation/data/openai_embeddings/text-embedding-3-small/fiqa/corpus_validation_embeddings.safetensors\"\n",
    ")[\"embeddings\"]\n",
    "\n",
    "\n",
    "similarity_score = _cka(embeds1, embeds2)[0]\n",
    "\n",
    "print(f\"Similarity score: {similarity_score}\")\n",
    "plot = False\n",
    "if plot:  # Plot will be None for some metrics\n",
    "    plot.show()"
   ]
  },
  {
   "cell_type": "code",
   "execution_count": 35,
   "metadata": {},
   "outputs": [
    {
     "data": {
      "text/html": [
       "<pre style=\"white-space:pre;overflow-x:auto;line-height:normal;font-family:Menlo,'DejaVu Sans Mono',consolas,'Courier New',monospace\"><span style=\"color: #7fbfbf; text-decoration-color: #7fbfbf\">[12/12/24 00:45:27] </span><span style=\"color: #000080; text-decoration-color: #000080; font-weight: bold\">INFO    </span><span style=\"color: #008000; text-decoration-color: #008000; font-weight: bold\"> </span><span style=\"font-weight: bold\">[</span><span style=\"color: #008080; text-decoration-color: #008080; font-weight: bold\">2024095736.</span>py:<span style=\"color: #008080; text-decoration-color: #008080; font-weight: bold\">13</span><span style=\"font-weight: bold\">]</span> <span style=\"color: #800080; text-decoration-color: #800080\">/Users/gat/work/FA2024/</span><span style=\"color: #ff00ff; text-decoration-color: #ff00ff\">embedding_translation</span>       <a href=\"file:///var/folders/6f/f4k9qbkd5nqfywwdhvwdtl5m0000gn/T/ipykernel_80562/2024095736.py\" target=\"_blank\"><span style=\"color: #008080; text-decoration-color: #008080; font-weight: bold\">2024095736.py</span></a><span style=\"color: #008080; text-decoration-color: #008080; font-weight: bold\">:</span><a href=\"file:///var/folders/6f/f4k9qbkd5nqfywwdhvwdtl5m0000gn/T/ipykernel_80562/2024095736.py#13\" target=\"_blank\"><span style=\"color: #008080; text-decoration-color: #008080; font-weight: bold\">13</span></a>\n",
       "</pre>\n"
      ],
      "text/plain": [
       "\u001b[2;36m[12/12/24 00:45:27]\u001b[0m\u001b[2;36m \u001b[0m\u001b[1;34mINFO    \u001b[0m\u001b[1;32m \u001b[0m\u001b[1m[\u001b[0m\u001b[1;36m2024095736.\u001b[0mpy:\u001b[1;36m13\u001b[0m\u001b[1m]\u001b[0m \u001b[35m/Users/gat/work/FA2024/\u001b[0m\u001b[95membedding_translation\u001b[0m       \u001b]8;id=443197;file:///var/folders/6f/f4k9qbkd5nqfywwdhvwdtl5m0000gn/T/ipykernel_80562/2024095736.py\u001b\\\u001b[1;36m2024095736.py\u001b[0m\u001b]8;;\u001b\\\u001b[1;36m:\u001b[0m\u001b]8;id=705639;file:///var/folders/6f/f4k9qbkd5nqfywwdhvwdtl5m0000gn/T/ipykernel_80562/2024095736.py#13\u001b\\\u001b[1;36m13\u001b[0m\u001b]8;;\u001b\\\n"
      ]
     },
     "metadata": {},
     "output_type": "display_data"
    },
    {
     "data": {
      "text/html": [
       "<pre style=\"white-space:pre;overflow-x:auto;line-height:normal;font-family:Menlo,'DejaVu Sans Mono',consolas,'Courier New',monospace\"><span style=\"color: #7fbfbf; text-decoration-color: #7fbfbf\">                    </span><span style=\"color: #000080; text-decoration-color: #000080; font-weight: bold\">INFO    </span><span style=\"color: #008000; text-decoration-color: #008000; font-weight: bold\"> </span><span style=\"font-weight: bold\">[</span><span style=\"color: #008080; text-decoration-color: #008080; font-weight: bold\">2024095736.</span>py:<span style=\"color: #008080; text-decoration-color: #008080; font-weight: bold\">17</span><span style=\"font-weight: bold\">]</span> <span style=\"color: #008080; text-decoration-color: #008080; font-weight: bold\">66</span>                                                 <a href=\"file:///var/folders/6f/f4k9qbkd5nqfywwdhvwdtl5m0000gn/T/ipykernel_80562/2024095736.py\" target=\"_blank\"><span style=\"color: #008080; text-decoration-color: #008080; font-weight: bold\">2024095736.py</span></a><span style=\"color: #008080; text-decoration-color: #008080; font-weight: bold\">:</span><a href=\"file:///var/folders/6f/f4k9qbkd5nqfywwdhvwdtl5m0000gn/T/ipykernel_80562/2024095736.py#17\" target=\"_blank\"><span style=\"color: #008080; text-decoration-color: #008080; font-weight: bold\">17</span></a>\n",
       "</pre>\n"
      ],
      "text/plain": [
       "\u001b[2;36m                   \u001b[0m\u001b[2;36m \u001b[0m\u001b[1;34mINFO    \u001b[0m\u001b[1;32m \u001b[0m\u001b[1m[\u001b[0m\u001b[1;36m2024095736.\u001b[0mpy:\u001b[1;36m17\u001b[0m\u001b[1m]\u001b[0m \u001b[1;36m66\u001b[0m                                                 \u001b]8;id=679775;file:///var/folders/6f/f4k9qbkd5nqfywwdhvwdtl5m0000gn/T/ipykernel_80562/2024095736.py\u001b\\\u001b[1;36m2024095736.py\u001b[0m\u001b]8;;\u001b\\\u001b[1;36m:\u001b[0m\u001b]8;id=787962;file:///var/folders/6f/f4k9qbkd5nqfywwdhvwdtl5m0000gn/T/ipykernel_80562/2024095736.py#17\u001b\\\u001b[1;36m17\u001b[0m\u001b]8;;\u001b\\\n"
      ]
     },
     "metadata": {},
     "output_type": "display_data"
    }
   ],
   "source": [
    "from pathlib import Path\n",
    "\n",
    "from loguru import logger\n",
    "\n",
    "from src.create_summaries_from_folder import EmbeddingDatasetInformation\n",
    "from src.create_summaries_from_folder import ModelGenerator\n",
    "from src.create_summaries_from_folder import anal_dump\n",
    "\n",
    "\n",
    "__file__ = (\n",
    "    \"/Users/gat/work/FA2024/embedding_translation/src/embedding_translation.ipynb\"\n",
    ")\n",
    "\n",
    "PROJ_ROOT = Path(__file__).parent.parent\n",
    "logger.info(PROJ_ROOT.resolve())\n",
    "\n",
    "embeddings_dir = PROJ_ROOT / \"data\" / \"huggingface_embeddings\"\n",
    "dataset_infos = ModelGenerator.native_embedding_dataset_info_from_dir(embeddings_dir)\n",
    "logger.info(len(dataset_infos))"
   ]
  },
  {
   "cell_type": "code",
   "execution_count": 37,
   "metadata": {},
   "outputs": [
    {
     "data": {
      "text/html": [
       "<pre style=\"white-space:pre;overflow-x:auto;line-height:normal;font-family:Menlo,'DejaVu Sans Mono',consolas,'Courier New',monospace\"><span style=\"color: #800000; text-decoration-color: #800000\">╭─────────────────────────────── </span><span style=\"color: #800000; text-decoration-color: #800000; font-weight: bold\">Traceback </span><span style=\"color: #bf7f7f; text-decoration-color: #bf7f7f; font-weight: bold\">(most recent call last)</span><span style=\"color: #800000; text-decoration-color: #800000\"> ────────────────────────────────╮</span>\n",
       "<span style=\"color: #800000; text-decoration-color: #800000\">│</span> in <span style=\"color: #00ff00; text-decoration-color: #00ff00\">&lt;cell line: 0&gt;</span>:<span style=\"color: #0000ff; text-decoration-color: #0000ff\">9</span>                                                                              <span style=\"color: #800000; text-decoration-color: #800000\">│</span>\n",
       "<span style=\"color: #800000; text-decoration-color: #800000\">│</span>                                                                                                  <span style=\"color: #800000; text-decoration-color: #800000\">│</span>\n",
       "<span style=\"color: #800000; text-decoration-color: #800000\">│</span>   <span style=\"color: #7f7f7f; text-decoration-color: #7f7f7f\"> 6 </span><span style=\"color: #7f7f7f; text-decoration-color: #7f7f7f\">│   │   </span>pack = (dataset_info, load_file(dataset_info.dataset_filepath)[<span style=\"color: #808000; text-decoration-color: #808000\">\"embeddings\"</span>])       <span style=\"color: #800000; text-decoration-color: #800000\">│</span>\n",
       "<span style=\"color: #800000; text-decoration-color: #800000\">│</span>   <span style=\"color: #7f7f7f; text-decoration-color: #7f7f7f\"> 7 </span><span style=\"color: #7f7f7f; text-decoration-color: #7f7f7f\">│   │   </span>dataset_infos_grouped[dataset_info.text_dataset_name].append(pack)                  <span style=\"color: #800000; text-decoration-color: #800000\">│</span>\n",
       "<span style=\"color: #800000; text-decoration-color: #800000\">│</span>   <span style=\"color: #7f7f7f; text-decoration-color: #7f7f7f\"> 8 </span><span style=\"color: #7f7f7f; text-decoration-color: #7f7f7f\">│   </span><span style=\"color: #0000ff; text-decoration-color: #0000ff\">else</span>:                                                                                   <span style=\"color: #800000; text-decoration-color: #800000\">│</span>\n",
       "<span style=\"color: #800000; text-decoration-color: #800000\">│</span> <span style=\"color: #800000; text-decoration-color: #800000\">❱ </span> 9 <span style=\"color: #7f7f7f; text-decoration-color: #7f7f7f\">│   │   </span>pack = (dataset_info, <span style=\"font-weight: bold; text-decoration: underline\">load_file</span>(dataset_info.dataset_filepath)[<span style=\"color: #808000; text-decoration-color: #808000\">\"embeddings\"</span>])       <span style=\"color: #800000; text-decoration-color: #800000\">│</span>\n",
       "<span style=\"color: #800000; text-decoration-color: #800000\">│</span>   <span style=\"color: #7f7f7f; text-decoration-color: #7f7f7f\">10 </span><span style=\"color: #7f7f7f; text-decoration-color: #7f7f7f\">│   │   </span>dataset_infos_grouped[dataset_info.text_dataset_name] = [pack]                      <span style=\"color: #800000; text-decoration-color: #800000\">│</span>\n",
       "<span style=\"color: #800000; text-decoration-color: #800000\">│</span>   <span style=\"color: #7f7f7f; text-decoration-color: #7f7f7f\">11 </span>                                                                                            <span style=\"color: #800000; text-decoration-color: #800000\">│</span>\n",
       "<span style=\"color: #800000; text-decoration-color: #800000\">│</span>   <span style=\"color: #7f7f7f; text-decoration-color: #7f7f7f\">12 </span><span style=\"color: #0000ff; text-decoration-color: #0000ff\">for</span> text_dataset_name, datasets <span style=\"color: #ff00ff; text-decoration-color: #ff00ff\">in</span> dataset_infos_grouped.items():                           <span style=\"color: #800000; text-decoration-color: #800000\">│</span>\n",
       "<span style=\"color: #800000; text-decoration-color: #800000\">╰──────────────────────────────────────────────────────────────────────────────────────────────────╯</span>\n",
       "<span style=\"color: #ff0000; text-decoration-color: #ff0000; font-weight: bold\">NameError: </span>name <span style=\"color: #008000; text-decoration-color: #008000\">'load_file'</span> is not defined\n",
       "</pre>\n"
      ],
      "text/plain": [
       "\u001b[31m╭─\u001b[0m\u001b[31m──────────────────────────────\u001b[0m\u001b[31m \u001b[0m\u001b[1;31mTraceback \u001b[0m\u001b[1;2;31m(most recent call last)\u001b[0m\u001b[31m \u001b[0m\u001b[31m───────────────────────────────\u001b[0m\u001b[31m─╮\u001b[0m\n",
       "\u001b[31m│\u001b[0m in \u001b[92m<cell line: 0>\u001b[0m:\u001b[94m9\u001b[0m                                                                              \u001b[31m│\u001b[0m\n",
       "\u001b[31m│\u001b[0m                                                                                                  \u001b[31m│\u001b[0m\n",
       "\u001b[31m│\u001b[0m   \u001b[2m 6 \u001b[0m\u001b[2m│   │   \u001b[0mpack = (dataset_info, load_file(dataset_info.dataset_filepath)[\u001b[33m\"\u001b[0m\u001b[33membeddings\u001b[0m\u001b[33m\"\u001b[0m])       \u001b[31m│\u001b[0m\n",
       "\u001b[31m│\u001b[0m   \u001b[2m 7 \u001b[0m\u001b[2m│   │   \u001b[0mdataset_infos_grouped[dataset_info.text_dataset_name].append(pack)                  \u001b[31m│\u001b[0m\n",
       "\u001b[31m│\u001b[0m   \u001b[2m 8 \u001b[0m\u001b[2m│   \u001b[0m\u001b[94melse\u001b[0m:                                                                                   \u001b[31m│\u001b[0m\n",
       "\u001b[31m│\u001b[0m \u001b[31m❱ \u001b[0m 9 \u001b[2m│   │   \u001b[0mpack = (dataset_info, \u001b[1;4mload_file\u001b[0m(dataset_info.dataset_filepath)[\u001b[33m\"\u001b[0m\u001b[33membeddings\u001b[0m\u001b[33m\"\u001b[0m])       \u001b[31m│\u001b[0m\n",
       "\u001b[31m│\u001b[0m   \u001b[2m10 \u001b[0m\u001b[2m│   │   \u001b[0mdataset_infos_grouped[dataset_info.text_dataset_name] = [pack]                      \u001b[31m│\u001b[0m\n",
       "\u001b[31m│\u001b[0m   \u001b[2m11 \u001b[0m                                                                                            \u001b[31m│\u001b[0m\n",
       "\u001b[31m│\u001b[0m   \u001b[2m12 \u001b[0m\u001b[94mfor\u001b[0m text_dataset_name, datasets \u001b[95min\u001b[0m dataset_infos_grouped.items():                           \u001b[31m│\u001b[0m\n",
       "\u001b[31m╰──────────────────────────────────────────────────────────────────────────────────────────────────╯\u001b[0m\n",
       "\u001b[1;91mNameError: \u001b[0mname \u001b[32m'load_file'\u001b[0m is not defined\n"
      ]
     },
     "metadata": {},
     "output_type": "display_data"
    }
   ],
   "source": [
    "# Group em\n",
    "dataset_infos_grouped: dict[\n",
    "    str, list[tuple[EmbeddingDatasetInformation, torch.Tensor]]\n",
    "] = {}\n",
    "for dataset_info in dataset_infos:\n",
    "    if dataset_info.text_dataset_name in dataset_infos_grouped:\n",
    "        pack = (dataset_info, load_file(dataset_info.dataset_filepath)[\"embeddings\"])\n",
    "        dataset_infos_grouped[dataset_info.text_dataset_name].append(pack)\n",
    "    else:\n",
    "        pack = (dataset_info, load_file(dataset_info.dataset_filepath)[\"embeddings\"])\n",
    "        dataset_infos_grouped[dataset_info.text_dataset_name] = [pack]\n",
    "\n",
    "for text_dataset_name, datasets in dataset_infos_grouped.items():\n",
    "    print(text_dataset_name)\n",
    "    print(len(datasets))\n",
    "    print(type(datasets[0][0]), type(datasets[0][1]))"
   ]
  },
  {
   "cell_type": "code",
   "execution_count": 34,
   "metadata": {},
   "outputs": [
    {
     "data": {
      "text/html": [
       "<pre style=\"white-space:pre;overflow-x:auto;line-height:normal;font-family:Menlo,'DejaVu Sans Mono',consolas,'Courier New',monospace\"><span style=\"color: #800000; text-decoration-color: #800000\">╭─────────────────────────────── </span><span style=\"color: #800000; text-decoration-color: #800000; font-weight: bold\">Traceback </span><span style=\"color: #bf7f7f; text-decoration-color: #bf7f7f; font-weight: bold\">(most recent call last)</span><span style=\"color: #800000; text-decoration-color: #800000\"> ────────────────────────────────╮</span>\n",
       "<span style=\"color: #800000; text-decoration-color: #800000\">│</span> in <span style=\"color: #00ff00; text-decoration-color: #00ff00\">&lt;cell line: 0&gt;</span>:<span style=\"color: #0000ff; text-decoration-color: #0000ff\">1</span>                                                                              <span style=\"color: #800000; text-decoration-color: #800000\">│</span>\n",
       "<span style=\"color: #800000; text-decoration-color: #800000\">│</span>                                                                                                  <span style=\"color: #800000; text-decoration-color: #800000\">│</span>\n",
       "<span style=\"color: #800000; text-decoration-color: #800000\">│</span> <span style=\"color: #800000; text-decoration-color: #800000\">❱ </span>1 <span style=\"color: #00ffff; text-decoration-color: #00ffff\">print</span>(<span style=\"font-weight: bold; text-decoration: underline\">datasets</span>)                                                                              <span style=\"color: #800000; text-decoration-color: #800000\">│</span>\n",
       "<span style=\"color: #800000; text-decoration-color: #800000\">│</span>   <span style=\"color: #7f7f7f; text-decoration-color: #7f7f7f\">2 </span>                                                                                             <span style=\"color: #800000; text-decoration-color: #800000\">│</span>\n",
       "<span style=\"color: #800000; text-decoration-color: #800000\">╰──────────────────────────────────────────────────────────────────────────────────────────────────╯</span>\n",
       "<span style=\"color: #ff0000; text-decoration-color: #ff0000; font-weight: bold\">NameError: </span>name <span style=\"color: #008000; text-decoration-color: #008000\">'datasets'</span> is not defined\n",
       "</pre>\n"
      ],
      "text/plain": [
       "\u001b[31m╭─\u001b[0m\u001b[31m──────────────────────────────\u001b[0m\u001b[31m \u001b[0m\u001b[1;31mTraceback \u001b[0m\u001b[1;2;31m(most recent call last)\u001b[0m\u001b[31m \u001b[0m\u001b[31m───────────────────────────────\u001b[0m\u001b[31m─╮\u001b[0m\n",
       "\u001b[31m│\u001b[0m in \u001b[92m<cell line: 0>\u001b[0m:\u001b[94m1\u001b[0m                                                                              \u001b[31m│\u001b[0m\n",
       "\u001b[31m│\u001b[0m                                                                                                  \u001b[31m│\u001b[0m\n",
       "\u001b[31m│\u001b[0m \u001b[31m❱ \u001b[0m1 \u001b[96mprint\u001b[0m(\u001b[1;4mdatasets\u001b[0m)                                                                              \u001b[31m│\u001b[0m\n",
       "\u001b[31m│\u001b[0m   \u001b[2m2 \u001b[0m                                                                                             \u001b[31m│\u001b[0m\n",
       "\u001b[31m╰──────────────────────────────────────────────────────────────────────────────────────────────────╯\u001b[0m\n",
       "\u001b[1;91mNameError: \u001b[0mname \u001b[32m'datasets'\u001b[0m is not defined\n"
      ]
     },
     "metadata": {},
     "output_type": "display_data"
    }
   ],
   "source": [
    "print(datasets)"
   ]
  },
  {
   "cell_type": "code",
   "execution_count": null,
   "metadata": {},
   "outputs": [],
   "source": [
    "# Add random cka to all dataset_infos\n",
    "def add_random(dataset_infos_grouped):\n",
    "    for text_dataset_name, datasets in dataset_infos_grouped.items():\n",
    "        print(text_dataset_name)\n",
    "        print(len(datasets))\n",
    "        random_name = \"Normal(0, 1)\"\n",
    "        if random_name in [dataset[0].embedding_model_name for dataset in datasets]:\n",
    "            continue\n",
    "        info = datasets[0][0].model_copy()\n",
    "        info.dataset_filepath = None\n",
    "        info.embedding_model_name = \"Normal(0, 1)\"\n",
    "        embed = torch.randn_like(datasets[0][1])\n",
    "        datasets.append((info, embed))\n",
    "        print(len(datasets))\n",
    "\n",
    "\n",
    "add_random(dataset_infos_grouped=dataset_infos_grouped)"
   ]
  },
  {
   "cell_type": "code",
   "execution_count": null,
   "metadata": {},
   "outputs": [],
   "source": [
    "num_embeds = len(dataset_infos)\n",
    "cka_matrices = {}\n",
    "\n",
    "for text_dataset_name, datasets in dataset_infos_grouped.items():\n",
    "    if text_dataset_name != \"arguana\":\n",
    "        continue\n",
    "    cka_matrix = [[None for _ in datasets] for _ in datasets]\n",
    "    print(text_dataset_name)\n",
    "    for i, (info1, embeds1) in enumerate(datasets):\n",
    "        print(f\"{i} of {len(datasets)}\")\n",
    "        for j, (info2, embeds2) in enumerate(datasets):\n",
    "            sim = _cka(embeds1, embeds2)[0]\n",
    "            cka_matrix[i][j] = sim\n",
    "    cka_matrices[text_dataset_name] = torch.Tensor(cka_matrix)\n",
    "\n",
    "print(cka_matrices)"
   ]
  },
  {
   "cell_type": "code",
   "execution_count": null,
   "metadata": {},
   "outputs": [],
   "source": [
    "from src.viz.plot_heatmap import save_figure\n",
    "from src.viz.plot_heatmap import visualize_heatmap\n",
    "\n",
    "\n",
    "for text_dataset_name, datasets in dataset_infos_grouped.items():\n",
    "    if text_dataset_name != \"arguana\":\n",
    "        continue\n",
    "    labels = [info.embedding_model_name for info, embeds in datasets]\n",
    "    fig = visualize_heatmap(\n",
    "        matrix=cka_matrices[text_dataset_name],\n",
    "        config={\n",
    "            \"row_labels\": labels,\n",
    "            \"col_labels\": labels,\n",
    "            \"title\": f\"CKA Matrix on {text_dataset_name}\",\n",
    "            \"xaxis_title\": \"Embedding Space 01\",\n",
    "            \"yaxis_title\": \"Embedding Space 02\",\n",
    "        },\n",
    "    )\n",
    "\n",
    "    # fig.update_yaxes(autorange=True)\n",
    "    fig[\"layout\"][\"yaxis\"][\"autorange\"] = \"reversed\"\n",
    "    fig.update_xaxes(side=\"top\")\n",
    "\n",
    "    save_figure(\n",
    "        fig,\n",
    "        f\"cka_matrix_on_{text_dataset_name}\",\n",
    "        output_dir=PROJ_ROOT / \"data\" / \"figs\",\n",
    "    )"
   ]
  },
  {
   "cell_type": "code",
   "execution_count": 33,
   "metadata": {},
   "outputs": [
    {
     "data": {
      "text/html": [
       "<pre style=\"white-space:pre;overflow-x:auto;line-height:normal;font-family:Menlo,'DejaVu Sans Mono',consolas,'Courier New',monospace\"><span style=\"color: #7fbfbf; text-decoration-color: #7fbfbf\">[12/11/24 16:17:11] </span><span style=\"color: #000080; text-decoration-color: #000080; font-weight: bold\">INFO    </span><span style=\"color: #008000; text-decoration-color: #008000; font-weight: bold\"> </span><span style=\"font-weight: bold\">[</span><span style=\"color: #008080; text-decoration-color: #008080; font-weight: bold\">2819754872.</span>py:<span style=\"color: #008080; text-decoration-color: #008080; font-weight: bold\">22</span><span style=\"font-weight: bold\">]</span> Received <span style=\"color: #008080; text-decoration-color: #008080; font-weight: bold\">210</span> training values                       <a href=\"file:///var/folders/6f/f4k9qbkd5nqfywwdhvwdtl5m0000gn/T/ipykernel_80562/2819754872.py\" target=\"_blank\"><span style=\"color: #008080; text-decoration-color: #008080; font-weight: bold\">2819754872.py</span></a><span style=\"color: #008080; text-decoration-color: #008080; font-weight: bold\">:</span><a href=\"file:///var/folders/6f/f4k9qbkd5nqfywwdhvwdtl5m0000gn/T/ipykernel_80562/2819754872.py#22\" target=\"_blank\"><span style=\"color: #008080; text-decoration-color: #008080; font-weight: bold\">22</span></a>\n",
       "</pre>\n"
      ],
      "text/plain": [
       "\u001b[2;36m[12/11/24 16:17:11]\u001b[0m\u001b[2;36m \u001b[0m\u001b[1;34mINFO    \u001b[0m\u001b[1;32m \u001b[0m\u001b[1m[\u001b[0m\u001b[1;36m2819754872.\u001b[0mpy:\u001b[1;36m22\u001b[0m\u001b[1m]\u001b[0m Received \u001b[1;36m210\u001b[0m training values                       \u001b]8;id=965542;file:///var/folders/6f/f4k9qbkd5nqfywwdhvwdtl5m0000gn/T/ipykernel_80562/2819754872.py\u001b\\\u001b[1;36m2819754872.py\u001b[0m\u001b]8;;\u001b\\\u001b[1;36m:\u001b[0m\u001b]8;id=806670;file:///var/folders/6f/f4k9qbkd5nqfywwdhvwdtl5m0000gn/T/ipykernel_80562/2819754872.py#22\u001b\\\u001b[1;36m22\u001b[0m\u001b]8;;\u001b\\\n"
      ]
     },
     "metadata": {},
     "output_type": "display_data"
    },
    {
     "data": {
      "text/html": [
       "<pre style=\"white-space:pre;overflow-x:auto;line-height:normal;font-family:Menlo,'DejaVu Sans Mono',consolas,'Courier New',monospace\"><span style=\"color: #7fbfbf; text-decoration-color: #7fbfbf\">                    </span><span style=\"color: #000080; text-decoration-color: #000080; font-weight: bold\">INFO    </span><span style=\"color: #008000; text-decoration-color: #008000; font-weight: bold\"> </span> Starting heatmap visualization process                            <a href=\"file:///Users/gat/work/FA2024/embedding_translation/src/viz/plot_heatmap.py\" target=\"_blank\"><span style=\"color: #008080; text-decoration-color: #008080; font-weight: bold\">plot_heatmap.py</span></a><span style=\"color: #008080; text-decoration-color: #008080; font-weight: bold\">:</span><a href=\"file:///Users/gat/work/FA2024/embedding_translation/src/viz/plot_heatmap.py#115\" target=\"_blank\"><span style=\"color: #008080; text-decoration-color: #008080; font-weight: bold\">115</span></a>\n",
       "</pre>\n"
      ],
      "text/plain": [
       "\u001b[2;36m                   \u001b[0m\u001b[2;36m \u001b[0m\u001b[1;34mINFO    \u001b[0m\u001b[1;32m \u001b[0m Starting heatmap visualization process                            \u001b]8;id=896866;file:///Users/gat/work/FA2024/embedding_translation/src/viz/plot_heatmap.py\u001b\\\u001b[1;36mplot_heatmap.py\u001b[0m\u001b]8;;\u001b\\\u001b[1;36m:\u001b[0m\u001b]8;id=625029;file:///Users/gat/work/FA2024/embedding_translation/src/viz/plot_heatmap.py#115\u001b\\\u001b[1;36m115\u001b[0m\u001b]8;;\u001b\\\n"
      ]
     },
     "metadata": {},
     "output_type": "display_data"
    },
    {
     "data": {
      "text/html": [
       "<pre style=\"white-space:pre;overflow-x:auto;line-height:normal;font-family:Menlo,'DejaVu Sans Mono',consolas,'Courier New',monospace\"><span style=\"color: #7fbfbf; text-decoration-color: #7fbfbf\">                    </span><span style=\"color: #000080; text-decoration-color: #000080; font-weight: bold\">INFO    </span><span style=\"color: #008000; text-decoration-color: #008000; font-weight: bold\"> </span> Creating heatmap visualization<span style=\"color: #808000; text-decoration-color: #808000\">...</span>                                  <a href=\"file:///Users/gat/work/FA2024/embedding_translation/src/viz/plot_heatmap.py\" target=\"_blank\"><span style=\"color: #008080; text-decoration-color: #008080; font-weight: bold\">plot_heatmap.py</span></a><span style=\"color: #008080; text-decoration-color: #008080; font-weight: bold\">:</span><a href=\"file:///Users/gat/work/FA2024/embedding_translation/src/viz/plot_heatmap.py#40\" target=\"_blank\"><span style=\"color: #008080; text-decoration-color: #008080; font-weight: bold\">40</span></a>\n",
       "</pre>\n"
      ],
      "text/plain": [
       "\u001b[2;36m                   \u001b[0m\u001b[2;36m \u001b[0m\u001b[1;34mINFO    \u001b[0m\u001b[1;32m \u001b[0m Creating heatmap visualization\u001b[33m...\u001b[0m                                  \u001b]8;id=355872;file:///Users/gat/work/FA2024/embedding_translation/src/viz/plot_heatmap.py\u001b\\\u001b[1;36mplot_heatmap.py\u001b[0m\u001b]8;;\u001b\\\u001b[1;36m:\u001b[0m\u001b]8;id=713512;file:///Users/gat/work/FA2024/embedding_translation/src/viz/plot_heatmap.py#40\u001b\\\u001b[1;36m40\u001b[0m\u001b]8;;\u001b\\\n"
      ]
     },
     "metadata": {},
     "output_type": "display_data"
    },
    {
     "data": {
      "text/html": [
       "<pre style=\"white-space:pre;overflow-x:auto;line-height:normal;font-family:Menlo,'DejaVu Sans Mono',consolas,'Courier New',monospace\"><span style=\"color: #7fbfbf; text-decoration-color: #7fbfbf\">                    </span><span style=\"color: #008000; text-decoration-color: #008000; font-weight: bold\">SUCCESS  </span> Heatmap created successfully                                       <a href=\"file:///Users/gat/work/FA2024/embedding_translation/src/viz/plot_heatmap.py\" target=\"_blank\"><span style=\"color: #008080; text-decoration-color: #008080; font-weight: bold\">plot_heatmap.py</span></a><span style=\"color: #008080; text-decoration-color: #008080; font-weight: bold\">:</span><a href=\"file:///Users/gat/work/FA2024/embedding_translation/src/viz/plot_heatmap.py#89\" target=\"_blank\"><span style=\"color: #008080; text-decoration-color: #008080; font-weight: bold\">89</span></a>\n",
       "</pre>\n"
      ],
      "text/plain": [
       "\u001b[2;36m                   \u001b[0m\u001b[2;36m \u001b[0m\u001b[1;32mSUCCESS \u001b[0m\u001b[1;32m \u001b[0m Heatmap created successfully                                       \u001b]8;id=888199;file:///Users/gat/work/FA2024/embedding_translation/src/viz/plot_heatmap.py\u001b\\\u001b[1;36mplot_heatmap.py\u001b[0m\u001b]8;;\u001b\\\u001b[1;36m:\u001b[0m\u001b]8;id=466257;file:///Users/gat/work/FA2024/embedding_translation/src/viz/plot_heatmap.py#89\u001b\\\u001b[1;36m89\u001b[0m\u001b]8;;\u001b\\\n"
      ]
     },
     "metadata": {},
     "output_type": "display_data"
    },
    {
     "data": {
      "text/html": [
       "<pre style=\"white-space:pre;overflow-x:auto;line-height:normal;font-family:Menlo,'DejaVu Sans Mono',consolas,'Courier New',monospace\"><span style=\"color: #7fbfbf; text-decoration-color: #7fbfbf\">                    </span><span style=\"color: #000080; text-decoration-color: #000080; font-weight: bold\">INFO    </span><span style=\"color: #008000; text-decoration-color: #008000; font-weight: bold\"> </span> Saving HTML figure to                                               <a href=\"file:///Users/gat/work/FA2024/embedding_translation/src/viz/save_figure.py\" target=\"_blank\"><span style=\"color: #008080; text-decoration-color: #008080; font-weight: bold\">save_figure.py</span></a><span style=\"color: #008080; text-decoration-color: #008080; font-weight: bold\">:</span><a href=\"file:///Users/gat/work/FA2024/embedding_translation/src/viz/save_figure.py#32\" target=\"_blank\"><span style=\"color: #008080; text-decoration-color: #008080; font-weight: bold\">32</span></a>\n",
       "<span style=\"color: #7fbfbf; text-decoration-color: #7fbfbf\">                    </span><span style=\"color: #008000; text-decoration-color: #008000; font-weight: bold\">         </span><span style=\"color: #800080; text-decoration-color: #800080\">/Users/gat/work/FA2024/embedding_translation/data/figs/html/</span><span style=\"color: #ff00ff; text-decoration-color: #ff00ff\">mse_matr</span> <span style=\"color: #008080; text-decoration-color: #008080; font-weight: bold\">                 </span>\n",
       "<span style=\"color: #7fbfbf; text-decoration-color: #7fbfbf\">                    </span><span style=\"color: #008000; text-decoration-color: #008000; font-weight: bold\">         </span><span style=\"color: #ff00ff; text-decoration-color: #ff00ff\">ix_onarguana.html</span>                                                    <span style=\"color: #008080; text-decoration-color: #008080; font-weight: bold\">                 </span>\n",
       "</pre>\n"
      ],
      "text/plain": [
       "\u001b[2;36m                   \u001b[0m\u001b[2;36m \u001b[0m\u001b[1;34mINFO    \u001b[0m\u001b[1;32m \u001b[0m Saving HTML figure to                                               \u001b]8;id=700513;file:///Users/gat/work/FA2024/embedding_translation/src/viz/save_figure.py\u001b\\\u001b[1;36msave_figure.py\u001b[0m\u001b]8;;\u001b\\\u001b[1;36m:\u001b[0m\u001b]8;id=198006;file:///Users/gat/work/FA2024/embedding_translation/src/viz/save_figure.py#32\u001b\\\u001b[1;36m32\u001b[0m\u001b]8;;\u001b\\\n",
       "\u001b[2;36m                    \u001b[0m\u001b[1;32m         \u001b[0m\u001b[35m/Users/gat/work/FA2024/embedding_translation/data/figs/html/\u001b[0m\u001b[95mmse_matr\u001b[0m \u001b[1;36m                 \u001b[0m\n",
       "\u001b[2;36m                    \u001b[0m\u001b[1;32m         \u001b[0m\u001b[95mix_onarguana.html\u001b[0m                                                    \u001b[1;36m                 \u001b[0m\n"
      ]
     },
     "metadata": {},
     "output_type": "display_data"
    },
    {
     "data": {
      "text/html": [
       "<pre style=\"white-space:pre;overflow-x:auto;line-height:normal;font-family:Menlo,'DejaVu Sans Mono',consolas,'Courier New',monospace\"><span style=\"color: #7fbfbf; text-decoration-color: #7fbfbf\">                    </span><span style=\"color: #008000; text-decoration-color: #008000; font-weight: bold\">SUCCESS  </span> Successfully saved HTML to                                          <a href=\"file:///Users/gat/work/FA2024/embedding_translation/src/viz/save_figure.py\" target=\"_blank\"><span style=\"color: #008080; text-decoration-color: #008080; font-weight: bold\">save_figure.py</span></a><span style=\"color: #008080; text-decoration-color: #008080; font-weight: bold\">:</span><a href=\"file:///Users/gat/work/FA2024/embedding_translation/src/viz/save_figure.py#40\" target=\"_blank\"><span style=\"color: #008080; text-decoration-color: #008080; font-weight: bold\">40</span></a>\n",
       "<span style=\"color: #7fbfbf; text-decoration-color: #7fbfbf\">                    </span><span style=\"color: #008000; text-decoration-color: #008000; font-weight: bold\">         </span><span style=\"color: #800080; text-decoration-color: #800080\">/Users/gat/work/FA2024/embedding_translation/data/figs/html/</span><span style=\"color: #ff00ff; text-decoration-color: #ff00ff\">mse_matr</span> <span style=\"color: #008080; text-decoration-color: #008080; font-weight: bold\">                 </span>\n",
       "<span style=\"color: #7fbfbf; text-decoration-color: #7fbfbf\">                    </span><span style=\"color: #008000; text-decoration-color: #008000; font-weight: bold\">         </span><span style=\"color: #ff00ff; text-decoration-color: #ff00ff\">ix_onarguana.html</span>                                                    <span style=\"color: #008080; text-decoration-color: #008080; font-weight: bold\">                 </span>\n",
       "</pre>\n"
      ],
      "text/plain": [
       "\u001b[2;36m                   \u001b[0m\u001b[2;36m \u001b[0m\u001b[1;32mSUCCESS \u001b[0m\u001b[1;32m \u001b[0m Successfully saved HTML to                                          \u001b]8;id=919893;file:///Users/gat/work/FA2024/embedding_translation/src/viz/save_figure.py\u001b\\\u001b[1;36msave_figure.py\u001b[0m\u001b]8;;\u001b\\\u001b[1;36m:\u001b[0m\u001b]8;id=761850;file:///Users/gat/work/FA2024/embedding_translation/src/viz/save_figure.py#40\u001b\\\u001b[1;36m40\u001b[0m\u001b]8;;\u001b\\\n",
       "\u001b[2;36m                    \u001b[0m\u001b[1;32m         \u001b[0m\u001b[35m/Users/gat/work/FA2024/embedding_translation/data/figs/html/\u001b[0m\u001b[95mmse_matr\u001b[0m \u001b[1;36m                 \u001b[0m\n",
       "\u001b[2;36m                    \u001b[0m\u001b[1;32m         \u001b[0m\u001b[95mix_onarguana.html\u001b[0m                                                    \u001b[1;36m                 \u001b[0m\n"
      ]
     },
     "metadata": {},
     "output_type": "display_data"
    },
    {
     "data": {
      "text/html": [
       "<pre style=\"white-space:pre;overflow-x:auto;line-height:normal;font-family:Menlo,'DejaVu Sans Mono',consolas,'Courier New',monospace\"><span style=\"color: #7fbfbf; text-decoration-color: #7fbfbf\">                    </span><span style=\"color: #000080; text-decoration-color: #000080; font-weight: bold\">INFO    </span><span style=\"color: #008000; text-decoration-color: #008000; font-weight: bold\"> </span> Saving PNG figure to                                                <a href=\"file:///Users/gat/work/FA2024/embedding_translation/src/viz/save_figure.py\" target=\"_blank\"><span style=\"color: #008080; text-decoration-color: #008080; font-weight: bold\">save_figure.py</span></a><span style=\"color: #008080; text-decoration-color: #008080; font-weight: bold\">:</span><a href=\"file:///Users/gat/work/FA2024/embedding_translation/src/viz/save_figure.py#67\" target=\"_blank\"><span style=\"color: #008080; text-decoration-color: #008080; font-weight: bold\">67</span></a>\n",
       "<span style=\"color: #7fbfbf; text-decoration-color: #7fbfbf\">                    </span><span style=\"color: #008000; text-decoration-color: #008000; font-weight: bold\">         </span><span style=\"color: #800080; text-decoration-color: #800080\">/Users/gat/work/FA2024/embedding_translation/data/figs/imgs/</span><span style=\"color: #ff00ff; text-decoration-color: #ff00ff\">mse_matr</span> <span style=\"color: #008080; text-decoration-color: #008080; font-weight: bold\">                 </span>\n",
       "<span style=\"color: #7fbfbf; text-decoration-color: #7fbfbf\">                    </span><span style=\"color: #008000; text-decoration-color: #008000; font-weight: bold\">         </span><span style=\"color: #ff00ff; text-decoration-color: #ff00ff\">ix_onarguana.png</span>                                                     <span style=\"color: #008080; text-decoration-color: #008080; font-weight: bold\">                 </span>\n",
       "</pre>\n"
      ],
      "text/plain": [
       "\u001b[2;36m                   \u001b[0m\u001b[2;36m \u001b[0m\u001b[1;34mINFO    \u001b[0m\u001b[1;32m \u001b[0m Saving PNG figure to                                                \u001b]8;id=929176;file:///Users/gat/work/FA2024/embedding_translation/src/viz/save_figure.py\u001b\\\u001b[1;36msave_figure.py\u001b[0m\u001b]8;;\u001b\\\u001b[1;36m:\u001b[0m\u001b]8;id=441726;file:///Users/gat/work/FA2024/embedding_translation/src/viz/save_figure.py#67\u001b\\\u001b[1;36m67\u001b[0m\u001b]8;;\u001b\\\n",
       "\u001b[2;36m                    \u001b[0m\u001b[1;32m         \u001b[0m\u001b[35m/Users/gat/work/FA2024/embedding_translation/data/figs/imgs/\u001b[0m\u001b[95mmse_matr\u001b[0m \u001b[1;36m                 \u001b[0m\n",
       "\u001b[2;36m                    \u001b[0m\u001b[1;32m         \u001b[0m\u001b[95mix_onarguana.png\u001b[0m                                                     \u001b[1;36m                 \u001b[0m\n"
      ]
     },
     "metadata": {},
     "output_type": "display_data"
    },
    {
     "data": {
      "text/html": [
       "<pre style=\"white-space:pre;overflow-x:auto;line-height:normal;font-family:Menlo,'DejaVu Sans Mono',consolas,'Courier New',monospace\"><span style=\"color: #7fbfbf; text-decoration-color: #7fbfbf\">                    </span><span style=\"color: #008000; text-decoration-color: #008000; font-weight: bold\">SUCCESS  </span> Successfully saved PNG to                                           <a href=\"file:///Users/gat/work/FA2024/embedding_translation/src/viz/save_figure.py\" target=\"_blank\"><span style=\"color: #008080; text-decoration-color: #008080; font-weight: bold\">save_figure.py</span></a><span style=\"color: #008080; text-decoration-color: #008080; font-weight: bold\">:</span><a href=\"file:///Users/gat/work/FA2024/embedding_translation/src/viz/save_figure.py#76\" target=\"_blank\"><span style=\"color: #008080; text-decoration-color: #008080; font-weight: bold\">76</span></a>\n",
       "<span style=\"color: #7fbfbf; text-decoration-color: #7fbfbf\">                    </span><span style=\"color: #008000; text-decoration-color: #008000; font-weight: bold\">         </span><span style=\"color: #800080; text-decoration-color: #800080\">/Users/gat/work/FA2024/embedding_translation/data/figs/imgs/</span><span style=\"color: #ff00ff; text-decoration-color: #ff00ff\">mse_matr</span> <span style=\"color: #008080; text-decoration-color: #008080; font-weight: bold\">                 </span>\n",
       "<span style=\"color: #7fbfbf; text-decoration-color: #7fbfbf\">                    </span><span style=\"color: #008000; text-decoration-color: #008000; font-weight: bold\">         </span><span style=\"color: #ff00ff; text-decoration-color: #ff00ff\">ix_onarguana.png</span>                                                     <span style=\"color: #008080; text-decoration-color: #008080; font-weight: bold\">                 </span>\n",
       "</pre>\n"
      ],
      "text/plain": [
       "\u001b[2;36m                   \u001b[0m\u001b[2;36m \u001b[0m\u001b[1;32mSUCCESS \u001b[0m\u001b[1;32m \u001b[0m Successfully saved PNG to                                           \u001b]8;id=631854;file:///Users/gat/work/FA2024/embedding_translation/src/viz/save_figure.py\u001b\\\u001b[1;36msave_figure.py\u001b[0m\u001b]8;;\u001b\\\u001b[1;36m:\u001b[0m\u001b]8;id=438468;file:///Users/gat/work/FA2024/embedding_translation/src/viz/save_figure.py#76\u001b\\\u001b[1;36m76\u001b[0m\u001b]8;;\u001b\\\n",
       "\u001b[2;36m                    \u001b[0m\u001b[1;32m         \u001b[0m\u001b[35m/Users/gat/work/FA2024/embedding_translation/data/figs/imgs/\u001b[0m\u001b[95mmse_matr\u001b[0m \u001b[1;36m                 \u001b[0m\n",
       "\u001b[2;36m                    \u001b[0m\u001b[1;32m         \u001b[0m\u001b[95mix_onarguana.png\u001b[0m                                                     \u001b[1;36m                 \u001b[0m\n"
      ]
     },
     "metadata": {},
     "output_type": "display_data"
    },
    {
     "data": {
      "text/html": [
       "<pre style=\"white-space:pre;overflow-x:auto;line-height:normal;font-family:Menlo,'DejaVu Sans Mono',consolas,'Courier New',monospace\"><span style=\"color: #7fbfbf; text-decoration-color: #7fbfbf\">                    </span><span style=\"color: #000080; text-decoration-color: #000080; font-weight: bold\">INFO    </span><span style=\"color: #008000; text-decoration-color: #008000; font-weight: bold\"> </span> Starting heatmap visualization process                            <a href=\"file:///Users/gat/work/FA2024/embedding_translation/src/viz/plot_heatmap.py\" target=\"_blank\"><span style=\"color: #008080; text-decoration-color: #008080; font-weight: bold\">plot_heatmap.py</span></a><span style=\"color: #008080; text-decoration-color: #008080; font-weight: bold\">:</span><a href=\"file:///Users/gat/work/FA2024/embedding_translation/src/viz/plot_heatmap.py#115\" target=\"_blank\"><span style=\"color: #008080; text-decoration-color: #008080; font-weight: bold\">115</span></a>\n",
       "</pre>\n"
      ],
      "text/plain": [
       "\u001b[2;36m                   \u001b[0m\u001b[2;36m \u001b[0m\u001b[1;34mINFO    \u001b[0m\u001b[1;32m \u001b[0m Starting heatmap visualization process                            \u001b]8;id=387867;file:///Users/gat/work/FA2024/embedding_translation/src/viz/plot_heatmap.py\u001b\\\u001b[1;36mplot_heatmap.py\u001b[0m\u001b]8;;\u001b\\\u001b[1;36m:\u001b[0m\u001b]8;id=513;file:///Users/gat/work/FA2024/embedding_translation/src/viz/plot_heatmap.py#115\u001b\\\u001b[1;36m115\u001b[0m\u001b]8;;\u001b\\\n"
      ]
     },
     "metadata": {},
     "output_type": "display_data"
    },
    {
     "data": {
      "text/html": [
       "<pre style=\"white-space:pre;overflow-x:auto;line-height:normal;font-family:Menlo,'DejaVu Sans Mono',consolas,'Courier New',monospace\"><span style=\"color: #7fbfbf; text-decoration-color: #7fbfbf\">                    </span><span style=\"color: #000080; text-decoration-color: #000080; font-weight: bold\">INFO    </span><span style=\"color: #008000; text-decoration-color: #008000; font-weight: bold\"> </span> Creating heatmap visualization<span style=\"color: #808000; text-decoration-color: #808000\">...</span>                                  <a href=\"file:///Users/gat/work/FA2024/embedding_translation/src/viz/plot_heatmap.py\" target=\"_blank\"><span style=\"color: #008080; text-decoration-color: #008080; font-weight: bold\">plot_heatmap.py</span></a><span style=\"color: #008080; text-decoration-color: #008080; font-weight: bold\">:</span><a href=\"file:///Users/gat/work/FA2024/embedding_translation/src/viz/plot_heatmap.py#40\" target=\"_blank\"><span style=\"color: #008080; text-decoration-color: #008080; font-weight: bold\">40</span></a>\n",
       "</pre>\n"
      ],
      "text/plain": [
       "\u001b[2;36m                   \u001b[0m\u001b[2;36m \u001b[0m\u001b[1;34mINFO    \u001b[0m\u001b[1;32m \u001b[0m Creating heatmap visualization\u001b[33m...\u001b[0m                                  \u001b]8;id=908642;file:///Users/gat/work/FA2024/embedding_translation/src/viz/plot_heatmap.py\u001b\\\u001b[1;36mplot_heatmap.py\u001b[0m\u001b]8;;\u001b\\\u001b[1;36m:\u001b[0m\u001b]8;id=343633;file:///Users/gat/work/FA2024/embedding_translation/src/viz/plot_heatmap.py#40\u001b\\\u001b[1;36m40\u001b[0m\u001b]8;;\u001b\\\n"
      ]
     },
     "metadata": {},
     "output_type": "display_data"
    },
    {
     "data": {
      "text/html": [
       "<pre style=\"white-space:pre;overflow-x:auto;line-height:normal;font-family:Menlo,'DejaVu Sans Mono',consolas,'Courier New',monospace\"><span style=\"color: #7fbfbf; text-decoration-color: #7fbfbf\">                    </span><span style=\"color: #008000; text-decoration-color: #008000; font-weight: bold\">SUCCESS  </span> Heatmap created successfully                                       <a href=\"file:///Users/gat/work/FA2024/embedding_translation/src/viz/plot_heatmap.py\" target=\"_blank\"><span style=\"color: #008080; text-decoration-color: #008080; font-weight: bold\">plot_heatmap.py</span></a><span style=\"color: #008080; text-decoration-color: #008080; font-weight: bold\">:</span><a href=\"file:///Users/gat/work/FA2024/embedding_translation/src/viz/plot_heatmap.py#89\" target=\"_blank\"><span style=\"color: #008080; text-decoration-color: #008080; font-weight: bold\">89</span></a>\n",
       "</pre>\n"
      ],
      "text/plain": [
       "\u001b[2;36m                   \u001b[0m\u001b[2;36m \u001b[0m\u001b[1;32mSUCCESS \u001b[0m\u001b[1;32m \u001b[0m Heatmap created successfully                                       \u001b]8;id=228433;file:///Users/gat/work/FA2024/embedding_translation/src/viz/plot_heatmap.py\u001b\\\u001b[1;36mplot_heatmap.py\u001b[0m\u001b]8;;\u001b\\\u001b[1;36m:\u001b[0m\u001b]8;id=605385;file:///Users/gat/work/FA2024/embedding_translation/src/viz/plot_heatmap.py#89\u001b\\\u001b[1;36m89\u001b[0m\u001b]8;;\u001b\\\n"
      ]
     },
     "metadata": {},
     "output_type": "display_data"
    },
    {
     "data": {
      "text/html": [
       "<pre style=\"white-space:pre;overflow-x:auto;line-height:normal;font-family:Menlo,'DejaVu Sans Mono',consolas,'Courier New',monospace\"><span style=\"color: #7fbfbf; text-decoration-color: #7fbfbf\">                    </span><span style=\"color: #000080; text-decoration-color: #000080; font-weight: bold\">INFO    </span><span style=\"color: #008000; text-decoration-color: #008000; font-weight: bold\"> </span> Saving HTML figure to                                               <a href=\"file:///Users/gat/work/FA2024/embedding_translation/src/viz/save_figure.py\" target=\"_blank\"><span style=\"color: #008080; text-decoration-color: #008080; font-weight: bold\">save_figure.py</span></a><span style=\"color: #008080; text-decoration-color: #008080; font-weight: bold\">:</span><a href=\"file:///Users/gat/work/FA2024/embedding_translation/src/viz/save_figure.py#32\" target=\"_blank\"><span style=\"color: #008080; text-decoration-color: #008080; font-weight: bold\">32</span></a>\n",
       "<span style=\"color: #7fbfbf; text-decoration-color: #7fbfbf\">                    </span><span style=\"color: #008000; text-decoration-color: #008000; font-weight: bold\">         </span><span style=\"color: #800080; text-decoration-color: #800080\">/Users/gat/work/FA2024/embedding_translation/data/figs/html/</span><span style=\"color: #ff00ff; text-decoration-color: #ff00ff\">mae_matr</span> <span style=\"color: #008080; text-decoration-color: #008080; font-weight: bold\">                 </span>\n",
       "<span style=\"color: #7fbfbf; text-decoration-color: #7fbfbf\">                    </span><span style=\"color: #008000; text-decoration-color: #008000; font-weight: bold\">         </span><span style=\"color: #ff00ff; text-decoration-color: #ff00ff\">ix_onarguana.html</span>                                                    <span style=\"color: #008080; text-decoration-color: #008080; font-weight: bold\">                 </span>\n",
       "</pre>\n"
      ],
      "text/plain": [
       "\u001b[2;36m                   \u001b[0m\u001b[2;36m \u001b[0m\u001b[1;34mINFO    \u001b[0m\u001b[1;32m \u001b[0m Saving HTML figure to                                               \u001b]8;id=589489;file:///Users/gat/work/FA2024/embedding_translation/src/viz/save_figure.py\u001b\\\u001b[1;36msave_figure.py\u001b[0m\u001b]8;;\u001b\\\u001b[1;36m:\u001b[0m\u001b]8;id=254329;file:///Users/gat/work/FA2024/embedding_translation/src/viz/save_figure.py#32\u001b\\\u001b[1;36m32\u001b[0m\u001b]8;;\u001b\\\n",
       "\u001b[2;36m                    \u001b[0m\u001b[1;32m         \u001b[0m\u001b[35m/Users/gat/work/FA2024/embedding_translation/data/figs/html/\u001b[0m\u001b[95mmae_matr\u001b[0m \u001b[1;36m                 \u001b[0m\n",
       "\u001b[2;36m                    \u001b[0m\u001b[1;32m         \u001b[0m\u001b[95mix_onarguana.html\u001b[0m                                                    \u001b[1;36m                 \u001b[0m\n"
      ]
     },
     "metadata": {},
     "output_type": "display_data"
    },
    {
     "data": {
      "text/html": [
       "<pre style=\"white-space:pre;overflow-x:auto;line-height:normal;font-family:Menlo,'DejaVu Sans Mono',consolas,'Courier New',monospace\"><span style=\"color: #7fbfbf; text-decoration-color: #7fbfbf\">                    </span><span style=\"color: #008000; text-decoration-color: #008000; font-weight: bold\">SUCCESS  </span> Successfully saved HTML to                                          <a href=\"file:///Users/gat/work/FA2024/embedding_translation/src/viz/save_figure.py\" target=\"_blank\"><span style=\"color: #008080; text-decoration-color: #008080; font-weight: bold\">save_figure.py</span></a><span style=\"color: #008080; text-decoration-color: #008080; font-weight: bold\">:</span><a href=\"file:///Users/gat/work/FA2024/embedding_translation/src/viz/save_figure.py#40\" target=\"_blank\"><span style=\"color: #008080; text-decoration-color: #008080; font-weight: bold\">40</span></a>\n",
       "<span style=\"color: #7fbfbf; text-decoration-color: #7fbfbf\">                    </span><span style=\"color: #008000; text-decoration-color: #008000; font-weight: bold\">         </span><span style=\"color: #800080; text-decoration-color: #800080\">/Users/gat/work/FA2024/embedding_translation/data/figs/html/</span><span style=\"color: #ff00ff; text-decoration-color: #ff00ff\">mae_matr</span> <span style=\"color: #008080; text-decoration-color: #008080; font-weight: bold\">                 </span>\n",
       "<span style=\"color: #7fbfbf; text-decoration-color: #7fbfbf\">                    </span><span style=\"color: #008000; text-decoration-color: #008000; font-weight: bold\">         </span><span style=\"color: #ff00ff; text-decoration-color: #ff00ff\">ix_onarguana.html</span>                                                    <span style=\"color: #008080; text-decoration-color: #008080; font-weight: bold\">                 </span>\n",
       "</pre>\n"
      ],
      "text/plain": [
       "\u001b[2;36m                   \u001b[0m\u001b[2;36m \u001b[0m\u001b[1;32mSUCCESS \u001b[0m\u001b[1;32m \u001b[0m Successfully saved HTML to                                          \u001b]8;id=889348;file:///Users/gat/work/FA2024/embedding_translation/src/viz/save_figure.py\u001b\\\u001b[1;36msave_figure.py\u001b[0m\u001b]8;;\u001b\\\u001b[1;36m:\u001b[0m\u001b]8;id=632331;file:///Users/gat/work/FA2024/embedding_translation/src/viz/save_figure.py#40\u001b\\\u001b[1;36m40\u001b[0m\u001b]8;;\u001b\\\n",
       "\u001b[2;36m                    \u001b[0m\u001b[1;32m         \u001b[0m\u001b[35m/Users/gat/work/FA2024/embedding_translation/data/figs/html/\u001b[0m\u001b[95mmae_matr\u001b[0m \u001b[1;36m                 \u001b[0m\n",
       "\u001b[2;36m                    \u001b[0m\u001b[1;32m         \u001b[0m\u001b[95mix_onarguana.html\u001b[0m                                                    \u001b[1;36m                 \u001b[0m\n"
      ]
     },
     "metadata": {},
     "output_type": "display_data"
    },
    {
     "data": {
      "text/html": [
       "<pre style=\"white-space:pre;overflow-x:auto;line-height:normal;font-family:Menlo,'DejaVu Sans Mono',consolas,'Courier New',monospace\"><span style=\"color: #7fbfbf; text-decoration-color: #7fbfbf\">                    </span><span style=\"color: #000080; text-decoration-color: #000080; font-weight: bold\">INFO    </span><span style=\"color: #008000; text-decoration-color: #008000; font-weight: bold\"> </span> Saving PNG figure to                                                <a href=\"file:///Users/gat/work/FA2024/embedding_translation/src/viz/save_figure.py\" target=\"_blank\"><span style=\"color: #008080; text-decoration-color: #008080; font-weight: bold\">save_figure.py</span></a><span style=\"color: #008080; text-decoration-color: #008080; font-weight: bold\">:</span><a href=\"file:///Users/gat/work/FA2024/embedding_translation/src/viz/save_figure.py#67\" target=\"_blank\"><span style=\"color: #008080; text-decoration-color: #008080; font-weight: bold\">67</span></a>\n",
       "<span style=\"color: #7fbfbf; text-decoration-color: #7fbfbf\">                    </span><span style=\"color: #008000; text-decoration-color: #008000; font-weight: bold\">         </span><span style=\"color: #800080; text-decoration-color: #800080\">/Users/gat/work/FA2024/embedding_translation/data/figs/imgs/</span><span style=\"color: #ff00ff; text-decoration-color: #ff00ff\">mae_matr</span> <span style=\"color: #008080; text-decoration-color: #008080; font-weight: bold\">                 </span>\n",
       "<span style=\"color: #7fbfbf; text-decoration-color: #7fbfbf\">                    </span><span style=\"color: #008000; text-decoration-color: #008000; font-weight: bold\">         </span><span style=\"color: #ff00ff; text-decoration-color: #ff00ff\">ix_onarguana.png</span>                                                     <span style=\"color: #008080; text-decoration-color: #008080; font-weight: bold\">                 </span>\n",
       "</pre>\n"
      ],
      "text/plain": [
       "\u001b[2;36m                   \u001b[0m\u001b[2;36m \u001b[0m\u001b[1;34mINFO    \u001b[0m\u001b[1;32m \u001b[0m Saving PNG figure to                                                \u001b]8;id=362105;file:///Users/gat/work/FA2024/embedding_translation/src/viz/save_figure.py\u001b\\\u001b[1;36msave_figure.py\u001b[0m\u001b]8;;\u001b\\\u001b[1;36m:\u001b[0m\u001b]8;id=299170;file:///Users/gat/work/FA2024/embedding_translation/src/viz/save_figure.py#67\u001b\\\u001b[1;36m67\u001b[0m\u001b]8;;\u001b\\\n",
       "\u001b[2;36m                    \u001b[0m\u001b[1;32m         \u001b[0m\u001b[35m/Users/gat/work/FA2024/embedding_translation/data/figs/imgs/\u001b[0m\u001b[95mmae_matr\u001b[0m \u001b[1;36m                 \u001b[0m\n",
       "\u001b[2;36m                    \u001b[0m\u001b[1;32m         \u001b[0m\u001b[95mix_onarguana.png\u001b[0m                                                     \u001b[1;36m                 \u001b[0m\n"
      ]
     },
     "metadata": {},
     "output_type": "display_data"
    },
    {
     "data": {
      "text/html": [
       "<pre style=\"white-space:pre;overflow-x:auto;line-height:normal;font-family:Menlo,'DejaVu Sans Mono',consolas,'Courier New',monospace\"><span style=\"color: #7fbfbf; text-decoration-color: #7fbfbf\">                    </span><span style=\"color: #008000; text-decoration-color: #008000; font-weight: bold\">SUCCESS  </span> Successfully saved PNG to                                           <a href=\"file:///Users/gat/work/FA2024/embedding_translation/src/viz/save_figure.py\" target=\"_blank\"><span style=\"color: #008080; text-decoration-color: #008080; font-weight: bold\">save_figure.py</span></a><span style=\"color: #008080; text-decoration-color: #008080; font-weight: bold\">:</span><a href=\"file:///Users/gat/work/FA2024/embedding_translation/src/viz/save_figure.py#76\" target=\"_blank\"><span style=\"color: #008080; text-decoration-color: #008080; font-weight: bold\">76</span></a>\n",
       "<span style=\"color: #7fbfbf; text-decoration-color: #7fbfbf\">                    </span><span style=\"color: #008000; text-decoration-color: #008000; font-weight: bold\">         </span><span style=\"color: #800080; text-decoration-color: #800080\">/Users/gat/work/FA2024/embedding_translation/data/figs/imgs/</span><span style=\"color: #ff00ff; text-decoration-color: #ff00ff\">mae_matr</span> <span style=\"color: #008080; text-decoration-color: #008080; font-weight: bold\">                 </span>\n",
       "<span style=\"color: #7fbfbf; text-decoration-color: #7fbfbf\">                    </span><span style=\"color: #008000; text-decoration-color: #008000; font-weight: bold\">         </span><span style=\"color: #ff00ff; text-decoration-color: #ff00ff\">ix_onarguana.png</span>                                                     <span style=\"color: #008080; text-decoration-color: #008080; font-weight: bold\">                 </span>\n",
       "</pre>\n"
      ],
      "text/plain": [
       "\u001b[2;36m                   \u001b[0m\u001b[2;36m \u001b[0m\u001b[1;32mSUCCESS \u001b[0m\u001b[1;32m \u001b[0m Successfully saved PNG to                                           \u001b]8;id=843717;file:///Users/gat/work/FA2024/embedding_translation/src/viz/save_figure.py\u001b\\\u001b[1;36msave_figure.py\u001b[0m\u001b]8;;\u001b\\\u001b[1;36m:\u001b[0m\u001b]8;id=780607;file:///Users/gat/work/FA2024/embedding_translation/src/viz/save_figure.py#76\u001b\\\u001b[1;36m76\u001b[0m\u001b]8;;\u001b\\\n",
       "\u001b[2;36m                    \u001b[0m\u001b[1;32m         \u001b[0m\u001b[35m/Users/gat/work/FA2024/embedding_translation/data/figs/imgs/\u001b[0m\u001b[95mmae_matr\u001b[0m \u001b[1;36m                 \u001b[0m\n",
       "\u001b[2;36m                    \u001b[0m\u001b[1;32m         \u001b[0m\u001b[95mix_onarguana.png\u001b[0m                                                     \u001b[1;36m                 \u001b[0m\n"
      ]
     },
     "metadata": {},
     "output_type": "display_data"
    },
    {
     "data": {
      "text/html": [
       "<pre style=\"white-space:pre;overflow-x:auto;line-height:normal;font-family:Menlo,'DejaVu Sans Mono',consolas,'Courier New',monospace\"><span style=\"color: #7fbfbf; text-decoration-color: #7fbfbf\">                    </span><span style=\"color: #000080; text-decoration-color: #000080; font-weight: bold\">INFO    </span><span style=\"color: #008000; text-decoration-color: #008000; font-weight: bold\"> </span><span style=\"font-weight: bold\">[</span><span style=\"color: #008080; text-decoration-color: #008080; font-weight: bold\">2819754872.</span>py:<span style=\"color: #008080; text-decoration-color: #008080; font-weight: bold\">98</span><span style=\"font-weight: bold\">]</span> SUCCESS                                            <a href=\"file:///var/folders/6f/f4k9qbkd5nqfywwdhvwdtl5m0000gn/T/ipykernel_80562/2819754872.py\" target=\"_blank\"><span style=\"color: #008080; text-decoration-color: #008080; font-weight: bold\">2819754872.py</span></a><span style=\"color: #008080; text-decoration-color: #008080; font-weight: bold\">:</span><a href=\"file:///var/folders/6f/f4k9qbkd5nqfywwdhvwdtl5m0000gn/T/ipykernel_80562/2819754872.py#98\" target=\"_blank\"><span style=\"color: #008080; text-decoration-color: #008080; font-weight: bold\">98</span></a>\n",
       "</pre>\n"
      ],
      "text/plain": [
       "\u001b[2;36m                   \u001b[0m\u001b[2;36m \u001b[0m\u001b[1;34mINFO    \u001b[0m\u001b[1;32m \u001b[0m\u001b[1m[\u001b[0m\u001b[1;36m2819754872.\u001b[0mpy:\u001b[1;36m98\u001b[0m\u001b[1m]\u001b[0m SUCCESS                                            \u001b]8;id=475340;file:///var/folders/6f/f4k9qbkd5nqfywwdhvwdtl5m0000gn/T/ipykernel_80562/2819754872.py\u001b\\\u001b[1;36m2819754872.py\u001b[0m\u001b]8;;\u001b\\\u001b[1;36m:\u001b[0m\u001b]8;id=752952;file:///var/folders/6f/f4k9qbkd5nqfywwdhvwdtl5m0000gn/T/ipykernel_80562/2819754872.py#98\u001b\\\u001b[1;36m98\u001b[0m\u001b]8;;\u001b\\\n"
      ]
     },
     "metadata": {},
     "output_type": "display_data"
    }
   ],
   "source": [
    "from collection_utils import model2model_dimension\n",
    "from src.create_summaries_from_folder import ModelGenerator\n",
    "from src.create_summaries_from_folder import TrainingLogs\n",
    "from src.create_summaries_from_folder import save_figure\n",
    "from src.create_summaries_from_folder import visualize_heatmap\n",
    "\n",
    "\n",
    "### GET TRAINING LOGS ###\n",
    "train_loss_dir = PROJ_ROOT / \"data\" / \"arguana_loss\"\n",
    "train_logs_dir = PROJ_ROOT / \"data\" / \"arguana_loss_logs\"\n",
    "\n",
    "# Cached\n",
    "if train_logs_dir.exists():\n",
    "    train_values = ModelGenerator.load_data_as_train_logs(\n",
    "        train_logs_dir / \"arguana_loss_logs.json\"\n",
    "    )\n",
    "    train_values = train_values.model_dump()[\"logs\"]\n",
    "# Load\n",
    "else:\n",
    "    train_logs_dir.mkdir(parents=True, exist_ok=False)\n",
    "    train_values = ModelGenerator.get_train_logs(PROJ_ROOT / \"data\" / \"arguana_loss\")\n",
    "    anal_dump(\n",
    "        TrainingLogs(logs=train_values), \"arguana_loss_logs\", \"data/arguana_loss_logs\"\n",
    "    )\n",
    "\n",
    "logger.info(f\"Received {len(train_values)} training values\")\n",
    "matrix = ModelGenerator.get_mapping_from_train_values(train_values)\n",
    "\n",
    "# Create label dictionaries with relevant fields\n",
    "labels = [\n",
    "    {\n",
    "        \"org\": label.split(\"/\")[0],\n",
    "        \"dim\": model2model_dimension(label),\n",
    "        \"model\": label.split(\"/\")[1],\n",
    "        \"full\": label,\n",
    "    }\n",
    "    for label in matrix\n",
    "]\n",
    "\n",
    "# Sort by specified order (can be changed easily)\n",
    "sort_order = [\"dim\", \"org\", \"model\"]\n",
    "labels = sorted(labels, key=lambda x: tuple(x[k] for k in sort_order))\n",
    "\n",
    "# Format display labels using the sorted dictionaries\n",
    "display_labels = [\n",
    "    f\"({label['dim']}) {label['org']}/{label['model']}\" for label in labels\n",
    "]\n",
    "models = [f\"{label[\"full\"]}\" for label in labels]\n",
    "sorted_by = f\"Sorted by {', then '.join(sort_order)}\"\n",
    "\n",
    "for text_dataset_name in [\"arguana\"]:\n",
    "    architecture = train_values[0][\"info\"][\"mode\"]\n",
    "    ### MSE MATRIX ###\n",
    "    mse_matrix = ModelGenerator.get_mse_matrix_from_matrix(matrix, models)\n",
    "    fig = visualize_heatmap(\n",
    "        matrix=mse_matrix,\n",
    "        config={\n",
    "            \"row_labels\": display_labels,\n",
    "            \"col_labels\": display_labels,\n",
    "            \"title\": f\"MSE Matrix on {text_dataset_name}, (Architecture: {architecture})\\n{sorted_by}\",\n",
    "            \"xaxis_title\": \"Native Embedding Space\",\n",
    "            \"yaxis_title\": \"Target Embedding Space\",\n",
    "            \"value_format\": \".2e\",\n",
    "        },\n",
    "    )\n",
    "\n",
    "    fig[\"layout\"][\"yaxis\"][\"autorange\"] = \"reversed\"\n",
    "    fig.update_xaxes(side=\"top\")\n",
    "\n",
    "    save_figure(\n",
    "        fig, f\"mse_matrix_on{text_dataset_name}\", output_dir=PROJ_ROOT / \"data\" / \"figs\"\n",
    "    )\n",
    "\n",
    "    ### MAE MATRIX ###\n",
    "    mae_matrix = ModelGenerator.get_mae_matrix_from_matrix(matrix, models)\n",
    "    fig = visualize_heatmap(\n",
    "        matrix=mae_matrix,\n",
    "        config={\n",
    "            \"row_labels\": display_labels,\n",
    "            \"col_labels\": display_labels,\n",
    "            \"title\": f\"MAE Matrix on {text_dataset_name}  (Architecture: {architecture})\\n{sorted_by}\",\n",
    "            \"xaxis_title\": \"Native Embedding Space\",\n",
    "            \"yaxis_title\": \"Target Embedding Space\",\n",
    "            \"value_format\": \".2e\",\n",
    "        },\n",
    "    )\n",
    "\n",
    "    fig[\"layout\"][\"yaxis\"][\"autorange\"] = \"reversed\"\n",
    "    fig.update_xaxes(side=\"top\")\n",
    "\n",
    "    save_figure(\n",
    "        fig, f\"mae_matrix_on{text_dataset_name}\", output_dir=PROJ_ROOT / \"data\" / \"figs\"\n",
    "    )\n",
    "    # logger.info(mae_matrix)\n",
    "    logger.info(\"SUCCESS\")"
   ]
  }
 ],
 "metadata": {
  "accelerator": "GPU",
  "colab": {
   "gpuClass": "premium",
   "machine_shape": "hm",
   "provenance": []
  },
  "gpuClass": "premium",
  "kernelspec": {
   "display_name": "Python 3 (ipykernel)",
   "language": "python",
   "name": "python3"
  },
  "language_info": {
   "codemirror_mode": {
    "name": "ipython",
    "version": 3
   },
   "file_extension": ".py",
   "mimetype": "text/x-python",
   "name": "python",
   "nbconvert_exporter": "python",
   "pygments_lexer": "ipython3",
   "version": "3.12.8"
  }
 },
 "nbformat": 4,
 "nbformat_minor": 0
}
