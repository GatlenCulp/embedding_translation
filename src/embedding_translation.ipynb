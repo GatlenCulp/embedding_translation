{
 "cells": [
  {
   "cell_type": "markdown",
   "metadata": {
    "id": "i8bZ6tbFxqXs"
   },
   "source": [
    "# Embedding Translations\n"
   ]
  },
  {
   "cell_type": "markdown",
   "metadata": {},
   "source": [
    "see `plan.md` for more info\n"
   ]
  },
  {
   "cell_type": "markdown",
   "metadata": {},
   "source": [
    "# 01 Setup\n"
   ]
  },
  {
   "cell_type": "code",
   "execution_count": 1,
   "metadata": {},
   "outputs": [
    {
     "name": "stdout",
     "output_type": "stream",
     "text": [
      "Requirement already satisfied: torch in /Users/gat/work/FA2024/embedding_translation/.venv/lib/python3.12/site-packages (2.5.1)\n",
      "Requirement already satisfied: filelock in /Users/gat/work/FA2024/embedding_translation/.venv/lib/python3.12/site-packages (from torch) (3.16.1)\n",
      "Requirement already satisfied: typing-extensions>=4.8.0 in /Users/gat/work/FA2024/embedding_translation/.venv/lib/python3.12/site-packages (from torch) (4.12.2)\n",
      "Requirement already satisfied: networkx in /Users/gat/work/FA2024/embedding_translation/.venv/lib/python3.12/site-packages (from torch) (3.4.2)\n",
      "Requirement already satisfied: jinja2 in /Users/gat/work/FA2024/embedding_translation/.venv/lib/python3.12/site-packages (from torch) (3.1.4)\n",
      "Requirement already satisfied: fsspec in /Users/gat/work/FA2024/embedding_translation/.venv/lib/python3.12/site-packages (from torch) (2024.9.0)\n",
      "Requirement already satisfied: setuptools in /Users/gat/work/FA2024/embedding_translation/.venv/lib/python3.12/site-packages (from torch) (75.6.0)\n",
      "Requirement already satisfied: sympy==1.13.1 in /Users/gat/work/FA2024/embedding_translation/.venv/lib/python3.12/site-packages (from torch) (1.13.1)\n",
      "Requirement already satisfied: mpmath<1.4,>=1.1.0 in /Users/gat/work/FA2024/embedding_translation/.venv/lib/python3.12/site-packages (from sympy==1.13.1->torch) (1.3.0)\n",
      "Requirement already satisfied: MarkupSafe>=2.0 in /Users/gat/work/FA2024/embedding_translation/.venv/lib/python3.12/site-packages (from jinja2->torch) (3.0.2)\n",
      "Note: you may need to restart the kernel to use updated packages.\n",
      "Requirement already satisfied: torchvision in /Users/gat/work/FA2024/embedding_translation/.venv/lib/python3.12/site-packages (0.20.1)\n",
      "Requirement already satisfied: numpy in /Users/gat/work/FA2024/embedding_translation/.venv/lib/python3.12/site-packages (from torchvision) (1.26.4)\n",
      "Requirement already satisfied: torch==2.5.1 in /Users/gat/work/FA2024/embedding_translation/.venv/lib/python3.12/site-packages (from torchvision) (2.5.1)\n",
      "Requirement already satisfied: pillow!=8.3.*,>=5.3.0 in /Users/gat/work/FA2024/embedding_translation/.venv/lib/python3.12/site-packages (from torchvision) (11.0.0)\n",
      "Requirement already satisfied: filelock in /Users/gat/work/FA2024/embedding_translation/.venv/lib/python3.12/site-packages (from torch==2.5.1->torchvision) (3.16.1)\n",
      "Requirement already satisfied: typing-extensions>=4.8.0 in /Users/gat/work/FA2024/embedding_translation/.venv/lib/python3.12/site-packages (from torch==2.5.1->torchvision) (4.12.2)\n",
      "Requirement already satisfied: networkx in /Users/gat/work/FA2024/embedding_translation/.venv/lib/python3.12/site-packages (from torch==2.5.1->torchvision) (3.4.2)\n",
      "Requirement already satisfied: jinja2 in /Users/gat/work/FA2024/embedding_translation/.venv/lib/python3.12/site-packages (from torch==2.5.1->torchvision) (3.1.4)\n",
      "Requirement already satisfied: fsspec in /Users/gat/work/FA2024/embedding_translation/.venv/lib/python3.12/site-packages (from torch==2.5.1->torchvision) (2024.9.0)\n",
      "Requirement already satisfied: setuptools in /Users/gat/work/FA2024/embedding_translation/.venv/lib/python3.12/site-packages (from torch==2.5.1->torchvision) (75.6.0)\n",
      "Requirement already satisfied: sympy==1.13.1 in /Users/gat/work/FA2024/embedding_translation/.venv/lib/python3.12/site-packages (from torch==2.5.1->torchvision) (1.13.1)\n",
      "Requirement already satisfied: mpmath<1.4,>=1.1.0 in /Users/gat/work/FA2024/embedding_translation/.venv/lib/python3.12/site-packages (from sympy==1.13.1->torch==2.5.1->torchvision) (1.3.0)\n",
      "Requirement already satisfied: MarkupSafe>=2.0 in /Users/gat/work/FA2024/embedding_translation/.venv/lib/python3.12/site-packages (from jinja2->torch==2.5.1->torchvision) (3.0.2)\n",
      "Note: you may need to restart the kernel to use updated packages.\n",
      "Requirement already satisfied: torchaudio in /Users/gat/work/FA2024/embedding_translation/.venv/lib/python3.12/site-packages (2.5.1)\n",
      "Requirement already satisfied: torch==2.5.1 in /Users/gat/work/FA2024/embedding_translation/.venv/lib/python3.12/site-packages (from torchaudio) (2.5.1)\n",
      "Requirement already satisfied: filelock in /Users/gat/work/FA2024/embedding_translation/.venv/lib/python3.12/site-packages (from torch==2.5.1->torchaudio) (3.16.1)\n",
      "Requirement already satisfied: typing-extensions>=4.8.0 in /Users/gat/work/FA2024/embedding_translation/.venv/lib/python3.12/site-packages (from torch==2.5.1->torchaudio) (4.12.2)\n",
      "Requirement already satisfied: networkx in /Users/gat/work/FA2024/embedding_translation/.venv/lib/python3.12/site-packages (from torch==2.5.1->torchaudio) (3.4.2)\n",
      "Requirement already satisfied: jinja2 in /Users/gat/work/FA2024/embedding_translation/.venv/lib/python3.12/site-packages (from torch==2.5.1->torchaudio) (3.1.4)\n",
      "Requirement already satisfied: fsspec in /Users/gat/work/FA2024/embedding_translation/.venv/lib/python3.12/site-packages (from torch==2.5.1->torchaudio) (2024.9.0)\n",
      "Requirement already satisfied: setuptools in /Users/gat/work/FA2024/embedding_translation/.venv/lib/python3.12/site-packages (from torch==2.5.1->torchaudio) (75.6.0)\n",
      "Requirement already satisfied: sympy==1.13.1 in /Users/gat/work/FA2024/embedding_translation/.venv/lib/python3.12/site-packages (from torch==2.5.1->torchaudio) (1.13.1)\n",
      "Requirement already satisfied: mpmath<1.4,>=1.1.0 in /Users/gat/work/FA2024/embedding_translation/.venv/lib/python3.12/site-packages (from sympy==1.13.1->torch==2.5.1->torchaudio) (1.3.0)\n",
      "Requirement already satisfied: MarkupSafe>=2.0 in /Users/gat/work/FA2024/embedding_translation/.venv/lib/python3.12/site-packages (from jinja2->torch==2.5.1->torchaudio) (3.0.2)\n",
      "Note: you may need to restart the kernel to use updated packages.\n",
      "Requirement already satisfied: datasets in /Users/gat/work/FA2024/embedding_translation/.venv/lib/python3.12/site-packages (3.1.0)\n",
      "Requirement already satisfied: filelock in /Users/gat/work/FA2024/embedding_translation/.venv/lib/python3.12/site-packages (from datasets) (3.16.1)\n",
      "Requirement already satisfied: numpy>=1.17 in /Users/gat/work/FA2024/embedding_translation/.venv/lib/python3.12/site-packages (from datasets) (1.26.4)\n",
      "Requirement already satisfied: pyarrow>=15.0.0 in /Users/gat/work/FA2024/embedding_translation/.venv/lib/python3.12/site-packages (from datasets) (18.1.0)\n",
      "Requirement already satisfied: dill<0.3.9,>=0.3.0 in /Users/gat/work/FA2024/embedding_translation/.venv/lib/python3.12/site-packages (from datasets) (0.3.8)\n",
      "Requirement already satisfied: pandas in /Users/gat/work/FA2024/embedding_translation/.venv/lib/python3.12/site-packages (from datasets) (2.2.3)\n",
      "Requirement already satisfied: requests>=2.32.2 in /Users/gat/work/FA2024/embedding_translation/.venv/lib/python3.12/site-packages (from datasets) (2.32.3)\n",
      "Requirement already satisfied: tqdm>=4.66.3 in /Users/gat/work/FA2024/embedding_translation/.venv/lib/python3.12/site-packages (from datasets) (4.67.1)\n",
      "Requirement already satisfied: xxhash in /Users/gat/work/FA2024/embedding_translation/.venv/lib/python3.12/site-packages (from datasets) (3.5.0)\n",
      "Requirement already satisfied: multiprocess<0.70.17 in /Users/gat/work/FA2024/embedding_translation/.venv/lib/python3.12/site-packages (from datasets) (0.70.16)\n",
      "Requirement already satisfied: fsspec<=2024.9.0,>=2023.1.0 in /Users/gat/work/FA2024/embedding_translation/.venv/lib/python3.12/site-packages (from fsspec[http]<=2024.9.0,>=2023.1.0->datasets) (2024.9.0)\n",
      "Requirement already satisfied: aiohttp in /Users/gat/work/FA2024/embedding_translation/.venv/lib/python3.12/site-packages (from datasets) (3.11.10)\n",
      "Requirement already satisfied: huggingface-hub>=0.23.0 in /Users/gat/work/FA2024/embedding_translation/.venv/lib/python3.12/site-packages (from datasets) (0.26.5)\n",
      "Requirement already satisfied: packaging in /Users/gat/work/FA2024/embedding_translation/.venv/lib/python3.12/site-packages (from datasets) (24.2)\n",
      "Requirement already satisfied: pyyaml>=5.1 in /Users/gat/work/FA2024/embedding_translation/.venv/lib/python3.12/site-packages (from datasets) (6.0.2)\n",
      "Requirement already satisfied: aiohappyeyeballs>=2.3.0 in /Users/gat/work/FA2024/embedding_translation/.venv/lib/python3.12/site-packages (from aiohttp->datasets) (2.4.4)\n",
      "Requirement already satisfied: aiosignal>=1.1.2 in /Users/gat/work/FA2024/embedding_translation/.venv/lib/python3.12/site-packages (from aiohttp->datasets) (1.3.1)\n",
      "Requirement already satisfied: attrs>=17.3.0 in /Users/gat/work/FA2024/embedding_translation/.venv/lib/python3.12/site-packages (from aiohttp->datasets) (24.2.0)\n",
      "Requirement already satisfied: frozenlist>=1.1.1 in /Users/gat/work/FA2024/embedding_translation/.venv/lib/python3.12/site-packages (from aiohttp->datasets) (1.5.0)\n",
      "Requirement already satisfied: multidict<7.0,>=4.5 in /Users/gat/work/FA2024/embedding_translation/.venv/lib/python3.12/site-packages (from aiohttp->datasets) (6.1.0)\n",
      "Requirement already satisfied: propcache>=0.2.0 in /Users/gat/work/FA2024/embedding_translation/.venv/lib/python3.12/site-packages (from aiohttp->datasets) (0.2.1)\n",
      "Requirement already satisfied: yarl<2.0,>=1.17.0 in /Users/gat/work/FA2024/embedding_translation/.venv/lib/python3.12/site-packages (from aiohttp->datasets) (1.18.3)\n",
      "Requirement already satisfied: typing-extensions>=3.7.4.3 in /Users/gat/work/FA2024/embedding_translation/.venv/lib/python3.12/site-packages (from huggingface-hub>=0.23.0->datasets) (4.12.2)\n",
      "Requirement already satisfied: charset-normalizer<4,>=2 in /Users/gat/work/FA2024/embedding_translation/.venv/lib/python3.12/site-packages (from requests>=2.32.2->datasets) (3.4.0)\n",
      "Requirement already satisfied: idna<4,>=2.5 in /Users/gat/work/FA2024/embedding_translation/.venv/lib/python3.12/site-packages (from requests>=2.32.2->datasets) (3.10)\n",
      "Requirement already satisfied: urllib3<3,>=1.21.1 in /Users/gat/work/FA2024/embedding_translation/.venv/lib/python3.12/site-packages (from requests>=2.32.2->datasets) (2.2.3)\n",
      "Requirement already satisfied: certifi>=2017.4.17 in /Users/gat/work/FA2024/embedding_translation/.venv/lib/python3.12/site-packages (from requests>=2.32.2->datasets) (2024.8.30)\n",
      "Requirement already satisfied: python-dateutil>=2.8.2 in /Users/gat/work/FA2024/embedding_translation/.venv/lib/python3.12/site-packages (from pandas->datasets) (2.9.0.post0)\n",
      "Requirement already satisfied: pytz>=2020.1 in /Users/gat/work/FA2024/embedding_translation/.venv/lib/python3.12/site-packages (from pandas->datasets) (2024.2)\n",
      "Requirement already satisfied: tzdata>=2022.7 in /Users/gat/work/FA2024/embedding_translation/.venv/lib/python3.12/site-packages (from pandas->datasets) (2024.2)\n",
      "Requirement already satisfied: six>=1.5 in /Users/gat/work/FA2024/embedding_translation/.venv/lib/python3.12/site-packages (from python-dateutil>=2.8.2->pandas->datasets) (1.17.0)\n",
      "Note: you may need to restart the kernel to use updated packages.\n",
      "Requirement already satisfied: click in /Users/gat/work/FA2024/embedding_translation/.venv/lib/python3.12/site-packages (8.1.7)\n",
      "Note: you may need to restart the kernel to use updated packages.\n",
      "Requirement already satisfied: scikit-learn in /Users/gat/work/FA2024/embedding_translation/.venv/lib/python3.12/site-packages (1.5.2)\n",
      "Requirement already satisfied: numpy>=1.19.5 in /Users/gat/work/FA2024/embedding_translation/.venv/lib/python3.12/site-packages (from scikit-learn) (1.26.4)\n",
      "Requirement already satisfied: scipy>=1.6.0 in /Users/gat/work/FA2024/embedding_translation/.venv/lib/python3.12/site-packages (from scikit-learn) (1.14.1)\n",
      "Requirement already satisfied: joblib>=1.2.0 in /Users/gat/work/FA2024/embedding_translation/.venv/lib/python3.12/site-packages (from scikit-learn) (1.4.2)\n",
      "Requirement already satisfied: threadpoolctl>=3.1.0 in /Users/gat/work/FA2024/embedding_translation/.venv/lib/python3.12/site-packages (from scikit-learn) (3.5.0)\n",
      "Note: you may need to restart the kernel to use updated packages.\n",
      "Requirement already satisfied: plotly in /Users/gat/work/FA2024/embedding_translation/.venv/lib/python3.12/site-packages (5.24.1)\n",
      "Requirement already satisfied: tenacity>=6.2.0 in /Users/gat/work/FA2024/embedding_translation/.venv/lib/python3.12/site-packages (from plotly) (9.0.0)\n",
      "Requirement already satisfied: packaging in /Users/gat/work/FA2024/embedding_translation/.venv/lib/python3.12/site-packages (from plotly) (24.2)\n",
      "Note: you may need to restart the kernel to use updated packages.\n",
      "Requirement already satisfied: seaborn in /Users/gat/work/FA2024/embedding_translation/.venv/lib/python3.12/site-packages (0.13.2)\n",
      "Requirement already satisfied: numpy!=1.24.0,>=1.20 in /Users/gat/work/FA2024/embedding_translation/.venv/lib/python3.12/site-packages (from seaborn) (1.26.4)\n",
      "Requirement already satisfied: pandas>=1.2 in /Users/gat/work/FA2024/embedding_translation/.venv/lib/python3.12/site-packages (from seaborn) (2.2.3)\n",
      "Requirement already satisfied: matplotlib!=3.6.1,>=3.4 in /Users/gat/work/FA2024/embedding_translation/.venv/lib/python3.12/site-packages (from seaborn) (3.9.3)\n",
      "Requirement already satisfied: contourpy>=1.0.1 in /Users/gat/work/FA2024/embedding_translation/.venv/lib/python3.12/site-packages (from matplotlib!=3.6.1,>=3.4->seaborn) (1.3.1)\n",
      "Requirement already satisfied: cycler>=0.10 in /Users/gat/work/FA2024/embedding_translation/.venv/lib/python3.12/site-packages (from matplotlib!=3.6.1,>=3.4->seaborn) (0.12.1)\n",
      "Requirement already satisfied: fonttools>=4.22.0 in /Users/gat/work/FA2024/embedding_translation/.venv/lib/python3.12/site-packages (from matplotlib!=3.6.1,>=3.4->seaborn) (4.55.3)\n",
      "Requirement already satisfied: kiwisolver>=1.3.1 in /Users/gat/work/FA2024/embedding_translation/.venv/lib/python3.12/site-packages (from matplotlib!=3.6.1,>=3.4->seaborn) (1.4.7)\n",
      "Requirement already satisfied: packaging>=20.0 in /Users/gat/work/FA2024/embedding_translation/.venv/lib/python3.12/site-packages (from matplotlib!=3.6.1,>=3.4->seaborn) (24.2)\n",
      "Requirement already satisfied: pillow>=8 in /Users/gat/work/FA2024/embedding_translation/.venv/lib/python3.12/site-packages (from matplotlib!=3.6.1,>=3.4->seaborn) (11.0.0)\n",
      "Requirement already satisfied: pyparsing>=2.3.1 in /Users/gat/work/FA2024/embedding_translation/.venv/lib/python3.12/site-packages (from matplotlib!=3.6.1,>=3.4->seaborn) (3.2.0)\n",
      "Requirement already satisfied: python-dateutil>=2.7 in /Users/gat/work/FA2024/embedding_translation/.venv/lib/python3.12/site-packages (from matplotlib!=3.6.1,>=3.4->seaborn) (2.9.0.post0)\n",
      "Requirement already satisfied: pytz>=2020.1 in /Users/gat/work/FA2024/embedding_translation/.venv/lib/python3.12/site-packages (from pandas>=1.2->seaborn) (2024.2)\n",
      "Requirement already satisfied: tzdata>=2022.7 in /Users/gat/work/FA2024/embedding_translation/.venv/lib/python3.12/site-packages (from pandas>=1.2->seaborn) (2024.2)\n",
      "Requirement already satisfied: six>=1.5 in /Users/gat/work/FA2024/embedding_translation/.venv/lib/python3.12/site-packages (from python-dateutil>=2.7->matplotlib!=3.6.1,>=3.4->seaborn) (1.17.0)\n",
      "Note: you may need to restart the kernel to use updated packages.\n"
     ]
    }
   ],
   "source": [
    "### LOCAL INSTALLS ###\n",
    "%pip install torch\n",
    "%pip install torchvision\n",
    "%pip install torchaudio\n",
    "%pip install datasets\n",
    "%pip install click\n",
    "%pip install scikit-learn\n",
    "%pip install plotly\n",
    "%pip install seaborn"
   ]
  },
  {
   "cell_type": "code",
   "execution_count": 2,
   "metadata": {
    "colab": {
     "base_uri": "https://localhost:8080/"
    },
    "id": "HVvUGz4-5QRQ",
    "outputId": "f8659746-cbfe-4950-b0c2-0f04f3c4c0e6"
   },
   "outputs": [
    {
     "name": "stdout",
     "output_type": "stream",
     "text": [
      "PyTorch version: 2.5.1\n",
      "CUDA available: False\n"
     ]
    }
   ],
   "source": [
    "### GENERAL IMPORTS ###\n",
    "\n",
    "### ML IMPORTS ###\n",
    "import torch\n",
    "from datasets import load_dataset\n",
    "from torch import nn\n",
    "\n",
    "\n",
    "from src.viz.owl_metrics import calculate_metric\n",
    "\n",
    "\n",
    "print(f\"PyTorch version: {torch.__version__}\")\n",
    "print(f\"CUDA available: {torch.cuda.is_available()}\")\n",
    "\n",
    "\n",
    "device = torch.device(\"cuda:0\")\n",
    "# assert torch.cuda.is_available()"
   ]
  },
  {
   "cell_type": "code",
   "execution_count": 3,
   "metadata": {},
   "outputs": [],
   "source": [
    "\"\"\"owler metrics document.\"\"\"\n",
    "\n",
    "import random\n",
    "from typing import Any\n",
    "\n",
    "import click\n",
    "import numpy as np\n",
    "import plotly.express as px\n",
    "import torch\n",
    "from sklearn.neighbors import NearestNeighbors\n",
    "from torch.nn.functional import cosine_similarity\n",
    "from torch.nn.functional import pairwise_distance\n",
    "\n",
    "\n",
    "COSINE = \"cosine\"\n",
    "EUCLIDEAN = \"euclidean\"\n",
    "JACCARD = \"jaccard\"\n",
    "RANK = \"rank\"\n",
    "CKA = \"cka\"\n",
    "AVAILABLE_METRICS = [COSINE, EUCLIDEAN, JACCARD, RANK, CKA]\n",
    "MATCH_DIM_METRICS = [COSINE, EUCLIDEAN]\n",
    "NEAREST_NEIGHBORS = [JACCARD, RANK]\n",
    "\n",
    "\n",
    "def _pairwise_similarity(\n",
    "    embeds1: torch.Tensor, embeds2: torch.Tensor, metric: str, device: torch.device\n",
    ") -> torch.Tensor:\n",
    "    \"\"\"Calculates the pairwise cosine similarity or Euclidean distance between the given tensors.\n",
    "\n",
    "    :param embeds1: The first tensors of dimension (N, D).\n",
    "    :param embeds2: The second tensors of dimension (N, D).\n",
    "    :param metric: The metric to be used.\n",
    "    :param device: The device on which calculations are performed.\n",
    "    :return: The calculated pairwise scores.\n",
    "    \"\"\"\n",
    "    if metric == COSINE:\n",
    "        return cosine_similarity(embeds1.to(device), embeds2.to(device))\n",
    "    if metric == EUCLIDEAN:\n",
    "        return pairwise_distance(embeds1.to(device), embeds2.to(device))\n",
    "    raise NotImplementedError(f\"Provided unsupported metric {metric} for pairwise similarity!\")\n",
    "\n",
    "\n",
    "def _mean_pairwise_similarity(\n",
    "    embeds1: torch.Tensor, embeds2: torch.Tensor, metric: str, batch_size: int, device: torch.device\n",
    ") -> torch.Tensor:\n",
    "    \"\"\"Calculates the pairwise cosine similarity or Euclidean distance between batches of the given tensors and sums them\n",
    "    up. In the end, the mean score is returned.\n",
    "\n",
    "    :param embeds1: A tensor of dimension (N, D).\n",
    "    :param embeds2: A tensor of dimension (N, D).\n",
    "    :param metric: The metric to use for calculating the pairwise scores.\n",
    "    :param batch_size: The batch size used to split the tensors.\n",
    "    :param device: The device on which calculations should be performed.\n",
    "    :return: The mean score over all batches.\n",
    "    \"\"\"\n",
    "    assert embeds1.shape == embeds2.shape\n",
    "    embeds1_batches = embeds1.split(batch_size)\n",
    "    embeds2_batches = embeds2.split(batch_size)\n",
    "    total = 0\n",
    "    sims = []\n",
    "    for embed1, embed2 in zip(embeds1_batches, embeds2_batches, strict=False):\n",
    "        sim = _pairwise_similarity(embed1, embed2, metric, device)\n",
    "        sims = sims + sim.detach().cpu().tolist()\n",
    "        total += torch.sum(sim).detach().cpu()\n",
    "    text = \"Cosine Similarities\" if metric is COSINE else \"Euclidean Distance\"\n",
    "    fig = px.histogram(x=sims, labels={\"x\": text}, title=f\"{text} Distribution\")\n",
    "    return total / len(embeds1), fig\n",
    "\n",
    "\n",
    "def _jaccard_sim(indices1: np.ndarray, indices2: np.ndarray) -> np.float64:\n",
    "    \"\"\"Calculates the Jaccard similarity between two 2D arrays by dividing the number of overlapping entries by the union\n",
    "    of entries per row. The mean score over all rows is returned in the end.\n",
    "\n",
    "    :param indices1: The first array of indices of shape (N, D).\n",
    "    :param indices2: The second array of indices of shape (N, D).\n",
    "    :return: The mean Jaccard similarity.\n",
    "    \"\"\"\n",
    "    inds = np.concatenate((indices1, indices2), axis=1)\n",
    "    len_union = np.array([len(np.unique(i)) for i in inds])\n",
    "    len_intersection = np.array(\n",
    "        [len(set(i).intersection(set(j))) for i, j in zip(indices1, indices2, strict=False)]\n",
    "    )\n",
    "    return np.mean(len_intersection / len_union)\n",
    "\n",
    "\n",
    "def _get_rank_sum(indices1: np.ndarray, indices2: np.ndarray) -> Any:\n",
    "    \"\"\"Computes the sum term for rank similarity given the two 1D-arrays containing the indices of the k-nearest neighbors\n",
    "    of two sets of activations.\n",
    "\n",
    "    :param indices1: One row of indices calculated for the first set of activations.\n",
    "    :param indices2: One row of indices calculated for the second set of activations.\n",
    "    :return: The calculated rank sum.\n",
    "    \"\"\"\n",
    "    aux = np.concatenate((indices1, indices2))\n",
    "    aux_sort_indices = np.argsort(aux, kind=\"mergesort\")\n",
    "    aux = aux[aux_sort_indices]\n",
    "    mask = aux[1:] == aux[:-1]\n",
    "    ar1_indices = aux_sort_indices[:-1][mask] + 1\n",
    "    ar2_indices = aux_sort_indices[1:][mask] - indices1.size + 1\n",
    "    rank_sum = np.sum(\n",
    "        [2 / ((1 + abs(i - j)) * (i + j)) for i, j in zip(ar1_indices, ar2_indices, strict=False)]\n",
    "    )\n",
    "    return rank_sum\n",
    "\n",
    "\n",
    "def _rank_sim(indices1: np.ndarray, indices2: np.ndarray):\n",
    "    \"\"\"Computes the rank similarity between two sets of indices. Rank similarities are calculated for each pair of rows and\n",
    "    averaged.\n",
    "\n",
    "    :param indices1: The first array of indices of shape (N, D).\n",
    "    :param indices2: The second array of indices of shape (N, D).\n",
    "    :return: The mean rank similarity.\n",
    "    \"\"\"\n",
    "    rank_sums = [_get_rank_sum(i, j) for i, j in zip(indices1, indices2, strict=False)]\n",
    "    len_intersection = np.array(\n",
    "        [len(set(i).intersection(set(j))) for i, j in zip(indices1, indices2, strict=False)]\n",
    "    )\n",
    "    factors = []\n",
    "    for idx, elem1 in enumerate(len_intersection):\n",
    "        if elem1 > 0:\n",
    "            factors.append(1 / sum([1 / (i + 1) for i in range(int(elem1))]))\n",
    "        else:\n",
    "            factors.append(0)\n",
    "    res = np.array(factors) * np.array(rank_sums)\n",
    "    return np.mean(res)\n",
    "\n",
    "\n",
    "def nn_sim(indices1: np.ndarray, indices2: np.ndarray, metric: str) -> Any:\n",
    "    \"\"\"Calculates the similarity of two sets of indices representing the index of nearest neighbors using Jaccard or rank\n",
    "    similarity.\n",
    "\n",
    "    :param indices1: The first array of indices of shape (N, D).\n",
    "    :param indices2: The second array of indices of shape (N, D).\n",
    "    :return: The average similarity.\n",
    "    \"\"\"\n",
    "    if metric == JACCARD:\n",
    "        return _jaccard_sim(indices1, indices2)\n",
    "    return _rank_sim(indices1, indices2)\n",
    "\n",
    "\n",
    "def _nearest_neighbors(\n",
    "    embeds1: np.ndarray,\n",
    "    embeds2: np.ndarray,\n",
    "    queries1: np.ndarray,\n",
    "    queries2: np.ndarray,\n",
    "    metric: str,\n",
    "    k: int,\n",
    "    nn_function: str,\n",
    "    baseline: bool = False,\n",
    ") -> tuple[Any, None]:\n",
    "    \"\"\"Calculates the nearest neighbors for two sets of queries and returns the k indices of the closest embeddings for\n",
    "    each query. After obtaining the indices, their similarity is calculated.\n",
    "\n",
    "    :param embeds1: The first set of embeddings of shape (N, D1).\n",
    "    :param embeds2: The second set of embeddings of shape (N, D2).\n",
    "    :param queries1: The first set of queries of shape (M, D1).\n",
    "    :param queries2: The second set of queries of shape (M, D2).\n",
    "    :param metric: The metric to use for comparing nearest neighbors.\n",
    "    :param k: The number of nearest neighbors to retrieve.\n",
    "    :param nn_function: The metric to use for finding nearest neighbors.\n",
    "    :param baseline: Whether to compute a baseline score, default: False.\n",
    "    :return: A list of similarity scores of length k.\n",
    "    \"\"\"\n",
    "    neigh1 = NearestNeighbors(n_neighbors=k, metric=nn_function, algorithm=\"brute\")\n",
    "    neigh1.fit(embeds1)\n",
    "\n",
    "    neigh2 = NearestNeighbors(n_neighbors=k, metric=nn_function, algorithm=\"brute\")\n",
    "    neigh2.fit(embeds2)\n",
    "\n",
    "    indices1 = neigh1.kneighbors(queries1, n_neighbors=k, return_distance=False)\n",
    "    indices2 = neigh2.kneighbors(queries2, n_neighbors=k, return_distance=False)\n",
    "\n",
    "    if baseline:\n",
    "        np.random.shuffle(indices1)\n",
    "\n",
    "    sims = []\n",
    "\n",
    "    for i in range(k):\n",
    "        j = i + 1\n",
    "        sims.append(nn_sim(indices1[:, :j], indices2[:, :j], metric))\n",
    "    return sims, None\n",
    "\n",
    "\n",
    "# Code taken from https://haydn.fgl.dev/posts/a-better-index-of-similarity/\n",
    "def _cka(A: torch.Tensor, B: torch.Tensor) -> tuple[Any, None]:\n",
    "    # Mean center each neuron\n",
    "    A = A - torch.mean(A, dim=0, keepdim=True)\n",
    "    B = B - torch.mean(B, dim=0, keepdim=True)\n",
    "\n",
    "    dot_product_similarity = torch.linalg.norm(torch.matmul(A.t(), B)) ** 2\n",
    "\n",
    "    normalization_x = torch.linalg.norm(torch.matmul(A.t(), A))\n",
    "    normalization_y = torch.linalg.norm(torch.matmul(B.t(), B))\n",
    "\n",
    "    cka = dot_product_similarity / (normalization_x * normalization_y)\n",
    "\n",
    "    dot_product_similarity.detach()\n",
    "    normalization_x.detach()\n",
    "    normalization_y.detach()\n",
    "    A.detach()\n",
    "    B.detach()\n",
    "    del dot_product_similarity, normalization_x, normalization_y, A, B\n",
    "    return cka, None\n",
    "\n",
    "\n",
    "def _calculate_embed_metric(\n",
    "    embeds1: torch.Tensor,\n",
    "    embeds2: torch.Tensor,\n",
    "    queries1: np.ndarray,\n",
    "    queries2: np.ndarray,\n",
    "    metric: str,\n",
    "    batch_size: int,\n",
    "    device: torch.device,\n",
    "    k: int,\n",
    "    nn_function: str,\n",
    "    baseline: bool = False,\n",
    "):\n",
    "    \"\"\"Calculates the similarity between two embedding matrices using the given metric.\n",
    "\n",
    "    :param embeds1: Document embedding tensor of shape (N, D1).\n",
    "    :param embeds2: Document embedding tensor of shape (N, D1) if the metric requires matching dimensions or (N, D2).\n",
    "    :param queries1: Embedding of queries of shape (N, D1).\n",
    "    :param queries2: Embedding of queries of shape (N, D2).\n",
    "    :param metric: The metric to be used, required to be one of AVAILABLE_METRICS.\n",
    "    :param batch_size: The batch size used to calculate pairwise similarity.\n",
    "    :param device: The device on which calculations should be performed.\n",
    "    :param k: The number of nearest neighbors to retrieve for Jaccard or rank similarity.\n",
    "    :param nn_function: The function for determining nearest neighbors.\n",
    "    :param baseline: Whether to compute a baseline score, default: False.\n",
    "    :return: The calculated similarity.\n",
    "    \"\"\"\n",
    "    assert len(embeds1) == len(embeds2)\n",
    "\n",
    "    if metric in MATCH_DIM_METRICS:\n",
    "        return _mean_pairwise_similarity(embeds1, embeds2, metric, batch_size, device)\n",
    "    if metric in NEAREST_NEIGHBORS:\n",
    "        return _nearest_neighbors(\n",
    "            np.array(embeds1),\n",
    "            np.array(embeds2),\n",
    "            queries1,\n",
    "            queries2,\n",
    "            metric,\n",
    "            k,\n",
    "            nn_function,\n",
    "            baseline,\n",
    "        )\n",
    "    if metric == CKA:\n",
    "        return _cka(embeds1, embeds2)\n",
    "    raise NotImplementedError(f\"Provided unsupported metric {metric} for embedding similarity!\")\n",
    "\n",
    "\n",
    "def _sample_embeddings(\n",
    "    embeds1: torch.Tensor,\n",
    "    embeds2: torch.Tensor,\n",
    "    min_size: int,\n",
    "    num_embeds: int,\n",
    "    baseline: bool = False,\n",
    "):\n",
    "    \"\"\"Returns a subset of embeddings if the desired number of embeddings to be compared is lower than the available ones.\n",
    "    If a baseline score should be computed, the first set of embeddings is shuffled randomly if all embeddings are used\n",
    "    or two different random subsets are returned.\n",
    "\n",
    "    :param embeds1: Document embedding tensor of shape (N, D1).\n",
    "    :param embeds2: Document embedding tensor of shape (N, D1) if the metric requires matching dimensions or (N, D2).\n",
    "    :param min_size: The maximum number of embeddings that can be compared.\n",
    "    :param num_embeds: The number of embeddings that should be compared.\n",
    "    :param baseline: Whether a baseline score should be computed.\n",
    "    \"\"\"\n",
    "    if baseline:\n",
    "        indices = torch.randperm(embeds1.shape[0])\n",
    "        embeds1 = embeds1[indices]\n",
    "    if num_embeds > 0:\n",
    "        if min_size < num_embeds:\n",
    "            click.echo(\n",
    "                f\"Chosen number of embeddings is larger than number of available ones {min_size}. \"\n",
    "                f\"Using all available.\"\n",
    "            )\n",
    "        else:\n",
    "            indices = random.sample(range(min_size), num_embeds)\n",
    "            embeds1 = embeds1[indices]\n",
    "            embeds2 = embeds2[indices]\n",
    "    return embeds1, embeds2\n",
    "\n",
    "\n",
    "def calculate_metric(\n",
    "    embeds1: torch.Tensor,\n",
    "    embeds2: torch.Tensor,\n",
    "    queries1: np.ndarray,\n",
    "    queries2: np.ndarray,\n",
    "    metric: str,\n",
    "    batch_size: int,\n",
    "    device: torch.device,\n",
    "    num_embeds: int,\n",
    "    k: int,\n",
    "    nn_function: str,\n",
    "    center: bool = False,\n",
    "    baseline: bool = False,\n",
    "):\n",
    "    \"\"\"Calculates the similarity between document embeddings after pre-processing the embedding vectors.\n",
    "\n",
    "    :param embeds1: Document embedding tensor of shape (N, D1).\n",
    "    :param embeds2: Document embedding tensor of shape (N, D1) if the metric requires matching dimensions or (N, D2).\n",
    "    :param queries1: Embedding of queries of shape (N, D1).\n",
    "    :param queries2: Embedding of queries of shape (N, D2).\n",
    "    :param metric: The metric to be used, required to be one of AVAILABLE_METRICS.\n",
    "    :param batch_size: The batch size used to calculate pairwise similarity.\n",
    "    :param device: The device on which calculations should be performed.\n",
    "    :param num_embeds: The number of embeddings to be compared.\n",
    "    :param k: The number of nearest neighbors to retrieve for Jaccard or rank similarity.\n",
    "    :param nn_function: The function for determining nearest neighbors.\n",
    "    :param center: Whether embeddings should be mean-centered, default: False.\n",
    "    :param baseline: Whether to compute a baseline score, default: False.\n",
    "    :return: The calculated similarity.\n",
    "    \"\"\"\n",
    "    min_size = min(len(embeds1), len(embeds2))\n",
    "    assert k <= min_size\n",
    "    embeddings1 = embeds1[:min_size]\n",
    "    embeddings2 = embeds2[:min_size]\n",
    "    embeddings1, embeddings2 = _sample_embeddings(\n",
    "        embeddings1, embeddings2, min_size, num_embeds, baseline\n",
    "    )\n",
    "\n",
    "    if center:\n",
    "        embeddings1 = embeddings1 - torch.mean(embeddings1, axis=0, keepdim=True)\n",
    "        embeddings2 = embeddings2 - torch.mean(embeddings2, axis=0, keepdim=True)\n",
    "\n",
    "    return _calculate_embed_metric(\n",
    "        embeddings1,\n",
    "        embeddings2,\n",
    "        queries1,\n",
    "        queries2,\n",
    "        metric,\n",
    "        batch_size,\n",
    "        device,\n",
    "        k,\n",
    "        nn_function,\n",
    "        baseline,\n",
    "    )\n",
    "\n",
    "\n",
    "def self_sim_score(metric: str):\n",
    "    \"\"\"Returns the similarity score between two identical vectors for the given metric.\n",
    "\n",
    "    :param metric: The name of the metric.\n",
    "    :return: The self-similarity score.\n",
    "    \"\"\"\n",
    "    if metric == COSINE or metric == JACCARD or metric == RANK or metric == CKA:\n",
    "        return 1\n",
    "    if metric == EUCLIDEAN:\n",
    "        return 0\n",
    "    raise NotImplementedError(\n",
    "        f\"Cannot return self-similarity score of unsupported metric {metric}!\"\n",
    "    )\n"
   ]
  },
  {
   "cell_type": "code",
   "execution_count": 41,
   "metadata": {},
   "outputs": [
    {
     "name": "stdout",
     "output_type": "stream",
     "text": [
      "Similarity score: 0.8972534537315369\n"
     ]
    }
   ],
   "source": [
    "from src.DataVizPipeline import DataVizPipeline\n",
    "from safetensors.torch import load_file\n",
    "\n",
    "# Create sample embeddings (100 documents, 768 dimensions each)\n",
    "embeds1 = load_file(\n",
    "    \"/Users/gat/work/FA2024/embedding_translation/data/openai_embeddings/text-embedding-3-large/fiqa/corpus_validation_embeddings.safetensors\"\n",
    ")[\"embeddings\"]\n",
    "embeds2 = load_file(\n",
    "    \"/Users/gat/work/FA2024/embedding_translation/data/openai_embeddings/text-embedding-3-small/fiqa/corpus_validation_embeddings.safetensors\"\n",
    ")[\"embeddings\"]\n",
    "\n",
    "\n",
    "similarity_score = _cka(embeds1, embeds2)[0]\n",
    "\n",
    "print(f\"Similarity score: {similarity_score}\")\n",
    "plot = False\n",
    "if plot:  # Plot will be None for some metrics\n",
    "    plot.show()"
   ]
  },
  {
   "cell_type": "code",
   "execution_count": 5,
   "metadata": {},
   "outputs": [
    {
     "data": {
      "image/png": "[encoded data removed]",
      "text/plain": [
       "<Figure size 2000x2000 with 2 Axes>"
      ]
     },
     "metadata": {},
     "output_type": "display_data"
    },
    {
     "data": {
      "text/plain": [
       "<Figure size 640x480 with 0 Axes>"
      ]
     },
     "metadata": {},
     "output_type": "display_data"
    }
   ],
   "source": [
    "# import numpy as np\n",
    "# import os\n",
    "# import pandas as pd\n",
    "# import seaborn as sns\n",
    "\n",
    "# from matplotlib import pyplot as plt\n",
    "# from matplotlib.backends.backend_pdf import PdfPages\n",
    "\n",
    "\n",
    "# def _save_heatmap(results: list, file_name: str, folder: str, models: list):\n",
    "#     \"\"\"\n",
    "#     Creates a heatmap for the given scores of embedding similarity and saves them as a PDF.\n",
    "\n",
    "#     :param results: A list containing similarity scores for each pair of models.\n",
    "#     :param file_name: The name of the file that should be saved.\n",
    "#     :param folder: The folder in which to save the file.\n",
    "#     :param models: A list containing the names of all compared models.\n",
    "#     \"\"\"\n",
    "#     fig, ax = plt.subplots(figsize=(20, 20))\n",
    "#     df = pd.DataFrame(\n",
    "#         np.array(results).reshape(len(models), len(models)), index=models, columns=models\n",
    "#     )\n",
    "#     sns.heatmap(data=df, ax=ax, annot=True)\n",
    "#     plt.show()\n",
    "#     file_name += \".pdf\"\n",
    "#     path = os.path.join(folder, file_name)\n",
    "#     with PdfPages(path) as pdf:\n",
    "#         plt.tight_layout()\n",
    "#         pdf.savefig(fig, bbox_inches=\"tight\")\n",
    "\n",
    "\n",
    "# # _save_heatmap([similarity_score], \"test\", \"data/figs\", models=[\"Test\"])"
   ]
  },
  {
   "cell_type": "code",
   "execution_count": 6,
   "metadata": {},
   "outputs": [
    {
     "data": {
      "text/html": [
       "<pre style=\"white-space:pre;overflow-x:auto;line-height:normal;font-family:Menlo,'DejaVu Sans Mono',consolas,'Courier New',monospace\"><span style=\"color: #7fbfbf; text-decoration-color: #7fbfbf\">[12/10/24 21:58:40] </span><span style=\"color: #000080; text-decoration-color: #000080; font-weight: bold\">INFO    </span><span style=\"color: #008000; text-decoration-color: #008000; font-weight: bold\"> </span> Starting heatmap visualization process                            <a href=\"file:///Users/gat/work/FA2024/embedding_translation/src/viz/plot_heatmap.py\" target=\"_blank\"><span style=\"color: #008080; text-decoration-color: #008080; font-weight: bold\">plot_heatmap.py</span></a><span style=\"color: #008080; text-decoration-color: #008080; font-weight: bold\">:</span><a href=\"file:///Users/gat/work/FA2024/embedding_translation/src/viz/plot_heatmap.py#115\" target=\"_blank\"><span style=\"color: #008080; text-decoration-color: #008080; font-weight: bold\">115</span></a>\n",
       "</pre>\n"
      ],
      "text/plain": [
       "\u001b[2;36m[12/10/24 21:58:40]\u001b[0m\u001b[2;36m \u001b[0m\u001b[1;34mINFO    \u001b[0m\u001b[1;32m \u001b[0m Starting heatmap visualization process                            \u001b]8;id=136330;file:///Users/gat/work/FA2024/embedding_translation/src/viz/plot_heatmap.py\u001b\\\u001b[1;36mplot_heatmap.py\u001b[0m\u001b]8;;\u001b\\\u001b[1;36m:\u001b[0m\u001b]8;id=374252;file:///Users/gat/work/FA2024/embedding_translation/src/viz/plot_heatmap.py#115\u001b\\\u001b[1;36m115\u001b[0m\u001b]8;;\u001b\\\n"
      ]
     },
     "metadata": {},
     "output_type": "display_data"
    },
    {
     "data": {
      "text/html": [
       "<pre style=\"white-space:pre;overflow-x:auto;line-height:normal;font-family:Menlo,'DejaVu Sans Mono',consolas,'Courier New',monospace\"><span style=\"color: #7fbfbf; text-decoration-color: #7fbfbf\">                    </span><span style=\"color: #000080; text-decoration-color: #000080; font-weight: bold\">INFO    </span><span style=\"color: #008000; text-decoration-color: #008000; font-weight: bold\"> </span> Creating heatmap visualization<span style=\"color: #808000; text-decoration-color: #808000\">...</span>                                  <a href=\"file:///Users/gat/work/FA2024/embedding_translation/src/viz/plot_heatmap.py\" target=\"_blank\"><span style=\"color: #008080; text-decoration-color: #008080; font-weight: bold\">plot_heatmap.py</span></a><span style=\"color: #008080; text-decoration-color: #008080; font-weight: bold\">:</span><a href=\"file:///Users/gat/work/FA2024/embedding_translation/src/viz/plot_heatmap.py#40\" target=\"_blank\"><span style=\"color: #008080; text-decoration-color: #008080; font-weight: bold\">40</span></a>\n",
       "</pre>\n"
      ],
      "text/plain": [
       "\u001b[2;36m                   \u001b[0m\u001b[2;36m \u001b[0m\u001b[1;34mINFO    \u001b[0m\u001b[1;32m \u001b[0m Creating heatmap visualization\u001b[33m...\u001b[0m                                  \u001b]8;id=715310;file:///Users/gat/work/FA2024/embedding_translation/src/viz/plot_heatmap.py\u001b\\\u001b[1;36mplot_heatmap.py\u001b[0m\u001b]8;;\u001b\\\u001b[1;36m:\u001b[0m\u001b]8;id=622582;file:///Users/gat/work/FA2024/embedding_translation/src/viz/plot_heatmap.py#40\u001b\\\u001b[1;36m40\u001b[0m\u001b]8;;\u001b\\\n"
      ]
     },
     "metadata": {},
     "output_type": "display_data"
    },
    {
     "data": {
      "text/html": [
       "<pre style=\"white-space:pre;overflow-x:auto;line-height:normal;font-family:Menlo,'DejaVu Sans Mono',consolas,'Courier New',monospace\"><span style=\"color: #7fbfbf; text-decoration-color: #7fbfbf\">                    </span><span style=\"color: #008000; text-decoration-color: #008000; font-weight: bold\">SUCCESS  </span> Heatmap created successfully                                       <a href=\"file:///Users/gat/work/FA2024/embedding_translation/src/viz/plot_heatmap.py\" target=\"_blank\"><span style=\"color: #008080; text-decoration-color: #008080; font-weight: bold\">plot_heatmap.py</span></a><span style=\"color: #008080; text-decoration-color: #008080; font-weight: bold\">:</span><a href=\"file:///Users/gat/work/FA2024/embedding_translation/src/viz/plot_heatmap.py#89\" target=\"_blank\"><span style=\"color: #008080; text-decoration-color: #008080; font-weight: bold\">89</span></a>\n",
       "</pre>\n"
      ],
      "text/plain": [
       "\u001b[2;36m                   \u001b[0m\u001b[2;36m \u001b[0m\u001b[1;32mSUCCESS \u001b[0m\u001b[1;32m \u001b[0m Heatmap created successfully                                       \u001b]8;id=546893;file:///Users/gat/work/FA2024/embedding_translation/src/viz/plot_heatmap.py\u001b\\\u001b[1;36mplot_heatmap.py\u001b[0m\u001b]8;;\u001b\\\u001b[1;36m:\u001b[0m\u001b]8;id=132923;file:///Users/gat/work/FA2024/embedding_translation/src/viz/plot_heatmap.py#89\u001b\\\u001b[1;36m89\u001b[0m\u001b]8;;\u001b\\\n"
      ]
     },
     "metadata": {},
     "output_type": "display_data"
    },
    {
     "data": {
      "text/html": [
       "<pre style=\"white-space:pre;overflow-x:auto;line-height:normal;font-family:Menlo,'DejaVu Sans Mono',consolas,'Courier New',monospace\"><span style=\"color: #7fbfbf; text-decoration-color: #7fbfbf\">                    </span><span style=\"color: #000080; text-decoration-color: #000080; font-weight: bold\">INFO    </span><span style=\"color: #008000; text-decoration-color: #008000; font-weight: bold\"> </span> Saving HTML figure to data/figs/html/lol.html                       <a href=\"file:///Users/gat/work/FA2024/embedding_translation/src/viz/save_figure.py\" target=\"_blank\"><span style=\"color: #008080; text-decoration-color: #008080; font-weight: bold\">save_figure.py</span></a><span style=\"color: #008080; text-decoration-color: #008080; font-weight: bold\">:</span><a href=\"file:///Users/gat/work/FA2024/embedding_translation/src/viz/save_figure.py#32\" target=\"_blank\"><span style=\"color: #008080; text-decoration-color: #008080; font-weight: bold\">32</span></a>\n",
       "</pre>\n"
      ],
      "text/plain": [
       "\u001b[2;36m                   \u001b[0m\u001b[2;36m \u001b[0m\u001b[1;34mINFO    \u001b[0m\u001b[1;32m \u001b[0m Saving HTML figure to data/figs/html/lol.html                       \u001b]8;id=990901;file:///Users/gat/work/FA2024/embedding_translation/src/viz/save_figure.py\u001b\\\u001b[1;36msave_figure.py\u001b[0m\u001b]8;;\u001b\\\u001b[1;36m:\u001b[0m\u001b]8;id=677512;file:///Users/gat/work/FA2024/embedding_translation/src/viz/save_figure.py#32\u001b\\\u001b[1;36m32\u001b[0m\u001b]8;;\u001b\\\n"
      ]
     },
     "metadata": {},
     "output_type": "display_data"
    },
    {
     "data": {
      "text/html": [
       "<pre style=\"white-space:pre;overflow-x:auto;line-height:normal;font-family:Menlo,'DejaVu Sans Mono',consolas,'Courier New',monospace\"><span style=\"color: #7fbfbf; text-decoration-color: #7fbfbf\">                    </span><span style=\"color: #008000; text-decoration-color: #008000; font-weight: bold\">SUCCESS  </span> Successfully saved HTML to data/figs/html/lol.html                  <a href=\"file:///Users/gat/work/FA2024/embedding_translation/src/viz/save_figure.py\" target=\"_blank\"><span style=\"color: #008080; text-decoration-color: #008080; font-weight: bold\">save_figure.py</span></a><span style=\"color: #008080; text-decoration-color: #008080; font-weight: bold\">:</span><a href=\"file:///Users/gat/work/FA2024/embedding_translation/src/viz/save_figure.py#40\" target=\"_blank\"><span style=\"color: #008080; text-decoration-color: #008080; font-weight: bold\">40</span></a>\n",
       "</pre>\n"
      ],
      "text/plain": [
       "\u001b[2;36m                   \u001b[0m\u001b[2;36m \u001b[0m\u001b[1;32mSUCCESS \u001b[0m\u001b[1;32m \u001b[0m Successfully saved HTML to data/figs/html/lol.html                  \u001b]8;id=286705;file:///Users/gat/work/FA2024/embedding_translation/src/viz/save_figure.py\u001b\\\u001b[1;36msave_figure.py\u001b[0m\u001b]8;;\u001b\\\u001b[1;36m:\u001b[0m\u001b]8;id=386881;file:///Users/gat/work/FA2024/embedding_translation/src/viz/save_figure.py#40\u001b\\\u001b[1;36m40\u001b[0m\u001b]8;;\u001b\\\n"
      ]
     },
     "metadata": {},
     "output_type": "display_data"
    },
    {
     "data": {
      "text/html": [
       "<pre style=\"white-space:pre;overflow-x:auto;line-height:normal;font-family:Menlo,'DejaVu Sans Mono',consolas,'Courier New',monospace\"><span style=\"color: #7fbfbf; text-decoration-color: #7fbfbf\">                    </span><span style=\"color: #000080; text-decoration-color: #000080; font-weight: bold\">INFO    </span><span style=\"color: #008000; text-decoration-color: #008000; font-weight: bold\"> </span> Saving PNG figure to data/figs/imgs/lol.png                         <a href=\"file:///Users/gat/work/FA2024/embedding_translation/src/viz/save_figure.py\" target=\"_blank\"><span style=\"color: #008080; text-decoration-color: #008080; font-weight: bold\">save_figure.py</span></a><span style=\"color: #008080; text-decoration-color: #008080; font-weight: bold\">:</span><a href=\"file:///Users/gat/work/FA2024/embedding_translation/src/viz/save_figure.py#67\" target=\"_blank\"><span style=\"color: #008080; text-decoration-color: #008080; font-weight: bold\">67</span></a>\n",
       "</pre>\n"
      ],
      "text/plain": [
       "\u001b[2;36m                   \u001b[0m\u001b[2;36m \u001b[0m\u001b[1;34mINFO    \u001b[0m\u001b[1;32m \u001b[0m Saving PNG figure to data/figs/imgs/lol.png                         \u001b]8;id=494681;file:///Users/gat/work/FA2024/embedding_translation/src/viz/save_figure.py\u001b\\\u001b[1;36msave_figure.py\u001b[0m\u001b]8;;\u001b\\\u001b[1;36m:\u001b[0m\u001b]8;id=154043;file:///Users/gat/work/FA2024/embedding_translation/src/viz/save_figure.py#67\u001b\\\u001b[1;36m67\u001b[0m\u001b]8;;\u001b\\\n"
      ]
     },
     "metadata": {},
     "output_type": "display_data"
    },
    {
     "data": {
      "text/html": [
       "<pre style=\"white-space:pre;overflow-x:auto;line-height:normal;font-family:Menlo,'DejaVu Sans Mono',consolas,'Courier New',monospace\"><span style=\"color: #7fbfbf; text-decoration-color: #7fbfbf\">[12/10/24 21:58:41] </span><span style=\"color: #008000; text-decoration-color: #008000; font-weight: bold\">SUCCESS  </span> Successfully saved PNG to data/figs/imgs/lol.png                    <a href=\"file:///Users/gat/work/FA2024/embedding_translation/src/viz/save_figure.py\" target=\"_blank\"><span style=\"color: #008080; text-decoration-color: #008080; font-weight: bold\">save_figure.py</span></a><span style=\"color: #008080; text-decoration-color: #008080; font-weight: bold\">:</span><a href=\"file:///Users/gat/work/FA2024/embedding_translation/src/viz/save_figure.py#76\" target=\"_blank\"><span style=\"color: #008080; text-decoration-color: #008080; font-weight: bold\">76</span></a>\n",
       "</pre>\n"
      ],
      "text/plain": [
       "\u001b[2;36m[12/10/24 21:58:41]\u001b[0m\u001b[2;36m \u001b[0m\u001b[1;32mSUCCESS \u001b[0m\u001b[1;32m \u001b[0m Successfully saved PNG to data/figs/imgs/lol.png                    \u001b]8;id=967358;file:///Users/gat/work/FA2024/embedding_translation/src/viz/save_figure.py\u001b\\\u001b[1;36msave_figure.py\u001b[0m\u001b]8;;\u001b\\\u001b[1;36m:\u001b[0m\u001b]8;id=421217;file:///Users/gat/work/FA2024/embedding_translation/src/viz/save_figure.py#76\u001b\\\u001b[1;36m76\u001b[0m\u001b]8;;\u001b\\\n"
      ]
     },
     "metadata": {},
     "output_type": "display_data"
    },
    {
     "data": {
      "text/plain": [
       "(PosixPath('data/figs/html/lol.html'), PosixPath('data/figs/imgs/lol.png'))"
      ]
     },
     "execution_count": 6,
     "metadata": {},
     "output_type": "execute_result"
    }
   ],
   "source": [
    "# from src.viz.plot_heatmap import visualize_heatmap\n",
    "# from src.viz.save_figure import save_figure\n",
    "\n",
    "# fig = visualize_heatmap(\n",
    "#     matrix=[similarity_score],\n",
    "#     config={\n",
    "#         \"row_labels\": [\"lol\"],\n",
    "#         \"col_labels\": [\"lol\"],\n",
    "#         \"title\": \"yar\",\n",
    "#         \"xaxis_title\": \"Target Embedding Space\",\n",
    "#         \"yaxis_title\": \"Native Embedding Space\",\n",
    "#     },\n",
    "# )\n",
    "\n",
    "# save_figure(fig, \"lol\")"
   ]
  },
  {
   "cell_type": "code",
   "execution_count": 102,
   "metadata": {},
   "outputs": [
    {
     "data": {
      "text/html": [
       "<pre style=\"white-space:pre;overflow-x:auto;line-height:normal;font-family:Menlo,'DejaVu Sans Mono',consolas,'Courier New',monospace\"><span style=\"color: #7fbfbf; text-decoration-color: #7fbfbf\">[12/10/24 23:01:48] </span><span style=\"color: #000080; text-decoration-color: #000080; font-weight: bold\">INFO    </span><span style=\"color: #008000; text-decoration-color: #008000; font-weight: bold\"> </span><span style=\"font-weight: bold\">[</span><span style=\"color: #008080; text-decoration-color: #008080; font-weight: bold\">1381299790.</span>py:<span style=\"color: #008080; text-decoration-color: #008080; font-weight: bold\">8</span><span style=\"font-weight: bold\">]</span> <span style=\"color: #800080; text-decoration-color: #800080\">/Users/gat/work/FA2024/</span><span style=\"color: #ff00ff; text-decoration-color: #ff00ff\">embedding_translation</span>         <a href=\"file:///var/folders/6f/f4k9qbkd5nqfywwdhvwdtl5m0000gn/T/ipykernel_46672/1381299790.py\" target=\"_blank\"><span style=\"color: #008080; text-decoration-color: #008080; font-weight: bold\">1381299790.py</span></a><span style=\"color: #008080; text-decoration-color: #008080; font-weight: bold\">:</span><a href=\"file:///var/folders/6f/f4k9qbkd5nqfywwdhvwdtl5m0000gn/T/ipykernel_46672/1381299790.py#8\" target=\"_blank\"><span style=\"color: #008080; text-decoration-color: #008080; font-weight: bold\">8</span></a>\n",
       "</pre>\n"
      ],
      "text/plain": [
       "\u001b[2;36m[12/10/24 23:01:48]\u001b[0m\u001b[2;36m \u001b[0m\u001b[1;34mINFO    \u001b[0m\u001b[1;32m \u001b[0m\u001b[1m[\u001b[0m\u001b[1;36m1381299790.\u001b[0mpy:\u001b[1;36m8\u001b[0m\u001b[1m]\u001b[0m \u001b[35m/Users/gat/work/FA2024/\u001b[0m\u001b[95membedding_translation\u001b[0m         \u001b]8;id=636547;file:///var/folders/6f/f4k9qbkd5nqfywwdhvwdtl5m0000gn/T/ipykernel_46672/1381299790.py\u001b\\\u001b[1;36m1381299790.py\u001b[0m\u001b]8;;\u001b\\\u001b[1;36m:\u001b[0m\u001b]8;id=378103;file:///var/folders/6f/f4k9qbkd5nqfywwdhvwdtl5m0000gn/T/ipykernel_46672/1381299790.py#8\u001b\\\u001b[1;36m8\u001b[0m\u001b]8;;\u001b\\\n"
      ]
     },
     "metadata": {},
     "output_type": "display_data"
    },
    {
     "data": {
      "text/html": [
       "<pre style=\"white-space:pre;overflow-x:auto;line-height:normal;font-family:Menlo,'DejaVu Sans Mono',consolas,'Courier New',monospace\"><span style=\"color: #7fbfbf; text-decoration-color: #7fbfbf\">                    </span><span style=\"color: #000080; text-decoration-color: #000080; font-weight: bold\">INFO    </span><span style=\"color: #008000; text-decoration-color: #008000; font-weight: bold\"> </span><span style=\"font-weight: bold\">[</span><span style=\"color: #008080; text-decoration-color: #008080; font-weight: bold\">1381299790.</span>py:<span style=\"color: #008080; text-decoration-color: #008080; font-weight: bold\">12</span><span style=\"font-weight: bold\">]</span> <span style=\"color: #008080; text-decoration-color: #008080; font-weight: bold\">66</span>                                                 <a href=\"file:///var/folders/6f/f4k9qbkd5nqfywwdhvwdtl5m0000gn/T/ipykernel_46672/1381299790.py\" target=\"_blank\"><span style=\"color: #008080; text-decoration-color: #008080; font-weight: bold\">1381299790.py</span></a><span style=\"color: #008080; text-decoration-color: #008080; font-weight: bold\">:</span><a href=\"file:///var/folders/6f/f4k9qbkd5nqfywwdhvwdtl5m0000gn/T/ipykernel_46672/1381299790.py#12\" target=\"_blank\"><span style=\"color: #008080; text-decoration-color: #008080; font-weight: bold\">12</span></a>\n",
       "</pre>\n"
      ],
      "text/plain": [
       "\u001b[2;36m                   \u001b[0m\u001b[2;36m \u001b[0m\u001b[1;34mINFO    \u001b[0m\u001b[1;32m \u001b[0m\u001b[1m[\u001b[0m\u001b[1;36m1381299790.\u001b[0mpy:\u001b[1;36m12\u001b[0m\u001b[1m]\u001b[0m \u001b[1;36m66\u001b[0m                                                 \u001b]8;id=804790;file:///var/folders/6f/f4k9qbkd5nqfywwdhvwdtl5m0000gn/T/ipykernel_46672/1381299790.py\u001b\\\u001b[1;36m1381299790.py\u001b[0m\u001b]8;;\u001b\\\u001b[1;36m:\u001b[0m\u001b]8;id=327836;file:///var/folders/6f/f4k9qbkd5nqfywwdhvwdtl5m0000gn/T/ipykernel_46672/1381299790.py#12\u001b\\\u001b[1;36m12\u001b[0m\u001b]8;;\u001b\\\n"
      ]
     },
     "metadata": {},
     "output_type": "display_data"
    }
   ],
   "source": [
    "from pathlib import Path\n",
    "from src.create_summaries_from_folder import ModelGenerator, anal_dump, EmbeddingDatasetInformation\n",
    "from loguru import logger\n",
    "\n",
    "__file__ = \"/Users/gat/work/FA2024/embedding_translation/src/embedding_translation.ipynb\"\n",
    "\n",
    "PROJ_ROOT = Path(__file__).parent.parent\n",
    "logger.info(PROJ_ROOT.resolve())\n",
    "\n",
    "embeddings_dir = PROJ_ROOT / \"data\" / \"huggingface_embeddings\"\n",
    "dataset_infos = ModelGenerator.native_embedding_dataset_info_from_dir(embeddings_dir)\n",
    "logger.info(len(dataset_infos))"
   ]
  },
  {
   "cell_type": "code",
   "execution_count": 121,
   "metadata": {},
   "outputs": [
    {
     "name": "stdout",
     "output_type": "stream",
     "text": [
      "fiqa\n",
      "8\n",
      "<class 'src.schema.training_schemas.EmbeddingDatasetInformation'> <class 'torch.Tensor'>\n",
      "arguana\n",
      "15\n",
      "<class 'src.schema.training_schemas.EmbeddingDatasetInformation'> <class 'torch.Tensor'>\n",
      "scidocs\n",
      "9\n",
      "<class 'src.schema.training_schemas.EmbeddingDatasetInformation'> <class 'torch.Tensor'>\n",
      "trec-covid\n",
      "6\n",
      "<class 'src.schema.training_schemas.EmbeddingDatasetInformation'> <class 'torch.Tensor'>\n",
      "hotpotqa\n",
      "13\n",
      "<class 'src.schema.training_schemas.EmbeddingDatasetInformation'> <class 'torch.Tensor'>\n",
      "nfcorpus\n",
      "15\n",
      "<class 'src.schema.training_schemas.EmbeddingDatasetInformation'> <class 'torch.Tensor'>\n"
     ]
    }
   ],
   "source": [
    "# Group em\n",
    "dataset_infos_grouped: dict[str, list[tuple[EmbeddingDatasetInformation, torch.Tensor]]] = {}\n",
    "for dataset_info in dataset_infos:\n",
    "    if dataset_info.text_dataset_name in dataset_infos_grouped:\n",
    "        pack = (dataset_info, load_file(dataset_info.dataset_filepath)[\"embeddings\"])\n",
    "        dataset_infos_grouped[dataset_info.text_dataset_name].append(pack)\n",
    "    else:\n",
    "        pack = (dataset_info, load_file(dataset_info.dataset_filepath)[\"embeddings\"])\n",
    "        dataset_infos_grouped[dataset_info.text_dataset_name] = [pack]\n",
    "\n",
    "for text_dataset_name, datasets in dataset_infos_grouped.items():\n",
    "    print(text_dataset_name)\n",
    "    print(len(datasets))\n",
    "    print(type(datasets[0][0]), type(datasets[0][1]))"
   ]
  },
  {
   "cell_type": "code",
   "execution_count": 122,
   "metadata": {},
   "outputs": [
    {
     "name": "stdout",
     "output_type": "stream",
     "text": [
      "fiqa\n",
      "8\n",
      "9\n",
      "arguana\n",
      "15\n",
      "16\n",
      "scidocs\n",
      "9\n",
      "10\n",
      "trec-covid\n",
      "6\n",
      "7\n",
      "hotpotqa\n",
      "13\n",
      "14\n",
      "nfcorpus\n",
      "15\n",
      "16\n"
     ]
    }
   ],
   "source": [
    "# Add random cka to all dataset_infos\n",
    "def add_random(dataset_infos_grouped):\n",
    "    for text_dataset_name, datasets in dataset_infos_grouped.items():\n",
    "        print(text_dataset_name)\n",
    "        print(len(datasets))\n",
    "        random_name = \"Normal(0, 1)\"\n",
    "        if random_name in [dataset[0].embedding_model_name for dataset in datasets]:\n",
    "            continue\n",
    "        info = datasets[0][0].model_copy()\n",
    "        info.dataset_filepath = None\n",
    "        info.embedding_model_name = \"Normal(0, 1)\"\n",
    "        embed = torch.randn_like(datasets[0][1])\n",
    "        datasets.append((info, embed))\n",
    "        print(len(datasets))\n",
    "\n",
    "\n",
    "add_random(dataset_infos_grouped=dataset_infos_grouped)"
   ]
  },
  {
   "cell_type": "code",
   "execution_count": 124,
   "metadata": {},
   "outputs": [
    {
     "name": "stdout",
     "output_type": "stream",
     "text": [
      "arguana\n",
      "0 of 16\n",
      "1 of 16\n",
      "2 of 16\n",
      "3 of 16\n",
      "4 of 16\n",
      "5 of 16\n",
      "6 of 16\n",
      "7 of 16\n",
      "8 of 16\n",
      "9 of 16\n",
      "10 of 16\n",
      "11 of 16\n",
      "12 of 16\n",
      "13 of 16\n",
      "14 of 16\n",
      "15 of 16\n",
      "{'arguana': tensor([[1.0000, 0.8658, 0.8345, 0.9794, 0.8648, 0.9419, 0.8351, 0.9951, 0.7825,\n",
      "         0.7811, 0.7877, 0.7567, 0.7575, 0.7686, 0.7938, 0.1314],\n",
      "        [0.8658, 1.0000, 0.8502, 0.8600, 0.9441, 0.8646, 0.8449, 0.8768, 0.7742,\n",
      "         0.7731, 0.7888, 0.7581, 0.7542, 0.7760, 0.8187, 0.1289],\n",
      "        [0.8345, 0.8502, 1.0000, 0.8264, 0.8462, 0.8378, 0.9394, 0.8502, 0.7512,\n",
      "         0.7580, 0.7763, 0.7392, 0.7216, 0.7924, 0.7734, 0.1171],\n",
      "        [0.9794, 0.8600, 0.8263, 1.0000, 0.8424, 0.9215, 0.8156, 0.9731, 0.7709,\n",
      "         0.7651, 0.7709, 0.7448, 0.7561, 0.7631, 0.7886, 0.1373],\n",
      "        [0.8648, 0.9441, 0.8462, 0.8424, 1.0000, 0.8997, 0.8794, 0.8774, 0.7888,\n",
      "         0.7926, 0.8051, 0.7702, 0.7683, 0.7904, 0.8325, 0.1285],\n",
      "        [0.9419, 0.8646, 0.8378, 0.9215, 0.8997, 1.0000, 0.8724, 0.9483, 0.8000,\n",
      "         0.8084, 0.8112, 0.7742, 0.7813, 0.7869, 0.8155, 0.1274],\n",
      "        [0.8351, 0.8449, 0.9394, 0.8156, 0.8794, 0.8724, 1.0000, 0.8496, 0.7689,\n",
      "         0.7755, 0.7899, 0.7553, 0.7430, 0.8069, 0.7892, 0.1232],\n",
      "        [0.9951, 0.8768, 0.8502, 0.9731, 0.8774, 0.9483, 0.8496, 1.0000, 0.7845,\n",
      "         0.7956, 0.8027, 0.7600, 0.7613, 0.7757, 0.8009, 0.1218],\n",
      "        [0.7825, 0.7742, 0.7512, 0.7710, 0.7888, 0.8000, 0.7689, 0.7845, 1.0000,\n",
      "         0.8185, 0.7942, 0.8502, 0.7527, 0.7400, 0.7599, 0.1387],\n",
      "        [0.7811, 0.7731, 0.7580, 0.7651, 0.7926, 0.8084, 0.7755, 0.7956, 0.8185,\n",
      "         1.0000, 0.9012, 0.7513, 0.7566, 0.7398, 0.7625, 0.1112],\n",
      "        [0.7877, 0.7888, 0.7763, 0.7709, 0.8051, 0.8112, 0.7899, 0.8027, 0.7942,\n",
      "         0.9012, 1.0000, 0.8033, 0.7528, 0.7528, 0.7727, 0.1048],\n",
      "        [0.7567, 0.7581, 0.7392, 0.7448, 0.7702, 0.7742, 0.7553, 0.7600, 0.8502,\n",
      "         0.7513, 0.8033, 1.0000, 0.7155, 0.7165, 0.7347, 0.1312],\n",
      "        [0.7575, 0.7542, 0.7216, 0.7561, 0.7683, 0.7813, 0.7430, 0.7613, 0.7527,\n",
      "         0.7566, 0.7528, 0.7155, 1.0000, 0.7952, 0.8292, 0.1614],\n",
      "        [0.7686, 0.7760, 0.7924, 0.7631, 0.7904, 0.7869, 0.8069, 0.7757, 0.7400,\n",
      "         0.7398, 0.7528, 0.7165, 0.7951, 1.0000, 0.8170, 0.1436],\n",
      "        [0.7938, 0.8187, 0.7734, 0.7886, 0.8325, 0.8155, 0.7892, 0.8009, 0.7599,\n",
      "         0.7625, 0.7727, 0.7347, 0.8292, 0.8170, 1.0000, 0.1455],\n",
      "        [0.1314, 0.1289, 0.1171, 0.1373, 0.1285, 0.1274, 0.1232, 0.1218, 0.1387,\n",
      "         0.1112, 0.1048, 0.1312, 0.1614, 0.1436, 0.1455, 1.0000]])}\n"
     ]
    }
   ],
   "source": [
    "num_embeds = len(dataset_infos)\n",
    "cka_matrices = {}\n",
    "\n",
    "for text_dataset_name, datasets in dataset_infos_grouped.items():\n",
    "    if text_dataset_name != \"arguana\":\n",
    "        continue\n",
    "    cka_matrix = [[None for _ in datasets] for _ in datasets]\n",
    "    print(text_dataset_name)\n",
    "    for i, (info1, embeds1) in enumerate(datasets):\n",
    "        print(f\"{i} of {len(datasets)}\")\n",
    "        for j, (info2, embeds2) in enumerate(datasets):\n",
    "            sim = _cka(embeds1, embeds2)[0]\n",
    "            cka_matrix[i][j] = sim\n",
    "    cka_matrices[text_dataset_name] = torch.Tensor(cka_matrix)\n",
    "\n",
    "print(cka_matrices)"
   ]
  },
  {
   "cell_type": "code",
   "execution_count": 125,
   "metadata": {},
   "outputs": [
    {
     "data": {
      "text/html": [
       "<pre style=\"white-space:pre;overflow-x:auto;line-height:normal;font-family:Menlo,'DejaVu Sans Mono',consolas,'Courier New',monospace\"><span style=\"color: #7fbfbf; text-decoration-color: #7fbfbf\">[12/10/24 23:26:30] </span><span style=\"color: #000080; text-decoration-color: #000080; font-weight: bold\">INFO    </span><span style=\"color: #008000; text-decoration-color: #008000; font-weight: bold\"> </span> Starting heatmap visualization process                            <a href=\"file:///Users/gat/work/FA2024/embedding_translation/src/viz/plot_heatmap.py\" target=\"_blank\"><span style=\"color: #008080; text-decoration-color: #008080; font-weight: bold\">plot_heatmap.py</span></a><span style=\"color: #008080; text-decoration-color: #008080; font-weight: bold\">:</span><a href=\"file:///Users/gat/work/FA2024/embedding_translation/src/viz/plot_heatmap.py#115\" target=\"_blank\"><span style=\"color: #008080; text-decoration-color: #008080; font-weight: bold\">115</span></a>\n",
       "</pre>\n"
      ],
      "text/plain": [
       "\u001b[2;36m[12/10/24 23:26:30]\u001b[0m\u001b[2;36m \u001b[0m\u001b[1;34mINFO    \u001b[0m\u001b[1;32m \u001b[0m Starting heatmap visualization process                            \u001b]8;id=283717;file:///Users/gat/work/FA2024/embedding_translation/src/viz/plot_heatmap.py\u001b\\\u001b[1;36mplot_heatmap.py\u001b[0m\u001b]8;;\u001b\\\u001b[1;36m:\u001b[0m\u001b]8;id=214967;file:///Users/gat/work/FA2024/embedding_translation/src/viz/plot_heatmap.py#115\u001b\\\u001b[1;36m115\u001b[0m\u001b]8;;\u001b\\\n"
      ]
     },
     "metadata": {},
     "output_type": "display_data"
    },
    {
     "data": {
      "text/html": [
       "<pre style=\"white-space:pre;overflow-x:auto;line-height:normal;font-family:Menlo,'DejaVu Sans Mono',consolas,'Courier New',monospace\"><span style=\"color: #7fbfbf; text-decoration-color: #7fbfbf\">                    </span><span style=\"color: #000080; text-decoration-color: #000080; font-weight: bold\">INFO    </span><span style=\"color: #008000; text-decoration-color: #008000; font-weight: bold\"> </span> Creating heatmap visualization<span style=\"color: #808000; text-decoration-color: #808000\">...</span>                                  <a href=\"file:///Users/gat/work/FA2024/embedding_translation/src/viz/plot_heatmap.py\" target=\"_blank\"><span style=\"color: #008080; text-decoration-color: #008080; font-weight: bold\">plot_heatmap.py</span></a><span style=\"color: #008080; text-decoration-color: #008080; font-weight: bold\">:</span><a href=\"file:///Users/gat/work/FA2024/embedding_translation/src/viz/plot_heatmap.py#40\" target=\"_blank\"><span style=\"color: #008080; text-decoration-color: #008080; font-weight: bold\">40</span></a>\n",
       "</pre>\n"
      ],
      "text/plain": [
       "\u001b[2;36m                   \u001b[0m\u001b[2;36m \u001b[0m\u001b[1;34mINFO    \u001b[0m\u001b[1;32m \u001b[0m Creating heatmap visualization\u001b[33m...\u001b[0m                                  \u001b]8;id=547645;file:///Users/gat/work/FA2024/embedding_translation/src/viz/plot_heatmap.py\u001b\\\u001b[1;36mplot_heatmap.py\u001b[0m\u001b]8;;\u001b\\\u001b[1;36m:\u001b[0m\u001b]8;id=483183;file:///Users/gat/work/FA2024/embedding_translation/src/viz/plot_heatmap.py#40\u001b\\\u001b[1;36m40\u001b[0m\u001b]8;;\u001b\\\n"
      ]
     },
     "metadata": {},
     "output_type": "display_data"
    },
    {
     "data": {
      "text/html": [
       "<pre style=\"white-space:pre;overflow-x:auto;line-height:normal;font-family:Menlo,'DejaVu Sans Mono',consolas,'Courier New',monospace\"><span style=\"color: #7fbfbf; text-decoration-color: #7fbfbf\">                    </span><span style=\"color: #008000; text-decoration-color: #008000; font-weight: bold\">SUCCESS  </span> Heatmap created successfully                                       <a href=\"file:///Users/gat/work/FA2024/embedding_translation/src/viz/plot_heatmap.py\" target=\"_blank\"><span style=\"color: #008080; text-decoration-color: #008080; font-weight: bold\">plot_heatmap.py</span></a><span style=\"color: #008080; text-decoration-color: #008080; font-weight: bold\">:</span><a href=\"file:///Users/gat/work/FA2024/embedding_translation/src/viz/plot_heatmap.py#89\" target=\"_blank\"><span style=\"color: #008080; text-decoration-color: #008080; font-weight: bold\">89</span></a>\n",
       "</pre>\n"
      ],
      "text/plain": [
       "\u001b[2;36m                   \u001b[0m\u001b[2;36m \u001b[0m\u001b[1;32mSUCCESS \u001b[0m\u001b[1;32m \u001b[0m Heatmap created successfully                                       \u001b]8;id=145801;file:///Users/gat/work/FA2024/embedding_translation/src/viz/plot_heatmap.py\u001b\\\u001b[1;36mplot_heatmap.py\u001b[0m\u001b]8;;\u001b\\\u001b[1;36m:\u001b[0m\u001b]8;id=107720;file:///Users/gat/work/FA2024/embedding_translation/src/viz/plot_heatmap.py#89\u001b\\\u001b[1;36m89\u001b[0m\u001b]8;;\u001b\\\n"
      ]
     },
     "metadata": {},
     "output_type": "display_data"
    },
    {
     "data": {
      "text/html": [
       "<pre style=\"white-space:pre;overflow-x:auto;line-height:normal;font-family:Menlo,'DejaVu Sans Mono',consolas,'Courier New',monospace\"><span style=\"color: #7fbfbf; text-decoration-color: #7fbfbf\">                    </span><span style=\"color: #000080; text-decoration-color: #000080; font-weight: bold\">INFO    </span><span style=\"color: #008000; text-decoration-color: #008000; font-weight: bold\"> </span> Saving HTML figure to                                               <a href=\"file:///Users/gat/work/FA2024/embedding_translation/src/viz/save_figure.py\" target=\"_blank\"><span style=\"color: #008080; text-decoration-color: #008080; font-weight: bold\">save_figure.py</span></a><span style=\"color: #008080; text-decoration-color: #008080; font-weight: bold\">:</span><a href=\"file:///Users/gat/work/FA2024/embedding_translation/src/viz/save_figure.py#32\" target=\"_blank\"><span style=\"color: #008080; text-decoration-color: #008080; font-weight: bold\">32</span></a>\n",
       "<span style=\"color: #7fbfbf; text-decoration-color: #7fbfbf\">                    </span><span style=\"color: #008000; text-decoration-color: #008000; font-weight: bold\">         </span><span style=\"color: #800080; text-decoration-color: #800080\">/Users/gat/work/FA2024/embedding_translation/data/figs/html/</span><span style=\"color: #ff00ff; text-decoration-color: #ff00ff\">cka_matr</span> <span style=\"color: #008080; text-decoration-color: #008080; font-weight: bold\">                 </span>\n",
       "<span style=\"color: #7fbfbf; text-decoration-color: #7fbfbf\">                    </span><span style=\"color: #008000; text-decoration-color: #008000; font-weight: bold\">         </span><span style=\"color: #ff00ff; text-decoration-color: #ff00ff\">ix_on_arguana.html</span>                                                   <span style=\"color: #008080; text-decoration-color: #008080; font-weight: bold\">                 </span>\n",
       "</pre>\n"
      ],
      "text/plain": [
       "\u001b[2;36m                   \u001b[0m\u001b[2;36m \u001b[0m\u001b[1;34mINFO    \u001b[0m\u001b[1;32m \u001b[0m Saving HTML figure to                                               \u001b]8;id=657133;file:///Users/gat/work/FA2024/embedding_translation/src/viz/save_figure.py\u001b\\\u001b[1;36msave_figure.py\u001b[0m\u001b]8;;\u001b\\\u001b[1;36m:\u001b[0m\u001b]8;id=80783;file:///Users/gat/work/FA2024/embedding_translation/src/viz/save_figure.py#32\u001b\\\u001b[1;36m32\u001b[0m\u001b]8;;\u001b\\\n",
       "\u001b[2;36m                    \u001b[0m\u001b[1;32m         \u001b[0m\u001b[35m/Users/gat/work/FA2024/embedding_translation/data/figs/html/\u001b[0m\u001b[95mcka_matr\u001b[0m \u001b[1;36m                 \u001b[0m\n",
       "\u001b[2;36m                    \u001b[0m\u001b[1;32m         \u001b[0m\u001b[95mix_on_arguana.html\u001b[0m                                                   \u001b[1;36m                 \u001b[0m\n"
      ]
     },
     "metadata": {},
     "output_type": "display_data"
    },
    {
     "data": {
      "text/html": [
       "<pre style=\"white-space:pre;overflow-x:auto;line-height:normal;font-family:Menlo,'DejaVu Sans Mono',consolas,'Courier New',monospace\"><span style=\"color: #7fbfbf; text-decoration-color: #7fbfbf\">                    </span><span style=\"color: #008000; text-decoration-color: #008000; font-weight: bold\">SUCCESS  </span> Successfully saved HTML to                                          <a href=\"file:///Users/gat/work/FA2024/embedding_translation/src/viz/save_figure.py\" target=\"_blank\"><span style=\"color: #008080; text-decoration-color: #008080; font-weight: bold\">save_figure.py</span></a><span style=\"color: #008080; text-decoration-color: #008080; font-weight: bold\">:</span><a href=\"file:///Users/gat/work/FA2024/embedding_translation/src/viz/save_figure.py#40\" target=\"_blank\"><span style=\"color: #008080; text-decoration-color: #008080; font-weight: bold\">40</span></a>\n",
       "<span style=\"color: #7fbfbf; text-decoration-color: #7fbfbf\">                    </span><span style=\"color: #008000; text-decoration-color: #008000; font-weight: bold\">         </span><span style=\"color: #800080; text-decoration-color: #800080\">/Users/gat/work/FA2024/embedding_translation/data/figs/html/</span><span style=\"color: #ff00ff; text-decoration-color: #ff00ff\">cka_matr</span> <span style=\"color: #008080; text-decoration-color: #008080; font-weight: bold\">                 </span>\n",
       "<span style=\"color: #7fbfbf; text-decoration-color: #7fbfbf\">                    </span><span style=\"color: #008000; text-decoration-color: #008000; font-weight: bold\">         </span><span style=\"color: #ff00ff; text-decoration-color: #ff00ff\">ix_on_arguana.html</span>                                                   <span style=\"color: #008080; text-decoration-color: #008080; font-weight: bold\">                 </span>\n",
       "</pre>\n"
      ],
      "text/plain": [
       "\u001b[2;36m                   \u001b[0m\u001b[2;36m \u001b[0m\u001b[1;32mSUCCESS \u001b[0m\u001b[1;32m \u001b[0m Successfully saved HTML to                                          \u001b]8;id=662340;file:///Users/gat/work/FA2024/embedding_translation/src/viz/save_figure.py\u001b\\\u001b[1;36msave_figure.py\u001b[0m\u001b]8;;\u001b\\\u001b[1;36m:\u001b[0m\u001b]8;id=577635;file:///Users/gat/work/FA2024/embedding_translation/src/viz/save_figure.py#40\u001b\\\u001b[1;36m40\u001b[0m\u001b]8;;\u001b\\\n",
       "\u001b[2;36m                    \u001b[0m\u001b[1;32m         \u001b[0m\u001b[35m/Users/gat/work/FA2024/embedding_translation/data/figs/html/\u001b[0m\u001b[95mcka_matr\u001b[0m \u001b[1;36m                 \u001b[0m\n",
       "\u001b[2;36m                    \u001b[0m\u001b[1;32m         \u001b[0m\u001b[95mix_on_arguana.html\u001b[0m                                                   \u001b[1;36m                 \u001b[0m\n"
      ]
     },
     "metadata": {},
     "output_type": "display_data"
    },
    {
     "data": {
      "text/html": [
       "<pre style=\"white-space:pre;overflow-x:auto;line-height:normal;font-family:Menlo,'DejaVu Sans Mono',consolas,'Courier New',monospace\"><span style=\"color: #7fbfbf; text-decoration-color: #7fbfbf\">                    </span><span style=\"color: #000080; text-decoration-color: #000080; font-weight: bold\">INFO    </span><span style=\"color: #008000; text-decoration-color: #008000; font-weight: bold\"> </span> Saving PNG figure to                                                <a href=\"file:///Users/gat/work/FA2024/embedding_translation/src/viz/save_figure.py\" target=\"_blank\"><span style=\"color: #008080; text-decoration-color: #008080; font-weight: bold\">save_figure.py</span></a><span style=\"color: #008080; text-decoration-color: #008080; font-weight: bold\">:</span><a href=\"file:///Users/gat/work/FA2024/embedding_translation/src/viz/save_figure.py#67\" target=\"_blank\"><span style=\"color: #008080; text-decoration-color: #008080; font-weight: bold\">67</span></a>\n",
       "<span style=\"color: #7fbfbf; text-decoration-color: #7fbfbf\">                    </span><span style=\"color: #008000; text-decoration-color: #008000; font-weight: bold\">         </span><span style=\"color: #800080; text-decoration-color: #800080\">/Users/gat/work/FA2024/embedding_translation/data/figs/imgs/</span><span style=\"color: #ff00ff; text-decoration-color: #ff00ff\">cka_matr</span> <span style=\"color: #008080; text-decoration-color: #008080; font-weight: bold\">                 </span>\n",
       "<span style=\"color: #7fbfbf; text-decoration-color: #7fbfbf\">                    </span><span style=\"color: #008000; text-decoration-color: #008000; font-weight: bold\">         </span><span style=\"color: #ff00ff; text-decoration-color: #ff00ff\">ix_on_arguana.png</span>                                                    <span style=\"color: #008080; text-decoration-color: #008080; font-weight: bold\">                 </span>\n",
       "</pre>\n"
      ],
      "text/plain": [
       "\u001b[2;36m                   \u001b[0m\u001b[2;36m \u001b[0m\u001b[1;34mINFO    \u001b[0m\u001b[1;32m \u001b[0m Saving PNG figure to                                                \u001b]8;id=315311;file:///Users/gat/work/FA2024/embedding_translation/src/viz/save_figure.py\u001b\\\u001b[1;36msave_figure.py\u001b[0m\u001b]8;;\u001b\\\u001b[1;36m:\u001b[0m\u001b]8;id=738696;file:///Users/gat/work/FA2024/embedding_translation/src/viz/save_figure.py#67\u001b\\\u001b[1;36m67\u001b[0m\u001b]8;;\u001b\\\n",
       "\u001b[2;36m                    \u001b[0m\u001b[1;32m         \u001b[0m\u001b[35m/Users/gat/work/FA2024/embedding_translation/data/figs/imgs/\u001b[0m\u001b[95mcka_matr\u001b[0m \u001b[1;36m                 \u001b[0m\n",
       "\u001b[2;36m                    \u001b[0m\u001b[1;32m         \u001b[0m\u001b[95mix_on_arguana.png\u001b[0m                                                    \u001b[1;36m                 \u001b[0m\n"
      ]
     },
     "metadata": {},
     "output_type": "display_data"
    },
    {
     "data": {
      "text/html": [
       "<pre style=\"white-space:pre;overflow-x:auto;line-height:normal;font-family:Menlo,'DejaVu Sans Mono',consolas,'Courier New',monospace\"><span style=\"color: #7fbfbf; text-decoration-color: #7fbfbf\">                    </span><span style=\"color: #008000; text-decoration-color: #008000; font-weight: bold\">SUCCESS  </span> Successfully saved PNG to                                           <a href=\"file:///Users/gat/work/FA2024/embedding_translation/src/viz/save_figure.py\" target=\"_blank\"><span style=\"color: #008080; text-decoration-color: #008080; font-weight: bold\">save_figure.py</span></a><span style=\"color: #008080; text-decoration-color: #008080; font-weight: bold\">:</span><a href=\"file:///Users/gat/work/FA2024/embedding_translation/src/viz/save_figure.py#76\" target=\"_blank\"><span style=\"color: #008080; text-decoration-color: #008080; font-weight: bold\">76</span></a>\n",
       "<span style=\"color: #7fbfbf; text-decoration-color: #7fbfbf\">                    </span><span style=\"color: #008000; text-decoration-color: #008000; font-weight: bold\">         </span><span style=\"color: #800080; text-decoration-color: #800080\">/Users/gat/work/FA2024/embedding_translation/data/figs/imgs/</span><span style=\"color: #ff00ff; text-decoration-color: #ff00ff\">cka_matr</span> <span style=\"color: #008080; text-decoration-color: #008080; font-weight: bold\">                 </span>\n",
       "<span style=\"color: #7fbfbf; text-decoration-color: #7fbfbf\">                    </span><span style=\"color: #008000; text-decoration-color: #008000; font-weight: bold\">         </span><span style=\"color: #ff00ff; text-decoration-color: #ff00ff\">ix_on_arguana.png</span>                                                    <span style=\"color: #008080; text-decoration-color: #008080; font-weight: bold\">                 </span>\n",
       "</pre>\n"
      ],
      "text/plain": [
       "\u001b[2;36m                   \u001b[0m\u001b[2;36m \u001b[0m\u001b[1;32mSUCCESS \u001b[0m\u001b[1;32m \u001b[0m Successfully saved PNG to                                           \u001b]8;id=376566;file:///Users/gat/work/FA2024/embedding_translation/src/viz/save_figure.py\u001b\\\u001b[1;36msave_figure.py\u001b[0m\u001b]8;;\u001b\\\u001b[1;36m:\u001b[0m\u001b]8;id=232948;file:///Users/gat/work/FA2024/embedding_translation/src/viz/save_figure.py#76\u001b\\\u001b[1;36m76\u001b[0m\u001b]8;;\u001b\\\n",
       "\u001b[2;36m                    \u001b[0m\u001b[1;32m         \u001b[0m\u001b[35m/Users/gat/work/FA2024/embedding_translation/data/figs/imgs/\u001b[0m\u001b[95mcka_matr\u001b[0m \u001b[1;36m                 \u001b[0m\n",
       "\u001b[2;36m                    \u001b[0m\u001b[1;32m         \u001b[0m\u001b[95mix_on_arguana.png\u001b[0m                                                    \u001b[1;36m                 \u001b[0m\n"
      ]
     },
     "metadata": {},
     "output_type": "display_data"
    }
   ],
   "source": [
    "from src.viz.plot_heatmap import visualize_heatmap\n",
    "\n",
    "for text_dataset_name, datasets in dataset_infos_grouped.items():\n",
    "    if text_dataset_name != \"arguana\":\n",
    "        continue\n",
    "    labels = [info.embedding_model_name for info, embeds in datasets]\n",
    "    fig = visualize_heatmap(\n",
    "        matrix=cka_matrices[text_dataset_name],\n",
    "        config={\n",
    "            \"row_labels\": labels,\n",
    "            \"col_labels\": labels,\n",
    "            \"title\": f\"CKA Matrix on {text_dataset_name}\",\n",
    "            \"xaxis_title\": \"Embedding Space 01\",\n",
    "            \"yaxis_title\": \"Embedding Space 02\",\n",
    "        },\n",
    "    )\n",
    "\n",
    "    # fig.update_yaxes(autorange=True)\n",
    "    fig[\"layout\"][\"yaxis\"][\"autorange\"] = \"reversed\"\n",
    "    fig.update_xaxes(side=\"top\")\n",
    "\n",
    "    save_figure(fig, f\"cka_matrix_on_{text_dataset_name}\", output_dir=PROJ_ROOT / \"data\" / \"figs\")"
   ]
  },
  {
   "cell_type": "code",
   "execution_count": null,
   "metadata": {},
   "outputs": [],
   "source": []
  }
 ],
 "metadata": {
  "accelerator": "GPU",
  "colab": {
   "gpuClass": "premium",
   "machine_shape": "hm",
   "provenance": []
  },
  "gpuClass": "premium",
  "kernelspec": {
   "display_name": "Python 3 (ipykernel)",
   "language": "python",
   "name": "python3"
  },
  "language_info": {
   "codemirror_mode": {
    "name": "ipython",
    "version": 3
   },
   "file_extension": ".py",
   "mimetype": "text/x-python",
   "name": "python",
   "nbconvert_exporter": "python",
   "pygments_lexer": "ipython3",
   "version": "3.12.8"
  }
 },
 "nbformat": 4,
 "nbformat_minor": 0
}
