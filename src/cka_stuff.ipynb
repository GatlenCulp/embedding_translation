{
 "cells": [
  {
   "cell_type": "markdown",
   "metadata": {},
   "source": [
    "# Complexity vs MSE and Rank Graphs\n"
   ]
  },
  {
   "cell_type": "markdown",
   "metadata": {},
   "source": [
    "## Setup\n"
   ]
  },
  {
   "cell_type": "code",
   "execution_count": 72,
   "metadata": {},
   "outputs": [
    {
     "name": "stderr",
     "output_type": "stream",
     "text": [
      "/opt/miniconda3/envs/python311/lib/python3.11/pty.py:89: RuntimeWarning:\n",
      "\n",
      "Using fork() can cause Polars to deadlock in the child process.\n",
      "In addition, using fork() with Python in general is a recipe for mysterious\n",
      "deadlocks and crashes.\n",
      "\n",
      "The most likely reason you are seeing this error is because you are using the\n",
      "multiprocessing module on Linux, which uses fork() by default. This will be\n",
      "fixed in Python 3.14. Until then, you want to use the \"spawn\" context instead.\n",
      "\n",
      "See https://docs.pola.rs/user-guide/misc/multiprocessing/ for details.\n",
      "\n",
      "If you really know what your doing, you can silence this warning with the warning module\n",
      "or by setting POLARS_ALLOW_FORKING_THREAD=1.\n",
      "\n",
      "\n"
     ]
    },
    {
     "name": "stdout",
     "output_type": "stream",
     "text": [
      "Requirement already satisfied: safetensors in /opt/miniconda3/envs/python311/lib/python3.11/site-packages (0.4.5)\n",
      "Note: you may need to restart the kernel to use updated packages.\n"
     ]
    }
   ],
   "source": [
    "# Installs\n",
    "%pip install safetensors"
   ]
  },
  {
   "cell_type": "code",
   "execution_count": 73,
   "metadata": {},
   "outputs": [],
   "source": [
    "# Imports\n",
    "from safetensors.numpy import load_file\n",
    "from pathlib import Path\n",
    "from loguru import logger\n",
    "import orjson\n",
    "from rich import pretty\n",
    "import plotly.graph_objects as go\n",
    "import plotly.io as pio\n",
    "import plotly\n",
    "from faker import Faker\n",
    "from typing import Literal\n",
    "import polars as pl\n",
    "\n",
    "# from IPython.display import display\n",
    "import numpy as np\n",
    "\n",
    "np.set_printoptions(\n",
    "    precision=3,\n",
    "    suppress=True,\n",
    "    threshold=5,\n",
    ")\n",
    "rng = np.random.default_rng(0)\n",
    "faker = Faker()\n",
    "pio.templates.default = \"plotly\""
   ]
  },
  {
   "cell_type": "code",
   "execution_count": 74,
   "metadata": {},
   "outputs": [
    {
     "name": "stderr",
     "output_type": "stream",
     "text": [
      "\u001b[32m2024-12-14 02:29:57.873\u001b[0m | \u001b[1mINFO    \u001b[0m | \u001b[36m__main__\u001b[0m:\u001b[36m<module>\u001b[0m:\u001b[36m3\u001b[0m - \u001b[1m/Users/4gate/git/embedding_translation\u001b[0m\n",
      "\u001b[32m2024-12-14 02:29:57.873\u001b[0m | \u001b[1mINFO    \u001b[0m | \u001b[36m__main__\u001b[0m:\u001b[36m<module>\u001b[0m:\u001b[36m5\u001b[0m - \u001b[1m/Users/4gate/git/embedding_translation/data\u001b[0m\n"
     ]
    }
   ],
   "source": [
    "# Directories\n",
    "PROJ_ROOT = Path.cwd().resolve().parent\n",
    "logger.info(PROJ_ROOT)\n",
    "DATA_DIR = PROJ_ROOT / \"data\"\n",
    "logger.info(DATA_DIR)\n",
    "CKA_DIR = DATA_DIR / \"cka_centered_natives\"\n",
    "CKA_TENSORS = CKA_DIR / \"table.safetensors\"\n",
    "CKA_META = CKA_DIR / \"info.json\""
   ]
  },
  {
   "cell_type": "markdown",
   "metadata": {},
   "source": [
    "## Helper Viz\n"
   ]
  },
  {
   "cell_type": "code",
   "execution_count": 75,
   "metadata": {},
   "outputs": [
    {
     "data": {
      "application/vnd.plotly.v1+json": {
       "config": {
        "plotlyServerURL": "https://plot.ly"
       },
       "data": [
        {
         "colorscale": [
          [
           0,
           "#440154"
          ],
          [
           0.1111111111111111,
           "#482878"
          ],
          [
           0.2222222222222222,
           "#3e4989"
          ],
          [
           0.3333333333333333,
           "#31688e"
          ],
          [
           0.4444444444444444,
           "#26828e"
          ],
          [
           0.5555555555555556,
           "#1f9e89"
          ],
          [
           0.6666666666666666,
           "#35b779"
          ],
          [
           0.7777777777777778,
           "#6ece58"
          ],
          [
           0.8888888888888888,
           "#b5de2b"
          ],
          [
           1,
           "#fde725"
          ]
         ],
         "reversescale": false,
         "showlegend": false,
         "showscale": true,
         "textfont": {
          "color": "black"
         },
         "type": "heatmap",
         "x": [
          "A",
          "B",
          "C"
         ],
         "y": [
          "X",
          "Y",
          "Z"
         ],
         "z": [
          [
           1,
           2,
           3
          ],
          [
           4,
           5,
           6
          ],
          [
           7,
           8,
           9
          ]
         ]
        }
       ],
       "layout": {
        "dragmode": false,
        "height": 600,
        "modebar": {
         "remove": [
          "zoomIn2d",
          "zoomOut2d",
          "autoScale2d",
          "resetScale2d",
          "hoverClosestCartesian",
          "hoverCompareCartesian",
          "toggleSpikelines"
         ]
        },
        "template": {
         "data": {
          "bar": [
           {
            "error_x": {
             "color": "#2a3f5f"
            },
            "error_y": {
             "color": "#2a3f5f"
            },
            "marker": {
             "line": {
              "color": "#E5ECF6",
              "width": 0.5
             },
             "pattern": {
              "fillmode": "overlay",
              "size": 10,
              "solidity": 0.2
             }
            },
            "type": "bar"
           }
          ],
          "barpolar": [
           {
            "marker": {
             "line": {
              "color": "#E5ECF6",
              "width": 0.5
             },
             "pattern": {
              "fillmode": "overlay",
              "size": 10,
              "solidity": 0.2
             }
            },
            "type": "barpolar"
           }
          ],
          "carpet": [
           {
            "aaxis": {
             "endlinecolor": "#2a3f5f",
             "gridcolor": "white",
             "linecolor": "white",
             "minorgridcolor": "white",
             "startlinecolor": "#2a3f5f"
            },
            "baxis": {
             "endlinecolor": "#2a3f5f",
             "gridcolor": "white",
             "linecolor": "white",
             "minorgridcolor": "white",
             "startlinecolor": "#2a3f5f"
            },
            "type": "carpet"
           }
          ],
          "choropleth": [
           {
            "colorbar": {
             "outlinewidth": 0,
             "ticks": ""
            },
            "type": "choropleth"
           }
          ],
          "contour": [
           {
            "colorbar": {
             "outlinewidth": 0,
             "ticks": ""
            },
            "colorscale": [
             [
              0,
              "#0d0887"
             ],
             [
              0.1111111111111111,
              "#46039f"
             ],
             [
              0.2222222222222222,
              "#7201a8"
             ],
             [
              0.3333333333333333,
              "#9c179e"
             ],
             [
              0.4444444444444444,
              "#bd3786"
             ],
             [
              0.5555555555555556,
              "#d8576b"
             ],
             [
              0.6666666666666666,
              "#ed7953"
             ],
             [
              0.7777777777777778,
              "#fb9f3a"
             ],
             [
              0.8888888888888888,
              "#fdca26"
             ],
             [
              1,
              "#f0f921"
             ]
            ],
            "type": "contour"
           }
          ],
          "contourcarpet": [
           {
            "colorbar": {
             "outlinewidth": 0,
             "ticks": ""
            },
            "type": "contourcarpet"
           }
          ],
          "heatmap": [
           {
            "colorbar": {
             "outlinewidth": 0,
             "ticks": ""
            },
            "colorscale": [
             [
              0,
              "#0d0887"
             ],
             [
              0.1111111111111111,
              "#46039f"
             ],
             [
              0.2222222222222222,
              "#7201a8"
             ],
             [
              0.3333333333333333,
              "#9c179e"
             ],
             [
              0.4444444444444444,
              "#bd3786"
             ],
             [
              0.5555555555555556,
              "#d8576b"
             ],
             [
              0.6666666666666666,
              "#ed7953"
             ],
             [
              0.7777777777777778,
              "#fb9f3a"
             ],
             [
              0.8888888888888888,
              "#fdca26"
             ],
             [
              1,
              "#f0f921"
             ]
            ],
            "type": "heatmap"
           }
          ],
          "heatmapgl": [
           {
            "colorbar": {
             "outlinewidth": 0,
             "ticks": ""
            },
            "colorscale": [
             [
              0,
              "#0d0887"
             ],
             [
              0.1111111111111111,
              "#46039f"
             ],
             [
              0.2222222222222222,
              "#7201a8"
             ],
             [
              0.3333333333333333,
              "#9c179e"
             ],
             [
              0.4444444444444444,
              "#bd3786"
             ],
             [
              0.5555555555555556,
              "#d8576b"
             ],
             [
              0.6666666666666666,
              "#ed7953"
             ],
             [
              0.7777777777777778,
              "#fb9f3a"
             ],
             [
              0.8888888888888888,
              "#fdca26"
             ],
             [
              1,
              "#f0f921"
             ]
            ],
            "type": "heatmapgl"
           }
          ],
          "histogram": [
           {
            "marker": {
             "pattern": {
              "fillmode": "overlay",
              "size": 10,
              "solidity": 0.2
             }
            },
            "type": "histogram"
           }
          ],
          "histogram2d": [
           {
            "colorbar": {
             "outlinewidth": 0,
             "ticks": ""
            },
            "colorscale": [
             [
              0,
              "#0d0887"
             ],
             [
              0.1111111111111111,
              "#46039f"
             ],
             [
              0.2222222222222222,
              "#7201a8"
             ],
             [
              0.3333333333333333,
              "#9c179e"
             ],
             [
              0.4444444444444444,
              "#bd3786"
             ],
             [
              0.5555555555555556,
              "#d8576b"
             ],
             [
              0.6666666666666666,
              "#ed7953"
             ],
             [
              0.7777777777777778,
              "#fb9f3a"
             ],
             [
              0.8888888888888888,
              "#fdca26"
             ],
             [
              1,
              "#f0f921"
             ]
            ],
            "type": "histogram2d"
           }
          ],
          "histogram2dcontour": [
           {
            "colorbar": {
             "outlinewidth": 0,
             "ticks": ""
            },
            "colorscale": [
             [
              0,
              "#0d0887"
             ],
             [
              0.1111111111111111,
              "#46039f"
             ],
             [
              0.2222222222222222,
              "#7201a8"
             ],
             [
              0.3333333333333333,
              "#9c179e"
             ],
             [
              0.4444444444444444,
              "#bd3786"
             ],
             [
              0.5555555555555556,
              "#d8576b"
             ],
             [
              0.6666666666666666,
              "#ed7953"
             ],
             [
              0.7777777777777778,
              "#fb9f3a"
             ],
             [
              0.8888888888888888,
              "#fdca26"
             ],
             [
              1,
              "#f0f921"
             ]
            ],
            "type": "histogram2dcontour"
           }
          ],
          "mesh3d": [
           {
            "colorbar": {
             "outlinewidth": 0,
             "ticks": ""
            },
            "type": "mesh3d"
           }
          ],
          "parcoords": [
           {
            "line": {
             "colorbar": {
              "outlinewidth": 0,
              "ticks": ""
             }
            },
            "type": "parcoords"
           }
          ],
          "pie": [
           {
            "automargin": true,
            "type": "pie"
           }
          ],
          "scatter": [
           {
            "fillpattern": {
             "fillmode": "overlay",
             "size": 10,
             "solidity": 0.2
            },
            "type": "scatter"
           }
          ],
          "scatter3d": [
           {
            "line": {
             "colorbar": {
              "outlinewidth": 0,
              "ticks": ""
             }
            },
            "marker": {
             "colorbar": {
              "outlinewidth": 0,
              "ticks": ""
             }
            },
            "type": "scatter3d"
           }
          ],
          "scattercarpet": [
           {
            "marker": {
             "colorbar": {
              "outlinewidth": 0,
              "ticks": ""
             }
            },
            "type": "scattercarpet"
           }
          ],
          "scattergeo": [
           {
            "marker": {
             "colorbar": {
              "outlinewidth": 0,
              "ticks": ""
             }
            },
            "type": "scattergeo"
           }
          ],
          "scattergl": [
           {
            "marker": {
             "colorbar": {
              "outlinewidth": 0,
              "ticks": ""
             }
            },
            "type": "scattergl"
           }
          ],
          "scattermapbox": [
           {
            "marker": {
             "colorbar": {
              "outlinewidth": 0,
              "ticks": ""
             }
            },
            "type": "scattermapbox"
           }
          ],
          "scatterpolar": [
           {
            "marker": {
             "colorbar": {
              "outlinewidth": 0,
              "ticks": ""
             }
            },
            "type": "scatterpolar"
           }
          ],
          "scatterpolargl": [
           {
            "marker": {
             "colorbar": {
              "outlinewidth": 0,
              "ticks": ""
             }
            },
            "type": "scatterpolargl"
           }
          ],
          "scatterternary": [
           {
            "marker": {
             "colorbar": {
              "outlinewidth": 0,
              "ticks": ""
             }
            },
            "type": "scatterternary"
           }
          ],
          "surface": [
           {
            "colorbar": {
             "outlinewidth": 0,
             "ticks": ""
            },
            "colorscale": [
             [
              0,
              "#0d0887"
             ],
             [
              0.1111111111111111,
              "#46039f"
             ],
             [
              0.2222222222222222,
              "#7201a8"
             ],
             [
              0.3333333333333333,
              "#9c179e"
             ],
             [
              0.4444444444444444,
              "#bd3786"
             ],
             [
              0.5555555555555556,
              "#d8576b"
             ],
             [
              0.6666666666666666,
              "#ed7953"
             ],
             [
              0.7777777777777778,
              "#fb9f3a"
             ],
             [
              0.8888888888888888,
              "#fdca26"
             ],
             [
              1,
              "#f0f921"
             ]
            ],
            "type": "surface"
           }
          ],
          "table": [
           {
            "cells": {
             "fill": {
              "color": "#EBF0F8"
             },
             "line": {
              "color": "white"
             }
            },
            "header": {
             "fill": {
              "color": "#C8D4E3"
             },
             "line": {
              "color": "white"
             }
            },
            "type": "table"
           }
          ]
         },
         "layout": {
          "annotationdefaults": {
           "arrowcolor": "#2a3f5f",
           "arrowhead": 0,
           "arrowwidth": 1
          },
          "autotypenumbers": "strict",
          "coloraxis": {
           "colorbar": {
            "outlinewidth": 0,
            "ticks": ""
           }
          },
          "colorscale": {
           "diverging": [
            [
             0,
             "#8e0152"
            ],
            [
             0.1,
             "#c51b7d"
            ],
            [
             0.2,
             "#de77ae"
            ],
            [
             0.3,
             "#f1b6da"
            ],
            [
             0.4,
             "#fde0ef"
            ],
            [
             0.5,
             "#f7f7f7"
            ],
            [
             0.6,
             "#e6f5d0"
            ],
            [
             0.7,
             "#b8e186"
            ],
            [
             0.8,
             "#7fbc41"
            ],
            [
             0.9,
             "#4d9221"
            ],
            [
             1,
             "#276419"
            ]
           ],
           "sequential": [
            [
             0,
             "#0d0887"
            ],
            [
             0.1111111111111111,
             "#46039f"
            ],
            [
             0.2222222222222222,
             "#7201a8"
            ],
            [
             0.3333333333333333,
             "#9c179e"
            ],
            [
             0.4444444444444444,
             "#bd3786"
            ],
            [
             0.5555555555555556,
             "#d8576b"
            ],
            [
             0.6666666666666666,
             "#ed7953"
            ],
            [
             0.7777777777777778,
             "#fb9f3a"
            ],
            [
             0.8888888888888888,
             "#fdca26"
            ],
            [
             1,
             "#f0f921"
            ]
           ],
           "sequentialminus": [
            [
             0,
             "#0d0887"
            ],
            [
             0.1111111111111111,
             "#46039f"
            ],
            [
             0.2222222222222222,
             "#7201a8"
            ],
            [
             0.3333333333333333,
             "#9c179e"
            ],
            [
             0.4444444444444444,
             "#bd3786"
            ],
            [
             0.5555555555555556,
             "#d8576b"
            ],
            [
             0.6666666666666666,
             "#ed7953"
            ],
            [
             0.7777777777777778,
             "#fb9f3a"
            ],
            [
             0.8888888888888888,
             "#fdca26"
            ],
            [
             1,
             "#f0f921"
            ]
           ]
          },
          "colorway": [
           "#636efa",
           "#EF553B",
           "#00cc96",
           "#ab63fa",
           "#FFA15A",
           "#19d3f3",
           "#FF6692",
           "#B6E880",
           "#FF97FF",
           "#FECB52"
          ],
          "font": {
           "color": "#2a3f5f"
          },
          "geo": {
           "bgcolor": "white",
           "lakecolor": "white",
           "landcolor": "#E5ECF6",
           "showlakes": true,
           "showland": true,
           "subunitcolor": "white"
          },
          "hoverlabel": {
           "align": "left"
          },
          "hovermode": "closest",
          "mapbox": {
           "style": "light"
          },
          "paper_bgcolor": "white",
          "plot_bgcolor": "#E5ECF6",
          "polar": {
           "angularaxis": {
            "gridcolor": "white",
            "linecolor": "white",
            "ticks": ""
           },
           "bgcolor": "#E5ECF6",
           "radialaxis": {
            "gridcolor": "white",
            "linecolor": "white",
            "ticks": ""
           }
          },
          "scene": {
           "xaxis": {
            "backgroundcolor": "#E5ECF6",
            "gridcolor": "white",
            "gridwidth": 2,
            "linecolor": "white",
            "showbackground": true,
            "ticks": "",
            "zerolinecolor": "white"
           },
           "yaxis": {
            "backgroundcolor": "#E5ECF6",
            "gridcolor": "white",
            "gridwidth": 2,
            "linecolor": "white",
            "showbackground": true,
            "ticks": "",
            "zerolinecolor": "white"
           },
           "zaxis": {
            "backgroundcolor": "#E5ECF6",
            "gridcolor": "white",
            "gridwidth": 2,
            "linecolor": "white",
            "showbackground": true,
            "ticks": "",
            "zerolinecolor": "white"
           }
          },
          "shapedefaults": {
           "line": {
            "color": "#2a3f5f"
           }
          },
          "ternary": {
           "aaxis": {
            "gridcolor": "white",
            "linecolor": "white",
            "ticks": ""
           },
           "baxis": {
            "gridcolor": "white",
            "linecolor": "white",
            "ticks": ""
           },
           "bgcolor": "#E5ECF6",
           "caxis": {
            "gridcolor": "white",
            "linecolor": "white",
            "ticks": ""
           }
          },
          "title": {
           "x": 0.05
          },
          "xaxis": {
           "automargin": true,
           "gridcolor": "white",
           "linecolor": "white",
           "ticks": "",
           "title": {
            "standoff": 15
           },
           "zerolinecolor": "white",
           "zerolinewidth": 2
          },
          "yaxis": {
           "automargin": true,
           "gridcolor": "white",
           "linecolor": "white",
           "ticks": "",
           "title": {
            "standoff": 15
           },
           "zerolinecolor": "white",
           "zerolinewidth": 2
          }
         }
        },
        "title": {
         "text": "Example Heatmap"
        },
        "width": 800,
        "xaxis": {
         "title": {
          "text": "X Axis"
         }
        },
        "yaxis": {
         "title": {
          "text": "Y Axis"
         }
        }
       }
      }
     },
     "metadata": {},
     "output_type": "display_data"
    }
   ],
   "source": [
    "def get_default_heatmap_fig() -> go.Figure:\n",
    "    \"\"\"Create a default heatmap figure with standard configuration.\n",
    "\n",
    "    Returns:\n",
    "        go.Figure: A plotly figure with default heatmap settings\n",
    "    \"\"\"\n",
    "    # General Viz Config\n",
    "    heatmap_layout = go.Layout(\n",
    "        modebar=go.layout.Modebar(\n",
    "            remove=[\n",
    "                \"zoomIn2d\",\n",
    "                \"zoomOut2d\",\n",
    "                \"autoScale2d\",\n",
    "                \"resetScale2d\",\n",
    "                \"hoverClosestCartesian\",\n",
    "                \"hoverCompareCartesian\",\n",
    "                \"toggleSpikelines\",\n",
    "            ]\n",
    "        ),\n",
    "        dragmode=False,\n",
    "        width=800,\n",
    "        height=600,\n",
    "    )\n",
    "\n",
    "    heatmap_trace = go.Heatmap(\n",
    "        colorscale=\"Viridis\",\n",
    "        textfont={\"color\": \"black\"},\n",
    "        reversescale=False,\n",
    "        showscale=True,\n",
    "        showlegend=False,\n",
    "    )\n",
    "\n",
    "    return go.Figure(data=heatmap_trace, layout=heatmap_layout)\n",
    "\n",
    "\n",
    "# Create example data\n",
    "x_labels = [\"A\", \"B\", \"C\"]  # <--- [NEW] Added example x labels\n",
    "y_labels = [\"X\", \"Y\", \"Z\"]  # <--- [NEW] Added example y labels\n",
    "z_values = [\n",
    "    [1, 2, 3],  # <--- [NEW] Added 2D array for heatmap values\n",
    "    [4, 5, 6],\n",
    "    [7, 8, 9],\n",
    "]\n",
    "\n",
    "# Create and configure figure\n",
    "fig = get_default_heatmap_fig()\n",
    "heatmap_trace: go.Heatmap = fig.data[0]\n",
    "heatmap_trace.x = x_labels  # <--- [CHANGED] Set x axis labels\n",
    "heatmap_trace.y = y_labels  # <--- [CHANGED] Set y axis labels\n",
    "heatmap_trace.z = z_values  # <--- [CHANGED] Set z values as 2D array\n",
    "\n",
    "# Update layout with titles\n",
    "fig.update_layout(  # <--- [NEW] Added titles\n",
    "    title=\"Example Heatmap\", xaxis_title=\"X Axis\", yaxis_title=\"Y Axis\"\n",
    ")\n",
    "\n",
    "fig  # Display the figure"
   ]
  },
  {
   "cell_type": "code",
   "execution_count": 81,
   "metadata": {},
   "outputs": [],
   "source": [
    "def heatmap(\n",
    "    matrix: np.ndarray | None = None,\n",
    "    row_labels: list | None = None,\n",
    "    col_labels: list | None = None,\n",
    "    title: str = \"DEFAULT TITLE\",\n",
    "    show_values: bool = True,\n",
    "    value_format: Literal[\".2f\", \".2e\"] = \".2f\",\n",
    "    width: int = 800,\n",
    "    height: int = 600,\n",
    "    xaxis_title: str | None = None,\n",
    "    yaxis_title: str | None = None,\n",
    "    log: bool = False,\n",
    "    nan_diagnal: bool = False,\n",
    ") -> go.Figure:\n",
    "    \"\"\"Create a heatmap visualization using plotly.\n",
    "\n",
    "    Args:\n",
    "        matrix: Input matrix to visualize. If None, generates random demo data\n",
    "        labels: Labels for rows and columns. If None, generates fake names\n",
    "        title: Title of the heatmap\n",
    "        show_values: Whether to show values in cells\n",
    "        value_format: Format string for cell values\n",
    "        width: Width of the figure in pixels\n",
    "        height: Height of the figure in pixels\n",
    "        xaxis_title: Title for x-axis\n",
    "        yaxis_title: Title for y-axis\n",
    "        log: Whether to log10 transform the values\n",
    "        nan_diagnal: Whether to set diagonal to NaN\n",
    "\n",
    "    Returns:\n",
    "        go.Figure: Plotly figure object\n",
    "    \"\"\"\n",
    "    faker = Faker()\n",
    "    if matrix is None:\n",
    "        shape = (10, 10)\n",
    "        matrix = rng.random(shape)\n",
    "    else:\n",
    "        shape = matrix.shape\n",
    "\n",
    "    if row_labels is None:\n",
    "        raise NotImplementedError # XXX\n",
    "        row_labels = [faker.name() for _ in range(shape[0])]\n",
    "        logger.info(row_labels)\n",
    "    logger.info(\"Creating heatmap visualization...\")\n",
    "\n",
    "    if col_labels is None:\n",
    "        raise NotImplementedError # XXX\n",
    "        col_labels = [faker.name() for _ in range(shape[0])]\n",
    "        logger.info(col_labels)\n",
    "    logger.info(\"Creating heatmap visualization...\")\n",
    "\n",
    "    # Convert input to numpy array and handle None values\n",
    "    matrix = np.array(matrix, dtype=object)\n",
    "    none_mask = matrix is None\n",
    "    matrix = matrix.astype(float)\n",
    "    if log:\n",
    "        matrix = np.log10(matrix)\n",
    "    matrix[none_mask] = np.nan\n",
    "    if nan_diagnal:\n",
    "        # Replace this with a method that will work for non-square\n",
    "        assert len(matrix.shape) == 2\n",
    "        for i in range(max(matrix.shape)):\n",
    "            matrix[i, i] = np.nan\n",
    "        # matrix[np.identity(matrix.shape[0], dtype=bool)] = np.nan\n",
    "\n",
    "    # Format cell values if needed\n",
    "    text_vals = None\n",
    "    if show_values:\n",
    "        text_vals = np.vectorize(lambda x: \"N/A\" if np.isnan(x) else f\"{x:{value_format}}\")(matrix)\n",
    "\n",
    "    print(f\"Row labels length: {len(row_labels)}\")\n",
    "    print(f\"Col labels length: {len(col_labels)}\")\n",
    "\n",
    "    # Create figure\n",
    "    fig = get_default_heatmap_fig()\n",
    "    heatmap_trace: go.Heatmap = fig.data[0]\n",
    "    heatmap_trace.update(\n",
    "        go.Heatmap(\n",
    "            z=matrix,\n",
    "            x=col_labels,\n",
    "            y=row_labels,\n",
    "            text=text_vals,\n",
    "            texttemplate=\"%{text}\" if show_values else None,\n",
    "        ),\n",
    "        overwrite=True,\n",
    "    )\n",
    "\n",
    "    # Update layout using plotly objects\n",
    "    fig.update_layout(\n",
    "        title=title,\n",
    "        height=height,\n",
    "        width=width,\n",
    "    )\n",
    "\n",
    "    # Update axes\n",
    "    fig.update_xaxes(\n",
    "        title=xaxis_title,\n",
    "        nticks=len(col_labels) if col_labels else None,\n",
    "        fixedrange=True,  # Disable zoom/pan\n",
    "    )\n",
    "\n",
    "    fig.update_yaxes(\n",
    "        title=yaxis_title,\n",
    "        nticks=len(row_labels) if row_labels else None,\n",
    "        fixedrange=True,  # Disable zoom/pan\n",
    "    )\n",
    "\n",
    "    return fig\n",
    "\n",
    "\n",
    "# heatmap()"
   ]
  },
  {
   "cell_type": "code",
   "execution_count": 88,
   "metadata": {},
   "outputs": [
    {
     "name": "stdout",
     "output_type": "stream",
     "text": [
      "[[[[0.    0.    0.    0.    0.    0.   ]\n",
      "   [0.002 0.002 0.002 0.002 0.002 0.002]\n",
      "   [0.001 0.001 0.001 0.001 0.001 0.001]\n",
      "   ...\n",
      "   [0.002 0.002 0.002 0.002 0.002 0.002]\n",
      "   [0.001 0.    0.    0.    0.    0.   ]\n",
      "   [0.001 0.001 0.001 0.001 0.001 0.001]]\n",
      "\n",
      "  [[0.001 0.001 0.001 0.001 0.001 0.001]\n",
      "   [0.    0.    0.    0.    0.    0.   ]\n",
      "   [0.001 0.001 0.001 0.001 0.001 0.001]\n",
      "   ...\n",
      "   [0.002 0.002 0.002 0.002 0.002 0.002]\n",
      "   [0.001 0.    0.    0.    0.    0.   ]\n",
      "   [0.001 0.001 0.001 0.001 0.001 0.001]]\n",
      "\n",
      "  [[0.001 0.001 0.001 0.001 0.001 0.001]\n",
      "   [0.002 0.002 0.002 0.002 0.002 0.002]\n",
      "   [0.    0.    0.    0.    0.    0.   ]\n",
      "   ...\n",
      "   [0.002 0.002 0.002 0.002 0.002 0.002]\n",
      "   [0.001 0.    0.    0.    0.    0.   ]\n",
      "   [0.001 0.001 0.001 0.001 0.001 0.001]]\n",
      "\n",
      "  ...\n",
      "\n",
      "  [[0.001 0.001 0.001 0.001 0.001 0.001]\n",
      "   [0.002 0.002 0.002 0.002 0.002 0.002]\n",
      "   [0.001 0.001 0.001 0.001 0.001 0.001]\n",
      "   ...\n",
      "   [0.002 0.002 0.002 0.002 0.002 0.002]\n",
      "   [0.001 0.    0.    0.    0.    0.   ]\n",
      "   [0.    0.    0.    0.    0.    0.   ]]\n",
      "\n",
      "  [[0.001 0.001 0.001 0.001 0.001 0.001]\n",
      "   [0.001 0.001 0.001 0.001 0.001 0.001]\n",
      "   [0.001 0.001 0.001 0.001 0.001 0.001]\n",
      "   ...\n",
      "   [0.001 0.001 0.001 0.001 0.001 0.001]\n",
      "   [0.    0.    0.    0.    0.    0.   ]\n",
      "   [0.001 0.001 0.001 0.001 0.001 0.001]]\n",
      "\n",
      "  [[1.001 1.001 1.001 1.001 1.001 1.001]\n",
      "   [1.002 1.002 1.002 1.002 1.002 1.002]\n",
      "   [1.001 1.001 1.001 1.001 1.001 1.001]\n",
      "   ...\n",
      "   [1.001 1.001 1.001 1.001 1.001 1.001]\n",
      "   [1.    1.    1.    1.    1.    1.   ]\n",
      "   [1.001 1.001 1.001 1.001 1.001 1.001]]]\n",
      "\n",
      "\n",
      " [[[0.    0.    0.    0.    0.    0.   ]\n",
      "   [0.002 0.002 0.002 0.002 0.002 0.002]\n",
      "   [0.001 0.001 0.001 0.001 0.001 0.001]\n",
      "   ...\n",
      "   [0.002 0.002 0.002 0.002 0.002 0.002]\n",
      "   [0.001 0.    0.    0.    0.    0.   ]\n",
      "   [0.001 0.001 0.001 0.001 0.001 0.001]]\n",
      "\n",
      "  [[0.001 0.001 0.001 0.001 0.001 0.001]\n",
      "   [0.    0.    0.    0.    0.    0.   ]\n",
      "   [0.001 0.001 0.001 0.001 0.001 0.001]\n",
      "   ...\n",
      "   [0.002 0.002 0.002 0.002 0.002 0.002]\n",
      "   [0.001 0.    0.    0.    0.    0.   ]\n",
      "   [0.001 0.001 0.001 0.001 0.001 0.001]]\n",
      "\n",
      "  [[0.001 0.001 0.001 0.001 0.001 0.001]\n",
      "   [0.002 0.002 0.002 0.002 0.002 0.002]\n",
      "   [0.    0.    0.    0.    0.    0.   ]\n",
      "   ...\n",
      "   [0.002 0.002 0.002 0.002 0.002 0.002]\n",
      "   [0.001 0.    0.    0.    0.    0.   ]\n",
      "   [0.001 0.001 0.001 0.001 0.001 0.001]]\n",
      "\n",
      "  ...\n",
      "\n",
      "  [[0.001 0.001 0.001 0.001 0.001 0.001]\n",
      "   [0.002 0.002 0.002 0.002 0.002 0.002]\n",
      "   [0.001 0.001 0.001 0.001 0.001 0.001]\n",
      "   ...\n",
      "   [0.002 0.002 0.002 0.002 0.002 0.002]\n",
      "   [0.001 0.    0.    0.    0.    0.   ]\n",
      "   [0.    0.    0.    0.    0.    0.   ]]\n",
      "\n",
      "  [[0.001 0.001 0.001 0.001 0.001 0.001]\n",
      "   [0.001 0.001 0.001 0.001 0.001 0.001]\n",
      "   [0.001 0.001 0.001 0.001 0.001 0.001]\n",
      "   ...\n",
      "   [0.001 0.001 0.001 0.001 0.001 0.001]\n",
      "   [0.    0.    0.    0.    0.    0.   ]\n",
      "   [0.001 0.001 0.001 0.001 0.001 0.001]]\n",
      "\n",
      "  [[1.001 1.001 1.001 1.001 1.001 1.001]\n",
      "   [1.001 1.001 1.001 1.001 1.001 1.001]\n",
      "   [1.001 1.001 1.001 1.001 1.001 1.001]\n",
      "   ...\n",
      "   [1.001 1.001 1.001 1.001 1.001 1.001]\n",
      "   [1.    1.    1.    1.    1.    1.   ]\n",
      "   [1.001 1.001 1.001 1.001 1.001 1.001]]]\n",
      "\n",
      "\n",
      " [[[0.    0.    0.    0.    0.    0.   ]\n",
      "   [0.002 0.002 0.002 0.002 0.002 0.002]\n",
      "   [0.001 0.001 0.001 0.001 0.001 0.001]\n",
      "   ...\n",
      "   [0.002 0.002 0.002 0.002 0.002 0.002]\n",
      "   [0.001 0.    0.    0.    0.    0.   ]\n",
      "   [0.001 0.001 0.001 0.001 0.001 0.001]]\n",
      "\n",
      "  [[0.001 0.001 0.001 0.001 0.001 0.001]\n",
      "   [0.    0.    0.    0.    0.    0.   ]\n",
      "   [0.001 0.001 0.001 0.001 0.001 0.001]\n",
      "   ...\n",
      "   [0.002 0.002 0.002 0.002 0.002 0.002]\n",
      "   [0.001 0.    0.    0.    0.    0.   ]\n",
      "   [0.001 0.001 0.001 0.001 0.001 0.001]]\n",
      "\n",
      "  [[0.001 0.001 0.001 0.001 0.001 0.001]\n",
      "   [0.002 0.002 0.002 0.002 0.002 0.002]\n",
      "   [0.    0.    0.    0.    0.    0.   ]\n",
      "   ...\n",
      "   [0.002 0.002 0.002 0.002 0.002 0.002]\n",
      "   [0.001 0.    0.    0.    0.    0.   ]\n",
      "   [0.001 0.001 0.001 0.001 0.001 0.001]]\n",
      "\n",
      "  ...\n",
      "\n",
      "  [[0.001 0.001 0.001 0.001 0.001 0.001]\n",
      "   [0.002 0.002 0.002 0.002 0.002 0.002]\n",
      "   [0.001 0.001 0.001 0.001 0.001 0.001]\n",
      "   ...\n",
      "   [0.002 0.002 0.002 0.002 0.002 0.002]\n",
      "   [0.001 0.    0.    0.    0.    0.   ]\n",
      "   [0.    0.    0.    0.    0.    0.   ]]\n",
      "\n",
      "  [[0.001 0.001 0.001 0.001 0.001 0.001]\n",
      "   [0.001 0.001 0.001 0.001 0.001 0.001]\n",
      "   [0.001 0.001 0.001 0.001 0.001 0.001]\n",
      "   ...\n",
      "   [0.001 0.001 0.001 0.001 0.001 0.001]\n",
      "   [0.    0.    0.    0.    0.    0.   ]\n",
      "   [0.001 0.001 0.001 0.001 0.001 0.001]]\n",
      "\n",
      "  [[1.001 1.001 1.001 1.001 1.001 1.001]\n",
      "   [1.001 1.001 1.001 1.001 1.001 1.001]\n",
      "   [1.001 1.001 1.001 1.001 1.001 1.001]\n",
      "   ...\n",
      "   [1.001 1.001 1.001 1.001 1.001 1.001]\n",
      "   [1.    1.    1.    1.    1.    1.   ]\n",
      "   [1.    1.    1.    1.    1.    1.   ]]]\n",
      "\n",
      "\n",
      " [[[0.    0.    0.    0.    0.    0.   ]\n",
      "   [0.002 0.002 0.002 0.002 0.002 0.002]\n",
      "   [0.001 0.001 0.001 0.001 0.001 0.001]\n",
      "   ...\n",
      "   [0.002 0.002 0.002 0.002 0.002 0.002]\n",
      "   [0.001 0.    0.    0.    0.    0.   ]\n",
      "   [0.001 0.001 0.001 0.001 0.001 0.001]]\n",
      "\n",
      "  [[0.002 0.001 0.001 0.001 0.001 0.001]\n",
      "   [0.    0.    0.    0.    0.    0.   ]\n",
      "   [0.002 0.001 0.001 0.001 0.001 0.001]\n",
      "   ...\n",
      "   [0.002 0.002 0.002 0.002 0.002 0.002]\n",
      "   [0.001 0.    0.    0.    0.    0.   ]\n",
      "   [0.001 0.001 0.001 0.001 0.001 0.001]]\n",
      "\n",
      "  [[0.001 0.001 0.001 0.001 0.001 0.001]\n",
      "   [0.002 0.002 0.002 0.002 0.002 0.002]\n",
      "   [0.    0.    0.    0.    0.    0.   ]\n",
      "   ...\n",
      "   [0.002 0.002 0.002 0.002 0.002 0.002]\n",
      "   [0.001 0.    0.    0.    0.    0.   ]\n",
      "   [0.001 0.001 0.001 0.001 0.001 0.001]]\n",
      "\n",
      "  ...\n",
      "\n",
      "  [[0.001 0.001 0.001 0.001 0.001 0.001]\n",
      "   [0.002 0.002 0.002 0.002 0.002 0.002]\n",
      "   [0.001 0.001 0.001 0.001 0.001 0.001]\n",
      "   ...\n",
      "   [0.002 0.002 0.002 0.002 0.002 0.002]\n",
      "   [0.001 0.    0.    0.    0.    0.   ]\n",
      "   [0.    0.    0.    0.    0.    0.   ]]\n",
      "\n",
      "  [[0.001 0.001 0.001 0.001 0.001 0.001]\n",
      "   [0.001 0.001 0.001 0.001 0.001 0.001]\n",
      "   [0.001 0.001 0.001 0.001 0.001 0.001]\n",
      "   ...\n",
      "   [0.001 0.001 0.001 0.001 0.001 0.001]\n",
      "   [0.    0.    0.    0.    0.    0.   ]\n",
      "   [0.001 0.001 0.001 0.001 0.001 0.001]]\n",
      "\n",
      "  [[1.001 1.001 1.001 1.001 1.001 1.001]\n",
      "   [1.001 1.001 1.001 1.001 1.001 1.001]\n",
      "   [1.002 1.002 1.002 1.002 1.002 1.002]\n",
      "   ...\n",
      "   [1.001 1.001 1.001 1.001 1.001 1.001]\n",
      "   [1.001 1.001 1.001 1.001 1.001 1.001]\n",
      "   [1.001 1.001 1.001 1.001 1.001 1.001]]]\n",
      "\n",
      "\n",
      " [[[0.    0.    0.    0.    0.    0.   ]\n",
      "   [0.002 0.002 0.002 0.002 0.002 0.002]\n",
      "   [0.001 0.001 0.001 0.001 0.001 0.001]\n",
      "   ...\n",
      "   [0.002 0.002 0.002 0.002 0.002 0.002]\n",
      "   [0.001 0.    0.    0.    0.    0.   ]\n",
      "   [0.001 0.001 0.001 0.001 0.001 0.001]]\n",
      "\n",
      "  [[0.001 0.001 0.001 0.001 0.001 0.001]\n",
      "   [0.    0.    0.    0.    0.    0.   ]\n",
      "   [0.001 0.001 0.001 0.001 0.001 0.001]\n",
      "   ...\n",
      "   [0.002 0.002 0.002 0.002 0.002 0.002]\n",
      "   [0.001 0.    0.    0.    0.    0.   ]\n",
      "   [0.001 0.001 0.001 0.001 0.001 0.001]]\n",
      "\n",
      "  [[0.001 0.001 0.001 0.001 0.001 0.001]\n",
      "   [0.002 0.002 0.002 0.002 0.002 0.002]\n",
      "   [0.    0.    0.    0.    0.    0.   ]\n",
      "   ...\n",
      "   [0.002 0.002 0.002 0.002 0.002 0.002]\n",
      "   [0.001 0.    0.    0.    0.    0.   ]\n",
      "   [0.001 0.001 0.001 0.001 0.001 0.001]]\n",
      "\n",
      "  ...\n",
      "\n",
      "  [[0.001 0.001 0.001 0.001 0.001 0.001]\n",
      "   [0.002 0.002 0.002 0.002 0.002 0.002]\n",
      "   [0.001 0.001 0.001 0.001 0.001 0.001]\n",
      "   ...\n",
      "   [0.002 0.002 0.002 0.002 0.002 0.002]\n",
      "   [0.    0.    0.    0.    0.    0.   ]\n",
      "   [0.    0.    0.    0.    0.    0.   ]]\n",
      "\n",
      "  [[0.001 0.001 0.001 0.001 0.001 0.001]\n",
      "   [0.001 0.001 0.001 0.001 0.001 0.001]\n",
      "   [0.001 0.001 0.001 0.001 0.001 0.001]\n",
      "   ...\n",
      "   [0.001 0.001 0.001 0.001 0.001 0.001]\n",
      "   [0.    0.    0.    0.    0.    0.   ]\n",
      "   [0.001 0.001 0.001 0.001 0.001 0.001]]\n",
      "\n",
      "  [[1.001 1.001 1.001 1.001 1.001 1.001]\n",
      "   [1.002 1.002 1.002 1.002 1.002 1.002]\n",
      "   [1.001 1.001 1.001 1.001 1.001 1.001]\n",
      "   ...\n",
      "   [1.001 1.001 1.001 1.001 1.001 1.001]\n",
      "   [1.    1.    1.    1.    1.    1.   ]\n",
      "   [1.    1.    1.    1.    1.    1.   ]]]\n",
      "\n",
      "\n",
      " [[[0.    0.    0.    0.    0.    0.   ]\n",
      "   [0.002 0.002 0.002 0.002 0.002 0.002]\n",
      "   [0.001 0.001 0.001 0.001 0.001 0.001]\n",
      "   ...\n",
      "   [0.002 0.002 0.002 0.002 0.002 0.002]\n",
      "   [0.001 0.    0.    0.    0.    0.   ]\n",
      "   [0.001 0.001 0.001 0.001 0.001 0.001]]\n",
      "\n",
      "  [[0.001 0.001 0.001 0.001 0.001 0.001]\n",
      "   [0.    0.    0.    0.    0.    0.   ]\n",
      "   [0.001 0.001 0.001 0.001 0.001 0.001]\n",
      "   ...\n",
      "   [0.002 0.002 0.002 0.002 0.002 0.002]\n",
      "   [0.001 0.    0.    0.    0.    0.   ]\n",
      "   [0.001 0.001 0.001 0.001 0.001 0.001]]\n",
      "\n",
      "  [[0.001 0.001 0.001 0.001 0.001 0.001]\n",
      "   [0.002 0.002 0.002 0.002 0.002 0.002]\n",
      "   [0.    0.    0.    0.    0.    0.   ]\n",
      "   ...\n",
      "   [0.002 0.002 0.002 0.002 0.002 0.002]\n",
      "   [0.001 0.    0.    0.    0.    0.   ]\n",
      "   [0.001 0.001 0.001 0.001 0.001 0.001]]\n",
      "\n",
      "  ...\n",
      "\n",
      "  [[0.001 0.001 0.001 0.001 0.001 0.001]\n",
      "   [0.002 0.002 0.002 0.002 0.002 0.002]\n",
      "   [0.001 0.001 0.001 0.001 0.001 0.001]\n",
      "   ...\n",
      "   [0.002 0.002 0.002 0.002 0.002 0.002]\n",
      "   [0.001 0.    0.    0.    0.    0.   ]\n",
      "   [0.    0.    0.    0.    0.    0.   ]]\n",
      "\n",
      "  [[0.001 0.001 0.001 0.001 0.001 0.001]\n",
      "   [0.001 0.001 0.001 0.001 0.001 0.001]\n",
      "   [0.001 0.001 0.001 0.001 0.001 0.001]\n",
      "   ...\n",
      "   [0.001 0.001 0.001 0.001 0.001 0.001]\n",
      "   [0.    0.    0.    0.    0.    0.   ]\n",
      "   [0.001 0.001 0.001 0.001 0.001 0.001]]\n",
      "\n",
      "  [[1.001 1.001 1.001 1.001 1.001 1.001]\n",
      "   [1.001 1.001 1.001 1.001 1.001 1.001]\n",
      "   [1.001 1.001 1.001 1.001 1.001 1.001]\n",
      "   ...\n",
      "   [1.001 1.001 1.001 1.001 1.001 1.001]\n",
      "   [1.    1.    1.    1.    1.    1.   ]\n",
      "   [1.001 1.001 1.001 1.001 1.001 1.001]]]]\n",
      "(6, 19, 17, 6)\n",
      "(7, 19, 17, 6)\n"
     ]
    },
    {
     "name": "stderr",
     "output_type": "stream",
     "text": [
      "/var/folders/j5/qcb5hwfx53q57rz91nm4rvr40000gn/T/ipykernel_83190/1654731141.py:47: RuntimeWarning:\n",
      "\n",
      "divide by zero encountered in log10\n",
      "\n"
     ]
    },
    {
     "data": {
      "text/html": [
       "<pre style=\"white-space:pre;overflow-x:auto;line-height:normal;font-family:Menlo,'DejaVu Sans Mono',consolas,'Courier New',monospace\"><span style=\"color: #7fbfbf; text-decoration-color: #7fbfbf\">[12/14/24 03:15:47] </span><span style=\"color: #000080; text-decoration-color: #000080; font-weight: bold\">INFO    </span><span style=\"color: #008000; text-decoration-color: #008000; font-weight: bold\"> </span><span style=\"font-weight: bold\">[</span><span style=\"color: #008080; text-decoration-color: #008080; font-weight: bold\">3511079560.</span>py:<span style=\"color: #008080; text-decoration-color: #008080; font-weight: bold\">44</span><span style=\"font-weight: bold\">]</span> Creating heatmap visualization<span style=\"color: #808000; text-decoration-color: #808000\">...</span>                  <a href=\"file:///var/folders/j5/qcb5hwfx53q57rz91nm4rvr40000gn/T/ipykernel_83190/3511079560.py\" target=\"_blank\"><span style=\"color: #008080; text-decoration-color: #008080; font-weight: bold\">3511079560.py</span></a><span style=\"color: #008080; text-decoration-color: #008080; font-weight: bold\">:</span><a href=\"file:///var/folders/j5/qcb5hwfx53q57rz91nm4rvr40000gn/T/ipykernel_83190/3511079560.py#44\" target=\"_blank\"><span style=\"color: #008080; text-decoration-color: #008080; font-weight: bold\">44</span></a>\n",
       "</pre>\n"
      ],
      "text/plain": [
       "\u001b[2;36m[12/14/24 03:15:47]\u001b[0m\u001b[2;36m \u001b[0m\u001b[1;34mINFO    \u001b[0m\u001b[1;32m \u001b[0m\u001b[1m[\u001b[0m\u001b[1;36m3511079560.\u001b[0mpy:\u001b[1;36m44\u001b[0m\u001b[1m]\u001b[0m Creating heatmap visualization\u001b[33m...\u001b[0m                  \u001b]8;id=357787;file:///var/folders/j5/qcb5hwfx53q57rz91nm4rvr40000gn/T/ipykernel_83190/3511079560.py\u001b\\\u001b[1;36m3511079560.py\u001b[0m\u001b]8;;\u001b\\\u001b[1;36m:\u001b[0m\u001b]8;id=133960;file:///var/folders/j5/qcb5hwfx53q57rz91nm4rvr40000gn/T/ipykernel_83190/3511079560.py#44\u001b\\\u001b[1;36m44\u001b[0m\u001b]8;;\u001b\\\n"
      ]
     },
     "metadata": {},
     "output_type": "display_data"
    },
    {
     "data": {
      "text/html": [
       "<pre style=\"white-space:pre;overflow-x:auto;line-height:normal;font-family:Menlo,'DejaVu Sans Mono',consolas,'Courier New',monospace\"><span style=\"color: #7fbfbf; text-decoration-color: #7fbfbf\">                    </span><span style=\"color: #000080; text-decoration-color: #000080; font-weight: bold\">INFO    </span><span style=\"color: #008000; text-decoration-color: #008000; font-weight: bold\"> </span><span style=\"font-weight: bold\">[</span><span style=\"color: #008080; text-decoration-color: #008080; font-weight: bold\">3511079560.</span>py:<span style=\"color: #008080; text-decoration-color: #008080; font-weight: bold\">50</span><span style=\"font-weight: bold\">]</span> Creating heatmap visualization<span style=\"color: #808000; text-decoration-color: #808000\">...</span>                  <a href=\"file:///var/folders/j5/qcb5hwfx53q57rz91nm4rvr40000gn/T/ipykernel_83190/3511079560.py\" target=\"_blank\"><span style=\"color: #008080; text-decoration-color: #008080; font-weight: bold\">3511079560.py</span></a><span style=\"color: #008080; text-decoration-color: #008080; font-weight: bold\">:</span><a href=\"file:///var/folders/j5/qcb5hwfx53q57rz91nm4rvr40000gn/T/ipykernel_83190/3511079560.py#50\" target=\"_blank\"><span style=\"color: #008080; text-decoration-color: #008080; font-weight: bold\">50</span></a>\n",
       "</pre>\n"
      ],
      "text/plain": [
       "\u001b[2;36m                   \u001b[0m\u001b[2;36m \u001b[0m\u001b[1;34mINFO    \u001b[0m\u001b[1;32m \u001b[0m\u001b[1m[\u001b[0m\u001b[1;36m3511079560.\u001b[0mpy:\u001b[1;36m50\u001b[0m\u001b[1m]\u001b[0m Creating heatmap visualization\u001b[33m...\u001b[0m                  \u001b]8;id=653373;file:///var/folders/j5/qcb5hwfx53q57rz91nm4rvr40000gn/T/ipykernel_83190/3511079560.py\u001b\\\u001b[1;36m3511079560.py\u001b[0m\u001b]8;;\u001b\\\u001b[1;36m:\u001b[0m\u001b]8;id=130308;file:///var/folders/j5/qcb5hwfx53q57rz91nm4rvr40000gn/T/ipykernel_83190/3511079560.py#50\u001b\\\u001b[1;36m50\u001b[0m\u001b]8;;\u001b\\\n"
      ]
     },
     "metadata": {},
     "output_type": "display_data"
    },
    {
     "name": "stdout",
     "output_type": "stream",
     "text": [
      "Row labels length: 19\n",
      "Col labels length: 17\n"
     ]
    },
    {
     "data": {
      "text/html": [
       "<pre style=\"white-space:pre;overflow-x:auto;line-height:normal;font-family:Menlo,'DejaVu Sans Mono',consolas,'Courier New',monospace\"><span style=\"color: #7fbfbf; text-decoration-color: #7fbfbf\">                    </span><span style=\"color: #000080; text-decoration-color: #000080; font-weight: bold\">INFO    </span><span style=\"color: #008000; text-decoration-color: #008000; font-weight: bold\"> </span><span style=\"font-weight: bold\">[</span><span style=\"color: #008080; text-decoration-color: #008080; font-weight: bold\">3511079560.</span>py:<span style=\"color: #008080; text-decoration-color: #008080; font-weight: bold\">44</span><span style=\"font-weight: bold\">]</span> Creating heatmap visualization<span style=\"color: #808000; text-decoration-color: #808000\">...</span>                  <a href=\"file:///var/folders/j5/qcb5hwfx53q57rz91nm4rvr40000gn/T/ipykernel_83190/3511079560.py\" target=\"_blank\"><span style=\"color: #008080; text-decoration-color: #008080; font-weight: bold\">3511079560.py</span></a><span style=\"color: #008080; text-decoration-color: #008080; font-weight: bold\">:</span><a href=\"file:///var/folders/j5/qcb5hwfx53q57rz91nm4rvr40000gn/T/ipykernel_83190/3511079560.py#44\" target=\"_blank\"><span style=\"color: #008080; text-decoration-color: #008080; font-weight: bold\">44</span></a>\n",
       "</pre>\n"
      ],
      "text/plain": [
       "\u001b[2;36m                   \u001b[0m\u001b[2;36m \u001b[0m\u001b[1;34mINFO    \u001b[0m\u001b[1;32m \u001b[0m\u001b[1m[\u001b[0m\u001b[1;36m3511079560.\u001b[0mpy:\u001b[1;36m44\u001b[0m\u001b[1m]\u001b[0m Creating heatmap visualization\u001b[33m...\u001b[0m                  \u001b]8;id=915446;file:///var/folders/j5/qcb5hwfx53q57rz91nm4rvr40000gn/T/ipykernel_83190/3511079560.py\u001b\\\u001b[1;36m3511079560.py\u001b[0m\u001b]8;;\u001b\\\u001b[1;36m:\u001b[0m\u001b]8;id=909223;file:///var/folders/j5/qcb5hwfx53q57rz91nm4rvr40000gn/T/ipykernel_83190/3511079560.py#44\u001b\\\u001b[1;36m44\u001b[0m\u001b]8;;\u001b\\\n"
      ]
     },
     "metadata": {},
     "output_type": "display_data"
    },
    {
     "data": {
      "text/html": [
       "<pre style=\"white-space:pre;overflow-x:auto;line-height:normal;font-family:Menlo,'DejaVu Sans Mono',consolas,'Courier New',monospace\"><span style=\"color: #7fbfbf; text-decoration-color: #7fbfbf\">                    </span><span style=\"color: #000080; text-decoration-color: #000080; font-weight: bold\">INFO    </span><span style=\"color: #008000; text-decoration-color: #008000; font-weight: bold\"> </span><span style=\"font-weight: bold\">[</span><span style=\"color: #008080; text-decoration-color: #008080; font-weight: bold\">3511079560.</span>py:<span style=\"color: #008080; text-decoration-color: #008080; font-weight: bold\">50</span><span style=\"font-weight: bold\">]</span> Creating heatmap visualization<span style=\"color: #808000; text-decoration-color: #808000\">...</span>                  <a href=\"file:///var/folders/j5/qcb5hwfx53q57rz91nm4rvr40000gn/T/ipykernel_83190/3511079560.py\" target=\"_blank\"><span style=\"color: #008080; text-decoration-color: #008080; font-weight: bold\">3511079560.py</span></a><span style=\"color: #008080; text-decoration-color: #008080; font-weight: bold\">:</span><a href=\"file:///var/folders/j5/qcb5hwfx53q57rz91nm4rvr40000gn/T/ipykernel_83190/3511079560.py#50\" target=\"_blank\"><span style=\"color: #008080; text-decoration-color: #008080; font-weight: bold\">50</span></a>\n",
       "</pre>\n"
      ],
      "text/plain": [
       "\u001b[2;36m                   \u001b[0m\u001b[2;36m \u001b[0m\u001b[1;34mINFO    \u001b[0m\u001b[1;32m \u001b[0m\u001b[1m[\u001b[0m\u001b[1;36m3511079560.\u001b[0mpy:\u001b[1;36m50\u001b[0m\u001b[1m]\u001b[0m Creating heatmap visualization\u001b[33m...\u001b[0m                  \u001b]8;id=451934;file:///var/folders/j5/qcb5hwfx53q57rz91nm4rvr40000gn/T/ipykernel_83190/3511079560.py\u001b\\\u001b[1;36m3511079560.py\u001b[0m\u001b]8;;\u001b\\\u001b[1;36m:\u001b[0m\u001b]8;id=347954;file:///var/folders/j5/qcb5hwfx53q57rz91nm4rvr40000gn/T/ipykernel_83190/3511079560.py#50\u001b\\\u001b[1;36m50\u001b[0m\u001b]8;;\u001b\\\n"
      ]
     },
     "metadata": {},
     "output_type": "display_data"
    },
    {
     "name": "stdout",
     "output_type": "stream",
     "text": [
      "Row labels length: 19\n",
      "Col labels length: 17\n"
     ]
    },
    {
     "data": {
      "text/html": [
       "<pre style=\"white-space:pre;overflow-x:auto;line-height:normal;font-family:Menlo,'DejaVu Sans Mono',consolas,'Courier New',monospace\"><span style=\"color: #7fbfbf; text-decoration-color: #7fbfbf\">                    </span><span style=\"color: #000080; text-decoration-color: #000080; font-weight: bold\">INFO    </span><span style=\"color: #008000; text-decoration-color: #008000; font-weight: bold\"> </span><span style=\"font-weight: bold\">[</span><span style=\"color: #008080; text-decoration-color: #008080; font-weight: bold\">3511079560.</span>py:<span style=\"color: #008080; text-decoration-color: #008080; font-weight: bold\">44</span><span style=\"font-weight: bold\">]</span> Creating heatmap visualization<span style=\"color: #808000; text-decoration-color: #808000\">...</span>                  <a href=\"file:///var/folders/j5/qcb5hwfx53q57rz91nm4rvr40000gn/T/ipykernel_83190/3511079560.py\" target=\"_blank\"><span style=\"color: #008080; text-decoration-color: #008080; font-weight: bold\">3511079560.py</span></a><span style=\"color: #008080; text-decoration-color: #008080; font-weight: bold\">:</span><a href=\"file:///var/folders/j5/qcb5hwfx53q57rz91nm4rvr40000gn/T/ipykernel_83190/3511079560.py#44\" target=\"_blank\"><span style=\"color: #008080; text-decoration-color: #008080; font-weight: bold\">44</span></a>\n",
       "</pre>\n"
      ],
      "text/plain": [
       "\u001b[2;36m                   \u001b[0m\u001b[2;36m \u001b[0m\u001b[1;34mINFO    \u001b[0m\u001b[1;32m \u001b[0m\u001b[1m[\u001b[0m\u001b[1;36m3511079560.\u001b[0mpy:\u001b[1;36m44\u001b[0m\u001b[1m]\u001b[0m Creating heatmap visualization\u001b[33m...\u001b[0m                  \u001b]8;id=814879;file:///var/folders/j5/qcb5hwfx53q57rz91nm4rvr40000gn/T/ipykernel_83190/3511079560.py\u001b\\\u001b[1;36m3511079560.py\u001b[0m\u001b]8;;\u001b\\\u001b[1;36m:\u001b[0m\u001b]8;id=453835;file:///var/folders/j5/qcb5hwfx53q57rz91nm4rvr40000gn/T/ipykernel_83190/3511079560.py#44\u001b\\\u001b[1;36m44\u001b[0m\u001b]8;;\u001b\\\n"
      ]
     },
     "metadata": {},
     "output_type": "display_data"
    },
    {
     "data": {
      "text/html": [
       "<pre style=\"white-space:pre;overflow-x:auto;line-height:normal;font-family:Menlo,'DejaVu Sans Mono',consolas,'Courier New',monospace\"><span style=\"color: #7fbfbf; text-decoration-color: #7fbfbf\">                    </span><span style=\"color: #000080; text-decoration-color: #000080; font-weight: bold\">INFO    </span><span style=\"color: #008000; text-decoration-color: #008000; font-weight: bold\"> </span><span style=\"font-weight: bold\">[</span><span style=\"color: #008080; text-decoration-color: #008080; font-weight: bold\">3511079560.</span>py:<span style=\"color: #008080; text-decoration-color: #008080; font-weight: bold\">50</span><span style=\"font-weight: bold\">]</span> Creating heatmap visualization<span style=\"color: #808000; text-decoration-color: #808000\">...</span>                  <a href=\"file:///var/folders/j5/qcb5hwfx53q57rz91nm4rvr40000gn/T/ipykernel_83190/3511079560.py\" target=\"_blank\"><span style=\"color: #008080; text-decoration-color: #008080; font-weight: bold\">3511079560.py</span></a><span style=\"color: #008080; text-decoration-color: #008080; font-weight: bold\">:</span><a href=\"file:///var/folders/j5/qcb5hwfx53q57rz91nm4rvr40000gn/T/ipykernel_83190/3511079560.py#50\" target=\"_blank\"><span style=\"color: #008080; text-decoration-color: #008080; font-weight: bold\">50</span></a>\n",
       "</pre>\n"
      ],
      "text/plain": [
       "\u001b[2;36m                   \u001b[0m\u001b[2;36m \u001b[0m\u001b[1;34mINFO    \u001b[0m\u001b[1;32m \u001b[0m\u001b[1m[\u001b[0m\u001b[1;36m3511079560.\u001b[0mpy:\u001b[1;36m50\u001b[0m\u001b[1m]\u001b[0m Creating heatmap visualization\u001b[33m...\u001b[0m                  \u001b]8;id=709567;file:///var/folders/j5/qcb5hwfx53q57rz91nm4rvr40000gn/T/ipykernel_83190/3511079560.py\u001b\\\u001b[1;36m3511079560.py\u001b[0m\u001b]8;;\u001b\\\u001b[1;36m:\u001b[0m\u001b]8;id=184847;file:///var/folders/j5/qcb5hwfx53q57rz91nm4rvr40000gn/T/ipykernel_83190/3511079560.py#50\u001b\\\u001b[1;36m50\u001b[0m\u001b]8;;\u001b\\\n"
      ]
     },
     "metadata": {},
     "output_type": "display_data"
    },
    {
     "name": "stdout",
     "output_type": "stream",
     "text": [
      "Row labels length: 19\n",
      "Col labels length: 17\n"
     ]
    },
    {
     "data": {
      "text/html": [
       "<pre style=\"white-space:pre;overflow-x:auto;line-height:normal;font-family:Menlo,'DejaVu Sans Mono',consolas,'Courier New',monospace\"><span style=\"color: #7fbfbf; text-decoration-color: #7fbfbf\">                    </span><span style=\"color: #000080; text-decoration-color: #000080; font-weight: bold\">INFO    </span><span style=\"color: #008000; text-decoration-color: #008000; font-weight: bold\"> </span><span style=\"font-weight: bold\">[</span><span style=\"color: #008080; text-decoration-color: #008080; font-weight: bold\">3511079560.</span>py:<span style=\"color: #008080; text-decoration-color: #008080; font-weight: bold\">44</span><span style=\"font-weight: bold\">]</span> Creating heatmap visualization<span style=\"color: #808000; text-decoration-color: #808000\">...</span>                  <a href=\"file:///var/folders/j5/qcb5hwfx53q57rz91nm4rvr40000gn/T/ipykernel_83190/3511079560.py\" target=\"_blank\"><span style=\"color: #008080; text-decoration-color: #008080; font-weight: bold\">3511079560.py</span></a><span style=\"color: #008080; text-decoration-color: #008080; font-weight: bold\">:</span><a href=\"file:///var/folders/j5/qcb5hwfx53q57rz91nm4rvr40000gn/T/ipykernel_83190/3511079560.py#44\" target=\"_blank\"><span style=\"color: #008080; text-decoration-color: #008080; font-weight: bold\">44</span></a>\n",
       "</pre>\n"
      ],
      "text/plain": [
       "\u001b[2;36m                   \u001b[0m\u001b[2;36m \u001b[0m\u001b[1;34mINFO    \u001b[0m\u001b[1;32m \u001b[0m\u001b[1m[\u001b[0m\u001b[1;36m3511079560.\u001b[0mpy:\u001b[1;36m44\u001b[0m\u001b[1m]\u001b[0m Creating heatmap visualization\u001b[33m...\u001b[0m                  \u001b]8;id=344325;file:///var/folders/j5/qcb5hwfx53q57rz91nm4rvr40000gn/T/ipykernel_83190/3511079560.py\u001b\\\u001b[1;36m3511079560.py\u001b[0m\u001b]8;;\u001b\\\u001b[1;36m:\u001b[0m\u001b]8;id=331733;file:///var/folders/j5/qcb5hwfx53q57rz91nm4rvr40000gn/T/ipykernel_83190/3511079560.py#44\u001b\\\u001b[1;36m44\u001b[0m\u001b]8;;\u001b\\\n"
      ]
     },
     "metadata": {},
     "output_type": "display_data"
    },
    {
     "data": {
      "text/html": [
       "<pre style=\"white-space:pre;overflow-x:auto;line-height:normal;font-family:Menlo,'DejaVu Sans Mono',consolas,'Courier New',monospace\"><span style=\"color: #7fbfbf; text-decoration-color: #7fbfbf\">                    </span><span style=\"color: #000080; text-decoration-color: #000080; font-weight: bold\">INFO    </span><span style=\"color: #008000; text-decoration-color: #008000; font-weight: bold\"> </span><span style=\"font-weight: bold\">[</span><span style=\"color: #008080; text-decoration-color: #008080; font-weight: bold\">3511079560.</span>py:<span style=\"color: #008080; text-decoration-color: #008080; font-weight: bold\">50</span><span style=\"font-weight: bold\">]</span> Creating heatmap visualization<span style=\"color: #808000; text-decoration-color: #808000\">...</span>                  <a href=\"file:///var/folders/j5/qcb5hwfx53q57rz91nm4rvr40000gn/T/ipykernel_83190/3511079560.py\" target=\"_blank\"><span style=\"color: #008080; text-decoration-color: #008080; font-weight: bold\">3511079560.py</span></a><span style=\"color: #008080; text-decoration-color: #008080; font-weight: bold\">:</span><a href=\"file:///var/folders/j5/qcb5hwfx53q57rz91nm4rvr40000gn/T/ipykernel_83190/3511079560.py#50\" target=\"_blank\"><span style=\"color: #008080; text-decoration-color: #008080; font-weight: bold\">50</span></a>\n",
       "</pre>\n"
      ],
      "text/plain": [
       "\u001b[2;36m                   \u001b[0m\u001b[2;36m \u001b[0m\u001b[1;34mINFO    \u001b[0m\u001b[1;32m \u001b[0m\u001b[1m[\u001b[0m\u001b[1;36m3511079560.\u001b[0mpy:\u001b[1;36m50\u001b[0m\u001b[1m]\u001b[0m Creating heatmap visualization\u001b[33m...\u001b[0m                  \u001b]8;id=493324;file:///var/folders/j5/qcb5hwfx53q57rz91nm4rvr40000gn/T/ipykernel_83190/3511079560.py\u001b\\\u001b[1;36m3511079560.py\u001b[0m\u001b]8;;\u001b\\\u001b[1;36m:\u001b[0m\u001b]8;id=525202;file:///var/folders/j5/qcb5hwfx53q57rz91nm4rvr40000gn/T/ipykernel_83190/3511079560.py#50\u001b\\\u001b[1;36m50\u001b[0m\u001b]8;;\u001b\\\n"
      ]
     },
     "metadata": {},
     "output_type": "display_data"
    },
    {
     "name": "stdout",
     "output_type": "stream",
     "text": [
      "Row labels length: 19\n",
      "Col labels length: 17\n"
     ]
    },
    {
     "data": {
      "text/html": [
       "<pre style=\"white-space:pre;overflow-x:auto;line-height:normal;font-family:Menlo,'DejaVu Sans Mono',consolas,'Courier New',monospace\"><span style=\"color: #7fbfbf; text-decoration-color: #7fbfbf\">                    </span><span style=\"color: #000080; text-decoration-color: #000080; font-weight: bold\">INFO    </span><span style=\"color: #008000; text-decoration-color: #008000; font-weight: bold\"> </span><span style=\"font-weight: bold\">[</span><span style=\"color: #008080; text-decoration-color: #008080; font-weight: bold\">3511079560.</span>py:<span style=\"color: #008080; text-decoration-color: #008080; font-weight: bold\">44</span><span style=\"font-weight: bold\">]</span> Creating heatmap visualization<span style=\"color: #808000; text-decoration-color: #808000\">...</span>                  <a href=\"file:///var/folders/j5/qcb5hwfx53q57rz91nm4rvr40000gn/T/ipykernel_83190/3511079560.py\" target=\"_blank\"><span style=\"color: #008080; text-decoration-color: #008080; font-weight: bold\">3511079560.py</span></a><span style=\"color: #008080; text-decoration-color: #008080; font-weight: bold\">:</span><a href=\"file:///var/folders/j5/qcb5hwfx53q57rz91nm4rvr40000gn/T/ipykernel_83190/3511079560.py#44\" target=\"_blank\"><span style=\"color: #008080; text-decoration-color: #008080; font-weight: bold\">44</span></a>\n",
       "</pre>\n"
      ],
      "text/plain": [
       "\u001b[2;36m                   \u001b[0m\u001b[2;36m \u001b[0m\u001b[1;34mINFO    \u001b[0m\u001b[1;32m \u001b[0m\u001b[1m[\u001b[0m\u001b[1;36m3511079560.\u001b[0mpy:\u001b[1;36m44\u001b[0m\u001b[1m]\u001b[0m Creating heatmap visualization\u001b[33m...\u001b[0m                  \u001b]8;id=703850;file:///var/folders/j5/qcb5hwfx53q57rz91nm4rvr40000gn/T/ipykernel_83190/3511079560.py\u001b\\\u001b[1;36m3511079560.py\u001b[0m\u001b]8;;\u001b\\\u001b[1;36m:\u001b[0m\u001b]8;id=572673;file:///var/folders/j5/qcb5hwfx53q57rz91nm4rvr40000gn/T/ipykernel_83190/3511079560.py#44\u001b\\\u001b[1;36m44\u001b[0m\u001b]8;;\u001b\\\n"
      ]
     },
     "metadata": {},
     "output_type": "display_data"
    },
    {
     "data": {
      "text/html": [
       "<pre style=\"white-space:pre;overflow-x:auto;line-height:normal;font-family:Menlo,'DejaVu Sans Mono',consolas,'Courier New',monospace\"><span style=\"color: #7fbfbf; text-decoration-color: #7fbfbf\">                    </span><span style=\"color: #000080; text-decoration-color: #000080; font-weight: bold\">INFO    </span><span style=\"color: #008000; text-decoration-color: #008000; font-weight: bold\"> </span><span style=\"font-weight: bold\">[</span><span style=\"color: #008080; text-decoration-color: #008080; font-weight: bold\">3511079560.</span>py:<span style=\"color: #008080; text-decoration-color: #008080; font-weight: bold\">50</span><span style=\"font-weight: bold\">]</span> Creating heatmap visualization<span style=\"color: #808000; text-decoration-color: #808000\">...</span>                  <a href=\"file:///var/folders/j5/qcb5hwfx53q57rz91nm4rvr40000gn/T/ipykernel_83190/3511079560.py\" target=\"_blank\"><span style=\"color: #008080; text-decoration-color: #008080; font-weight: bold\">3511079560.py</span></a><span style=\"color: #008080; text-decoration-color: #008080; font-weight: bold\">:</span><a href=\"file:///var/folders/j5/qcb5hwfx53q57rz91nm4rvr40000gn/T/ipykernel_83190/3511079560.py#50\" target=\"_blank\"><span style=\"color: #008080; text-decoration-color: #008080; font-weight: bold\">50</span></a>\n",
       "</pre>\n"
      ],
      "text/plain": [
       "\u001b[2;36m                   \u001b[0m\u001b[2;36m \u001b[0m\u001b[1;34mINFO    \u001b[0m\u001b[1;32m \u001b[0m\u001b[1m[\u001b[0m\u001b[1;36m3511079560.\u001b[0mpy:\u001b[1;36m50\u001b[0m\u001b[1m]\u001b[0m Creating heatmap visualization\u001b[33m...\u001b[0m                  \u001b]8;id=769311;file:///var/folders/j5/qcb5hwfx53q57rz91nm4rvr40000gn/T/ipykernel_83190/3511079560.py\u001b\\\u001b[1;36m3511079560.py\u001b[0m\u001b]8;;\u001b\\\u001b[1;36m:\u001b[0m\u001b]8;id=683701;file:///var/folders/j5/qcb5hwfx53q57rz91nm4rvr40000gn/T/ipykernel_83190/3511079560.py#50\u001b\\\u001b[1;36m50\u001b[0m\u001b]8;;\u001b\\\n"
      ]
     },
     "metadata": {},
     "output_type": "display_data"
    },
    {
     "name": "stdout",
     "output_type": "stream",
     "text": [
      "Row labels length: 19\n",
      "Col labels length: 17\n"
     ]
    },
    {
     "data": {
      "text/html": [
       "<pre style=\"white-space:pre;overflow-x:auto;line-height:normal;font-family:Menlo,'DejaVu Sans Mono',consolas,'Courier New',monospace\"><span style=\"color: #7fbfbf; text-decoration-color: #7fbfbf\">                    </span><span style=\"color: #000080; text-decoration-color: #000080; font-weight: bold\">INFO    </span><span style=\"color: #008000; text-decoration-color: #008000; font-weight: bold\"> </span><span style=\"font-weight: bold\">[</span><span style=\"color: #008080; text-decoration-color: #008080; font-weight: bold\">3511079560.</span>py:<span style=\"color: #008080; text-decoration-color: #008080; font-weight: bold\">44</span><span style=\"font-weight: bold\">]</span> Creating heatmap visualization<span style=\"color: #808000; text-decoration-color: #808000\">...</span>                  <a href=\"file:///var/folders/j5/qcb5hwfx53q57rz91nm4rvr40000gn/T/ipykernel_83190/3511079560.py\" target=\"_blank\"><span style=\"color: #008080; text-decoration-color: #008080; font-weight: bold\">3511079560.py</span></a><span style=\"color: #008080; text-decoration-color: #008080; font-weight: bold\">:</span><a href=\"file:///var/folders/j5/qcb5hwfx53q57rz91nm4rvr40000gn/T/ipykernel_83190/3511079560.py#44\" target=\"_blank\"><span style=\"color: #008080; text-decoration-color: #008080; font-weight: bold\">44</span></a>\n",
       "</pre>\n"
      ],
      "text/plain": [
       "\u001b[2;36m                   \u001b[0m\u001b[2;36m \u001b[0m\u001b[1;34mINFO    \u001b[0m\u001b[1;32m \u001b[0m\u001b[1m[\u001b[0m\u001b[1;36m3511079560.\u001b[0mpy:\u001b[1;36m44\u001b[0m\u001b[1m]\u001b[0m Creating heatmap visualization\u001b[33m...\u001b[0m                  \u001b]8;id=19369;file:///var/folders/j5/qcb5hwfx53q57rz91nm4rvr40000gn/T/ipykernel_83190/3511079560.py\u001b\\\u001b[1;36m3511079560.py\u001b[0m\u001b]8;;\u001b\\\u001b[1;36m:\u001b[0m\u001b]8;id=524838;file:///var/folders/j5/qcb5hwfx53q57rz91nm4rvr40000gn/T/ipykernel_83190/3511079560.py#44\u001b\\\u001b[1;36m44\u001b[0m\u001b]8;;\u001b\\\n"
      ]
     },
     "metadata": {},
     "output_type": "display_data"
    },
    {
     "data": {
      "text/html": [
       "<pre style=\"white-space:pre;overflow-x:auto;line-height:normal;font-family:Menlo,'DejaVu Sans Mono',consolas,'Courier New',monospace\"><span style=\"color: #7fbfbf; text-decoration-color: #7fbfbf\">                    </span><span style=\"color: #000080; text-decoration-color: #000080; font-weight: bold\">INFO    </span><span style=\"color: #008000; text-decoration-color: #008000; font-weight: bold\"> </span><span style=\"font-weight: bold\">[</span><span style=\"color: #008080; text-decoration-color: #008080; font-weight: bold\">3511079560.</span>py:<span style=\"color: #008080; text-decoration-color: #008080; font-weight: bold\">50</span><span style=\"font-weight: bold\">]</span> Creating heatmap visualization<span style=\"color: #808000; text-decoration-color: #808000\">...</span>                  <a href=\"file:///var/folders/j5/qcb5hwfx53q57rz91nm4rvr40000gn/T/ipykernel_83190/3511079560.py\" target=\"_blank\"><span style=\"color: #008080; text-decoration-color: #008080; font-weight: bold\">3511079560.py</span></a><span style=\"color: #008080; text-decoration-color: #008080; font-weight: bold\">:</span><a href=\"file:///var/folders/j5/qcb5hwfx53q57rz91nm4rvr40000gn/T/ipykernel_83190/3511079560.py#50\" target=\"_blank\"><span style=\"color: #008080; text-decoration-color: #008080; font-weight: bold\">50</span></a>\n",
       "</pre>\n"
      ],
      "text/plain": [
       "\u001b[2;36m                   \u001b[0m\u001b[2;36m \u001b[0m\u001b[1;34mINFO    \u001b[0m\u001b[1;32m \u001b[0m\u001b[1m[\u001b[0m\u001b[1;36m3511079560.\u001b[0mpy:\u001b[1;36m50\u001b[0m\u001b[1m]\u001b[0m Creating heatmap visualization\u001b[33m...\u001b[0m                  \u001b]8;id=791215;file:///var/folders/j5/qcb5hwfx53q57rz91nm4rvr40000gn/T/ipykernel_83190/3511079560.py\u001b\\\u001b[1;36m3511079560.py\u001b[0m\u001b]8;;\u001b\\\u001b[1;36m:\u001b[0m\u001b]8;id=95397;file:///var/folders/j5/qcb5hwfx53q57rz91nm4rvr40000gn/T/ipykernel_83190/3511079560.py#50\u001b\\\u001b[1;36m50\u001b[0m\u001b]8;;\u001b\\\n"
      ]
     },
     "metadata": {},
     "output_type": "display_data"
    },
    {
     "name": "stdout",
     "output_type": "stream",
     "text": [
      "Row labels length: 19\n",
      "Col labels length: 17\n"
     ]
    },
    {
     "data": {
      "text/html": [
       "<pre style=\"white-space:pre;overflow-x:auto;line-height:normal;font-family:Menlo,'DejaVu Sans Mono',consolas,'Courier New',monospace\"><span style=\"color: #7fbfbf; text-decoration-color: #7fbfbf\">                    </span><span style=\"color: #000080; text-decoration-color: #000080; font-weight: bold\">INFO    </span><span style=\"color: #008000; text-decoration-color: #008000; font-weight: bold\"> </span><span style=\"font-weight: bold\">[</span><span style=\"color: #008080; text-decoration-color: #008080; font-weight: bold\">3511079560.</span>py:<span style=\"color: #008080; text-decoration-color: #008080; font-weight: bold\">44</span><span style=\"font-weight: bold\">]</span> Creating heatmap visualization<span style=\"color: #808000; text-decoration-color: #808000\">...</span>                  <a href=\"file:///var/folders/j5/qcb5hwfx53q57rz91nm4rvr40000gn/T/ipykernel_83190/3511079560.py\" target=\"_blank\"><span style=\"color: #008080; text-decoration-color: #008080; font-weight: bold\">3511079560.py</span></a><span style=\"color: #008080; text-decoration-color: #008080; font-weight: bold\">:</span><a href=\"file:///var/folders/j5/qcb5hwfx53q57rz91nm4rvr40000gn/T/ipykernel_83190/3511079560.py#44\" target=\"_blank\"><span style=\"color: #008080; text-decoration-color: #008080; font-weight: bold\">44</span></a>\n",
       "</pre>\n"
      ],
      "text/plain": [
       "\u001b[2;36m                   \u001b[0m\u001b[2;36m \u001b[0m\u001b[1;34mINFO    \u001b[0m\u001b[1;32m \u001b[0m\u001b[1m[\u001b[0m\u001b[1;36m3511079560.\u001b[0mpy:\u001b[1;36m44\u001b[0m\u001b[1m]\u001b[0m Creating heatmap visualization\u001b[33m...\u001b[0m                  \u001b]8;id=348608;file:///var/folders/j5/qcb5hwfx53q57rz91nm4rvr40000gn/T/ipykernel_83190/3511079560.py\u001b\\\u001b[1;36m3511079560.py\u001b[0m\u001b]8;;\u001b\\\u001b[1;36m:\u001b[0m\u001b]8;id=517864;file:///var/folders/j5/qcb5hwfx53q57rz91nm4rvr40000gn/T/ipykernel_83190/3511079560.py#44\u001b\\\u001b[1;36m44\u001b[0m\u001b]8;;\u001b\\\n"
      ]
     },
     "metadata": {},
     "output_type": "display_data"
    },
    {
     "data": {
      "text/html": [
       "<pre style=\"white-space:pre;overflow-x:auto;line-height:normal;font-family:Menlo,'DejaVu Sans Mono',consolas,'Courier New',monospace\"><span style=\"color: #7fbfbf; text-decoration-color: #7fbfbf\">                    </span><span style=\"color: #000080; text-decoration-color: #000080; font-weight: bold\">INFO    </span><span style=\"color: #008000; text-decoration-color: #008000; font-weight: bold\"> </span><span style=\"font-weight: bold\">[</span><span style=\"color: #008080; text-decoration-color: #008080; font-weight: bold\">3511079560.</span>py:<span style=\"color: #008080; text-decoration-color: #008080; font-weight: bold\">50</span><span style=\"font-weight: bold\">]</span> Creating heatmap visualization<span style=\"color: #808000; text-decoration-color: #808000\">...</span>                  <a href=\"file:///var/folders/j5/qcb5hwfx53q57rz91nm4rvr40000gn/T/ipykernel_83190/3511079560.py\" target=\"_blank\"><span style=\"color: #008080; text-decoration-color: #008080; font-weight: bold\">3511079560.py</span></a><span style=\"color: #008080; text-decoration-color: #008080; font-weight: bold\">:</span><a href=\"file:///var/folders/j5/qcb5hwfx53q57rz91nm4rvr40000gn/T/ipykernel_83190/3511079560.py#50\" target=\"_blank\"><span style=\"color: #008080; text-decoration-color: #008080; font-weight: bold\">50</span></a>\n",
       "</pre>\n"
      ],
      "text/plain": [
       "\u001b[2;36m                   \u001b[0m\u001b[2;36m \u001b[0m\u001b[1;34mINFO    \u001b[0m\u001b[1;32m \u001b[0m\u001b[1m[\u001b[0m\u001b[1;36m3511079560.\u001b[0mpy:\u001b[1;36m50\u001b[0m\u001b[1m]\u001b[0m Creating heatmap visualization\u001b[33m...\u001b[0m                  \u001b]8;id=999105;file:///var/folders/j5/qcb5hwfx53q57rz91nm4rvr40000gn/T/ipykernel_83190/3511079560.py\u001b\\\u001b[1;36m3511079560.py\u001b[0m\u001b]8;;\u001b\\\u001b[1;36m:\u001b[0m\u001b]8;id=985237;file:///var/folders/j5/qcb5hwfx53q57rz91nm4rvr40000gn/T/ipykernel_83190/3511079560.py#50\u001b\\\u001b[1;36m50\u001b[0m\u001b]8;;\u001b\\\n"
      ]
     },
     "metadata": {},
     "output_type": "display_data"
    },
    {
     "name": "stdout",
     "output_type": "stream",
     "text": [
      "Row labels length: 19\n",
      "Col labels length: 17\n"
     ]
    },
    {
     "data": {
      "text/html": [
       "<pre style=\"white-space:pre;overflow-x:auto;line-height:normal;font-family:Menlo,'DejaVu Sans Mono',consolas,'Courier New',monospace\"><span style=\"color: #7fbfbf; text-decoration-color: #7fbfbf\">                    </span><span style=\"color: #000080; text-decoration-color: #000080; font-weight: bold\">INFO    </span><span style=\"color: #008000; text-decoration-color: #008000; font-weight: bold\"> </span> Saving HTML figure to                                               <a href=\"file:///Users/4gate/git/embedding_translation/src/viz/save_figure.py\" target=\"_blank\"><span style=\"color: #008080; text-decoration-color: #008080; font-weight: bold\">save_figure.py</span></a><span style=\"color: #008080; text-decoration-color: #008080; font-weight: bold\">:</span><a href=\"file:///Users/4gate/git/embedding_translation/src/viz/save_figure.py#32\" target=\"_blank\"><span style=\"color: #008080; text-decoration-color: #008080; font-weight: bold\">32</span></a>\n",
       "<span style=\"color: #7fbfbf; text-decoration-color: #7fbfbf\">                    </span><span style=\"color: #008000; text-decoration-color: #008000; font-weight: bold\">         </span><span style=\"color: #800080; text-decoration-color: #800080\">/Users/4gate/git/embedding_translation/data/figs/html/</span><span style=\"color: #ff00ff; text-decoration-color: #ff00ff\">weighted-avera</span> <span style=\"color: #008080; text-decoration-color: #008080; font-weight: bold\">                 </span>\n",
       "<span style=\"color: #7fbfbf; text-decoration-color: #7fbfbf\">                    </span><span style=\"color: #008000; text-decoration-color: #008000; font-weight: bold\">         </span><span style=\"color: #ff00ff; text-decoration-color: #ff00ff\">ge_lord_farquad_was_heren.html</span>                                       <span style=\"color: #008080; text-decoration-color: #008080; font-weight: bold\">                 </span>\n",
       "</pre>\n"
      ],
      "text/plain": [
       "\u001b[2;36m                   \u001b[0m\u001b[2;36m \u001b[0m\u001b[1;34mINFO    \u001b[0m\u001b[1;32m \u001b[0m Saving HTML figure to                                               \u001b]8;id=819666;file:///Users/4gate/git/embedding_translation/src/viz/save_figure.py\u001b\\\u001b[1;36msave_figure.py\u001b[0m\u001b]8;;\u001b\\\u001b[1;36m:\u001b[0m\u001b]8;id=412146;file:///Users/4gate/git/embedding_translation/src/viz/save_figure.py#32\u001b\\\u001b[1;36m32\u001b[0m\u001b]8;;\u001b\\\n",
       "\u001b[2;36m                    \u001b[0m\u001b[1;32m         \u001b[0m\u001b[35m/Users/4gate/git/embedding_translation/data/figs/html/\u001b[0m\u001b[95mweighted-avera\u001b[0m \u001b[1;36m                 \u001b[0m\n",
       "\u001b[2;36m                    \u001b[0m\u001b[1;32m         \u001b[0m\u001b[95mge_lord_farquad_was_heren.html\u001b[0m                                       \u001b[1;36m                 \u001b[0m\n"
      ]
     },
     "metadata": {},
     "output_type": "display_data"
    },
    {
     "data": {
      "text/html": [
       "<pre style=\"white-space:pre;overflow-x:auto;line-height:normal;font-family:Menlo,'DejaVu Sans Mono',consolas,'Courier New',monospace\"><span style=\"color: #7fbfbf; text-decoration-color: #7fbfbf\">                    </span><span style=\"color: #008000; text-decoration-color: #008000; font-weight: bold\">SUCCESS  </span> Successfully saved HTML to                                          <a href=\"file:///Users/4gate/git/embedding_translation/src/viz/save_figure.py\" target=\"_blank\"><span style=\"color: #008080; text-decoration-color: #008080; font-weight: bold\">save_figure.py</span></a><span style=\"color: #008080; text-decoration-color: #008080; font-weight: bold\">:</span><a href=\"file:///Users/4gate/git/embedding_translation/src/viz/save_figure.py#40\" target=\"_blank\"><span style=\"color: #008080; text-decoration-color: #008080; font-weight: bold\">40</span></a>\n",
       "<span style=\"color: #7fbfbf; text-decoration-color: #7fbfbf\">                    </span><span style=\"color: #008000; text-decoration-color: #008000; font-weight: bold\">         </span><span style=\"color: #800080; text-decoration-color: #800080\">/Users/4gate/git/embedding_translation/data/figs/html/</span><span style=\"color: #ff00ff; text-decoration-color: #ff00ff\">weighted-avera</span> <span style=\"color: #008080; text-decoration-color: #008080; font-weight: bold\">                 </span>\n",
       "<span style=\"color: #7fbfbf; text-decoration-color: #7fbfbf\">                    </span><span style=\"color: #008000; text-decoration-color: #008000; font-weight: bold\">         </span><span style=\"color: #ff00ff; text-decoration-color: #ff00ff\">ge_lord_farquad_was_heren.html</span>                                       <span style=\"color: #008080; text-decoration-color: #008080; font-weight: bold\">                 </span>\n",
       "</pre>\n"
      ],
      "text/plain": [
       "\u001b[2;36m                   \u001b[0m\u001b[2;36m \u001b[0m\u001b[1;32mSUCCESS \u001b[0m\u001b[1;32m \u001b[0m Successfully saved HTML to                                          \u001b]8;id=897031;file:///Users/4gate/git/embedding_translation/src/viz/save_figure.py\u001b\\\u001b[1;36msave_figure.py\u001b[0m\u001b]8;;\u001b\\\u001b[1;36m:\u001b[0m\u001b]8;id=182082;file:///Users/4gate/git/embedding_translation/src/viz/save_figure.py#40\u001b\\\u001b[1;36m40\u001b[0m\u001b]8;;\u001b\\\n",
       "\u001b[2;36m                    \u001b[0m\u001b[1;32m         \u001b[0m\u001b[35m/Users/4gate/git/embedding_translation/data/figs/html/\u001b[0m\u001b[95mweighted-avera\u001b[0m \u001b[1;36m                 \u001b[0m\n",
       "\u001b[2;36m                    \u001b[0m\u001b[1;32m         \u001b[0m\u001b[95mge_lord_farquad_was_heren.html\u001b[0m                                       \u001b[1;36m                 \u001b[0m\n"
      ]
     },
     "metadata": {},
     "output_type": "display_data"
    },
    {
     "data": {
      "text/html": [
       "<pre style=\"white-space:pre;overflow-x:auto;line-height:normal;font-family:Menlo,'DejaVu Sans Mono',consolas,'Courier New',monospace\"><span style=\"color: #7fbfbf; text-decoration-color: #7fbfbf\">                    </span><span style=\"color: #000080; text-decoration-color: #000080; font-weight: bold\">INFO    </span><span style=\"color: #008000; text-decoration-color: #008000; font-weight: bold\"> </span> Saving PNG figure to                                                <a href=\"file:///Users/4gate/git/embedding_translation/src/viz/save_figure.py\" target=\"_blank\"><span style=\"color: #008080; text-decoration-color: #008080; font-weight: bold\">save_figure.py</span></a><span style=\"color: #008080; text-decoration-color: #008080; font-weight: bold\">:</span><a href=\"file:///Users/4gate/git/embedding_translation/src/viz/save_figure.py#67\" target=\"_blank\"><span style=\"color: #008080; text-decoration-color: #008080; font-weight: bold\">67</span></a>\n",
       "<span style=\"color: #7fbfbf; text-decoration-color: #7fbfbf\">                    </span><span style=\"color: #008000; text-decoration-color: #008000; font-weight: bold\">         </span><span style=\"color: #800080; text-decoration-color: #800080\">/Users/4gate/git/embedding_translation/data/figs/imgs/</span><span style=\"color: #ff00ff; text-decoration-color: #ff00ff\">weighted-avera</span> <span style=\"color: #008080; text-decoration-color: #008080; font-weight: bold\">                 </span>\n",
       "<span style=\"color: #7fbfbf; text-decoration-color: #7fbfbf\">                    </span><span style=\"color: #008000; text-decoration-color: #008000; font-weight: bold\">         </span><span style=\"color: #ff00ff; text-decoration-color: #ff00ff\">ge_lord_farquad_was_heren.png</span>                                        <span style=\"color: #008080; text-decoration-color: #008080; font-weight: bold\">                 </span>\n",
       "</pre>\n"
      ],
      "text/plain": [
       "\u001b[2;36m                   \u001b[0m\u001b[2;36m \u001b[0m\u001b[1;34mINFO    \u001b[0m\u001b[1;32m \u001b[0m Saving PNG figure to                                                \u001b]8;id=178262;file:///Users/4gate/git/embedding_translation/src/viz/save_figure.py\u001b\\\u001b[1;36msave_figure.py\u001b[0m\u001b]8;;\u001b\\\u001b[1;36m:\u001b[0m\u001b]8;id=401472;file:///Users/4gate/git/embedding_translation/src/viz/save_figure.py#67\u001b\\\u001b[1;36m67\u001b[0m\u001b]8;;\u001b\\\n",
       "\u001b[2;36m                    \u001b[0m\u001b[1;32m         \u001b[0m\u001b[35m/Users/4gate/git/embedding_translation/data/figs/imgs/\u001b[0m\u001b[95mweighted-avera\u001b[0m \u001b[1;36m                 \u001b[0m\n",
       "\u001b[2;36m                    \u001b[0m\u001b[1;32m         \u001b[0m\u001b[95mge_lord_farquad_was_heren.png\u001b[0m                                        \u001b[1;36m                 \u001b[0m\n"
      ]
     },
     "metadata": {},
     "output_type": "display_data"
    },
    {
     "data": {
      "text/html": [
       "<pre style=\"white-space:pre;overflow-x:auto;line-height:normal;font-family:Menlo,'DejaVu Sans Mono',consolas,'Courier New',monospace\"><span style=\"color: #7fbfbf; text-decoration-color: #7fbfbf\">                    </span><span style=\"color: #008000; text-decoration-color: #008000; font-weight: bold\">SUCCESS  </span> Successfully saved PNG to                                           <a href=\"file:///Users/4gate/git/embedding_translation/src/viz/save_figure.py\" target=\"_blank\"><span style=\"color: #008080; text-decoration-color: #008080; font-weight: bold\">save_figure.py</span></a><span style=\"color: #008080; text-decoration-color: #008080; font-weight: bold\">:</span><a href=\"file:///Users/4gate/git/embedding_translation/src/viz/save_figure.py#76\" target=\"_blank\"><span style=\"color: #008080; text-decoration-color: #008080; font-weight: bold\">76</span></a>\n",
       "<span style=\"color: #7fbfbf; text-decoration-color: #7fbfbf\">                    </span><span style=\"color: #008000; text-decoration-color: #008000; font-weight: bold\">         </span><span style=\"color: #800080; text-decoration-color: #800080\">/Users/4gate/git/embedding_translation/data/figs/imgs/</span><span style=\"color: #ff00ff; text-decoration-color: #ff00ff\">weighted-avera</span> <span style=\"color: #008080; text-decoration-color: #008080; font-weight: bold\">                 </span>\n",
       "<span style=\"color: #7fbfbf; text-decoration-color: #7fbfbf\">                    </span><span style=\"color: #008000; text-decoration-color: #008000; font-weight: bold\">         </span><span style=\"color: #ff00ff; text-decoration-color: #ff00ff\">ge_lord_farquad_was_heren.png</span>                                        <span style=\"color: #008080; text-decoration-color: #008080; font-weight: bold\">                 </span>\n",
       "</pre>\n"
      ],
      "text/plain": [
       "\u001b[2;36m                   \u001b[0m\u001b[2;36m \u001b[0m\u001b[1;32mSUCCESS \u001b[0m\u001b[1;32m \u001b[0m Successfully saved PNG to                                           \u001b]8;id=597201;file:///Users/4gate/git/embedding_translation/src/viz/save_figure.py\u001b\\\u001b[1;36msave_figure.py\u001b[0m\u001b]8;;\u001b\\\u001b[1;36m:\u001b[0m\u001b]8;id=58431;file:///Users/4gate/git/embedding_translation/src/viz/save_figure.py#76\u001b\\\u001b[1;36m76\u001b[0m\u001b]8;;\u001b\\\n",
       "\u001b[2;36m                    \u001b[0m\u001b[1;32m         \u001b[0m\u001b[35m/Users/4gate/git/embedding_translation/data/figs/imgs/\u001b[0m\u001b[95mweighted-avera\u001b[0m \u001b[1;36m                 \u001b[0m\n",
       "\u001b[2;36m                    \u001b[0m\u001b[1;32m         \u001b[0m\u001b[95mge_lord_farquad_was_heren.png\u001b[0m                                        \u001b[1;36m                 \u001b[0m\n"
      ]
     },
     "metadata": {},
     "output_type": "display_data"
    },
    {
     "data": {
      "text/html": [
       "<pre style=\"white-space:pre;overflow-x:auto;line-height:normal;font-family:Menlo,'DejaVu Sans Mono',consolas,'Courier New',monospace\"><span style=\"color: #7fbfbf; text-decoration-color: #7fbfbf\">                    </span><span style=\"color: #000080; text-decoration-color: #000080; font-weight: bold\">INFO    </span><span style=\"color: #008000; text-decoration-color: #008000; font-weight: bold\"> </span><span style=\"font-weight: bold\">[</span><span style=\"color: #008080; text-decoration-color: #008080; font-weight: bold\">3511079560.</span>py:<span style=\"color: #008080; text-decoration-color: #008080; font-weight: bold\">44</span><span style=\"font-weight: bold\">]</span> Creating heatmap visualization<span style=\"color: #808000; text-decoration-color: #808000\">...</span>                  <a href=\"file:///var/folders/j5/qcb5hwfx53q57rz91nm4rvr40000gn/T/ipykernel_83190/3511079560.py\" target=\"_blank\"><span style=\"color: #008080; text-decoration-color: #008080; font-weight: bold\">3511079560.py</span></a><span style=\"color: #008080; text-decoration-color: #008080; font-weight: bold\">:</span><a href=\"file:///var/folders/j5/qcb5hwfx53q57rz91nm4rvr40000gn/T/ipykernel_83190/3511079560.py#44\" target=\"_blank\"><span style=\"color: #008080; text-decoration-color: #008080; font-weight: bold\">44</span></a>\n",
       "</pre>\n"
      ],
      "text/plain": [
       "\u001b[2;36m                   \u001b[0m\u001b[2;36m \u001b[0m\u001b[1;34mINFO    \u001b[0m\u001b[1;32m \u001b[0m\u001b[1m[\u001b[0m\u001b[1;36m3511079560.\u001b[0mpy:\u001b[1;36m44\u001b[0m\u001b[1m]\u001b[0m Creating heatmap visualization\u001b[33m...\u001b[0m                  \u001b]8;id=312354;file:///var/folders/j5/qcb5hwfx53q57rz91nm4rvr40000gn/T/ipykernel_83190/3511079560.py\u001b\\\u001b[1;36m3511079560.py\u001b[0m\u001b]8;;\u001b\\\u001b[1;36m:\u001b[0m\u001b]8;id=636637;file:///var/folders/j5/qcb5hwfx53q57rz91nm4rvr40000gn/T/ipykernel_83190/3511079560.py#44\u001b\\\u001b[1;36m44\u001b[0m\u001b]8;;\u001b\\\n"
      ]
     },
     "metadata": {},
     "output_type": "display_data"
    },
    {
     "data": {
      "text/html": [
       "<pre style=\"white-space:pre;overflow-x:auto;line-height:normal;font-family:Menlo,'DejaVu Sans Mono',consolas,'Courier New',monospace\"><span style=\"color: #7fbfbf; text-decoration-color: #7fbfbf\">                    </span><span style=\"color: #000080; text-decoration-color: #000080; font-weight: bold\">INFO    </span><span style=\"color: #008000; text-decoration-color: #008000; font-weight: bold\"> </span><span style=\"font-weight: bold\">[</span><span style=\"color: #008080; text-decoration-color: #008080; font-weight: bold\">3511079560.</span>py:<span style=\"color: #008080; text-decoration-color: #008080; font-weight: bold\">50</span><span style=\"font-weight: bold\">]</span> Creating heatmap visualization<span style=\"color: #808000; text-decoration-color: #808000\">...</span>                  <a href=\"file:///var/folders/j5/qcb5hwfx53q57rz91nm4rvr40000gn/T/ipykernel_83190/3511079560.py\" target=\"_blank\"><span style=\"color: #008080; text-decoration-color: #008080; font-weight: bold\">3511079560.py</span></a><span style=\"color: #008080; text-decoration-color: #008080; font-weight: bold\">:</span><a href=\"file:///var/folders/j5/qcb5hwfx53q57rz91nm4rvr40000gn/T/ipykernel_83190/3511079560.py#50\" target=\"_blank\"><span style=\"color: #008080; text-decoration-color: #008080; font-weight: bold\">50</span></a>\n",
       "</pre>\n"
      ],
      "text/plain": [
       "\u001b[2;36m                   \u001b[0m\u001b[2;36m \u001b[0m\u001b[1;34mINFO    \u001b[0m\u001b[1;32m \u001b[0m\u001b[1m[\u001b[0m\u001b[1;36m3511079560.\u001b[0mpy:\u001b[1;36m50\u001b[0m\u001b[1m]\u001b[0m Creating heatmap visualization\u001b[33m...\u001b[0m                  \u001b]8;id=570060;file:///var/folders/j5/qcb5hwfx53q57rz91nm4rvr40000gn/T/ipykernel_83190/3511079560.py\u001b\\\u001b[1;36m3511079560.py\u001b[0m\u001b]8;;\u001b\\\u001b[1;36m:\u001b[0m\u001b]8;id=995083;file:///var/folders/j5/qcb5hwfx53q57rz91nm4rvr40000gn/T/ipykernel_83190/3511079560.py#50\u001b\\\u001b[1;36m50\u001b[0m\u001b]8;;\u001b\\\n"
      ]
     },
     "metadata": {},
     "output_type": "display_data"
    },
    {
     "name": "stdout",
     "output_type": "stream",
     "text": [
      "Row labels length: 19\n",
      "Col labels length: 17\n"
     ]
    },
    {
     "data": {
      "text/html": [
       "<pre style=\"white-space:pre;overflow-x:auto;line-height:normal;font-family:Menlo,'DejaVu Sans Mono',consolas,'Courier New',monospace\"><span style=\"color: #7fbfbf; text-decoration-color: #7fbfbf\">                    </span><span style=\"color: #000080; text-decoration-color: #000080; font-weight: bold\">INFO    </span><span style=\"color: #008000; text-decoration-color: #008000; font-weight: bold\"> </span><span style=\"font-weight: bold\">[</span><span style=\"color: #008080; text-decoration-color: #008080; font-weight: bold\">3511079560.</span>py:<span style=\"color: #008080; text-decoration-color: #008080; font-weight: bold\">44</span><span style=\"font-weight: bold\">]</span> Creating heatmap visualization<span style=\"color: #808000; text-decoration-color: #808000\">...</span>                  <a href=\"file:///var/folders/j5/qcb5hwfx53q57rz91nm4rvr40000gn/T/ipykernel_83190/3511079560.py\" target=\"_blank\"><span style=\"color: #008080; text-decoration-color: #008080; font-weight: bold\">3511079560.py</span></a><span style=\"color: #008080; text-decoration-color: #008080; font-weight: bold\">:</span><a href=\"file:///var/folders/j5/qcb5hwfx53q57rz91nm4rvr40000gn/T/ipykernel_83190/3511079560.py#44\" target=\"_blank\"><span style=\"color: #008080; text-decoration-color: #008080; font-weight: bold\">44</span></a>\n",
       "</pre>\n"
      ],
      "text/plain": [
       "\u001b[2;36m                   \u001b[0m\u001b[2;36m \u001b[0m\u001b[1;34mINFO    \u001b[0m\u001b[1;32m \u001b[0m\u001b[1m[\u001b[0m\u001b[1;36m3511079560.\u001b[0mpy:\u001b[1;36m44\u001b[0m\u001b[1m]\u001b[0m Creating heatmap visualization\u001b[33m...\u001b[0m                  \u001b]8;id=462341;file:///var/folders/j5/qcb5hwfx53q57rz91nm4rvr40000gn/T/ipykernel_83190/3511079560.py\u001b\\\u001b[1;36m3511079560.py\u001b[0m\u001b]8;;\u001b\\\u001b[1;36m:\u001b[0m\u001b]8;id=416284;file:///var/folders/j5/qcb5hwfx53q57rz91nm4rvr40000gn/T/ipykernel_83190/3511079560.py#44\u001b\\\u001b[1;36m44\u001b[0m\u001b]8;;\u001b\\\n"
      ]
     },
     "metadata": {},
     "output_type": "display_data"
    },
    {
     "data": {
      "text/html": [
       "<pre style=\"white-space:pre;overflow-x:auto;line-height:normal;font-family:Menlo,'DejaVu Sans Mono',consolas,'Courier New',monospace\"><span style=\"color: #7fbfbf; text-decoration-color: #7fbfbf\">                    </span><span style=\"color: #000080; text-decoration-color: #000080; font-weight: bold\">INFO    </span><span style=\"color: #008000; text-decoration-color: #008000; font-weight: bold\"> </span><span style=\"font-weight: bold\">[</span><span style=\"color: #008080; text-decoration-color: #008080; font-weight: bold\">3511079560.</span>py:<span style=\"color: #008080; text-decoration-color: #008080; font-weight: bold\">50</span><span style=\"font-weight: bold\">]</span> Creating heatmap visualization<span style=\"color: #808000; text-decoration-color: #808000\">...</span>                  <a href=\"file:///var/folders/j5/qcb5hwfx53q57rz91nm4rvr40000gn/T/ipykernel_83190/3511079560.py\" target=\"_blank\"><span style=\"color: #008080; text-decoration-color: #008080; font-weight: bold\">3511079560.py</span></a><span style=\"color: #008080; text-decoration-color: #008080; font-weight: bold\">:</span><a href=\"file:///var/folders/j5/qcb5hwfx53q57rz91nm4rvr40000gn/T/ipykernel_83190/3511079560.py#50\" target=\"_blank\"><span style=\"color: #008080; text-decoration-color: #008080; font-weight: bold\">50</span></a>\n",
       "</pre>\n"
      ],
      "text/plain": [
       "\u001b[2;36m                   \u001b[0m\u001b[2;36m \u001b[0m\u001b[1;34mINFO    \u001b[0m\u001b[1;32m \u001b[0m\u001b[1m[\u001b[0m\u001b[1;36m3511079560.\u001b[0mpy:\u001b[1;36m50\u001b[0m\u001b[1m]\u001b[0m Creating heatmap visualization\u001b[33m...\u001b[0m                  \u001b]8;id=697645;file:///var/folders/j5/qcb5hwfx53q57rz91nm4rvr40000gn/T/ipykernel_83190/3511079560.py\u001b\\\u001b[1;36m3511079560.py\u001b[0m\u001b]8;;\u001b\\\u001b[1;36m:\u001b[0m\u001b]8;id=847913;file:///var/folders/j5/qcb5hwfx53q57rz91nm4rvr40000gn/T/ipykernel_83190/3511079560.py#50\u001b\\\u001b[1;36m50\u001b[0m\u001b]8;;\u001b\\\n"
      ]
     },
     "metadata": {},
     "output_type": "display_data"
    },
    {
     "name": "stdout",
     "output_type": "stream",
     "text": [
      "Row labels length: 19\n",
      "Col labels length: 17\n"
     ]
    },
    {
     "data": {
      "text/html": [
       "<pre style=\"white-space:pre;overflow-x:auto;line-height:normal;font-family:Menlo,'DejaVu Sans Mono',consolas,'Courier New',monospace\"><span style=\"color: #7fbfbf; text-decoration-color: #7fbfbf\">                    </span><span style=\"color: #000080; text-decoration-color: #000080; font-weight: bold\">INFO    </span><span style=\"color: #008000; text-decoration-color: #008000; font-weight: bold\"> </span><span style=\"font-weight: bold\">[</span><span style=\"color: #008080; text-decoration-color: #008080; font-weight: bold\">3511079560.</span>py:<span style=\"color: #008080; text-decoration-color: #008080; font-weight: bold\">44</span><span style=\"font-weight: bold\">]</span> Creating heatmap visualization<span style=\"color: #808000; text-decoration-color: #808000\">...</span>                  <a href=\"file:///var/folders/j5/qcb5hwfx53q57rz91nm4rvr40000gn/T/ipykernel_83190/3511079560.py\" target=\"_blank\"><span style=\"color: #008080; text-decoration-color: #008080; font-weight: bold\">3511079560.py</span></a><span style=\"color: #008080; text-decoration-color: #008080; font-weight: bold\">:</span><a href=\"file:///var/folders/j5/qcb5hwfx53q57rz91nm4rvr40000gn/T/ipykernel_83190/3511079560.py#44\" target=\"_blank\"><span style=\"color: #008080; text-decoration-color: #008080; font-weight: bold\">44</span></a>\n",
       "</pre>\n"
      ],
      "text/plain": [
       "\u001b[2;36m                   \u001b[0m\u001b[2;36m \u001b[0m\u001b[1;34mINFO    \u001b[0m\u001b[1;32m \u001b[0m\u001b[1m[\u001b[0m\u001b[1;36m3511079560.\u001b[0mpy:\u001b[1;36m44\u001b[0m\u001b[1m]\u001b[0m Creating heatmap visualization\u001b[33m...\u001b[0m                  \u001b]8;id=558330;file:///var/folders/j5/qcb5hwfx53q57rz91nm4rvr40000gn/T/ipykernel_83190/3511079560.py\u001b\\\u001b[1;36m3511079560.py\u001b[0m\u001b]8;;\u001b\\\u001b[1;36m:\u001b[0m\u001b]8;id=328313;file:///var/folders/j5/qcb5hwfx53q57rz91nm4rvr40000gn/T/ipykernel_83190/3511079560.py#44\u001b\\\u001b[1;36m44\u001b[0m\u001b]8;;\u001b\\\n"
      ]
     },
     "metadata": {},
     "output_type": "display_data"
    },
    {
     "data": {
      "text/html": [
       "<pre style=\"white-space:pre;overflow-x:auto;line-height:normal;font-family:Menlo,'DejaVu Sans Mono',consolas,'Courier New',monospace\"><span style=\"color: #7fbfbf; text-decoration-color: #7fbfbf\">                    </span><span style=\"color: #000080; text-decoration-color: #000080; font-weight: bold\">INFO    </span><span style=\"color: #008000; text-decoration-color: #008000; font-weight: bold\"> </span><span style=\"font-weight: bold\">[</span><span style=\"color: #008080; text-decoration-color: #008080; font-weight: bold\">3511079560.</span>py:<span style=\"color: #008080; text-decoration-color: #008080; font-weight: bold\">50</span><span style=\"font-weight: bold\">]</span> Creating heatmap visualization<span style=\"color: #808000; text-decoration-color: #808000\">...</span>                  <a href=\"file:///var/folders/j5/qcb5hwfx53q57rz91nm4rvr40000gn/T/ipykernel_83190/3511079560.py\" target=\"_blank\"><span style=\"color: #008080; text-decoration-color: #008080; font-weight: bold\">3511079560.py</span></a><span style=\"color: #008080; text-decoration-color: #008080; font-weight: bold\">:</span><a href=\"file:///var/folders/j5/qcb5hwfx53q57rz91nm4rvr40000gn/T/ipykernel_83190/3511079560.py#50\" target=\"_blank\"><span style=\"color: #008080; text-decoration-color: #008080; font-weight: bold\">50</span></a>\n",
       "</pre>\n"
      ],
      "text/plain": [
       "\u001b[2;36m                   \u001b[0m\u001b[2;36m \u001b[0m\u001b[1;34mINFO    \u001b[0m\u001b[1;32m \u001b[0m\u001b[1m[\u001b[0m\u001b[1;36m3511079560.\u001b[0mpy:\u001b[1;36m50\u001b[0m\u001b[1m]\u001b[0m Creating heatmap visualization\u001b[33m...\u001b[0m                  \u001b]8;id=902244;file:///var/folders/j5/qcb5hwfx53q57rz91nm4rvr40000gn/T/ipykernel_83190/3511079560.py\u001b\\\u001b[1;36m3511079560.py\u001b[0m\u001b]8;;\u001b\\\u001b[1;36m:\u001b[0m\u001b]8;id=93166;file:///var/folders/j5/qcb5hwfx53q57rz91nm4rvr40000gn/T/ipykernel_83190/3511079560.py#50\u001b\\\u001b[1;36m50\u001b[0m\u001b]8;;\u001b\\\n"
      ]
     },
     "metadata": {},
     "output_type": "display_data"
    },
    {
     "name": "stdout",
     "output_type": "stream",
     "text": [
      "Row labels length: 19\n",
      "Col labels length: 17\n"
     ]
    },
    {
     "data": {
      "text/html": [
       "<pre style=\"white-space:pre;overflow-x:auto;line-height:normal;font-family:Menlo,'DejaVu Sans Mono',consolas,'Courier New',monospace\"><span style=\"color: #7fbfbf; text-decoration-color: #7fbfbf\">                    </span><span style=\"color: #000080; text-decoration-color: #000080; font-weight: bold\">INFO    </span><span style=\"color: #008000; text-decoration-color: #008000; font-weight: bold\"> </span><span style=\"font-weight: bold\">[</span><span style=\"color: #008080; text-decoration-color: #008080; font-weight: bold\">3511079560.</span>py:<span style=\"color: #008080; text-decoration-color: #008080; font-weight: bold\">44</span><span style=\"font-weight: bold\">]</span> Creating heatmap visualization<span style=\"color: #808000; text-decoration-color: #808000\">...</span>                  <a href=\"file:///var/folders/j5/qcb5hwfx53q57rz91nm4rvr40000gn/T/ipykernel_83190/3511079560.py\" target=\"_blank\"><span style=\"color: #008080; text-decoration-color: #008080; font-weight: bold\">3511079560.py</span></a><span style=\"color: #008080; text-decoration-color: #008080; font-weight: bold\">:</span><a href=\"file:///var/folders/j5/qcb5hwfx53q57rz91nm4rvr40000gn/T/ipykernel_83190/3511079560.py#44\" target=\"_blank\"><span style=\"color: #008080; text-decoration-color: #008080; font-weight: bold\">44</span></a>\n",
       "</pre>\n"
      ],
      "text/plain": [
       "\u001b[2;36m                   \u001b[0m\u001b[2;36m \u001b[0m\u001b[1;34mINFO    \u001b[0m\u001b[1;32m \u001b[0m\u001b[1m[\u001b[0m\u001b[1;36m3511079560.\u001b[0mpy:\u001b[1;36m44\u001b[0m\u001b[1m]\u001b[0m Creating heatmap visualization\u001b[33m...\u001b[0m                  \u001b]8;id=231942;file:///var/folders/j5/qcb5hwfx53q57rz91nm4rvr40000gn/T/ipykernel_83190/3511079560.py\u001b\\\u001b[1;36m3511079560.py\u001b[0m\u001b]8;;\u001b\\\u001b[1;36m:\u001b[0m\u001b]8;id=746345;file:///var/folders/j5/qcb5hwfx53q57rz91nm4rvr40000gn/T/ipykernel_83190/3511079560.py#44\u001b\\\u001b[1;36m44\u001b[0m\u001b]8;;\u001b\\\n"
      ]
     },
     "metadata": {},
     "output_type": "display_data"
    },
    {
     "data": {
      "text/html": [
       "<pre style=\"white-space:pre;overflow-x:auto;line-height:normal;font-family:Menlo,'DejaVu Sans Mono',consolas,'Courier New',monospace\"><span style=\"color: #7fbfbf; text-decoration-color: #7fbfbf\">                    </span><span style=\"color: #000080; text-decoration-color: #000080; font-weight: bold\">INFO    </span><span style=\"color: #008000; text-decoration-color: #008000; font-weight: bold\"> </span><span style=\"font-weight: bold\">[</span><span style=\"color: #008080; text-decoration-color: #008080; font-weight: bold\">3511079560.</span>py:<span style=\"color: #008080; text-decoration-color: #008080; font-weight: bold\">50</span><span style=\"font-weight: bold\">]</span> Creating heatmap visualization<span style=\"color: #808000; text-decoration-color: #808000\">...</span>                  <a href=\"file:///var/folders/j5/qcb5hwfx53q57rz91nm4rvr40000gn/T/ipykernel_83190/3511079560.py\" target=\"_blank\"><span style=\"color: #008080; text-decoration-color: #008080; font-weight: bold\">3511079560.py</span></a><span style=\"color: #008080; text-decoration-color: #008080; font-weight: bold\">:</span><a href=\"file:///var/folders/j5/qcb5hwfx53q57rz91nm4rvr40000gn/T/ipykernel_83190/3511079560.py#50\" target=\"_blank\"><span style=\"color: #008080; text-decoration-color: #008080; font-weight: bold\">50</span></a>\n",
       "</pre>\n"
      ],
      "text/plain": [
       "\u001b[2;36m                   \u001b[0m\u001b[2;36m \u001b[0m\u001b[1;34mINFO    \u001b[0m\u001b[1;32m \u001b[0m\u001b[1m[\u001b[0m\u001b[1;36m3511079560.\u001b[0mpy:\u001b[1;36m50\u001b[0m\u001b[1m]\u001b[0m Creating heatmap visualization\u001b[33m...\u001b[0m                  \u001b]8;id=139558;file:///var/folders/j5/qcb5hwfx53q57rz91nm4rvr40000gn/T/ipykernel_83190/3511079560.py\u001b\\\u001b[1;36m3511079560.py\u001b[0m\u001b]8;;\u001b\\\u001b[1;36m:\u001b[0m\u001b]8;id=637615;file:///var/folders/j5/qcb5hwfx53q57rz91nm4rvr40000gn/T/ipykernel_83190/3511079560.py#50\u001b\\\u001b[1;36m50\u001b[0m\u001b]8;;\u001b\\\n"
      ]
     },
     "metadata": {},
     "output_type": "display_data"
    },
    {
     "name": "stdout",
     "output_type": "stream",
     "text": [
      "Row labels length: 19\n",
      "Col labels length: 17\n"
     ]
    },
    {
     "data": {
      "text/html": [
       "<pre style=\"white-space:pre;overflow-x:auto;line-height:normal;font-family:Menlo,'DejaVu Sans Mono',consolas,'Courier New',monospace\"><span style=\"color: #7fbfbf; text-decoration-color: #7fbfbf\">                    </span><span style=\"color: #000080; text-decoration-color: #000080; font-weight: bold\">INFO    </span><span style=\"color: #008000; text-decoration-color: #008000; font-weight: bold\"> </span><span style=\"font-weight: bold\">[</span><span style=\"color: #008080; text-decoration-color: #008080; font-weight: bold\">3511079560.</span>py:<span style=\"color: #008080; text-decoration-color: #008080; font-weight: bold\">44</span><span style=\"font-weight: bold\">]</span> Creating heatmap visualization<span style=\"color: #808000; text-decoration-color: #808000\">...</span>                  <a href=\"file:///var/folders/j5/qcb5hwfx53q57rz91nm4rvr40000gn/T/ipykernel_83190/3511079560.py\" target=\"_blank\"><span style=\"color: #008080; text-decoration-color: #008080; font-weight: bold\">3511079560.py</span></a><span style=\"color: #008080; text-decoration-color: #008080; font-weight: bold\">:</span><a href=\"file:///var/folders/j5/qcb5hwfx53q57rz91nm4rvr40000gn/T/ipykernel_83190/3511079560.py#44\" target=\"_blank\"><span style=\"color: #008080; text-decoration-color: #008080; font-weight: bold\">44</span></a>\n",
       "</pre>\n"
      ],
      "text/plain": [
       "\u001b[2;36m                   \u001b[0m\u001b[2;36m \u001b[0m\u001b[1;34mINFO    \u001b[0m\u001b[1;32m \u001b[0m\u001b[1m[\u001b[0m\u001b[1;36m3511079560.\u001b[0mpy:\u001b[1;36m44\u001b[0m\u001b[1m]\u001b[0m Creating heatmap visualization\u001b[33m...\u001b[0m                  \u001b]8;id=713142;file:///var/folders/j5/qcb5hwfx53q57rz91nm4rvr40000gn/T/ipykernel_83190/3511079560.py\u001b\\\u001b[1;36m3511079560.py\u001b[0m\u001b]8;;\u001b\\\u001b[1;36m:\u001b[0m\u001b]8;id=455223;file:///var/folders/j5/qcb5hwfx53q57rz91nm4rvr40000gn/T/ipykernel_83190/3511079560.py#44\u001b\\\u001b[1;36m44\u001b[0m\u001b]8;;\u001b\\\n"
      ]
     },
     "metadata": {},
     "output_type": "display_data"
    },
    {
     "data": {
      "text/html": [
       "<pre style=\"white-space:pre;overflow-x:auto;line-height:normal;font-family:Menlo,'DejaVu Sans Mono',consolas,'Courier New',monospace\"><span style=\"color: #7fbfbf; text-decoration-color: #7fbfbf\">                    </span><span style=\"color: #000080; text-decoration-color: #000080; font-weight: bold\">INFO    </span><span style=\"color: #008000; text-decoration-color: #008000; font-weight: bold\"> </span><span style=\"font-weight: bold\">[</span><span style=\"color: #008080; text-decoration-color: #008080; font-weight: bold\">3511079560.</span>py:<span style=\"color: #008080; text-decoration-color: #008080; font-weight: bold\">50</span><span style=\"font-weight: bold\">]</span> Creating heatmap visualization<span style=\"color: #808000; text-decoration-color: #808000\">...</span>                  <a href=\"file:///var/folders/j5/qcb5hwfx53q57rz91nm4rvr40000gn/T/ipykernel_83190/3511079560.py\" target=\"_blank\"><span style=\"color: #008080; text-decoration-color: #008080; font-weight: bold\">3511079560.py</span></a><span style=\"color: #008080; text-decoration-color: #008080; font-weight: bold\">:</span><a href=\"file:///var/folders/j5/qcb5hwfx53q57rz91nm4rvr40000gn/T/ipykernel_83190/3511079560.py#50\" target=\"_blank\"><span style=\"color: #008080; text-decoration-color: #008080; font-weight: bold\">50</span></a>\n",
       "</pre>\n"
      ],
      "text/plain": [
       "\u001b[2;36m                   \u001b[0m\u001b[2;36m \u001b[0m\u001b[1;34mINFO    \u001b[0m\u001b[1;32m \u001b[0m\u001b[1m[\u001b[0m\u001b[1;36m3511079560.\u001b[0mpy:\u001b[1;36m50\u001b[0m\u001b[1m]\u001b[0m Creating heatmap visualization\u001b[33m...\u001b[0m                  \u001b]8;id=309541;file:///var/folders/j5/qcb5hwfx53q57rz91nm4rvr40000gn/T/ipykernel_83190/3511079560.py\u001b\\\u001b[1;36m3511079560.py\u001b[0m\u001b]8;;\u001b\\\u001b[1;36m:\u001b[0m\u001b]8;id=66681;file:///var/folders/j5/qcb5hwfx53q57rz91nm4rvr40000gn/T/ipykernel_83190/3511079560.py#50\u001b\\\u001b[1;36m50\u001b[0m\u001b]8;;\u001b\\\n"
      ]
     },
     "metadata": {},
     "output_type": "display_data"
    },
    {
     "name": "stdout",
     "output_type": "stream",
     "text": [
      "Row labels length: 19\n",
      "Col labels length: 17\n"
     ]
    },
    {
     "data": {
      "text/html": [
       "<pre style=\"white-space:pre;overflow-x:auto;line-height:normal;font-family:Menlo,'DejaVu Sans Mono',consolas,'Courier New',monospace\"><span style=\"color: #7fbfbf; text-decoration-color: #7fbfbf\">                    </span><span style=\"color: #000080; text-decoration-color: #000080; font-weight: bold\">INFO    </span><span style=\"color: #008000; text-decoration-color: #008000; font-weight: bold\"> </span><span style=\"font-weight: bold\">[</span><span style=\"color: #008080; text-decoration-color: #008080; font-weight: bold\">3511079560.</span>py:<span style=\"color: #008080; text-decoration-color: #008080; font-weight: bold\">44</span><span style=\"font-weight: bold\">]</span> Creating heatmap visualization<span style=\"color: #808000; text-decoration-color: #808000\">...</span>                  <a href=\"file:///var/folders/j5/qcb5hwfx53q57rz91nm4rvr40000gn/T/ipykernel_83190/3511079560.py\" target=\"_blank\"><span style=\"color: #008080; text-decoration-color: #008080; font-weight: bold\">3511079560.py</span></a><span style=\"color: #008080; text-decoration-color: #008080; font-weight: bold\">:</span><a href=\"file:///var/folders/j5/qcb5hwfx53q57rz91nm4rvr40000gn/T/ipykernel_83190/3511079560.py#44\" target=\"_blank\"><span style=\"color: #008080; text-decoration-color: #008080; font-weight: bold\">44</span></a>\n",
       "</pre>\n"
      ],
      "text/plain": [
       "\u001b[2;36m                   \u001b[0m\u001b[2;36m \u001b[0m\u001b[1;34mINFO    \u001b[0m\u001b[1;32m \u001b[0m\u001b[1m[\u001b[0m\u001b[1;36m3511079560.\u001b[0mpy:\u001b[1;36m44\u001b[0m\u001b[1m]\u001b[0m Creating heatmap visualization\u001b[33m...\u001b[0m                  \u001b]8;id=177074;file:///var/folders/j5/qcb5hwfx53q57rz91nm4rvr40000gn/T/ipykernel_83190/3511079560.py\u001b\\\u001b[1;36m3511079560.py\u001b[0m\u001b]8;;\u001b\\\u001b[1;36m:\u001b[0m\u001b]8;id=880487;file:///var/folders/j5/qcb5hwfx53q57rz91nm4rvr40000gn/T/ipykernel_83190/3511079560.py#44\u001b\\\u001b[1;36m44\u001b[0m\u001b]8;;\u001b\\\n"
      ]
     },
     "metadata": {},
     "output_type": "display_data"
    },
    {
     "data": {
      "text/html": [
       "<pre style=\"white-space:pre;overflow-x:auto;line-height:normal;font-family:Menlo,'DejaVu Sans Mono',consolas,'Courier New',monospace\"><span style=\"color: #7fbfbf; text-decoration-color: #7fbfbf\">                    </span><span style=\"color: #000080; text-decoration-color: #000080; font-weight: bold\">INFO    </span><span style=\"color: #008000; text-decoration-color: #008000; font-weight: bold\"> </span><span style=\"font-weight: bold\">[</span><span style=\"color: #008080; text-decoration-color: #008080; font-weight: bold\">3511079560.</span>py:<span style=\"color: #008080; text-decoration-color: #008080; font-weight: bold\">50</span><span style=\"font-weight: bold\">]</span> Creating heatmap visualization<span style=\"color: #808000; text-decoration-color: #808000\">...</span>                  <a href=\"file:///var/folders/j5/qcb5hwfx53q57rz91nm4rvr40000gn/T/ipykernel_83190/3511079560.py\" target=\"_blank\"><span style=\"color: #008080; text-decoration-color: #008080; font-weight: bold\">3511079560.py</span></a><span style=\"color: #008080; text-decoration-color: #008080; font-weight: bold\">:</span><a href=\"file:///var/folders/j5/qcb5hwfx53q57rz91nm4rvr40000gn/T/ipykernel_83190/3511079560.py#50\" target=\"_blank\"><span style=\"color: #008080; text-decoration-color: #008080; font-weight: bold\">50</span></a>\n",
       "</pre>\n"
      ],
      "text/plain": [
       "\u001b[2;36m                   \u001b[0m\u001b[2;36m \u001b[0m\u001b[1;34mINFO    \u001b[0m\u001b[1;32m \u001b[0m\u001b[1m[\u001b[0m\u001b[1;36m3511079560.\u001b[0mpy:\u001b[1;36m50\u001b[0m\u001b[1m]\u001b[0m Creating heatmap visualization\u001b[33m...\u001b[0m                  \u001b]8;id=49050;file:///var/folders/j5/qcb5hwfx53q57rz91nm4rvr40000gn/T/ipykernel_83190/3511079560.py\u001b\\\u001b[1;36m3511079560.py\u001b[0m\u001b]8;;\u001b\\\u001b[1;36m:\u001b[0m\u001b]8;id=409088;file:///var/folders/j5/qcb5hwfx53q57rz91nm4rvr40000gn/T/ipykernel_83190/3511079560.py#50\u001b\\\u001b[1;36m50\u001b[0m\u001b]8;;\u001b\\\n"
      ]
     },
     "metadata": {},
     "output_type": "display_data"
    },
    {
     "name": "stdout",
     "output_type": "stream",
     "text": [
      "Row labels length: 19\n",
      "Col labels length: 17\n"
     ]
    },
    {
     "data": {
      "text/html": [
       "<pre style=\"white-space:pre;overflow-x:auto;line-height:normal;font-family:Menlo,'DejaVu Sans Mono',consolas,'Courier New',monospace\"><span style=\"color: #7fbfbf; text-decoration-color: #7fbfbf\">                    </span><span style=\"color: #000080; text-decoration-color: #000080; font-weight: bold\">INFO    </span><span style=\"color: #008000; text-decoration-color: #008000; font-weight: bold\"> </span><span style=\"font-weight: bold\">[</span><span style=\"color: #008080; text-decoration-color: #008080; font-weight: bold\">3511079560.</span>py:<span style=\"color: #008080; text-decoration-color: #008080; font-weight: bold\">44</span><span style=\"font-weight: bold\">]</span> Creating heatmap visualization<span style=\"color: #808000; text-decoration-color: #808000\">...</span>                  <a href=\"file:///var/folders/j5/qcb5hwfx53q57rz91nm4rvr40000gn/T/ipykernel_83190/3511079560.py\" target=\"_blank\"><span style=\"color: #008080; text-decoration-color: #008080; font-weight: bold\">3511079560.py</span></a><span style=\"color: #008080; text-decoration-color: #008080; font-weight: bold\">:</span><a href=\"file:///var/folders/j5/qcb5hwfx53q57rz91nm4rvr40000gn/T/ipykernel_83190/3511079560.py#44\" target=\"_blank\"><span style=\"color: #008080; text-decoration-color: #008080; font-weight: bold\">44</span></a>\n",
       "</pre>\n"
      ],
      "text/plain": [
       "\u001b[2;36m                   \u001b[0m\u001b[2;36m \u001b[0m\u001b[1;34mINFO    \u001b[0m\u001b[1;32m \u001b[0m\u001b[1m[\u001b[0m\u001b[1;36m3511079560.\u001b[0mpy:\u001b[1;36m44\u001b[0m\u001b[1m]\u001b[0m Creating heatmap visualization\u001b[33m...\u001b[0m                  \u001b]8;id=528557;file:///var/folders/j5/qcb5hwfx53q57rz91nm4rvr40000gn/T/ipykernel_83190/3511079560.py\u001b\\\u001b[1;36m3511079560.py\u001b[0m\u001b]8;;\u001b\\\u001b[1;36m:\u001b[0m\u001b]8;id=191841;file:///var/folders/j5/qcb5hwfx53q57rz91nm4rvr40000gn/T/ipykernel_83190/3511079560.py#44\u001b\\\u001b[1;36m44\u001b[0m\u001b]8;;\u001b\\\n"
      ]
     },
     "metadata": {},
     "output_type": "display_data"
    },
    {
     "data": {
      "text/html": [
       "<pre style=\"white-space:pre;overflow-x:auto;line-height:normal;font-family:Menlo,'DejaVu Sans Mono',consolas,'Courier New',monospace\"><span style=\"color: #7fbfbf; text-decoration-color: #7fbfbf\">                    </span><span style=\"color: #000080; text-decoration-color: #000080; font-weight: bold\">INFO    </span><span style=\"color: #008000; text-decoration-color: #008000; font-weight: bold\"> </span><span style=\"font-weight: bold\">[</span><span style=\"color: #008080; text-decoration-color: #008080; font-weight: bold\">3511079560.</span>py:<span style=\"color: #008080; text-decoration-color: #008080; font-weight: bold\">50</span><span style=\"font-weight: bold\">]</span> Creating heatmap visualization<span style=\"color: #808000; text-decoration-color: #808000\">...</span>                  <a href=\"file:///var/folders/j5/qcb5hwfx53q57rz91nm4rvr40000gn/T/ipykernel_83190/3511079560.py\" target=\"_blank\"><span style=\"color: #008080; text-decoration-color: #008080; font-weight: bold\">3511079560.py</span></a><span style=\"color: #008080; text-decoration-color: #008080; font-weight: bold\">:</span><a href=\"file:///var/folders/j5/qcb5hwfx53q57rz91nm4rvr40000gn/T/ipykernel_83190/3511079560.py#50\" target=\"_blank\"><span style=\"color: #008080; text-decoration-color: #008080; font-weight: bold\">50</span></a>\n",
       "</pre>\n"
      ],
      "text/plain": [
       "\u001b[2;36m                   \u001b[0m\u001b[2;36m \u001b[0m\u001b[1;34mINFO    \u001b[0m\u001b[1;32m \u001b[0m\u001b[1m[\u001b[0m\u001b[1;36m3511079560.\u001b[0mpy:\u001b[1;36m50\u001b[0m\u001b[1m]\u001b[0m Creating heatmap visualization\u001b[33m...\u001b[0m                  \u001b]8;id=937583;file:///var/folders/j5/qcb5hwfx53q57rz91nm4rvr40000gn/T/ipykernel_83190/3511079560.py\u001b\\\u001b[1;36m3511079560.py\u001b[0m\u001b]8;;\u001b\\\u001b[1;36m:\u001b[0m\u001b]8;id=286945;file:///var/folders/j5/qcb5hwfx53q57rz91nm4rvr40000gn/T/ipykernel_83190/3511079560.py#50\u001b\\\u001b[1;36m50\u001b[0m\u001b]8;;\u001b\\\n"
      ]
     },
     "metadata": {},
     "output_type": "display_data"
    },
    {
     "name": "stdout",
     "output_type": "stream",
     "text": [
      "Row labels length: 19\n",
      "Col labels length: 17\n"
     ]
    },
    {
     "data": {
      "text/html": [
       "<pre style=\"white-space:pre;overflow-x:auto;line-height:normal;font-family:Menlo,'DejaVu Sans Mono',consolas,'Courier New',monospace\"><span style=\"color: #7fbfbf; text-decoration-color: #7fbfbf\">                    </span><span style=\"color: #000080; text-decoration-color: #000080; font-weight: bold\">INFO    </span><span style=\"color: #008000; text-decoration-color: #008000; font-weight: bold\"> </span> Saving HTML figure to                                               <a href=\"file:///Users/4gate/git/embedding_translation/src/viz/save_figure.py\" target=\"_blank\"><span style=\"color: #008080; text-decoration-color: #008080; font-weight: bold\">save_figure.py</span></a><span style=\"color: #008080; text-decoration-color: #008080; font-weight: bold\">:</span><a href=\"file:///Users/4gate/git/embedding_translation/src/viz/save_figure.py#32\" target=\"_blank\"><span style=\"color: #008080; text-decoration-color: #008080; font-weight: bold\">32</span></a>\n",
       "<span style=\"color: #7fbfbf; text-decoration-color: #7fbfbf\">                    </span><span style=\"color: #008000; text-decoration-color: #008000; font-weight: bold\">         </span><span style=\"color: #800080; text-decoration-color: #800080\">/Users/4gate/git/embedding_translation/data/figs/html/</span><span style=\"color: #ff00ff; text-decoration-color: #ff00ff\">arguana_lord_f</span> <span style=\"color: #008080; text-decoration-color: #008080; font-weight: bold\">                 </span>\n",
       "<span style=\"color: #7fbfbf; text-decoration-color: #7fbfbf\">                    </span><span style=\"color: #008000; text-decoration-color: #008000; font-weight: bold\">         </span><span style=\"color: #ff00ff; text-decoration-color: #ff00ff\">arquad_was_heren.html</span>                                                <span style=\"color: #008080; text-decoration-color: #008080; font-weight: bold\">                 </span>\n",
       "</pre>\n"
      ],
      "text/plain": [
       "\u001b[2;36m                   \u001b[0m\u001b[2;36m \u001b[0m\u001b[1;34mINFO    \u001b[0m\u001b[1;32m \u001b[0m Saving HTML figure to                                               \u001b]8;id=83054;file:///Users/4gate/git/embedding_translation/src/viz/save_figure.py\u001b\\\u001b[1;36msave_figure.py\u001b[0m\u001b]8;;\u001b\\\u001b[1;36m:\u001b[0m\u001b]8;id=852418;file:///Users/4gate/git/embedding_translation/src/viz/save_figure.py#32\u001b\\\u001b[1;36m32\u001b[0m\u001b]8;;\u001b\\\n",
       "\u001b[2;36m                    \u001b[0m\u001b[1;32m         \u001b[0m\u001b[35m/Users/4gate/git/embedding_translation/data/figs/html/\u001b[0m\u001b[95marguana_lord_f\u001b[0m \u001b[1;36m                 \u001b[0m\n",
       "\u001b[2;36m                    \u001b[0m\u001b[1;32m         \u001b[0m\u001b[95marquad_was_heren.html\u001b[0m                                                \u001b[1;36m                 \u001b[0m\n"
      ]
     },
     "metadata": {},
     "output_type": "display_data"
    },
    {
     "data": {
      "text/html": [
       "<pre style=\"white-space:pre;overflow-x:auto;line-height:normal;font-family:Menlo,'DejaVu Sans Mono',consolas,'Courier New',monospace\"><span style=\"color: #7fbfbf; text-decoration-color: #7fbfbf\">                    </span><span style=\"color: #008000; text-decoration-color: #008000; font-weight: bold\">SUCCESS  </span> Successfully saved HTML to                                          <a href=\"file:///Users/4gate/git/embedding_translation/src/viz/save_figure.py\" target=\"_blank\"><span style=\"color: #008080; text-decoration-color: #008080; font-weight: bold\">save_figure.py</span></a><span style=\"color: #008080; text-decoration-color: #008080; font-weight: bold\">:</span><a href=\"file:///Users/4gate/git/embedding_translation/src/viz/save_figure.py#40\" target=\"_blank\"><span style=\"color: #008080; text-decoration-color: #008080; font-weight: bold\">40</span></a>\n",
       "<span style=\"color: #7fbfbf; text-decoration-color: #7fbfbf\">                    </span><span style=\"color: #008000; text-decoration-color: #008000; font-weight: bold\">         </span><span style=\"color: #800080; text-decoration-color: #800080\">/Users/4gate/git/embedding_translation/data/figs/html/</span><span style=\"color: #ff00ff; text-decoration-color: #ff00ff\">arguana_lord_f</span> <span style=\"color: #008080; text-decoration-color: #008080; font-weight: bold\">                 </span>\n",
       "<span style=\"color: #7fbfbf; text-decoration-color: #7fbfbf\">                    </span><span style=\"color: #008000; text-decoration-color: #008000; font-weight: bold\">         </span><span style=\"color: #ff00ff; text-decoration-color: #ff00ff\">arquad_was_heren.html</span>                                                <span style=\"color: #008080; text-decoration-color: #008080; font-weight: bold\">                 </span>\n",
       "</pre>\n"
      ],
      "text/plain": [
       "\u001b[2;36m                   \u001b[0m\u001b[2;36m \u001b[0m\u001b[1;32mSUCCESS \u001b[0m\u001b[1;32m \u001b[0m Successfully saved HTML to                                          \u001b]8;id=523105;file:///Users/4gate/git/embedding_translation/src/viz/save_figure.py\u001b\\\u001b[1;36msave_figure.py\u001b[0m\u001b]8;;\u001b\\\u001b[1;36m:\u001b[0m\u001b]8;id=659014;file:///Users/4gate/git/embedding_translation/src/viz/save_figure.py#40\u001b\\\u001b[1;36m40\u001b[0m\u001b]8;;\u001b\\\n",
       "\u001b[2;36m                    \u001b[0m\u001b[1;32m         \u001b[0m\u001b[35m/Users/4gate/git/embedding_translation/data/figs/html/\u001b[0m\u001b[95marguana_lord_f\u001b[0m \u001b[1;36m                 \u001b[0m\n",
       "\u001b[2;36m                    \u001b[0m\u001b[1;32m         \u001b[0m\u001b[95marquad_was_heren.html\u001b[0m                                                \u001b[1;36m                 \u001b[0m\n"
      ]
     },
     "metadata": {},
     "output_type": "display_data"
    },
    {
     "data": {
      "text/html": [
       "<pre style=\"white-space:pre;overflow-x:auto;line-height:normal;font-family:Menlo,'DejaVu Sans Mono',consolas,'Courier New',monospace\"><span style=\"color: #7fbfbf; text-decoration-color: #7fbfbf\">                    </span><span style=\"color: #000080; text-decoration-color: #000080; font-weight: bold\">INFO    </span><span style=\"color: #008000; text-decoration-color: #008000; font-weight: bold\"> </span> Saving PNG figure to                                                <a href=\"file:///Users/4gate/git/embedding_translation/src/viz/save_figure.py\" target=\"_blank\"><span style=\"color: #008080; text-decoration-color: #008080; font-weight: bold\">save_figure.py</span></a><span style=\"color: #008080; text-decoration-color: #008080; font-weight: bold\">:</span><a href=\"file:///Users/4gate/git/embedding_translation/src/viz/save_figure.py#67\" target=\"_blank\"><span style=\"color: #008080; text-decoration-color: #008080; font-weight: bold\">67</span></a>\n",
       "<span style=\"color: #7fbfbf; text-decoration-color: #7fbfbf\">                    </span><span style=\"color: #008000; text-decoration-color: #008000; font-weight: bold\">         </span><span style=\"color: #800080; text-decoration-color: #800080\">/Users/4gate/git/embedding_translation/data/figs/imgs/</span><span style=\"color: #ff00ff; text-decoration-color: #ff00ff\">arguana_lord_f</span> <span style=\"color: #008080; text-decoration-color: #008080; font-weight: bold\">                 </span>\n",
       "<span style=\"color: #7fbfbf; text-decoration-color: #7fbfbf\">                    </span><span style=\"color: #008000; text-decoration-color: #008000; font-weight: bold\">         </span><span style=\"color: #ff00ff; text-decoration-color: #ff00ff\">arquad_was_heren.png</span>                                                 <span style=\"color: #008080; text-decoration-color: #008080; font-weight: bold\">                 </span>\n",
       "</pre>\n"
      ],
      "text/plain": [
       "\u001b[2;36m                   \u001b[0m\u001b[2;36m \u001b[0m\u001b[1;34mINFO    \u001b[0m\u001b[1;32m \u001b[0m Saving PNG figure to                                                \u001b]8;id=271100;file:///Users/4gate/git/embedding_translation/src/viz/save_figure.py\u001b\\\u001b[1;36msave_figure.py\u001b[0m\u001b]8;;\u001b\\\u001b[1;36m:\u001b[0m\u001b]8;id=687122;file:///Users/4gate/git/embedding_translation/src/viz/save_figure.py#67\u001b\\\u001b[1;36m67\u001b[0m\u001b]8;;\u001b\\\n",
       "\u001b[2;36m                    \u001b[0m\u001b[1;32m         \u001b[0m\u001b[35m/Users/4gate/git/embedding_translation/data/figs/imgs/\u001b[0m\u001b[95marguana_lord_f\u001b[0m \u001b[1;36m                 \u001b[0m\n",
       "\u001b[2;36m                    \u001b[0m\u001b[1;32m         \u001b[0m\u001b[95marquad_was_heren.png\u001b[0m                                                 \u001b[1;36m                 \u001b[0m\n"
      ]
     },
     "metadata": {},
     "output_type": "display_data"
    },
    {
     "data": {
      "text/html": [
       "<pre style=\"white-space:pre;overflow-x:auto;line-height:normal;font-family:Menlo,'DejaVu Sans Mono',consolas,'Courier New',monospace\"><span style=\"color: #7fbfbf; text-decoration-color: #7fbfbf\">                    </span><span style=\"color: #008000; text-decoration-color: #008000; font-weight: bold\">SUCCESS  </span> Successfully saved PNG to                                           <a href=\"file:///Users/4gate/git/embedding_translation/src/viz/save_figure.py\" target=\"_blank\"><span style=\"color: #008080; text-decoration-color: #008080; font-weight: bold\">save_figure.py</span></a><span style=\"color: #008080; text-decoration-color: #008080; font-weight: bold\">:</span><a href=\"file:///Users/4gate/git/embedding_translation/src/viz/save_figure.py#76\" target=\"_blank\"><span style=\"color: #008080; text-decoration-color: #008080; font-weight: bold\">76</span></a>\n",
       "<span style=\"color: #7fbfbf; text-decoration-color: #7fbfbf\">                    </span><span style=\"color: #008000; text-decoration-color: #008000; font-weight: bold\">         </span><span style=\"color: #800080; text-decoration-color: #800080\">/Users/4gate/git/embedding_translation/data/figs/imgs/</span><span style=\"color: #ff00ff; text-decoration-color: #ff00ff\">arguana_lord_f</span> <span style=\"color: #008080; text-decoration-color: #008080; font-weight: bold\">                 </span>\n",
       "<span style=\"color: #7fbfbf; text-decoration-color: #7fbfbf\">                    </span><span style=\"color: #008000; text-decoration-color: #008000; font-weight: bold\">         </span><span style=\"color: #ff00ff; text-decoration-color: #ff00ff\">arquad_was_heren.png</span>                                                 <span style=\"color: #008080; text-decoration-color: #008080; font-weight: bold\">                 </span>\n",
       "</pre>\n"
      ],
      "text/plain": [
       "\u001b[2;36m                   \u001b[0m\u001b[2;36m \u001b[0m\u001b[1;32mSUCCESS \u001b[0m\u001b[1;32m \u001b[0m Successfully saved PNG to                                           \u001b]8;id=768821;file:///Users/4gate/git/embedding_translation/src/viz/save_figure.py\u001b\\\u001b[1;36msave_figure.py\u001b[0m\u001b]8;;\u001b\\\u001b[1;36m:\u001b[0m\u001b]8;id=241633;file:///Users/4gate/git/embedding_translation/src/viz/save_figure.py#76\u001b\\\u001b[1;36m76\u001b[0m\u001b]8;;\u001b\\\n",
       "\u001b[2;36m                    \u001b[0m\u001b[1;32m         \u001b[0m\u001b[35m/Users/4gate/git/embedding_translation/data/figs/imgs/\u001b[0m\u001b[95marguana_lord_f\u001b[0m \u001b[1;36m                 \u001b[0m\n",
       "\u001b[2;36m                    \u001b[0m\u001b[1;32m         \u001b[0m\u001b[95marquad_was_heren.png\u001b[0m                                                 \u001b[1;36m                 \u001b[0m\n"
      ]
     },
     "metadata": {},
     "output_type": "display_data"
    },
    {
     "data": {
      "text/html": [
       "<pre style=\"white-space:pre;overflow-x:auto;line-height:normal;font-family:Menlo,'DejaVu Sans Mono',consolas,'Courier New',monospace\"><span style=\"color: #7fbfbf; text-decoration-color: #7fbfbf\">                    </span><span style=\"color: #000080; text-decoration-color: #000080; font-weight: bold\">INFO    </span><span style=\"color: #008000; text-decoration-color: #008000; font-weight: bold\"> </span><span style=\"font-weight: bold\">[</span><span style=\"color: #008080; text-decoration-color: #008080; font-weight: bold\">3511079560.</span>py:<span style=\"color: #008080; text-decoration-color: #008080; font-weight: bold\">44</span><span style=\"font-weight: bold\">]</span> Creating heatmap visualization<span style=\"color: #808000; text-decoration-color: #808000\">...</span>                  <a href=\"file:///var/folders/j5/qcb5hwfx53q57rz91nm4rvr40000gn/T/ipykernel_83190/3511079560.py\" target=\"_blank\"><span style=\"color: #008080; text-decoration-color: #008080; font-weight: bold\">3511079560.py</span></a><span style=\"color: #008080; text-decoration-color: #008080; font-weight: bold\">:</span><a href=\"file:///var/folders/j5/qcb5hwfx53q57rz91nm4rvr40000gn/T/ipykernel_83190/3511079560.py#44\" target=\"_blank\"><span style=\"color: #008080; text-decoration-color: #008080; font-weight: bold\">44</span></a>\n",
       "</pre>\n"
      ],
      "text/plain": [
       "\u001b[2;36m                   \u001b[0m\u001b[2;36m \u001b[0m\u001b[1;34mINFO    \u001b[0m\u001b[1;32m \u001b[0m\u001b[1m[\u001b[0m\u001b[1;36m3511079560.\u001b[0mpy:\u001b[1;36m44\u001b[0m\u001b[1m]\u001b[0m Creating heatmap visualization\u001b[33m...\u001b[0m                  \u001b]8;id=297242;file:///var/folders/j5/qcb5hwfx53q57rz91nm4rvr40000gn/T/ipykernel_83190/3511079560.py\u001b\\\u001b[1;36m3511079560.py\u001b[0m\u001b]8;;\u001b\\\u001b[1;36m:\u001b[0m\u001b]8;id=982885;file:///var/folders/j5/qcb5hwfx53q57rz91nm4rvr40000gn/T/ipykernel_83190/3511079560.py#44\u001b\\\u001b[1;36m44\u001b[0m\u001b]8;;\u001b\\\n"
      ]
     },
     "metadata": {},
     "output_type": "display_data"
    },
    {
     "data": {
      "text/html": [
       "<pre style=\"white-space:pre;overflow-x:auto;line-height:normal;font-family:Menlo,'DejaVu Sans Mono',consolas,'Courier New',monospace\"><span style=\"color: #7fbfbf; text-decoration-color: #7fbfbf\">                    </span><span style=\"color: #000080; text-decoration-color: #000080; font-weight: bold\">INFO    </span><span style=\"color: #008000; text-decoration-color: #008000; font-weight: bold\"> </span><span style=\"font-weight: bold\">[</span><span style=\"color: #008080; text-decoration-color: #008080; font-weight: bold\">3511079560.</span>py:<span style=\"color: #008080; text-decoration-color: #008080; font-weight: bold\">50</span><span style=\"font-weight: bold\">]</span> Creating heatmap visualization<span style=\"color: #808000; text-decoration-color: #808000\">...</span>                  <a href=\"file:///var/folders/j5/qcb5hwfx53q57rz91nm4rvr40000gn/T/ipykernel_83190/3511079560.py\" target=\"_blank\"><span style=\"color: #008080; text-decoration-color: #008080; font-weight: bold\">3511079560.py</span></a><span style=\"color: #008080; text-decoration-color: #008080; font-weight: bold\">:</span><a href=\"file:///var/folders/j5/qcb5hwfx53q57rz91nm4rvr40000gn/T/ipykernel_83190/3511079560.py#50\" target=\"_blank\"><span style=\"color: #008080; text-decoration-color: #008080; font-weight: bold\">50</span></a>\n",
       "</pre>\n"
      ],
      "text/plain": [
       "\u001b[2;36m                   \u001b[0m\u001b[2;36m \u001b[0m\u001b[1;34mINFO    \u001b[0m\u001b[1;32m \u001b[0m\u001b[1m[\u001b[0m\u001b[1;36m3511079560.\u001b[0mpy:\u001b[1;36m50\u001b[0m\u001b[1m]\u001b[0m Creating heatmap visualization\u001b[33m...\u001b[0m                  \u001b]8;id=792500;file:///var/folders/j5/qcb5hwfx53q57rz91nm4rvr40000gn/T/ipykernel_83190/3511079560.py\u001b\\\u001b[1;36m3511079560.py\u001b[0m\u001b]8;;\u001b\\\u001b[1;36m:\u001b[0m\u001b]8;id=845419;file:///var/folders/j5/qcb5hwfx53q57rz91nm4rvr40000gn/T/ipykernel_83190/3511079560.py#50\u001b\\\u001b[1;36m50\u001b[0m\u001b]8;;\u001b\\\n"
      ]
     },
     "metadata": {},
     "output_type": "display_data"
    },
    {
     "name": "stdout",
     "output_type": "stream",
     "text": [
      "Row labels length: 19\n",
      "Col labels length: 17\n"
     ]
    },
    {
     "data": {
      "text/html": [
       "<pre style=\"white-space:pre;overflow-x:auto;line-height:normal;font-family:Menlo,'DejaVu Sans Mono',consolas,'Courier New',monospace\"><span style=\"color: #7fbfbf; text-decoration-color: #7fbfbf\">                    </span><span style=\"color: #000080; text-decoration-color: #000080; font-weight: bold\">INFO    </span><span style=\"color: #008000; text-decoration-color: #008000; font-weight: bold\"> </span><span style=\"font-weight: bold\">[</span><span style=\"color: #008080; text-decoration-color: #008080; font-weight: bold\">3511079560.</span>py:<span style=\"color: #008080; text-decoration-color: #008080; font-weight: bold\">44</span><span style=\"font-weight: bold\">]</span> Creating heatmap visualization<span style=\"color: #808000; text-decoration-color: #808000\">...</span>                  <a href=\"file:///var/folders/j5/qcb5hwfx53q57rz91nm4rvr40000gn/T/ipykernel_83190/3511079560.py\" target=\"_blank\"><span style=\"color: #008080; text-decoration-color: #008080; font-weight: bold\">3511079560.py</span></a><span style=\"color: #008080; text-decoration-color: #008080; font-weight: bold\">:</span><a href=\"file:///var/folders/j5/qcb5hwfx53q57rz91nm4rvr40000gn/T/ipykernel_83190/3511079560.py#44\" target=\"_blank\"><span style=\"color: #008080; text-decoration-color: #008080; font-weight: bold\">44</span></a>\n",
       "</pre>\n"
      ],
      "text/plain": [
       "\u001b[2;36m                   \u001b[0m\u001b[2;36m \u001b[0m\u001b[1;34mINFO    \u001b[0m\u001b[1;32m \u001b[0m\u001b[1m[\u001b[0m\u001b[1;36m3511079560.\u001b[0mpy:\u001b[1;36m44\u001b[0m\u001b[1m]\u001b[0m Creating heatmap visualization\u001b[33m...\u001b[0m                  \u001b]8;id=376036;file:///var/folders/j5/qcb5hwfx53q57rz91nm4rvr40000gn/T/ipykernel_83190/3511079560.py\u001b\\\u001b[1;36m3511079560.py\u001b[0m\u001b]8;;\u001b\\\u001b[1;36m:\u001b[0m\u001b]8;id=461734;file:///var/folders/j5/qcb5hwfx53q57rz91nm4rvr40000gn/T/ipykernel_83190/3511079560.py#44\u001b\\\u001b[1;36m44\u001b[0m\u001b]8;;\u001b\\\n"
      ]
     },
     "metadata": {},
     "output_type": "display_data"
    },
    {
     "data": {
      "text/html": [
       "<pre style=\"white-space:pre;overflow-x:auto;line-height:normal;font-family:Menlo,'DejaVu Sans Mono',consolas,'Courier New',monospace\"><span style=\"color: #7fbfbf; text-decoration-color: #7fbfbf\">                    </span><span style=\"color: #000080; text-decoration-color: #000080; font-weight: bold\">INFO    </span><span style=\"color: #008000; text-decoration-color: #008000; font-weight: bold\"> </span><span style=\"font-weight: bold\">[</span><span style=\"color: #008080; text-decoration-color: #008080; font-weight: bold\">3511079560.</span>py:<span style=\"color: #008080; text-decoration-color: #008080; font-weight: bold\">50</span><span style=\"font-weight: bold\">]</span> Creating heatmap visualization<span style=\"color: #808000; text-decoration-color: #808000\">...</span>                  <a href=\"file:///var/folders/j5/qcb5hwfx53q57rz91nm4rvr40000gn/T/ipykernel_83190/3511079560.py\" target=\"_blank\"><span style=\"color: #008080; text-decoration-color: #008080; font-weight: bold\">3511079560.py</span></a><span style=\"color: #008080; text-decoration-color: #008080; font-weight: bold\">:</span><a href=\"file:///var/folders/j5/qcb5hwfx53q57rz91nm4rvr40000gn/T/ipykernel_83190/3511079560.py#50\" target=\"_blank\"><span style=\"color: #008080; text-decoration-color: #008080; font-weight: bold\">50</span></a>\n",
       "</pre>\n"
      ],
      "text/plain": [
       "\u001b[2;36m                   \u001b[0m\u001b[2;36m \u001b[0m\u001b[1;34mINFO    \u001b[0m\u001b[1;32m \u001b[0m\u001b[1m[\u001b[0m\u001b[1;36m3511079560.\u001b[0mpy:\u001b[1;36m50\u001b[0m\u001b[1m]\u001b[0m Creating heatmap visualization\u001b[33m...\u001b[0m                  \u001b]8;id=411922;file:///var/folders/j5/qcb5hwfx53q57rz91nm4rvr40000gn/T/ipykernel_83190/3511079560.py\u001b\\\u001b[1;36m3511079560.py\u001b[0m\u001b]8;;\u001b\\\u001b[1;36m:\u001b[0m\u001b]8;id=744450;file:///var/folders/j5/qcb5hwfx53q57rz91nm4rvr40000gn/T/ipykernel_83190/3511079560.py#50\u001b\\\u001b[1;36m50\u001b[0m\u001b]8;;\u001b\\\n"
      ]
     },
     "metadata": {},
     "output_type": "display_data"
    },
    {
     "name": "stdout",
     "output_type": "stream",
     "text": [
      "Row labels length: 19\n",
      "Col labels length: 17\n"
     ]
    },
    {
     "data": {
      "text/html": [
       "<pre style=\"white-space:pre;overflow-x:auto;line-height:normal;font-family:Menlo,'DejaVu Sans Mono',consolas,'Courier New',monospace\"><span style=\"color: #7fbfbf; text-decoration-color: #7fbfbf\">                    </span><span style=\"color: #000080; text-decoration-color: #000080; font-weight: bold\">INFO    </span><span style=\"color: #008000; text-decoration-color: #008000; font-weight: bold\"> </span><span style=\"font-weight: bold\">[</span><span style=\"color: #008080; text-decoration-color: #008080; font-weight: bold\">3511079560.</span>py:<span style=\"color: #008080; text-decoration-color: #008080; font-weight: bold\">44</span><span style=\"font-weight: bold\">]</span> Creating heatmap visualization<span style=\"color: #808000; text-decoration-color: #808000\">...</span>                  <a href=\"file:///var/folders/j5/qcb5hwfx53q57rz91nm4rvr40000gn/T/ipykernel_83190/3511079560.py\" target=\"_blank\"><span style=\"color: #008080; text-decoration-color: #008080; font-weight: bold\">3511079560.py</span></a><span style=\"color: #008080; text-decoration-color: #008080; font-weight: bold\">:</span><a href=\"file:///var/folders/j5/qcb5hwfx53q57rz91nm4rvr40000gn/T/ipykernel_83190/3511079560.py#44\" target=\"_blank\"><span style=\"color: #008080; text-decoration-color: #008080; font-weight: bold\">44</span></a>\n",
       "</pre>\n"
      ],
      "text/plain": [
       "\u001b[2;36m                   \u001b[0m\u001b[2;36m \u001b[0m\u001b[1;34mINFO    \u001b[0m\u001b[1;32m \u001b[0m\u001b[1m[\u001b[0m\u001b[1;36m3511079560.\u001b[0mpy:\u001b[1;36m44\u001b[0m\u001b[1m]\u001b[0m Creating heatmap visualization\u001b[33m...\u001b[0m                  \u001b]8;id=53014;file:///var/folders/j5/qcb5hwfx53q57rz91nm4rvr40000gn/T/ipykernel_83190/3511079560.py\u001b\\\u001b[1;36m3511079560.py\u001b[0m\u001b]8;;\u001b\\\u001b[1;36m:\u001b[0m\u001b]8;id=468933;file:///var/folders/j5/qcb5hwfx53q57rz91nm4rvr40000gn/T/ipykernel_83190/3511079560.py#44\u001b\\\u001b[1;36m44\u001b[0m\u001b]8;;\u001b\\\n"
      ]
     },
     "metadata": {},
     "output_type": "display_data"
    },
    {
     "data": {
      "text/html": [
       "<pre style=\"white-space:pre;overflow-x:auto;line-height:normal;font-family:Menlo,'DejaVu Sans Mono',consolas,'Courier New',monospace\"><span style=\"color: #7fbfbf; text-decoration-color: #7fbfbf\">                    </span><span style=\"color: #000080; text-decoration-color: #000080; font-weight: bold\">INFO    </span><span style=\"color: #008000; text-decoration-color: #008000; font-weight: bold\"> </span><span style=\"font-weight: bold\">[</span><span style=\"color: #008080; text-decoration-color: #008080; font-weight: bold\">3511079560.</span>py:<span style=\"color: #008080; text-decoration-color: #008080; font-weight: bold\">50</span><span style=\"font-weight: bold\">]</span> Creating heatmap visualization<span style=\"color: #808000; text-decoration-color: #808000\">...</span>                  <a href=\"file:///var/folders/j5/qcb5hwfx53q57rz91nm4rvr40000gn/T/ipykernel_83190/3511079560.py\" target=\"_blank\"><span style=\"color: #008080; text-decoration-color: #008080; font-weight: bold\">3511079560.py</span></a><span style=\"color: #008080; text-decoration-color: #008080; font-weight: bold\">:</span><a href=\"file:///var/folders/j5/qcb5hwfx53q57rz91nm4rvr40000gn/T/ipykernel_83190/3511079560.py#50\" target=\"_blank\"><span style=\"color: #008080; text-decoration-color: #008080; font-weight: bold\">50</span></a>\n",
       "</pre>\n"
      ],
      "text/plain": [
       "\u001b[2;36m                   \u001b[0m\u001b[2;36m \u001b[0m\u001b[1;34mINFO    \u001b[0m\u001b[1;32m \u001b[0m\u001b[1m[\u001b[0m\u001b[1;36m3511079560.\u001b[0mpy:\u001b[1;36m50\u001b[0m\u001b[1m]\u001b[0m Creating heatmap visualization\u001b[33m...\u001b[0m                  \u001b]8;id=575661;file:///var/folders/j5/qcb5hwfx53q57rz91nm4rvr40000gn/T/ipykernel_83190/3511079560.py\u001b\\\u001b[1;36m3511079560.py\u001b[0m\u001b]8;;\u001b\\\u001b[1;36m:\u001b[0m\u001b]8;id=734891;file:///var/folders/j5/qcb5hwfx53q57rz91nm4rvr40000gn/T/ipykernel_83190/3511079560.py#50\u001b\\\u001b[1;36m50\u001b[0m\u001b]8;;\u001b\\\n"
      ]
     },
     "metadata": {},
     "output_type": "display_data"
    },
    {
     "name": "stdout",
     "output_type": "stream",
     "text": [
      "Row labels length: 19\n",
      "Col labels length: 17\n"
     ]
    },
    {
     "data": {
      "text/html": [
       "<pre style=\"white-space:pre;overflow-x:auto;line-height:normal;font-family:Menlo,'DejaVu Sans Mono',consolas,'Courier New',monospace\"><span style=\"color: #7fbfbf; text-decoration-color: #7fbfbf\">                    </span><span style=\"color: #000080; text-decoration-color: #000080; font-weight: bold\">INFO    </span><span style=\"color: #008000; text-decoration-color: #008000; font-weight: bold\"> </span><span style=\"font-weight: bold\">[</span><span style=\"color: #008080; text-decoration-color: #008080; font-weight: bold\">3511079560.</span>py:<span style=\"color: #008080; text-decoration-color: #008080; font-weight: bold\">44</span><span style=\"font-weight: bold\">]</span> Creating heatmap visualization<span style=\"color: #808000; text-decoration-color: #808000\">...</span>                  <a href=\"file:///var/folders/j5/qcb5hwfx53q57rz91nm4rvr40000gn/T/ipykernel_83190/3511079560.py\" target=\"_blank\"><span style=\"color: #008080; text-decoration-color: #008080; font-weight: bold\">3511079560.py</span></a><span style=\"color: #008080; text-decoration-color: #008080; font-weight: bold\">:</span><a href=\"file:///var/folders/j5/qcb5hwfx53q57rz91nm4rvr40000gn/T/ipykernel_83190/3511079560.py#44\" target=\"_blank\"><span style=\"color: #008080; text-decoration-color: #008080; font-weight: bold\">44</span></a>\n",
       "</pre>\n"
      ],
      "text/plain": [
       "\u001b[2;36m                   \u001b[0m\u001b[2;36m \u001b[0m\u001b[1;34mINFO    \u001b[0m\u001b[1;32m \u001b[0m\u001b[1m[\u001b[0m\u001b[1;36m3511079560.\u001b[0mpy:\u001b[1;36m44\u001b[0m\u001b[1m]\u001b[0m Creating heatmap visualization\u001b[33m...\u001b[0m                  \u001b]8;id=558047;file:///var/folders/j5/qcb5hwfx53q57rz91nm4rvr40000gn/T/ipykernel_83190/3511079560.py\u001b\\\u001b[1;36m3511079560.py\u001b[0m\u001b]8;;\u001b\\\u001b[1;36m:\u001b[0m\u001b]8;id=800635;file:///var/folders/j5/qcb5hwfx53q57rz91nm4rvr40000gn/T/ipykernel_83190/3511079560.py#44\u001b\\\u001b[1;36m44\u001b[0m\u001b]8;;\u001b\\\n"
      ]
     },
     "metadata": {},
     "output_type": "display_data"
    },
    {
     "data": {
      "text/html": [
       "<pre style=\"white-space:pre;overflow-x:auto;line-height:normal;font-family:Menlo,'DejaVu Sans Mono',consolas,'Courier New',monospace\"><span style=\"color: #7fbfbf; text-decoration-color: #7fbfbf\">                    </span><span style=\"color: #000080; text-decoration-color: #000080; font-weight: bold\">INFO    </span><span style=\"color: #008000; text-decoration-color: #008000; font-weight: bold\"> </span><span style=\"font-weight: bold\">[</span><span style=\"color: #008080; text-decoration-color: #008080; font-weight: bold\">3511079560.</span>py:<span style=\"color: #008080; text-decoration-color: #008080; font-weight: bold\">50</span><span style=\"font-weight: bold\">]</span> Creating heatmap visualization<span style=\"color: #808000; text-decoration-color: #808000\">...</span>                  <a href=\"file:///var/folders/j5/qcb5hwfx53q57rz91nm4rvr40000gn/T/ipykernel_83190/3511079560.py\" target=\"_blank\"><span style=\"color: #008080; text-decoration-color: #008080; font-weight: bold\">3511079560.py</span></a><span style=\"color: #008080; text-decoration-color: #008080; font-weight: bold\">:</span><a href=\"file:///var/folders/j5/qcb5hwfx53q57rz91nm4rvr40000gn/T/ipykernel_83190/3511079560.py#50\" target=\"_blank\"><span style=\"color: #008080; text-decoration-color: #008080; font-weight: bold\">50</span></a>\n",
       "</pre>\n"
      ],
      "text/plain": [
       "\u001b[2;36m                   \u001b[0m\u001b[2;36m \u001b[0m\u001b[1;34mINFO    \u001b[0m\u001b[1;32m \u001b[0m\u001b[1m[\u001b[0m\u001b[1;36m3511079560.\u001b[0mpy:\u001b[1;36m50\u001b[0m\u001b[1m]\u001b[0m Creating heatmap visualization\u001b[33m...\u001b[0m                  \u001b]8;id=773884;file:///var/folders/j5/qcb5hwfx53q57rz91nm4rvr40000gn/T/ipykernel_83190/3511079560.py\u001b\\\u001b[1;36m3511079560.py\u001b[0m\u001b]8;;\u001b\\\u001b[1;36m:\u001b[0m\u001b]8;id=529017;file:///var/folders/j5/qcb5hwfx53q57rz91nm4rvr40000gn/T/ipykernel_83190/3511079560.py#50\u001b\\\u001b[1;36m50\u001b[0m\u001b]8;;\u001b\\\n"
      ]
     },
     "metadata": {},
     "output_type": "display_data"
    },
    {
     "name": "stdout",
     "output_type": "stream",
     "text": [
      "Row labels length: 19\n",
      "Col labels length: 17\n"
     ]
    },
    {
     "data": {
      "text/html": [
       "<pre style=\"white-space:pre;overflow-x:auto;line-height:normal;font-family:Menlo,'DejaVu Sans Mono',consolas,'Courier New',monospace\"><span style=\"color: #7fbfbf; text-decoration-color: #7fbfbf\">                    </span><span style=\"color: #000080; text-decoration-color: #000080; font-weight: bold\">INFO    </span><span style=\"color: #008000; text-decoration-color: #008000; font-weight: bold\"> </span><span style=\"font-weight: bold\">[</span><span style=\"color: #008080; text-decoration-color: #008080; font-weight: bold\">3511079560.</span>py:<span style=\"color: #008080; text-decoration-color: #008080; font-weight: bold\">44</span><span style=\"font-weight: bold\">]</span> Creating heatmap visualization<span style=\"color: #808000; text-decoration-color: #808000\">...</span>                  <a href=\"file:///var/folders/j5/qcb5hwfx53q57rz91nm4rvr40000gn/T/ipykernel_83190/3511079560.py\" target=\"_blank\"><span style=\"color: #008080; text-decoration-color: #008080; font-weight: bold\">3511079560.py</span></a><span style=\"color: #008080; text-decoration-color: #008080; font-weight: bold\">:</span><a href=\"file:///var/folders/j5/qcb5hwfx53q57rz91nm4rvr40000gn/T/ipykernel_83190/3511079560.py#44\" target=\"_blank\"><span style=\"color: #008080; text-decoration-color: #008080; font-weight: bold\">44</span></a>\n",
       "</pre>\n"
      ],
      "text/plain": [
       "\u001b[2;36m                   \u001b[0m\u001b[2;36m \u001b[0m\u001b[1;34mINFO    \u001b[0m\u001b[1;32m \u001b[0m\u001b[1m[\u001b[0m\u001b[1;36m3511079560.\u001b[0mpy:\u001b[1;36m44\u001b[0m\u001b[1m]\u001b[0m Creating heatmap visualization\u001b[33m...\u001b[0m                  \u001b]8;id=52958;file:///var/folders/j5/qcb5hwfx53q57rz91nm4rvr40000gn/T/ipykernel_83190/3511079560.py\u001b\\\u001b[1;36m3511079560.py\u001b[0m\u001b]8;;\u001b\\\u001b[1;36m:\u001b[0m\u001b]8;id=46889;file:///var/folders/j5/qcb5hwfx53q57rz91nm4rvr40000gn/T/ipykernel_83190/3511079560.py#44\u001b\\\u001b[1;36m44\u001b[0m\u001b]8;;\u001b\\\n"
      ]
     },
     "metadata": {},
     "output_type": "display_data"
    },
    {
     "data": {
      "text/html": [
       "<pre style=\"white-space:pre;overflow-x:auto;line-height:normal;font-family:Menlo,'DejaVu Sans Mono',consolas,'Courier New',monospace\"><span style=\"color: #7fbfbf; text-decoration-color: #7fbfbf\">                    </span><span style=\"color: #000080; text-decoration-color: #000080; font-weight: bold\">INFO    </span><span style=\"color: #008000; text-decoration-color: #008000; font-weight: bold\"> </span><span style=\"font-weight: bold\">[</span><span style=\"color: #008080; text-decoration-color: #008080; font-weight: bold\">3511079560.</span>py:<span style=\"color: #008080; text-decoration-color: #008080; font-weight: bold\">50</span><span style=\"font-weight: bold\">]</span> Creating heatmap visualization<span style=\"color: #808000; text-decoration-color: #808000\">...</span>                  <a href=\"file:///var/folders/j5/qcb5hwfx53q57rz91nm4rvr40000gn/T/ipykernel_83190/3511079560.py\" target=\"_blank\"><span style=\"color: #008080; text-decoration-color: #008080; font-weight: bold\">3511079560.py</span></a><span style=\"color: #008080; text-decoration-color: #008080; font-weight: bold\">:</span><a href=\"file:///var/folders/j5/qcb5hwfx53q57rz91nm4rvr40000gn/T/ipykernel_83190/3511079560.py#50\" target=\"_blank\"><span style=\"color: #008080; text-decoration-color: #008080; font-weight: bold\">50</span></a>\n",
       "</pre>\n"
      ],
      "text/plain": [
       "\u001b[2;36m                   \u001b[0m\u001b[2;36m \u001b[0m\u001b[1;34mINFO    \u001b[0m\u001b[1;32m \u001b[0m\u001b[1m[\u001b[0m\u001b[1;36m3511079560.\u001b[0mpy:\u001b[1;36m50\u001b[0m\u001b[1m]\u001b[0m Creating heatmap visualization\u001b[33m...\u001b[0m                  \u001b]8;id=128851;file:///var/folders/j5/qcb5hwfx53q57rz91nm4rvr40000gn/T/ipykernel_83190/3511079560.py\u001b\\\u001b[1;36m3511079560.py\u001b[0m\u001b]8;;\u001b\\\u001b[1;36m:\u001b[0m\u001b]8;id=530121;file:///var/folders/j5/qcb5hwfx53q57rz91nm4rvr40000gn/T/ipykernel_83190/3511079560.py#50\u001b\\\u001b[1;36m50\u001b[0m\u001b]8;;\u001b\\\n"
      ]
     },
     "metadata": {},
     "output_type": "display_data"
    },
    {
     "name": "stdout",
     "output_type": "stream",
     "text": [
      "Row labels length: 19\n",
      "Col labels length: 17\n"
     ]
    },
    {
     "data": {
      "text/html": [
       "<pre style=\"white-space:pre;overflow-x:auto;line-height:normal;font-family:Menlo,'DejaVu Sans Mono',consolas,'Courier New',monospace\"><span style=\"color: #7fbfbf; text-decoration-color: #7fbfbf\">                    </span><span style=\"color: #000080; text-decoration-color: #000080; font-weight: bold\">INFO    </span><span style=\"color: #008000; text-decoration-color: #008000; font-weight: bold\"> </span><span style=\"font-weight: bold\">[</span><span style=\"color: #008080; text-decoration-color: #008080; font-weight: bold\">3511079560.</span>py:<span style=\"color: #008080; text-decoration-color: #008080; font-weight: bold\">44</span><span style=\"font-weight: bold\">]</span> Creating heatmap visualization<span style=\"color: #808000; text-decoration-color: #808000\">...</span>                  <a href=\"file:///var/folders/j5/qcb5hwfx53q57rz91nm4rvr40000gn/T/ipykernel_83190/3511079560.py\" target=\"_blank\"><span style=\"color: #008080; text-decoration-color: #008080; font-weight: bold\">3511079560.py</span></a><span style=\"color: #008080; text-decoration-color: #008080; font-weight: bold\">:</span><a href=\"file:///var/folders/j5/qcb5hwfx53q57rz91nm4rvr40000gn/T/ipykernel_83190/3511079560.py#44\" target=\"_blank\"><span style=\"color: #008080; text-decoration-color: #008080; font-weight: bold\">44</span></a>\n",
       "</pre>\n"
      ],
      "text/plain": [
       "\u001b[2;36m                   \u001b[0m\u001b[2;36m \u001b[0m\u001b[1;34mINFO    \u001b[0m\u001b[1;32m \u001b[0m\u001b[1m[\u001b[0m\u001b[1;36m3511079560.\u001b[0mpy:\u001b[1;36m44\u001b[0m\u001b[1m]\u001b[0m Creating heatmap visualization\u001b[33m...\u001b[0m                  \u001b]8;id=173492;file:///var/folders/j5/qcb5hwfx53q57rz91nm4rvr40000gn/T/ipykernel_83190/3511079560.py\u001b\\\u001b[1;36m3511079560.py\u001b[0m\u001b]8;;\u001b\\\u001b[1;36m:\u001b[0m\u001b]8;id=575628;file:///var/folders/j5/qcb5hwfx53q57rz91nm4rvr40000gn/T/ipykernel_83190/3511079560.py#44\u001b\\\u001b[1;36m44\u001b[0m\u001b]8;;\u001b\\\n"
      ]
     },
     "metadata": {},
     "output_type": "display_data"
    },
    {
     "data": {
      "text/html": [
       "<pre style=\"white-space:pre;overflow-x:auto;line-height:normal;font-family:Menlo,'DejaVu Sans Mono',consolas,'Courier New',monospace\"><span style=\"color: #7fbfbf; text-decoration-color: #7fbfbf\">                    </span><span style=\"color: #000080; text-decoration-color: #000080; font-weight: bold\">INFO    </span><span style=\"color: #008000; text-decoration-color: #008000; font-weight: bold\"> </span><span style=\"font-weight: bold\">[</span><span style=\"color: #008080; text-decoration-color: #008080; font-weight: bold\">3511079560.</span>py:<span style=\"color: #008080; text-decoration-color: #008080; font-weight: bold\">50</span><span style=\"font-weight: bold\">]</span> Creating heatmap visualization<span style=\"color: #808000; text-decoration-color: #808000\">...</span>                  <a href=\"file:///var/folders/j5/qcb5hwfx53q57rz91nm4rvr40000gn/T/ipykernel_83190/3511079560.py\" target=\"_blank\"><span style=\"color: #008080; text-decoration-color: #008080; font-weight: bold\">3511079560.py</span></a><span style=\"color: #008080; text-decoration-color: #008080; font-weight: bold\">:</span><a href=\"file:///var/folders/j5/qcb5hwfx53q57rz91nm4rvr40000gn/T/ipykernel_83190/3511079560.py#50\" target=\"_blank\"><span style=\"color: #008080; text-decoration-color: #008080; font-weight: bold\">50</span></a>\n",
       "</pre>\n"
      ],
      "text/plain": [
       "\u001b[2;36m                   \u001b[0m\u001b[2;36m \u001b[0m\u001b[1;34mINFO    \u001b[0m\u001b[1;32m \u001b[0m\u001b[1m[\u001b[0m\u001b[1;36m3511079560.\u001b[0mpy:\u001b[1;36m50\u001b[0m\u001b[1m]\u001b[0m Creating heatmap visualization\u001b[33m...\u001b[0m                  \u001b]8;id=515778;file:///var/folders/j5/qcb5hwfx53q57rz91nm4rvr40000gn/T/ipykernel_83190/3511079560.py\u001b\\\u001b[1;36m3511079560.py\u001b[0m\u001b]8;;\u001b\\\u001b[1;36m:\u001b[0m\u001b]8;id=406055;file:///var/folders/j5/qcb5hwfx53q57rz91nm4rvr40000gn/T/ipykernel_83190/3511079560.py#50\u001b\\\u001b[1;36m50\u001b[0m\u001b]8;;\u001b\\\n"
      ]
     },
     "metadata": {},
     "output_type": "display_data"
    },
    {
     "name": "stdout",
     "output_type": "stream",
     "text": [
      "Row labels length: 19\n",
      "Col labels length: 17\n"
     ]
    },
    {
     "data": {
      "text/html": [
       "<pre style=\"white-space:pre;overflow-x:auto;line-height:normal;font-family:Menlo,'DejaVu Sans Mono',consolas,'Courier New',monospace\"><span style=\"color: #7fbfbf; text-decoration-color: #7fbfbf\">                    </span><span style=\"color: #000080; text-decoration-color: #000080; font-weight: bold\">INFO    </span><span style=\"color: #008000; text-decoration-color: #008000; font-weight: bold\"> </span><span style=\"font-weight: bold\">[</span><span style=\"color: #008080; text-decoration-color: #008080; font-weight: bold\">3511079560.</span>py:<span style=\"color: #008080; text-decoration-color: #008080; font-weight: bold\">44</span><span style=\"font-weight: bold\">]</span> Creating heatmap visualization<span style=\"color: #808000; text-decoration-color: #808000\">...</span>                  <a href=\"file:///var/folders/j5/qcb5hwfx53q57rz91nm4rvr40000gn/T/ipykernel_83190/3511079560.py\" target=\"_blank\"><span style=\"color: #008080; text-decoration-color: #008080; font-weight: bold\">3511079560.py</span></a><span style=\"color: #008080; text-decoration-color: #008080; font-weight: bold\">:</span><a href=\"file:///var/folders/j5/qcb5hwfx53q57rz91nm4rvr40000gn/T/ipykernel_83190/3511079560.py#44\" target=\"_blank\"><span style=\"color: #008080; text-decoration-color: #008080; font-weight: bold\">44</span></a>\n",
       "</pre>\n"
      ],
      "text/plain": [
       "\u001b[2;36m                   \u001b[0m\u001b[2;36m \u001b[0m\u001b[1;34mINFO    \u001b[0m\u001b[1;32m \u001b[0m\u001b[1m[\u001b[0m\u001b[1;36m3511079560.\u001b[0mpy:\u001b[1;36m44\u001b[0m\u001b[1m]\u001b[0m Creating heatmap visualization\u001b[33m...\u001b[0m                  \u001b]8;id=327744;file:///var/folders/j5/qcb5hwfx53q57rz91nm4rvr40000gn/T/ipykernel_83190/3511079560.py\u001b\\\u001b[1;36m3511079560.py\u001b[0m\u001b]8;;\u001b\\\u001b[1;36m:\u001b[0m\u001b]8;id=105152;file:///var/folders/j5/qcb5hwfx53q57rz91nm4rvr40000gn/T/ipykernel_83190/3511079560.py#44\u001b\\\u001b[1;36m44\u001b[0m\u001b]8;;\u001b\\\n"
      ]
     },
     "metadata": {},
     "output_type": "display_data"
    },
    {
     "data": {
      "text/html": [
       "<pre style=\"white-space:pre;overflow-x:auto;line-height:normal;font-family:Menlo,'DejaVu Sans Mono',consolas,'Courier New',monospace\"><span style=\"color: #7fbfbf; text-decoration-color: #7fbfbf\">                    </span><span style=\"color: #000080; text-decoration-color: #000080; font-weight: bold\">INFO    </span><span style=\"color: #008000; text-decoration-color: #008000; font-weight: bold\"> </span><span style=\"font-weight: bold\">[</span><span style=\"color: #008080; text-decoration-color: #008080; font-weight: bold\">3511079560.</span>py:<span style=\"color: #008080; text-decoration-color: #008080; font-weight: bold\">50</span><span style=\"font-weight: bold\">]</span> Creating heatmap visualization<span style=\"color: #808000; text-decoration-color: #808000\">...</span>                  <a href=\"file:///var/folders/j5/qcb5hwfx53q57rz91nm4rvr40000gn/T/ipykernel_83190/3511079560.py\" target=\"_blank\"><span style=\"color: #008080; text-decoration-color: #008080; font-weight: bold\">3511079560.py</span></a><span style=\"color: #008080; text-decoration-color: #008080; font-weight: bold\">:</span><a href=\"file:///var/folders/j5/qcb5hwfx53q57rz91nm4rvr40000gn/T/ipykernel_83190/3511079560.py#50\" target=\"_blank\"><span style=\"color: #008080; text-decoration-color: #008080; font-weight: bold\">50</span></a>\n",
       "</pre>\n"
      ],
      "text/plain": [
       "\u001b[2;36m                   \u001b[0m\u001b[2;36m \u001b[0m\u001b[1;34mINFO    \u001b[0m\u001b[1;32m \u001b[0m\u001b[1m[\u001b[0m\u001b[1;36m3511079560.\u001b[0mpy:\u001b[1;36m50\u001b[0m\u001b[1m]\u001b[0m Creating heatmap visualization\u001b[33m...\u001b[0m                  \u001b]8;id=761197;file:///var/folders/j5/qcb5hwfx53q57rz91nm4rvr40000gn/T/ipykernel_83190/3511079560.py\u001b\\\u001b[1;36m3511079560.py\u001b[0m\u001b]8;;\u001b\\\u001b[1;36m:\u001b[0m\u001b]8;id=189467;file:///var/folders/j5/qcb5hwfx53q57rz91nm4rvr40000gn/T/ipykernel_83190/3511079560.py#50\u001b\\\u001b[1;36m50\u001b[0m\u001b]8;;\u001b\\\n"
      ]
     },
     "metadata": {},
     "output_type": "display_data"
    },
    {
     "name": "stdout",
     "output_type": "stream",
     "text": [
      "Row labels length: 19\n",
      "Col labels length: 17\n"
     ]
    },
    {
     "data": {
      "text/html": [
       "<pre style=\"white-space:pre;overflow-x:auto;line-height:normal;font-family:Menlo,'DejaVu Sans Mono',consolas,'Courier New',monospace\"><span style=\"color: #7fbfbf; text-decoration-color: #7fbfbf\">                    </span><span style=\"color: #000080; text-decoration-color: #000080; font-weight: bold\">INFO    </span><span style=\"color: #008000; text-decoration-color: #008000; font-weight: bold\"> </span> Saving HTML figure to                                               <a href=\"file:///Users/4gate/git/embedding_translation/src/viz/save_figure.py\" target=\"_blank\"><span style=\"color: #008080; text-decoration-color: #008080; font-weight: bold\">save_figure.py</span></a><span style=\"color: #008080; text-decoration-color: #008080; font-weight: bold\">:</span><a href=\"file:///Users/4gate/git/embedding_translation/src/viz/save_figure.py#32\" target=\"_blank\"><span style=\"color: #008080; text-decoration-color: #008080; font-weight: bold\">32</span></a>\n",
       "<span style=\"color: #7fbfbf; text-decoration-color: #7fbfbf\">                    </span><span style=\"color: #008000; text-decoration-color: #008000; font-weight: bold\">         </span><span style=\"color: #800080; text-decoration-color: #800080\">/Users/4gate/git/embedding_translation/data/figs/html/</span><span style=\"color: #ff00ff; text-decoration-color: #ff00ff\">fiqa_lord_farq</span> <span style=\"color: #008080; text-decoration-color: #008080; font-weight: bold\">                 </span>\n",
       "<span style=\"color: #7fbfbf; text-decoration-color: #7fbfbf\">                    </span><span style=\"color: #008000; text-decoration-color: #008000; font-weight: bold\">         </span><span style=\"color: #ff00ff; text-decoration-color: #ff00ff\">uad_was_heren.html</span>                                                   <span style=\"color: #008080; text-decoration-color: #008080; font-weight: bold\">                 </span>\n",
       "</pre>\n"
      ],
      "text/plain": [
       "\u001b[2;36m                   \u001b[0m\u001b[2;36m \u001b[0m\u001b[1;34mINFO    \u001b[0m\u001b[1;32m \u001b[0m Saving HTML figure to                                               \u001b]8;id=678743;file:///Users/4gate/git/embedding_translation/src/viz/save_figure.py\u001b\\\u001b[1;36msave_figure.py\u001b[0m\u001b]8;;\u001b\\\u001b[1;36m:\u001b[0m\u001b]8;id=735625;file:///Users/4gate/git/embedding_translation/src/viz/save_figure.py#32\u001b\\\u001b[1;36m32\u001b[0m\u001b]8;;\u001b\\\n",
       "\u001b[2;36m                    \u001b[0m\u001b[1;32m         \u001b[0m\u001b[35m/Users/4gate/git/embedding_translation/data/figs/html/\u001b[0m\u001b[95mfiqa_lord_farq\u001b[0m \u001b[1;36m                 \u001b[0m\n",
       "\u001b[2;36m                    \u001b[0m\u001b[1;32m         \u001b[0m\u001b[95muad_was_heren.html\u001b[0m                                                   \u001b[1;36m                 \u001b[0m\n"
      ]
     },
     "metadata": {},
     "output_type": "display_data"
    },
    {
     "data": {
      "text/html": [
       "<pre style=\"white-space:pre;overflow-x:auto;line-height:normal;font-family:Menlo,'DejaVu Sans Mono',consolas,'Courier New',monospace\"><span style=\"color: #7fbfbf; text-decoration-color: #7fbfbf\">                    </span><span style=\"color: #008000; text-decoration-color: #008000; font-weight: bold\">SUCCESS  </span> Successfully saved HTML to                                          <a href=\"file:///Users/4gate/git/embedding_translation/src/viz/save_figure.py\" target=\"_blank\"><span style=\"color: #008080; text-decoration-color: #008080; font-weight: bold\">save_figure.py</span></a><span style=\"color: #008080; text-decoration-color: #008080; font-weight: bold\">:</span><a href=\"file:///Users/4gate/git/embedding_translation/src/viz/save_figure.py#40\" target=\"_blank\"><span style=\"color: #008080; text-decoration-color: #008080; font-weight: bold\">40</span></a>\n",
       "<span style=\"color: #7fbfbf; text-decoration-color: #7fbfbf\">                    </span><span style=\"color: #008000; text-decoration-color: #008000; font-weight: bold\">         </span><span style=\"color: #800080; text-decoration-color: #800080\">/Users/4gate/git/embedding_translation/data/figs/html/</span><span style=\"color: #ff00ff; text-decoration-color: #ff00ff\">fiqa_lord_farq</span> <span style=\"color: #008080; text-decoration-color: #008080; font-weight: bold\">                 </span>\n",
       "<span style=\"color: #7fbfbf; text-decoration-color: #7fbfbf\">                    </span><span style=\"color: #008000; text-decoration-color: #008000; font-weight: bold\">         </span><span style=\"color: #ff00ff; text-decoration-color: #ff00ff\">uad_was_heren.html</span>                                                   <span style=\"color: #008080; text-decoration-color: #008080; font-weight: bold\">                 </span>\n",
       "</pre>\n"
      ],
      "text/plain": [
       "\u001b[2;36m                   \u001b[0m\u001b[2;36m \u001b[0m\u001b[1;32mSUCCESS \u001b[0m\u001b[1;32m \u001b[0m Successfully saved HTML to                                          \u001b]8;id=391545;file:///Users/4gate/git/embedding_translation/src/viz/save_figure.py\u001b\\\u001b[1;36msave_figure.py\u001b[0m\u001b]8;;\u001b\\\u001b[1;36m:\u001b[0m\u001b]8;id=814730;file:///Users/4gate/git/embedding_translation/src/viz/save_figure.py#40\u001b\\\u001b[1;36m40\u001b[0m\u001b]8;;\u001b\\\n",
       "\u001b[2;36m                    \u001b[0m\u001b[1;32m         \u001b[0m\u001b[35m/Users/4gate/git/embedding_translation/data/figs/html/\u001b[0m\u001b[95mfiqa_lord_farq\u001b[0m \u001b[1;36m                 \u001b[0m\n",
       "\u001b[2;36m                    \u001b[0m\u001b[1;32m         \u001b[0m\u001b[95muad_was_heren.html\u001b[0m                                                   \u001b[1;36m                 \u001b[0m\n"
      ]
     },
     "metadata": {},
     "output_type": "display_data"
    },
    {
     "data": {
      "text/html": [
       "<pre style=\"white-space:pre;overflow-x:auto;line-height:normal;font-family:Menlo,'DejaVu Sans Mono',consolas,'Courier New',monospace\"><span style=\"color: #7fbfbf; text-decoration-color: #7fbfbf\">                    </span><span style=\"color: #000080; text-decoration-color: #000080; font-weight: bold\">INFO    </span><span style=\"color: #008000; text-decoration-color: #008000; font-weight: bold\"> </span> Saving PNG figure to                                                <a href=\"file:///Users/4gate/git/embedding_translation/src/viz/save_figure.py\" target=\"_blank\"><span style=\"color: #008080; text-decoration-color: #008080; font-weight: bold\">save_figure.py</span></a><span style=\"color: #008080; text-decoration-color: #008080; font-weight: bold\">:</span><a href=\"file:///Users/4gate/git/embedding_translation/src/viz/save_figure.py#67\" target=\"_blank\"><span style=\"color: #008080; text-decoration-color: #008080; font-weight: bold\">67</span></a>\n",
       "<span style=\"color: #7fbfbf; text-decoration-color: #7fbfbf\">                    </span><span style=\"color: #008000; text-decoration-color: #008000; font-weight: bold\">         </span><span style=\"color: #800080; text-decoration-color: #800080\">/Users/4gate/git/embedding_translation/data/figs/imgs/</span><span style=\"color: #ff00ff; text-decoration-color: #ff00ff\">fiqa_lord_farq</span> <span style=\"color: #008080; text-decoration-color: #008080; font-weight: bold\">                 </span>\n",
       "<span style=\"color: #7fbfbf; text-decoration-color: #7fbfbf\">                    </span><span style=\"color: #008000; text-decoration-color: #008000; font-weight: bold\">         </span><span style=\"color: #ff00ff; text-decoration-color: #ff00ff\">uad_was_heren.png</span>                                                    <span style=\"color: #008080; text-decoration-color: #008080; font-weight: bold\">                 </span>\n",
       "</pre>\n"
      ],
      "text/plain": [
       "\u001b[2;36m                   \u001b[0m\u001b[2;36m \u001b[0m\u001b[1;34mINFO    \u001b[0m\u001b[1;32m \u001b[0m Saving PNG figure to                                                \u001b]8;id=855593;file:///Users/4gate/git/embedding_translation/src/viz/save_figure.py\u001b\\\u001b[1;36msave_figure.py\u001b[0m\u001b]8;;\u001b\\\u001b[1;36m:\u001b[0m\u001b]8;id=763982;file:///Users/4gate/git/embedding_translation/src/viz/save_figure.py#67\u001b\\\u001b[1;36m67\u001b[0m\u001b]8;;\u001b\\\n",
       "\u001b[2;36m                    \u001b[0m\u001b[1;32m         \u001b[0m\u001b[35m/Users/4gate/git/embedding_translation/data/figs/imgs/\u001b[0m\u001b[95mfiqa_lord_farq\u001b[0m \u001b[1;36m                 \u001b[0m\n",
       "\u001b[2;36m                    \u001b[0m\u001b[1;32m         \u001b[0m\u001b[95muad_was_heren.png\u001b[0m                                                    \u001b[1;36m                 \u001b[0m\n"
      ]
     },
     "metadata": {},
     "output_type": "display_data"
    },
    {
     "data": {
      "text/html": [
       "<pre style=\"white-space:pre;overflow-x:auto;line-height:normal;font-family:Menlo,'DejaVu Sans Mono',consolas,'Courier New',monospace\"><span style=\"color: #7fbfbf; text-decoration-color: #7fbfbf\">                    </span><span style=\"color: #008000; text-decoration-color: #008000; font-weight: bold\">SUCCESS  </span> Successfully saved PNG to                                           <a href=\"file:///Users/4gate/git/embedding_translation/src/viz/save_figure.py\" target=\"_blank\"><span style=\"color: #008080; text-decoration-color: #008080; font-weight: bold\">save_figure.py</span></a><span style=\"color: #008080; text-decoration-color: #008080; font-weight: bold\">:</span><a href=\"file:///Users/4gate/git/embedding_translation/src/viz/save_figure.py#76\" target=\"_blank\"><span style=\"color: #008080; text-decoration-color: #008080; font-weight: bold\">76</span></a>\n",
       "<span style=\"color: #7fbfbf; text-decoration-color: #7fbfbf\">                    </span><span style=\"color: #008000; text-decoration-color: #008000; font-weight: bold\">         </span><span style=\"color: #800080; text-decoration-color: #800080\">/Users/4gate/git/embedding_translation/data/figs/imgs/</span><span style=\"color: #ff00ff; text-decoration-color: #ff00ff\">fiqa_lord_farq</span> <span style=\"color: #008080; text-decoration-color: #008080; font-weight: bold\">                 </span>\n",
       "<span style=\"color: #7fbfbf; text-decoration-color: #7fbfbf\">                    </span><span style=\"color: #008000; text-decoration-color: #008000; font-weight: bold\">         </span><span style=\"color: #ff00ff; text-decoration-color: #ff00ff\">uad_was_heren.png</span>                                                    <span style=\"color: #008080; text-decoration-color: #008080; font-weight: bold\">                 </span>\n",
       "</pre>\n"
      ],
      "text/plain": [
       "\u001b[2;36m                   \u001b[0m\u001b[2;36m \u001b[0m\u001b[1;32mSUCCESS \u001b[0m\u001b[1;32m \u001b[0m Successfully saved PNG to                                           \u001b]8;id=344704;file:///Users/4gate/git/embedding_translation/src/viz/save_figure.py\u001b\\\u001b[1;36msave_figure.py\u001b[0m\u001b]8;;\u001b\\\u001b[1;36m:\u001b[0m\u001b]8;id=786651;file:///Users/4gate/git/embedding_translation/src/viz/save_figure.py#76\u001b\\\u001b[1;36m76\u001b[0m\u001b]8;;\u001b\\\n",
       "\u001b[2;36m                    \u001b[0m\u001b[1;32m         \u001b[0m\u001b[35m/Users/4gate/git/embedding_translation/data/figs/imgs/\u001b[0m\u001b[95mfiqa_lord_farq\u001b[0m \u001b[1;36m                 \u001b[0m\n",
       "\u001b[2;36m                    \u001b[0m\u001b[1;32m         \u001b[0m\u001b[95muad_was_heren.png\u001b[0m                                                    \u001b[1;36m                 \u001b[0m\n"
      ]
     },
     "metadata": {},
     "output_type": "display_data"
    },
    {
     "data": {
      "text/html": [
       "<pre style=\"white-space:pre;overflow-x:auto;line-height:normal;font-family:Menlo,'DejaVu Sans Mono',consolas,'Courier New',monospace\"><span style=\"color: #7fbfbf; text-decoration-color: #7fbfbf\">                    </span><span style=\"color: #000080; text-decoration-color: #000080; font-weight: bold\">INFO    </span><span style=\"color: #008000; text-decoration-color: #008000; font-weight: bold\"> </span><span style=\"font-weight: bold\">[</span><span style=\"color: #008080; text-decoration-color: #008080; font-weight: bold\">3511079560.</span>py:<span style=\"color: #008080; text-decoration-color: #008080; font-weight: bold\">44</span><span style=\"font-weight: bold\">]</span> Creating heatmap visualization<span style=\"color: #808000; text-decoration-color: #808000\">...</span>                  <a href=\"file:///var/folders/j5/qcb5hwfx53q57rz91nm4rvr40000gn/T/ipykernel_83190/3511079560.py\" target=\"_blank\"><span style=\"color: #008080; text-decoration-color: #008080; font-weight: bold\">3511079560.py</span></a><span style=\"color: #008080; text-decoration-color: #008080; font-weight: bold\">:</span><a href=\"file:///var/folders/j5/qcb5hwfx53q57rz91nm4rvr40000gn/T/ipykernel_83190/3511079560.py#44\" target=\"_blank\"><span style=\"color: #008080; text-decoration-color: #008080; font-weight: bold\">44</span></a>\n",
       "</pre>\n"
      ],
      "text/plain": [
       "\u001b[2;36m                   \u001b[0m\u001b[2;36m \u001b[0m\u001b[1;34mINFO    \u001b[0m\u001b[1;32m \u001b[0m\u001b[1m[\u001b[0m\u001b[1;36m3511079560.\u001b[0mpy:\u001b[1;36m44\u001b[0m\u001b[1m]\u001b[0m Creating heatmap visualization\u001b[33m...\u001b[0m                  \u001b]8;id=394016;file:///var/folders/j5/qcb5hwfx53q57rz91nm4rvr40000gn/T/ipykernel_83190/3511079560.py\u001b\\\u001b[1;36m3511079560.py\u001b[0m\u001b]8;;\u001b\\\u001b[1;36m:\u001b[0m\u001b]8;id=260109;file:///var/folders/j5/qcb5hwfx53q57rz91nm4rvr40000gn/T/ipykernel_83190/3511079560.py#44\u001b\\\u001b[1;36m44\u001b[0m\u001b]8;;\u001b\\\n"
      ]
     },
     "metadata": {},
     "output_type": "display_data"
    },
    {
     "data": {
      "text/html": [
       "<pre style=\"white-space:pre;overflow-x:auto;line-height:normal;font-family:Menlo,'DejaVu Sans Mono',consolas,'Courier New',monospace\"><span style=\"color: #7fbfbf; text-decoration-color: #7fbfbf\">                    </span><span style=\"color: #000080; text-decoration-color: #000080; font-weight: bold\">INFO    </span><span style=\"color: #008000; text-decoration-color: #008000; font-weight: bold\"> </span><span style=\"font-weight: bold\">[</span><span style=\"color: #008080; text-decoration-color: #008080; font-weight: bold\">3511079560.</span>py:<span style=\"color: #008080; text-decoration-color: #008080; font-weight: bold\">50</span><span style=\"font-weight: bold\">]</span> Creating heatmap visualization<span style=\"color: #808000; text-decoration-color: #808000\">...</span>                  <a href=\"file:///var/folders/j5/qcb5hwfx53q57rz91nm4rvr40000gn/T/ipykernel_83190/3511079560.py\" target=\"_blank\"><span style=\"color: #008080; text-decoration-color: #008080; font-weight: bold\">3511079560.py</span></a><span style=\"color: #008080; text-decoration-color: #008080; font-weight: bold\">:</span><a href=\"file:///var/folders/j5/qcb5hwfx53q57rz91nm4rvr40000gn/T/ipykernel_83190/3511079560.py#50\" target=\"_blank\"><span style=\"color: #008080; text-decoration-color: #008080; font-weight: bold\">50</span></a>\n",
       "</pre>\n"
      ],
      "text/plain": [
       "\u001b[2;36m                   \u001b[0m\u001b[2;36m \u001b[0m\u001b[1;34mINFO    \u001b[0m\u001b[1;32m \u001b[0m\u001b[1m[\u001b[0m\u001b[1;36m3511079560.\u001b[0mpy:\u001b[1;36m50\u001b[0m\u001b[1m]\u001b[0m Creating heatmap visualization\u001b[33m...\u001b[0m                  \u001b]8;id=28575;file:///var/folders/j5/qcb5hwfx53q57rz91nm4rvr40000gn/T/ipykernel_83190/3511079560.py\u001b\\\u001b[1;36m3511079560.py\u001b[0m\u001b]8;;\u001b\\\u001b[1;36m:\u001b[0m\u001b]8;id=172619;file:///var/folders/j5/qcb5hwfx53q57rz91nm4rvr40000gn/T/ipykernel_83190/3511079560.py#50\u001b\\\u001b[1;36m50\u001b[0m\u001b]8;;\u001b\\\n"
      ]
     },
     "metadata": {},
     "output_type": "display_data"
    },
    {
     "name": "stdout",
     "output_type": "stream",
     "text": [
      "Row labels length: 19\n",
      "Col labels length: 17\n"
     ]
    },
    {
     "data": {
      "text/html": [
       "<pre style=\"white-space:pre;overflow-x:auto;line-height:normal;font-family:Menlo,'DejaVu Sans Mono',consolas,'Courier New',monospace\"><span style=\"color: #7fbfbf; text-decoration-color: #7fbfbf\">                    </span><span style=\"color: #000080; text-decoration-color: #000080; font-weight: bold\">INFO    </span><span style=\"color: #008000; text-decoration-color: #008000; font-weight: bold\"> </span><span style=\"font-weight: bold\">[</span><span style=\"color: #008080; text-decoration-color: #008080; font-weight: bold\">3511079560.</span>py:<span style=\"color: #008080; text-decoration-color: #008080; font-weight: bold\">44</span><span style=\"font-weight: bold\">]</span> Creating heatmap visualization<span style=\"color: #808000; text-decoration-color: #808000\">...</span>                  <a href=\"file:///var/folders/j5/qcb5hwfx53q57rz91nm4rvr40000gn/T/ipykernel_83190/3511079560.py\" target=\"_blank\"><span style=\"color: #008080; text-decoration-color: #008080; font-weight: bold\">3511079560.py</span></a><span style=\"color: #008080; text-decoration-color: #008080; font-weight: bold\">:</span><a href=\"file:///var/folders/j5/qcb5hwfx53q57rz91nm4rvr40000gn/T/ipykernel_83190/3511079560.py#44\" target=\"_blank\"><span style=\"color: #008080; text-decoration-color: #008080; font-weight: bold\">44</span></a>\n",
       "</pre>\n"
      ],
      "text/plain": [
       "\u001b[2;36m                   \u001b[0m\u001b[2;36m \u001b[0m\u001b[1;34mINFO    \u001b[0m\u001b[1;32m \u001b[0m\u001b[1m[\u001b[0m\u001b[1;36m3511079560.\u001b[0mpy:\u001b[1;36m44\u001b[0m\u001b[1m]\u001b[0m Creating heatmap visualization\u001b[33m...\u001b[0m                  \u001b]8;id=583145;file:///var/folders/j5/qcb5hwfx53q57rz91nm4rvr40000gn/T/ipykernel_83190/3511079560.py\u001b\\\u001b[1;36m3511079560.py\u001b[0m\u001b]8;;\u001b\\\u001b[1;36m:\u001b[0m\u001b]8;id=670707;file:///var/folders/j5/qcb5hwfx53q57rz91nm4rvr40000gn/T/ipykernel_83190/3511079560.py#44\u001b\\\u001b[1;36m44\u001b[0m\u001b]8;;\u001b\\\n"
      ]
     },
     "metadata": {},
     "output_type": "display_data"
    },
    {
     "data": {
      "text/html": [
       "<pre style=\"white-space:pre;overflow-x:auto;line-height:normal;font-family:Menlo,'DejaVu Sans Mono',consolas,'Courier New',monospace\"><span style=\"color: #7fbfbf; text-decoration-color: #7fbfbf\">                    </span><span style=\"color: #000080; text-decoration-color: #000080; font-weight: bold\">INFO    </span><span style=\"color: #008000; text-decoration-color: #008000; font-weight: bold\"> </span><span style=\"font-weight: bold\">[</span><span style=\"color: #008080; text-decoration-color: #008080; font-weight: bold\">3511079560.</span>py:<span style=\"color: #008080; text-decoration-color: #008080; font-weight: bold\">50</span><span style=\"font-weight: bold\">]</span> Creating heatmap visualization<span style=\"color: #808000; text-decoration-color: #808000\">...</span>                  <a href=\"file:///var/folders/j5/qcb5hwfx53q57rz91nm4rvr40000gn/T/ipykernel_83190/3511079560.py\" target=\"_blank\"><span style=\"color: #008080; text-decoration-color: #008080; font-weight: bold\">3511079560.py</span></a><span style=\"color: #008080; text-decoration-color: #008080; font-weight: bold\">:</span><a href=\"file:///var/folders/j5/qcb5hwfx53q57rz91nm4rvr40000gn/T/ipykernel_83190/3511079560.py#50\" target=\"_blank\"><span style=\"color: #008080; text-decoration-color: #008080; font-weight: bold\">50</span></a>\n",
       "</pre>\n"
      ],
      "text/plain": [
       "\u001b[2;36m                   \u001b[0m\u001b[2;36m \u001b[0m\u001b[1;34mINFO    \u001b[0m\u001b[1;32m \u001b[0m\u001b[1m[\u001b[0m\u001b[1;36m3511079560.\u001b[0mpy:\u001b[1;36m50\u001b[0m\u001b[1m]\u001b[0m Creating heatmap visualization\u001b[33m...\u001b[0m                  \u001b]8;id=814414;file:///var/folders/j5/qcb5hwfx53q57rz91nm4rvr40000gn/T/ipykernel_83190/3511079560.py\u001b\\\u001b[1;36m3511079560.py\u001b[0m\u001b]8;;\u001b\\\u001b[1;36m:\u001b[0m\u001b]8;id=259370;file:///var/folders/j5/qcb5hwfx53q57rz91nm4rvr40000gn/T/ipykernel_83190/3511079560.py#50\u001b\\\u001b[1;36m50\u001b[0m\u001b]8;;\u001b\\\n"
      ]
     },
     "metadata": {},
     "output_type": "display_data"
    },
    {
     "name": "stdout",
     "output_type": "stream",
     "text": [
      "Row labels length: 19\n",
      "Col labels length: 17\n"
     ]
    },
    {
     "data": {
      "text/html": [
       "<pre style=\"white-space:pre;overflow-x:auto;line-height:normal;font-family:Menlo,'DejaVu Sans Mono',consolas,'Courier New',monospace\"><span style=\"color: #7fbfbf; text-decoration-color: #7fbfbf\">                    </span><span style=\"color: #000080; text-decoration-color: #000080; font-weight: bold\">INFO    </span><span style=\"color: #008000; text-decoration-color: #008000; font-weight: bold\"> </span><span style=\"font-weight: bold\">[</span><span style=\"color: #008080; text-decoration-color: #008080; font-weight: bold\">3511079560.</span>py:<span style=\"color: #008080; text-decoration-color: #008080; font-weight: bold\">44</span><span style=\"font-weight: bold\">]</span> Creating heatmap visualization<span style=\"color: #808000; text-decoration-color: #808000\">...</span>                  <a href=\"file:///var/folders/j5/qcb5hwfx53q57rz91nm4rvr40000gn/T/ipykernel_83190/3511079560.py\" target=\"_blank\"><span style=\"color: #008080; text-decoration-color: #008080; font-weight: bold\">3511079560.py</span></a><span style=\"color: #008080; text-decoration-color: #008080; font-weight: bold\">:</span><a href=\"file:///var/folders/j5/qcb5hwfx53q57rz91nm4rvr40000gn/T/ipykernel_83190/3511079560.py#44\" target=\"_blank\"><span style=\"color: #008080; text-decoration-color: #008080; font-weight: bold\">44</span></a>\n",
       "</pre>\n"
      ],
      "text/plain": [
       "\u001b[2;36m                   \u001b[0m\u001b[2;36m \u001b[0m\u001b[1;34mINFO    \u001b[0m\u001b[1;32m \u001b[0m\u001b[1m[\u001b[0m\u001b[1;36m3511079560.\u001b[0mpy:\u001b[1;36m44\u001b[0m\u001b[1m]\u001b[0m Creating heatmap visualization\u001b[33m...\u001b[0m                  \u001b]8;id=550604;file:///var/folders/j5/qcb5hwfx53q57rz91nm4rvr40000gn/T/ipykernel_83190/3511079560.py\u001b\\\u001b[1;36m3511079560.py\u001b[0m\u001b]8;;\u001b\\\u001b[1;36m:\u001b[0m\u001b]8;id=322149;file:///var/folders/j5/qcb5hwfx53q57rz91nm4rvr40000gn/T/ipykernel_83190/3511079560.py#44\u001b\\\u001b[1;36m44\u001b[0m\u001b]8;;\u001b\\\n"
      ]
     },
     "metadata": {},
     "output_type": "display_data"
    },
    {
     "data": {
      "text/html": [
       "<pre style=\"white-space:pre;overflow-x:auto;line-height:normal;font-family:Menlo,'DejaVu Sans Mono',consolas,'Courier New',monospace\"><span style=\"color: #7fbfbf; text-decoration-color: #7fbfbf\">                    </span><span style=\"color: #000080; text-decoration-color: #000080; font-weight: bold\">INFO    </span><span style=\"color: #008000; text-decoration-color: #008000; font-weight: bold\"> </span><span style=\"font-weight: bold\">[</span><span style=\"color: #008080; text-decoration-color: #008080; font-weight: bold\">3511079560.</span>py:<span style=\"color: #008080; text-decoration-color: #008080; font-weight: bold\">50</span><span style=\"font-weight: bold\">]</span> Creating heatmap visualization<span style=\"color: #808000; text-decoration-color: #808000\">...</span>                  <a href=\"file:///var/folders/j5/qcb5hwfx53q57rz91nm4rvr40000gn/T/ipykernel_83190/3511079560.py\" target=\"_blank\"><span style=\"color: #008080; text-decoration-color: #008080; font-weight: bold\">3511079560.py</span></a><span style=\"color: #008080; text-decoration-color: #008080; font-weight: bold\">:</span><a href=\"file:///var/folders/j5/qcb5hwfx53q57rz91nm4rvr40000gn/T/ipykernel_83190/3511079560.py#50\" target=\"_blank\"><span style=\"color: #008080; text-decoration-color: #008080; font-weight: bold\">50</span></a>\n",
       "</pre>\n"
      ],
      "text/plain": [
       "\u001b[2;36m                   \u001b[0m\u001b[2;36m \u001b[0m\u001b[1;34mINFO    \u001b[0m\u001b[1;32m \u001b[0m\u001b[1m[\u001b[0m\u001b[1;36m3511079560.\u001b[0mpy:\u001b[1;36m50\u001b[0m\u001b[1m]\u001b[0m Creating heatmap visualization\u001b[33m...\u001b[0m                  \u001b]8;id=209640;file:///var/folders/j5/qcb5hwfx53q57rz91nm4rvr40000gn/T/ipykernel_83190/3511079560.py\u001b\\\u001b[1;36m3511079560.py\u001b[0m\u001b]8;;\u001b\\\u001b[1;36m:\u001b[0m\u001b]8;id=713826;file:///var/folders/j5/qcb5hwfx53q57rz91nm4rvr40000gn/T/ipykernel_83190/3511079560.py#50\u001b\\\u001b[1;36m50\u001b[0m\u001b]8;;\u001b\\\n"
      ]
     },
     "metadata": {},
     "output_type": "display_data"
    },
    {
     "name": "stdout",
     "output_type": "stream",
     "text": [
      "Row labels length: 19\n",
      "Col labels length: 17\n"
     ]
    },
    {
     "data": {
      "text/html": [
       "<pre style=\"white-space:pre;overflow-x:auto;line-height:normal;font-family:Menlo,'DejaVu Sans Mono',consolas,'Courier New',monospace\"><span style=\"color: #7fbfbf; text-decoration-color: #7fbfbf\">                    </span><span style=\"color: #000080; text-decoration-color: #000080; font-weight: bold\">INFO    </span><span style=\"color: #008000; text-decoration-color: #008000; font-weight: bold\"> </span><span style=\"font-weight: bold\">[</span><span style=\"color: #008080; text-decoration-color: #008080; font-weight: bold\">3511079560.</span>py:<span style=\"color: #008080; text-decoration-color: #008080; font-weight: bold\">44</span><span style=\"font-weight: bold\">]</span> Creating heatmap visualization<span style=\"color: #808000; text-decoration-color: #808000\">...</span>                  <a href=\"file:///var/folders/j5/qcb5hwfx53q57rz91nm4rvr40000gn/T/ipykernel_83190/3511079560.py\" target=\"_blank\"><span style=\"color: #008080; text-decoration-color: #008080; font-weight: bold\">3511079560.py</span></a><span style=\"color: #008080; text-decoration-color: #008080; font-weight: bold\">:</span><a href=\"file:///var/folders/j5/qcb5hwfx53q57rz91nm4rvr40000gn/T/ipykernel_83190/3511079560.py#44\" target=\"_blank\"><span style=\"color: #008080; text-decoration-color: #008080; font-weight: bold\">44</span></a>\n",
       "</pre>\n"
      ],
      "text/plain": [
       "\u001b[2;36m                   \u001b[0m\u001b[2;36m \u001b[0m\u001b[1;34mINFO    \u001b[0m\u001b[1;32m \u001b[0m\u001b[1m[\u001b[0m\u001b[1;36m3511079560.\u001b[0mpy:\u001b[1;36m44\u001b[0m\u001b[1m]\u001b[0m Creating heatmap visualization\u001b[33m...\u001b[0m                  \u001b]8;id=826389;file:///var/folders/j5/qcb5hwfx53q57rz91nm4rvr40000gn/T/ipykernel_83190/3511079560.py\u001b\\\u001b[1;36m3511079560.py\u001b[0m\u001b]8;;\u001b\\\u001b[1;36m:\u001b[0m\u001b]8;id=766621;file:///var/folders/j5/qcb5hwfx53q57rz91nm4rvr40000gn/T/ipykernel_83190/3511079560.py#44\u001b\\\u001b[1;36m44\u001b[0m\u001b]8;;\u001b\\\n"
      ]
     },
     "metadata": {},
     "output_type": "display_data"
    },
    {
     "data": {
      "text/html": [
       "<pre style=\"white-space:pre;overflow-x:auto;line-height:normal;font-family:Menlo,'DejaVu Sans Mono',consolas,'Courier New',monospace\"><span style=\"color: #7fbfbf; text-decoration-color: #7fbfbf\">                    </span><span style=\"color: #000080; text-decoration-color: #000080; font-weight: bold\">INFO    </span><span style=\"color: #008000; text-decoration-color: #008000; font-weight: bold\"> </span><span style=\"font-weight: bold\">[</span><span style=\"color: #008080; text-decoration-color: #008080; font-weight: bold\">3511079560.</span>py:<span style=\"color: #008080; text-decoration-color: #008080; font-weight: bold\">50</span><span style=\"font-weight: bold\">]</span> Creating heatmap visualization<span style=\"color: #808000; text-decoration-color: #808000\">...</span>                  <a href=\"file:///var/folders/j5/qcb5hwfx53q57rz91nm4rvr40000gn/T/ipykernel_83190/3511079560.py\" target=\"_blank\"><span style=\"color: #008080; text-decoration-color: #008080; font-weight: bold\">3511079560.py</span></a><span style=\"color: #008080; text-decoration-color: #008080; font-weight: bold\">:</span><a href=\"file:///var/folders/j5/qcb5hwfx53q57rz91nm4rvr40000gn/T/ipykernel_83190/3511079560.py#50\" target=\"_blank\"><span style=\"color: #008080; text-decoration-color: #008080; font-weight: bold\">50</span></a>\n",
       "</pre>\n"
      ],
      "text/plain": [
       "\u001b[2;36m                   \u001b[0m\u001b[2;36m \u001b[0m\u001b[1;34mINFO    \u001b[0m\u001b[1;32m \u001b[0m\u001b[1m[\u001b[0m\u001b[1;36m3511079560.\u001b[0mpy:\u001b[1;36m50\u001b[0m\u001b[1m]\u001b[0m Creating heatmap visualization\u001b[33m...\u001b[0m                  \u001b]8;id=404575;file:///var/folders/j5/qcb5hwfx53q57rz91nm4rvr40000gn/T/ipykernel_83190/3511079560.py\u001b\\\u001b[1;36m3511079560.py\u001b[0m\u001b]8;;\u001b\\\u001b[1;36m:\u001b[0m\u001b]8;id=891640;file:///var/folders/j5/qcb5hwfx53q57rz91nm4rvr40000gn/T/ipykernel_83190/3511079560.py#50\u001b\\\u001b[1;36m50\u001b[0m\u001b]8;;\u001b\\\n"
      ]
     },
     "metadata": {},
     "output_type": "display_data"
    },
    {
     "name": "stdout",
     "output_type": "stream",
     "text": [
      "Row labels length: 19\n",
      "Col labels length: 17\n"
     ]
    },
    {
     "data": {
      "text/html": [
       "<pre style=\"white-space:pre;overflow-x:auto;line-height:normal;font-family:Menlo,'DejaVu Sans Mono',consolas,'Courier New',monospace\"><span style=\"color: #7fbfbf; text-decoration-color: #7fbfbf\">                    </span><span style=\"color: #000080; text-decoration-color: #000080; font-weight: bold\">INFO    </span><span style=\"color: #008000; text-decoration-color: #008000; font-weight: bold\"> </span><span style=\"font-weight: bold\">[</span><span style=\"color: #008080; text-decoration-color: #008080; font-weight: bold\">3511079560.</span>py:<span style=\"color: #008080; text-decoration-color: #008080; font-weight: bold\">44</span><span style=\"font-weight: bold\">]</span> Creating heatmap visualization<span style=\"color: #808000; text-decoration-color: #808000\">...</span>                  <a href=\"file:///var/folders/j5/qcb5hwfx53q57rz91nm4rvr40000gn/T/ipykernel_83190/3511079560.py\" target=\"_blank\"><span style=\"color: #008080; text-decoration-color: #008080; font-weight: bold\">3511079560.py</span></a><span style=\"color: #008080; text-decoration-color: #008080; font-weight: bold\">:</span><a href=\"file:///var/folders/j5/qcb5hwfx53q57rz91nm4rvr40000gn/T/ipykernel_83190/3511079560.py#44\" target=\"_blank\"><span style=\"color: #008080; text-decoration-color: #008080; font-weight: bold\">44</span></a>\n",
       "</pre>\n"
      ],
      "text/plain": [
       "\u001b[2;36m                   \u001b[0m\u001b[2;36m \u001b[0m\u001b[1;34mINFO    \u001b[0m\u001b[1;32m \u001b[0m\u001b[1m[\u001b[0m\u001b[1;36m3511079560.\u001b[0mpy:\u001b[1;36m44\u001b[0m\u001b[1m]\u001b[0m Creating heatmap visualization\u001b[33m...\u001b[0m                  \u001b]8;id=701796;file:///var/folders/j5/qcb5hwfx53q57rz91nm4rvr40000gn/T/ipykernel_83190/3511079560.py\u001b\\\u001b[1;36m3511079560.py\u001b[0m\u001b]8;;\u001b\\\u001b[1;36m:\u001b[0m\u001b]8;id=397771;file:///var/folders/j5/qcb5hwfx53q57rz91nm4rvr40000gn/T/ipykernel_83190/3511079560.py#44\u001b\\\u001b[1;36m44\u001b[0m\u001b]8;;\u001b\\\n"
      ]
     },
     "metadata": {},
     "output_type": "display_data"
    },
    {
     "data": {
      "text/html": [
       "<pre style=\"white-space:pre;overflow-x:auto;line-height:normal;font-family:Menlo,'DejaVu Sans Mono',consolas,'Courier New',monospace\"><span style=\"color: #7fbfbf; text-decoration-color: #7fbfbf\">                    </span><span style=\"color: #000080; text-decoration-color: #000080; font-weight: bold\">INFO    </span><span style=\"color: #008000; text-decoration-color: #008000; font-weight: bold\"> </span><span style=\"font-weight: bold\">[</span><span style=\"color: #008080; text-decoration-color: #008080; font-weight: bold\">3511079560.</span>py:<span style=\"color: #008080; text-decoration-color: #008080; font-weight: bold\">50</span><span style=\"font-weight: bold\">]</span> Creating heatmap visualization<span style=\"color: #808000; text-decoration-color: #808000\">...</span>                  <a href=\"file:///var/folders/j5/qcb5hwfx53q57rz91nm4rvr40000gn/T/ipykernel_83190/3511079560.py\" target=\"_blank\"><span style=\"color: #008080; text-decoration-color: #008080; font-weight: bold\">3511079560.py</span></a><span style=\"color: #008080; text-decoration-color: #008080; font-weight: bold\">:</span><a href=\"file:///var/folders/j5/qcb5hwfx53q57rz91nm4rvr40000gn/T/ipykernel_83190/3511079560.py#50\" target=\"_blank\"><span style=\"color: #008080; text-decoration-color: #008080; font-weight: bold\">50</span></a>\n",
       "</pre>\n"
      ],
      "text/plain": [
       "\u001b[2;36m                   \u001b[0m\u001b[2;36m \u001b[0m\u001b[1;34mINFO    \u001b[0m\u001b[1;32m \u001b[0m\u001b[1m[\u001b[0m\u001b[1;36m3511079560.\u001b[0mpy:\u001b[1;36m50\u001b[0m\u001b[1m]\u001b[0m Creating heatmap visualization\u001b[33m...\u001b[0m                  \u001b]8;id=945085;file:///var/folders/j5/qcb5hwfx53q57rz91nm4rvr40000gn/T/ipykernel_83190/3511079560.py\u001b\\\u001b[1;36m3511079560.py\u001b[0m\u001b]8;;\u001b\\\u001b[1;36m:\u001b[0m\u001b]8;id=902118;file:///var/folders/j5/qcb5hwfx53q57rz91nm4rvr40000gn/T/ipykernel_83190/3511079560.py#50\u001b\\\u001b[1;36m50\u001b[0m\u001b]8;;\u001b\\\n"
      ]
     },
     "metadata": {},
     "output_type": "display_data"
    },
    {
     "name": "stdout",
     "output_type": "stream",
     "text": [
      "Row labels length: 19\n",
      "Col labels length: 17\n"
     ]
    },
    {
     "data": {
      "text/html": [
       "<pre style=\"white-space:pre;overflow-x:auto;line-height:normal;font-family:Menlo,'DejaVu Sans Mono',consolas,'Courier New',monospace\"><span style=\"color: #7fbfbf; text-decoration-color: #7fbfbf\">                    </span><span style=\"color: #000080; text-decoration-color: #000080; font-weight: bold\">INFO    </span><span style=\"color: #008000; text-decoration-color: #008000; font-weight: bold\"> </span><span style=\"font-weight: bold\">[</span><span style=\"color: #008080; text-decoration-color: #008080; font-weight: bold\">3511079560.</span>py:<span style=\"color: #008080; text-decoration-color: #008080; font-weight: bold\">44</span><span style=\"font-weight: bold\">]</span> Creating heatmap visualization<span style=\"color: #808000; text-decoration-color: #808000\">...</span>                  <a href=\"file:///var/folders/j5/qcb5hwfx53q57rz91nm4rvr40000gn/T/ipykernel_83190/3511079560.py\" target=\"_blank\"><span style=\"color: #008080; text-decoration-color: #008080; font-weight: bold\">3511079560.py</span></a><span style=\"color: #008080; text-decoration-color: #008080; font-weight: bold\">:</span><a href=\"file:///var/folders/j5/qcb5hwfx53q57rz91nm4rvr40000gn/T/ipykernel_83190/3511079560.py#44\" target=\"_blank\"><span style=\"color: #008080; text-decoration-color: #008080; font-weight: bold\">44</span></a>\n",
       "</pre>\n"
      ],
      "text/plain": [
       "\u001b[2;36m                   \u001b[0m\u001b[2;36m \u001b[0m\u001b[1;34mINFO    \u001b[0m\u001b[1;32m \u001b[0m\u001b[1m[\u001b[0m\u001b[1;36m3511079560.\u001b[0mpy:\u001b[1;36m44\u001b[0m\u001b[1m]\u001b[0m Creating heatmap visualization\u001b[33m...\u001b[0m                  \u001b]8;id=645787;file:///var/folders/j5/qcb5hwfx53q57rz91nm4rvr40000gn/T/ipykernel_83190/3511079560.py\u001b\\\u001b[1;36m3511079560.py\u001b[0m\u001b]8;;\u001b\\\u001b[1;36m:\u001b[0m\u001b]8;id=631476;file:///var/folders/j5/qcb5hwfx53q57rz91nm4rvr40000gn/T/ipykernel_83190/3511079560.py#44\u001b\\\u001b[1;36m44\u001b[0m\u001b]8;;\u001b\\\n"
      ]
     },
     "metadata": {},
     "output_type": "display_data"
    },
    {
     "data": {
      "text/html": [
       "<pre style=\"white-space:pre;overflow-x:auto;line-height:normal;font-family:Menlo,'DejaVu Sans Mono',consolas,'Courier New',monospace\"><span style=\"color: #7fbfbf; text-decoration-color: #7fbfbf\">                    </span><span style=\"color: #000080; text-decoration-color: #000080; font-weight: bold\">INFO    </span><span style=\"color: #008000; text-decoration-color: #008000; font-weight: bold\"> </span><span style=\"font-weight: bold\">[</span><span style=\"color: #008080; text-decoration-color: #008080; font-weight: bold\">3511079560.</span>py:<span style=\"color: #008080; text-decoration-color: #008080; font-weight: bold\">50</span><span style=\"font-weight: bold\">]</span> Creating heatmap visualization<span style=\"color: #808000; text-decoration-color: #808000\">...</span>                  <a href=\"file:///var/folders/j5/qcb5hwfx53q57rz91nm4rvr40000gn/T/ipykernel_83190/3511079560.py\" target=\"_blank\"><span style=\"color: #008080; text-decoration-color: #008080; font-weight: bold\">3511079560.py</span></a><span style=\"color: #008080; text-decoration-color: #008080; font-weight: bold\">:</span><a href=\"file:///var/folders/j5/qcb5hwfx53q57rz91nm4rvr40000gn/T/ipykernel_83190/3511079560.py#50\" target=\"_blank\"><span style=\"color: #008080; text-decoration-color: #008080; font-weight: bold\">50</span></a>\n",
       "</pre>\n"
      ],
      "text/plain": [
       "\u001b[2;36m                   \u001b[0m\u001b[2;36m \u001b[0m\u001b[1;34mINFO    \u001b[0m\u001b[1;32m \u001b[0m\u001b[1m[\u001b[0m\u001b[1;36m3511079560.\u001b[0mpy:\u001b[1;36m50\u001b[0m\u001b[1m]\u001b[0m Creating heatmap visualization\u001b[33m...\u001b[0m                  \u001b]8;id=894366;file:///var/folders/j5/qcb5hwfx53q57rz91nm4rvr40000gn/T/ipykernel_83190/3511079560.py\u001b\\\u001b[1;36m3511079560.py\u001b[0m\u001b]8;;\u001b\\\u001b[1;36m:\u001b[0m\u001b]8;id=231146;file:///var/folders/j5/qcb5hwfx53q57rz91nm4rvr40000gn/T/ipykernel_83190/3511079560.py#50\u001b\\\u001b[1;36m50\u001b[0m\u001b]8;;\u001b\\\n"
      ]
     },
     "metadata": {},
     "output_type": "display_data"
    },
    {
     "name": "stdout",
     "output_type": "stream",
     "text": [
      "Row labels length: 19\n",
      "Col labels length: 17\n"
     ]
    },
    {
     "data": {
      "text/html": [
       "<pre style=\"white-space:pre;overflow-x:auto;line-height:normal;font-family:Menlo,'DejaVu Sans Mono',consolas,'Courier New',monospace\"><span style=\"color: #7fbfbf; text-decoration-color: #7fbfbf\">                    </span><span style=\"color: #000080; text-decoration-color: #000080; font-weight: bold\">INFO    </span><span style=\"color: #008000; text-decoration-color: #008000; font-weight: bold\"> </span><span style=\"font-weight: bold\">[</span><span style=\"color: #008080; text-decoration-color: #008080; font-weight: bold\">3511079560.</span>py:<span style=\"color: #008080; text-decoration-color: #008080; font-weight: bold\">44</span><span style=\"font-weight: bold\">]</span> Creating heatmap visualization<span style=\"color: #808000; text-decoration-color: #808000\">...</span>                  <a href=\"file:///var/folders/j5/qcb5hwfx53q57rz91nm4rvr40000gn/T/ipykernel_83190/3511079560.py\" target=\"_blank\"><span style=\"color: #008080; text-decoration-color: #008080; font-weight: bold\">3511079560.py</span></a><span style=\"color: #008080; text-decoration-color: #008080; font-weight: bold\">:</span><a href=\"file:///var/folders/j5/qcb5hwfx53q57rz91nm4rvr40000gn/T/ipykernel_83190/3511079560.py#44\" target=\"_blank\"><span style=\"color: #008080; text-decoration-color: #008080; font-weight: bold\">44</span></a>\n",
       "</pre>\n"
      ],
      "text/plain": [
       "\u001b[2;36m                   \u001b[0m\u001b[2;36m \u001b[0m\u001b[1;34mINFO    \u001b[0m\u001b[1;32m \u001b[0m\u001b[1m[\u001b[0m\u001b[1;36m3511079560.\u001b[0mpy:\u001b[1;36m44\u001b[0m\u001b[1m]\u001b[0m Creating heatmap visualization\u001b[33m...\u001b[0m                  \u001b]8;id=108786;file:///var/folders/j5/qcb5hwfx53q57rz91nm4rvr40000gn/T/ipykernel_83190/3511079560.py\u001b\\\u001b[1;36m3511079560.py\u001b[0m\u001b]8;;\u001b\\\u001b[1;36m:\u001b[0m\u001b]8;id=959841;file:///var/folders/j5/qcb5hwfx53q57rz91nm4rvr40000gn/T/ipykernel_83190/3511079560.py#44\u001b\\\u001b[1;36m44\u001b[0m\u001b]8;;\u001b\\\n"
      ]
     },
     "metadata": {},
     "output_type": "display_data"
    },
    {
     "data": {
      "text/html": [
       "<pre style=\"white-space:pre;overflow-x:auto;line-height:normal;font-family:Menlo,'DejaVu Sans Mono',consolas,'Courier New',monospace\"><span style=\"color: #7fbfbf; text-decoration-color: #7fbfbf\">                    </span><span style=\"color: #000080; text-decoration-color: #000080; font-weight: bold\">INFO    </span><span style=\"color: #008000; text-decoration-color: #008000; font-weight: bold\"> </span><span style=\"font-weight: bold\">[</span><span style=\"color: #008080; text-decoration-color: #008080; font-weight: bold\">3511079560.</span>py:<span style=\"color: #008080; text-decoration-color: #008080; font-weight: bold\">50</span><span style=\"font-weight: bold\">]</span> Creating heatmap visualization<span style=\"color: #808000; text-decoration-color: #808000\">...</span>                  <a href=\"file:///var/folders/j5/qcb5hwfx53q57rz91nm4rvr40000gn/T/ipykernel_83190/3511079560.py\" target=\"_blank\"><span style=\"color: #008080; text-decoration-color: #008080; font-weight: bold\">3511079560.py</span></a><span style=\"color: #008080; text-decoration-color: #008080; font-weight: bold\">:</span><a href=\"file:///var/folders/j5/qcb5hwfx53q57rz91nm4rvr40000gn/T/ipykernel_83190/3511079560.py#50\" target=\"_blank\"><span style=\"color: #008080; text-decoration-color: #008080; font-weight: bold\">50</span></a>\n",
       "</pre>\n"
      ],
      "text/plain": [
       "\u001b[2;36m                   \u001b[0m\u001b[2;36m \u001b[0m\u001b[1;34mINFO    \u001b[0m\u001b[1;32m \u001b[0m\u001b[1m[\u001b[0m\u001b[1;36m3511079560.\u001b[0mpy:\u001b[1;36m50\u001b[0m\u001b[1m]\u001b[0m Creating heatmap visualization\u001b[33m...\u001b[0m                  \u001b]8;id=420896;file:///var/folders/j5/qcb5hwfx53q57rz91nm4rvr40000gn/T/ipykernel_83190/3511079560.py\u001b\\\u001b[1;36m3511079560.py\u001b[0m\u001b]8;;\u001b\\\u001b[1;36m:\u001b[0m\u001b]8;id=853663;file:///var/folders/j5/qcb5hwfx53q57rz91nm4rvr40000gn/T/ipykernel_83190/3511079560.py#50\u001b\\\u001b[1;36m50\u001b[0m\u001b]8;;\u001b\\\n"
      ]
     },
     "metadata": {},
     "output_type": "display_data"
    },
    {
     "name": "stdout",
     "output_type": "stream",
     "text": [
      "Row labels length: 19\n",
      "Col labels length: 17\n"
     ]
    },
    {
     "data": {
      "text/html": [
       "<pre style=\"white-space:pre;overflow-x:auto;line-height:normal;font-family:Menlo,'DejaVu Sans Mono',consolas,'Courier New',monospace\"><span style=\"color: #7fbfbf; text-decoration-color: #7fbfbf\">                    </span><span style=\"color: #000080; text-decoration-color: #000080; font-weight: bold\">INFO    </span><span style=\"color: #008000; text-decoration-color: #008000; font-weight: bold\"> </span> Saving HTML figure to                                               <a href=\"file:///Users/4gate/git/embedding_translation/src/viz/save_figure.py\" target=\"_blank\"><span style=\"color: #008080; text-decoration-color: #008080; font-weight: bold\">save_figure.py</span></a><span style=\"color: #008080; text-decoration-color: #008080; font-weight: bold\">:</span><a href=\"file:///Users/4gate/git/embedding_translation/src/viz/save_figure.py#32\" target=\"_blank\"><span style=\"color: #008080; text-decoration-color: #008080; font-weight: bold\">32</span></a>\n",
       "<span style=\"color: #7fbfbf; text-decoration-color: #7fbfbf\">                    </span><span style=\"color: #008000; text-decoration-color: #008000; font-weight: bold\">         </span><span style=\"color: #800080; text-decoration-color: #800080\">/Users/4gate/git/embedding_translation/data/figs/html/</span><span style=\"color: #ff00ff; text-decoration-color: #ff00ff\">scidocs_lord_f</span> <span style=\"color: #008080; text-decoration-color: #008080; font-weight: bold\">                 </span>\n",
       "<span style=\"color: #7fbfbf; text-decoration-color: #7fbfbf\">                    </span><span style=\"color: #008000; text-decoration-color: #008000; font-weight: bold\">         </span><span style=\"color: #ff00ff; text-decoration-color: #ff00ff\">arquad_was_heren.html</span>                                                <span style=\"color: #008080; text-decoration-color: #008080; font-weight: bold\">                 </span>\n",
       "</pre>\n"
      ],
      "text/plain": [
       "\u001b[2;36m                   \u001b[0m\u001b[2;36m \u001b[0m\u001b[1;34mINFO    \u001b[0m\u001b[1;32m \u001b[0m Saving HTML figure to                                               \u001b]8;id=411775;file:///Users/4gate/git/embedding_translation/src/viz/save_figure.py\u001b\\\u001b[1;36msave_figure.py\u001b[0m\u001b]8;;\u001b\\\u001b[1;36m:\u001b[0m\u001b]8;id=845606;file:///Users/4gate/git/embedding_translation/src/viz/save_figure.py#32\u001b\\\u001b[1;36m32\u001b[0m\u001b]8;;\u001b\\\n",
       "\u001b[2;36m                    \u001b[0m\u001b[1;32m         \u001b[0m\u001b[35m/Users/4gate/git/embedding_translation/data/figs/html/\u001b[0m\u001b[95mscidocs_lord_f\u001b[0m \u001b[1;36m                 \u001b[0m\n",
       "\u001b[2;36m                    \u001b[0m\u001b[1;32m         \u001b[0m\u001b[95marquad_was_heren.html\u001b[0m                                                \u001b[1;36m                 \u001b[0m\n"
      ]
     },
     "metadata": {},
     "output_type": "display_data"
    },
    {
     "data": {
      "text/html": [
       "<pre style=\"white-space:pre;overflow-x:auto;line-height:normal;font-family:Menlo,'DejaVu Sans Mono',consolas,'Courier New',monospace\"><span style=\"color: #7fbfbf; text-decoration-color: #7fbfbf\">                    </span><span style=\"color: #008000; text-decoration-color: #008000; font-weight: bold\">SUCCESS  </span> Successfully saved HTML to                                          <a href=\"file:///Users/4gate/git/embedding_translation/src/viz/save_figure.py\" target=\"_blank\"><span style=\"color: #008080; text-decoration-color: #008080; font-weight: bold\">save_figure.py</span></a><span style=\"color: #008080; text-decoration-color: #008080; font-weight: bold\">:</span><a href=\"file:///Users/4gate/git/embedding_translation/src/viz/save_figure.py#40\" target=\"_blank\"><span style=\"color: #008080; text-decoration-color: #008080; font-weight: bold\">40</span></a>\n",
       "<span style=\"color: #7fbfbf; text-decoration-color: #7fbfbf\">                    </span><span style=\"color: #008000; text-decoration-color: #008000; font-weight: bold\">         </span><span style=\"color: #800080; text-decoration-color: #800080\">/Users/4gate/git/embedding_translation/data/figs/html/</span><span style=\"color: #ff00ff; text-decoration-color: #ff00ff\">scidocs_lord_f</span> <span style=\"color: #008080; text-decoration-color: #008080; font-weight: bold\">                 </span>\n",
       "<span style=\"color: #7fbfbf; text-decoration-color: #7fbfbf\">                    </span><span style=\"color: #008000; text-decoration-color: #008000; font-weight: bold\">         </span><span style=\"color: #ff00ff; text-decoration-color: #ff00ff\">arquad_was_heren.html</span>                                                <span style=\"color: #008080; text-decoration-color: #008080; font-weight: bold\">                 </span>\n",
       "</pre>\n"
      ],
      "text/plain": [
       "\u001b[2;36m                   \u001b[0m\u001b[2;36m \u001b[0m\u001b[1;32mSUCCESS \u001b[0m\u001b[1;32m \u001b[0m Successfully saved HTML to                                          \u001b]8;id=322908;file:///Users/4gate/git/embedding_translation/src/viz/save_figure.py\u001b\\\u001b[1;36msave_figure.py\u001b[0m\u001b]8;;\u001b\\\u001b[1;36m:\u001b[0m\u001b]8;id=457571;file:///Users/4gate/git/embedding_translation/src/viz/save_figure.py#40\u001b\\\u001b[1;36m40\u001b[0m\u001b]8;;\u001b\\\n",
       "\u001b[2;36m                    \u001b[0m\u001b[1;32m         \u001b[0m\u001b[35m/Users/4gate/git/embedding_translation/data/figs/html/\u001b[0m\u001b[95mscidocs_lord_f\u001b[0m \u001b[1;36m                 \u001b[0m\n",
       "\u001b[2;36m                    \u001b[0m\u001b[1;32m         \u001b[0m\u001b[95marquad_was_heren.html\u001b[0m                                                \u001b[1;36m                 \u001b[0m\n"
      ]
     },
     "metadata": {},
     "output_type": "display_data"
    },
    {
     "data": {
      "text/html": [
       "<pre style=\"white-space:pre;overflow-x:auto;line-height:normal;font-family:Menlo,'DejaVu Sans Mono',consolas,'Courier New',monospace\"><span style=\"color: #7fbfbf; text-decoration-color: #7fbfbf\">                    </span><span style=\"color: #000080; text-decoration-color: #000080; font-weight: bold\">INFO    </span><span style=\"color: #008000; text-decoration-color: #008000; font-weight: bold\"> </span> Saving PNG figure to                                                <a href=\"file:///Users/4gate/git/embedding_translation/src/viz/save_figure.py\" target=\"_blank\"><span style=\"color: #008080; text-decoration-color: #008080; font-weight: bold\">save_figure.py</span></a><span style=\"color: #008080; text-decoration-color: #008080; font-weight: bold\">:</span><a href=\"file:///Users/4gate/git/embedding_translation/src/viz/save_figure.py#67\" target=\"_blank\"><span style=\"color: #008080; text-decoration-color: #008080; font-weight: bold\">67</span></a>\n",
       "<span style=\"color: #7fbfbf; text-decoration-color: #7fbfbf\">                    </span><span style=\"color: #008000; text-decoration-color: #008000; font-weight: bold\">         </span><span style=\"color: #800080; text-decoration-color: #800080\">/Users/4gate/git/embedding_translation/data/figs/imgs/</span><span style=\"color: #ff00ff; text-decoration-color: #ff00ff\">scidocs_lord_f</span> <span style=\"color: #008080; text-decoration-color: #008080; font-weight: bold\">                 </span>\n",
       "<span style=\"color: #7fbfbf; text-decoration-color: #7fbfbf\">                    </span><span style=\"color: #008000; text-decoration-color: #008000; font-weight: bold\">         </span><span style=\"color: #ff00ff; text-decoration-color: #ff00ff\">arquad_was_heren.png</span>                                                 <span style=\"color: #008080; text-decoration-color: #008080; font-weight: bold\">                 </span>\n",
       "</pre>\n"
      ],
      "text/plain": [
       "\u001b[2;36m                   \u001b[0m\u001b[2;36m \u001b[0m\u001b[1;34mINFO    \u001b[0m\u001b[1;32m \u001b[0m Saving PNG figure to                                                \u001b]8;id=118232;file:///Users/4gate/git/embedding_translation/src/viz/save_figure.py\u001b\\\u001b[1;36msave_figure.py\u001b[0m\u001b]8;;\u001b\\\u001b[1;36m:\u001b[0m\u001b]8;id=373090;file:///Users/4gate/git/embedding_translation/src/viz/save_figure.py#67\u001b\\\u001b[1;36m67\u001b[0m\u001b]8;;\u001b\\\n",
       "\u001b[2;36m                    \u001b[0m\u001b[1;32m         \u001b[0m\u001b[35m/Users/4gate/git/embedding_translation/data/figs/imgs/\u001b[0m\u001b[95mscidocs_lord_f\u001b[0m \u001b[1;36m                 \u001b[0m\n",
       "\u001b[2;36m                    \u001b[0m\u001b[1;32m         \u001b[0m\u001b[95marquad_was_heren.png\u001b[0m                                                 \u001b[1;36m                 \u001b[0m\n"
      ]
     },
     "metadata": {},
     "output_type": "display_data"
    },
    {
     "data": {
      "text/html": [
       "<pre style=\"white-space:pre;overflow-x:auto;line-height:normal;font-family:Menlo,'DejaVu Sans Mono',consolas,'Courier New',monospace\"><span style=\"color: #7fbfbf; text-decoration-color: #7fbfbf\">                    </span><span style=\"color: #008000; text-decoration-color: #008000; font-weight: bold\">SUCCESS  </span> Successfully saved PNG to                                           <a href=\"file:///Users/4gate/git/embedding_translation/src/viz/save_figure.py\" target=\"_blank\"><span style=\"color: #008080; text-decoration-color: #008080; font-weight: bold\">save_figure.py</span></a><span style=\"color: #008080; text-decoration-color: #008080; font-weight: bold\">:</span><a href=\"file:///Users/4gate/git/embedding_translation/src/viz/save_figure.py#76\" target=\"_blank\"><span style=\"color: #008080; text-decoration-color: #008080; font-weight: bold\">76</span></a>\n",
       "<span style=\"color: #7fbfbf; text-decoration-color: #7fbfbf\">                    </span><span style=\"color: #008000; text-decoration-color: #008000; font-weight: bold\">         </span><span style=\"color: #800080; text-decoration-color: #800080\">/Users/4gate/git/embedding_translation/data/figs/imgs/</span><span style=\"color: #ff00ff; text-decoration-color: #ff00ff\">scidocs_lord_f</span> <span style=\"color: #008080; text-decoration-color: #008080; font-weight: bold\">                 </span>\n",
       "<span style=\"color: #7fbfbf; text-decoration-color: #7fbfbf\">                    </span><span style=\"color: #008000; text-decoration-color: #008000; font-weight: bold\">         </span><span style=\"color: #ff00ff; text-decoration-color: #ff00ff\">arquad_was_heren.png</span>                                                 <span style=\"color: #008080; text-decoration-color: #008080; font-weight: bold\">                 </span>\n",
       "</pre>\n"
      ],
      "text/plain": [
       "\u001b[2;36m                   \u001b[0m\u001b[2;36m \u001b[0m\u001b[1;32mSUCCESS \u001b[0m\u001b[1;32m \u001b[0m Successfully saved PNG to                                           \u001b]8;id=758677;file:///Users/4gate/git/embedding_translation/src/viz/save_figure.py\u001b\\\u001b[1;36msave_figure.py\u001b[0m\u001b]8;;\u001b\\\u001b[1;36m:\u001b[0m\u001b]8;id=91323;file:///Users/4gate/git/embedding_translation/src/viz/save_figure.py#76\u001b\\\u001b[1;36m76\u001b[0m\u001b]8;;\u001b\\\n",
       "\u001b[2;36m                    \u001b[0m\u001b[1;32m         \u001b[0m\u001b[35m/Users/4gate/git/embedding_translation/data/figs/imgs/\u001b[0m\u001b[95mscidocs_lord_f\u001b[0m \u001b[1;36m                 \u001b[0m\n",
       "\u001b[2;36m                    \u001b[0m\u001b[1;32m         \u001b[0m\u001b[95marquad_was_heren.png\u001b[0m                                                 \u001b[1;36m                 \u001b[0m\n"
      ]
     },
     "metadata": {},
     "output_type": "display_data"
    },
    {
     "data": {
      "text/html": [
       "<pre style=\"white-space:pre;overflow-x:auto;line-height:normal;font-family:Menlo,'DejaVu Sans Mono',consolas,'Courier New',monospace\"><span style=\"color: #7fbfbf; text-decoration-color: #7fbfbf\">                    </span><span style=\"color: #000080; text-decoration-color: #000080; font-weight: bold\">INFO    </span><span style=\"color: #008000; text-decoration-color: #008000; font-weight: bold\"> </span><span style=\"font-weight: bold\">[</span><span style=\"color: #008080; text-decoration-color: #008080; font-weight: bold\">3511079560.</span>py:<span style=\"color: #008080; text-decoration-color: #008080; font-weight: bold\">44</span><span style=\"font-weight: bold\">]</span> Creating heatmap visualization<span style=\"color: #808000; text-decoration-color: #808000\">...</span>                  <a href=\"file:///var/folders/j5/qcb5hwfx53q57rz91nm4rvr40000gn/T/ipykernel_83190/3511079560.py\" target=\"_blank\"><span style=\"color: #008080; text-decoration-color: #008080; font-weight: bold\">3511079560.py</span></a><span style=\"color: #008080; text-decoration-color: #008080; font-weight: bold\">:</span><a href=\"file:///var/folders/j5/qcb5hwfx53q57rz91nm4rvr40000gn/T/ipykernel_83190/3511079560.py#44\" target=\"_blank\"><span style=\"color: #008080; text-decoration-color: #008080; font-weight: bold\">44</span></a>\n",
       "</pre>\n"
      ],
      "text/plain": [
       "\u001b[2;36m                   \u001b[0m\u001b[2;36m \u001b[0m\u001b[1;34mINFO    \u001b[0m\u001b[1;32m \u001b[0m\u001b[1m[\u001b[0m\u001b[1;36m3511079560.\u001b[0mpy:\u001b[1;36m44\u001b[0m\u001b[1m]\u001b[0m Creating heatmap visualization\u001b[33m...\u001b[0m                  \u001b]8;id=303108;file:///var/folders/j5/qcb5hwfx53q57rz91nm4rvr40000gn/T/ipykernel_83190/3511079560.py\u001b\\\u001b[1;36m3511079560.py\u001b[0m\u001b]8;;\u001b\\\u001b[1;36m:\u001b[0m\u001b]8;id=636282;file:///var/folders/j5/qcb5hwfx53q57rz91nm4rvr40000gn/T/ipykernel_83190/3511079560.py#44\u001b\\\u001b[1;36m44\u001b[0m\u001b]8;;\u001b\\\n"
      ]
     },
     "metadata": {},
     "output_type": "display_data"
    },
    {
     "data": {
      "text/html": [
       "<pre style=\"white-space:pre;overflow-x:auto;line-height:normal;font-family:Menlo,'DejaVu Sans Mono',consolas,'Courier New',monospace\"><span style=\"color: #7fbfbf; text-decoration-color: #7fbfbf\">                    </span><span style=\"color: #000080; text-decoration-color: #000080; font-weight: bold\">INFO    </span><span style=\"color: #008000; text-decoration-color: #008000; font-weight: bold\"> </span><span style=\"font-weight: bold\">[</span><span style=\"color: #008080; text-decoration-color: #008080; font-weight: bold\">3511079560.</span>py:<span style=\"color: #008080; text-decoration-color: #008080; font-weight: bold\">50</span><span style=\"font-weight: bold\">]</span> Creating heatmap visualization<span style=\"color: #808000; text-decoration-color: #808000\">...</span>                  <a href=\"file:///var/folders/j5/qcb5hwfx53q57rz91nm4rvr40000gn/T/ipykernel_83190/3511079560.py\" target=\"_blank\"><span style=\"color: #008080; text-decoration-color: #008080; font-weight: bold\">3511079560.py</span></a><span style=\"color: #008080; text-decoration-color: #008080; font-weight: bold\">:</span><a href=\"file:///var/folders/j5/qcb5hwfx53q57rz91nm4rvr40000gn/T/ipykernel_83190/3511079560.py#50\" target=\"_blank\"><span style=\"color: #008080; text-decoration-color: #008080; font-weight: bold\">50</span></a>\n",
       "</pre>\n"
      ],
      "text/plain": [
       "\u001b[2;36m                   \u001b[0m\u001b[2;36m \u001b[0m\u001b[1;34mINFO    \u001b[0m\u001b[1;32m \u001b[0m\u001b[1m[\u001b[0m\u001b[1;36m3511079560.\u001b[0mpy:\u001b[1;36m50\u001b[0m\u001b[1m]\u001b[0m Creating heatmap visualization\u001b[33m...\u001b[0m                  \u001b]8;id=646389;file:///var/folders/j5/qcb5hwfx53q57rz91nm4rvr40000gn/T/ipykernel_83190/3511079560.py\u001b\\\u001b[1;36m3511079560.py\u001b[0m\u001b]8;;\u001b\\\u001b[1;36m:\u001b[0m\u001b]8;id=93906;file:///var/folders/j5/qcb5hwfx53q57rz91nm4rvr40000gn/T/ipykernel_83190/3511079560.py#50\u001b\\\u001b[1;36m50\u001b[0m\u001b]8;;\u001b\\\n"
      ]
     },
     "metadata": {},
     "output_type": "display_data"
    },
    {
     "name": "stdout",
     "output_type": "stream",
     "text": [
      "Row labels length: 19\n",
      "Col labels length: 17\n"
     ]
    },
    {
     "data": {
      "text/html": [
       "<pre style=\"white-space:pre;overflow-x:auto;line-height:normal;font-family:Menlo,'DejaVu Sans Mono',consolas,'Courier New',monospace\"><span style=\"color: #7fbfbf; text-decoration-color: #7fbfbf\">                    </span><span style=\"color: #000080; text-decoration-color: #000080; font-weight: bold\">INFO    </span><span style=\"color: #008000; text-decoration-color: #008000; font-weight: bold\"> </span><span style=\"font-weight: bold\">[</span><span style=\"color: #008080; text-decoration-color: #008080; font-weight: bold\">3511079560.</span>py:<span style=\"color: #008080; text-decoration-color: #008080; font-weight: bold\">44</span><span style=\"font-weight: bold\">]</span> Creating heatmap visualization<span style=\"color: #808000; text-decoration-color: #808000\">...</span>                  <a href=\"file:///var/folders/j5/qcb5hwfx53q57rz91nm4rvr40000gn/T/ipykernel_83190/3511079560.py\" target=\"_blank\"><span style=\"color: #008080; text-decoration-color: #008080; font-weight: bold\">3511079560.py</span></a><span style=\"color: #008080; text-decoration-color: #008080; font-weight: bold\">:</span><a href=\"file:///var/folders/j5/qcb5hwfx53q57rz91nm4rvr40000gn/T/ipykernel_83190/3511079560.py#44\" target=\"_blank\"><span style=\"color: #008080; text-decoration-color: #008080; font-weight: bold\">44</span></a>\n",
       "</pre>\n"
      ],
      "text/plain": [
       "\u001b[2;36m                   \u001b[0m\u001b[2;36m \u001b[0m\u001b[1;34mINFO    \u001b[0m\u001b[1;32m \u001b[0m\u001b[1m[\u001b[0m\u001b[1;36m3511079560.\u001b[0mpy:\u001b[1;36m44\u001b[0m\u001b[1m]\u001b[0m Creating heatmap visualization\u001b[33m...\u001b[0m                  \u001b]8;id=573820;file:///var/folders/j5/qcb5hwfx53q57rz91nm4rvr40000gn/T/ipykernel_83190/3511079560.py\u001b\\\u001b[1;36m3511079560.py\u001b[0m\u001b]8;;\u001b\\\u001b[1;36m:\u001b[0m\u001b]8;id=786166;file:///var/folders/j5/qcb5hwfx53q57rz91nm4rvr40000gn/T/ipykernel_83190/3511079560.py#44\u001b\\\u001b[1;36m44\u001b[0m\u001b]8;;\u001b\\\n"
      ]
     },
     "metadata": {},
     "output_type": "display_data"
    },
    {
     "data": {
      "text/html": [
       "<pre style=\"white-space:pre;overflow-x:auto;line-height:normal;font-family:Menlo,'DejaVu Sans Mono',consolas,'Courier New',monospace\"><span style=\"color: #7fbfbf; text-decoration-color: #7fbfbf\">                    </span><span style=\"color: #000080; text-decoration-color: #000080; font-weight: bold\">INFO    </span><span style=\"color: #008000; text-decoration-color: #008000; font-weight: bold\"> </span><span style=\"font-weight: bold\">[</span><span style=\"color: #008080; text-decoration-color: #008080; font-weight: bold\">3511079560.</span>py:<span style=\"color: #008080; text-decoration-color: #008080; font-weight: bold\">50</span><span style=\"font-weight: bold\">]</span> Creating heatmap visualization<span style=\"color: #808000; text-decoration-color: #808000\">...</span>                  <a href=\"file:///var/folders/j5/qcb5hwfx53q57rz91nm4rvr40000gn/T/ipykernel_83190/3511079560.py\" target=\"_blank\"><span style=\"color: #008080; text-decoration-color: #008080; font-weight: bold\">3511079560.py</span></a><span style=\"color: #008080; text-decoration-color: #008080; font-weight: bold\">:</span><a href=\"file:///var/folders/j5/qcb5hwfx53q57rz91nm4rvr40000gn/T/ipykernel_83190/3511079560.py#50\" target=\"_blank\"><span style=\"color: #008080; text-decoration-color: #008080; font-weight: bold\">50</span></a>\n",
       "</pre>\n"
      ],
      "text/plain": [
       "\u001b[2;36m                   \u001b[0m\u001b[2;36m \u001b[0m\u001b[1;34mINFO    \u001b[0m\u001b[1;32m \u001b[0m\u001b[1m[\u001b[0m\u001b[1;36m3511079560.\u001b[0mpy:\u001b[1;36m50\u001b[0m\u001b[1m]\u001b[0m Creating heatmap visualization\u001b[33m...\u001b[0m                  \u001b]8;id=285374;file:///var/folders/j5/qcb5hwfx53q57rz91nm4rvr40000gn/T/ipykernel_83190/3511079560.py\u001b\\\u001b[1;36m3511079560.py\u001b[0m\u001b]8;;\u001b\\\u001b[1;36m:\u001b[0m\u001b]8;id=432412;file:///var/folders/j5/qcb5hwfx53q57rz91nm4rvr40000gn/T/ipykernel_83190/3511079560.py#50\u001b\\\u001b[1;36m50\u001b[0m\u001b]8;;\u001b\\\n"
      ]
     },
     "metadata": {},
     "output_type": "display_data"
    },
    {
     "name": "stdout",
     "output_type": "stream",
     "text": [
      "Row labels length: 19\n",
      "Col labels length: 17\n"
     ]
    },
    {
     "data": {
      "text/html": [
       "<pre style=\"white-space:pre;overflow-x:auto;line-height:normal;font-family:Menlo,'DejaVu Sans Mono',consolas,'Courier New',monospace\"><span style=\"color: #7fbfbf; text-decoration-color: #7fbfbf\">                    </span><span style=\"color: #000080; text-decoration-color: #000080; font-weight: bold\">INFO    </span><span style=\"color: #008000; text-decoration-color: #008000; font-weight: bold\"> </span><span style=\"font-weight: bold\">[</span><span style=\"color: #008080; text-decoration-color: #008080; font-weight: bold\">3511079560.</span>py:<span style=\"color: #008080; text-decoration-color: #008080; font-weight: bold\">44</span><span style=\"font-weight: bold\">]</span> Creating heatmap visualization<span style=\"color: #808000; text-decoration-color: #808000\">...</span>                  <a href=\"file:///var/folders/j5/qcb5hwfx53q57rz91nm4rvr40000gn/T/ipykernel_83190/3511079560.py\" target=\"_blank\"><span style=\"color: #008080; text-decoration-color: #008080; font-weight: bold\">3511079560.py</span></a><span style=\"color: #008080; text-decoration-color: #008080; font-weight: bold\">:</span><a href=\"file:///var/folders/j5/qcb5hwfx53q57rz91nm4rvr40000gn/T/ipykernel_83190/3511079560.py#44\" target=\"_blank\"><span style=\"color: #008080; text-decoration-color: #008080; font-weight: bold\">44</span></a>\n",
       "</pre>\n"
      ],
      "text/plain": [
       "\u001b[2;36m                   \u001b[0m\u001b[2;36m \u001b[0m\u001b[1;34mINFO    \u001b[0m\u001b[1;32m \u001b[0m\u001b[1m[\u001b[0m\u001b[1;36m3511079560.\u001b[0mpy:\u001b[1;36m44\u001b[0m\u001b[1m]\u001b[0m Creating heatmap visualization\u001b[33m...\u001b[0m                  \u001b]8;id=824655;file:///var/folders/j5/qcb5hwfx53q57rz91nm4rvr40000gn/T/ipykernel_83190/3511079560.py\u001b\\\u001b[1;36m3511079560.py\u001b[0m\u001b]8;;\u001b\\\u001b[1;36m:\u001b[0m\u001b]8;id=998954;file:///var/folders/j5/qcb5hwfx53q57rz91nm4rvr40000gn/T/ipykernel_83190/3511079560.py#44\u001b\\\u001b[1;36m44\u001b[0m\u001b]8;;\u001b\\\n"
      ]
     },
     "metadata": {},
     "output_type": "display_data"
    },
    {
     "data": {
      "text/html": [
       "<pre style=\"white-space:pre;overflow-x:auto;line-height:normal;font-family:Menlo,'DejaVu Sans Mono',consolas,'Courier New',monospace\"><span style=\"color: #7fbfbf; text-decoration-color: #7fbfbf\">                    </span><span style=\"color: #000080; text-decoration-color: #000080; font-weight: bold\">INFO    </span><span style=\"color: #008000; text-decoration-color: #008000; font-weight: bold\"> </span><span style=\"font-weight: bold\">[</span><span style=\"color: #008080; text-decoration-color: #008080; font-weight: bold\">3511079560.</span>py:<span style=\"color: #008080; text-decoration-color: #008080; font-weight: bold\">50</span><span style=\"font-weight: bold\">]</span> Creating heatmap visualization<span style=\"color: #808000; text-decoration-color: #808000\">...</span>                  <a href=\"file:///var/folders/j5/qcb5hwfx53q57rz91nm4rvr40000gn/T/ipykernel_83190/3511079560.py\" target=\"_blank\"><span style=\"color: #008080; text-decoration-color: #008080; font-weight: bold\">3511079560.py</span></a><span style=\"color: #008080; text-decoration-color: #008080; font-weight: bold\">:</span><a href=\"file:///var/folders/j5/qcb5hwfx53q57rz91nm4rvr40000gn/T/ipykernel_83190/3511079560.py#50\" target=\"_blank\"><span style=\"color: #008080; text-decoration-color: #008080; font-weight: bold\">50</span></a>\n",
       "</pre>\n"
      ],
      "text/plain": [
       "\u001b[2;36m                   \u001b[0m\u001b[2;36m \u001b[0m\u001b[1;34mINFO    \u001b[0m\u001b[1;32m \u001b[0m\u001b[1m[\u001b[0m\u001b[1;36m3511079560.\u001b[0mpy:\u001b[1;36m50\u001b[0m\u001b[1m]\u001b[0m Creating heatmap visualization\u001b[33m...\u001b[0m                  \u001b]8;id=53947;file:///var/folders/j5/qcb5hwfx53q57rz91nm4rvr40000gn/T/ipykernel_83190/3511079560.py\u001b\\\u001b[1;36m3511079560.py\u001b[0m\u001b]8;;\u001b\\\u001b[1;36m:\u001b[0m\u001b]8;id=378973;file:///var/folders/j5/qcb5hwfx53q57rz91nm4rvr40000gn/T/ipykernel_83190/3511079560.py#50\u001b\\\u001b[1;36m50\u001b[0m\u001b]8;;\u001b\\\n"
      ]
     },
     "metadata": {},
     "output_type": "display_data"
    },
    {
     "name": "stdout",
     "output_type": "stream",
     "text": [
      "Row labels length: 19\n",
      "Col labels length: 17\n"
     ]
    },
    {
     "data": {
      "text/html": [
       "<pre style=\"white-space:pre;overflow-x:auto;line-height:normal;font-family:Menlo,'DejaVu Sans Mono',consolas,'Courier New',monospace\"><span style=\"color: #7fbfbf; text-decoration-color: #7fbfbf\">                    </span><span style=\"color: #000080; text-decoration-color: #000080; font-weight: bold\">INFO    </span><span style=\"color: #008000; text-decoration-color: #008000; font-weight: bold\"> </span><span style=\"font-weight: bold\">[</span><span style=\"color: #008080; text-decoration-color: #008080; font-weight: bold\">3511079560.</span>py:<span style=\"color: #008080; text-decoration-color: #008080; font-weight: bold\">44</span><span style=\"font-weight: bold\">]</span> Creating heatmap visualization<span style=\"color: #808000; text-decoration-color: #808000\">...</span>                  <a href=\"file:///var/folders/j5/qcb5hwfx53q57rz91nm4rvr40000gn/T/ipykernel_83190/3511079560.py\" target=\"_blank\"><span style=\"color: #008080; text-decoration-color: #008080; font-weight: bold\">3511079560.py</span></a><span style=\"color: #008080; text-decoration-color: #008080; font-weight: bold\">:</span><a href=\"file:///var/folders/j5/qcb5hwfx53q57rz91nm4rvr40000gn/T/ipykernel_83190/3511079560.py#44\" target=\"_blank\"><span style=\"color: #008080; text-decoration-color: #008080; font-weight: bold\">44</span></a>\n",
       "</pre>\n"
      ],
      "text/plain": [
       "\u001b[2;36m                   \u001b[0m\u001b[2;36m \u001b[0m\u001b[1;34mINFO    \u001b[0m\u001b[1;32m \u001b[0m\u001b[1m[\u001b[0m\u001b[1;36m3511079560.\u001b[0mpy:\u001b[1;36m44\u001b[0m\u001b[1m]\u001b[0m Creating heatmap visualization\u001b[33m...\u001b[0m                  \u001b]8;id=974978;file:///var/folders/j5/qcb5hwfx53q57rz91nm4rvr40000gn/T/ipykernel_83190/3511079560.py\u001b\\\u001b[1;36m3511079560.py\u001b[0m\u001b]8;;\u001b\\\u001b[1;36m:\u001b[0m\u001b]8;id=922166;file:///var/folders/j5/qcb5hwfx53q57rz91nm4rvr40000gn/T/ipykernel_83190/3511079560.py#44\u001b\\\u001b[1;36m44\u001b[0m\u001b]8;;\u001b\\\n"
      ]
     },
     "metadata": {},
     "output_type": "display_data"
    },
    {
     "data": {
      "text/html": [
       "<pre style=\"white-space:pre;overflow-x:auto;line-height:normal;font-family:Menlo,'DejaVu Sans Mono',consolas,'Courier New',monospace\"><span style=\"color: #7fbfbf; text-decoration-color: #7fbfbf\">                    </span><span style=\"color: #000080; text-decoration-color: #000080; font-weight: bold\">INFO    </span><span style=\"color: #008000; text-decoration-color: #008000; font-weight: bold\"> </span><span style=\"font-weight: bold\">[</span><span style=\"color: #008080; text-decoration-color: #008080; font-weight: bold\">3511079560.</span>py:<span style=\"color: #008080; text-decoration-color: #008080; font-weight: bold\">50</span><span style=\"font-weight: bold\">]</span> Creating heatmap visualization<span style=\"color: #808000; text-decoration-color: #808000\">...</span>                  <a href=\"file:///var/folders/j5/qcb5hwfx53q57rz91nm4rvr40000gn/T/ipykernel_83190/3511079560.py\" target=\"_blank\"><span style=\"color: #008080; text-decoration-color: #008080; font-weight: bold\">3511079560.py</span></a><span style=\"color: #008080; text-decoration-color: #008080; font-weight: bold\">:</span><a href=\"file:///var/folders/j5/qcb5hwfx53q57rz91nm4rvr40000gn/T/ipykernel_83190/3511079560.py#50\" target=\"_blank\"><span style=\"color: #008080; text-decoration-color: #008080; font-weight: bold\">50</span></a>\n",
       "</pre>\n"
      ],
      "text/plain": [
       "\u001b[2;36m                   \u001b[0m\u001b[2;36m \u001b[0m\u001b[1;34mINFO    \u001b[0m\u001b[1;32m \u001b[0m\u001b[1m[\u001b[0m\u001b[1;36m3511079560.\u001b[0mpy:\u001b[1;36m50\u001b[0m\u001b[1m]\u001b[0m Creating heatmap visualization\u001b[33m...\u001b[0m                  \u001b]8;id=350673;file:///var/folders/j5/qcb5hwfx53q57rz91nm4rvr40000gn/T/ipykernel_83190/3511079560.py\u001b\\\u001b[1;36m3511079560.py\u001b[0m\u001b]8;;\u001b\\\u001b[1;36m:\u001b[0m\u001b]8;id=817349;file:///var/folders/j5/qcb5hwfx53q57rz91nm4rvr40000gn/T/ipykernel_83190/3511079560.py#50\u001b\\\u001b[1;36m50\u001b[0m\u001b]8;;\u001b\\\n"
      ]
     },
     "metadata": {},
     "output_type": "display_data"
    },
    {
     "name": "stdout",
     "output_type": "stream",
     "text": [
      "Row labels length: 19\n",
      "Col labels length: 17\n"
     ]
    },
    {
     "data": {
      "text/html": [
       "<pre style=\"white-space:pre;overflow-x:auto;line-height:normal;font-family:Menlo,'DejaVu Sans Mono',consolas,'Courier New',monospace\"><span style=\"color: #7fbfbf; text-decoration-color: #7fbfbf\">                    </span><span style=\"color: #000080; text-decoration-color: #000080; font-weight: bold\">INFO    </span><span style=\"color: #008000; text-decoration-color: #008000; font-weight: bold\"> </span><span style=\"font-weight: bold\">[</span><span style=\"color: #008080; text-decoration-color: #008080; font-weight: bold\">3511079560.</span>py:<span style=\"color: #008080; text-decoration-color: #008080; font-weight: bold\">44</span><span style=\"font-weight: bold\">]</span> Creating heatmap visualization<span style=\"color: #808000; text-decoration-color: #808000\">...</span>                  <a href=\"file:///var/folders/j5/qcb5hwfx53q57rz91nm4rvr40000gn/T/ipykernel_83190/3511079560.py\" target=\"_blank\"><span style=\"color: #008080; text-decoration-color: #008080; font-weight: bold\">3511079560.py</span></a><span style=\"color: #008080; text-decoration-color: #008080; font-weight: bold\">:</span><a href=\"file:///var/folders/j5/qcb5hwfx53q57rz91nm4rvr40000gn/T/ipykernel_83190/3511079560.py#44\" target=\"_blank\"><span style=\"color: #008080; text-decoration-color: #008080; font-weight: bold\">44</span></a>\n",
       "</pre>\n"
      ],
      "text/plain": [
       "\u001b[2;36m                   \u001b[0m\u001b[2;36m \u001b[0m\u001b[1;34mINFO    \u001b[0m\u001b[1;32m \u001b[0m\u001b[1m[\u001b[0m\u001b[1;36m3511079560.\u001b[0mpy:\u001b[1;36m44\u001b[0m\u001b[1m]\u001b[0m Creating heatmap visualization\u001b[33m...\u001b[0m                  \u001b]8;id=275001;file:///var/folders/j5/qcb5hwfx53q57rz91nm4rvr40000gn/T/ipykernel_83190/3511079560.py\u001b\\\u001b[1;36m3511079560.py\u001b[0m\u001b]8;;\u001b\\\u001b[1;36m:\u001b[0m\u001b]8;id=535058;file:///var/folders/j5/qcb5hwfx53q57rz91nm4rvr40000gn/T/ipykernel_83190/3511079560.py#44\u001b\\\u001b[1;36m44\u001b[0m\u001b]8;;\u001b\\\n"
      ]
     },
     "metadata": {},
     "output_type": "display_data"
    },
    {
     "data": {
      "text/html": [
       "<pre style=\"white-space:pre;overflow-x:auto;line-height:normal;font-family:Menlo,'DejaVu Sans Mono',consolas,'Courier New',monospace\"><span style=\"color: #7fbfbf; text-decoration-color: #7fbfbf\">                    </span><span style=\"color: #000080; text-decoration-color: #000080; font-weight: bold\">INFO    </span><span style=\"color: #008000; text-decoration-color: #008000; font-weight: bold\"> </span><span style=\"font-weight: bold\">[</span><span style=\"color: #008080; text-decoration-color: #008080; font-weight: bold\">3511079560.</span>py:<span style=\"color: #008080; text-decoration-color: #008080; font-weight: bold\">50</span><span style=\"font-weight: bold\">]</span> Creating heatmap visualization<span style=\"color: #808000; text-decoration-color: #808000\">...</span>                  <a href=\"file:///var/folders/j5/qcb5hwfx53q57rz91nm4rvr40000gn/T/ipykernel_83190/3511079560.py\" target=\"_blank\"><span style=\"color: #008080; text-decoration-color: #008080; font-weight: bold\">3511079560.py</span></a><span style=\"color: #008080; text-decoration-color: #008080; font-weight: bold\">:</span><a href=\"file:///var/folders/j5/qcb5hwfx53q57rz91nm4rvr40000gn/T/ipykernel_83190/3511079560.py#50\" target=\"_blank\"><span style=\"color: #008080; text-decoration-color: #008080; font-weight: bold\">50</span></a>\n",
       "</pre>\n"
      ],
      "text/plain": [
       "\u001b[2;36m                   \u001b[0m\u001b[2;36m \u001b[0m\u001b[1;34mINFO    \u001b[0m\u001b[1;32m \u001b[0m\u001b[1m[\u001b[0m\u001b[1;36m3511079560.\u001b[0mpy:\u001b[1;36m50\u001b[0m\u001b[1m]\u001b[0m Creating heatmap visualization\u001b[33m...\u001b[0m                  \u001b]8;id=14057;file:///var/folders/j5/qcb5hwfx53q57rz91nm4rvr40000gn/T/ipykernel_83190/3511079560.py\u001b\\\u001b[1;36m3511079560.py\u001b[0m\u001b]8;;\u001b\\\u001b[1;36m:\u001b[0m\u001b]8;id=191620;file:///var/folders/j5/qcb5hwfx53q57rz91nm4rvr40000gn/T/ipykernel_83190/3511079560.py#50\u001b\\\u001b[1;36m50\u001b[0m\u001b]8;;\u001b\\\n"
      ]
     },
     "metadata": {},
     "output_type": "display_data"
    },
    {
     "name": "stdout",
     "output_type": "stream",
     "text": [
      "Row labels length: 19\n",
      "Col labels length: 17\n"
     ]
    },
    {
     "data": {
      "text/html": [
       "<pre style=\"white-space:pre;overflow-x:auto;line-height:normal;font-family:Menlo,'DejaVu Sans Mono',consolas,'Courier New',monospace\"><span style=\"color: #7fbfbf; text-decoration-color: #7fbfbf\">                    </span><span style=\"color: #000080; text-decoration-color: #000080; font-weight: bold\">INFO    </span><span style=\"color: #008000; text-decoration-color: #008000; font-weight: bold\"> </span><span style=\"font-weight: bold\">[</span><span style=\"color: #008080; text-decoration-color: #008080; font-weight: bold\">3511079560.</span>py:<span style=\"color: #008080; text-decoration-color: #008080; font-weight: bold\">44</span><span style=\"font-weight: bold\">]</span> Creating heatmap visualization<span style=\"color: #808000; text-decoration-color: #808000\">...</span>                  <a href=\"file:///var/folders/j5/qcb5hwfx53q57rz91nm4rvr40000gn/T/ipykernel_83190/3511079560.py\" target=\"_blank\"><span style=\"color: #008080; text-decoration-color: #008080; font-weight: bold\">3511079560.py</span></a><span style=\"color: #008080; text-decoration-color: #008080; font-weight: bold\">:</span><a href=\"file:///var/folders/j5/qcb5hwfx53q57rz91nm4rvr40000gn/T/ipykernel_83190/3511079560.py#44\" target=\"_blank\"><span style=\"color: #008080; text-decoration-color: #008080; font-weight: bold\">44</span></a>\n",
       "</pre>\n"
      ],
      "text/plain": [
       "\u001b[2;36m                   \u001b[0m\u001b[2;36m \u001b[0m\u001b[1;34mINFO    \u001b[0m\u001b[1;32m \u001b[0m\u001b[1m[\u001b[0m\u001b[1;36m3511079560.\u001b[0mpy:\u001b[1;36m44\u001b[0m\u001b[1m]\u001b[0m Creating heatmap visualization\u001b[33m...\u001b[0m                  \u001b]8;id=924442;file:///var/folders/j5/qcb5hwfx53q57rz91nm4rvr40000gn/T/ipykernel_83190/3511079560.py\u001b\\\u001b[1;36m3511079560.py\u001b[0m\u001b]8;;\u001b\\\u001b[1;36m:\u001b[0m\u001b]8;id=445575;file:///var/folders/j5/qcb5hwfx53q57rz91nm4rvr40000gn/T/ipykernel_83190/3511079560.py#44\u001b\\\u001b[1;36m44\u001b[0m\u001b]8;;\u001b\\\n"
      ]
     },
     "metadata": {},
     "output_type": "display_data"
    },
    {
     "data": {
      "text/html": [
       "<pre style=\"white-space:pre;overflow-x:auto;line-height:normal;font-family:Menlo,'DejaVu Sans Mono',consolas,'Courier New',monospace\"><span style=\"color: #7fbfbf; text-decoration-color: #7fbfbf\">                    </span><span style=\"color: #000080; text-decoration-color: #000080; font-weight: bold\">INFO    </span><span style=\"color: #008000; text-decoration-color: #008000; font-weight: bold\"> </span><span style=\"font-weight: bold\">[</span><span style=\"color: #008080; text-decoration-color: #008080; font-weight: bold\">3511079560.</span>py:<span style=\"color: #008080; text-decoration-color: #008080; font-weight: bold\">50</span><span style=\"font-weight: bold\">]</span> Creating heatmap visualization<span style=\"color: #808000; text-decoration-color: #808000\">...</span>                  <a href=\"file:///var/folders/j5/qcb5hwfx53q57rz91nm4rvr40000gn/T/ipykernel_83190/3511079560.py\" target=\"_blank\"><span style=\"color: #008080; text-decoration-color: #008080; font-weight: bold\">3511079560.py</span></a><span style=\"color: #008080; text-decoration-color: #008080; font-weight: bold\">:</span><a href=\"file:///var/folders/j5/qcb5hwfx53q57rz91nm4rvr40000gn/T/ipykernel_83190/3511079560.py#50\" target=\"_blank\"><span style=\"color: #008080; text-decoration-color: #008080; font-weight: bold\">50</span></a>\n",
       "</pre>\n"
      ],
      "text/plain": [
       "\u001b[2;36m                   \u001b[0m\u001b[2;36m \u001b[0m\u001b[1;34mINFO    \u001b[0m\u001b[1;32m \u001b[0m\u001b[1m[\u001b[0m\u001b[1;36m3511079560.\u001b[0mpy:\u001b[1;36m50\u001b[0m\u001b[1m]\u001b[0m Creating heatmap visualization\u001b[33m...\u001b[0m                  \u001b]8;id=172991;file:///var/folders/j5/qcb5hwfx53q57rz91nm4rvr40000gn/T/ipykernel_83190/3511079560.py\u001b\\\u001b[1;36m3511079560.py\u001b[0m\u001b]8;;\u001b\\\u001b[1;36m:\u001b[0m\u001b]8;id=467114;file:///var/folders/j5/qcb5hwfx53q57rz91nm4rvr40000gn/T/ipykernel_83190/3511079560.py#50\u001b\\\u001b[1;36m50\u001b[0m\u001b]8;;\u001b\\\n"
      ]
     },
     "metadata": {},
     "output_type": "display_data"
    },
    {
     "name": "stdout",
     "output_type": "stream",
     "text": [
      "Row labels length: 19\n",
      "Col labels length: 17\n"
     ]
    },
    {
     "data": {
      "text/html": [
       "<pre style=\"white-space:pre;overflow-x:auto;line-height:normal;font-family:Menlo,'DejaVu Sans Mono',consolas,'Courier New',monospace\"><span style=\"color: #7fbfbf; text-decoration-color: #7fbfbf\">                    </span><span style=\"color: #000080; text-decoration-color: #000080; font-weight: bold\">INFO    </span><span style=\"color: #008000; text-decoration-color: #008000; font-weight: bold\"> </span><span style=\"font-weight: bold\">[</span><span style=\"color: #008080; text-decoration-color: #008080; font-weight: bold\">3511079560.</span>py:<span style=\"color: #008080; text-decoration-color: #008080; font-weight: bold\">44</span><span style=\"font-weight: bold\">]</span> Creating heatmap visualization<span style=\"color: #808000; text-decoration-color: #808000\">...</span>                  <a href=\"file:///var/folders/j5/qcb5hwfx53q57rz91nm4rvr40000gn/T/ipykernel_83190/3511079560.py\" target=\"_blank\"><span style=\"color: #008080; text-decoration-color: #008080; font-weight: bold\">3511079560.py</span></a><span style=\"color: #008080; text-decoration-color: #008080; font-weight: bold\">:</span><a href=\"file:///var/folders/j5/qcb5hwfx53q57rz91nm4rvr40000gn/T/ipykernel_83190/3511079560.py#44\" target=\"_blank\"><span style=\"color: #008080; text-decoration-color: #008080; font-weight: bold\">44</span></a>\n",
       "</pre>\n"
      ],
      "text/plain": [
       "\u001b[2;36m                   \u001b[0m\u001b[2;36m \u001b[0m\u001b[1;34mINFO    \u001b[0m\u001b[1;32m \u001b[0m\u001b[1m[\u001b[0m\u001b[1;36m3511079560.\u001b[0mpy:\u001b[1;36m44\u001b[0m\u001b[1m]\u001b[0m Creating heatmap visualization\u001b[33m...\u001b[0m                  \u001b]8;id=64275;file:///var/folders/j5/qcb5hwfx53q57rz91nm4rvr40000gn/T/ipykernel_83190/3511079560.py\u001b\\\u001b[1;36m3511079560.py\u001b[0m\u001b]8;;\u001b\\\u001b[1;36m:\u001b[0m\u001b]8;id=499302;file:///var/folders/j5/qcb5hwfx53q57rz91nm4rvr40000gn/T/ipykernel_83190/3511079560.py#44\u001b\\\u001b[1;36m44\u001b[0m\u001b]8;;\u001b\\\n"
      ]
     },
     "metadata": {},
     "output_type": "display_data"
    },
    {
     "data": {
      "text/html": [
       "<pre style=\"white-space:pre;overflow-x:auto;line-height:normal;font-family:Menlo,'DejaVu Sans Mono',consolas,'Courier New',monospace\"><span style=\"color: #7fbfbf; text-decoration-color: #7fbfbf\">                    </span><span style=\"color: #000080; text-decoration-color: #000080; font-weight: bold\">INFO    </span><span style=\"color: #008000; text-decoration-color: #008000; font-weight: bold\"> </span><span style=\"font-weight: bold\">[</span><span style=\"color: #008080; text-decoration-color: #008080; font-weight: bold\">3511079560.</span>py:<span style=\"color: #008080; text-decoration-color: #008080; font-weight: bold\">50</span><span style=\"font-weight: bold\">]</span> Creating heatmap visualization<span style=\"color: #808000; text-decoration-color: #808000\">...</span>                  <a href=\"file:///var/folders/j5/qcb5hwfx53q57rz91nm4rvr40000gn/T/ipykernel_83190/3511079560.py\" target=\"_blank\"><span style=\"color: #008080; text-decoration-color: #008080; font-weight: bold\">3511079560.py</span></a><span style=\"color: #008080; text-decoration-color: #008080; font-weight: bold\">:</span><a href=\"file:///var/folders/j5/qcb5hwfx53q57rz91nm4rvr40000gn/T/ipykernel_83190/3511079560.py#50\" target=\"_blank\"><span style=\"color: #008080; text-decoration-color: #008080; font-weight: bold\">50</span></a>\n",
       "</pre>\n"
      ],
      "text/plain": [
       "\u001b[2;36m                   \u001b[0m\u001b[2;36m \u001b[0m\u001b[1;34mINFO    \u001b[0m\u001b[1;32m \u001b[0m\u001b[1m[\u001b[0m\u001b[1;36m3511079560.\u001b[0mpy:\u001b[1;36m50\u001b[0m\u001b[1m]\u001b[0m Creating heatmap visualization\u001b[33m...\u001b[0m                  \u001b]8;id=958266;file:///var/folders/j5/qcb5hwfx53q57rz91nm4rvr40000gn/T/ipykernel_83190/3511079560.py\u001b\\\u001b[1;36m3511079560.py\u001b[0m\u001b]8;;\u001b\\\u001b[1;36m:\u001b[0m\u001b]8;id=310826;file:///var/folders/j5/qcb5hwfx53q57rz91nm4rvr40000gn/T/ipykernel_83190/3511079560.py#50\u001b\\\u001b[1;36m50\u001b[0m\u001b]8;;\u001b\\\n"
      ]
     },
     "metadata": {},
     "output_type": "display_data"
    },
    {
     "name": "stdout",
     "output_type": "stream",
     "text": [
      "Row labels length: 19\n",
      "Col labels length: 17\n"
     ]
    },
    {
     "data": {
      "text/html": [
       "<pre style=\"white-space:pre;overflow-x:auto;line-height:normal;font-family:Menlo,'DejaVu Sans Mono',consolas,'Courier New',monospace\"><span style=\"color: #7fbfbf; text-decoration-color: #7fbfbf\">                    </span><span style=\"color: #000080; text-decoration-color: #000080; font-weight: bold\">INFO    </span><span style=\"color: #008000; text-decoration-color: #008000; font-weight: bold\"> </span> Saving HTML figure to                                               <a href=\"file:///Users/4gate/git/embedding_translation/src/viz/save_figure.py\" target=\"_blank\"><span style=\"color: #008080; text-decoration-color: #008080; font-weight: bold\">save_figure.py</span></a><span style=\"color: #008080; text-decoration-color: #008080; font-weight: bold\">:</span><a href=\"file:///Users/4gate/git/embedding_translation/src/viz/save_figure.py#32\" target=\"_blank\"><span style=\"color: #008080; text-decoration-color: #008080; font-weight: bold\">32</span></a>\n",
       "<span style=\"color: #7fbfbf; text-decoration-color: #7fbfbf\">                    </span><span style=\"color: #008000; text-decoration-color: #008000; font-weight: bold\">         </span><span style=\"color: #800080; text-decoration-color: #800080\">/Users/4gate/git/embedding_translation/data/figs/html/</span><span style=\"color: #ff00ff; text-decoration-color: #ff00ff\">nfcorpus_lord_</span> <span style=\"color: #008080; text-decoration-color: #008080; font-weight: bold\">                 </span>\n",
       "<span style=\"color: #7fbfbf; text-decoration-color: #7fbfbf\">                    </span><span style=\"color: #008000; text-decoration-color: #008000; font-weight: bold\">         </span><span style=\"color: #ff00ff; text-decoration-color: #ff00ff\">farquad_was_heren.html</span>                                               <span style=\"color: #008080; text-decoration-color: #008080; font-weight: bold\">                 </span>\n",
       "</pre>\n"
      ],
      "text/plain": [
       "\u001b[2;36m                   \u001b[0m\u001b[2;36m \u001b[0m\u001b[1;34mINFO    \u001b[0m\u001b[1;32m \u001b[0m Saving HTML figure to                                               \u001b]8;id=273515;file:///Users/4gate/git/embedding_translation/src/viz/save_figure.py\u001b\\\u001b[1;36msave_figure.py\u001b[0m\u001b]8;;\u001b\\\u001b[1;36m:\u001b[0m\u001b]8;id=589929;file:///Users/4gate/git/embedding_translation/src/viz/save_figure.py#32\u001b\\\u001b[1;36m32\u001b[0m\u001b]8;;\u001b\\\n",
       "\u001b[2;36m                    \u001b[0m\u001b[1;32m         \u001b[0m\u001b[35m/Users/4gate/git/embedding_translation/data/figs/html/\u001b[0m\u001b[95mnfcorpus_lord_\u001b[0m \u001b[1;36m                 \u001b[0m\n",
       "\u001b[2;36m                    \u001b[0m\u001b[1;32m         \u001b[0m\u001b[95mfarquad_was_heren.html\u001b[0m                                               \u001b[1;36m                 \u001b[0m\n"
      ]
     },
     "metadata": {},
     "output_type": "display_data"
    },
    {
     "data": {
      "text/html": [
       "<pre style=\"white-space:pre;overflow-x:auto;line-height:normal;font-family:Menlo,'DejaVu Sans Mono',consolas,'Courier New',monospace\"><span style=\"color: #7fbfbf; text-decoration-color: #7fbfbf\">                    </span><span style=\"color: #008000; text-decoration-color: #008000; font-weight: bold\">SUCCESS  </span> Successfully saved HTML to                                          <a href=\"file:///Users/4gate/git/embedding_translation/src/viz/save_figure.py\" target=\"_blank\"><span style=\"color: #008080; text-decoration-color: #008080; font-weight: bold\">save_figure.py</span></a><span style=\"color: #008080; text-decoration-color: #008080; font-weight: bold\">:</span><a href=\"file:///Users/4gate/git/embedding_translation/src/viz/save_figure.py#40\" target=\"_blank\"><span style=\"color: #008080; text-decoration-color: #008080; font-weight: bold\">40</span></a>\n",
       "<span style=\"color: #7fbfbf; text-decoration-color: #7fbfbf\">                    </span><span style=\"color: #008000; text-decoration-color: #008000; font-weight: bold\">         </span><span style=\"color: #800080; text-decoration-color: #800080\">/Users/4gate/git/embedding_translation/data/figs/html/</span><span style=\"color: #ff00ff; text-decoration-color: #ff00ff\">nfcorpus_lord_</span> <span style=\"color: #008080; text-decoration-color: #008080; font-weight: bold\">                 </span>\n",
       "<span style=\"color: #7fbfbf; text-decoration-color: #7fbfbf\">                    </span><span style=\"color: #008000; text-decoration-color: #008000; font-weight: bold\">         </span><span style=\"color: #ff00ff; text-decoration-color: #ff00ff\">farquad_was_heren.html</span>                                               <span style=\"color: #008080; text-decoration-color: #008080; font-weight: bold\">                 </span>\n",
       "</pre>\n"
      ],
      "text/plain": [
       "\u001b[2;36m                   \u001b[0m\u001b[2;36m \u001b[0m\u001b[1;32mSUCCESS \u001b[0m\u001b[1;32m \u001b[0m Successfully saved HTML to                                          \u001b]8;id=923770;file:///Users/4gate/git/embedding_translation/src/viz/save_figure.py\u001b\\\u001b[1;36msave_figure.py\u001b[0m\u001b]8;;\u001b\\\u001b[1;36m:\u001b[0m\u001b]8;id=51083;file:///Users/4gate/git/embedding_translation/src/viz/save_figure.py#40\u001b\\\u001b[1;36m40\u001b[0m\u001b]8;;\u001b\\\n",
       "\u001b[2;36m                    \u001b[0m\u001b[1;32m         \u001b[0m\u001b[35m/Users/4gate/git/embedding_translation/data/figs/html/\u001b[0m\u001b[95mnfcorpus_lord_\u001b[0m \u001b[1;36m                 \u001b[0m\n",
       "\u001b[2;36m                    \u001b[0m\u001b[1;32m         \u001b[0m\u001b[95mfarquad_was_heren.html\u001b[0m                                               \u001b[1;36m                 \u001b[0m\n"
      ]
     },
     "metadata": {},
     "output_type": "display_data"
    },
    {
     "data": {
      "text/html": [
       "<pre style=\"white-space:pre;overflow-x:auto;line-height:normal;font-family:Menlo,'DejaVu Sans Mono',consolas,'Courier New',monospace\"><span style=\"color: #7fbfbf; text-decoration-color: #7fbfbf\">                    </span><span style=\"color: #000080; text-decoration-color: #000080; font-weight: bold\">INFO    </span><span style=\"color: #008000; text-decoration-color: #008000; font-weight: bold\"> </span> Saving PNG figure to                                                <a href=\"file:///Users/4gate/git/embedding_translation/src/viz/save_figure.py\" target=\"_blank\"><span style=\"color: #008080; text-decoration-color: #008080; font-weight: bold\">save_figure.py</span></a><span style=\"color: #008080; text-decoration-color: #008080; font-weight: bold\">:</span><a href=\"file:///Users/4gate/git/embedding_translation/src/viz/save_figure.py#67\" target=\"_blank\"><span style=\"color: #008080; text-decoration-color: #008080; font-weight: bold\">67</span></a>\n",
       "<span style=\"color: #7fbfbf; text-decoration-color: #7fbfbf\">                    </span><span style=\"color: #008000; text-decoration-color: #008000; font-weight: bold\">         </span><span style=\"color: #800080; text-decoration-color: #800080\">/Users/4gate/git/embedding_translation/data/figs/imgs/</span><span style=\"color: #ff00ff; text-decoration-color: #ff00ff\">nfcorpus_lord_</span> <span style=\"color: #008080; text-decoration-color: #008080; font-weight: bold\">                 </span>\n",
       "<span style=\"color: #7fbfbf; text-decoration-color: #7fbfbf\">                    </span><span style=\"color: #008000; text-decoration-color: #008000; font-weight: bold\">         </span><span style=\"color: #ff00ff; text-decoration-color: #ff00ff\">farquad_was_heren.png</span>                                                <span style=\"color: #008080; text-decoration-color: #008080; font-weight: bold\">                 </span>\n",
       "</pre>\n"
      ],
      "text/plain": [
       "\u001b[2;36m                   \u001b[0m\u001b[2;36m \u001b[0m\u001b[1;34mINFO    \u001b[0m\u001b[1;32m \u001b[0m Saving PNG figure to                                                \u001b]8;id=980652;file:///Users/4gate/git/embedding_translation/src/viz/save_figure.py\u001b\\\u001b[1;36msave_figure.py\u001b[0m\u001b]8;;\u001b\\\u001b[1;36m:\u001b[0m\u001b]8;id=851848;file:///Users/4gate/git/embedding_translation/src/viz/save_figure.py#67\u001b\\\u001b[1;36m67\u001b[0m\u001b]8;;\u001b\\\n",
       "\u001b[2;36m                    \u001b[0m\u001b[1;32m         \u001b[0m\u001b[35m/Users/4gate/git/embedding_translation/data/figs/imgs/\u001b[0m\u001b[95mnfcorpus_lord_\u001b[0m \u001b[1;36m                 \u001b[0m\n",
       "\u001b[2;36m                    \u001b[0m\u001b[1;32m         \u001b[0m\u001b[95mfarquad_was_heren.png\u001b[0m                                                \u001b[1;36m                 \u001b[0m\n"
      ]
     },
     "metadata": {},
     "output_type": "display_data"
    },
    {
     "data": {
      "text/html": [
       "<pre style=\"white-space:pre;overflow-x:auto;line-height:normal;font-family:Menlo,'DejaVu Sans Mono',consolas,'Courier New',monospace\"><span style=\"color: #7fbfbf; text-decoration-color: #7fbfbf\">[12/14/24 03:15:48] </span><span style=\"color: #008000; text-decoration-color: #008000; font-weight: bold\">SUCCESS  </span> Successfully saved PNG to                                           <a href=\"file:///Users/4gate/git/embedding_translation/src/viz/save_figure.py\" target=\"_blank\"><span style=\"color: #008080; text-decoration-color: #008080; font-weight: bold\">save_figure.py</span></a><span style=\"color: #008080; text-decoration-color: #008080; font-weight: bold\">:</span><a href=\"file:///Users/4gate/git/embedding_translation/src/viz/save_figure.py#76\" target=\"_blank\"><span style=\"color: #008080; text-decoration-color: #008080; font-weight: bold\">76</span></a>\n",
       "<span style=\"color: #7fbfbf; text-decoration-color: #7fbfbf\">                    </span><span style=\"color: #008000; text-decoration-color: #008000; font-weight: bold\">         </span><span style=\"color: #800080; text-decoration-color: #800080\">/Users/4gate/git/embedding_translation/data/figs/imgs/</span><span style=\"color: #ff00ff; text-decoration-color: #ff00ff\">nfcorpus_lord_</span> <span style=\"color: #008080; text-decoration-color: #008080; font-weight: bold\">                 </span>\n",
       "<span style=\"color: #7fbfbf; text-decoration-color: #7fbfbf\">                    </span><span style=\"color: #008000; text-decoration-color: #008000; font-weight: bold\">         </span><span style=\"color: #ff00ff; text-decoration-color: #ff00ff\">farquad_was_heren.png</span>                                                <span style=\"color: #008080; text-decoration-color: #008080; font-weight: bold\">                 </span>\n",
       "</pre>\n"
      ],
      "text/plain": [
       "\u001b[2;36m[12/14/24 03:15:48]\u001b[0m\u001b[2;36m \u001b[0m\u001b[1;32mSUCCESS \u001b[0m\u001b[1;32m \u001b[0m Successfully saved PNG to                                           \u001b]8;id=732437;file:///Users/4gate/git/embedding_translation/src/viz/save_figure.py\u001b\\\u001b[1;36msave_figure.py\u001b[0m\u001b]8;;\u001b\\\u001b[1;36m:\u001b[0m\u001b]8;id=833690;file:///Users/4gate/git/embedding_translation/src/viz/save_figure.py#76\u001b\\\u001b[1;36m76\u001b[0m\u001b]8;;\u001b\\\n",
       "\u001b[2;36m                    \u001b[0m\u001b[1;32m         \u001b[0m\u001b[35m/Users/4gate/git/embedding_translation/data/figs/imgs/\u001b[0m\u001b[95mnfcorpus_lord_\u001b[0m \u001b[1;36m                 \u001b[0m\n",
       "\u001b[2;36m                    \u001b[0m\u001b[1;32m         \u001b[0m\u001b[95mfarquad_was_heren.png\u001b[0m                                                \u001b[1;36m                 \u001b[0m\n"
      ]
     },
     "metadata": {},
     "output_type": "display_data"
    },
    {
     "data": {
      "text/html": [
       "<pre style=\"white-space:pre;overflow-x:auto;line-height:normal;font-family:Menlo,'DejaVu Sans Mono',consolas,'Courier New',monospace\"><span style=\"color: #7fbfbf; text-decoration-color: #7fbfbf\">                    </span><span style=\"color: #000080; text-decoration-color: #000080; font-weight: bold\">INFO    </span><span style=\"color: #008000; text-decoration-color: #008000; font-weight: bold\"> </span><span style=\"font-weight: bold\">[</span><span style=\"color: #008080; text-decoration-color: #008080; font-weight: bold\">3511079560.</span>py:<span style=\"color: #008080; text-decoration-color: #008080; font-weight: bold\">44</span><span style=\"font-weight: bold\">]</span> Creating heatmap visualization<span style=\"color: #808000; text-decoration-color: #808000\">...</span>                  <a href=\"file:///var/folders/j5/qcb5hwfx53q57rz91nm4rvr40000gn/T/ipykernel_83190/3511079560.py\" target=\"_blank\"><span style=\"color: #008080; text-decoration-color: #008080; font-weight: bold\">3511079560.py</span></a><span style=\"color: #008080; text-decoration-color: #008080; font-weight: bold\">:</span><a href=\"file:///var/folders/j5/qcb5hwfx53q57rz91nm4rvr40000gn/T/ipykernel_83190/3511079560.py#44\" target=\"_blank\"><span style=\"color: #008080; text-decoration-color: #008080; font-weight: bold\">44</span></a>\n",
       "</pre>\n"
      ],
      "text/plain": [
       "\u001b[2;36m                   \u001b[0m\u001b[2;36m \u001b[0m\u001b[1;34mINFO    \u001b[0m\u001b[1;32m \u001b[0m\u001b[1m[\u001b[0m\u001b[1;36m3511079560.\u001b[0mpy:\u001b[1;36m44\u001b[0m\u001b[1m]\u001b[0m Creating heatmap visualization\u001b[33m...\u001b[0m                  \u001b]8;id=338677;file:///var/folders/j5/qcb5hwfx53q57rz91nm4rvr40000gn/T/ipykernel_83190/3511079560.py\u001b\\\u001b[1;36m3511079560.py\u001b[0m\u001b]8;;\u001b\\\u001b[1;36m:\u001b[0m\u001b]8;id=787804;file:///var/folders/j5/qcb5hwfx53q57rz91nm4rvr40000gn/T/ipykernel_83190/3511079560.py#44\u001b\\\u001b[1;36m44\u001b[0m\u001b]8;;\u001b\\\n"
      ]
     },
     "metadata": {},
     "output_type": "display_data"
    },
    {
     "data": {
      "text/html": [
       "<pre style=\"white-space:pre;overflow-x:auto;line-height:normal;font-family:Menlo,'DejaVu Sans Mono',consolas,'Courier New',monospace\"><span style=\"color: #7fbfbf; text-decoration-color: #7fbfbf\">                    </span><span style=\"color: #000080; text-decoration-color: #000080; font-weight: bold\">INFO    </span><span style=\"color: #008000; text-decoration-color: #008000; font-weight: bold\"> </span><span style=\"font-weight: bold\">[</span><span style=\"color: #008080; text-decoration-color: #008080; font-weight: bold\">3511079560.</span>py:<span style=\"color: #008080; text-decoration-color: #008080; font-weight: bold\">50</span><span style=\"font-weight: bold\">]</span> Creating heatmap visualization<span style=\"color: #808000; text-decoration-color: #808000\">...</span>                  <a href=\"file:///var/folders/j5/qcb5hwfx53q57rz91nm4rvr40000gn/T/ipykernel_83190/3511079560.py\" target=\"_blank\"><span style=\"color: #008080; text-decoration-color: #008080; font-weight: bold\">3511079560.py</span></a><span style=\"color: #008080; text-decoration-color: #008080; font-weight: bold\">:</span><a href=\"file:///var/folders/j5/qcb5hwfx53q57rz91nm4rvr40000gn/T/ipykernel_83190/3511079560.py#50\" target=\"_blank\"><span style=\"color: #008080; text-decoration-color: #008080; font-weight: bold\">50</span></a>\n",
       "</pre>\n"
      ],
      "text/plain": [
       "\u001b[2;36m                   \u001b[0m\u001b[2;36m \u001b[0m\u001b[1;34mINFO    \u001b[0m\u001b[1;32m \u001b[0m\u001b[1m[\u001b[0m\u001b[1;36m3511079560.\u001b[0mpy:\u001b[1;36m50\u001b[0m\u001b[1m]\u001b[0m Creating heatmap visualization\u001b[33m...\u001b[0m                  \u001b]8;id=980619;file:///var/folders/j5/qcb5hwfx53q57rz91nm4rvr40000gn/T/ipykernel_83190/3511079560.py\u001b\\\u001b[1;36m3511079560.py\u001b[0m\u001b]8;;\u001b\\\u001b[1;36m:\u001b[0m\u001b]8;id=63751;file:///var/folders/j5/qcb5hwfx53q57rz91nm4rvr40000gn/T/ipykernel_83190/3511079560.py#50\u001b\\\u001b[1;36m50\u001b[0m\u001b]8;;\u001b\\\n"
      ]
     },
     "metadata": {},
     "output_type": "display_data"
    },
    {
     "name": "stdout",
     "output_type": "stream",
     "text": [
      "Row labels length: 19\n",
      "Col labels length: 17\n"
     ]
    },
    {
     "data": {
      "text/html": [
       "<pre style=\"white-space:pre;overflow-x:auto;line-height:normal;font-family:Menlo,'DejaVu Sans Mono',consolas,'Courier New',monospace\"><span style=\"color: #7fbfbf; text-decoration-color: #7fbfbf\">                    </span><span style=\"color: #000080; text-decoration-color: #000080; font-weight: bold\">INFO    </span><span style=\"color: #008000; text-decoration-color: #008000; font-weight: bold\"> </span><span style=\"font-weight: bold\">[</span><span style=\"color: #008080; text-decoration-color: #008080; font-weight: bold\">3511079560.</span>py:<span style=\"color: #008080; text-decoration-color: #008080; font-weight: bold\">44</span><span style=\"font-weight: bold\">]</span> Creating heatmap visualization<span style=\"color: #808000; text-decoration-color: #808000\">...</span>                  <a href=\"file:///var/folders/j5/qcb5hwfx53q57rz91nm4rvr40000gn/T/ipykernel_83190/3511079560.py\" target=\"_blank\"><span style=\"color: #008080; text-decoration-color: #008080; font-weight: bold\">3511079560.py</span></a><span style=\"color: #008080; text-decoration-color: #008080; font-weight: bold\">:</span><a href=\"file:///var/folders/j5/qcb5hwfx53q57rz91nm4rvr40000gn/T/ipykernel_83190/3511079560.py#44\" target=\"_blank\"><span style=\"color: #008080; text-decoration-color: #008080; font-weight: bold\">44</span></a>\n",
       "</pre>\n"
      ],
      "text/plain": [
       "\u001b[2;36m                   \u001b[0m\u001b[2;36m \u001b[0m\u001b[1;34mINFO    \u001b[0m\u001b[1;32m \u001b[0m\u001b[1m[\u001b[0m\u001b[1;36m3511079560.\u001b[0mpy:\u001b[1;36m44\u001b[0m\u001b[1m]\u001b[0m Creating heatmap visualization\u001b[33m...\u001b[0m                  \u001b]8;id=76492;file:///var/folders/j5/qcb5hwfx53q57rz91nm4rvr40000gn/T/ipykernel_83190/3511079560.py\u001b\\\u001b[1;36m3511079560.py\u001b[0m\u001b]8;;\u001b\\\u001b[1;36m:\u001b[0m\u001b]8;id=871096;file:///var/folders/j5/qcb5hwfx53q57rz91nm4rvr40000gn/T/ipykernel_83190/3511079560.py#44\u001b\\\u001b[1;36m44\u001b[0m\u001b]8;;\u001b\\\n"
      ]
     },
     "metadata": {},
     "output_type": "display_data"
    },
    {
     "data": {
      "text/html": [
       "<pre style=\"white-space:pre;overflow-x:auto;line-height:normal;font-family:Menlo,'DejaVu Sans Mono',consolas,'Courier New',monospace\"><span style=\"color: #7fbfbf; text-decoration-color: #7fbfbf\">                    </span><span style=\"color: #000080; text-decoration-color: #000080; font-weight: bold\">INFO    </span><span style=\"color: #008000; text-decoration-color: #008000; font-weight: bold\"> </span><span style=\"font-weight: bold\">[</span><span style=\"color: #008080; text-decoration-color: #008080; font-weight: bold\">3511079560.</span>py:<span style=\"color: #008080; text-decoration-color: #008080; font-weight: bold\">50</span><span style=\"font-weight: bold\">]</span> Creating heatmap visualization<span style=\"color: #808000; text-decoration-color: #808000\">...</span>                  <a href=\"file:///var/folders/j5/qcb5hwfx53q57rz91nm4rvr40000gn/T/ipykernel_83190/3511079560.py\" target=\"_blank\"><span style=\"color: #008080; text-decoration-color: #008080; font-weight: bold\">3511079560.py</span></a><span style=\"color: #008080; text-decoration-color: #008080; font-weight: bold\">:</span><a href=\"file:///var/folders/j5/qcb5hwfx53q57rz91nm4rvr40000gn/T/ipykernel_83190/3511079560.py#50\" target=\"_blank\"><span style=\"color: #008080; text-decoration-color: #008080; font-weight: bold\">50</span></a>\n",
       "</pre>\n"
      ],
      "text/plain": [
       "\u001b[2;36m                   \u001b[0m\u001b[2;36m \u001b[0m\u001b[1;34mINFO    \u001b[0m\u001b[1;32m \u001b[0m\u001b[1m[\u001b[0m\u001b[1;36m3511079560.\u001b[0mpy:\u001b[1;36m50\u001b[0m\u001b[1m]\u001b[0m Creating heatmap visualization\u001b[33m...\u001b[0m                  \u001b]8;id=490652;file:///var/folders/j5/qcb5hwfx53q57rz91nm4rvr40000gn/T/ipykernel_83190/3511079560.py\u001b\\\u001b[1;36m3511079560.py\u001b[0m\u001b]8;;\u001b\\\u001b[1;36m:\u001b[0m\u001b]8;id=477160;file:///var/folders/j5/qcb5hwfx53q57rz91nm4rvr40000gn/T/ipykernel_83190/3511079560.py#50\u001b\\\u001b[1;36m50\u001b[0m\u001b]8;;\u001b\\\n"
      ]
     },
     "metadata": {},
     "output_type": "display_data"
    },
    {
     "name": "stdout",
     "output_type": "stream",
     "text": [
      "Row labels length: 19\n",
      "Col labels length: 17\n"
     ]
    },
    {
     "data": {
      "text/html": [
       "<pre style=\"white-space:pre;overflow-x:auto;line-height:normal;font-family:Menlo,'DejaVu Sans Mono',consolas,'Courier New',monospace\"><span style=\"color: #7fbfbf; text-decoration-color: #7fbfbf\">                    </span><span style=\"color: #000080; text-decoration-color: #000080; font-weight: bold\">INFO    </span><span style=\"color: #008000; text-decoration-color: #008000; font-weight: bold\"> </span><span style=\"font-weight: bold\">[</span><span style=\"color: #008080; text-decoration-color: #008080; font-weight: bold\">3511079560.</span>py:<span style=\"color: #008080; text-decoration-color: #008080; font-weight: bold\">44</span><span style=\"font-weight: bold\">]</span> Creating heatmap visualization<span style=\"color: #808000; text-decoration-color: #808000\">...</span>                  <a href=\"file:///var/folders/j5/qcb5hwfx53q57rz91nm4rvr40000gn/T/ipykernel_83190/3511079560.py\" target=\"_blank\"><span style=\"color: #008080; text-decoration-color: #008080; font-weight: bold\">3511079560.py</span></a><span style=\"color: #008080; text-decoration-color: #008080; font-weight: bold\">:</span><a href=\"file:///var/folders/j5/qcb5hwfx53q57rz91nm4rvr40000gn/T/ipykernel_83190/3511079560.py#44\" target=\"_blank\"><span style=\"color: #008080; text-decoration-color: #008080; font-weight: bold\">44</span></a>\n",
       "</pre>\n"
      ],
      "text/plain": [
       "\u001b[2;36m                   \u001b[0m\u001b[2;36m \u001b[0m\u001b[1;34mINFO    \u001b[0m\u001b[1;32m \u001b[0m\u001b[1m[\u001b[0m\u001b[1;36m3511079560.\u001b[0mpy:\u001b[1;36m44\u001b[0m\u001b[1m]\u001b[0m Creating heatmap visualization\u001b[33m...\u001b[0m                  \u001b]8;id=336759;file:///var/folders/j5/qcb5hwfx53q57rz91nm4rvr40000gn/T/ipykernel_83190/3511079560.py\u001b\\\u001b[1;36m3511079560.py\u001b[0m\u001b]8;;\u001b\\\u001b[1;36m:\u001b[0m\u001b]8;id=653399;file:///var/folders/j5/qcb5hwfx53q57rz91nm4rvr40000gn/T/ipykernel_83190/3511079560.py#44\u001b\\\u001b[1;36m44\u001b[0m\u001b]8;;\u001b\\\n"
      ]
     },
     "metadata": {},
     "output_type": "display_data"
    },
    {
     "data": {
      "text/html": [
       "<pre style=\"white-space:pre;overflow-x:auto;line-height:normal;font-family:Menlo,'DejaVu Sans Mono',consolas,'Courier New',monospace\"><span style=\"color: #7fbfbf; text-decoration-color: #7fbfbf\">                    </span><span style=\"color: #000080; text-decoration-color: #000080; font-weight: bold\">INFO    </span><span style=\"color: #008000; text-decoration-color: #008000; font-weight: bold\"> </span><span style=\"font-weight: bold\">[</span><span style=\"color: #008080; text-decoration-color: #008080; font-weight: bold\">3511079560.</span>py:<span style=\"color: #008080; text-decoration-color: #008080; font-weight: bold\">50</span><span style=\"font-weight: bold\">]</span> Creating heatmap visualization<span style=\"color: #808000; text-decoration-color: #808000\">...</span>                  <a href=\"file:///var/folders/j5/qcb5hwfx53q57rz91nm4rvr40000gn/T/ipykernel_83190/3511079560.py\" target=\"_blank\"><span style=\"color: #008080; text-decoration-color: #008080; font-weight: bold\">3511079560.py</span></a><span style=\"color: #008080; text-decoration-color: #008080; font-weight: bold\">:</span><a href=\"file:///var/folders/j5/qcb5hwfx53q57rz91nm4rvr40000gn/T/ipykernel_83190/3511079560.py#50\" target=\"_blank\"><span style=\"color: #008080; text-decoration-color: #008080; font-weight: bold\">50</span></a>\n",
       "</pre>\n"
      ],
      "text/plain": [
       "\u001b[2;36m                   \u001b[0m\u001b[2;36m \u001b[0m\u001b[1;34mINFO    \u001b[0m\u001b[1;32m \u001b[0m\u001b[1m[\u001b[0m\u001b[1;36m3511079560.\u001b[0mpy:\u001b[1;36m50\u001b[0m\u001b[1m]\u001b[0m Creating heatmap visualization\u001b[33m...\u001b[0m                  \u001b]8;id=455700;file:///var/folders/j5/qcb5hwfx53q57rz91nm4rvr40000gn/T/ipykernel_83190/3511079560.py\u001b\\\u001b[1;36m3511079560.py\u001b[0m\u001b]8;;\u001b\\\u001b[1;36m:\u001b[0m\u001b]8;id=329145;file:///var/folders/j5/qcb5hwfx53q57rz91nm4rvr40000gn/T/ipykernel_83190/3511079560.py#50\u001b\\\u001b[1;36m50\u001b[0m\u001b]8;;\u001b\\\n"
      ]
     },
     "metadata": {},
     "output_type": "display_data"
    },
    {
     "name": "stdout",
     "output_type": "stream",
     "text": [
      "Row labels length: 19\n",
      "Col labels length: 17\n"
     ]
    },
    {
     "data": {
      "text/html": [
       "<pre style=\"white-space:pre;overflow-x:auto;line-height:normal;font-family:Menlo,'DejaVu Sans Mono',consolas,'Courier New',monospace\"><span style=\"color: #7fbfbf; text-decoration-color: #7fbfbf\">                    </span><span style=\"color: #000080; text-decoration-color: #000080; font-weight: bold\">INFO    </span><span style=\"color: #008000; text-decoration-color: #008000; font-weight: bold\"> </span><span style=\"font-weight: bold\">[</span><span style=\"color: #008080; text-decoration-color: #008080; font-weight: bold\">3511079560.</span>py:<span style=\"color: #008080; text-decoration-color: #008080; font-weight: bold\">44</span><span style=\"font-weight: bold\">]</span> Creating heatmap visualization<span style=\"color: #808000; text-decoration-color: #808000\">...</span>                  <a href=\"file:///var/folders/j5/qcb5hwfx53q57rz91nm4rvr40000gn/T/ipykernel_83190/3511079560.py\" target=\"_blank\"><span style=\"color: #008080; text-decoration-color: #008080; font-weight: bold\">3511079560.py</span></a><span style=\"color: #008080; text-decoration-color: #008080; font-weight: bold\">:</span><a href=\"file:///var/folders/j5/qcb5hwfx53q57rz91nm4rvr40000gn/T/ipykernel_83190/3511079560.py#44\" target=\"_blank\"><span style=\"color: #008080; text-decoration-color: #008080; font-weight: bold\">44</span></a>\n",
       "</pre>\n"
      ],
      "text/plain": [
       "\u001b[2;36m                   \u001b[0m\u001b[2;36m \u001b[0m\u001b[1;34mINFO    \u001b[0m\u001b[1;32m \u001b[0m\u001b[1m[\u001b[0m\u001b[1;36m3511079560.\u001b[0mpy:\u001b[1;36m44\u001b[0m\u001b[1m]\u001b[0m Creating heatmap visualization\u001b[33m...\u001b[0m                  \u001b]8;id=502319;file:///var/folders/j5/qcb5hwfx53q57rz91nm4rvr40000gn/T/ipykernel_83190/3511079560.py\u001b\\\u001b[1;36m3511079560.py\u001b[0m\u001b]8;;\u001b\\\u001b[1;36m:\u001b[0m\u001b]8;id=706597;file:///var/folders/j5/qcb5hwfx53q57rz91nm4rvr40000gn/T/ipykernel_83190/3511079560.py#44\u001b\\\u001b[1;36m44\u001b[0m\u001b]8;;\u001b\\\n"
      ]
     },
     "metadata": {},
     "output_type": "display_data"
    },
    {
     "data": {
      "text/html": [
       "<pre style=\"white-space:pre;overflow-x:auto;line-height:normal;font-family:Menlo,'DejaVu Sans Mono',consolas,'Courier New',monospace\"><span style=\"color: #7fbfbf; text-decoration-color: #7fbfbf\">                    </span><span style=\"color: #000080; text-decoration-color: #000080; font-weight: bold\">INFO    </span><span style=\"color: #008000; text-decoration-color: #008000; font-weight: bold\"> </span><span style=\"font-weight: bold\">[</span><span style=\"color: #008080; text-decoration-color: #008080; font-weight: bold\">3511079560.</span>py:<span style=\"color: #008080; text-decoration-color: #008080; font-weight: bold\">50</span><span style=\"font-weight: bold\">]</span> Creating heatmap visualization<span style=\"color: #808000; text-decoration-color: #808000\">...</span>                  <a href=\"file:///var/folders/j5/qcb5hwfx53q57rz91nm4rvr40000gn/T/ipykernel_83190/3511079560.py\" target=\"_blank\"><span style=\"color: #008080; text-decoration-color: #008080; font-weight: bold\">3511079560.py</span></a><span style=\"color: #008080; text-decoration-color: #008080; font-weight: bold\">:</span><a href=\"file:///var/folders/j5/qcb5hwfx53q57rz91nm4rvr40000gn/T/ipykernel_83190/3511079560.py#50\" target=\"_blank\"><span style=\"color: #008080; text-decoration-color: #008080; font-weight: bold\">50</span></a>\n",
       "</pre>\n"
      ],
      "text/plain": [
       "\u001b[2;36m                   \u001b[0m\u001b[2;36m \u001b[0m\u001b[1;34mINFO    \u001b[0m\u001b[1;32m \u001b[0m\u001b[1m[\u001b[0m\u001b[1;36m3511079560.\u001b[0mpy:\u001b[1;36m50\u001b[0m\u001b[1m]\u001b[0m Creating heatmap visualization\u001b[33m...\u001b[0m                  \u001b]8;id=816368;file:///var/folders/j5/qcb5hwfx53q57rz91nm4rvr40000gn/T/ipykernel_83190/3511079560.py\u001b\\\u001b[1;36m3511079560.py\u001b[0m\u001b]8;;\u001b\\\u001b[1;36m:\u001b[0m\u001b]8;id=959649;file:///var/folders/j5/qcb5hwfx53q57rz91nm4rvr40000gn/T/ipykernel_83190/3511079560.py#50\u001b\\\u001b[1;36m50\u001b[0m\u001b]8;;\u001b\\\n"
      ]
     },
     "metadata": {},
     "output_type": "display_data"
    },
    {
     "name": "stdout",
     "output_type": "stream",
     "text": [
      "Row labels length: 19\n",
      "Col labels length: 17\n"
     ]
    },
    {
     "data": {
      "text/html": [
       "<pre style=\"white-space:pre;overflow-x:auto;line-height:normal;font-family:Menlo,'DejaVu Sans Mono',consolas,'Courier New',monospace\"><span style=\"color: #7fbfbf; text-decoration-color: #7fbfbf\">                    </span><span style=\"color: #000080; text-decoration-color: #000080; font-weight: bold\">INFO    </span><span style=\"color: #008000; text-decoration-color: #008000; font-weight: bold\"> </span><span style=\"font-weight: bold\">[</span><span style=\"color: #008080; text-decoration-color: #008080; font-weight: bold\">3511079560.</span>py:<span style=\"color: #008080; text-decoration-color: #008080; font-weight: bold\">44</span><span style=\"font-weight: bold\">]</span> Creating heatmap visualization<span style=\"color: #808000; text-decoration-color: #808000\">...</span>                  <a href=\"file:///var/folders/j5/qcb5hwfx53q57rz91nm4rvr40000gn/T/ipykernel_83190/3511079560.py\" target=\"_blank\"><span style=\"color: #008080; text-decoration-color: #008080; font-weight: bold\">3511079560.py</span></a><span style=\"color: #008080; text-decoration-color: #008080; font-weight: bold\">:</span><a href=\"file:///var/folders/j5/qcb5hwfx53q57rz91nm4rvr40000gn/T/ipykernel_83190/3511079560.py#44\" target=\"_blank\"><span style=\"color: #008080; text-decoration-color: #008080; font-weight: bold\">44</span></a>\n",
       "</pre>\n"
      ],
      "text/plain": [
       "\u001b[2;36m                   \u001b[0m\u001b[2;36m \u001b[0m\u001b[1;34mINFO    \u001b[0m\u001b[1;32m \u001b[0m\u001b[1m[\u001b[0m\u001b[1;36m3511079560.\u001b[0mpy:\u001b[1;36m44\u001b[0m\u001b[1m]\u001b[0m Creating heatmap visualization\u001b[33m...\u001b[0m                  \u001b]8;id=21724;file:///var/folders/j5/qcb5hwfx53q57rz91nm4rvr40000gn/T/ipykernel_83190/3511079560.py\u001b\\\u001b[1;36m3511079560.py\u001b[0m\u001b]8;;\u001b\\\u001b[1;36m:\u001b[0m\u001b]8;id=710182;file:///var/folders/j5/qcb5hwfx53q57rz91nm4rvr40000gn/T/ipykernel_83190/3511079560.py#44\u001b\\\u001b[1;36m44\u001b[0m\u001b]8;;\u001b\\\n"
      ]
     },
     "metadata": {},
     "output_type": "display_data"
    },
    {
     "data": {
      "text/html": [
       "<pre style=\"white-space:pre;overflow-x:auto;line-height:normal;font-family:Menlo,'DejaVu Sans Mono',consolas,'Courier New',monospace\"><span style=\"color: #7fbfbf; text-decoration-color: #7fbfbf\">                    </span><span style=\"color: #000080; text-decoration-color: #000080; font-weight: bold\">INFO    </span><span style=\"color: #008000; text-decoration-color: #008000; font-weight: bold\"> </span><span style=\"font-weight: bold\">[</span><span style=\"color: #008080; text-decoration-color: #008080; font-weight: bold\">3511079560.</span>py:<span style=\"color: #008080; text-decoration-color: #008080; font-weight: bold\">50</span><span style=\"font-weight: bold\">]</span> Creating heatmap visualization<span style=\"color: #808000; text-decoration-color: #808000\">...</span>                  <a href=\"file:///var/folders/j5/qcb5hwfx53q57rz91nm4rvr40000gn/T/ipykernel_83190/3511079560.py\" target=\"_blank\"><span style=\"color: #008080; text-decoration-color: #008080; font-weight: bold\">3511079560.py</span></a><span style=\"color: #008080; text-decoration-color: #008080; font-weight: bold\">:</span><a href=\"file:///var/folders/j5/qcb5hwfx53q57rz91nm4rvr40000gn/T/ipykernel_83190/3511079560.py#50\" target=\"_blank\"><span style=\"color: #008080; text-decoration-color: #008080; font-weight: bold\">50</span></a>\n",
       "</pre>\n"
      ],
      "text/plain": [
       "\u001b[2;36m                   \u001b[0m\u001b[2;36m \u001b[0m\u001b[1;34mINFO    \u001b[0m\u001b[1;32m \u001b[0m\u001b[1m[\u001b[0m\u001b[1;36m3511079560.\u001b[0mpy:\u001b[1;36m50\u001b[0m\u001b[1m]\u001b[0m Creating heatmap visualization\u001b[33m...\u001b[0m                  \u001b]8;id=105814;file:///var/folders/j5/qcb5hwfx53q57rz91nm4rvr40000gn/T/ipykernel_83190/3511079560.py\u001b\\\u001b[1;36m3511079560.py\u001b[0m\u001b]8;;\u001b\\\u001b[1;36m:\u001b[0m\u001b]8;id=903053;file:///var/folders/j5/qcb5hwfx53q57rz91nm4rvr40000gn/T/ipykernel_83190/3511079560.py#50\u001b\\\u001b[1;36m50\u001b[0m\u001b]8;;\u001b\\\n"
      ]
     },
     "metadata": {},
     "output_type": "display_data"
    },
    {
     "name": "stdout",
     "output_type": "stream",
     "text": [
      "Row labels length: 19\n",
      "Col labels length: 17\n"
     ]
    },
    {
     "data": {
      "text/html": [
       "<pre style=\"white-space:pre;overflow-x:auto;line-height:normal;font-family:Menlo,'DejaVu Sans Mono',consolas,'Courier New',monospace\"><span style=\"color: #7fbfbf; text-decoration-color: #7fbfbf\">                    </span><span style=\"color: #000080; text-decoration-color: #000080; font-weight: bold\">INFO    </span><span style=\"color: #008000; text-decoration-color: #008000; font-weight: bold\"> </span><span style=\"font-weight: bold\">[</span><span style=\"color: #008080; text-decoration-color: #008080; font-weight: bold\">3511079560.</span>py:<span style=\"color: #008080; text-decoration-color: #008080; font-weight: bold\">44</span><span style=\"font-weight: bold\">]</span> Creating heatmap visualization<span style=\"color: #808000; text-decoration-color: #808000\">...</span>                  <a href=\"file:///var/folders/j5/qcb5hwfx53q57rz91nm4rvr40000gn/T/ipykernel_83190/3511079560.py\" target=\"_blank\"><span style=\"color: #008080; text-decoration-color: #008080; font-weight: bold\">3511079560.py</span></a><span style=\"color: #008080; text-decoration-color: #008080; font-weight: bold\">:</span><a href=\"file:///var/folders/j5/qcb5hwfx53q57rz91nm4rvr40000gn/T/ipykernel_83190/3511079560.py#44\" target=\"_blank\"><span style=\"color: #008080; text-decoration-color: #008080; font-weight: bold\">44</span></a>\n",
       "</pre>\n"
      ],
      "text/plain": [
       "\u001b[2;36m                   \u001b[0m\u001b[2;36m \u001b[0m\u001b[1;34mINFO    \u001b[0m\u001b[1;32m \u001b[0m\u001b[1m[\u001b[0m\u001b[1;36m3511079560.\u001b[0mpy:\u001b[1;36m44\u001b[0m\u001b[1m]\u001b[0m Creating heatmap visualization\u001b[33m...\u001b[0m                  \u001b]8;id=276080;file:///var/folders/j5/qcb5hwfx53q57rz91nm4rvr40000gn/T/ipykernel_83190/3511079560.py\u001b\\\u001b[1;36m3511079560.py\u001b[0m\u001b]8;;\u001b\\\u001b[1;36m:\u001b[0m\u001b]8;id=908386;file:///var/folders/j5/qcb5hwfx53q57rz91nm4rvr40000gn/T/ipykernel_83190/3511079560.py#44\u001b\\\u001b[1;36m44\u001b[0m\u001b]8;;\u001b\\\n"
      ]
     },
     "metadata": {},
     "output_type": "display_data"
    },
    {
     "data": {
      "text/html": [
       "<pre style=\"white-space:pre;overflow-x:auto;line-height:normal;font-family:Menlo,'DejaVu Sans Mono',consolas,'Courier New',monospace\"><span style=\"color: #7fbfbf; text-decoration-color: #7fbfbf\">                    </span><span style=\"color: #000080; text-decoration-color: #000080; font-weight: bold\">INFO    </span><span style=\"color: #008000; text-decoration-color: #008000; font-weight: bold\"> </span><span style=\"font-weight: bold\">[</span><span style=\"color: #008080; text-decoration-color: #008080; font-weight: bold\">3511079560.</span>py:<span style=\"color: #008080; text-decoration-color: #008080; font-weight: bold\">50</span><span style=\"font-weight: bold\">]</span> Creating heatmap visualization<span style=\"color: #808000; text-decoration-color: #808000\">...</span>                  <a href=\"file:///var/folders/j5/qcb5hwfx53q57rz91nm4rvr40000gn/T/ipykernel_83190/3511079560.py\" target=\"_blank\"><span style=\"color: #008080; text-decoration-color: #008080; font-weight: bold\">3511079560.py</span></a><span style=\"color: #008080; text-decoration-color: #008080; font-weight: bold\">:</span><a href=\"file:///var/folders/j5/qcb5hwfx53q57rz91nm4rvr40000gn/T/ipykernel_83190/3511079560.py#50\" target=\"_blank\"><span style=\"color: #008080; text-decoration-color: #008080; font-weight: bold\">50</span></a>\n",
       "</pre>\n"
      ],
      "text/plain": [
       "\u001b[2;36m                   \u001b[0m\u001b[2;36m \u001b[0m\u001b[1;34mINFO    \u001b[0m\u001b[1;32m \u001b[0m\u001b[1m[\u001b[0m\u001b[1;36m3511079560.\u001b[0mpy:\u001b[1;36m50\u001b[0m\u001b[1m]\u001b[0m Creating heatmap visualization\u001b[33m...\u001b[0m                  \u001b]8;id=293675;file:///var/folders/j5/qcb5hwfx53q57rz91nm4rvr40000gn/T/ipykernel_83190/3511079560.py\u001b\\\u001b[1;36m3511079560.py\u001b[0m\u001b]8;;\u001b\\\u001b[1;36m:\u001b[0m\u001b]8;id=442327;file:///var/folders/j5/qcb5hwfx53q57rz91nm4rvr40000gn/T/ipykernel_83190/3511079560.py#50\u001b\\\u001b[1;36m50\u001b[0m\u001b]8;;\u001b\\\n"
      ]
     },
     "metadata": {},
     "output_type": "display_data"
    },
    {
     "name": "stdout",
     "output_type": "stream",
     "text": [
      "Row labels length: 19\n",
      "Col labels length: 17\n"
     ]
    },
    {
     "data": {
      "text/html": [
       "<pre style=\"white-space:pre;overflow-x:auto;line-height:normal;font-family:Menlo,'DejaVu Sans Mono',consolas,'Courier New',monospace\"><span style=\"color: #7fbfbf; text-decoration-color: #7fbfbf\">                    </span><span style=\"color: #000080; text-decoration-color: #000080; font-weight: bold\">INFO    </span><span style=\"color: #008000; text-decoration-color: #008000; font-weight: bold\"> </span><span style=\"font-weight: bold\">[</span><span style=\"color: #008080; text-decoration-color: #008080; font-weight: bold\">3511079560.</span>py:<span style=\"color: #008080; text-decoration-color: #008080; font-weight: bold\">44</span><span style=\"font-weight: bold\">]</span> Creating heatmap visualization<span style=\"color: #808000; text-decoration-color: #808000\">...</span>                  <a href=\"file:///var/folders/j5/qcb5hwfx53q57rz91nm4rvr40000gn/T/ipykernel_83190/3511079560.py\" target=\"_blank\"><span style=\"color: #008080; text-decoration-color: #008080; font-weight: bold\">3511079560.py</span></a><span style=\"color: #008080; text-decoration-color: #008080; font-weight: bold\">:</span><a href=\"file:///var/folders/j5/qcb5hwfx53q57rz91nm4rvr40000gn/T/ipykernel_83190/3511079560.py#44\" target=\"_blank\"><span style=\"color: #008080; text-decoration-color: #008080; font-weight: bold\">44</span></a>\n",
       "</pre>\n"
      ],
      "text/plain": [
       "\u001b[2;36m                   \u001b[0m\u001b[2;36m \u001b[0m\u001b[1;34mINFO    \u001b[0m\u001b[1;32m \u001b[0m\u001b[1m[\u001b[0m\u001b[1;36m3511079560.\u001b[0mpy:\u001b[1;36m44\u001b[0m\u001b[1m]\u001b[0m Creating heatmap visualization\u001b[33m...\u001b[0m                  \u001b]8;id=350646;file:///var/folders/j5/qcb5hwfx53q57rz91nm4rvr40000gn/T/ipykernel_83190/3511079560.py\u001b\\\u001b[1;36m3511079560.py\u001b[0m\u001b]8;;\u001b\\\u001b[1;36m:\u001b[0m\u001b]8;id=884770;file:///var/folders/j5/qcb5hwfx53q57rz91nm4rvr40000gn/T/ipykernel_83190/3511079560.py#44\u001b\\\u001b[1;36m44\u001b[0m\u001b]8;;\u001b\\\n"
      ]
     },
     "metadata": {},
     "output_type": "display_data"
    },
    {
     "data": {
      "text/html": [
       "<pre style=\"white-space:pre;overflow-x:auto;line-height:normal;font-family:Menlo,'DejaVu Sans Mono',consolas,'Courier New',monospace\"><span style=\"color: #7fbfbf; text-decoration-color: #7fbfbf\">                    </span><span style=\"color: #000080; text-decoration-color: #000080; font-weight: bold\">INFO    </span><span style=\"color: #008000; text-decoration-color: #008000; font-weight: bold\"> </span><span style=\"font-weight: bold\">[</span><span style=\"color: #008080; text-decoration-color: #008080; font-weight: bold\">3511079560.</span>py:<span style=\"color: #008080; text-decoration-color: #008080; font-weight: bold\">50</span><span style=\"font-weight: bold\">]</span> Creating heatmap visualization<span style=\"color: #808000; text-decoration-color: #808000\">...</span>                  <a href=\"file:///var/folders/j5/qcb5hwfx53q57rz91nm4rvr40000gn/T/ipykernel_83190/3511079560.py\" target=\"_blank\"><span style=\"color: #008080; text-decoration-color: #008080; font-weight: bold\">3511079560.py</span></a><span style=\"color: #008080; text-decoration-color: #008080; font-weight: bold\">:</span><a href=\"file:///var/folders/j5/qcb5hwfx53q57rz91nm4rvr40000gn/T/ipykernel_83190/3511079560.py#50\" target=\"_blank\"><span style=\"color: #008080; text-decoration-color: #008080; font-weight: bold\">50</span></a>\n",
       "</pre>\n"
      ],
      "text/plain": [
       "\u001b[2;36m                   \u001b[0m\u001b[2;36m \u001b[0m\u001b[1;34mINFO    \u001b[0m\u001b[1;32m \u001b[0m\u001b[1m[\u001b[0m\u001b[1;36m3511079560.\u001b[0mpy:\u001b[1;36m50\u001b[0m\u001b[1m]\u001b[0m Creating heatmap visualization\u001b[33m...\u001b[0m                  \u001b]8;id=683387;file:///var/folders/j5/qcb5hwfx53q57rz91nm4rvr40000gn/T/ipykernel_83190/3511079560.py\u001b\\\u001b[1;36m3511079560.py\u001b[0m\u001b]8;;\u001b\\\u001b[1;36m:\u001b[0m\u001b]8;id=78323;file:///var/folders/j5/qcb5hwfx53q57rz91nm4rvr40000gn/T/ipykernel_83190/3511079560.py#50\u001b\\\u001b[1;36m50\u001b[0m\u001b]8;;\u001b\\\n"
      ]
     },
     "metadata": {},
     "output_type": "display_data"
    },
    {
     "name": "stdout",
     "output_type": "stream",
     "text": [
      "Row labels length: 19\n",
      "Col labels length: 17\n"
     ]
    },
    {
     "data": {
      "text/html": [
       "<pre style=\"white-space:pre;overflow-x:auto;line-height:normal;font-family:Menlo,'DejaVu Sans Mono',consolas,'Courier New',monospace\"><span style=\"color: #7fbfbf; text-decoration-color: #7fbfbf\">                    </span><span style=\"color: #000080; text-decoration-color: #000080; font-weight: bold\">INFO    </span><span style=\"color: #008000; text-decoration-color: #008000; font-weight: bold\"> </span> Saving HTML figure to                                               <a href=\"file:///Users/4gate/git/embedding_translation/src/viz/save_figure.py\" target=\"_blank\"><span style=\"color: #008080; text-decoration-color: #008080; font-weight: bold\">save_figure.py</span></a><span style=\"color: #008080; text-decoration-color: #008080; font-weight: bold\">:</span><a href=\"file:///Users/4gate/git/embedding_translation/src/viz/save_figure.py#32\" target=\"_blank\"><span style=\"color: #008080; text-decoration-color: #008080; font-weight: bold\">32</span></a>\n",
       "<span style=\"color: #7fbfbf; text-decoration-color: #7fbfbf\">                    </span><span style=\"color: #008000; text-decoration-color: #008000; font-weight: bold\">         </span><span style=\"color: #800080; text-decoration-color: #800080\">/Users/4gate/git/embedding_translation/data/figs/html/</span><span style=\"color: #ff00ff; text-decoration-color: #ff00ff\">hotpotqa_lord_</span> <span style=\"color: #008080; text-decoration-color: #008080; font-weight: bold\">                 </span>\n",
       "<span style=\"color: #7fbfbf; text-decoration-color: #7fbfbf\">                    </span><span style=\"color: #008000; text-decoration-color: #008000; font-weight: bold\">         </span><span style=\"color: #ff00ff; text-decoration-color: #ff00ff\">farquad_was_heren.html</span>                                               <span style=\"color: #008080; text-decoration-color: #008080; font-weight: bold\">                 </span>\n",
       "</pre>\n"
      ],
      "text/plain": [
       "\u001b[2;36m                   \u001b[0m\u001b[2;36m \u001b[0m\u001b[1;34mINFO    \u001b[0m\u001b[1;32m \u001b[0m Saving HTML figure to                                               \u001b]8;id=74086;file:///Users/4gate/git/embedding_translation/src/viz/save_figure.py\u001b\\\u001b[1;36msave_figure.py\u001b[0m\u001b]8;;\u001b\\\u001b[1;36m:\u001b[0m\u001b]8;id=808459;file:///Users/4gate/git/embedding_translation/src/viz/save_figure.py#32\u001b\\\u001b[1;36m32\u001b[0m\u001b]8;;\u001b\\\n",
       "\u001b[2;36m                    \u001b[0m\u001b[1;32m         \u001b[0m\u001b[35m/Users/4gate/git/embedding_translation/data/figs/html/\u001b[0m\u001b[95mhotpotqa_lord_\u001b[0m \u001b[1;36m                 \u001b[0m\n",
       "\u001b[2;36m                    \u001b[0m\u001b[1;32m         \u001b[0m\u001b[95mfarquad_was_heren.html\u001b[0m                                               \u001b[1;36m                 \u001b[0m\n"
      ]
     },
     "metadata": {},
     "output_type": "display_data"
    },
    {
     "data": {
      "text/html": [
       "<pre style=\"white-space:pre;overflow-x:auto;line-height:normal;font-family:Menlo,'DejaVu Sans Mono',consolas,'Courier New',monospace\"><span style=\"color: #7fbfbf; text-decoration-color: #7fbfbf\">                    </span><span style=\"color: #008000; text-decoration-color: #008000; font-weight: bold\">SUCCESS  </span> Successfully saved HTML to                                          <a href=\"file:///Users/4gate/git/embedding_translation/src/viz/save_figure.py\" target=\"_blank\"><span style=\"color: #008080; text-decoration-color: #008080; font-weight: bold\">save_figure.py</span></a><span style=\"color: #008080; text-decoration-color: #008080; font-weight: bold\">:</span><a href=\"file:///Users/4gate/git/embedding_translation/src/viz/save_figure.py#40\" target=\"_blank\"><span style=\"color: #008080; text-decoration-color: #008080; font-weight: bold\">40</span></a>\n",
       "<span style=\"color: #7fbfbf; text-decoration-color: #7fbfbf\">                    </span><span style=\"color: #008000; text-decoration-color: #008000; font-weight: bold\">         </span><span style=\"color: #800080; text-decoration-color: #800080\">/Users/4gate/git/embedding_translation/data/figs/html/</span><span style=\"color: #ff00ff; text-decoration-color: #ff00ff\">hotpotqa_lord_</span> <span style=\"color: #008080; text-decoration-color: #008080; font-weight: bold\">                 </span>\n",
       "<span style=\"color: #7fbfbf; text-decoration-color: #7fbfbf\">                    </span><span style=\"color: #008000; text-decoration-color: #008000; font-weight: bold\">         </span><span style=\"color: #ff00ff; text-decoration-color: #ff00ff\">farquad_was_heren.html</span>                                               <span style=\"color: #008080; text-decoration-color: #008080; font-weight: bold\">                 </span>\n",
       "</pre>\n"
      ],
      "text/plain": [
       "\u001b[2;36m                   \u001b[0m\u001b[2;36m \u001b[0m\u001b[1;32mSUCCESS \u001b[0m\u001b[1;32m \u001b[0m Successfully saved HTML to                                          \u001b]8;id=435022;file:///Users/4gate/git/embedding_translation/src/viz/save_figure.py\u001b\\\u001b[1;36msave_figure.py\u001b[0m\u001b]8;;\u001b\\\u001b[1;36m:\u001b[0m\u001b]8;id=638429;file:///Users/4gate/git/embedding_translation/src/viz/save_figure.py#40\u001b\\\u001b[1;36m40\u001b[0m\u001b]8;;\u001b\\\n",
       "\u001b[2;36m                    \u001b[0m\u001b[1;32m         \u001b[0m\u001b[35m/Users/4gate/git/embedding_translation/data/figs/html/\u001b[0m\u001b[95mhotpotqa_lord_\u001b[0m \u001b[1;36m                 \u001b[0m\n",
       "\u001b[2;36m                    \u001b[0m\u001b[1;32m         \u001b[0m\u001b[95mfarquad_was_heren.html\u001b[0m                                               \u001b[1;36m                 \u001b[0m\n"
      ]
     },
     "metadata": {},
     "output_type": "display_data"
    },
    {
     "data": {
      "text/html": [
       "<pre style=\"white-space:pre;overflow-x:auto;line-height:normal;font-family:Menlo,'DejaVu Sans Mono',consolas,'Courier New',monospace\"><span style=\"color: #7fbfbf; text-decoration-color: #7fbfbf\">                    </span><span style=\"color: #000080; text-decoration-color: #000080; font-weight: bold\">INFO    </span><span style=\"color: #008000; text-decoration-color: #008000; font-weight: bold\"> </span> Saving PNG figure to                                                <a href=\"file:///Users/4gate/git/embedding_translation/src/viz/save_figure.py\" target=\"_blank\"><span style=\"color: #008080; text-decoration-color: #008080; font-weight: bold\">save_figure.py</span></a><span style=\"color: #008080; text-decoration-color: #008080; font-weight: bold\">:</span><a href=\"file:///Users/4gate/git/embedding_translation/src/viz/save_figure.py#67\" target=\"_blank\"><span style=\"color: #008080; text-decoration-color: #008080; font-weight: bold\">67</span></a>\n",
       "<span style=\"color: #7fbfbf; text-decoration-color: #7fbfbf\">                    </span><span style=\"color: #008000; text-decoration-color: #008000; font-weight: bold\">         </span><span style=\"color: #800080; text-decoration-color: #800080\">/Users/4gate/git/embedding_translation/data/figs/imgs/</span><span style=\"color: #ff00ff; text-decoration-color: #ff00ff\">hotpotqa_lord_</span> <span style=\"color: #008080; text-decoration-color: #008080; font-weight: bold\">                 </span>\n",
       "<span style=\"color: #7fbfbf; text-decoration-color: #7fbfbf\">                    </span><span style=\"color: #008000; text-decoration-color: #008000; font-weight: bold\">         </span><span style=\"color: #ff00ff; text-decoration-color: #ff00ff\">farquad_was_heren.png</span>                                                <span style=\"color: #008080; text-decoration-color: #008080; font-weight: bold\">                 </span>\n",
       "</pre>\n"
      ],
      "text/plain": [
       "\u001b[2;36m                   \u001b[0m\u001b[2;36m \u001b[0m\u001b[1;34mINFO    \u001b[0m\u001b[1;32m \u001b[0m Saving PNG figure to                                                \u001b]8;id=601004;file:///Users/4gate/git/embedding_translation/src/viz/save_figure.py\u001b\\\u001b[1;36msave_figure.py\u001b[0m\u001b]8;;\u001b\\\u001b[1;36m:\u001b[0m\u001b]8;id=25188;file:///Users/4gate/git/embedding_translation/src/viz/save_figure.py#67\u001b\\\u001b[1;36m67\u001b[0m\u001b]8;;\u001b\\\n",
       "\u001b[2;36m                    \u001b[0m\u001b[1;32m         \u001b[0m\u001b[35m/Users/4gate/git/embedding_translation/data/figs/imgs/\u001b[0m\u001b[95mhotpotqa_lord_\u001b[0m \u001b[1;36m                 \u001b[0m\n",
       "\u001b[2;36m                    \u001b[0m\u001b[1;32m         \u001b[0m\u001b[95mfarquad_was_heren.png\u001b[0m                                                \u001b[1;36m                 \u001b[0m\n"
      ]
     },
     "metadata": {},
     "output_type": "display_data"
    },
    {
     "data": {
      "text/html": [
       "<pre style=\"white-space:pre;overflow-x:auto;line-height:normal;font-family:Menlo,'DejaVu Sans Mono',consolas,'Courier New',monospace\"><span style=\"color: #7fbfbf; text-decoration-color: #7fbfbf\">                    </span><span style=\"color: #008000; text-decoration-color: #008000; font-weight: bold\">SUCCESS  </span> Successfully saved PNG to                                           <a href=\"file:///Users/4gate/git/embedding_translation/src/viz/save_figure.py\" target=\"_blank\"><span style=\"color: #008080; text-decoration-color: #008080; font-weight: bold\">save_figure.py</span></a><span style=\"color: #008080; text-decoration-color: #008080; font-weight: bold\">:</span><a href=\"file:///Users/4gate/git/embedding_translation/src/viz/save_figure.py#76\" target=\"_blank\"><span style=\"color: #008080; text-decoration-color: #008080; font-weight: bold\">76</span></a>\n",
       "<span style=\"color: #7fbfbf; text-decoration-color: #7fbfbf\">                    </span><span style=\"color: #008000; text-decoration-color: #008000; font-weight: bold\">         </span><span style=\"color: #800080; text-decoration-color: #800080\">/Users/4gate/git/embedding_translation/data/figs/imgs/</span><span style=\"color: #ff00ff; text-decoration-color: #ff00ff\">hotpotqa_lord_</span> <span style=\"color: #008080; text-decoration-color: #008080; font-weight: bold\">                 </span>\n",
       "<span style=\"color: #7fbfbf; text-decoration-color: #7fbfbf\">                    </span><span style=\"color: #008000; text-decoration-color: #008000; font-weight: bold\">         </span><span style=\"color: #ff00ff; text-decoration-color: #ff00ff\">farquad_was_heren.png</span>                                                <span style=\"color: #008080; text-decoration-color: #008080; font-weight: bold\">                 </span>\n",
       "</pre>\n"
      ],
      "text/plain": [
       "\u001b[2;36m                   \u001b[0m\u001b[2;36m \u001b[0m\u001b[1;32mSUCCESS \u001b[0m\u001b[1;32m \u001b[0m Successfully saved PNG to                                           \u001b]8;id=28944;file:///Users/4gate/git/embedding_translation/src/viz/save_figure.py\u001b\\\u001b[1;36msave_figure.py\u001b[0m\u001b]8;;\u001b\\\u001b[1;36m:\u001b[0m\u001b]8;id=826231;file:///Users/4gate/git/embedding_translation/src/viz/save_figure.py#76\u001b\\\u001b[1;36m76\u001b[0m\u001b]8;;\u001b\\\n",
       "\u001b[2;36m                    \u001b[0m\u001b[1;32m         \u001b[0m\u001b[35m/Users/4gate/git/embedding_translation/data/figs/imgs/\u001b[0m\u001b[95mhotpotqa_lord_\u001b[0m \u001b[1;36m                 \u001b[0m\n",
       "\u001b[2;36m                    \u001b[0m\u001b[1;32m         \u001b[0m\u001b[95mfarquad_was_heren.png\u001b[0m                                                \u001b[1;36m                 \u001b[0m\n"
      ]
     },
     "metadata": {},
     "output_type": "display_data"
    },
    {
     "data": {
      "text/html": [
       "<pre style=\"white-space:pre;overflow-x:auto;line-height:normal;font-family:Menlo,'DejaVu Sans Mono',consolas,'Courier New',monospace\"><span style=\"color: #7fbfbf; text-decoration-color: #7fbfbf\">                    </span><span style=\"color: #000080; text-decoration-color: #000080; font-weight: bold\">INFO    </span><span style=\"color: #008000; text-decoration-color: #008000; font-weight: bold\"> </span><span style=\"font-weight: bold\">[</span><span style=\"color: #008080; text-decoration-color: #008080; font-weight: bold\">3511079560.</span>py:<span style=\"color: #008080; text-decoration-color: #008080; font-weight: bold\">44</span><span style=\"font-weight: bold\">]</span> Creating heatmap visualization<span style=\"color: #808000; text-decoration-color: #808000\">...</span>                  <a href=\"file:///var/folders/j5/qcb5hwfx53q57rz91nm4rvr40000gn/T/ipykernel_83190/3511079560.py\" target=\"_blank\"><span style=\"color: #008080; text-decoration-color: #008080; font-weight: bold\">3511079560.py</span></a><span style=\"color: #008080; text-decoration-color: #008080; font-weight: bold\">:</span><a href=\"file:///var/folders/j5/qcb5hwfx53q57rz91nm4rvr40000gn/T/ipykernel_83190/3511079560.py#44\" target=\"_blank\"><span style=\"color: #008080; text-decoration-color: #008080; font-weight: bold\">44</span></a>\n",
       "</pre>\n"
      ],
      "text/plain": [
       "\u001b[2;36m                   \u001b[0m\u001b[2;36m \u001b[0m\u001b[1;34mINFO    \u001b[0m\u001b[1;32m \u001b[0m\u001b[1m[\u001b[0m\u001b[1;36m3511079560.\u001b[0mpy:\u001b[1;36m44\u001b[0m\u001b[1m]\u001b[0m Creating heatmap visualization\u001b[33m...\u001b[0m                  \u001b]8;id=354689;file:///var/folders/j5/qcb5hwfx53q57rz91nm4rvr40000gn/T/ipykernel_83190/3511079560.py\u001b\\\u001b[1;36m3511079560.py\u001b[0m\u001b]8;;\u001b\\\u001b[1;36m:\u001b[0m\u001b]8;id=299090;file:///var/folders/j5/qcb5hwfx53q57rz91nm4rvr40000gn/T/ipykernel_83190/3511079560.py#44\u001b\\\u001b[1;36m44\u001b[0m\u001b]8;;\u001b\\\n"
      ]
     },
     "metadata": {},
     "output_type": "display_data"
    },
    {
     "data": {
      "text/html": [
       "<pre style=\"white-space:pre;overflow-x:auto;line-height:normal;font-family:Menlo,'DejaVu Sans Mono',consolas,'Courier New',monospace\"><span style=\"color: #7fbfbf; text-decoration-color: #7fbfbf\">                    </span><span style=\"color: #000080; text-decoration-color: #000080; font-weight: bold\">INFO    </span><span style=\"color: #008000; text-decoration-color: #008000; font-weight: bold\"> </span><span style=\"font-weight: bold\">[</span><span style=\"color: #008080; text-decoration-color: #008080; font-weight: bold\">3511079560.</span>py:<span style=\"color: #008080; text-decoration-color: #008080; font-weight: bold\">50</span><span style=\"font-weight: bold\">]</span> Creating heatmap visualization<span style=\"color: #808000; text-decoration-color: #808000\">...</span>                  <a href=\"file:///var/folders/j5/qcb5hwfx53q57rz91nm4rvr40000gn/T/ipykernel_83190/3511079560.py\" target=\"_blank\"><span style=\"color: #008080; text-decoration-color: #008080; font-weight: bold\">3511079560.py</span></a><span style=\"color: #008080; text-decoration-color: #008080; font-weight: bold\">:</span><a href=\"file:///var/folders/j5/qcb5hwfx53q57rz91nm4rvr40000gn/T/ipykernel_83190/3511079560.py#50\" target=\"_blank\"><span style=\"color: #008080; text-decoration-color: #008080; font-weight: bold\">50</span></a>\n",
       "</pre>\n"
      ],
      "text/plain": [
       "\u001b[2;36m                   \u001b[0m\u001b[2;36m \u001b[0m\u001b[1;34mINFO    \u001b[0m\u001b[1;32m \u001b[0m\u001b[1m[\u001b[0m\u001b[1;36m3511079560.\u001b[0mpy:\u001b[1;36m50\u001b[0m\u001b[1m]\u001b[0m Creating heatmap visualization\u001b[33m...\u001b[0m                  \u001b]8;id=898583;file:///var/folders/j5/qcb5hwfx53q57rz91nm4rvr40000gn/T/ipykernel_83190/3511079560.py\u001b\\\u001b[1;36m3511079560.py\u001b[0m\u001b]8;;\u001b\\\u001b[1;36m:\u001b[0m\u001b]8;id=590657;file:///var/folders/j5/qcb5hwfx53q57rz91nm4rvr40000gn/T/ipykernel_83190/3511079560.py#50\u001b\\\u001b[1;36m50\u001b[0m\u001b]8;;\u001b\\\n"
      ]
     },
     "metadata": {},
     "output_type": "display_data"
    },
    {
     "name": "stdout",
     "output_type": "stream",
     "text": [
      "Row labels length: 19\n",
      "Col labels length: 17\n"
     ]
    },
    {
     "data": {
      "text/html": [
       "<pre style=\"white-space:pre;overflow-x:auto;line-height:normal;font-family:Menlo,'DejaVu Sans Mono',consolas,'Courier New',monospace\"><span style=\"color: #7fbfbf; text-decoration-color: #7fbfbf\">                    </span><span style=\"color: #000080; text-decoration-color: #000080; font-weight: bold\">INFO    </span><span style=\"color: #008000; text-decoration-color: #008000; font-weight: bold\"> </span><span style=\"font-weight: bold\">[</span><span style=\"color: #008080; text-decoration-color: #008080; font-weight: bold\">3511079560.</span>py:<span style=\"color: #008080; text-decoration-color: #008080; font-weight: bold\">44</span><span style=\"font-weight: bold\">]</span> Creating heatmap visualization<span style=\"color: #808000; text-decoration-color: #808000\">...</span>                  <a href=\"file:///var/folders/j5/qcb5hwfx53q57rz91nm4rvr40000gn/T/ipykernel_83190/3511079560.py\" target=\"_blank\"><span style=\"color: #008080; text-decoration-color: #008080; font-weight: bold\">3511079560.py</span></a><span style=\"color: #008080; text-decoration-color: #008080; font-weight: bold\">:</span><a href=\"file:///var/folders/j5/qcb5hwfx53q57rz91nm4rvr40000gn/T/ipykernel_83190/3511079560.py#44\" target=\"_blank\"><span style=\"color: #008080; text-decoration-color: #008080; font-weight: bold\">44</span></a>\n",
       "</pre>\n"
      ],
      "text/plain": [
       "\u001b[2;36m                   \u001b[0m\u001b[2;36m \u001b[0m\u001b[1;34mINFO    \u001b[0m\u001b[1;32m \u001b[0m\u001b[1m[\u001b[0m\u001b[1;36m3511079560.\u001b[0mpy:\u001b[1;36m44\u001b[0m\u001b[1m]\u001b[0m Creating heatmap visualization\u001b[33m...\u001b[0m                  \u001b]8;id=670298;file:///var/folders/j5/qcb5hwfx53q57rz91nm4rvr40000gn/T/ipykernel_83190/3511079560.py\u001b\\\u001b[1;36m3511079560.py\u001b[0m\u001b]8;;\u001b\\\u001b[1;36m:\u001b[0m\u001b]8;id=232092;file:///var/folders/j5/qcb5hwfx53q57rz91nm4rvr40000gn/T/ipykernel_83190/3511079560.py#44\u001b\\\u001b[1;36m44\u001b[0m\u001b]8;;\u001b\\\n"
      ]
     },
     "metadata": {},
     "output_type": "display_data"
    },
    {
     "data": {
      "text/html": [
       "<pre style=\"white-space:pre;overflow-x:auto;line-height:normal;font-family:Menlo,'DejaVu Sans Mono',consolas,'Courier New',monospace\"><span style=\"color: #7fbfbf; text-decoration-color: #7fbfbf\">                    </span><span style=\"color: #000080; text-decoration-color: #000080; font-weight: bold\">INFO    </span><span style=\"color: #008000; text-decoration-color: #008000; font-weight: bold\"> </span><span style=\"font-weight: bold\">[</span><span style=\"color: #008080; text-decoration-color: #008080; font-weight: bold\">3511079560.</span>py:<span style=\"color: #008080; text-decoration-color: #008080; font-weight: bold\">50</span><span style=\"font-weight: bold\">]</span> Creating heatmap visualization<span style=\"color: #808000; text-decoration-color: #808000\">...</span>                  <a href=\"file:///var/folders/j5/qcb5hwfx53q57rz91nm4rvr40000gn/T/ipykernel_83190/3511079560.py\" target=\"_blank\"><span style=\"color: #008080; text-decoration-color: #008080; font-weight: bold\">3511079560.py</span></a><span style=\"color: #008080; text-decoration-color: #008080; font-weight: bold\">:</span><a href=\"file:///var/folders/j5/qcb5hwfx53q57rz91nm4rvr40000gn/T/ipykernel_83190/3511079560.py#50\" target=\"_blank\"><span style=\"color: #008080; text-decoration-color: #008080; font-weight: bold\">50</span></a>\n",
       "</pre>\n"
      ],
      "text/plain": [
       "\u001b[2;36m                   \u001b[0m\u001b[2;36m \u001b[0m\u001b[1;34mINFO    \u001b[0m\u001b[1;32m \u001b[0m\u001b[1m[\u001b[0m\u001b[1;36m3511079560.\u001b[0mpy:\u001b[1;36m50\u001b[0m\u001b[1m]\u001b[0m Creating heatmap visualization\u001b[33m...\u001b[0m                  \u001b]8;id=886994;file:///var/folders/j5/qcb5hwfx53q57rz91nm4rvr40000gn/T/ipykernel_83190/3511079560.py\u001b\\\u001b[1;36m3511079560.py\u001b[0m\u001b]8;;\u001b\\\u001b[1;36m:\u001b[0m\u001b]8;id=874441;file:///var/folders/j5/qcb5hwfx53q57rz91nm4rvr40000gn/T/ipykernel_83190/3511079560.py#50\u001b\\\u001b[1;36m50\u001b[0m\u001b]8;;\u001b\\\n"
      ]
     },
     "metadata": {},
     "output_type": "display_data"
    },
    {
     "name": "stdout",
     "output_type": "stream",
     "text": [
      "Row labels length: 19\n",
      "Col labels length: 17\n"
     ]
    },
    {
     "data": {
      "text/html": [
       "<pre style=\"white-space:pre;overflow-x:auto;line-height:normal;font-family:Menlo,'DejaVu Sans Mono',consolas,'Courier New',monospace\"><span style=\"color: #7fbfbf; text-decoration-color: #7fbfbf\">                    </span><span style=\"color: #000080; text-decoration-color: #000080; font-weight: bold\">INFO    </span><span style=\"color: #008000; text-decoration-color: #008000; font-weight: bold\"> </span><span style=\"font-weight: bold\">[</span><span style=\"color: #008080; text-decoration-color: #008080; font-weight: bold\">3511079560.</span>py:<span style=\"color: #008080; text-decoration-color: #008080; font-weight: bold\">44</span><span style=\"font-weight: bold\">]</span> Creating heatmap visualization<span style=\"color: #808000; text-decoration-color: #808000\">...</span>                  <a href=\"file:///var/folders/j5/qcb5hwfx53q57rz91nm4rvr40000gn/T/ipykernel_83190/3511079560.py\" target=\"_blank\"><span style=\"color: #008080; text-decoration-color: #008080; font-weight: bold\">3511079560.py</span></a><span style=\"color: #008080; text-decoration-color: #008080; font-weight: bold\">:</span><a href=\"file:///var/folders/j5/qcb5hwfx53q57rz91nm4rvr40000gn/T/ipykernel_83190/3511079560.py#44\" target=\"_blank\"><span style=\"color: #008080; text-decoration-color: #008080; font-weight: bold\">44</span></a>\n",
       "</pre>\n"
      ],
      "text/plain": [
       "\u001b[2;36m                   \u001b[0m\u001b[2;36m \u001b[0m\u001b[1;34mINFO    \u001b[0m\u001b[1;32m \u001b[0m\u001b[1m[\u001b[0m\u001b[1;36m3511079560.\u001b[0mpy:\u001b[1;36m44\u001b[0m\u001b[1m]\u001b[0m Creating heatmap visualization\u001b[33m...\u001b[0m                  \u001b]8;id=816114;file:///var/folders/j5/qcb5hwfx53q57rz91nm4rvr40000gn/T/ipykernel_83190/3511079560.py\u001b\\\u001b[1;36m3511079560.py\u001b[0m\u001b]8;;\u001b\\\u001b[1;36m:\u001b[0m\u001b]8;id=140154;file:///var/folders/j5/qcb5hwfx53q57rz91nm4rvr40000gn/T/ipykernel_83190/3511079560.py#44\u001b\\\u001b[1;36m44\u001b[0m\u001b]8;;\u001b\\\n"
      ]
     },
     "metadata": {},
     "output_type": "display_data"
    },
    {
     "data": {
      "text/html": [
       "<pre style=\"white-space:pre;overflow-x:auto;line-height:normal;font-family:Menlo,'DejaVu Sans Mono',consolas,'Courier New',monospace\"><span style=\"color: #7fbfbf; text-decoration-color: #7fbfbf\">                    </span><span style=\"color: #000080; text-decoration-color: #000080; font-weight: bold\">INFO    </span><span style=\"color: #008000; text-decoration-color: #008000; font-weight: bold\"> </span><span style=\"font-weight: bold\">[</span><span style=\"color: #008080; text-decoration-color: #008080; font-weight: bold\">3511079560.</span>py:<span style=\"color: #008080; text-decoration-color: #008080; font-weight: bold\">50</span><span style=\"font-weight: bold\">]</span> Creating heatmap visualization<span style=\"color: #808000; text-decoration-color: #808000\">...</span>                  <a href=\"file:///var/folders/j5/qcb5hwfx53q57rz91nm4rvr40000gn/T/ipykernel_83190/3511079560.py\" target=\"_blank\"><span style=\"color: #008080; text-decoration-color: #008080; font-weight: bold\">3511079560.py</span></a><span style=\"color: #008080; text-decoration-color: #008080; font-weight: bold\">:</span><a href=\"file:///var/folders/j5/qcb5hwfx53q57rz91nm4rvr40000gn/T/ipykernel_83190/3511079560.py#50\" target=\"_blank\"><span style=\"color: #008080; text-decoration-color: #008080; font-weight: bold\">50</span></a>\n",
       "</pre>\n"
      ],
      "text/plain": [
       "\u001b[2;36m                   \u001b[0m\u001b[2;36m \u001b[0m\u001b[1;34mINFO    \u001b[0m\u001b[1;32m \u001b[0m\u001b[1m[\u001b[0m\u001b[1;36m3511079560.\u001b[0mpy:\u001b[1;36m50\u001b[0m\u001b[1m]\u001b[0m Creating heatmap visualization\u001b[33m...\u001b[0m                  \u001b]8;id=521037;file:///var/folders/j5/qcb5hwfx53q57rz91nm4rvr40000gn/T/ipykernel_83190/3511079560.py\u001b\\\u001b[1;36m3511079560.py\u001b[0m\u001b]8;;\u001b\\\u001b[1;36m:\u001b[0m\u001b]8;id=278538;file:///var/folders/j5/qcb5hwfx53q57rz91nm4rvr40000gn/T/ipykernel_83190/3511079560.py#50\u001b\\\u001b[1;36m50\u001b[0m\u001b]8;;\u001b\\\n"
      ]
     },
     "metadata": {},
     "output_type": "display_data"
    },
    {
     "name": "stdout",
     "output_type": "stream",
     "text": [
      "Row labels length: 19\n",
      "Col labels length: 17\n"
     ]
    },
    {
     "data": {
      "text/html": [
       "<pre style=\"white-space:pre;overflow-x:auto;line-height:normal;font-family:Menlo,'DejaVu Sans Mono',consolas,'Courier New',monospace\"><span style=\"color: #7fbfbf; text-decoration-color: #7fbfbf\">                    </span><span style=\"color: #000080; text-decoration-color: #000080; font-weight: bold\">INFO    </span><span style=\"color: #008000; text-decoration-color: #008000; font-weight: bold\"> </span><span style=\"font-weight: bold\">[</span><span style=\"color: #008080; text-decoration-color: #008080; font-weight: bold\">3511079560.</span>py:<span style=\"color: #008080; text-decoration-color: #008080; font-weight: bold\">44</span><span style=\"font-weight: bold\">]</span> Creating heatmap visualization<span style=\"color: #808000; text-decoration-color: #808000\">...</span>                  <a href=\"file:///var/folders/j5/qcb5hwfx53q57rz91nm4rvr40000gn/T/ipykernel_83190/3511079560.py\" target=\"_blank\"><span style=\"color: #008080; text-decoration-color: #008080; font-weight: bold\">3511079560.py</span></a><span style=\"color: #008080; text-decoration-color: #008080; font-weight: bold\">:</span><a href=\"file:///var/folders/j5/qcb5hwfx53q57rz91nm4rvr40000gn/T/ipykernel_83190/3511079560.py#44\" target=\"_blank\"><span style=\"color: #008080; text-decoration-color: #008080; font-weight: bold\">44</span></a>\n",
       "</pre>\n"
      ],
      "text/plain": [
       "\u001b[2;36m                   \u001b[0m\u001b[2;36m \u001b[0m\u001b[1;34mINFO    \u001b[0m\u001b[1;32m \u001b[0m\u001b[1m[\u001b[0m\u001b[1;36m3511079560.\u001b[0mpy:\u001b[1;36m44\u001b[0m\u001b[1m]\u001b[0m Creating heatmap visualization\u001b[33m...\u001b[0m                  \u001b]8;id=395153;file:///var/folders/j5/qcb5hwfx53q57rz91nm4rvr40000gn/T/ipykernel_83190/3511079560.py\u001b\\\u001b[1;36m3511079560.py\u001b[0m\u001b]8;;\u001b\\\u001b[1;36m:\u001b[0m\u001b]8;id=180555;file:///var/folders/j5/qcb5hwfx53q57rz91nm4rvr40000gn/T/ipykernel_83190/3511079560.py#44\u001b\\\u001b[1;36m44\u001b[0m\u001b]8;;\u001b\\\n"
      ]
     },
     "metadata": {},
     "output_type": "display_data"
    },
    {
     "data": {
      "text/html": [
       "<pre style=\"white-space:pre;overflow-x:auto;line-height:normal;font-family:Menlo,'DejaVu Sans Mono',consolas,'Courier New',monospace\"><span style=\"color: #7fbfbf; text-decoration-color: #7fbfbf\">                    </span><span style=\"color: #000080; text-decoration-color: #000080; font-weight: bold\">INFO    </span><span style=\"color: #008000; text-decoration-color: #008000; font-weight: bold\"> </span><span style=\"font-weight: bold\">[</span><span style=\"color: #008080; text-decoration-color: #008080; font-weight: bold\">3511079560.</span>py:<span style=\"color: #008080; text-decoration-color: #008080; font-weight: bold\">50</span><span style=\"font-weight: bold\">]</span> Creating heatmap visualization<span style=\"color: #808000; text-decoration-color: #808000\">...</span>                  <a href=\"file:///var/folders/j5/qcb5hwfx53q57rz91nm4rvr40000gn/T/ipykernel_83190/3511079560.py\" target=\"_blank\"><span style=\"color: #008080; text-decoration-color: #008080; font-weight: bold\">3511079560.py</span></a><span style=\"color: #008080; text-decoration-color: #008080; font-weight: bold\">:</span><a href=\"file:///var/folders/j5/qcb5hwfx53q57rz91nm4rvr40000gn/T/ipykernel_83190/3511079560.py#50\" target=\"_blank\"><span style=\"color: #008080; text-decoration-color: #008080; font-weight: bold\">50</span></a>\n",
       "</pre>\n"
      ],
      "text/plain": [
       "\u001b[2;36m                   \u001b[0m\u001b[2;36m \u001b[0m\u001b[1;34mINFO    \u001b[0m\u001b[1;32m \u001b[0m\u001b[1m[\u001b[0m\u001b[1;36m3511079560.\u001b[0mpy:\u001b[1;36m50\u001b[0m\u001b[1m]\u001b[0m Creating heatmap visualization\u001b[33m...\u001b[0m                  \u001b]8;id=759129;file:///var/folders/j5/qcb5hwfx53q57rz91nm4rvr40000gn/T/ipykernel_83190/3511079560.py\u001b\\\u001b[1;36m3511079560.py\u001b[0m\u001b]8;;\u001b\\\u001b[1;36m:\u001b[0m\u001b]8;id=402971;file:///var/folders/j5/qcb5hwfx53q57rz91nm4rvr40000gn/T/ipykernel_83190/3511079560.py#50\u001b\\\u001b[1;36m50\u001b[0m\u001b]8;;\u001b\\\n"
      ]
     },
     "metadata": {},
     "output_type": "display_data"
    },
    {
     "name": "stdout",
     "output_type": "stream",
     "text": [
      "Row labels length: 19\n",
      "Col labels length: 17\n"
     ]
    },
    {
     "data": {
      "text/html": [
       "<pre style=\"white-space:pre;overflow-x:auto;line-height:normal;font-family:Menlo,'DejaVu Sans Mono',consolas,'Courier New',monospace\"><span style=\"color: #7fbfbf; text-decoration-color: #7fbfbf\">                    </span><span style=\"color: #000080; text-decoration-color: #000080; font-weight: bold\">INFO    </span><span style=\"color: #008000; text-decoration-color: #008000; font-weight: bold\"> </span><span style=\"font-weight: bold\">[</span><span style=\"color: #008080; text-decoration-color: #008080; font-weight: bold\">3511079560.</span>py:<span style=\"color: #008080; text-decoration-color: #008080; font-weight: bold\">44</span><span style=\"font-weight: bold\">]</span> Creating heatmap visualization<span style=\"color: #808000; text-decoration-color: #808000\">...</span>                  <a href=\"file:///var/folders/j5/qcb5hwfx53q57rz91nm4rvr40000gn/T/ipykernel_83190/3511079560.py\" target=\"_blank\"><span style=\"color: #008080; text-decoration-color: #008080; font-weight: bold\">3511079560.py</span></a><span style=\"color: #008080; text-decoration-color: #008080; font-weight: bold\">:</span><a href=\"file:///var/folders/j5/qcb5hwfx53q57rz91nm4rvr40000gn/T/ipykernel_83190/3511079560.py#44\" target=\"_blank\"><span style=\"color: #008080; text-decoration-color: #008080; font-weight: bold\">44</span></a>\n",
       "</pre>\n"
      ],
      "text/plain": [
       "\u001b[2;36m                   \u001b[0m\u001b[2;36m \u001b[0m\u001b[1;34mINFO    \u001b[0m\u001b[1;32m \u001b[0m\u001b[1m[\u001b[0m\u001b[1;36m3511079560.\u001b[0mpy:\u001b[1;36m44\u001b[0m\u001b[1m]\u001b[0m Creating heatmap visualization\u001b[33m...\u001b[0m                  \u001b]8;id=63735;file:///var/folders/j5/qcb5hwfx53q57rz91nm4rvr40000gn/T/ipykernel_83190/3511079560.py\u001b\\\u001b[1;36m3511079560.py\u001b[0m\u001b]8;;\u001b\\\u001b[1;36m:\u001b[0m\u001b]8;id=299049;file:///var/folders/j5/qcb5hwfx53q57rz91nm4rvr40000gn/T/ipykernel_83190/3511079560.py#44\u001b\\\u001b[1;36m44\u001b[0m\u001b]8;;\u001b\\\n"
      ]
     },
     "metadata": {},
     "output_type": "display_data"
    },
    {
     "data": {
      "text/html": [
       "<pre style=\"white-space:pre;overflow-x:auto;line-height:normal;font-family:Menlo,'DejaVu Sans Mono',consolas,'Courier New',monospace\"><span style=\"color: #7fbfbf; text-decoration-color: #7fbfbf\">                    </span><span style=\"color: #000080; text-decoration-color: #000080; font-weight: bold\">INFO    </span><span style=\"color: #008000; text-decoration-color: #008000; font-weight: bold\"> </span><span style=\"font-weight: bold\">[</span><span style=\"color: #008080; text-decoration-color: #008080; font-weight: bold\">3511079560.</span>py:<span style=\"color: #008080; text-decoration-color: #008080; font-weight: bold\">50</span><span style=\"font-weight: bold\">]</span> Creating heatmap visualization<span style=\"color: #808000; text-decoration-color: #808000\">...</span>                  <a href=\"file:///var/folders/j5/qcb5hwfx53q57rz91nm4rvr40000gn/T/ipykernel_83190/3511079560.py\" target=\"_blank\"><span style=\"color: #008080; text-decoration-color: #008080; font-weight: bold\">3511079560.py</span></a><span style=\"color: #008080; text-decoration-color: #008080; font-weight: bold\">:</span><a href=\"file:///var/folders/j5/qcb5hwfx53q57rz91nm4rvr40000gn/T/ipykernel_83190/3511079560.py#50\" target=\"_blank\"><span style=\"color: #008080; text-decoration-color: #008080; font-weight: bold\">50</span></a>\n",
       "</pre>\n"
      ],
      "text/plain": [
       "\u001b[2;36m                   \u001b[0m\u001b[2;36m \u001b[0m\u001b[1;34mINFO    \u001b[0m\u001b[1;32m \u001b[0m\u001b[1m[\u001b[0m\u001b[1;36m3511079560.\u001b[0mpy:\u001b[1;36m50\u001b[0m\u001b[1m]\u001b[0m Creating heatmap visualization\u001b[33m...\u001b[0m                  \u001b]8;id=922633;file:///var/folders/j5/qcb5hwfx53q57rz91nm4rvr40000gn/T/ipykernel_83190/3511079560.py\u001b\\\u001b[1;36m3511079560.py\u001b[0m\u001b]8;;\u001b\\\u001b[1;36m:\u001b[0m\u001b]8;id=960510;file:///var/folders/j5/qcb5hwfx53q57rz91nm4rvr40000gn/T/ipykernel_83190/3511079560.py#50\u001b\\\u001b[1;36m50\u001b[0m\u001b]8;;\u001b\\\n"
      ]
     },
     "metadata": {},
     "output_type": "display_data"
    },
    {
     "name": "stdout",
     "output_type": "stream",
     "text": [
      "Row labels length: 19\n",
      "Col labels length: 17\n"
     ]
    },
    {
     "data": {
      "text/html": [
       "<pre style=\"white-space:pre;overflow-x:auto;line-height:normal;font-family:Menlo,'DejaVu Sans Mono',consolas,'Courier New',monospace\"><span style=\"color: #7fbfbf; text-decoration-color: #7fbfbf\">                    </span><span style=\"color: #000080; text-decoration-color: #000080; font-weight: bold\">INFO    </span><span style=\"color: #008000; text-decoration-color: #008000; font-weight: bold\"> </span><span style=\"font-weight: bold\">[</span><span style=\"color: #008080; text-decoration-color: #008080; font-weight: bold\">3511079560.</span>py:<span style=\"color: #008080; text-decoration-color: #008080; font-weight: bold\">44</span><span style=\"font-weight: bold\">]</span> Creating heatmap visualization<span style=\"color: #808000; text-decoration-color: #808000\">...</span>                  <a href=\"file:///var/folders/j5/qcb5hwfx53q57rz91nm4rvr40000gn/T/ipykernel_83190/3511079560.py\" target=\"_blank\"><span style=\"color: #008080; text-decoration-color: #008080; font-weight: bold\">3511079560.py</span></a><span style=\"color: #008080; text-decoration-color: #008080; font-weight: bold\">:</span><a href=\"file:///var/folders/j5/qcb5hwfx53q57rz91nm4rvr40000gn/T/ipykernel_83190/3511079560.py#44\" target=\"_blank\"><span style=\"color: #008080; text-decoration-color: #008080; font-weight: bold\">44</span></a>\n",
       "</pre>\n"
      ],
      "text/plain": [
       "\u001b[2;36m                   \u001b[0m\u001b[2;36m \u001b[0m\u001b[1;34mINFO    \u001b[0m\u001b[1;32m \u001b[0m\u001b[1m[\u001b[0m\u001b[1;36m3511079560.\u001b[0mpy:\u001b[1;36m44\u001b[0m\u001b[1m]\u001b[0m Creating heatmap visualization\u001b[33m...\u001b[0m                  \u001b]8;id=832410;file:///var/folders/j5/qcb5hwfx53q57rz91nm4rvr40000gn/T/ipykernel_83190/3511079560.py\u001b\\\u001b[1;36m3511079560.py\u001b[0m\u001b]8;;\u001b\\\u001b[1;36m:\u001b[0m\u001b]8;id=140508;file:///var/folders/j5/qcb5hwfx53q57rz91nm4rvr40000gn/T/ipykernel_83190/3511079560.py#44\u001b\\\u001b[1;36m44\u001b[0m\u001b]8;;\u001b\\\n"
      ]
     },
     "metadata": {},
     "output_type": "display_data"
    },
    {
     "data": {
      "text/html": [
       "<pre style=\"white-space:pre;overflow-x:auto;line-height:normal;font-family:Menlo,'DejaVu Sans Mono',consolas,'Courier New',monospace\"><span style=\"color: #7fbfbf; text-decoration-color: #7fbfbf\">                    </span><span style=\"color: #000080; text-decoration-color: #000080; font-weight: bold\">INFO    </span><span style=\"color: #008000; text-decoration-color: #008000; font-weight: bold\"> </span><span style=\"font-weight: bold\">[</span><span style=\"color: #008080; text-decoration-color: #008080; font-weight: bold\">3511079560.</span>py:<span style=\"color: #008080; text-decoration-color: #008080; font-weight: bold\">50</span><span style=\"font-weight: bold\">]</span> Creating heatmap visualization<span style=\"color: #808000; text-decoration-color: #808000\">...</span>                  <a href=\"file:///var/folders/j5/qcb5hwfx53q57rz91nm4rvr40000gn/T/ipykernel_83190/3511079560.py\" target=\"_blank\"><span style=\"color: #008080; text-decoration-color: #008080; font-weight: bold\">3511079560.py</span></a><span style=\"color: #008080; text-decoration-color: #008080; font-weight: bold\">:</span><a href=\"file:///var/folders/j5/qcb5hwfx53q57rz91nm4rvr40000gn/T/ipykernel_83190/3511079560.py#50\" target=\"_blank\"><span style=\"color: #008080; text-decoration-color: #008080; font-weight: bold\">50</span></a>\n",
       "</pre>\n"
      ],
      "text/plain": [
       "\u001b[2;36m                   \u001b[0m\u001b[2;36m \u001b[0m\u001b[1;34mINFO    \u001b[0m\u001b[1;32m \u001b[0m\u001b[1m[\u001b[0m\u001b[1;36m3511079560.\u001b[0mpy:\u001b[1;36m50\u001b[0m\u001b[1m]\u001b[0m Creating heatmap visualization\u001b[33m...\u001b[0m                  \u001b]8;id=71146;file:///var/folders/j5/qcb5hwfx53q57rz91nm4rvr40000gn/T/ipykernel_83190/3511079560.py\u001b\\\u001b[1;36m3511079560.py\u001b[0m\u001b]8;;\u001b\\\u001b[1;36m:\u001b[0m\u001b]8;id=592881;file:///var/folders/j5/qcb5hwfx53q57rz91nm4rvr40000gn/T/ipykernel_83190/3511079560.py#50\u001b\\\u001b[1;36m50\u001b[0m\u001b]8;;\u001b\\\n"
      ]
     },
     "metadata": {},
     "output_type": "display_data"
    },
    {
     "name": "stdout",
     "output_type": "stream",
     "text": [
      "Row labels length: 19\n",
      "Col labels length: 17\n"
     ]
    },
    {
     "data": {
      "text/html": [
       "<pre style=\"white-space:pre;overflow-x:auto;line-height:normal;font-family:Menlo,'DejaVu Sans Mono',consolas,'Courier New',monospace\"><span style=\"color: #7fbfbf; text-decoration-color: #7fbfbf\">                    </span><span style=\"color: #000080; text-decoration-color: #000080; font-weight: bold\">INFO    </span><span style=\"color: #008000; text-decoration-color: #008000; font-weight: bold\"> </span><span style=\"font-weight: bold\">[</span><span style=\"color: #008080; text-decoration-color: #008080; font-weight: bold\">3511079560.</span>py:<span style=\"color: #008080; text-decoration-color: #008080; font-weight: bold\">44</span><span style=\"font-weight: bold\">]</span> Creating heatmap visualization<span style=\"color: #808000; text-decoration-color: #808000\">...</span>                  <a href=\"file:///var/folders/j5/qcb5hwfx53q57rz91nm4rvr40000gn/T/ipykernel_83190/3511079560.py\" target=\"_blank\"><span style=\"color: #008080; text-decoration-color: #008080; font-weight: bold\">3511079560.py</span></a><span style=\"color: #008080; text-decoration-color: #008080; font-weight: bold\">:</span><a href=\"file:///var/folders/j5/qcb5hwfx53q57rz91nm4rvr40000gn/T/ipykernel_83190/3511079560.py#44\" target=\"_blank\"><span style=\"color: #008080; text-decoration-color: #008080; font-weight: bold\">44</span></a>\n",
       "</pre>\n"
      ],
      "text/plain": [
       "\u001b[2;36m                   \u001b[0m\u001b[2;36m \u001b[0m\u001b[1;34mINFO    \u001b[0m\u001b[1;32m \u001b[0m\u001b[1m[\u001b[0m\u001b[1;36m3511079560.\u001b[0mpy:\u001b[1;36m44\u001b[0m\u001b[1m]\u001b[0m Creating heatmap visualization\u001b[33m...\u001b[0m                  \u001b]8;id=799477;file:///var/folders/j5/qcb5hwfx53q57rz91nm4rvr40000gn/T/ipykernel_83190/3511079560.py\u001b\\\u001b[1;36m3511079560.py\u001b[0m\u001b]8;;\u001b\\\u001b[1;36m:\u001b[0m\u001b]8;id=855595;file:///var/folders/j5/qcb5hwfx53q57rz91nm4rvr40000gn/T/ipykernel_83190/3511079560.py#44\u001b\\\u001b[1;36m44\u001b[0m\u001b]8;;\u001b\\\n"
      ]
     },
     "metadata": {},
     "output_type": "display_data"
    },
    {
     "data": {
      "text/html": [
       "<pre style=\"white-space:pre;overflow-x:auto;line-height:normal;font-family:Menlo,'DejaVu Sans Mono',consolas,'Courier New',monospace\"><span style=\"color: #7fbfbf; text-decoration-color: #7fbfbf\">                    </span><span style=\"color: #000080; text-decoration-color: #000080; font-weight: bold\">INFO    </span><span style=\"color: #008000; text-decoration-color: #008000; font-weight: bold\"> </span><span style=\"font-weight: bold\">[</span><span style=\"color: #008080; text-decoration-color: #008080; font-weight: bold\">3511079560.</span>py:<span style=\"color: #008080; text-decoration-color: #008080; font-weight: bold\">50</span><span style=\"font-weight: bold\">]</span> Creating heatmap visualization<span style=\"color: #808000; text-decoration-color: #808000\">...</span>                  <a href=\"file:///var/folders/j5/qcb5hwfx53q57rz91nm4rvr40000gn/T/ipykernel_83190/3511079560.py\" target=\"_blank\"><span style=\"color: #008080; text-decoration-color: #008080; font-weight: bold\">3511079560.py</span></a><span style=\"color: #008080; text-decoration-color: #008080; font-weight: bold\">:</span><a href=\"file:///var/folders/j5/qcb5hwfx53q57rz91nm4rvr40000gn/T/ipykernel_83190/3511079560.py#50\" target=\"_blank\"><span style=\"color: #008080; text-decoration-color: #008080; font-weight: bold\">50</span></a>\n",
       "</pre>\n"
      ],
      "text/plain": [
       "\u001b[2;36m                   \u001b[0m\u001b[2;36m \u001b[0m\u001b[1;34mINFO    \u001b[0m\u001b[1;32m \u001b[0m\u001b[1m[\u001b[0m\u001b[1;36m3511079560.\u001b[0mpy:\u001b[1;36m50\u001b[0m\u001b[1m]\u001b[0m Creating heatmap visualization\u001b[33m...\u001b[0m                  \u001b]8;id=305887;file:///var/folders/j5/qcb5hwfx53q57rz91nm4rvr40000gn/T/ipykernel_83190/3511079560.py\u001b\\\u001b[1;36m3511079560.py\u001b[0m\u001b]8;;\u001b\\\u001b[1;36m:\u001b[0m\u001b]8;id=312486;file:///var/folders/j5/qcb5hwfx53q57rz91nm4rvr40000gn/T/ipykernel_83190/3511079560.py#50\u001b\\\u001b[1;36m50\u001b[0m\u001b]8;;\u001b\\\n"
      ]
     },
     "metadata": {},
     "output_type": "display_data"
    },
    {
     "name": "stdout",
     "output_type": "stream",
     "text": [
      "Row labels length: 19\n",
      "Col labels length: 17\n"
     ]
    },
    {
     "data": {
      "text/html": [
       "<pre style=\"white-space:pre;overflow-x:auto;line-height:normal;font-family:Menlo,'DejaVu Sans Mono',consolas,'Courier New',monospace\"><span style=\"color: #7fbfbf; text-decoration-color: #7fbfbf\">                    </span><span style=\"color: #000080; text-decoration-color: #000080; font-weight: bold\">INFO    </span><span style=\"color: #008000; text-decoration-color: #008000; font-weight: bold\"> </span> Saving HTML figure to                                               <a href=\"file:///Users/4gate/git/embedding_translation/src/viz/save_figure.py\" target=\"_blank\"><span style=\"color: #008080; text-decoration-color: #008080; font-weight: bold\">save_figure.py</span></a><span style=\"color: #008080; text-decoration-color: #008080; font-weight: bold\">:</span><a href=\"file:///Users/4gate/git/embedding_translation/src/viz/save_figure.py#32\" target=\"_blank\"><span style=\"color: #008080; text-decoration-color: #008080; font-weight: bold\">32</span></a>\n",
       "<span style=\"color: #7fbfbf; text-decoration-color: #7fbfbf\">                    </span><span style=\"color: #008000; text-decoration-color: #008000; font-weight: bold\">         </span><span style=\"color: #800080; text-decoration-color: #800080\">/Users/4gate/git/embedding_translation/data/figs/html/</span><span style=\"color: #ff00ff; text-decoration-color: #ff00ff\">trec-covid_lor</span> <span style=\"color: #008080; text-decoration-color: #008080; font-weight: bold\">                 </span>\n",
       "<span style=\"color: #7fbfbf; text-decoration-color: #7fbfbf\">                    </span><span style=\"color: #008000; text-decoration-color: #008000; font-weight: bold\">         </span><span style=\"color: #ff00ff; text-decoration-color: #ff00ff\">d_farquad_was_heren.html</span>                                             <span style=\"color: #008080; text-decoration-color: #008080; font-weight: bold\">                 </span>\n",
       "</pre>\n"
      ],
      "text/plain": [
       "\u001b[2;36m                   \u001b[0m\u001b[2;36m \u001b[0m\u001b[1;34mINFO    \u001b[0m\u001b[1;32m \u001b[0m Saving HTML figure to                                               \u001b]8;id=915913;file:///Users/4gate/git/embedding_translation/src/viz/save_figure.py\u001b\\\u001b[1;36msave_figure.py\u001b[0m\u001b]8;;\u001b\\\u001b[1;36m:\u001b[0m\u001b]8;id=766131;file:///Users/4gate/git/embedding_translation/src/viz/save_figure.py#32\u001b\\\u001b[1;36m32\u001b[0m\u001b]8;;\u001b\\\n",
       "\u001b[2;36m                    \u001b[0m\u001b[1;32m         \u001b[0m\u001b[35m/Users/4gate/git/embedding_translation/data/figs/html/\u001b[0m\u001b[95mtrec-covid_lor\u001b[0m \u001b[1;36m                 \u001b[0m\n",
       "\u001b[2;36m                    \u001b[0m\u001b[1;32m         \u001b[0m\u001b[95md_farquad_was_heren.html\u001b[0m                                             \u001b[1;36m                 \u001b[0m\n"
      ]
     },
     "metadata": {},
     "output_type": "display_data"
    },
    {
     "data": {
      "text/html": [
       "<pre style=\"white-space:pre;overflow-x:auto;line-height:normal;font-family:Menlo,'DejaVu Sans Mono',consolas,'Courier New',monospace\"><span style=\"color: #7fbfbf; text-decoration-color: #7fbfbf\">                    </span><span style=\"color: #008000; text-decoration-color: #008000; font-weight: bold\">SUCCESS  </span> Successfully saved HTML to                                          <a href=\"file:///Users/4gate/git/embedding_translation/src/viz/save_figure.py\" target=\"_blank\"><span style=\"color: #008080; text-decoration-color: #008080; font-weight: bold\">save_figure.py</span></a><span style=\"color: #008080; text-decoration-color: #008080; font-weight: bold\">:</span><a href=\"file:///Users/4gate/git/embedding_translation/src/viz/save_figure.py#40\" target=\"_blank\"><span style=\"color: #008080; text-decoration-color: #008080; font-weight: bold\">40</span></a>\n",
       "<span style=\"color: #7fbfbf; text-decoration-color: #7fbfbf\">                    </span><span style=\"color: #008000; text-decoration-color: #008000; font-weight: bold\">         </span><span style=\"color: #800080; text-decoration-color: #800080\">/Users/4gate/git/embedding_translation/data/figs/html/</span><span style=\"color: #ff00ff; text-decoration-color: #ff00ff\">trec-covid_lor</span> <span style=\"color: #008080; text-decoration-color: #008080; font-weight: bold\">                 </span>\n",
       "<span style=\"color: #7fbfbf; text-decoration-color: #7fbfbf\">                    </span><span style=\"color: #008000; text-decoration-color: #008000; font-weight: bold\">         </span><span style=\"color: #ff00ff; text-decoration-color: #ff00ff\">d_farquad_was_heren.html</span>                                             <span style=\"color: #008080; text-decoration-color: #008080; font-weight: bold\">                 </span>\n",
       "</pre>\n"
      ],
      "text/plain": [
       "\u001b[2;36m                   \u001b[0m\u001b[2;36m \u001b[0m\u001b[1;32mSUCCESS \u001b[0m\u001b[1;32m \u001b[0m Successfully saved HTML to                                          \u001b]8;id=369477;file:///Users/4gate/git/embedding_translation/src/viz/save_figure.py\u001b\\\u001b[1;36msave_figure.py\u001b[0m\u001b]8;;\u001b\\\u001b[1;36m:\u001b[0m\u001b]8;id=601676;file:///Users/4gate/git/embedding_translation/src/viz/save_figure.py#40\u001b\\\u001b[1;36m40\u001b[0m\u001b]8;;\u001b\\\n",
       "\u001b[2;36m                    \u001b[0m\u001b[1;32m         \u001b[0m\u001b[35m/Users/4gate/git/embedding_translation/data/figs/html/\u001b[0m\u001b[95mtrec-covid_lor\u001b[0m \u001b[1;36m                 \u001b[0m\n",
       "\u001b[2;36m                    \u001b[0m\u001b[1;32m         \u001b[0m\u001b[95md_farquad_was_heren.html\u001b[0m                                             \u001b[1;36m                 \u001b[0m\n"
      ]
     },
     "metadata": {},
     "output_type": "display_data"
    },
    {
     "data": {
      "text/html": [
       "<pre style=\"white-space:pre;overflow-x:auto;line-height:normal;font-family:Menlo,'DejaVu Sans Mono',consolas,'Courier New',monospace\"><span style=\"color: #7fbfbf; text-decoration-color: #7fbfbf\">                    </span><span style=\"color: #000080; text-decoration-color: #000080; font-weight: bold\">INFO    </span><span style=\"color: #008000; text-decoration-color: #008000; font-weight: bold\"> </span> Saving PNG figure to                                                <a href=\"file:///Users/4gate/git/embedding_translation/src/viz/save_figure.py\" target=\"_blank\"><span style=\"color: #008080; text-decoration-color: #008080; font-weight: bold\">save_figure.py</span></a><span style=\"color: #008080; text-decoration-color: #008080; font-weight: bold\">:</span><a href=\"file:///Users/4gate/git/embedding_translation/src/viz/save_figure.py#67\" target=\"_blank\"><span style=\"color: #008080; text-decoration-color: #008080; font-weight: bold\">67</span></a>\n",
       "<span style=\"color: #7fbfbf; text-decoration-color: #7fbfbf\">                    </span><span style=\"color: #008000; text-decoration-color: #008000; font-weight: bold\">         </span><span style=\"color: #800080; text-decoration-color: #800080\">/Users/4gate/git/embedding_translation/data/figs/imgs/</span><span style=\"color: #ff00ff; text-decoration-color: #ff00ff\">trec-covid_lor</span> <span style=\"color: #008080; text-decoration-color: #008080; font-weight: bold\">                 </span>\n",
       "<span style=\"color: #7fbfbf; text-decoration-color: #7fbfbf\">                    </span><span style=\"color: #008000; text-decoration-color: #008000; font-weight: bold\">         </span><span style=\"color: #ff00ff; text-decoration-color: #ff00ff\">d_farquad_was_heren.png</span>                                              <span style=\"color: #008080; text-decoration-color: #008080; font-weight: bold\">                 </span>\n",
       "</pre>\n"
      ],
      "text/plain": [
       "\u001b[2;36m                   \u001b[0m\u001b[2;36m \u001b[0m\u001b[1;34mINFO    \u001b[0m\u001b[1;32m \u001b[0m Saving PNG figure to                                                \u001b]8;id=393119;file:///Users/4gate/git/embedding_translation/src/viz/save_figure.py\u001b\\\u001b[1;36msave_figure.py\u001b[0m\u001b]8;;\u001b\\\u001b[1;36m:\u001b[0m\u001b]8;id=577997;file:///Users/4gate/git/embedding_translation/src/viz/save_figure.py#67\u001b\\\u001b[1;36m67\u001b[0m\u001b]8;;\u001b\\\n",
       "\u001b[2;36m                    \u001b[0m\u001b[1;32m         \u001b[0m\u001b[35m/Users/4gate/git/embedding_translation/data/figs/imgs/\u001b[0m\u001b[95mtrec-covid_lor\u001b[0m \u001b[1;36m                 \u001b[0m\n",
       "\u001b[2;36m                    \u001b[0m\u001b[1;32m         \u001b[0m\u001b[95md_farquad_was_heren.png\u001b[0m                                              \u001b[1;36m                 \u001b[0m\n"
      ]
     },
     "metadata": {},
     "output_type": "display_data"
    },
    {
     "data": {
      "text/html": [
       "<pre style=\"white-space:pre;overflow-x:auto;line-height:normal;font-family:Menlo,'DejaVu Sans Mono',consolas,'Courier New',monospace\"><span style=\"color: #7fbfbf; text-decoration-color: #7fbfbf\">                    </span><span style=\"color: #008000; text-decoration-color: #008000; font-weight: bold\">SUCCESS  </span> Successfully saved PNG to                                           <a href=\"file:///Users/4gate/git/embedding_translation/src/viz/save_figure.py\" target=\"_blank\"><span style=\"color: #008080; text-decoration-color: #008080; font-weight: bold\">save_figure.py</span></a><span style=\"color: #008080; text-decoration-color: #008080; font-weight: bold\">:</span><a href=\"file:///Users/4gate/git/embedding_translation/src/viz/save_figure.py#76\" target=\"_blank\"><span style=\"color: #008080; text-decoration-color: #008080; font-weight: bold\">76</span></a>\n",
       "<span style=\"color: #7fbfbf; text-decoration-color: #7fbfbf\">                    </span><span style=\"color: #008000; text-decoration-color: #008000; font-weight: bold\">         </span><span style=\"color: #800080; text-decoration-color: #800080\">/Users/4gate/git/embedding_translation/data/figs/imgs/</span><span style=\"color: #ff00ff; text-decoration-color: #ff00ff\">trec-covid_lor</span> <span style=\"color: #008080; text-decoration-color: #008080; font-weight: bold\">                 </span>\n",
       "<span style=\"color: #7fbfbf; text-decoration-color: #7fbfbf\">                    </span><span style=\"color: #008000; text-decoration-color: #008000; font-weight: bold\">         </span><span style=\"color: #ff00ff; text-decoration-color: #ff00ff\">d_farquad_was_heren.png</span>                                              <span style=\"color: #008080; text-decoration-color: #008080; font-weight: bold\">                 </span>\n",
       "</pre>\n"
      ],
      "text/plain": [
       "\u001b[2;36m                   \u001b[0m\u001b[2;36m \u001b[0m\u001b[1;32mSUCCESS \u001b[0m\u001b[1;32m \u001b[0m Successfully saved PNG to                                           \u001b]8;id=413935;file:///Users/4gate/git/embedding_translation/src/viz/save_figure.py\u001b\\\u001b[1;36msave_figure.py\u001b[0m\u001b]8;;\u001b\\\u001b[1;36m:\u001b[0m\u001b]8;id=354003;file:///Users/4gate/git/embedding_translation/src/viz/save_figure.py#76\u001b\\\u001b[1;36m76\u001b[0m\u001b]8;;\u001b\\\n",
       "\u001b[2;36m                    \u001b[0m\u001b[1;32m         \u001b[0m\u001b[35m/Users/4gate/git/embedding_translation/data/figs/imgs/\u001b[0m\u001b[95mtrec-covid_lor\u001b[0m \u001b[1;36m                 \u001b[0m\n",
       "\u001b[2;36m                    \u001b[0m\u001b[1;32m         \u001b[0m\u001b[95md_farquad_was_heren.png\u001b[0m                                              \u001b[1;36m                 \u001b[0m\n"
      ]
     },
     "metadata": {},
     "output_type": "display_data"
    }
   ],
   "source": [
    "import einops\n",
    "def animated_heatmap(\n",
    "    matrices: np.ndarray | None = None,\n",
    "    row_labels: list | None = None,\n",
    "    col_labels: list | None = None,\n",
    "    title: str = \"DEFAULT TITLE\",\n",
    "    show_values: bool = True,\n",
    "    value_format: Literal[\".2f\", \".2e\"] = \".2f\",\n",
    "    width: int = 800,\n",
    "    height: int = 600,\n",
    "    xaxis_title: str | None = None,\n",
    "    yaxis_title: str | None = None,\n",
    "    log: bool = False,\n",
    "    nan_diagnal: bool = False,\n",
    "    frame_duration: int = 500,\n",
    "    slider_labels: list[str] | None = None,\n",
    "    slider_prefix: str = \"Frame: \",\n",
    "):\n",
    "    # Generate demo data if matrices is None\n",
    "    if matrices is None:\n",
    "        faker = Faker()\n",
    "        shape = (5, 10, 10)  # (time, rows, cols)\n",
    "        matrices = rng.random(shape)\n",
    "        # logger.info(matrices)\n",
    "    elif matrices.ndim != 3:\n",
    "        raise ValueError(\"Expected 3D array (time, rows, cols)\")\n",
    "\n",
    "    n_frames, n_rows, n_cols = matrices.shape\n",
    "\n",
    "    if col_labels is None:\n",
    "        assert col_labels is not None # XXX\n",
    "        faker = Faker()\n",
    "        col_labels = [faker.name() for _ in range(n_cols)]\n",
    "    if row_labels is None:\n",
    "        assert row_labels is not None\n",
    "        faker = Faker()\n",
    "        row_labels = [faker.name() for _ in range(n_rows)]\n",
    "\n",
    "    # Process all matrices\n",
    "    processed_matrices = []\n",
    "    for matrix in matrices:\n",
    "        # Convert and process each time slice\n",
    "        matrix = np.array(matrix, dtype=object)\n",
    "        none_mask = matrix is None\n",
    "        matrix = matrix.astype(float)\n",
    "        if log:\n",
    "            matrix = np.log10(matrix)\n",
    "        matrix[none_mask] = np.nan\n",
    "        if nan_diagnal:\n",
    "            # Replace with a shittier method that will work with non-square\n",
    "            assert len(matrix.shape) == 2\n",
    "            for i in range(max(matrix.shape)):\n",
    "                matrix[i, i] = np.nan\n",
    "            # matrix[np.identity(matrix.shape[0], dtype=bool)] = np.nan\n",
    "        processed_matrices.append(matrix)\n",
    "    # print([x.shape for x in processed_matrices])\n",
    "    # raise NotADirectoryError # [DEBUG => yes not square]\n",
    "\n",
    "        # Update the sliders configuration with custom labels\n",
    "    if slider_labels is not None:\n",
    "        if len(slider_labels) != n_frames:\n",
    "            raise ValueError(f\"Expected {n_frames} slider labels, got {len(slider_labels)}\")\n",
    "        frame_labels = slider_labels\n",
    "    else:\n",
    "        frame_labels = [str(k) for k in range(n_frames)]\n",
    "\n",
    "    layout_sliders = [\n",
    "        go.layout.Slider(\n",
    "            active=0,\n",
    "            yanchor=\"bottom\",\n",
    "            xanchor=\"left\",\n",
    "            currentvalue=go.layout.slider.Currentvalue(\n",
    "                font=dict(size=20), prefix=slider_prefix, visible=True, xanchor=\"right\"\n",
    "            ),\n",
    "            transition=go.layout.slider.Transition(duration=frame_duration, easing=\"cubic-in-out\"),\n",
    "            pad=dict(b=10, t=50),\n",
    "            len=0.9,\n",
    "            x=0.1,\n",
    "            y=1.1,\n",
    "            steps=[\n",
    "                go.layout.slider.Step(\n",
    "                    args=[\n",
    "                        [f\"frame_{k}\"],\n",
    "                        {\n",
    "                            \"frame\": {\"duration\": frame_duration, \"redraw\": True},\n",
    "                            \"mode\": \"immediate\",\n",
    "                            \"transition\": {\"duration\": frame_duration},\n",
    "                        },\n",
    "                    ],\n",
    "                    label=label,\n",
    "                    method=\"animate\",\n",
    "                )\n",
    "                for k, label in enumerate(frame_labels)\n",
    "            ],\n",
    "        )\n",
    "    ]\n",
    "\n",
    "    # Create frames for animation\n",
    "    assert col_labels is not None\n",
    "    assert row_labels is not None\n",
    "    frames = [\n",
    "        go.Frame(\n",
    "            data=[heatmap(\n",
    "                matrix=matrix,\n",
    "                row_labels=row_labels,\n",
    "                col_labels=col_labels,\n",
    "                show_values=show_values).data[0]\n",
    "            ],\n",
    "            name=f\"frame_{i}\",  # name is required for frames\n",
    "        )\n",
    "        for i, matrix in enumerate(processed_matrices)\n",
    "    ]\n",
    "\n",
    "    # Create the figure with the initial frame\n",
    "    fig = go.Figure(\n",
    "        data=[heatmap(processed_matrices[0], row_labels=row_labels, col_labels=col_labels, show_values=show_values).data[0]],\n",
    "        frames=frames,\n",
    "        layout=go.Layout(\n",
    "            width=width,\n",
    "            height=height,\n",
    "            title=dict(\n",
    "                text=title,\n",
    "                y=0.95,  # Move title down slightly from the top\n",
    "                x=0.5,   # Center the title\n",
    "                xanchor='center',\n",
    "                yanchor='top'\n",
    "            ),\n",
    "            margin=dict(\n",
    "                t=150,  # Increase top margin to make room for slider\n",
    "                b=80,   # Bottom margin\n",
    "                l=80,   # Left margin\n",
    "                r=80    # Right margin\n",
    "            ),\n",
    "            xaxis=go.layout.XAxis(\n",
    "                title=xaxis_title,\n",
    "                nticks=len(col_labels) if col_labels else None,\n",
    "                fixedrange=True,\n",
    "            ),\n",
    "            yaxis=go.layout.YAxis(\n",
    "                title=yaxis_title,\n",
    "                nticks=len(row_labels) if row_labels else None,\n",
    "                fixedrange=True,\n",
    "            ),\n",
    "            dragmode=False,\n",
    "            updatemenus=[\n",
    "                go.layout.Updatemenu(\n",
    "                    buttons=[\n",
    "                        # go.layout.updatemenu.Button(\n",
    "                        #     args=[\n",
    "                        #         None,\n",
    "                        #         {\n",
    "                        #             \"frame\": {\"duration\": frame_duration, \"redraw\": True},\n",
    "                        #             \"fromcurrent\": True,\n",
    "                        #         },\n",
    "                        #     ],\n",
    "                        #     label=\"Play\",\n",
    "                        #     method=\"animate\",\n",
    "                        # ),\n",
    "                        # go.layout.updatemenu.Button(\n",
    "                        #     args=[\n",
    "                        #         [None],\n",
    "                        #         {\n",
    "                        #             \"frame\": {\"duration\": 0, \"redraw\": True},\n",
    "                        #             \"mode\": \"immediate\",\n",
    "                        #             \"transition\": {\"duration\": 0},\n",
    "                        #         },\n",
    "                        #     ],\n",
    "                        #     label=\"Pause\",\n",
    "                        #     method=\"animate\",\n",
    "                        # ),\n",
    "                    ],\n",
    "                    direction=\"left\",\n",
    "                    pad={\"r\": 10, \"t\": 87},\n",
    "                    showactive=False,\n",
    "                    type=\"buttons\",\n",
    "                    x=0.1,\n",
    "                    xanchor=\"right\",\n",
    "                    y=1.1,\n",
    "                    yanchor=\"bottom\",\n",
    "                )\n",
    "            ],\n",
    "        ),\n",
    "    )\n",
    "\n",
    "    # Update the layout dictionary to include the new sliders\n",
    "    fig.update_layout(sliders=layout_sliders)\n",
    "\n",
    "    return fig\n",
    "\n",
    "\n",
    "path2mses_l2plus = Path.cwd().parent / \"dl_final_project_tables_tensors\" / \"all_mses_table_l2plus_yes_ctrl\"\n",
    "assert path2mses_l2plus.exists()\n",
    "info_json_path = path2mses_l2plus / \"info.json\"\n",
    "tables_path = path2mses_l2plus / \"table.safetensors\"\n",
    "info_json = orjson.loads(info_json_path.open().read())\n",
    "tables = load_file(tables_path)[\"table\"]\n",
    "print(tables)\n",
    "\n",
    "# NOTE we can use this to make sure that the dataset weighted average is honest\n",
    "DATASET2SIZES = {\n",
    "    \"arguana\": {\n",
    "        \"train\": 8928,\n",
    "        \"validation\": 2227\n",
    "    },\n",
    "    \"fiqa\": {\n",
    "        \"train\": 24900,\n",
    "        \"validation\": 6265\n",
    "    },\n",
    "    \"scidocs\": {\n",
    "        \"train\": 25157,\n",
    "        \"validation\": 6280\n",
    "    },\n",
    "    \"nfcorpus\": {\n",
    "        \"train\": 5227,\n",
    "        \"validation\": 1306\n",
    "    },\n",
    "    \"hotpotqa\": {\n",
    "        \"train\": 20070,\n",
    "        \"validation\": 5017\n",
    "    },\n",
    "    \"trec-covid\": {\n",
    "        \"train\": 24617,\n",
    "        \"validation\": 6137\n",
    "    }\n",
    "}\n",
    "# print(info_json.keys())\n",
    "# IDX2MODEL =info_json[\"idx2model\"] # Buggy\n",
    "MODEL2IDX = info_json[\"model2idx\"]\n",
    "IDX2DATASET = info_json[\"idx2dataset\"]\n",
    "DATASET2IDX = info_json[\"dataset2idx\"]\n",
    "print(tables.shape)\n",
    "# print(IDX2MODEL.keys()) # skips 17...\n",
    "# print(IDX2DATASET)\n",
    "# print(MODEL2IDX) <---- OK\n",
    "IDX2MODEL = {v: k for k, v in MODEL2IDX.items()}\n",
    "IDX2DATASET = {int(k): v for k, v in IDX2DATASET.items()}\n",
    "import sys\n",
    "sys.path.append(Path.cwd().parent.as_posix())\n",
    "from src.viz.save_figure import save_figure\n",
    "import torch\n",
    "dataset_sizes = np.array([DATASET2SIZES[k][\"validation\"] for k in [\"arguana\", \"fiqa\", \"scidocs\", \"nfcorpus\", \"hotpotqa\", \"trec-covid\"]]).astype(np.float32)\n",
    "dataset_probs = dataset_sizes / dataset_sizes.sum()\n",
    "assert np.isclose(dataset_probs.sum(), 1.0)\n",
    "assert DATASET2IDX[\"arguana\"] == 0\n",
    "assert DATASET2IDX[\"fiqa\"] == 1\n",
    "assert DATASET2IDX[\"scidocs\"] == 2\n",
    "assert DATASET2IDX[\"nfcorpus\"] == 3\n",
    "assert DATASET2IDX[\"hotpotqa\"] == 4\n",
    "assert DATASET2IDX[\"trec-covid\"] == 5\n",
    "arguana_table = tables[0]\n",
    "fiqa_table = tables[1]\n",
    "scidocs_table = tables[2]\n",
    "nfcorpus_table = tables[3]\n",
    "hotpotqa_table = tables[4]\n",
    "trec_covid_table = tables[5]\n",
    "weighted_average_table = (\n",
    "    arguana_table * dataset_probs[0] +\n",
    "    fiqa_table * dataset_probs[1] +\n",
    "    scidocs_table * dataset_probs[2] +\n",
    "    nfcorpus_table * dataset_probs[3] +\n",
    "    hotpotqa_table * dataset_probs[4] +\n",
    "    trec_covid_table * dataset_probs[5]\n",
    ")\n",
    "tables = np.concatenate([weighted_average_table[np.newaxis, ...], tables], axis=0)\n",
    "print(tables.shape)\n",
    "DATASET2IDX = {k: i for i, k in enumerate([\"weighted-average\", \"arguana\", \"fiqa\", \"scidocs\", \"nfcorpus\", \"hotpotqa\", \"trec-covid\"])}\n",
    "IDX2DATASET = {i: k for k, i in DATASET2IDX.items()}\n",
    "# raise NotImplementedError\n",
    "\n",
    "for dataset in [\"weighted-average\", \"arguana\", \"fiqa\", \"scidocs\", \"nfcorpus\", \"hotpotqa\", \"trec-covid\"]:\n",
    "    t0 = tables[DATASET2IDX[dataset]]\n",
    "    t0 = einops.rearrange(t0, \"x y depth -> depth x y\")\n",
    "    # print(\"T0 shape:\", t0.shape)\n",
    "    fig = animated_heatmap(\n",
    "        matrices=t0,\n",
    "        row_labels=[IDX2MODEL[i].split(\"/\")[-1] for i in range(len(IDX2MODEL))],\n",
    "        col_labels=[IDX2MODEL[i].split(\"/\")[-1] for i in range(len(IDX2MODEL) - 2)],\n",
    "        title=f\"Validation MSE (log) ({dataset})\",\n",
    "        show_values=True,\n",
    "        value_format=\".2e\",\n",
    "        width=800,\n",
    "        height=600,\n",
    "        xaxis_title=\"Target Embedding Space\",\n",
    "        yaxis_title=\"Native Embedding Space\",\n",
    "        log=True,\n",
    "        # nan_diagnal=True,\n",
    "        frame_duration=500,\n",
    "        slider_labels=list(range(2, 8)),\n",
    "        slider_prefix=\"Depth: \"\n",
    "    ) # fetch for first dataset\n",
    "    # fig.show()\n",
    "    save_figure(\n",
    "        fig,\n",
    "        f\"{dataset}_lord_farquad_was_heren\",\n",
    "        output_dir=PROJ_ROOT / \"data\" / \"figs\",\n",
    "    )"
   ]
  },
  {
   "cell_type": "markdown",
   "metadata": {},
   "source": [
    "## Import Data\n"
   ]
  },
  {
   "cell_type": "code",
   "execution_count": 23,
   "metadata": {},
   "outputs": [],
   "source": [
    "# Load Metadata\n",
    "\"\"\"\n",
    "# 6 Datasets (ArguAna, FiQA, SciDocs, NFCorpus, HotPotQA, Trec-COVID)\n",
    "# 17 Native Embedding Spaces\n",
    "# 17 Stitched Embedding Spaces\n",
    "# 6 Architectures (2, 3, 4, 5, 6, or 7 layers)\n",
    "\"\"\"\n",
    "with CKA_META.open() as f:\n",
    "    meta = orjson.loads(f.read())\n",
    "\n",
    "# pretty.pprint(meta)\n",
    "\n",
    "meta_df = pl.read_json(CKA_META)\n",
    "\n",
    "\n",
    "# def create_index_df(meta: dict) -> pl.DataFrame:\n",
    "#     \"\"\"Create an index DataFrame for easy tensor lookup using np.indices.\n",
    "\n",
    "#     Args:\n",
    "#         meta: Dictionary containing dataset2idx and model2idx mappings\n",
    "\n",
    "#     Returns:\n",
    "#         pl.DataFrame: DataFrame with hierarchical index for tensor lookup\n",
    "#     \"\"\"\n",
    "#     # Get shape from metadata\n",
    "#     n_datasets = len(meta[\"dataset2idx\"])\n",
    "#     n_models = len(meta[\"model2idx\"])\n",
    "#     n_layers = len(meta[\"num_layers\"])\n",
    "\n",
    "#     # Create indices arrays for each dimension\n",
    "#     datasets, sources, targets, layers = np.indices((n_datasets, n_models, n_models, n_layers))\n",
    "\n",
    "#     # Create reverse mapping dictionaries\n",
    "#     dataset_map = {v: k for k, v in meta[\"dataset2idx\"].items()}\n",
    "#     model_map = {v: k for k, v in meta[\"model2idx\"].items()}\n",
    "\n",
    "#     # Create DataFrame\n",
    "#     return pl.DataFrame(\n",
    "#         {\n",
    "#             \"dataset\": pl.Series(datasets.flatten()).cast_dict(dataset_map),\n",
    "#             \"source_model\": pl.Series(sources.flatten()).cast_dict(model_map),\n",
    "#             \"target_model\": pl.Series(targets.flatten()).cast_dict(model_map),\n",
    "#             \"num_layers\": pl.Series(layers.flatten()) + 2,  # Convert 0-based to 2-based\n",
    "#             \"index\": list(\n",
    "#                 zip(datasets.flatten(), sources.flatten(), targets.flatten(), layers.flatten())\n",
    "#             ),\n",
    "#         }\n",
    "#     )\n",
    "\n",
    "\n",
    "# create_index_df(meta)\n",
    "# why am I being silly, work on this later."
   ]
  },
  {
   "cell_type": "code",
   "execution_count": 24,
   "metadata": {},
   "outputs": [
    {
     "name": "stderr",
     "output_type": "stream",
     "text": [
      "\u001b[32m2024-12-13 22:38:53.426\u001b[0m | \u001b[1mINFO    \u001b[0m | \u001b[36m__main__\u001b[0m:\u001b[36m<module>\u001b[0m:\u001b[36m3\u001b[0m - \u001b[1m['table']\u001b[0m\n"
     ]
    },
    {
     "name": "stdout",
     "output_type": "stream",
     "text": [
      "(6, 17, 17, 1)\n"
     ]
    }
   ],
   "source": [
    "# Load Tensors\n",
    "tensors = load_file(CKA_TENSORS)\n",
    "logger.info(list(tensors.keys()))\n",
    "ckas = tensors[\"table\"]\n",
    "# f\"{tensors[\"validation_mses\"].shape=}\"\n",
    "# f\"{tensors[\"table\"].shape=}\"\n",
    "print(ckas.shape)"
   ]
  },
  {
   "cell_type": "code",
   "execution_count": 25,
   "metadata": {},
   "outputs": [],
   "source": [
    "# from safetensors.numpy import load_file\n",
    "\n",
    "\n",
    "# def safetensor_to_polars(\n",
    "#     tensor_path: Path,\n",
    "#     meta_path: Path,\n",
    "# ) -> pl.DataFrame:\n",
    "#     \"\"\"Convert safetensor validation MSEs to a polars dataframe.\n",
    "\n",
    "#     Args:\n",
    "#         tensor_path: Path to .safetensors file\n",
    "#         meta_path: Path to metadata JSON file\n",
    "\n",
    "#     Returns:\n",
    "#         pl.DataFrame: Long-format dataframe with validation MSEs\n",
    "#     \"\"\"\n",
    "#     # Load metadata\n",
    "#     with meta_path.open() as f:\n",
    "#         meta = orjson.loads(f.read())\n",
    "\n",
    "#     # Load tensor\n",
    "#     tensor_dict = load_file(tensor_path)  # (6, 17, 17, 6)\n",
    "#     validation_mses = tensor_dict[\"validation_mses\"]\n",
    "\n",
    "#     # Create mapping dictionaries\n",
    "#     dataset_map = {v: k for k, v in meta[\"dataset2idx\"].items()}\n",
    "#     model_map = {v: k for k, v in meta[\"model2idx\"].items()}\n",
    "\n",
    "#     # Create index arrays for each dimension\n",
    "#     datasets, source_models, target_models, architectures = np.indices(validation_mses.shape)\n",
    "\n",
    "#     # Create dataframe\n",
    "#     mse_df = pl.DataFrame(\n",
    "#         {\n",
    "#             \"dataset\": datasets.flatten(),\n",
    "#             \"source_model\": source_models.flatten(),\n",
    "#             \"target_model\": target_models.flatten(),\n",
    "#             \"num_layers\": architectures.flatten(),\n",
    "#             \"mse\": validation_mses.flatten(),\n",
    "#         }\n",
    "#     )\n",
    "\n",
    "#     # Map indices to names\n",
    "#     mse_df = mse_df.with_columns(\n",
    "#         [\n",
    "#             pl.col(\"dataset\").map_dict(dataset_map).alias(\"dataset_name\"),\n",
    "#             pl.col(\"source_model\").map_dict(model_map).alias(\"source_model_name\"),\n",
    "#             pl.col(\"target_model\").map_dict(model_map).alias(\"target_model_name\"),\n",
    "#             pl.col(\"num_layers\").map_dict(dict(enumerate(meta[\"num_layers\"]))).alias(\"num_layers\"),\n",
    "#         ]\n",
    "#     ).drop(\"dataset\", \"source_model\", \"target_model\")\n",
    "\n",
    "#     return mse_df\n",
    "\n",
    "\n",
    "# # Usage\n",
    "# mse_df = safetensor_to_polars(\n",
    "#     tensor_path=MLP_MSE_VALIDATION_TENSORS, meta_path=MLP_MSE_VALIDATION_META\n",
    "# )\n",
    "# not working, also fucked around here."
   ]
  },
  {
   "cell_type": "code",
   "execution_count": 26,
   "metadata": {},
   "outputs": [
    {
     "name": "stderr",
     "output_type": "stream",
     "text": [
      "\u001b[32m2024-12-13 22:38:53.432\u001b[0m | \u001b[1mINFO    \u001b[0m | \u001b[36m__main__\u001b[0m:\u001b[36m<module>\u001b[0m:\u001b[36m6\u001b[0m - \u001b[1m(17, 17)\u001b[0m\n"
     ]
    },
    {
     "data": {
      "text/html": [
       "<pre style=\"white-space:pre;overflow-x:auto;line-height:normal;font-family:Menlo,'DejaVu Sans Mono',consolas,'Courier New',monospace\"><span style=\"color: #800080; text-decoration-color: #800080; font-weight: bold\">array</span><span style=\"font-weight: bold\">([[</span><span style=\"color: #008080; text-decoration-color: #008080; font-weight: bold\">1</span>.   , <span style=\"color: #008080; text-decoration-color: #008080; font-weight: bold\">0.848</span>, <span style=\"color: #008080; text-decoration-color: #008080; font-weight: bold\">0.98</span> , <span style=\"color: #808000; text-decoration-color: #808000\">...</span>, <span style=\"color: #008080; text-decoration-color: #008080; font-weight: bold\">0.76</span> , <span style=\"color: #008080; text-decoration-color: #008080; font-weight: bold\">0.813</span>, <span style=\"color: #008080; text-decoration-color: #008080; font-weight: bold\">0.823</span><span style=\"font-weight: bold\">]</span>,\n",
       "<span style=\"color: #7fbf7f; text-decoration-color: #7fbf7f\">│      </span><span style=\"font-weight: bold\">[</span><span style=\"color: #008080; text-decoration-color: #008080; font-weight: bold\">0.848</span>, <span style=\"color: #008080; text-decoration-color: #008080; font-weight: bold\">1</span>.   , <span style=\"color: #008080; text-decoration-color: #008080; font-weight: bold\">0.843</span>, <span style=\"color: #808000; text-decoration-color: #808000\">...</span>, <span style=\"color: #008080; text-decoration-color: #008080; font-weight: bold\">0.747</span>, <span style=\"color: #008080; text-decoration-color: #008080; font-weight: bold\">0.795</span>, <span style=\"color: #008080; text-decoration-color: #008080; font-weight: bold\">0.809</span><span style=\"font-weight: bold\">]</span>,\n",
       "<span style=\"color: #7fbf7f; text-decoration-color: #7fbf7f\">│      </span><span style=\"font-weight: bold\">[</span><span style=\"color: #008080; text-decoration-color: #008080; font-weight: bold\">0.98</span> , <span style=\"color: #008080; text-decoration-color: #008080; font-weight: bold\">0.843</span>, <span style=\"color: #008080; text-decoration-color: #008080; font-weight: bold\">1</span>.   , <span style=\"color: #808000; text-decoration-color: #808000\">...</span>, <span style=\"color: #008080; text-decoration-color: #008080; font-weight: bold\">0.742</span>, <span style=\"color: #008080; text-decoration-color: #008080; font-weight: bold\">0.794</span>, <span style=\"color: #008080; text-decoration-color: #008080; font-weight: bold\">0.801</span><span style=\"font-weight: bold\">]</span>,\n",
       "<span style=\"color: #7fbf7f; text-decoration-color: #7fbf7f\">│      </span><span style=\"color: #808000; text-decoration-color: #808000\">...</span>,\n",
       "<span style=\"color: #7fbf7f; text-decoration-color: #7fbf7f\">│      </span><span style=\"font-weight: bold\">[</span><span style=\"color: #008080; text-decoration-color: #008080; font-weight: bold\">0.76</span> , <span style=\"color: #008080; text-decoration-color: #008080; font-weight: bold\">0.747</span>, <span style=\"color: #008080; text-decoration-color: #008080; font-weight: bold\">0.742</span>, <span style=\"color: #808000; text-decoration-color: #808000\">...</span>, <span style=\"color: #008080; text-decoration-color: #008080; font-weight: bold\">1</span>.   , <span style=\"color: #008080; text-decoration-color: #008080; font-weight: bold\">0.801</span>, <span style=\"color: #008080; text-decoration-color: #008080; font-weight: bold\">0.801</span><span style=\"font-weight: bold\">]</span>,\n",
       "<span style=\"color: #7fbf7f; text-decoration-color: #7fbf7f\">│      </span><span style=\"font-weight: bold\">[</span><span style=\"color: #008080; text-decoration-color: #008080; font-weight: bold\">0.813</span>, <span style=\"color: #008080; text-decoration-color: #008080; font-weight: bold\">0.795</span>, <span style=\"color: #008080; text-decoration-color: #008080; font-weight: bold\">0.794</span>, <span style=\"color: #808000; text-decoration-color: #808000\">...</span>, <span style=\"color: #008080; text-decoration-color: #008080; font-weight: bold\">0.801</span>, <span style=\"color: #008080; text-decoration-color: #008080; font-weight: bold\">1</span>.   , <span style=\"color: #008080; text-decoration-color: #008080; font-weight: bold\">0.896</span><span style=\"font-weight: bold\">]</span>,\n",
       "<span style=\"color: #7fbf7f; text-decoration-color: #7fbf7f\">│      </span><span style=\"font-weight: bold\">[</span><span style=\"color: #008080; text-decoration-color: #008080; font-weight: bold\">0.823</span>, <span style=\"color: #008080; text-decoration-color: #008080; font-weight: bold\">0.809</span>, <span style=\"color: #008080; text-decoration-color: #008080; font-weight: bold\">0.801</span>, <span style=\"color: #808000; text-decoration-color: #808000\">...</span>, <span style=\"color: #008080; text-decoration-color: #008080; font-weight: bold\">0.801</span>, <span style=\"color: #008080; text-decoration-color: #008080; font-weight: bold\">0.896</span>, <span style=\"color: #008080; text-decoration-color: #008080; font-weight: bold\">1</span>.   <span style=\"font-weight: bold\">]]</span>, <span style=\"color: #808000; text-decoration-color: #808000\">dtype</span>=<span style=\"color: #800080; text-decoration-color: #800080\">float32</span><span style=\"font-weight: bold\">)</span>\n",
       "</pre>\n"
      ],
      "text/plain": [
       "\u001b[1;35marray\u001b[0m\u001b[1m(\u001b[0m\u001b[1m[\u001b[0m\u001b[1m[\u001b[0m\u001b[1;36m1\u001b[0m.   , \u001b[1;36m0.848\u001b[0m, \u001b[1;36m0.98\u001b[0m , \u001b[33m...\u001b[0m, \u001b[1;36m0.76\u001b[0m , \u001b[1;36m0.813\u001b[0m, \u001b[1;36m0.823\u001b[0m\u001b[1m]\u001b[0m,\n",
       "\u001b[2;32m│      \u001b[0m\u001b[1m[\u001b[0m\u001b[1;36m0.848\u001b[0m, \u001b[1;36m1\u001b[0m.   , \u001b[1;36m0.843\u001b[0m, \u001b[33m...\u001b[0m, \u001b[1;36m0.747\u001b[0m, \u001b[1;36m0.795\u001b[0m, \u001b[1;36m0.809\u001b[0m\u001b[1m]\u001b[0m,\n",
       "\u001b[2;32m│      \u001b[0m\u001b[1m[\u001b[0m\u001b[1;36m0.98\u001b[0m , \u001b[1;36m0.843\u001b[0m, \u001b[1;36m1\u001b[0m.   , \u001b[33m...\u001b[0m, \u001b[1;36m0.742\u001b[0m, \u001b[1;36m0.794\u001b[0m, \u001b[1;36m0.801\u001b[0m\u001b[1m]\u001b[0m,\n",
       "\u001b[2;32m│      \u001b[0m\u001b[33m...\u001b[0m,\n",
       "\u001b[2;32m│      \u001b[0m\u001b[1m[\u001b[0m\u001b[1;36m0.76\u001b[0m , \u001b[1;36m0.747\u001b[0m, \u001b[1;36m0.742\u001b[0m, \u001b[33m...\u001b[0m, \u001b[1;36m1\u001b[0m.   , \u001b[1;36m0.801\u001b[0m, \u001b[1;36m0.801\u001b[0m\u001b[1m]\u001b[0m,\n",
       "\u001b[2;32m│      \u001b[0m\u001b[1m[\u001b[0m\u001b[1;36m0.813\u001b[0m, \u001b[1;36m0.795\u001b[0m, \u001b[1;36m0.794\u001b[0m, \u001b[33m...\u001b[0m, \u001b[1;36m0.801\u001b[0m, \u001b[1;36m1\u001b[0m.   , \u001b[1;36m0.896\u001b[0m\u001b[1m]\u001b[0m,\n",
       "\u001b[2;32m│      \u001b[0m\u001b[1m[\u001b[0m\u001b[1;36m0.823\u001b[0m, \u001b[1;36m0.809\u001b[0m, \u001b[1;36m0.801\u001b[0m, \u001b[33m...\u001b[0m, \u001b[1;36m0.801\u001b[0m, \u001b[1;36m0.896\u001b[0m, \u001b[1;36m1\u001b[0m.   \u001b[1m]\u001b[0m\u001b[1m]\u001b[0m, \u001b[33mdtype\u001b[0m=\u001b[35mfloat32\u001b[0m\u001b[1m)\u001b[0m\n"
      ]
     },
     "metadata": {},
     "output_type": "display_data"
    }
   ],
   "source": [
    "# Print Imported Data (One Dataset, One Architecture)\n",
    "dataset_i = 0\n",
    "architecture_i = 0\n",
    "\n",
    "example_cka = ckas[dataset_i, :, :, architecture_i]\n",
    "logger.info(example_cka.shape)\n",
    "pretty.pprint(example_cka)"
   ]
  },
  {
   "cell_type": "code",
   "execution_count": 27,
   "metadata": {},
   "outputs": [
    {
     "ename": "ModuleNotFoundError",
     "evalue": "No module named 'src'",
     "output_type": "error",
     "traceback": [
      "\u001b[0;31m---------------------------------------------------------------------------\u001b[0m",
      "\u001b[0;31mModuleNotFoundError\u001b[0m                       Traceback (most recent call last)",
      "Cell \u001b[0;32mIn[27], line 3\u001b[0m\n\u001b[1;32m      1\u001b[0m \u001b[38;5;66;03m# Visualize Imported Data (One Dataset, All Architectures)\u001b[39;00m\n\u001b[0;32m----> 3\u001b[0m \u001b[38;5;28;01mfrom\u001b[39;00m \u001b[38;5;21;01msrc\u001b[39;00m\u001b[38;5;21;01m.\u001b[39;00m\u001b[38;5;21;01mviz\u001b[39;00m\u001b[38;5;21;01m.\u001b[39;00m\u001b[38;5;21;01msave_figure\u001b[39;00m \u001b[38;5;28;01mimport\u001b[39;00m save_figure\n\u001b[1;32m      6\u001b[0m labels \u001b[38;5;241m=\u001b[39m \u001b[38;5;28msorted\u001b[39m(meta[\u001b[38;5;124m\"\u001b[39m\u001b[38;5;124mmodel2idx\u001b[39m\u001b[38;5;124m\"\u001b[39m], key\u001b[38;5;241m=\u001b[39m\u001b[38;5;28;01mlambda\u001b[39;00m k: meta[\u001b[38;5;124m\"\u001b[39m\u001b[38;5;124mmodel2idx\u001b[39m\u001b[38;5;124m\"\u001b[39m][k])\n\u001b[1;32m      7\u001b[0m num_layers \u001b[38;5;241m=\u001b[39m \u001b[38;5;28msorted\u001b[39m(meta[\u001b[38;5;124m\"\u001b[39m\u001b[38;5;124mnum_layers\u001b[39m\u001b[38;5;124m\"\u001b[39m])\n",
      "\u001b[0;31mModuleNotFoundError\u001b[0m: No module named 'src'"
     ]
    }
   ],
   "source": [
    "# Visualize Imported Data (One Dataset, All Architectures)\n",
    "\n",
    "from src.viz.save_figure import save_figure\n",
    "\n",
    "\n",
    "labels = sorted(meta[\"model2idx\"], key=lambda k: meta[\"model2idx\"][k])\n",
    "num_layers = sorted(meta[\"num_layers\"])\n",
    "\n",
    "for dataset_name, dataset_i in meta[\"dataset2idx\"].items():\n",
    "    matrix = ckas[dataset_i, :, :, :].transpose(2, 0, 1)\n",
    "    fig = animated_heatmap(\n",
    "        matrices=matrix,\n",
    "        log=True,\n",
    "        title=f\"Validation MSE (log) ({dataset_name})\",\n",
    "        labels=labels,\n",
    "        nan_diagnal=True,\n",
    "        slider_prefix=\"Number of Layers: \",\n",
    "        slider_labels=num_layers,\n",
    "    )\n",
    "    save_figure(\n",
    "        fig,\n",
    "        f\"{dataset_name}_all_layers_mse_withlog_validation\",\n",
    "        output_dir=PROJ_ROOT / \"data\" / \"figs\",\n",
    "    )\n",
    "    save_figure(\n",
    "        fig,\n",
    "        f\"{dataset_name}_all_layers_mse_withlog_validation\",\n",
    "        output_dir=PROJ_ROOT / \"src\" / \"blog\" / \"figs\" / \"gatlen\",\n",
    "    )"
   ]
  },
  {
   "cell_type": "code",
   "execution_count": null,
   "metadata": {},
   "outputs": [],
   "source": [
    "# Lastly get the mean score (not weighted)\n",
    "dataset_name = \"weightedmean\"\n",
    "average_validation_mse = ckas.mean(axis=0)  # Calculate mean across datasets (axis=0)\n",
    "fig = animated_heatmap(\n",
    "    matrices=average_validation_mse.transpose(2, 0, 1),  # Reshape to (n_layers, n_models, n_models)\n",
    "    log=True,\n",
    "    title=f\"Validation MSE (log) ({dataset_name})\",\n",
    "    labels=labels,\n",
    "    nan_diagnal=True,\n",
    "    slider_prefix=\"Number of Layers: \",\n",
    "    slider_labels=num_layers,\n",
    ")\n",
    "save_figure(\n",
    "    fig,\n",
    "    f\"{dataset_name}_all_layers_mse_withlog_validation\",\n",
    "    output_dir=PROJ_ROOT / \"data\" / \"figs\",\n",
    ")\n",
    "save_figure(\n",
    "    fig,\n",
    "    f\"{dataset_name}_all_layers_mse_withlog_validation\",\n",
    "    output_dir=PROJ_ROOT / \"src\" / \"blog\" / \"figs\" / \"gatlen\",\n",
    ")"
   ]
  },
  {
   "cell_type": "markdown",
   "metadata": {},
   "source": [
    "## Get Loss vs Layers\n"
   ]
  },
  {
   "cell_type": "code",
   "execution_count": null,
   "metadata": {},
   "outputs": [],
   "source": [
    "average_validation_mse.shape  # (17, 17, 6)"
   ]
  },
  {
   "cell_type": "code",
   "execution_count": null,
   "metadata": {},
   "outputs": [],
   "source": [
    "# Create figure\n",
    "fig = go.Figure()\n",
    "\n",
    "# Get model labels for the legend\n",
    "model_labels = sorted(meta[\"model2idx\"], key=lambda k: meta[\"model2idx\"][k])\n",
    "\n",
    "# Create traces grouped by source model\n",
    "for i in range(17):\n",
    "    # Create a legendgroup for each source model\n",
    "    legendgroup = model_labels[i]\n",
    "\n",
    "    for j in range(17):\n",
    "        if i != j:  # Skip diagonal entries since they're NaN\n",
    "            y_values = average_validation_mse[i, j, :]\n",
    "            fig.add_trace(\n",
    "                go.Scatter(\n",
    "                    x=x_values,\n",
    "                    y=y_values,\n",
    "                    mode=\"lines\",\n",
    "                    name=f\"{model_labels[j]}\",  # Only show target model in name\n",
    "                    legendgroup=legendgroup,  # Group by source model\n",
    "                    legendgrouptitle_text=f\"From: {legendgroup}\",  # Add group title\n",
    "                    showlegend=True,  # Show all traces in legend\n",
    "                    line=dict(width=1),\n",
    "                    opacity=0.5,\n",
    "                )\n",
    "            )\n",
    "\n",
    "# Update layout with smaller legend text and grouping\n",
    "fig.update_layout(\n",
    "    title=\"MSE vs Number of Layers for All Model Pairs\",\n",
    "    xaxis_title=\"Number of Layers\",\n",
    "    yaxis_title=\"MSE\",\n",
    "    width=1000,\n",
    "    height=600,\n",
    "    showlegend=True,\n",
    "    yaxis_type=\"log\",\n",
    "    legend=dict(font=dict(size=7), groupclick=\"toggleitem\"),\n",
    ")\n",
    "\n",
    "# Add gridlines\n",
    "fig.update_xaxes(showgrid=True, gridwidth=1, gridcolor=\"LightGray\")\n",
    "fig.update_yaxes(showgrid=True, gridwidth=1, gridcolor=\"LightGray\")\n",
    "\n",
    "# Show figure\n",
    "fig"
   ]
  },
  {
   "cell_type": "code",
   "execution_count": null,
   "metadata": {},
   "outputs": [],
   "source": [
    "# Save figure\n",
    "save_figure(\n",
    "    fig,\n",
    "    \"mse_vs_layers_all_pairs\",\n",
    "    output_dir=PROJ_ROOT / \"data\" / \"figs\",\n",
    ")\n",
    "save_figure(\n",
    "    fig,\n",
    "    \"mse_vs_layers_all_pairs\",\n",
    "    output_dir=PROJ_ROOT / \"src\" / \"blog\" / \"figs\" / \"gatlen\",\n",
    ")"
   ]
  },
  {
   "cell_type": "code",
   "execution_count": null,
   "metadata": {},
   "outputs": [],
   "source": [
    "# Create line plot showing average MSE vs number of layers\n",
    "fig = go.Figure()\n",
    "\n",
    "# Calculate mean MSE across all model pairs (excluding diagonal)\n",
    "mean_mse = []\n",
    "for layer_idx in range(6):  # For each layer configuration\n",
    "    layer_mse = average_validation_mse[:, :, layer_idx]  # Get MSE matrix for this layer\n",
    "    # Create mask to exclude diagonal elements\n",
    "    mask = ~np.eye(17, dtype=bool)\n",
    "    # Calculate mean excluding diagonal elements\n",
    "    mean_mse.append(layer_mse[mask].mean())\n",
    "\n",
    "# Add trace for mean MSE\n",
    "fig.add_trace(\n",
    "    go.Scatter(\n",
    "        x=x_values,\n",
    "        y=mean_mse,\n",
    "        mode=\"lines+markers\",\n",
    "        name=\"Mean MSE across all model pairs\",\n",
    "        line=dict(width=3, color=\"blue\"),\n",
    "        marker=dict(size=10),\n",
    "    )\n",
    ")\n",
    "\n",
    "# Update layout\n",
    "fig.update_layout(\n",
    "    title=\"Mean MSE vs Number of Layers (Averaged Across All Model Pairs)\",\n",
    "    xaxis_title=\"Number of Layers\",\n",
    "    yaxis_title=\"Mean MSE\",\n",
    "    width=800,\n",
    "    height=500,\n",
    "    showlegend=False,\n",
    "    yaxis_type=\"log\",  # Use log scale for y-axis\n",
    "    template=\"plotly_white\",  # Clean template\n",
    ")\n",
    "\n",
    "# Add gridlines\n",
    "fig.update_xaxes(showgrid=True, gridwidth=1, gridcolor=\"LightGray\")\n",
    "fig.update_yaxes(showgrid=True, gridwidth=1, gridcolor=\"LightGray\")\n",
    "\n",
    "# Show figure\n",
    "fig"
   ]
  },
  {
   "cell_type": "code",
   "execution_count": null,
   "metadata": {},
   "outputs": [],
   "source": [
    "# Save figure\n",
    "save_figure(\n",
    "    fig,\n",
    "    \"mean_mse_vs_layers\",\n",
    "    output_dir=PROJ_ROOT / \"data\" / \"figs\",\n",
    ")\n",
    "save_figure(\n",
    "    fig,\n",
    "    \"mean_mse_vs_layers\",\n",
    "    output_dir=PROJ_ROOT / \"src\" / \"blog\" / \"figs\" / \"gatlen\",\n",
    ")"
   ]
  }
 ],
 "metadata": {
  "kernelspec": {
   "display_name": ".venv",
   "language": "python",
   "name": "python3"
  },
  "language_info": {
   "codemirror_mode": {
    "name": "ipython",
    "version": 3
   },
   "file_extension": ".py",
   "mimetype": "text/x-python",
   "name": "python",
   "nbconvert_exporter": "python",
   "pygments_lexer": "ipython3",
   "version": "3.11.10"
  }
 },
 "nbformat": 4,
 "nbformat_minor": 2
}
