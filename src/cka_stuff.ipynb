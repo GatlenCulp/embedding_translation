{
 "cells": [
  {
   "cell_type": "markdown",
   "metadata": {},
   "source": [
    "# Complexity vs MSE and Rank Graphs\n"
   ]
  },
  {
   "cell_type": "markdown",
   "metadata": {},
   "source": [
    "## Setup\n"
   ]
  },
  {
   "cell_type": "code",
   "execution_count": 1,
   "metadata": {},
   "outputs": [
    {
     "name": "stdout",
     "output_type": "stream",
     "text": [
      "Requirement already satisfied: safetensors in /Users/gat/work/FA2024/embedding_translation/.venv/lib/python3.12/site-packages (0.4.5)\n",
      "Note: you may need to restart the kernel to use updated packages.\n"
     ]
    }
   ],
   "source": [
    "# Installs\n",
    "%pip install safetensors"
   ]
  },
  {
   "cell_type": "code",
   "execution_count": 2,
   "metadata": {},
   "outputs": [],
   "source": [
    "# Imports\n",
    "from safetensors.numpy import load_file\n",
    "from pathlib import Path\n",
    "from loguru import logger\n",
    "import orjson\n",
    "from rich import pretty\n",
    "import plotly.graph_objects as go\n",
    "import plotly.io as pio\n",
    "import plotly\n",
    "from faker import Faker\n",
    "from typing import Literal\n",
    "import polars as pl\n",
    "\n",
    "# from IPython.display import display\n",
    "import numpy as np\n",
    "\n",
    "np.set_printoptions(\n",
    "    precision=3,\n",
    "    suppress=True,\n",
    "    threshold=5,\n",
    ")\n",
    "rng = np.random.default_rng(0)\n",
    "faker = Faker()\n",
    "pio.templates.default = \"plotly\""
   ]
  },
  {
   "cell_type": "code",
   "execution_count": 3,
   "metadata": {},
   "outputs": [
    {
     "name": "stderr",
     "output_type": "stream",
     "text": [
      "\u001b[32m2024-12-13 20:41:52.304\u001b[0m | \u001b[1mINFO    \u001b[0m | \u001b[36m__main__\u001b[0m:\u001b[36m<cell line: 0>\u001b[0m:\u001b[36m3\u001b[0m - \u001b[1m/Users/gat/work/FA2024/embedding_translation\u001b[0m\n",
      "\u001b[32m2024-12-13 20:41:52.306\u001b[0m | \u001b[1mINFO    \u001b[0m | \u001b[36m__main__\u001b[0m:\u001b[36m<cell line: 0>\u001b[0m:\u001b[36m5\u001b[0m - \u001b[1m/Users/gat/work/FA2024/embedding_translation/data\u001b[0m\n"
     ]
    }
   ],
   "source": [
    "# Directories\n",
    "PROJ_ROOT = Path.cwd().resolve().parent\n",
    "logger.info(PROJ_ROOT)\n",
    "DATA_DIR = PROJ_ROOT / \"data\"\n",
    "logger.info(DATA_DIR)\n",
    "CKA_DIR = DATA_DIR / \"cka_centered_natives\"\n",
    "CKA_TENSORS = CKA_DIR / \"table.safetensors\"\n",
    "CKA_META = CKA_DIR / \"info.json\""
   ]
  },
  {
   "cell_type": "markdown",
   "metadata": {},
   "source": [
    "## Helper Viz\n"
   ]
  },
  {
   "cell_type": "code",
   "execution_count": 4,
   "metadata": {},
   "outputs": [
    {
     "data": {
      "application/vnd.plotly.v1+json": {
       "config": {
        "plotlyServerURL": "https://plot.ly"
       },
       "data": [
        {
         "colorscale": [
          [
           0,
           "#440154"
          ],
          [
           0.1111111111111111,
           "#482878"
          ],
          [
           0.2222222222222222,
           "#3e4989"
          ],
          [
           0.3333333333333333,
           "#31688e"
          ],
          [
           0.4444444444444444,
           "#26828e"
          ],
          [
           0.5555555555555556,
           "#1f9e89"
          ],
          [
           0.6666666666666666,
           "#35b779"
          ],
          [
           0.7777777777777778,
           "#6ece58"
          ],
          [
           0.8888888888888888,
           "#b5de2b"
          ],
          [
           1,
           "#fde725"
          ]
         ],
         "reversescale": false,
         "showlegend": false,
         "showscale": true,
         "textfont": {
          "color": "black"
         },
         "type": "heatmap",
         "x": [
          "A",
          "B",
          "C"
         ],
         "y": [
          "X",
          "Y",
          "Z"
         ],
         "z": [
          [
           1,
           2,
           3
          ],
          [
           4,
           5,
           6
          ],
          [
           7,
           8,
           9
          ]
         ]
        }
       ],
       "layout": {
        "dragmode": false,
        "height": 600,
        "modebar": {
         "remove": [
          "zoomIn2d",
          "zoomOut2d",
          "autoScale2d",
          "resetScale2d",
          "hoverClosestCartesian",
          "hoverCompareCartesian",
          "toggleSpikelines"
         ]
        },
        "template": {
         "data": {
          "bar": [
           {
            "error_x": {
             "color": "#2a3f5f"
            },
            "error_y": {
             "color": "#2a3f5f"
            },
            "marker": {
             "line": {
              "color": "#E5ECF6",
              "width": 0.5
             },
             "pattern": {
              "fillmode": "overlay",
              "size": 10,
              "solidity": 0.2
             }
            },
            "type": "bar"
           }
          ],
          "barpolar": [
           {
            "marker": {
             "line": {
              "color": "#E5ECF6",
              "width": 0.5
             },
             "pattern": {
              "fillmode": "overlay",
              "size": 10,
              "solidity": 0.2
             }
            },
            "type": "barpolar"
           }
          ],
          "carpet": [
           {
            "aaxis": {
             "endlinecolor": "#2a3f5f",
             "gridcolor": "white",
             "linecolor": "white",
             "minorgridcolor": "white",
             "startlinecolor": "#2a3f5f"
            },
            "baxis": {
             "endlinecolor": "#2a3f5f",
             "gridcolor": "white",
             "linecolor": "white",
             "minorgridcolor": "white",
             "startlinecolor": "#2a3f5f"
            },
            "type": "carpet"
           }
          ],
          "choropleth": [
           {
            "colorbar": {
             "outlinewidth": 0,
             "ticks": ""
            },
            "type": "choropleth"
           }
          ],
          "contour": [
           {
            "colorbar": {
             "outlinewidth": 0,
             "ticks": ""
            },
            "colorscale": [
             [
              0,
              "#0d0887"
             ],
             [
              0.1111111111111111,
              "#46039f"
             ],
             [
              0.2222222222222222,
              "#7201a8"
             ],
             [
              0.3333333333333333,
              "#9c179e"
             ],
             [
              0.4444444444444444,
              "#bd3786"
             ],
             [
              0.5555555555555556,
              "#d8576b"
             ],
             [
              0.6666666666666666,
              "#ed7953"
             ],
             [
              0.7777777777777778,
              "#fb9f3a"
             ],
             [
              0.8888888888888888,
              "#fdca26"
             ],
             [
              1,
              "#f0f921"
             ]
            ],
            "type": "contour"
           }
          ],
          "contourcarpet": [
           {
            "colorbar": {
             "outlinewidth": 0,
             "ticks": ""
            },
            "type": "contourcarpet"
           }
          ],
          "heatmap": [
           {
            "colorbar": {
             "outlinewidth": 0,
             "ticks": ""
            },
            "colorscale": [
             [
              0,
              "#0d0887"
             ],
             [
              0.1111111111111111,
              "#46039f"
             ],
             [
              0.2222222222222222,
              "#7201a8"
             ],
             [
              0.3333333333333333,
              "#9c179e"
             ],
             [
              0.4444444444444444,
              "#bd3786"
             ],
             [
              0.5555555555555556,
              "#d8576b"
             ],
             [
              0.6666666666666666,
              "#ed7953"
             ],
             [
              0.7777777777777778,
              "#fb9f3a"
             ],
             [
              0.8888888888888888,
              "#fdca26"
             ],
             [
              1,
              "#f0f921"
             ]
            ],
            "type": "heatmap"
           }
          ],
          "heatmapgl": [
           {
            "colorbar": {
             "outlinewidth": 0,
             "ticks": ""
            },
            "colorscale": [
             [
              0,
              "#0d0887"
             ],
             [
              0.1111111111111111,
              "#46039f"
             ],
             [
              0.2222222222222222,
              "#7201a8"
             ],
             [
              0.3333333333333333,
              "#9c179e"
             ],
             [
              0.4444444444444444,
              "#bd3786"
             ],
             [
              0.5555555555555556,
              "#d8576b"
             ],
             [
              0.6666666666666666,
              "#ed7953"
             ],
             [
              0.7777777777777778,
              "#fb9f3a"
             ],
             [
              0.8888888888888888,
              "#fdca26"
             ],
             [
              1,
              "#f0f921"
             ]
            ],
            "type": "heatmapgl"
           }
          ],
          "histogram": [
           {
            "marker": {
             "pattern": {
              "fillmode": "overlay",
              "size": 10,
              "solidity": 0.2
             }
            },
            "type": "histogram"
           }
          ],
          "histogram2d": [
           {
            "colorbar": {
             "outlinewidth": 0,
             "ticks": ""
            },
            "colorscale": [
             [
              0,
              "#0d0887"
             ],
             [
              0.1111111111111111,
              "#46039f"
             ],
             [
              0.2222222222222222,
              "#7201a8"
             ],
             [
              0.3333333333333333,
              "#9c179e"
             ],
             [
              0.4444444444444444,
              "#bd3786"
             ],
             [
              0.5555555555555556,
              "#d8576b"
             ],
             [
              0.6666666666666666,
              "#ed7953"
             ],
             [
              0.7777777777777778,
              "#fb9f3a"
             ],
             [
              0.8888888888888888,
              "#fdca26"
             ],
             [
              1,
              "#f0f921"
             ]
            ],
            "type": "histogram2d"
           }
          ],
          "histogram2dcontour": [
           {
            "colorbar": {
             "outlinewidth": 0,
             "ticks": ""
            },
            "colorscale": [
             [
              0,
              "#0d0887"
             ],
             [
              0.1111111111111111,
              "#46039f"
             ],
             [
              0.2222222222222222,
              "#7201a8"
             ],
             [
              0.3333333333333333,
              "#9c179e"
             ],
             [
              0.4444444444444444,
              "#bd3786"
             ],
             [
              0.5555555555555556,
              "#d8576b"
             ],
             [
              0.6666666666666666,
              "#ed7953"
             ],
             [
              0.7777777777777778,
              "#fb9f3a"
             ],
             [
              0.8888888888888888,
              "#fdca26"
             ],
             [
              1,
              "#f0f921"
             ]
            ],
            "type": "histogram2dcontour"
           }
          ],
          "mesh3d": [
           {
            "colorbar": {
             "outlinewidth": 0,
             "ticks": ""
            },
            "type": "mesh3d"
           }
          ],
          "parcoords": [
           {
            "line": {
             "colorbar": {
              "outlinewidth": 0,
              "ticks": ""
             }
            },
            "type": "parcoords"
           }
          ],
          "pie": [
           {
            "automargin": true,
            "type": "pie"
           }
          ],
          "scatter": [
           {
            "fillpattern": {
             "fillmode": "overlay",
             "size": 10,
             "solidity": 0.2
            },
            "type": "scatter"
           }
          ],
          "scatter3d": [
           {
            "line": {
             "colorbar": {
              "outlinewidth": 0,
              "ticks": ""
             }
            },
            "marker": {
             "colorbar": {
              "outlinewidth": 0,
              "ticks": ""
             }
            },
            "type": "scatter3d"
           }
          ],
          "scattercarpet": [
           {
            "marker": {
             "colorbar": {
              "outlinewidth": 0,
              "ticks": ""
             }
            },
            "type": "scattercarpet"
           }
          ],
          "scattergeo": [
           {
            "marker": {
             "colorbar": {
              "outlinewidth": 0,
              "ticks": ""
             }
            },
            "type": "scattergeo"
           }
          ],
          "scattergl": [
           {
            "marker": {
             "colorbar": {
              "outlinewidth": 0,
              "ticks": ""
             }
            },
            "type": "scattergl"
           }
          ],
          "scattermapbox": [
           {
            "marker": {
             "colorbar": {
              "outlinewidth": 0,
              "ticks": ""
             }
            },
            "type": "scattermapbox"
           }
          ],
          "scatterpolar": [
           {
            "marker": {
             "colorbar": {
              "outlinewidth": 0,
              "ticks": ""
             }
            },
            "type": "scatterpolar"
           }
          ],
          "scatterpolargl": [
           {
            "marker": {
             "colorbar": {
              "outlinewidth": 0,
              "ticks": ""
             }
            },
            "type": "scatterpolargl"
           }
          ],
          "scatterternary": [
           {
            "marker": {
             "colorbar": {
              "outlinewidth": 0,
              "ticks": ""
             }
            },
            "type": "scatterternary"
           }
          ],
          "surface": [
           {
            "colorbar": {
             "outlinewidth": 0,
             "ticks": ""
            },
            "colorscale": [
             [
              0,
              "#0d0887"
             ],
             [
              0.1111111111111111,
              "#46039f"
             ],
             [
              0.2222222222222222,
              "#7201a8"
             ],
             [
              0.3333333333333333,
              "#9c179e"
             ],
             [
              0.4444444444444444,
              "#bd3786"
             ],
             [
              0.5555555555555556,
              "#d8576b"
             ],
             [
              0.6666666666666666,
              "#ed7953"
             ],
             [
              0.7777777777777778,
              "#fb9f3a"
             ],
             [
              0.8888888888888888,
              "#fdca26"
             ],
             [
              1,
              "#f0f921"
             ]
            ],
            "type": "surface"
           }
          ],
          "table": [
           {
            "cells": {
             "fill": {
              "color": "#EBF0F8"
             },
             "line": {
              "color": "white"
             }
            },
            "header": {
             "fill": {
              "color": "#C8D4E3"
             },
             "line": {
              "color": "white"
             }
            },
            "type": "table"
           }
          ]
         },
         "layout": {
          "annotationdefaults": {
           "arrowcolor": "#2a3f5f",
           "arrowhead": 0,
           "arrowwidth": 1
          },
          "autotypenumbers": "strict",
          "coloraxis": {
           "colorbar": {
            "outlinewidth": 0,
            "ticks": ""
           }
          },
          "colorscale": {
           "diverging": [
            [
             0,
             "#8e0152"
            ],
            [
             0.1,
             "#c51b7d"
            ],
            [
             0.2,
             "#de77ae"
            ],
            [
             0.3,
             "#f1b6da"
            ],
            [
             0.4,
             "#fde0ef"
            ],
            [
             0.5,
             "#f7f7f7"
            ],
            [
             0.6,
             "#e6f5d0"
            ],
            [
             0.7,
             "#b8e186"
            ],
            [
             0.8,
             "#7fbc41"
            ],
            [
             0.9,
             "#4d9221"
            ],
            [
             1,
             "#276419"
            ]
           ],
           "sequential": [
            [
             0,
             "#0d0887"
            ],
            [
             0.1111111111111111,
             "#46039f"
            ],
            [
             0.2222222222222222,
             "#7201a8"
            ],
            [
             0.3333333333333333,
             "#9c179e"
            ],
            [
             0.4444444444444444,
             "#bd3786"
            ],
            [
             0.5555555555555556,
             "#d8576b"
            ],
            [
             0.6666666666666666,
             "#ed7953"
            ],
            [
             0.7777777777777778,
             "#fb9f3a"
            ],
            [
             0.8888888888888888,
             "#fdca26"
            ],
            [
             1,
             "#f0f921"
            ]
           ],
           "sequentialminus": [
            [
             0,
             "#0d0887"
            ],
            [
             0.1111111111111111,
             "#46039f"
            ],
            [
             0.2222222222222222,
             "#7201a8"
            ],
            [
             0.3333333333333333,
             "#9c179e"
            ],
            [
             0.4444444444444444,
             "#bd3786"
            ],
            [
             0.5555555555555556,
             "#d8576b"
            ],
            [
             0.6666666666666666,
             "#ed7953"
            ],
            [
             0.7777777777777778,
             "#fb9f3a"
            ],
            [
             0.8888888888888888,
             "#fdca26"
            ],
            [
             1,
             "#f0f921"
            ]
           ]
          },
          "colorway": [
           "#636efa",
           "#EF553B",
           "#00cc96",
           "#ab63fa",
           "#FFA15A",
           "#19d3f3",
           "#FF6692",
           "#B6E880",
           "#FF97FF",
           "#FECB52"
          ],
          "font": {
           "color": "#2a3f5f"
          },
          "geo": {
           "bgcolor": "white",
           "lakecolor": "white",
           "landcolor": "#E5ECF6",
           "showlakes": true,
           "showland": true,
           "subunitcolor": "white"
          },
          "hoverlabel": {
           "align": "left"
          },
          "hovermode": "closest",
          "mapbox": {
           "style": "light"
          },
          "paper_bgcolor": "white",
          "plot_bgcolor": "#E5ECF6",
          "polar": {
           "angularaxis": {
            "gridcolor": "white",
            "linecolor": "white",
            "ticks": ""
           },
           "bgcolor": "#E5ECF6",
           "radialaxis": {
            "gridcolor": "white",
            "linecolor": "white",
            "ticks": ""
           }
          },
          "scene": {
           "xaxis": {
            "backgroundcolor": "#E5ECF6",
            "gridcolor": "white",
            "gridwidth": 2,
            "linecolor": "white",
            "showbackground": true,
            "ticks": "",
            "zerolinecolor": "white"
           },
           "yaxis": {
            "backgroundcolor": "#E5ECF6",
            "gridcolor": "white",
            "gridwidth": 2,
            "linecolor": "white",
            "showbackground": true,
            "ticks": "",
            "zerolinecolor": "white"
           },
           "zaxis": {
            "backgroundcolor": "#E5ECF6",
            "gridcolor": "white",
            "gridwidth": 2,
            "linecolor": "white",
            "showbackground": true,
            "ticks": "",
            "zerolinecolor": "white"
           }
          },
          "shapedefaults": {
           "line": {
            "color": "#2a3f5f"
           }
          },
          "ternary": {
           "aaxis": {
            "gridcolor": "white",
            "linecolor": "white",
            "ticks": ""
           },
           "baxis": {
            "gridcolor": "white",
            "linecolor": "white",
            "ticks": ""
           },
           "bgcolor": "#E5ECF6",
           "caxis": {
            "gridcolor": "white",
            "linecolor": "white",
            "ticks": ""
           }
          },
          "title": {
           "x": 0.05
          },
          "xaxis": {
           "automargin": true,
           "gridcolor": "white",
           "linecolor": "white",
           "ticks": "",
           "title": {
            "standoff": 15
           },
           "zerolinecolor": "white",
           "zerolinewidth": 2
          },
          "yaxis": {
           "automargin": true,
           "gridcolor": "white",
           "linecolor": "white",
           "ticks": "",
           "title": {
            "standoff": 15
           },
           "zerolinecolor": "white",
           "zerolinewidth": 2
          }
         }
        },
        "title": {
         "text": "Example Heatmap"
        },
        "width": 800,
        "xaxis": {
         "title": {
          "text": "X Axis"
         }
        },
        "yaxis": {
         "title": {
          "text": "Y Axis"
         }
        }
       }
      }
     },
     "metadata": {},
     "output_type": "display_data"
    }
   ],
   "source": [
    "def get_default_heatmap_fig() -> go.Figure:\n",
    "    \"\"\"Create a default heatmap figure with standard configuration.\n",
    "\n",
    "    Returns:\n",
    "        go.Figure: A plotly figure with default heatmap settings\n",
    "    \"\"\"\n",
    "    # General Viz Config\n",
    "    heatmap_layout = go.Layout(\n",
    "        modebar=go.layout.Modebar(\n",
    "            remove=[\n",
    "                \"zoomIn2d\",\n",
    "                \"zoomOut2d\",\n",
    "                \"autoScale2d\",\n",
    "                \"resetScale2d\",\n",
    "                \"hoverClosestCartesian\",\n",
    "                \"hoverCompareCartesian\",\n",
    "                \"toggleSpikelines\",\n",
    "            ]\n",
    "        ),\n",
    "        dragmode=False,\n",
    "        width=800,\n",
    "        height=600,\n",
    "    )\n",
    "\n",
    "    heatmap_trace = go.Heatmap(\n",
    "        colorscale=\"Viridis\",\n",
    "        textfont={\"color\": \"black\"},\n",
    "        reversescale=False,\n",
    "        showscale=True,\n",
    "        showlegend=False,\n",
    "    )\n",
    "\n",
    "    return go.Figure(data=heatmap_trace, layout=heatmap_layout)\n",
    "\n",
    "\n",
    "# Create example data\n",
    "x_labels = [\"A\", \"B\", \"C\"]  # <--- [NEW] Added example x labels\n",
    "y_labels = [\"X\", \"Y\", \"Z\"]  # <--- [NEW] Added example y labels\n",
    "z_values = [\n",
    "    [1, 2, 3],  # <--- [NEW] Added 2D array for heatmap values\n",
    "    [4, 5, 6],\n",
    "    [7, 8, 9],\n",
    "]\n",
    "\n",
    "# Create and configure figure\n",
    "fig = get_default_heatmap_fig()\n",
    "heatmap_trace: go.Heatmap = fig.data[0]\n",
    "heatmap_trace.x = x_labels  # <--- [CHANGED] Set x axis labels\n",
    "heatmap_trace.y = y_labels  # <--- [CHANGED] Set y axis labels\n",
    "heatmap_trace.z = z_values  # <--- [CHANGED] Set z values as 2D array\n",
    "\n",
    "# Update layout with titles\n",
    "fig.update_layout(  # <--- [NEW] Added titles\n",
    "    title=\"Example Heatmap\", xaxis_title=\"X Axis\", yaxis_title=\"Y Axis\"\n",
    ")\n",
    "\n",
    "fig  # Display the figure"
   ]
  },
  {
   "cell_type": "code",
   "execution_count": 5,
   "metadata": {},
   "outputs": [
    {
     "name": "stderr",
     "output_type": "stream",
     "text": [
      "\u001b[32m2024-12-13 20:41:52.626\u001b[0m | \u001b[1mINFO    \u001b[0m | \u001b[36m__main__\u001b[0m:\u001b[36mheatmap\u001b[0m:\u001b[36m41\u001b[0m - \u001b[1m['Terry Moon', 'Taylor Gibson', 'Glenda Ball', 'Christopher Rodriguez', 'Mary Reid', 'Rhonda Smith', 'Susan Webb', 'Tammy Barrett', 'Kevin King', 'Erika Webster']\u001b[0m\n",
      "\u001b[32m2024-12-13 20:41:52.630\u001b[0m | \u001b[1mINFO    \u001b[0m | \u001b[36m__main__\u001b[0m:\u001b[36mheatmap\u001b[0m:\u001b[36m42\u001b[0m - \u001b[1mCreating heatmap visualization...\u001b[0m\n"
     ]
    },
    {
     "data": {
      "application/vnd.plotly.v1+json": {
       "config": {
        "plotlyServerURL": "https://plot.ly"
       },
       "data": [
        {
         "colorscale": [
          [
           0,
           "#440154"
          ],
          [
           0.1111111111111111,
           "#482878"
          ],
          [
           0.2222222222222222,
           "#3e4989"
          ],
          [
           0.3333333333333333,
           "#31688e"
          ],
          [
           0.4444444444444444,
           "#26828e"
          ],
          [
           0.5555555555555556,
           "#1f9e89"
          ],
          [
           0.6666666666666666,
           "#35b779"
          ],
          [
           0.7777777777777778,
           "#6ece58"
          ],
          [
           0.8888888888888888,
           "#b5de2b"
          ],
          [
           1,
           "#fde725"
          ]
         ],
         "reversescale": false,
         "showlegend": false,
         "showscale": true,
         "text": [
          [
           "0.64",
           "0.27",
           "0.04",
           "0.02",
           "0.81",
           "0.91",
           "0.61",
           "0.73",
           "0.54",
           "0.94"
          ],
          [
           "0.82",
           "0.00",
           "0.86",
           "0.03",
           "0.73",
           "0.18",
           "0.86",
           "0.54",
           "0.30",
           "0.42"
          ],
          [
           "0.03",
           "0.12",
           "0.67",
           "0.65",
           "0.62",
           "0.38",
           "1.00",
           "0.98",
           "0.69",
           "0.65"
          ],
          [
           "0.69",
           "0.39",
           "0.14",
           "0.72",
           "0.53",
           "0.31",
           "0.49",
           "0.89",
           "0.93",
           "0.36"
          ],
          [
           "0.57",
           "0.32",
           "0.59",
           "0.34",
           "0.39",
           "0.89",
           "0.23",
           "0.62",
           "0.08",
           "0.83"
          ],
          [
           "0.79",
           "0.24",
           "0.88",
           "0.06",
           "0.34",
           "0.15",
           "0.45",
           "0.80",
           "0.23",
           "0.05"
          ],
          [
           "0.40",
           "0.20",
           "0.09",
           "0.58",
           "0.30",
           "0.67",
           "0.20",
           "0.94",
           "0.37",
           "0.11"
          ],
          [
           "0.63",
           "0.93",
           "0.44",
           "0.95",
           "0.50",
           "0.43",
           "0.62",
           "1.00",
           "0.95",
           "0.46"
          ],
          [
           "0.76",
           "0.50",
           "0.53",
           "0.79",
           "0.41",
           "0.73",
           "0.71",
           "0.93",
           "0.11",
           "0.73"
          ],
          [
           "0.93",
           "0.97",
           "0.01",
           "0.86",
           "0.98",
           "0.96",
           "0.15",
           "0.97",
           "0.89",
           "0.82"
          ]
         ],
         "textfont": {
          "color": "black"
         },
         "texttemplate": "%{text}",
         "type": "heatmap",
         "x": [
          "Terry Moon",
          "Taylor Gibson",
          "Glenda Ball",
          "Christopher Rodriguez",
          "Mary Reid",
          "Rhonda Smith",
          "Susan Webb",
          "Tammy Barrett",
          "Kevin King",
          "Erika Webster"
         ],
         "y": [
          "Terry Moon",
          "Taylor Gibson",
          "Glenda Ball",
          "Christopher Rodriguez",
          "Mary Reid",
          "Rhonda Smith",
          "Susan Webb",
          "Tammy Barrett",
          "Kevin King",
          "Erika Webster"
         ],
         "z": [
          [
           0.6369616873214543,
           0.2697867137638703,
           0.04097352393619469,
           0.016527635528529094,
           0.8132702392002724,
           0.9127555772777217,
           0.6066357757671799,
           0.7294965609839984,
           0.5436249914654229,
           0.9350724237877682
          ],
          [
           0.8158535541215322,
           0.002738500170148095,
           0.8574042765875693,
           0.033585575305464355,
           0.7296554464299441,
           0.17565562060255901,
           0.8631789223498866,
           0.5414612202490917,
           0.2997118905373848,
           0.42268722119765845
          ],
          [
           0.028319671145462966,
           0.12428327649956394,
           0.6706244146936303,
           0.6471895115742501,
           0.6153851114812539,
           0.38367755426188344,
           0.997209935789211,
           0.9808353387762301,
           0.6855419844806947,
           0.6504592762678163
          ],
          [
           0.6884467305709401,
           0.3889214239791038,
           0.13509650502241122,
           0.7214883401940817,
           0.5253543224757259,
           0.31024187555895566,
           0.4858353588317891,
           0.8894878343490003,
           0.9340435159562497,
           0.35779519670907023
          ],
          [
           0.5715298307297609,
           0.32186939107594215,
           0.5943000301996968,
           0.33791122550713326,
           0.39161900052816123,
           0.8902743520047923,
           0.22715759353337972,
           0.6231871446860424,
           0.08401534358238483,
           0.8326441476533978
          ],
          [
           0.7870983074886834,
           0.23936944299295215,
           0.8764842308107038,
           0.05856803480519435,
           0.3361170605456604,
           0.15027946689483906,
           0.450339366649287,
           0.7963242702872942,
           0.23064220899374743,
           0.05202130106440961
          ],
          [
           0.4045518398215282,
           0.19851304450925533,
           0.0907530456191219,
           0.5803323859868507,
           0.2986961328189226,
           0.6719948779563594,
           0.1995154439682133,
           0.9421131105064978,
           0.36511016824482856,
           0.10549527957022953
          ],
          [
           0.6291081515397092,
           0.9271545530678674,
           0.440377154715784,
           0.9545904936907372,
           0.499895813687647,
           0.42522862484907553,
           0.6202134520153778,
           0.9950965052353241,
           0.9489436749377653,
           0.4600451393090961
          ],
          [
           0.7577288453082914,
           0.49742269548761897,
           0.5293121601967704,
           0.7857857007138075,
           0.4146558493556708,
           0.7344835717887294,
           0.7111428779897498,
           0.9320596866133782,
           0.1149326332809052,
           0.7290151170763094
          ],
          [
           0.9274239286245599,
           0.9679261899246464,
           0.014706304965369288,
           0.8636400902455758,
           0.9811950400663443,
           0.9572101796109636,
           0.1487640122324979,
           0.972628813822955,
           0.8899355557205206,
           0.8223738275430704
          ]
         ]
        }
       ],
       "layout": {
        "dragmode": false,
        "height": 600,
        "modebar": {
         "remove": [
          "zoomIn2d",
          "zoomOut2d",
          "autoScale2d",
          "resetScale2d",
          "hoverClosestCartesian",
          "hoverCompareCartesian",
          "toggleSpikelines"
         ]
        },
        "template": {
         "data": {
          "bar": [
           {
            "error_x": {
             "color": "#2a3f5f"
            },
            "error_y": {
             "color": "#2a3f5f"
            },
            "marker": {
             "line": {
              "color": "#E5ECF6",
              "width": 0.5
             },
             "pattern": {
              "fillmode": "overlay",
              "size": 10,
              "solidity": 0.2
             }
            },
            "type": "bar"
           }
          ],
          "barpolar": [
           {
            "marker": {
             "line": {
              "color": "#E5ECF6",
              "width": 0.5
             },
             "pattern": {
              "fillmode": "overlay",
              "size": 10,
              "solidity": 0.2
             }
            },
            "type": "barpolar"
           }
          ],
          "carpet": [
           {
            "aaxis": {
             "endlinecolor": "#2a3f5f",
             "gridcolor": "white",
             "linecolor": "white",
             "minorgridcolor": "white",
             "startlinecolor": "#2a3f5f"
            },
            "baxis": {
             "endlinecolor": "#2a3f5f",
             "gridcolor": "white",
             "linecolor": "white",
             "minorgridcolor": "white",
             "startlinecolor": "#2a3f5f"
            },
            "type": "carpet"
           }
          ],
          "choropleth": [
           {
            "colorbar": {
             "outlinewidth": 0,
             "ticks": ""
            },
            "type": "choropleth"
           }
          ],
          "contour": [
           {
            "colorbar": {
             "outlinewidth": 0,
             "ticks": ""
            },
            "colorscale": [
             [
              0,
              "#0d0887"
             ],
             [
              0.1111111111111111,
              "#46039f"
             ],
             [
              0.2222222222222222,
              "#7201a8"
             ],
             [
              0.3333333333333333,
              "#9c179e"
             ],
             [
              0.4444444444444444,
              "#bd3786"
             ],
             [
              0.5555555555555556,
              "#d8576b"
             ],
             [
              0.6666666666666666,
              "#ed7953"
             ],
             [
              0.7777777777777778,
              "#fb9f3a"
             ],
             [
              0.8888888888888888,
              "#fdca26"
             ],
             [
              1,
              "#f0f921"
             ]
            ],
            "type": "contour"
           }
          ],
          "contourcarpet": [
           {
            "colorbar": {
             "outlinewidth": 0,
             "ticks": ""
            },
            "type": "contourcarpet"
           }
          ],
          "heatmap": [
           {
            "colorbar": {
             "outlinewidth": 0,
             "ticks": ""
            },
            "colorscale": [
             [
              0,
              "#0d0887"
             ],
             [
              0.1111111111111111,
              "#46039f"
             ],
             [
              0.2222222222222222,
              "#7201a8"
             ],
             [
              0.3333333333333333,
              "#9c179e"
             ],
             [
              0.4444444444444444,
              "#bd3786"
             ],
             [
              0.5555555555555556,
              "#d8576b"
             ],
             [
              0.6666666666666666,
              "#ed7953"
             ],
             [
              0.7777777777777778,
              "#fb9f3a"
             ],
             [
              0.8888888888888888,
              "#fdca26"
             ],
             [
              1,
              "#f0f921"
             ]
            ],
            "type": "heatmap"
           }
          ],
          "heatmapgl": [
           {
            "colorbar": {
             "outlinewidth": 0,
             "ticks": ""
            },
            "colorscale": [
             [
              0,
              "#0d0887"
             ],
             [
              0.1111111111111111,
              "#46039f"
             ],
             [
              0.2222222222222222,
              "#7201a8"
             ],
             [
              0.3333333333333333,
              "#9c179e"
             ],
             [
              0.4444444444444444,
              "#bd3786"
             ],
             [
              0.5555555555555556,
              "#d8576b"
             ],
             [
              0.6666666666666666,
              "#ed7953"
             ],
             [
              0.7777777777777778,
              "#fb9f3a"
             ],
             [
              0.8888888888888888,
              "#fdca26"
             ],
             [
              1,
              "#f0f921"
             ]
            ],
            "type": "heatmapgl"
           }
          ],
          "histogram": [
           {
            "marker": {
             "pattern": {
              "fillmode": "overlay",
              "size": 10,
              "solidity": 0.2
             }
            },
            "type": "histogram"
           }
          ],
          "histogram2d": [
           {
            "colorbar": {
             "outlinewidth": 0,
             "ticks": ""
            },
            "colorscale": [
             [
              0,
              "#0d0887"
             ],
             [
              0.1111111111111111,
              "#46039f"
             ],
             [
              0.2222222222222222,
              "#7201a8"
             ],
             [
              0.3333333333333333,
              "#9c179e"
             ],
             [
              0.4444444444444444,
              "#bd3786"
             ],
             [
              0.5555555555555556,
              "#d8576b"
             ],
             [
              0.6666666666666666,
              "#ed7953"
             ],
             [
              0.7777777777777778,
              "#fb9f3a"
             ],
             [
              0.8888888888888888,
              "#fdca26"
             ],
             [
              1,
              "#f0f921"
             ]
            ],
            "type": "histogram2d"
           }
          ],
          "histogram2dcontour": [
           {
            "colorbar": {
             "outlinewidth": 0,
             "ticks": ""
            },
            "colorscale": [
             [
              0,
              "#0d0887"
             ],
             [
              0.1111111111111111,
              "#46039f"
             ],
             [
              0.2222222222222222,
              "#7201a8"
             ],
             [
              0.3333333333333333,
              "#9c179e"
             ],
             [
              0.4444444444444444,
              "#bd3786"
             ],
             [
              0.5555555555555556,
              "#d8576b"
             ],
             [
              0.6666666666666666,
              "#ed7953"
             ],
             [
              0.7777777777777778,
              "#fb9f3a"
             ],
             [
              0.8888888888888888,
              "#fdca26"
             ],
             [
              1,
              "#f0f921"
             ]
            ],
            "type": "histogram2dcontour"
           }
          ],
          "mesh3d": [
           {
            "colorbar": {
             "outlinewidth": 0,
             "ticks": ""
            },
            "type": "mesh3d"
           }
          ],
          "parcoords": [
           {
            "line": {
             "colorbar": {
              "outlinewidth": 0,
              "ticks": ""
             }
            },
            "type": "parcoords"
           }
          ],
          "pie": [
           {
            "automargin": true,
            "type": "pie"
           }
          ],
          "scatter": [
           {
            "fillpattern": {
             "fillmode": "overlay",
             "size": 10,
             "solidity": 0.2
            },
            "type": "scatter"
           }
          ],
          "scatter3d": [
           {
            "line": {
             "colorbar": {
              "outlinewidth": 0,
              "ticks": ""
             }
            },
            "marker": {
             "colorbar": {
              "outlinewidth": 0,
              "ticks": ""
             }
            },
            "type": "scatter3d"
           }
          ],
          "scattercarpet": [
           {
            "marker": {
             "colorbar": {
              "outlinewidth": 0,
              "ticks": ""
             }
            },
            "type": "scattercarpet"
           }
          ],
          "scattergeo": [
           {
            "marker": {
             "colorbar": {
              "outlinewidth": 0,
              "ticks": ""
             }
            },
            "type": "scattergeo"
           }
          ],
          "scattergl": [
           {
            "marker": {
             "colorbar": {
              "outlinewidth": 0,
              "ticks": ""
             }
            },
            "type": "scattergl"
           }
          ],
          "scattermapbox": [
           {
            "marker": {
             "colorbar": {
              "outlinewidth": 0,
              "ticks": ""
             }
            },
            "type": "scattermapbox"
           }
          ],
          "scatterpolar": [
           {
            "marker": {
             "colorbar": {
              "outlinewidth": 0,
              "ticks": ""
             }
            },
            "type": "scatterpolar"
           }
          ],
          "scatterpolargl": [
           {
            "marker": {
             "colorbar": {
              "outlinewidth": 0,
              "ticks": ""
             }
            },
            "type": "scatterpolargl"
           }
          ],
          "scatterternary": [
           {
            "marker": {
             "colorbar": {
              "outlinewidth": 0,
              "ticks": ""
             }
            },
            "type": "scatterternary"
           }
          ],
          "surface": [
           {
            "colorbar": {
             "outlinewidth": 0,
             "ticks": ""
            },
            "colorscale": [
             [
              0,
              "#0d0887"
             ],
             [
              0.1111111111111111,
              "#46039f"
             ],
             [
              0.2222222222222222,
              "#7201a8"
             ],
             [
              0.3333333333333333,
              "#9c179e"
             ],
             [
              0.4444444444444444,
              "#bd3786"
             ],
             [
              0.5555555555555556,
              "#d8576b"
             ],
             [
              0.6666666666666666,
              "#ed7953"
             ],
             [
              0.7777777777777778,
              "#fb9f3a"
             ],
             [
              0.8888888888888888,
              "#fdca26"
             ],
             [
              1,
              "#f0f921"
             ]
            ],
            "type": "surface"
           }
          ],
          "table": [
           {
            "cells": {
             "fill": {
              "color": "#EBF0F8"
             },
             "line": {
              "color": "white"
             }
            },
            "header": {
             "fill": {
              "color": "#C8D4E3"
             },
             "line": {
              "color": "white"
             }
            },
            "type": "table"
           }
          ]
         },
         "layout": {
          "annotationdefaults": {
           "arrowcolor": "#2a3f5f",
           "arrowhead": 0,
           "arrowwidth": 1
          },
          "autotypenumbers": "strict",
          "coloraxis": {
           "colorbar": {
            "outlinewidth": 0,
            "ticks": ""
           }
          },
          "colorscale": {
           "diverging": [
            [
             0,
             "#8e0152"
            ],
            [
             0.1,
             "#c51b7d"
            ],
            [
             0.2,
             "#de77ae"
            ],
            [
             0.3,
             "#f1b6da"
            ],
            [
             0.4,
             "#fde0ef"
            ],
            [
             0.5,
             "#f7f7f7"
            ],
            [
             0.6,
             "#e6f5d0"
            ],
            [
             0.7,
             "#b8e186"
            ],
            [
             0.8,
             "#7fbc41"
            ],
            [
             0.9,
             "#4d9221"
            ],
            [
             1,
             "#276419"
            ]
           ],
           "sequential": [
            [
             0,
             "#0d0887"
            ],
            [
             0.1111111111111111,
             "#46039f"
            ],
            [
             0.2222222222222222,
             "#7201a8"
            ],
            [
             0.3333333333333333,
             "#9c179e"
            ],
            [
             0.4444444444444444,
             "#bd3786"
            ],
            [
             0.5555555555555556,
             "#d8576b"
            ],
            [
             0.6666666666666666,
             "#ed7953"
            ],
            [
             0.7777777777777778,
             "#fb9f3a"
            ],
            [
             0.8888888888888888,
             "#fdca26"
            ],
            [
             1,
             "#f0f921"
            ]
           ],
           "sequentialminus": [
            [
             0,
             "#0d0887"
            ],
            [
             0.1111111111111111,
             "#46039f"
            ],
            [
             0.2222222222222222,
             "#7201a8"
            ],
            [
             0.3333333333333333,
             "#9c179e"
            ],
            [
             0.4444444444444444,
             "#bd3786"
            ],
            [
             0.5555555555555556,
             "#d8576b"
            ],
            [
             0.6666666666666666,
             "#ed7953"
            ],
            [
             0.7777777777777778,
             "#fb9f3a"
            ],
            [
             0.8888888888888888,
             "#fdca26"
            ],
            [
             1,
             "#f0f921"
            ]
           ]
          },
          "colorway": [
           "#636efa",
           "#EF553B",
           "#00cc96",
           "#ab63fa",
           "#FFA15A",
           "#19d3f3",
           "#FF6692",
           "#B6E880",
           "#FF97FF",
           "#FECB52"
          ],
          "font": {
           "color": "#2a3f5f"
          },
          "geo": {
           "bgcolor": "white",
           "lakecolor": "white",
           "landcolor": "#E5ECF6",
           "showlakes": true,
           "showland": true,
           "subunitcolor": "white"
          },
          "hoverlabel": {
           "align": "left"
          },
          "hovermode": "closest",
          "mapbox": {
           "style": "light"
          },
          "paper_bgcolor": "white",
          "plot_bgcolor": "#E5ECF6",
          "polar": {
           "angularaxis": {
            "gridcolor": "white",
            "linecolor": "white",
            "ticks": ""
           },
           "bgcolor": "#E5ECF6",
           "radialaxis": {
            "gridcolor": "white",
            "linecolor": "white",
            "ticks": ""
           }
          },
          "scene": {
           "xaxis": {
            "backgroundcolor": "#E5ECF6",
            "gridcolor": "white",
            "gridwidth": 2,
            "linecolor": "white",
            "showbackground": true,
            "ticks": "",
            "zerolinecolor": "white"
           },
           "yaxis": {
            "backgroundcolor": "#E5ECF6",
            "gridcolor": "white",
            "gridwidth": 2,
            "linecolor": "white",
            "showbackground": true,
            "ticks": "",
            "zerolinecolor": "white"
           },
           "zaxis": {
            "backgroundcolor": "#E5ECF6",
            "gridcolor": "white",
            "gridwidth": 2,
            "linecolor": "white",
            "showbackground": true,
            "ticks": "",
            "zerolinecolor": "white"
           }
          },
          "shapedefaults": {
           "line": {
            "color": "#2a3f5f"
           }
          },
          "ternary": {
           "aaxis": {
            "gridcolor": "white",
            "linecolor": "white",
            "ticks": ""
           },
           "baxis": {
            "gridcolor": "white",
            "linecolor": "white",
            "ticks": ""
           },
           "bgcolor": "#E5ECF6",
           "caxis": {
            "gridcolor": "white",
            "linecolor": "white",
            "ticks": ""
           }
          },
          "title": {
           "x": 0.05
          },
          "xaxis": {
           "automargin": true,
           "gridcolor": "white",
           "linecolor": "white",
           "ticks": "",
           "title": {
            "standoff": 15
           },
           "zerolinecolor": "white",
           "zerolinewidth": 2
          },
          "yaxis": {
           "automargin": true,
           "gridcolor": "white",
           "linecolor": "white",
           "ticks": "",
           "title": {
            "standoff": 15
           },
           "zerolinecolor": "white",
           "zerolinewidth": 2
          }
         }
        },
        "title": {
         "text": "DEFAULT TITLE"
        },
        "width": 800,
        "xaxis": {
         "fixedrange": true,
         "nticks": 10,
         "title": {}
        },
        "yaxis": {
         "fixedrange": true,
         "nticks": 10,
         "title": {}
        }
       }
      }
     },
     "metadata": {},
     "output_type": "display_data"
    }
   ],
   "source": [
    "def heatmap(\n",
    "    matrix: np.ndarray | None = None,\n",
    "    labels: list | None = None,\n",
    "    title: str = \"DEFAULT TITLE\",\n",
    "    show_values: bool = True,\n",
    "    value_format: Literal[\".2f\", \".2e\"] = \".2f\",\n",
    "    width: int = 800,\n",
    "    height: int = 600,\n",
    "    xaxis_title: str | None = None,\n",
    "    yaxis_title: str | None = None,\n",
    "    log: bool = False,\n",
    "    nan_diagnal: bool = False,\n",
    ") -> go.Figure:\n",
    "    \"\"\"Create a heatmap visualization using plotly.\n",
    "\n",
    "    Args:\n",
    "        matrix: Input matrix to visualize. If None, generates random demo data\n",
    "        labels: Labels for rows and columns. If None, generates fake names\n",
    "        title: Title of the heatmap\n",
    "        show_values: Whether to show values in cells\n",
    "        value_format: Format string for cell values\n",
    "        width: Width of the figure in pixels\n",
    "        height: Height of the figure in pixels\n",
    "        xaxis_title: Title for x-axis\n",
    "        yaxis_title: Title for y-axis\n",
    "        log: Whether to log10 transform the values\n",
    "        nan_diagnal: Whether to set diagonal to NaN\n",
    "\n",
    "    Returns:\n",
    "        go.Figure: Plotly figure object\n",
    "    \"\"\"\n",
    "    if matrix is None:\n",
    "        faker = Faker()\n",
    "        shape = (10, 10)\n",
    "        matrix = rng.random(shape)\n",
    "    else:\n",
    "        shape = matrix.shape\n",
    "\n",
    "    if labels is None:\n",
    "        labels = [faker.name() for _ in range(shape[0])]\n",
    "        logger.info(labels)\n",
    "    logger.info(\"Creating heatmap visualization...\")\n",
    "\n",
    "    # Convert input to numpy array and handle None values\n",
    "    matrix = np.array(matrix, dtype=object)\n",
    "    none_mask = matrix is None\n",
    "    matrix = matrix.astype(float)\n",
    "    if log:\n",
    "        matrix = np.log10(matrix)\n",
    "    matrix[none_mask] = np.nan\n",
    "    if nan_diagnal:\n",
    "        matrix[np.identity(matrix.shape[0], dtype=bool)] = np.nan\n",
    "\n",
    "    # Format cell values if needed\n",
    "    text_vals = None\n",
    "    if show_values:\n",
    "        text_vals = np.vectorize(lambda x: \"N/A\" if np.isnan(x) else f\"{x:{value_format}}\")(matrix)\n",
    "\n",
    "    # Create figure\n",
    "    fig = get_default_heatmap_fig()\n",
    "    heatmap_trace: go.Heatmap = fig.data[0]\n",
    "    heatmap_trace.update(\n",
    "        go.Heatmap(\n",
    "            z=matrix,\n",
    "            x=labels,\n",
    "            y=labels,\n",
    "            text=text_vals,\n",
    "            texttemplate=\"%{text}\" if show_values else None,\n",
    "        ),\n",
    "        overwrite=True,\n",
    "    )\n",
    "\n",
    "    # Update layout using plotly objects\n",
    "    fig.update_layout(\n",
    "        title=title,\n",
    "        height=height,\n",
    "        width=width,\n",
    "    )\n",
    "\n",
    "    # Update axes\n",
    "    fig.update_xaxes(\n",
    "        title=xaxis_title,\n",
    "        nticks=len(labels) if labels else None,\n",
    "        fixedrange=True,  # Disable zoom/pan\n",
    "    )\n",
    "\n",
    "    fig.update_yaxes(\n",
    "        title=yaxis_title,\n",
    "        nticks=len(labels) if labels else None,\n",
    "        fixedrange=True,  # Disable zoom/pan\n",
    "    )\n",
    "\n",
    "    return fig\n",
    "\n",
    "\n",
    "heatmap()"
   ]
  },
  {
   "cell_type": "code",
   "execution_count": 6,
   "metadata": {},
   "outputs": [
    {
     "name": "stderr",
     "output_type": "stream",
     "text": [
      "\u001b[32m2024-12-13 20:41:53.272\u001b[0m | \u001b[1mINFO    \u001b[0m | \u001b[36m__main__\u001b[0m:\u001b[36mheatmap\u001b[0m:\u001b[36m42\u001b[0m - \u001b[1mCreating heatmap visualization...\u001b[0m\n",
      "\u001b[32m2024-12-13 20:41:53.283\u001b[0m | \u001b[1mINFO    \u001b[0m | \u001b[36m__main__\u001b[0m:\u001b[36mheatmap\u001b[0m:\u001b[36m42\u001b[0m - \u001b[1mCreating heatmap visualization...\u001b[0m\n",
      "\u001b[32m2024-12-13 20:41:53.294\u001b[0m | \u001b[1mINFO    \u001b[0m | \u001b[36m__main__\u001b[0m:\u001b[36mheatmap\u001b[0m:\u001b[36m42\u001b[0m - \u001b[1mCreating heatmap visualization...\u001b[0m\n",
      "\u001b[32m2024-12-13 20:41:53.312\u001b[0m | \u001b[1mINFO    \u001b[0m | \u001b[36m__main__\u001b[0m:\u001b[36mheatmap\u001b[0m:\u001b[36m42\u001b[0m - \u001b[1mCreating heatmap visualization...\u001b[0m\n",
      "\u001b[32m2024-12-13 20:41:53.320\u001b[0m | \u001b[1mINFO    \u001b[0m | \u001b[36m__main__\u001b[0m:\u001b[36mheatmap\u001b[0m:\u001b[36m42\u001b[0m - \u001b[1mCreating heatmap visualization...\u001b[0m\n",
      "\u001b[32m2024-12-13 20:41:53.331\u001b[0m | \u001b[1mINFO    \u001b[0m | \u001b[36m__main__\u001b[0m:\u001b[36mheatmap\u001b[0m:\u001b[36m42\u001b[0m - \u001b[1mCreating heatmap visualization...\u001b[0m\n"
     ]
    },
    {
     "data": {
      "application/vnd.plotly.v1+json": {
       "config": {
        "plotlyServerURL": "https://plot.ly"
       },
       "data": [
        {
         "colorscale": [
          [
           0,
           "#440154"
          ],
          [
           0.1111111111111111,
           "#482878"
          ],
          [
           0.2222222222222222,
           "#3e4989"
          ],
          [
           0.3333333333333333,
           "#31688e"
          ],
          [
           0.4444444444444444,
           "#26828e"
          ],
          [
           0.5555555555555556,
           "#1f9e89"
          ],
          [
           0.6666666666666666,
           "#35b779"
          ],
          [
           0.7777777777777778,
           "#6ece58"
          ],
          [
           0.8888888888888888,
           "#b5de2b"
          ],
          [
           1,
           "#fde725"
          ]
         ],
         "reversescale": false,
         "showlegend": false,
         "showscale": true,
         "text": [
          [
           "0.48",
           "0.23",
           "0.80",
           "0.92",
           "0.27",
           "0.54",
           "0.44",
           "0.93",
           "0.04",
           "0.73"
          ],
          [
           "0.61",
           "0.03",
           "0.72",
           "0.02",
           "0.76",
           "0.51",
           "0.93",
           "0.07",
           "0.84",
           "0.07"
          ],
          [
           "0.34",
           "0.43",
           "0.97",
           "0.56",
           "0.26",
           "0.24",
           "0.89",
           "0.23",
           "0.12",
           "0.29"
          ],
          [
           "0.59",
           "0.55",
           "0.81",
           "0.56",
           "0.29",
           "0.41",
           "0.82",
           "0.63",
           "0.96",
           "0.37"
          ],
          [
           "0.55",
           "0.59",
           "0.85",
           "0.15",
           "0.41",
           "0.91",
           "0.04",
           "0.82",
           "0.42",
           "0.83"
          ],
          [
           "0.01",
           "0.37",
           "0.08",
           "0.65",
           "0.27",
           "0.70",
           "0.94",
           "0.13",
           "0.86",
           "0.06"
          ],
          [
           "0.38",
           "0.43",
           "0.49",
           "0.98",
           "0.78",
           "0.31",
           "0.27",
           "0.86",
           "0.88",
           "0.51"
          ],
          [
           "0.34",
           "0.99",
           "0.32",
           "0.18",
           "0.88",
           "0.81",
           "0.67",
           "0.96",
           "0.93",
           "0.75"
          ],
          [
           "0.86",
           "0.25",
           "0.14",
           "0.67",
           "0.71",
           "0.17",
           "0.40",
           "0.91",
           "0.56",
           "0.58"
          ],
          [
           "0.19",
           "0.53",
           "0.52",
           "0.09",
           "0.98",
           "0.57",
           "0.01",
           "0.77",
           "0.98",
           "0.59"
          ]
         ],
         "textfont": {
          "color": "black"
         },
         "texttemplate": "%{text}",
         "type": "heatmap",
         "x": [
          "Caroline Knapp",
          "Alexander Jones",
          "Susan Taylor",
          "Jeffrey Moore",
          "Donna Hopkins",
          "Olivia Jackson",
          "Claudia Walters",
          "Henry Kelley",
          "Lisa Mason",
          "Robert Reid"
         ],
         "y": [
          "Caroline Knapp",
          "Alexander Jones",
          "Susan Taylor",
          "Jeffrey Moore",
          "Donna Hopkins",
          "Olivia Jackson",
          "Claudia Walters",
          "Henry Kelley",
          "Lisa Mason",
          "Robert Reid"
         ],
         "z": [
          [
           0.4799879238078322,
           0.23237291963930384,
           0.8018805787183079,
           0.9235301597834695,
           0.2661302722922926,
           0.5389344076221869,
           0.4427528289745315,
           0.931017315981155,
           0.040510711188434634,
           0.7320061956565608
          ],
          [
           0.6143732469489966,
           0.028365365113521057,
           0.7192197728267403,
           0.015991729523571974,
           0.7579510023564281,
           0.512758723262078,
           0.9291042207970062,
           0.06608249672407474,
           0.8413172796123832,
           0.0666900087671014
          ],
          [
           0.34430997880412517,
           0.4302987319478333,
           0.9660620807840702,
           0.562231842228457,
           0.25886459317093224,
           0.24167571409434496,
           0.8881183206591798,
           0.22586942841732438,
           0.1245547058352835,
           0.2883307570075776
          ],
          [
           0.5861230648127328,
           0.5540905021732678,
           0.8097107759127777,
           0.5604759520061858,
           0.2884212144312105,
           0.4128963426808927,
           0.8181209709709104,
           0.6265064624197535,
           0.9590776426974422,
           0.3694044110916809
          ],
          [
           0.5526115105212872,
           0.5939242016131683,
           0.84829120827506,
           0.14547353818653175,
           0.40651033674812664,
           0.909958961662297,
           0.043066888568204176,
           0.8227062801815019,
           0.41538403737122465,
           0.8298039852781027
          ],
          [
           0.009954560807291957,
           0.36504615775827065,
           0.07863003716563988,
           0.6526145763366384,
           0.2738490985995572,
           0.7026520706597863,
           0.9438014269420908,
           0.12681710226124776,
           0.8647782954007741,
           0.059464151600338466
          ],
          [
           0.38077050831088943,
           0.42977406117857664,
           0.48884954683346427,
           0.9764623219360445,
           0.7756911881018284,
           0.308857362719261,
           0.26983678550080015,
           0.8631202041893178,
           0.8813071727376899,
           0.5107065055436453
          ],
          [
           0.34429573096232524,
           0.9949173481609178,
           0.3159435453677002,
           0.18271237892656245,
           0.8800981213040697,
           0.812335398111254,
           0.6678894055713512,
           0.9584136317779519,
           0.9257145772144187,
           0.7482485033017541
          ],
          [
           0.8607014095476777,
           0.24714674032210748,
           0.1412465569010316,
           0.670061849314936,
           0.7146185366547527,
           0.16705292878227218,
           0.395557273104876,
           0.9102557662160548,
           0.561400767550223,
           0.5783359149262727
          ],
          [
           0.19412977289079358,
           0.5260222486178752,
           0.5234347273949199,
           0.08893564024627199,
           0.9819426931267062,
           0.5713956004557744,
           0.006408882664310167,
           0.7726492012253886,
           0.9782657138401457,
           0.5898700283209505
          ]
         ]
        }
       ],
       "frames": [
        {
         "data": [
          {
           "colorscale": [
            [
             0,
             "#440154"
            ],
            [
             0.1111111111111111,
             "#482878"
            ],
            [
             0.2222222222222222,
             "#3e4989"
            ],
            [
             0.3333333333333333,
             "#31688e"
            ],
            [
             0.4444444444444444,
             "#26828e"
            ],
            [
             0.5555555555555556,
             "#1f9e89"
            ],
            [
             0.6666666666666666,
             "#35b779"
            ],
            [
             0.7777777777777778,
             "#6ece58"
            ],
            [
             0.8888888888888888,
             "#b5de2b"
            ],
            [
             1,
             "#fde725"
            ]
           ],
           "reversescale": false,
           "showlegend": false,
           "showscale": true,
           "text": [
            [
             "0.48",
             "0.23",
             "0.80",
             "0.92",
             "0.27",
             "0.54",
             "0.44",
             "0.93",
             "0.04",
             "0.73"
            ],
            [
             "0.61",
             "0.03",
             "0.72",
             "0.02",
             "0.76",
             "0.51",
             "0.93",
             "0.07",
             "0.84",
             "0.07"
            ],
            [
             "0.34",
             "0.43",
             "0.97",
             "0.56",
             "0.26",
             "0.24",
             "0.89",
             "0.23",
             "0.12",
             "0.29"
            ],
            [
             "0.59",
             "0.55",
             "0.81",
             "0.56",
             "0.29",
             "0.41",
             "0.82",
             "0.63",
             "0.96",
             "0.37"
            ],
            [
             "0.55",
             "0.59",
             "0.85",
             "0.15",
             "0.41",
             "0.91",
             "0.04",
             "0.82",
             "0.42",
             "0.83"
            ],
            [
             "0.01",
             "0.37",
             "0.08",
             "0.65",
             "0.27",
             "0.70",
             "0.94",
             "0.13",
             "0.86",
             "0.06"
            ],
            [
             "0.38",
             "0.43",
             "0.49",
             "0.98",
             "0.78",
             "0.31",
             "0.27",
             "0.86",
             "0.88",
             "0.51"
            ],
            [
             "0.34",
             "0.99",
             "0.32",
             "0.18",
             "0.88",
             "0.81",
             "0.67",
             "0.96",
             "0.93",
             "0.75"
            ],
            [
             "0.86",
             "0.25",
             "0.14",
             "0.67",
             "0.71",
             "0.17",
             "0.40",
             "0.91",
             "0.56",
             "0.58"
            ],
            [
             "0.19",
             "0.53",
             "0.52",
             "0.09",
             "0.98",
             "0.57",
             "0.01",
             "0.77",
             "0.98",
             "0.59"
            ]
           ],
           "textfont": {
            "color": "black"
           },
           "texttemplate": "%{text}",
           "type": "heatmap",
           "x": [
            "Caroline Knapp",
            "Alexander Jones",
            "Susan Taylor",
            "Jeffrey Moore",
            "Donna Hopkins",
            "Olivia Jackson",
            "Claudia Walters",
            "Henry Kelley",
            "Lisa Mason",
            "Robert Reid"
           ],
           "y": [
            "Caroline Knapp",
            "Alexander Jones",
            "Susan Taylor",
            "Jeffrey Moore",
            "Donna Hopkins",
            "Olivia Jackson",
            "Claudia Walters",
            "Henry Kelley",
            "Lisa Mason",
            "Robert Reid"
           ],
           "z": [
            [
             0.4799879238078322,
             0.23237291963930384,
             0.8018805787183079,
             0.9235301597834695,
             0.2661302722922926,
             0.5389344076221869,
             0.4427528289745315,
             0.931017315981155,
             0.040510711188434634,
             0.7320061956565608
            ],
            [
             0.6143732469489966,
             0.028365365113521057,
             0.7192197728267403,
             0.015991729523571974,
             0.7579510023564281,
             0.512758723262078,
             0.9291042207970062,
             0.06608249672407474,
             0.8413172796123832,
             0.0666900087671014
            ],
            [
             0.34430997880412517,
             0.4302987319478333,
             0.9660620807840702,
             0.562231842228457,
             0.25886459317093224,
             0.24167571409434496,
             0.8881183206591798,
             0.22586942841732438,
             0.1245547058352835,
             0.2883307570075776
            ],
            [
             0.5861230648127328,
             0.5540905021732678,
             0.8097107759127777,
             0.5604759520061858,
             0.2884212144312105,
             0.4128963426808927,
             0.8181209709709104,
             0.6265064624197535,
             0.9590776426974422,
             0.3694044110916809
            ],
            [
             0.5526115105212872,
             0.5939242016131683,
             0.84829120827506,
             0.14547353818653175,
             0.40651033674812664,
             0.909958961662297,
             0.043066888568204176,
             0.8227062801815019,
             0.41538403737122465,
             0.8298039852781027
            ],
            [
             0.009954560807291957,
             0.36504615775827065,
             0.07863003716563988,
             0.6526145763366384,
             0.2738490985995572,
             0.7026520706597863,
             0.9438014269420908,
             0.12681710226124776,
             0.8647782954007741,
             0.059464151600338466
            ],
            [
             0.38077050831088943,
             0.42977406117857664,
             0.48884954683346427,
             0.9764623219360445,
             0.7756911881018284,
             0.308857362719261,
             0.26983678550080015,
             0.8631202041893178,
             0.8813071727376899,
             0.5107065055436453
            ],
            [
             0.34429573096232524,
             0.9949173481609178,
             0.3159435453677002,
             0.18271237892656245,
             0.8800981213040697,
             0.812335398111254,
             0.6678894055713512,
             0.9584136317779519,
             0.9257145772144187,
             0.7482485033017541
            ],
            [
             0.8607014095476777,
             0.24714674032210748,
             0.1412465569010316,
             0.670061849314936,
             0.7146185366547527,
             0.16705292878227218,
             0.395557273104876,
             0.9102557662160548,
             0.561400767550223,
             0.5783359149262727
            ],
            [
             0.19412977289079358,
             0.5260222486178752,
             0.5234347273949199,
             0.08893564024627199,
             0.9819426931267062,
             0.5713956004557744,
             0.006408882664310167,
             0.7726492012253886,
             0.9782657138401457,
             0.5898700283209505
            ]
           ]
          }
         ],
         "name": "frame_0"
        },
        {
         "data": [
          {
           "colorscale": [
            [
             0,
             "#440154"
            ],
            [
             0.1111111111111111,
             "#482878"
            ],
            [
             0.2222222222222222,
             "#3e4989"
            ],
            [
             0.3333333333333333,
             "#31688e"
            ],
            [
             0.4444444444444444,
             "#26828e"
            ],
            [
             0.5555555555555556,
             "#1f9e89"
            ],
            [
             0.6666666666666666,
             "#35b779"
            ],
            [
             0.7777777777777778,
             "#6ece58"
            ],
            [
             0.8888888888888888,
             "#b5de2b"
            ],
            [
             1,
             "#fde725"
            ]
           ],
           "reversescale": false,
           "showlegend": false,
           "showscale": true,
           "text": [
            [
             "0.32",
             "0.19",
             "0.67",
             "0.20",
             "0.58",
             "0.60",
             "0.96",
             "0.07",
             "0.50",
             "0.74"
            ],
            [
             "0.18",
             "0.39",
             "0.06",
             "0.73",
             "0.09",
             "0.40",
             "0.87",
             "0.47",
             "0.91",
             "0.77"
            ],
            [
             "0.92",
             "0.13",
             "0.07",
             "0.07",
             "0.87",
             "0.63",
             "0.50",
             "0.16",
             "0.67",
             "0.32"
            ],
            [
             "0.71",
             "0.46",
             "0.51",
             "0.79",
             "0.09",
             "0.58",
             "0.20",
             "0.81",
             "0.49",
             "0.99"
            ],
            [
             "0.18",
             "0.96",
             "0.80",
             "0.48",
             "0.81",
             "0.60",
             "0.66",
             "0.91",
             "0.07",
             "0.83"
            ],
            [
             "0.38",
             "0.33",
             "0.99",
             "0.78",
             "0.49",
             "0.42",
             "0.88",
             "0.09",
             "0.71",
             "0.79"
            ],
            [
             "0.80",
             "0.32",
             "0.80",
             "0.23",
             "0.36",
             "0.42",
             "0.54",
             "0.11",
             "0.41",
             "0.00"
            ],
            [
             "0.74",
             "0.85",
             "0.14",
             "0.70",
             "0.82",
             "0.98",
             "0.84",
             "0.42",
             "0.98",
             "0.97"
            ],
            [
             "0.50",
             "0.75",
             "0.91",
             "0.48",
             "0.86",
             "0.70",
             "0.29",
             "0.77",
             "0.57",
             "0.09"
            ],
            [
             "0.39",
             "0.07",
             "0.48",
             "0.43",
             "0.42",
             "0.59",
             "0.12",
             "0.93",
             "0.68",
             "0.82"
            ]
           ],
           "textfont": {
            "color": "black"
           },
           "texttemplate": "%{text}",
           "type": "heatmap",
           "x": [
            "Caroline Knapp",
            "Alexander Jones",
            "Susan Taylor",
            "Jeffrey Moore",
            "Donna Hopkins",
            "Olivia Jackson",
            "Claudia Walters",
            "Henry Kelley",
            "Lisa Mason",
            "Robert Reid"
           ],
           "y": [
            "Caroline Knapp",
            "Alexander Jones",
            "Susan Taylor",
            "Jeffrey Moore",
            "Donna Hopkins",
            "Olivia Jackson",
            "Claudia Walters",
            "Henry Kelley",
            "Lisa Mason",
            "Robert Reid"
           ],
           "z": [
            [
             0.319681636282665,
             0.1875077157277849,
             0.6725266339168693,
             0.19510739845680503,
             0.5776878925178592,
             0.6022391763796258,
             0.962423093124381,
             0.07226526552987678,
             0.4999728236586185,
             0.7440974792826482
            ],
            [
             0.1772267404746588,
             0.3880667317845192,
             0.06289549845497133,
             0.7258808637757768,
             0.08776788675948677,
             0.3950917083579676,
             0.8735226311207321,
             0.4723003367500115,
             0.9126219336408856,
             0.7659171177388724
            ],
            [
             0.9153239601117659,
             0.12740300904890633,
             0.07356290533063203,
             0.07032625356921807,
             0.8688542943473193,
             0.6340699793474432,
             0.496571693798853,
             0.16354341619648027,
             0.6737334377272737,
             0.318017387845798
            ],
            [
             0.7108798632659449,
             0.4603553288673248,
             0.5074698605445271,
             0.7896657324598704,
             0.09274547552338075,
             0.5787585033235025,
             0.19723494729586855,
             0.8081367518135681,
             0.4888460361292599,
             0.9886953333678197
            ],
            [
             0.18294332467571872,
             0.9630191401242673,
             0.800917036608609,
             0.4812604965752686,
             0.8135340641796355,
             0.6028489052411163,
             0.6551210639913803,
             0.9136907627073889,
             0.06527041641129139,
             0.8349882039584006
            ],
            [
             0.3818147799662388,
             0.3255456161007044,
             0.9940267712099843,
             0.7811905020763782,
             0.48553513877958776,
             0.4226283964247812,
             0.8775289058717961,
             0.08681487221489415,
             0.708418756913866,
             0.789154623705146
            ],
            [
             0.7991963797161148,
             0.3222867247398318,
             0.7966391827460546,
             0.22532844187566514,
             0.3623079504845691,
             0.41744811220437983,
             0.5414099836301646,
             0.11261366554055718,
             0.40694780063930613,
             0.0003006901069229073
            ],
            [
             0.744380726347399,
             0.851875912234257,
             0.13893167912019755,
             0.7037857692667978,
             0.8211030883946387,
             0.9818283228717938,
             0.8437905623687267,
             0.42410648544401286,
             0.9796887085096565,
             0.9739844048523552
            ],
            [
             0.503676979200579,
             0.7534465385839052,
             0.9138376676731629,
             0.47614707196875306,
             0.8637862410970849,
             0.7015685660618728,
             0.2939242559745576,
             0.7676522699834736,
             0.5706847858594991,
             0.09384515343330624
            ],
            [
             0.3913804263046642,
             0.07374101339780592,
             0.4761669632169956,
             0.4285396081429238,
             0.42373744297044735,
             0.5863003535907844,
             0.12269066017607344,
             0.9337689099568427,
             0.684050448075033,
             0.8237813583927717
            ]
           ]
          }
         ],
         "name": "frame_1"
        },
        {
         "data": [
          {
           "colorscale": [
            [
             0,
             "#440154"
            ],
            [
             0.1111111111111111,
             "#482878"
            ],
            [
             0.2222222222222222,
             "#3e4989"
            ],
            [
             0.3333333333333333,
             "#31688e"
            ],
            [
             0.4444444444444444,
             "#26828e"
            ],
            [
             0.5555555555555556,
             "#1f9e89"
            ],
            [
             0.6666666666666666,
             "#35b779"
            ],
            [
             0.7777777777777778,
             "#6ece58"
            ],
            [
             0.8888888888888888,
             "#b5de2b"
            ],
            [
             1,
             "#fde725"
            ]
           ],
           "reversescale": false,
           "showlegend": false,
           "showscale": true,
           "text": [
            [
             "0.90",
             "0.58",
             "0.04",
             "0.71",
             "0.57",
             "0.83",
             "0.53",
             "0.81",
             "1.00",
             "0.35"
            ],
            [
             "0.17",
             "0.39",
             "0.75",
             "0.44",
             "0.59",
             "0.13",
             "0.73",
             "0.28",
             "0.19",
             "0.86"
            ],
            [
             "0.56",
             "0.48",
             "0.90",
             "0.09",
             "0.70",
             "0.33",
             "0.18",
             "0.67",
             "0.36",
             "0.33"
            ],
            [
             "0.94",
             "0.20",
             "0.51",
             "0.02",
             "0.16",
             "0.88",
             "0.79",
             "0.56",
             "0.22",
             "0.56"
            ],
            [
             "0.01",
             "0.71",
             "0.72",
             "0.65",
             "0.61",
             "0.07",
             "0.25",
             "0.57",
             "0.39",
             "0.99"
            ],
            [
             "0.92",
             "0.15",
             "0.59",
             "0.70",
             "0.14",
             "0.31",
             "0.72",
             "0.90",
             "0.34",
             "0.24"
            ],
            [
             "0.82",
             "0.58",
             "0.48",
             "0.26",
             "0.07",
             "0.02",
             "0.58",
             "0.19",
             "0.98",
             "0.11"
            ],
            [
             "0.45",
             "0.39",
             "0.23",
             "0.75",
             "0.64",
             "0.73",
             "0.08",
             "0.35",
             "0.52",
             "0.43"
            ],
            [
             "0.04",
             "0.19",
             "0.95",
             "0.16",
             "0.85",
             "0.82",
             "0.39",
             "0.47",
             "0.82",
             "0.68"
            ],
            [
             "0.84",
             "0.76",
             "0.69",
             "0.91",
             "0.82",
             "0.18",
             "0.75",
             "0.09",
             "0.43",
             "0.40"
            ]
           ],
           "textfont": {
            "color": "black"
           },
           "texttemplate": "%{text}",
           "type": "heatmap",
           "x": [
            "Caroline Knapp",
            "Alexander Jones",
            "Susan Taylor",
            "Jeffrey Moore",
            "Donna Hopkins",
            "Olivia Jackson",
            "Claudia Walters",
            "Henry Kelley",
            "Lisa Mason",
            "Robert Reid"
           ],
           "y": [
            "Caroline Knapp",
            "Alexander Jones",
            "Susan Taylor",
            "Jeffrey Moore",
            "Donna Hopkins",
            "Olivia Jackson",
            "Claudia Walters",
            "Henry Kelley",
            "Lisa Mason",
            "Robert Reid"
           ],
           "z": [
            [
             0.8968012322637599,
             0.5833200469234759,
             0.0402182209046007,
             0.711486824117758,
             0.5690258542633582,
             0.8259572221703992,
             0.5321604734743441,
             0.8132440953641924,
             0.9970102930724918,
             0.35055481136788813
            ],
            [
             0.1710214400206741,
             0.3916747994539028,
             0.7530499898656764,
             0.43922893185830647,
             0.5883801094292148,
             0.12735847192167105,
             0.7261235109339803,
             0.28008240186649946,
             0.19061756040401823,
             0.8629499985831945
            ],
            [
             0.5644128211205941,
             0.48449894234625035,
             0.8988237652484845,
             0.08601243606100262,
             0.6961544503408927,
             0.32798228976460253,
             0.17540974998508108,
             0.6747986499672789,
             0.3628219508629361,
             0.32989583249393584
            ],
            [
             0.9436777652291878,
             0.19929834067948615,
             0.512173657837735,
             0.024013200671349266,
             0.16336809113695616,
             0.8834187336335619,
             0.7892475482526763,
             0.5568354900539902,
             0.22245339599136027,
             0.5577475826213064
            ],
            [
             0.012146526113612555,
             0.7129936309379207,
             0.7167506805637281,
             0.6460450235663548,
             0.6113386842752012,
             0.07371643262453753,
             0.24640596905097556,
             0.5743780480979319,
             0.3941867660288976,
             0.992023228581445
            ],
            [
             0.9237453573751813,
             0.15200790252253704,
             0.5899605926495307,
             0.6962151061034566,
             0.13654341430088612,
             0.31259564710117127,
             0.7159178469254943,
             0.9011080934228366,
             0.34174265020613526,
             0.2389437116912806
            ],
            [
             0.8217920027302146,
             0.5849826802256783,
             0.4765884217057704,
             0.25615002142789234,
             0.07265834864832099,
             0.017891420896975263,
             0.5799701805640948,
             0.1911102734600748,
             0.9755329784268204,
             0.10747722838614726
            ],
            [
             0.4520887883271084,
             0.39465979707096,
             0.23231147528553098,
             0.7487557250039351,
             0.6437047620803104,
             0.7257576850518699,
             0.08280857589649471,
             0.3527434156964051,
             0.5198330743342318,
             0.42672114373024106
            ],
            [
             0.040617561872745234,
             0.1940274549007932,
             0.9450246483046265,
             0.1625697247533182,
             0.8520523324627752,
             0.8221371590644401,
             0.391293757078108,
             0.4667835198442635,
             0.8240018076499193,
             0.6806863255702125
            ],
            [
             0.8369437364290709,
             0.7575965858321237,
             0.6912714794406046,
             0.9129741060068781,
             0.8228071330945887,
             0.17906268758299326,
             0.7482242750812449,
             0.0866813231145428,
             0.4258562402940216,
             0.39675188715342524
            ]
           ]
          }
         ],
         "name": "frame_2"
        },
        {
         "data": [
          {
           "colorscale": [
            [
             0,
             "#440154"
            ],
            [
             0.1111111111111111,
             "#482878"
            ],
            [
             0.2222222222222222,
             "#3e4989"
            ],
            [
             0.3333333333333333,
             "#31688e"
            ],
            [
             0.4444444444444444,
             "#26828e"
            ],
            [
             0.5555555555555556,
             "#1f9e89"
            ],
            [
             0.6666666666666666,
             "#35b779"
            ],
            [
             0.7777777777777778,
             "#6ece58"
            ],
            [
             0.8888888888888888,
             "#b5de2b"
            ],
            [
             1,
             "#fde725"
            ]
           ],
           "reversescale": false,
           "showlegend": false,
           "showscale": true,
           "text": [
            [
             "0.20",
             "0.94",
             "0.09",
             "0.00",
             "0.32",
             "0.99",
             "0.26",
             "0.83",
             "0.17",
             "0.59"
            ],
            [
             "0.96",
             "0.72",
             "0.98",
             "0.57",
             "0.98",
             "0.84",
             "0.78",
             "0.89",
             "0.63",
             "0.36"
            ],
            [
             "0.53",
             "0.23",
             "0.78",
             "0.17",
             "0.58",
             "0.54",
             "0.67",
             "0.76",
             "0.11",
             "0.62"
            ],
            [
             "0.41",
             "0.61",
             "0.69",
             "0.59",
             "0.73",
             "0.52",
             "0.46",
             "0.29",
             "0.23",
             "0.70"
            ],
            [
             "0.70",
             "0.20",
             "0.97",
             "0.67",
             "0.53",
             "0.84",
             "0.49",
             "0.48",
             "0.26",
             "0.16"
            ],
            [
             "0.71",
             "0.84",
             "0.68",
             "0.37",
             "0.58",
             "0.56",
             "0.94",
             "0.39",
             "0.16",
             "0.88"
            ],
            [
             "0.89",
             "0.05",
             "0.20",
             "0.64",
             "0.79",
             "0.61",
             "0.19",
             "0.12",
             "0.51",
             "0.82"
            ],
            [
             "0.22",
             "0.08",
             "0.55",
             "0.19",
             "0.07",
             "0.77",
             "0.82",
             "0.40",
             "0.29",
             "0.28"
            ],
            [
             "0.36",
             "0.58",
             "0.53",
             "0.36",
             "0.64",
             "0.68",
             "0.56",
             "0.39",
             "0.62",
             "0.59"
            ],
            [
             "0.34",
             "0.30",
             "0.55",
             "0.61",
             "0.61",
             "0.38",
             "0.57",
             "0.99",
             "0.43",
             "0.84"
            ]
           ],
           "textfont": {
            "color": "black"
           },
           "texttemplate": "%{text}",
           "type": "heatmap",
           "x": [
            "Caroline Knapp",
            "Alexander Jones",
            "Susan Taylor",
            "Jeffrey Moore",
            "Donna Hopkins",
            "Olivia Jackson",
            "Claudia Walters",
            "Henry Kelley",
            "Lisa Mason",
            "Robert Reid"
           ],
           "y": [
            "Caroline Knapp",
            "Alexander Jones",
            "Susan Taylor",
            "Jeffrey Moore",
            "Donna Hopkins",
            "Olivia Jackson",
            "Claudia Walters",
            "Henry Kelley",
            "Lisa Mason",
            "Robert Reid"
           ],
           "z": [
            [
             0.20216809397548463,
             0.9379051086359893,
             0.09477667836116699,
             0.004899414988575601,
             0.32292080366397835,
             0.990744718241222,
             0.2646951283884399,
             0.830694265517731,
             0.17311363702046545,
             0.5863783547983777
            ],
            [
             0.958409335179392,
             0.7165132345658071,
             0.9805079751784863,
             0.5745566490890397,
             0.9833347065534214,
             0.8370470317200038,
             0.7782482261019282,
             0.8884898869115002,
             0.6314915172616167,
             0.35636454637657144
            ],
            [
             0.528282440056993,
             0.22650039568236358,
             0.7775441238817054,
             0.17007850161486648,
             0.5771979489865907,
             0.5358989295791143,
             0.6719028034776905,
             0.76048659866525,
             0.10982788606390892,
             0.6249409616679835
            ],
            [
             0.41395588246519277,
             0.6142014356679537,
             0.6939845431464953,
             0.5854795857606219,
             0.7328860768587152,
             0.520025257204648,
             0.4628678091292717,
             0.2867688654485352,
             0.22915166999670655,
             0.6953021060918184
            ],
            [
             0.6957113528124577,
             0.19548251297659636,
             0.9718374166111121,
             0.671150780289396,
             0.5312161232098263,
             0.8411753515449676,
             0.48652043330315486,
             0.4759448701003268,
             0.2582744000775369,
             0.15613548139069233
            ],
            [
             0.7116205788809175,
             0.8441109682390425,
             0.677798778095959,
             0.3688215166959502,
             0.5757220912190522,
             0.5634124736739899,
             0.9365660834742939,
             0.3876742119556893,
             0.1647826520660035,
             0.8769328933290108
            ],
            [
             0.8947284968868684,
             0.04826559500189531,
             0.19822403083948237,
             0.6362836535994598,
             0.7888451556348379,
             0.6066925067405504,
             0.19158919612655823,
             0.1176415752621991,
             0.5059726340651836,
             0.8155104066590114
            ],
            [
             0.2170671810721262,
             0.07513269487278362,
             0.5510449957933047,
             0.19181714813525463,
             0.06742372048426959,
             0.7732645980412682,
             0.8212266060779224,
             0.3983355510982354,
             0.2940763601682844,
             0.2771208894369578
            ],
            [
             0.36097142582835084,
             0.5769076431162621,
             0.5278200781124773,
             0.3553491811726963,
             0.6374209792381814,
             0.67576744194746,
             0.5582789479750343,
             0.38729491505187397,
             0.6239027819391343,
             0.5919027832141105
            ],
            [
             0.3403238573806664,
             0.30320101266424526,
             0.5457488790192866,
             0.6123417390018507,
             0.6107984389218087,
             0.3828380088978549,
             0.5657739072162552,
             0.9857696351964191,
             0.42802451904395167,
             0.8430147145899906
            ]
           ]
          }
         ],
         "name": "frame_3"
        },
        {
         "data": [
          {
           "colorscale": [
            [
             0,
             "#440154"
            ],
            [
             0.1111111111111111,
             "#482878"
            ],
            [
             0.2222222222222222,
             "#3e4989"
            ],
            [
             0.3333333333333333,
             "#31688e"
            ],
            [
             0.4444444444444444,
             "#26828e"
            ],
            [
             0.5555555555555556,
             "#1f9e89"
            ],
            [
             0.6666666666666666,
             "#35b779"
            ],
            [
             0.7777777777777778,
             "#6ece58"
            ],
            [
             0.8888888888888888,
             "#b5de2b"
            ],
            [
             1,
             "#fde725"
            ]
           ],
           "reversescale": false,
           "showlegend": false,
           "showscale": true,
           "text": [
            [
             "0.08",
             "0.88",
             "0.94",
             "0.26",
             "0.01",
             "0.48",
             "0.18",
             "0.97",
             "0.90",
             "0.96"
            ],
            [
             "0.60",
             "0.52",
             "0.83",
             "0.65",
             "0.25",
             "0.93",
             "0.44",
             "0.77",
             "0.50",
             "0.18"
            ],
            [
             "0.30",
             "0.57",
             "0.14",
             "0.01",
             "0.43",
             "0.76",
             "0.61",
             "0.32",
             "0.72",
             "0.48"
            ],
            [
             "1.00",
             "0.78",
             "0.83",
             "0.26",
             "0.15",
             "0.20",
             "0.43",
             "0.51",
             "0.19",
             "0.78"
            ],
            [
             "0.87",
             "0.32",
             "0.51",
             "0.59",
             "0.72",
             "0.15",
             "0.28",
             "0.73",
             "0.57",
             "0.90"
            ],
            [
             "0.45",
             "0.41",
             "0.31",
             "0.23",
             "0.65",
             "0.26",
             "0.86",
             "0.27",
             "0.67",
             "0.57"
            ],
            [
             "0.63",
             "0.90",
             "0.17",
             "0.15",
             "0.12",
             "0.08",
             "0.53",
             "0.17",
             "0.81",
             "0.02"
            ],
            [
             "0.37",
             "0.47",
             "0.22",
             "0.36",
             "0.22",
             "0.28",
             "0.93",
             "0.42",
             "0.39",
             "0.61"
            ],
            [
             "0.66",
             "0.66",
             "0.08",
             "0.58",
             "0.74",
             "0.80",
             "0.59",
             "0.13",
             "0.08",
             "0.32"
            ],
            [
             "0.93",
             "0.47",
             "0.90",
             "0.46",
             "0.76",
             "0.49",
             "0.71",
             "0.32",
             "0.89",
             "0.27"
            ]
           ],
           "textfont": {
            "color": "black"
           },
           "texttemplate": "%{text}",
           "type": "heatmap",
           "x": [
            "Caroline Knapp",
            "Alexander Jones",
            "Susan Taylor",
            "Jeffrey Moore",
            "Donna Hopkins",
            "Olivia Jackson",
            "Claudia Walters",
            "Henry Kelley",
            "Lisa Mason",
            "Robert Reid"
           ],
           "y": [
            "Caroline Knapp",
            "Alexander Jones",
            "Susan Taylor",
            "Jeffrey Moore",
            "Donna Hopkins",
            "Olivia Jackson",
            "Claudia Walters",
            "Henry Kelley",
            "Lisa Mason",
            "Robert Reid"
           ],
           "z": [
            [
             0.08132369130695694,
             0.8752282537019719,
             0.9417061555298863,
             0.26186401585393726,
             0.012101415672192695,
             0.4830084134337993,
             0.18271225766227794,
             0.9716312542852679,
             0.8976984351175483,
             0.9606648859302717
            ],
            [
             0.6038696577407527,
             0.5151603669026421,
             0.8327178493802309,
             0.6523489656890211,
             0.24855767636724513,
             0.9342860382578622,
             0.43969944996553134,
             0.773556228309299,
             0.5009379569884868,
             0.18335624310512755
            ],
            [
             0.2959268470094133,
             0.5744107688028172,
             0.14300208426428052,
             0.013737858616478582,
             0.43389122434993144,
             0.7621971718592196,
             0.614157273742888,
             0.32414637580737604,
             0.7172409392954933,
             0.4845146331098733
            ],
            [
             0.9995013522570269,
             0.7760316524447806,
             0.830631441271759,
             0.2595489061387781,
             0.15229496284881394,
             0.19930390910700002,
             0.43226496434626605,
             0.5121491196209004,
             0.19460934773223448,
             0.7799447709885816
            ],
            [
             0.8684311544172296,
             0.31600498576024083,
             0.50806419675629,
             0.5943746025127589,
             0.7223781739311237,
             0.1474724544653564,
             0.28087106140315643,
             0.7307059958584028,
             0.5681923142926266,
             0.8999457934389484
            ],
            [
             0.4478583619887434,
             0.406612845033848,
             0.3065072175307022,
             0.23137257265474553,
             0.6507663347633983,
             0.2646860018226955,
             0.8622755206430474,
             0.2706483956521083,
             0.6733596312251477,
             0.5681841419017319
            ],
            [
             0.6284587978789083,
             0.8954167756318381,
             0.16998845146941277,
             0.1498155458754621,
             0.12190222133530626,
             0.07643902091821697,
             0.5342310236037406,
             0.16573115195227217,
             0.8071679300934899,
             0.022610530546880114
            ],
            [
             0.3746069717348577,
             0.47320397138856884,
             0.2165283006768245,
             0.3559062195172905,
             0.22279143552845215,
             0.28182810633472577,
             0.9268710607285915,
             0.4171753663098261,
             0.38586494126072,
             0.6111744524341742
            ],
            [
             0.6641418567485056,
             0.6602765449276847,
             0.08475896722401388,
             0.5819025790346892,
             0.7359235998979756,
             0.7955683661434495,
             0.5885342519393526,
             0.1305730582345579,
             0.08374032389677899,
             0.3230536931058179
            ],
            [
             0.9275588094659627,
             0.4726175288334824,
             0.8954739071476481,
             0.4596749532770249,
             0.755118106560127,
             0.48512717568964037,
             0.7087022614323838,
             0.3171792766671796,
             0.8898652636367038,
             0.26570806873658315
            ]
           ]
          }
         ],
         "name": "frame_4"
        }
       ],
       "layout": {
        "dragmode": false,
        "height": 600,
        "sliders": [
         {
          "active": 0,
          "currentvalue": {
           "font": {
            "size": 20
           },
           "prefix": "Frame: ",
           "visible": true,
           "xanchor": "right"
          },
          "len": 0.9,
          "pad": {
           "b": 10,
           "t": 50
          },
          "steps": [
           {
            "args": [
             [
              "frame_0"
             ],
             {
              "frame": {
               "duration": 500,
               "redraw": true
              },
              "mode": "immediate",
              "transition": {
               "duration": 500
              }
             }
            ],
            "label": "0",
            "method": "animate"
           },
           {
            "args": [
             [
              "frame_1"
             ],
             {
              "frame": {
               "duration": 500,
               "redraw": true
              },
              "mode": "immediate",
              "transition": {
               "duration": 500
              }
             }
            ],
            "label": "1",
            "method": "animate"
           },
           {
            "args": [
             [
              "frame_2"
             ],
             {
              "frame": {
               "duration": 500,
               "redraw": true
              },
              "mode": "immediate",
              "transition": {
               "duration": 500
              }
             }
            ],
            "label": "2",
            "method": "animate"
           },
           {
            "args": [
             [
              "frame_3"
             ],
             {
              "frame": {
               "duration": 500,
               "redraw": true
              },
              "mode": "immediate",
              "transition": {
               "duration": 500
              }
             }
            ],
            "label": "3",
            "method": "animate"
           },
           {
            "args": [
             [
              "frame_4"
             ],
             {
              "frame": {
               "duration": 500,
               "redraw": true
              },
              "mode": "immediate",
              "transition": {
               "duration": 500
              }
             }
            ],
            "label": "4",
            "method": "animate"
           }
          ],
          "transition": {
           "duration": 500,
           "easing": "cubic-in-out"
          },
          "x": 0.1,
          "xanchor": "left",
          "y": 1.1,
          "yanchor": "bottom"
         }
        ],
        "template": {
         "data": {
          "bar": [
           {
            "error_x": {
             "color": "#2a3f5f"
            },
            "error_y": {
             "color": "#2a3f5f"
            },
            "marker": {
             "line": {
              "color": "#E5ECF6",
              "width": 0.5
             },
             "pattern": {
              "fillmode": "overlay",
              "size": 10,
              "solidity": 0.2
             }
            },
            "type": "bar"
           }
          ],
          "barpolar": [
           {
            "marker": {
             "line": {
              "color": "#E5ECF6",
              "width": 0.5
             },
             "pattern": {
              "fillmode": "overlay",
              "size": 10,
              "solidity": 0.2
             }
            },
            "type": "barpolar"
           }
          ],
          "carpet": [
           {
            "aaxis": {
             "endlinecolor": "#2a3f5f",
             "gridcolor": "white",
             "linecolor": "white",
             "minorgridcolor": "white",
             "startlinecolor": "#2a3f5f"
            },
            "baxis": {
             "endlinecolor": "#2a3f5f",
             "gridcolor": "white",
             "linecolor": "white",
             "minorgridcolor": "white",
             "startlinecolor": "#2a3f5f"
            },
            "type": "carpet"
           }
          ],
          "choropleth": [
           {
            "colorbar": {
             "outlinewidth": 0,
             "ticks": ""
            },
            "type": "choropleth"
           }
          ],
          "contour": [
           {
            "colorbar": {
             "outlinewidth": 0,
             "ticks": ""
            },
            "colorscale": [
             [
              0,
              "#0d0887"
             ],
             [
              0.1111111111111111,
              "#46039f"
             ],
             [
              0.2222222222222222,
              "#7201a8"
             ],
             [
              0.3333333333333333,
              "#9c179e"
             ],
             [
              0.4444444444444444,
              "#bd3786"
             ],
             [
              0.5555555555555556,
              "#d8576b"
             ],
             [
              0.6666666666666666,
              "#ed7953"
             ],
             [
              0.7777777777777778,
              "#fb9f3a"
             ],
             [
              0.8888888888888888,
              "#fdca26"
             ],
             [
              1,
              "#f0f921"
             ]
            ],
            "type": "contour"
           }
          ],
          "contourcarpet": [
           {
            "colorbar": {
             "outlinewidth": 0,
             "ticks": ""
            },
            "type": "contourcarpet"
           }
          ],
          "heatmap": [
           {
            "colorbar": {
             "outlinewidth": 0,
             "ticks": ""
            },
            "colorscale": [
             [
              0,
              "#0d0887"
             ],
             [
              0.1111111111111111,
              "#46039f"
             ],
             [
              0.2222222222222222,
              "#7201a8"
             ],
             [
              0.3333333333333333,
              "#9c179e"
             ],
             [
              0.4444444444444444,
              "#bd3786"
             ],
             [
              0.5555555555555556,
              "#d8576b"
             ],
             [
              0.6666666666666666,
              "#ed7953"
             ],
             [
              0.7777777777777778,
              "#fb9f3a"
             ],
             [
              0.8888888888888888,
              "#fdca26"
             ],
             [
              1,
              "#f0f921"
             ]
            ],
            "type": "heatmap"
           }
          ],
          "heatmapgl": [
           {
            "colorbar": {
             "outlinewidth": 0,
             "ticks": ""
            },
            "colorscale": [
             [
              0,
              "#0d0887"
             ],
             [
              0.1111111111111111,
              "#46039f"
             ],
             [
              0.2222222222222222,
              "#7201a8"
             ],
             [
              0.3333333333333333,
              "#9c179e"
             ],
             [
              0.4444444444444444,
              "#bd3786"
             ],
             [
              0.5555555555555556,
              "#d8576b"
             ],
             [
              0.6666666666666666,
              "#ed7953"
             ],
             [
              0.7777777777777778,
              "#fb9f3a"
             ],
             [
              0.8888888888888888,
              "#fdca26"
             ],
             [
              1,
              "#f0f921"
             ]
            ],
            "type": "heatmapgl"
           }
          ],
          "histogram": [
           {
            "marker": {
             "pattern": {
              "fillmode": "overlay",
              "size": 10,
              "solidity": 0.2
             }
            },
            "type": "histogram"
           }
          ],
          "histogram2d": [
           {
            "colorbar": {
             "outlinewidth": 0,
             "ticks": ""
            },
            "colorscale": [
             [
              0,
              "#0d0887"
             ],
             [
              0.1111111111111111,
              "#46039f"
             ],
             [
              0.2222222222222222,
              "#7201a8"
             ],
             [
              0.3333333333333333,
              "#9c179e"
             ],
             [
              0.4444444444444444,
              "#bd3786"
             ],
             [
              0.5555555555555556,
              "#d8576b"
             ],
             [
              0.6666666666666666,
              "#ed7953"
             ],
             [
              0.7777777777777778,
              "#fb9f3a"
             ],
             [
              0.8888888888888888,
              "#fdca26"
             ],
             [
              1,
              "#f0f921"
             ]
            ],
            "type": "histogram2d"
           }
          ],
          "histogram2dcontour": [
           {
            "colorbar": {
             "outlinewidth": 0,
             "ticks": ""
            },
            "colorscale": [
             [
              0,
              "#0d0887"
             ],
             [
              0.1111111111111111,
              "#46039f"
             ],
             [
              0.2222222222222222,
              "#7201a8"
             ],
             [
              0.3333333333333333,
              "#9c179e"
             ],
             [
              0.4444444444444444,
              "#bd3786"
             ],
             [
              0.5555555555555556,
              "#d8576b"
             ],
             [
              0.6666666666666666,
              "#ed7953"
             ],
             [
              0.7777777777777778,
              "#fb9f3a"
             ],
             [
              0.8888888888888888,
              "#fdca26"
             ],
             [
              1,
              "#f0f921"
             ]
            ],
            "type": "histogram2dcontour"
           }
          ],
          "mesh3d": [
           {
            "colorbar": {
             "outlinewidth": 0,
             "ticks": ""
            },
            "type": "mesh3d"
           }
          ],
          "parcoords": [
           {
            "line": {
             "colorbar": {
              "outlinewidth": 0,
              "ticks": ""
             }
            },
            "type": "parcoords"
           }
          ],
          "pie": [
           {
            "automargin": true,
            "type": "pie"
           }
          ],
          "scatter": [
           {
            "fillpattern": {
             "fillmode": "overlay",
             "size": 10,
             "solidity": 0.2
            },
            "type": "scatter"
           }
          ],
          "scatter3d": [
           {
            "line": {
             "colorbar": {
              "outlinewidth": 0,
              "ticks": ""
             }
            },
            "marker": {
             "colorbar": {
              "outlinewidth": 0,
              "ticks": ""
             }
            },
            "type": "scatter3d"
           }
          ],
          "scattercarpet": [
           {
            "marker": {
             "colorbar": {
              "outlinewidth": 0,
              "ticks": ""
             }
            },
            "type": "scattercarpet"
           }
          ],
          "scattergeo": [
           {
            "marker": {
             "colorbar": {
              "outlinewidth": 0,
              "ticks": ""
             }
            },
            "type": "scattergeo"
           }
          ],
          "scattergl": [
           {
            "marker": {
             "colorbar": {
              "outlinewidth": 0,
              "ticks": ""
             }
            },
            "type": "scattergl"
           }
          ],
          "scattermapbox": [
           {
            "marker": {
             "colorbar": {
              "outlinewidth": 0,
              "ticks": ""
             }
            },
            "type": "scattermapbox"
           }
          ],
          "scatterpolar": [
           {
            "marker": {
             "colorbar": {
              "outlinewidth": 0,
              "ticks": ""
             }
            },
            "type": "scatterpolar"
           }
          ],
          "scatterpolargl": [
           {
            "marker": {
             "colorbar": {
              "outlinewidth": 0,
              "ticks": ""
             }
            },
            "type": "scatterpolargl"
           }
          ],
          "scatterternary": [
           {
            "marker": {
             "colorbar": {
              "outlinewidth": 0,
              "ticks": ""
             }
            },
            "type": "scatterternary"
           }
          ],
          "surface": [
           {
            "colorbar": {
             "outlinewidth": 0,
             "ticks": ""
            },
            "colorscale": [
             [
              0,
              "#0d0887"
             ],
             [
              0.1111111111111111,
              "#46039f"
             ],
             [
              0.2222222222222222,
              "#7201a8"
             ],
             [
              0.3333333333333333,
              "#9c179e"
             ],
             [
              0.4444444444444444,
              "#bd3786"
             ],
             [
              0.5555555555555556,
              "#d8576b"
             ],
             [
              0.6666666666666666,
              "#ed7953"
             ],
             [
              0.7777777777777778,
              "#fb9f3a"
             ],
             [
              0.8888888888888888,
              "#fdca26"
             ],
             [
              1,
              "#f0f921"
             ]
            ],
            "type": "surface"
           }
          ],
          "table": [
           {
            "cells": {
             "fill": {
              "color": "#EBF0F8"
             },
             "line": {
              "color": "white"
             }
            },
            "header": {
             "fill": {
              "color": "#C8D4E3"
             },
             "line": {
              "color": "white"
             }
            },
            "type": "table"
           }
          ]
         },
         "layout": {
          "annotationdefaults": {
           "arrowcolor": "#2a3f5f",
           "arrowhead": 0,
           "arrowwidth": 1
          },
          "autotypenumbers": "strict",
          "coloraxis": {
           "colorbar": {
            "outlinewidth": 0,
            "ticks": ""
           }
          },
          "colorscale": {
           "diverging": [
            [
             0,
             "#8e0152"
            ],
            [
             0.1,
             "#c51b7d"
            ],
            [
             0.2,
             "#de77ae"
            ],
            [
             0.3,
             "#f1b6da"
            ],
            [
             0.4,
             "#fde0ef"
            ],
            [
             0.5,
             "#f7f7f7"
            ],
            [
             0.6,
             "#e6f5d0"
            ],
            [
             0.7,
             "#b8e186"
            ],
            [
             0.8,
             "#7fbc41"
            ],
            [
             0.9,
             "#4d9221"
            ],
            [
             1,
             "#276419"
            ]
           ],
           "sequential": [
            [
             0,
             "#0d0887"
            ],
            [
             0.1111111111111111,
             "#46039f"
            ],
            [
             0.2222222222222222,
             "#7201a8"
            ],
            [
             0.3333333333333333,
             "#9c179e"
            ],
            [
             0.4444444444444444,
             "#bd3786"
            ],
            [
             0.5555555555555556,
             "#d8576b"
            ],
            [
             0.6666666666666666,
             "#ed7953"
            ],
            [
             0.7777777777777778,
             "#fb9f3a"
            ],
            [
             0.8888888888888888,
             "#fdca26"
            ],
            [
             1,
             "#f0f921"
            ]
           ],
           "sequentialminus": [
            [
             0,
             "#0d0887"
            ],
            [
             0.1111111111111111,
             "#46039f"
            ],
            [
             0.2222222222222222,
             "#7201a8"
            ],
            [
             0.3333333333333333,
             "#9c179e"
            ],
            [
             0.4444444444444444,
             "#bd3786"
            ],
            [
             0.5555555555555556,
             "#d8576b"
            ],
            [
             0.6666666666666666,
             "#ed7953"
            ],
            [
             0.7777777777777778,
             "#fb9f3a"
            ],
            [
             0.8888888888888888,
             "#fdca26"
            ],
            [
             1,
             "#f0f921"
            ]
           ]
          },
          "colorway": [
           "#636efa",
           "#EF553B",
           "#00cc96",
           "#ab63fa",
           "#FFA15A",
           "#19d3f3",
           "#FF6692",
           "#B6E880",
           "#FF97FF",
           "#FECB52"
          ],
          "font": {
           "color": "#2a3f5f"
          },
          "geo": {
           "bgcolor": "white",
           "lakecolor": "white",
           "landcolor": "#E5ECF6",
           "showlakes": true,
           "showland": true,
           "subunitcolor": "white"
          },
          "hoverlabel": {
           "align": "left"
          },
          "hovermode": "closest",
          "mapbox": {
           "style": "light"
          },
          "paper_bgcolor": "white",
          "plot_bgcolor": "#E5ECF6",
          "polar": {
           "angularaxis": {
            "gridcolor": "white",
            "linecolor": "white",
            "ticks": ""
           },
           "bgcolor": "#E5ECF6",
           "radialaxis": {
            "gridcolor": "white",
            "linecolor": "white",
            "ticks": ""
           }
          },
          "scene": {
           "xaxis": {
            "backgroundcolor": "#E5ECF6",
            "gridcolor": "white",
            "gridwidth": 2,
            "linecolor": "white",
            "showbackground": true,
            "ticks": "",
            "zerolinecolor": "white"
           },
           "yaxis": {
            "backgroundcolor": "#E5ECF6",
            "gridcolor": "white",
            "gridwidth": 2,
            "linecolor": "white",
            "showbackground": true,
            "ticks": "",
            "zerolinecolor": "white"
           },
           "zaxis": {
            "backgroundcolor": "#E5ECF6",
            "gridcolor": "white",
            "gridwidth": 2,
            "linecolor": "white",
            "showbackground": true,
            "ticks": "",
            "zerolinecolor": "white"
           }
          },
          "shapedefaults": {
           "line": {
            "color": "#2a3f5f"
           }
          },
          "ternary": {
           "aaxis": {
            "gridcolor": "white",
            "linecolor": "white",
            "ticks": ""
           },
           "baxis": {
            "gridcolor": "white",
            "linecolor": "white",
            "ticks": ""
           },
           "bgcolor": "#E5ECF6",
           "caxis": {
            "gridcolor": "white",
            "linecolor": "white",
            "ticks": ""
           }
          },
          "title": {
           "x": 0.05
          },
          "xaxis": {
           "automargin": true,
           "gridcolor": "white",
           "linecolor": "white",
           "ticks": "",
           "title": {
            "standoff": 15
           },
           "zerolinecolor": "white",
           "zerolinewidth": 2
          },
          "yaxis": {
           "automargin": true,
           "gridcolor": "white",
           "linecolor": "white",
           "ticks": "",
           "title": {
            "standoff": 15
           },
           "zerolinecolor": "white",
           "zerolinewidth": 2
          }
         }
        },
        "title": {
         "text": "DEFAULT TITLE"
        },
        "updatemenus": [
         {
          "direction": "left",
          "pad": {
           "r": 10,
           "t": 87
          },
          "showactive": false,
          "type": "buttons",
          "x": 0.1,
          "xanchor": "right",
          "y": 1.1,
          "yanchor": "bottom"
         }
        ],
        "width": 800,
        "xaxis": {
         "fixedrange": true,
         "nticks": 10
        },
        "yaxis": {
         "fixedrange": true,
         "nticks": 10
        }
       }
      }
     },
     "metadata": {},
     "output_type": "display_data"
    }
   ],
   "source": [
    "def animated_heatmap(\n",
    "    matrices: np.ndarray | None = None,\n",
    "    labels: list | None = None,\n",
    "    title: str = \"DEFAULT TITLE\",\n",
    "    show_values: bool = True,\n",
    "    value_format: Literal[\".2f\", \".2e\"] = \".2f\",\n",
    "    width: int = 800,\n",
    "    height: int = 600,\n",
    "    xaxis_title: str | None = None,\n",
    "    yaxis_title: str | None = None,\n",
    "    log: bool = False,\n",
    "    nan_diagnal: bool = False,\n",
    "    frame_duration: int = 500,\n",
    "    slider_labels: list[str] | None = None,\n",
    "    slider_prefix: str = \"Frame: \",\n",
    "):\n",
    "    # Generate demo data if matrices is None\n",
    "    if matrices is None:\n",
    "        faker = Faker()\n",
    "        shape = (5, 10, 10)  # (time, rows, cols)\n",
    "        matrices = rng.random(shape)\n",
    "        # logger.info(matrices)\n",
    "    elif matrices.ndim != 3:\n",
    "        raise ValueError(\"Expected 3D array (time, rows, cols)\")\n",
    "\n",
    "    n_frames, n_rows, n_cols = matrices.shape\n",
    "\n",
    "    if labels is None:\n",
    "        faker = Faker()\n",
    "        labels = [faker.name() for _ in range(n_rows)]\n",
    "    col_labels = labels\n",
    "    row_labels = labels\n",
    "\n",
    "    # Process all matrices\n",
    "    processed_matrices = []\n",
    "    for matrix in matrices:\n",
    "        # Convert and process each time slice\n",
    "        matrix = np.array(matrix, dtype=object)\n",
    "        none_mask = matrix is None\n",
    "        matrix = matrix.astype(float)\n",
    "        if log:\n",
    "            matrix = np.log10(matrix)\n",
    "        matrix[none_mask] = np.nan\n",
    "        if nan_diagnal:\n",
    "            matrix[np.identity(matrix.shape[0], dtype=bool)] = np.nan\n",
    "        processed_matrices.append(matrix)\n",
    "\n",
    "        # Update the sliders configuration with custom labels\n",
    "    if slider_labels is not None:\n",
    "        if len(slider_labels) != n_frames:\n",
    "            raise ValueError(f\"Expected {n_frames} slider labels, got {len(slider_labels)}\")\n",
    "        frame_labels = slider_labels\n",
    "    else:\n",
    "        frame_labels = [str(k) for k in range(n_frames)]\n",
    "\n",
    "    layout_sliders = [\n",
    "        go.layout.Slider(\n",
    "            active=0,\n",
    "            yanchor=\"bottom\",\n",
    "            xanchor=\"left\",\n",
    "            currentvalue=go.layout.slider.Currentvalue(\n",
    "                font=dict(size=20), prefix=slider_prefix, visible=True, xanchor=\"right\"\n",
    "            ),\n",
    "            transition=go.layout.slider.Transition(duration=frame_duration, easing=\"cubic-in-out\"),\n",
    "            pad=dict(b=10, t=50),\n",
    "            len=0.9,\n",
    "            x=0.1,\n",
    "            y=1.1,\n",
    "            steps=[\n",
    "                go.layout.slider.Step(\n",
    "                    args=[\n",
    "                        [f\"frame_{k}\"],\n",
    "                        {\n",
    "                            \"frame\": {\"duration\": frame_duration, \"redraw\": True},\n",
    "                            \"mode\": \"immediate\",\n",
    "                            \"transition\": {\"duration\": frame_duration},\n",
    "                        },\n",
    "                    ],\n",
    "                    label=label,\n",
    "                    method=\"animate\",\n",
    "                )\n",
    "                for k, label in enumerate(frame_labels)\n",
    "            ],\n",
    "        )\n",
    "    ]\n",
    "\n",
    "    # Create frames for animation\n",
    "    frames = [\n",
    "        go.Frame(\n",
    "            data=[heatmap(matrix, row_labels, show_values=show_values).data[0]],\n",
    "            name=f\"frame_{i}\",  # name is required for frames\n",
    "        )\n",
    "        for i, matrix in enumerate(processed_matrices)\n",
    "    ]\n",
    "\n",
    "    # Create the figure with the initial frame\n",
    "    fig = go.Figure(\n",
    "        data=[heatmap(processed_matrices[0], row_labels, show_values=show_values).data[0]],\n",
    "        frames=frames,\n",
    "        layout=go.Layout(\n",
    "            title=title,\n",
    "            width=width,\n",
    "            height=height,\n",
    "            xaxis=go.layout.XAxis(\n",
    "                title=xaxis_title,\n",
    "                nticks=len(col_labels) if col_labels else None,\n",
    "                fixedrange=True,\n",
    "            ),\n",
    "            yaxis=go.layout.YAxis(\n",
    "                title=yaxis_title,\n",
    "                nticks=len(row_labels) if row_labels else None,\n",
    "                fixedrange=True,\n",
    "            ),\n",
    "            dragmode=False,\n",
    "            updatemenus=[\n",
    "                go.layout.Updatemenu(\n",
    "                    buttons=[\n",
    "                        # go.layout.updatemenu.Button(\n",
    "                        #     args=[\n",
    "                        #         None,\n",
    "                        #         {\n",
    "                        #             \"frame\": {\"duration\": frame_duration, \"redraw\": True},\n",
    "                        #             \"fromcurrent\": True,\n",
    "                        #         },\n",
    "                        #     ],\n",
    "                        #     label=\"Play\",\n",
    "                        #     method=\"animate\",\n",
    "                        # ),\n",
    "                        # go.layout.updatemenu.Button(\n",
    "                        #     args=[\n",
    "                        #         [None],\n",
    "                        #         {\n",
    "                        #             \"frame\": {\"duration\": 0, \"redraw\": True},\n",
    "                        #             \"mode\": \"immediate\",\n",
    "                        #             \"transition\": {\"duration\": 0},\n",
    "                        #         },\n",
    "                        #     ],\n",
    "                        #     label=\"Pause\",\n",
    "                        #     method=\"animate\",\n",
    "                        # ),\n",
    "                    ],\n",
    "                    direction=\"left\",\n",
    "                    pad={\"r\": 10, \"t\": 87},\n",
    "                    showactive=False,\n",
    "                    type=\"buttons\",\n",
    "                    x=0.1,\n",
    "                    xanchor=\"right\",\n",
    "                    y=1.1,\n",
    "                    yanchor=\"bottom\",\n",
    "                )\n",
    "            ],\n",
    "        ),\n",
    "    )\n",
    "\n",
    "    # Update the layout dictionary to include the new sliders\n",
    "    fig.update_layout(sliders=layout_sliders)\n",
    "\n",
    "    return fig\n",
    "\n",
    "\n",
    "animated_heatmap()"
   ]
  },
  {
   "cell_type": "markdown",
   "metadata": {},
   "source": [
    "## Import Data\n"
   ]
  },
  {
   "cell_type": "code",
   "execution_count": 7,
   "metadata": {},
   "outputs": [],
   "source": [
    "# Load Metadata\n",
    "\"\"\"\n",
    "# 6 Datasets (ArguAna, FiQA, SciDocs, NFCorpus, HotPotQA, Trec-COVID)\n",
    "# 17 Native Embedding Spaces\n",
    "# 17 Stitched Embedding Spaces\n",
    "# 6 Architectures (2, 3, 4, 5, 6, or 7 layers)\n",
    "\"\"\"\n",
    "with CKA_META.open() as f:\n",
    "    meta = orjson.loads(f.read())\n",
    "\n",
    "# pretty.pprint(meta)\n",
    "\n",
    "meta_df = pl.read_json(CKA_META)\n",
    "\n",
    "\n",
    "# def create_index_df(meta: dict) -> pl.DataFrame:\n",
    "#     \"\"\"Create an index DataFrame for easy tensor lookup using np.indices.\n",
    "\n",
    "#     Args:\n",
    "#         meta: Dictionary containing dataset2idx and model2idx mappings\n",
    "\n",
    "#     Returns:\n",
    "#         pl.DataFrame: DataFrame with hierarchical index for tensor lookup\n",
    "#     \"\"\"\n",
    "#     # Get shape from metadata\n",
    "#     n_datasets = len(meta[\"dataset2idx\"])\n",
    "#     n_models = len(meta[\"model2idx\"])\n",
    "#     n_layers = len(meta[\"num_layers\"])\n",
    "\n",
    "#     # Create indices arrays for each dimension\n",
    "#     datasets, sources, targets, layers = np.indices((n_datasets, n_models, n_models, n_layers))\n",
    "\n",
    "#     # Create reverse mapping dictionaries\n",
    "#     dataset_map = {v: k for k, v in meta[\"dataset2idx\"].items()}\n",
    "#     model_map = {v: k for k, v in meta[\"model2idx\"].items()}\n",
    "\n",
    "#     # Create DataFrame\n",
    "#     return pl.DataFrame(\n",
    "#         {\n",
    "#             \"dataset\": pl.Series(datasets.flatten()).cast_dict(dataset_map),\n",
    "#             \"source_model\": pl.Series(sources.flatten()).cast_dict(model_map),\n",
    "#             \"target_model\": pl.Series(targets.flatten()).cast_dict(model_map),\n",
    "#             \"num_layers\": pl.Series(layers.flatten()) + 2,  # Convert 0-based to 2-based\n",
    "#             \"index\": list(\n",
    "#                 zip(datasets.flatten(), sources.flatten(), targets.flatten(), layers.flatten())\n",
    "#             ),\n",
    "#         }\n",
    "#     )\n",
    "\n",
    "\n",
    "# create_index_df(meta)\n",
    "# why am I being silly, work on this later."
   ]
  },
  {
   "cell_type": "code",
   "execution_count": 12,
   "metadata": {},
   "outputs": [
    {
     "name": "stderr",
     "output_type": "stream",
     "text": [
      "\u001b[32m2024-12-13 20:42:48.162\u001b[0m | \u001b[1mINFO    \u001b[0m | \u001b[36m__main__\u001b[0m:\u001b[36m<cell line: 0>\u001b[0m:\u001b[36m3\u001b[0m - \u001b[1m['table']\u001b[0m\n"
     ]
    },
    {
     "data": {
      "text/plain": [
       "'tensors[\"table\"].shape=(6, 17, 17, 1)'"
      ]
     },
     "execution_count": 12,
     "metadata": {},
     "output_type": "execute_result"
    }
   ],
   "source": [
    "# Load Tensors\n",
    "tensors = load_file(CKA_TENSORS)\n",
    "logger.info(list(tensors.keys()))\n",
    "ckas = tensors[\"table\"]\n",
    "# f\"{tensors[\"validation_mses\"].shape=}\"\n",
    "f\"{tensors[\"table\"].shape=}\""
   ]
  },
  {
   "cell_type": "code",
   "execution_count": 33,
   "metadata": {},
   "outputs": [],
   "source": [
    "# from safetensors.numpy import load_file\n",
    "\n",
    "\n",
    "# def safetensor_to_polars(\n",
    "#     tensor_path: Path,\n",
    "#     meta_path: Path,\n",
    "# ) -> pl.DataFrame:\n",
    "#     \"\"\"Convert safetensor validation MSEs to a polars dataframe.\n",
    "\n",
    "#     Args:\n",
    "#         tensor_path: Path to .safetensors file\n",
    "#         meta_path: Path to metadata JSON file\n",
    "\n",
    "#     Returns:\n",
    "#         pl.DataFrame: Long-format dataframe with validation MSEs\n",
    "#     \"\"\"\n",
    "#     # Load metadata\n",
    "#     with meta_path.open() as f:\n",
    "#         meta = orjson.loads(f.read())\n",
    "\n",
    "#     # Load tensor\n",
    "#     tensor_dict = load_file(tensor_path)  # (6, 17, 17, 6)\n",
    "#     validation_mses = tensor_dict[\"validation_mses\"]\n",
    "\n",
    "#     # Create mapping dictionaries\n",
    "#     dataset_map = {v: k for k, v in meta[\"dataset2idx\"].items()}\n",
    "#     model_map = {v: k for k, v in meta[\"model2idx\"].items()}\n",
    "\n",
    "#     # Create index arrays for each dimension\n",
    "#     datasets, source_models, target_models, architectures = np.indices(validation_mses.shape)\n",
    "\n",
    "#     # Create dataframe\n",
    "#     mse_df = pl.DataFrame(\n",
    "#         {\n",
    "#             \"dataset\": datasets.flatten(),\n",
    "#             \"source_model\": source_models.flatten(),\n",
    "#             \"target_model\": target_models.flatten(),\n",
    "#             \"num_layers\": architectures.flatten(),\n",
    "#             \"mse\": validation_mses.flatten(),\n",
    "#         }\n",
    "#     )\n",
    "\n",
    "#     # Map indices to names\n",
    "#     mse_df = mse_df.with_columns(\n",
    "#         [\n",
    "#             pl.col(\"dataset\").map_dict(dataset_map).alias(\"dataset_name\"),\n",
    "#             pl.col(\"source_model\").map_dict(model_map).alias(\"source_model_name\"),\n",
    "#             pl.col(\"target_model\").map_dict(model_map).alias(\"target_model_name\"),\n",
    "#             pl.col(\"num_layers\").map_dict(dict(enumerate(meta[\"num_layers\"]))).alias(\"num_layers\"),\n",
    "#         ]\n",
    "#     ).drop(\"dataset\", \"source_model\", \"target_model\")\n",
    "\n",
    "#     return mse_df\n",
    "\n",
    "\n",
    "# # Usage\n",
    "# mse_df = safetensor_to_polars(\n",
    "#     tensor_path=MLP_MSE_VALIDATION_TENSORS, meta_path=MLP_MSE_VALIDATION_META\n",
    "# )\n",
    "# not working, also fucked around here."
   ]
  },
  {
   "cell_type": "code",
   "execution_count": 13,
   "metadata": {},
   "outputs": [
    {
     "name": "stderr",
     "output_type": "stream",
     "text": [
      "\u001b[32m2024-12-13 20:42:50.434\u001b[0m | \u001b[1mINFO    \u001b[0m | \u001b[36m__main__\u001b[0m:\u001b[36m<cell line: 0>\u001b[0m:\u001b[36m6\u001b[0m - \u001b[1m(17, 17)\u001b[0m\n"
     ]
    },
    {
     "data": {
      "text/html": [
       "<pre style=\"white-space:pre;overflow-x:auto;line-height:normal;font-family:Menlo,'DejaVu Sans Mono',consolas,'Courier New',monospace\"><span style=\"color: #800080; text-decoration-color: #800080; font-weight: bold\">array</span><span style=\"font-weight: bold\">([[</span><span style=\"color: #008080; text-decoration-color: #008080; font-weight: bold\">1</span>.   , <span style=\"color: #008080; text-decoration-color: #008080; font-weight: bold\">0.848</span>, <span style=\"color: #008080; text-decoration-color: #008080; font-weight: bold\">0.98</span> , <span style=\"color: #808000; text-decoration-color: #808000\">...</span>, <span style=\"color: #008080; text-decoration-color: #008080; font-weight: bold\">0.76</span> , <span style=\"color: #008080; text-decoration-color: #008080; font-weight: bold\">0.813</span>, <span style=\"color: #008080; text-decoration-color: #008080; font-weight: bold\">0.823</span><span style=\"font-weight: bold\">]</span>,\n",
       "<span style=\"color: #7fbf7f; text-decoration-color: #7fbf7f\">│      </span><span style=\"font-weight: bold\">[</span><span style=\"color: #008080; text-decoration-color: #008080; font-weight: bold\">0.848</span>, <span style=\"color: #008080; text-decoration-color: #008080; font-weight: bold\">1</span>.   , <span style=\"color: #008080; text-decoration-color: #008080; font-weight: bold\">0.843</span>, <span style=\"color: #808000; text-decoration-color: #808000\">...</span>, <span style=\"color: #008080; text-decoration-color: #008080; font-weight: bold\">0.747</span>, <span style=\"color: #008080; text-decoration-color: #008080; font-weight: bold\">0.795</span>, <span style=\"color: #008080; text-decoration-color: #008080; font-weight: bold\">0.809</span><span style=\"font-weight: bold\">]</span>,\n",
       "<span style=\"color: #7fbf7f; text-decoration-color: #7fbf7f\">│      </span><span style=\"font-weight: bold\">[</span><span style=\"color: #008080; text-decoration-color: #008080; font-weight: bold\">0.98</span> , <span style=\"color: #008080; text-decoration-color: #008080; font-weight: bold\">0.843</span>, <span style=\"color: #008080; text-decoration-color: #008080; font-weight: bold\">1</span>.   , <span style=\"color: #808000; text-decoration-color: #808000\">...</span>, <span style=\"color: #008080; text-decoration-color: #008080; font-weight: bold\">0.742</span>, <span style=\"color: #008080; text-decoration-color: #008080; font-weight: bold\">0.794</span>, <span style=\"color: #008080; text-decoration-color: #008080; font-weight: bold\">0.801</span><span style=\"font-weight: bold\">]</span>,\n",
       "<span style=\"color: #7fbf7f; text-decoration-color: #7fbf7f\">│      </span><span style=\"color: #808000; text-decoration-color: #808000\">...</span>,\n",
       "<span style=\"color: #7fbf7f; text-decoration-color: #7fbf7f\">│      </span><span style=\"font-weight: bold\">[</span><span style=\"color: #008080; text-decoration-color: #008080; font-weight: bold\">0.76</span> , <span style=\"color: #008080; text-decoration-color: #008080; font-weight: bold\">0.747</span>, <span style=\"color: #008080; text-decoration-color: #008080; font-weight: bold\">0.742</span>, <span style=\"color: #808000; text-decoration-color: #808000\">...</span>, <span style=\"color: #008080; text-decoration-color: #008080; font-weight: bold\">1</span>.   , <span style=\"color: #008080; text-decoration-color: #008080; font-weight: bold\">0.801</span>, <span style=\"color: #008080; text-decoration-color: #008080; font-weight: bold\">0.801</span><span style=\"font-weight: bold\">]</span>,\n",
       "<span style=\"color: #7fbf7f; text-decoration-color: #7fbf7f\">│      </span><span style=\"font-weight: bold\">[</span><span style=\"color: #008080; text-decoration-color: #008080; font-weight: bold\">0.813</span>, <span style=\"color: #008080; text-decoration-color: #008080; font-weight: bold\">0.795</span>, <span style=\"color: #008080; text-decoration-color: #008080; font-weight: bold\">0.794</span>, <span style=\"color: #808000; text-decoration-color: #808000\">...</span>, <span style=\"color: #008080; text-decoration-color: #008080; font-weight: bold\">0.801</span>, <span style=\"color: #008080; text-decoration-color: #008080; font-weight: bold\">1</span>.   , <span style=\"color: #008080; text-decoration-color: #008080; font-weight: bold\">0.896</span><span style=\"font-weight: bold\">]</span>,\n",
       "<span style=\"color: #7fbf7f; text-decoration-color: #7fbf7f\">│      </span><span style=\"font-weight: bold\">[</span><span style=\"color: #008080; text-decoration-color: #008080; font-weight: bold\">0.823</span>, <span style=\"color: #008080; text-decoration-color: #008080; font-weight: bold\">0.809</span>, <span style=\"color: #008080; text-decoration-color: #008080; font-weight: bold\">0.801</span>, <span style=\"color: #808000; text-decoration-color: #808000\">...</span>, <span style=\"color: #008080; text-decoration-color: #008080; font-weight: bold\">0.801</span>, <span style=\"color: #008080; text-decoration-color: #008080; font-weight: bold\">0.896</span>, <span style=\"color: #008080; text-decoration-color: #008080; font-weight: bold\">1</span>.   <span style=\"font-weight: bold\">]]</span>, <span style=\"color: #808000; text-decoration-color: #808000\">dtype</span>=<span style=\"color: #800080; text-decoration-color: #800080\">float32</span><span style=\"font-weight: bold\">)</span>\n",
       "</pre>\n"
      ],
      "text/plain": [
       "\u001b[1;35marray\u001b[0m\u001b[1m(\u001b[0m\u001b[1m[\u001b[0m\u001b[1m[\u001b[0m\u001b[1;36m1\u001b[0m.   , \u001b[1;36m0.848\u001b[0m, \u001b[1;36m0.98\u001b[0m , \u001b[33m...\u001b[0m, \u001b[1;36m0.76\u001b[0m , \u001b[1;36m0.813\u001b[0m, \u001b[1;36m0.823\u001b[0m\u001b[1m]\u001b[0m,\n",
       "\u001b[2;32m│      \u001b[0m\u001b[1m[\u001b[0m\u001b[1;36m0.848\u001b[0m, \u001b[1;36m1\u001b[0m.   , \u001b[1;36m0.843\u001b[0m, \u001b[33m...\u001b[0m, \u001b[1;36m0.747\u001b[0m, \u001b[1;36m0.795\u001b[0m, \u001b[1;36m0.809\u001b[0m\u001b[1m]\u001b[0m,\n",
       "\u001b[2;32m│      \u001b[0m\u001b[1m[\u001b[0m\u001b[1;36m0.98\u001b[0m , \u001b[1;36m0.843\u001b[0m, \u001b[1;36m1\u001b[0m.   , \u001b[33m...\u001b[0m, \u001b[1;36m0.742\u001b[0m, \u001b[1;36m0.794\u001b[0m, \u001b[1;36m0.801\u001b[0m\u001b[1m]\u001b[0m,\n",
       "\u001b[2;32m│      \u001b[0m\u001b[33m...\u001b[0m,\n",
       "\u001b[2;32m│      \u001b[0m\u001b[1m[\u001b[0m\u001b[1;36m0.76\u001b[0m , \u001b[1;36m0.747\u001b[0m, \u001b[1;36m0.742\u001b[0m, \u001b[33m...\u001b[0m, \u001b[1;36m1\u001b[0m.   , \u001b[1;36m0.801\u001b[0m, \u001b[1;36m0.801\u001b[0m\u001b[1m]\u001b[0m,\n",
       "\u001b[2;32m│      \u001b[0m\u001b[1m[\u001b[0m\u001b[1;36m0.813\u001b[0m, \u001b[1;36m0.795\u001b[0m, \u001b[1;36m0.794\u001b[0m, \u001b[33m...\u001b[0m, \u001b[1;36m0.801\u001b[0m, \u001b[1;36m1\u001b[0m.   , \u001b[1;36m0.896\u001b[0m\u001b[1m]\u001b[0m,\n",
       "\u001b[2;32m│      \u001b[0m\u001b[1m[\u001b[0m\u001b[1;36m0.823\u001b[0m, \u001b[1;36m0.809\u001b[0m, \u001b[1;36m0.801\u001b[0m, \u001b[33m...\u001b[0m, \u001b[1;36m0.801\u001b[0m, \u001b[1;36m0.896\u001b[0m, \u001b[1;36m1\u001b[0m.   \u001b[1m]\u001b[0m\u001b[1m]\u001b[0m, \u001b[33mdtype\u001b[0m=\u001b[35mfloat32\u001b[0m\u001b[1m)\u001b[0m\n"
      ]
     },
     "metadata": {},
     "output_type": "display_data"
    }
   ],
   "source": [
    "# Print Imported Data (One Dataset, One Architecture)\n",
    "dataset_i = 0\n",
    "architecture_i = 0\n",
    "\n",
    "example_cka = ckas[dataset_i, :, :, architecture_i]\n",
    "logger.info(example_cka.shape)\n",
    "pretty.pprint(example_cka)"
   ]
  },
  {
   "cell_type": "code",
   "execution_count": 15,
   "metadata": {},
   "outputs": [
    {
     "data": {
      "text/html": [
       "<pre style=\"white-space:pre;overflow-x:auto;line-height:normal;font-family:Menlo,'DejaVu Sans Mono',consolas,'Courier New',monospace\"><span style=\"color: #800000; text-decoration-color: #800000\">╭─────────────────────────────── </span><span style=\"color: #800000; text-decoration-color: #800000; font-weight: bold\">Traceback </span><span style=\"color: #bf7f7f; text-decoration-color: #bf7f7f; font-weight: bold\">(most recent call last)</span><span style=\"color: #800000; text-decoration-color: #800000\"> ────────────────────────────────╮</span>\n",
       "<span style=\"color: #800000; text-decoration-color: #800000\">│</span> in <span style=\"color: #00ff00; text-decoration-color: #00ff00\">&lt;cell line: 0&gt;</span>:<span style=\"color: #0000ff; text-decoration-color: #0000ff\">7</span>                                                                              <span style=\"color: #800000; text-decoration-color: #800000\">│</span>\n",
       "<span style=\"color: #800000; text-decoration-color: #800000\">│</span>                                                                                                  <span style=\"color: #800000; text-decoration-color: #800000\">│</span>\n",
       "<span style=\"color: #800000; text-decoration-color: #800000\">│</span>   <span style=\"color: #7f7f7f; text-decoration-color: #7f7f7f\"> 4 </span>                                                                                            <span style=\"color: #800000; text-decoration-color: #800000\">│</span>\n",
       "<span style=\"color: #800000; text-decoration-color: #800000\">│</span>   <span style=\"color: #7f7f7f; text-decoration-color: #7f7f7f\"> 5 </span>                                                                                            <span style=\"color: #800000; text-decoration-color: #800000\">│</span>\n",
       "<span style=\"color: #800000; text-decoration-color: #800000\">│</span>   <span style=\"color: #7f7f7f; text-decoration-color: #7f7f7f\"> 6 </span>labels = <span style=\"color: #00ffff; text-decoration-color: #00ffff\">sorted</span>(meta[<span style=\"color: #808000; text-decoration-color: #808000\">\"model2idx\"</span>], key=<span style=\"color: #0000ff; text-decoration-color: #0000ff\">lambda</span> k: meta[<span style=\"color: #808000; text-decoration-color: #808000\">\"model2idx\"</span>][k])                      <span style=\"color: #800000; text-decoration-color: #800000\">│</span>\n",
       "<span style=\"color: #800000; text-decoration-color: #800000\">│</span> <span style=\"color: #800000; text-decoration-color: #800000\">❱ </span> 7 num_layers = <span style=\"color: #00ffff; text-decoration-color: #00ffff\">sorted</span>(<span style=\"font-weight: bold; text-decoration: underline\">meta[</span><span style=\"color: #808000; text-decoration-color: #808000; font-weight: bold; text-decoration: underline\">\"num_layers\"</span><span style=\"font-weight: bold; text-decoration: underline\">]</span>)                                                     <span style=\"color: #800000; text-decoration-color: #800000\">│</span>\n",
       "<span style=\"color: #800000; text-decoration-color: #800000\">│</span>   <span style=\"color: #7f7f7f; text-decoration-color: #7f7f7f\"> 8 </span>                                                                                            <span style=\"color: #800000; text-decoration-color: #800000\">│</span>\n",
       "<span style=\"color: #800000; text-decoration-color: #800000\">│</span>   <span style=\"color: #7f7f7f; text-decoration-color: #7f7f7f\"> 9 </span><span style=\"color: #0000ff; text-decoration-color: #0000ff\">for</span> dataset_name, dataset_i <span style=\"color: #ff00ff; text-decoration-color: #ff00ff\">in</span> meta[<span style=\"color: #808000; text-decoration-color: #808000\">\"dataset2idx\"</span>].items():                                 <span style=\"color: #800000; text-decoration-color: #800000\">│</span>\n",
       "<span style=\"color: #800000; text-decoration-color: #800000\">│</span>   <span style=\"color: #7f7f7f; text-decoration-color: #7f7f7f\">10 </span><span style=\"color: #7f7f7f; text-decoration-color: #7f7f7f\">│   </span>matrix = ckas[dataset_i, :, :, :].transpose(<span style=\"color: #0000ff; text-decoration-color: #0000ff\">2</span>, <span style=\"color: #0000ff; text-decoration-color: #0000ff\">0</span>, <span style=\"color: #0000ff; text-decoration-color: #0000ff\">1</span>)                                    <span style=\"color: #800000; text-decoration-color: #800000\">│</span>\n",
       "<span style=\"color: #800000; text-decoration-color: #800000\">╰──────────────────────────────────────────────────────────────────────────────────────────────────╯</span>\n",
       "<span style=\"color: #ff0000; text-decoration-color: #ff0000; font-weight: bold\">KeyError: </span><span style=\"color: #008000; text-decoration-color: #008000\">'num_layers'</span>\n",
       "</pre>\n"
      ],
      "text/plain": [
       "\u001b[31m╭─\u001b[0m\u001b[31m──────────────────────────────\u001b[0m\u001b[31m \u001b[0m\u001b[1;31mTraceback \u001b[0m\u001b[1;2;31m(most recent call last)\u001b[0m\u001b[31m \u001b[0m\u001b[31m───────────────────────────────\u001b[0m\u001b[31m─╮\u001b[0m\n",
       "\u001b[31m│\u001b[0m in \u001b[92m<cell line: 0>\u001b[0m:\u001b[94m7\u001b[0m                                                                              \u001b[31m│\u001b[0m\n",
       "\u001b[31m│\u001b[0m                                                                                                  \u001b[31m│\u001b[0m\n",
       "\u001b[31m│\u001b[0m   \u001b[2m 4 \u001b[0m                                                                                            \u001b[31m│\u001b[0m\n",
       "\u001b[31m│\u001b[0m   \u001b[2m 5 \u001b[0m                                                                                            \u001b[31m│\u001b[0m\n",
       "\u001b[31m│\u001b[0m   \u001b[2m 6 \u001b[0mlabels = \u001b[96msorted\u001b[0m(meta[\u001b[33m\"\u001b[0m\u001b[33mmodel2idx\u001b[0m\u001b[33m\"\u001b[0m], key=\u001b[94mlambda\u001b[0m k: meta[\u001b[33m\"\u001b[0m\u001b[33mmodel2idx\u001b[0m\u001b[33m\"\u001b[0m][k])                      \u001b[31m│\u001b[0m\n",
       "\u001b[31m│\u001b[0m \u001b[31m❱ \u001b[0m 7 num_layers = \u001b[96msorted\u001b[0m(\u001b[1;4mmeta[\u001b[0m\u001b[1;4;33m\"\u001b[0m\u001b[1;4;33mnum_layers\u001b[0m\u001b[1;4;33m\"\u001b[0m\u001b[1;4m]\u001b[0m)                                                     \u001b[31m│\u001b[0m\n",
       "\u001b[31m│\u001b[0m   \u001b[2m 8 \u001b[0m                                                                                            \u001b[31m│\u001b[0m\n",
       "\u001b[31m│\u001b[0m   \u001b[2m 9 \u001b[0m\u001b[94mfor\u001b[0m dataset_name, dataset_i \u001b[95min\u001b[0m meta[\u001b[33m\"\u001b[0m\u001b[33mdataset2idx\u001b[0m\u001b[33m\"\u001b[0m].items():                                 \u001b[31m│\u001b[0m\n",
       "\u001b[31m│\u001b[0m   \u001b[2m10 \u001b[0m\u001b[2m│   \u001b[0mmatrix = ckas[dataset_i, :, :, :].transpose(\u001b[94m2\u001b[0m, \u001b[94m0\u001b[0m, \u001b[94m1\u001b[0m)                                    \u001b[31m│\u001b[0m\n",
       "\u001b[31m╰──────────────────────────────────────────────────────────────────────────────────────────────────╯\u001b[0m\n",
       "\u001b[1;91mKeyError: \u001b[0m\u001b[32m'num_layers'\u001b[0m\n"
      ]
     },
     "metadata": {},
     "output_type": "display_data"
    }
   ],
   "source": [
    "# Visualize Imported Data (One Dataset, All Architectures)\n",
    "\n",
    "from src.viz.save_figure import save_figure\n",
    "\n",
    "\n",
    "labels = sorted(meta[\"model2idx\"], key=lambda k: meta[\"model2idx\"][k])\n",
    "num_layers = sorted(meta[\"num_layers\"])\n",
    "\n",
    "for dataset_name, dataset_i in meta[\"dataset2idx\"].items():\n",
    "    matrix = ckas[dataset_i, :, :, :].transpose(2, 0, 1)\n",
    "    fig = animated_heatmap(\n",
    "        matrices=matrix,\n",
    "        log=True,\n",
    "        title=f\"Validation MSE (log) ({dataset_name})\",\n",
    "        labels=labels,\n",
    "        nan_diagnal=True,\n",
    "        slider_prefix=\"Number of Layers: \",\n",
    "        slider_labels=num_layers,\n",
    "    )\n",
    "    save_figure(\n",
    "        fig,\n",
    "        f\"{dataset_name}_all_layers_mse_withlog_validation\",\n",
    "        output_dir=PROJ_ROOT / \"data\" / \"figs\",\n",
    "    )\n",
    "    save_figure(\n",
    "        fig,\n",
    "        f\"{dataset_name}_all_layers_mse_withlog_validation\",\n",
    "        output_dir=PROJ_ROOT / \"src\" / \"blog\" / \"figs\" / \"gatlen\",\n",
    "    )"
   ]
  },
  {
   "cell_type": "code",
   "execution_count": null,
   "metadata": {},
   "outputs": [],
   "source": [
    "# Lastly get the mean score (not weighted)\n",
    "dataset_name = \"weightedmean\"\n",
    "average_validation_mse = ckas.mean(axis=0)  # Calculate mean across datasets (axis=0)\n",
    "fig = animated_heatmap(\n",
    "    matrices=average_validation_mse.transpose(2, 0, 1),  # Reshape to (n_layers, n_models, n_models)\n",
    "    log=True,\n",
    "    title=f\"Validation MSE (log) ({dataset_name})\",\n",
    "    labels=labels,\n",
    "    nan_diagnal=True,\n",
    "    slider_prefix=\"Number of Layers: \",\n",
    "    slider_labels=num_layers,\n",
    ")\n",
    "save_figure(\n",
    "    fig,\n",
    "    f\"{dataset_name}_all_layers_mse_withlog_validation\",\n",
    "    output_dir=PROJ_ROOT / \"data\" / \"figs\",\n",
    ")\n",
    "save_figure(\n",
    "    fig,\n",
    "    f\"{dataset_name}_all_layers_mse_withlog_validation\",\n",
    "    output_dir=PROJ_ROOT / \"src\" / \"blog\" / \"figs\" / \"gatlen\",\n",
    ")"
   ]
  },
  {
   "cell_type": "markdown",
   "metadata": {},
   "source": [
    "## Get Loss vs Layers\n"
   ]
  },
  {
   "cell_type": "code",
   "execution_count": null,
   "metadata": {},
   "outputs": [],
   "source": [
    "average_validation_mse.shape  # (17, 17, 6)"
   ]
  },
  {
   "cell_type": "code",
   "execution_count": null,
   "metadata": {},
   "outputs": [],
   "source": [
    "# Create figure\n",
    "fig = go.Figure()\n",
    "\n",
    "# Get model labels for the legend\n",
    "model_labels = sorted(meta[\"model2idx\"], key=lambda k: meta[\"model2idx\"][k])\n",
    "\n",
    "# Create traces grouped by source model\n",
    "for i in range(17):\n",
    "    # Create a legendgroup for each source model\n",
    "    legendgroup = model_labels[i]\n",
    "\n",
    "    for j in range(17):\n",
    "        if i != j:  # Skip diagonal entries since they're NaN\n",
    "            y_values = average_validation_mse[i, j, :]\n",
    "            fig.add_trace(\n",
    "                go.Scatter(\n",
    "                    x=x_values,\n",
    "                    y=y_values,\n",
    "                    mode=\"lines\",\n",
    "                    name=f\"{model_labels[j]}\",  # Only show target model in name\n",
    "                    legendgroup=legendgroup,  # Group by source model\n",
    "                    legendgrouptitle_text=f\"From: {legendgroup}\",  # Add group title\n",
    "                    showlegend=True,  # Show all traces in legend\n",
    "                    line=dict(width=1),\n",
    "                    opacity=0.5,\n",
    "                )\n",
    "            )\n",
    "\n",
    "# Update layout with smaller legend text and grouping\n",
    "fig.update_layout(\n",
    "    title=\"MSE vs Number of Layers for All Model Pairs\",\n",
    "    xaxis_title=\"Number of Layers\",\n",
    "    yaxis_title=\"MSE\",\n",
    "    width=1000,\n",
    "    height=600,\n",
    "    showlegend=True,\n",
    "    yaxis_type=\"log\",\n",
    "    legend=dict(font=dict(size=7), groupclick=\"toggleitem\"),\n",
    ")\n",
    "\n",
    "# Add gridlines\n",
    "fig.update_xaxes(showgrid=True, gridwidth=1, gridcolor=\"LightGray\")\n",
    "fig.update_yaxes(showgrid=True, gridwidth=1, gridcolor=\"LightGray\")\n",
    "\n",
    "# Show figure\n",
    "fig"
   ]
  },
  {
   "cell_type": "code",
   "execution_count": null,
   "metadata": {},
   "outputs": [],
   "source": [
    "# Save figure\n",
    "save_figure(\n",
    "    fig,\n",
    "    \"mse_vs_layers_all_pairs\",\n",
    "    output_dir=PROJ_ROOT / \"data\" / \"figs\",\n",
    ")\n",
    "save_figure(\n",
    "    fig,\n",
    "    \"mse_vs_layers_all_pairs\",\n",
    "    output_dir=PROJ_ROOT / \"src\" / \"blog\" / \"figs\" / \"gatlen\",\n",
    ")"
   ]
  },
  {
   "cell_type": "code",
   "execution_count": null,
   "metadata": {},
   "outputs": [],
   "source": [
    "# Create line plot showing average MSE vs number of layers\n",
    "fig = go.Figure()\n",
    "\n",
    "# Calculate mean MSE across all model pairs (excluding diagonal)\n",
    "mean_mse = []\n",
    "for layer_idx in range(6):  # For each layer configuration\n",
    "    layer_mse = average_validation_mse[:, :, layer_idx]  # Get MSE matrix for this layer\n",
    "    # Create mask to exclude diagonal elements\n",
    "    mask = ~np.eye(17, dtype=bool)\n",
    "    # Calculate mean excluding diagonal elements\n",
    "    mean_mse.append(layer_mse[mask].mean())\n",
    "\n",
    "# Add trace for mean MSE\n",
    "fig.add_trace(\n",
    "    go.Scatter(\n",
    "        x=x_values,\n",
    "        y=mean_mse,\n",
    "        mode=\"lines+markers\",\n",
    "        name=\"Mean MSE across all model pairs\",\n",
    "        line=dict(width=3, color=\"blue\"),\n",
    "        marker=dict(size=10),\n",
    "    )\n",
    ")\n",
    "\n",
    "# Update layout\n",
    "fig.update_layout(\n",
    "    title=\"Mean MSE vs Number of Layers (Averaged Across All Model Pairs)\",\n",
    "    xaxis_title=\"Number of Layers\",\n",
    "    yaxis_title=\"Mean MSE\",\n",
    "    width=800,\n",
    "    height=500,\n",
    "    showlegend=False,\n",
    "    yaxis_type=\"log\",  # Use log scale for y-axis\n",
    "    template=\"plotly_white\",  # Clean template\n",
    ")\n",
    "\n",
    "# Add gridlines\n",
    "fig.update_xaxes(showgrid=True, gridwidth=1, gridcolor=\"LightGray\")\n",
    "fig.update_yaxes(showgrid=True, gridwidth=1, gridcolor=\"LightGray\")\n",
    "\n",
    "# Show figure\n",
    "fig"
   ]
  },
  {
   "cell_type": "code",
   "execution_count": null,
   "metadata": {},
   "outputs": [],
   "source": [
    "# Save figure\n",
    "save_figure(\n",
    "    fig,\n",
    "    \"mean_mse_vs_layers\",\n",
    "    output_dir=PROJ_ROOT / \"data\" / \"figs\",\n",
    ")\n",
    "save_figure(\n",
    "    fig,\n",
    "    \"mean_mse_vs_layers\",\n",
    "    output_dir=PROJ_ROOT / \"src\" / \"blog\" / \"figs\" / \"gatlen\",\n",
    ")"
   ]
  }
 ],
 "metadata": {
  "kernelspec": {
   "display_name": ".venv",
   "language": "python",
   "name": "python3"
  },
  "language_info": {
   "codemirror_mode": {
    "name": "ipython",
    "version": 3
   },
   "file_extension": ".py",
   "mimetype": "text/x-python",
   "name": "python",
   "nbconvert_exporter": "python",
   "pygments_lexer": "ipython3",
   "version": "3.12.8"
  }
 },
 "nbformat": 4,
 "nbformat_minor": 2
}
