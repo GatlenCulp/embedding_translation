{
 "cells": [
  {
   "cell_type": "markdown",
   "metadata": {},
   "source": [
    "# Complexity vs MSE and Rank Graphs\n"
   ]
  },
  {
   "cell_type": "code",
   "execution_count": 1,
   "metadata": {},
   "outputs": [
    {
     "name": "stdout",
     "output_type": "stream",
     "text": [
      "Requirement already satisfied: safetensors in /Users/gat/work/FA2024/embedding_translation/.venv/lib/python3.12/site-packages (0.4.5)\n",
      "Note: you may need to restart the kernel to use updated packages.\n"
     ]
    }
   ],
   "source": [
    "%pip install safetensors"
   ]
  },
  {
   "cell_type": "code",
   "execution_count": 82,
   "metadata": {},
   "outputs": [],
   "source": [
    "from safetensors.numpy import load_file\n",
    "from pathlib import Path\n",
    "from loguru import logger\n",
    "import orjson\n",
    "from rich import pretty\n",
    "import plotly.graph_objects as go\n",
    "from faker import Faker\n",
    "from typing import Literal\n",
    "\n",
    "# from IPython.display import display\n",
    "import numpy as np\n",
    "\n",
    "np.set_printoptions(\n",
    "    precision=3,\n",
    "    suppress=True,\n",
    "    threshold=5,\n",
    ")\n",
    "rng = np.random.default_rng(0)\n",
    "faker = Faker()"
   ]
  },
  {
   "cell_type": "code",
   "execution_count": 12,
   "metadata": {},
   "outputs": [
    {
     "name": "stderr",
     "output_type": "stream",
     "text": [
      "\u001b[32m2024-12-13 14:18:35.910\u001b[0m | \u001b[1mINFO    \u001b[0m | \u001b[36m__main__\u001b[0m:\u001b[36m<cell line: 0>\u001b[0m:\u001b[36m2\u001b[0m - \u001b[1m/Users/gat/work/FA2024/embedding_translation\u001b[0m\n",
      "\u001b[32m2024-12-13 14:18:35.911\u001b[0m | \u001b[1mINFO    \u001b[0m | \u001b[36m__main__\u001b[0m:\u001b[36m<cell line: 0>\u001b[0m:\u001b[36m4\u001b[0m - \u001b[1m/Users/gat/work/FA2024/embedding_translation/data\u001b[0m\n"
     ]
    }
   ],
   "source": [
    "PROJ_ROOT = Path.cwd().resolve().parent\n",
    "logger.info(PROJ_ROOT)\n",
    "DATA_DIR = PROJ_ROOT / \"data\"\n",
    "logger.info(DATA_DIR)\n",
    "MLP_MSE_VALIDATION = DATA_DIR / \"mlp_mse_validation\"\n",
    "MLP_MSE_VALIDATION_TENSORS = MLP_MSE_VALIDATION / \"validation_mses.safetensors\"\n",
    "MLP_MSE_VALIDATION_META = MLP_MSE_VALIDATION / \"validation_mses.json\""
   ]
  },
  {
   "cell_type": "code",
   "execution_count": 26,
   "metadata": {},
   "outputs": [
    {
     "name": "stdout",
     "output_type": "stream",
     "text": [
      "\u001b[2;36m[12/13/24 14:33:27]\u001b[0m\u001b[2;36m \u001b[0m\u001b[1;34mINFO    \u001b[0m\u001b[1;32m \u001b[0m\u001b[1m[\u001b[0m\u001b[1;36m3396536193.\u001b[0mpy:\u001b[1;36m2\u001b[0m\u001b[1m]\u001b[0m                   \u001b]8;id=747558;file:///var/folders/6f/f4k9qbkd5nqfywwdhvwdtl5m0000gn/T/ipykernel_17291/3396536193.py\u001b\\\u001b[1;36m3396536193.py\u001b[0m\u001b]8;;\u001b\\\u001b[1;36m:\u001b[0m\u001b]8;id=363556;file:///var/folders/6f/f4k9qbkd5nqfywwdhvwdtl5m0000gn/T/ipykernel_17291/3396536193.py#2\u001b\\\u001b[1;36m2\u001b[0m\u001b]8;;\u001b\\\n",
      "\u001b[2;36m                    \u001b[0m\u001b[1;32m         \u001b[0m\u001b[1m[\u001b[0m\u001b[32m'validation_mses'\u001b[0m\u001b[1m]\u001b[0m                 \u001b[1;36m               \u001b[0m\n",
      "\u001b[2;36m                   \u001b[0m\u001b[2;36m \u001b[0m\u001b[1;34mINFO    \u001b[0m\u001b[1;32m \u001b[0m\u001b[1m[\u001b[0m\u001b[1;36m3396536193.\u001b[0mpy:\u001b[1;36m4\u001b[0m\u001b[1m]\u001b[0m \u001b[1m(\u001b[0m\u001b[1;36m6\u001b[0m, \u001b[1;36m17\u001b[0m, \u001b[1;36m17\u001b[0m, \u001b[1;36m6\u001b[0m\u001b[1m)\u001b[0m    \u001b]8;id=420402;file:///var/folders/6f/f4k9qbkd5nqfywwdhvwdtl5m0000gn/T/ipykernel_17291/3396536193.py\u001b\\\u001b[1;36m3396536193.py\u001b[0m\u001b]8;;\u001b\\\u001b[1;36m:\u001b[0m\u001b]8;id=307068;file:///var/folders/6f/f4k9qbkd5nqfywwdhvwdtl5m0000gn/T/ipykernel_17291/3396536193.py#4\u001b\\\u001b[1;36m4\u001b[0m\u001b]8;;\u001b\\\n"
     ]
    }
   ],
   "source": [
    "tensors = load_file(MLP_MSE_VALIDATION_TENSORS)\n",
    "logger.info(list(tensors.keys()))\n",
    "validation_mse = tensors[\"validation_mses\"]\n",
    "logger.info(tensors[\"validation_mses\"].shape)"
   ]
  },
  {
   "cell_type": "code",
   "execution_count": 28,
   "metadata": {},
   "outputs": [
    {
     "data": {
      "text/html": [
       "<pre style=\"white-space:pre;overflow-x:auto;line-height:normal;font-family:Menlo,'DejaVu Sans Mono',consolas,'Courier New',monospace\"><span style=\"font-weight: bold\">{</span>\n",
       "<span style=\"color: #7fbf7f; text-decoration-color: #7fbf7f\">│   </span><span style=\"color: #008000; text-decoration-color: #008000\">'dataset2idx'</span>: <span style=\"font-weight: bold\">{</span><span style=\"color: #008000; text-decoration-color: #008000\">'arguana'</span>: <span style=\"color: #008080; text-decoration-color: #008080; font-weight: bold\">0</span>, <span style=\"color: #008000; text-decoration-color: #008000\">'fiqa'</span>: <span style=\"color: #008080; text-decoration-color: #008080; font-weight: bold\">1</span>, <span style=\"color: #008000; text-decoration-color: #008000\">'scidocs'</span>: <span style=\"color: #008080; text-decoration-color: #008080; font-weight: bold\">2</span>, <span style=\"color: #008000; text-decoration-color: #008000\">'nfcorpus'</span>: <span style=\"color: #008080; text-decoration-color: #008080; font-weight: bold\">3</span>, <span style=\"color: #008000; text-decoration-color: #008000\">'hotpotqa'</span>: <span style=\"color: #008080; text-decoration-color: #008080; font-weight: bold\">4</span>, <span style=\"color: #008000; text-decoration-color: #008000\">'trec-covid'</span>: <span style=\"color: #008080; text-decoration-color: #008080; font-weight: bold\">5</span><span style=\"font-weight: bold\">}</span>,\n",
       "<span style=\"color: #7fbf7f; text-decoration-color: #7fbf7f\">│   </span><span style=\"color: #008000; text-decoration-color: #008000\">'model2idx'</span>: <span style=\"font-weight: bold\">{</span>\n",
       "<span style=\"color: #7fbf7f; text-decoration-color: #7fbf7f\">│   │   </span><span style=\"color: #008000; text-decoration-color: #008000\">'WhereIsAI_UAE-Large-V1'</span>: <span style=\"color: #008080; text-decoration-color: #008080; font-weight: bold\">0</span>,\n",
       "<span style=\"color: #7fbf7f; text-decoration-color: #7fbf7f\">│   │   </span><span style=\"color: #008000; text-decoration-color: #008000\">'BAAI_bge-base-en-v1.5'</span>: <span style=\"color: #008080; text-decoration-color: #008080; font-weight: bold\">1</span>,\n",
       "<span style=\"color: #7fbf7f; text-decoration-color: #7fbf7f\">│   │   </span><span style=\"color: #008000; text-decoration-color: #008000\">'BAAI_bge-large-en-v1.5'</span>: <span style=\"color: #008080; text-decoration-color: #008080; font-weight: bold\">2</span>,\n",
       "<span style=\"color: #7fbf7f; text-decoration-color: #7fbf7f\">│   │   </span><span style=\"color: #008000; text-decoration-color: #008000\">'BAAI_bge-small-en-v1.5'</span>: <span style=\"color: #008080; text-decoration-color: #008080; font-weight: bold\">3</span>,\n",
       "<span style=\"color: #7fbf7f; text-decoration-color: #7fbf7f\">│   │   </span><span style=\"color: #008000; text-decoration-color: #008000\">'intfloat_e5-base-v2'</span>: <span style=\"color: #008080; text-decoration-color: #008080; font-weight: bold\">4</span>,\n",
       "<span style=\"color: #7fbf7f; text-decoration-color: #7fbf7f\">│   │   </span><span style=\"color: #008000; text-decoration-color: #008000\">'intfloat_e5-large-v2'</span>: <span style=\"color: #008080; text-decoration-color: #008080; font-weight: bold\">5</span>,\n",
       "<span style=\"color: #7fbf7f; text-decoration-color: #7fbf7f\">│   │   </span><span style=\"color: #008000; text-decoration-color: #008000\">'intfloat_e5-small-v2'</span>: <span style=\"color: #008080; text-decoration-color: #008080; font-weight: bold\">6</span>,\n",
       "<span style=\"color: #7fbf7f; text-decoration-color: #7fbf7f\">│   │   </span><span style=\"color: #008000; text-decoration-color: #008000\">'thenlper_gte-base'</span>: <span style=\"color: #008080; text-decoration-color: #008080; font-weight: bold\">7</span>,\n",
       "<span style=\"color: #7fbf7f; text-decoration-color: #7fbf7f\">│   │   </span><span style=\"color: #008000; text-decoration-color: #008000\">'thenlper_gte-large'</span>: <span style=\"color: #008080; text-decoration-color: #008080; font-weight: bold\">8</span>,\n",
       "<span style=\"color: #7fbf7f; text-decoration-color: #7fbf7f\">│   │   </span><span style=\"color: #008000; text-decoration-color: #008000\">'thenlper_gte-small'</span>: <span style=\"color: #008080; text-decoration-color: #008080; font-weight: bold\">9</span>,\n",
       "<span style=\"color: #7fbf7f; text-decoration-color: #7fbf7f\">│   │   </span><span style=\"color: #008000; text-decoration-color: #008000\">'sentence-transformers_gtr-t5-base'</span>: <span style=\"color: #008080; text-decoration-color: #008080; font-weight: bold\">10</span>,\n",
       "<span style=\"color: #7fbf7f; text-decoration-color: #7fbf7f\">│   │   </span><span style=\"color: #008000; text-decoration-color: #008000\">'sentence-transformers_gtr-t5-large'</span>: <span style=\"color: #008080; text-decoration-color: #008080; font-weight: bold\">11</span>,\n",
       "<span style=\"color: #7fbf7f; text-decoration-color: #7fbf7f\">│   │   </span><span style=\"color: #008000; text-decoration-color: #008000\">'mixedbread-ai_mxbai-embed-large-v1'</span>: <span style=\"color: #008080; text-decoration-color: #008080; font-weight: bold\">12</span>,\n",
       "<span style=\"color: #7fbf7f; text-decoration-color: #7fbf7f\">│   │   </span><span style=\"color: #008000; text-decoration-color: #008000\">'sentence-transformers_sentence-t5-base'</span>: <span style=\"color: #008080; text-decoration-color: #008080; font-weight: bold\">13</span>,\n",
       "<span style=\"color: #7fbf7f; text-decoration-color: #7fbf7f\">│   │   </span><span style=\"color: #008000; text-decoration-color: #008000\">'sentence-transformers_sentence-t5-large'</span>: <span style=\"color: #008080; text-decoration-color: #008080; font-weight: bold\">14</span>,\n",
       "<span style=\"color: #7fbf7f; text-decoration-color: #7fbf7f\">│   │   </span><span style=\"color: #008000; text-decoration-color: #008000\">'openai_text-embedding-3-large'</span>: <span style=\"color: #008080; text-decoration-color: #008080; font-weight: bold\">15</span>,\n",
       "<span style=\"color: #7fbf7f; text-decoration-color: #7fbf7f\">│   │   </span><span style=\"color: #008000; text-decoration-color: #008000\">'openai_text-embedding-3-small'</span>: <span style=\"color: #008080; text-decoration-color: #008080; font-weight: bold\">16</span>\n",
       "<span style=\"color: #7fbf7f; text-decoration-color: #7fbf7f\">│   </span><span style=\"font-weight: bold\">}</span>,\n",
       "<span style=\"color: #7fbf7f; text-decoration-color: #7fbf7f\">│   </span><span style=\"color: #008000; text-decoration-color: #008000\">'num_layers'</span>: <span style=\"font-weight: bold\">[</span><span style=\"color: #008080; text-decoration-color: #008080; font-weight: bold\">2</span>, <span style=\"color: #008080; text-decoration-color: #008080; font-weight: bold\">3</span>, <span style=\"color: #008080; text-decoration-color: #008080; font-weight: bold\">4</span>, <span style=\"color: #008080; text-decoration-color: #008080; font-weight: bold\">5</span>, <span style=\"color: #008080; text-decoration-color: #008080; font-weight: bold\">6</span>, <span style=\"color: #008080; text-decoration-color: #008080; font-weight: bold\">7</span><span style=\"font-weight: bold\">]</span>\n",
       "<span style=\"font-weight: bold\">}</span>\n",
       "</pre>\n"
      ],
      "text/plain": [
       "\u001b[1m{\u001b[0m\n",
       "\u001b[2;32m│   \u001b[0m\u001b[32m'dataset2idx'\u001b[0m: \u001b[1m{\u001b[0m\u001b[32m'arguana'\u001b[0m: \u001b[1;36m0\u001b[0m, \u001b[32m'fiqa'\u001b[0m: \u001b[1;36m1\u001b[0m, \u001b[32m'scidocs'\u001b[0m: \u001b[1;36m2\u001b[0m, \u001b[32m'nfcorpus'\u001b[0m: \u001b[1;36m3\u001b[0m, \u001b[32m'hotpotqa'\u001b[0m: \u001b[1;36m4\u001b[0m, \u001b[32m'trec-covid'\u001b[0m: \u001b[1;36m5\u001b[0m\u001b[1m}\u001b[0m,\n",
       "\u001b[2;32m│   \u001b[0m\u001b[32m'model2idx'\u001b[0m: \u001b[1m{\u001b[0m\n",
       "\u001b[2;32m│   │   \u001b[0m\u001b[32m'WhereIsAI_UAE-Large-V1'\u001b[0m: \u001b[1;36m0\u001b[0m,\n",
       "\u001b[2;32m│   │   \u001b[0m\u001b[32m'BAAI_bge-base-en-v1.5'\u001b[0m: \u001b[1;36m1\u001b[0m,\n",
       "\u001b[2;32m│   │   \u001b[0m\u001b[32m'BAAI_bge-large-en-v1.5'\u001b[0m: \u001b[1;36m2\u001b[0m,\n",
       "\u001b[2;32m│   │   \u001b[0m\u001b[32m'BAAI_bge-small-en-v1.5'\u001b[0m: \u001b[1;36m3\u001b[0m,\n",
       "\u001b[2;32m│   │   \u001b[0m\u001b[32m'intfloat_e5-base-v2'\u001b[0m: \u001b[1;36m4\u001b[0m,\n",
       "\u001b[2;32m│   │   \u001b[0m\u001b[32m'intfloat_e5-large-v2'\u001b[0m: \u001b[1;36m5\u001b[0m,\n",
       "\u001b[2;32m│   │   \u001b[0m\u001b[32m'intfloat_e5-small-v2'\u001b[0m: \u001b[1;36m6\u001b[0m,\n",
       "\u001b[2;32m│   │   \u001b[0m\u001b[32m'thenlper_gte-base'\u001b[0m: \u001b[1;36m7\u001b[0m,\n",
       "\u001b[2;32m│   │   \u001b[0m\u001b[32m'thenlper_gte-large'\u001b[0m: \u001b[1;36m8\u001b[0m,\n",
       "\u001b[2;32m│   │   \u001b[0m\u001b[32m'thenlper_gte-small'\u001b[0m: \u001b[1;36m9\u001b[0m,\n",
       "\u001b[2;32m│   │   \u001b[0m\u001b[32m'sentence-transformers_gtr-t5-base'\u001b[0m: \u001b[1;36m10\u001b[0m,\n",
       "\u001b[2;32m│   │   \u001b[0m\u001b[32m'sentence-transformers_gtr-t5-large'\u001b[0m: \u001b[1;36m11\u001b[0m,\n",
       "\u001b[2;32m│   │   \u001b[0m\u001b[32m'mixedbread-ai_mxbai-embed-large-v1'\u001b[0m: \u001b[1;36m12\u001b[0m,\n",
       "\u001b[2;32m│   │   \u001b[0m\u001b[32m'sentence-transformers_sentence-t5-base'\u001b[0m: \u001b[1;36m13\u001b[0m,\n",
       "\u001b[2;32m│   │   \u001b[0m\u001b[32m'sentence-transformers_sentence-t5-large'\u001b[0m: \u001b[1;36m14\u001b[0m,\n",
       "\u001b[2;32m│   │   \u001b[0m\u001b[32m'openai_text-embedding-3-large'\u001b[0m: \u001b[1;36m15\u001b[0m,\n",
       "\u001b[2;32m│   │   \u001b[0m\u001b[32m'openai_text-embedding-3-small'\u001b[0m: \u001b[1;36m16\u001b[0m\n",
       "\u001b[2;32m│   \u001b[0m\u001b[1m}\u001b[0m,\n",
       "\u001b[2;32m│   \u001b[0m\u001b[32m'num_layers'\u001b[0m: \u001b[1m[\u001b[0m\u001b[1;36m2\u001b[0m, \u001b[1;36m3\u001b[0m, \u001b[1;36m4\u001b[0m, \u001b[1;36m5\u001b[0m, \u001b[1;36m6\u001b[0m, \u001b[1;36m7\u001b[0m\u001b[1m]\u001b[0m\n",
       "\u001b[1m}\u001b[0m\n"
      ]
     },
     "metadata": {},
     "output_type": "display_data"
    }
   ],
   "source": [
    "with MLP_MSE_VALIDATION_META.open() as f:\n",
    "    meta = orjson.loads(f.read())\n",
    "\n",
    "pretty.pprint(meta)\n",
    "# 6 Datasets (ArguAna, FiQA, SciDocs, NFCorpus, HotPotQA, Trec-COVID)\n",
    "# 17 Native Embedding Spaces\n",
    "# 17 Stitched Embedding Spaces\n",
    "# 6 Architectures (2, 3, 4, 5, 6, or 7 layers)"
   ]
  },
  {
   "cell_type": "code",
   "execution_count": 56,
   "metadata": {},
   "outputs": [
    {
     "name": "stdout",
     "output_type": "stream",
     "text": [
      "\u001b[2;36m[12/13/24 14:53:57]\u001b[0m\u001b[2;36m \u001b[0m\u001b[1;34mINFO    \u001b[0m\u001b[1;32m \u001b[0m\u001b[1m[\u001b[0m\u001b[1;36m2716447018.\u001b[0mpy:\u001b[1;36m8\u001b[0m\u001b[1m]\u001b[0m \u001b[1m(\u001b[0m\u001b[1;36m17\u001b[0m, \u001b[1;36m17\u001b[0m\u001b[1m)\u001b[0m          \u001b]8;id=34588;file:///var/folders/6f/f4k9qbkd5nqfywwdhvwdtl5m0000gn/T/ipykernel_17291/2716447018.py\u001b\\\u001b[1;36m2716447018.py\u001b[0m\u001b]8;;\u001b\\\u001b[1;36m:\u001b[0m\u001b]8;id=443200;file:///var/folders/6f/f4k9qbkd5nqfywwdhvwdtl5m0000gn/T/ipykernel_17291/2716447018.py#8\u001b\\\u001b[1;36m8\u001b[0m\u001b]8;;\u001b\\\n"
     ]
    },
    {
     "data": {
      "text/html": [
       "<pre style=\"white-space:pre;overflow-x:auto;line-height:normal;font-family:Menlo,'DejaVu Sans Mono',consolas,'Courier New',monospace\"><span style=\"color: #800080; text-decoration-color: #800080; font-weight: bold\">array</span><span style=\"font-weight: bold\">([[</span><span style=\"color: #008080; text-decoration-color: #008080; font-weight: bold\">1</span>.   , <span style=\"color: #008080; text-decoration-color: #008080; font-weight: bold\">0.002</span>, <span style=\"color: #008080; text-decoration-color: #008080; font-weight: bold\">0.001</span>, <span style=\"color: #808000; text-decoration-color: #808000\">...</span>, <span style=\"color: #008080; text-decoration-color: #008080; font-weight: bold\">0.002</span>, <span style=\"color: #008080; text-decoration-color: #008080; font-weight: bold\">0.001</span>, <span style=\"color: #008080; text-decoration-color: #008080; font-weight: bold\">0.001</span><span style=\"font-weight: bold\">]</span>,\n",
       "<span style=\"color: #7fbf7f; text-decoration-color: #7fbf7f\">│      </span><span style=\"font-weight: bold\">[</span><span style=\"color: #008080; text-decoration-color: #008080; font-weight: bold\">0.001</span>, <span style=\"color: #008080; text-decoration-color: #008080; font-weight: bold\">1</span>.   , <span style=\"color: #008080; text-decoration-color: #008080; font-weight: bold\">0.001</span>, <span style=\"color: #808000; text-decoration-color: #808000\">...</span>, <span style=\"color: #008080; text-decoration-color: #008080; font-weight: bold\">0.002</span>, <span style=\"color: #008080; text-decoration-color: #008080; font-weight: bold\">0.001</span>, <span style=\"color: #008080; text-decoration-color: #008080; font-weight: bold\">0.001</span><span style=\"font-weight: bold\">]</span>,\n",
       "<span style=\"color: #7fbf7f; text-decoration-color: #7fbf7f\">│      </span><span style=\"font-weight: bold\">[</span><span style=\"color: #008080; text-decoration-color: #008080; font-weight: bold\">0.001</span>, <span style=\"color: #008080; text-decoration-color: #008080; font-weight: bold\">0.002</span>, <span style=\"color: #008080; text-decoration-color: #008080; font-weight: bold\">1</span>.   , <span style=\"color: #808000; text-decoration-color: #808000\">...</span>, <span style=\"color: #008080; text-decoration-color: #008080; font-weight: bold\">0.002</span>, <span style=\"color: #008080; text-decoration-color: #008080; font-weight: bold\">0.001</span>, <span style=\"color: #008080; text-decoration-color: #008080; font-weight: bold\">0.001</span><span style=\"font-weight: bold\">]</span>,\n",
       "<span style=\"color: #7fbf7f; text-decoration-color: #7fbf7f\">│      </span><span style=\"color: #808000; text-decoration-color: #808000\">...</span>,\n",
       "<span style=\"color: #7fbf7f; text-decoration-color: #7fbf7f\">│      </span><span style=\"font-weight: bold\">[</span><span style=\"color: #008080; text-decoration-color: #008080; font-weight: bold\">0.001</span>, <span style=\"color: #008080; text-decoration-color: #008080; font-weight: bold\">0.002</span>, <span style=\"color: #008080; text-decoration-color: #008080; font-weight: bold\">0.001</span>, <span style=\"color: #808000; text-decoration-color: #808000\">...</span>, <span style=\"color: #008080; text-decoration-color: #008080; font-weight: bold\">1</span>.   , <span style=\"color: #008080; text-decoration-color: #008080; font-weight: bold\">0.001</span>, <span style=\"color: #008080; text-decoration-color: #008080; font-weight: bold\">0.001</span><span style=\"font-weight: bold\">]</span>,\n",
       "<span style=\"color: #7fbf7f; text-decoration-color: #7fbf7f\">│      </span><span style=\"font-weight: bold\">[</span><span style=\"color: #008080; text-decoration-color: #008080; font-weight: bold\">0.001</span>, <span style=\"color: #008080; text-decoration-color: #008080; font-weight: bold\">0.001</span>, <span style=\"color: #008080; text-decoration-color: #008080; font-weight: bold\">0.001</span>, <span style=\"color: #808000; text-decoration-color: #808000\">...</span>, <span style=\"color: #008080; text-decoration-color: #008080; font-weight: bold\">0.002</span>, <span style=\"color: #008080; text-decoration-color: #008080; font-weight: bold\">1</span>.   , <span style=\"color: #008080; text-decoration-color: #008080; font-weight: bold\">0.001</span><span style=\"font-weight: bold\">]</span>,\n",
       "<span style=\"color: #7fbf7f; text-decoration-color: #7fbf7f\">│      </span><span style=\"font-weight: bold\">[</span><span style=\"color: #008080; text-decoration-color: #008080; font-weight: bold\">0.001</span>, <span style=\"color: #008080; text-decoration-color: #008080; font-weight: bold\">0.002</span>, <span style=\"color: #008080; text-decoration-color: #008080; font-weight: bold\">0.001</span>, <span style=\"color: #808000; text-decoration-color: #808000\">...</span>, <span style=\"color: #008080; text-decoration-color: #008080; font-weight: bold\">0.002</span>, <span style=\"color: #008080; text-decoration-color: #008080; font-weight: bold\">0.001</span>, <span style=\"color: #008080; text-decoration-color: #008080; font-weight: bold\">1</span>.   <span style=\"font-weight: bold\">]]</span>, <span style=\"color: #808000; text-decoration-color: #808000\">dtype</span>=<span style=\"color: #800080; text-decoration-color: #800080\">float32</span><span style=\"font-weight: bold\">)</span>\n",
       "</pre>\n"
      ],
      "text/plain": [
       "\u001b[1;35marray\u001b[0m\u001b[1m(\u001b[0m\u001b[1m[\u001b[0m\u001b[1m[\u001b[0m\u001b[1;36m1\u001b[0m.   , \u001b[1;36m0.002\u001b[0m, \u001b[1;36m0.001\u001b[0m, \u001b[33m...\u001b[0m, \u001b[1;36m0.002\u001b[0m, \u001b[1;36m0.001\u001b[0m, \u001b[1;36m0.001\u001b[0m\u001b[1m]\u001b[0m,\n",
       "\u001b[2;32m│      \u001b[0m\u001b[1m[\u001b[0m\u001b[1;36m0.001\u001b[0m, \u001b[1;36m1\u001b[0m.   , \u001b[1;36m0.001\u001b[0m, \u001b[33m...\u001b[0m, \u001b[1;36m0.002\u001b[0m, \u001b[1;36m0.001\u001b[0m, \u001b[1;36m0.001\u001b[0m\u001b[1m]\u001b[0m,\n",
       "\u001b[2;32m│      \u001b[0m\u001b[1m[\u001b[0m\u001b[1;36m0.001\u001b[0m, \u001b[1;36m0.002\u001b[0m, \u001b[1;36m1\u001b[0m.   , \u001b[33m...\u001b[0m, \u001b[1;36m0.002\u001b[0m, \u001b[1;36m0.001\u001b[0m, \u001b[1;36m0.001\u001b[0m\u001b[1m]\u001b[0m,\n",
       "\u001b[2;32m│      \u001b[0m\u001b[33m...\u001b[0m,\n",
       "\u001b[2;32m│      \u001b[0m\u001b[1m[\u001b[0m\u001b[1;36m0.001\u001b[0m, \u001b[1;36m0.002\u001b[0m, \u001b[1;36m0.001\u001b[0m, \u001b[33m...\u001b[0m, \u001b[1;36m1\u001b[0m.   , \u001b[1;36m0.001\u001b[0m, \u001b[1;36m0.001\u001b[0m\u001b[1m]\u001b[0m,\n",
       "\u001b[2;32m│      \u001b[0m\u001b[1m[\u001b[0m\u001b[1;36m0.001\u001b[0m, \u001b[1;36m0.001\u001b[0m, \u001b[1;36m0.001\u001b[0m, \u001b[33m...\u001b[0m, \u001b[1;36m0.002\u001b[0m, \u001b[1;36m1\u001b[0m.   , \u001b[1;36m0.001\u001b[0m\u001b[1m]\u001b[0m,\n",
       "\u001b[2;32m│      \u001b[0m\u001b[1m[\u001b[0m\u001b[1;36m0.001\u001b[0m, \u001b[1;36m0.002\u001b[0m, \u001b[1;36m0.001\u001b[0m, \u001b[33m...\u001b[0m, \u001b[1;36m0.002\u001b[0m, \u001b[1;36m0.001\u001b[0m, \u001b[1;36m1\u001b[0m.   \u001b[1m]\u001b[0m\u001b[1m]\u001b[0m, \u001b[33mdtype\u001b[0m=\u001b[35mfloat32\u001b[0m\u001b[1m)\u001b[0m\n"
      ]
     },
     "metadata": {},
     "output_type": "display_data"
    }
   ],
   "source": [
    "# Plot heatmap for one architecture\n",
    "dataset_i = 0\n",
    "architecture_i = 0\n",
    "\n",
    "example_validation_mse = validation_mse[dataset_i, :, :, architecture_i]\n",
    "logger.info(example_validation_mse.shape)\n",
    "pretty.pprint(example_validation_mse)"
   ]
  },
  {
   "cell_type": "code",
   "execution_count": 99,
   "metadata": {},
   "outputs": [
    {
     "name": "stdout",
     "output_type": "stream",
     "text": [
      "\u001b[2;36m[12/13/24 15:23:46]\u001b[0m\u001b[2;36m \u001b[0m\u001b[1;34mINFO    \u001b[0m\u001b[1;32m \u001b[0m\u001b[1m[\u001b[0m\u001b[1;36m1064263312.\u001b[0mpy:\u001b[1;36m28\u001b[0m\u001b[1m]\u001b[0m \u001b[1m[\u001b[0m\u001b[32m'Gerald \u001b[0m       \u001b]8;id=904166;file:///var/folders/6f/f4k9qbkd5nqfywwdhvwdtl5m0000gn/T/ipykernel_17291/1064263312.py\u001b\\\u001b[1;36m1064263312.py\u001b[0m\u001b]8;;\u001b\\\u001b[1;36m:\u001b[0m\u001b]8;id=943911;file:///var/folders/6f/f4k9qbkd5nqfywwdhvwdtl5m0000gn/T/ipykernel_17291/1064263312.py#28\u001b\\\u001b[1;36m28\u001b[0m\u001b]8;;\u001b\\\n",
      "\u001b[2;36m                    \u001b[0m\u001b[1;32m         \u001b[0m\u001b[32mDavila'\u001b[0m, \u001b[32m'Christopher Nunez'\u001b[0m,      \u001b[1;36m                \u001b[0m\n",
      "\u001b[2;36m                    \u001b[0m\u001b[1;32m         \u001b[0m\u001b[32m'Richard Archer'\u001b[0m, \u001b[32m'Jessica \u001b[0m        \u001b[1;36m                \u001b[0m\n",
      "\u001b[2;36m                    \u001b[0m\u001b[1;32m         \u001b[0m\u001b[32mBaldwin'\u001b[0m, \u001b[32m'Andrea Williams'\u001b[0m,       \u001b[1;36m                \u001b[0m\n",
      "\u001b[2;36m                    \u001b[0m\u001b[1;32m         \u001b[0m\u001b[32m'Elizabeth Pratt'\u001b[0m, \u001b[32m'Jeremy \u001b[0m        \u001b[1;36m                \u001b[0m\n",
      "\u001b[2;36m                    \u001b[0m\u001b[1;32m         \u001b[0m\u001b[32mTorres'\u001b[0m, \u001b[32m'Brenda Franklin'\u001b[0m, \u001b[32m'Nancy\u001b[0m \u001b[1;36m                \u001b[0m\n",
      "\u001b[2;36m                    \u001b[0m\u001b[1;32m         \u001b[0m\u001b[32mJames'\u001b[0m, \u001b[32m'Anthony Parker'\u001b[0m\u001b[1m]\u001b[0m          \u001b[1;36m                \u001b[0m\n",
      "\u001b[2;36m                   \u001b[0m\u001b[2;36m \u001b[0m\u001b[1;34mINFO    \u001b[0m\u001b[1;32m \u001b[0m\u001b[1m[\u001b[0m\u001b[1;36m1064263312.\u001b[0mpy:\u001b[1;36m31\u001b[0m\u001b[1m]\u001b[0m Creating        \u001b]8;id=87908;file:///var/folders/6f/f4k9qbkd5nqfywwdhvwdtl5m0000gn/T/ipykernel_17291/1064263312.py\u001b\\\u001b[1;36m1064263312.py\u001b[0m\u001b]8;;\u001b\\\u001b[1;36m:\u001b[0m\u001b]8;id=373851;file:///var/folders/6f/f4k9qbkd5nqfywwdhvwdtl5m0000gn/T/ipykernel_17291/1064263312.py#31\u001b\\\u001b[1;36m31\u001b[0m\u001b]8;;\u001b\\\n",
      "\u001b[2;36m                    \u001b[0m\u001b[1;32m         \u001b[0mheatmap visualization\u001b[33m...\u001b[0m           \u001b[1;36m                \u001b[0m\n"
     ]
    },
    {
     "data": {
      "application/vnd.plotly.v1+json": {
       "config": {
        "plotlyServerURL": "https://plot.ly"
       },
       "data": [
        {
         "colorscale": [
          [
           0,
           "#440154"
          ],
          [
           0.1111111111111111,
           "#482878"
          ],
          [
           0.2222222222222222,
           "#3e4989"
          ],
          [
           0.3333333333333333,
           "#31688e"
          ],
          [
           0.4444444444444444,
           "#26828e"
          ],
          [
           0.5555555555555556,
           "#1f9e89"
          ],
          [
           0.6666666666666666,
           "#35b779"
          ],
          [
           0.7777777777777778,
           "#6ece58"
          ],
          [
           0.8888888888888888,
           "#b5de2b"
          ],
          [
           1,
           "#fde725"
          ]
         ],
         "reversescale": false,
         "showscale": true,
         "text": [
          [
           "0.64",
           "0.27",
           "0.04",
           "0.02",
           "0.81",
           "0.91",
           "0.61",
           "0.73",
           "0.54",
           "0.94"
          ],
          [
           "0.82",
           "0.00",
           "0.86",
           "0.03",
           "0.73",
           "0.18",
           "0.86",
           "0.54",
           "0.30",
           "0.42"
          ],
          [
           "0.03",
           "0.12",
           "0.67",
           "0.65",
           "0.62",
           "0.38",
           "1.00",
           "0.98",
           "0.69",
           "0.65"
          ],
          [
           "0.69",
           "0.39",
           "0.14",
           "0.72",
           "0.53",
           "0.31",
           "0.49",
           "0.89",
           "0.93",
           "0.36"
          ],
          [
           "0.57",
           "0.32",
           "0.59",
           "0.34",
           "0.39",
           "0.89",
           "0.23",
           "0.62",
           "0.08",
           "0.83"
          ],
          [
           "0.79",
           "0.24",
           "0.88",
           "0.06",
           "0.34",
           "0.15",
           "0.45",
           "0.80",
           "0.23",
           "0.05"
          ],
          [
           "0.40",
           "0.20",
           "0.09",
           "0.58",
           "0.30",
           "0.67",
           "0.20",
           "0.94",
           "0.37",
           "0.11"
          ],
          [
           "0.63",
           "0.93",
           "0.44",
           "0.95",
           "0.50",
           "0.43",
           "0.62",
           "1.00",
           "0.95",
           "0.46"
          ],
          [
           "0.76",
           "0.50",
           "0.53",
           "0.79",
           "0.41",
           "0.73",
           "0.71",
           "0.93",
           "0.11",
           "0.73"
          ],
          [
           "0.93",
           "0.97",
           "0.01",
           "0.86",
           "0.98",
           "0.96",
           "0.15",
           "0.97",
           "0.89",
           "0.82"
          ]
         ],
         "textfont": {
          "color": "black"
         },
         "texttemplate": "%{text}",
         "type": "heatmap",
         "x": [
          "Gerald Davila",
          "Christopher Nunez",
          "Richard Archer",
          "Jessica Baldwin",
          "Andrea Williams",
          "Elizabeth Pratt",
          "Jeremy Torres",
          "Brenda Franklin",
          "Nancy James",
          "Anthony Parker"
         ],
         "y": [
          "Gerald Davila",
          "Christopher Nunez",
          "Richard Archer",
          "Jessica Baldwin",
          "Andrea Williams",
          "Elizabeth Pratt",
          "Jeremy Torres",
          "Brenda Franklin",
          "Nancy James",
          "Anthony Parker"
         ],
         "z": [
          [
           0.6369616873214543,
           0.2697867137638703,
           0.04097352393619469,
           0.016527635528529094,
           0.8132702392002724,
           0.9127555772777217,
           0.6066357757671799,
           0.7294965609839984,
           0.5436249914654229,
           0.9350724237877682
          ],
          [
           0.8158535541215322,
           0.002738500170148095,
           0.8574042765875693,
           0.033585575305464355,
           0.7296554464299441,
           0.17565562060255901,
           0.8631789223498866,
           0.5414612202490917,
           0.2997118905373848,
           0.42268722119765845
          ],
          [
           0.028319671145462966,
           0.12428327649956394,
           0.6706244146936303,
           0.6471895115742501,
           0.6153851114812539,
           0.38367755426188344,
           0.997209935789211,
           0.9808353387762301,
           0.6855419844806947,
           0.6504592762678163
          ],
          [
           0.6884467305709401,
           0.3889214239791038,
           0.13509650502241122,
           0.7214883401940817,
           0.5253543224757259,
           0.31024187555895566,
           0.4858353588317891,
           0.8894878343490003,
           0.9340435159562497,
           0.35779519670907023
          ],
          [
           0.5715298307297609,
           0.32186939107594215,
           0.5943000301996968,
           0.33791122550713326,
           0.39161900052816123,
           0.8902743520047923,
           0.22715759353337972,
           0.6231871446860424,
           0.08401534358238483,
           0.8326441476533978
          ],
          [
           0.7870983074886834,
           0.23936944299295215,
           0.8764842308107038,
           0.05856803480519435,
           0.3361170605456604,
           0.15027946689483906,
           0.450339366649287,
           0.7963242702872942,
           0.23064220899374743,
           0.05202130106440961
          ],
          [
           0.4045518398215282,
           0.19851304450925533,
           0.0907530456191219,
           0.5803323859868507,
           0.2986961328189226,
           0.6719948779563594,
           0.1995154439682133,
           0.9421131105064978,
           0.36511016824482856,
           0.10549527957022953
          ],
          [
           0.6291081515397092,
           0.9271545530678674,
           0.440377154715784,
           0.9545904936907372,
           0.499895813687647,
           0.42522862484907553,
           0.6202134520153778,
           0.9950965052353241,
           0.9489436749377653,
           0.4600451393090961
          ],
          [
           0.7577288453082914,
           0.49742269548761897,
           0.5293121601967704,
           0.7857857007138075,
           0.4146558493556708,
           0.7344835717887294,
           0.7111428779897498,
           0.9320596866133782,
           0.1149326332809052,
           0.7290151170763094
          ],
          [
           0.9274239286245599,
           0.9679261899246464,
           0.014706304965369288,
           0.8636400902455758,
           0.9811950400663443,
           0.9572101796109636,
           0.1487640122324979,
           0.972628813822955,
           0.8899355557205206,
           0.8223738275430704
          ]
         ]
        }
       ],
       "layout": {
        "dragmode": false,
        "height": 600,
        "modebar": {
         "remove": [
          "zoomIn2d",
          "zoomOut2d",
          "autoScale2d",
          "resetScale2d",
          "hoverClosestCartesian",
          "hoverCompareCartesian",
          "toggleSpikelines"
         ]
        },
        "template": {
         "data": {
          "bar": [
           {
            "error_x": {
             "color": "#2a3f5f"
            },
            "error_y": {
             "color": "#2a3f5f"
            },
            "marker": {
             "line": {
              "color": "#E5ECF6",
              "width": 0.5
             },
             "pattern": {
              "fillmode": "overlay",
              "size": 10,
              "solidity": 0.2
             }
            },
            "type": "bar"
           }
          ],
          "barpolar": [
           {
            "marker": {
             "line": {
              "color": "#E5ECF6",
              "width": 0.5
             },
             "pattern": {
              "fillmode": "overlay",
              "size": 10,
              "solidity": 0.2
             }
            },
            "type": "barpolar"
           }
          ],
          "carpet": [
           {
            "aaxis": {
             "endlinecolor": "#2a3f5f",
             "gridcolor": "white",
             "linecolor": "white",
             "minorgridcolor": "white",
             "startlinecolor": "#2a3f5f"
            },
            "baxis": {
             "endlinecolor": "#2a3f5f",
             "gridcolor": "white",
             "linecolor": "white",
             "minorgridcolor": "white",
             "startlinecolor": "#2a3f5f"
            },
            "type": "carpet"
           }
          ],
          "choropleth": [
           {
            "colorbar": {
             "outlinewidth": 0,
             "ticks": ""
            },
            "type": "choropleth"
           }
          ],
          "contour": [
           {
            "colorbar": {
             "outlinewidth": 0,
             "ticks": ""
            },
            "colorscale": [
             [
              0,
              "#0d0887"
             ],
             [
              0.1111111111111111,
              "#46039f"
             ],
             [
              0.2222222222222222,
              "#7201a8"
             ],
             [
              0.3333333333333333,
              "#9c179e"
             ],
             [
              0.4444444444444444,
              "#bd3786"
             ],
             [
              0.5555555555555556,
              "#d8576b"
             ],
             [
              0.6666666666666666,
              "#ed7953"
             ],
             [
              0.7777777777777778,
              "#fb9f3a"
             ],
             [
              0.8888888888888888,
              "#fdca26"
             ],
             [
              1,
              "#f0f921"
             ]
            ],
            "type": "contour"
           }
          ],
          "contourcarpet": [
           {
            "colorbar": {
             "outlinewidth": 0,
             "ticks": ""
            },
            "type": "contourcarpet"
           }
          ],
          "heatmap": [
           {
            "colorbar": {
             "outlinewidth": 0,
             "ticks": ""
            },
            "colorscale": [
             [
              0,
              "#0d0887"
             ],
             [
              0.1111111111111111,
              "#46039f"
             ],
             [
              0.2222222222222222,
              "#7201a8"
             ],
             [
              0.3333333333333333,
              "#9c179e"
             ],
             [
              0.4444444444444444,
              "#bd3786"
             ],
             [
              0.5555555555555556,
              "#d8576b"
             ],
             [
              0.6666666666666666,
              "#ed7953"
             ],
             [
              0.7777777777777778,
              "#fb9f3a"
             ],
             [
              0.8888888888888888,
              "#fdca26"
             ],
             [
              1,
              "#f0f921"
             ]
            ],
            "type": "heatmap"
           }
          ],
          "heatmapgl": [
           {
            "colorbar": {
             "outlinewidth": 0,
             "ticks": ""
            },
            "colorscale": [
             [
              0,
              "#0d0887"
             ],
             [
              0.1111111111111111,
              "#46039f"
             ],
             [
              0.2222222222222222,
              "#7201a8"
             ],
             [
              0.3333333333333333,
              "#9c179e"
             ],
             [
              0.4444444444444444,
              "#bd3786"
             ],
             [
              0.5555555555555556,
              "#d8576b"
             ],
             [
              0.6666666666666666,
              "#ed7953"
             ],
             [
              0.7777777777777778,
              "#fb9f3a"
             ],
             [
              0.8888888888888888,
              "#fdca26"
             ],
             [
              1,
              "#f0f921"
             ]
            ],
            "type": "heatmapgl"
           }
          ],
          "histogram": [
           {
            "marker": {
             "pattern": {
              "fillmode": "overlay",
              "size": 10,
              "solidity": 0.2
             }
            },
            "type": "histogram"
           }
          ],
          "histogram2d": [
           {
            "colorbar": {
             "outlinewidth": 0,
             "ticks": ""
            },
            "colorscale": [
             [
              0,
              "#0d0887"
             ],
             [
              0.1111111111111111,
              "#46039f"
             ],
             [
              0.2222222222222222,
              "#7201a8"
             ],
             [
              0.3333333333333333,
              "#9c179e"
             ],
             [
              0.4444444444444444,
              "#bd3786"
             ],
             [
              0.5555555555555556,
              "#d8576b"
             ],
             [
              0.6666666666666666,
              "#ed7953"
             ],
             [
              0.7777777777777778,
              "#fb9f3a"
             ],
             [
              0.8888888888888888,
              "#fdca26"
             ],
             [
              1,
              "#f0f921"
             ]
            ],
            "type": "histogram2d"
           }
          ],
          "histogram2dcontour": [
           {
            "colorbar": {
             "outlinewidth": 0,
             "ticks": ""
            },
            "colorscale": [
             [
              0,
              "#0d0887"
             ],
             [
              0.1111111111111111,
              "#46039f"
             ],
             [
              0.2222222222222222,
              "#7201a8"
             ],
             [
              0.3333333333333333,
              "#9c179e"
             ],
             [
              0.4444444444444444,
              "#bd3786"
             ],
             [
              0.5555555555555556,
              "#d8576b"
             ],
             [
              0.6666666666666666,
              "#ed7953"
             ],
             [
              0.7777777777777778,
              "#fb9f3a"
             ],
             [
              0.8888888888888888,
              "#fdca26"
             ],
             [
              1,
              "#f0f921"
             ]
            ],
            "type": "histogram2dcontour"
           }
          ],
          "mesh3d": [
           {
            "colorbar": {
             "outlinewidth": 0,
             "ticks": ""
            },
            "type": "mesh3d"
           }
          ],
          "parcoords": [
           {
            "line": {
             "colorbar": {
              "outlinewidth": 0,
              "ticks": ""
             }
            },
            "type": "parcoords"
           }
          ],
          "pie": [
           {
            "automargin": true,
            "type": "pie"
           }
          ],
          "scatter": [
           {
            "fillpattern": {
             "fillmode": "overlay",
             "size": 10,
             "solidity": 0.2
            },
            "type": "scatter"
           }
          ],
          "scatter3d": [
           {
            "line": {
             "colorbar": {
              "outlinewidth": 0,
              "ticks": ""
             }
            },
            "marker": {
             "colorbar": {
              "outlinewidth": 0,
              "ticks": ""
             }
            },
            "type": "scatter3d"
           }
          ],
          "scattercarpet": [
           {
            "marker": {
             "colorbar": {
              "outlinewidth": 0,
              "ticks": ""
             }
            },
            "type": "scattercarpet"
           }
          ],
          "scattergeo": [
           {
            "marker": {
             "colorbar": {
              "outlinewidth": 0,
              "ticks": ""
             }
            },
            "type": "scattergeo"
           }
          ],
          "scattergl": [
           {
            "marker": {
             "colorbar": {
              "outlinewidth": 0,
              "ticks": ""
             }
            },
            "type": "scattergl"
           }
          ],
          "scattermapbox": [
           {
            "marker": {
             "colorbar": {
              "outlinewidth": 0,
              "ticks": ""
             }
            },
            "type": "scattermapbox"
           }
          ],
          "scatterpolar": [
           {
            "marker": {
             "colorbar": {
              "outlinewidth": 0,
              "ticks": ""
             }
            },
            "type": "scatterpolar"
           }
          ],
          "scatterpolargl": [
           {
            "marker": {
             "colorbar": {
              "outlinewidth": 0,
              "ticks": ""
             }
            },
            "type": "scatterpolargl"
           }
          ],
          "scatterternary": [
           {
            "marker": {
             "colorbar": {
              "outlinewidth": 0,
              "ticks": ""
             }
            },
            "type": "scatterternary"
           }
          ],
          "surface": [
           {
            "colorbar": {
             "outlinewidth": 0,
             "ticks": ""
            },
            "colorscale": [
             [
              0,
              "#0d0887"
             ],
             [
              0.1111111111111111,
              "#46039f"
             ],
             [
              0.2222222222222222,
              "#7201a8"
             ],
             [
              0.3333333333333333,
              "#9c179e"
             ],
             [
              0.4444444444444444,
              "#bd3786"
             ],
             [
              0.5555555555555556,
              "#d8576b"
             ],
             [
              0.6666666666666666,
              "#ed7953"
             ],
             [
              0.7777777777777778,
              "#fb9f3a"
             ],
             [
              0.8888888888888888,
              "#fdca26"
             ],
             [
              1,
              "#f0f921"
             ]
            ],
            "type": "surface"
           }
          ],
          "table": [
           {
            "cells": {
             "fill": {
              "color": "#EBF0F8"
             },
             "line": {
              "color": "white"
             }
            },
            "header": {
             "fill": {
              "color": "#C8D4E3"
             },
             "line": {
              "color": "white"
             }
            },
            "type": "table"
           }
          ]
         },
         "layout": {
          "annotationdefaults": {
           "arrowcolor": "#2a3f5f",
           "arrowhead": 0,
           "arrowwidth": 1
          },
          "autotypenumbers": "strict",
          "coloraxis": {
           "colorbar": {
            "outlinewidth": 0,
            "ticks": ""
           }
          },
          "colorscale": {
           "diverging": [
            [
             0,
             "#8e0152"
            ],
            [
             0.1,
             "#c51b7d"
            ],
            [
             0.2,
             "#de77ae"
            ],
            [
             0.3,
             "#f1b6da"
            ],
            [
             0.4,
             "#fde0ef"
            ],
            [
             0.5,
             "#f7f7f7"
            ],
            [
             0.6,
             "#e6f5d0"
            ],
            [
             0.7,
             "#b8e186"
            ],
            [
             0.8,
             "#7fbc41"
            ],
            [
             0.9,
             "#4d9221"
            ],
            [
             1,
             "#276419"
            ]
           ],
           "sequential": [
            [
             0,
             "#0d0887"
            ],
            [
             0.1111111111111111,
             "#46039f"
            ],
            [
             0.2222222222222222,
             "#7201a8"
            ],
            [
             0.3333333333333333,
             "#9c179e"
            ],
            [
             0.4444444444444444,
             "#bd3786"
            ],
            [
             0.5555555555555556,
             "#d8576b"
            ],
            [
             0.6666666666666666,
             "#ed7953"
            ],
            [
             0.7777777777777778,
             "#fb9f3a"
            ],
            [
             0.8888888888888888,
             "#fdca26"
            ],
            [
             1,
             "#f0f921"
            ]
           ],
           "sequentialminus": [
            [
             0,
             "#0d0887"
            ],
            [
             0.1111111111111111,
             "#46039f"
            ],
            [
             0.2222222222222222,
             "#7201a8"
            ],
            [
             0.3333333333333333,
             "#9c179e"
            ],
            [
             0.4444444444444444,
             "#bd3786"
            ],
            [
             0.5555555555555556,
             "#d8576b"
            ],
            [
             0.6666666666666666,
             "#ed7953"
            ],
            [
             0.7777777777777778,
             "#fb9f3a"
            ],
            [
             0.8888888888888888,
             "#fdca26"
            ],
            [
             1,
             "#f0f921"
            ]
           ]
          },
          "colorway": [
           "#636efa",
           "#EF553B",
           "#00cc96",
           "#ab63fa",
           "#FFA15A",
           "#19d3f3",
           "#FF6692",
           "#B6E880",
           "#FF97FF",
           "#FECB52"
          ],
          "font": {
           "color": "#2a3f5f"
          },
          "geo": {
           "bgcolor": "white",
           "lakecolor": "white",
           "landcolor": "#E5ECF6",
           "showlakes": true,
           "showland": true,
           "subunitcolor": "white"
          },
          "hoverlabel": {
           "align": "left"
          },
          "hovermode": "closest",
          "mapbox": {
           "style": "light"
          },
          "paper_bgcolor": "white",
          "plot_bgcolor": "#E5ECF6",
          "polar": {
           "angularaxis": {
            "gridcolor": "white",
            "linecolor": "white",
            "ticks": ""
           },
           "bgcolor": "#E5ECF6",
           "radialaxis": {
            "gridcolor": "white",
            "linecolor": "white",
            "ticks": ""
           }
          },
          "scene": {
           "xaxis": {
            "backgroundcolor": "#E5ECF6",
            "gridcolor": "white",
            "gridwidth": 2,
            "linecolor": "white",
            "showbackground": true,
            "ticks": "",
            "zerolinecolor": "white"
           },
           "yaxis": {
            "backgroundcolor": "#E5ECF6",
            "gridcolor": "white",
            "gridwidth": 2,
            "linecolor": "white",
            "showbackground": true,
            "ticks": "",
            "zerolinecolor": "white"
           },
           "zaxis": {
            "backgroundcolor": "#E5ECF6",
            "gridcolor": "white",
            "gridwidth": 2,
            "linecolor": "white",
            "showbackground": true,
            "ticks": "",
            "zerolinecolor": "white"
           }
          },
          "shapedefaults": {
           "line": {
            "color": "#2a3f5f"
           }
          },
          "ternary": {
           "aaxis": {
            "gridcolor": "white",
            "linecolor": "white",
            "ticks": ""
           },
           "baxis": {
            "gridcolor": "white",
            "linecolor": "white",
            "ticks": ""
           },
           "bgcolor": "#E5ECF6",
           "caxis": {
            "gridcolor": "white",
            "linecolor": "white",
            "ticks": ""
           }
          },
          "title": {
           "x": 0.05
          },
          "xaxis": {
           "automargin": true,
           "gridcolor": "white",
           "linecolor": "white",
           "ticks": "",
           "title": {
            "standoff": 15
           },
           "zerolinecolor": "white",
           "zerolinewidth": 2
          },
          "yaxis": {
           "automargin": true,
           "gridcolor": "white",
           "linecolor": "white",
           "ticks": "",
           "title": {
            "standoff": 15
           },
           "zerolinecolor": "white",
           "zerolinewidth": 2
          }
         }
        },
        "title": {
         "text": "DEFAULT TITLE"
        },
        "width": 800,
        "xaxis": {
         "fixedrange": true,
         "nticks": 10
        },
        "yaxis": {
         "fixedrange": true,
         "nticks": 10
        }
       }
      }
     },
     "metadata": {},
     "output_type": "display_data"
    }
   ],
   "source": [
    "rng = np.random.default_rng(0)\n",
    "\n",
    "\n",
    "def heatmap(\n",
    "    matrix: np.ndarray | None = None,\n",
    "    labels: list | None = None,\n",
    "    title: str = \"DEFAULT TITLE\",\n",
    "    show_values: bool = True,\n",
    "    value_format: Literal[\".2f\", \".2e\"] = \".2f\",\n",
    "    width: int = 800,\n",
    "    height: int = 600,\n",
    "    xaxis_title: str | None = None,\n",
    "    yaxis_title: str | None = None,\n",
    "    log: bool = False,\n",
    "    nan_diagnal: bool = False,\n",
    "):\n",
    "    if matrix is None:\n",
    "        faker = Faker()\n",
    "        shape = (10, 10)\n",
    "        matrix = rng.random(shape)\n",
    "        # logger.info(matrix)\n",
    "    else:\n",
    "        shape = matrix.shape\n",
    "\n",
    "    if labels is None:\n",
    "        labels = [faker.name() for _ in range(shape[0])]\n",
    "        # logger.info(\"Using example labels and matrix\")\n",
    "        logger.info(labels)\n",
    "    col_labels = labels\n",
    "    row_labels = labels\n",
    "    logger.info(\"Creating heatmap visualization...\")\n",
    "\n",
    "    # Convert input to numpy array and handle None values\n",
    "    matrix = np.array(matrix, dtype=object)\n",
    "    none_mask = matrix is None\n",
    "    matrix = matrix.astype(float)\n",
    "    if log:\n",
    "        matrix = np.log10(matrix)\n",
    "    matrix[none_mask] = np.nan\n",
    "    if nan_diagnal:\n",
    "        matrix[np.identity(matrix.shape[0], dtype=bool)] = np.nan\n",
    "\n",
    "    # Format cell values if needed\n",
    "    text_vals = None\n",
    "    if show_values:\n",
    "        text_vals = np.vectorize(lambda x: \"N/A\" if np.isnan(x) else f\"{x:{value_format}}\")(matrix)\n",
    "\n",
    "    fig = go.Figure(\n",
    "        data=[\n",
    "            go.Heatmap(\n",
    "                z=matrix,\n",
    "                x=col_labels,\n",
    "                y=row_labels,\n",
    "                colorscale=\"Viridis\",\n",
    "                text=text_vals,\n",
    "                texttemplate=\"%{text}\" if show_values else None,\n",
    "                textfont={\"color\": \"black\"},\n",
    "                reversescale=False,\n",
    "                showscale=True,\n",
    "            )\n",
    "        ],\n",
    "        layout={\n",
    "            \"title\": title,\n",
    "            \"width\": width,\n",
    "            \"height\": height,\n",
    "            \"xaxis\": {\n",
    "                \"title\": xaxis_title,\n",
    "                \"nticks\": len(col_labels) if col_labels else None,\n",
    "                \"fixedrange\": True,  # Disable zoom/pan\n",
    "            },\n",
    "            \"yaxis\": {\n",
    "                \"title\": yaxis_title,\n",
    "                \"nticks\": len(row_labels) if row_labels else None,\n",
    "                \"fixedrange\": True,  # Disable zoom/pan\n",
    "            },\n",
    "            \"dragmode\": False,  # Disable dragging/panning\n",
    "            \"modebar\": {\n",
    "                \"remove\": [\n",
    "                    \"zoomIn2d\",\n",
    "                    \"zoomOut2d\",\n",
    "                    \"autoScale2d\",\n",
    "                    \"resetScale2d\",\n",
    "                    \"hoverClosestCartesian\",\n",
    "                    \"hoverCompareCartesian\",\n",
    "                    \"toggleSpikelines\",\n",
    "                ]\n",
    "            },\n",
    "        },\n",
    "    )\n",
    "    return fig\n",
    "\n",
    "\n",
    "heatmap()"
   ]
  },
  {
   "cell_type": "code",
   "execution_count": 108,
   "metadata": {},
   "outputs": [
    {
     "name": "stdout",
     "output_type": "stream",
     "text": [
      "\u001b[2;36m[12/13/24 15:27:46]\u001b[0m\u001b[2;36m \u001b[0m\u001b[1;34mINFO    \u001b[0m\u001b[1;32m \u001b[0m\u001b[1m[\u001b[0m\u001b[1;36m1064263312.\u001b[0mpy:\u001b[1;36m31\u001b[0m\u001b[1m]\u001b[0m Creating        \u001b]8;id=550212;file:///var/folders/6f/f4k9qbkd5nqfywwdhvwdtl5m0000gn/T/ipykernel_17291/1064263312.py\u001b\\\u001b[1;36m1064263312.py\u001b[0m\u001b]8;;\u001b\\\u001b[1;36m:\u001b[0m\u001b]8;id=396787;file:///var/folders/6f/f4k9qbkd5nqfywwdhvwdtl5m0000gn/T/ipykernel_17291/1064263312.py#31\u001b\\\u001b[1;36m31\u001b[0m\u001b]8;;\u001b\\\n",
      "\u001b[2;36m                    \u001b[0m\u001b[1;32m         \u001b[0mheatmap visualization\u001b[33m...\u001b[0m           \u001b[1;36m                \u001b[0m\n"
     ]
    },
    {
     "data": {
      "application/vnd.plotly.v1+json": {
       "config": {
        "plotlyServerURL": "https://plot.ly"
       },
       "data": [
        {
         "colorscale": [
          [
           0,
           "#440154"
          ],
          [
           0.1111111111111111,
           "#482878"
          ],
          [
           0.2222222222222222,
           "#3e4989"
          ],
          [
           0.3333333333333333,
           "#31688e"
          ],
          [
           0.4444444444444444,
           "#26828e"
          ],
          [
           0.5555555555555556,
           "#1f9e89"
          ],
          [
           0.6666666666666666,
           "#35b779"
          ],
          [
           0.7777777777777778,
           "#6ece58"
          ],
          [
           0.8888888888888888,
           "#b5de2b"
          ],
          [
           1,
           "#fde725"
          ]
         ],
         "reversescale": false,
         "showscale": true,
         "text": [
          [
           "N/A",
           "-2.76",
           "-2.84",
           "-2.51",
           "-2.77",
           "-2.85",
           "-2.50",
           "-2.77",
           "-2.86",
           "-2.49",
           "-2.76",
           "-2.75",
           "-2.85",
           "-2.75",
           "-2.75",
           "-3.27",
           "-3.02"
          ],
          [
           "-2.84",
           "N/A",
           "-2.84",
           "-2.47",
           "-2.73",
           "-2.83",
           "-2.48",
           "-2.75",
           "-2.86",
           "-2.48",
           "-2.74",
           "-2.73",
           "-2.84",
           "-2.73",
           "-2.72",
           "-3.24",
           "-2.99"
          ],
          [
           "-2.85",
           "-2.77",
           "N/A",
           "-2.52",
           "-2.76",
           "-2.86",
           "-2.50",
           "-2.76",
           "-2.85",
           "-2.51",
           "-2.77",
           "-2.74",
           "-2.84",
           "-2.76",
           "-2.78",
           "-3.27",
           "-3.01"
          ],
          [
           "-2.79",
           "-2.68",
           "-2.81",
           "N/A",
           "-2.69",
           "-2.81",
           "-2.44",
           "-2.68",
           "-2.80",
           "-2.42",
           "-2.68",
           "-2.70",
           "-2.81",
           "-2.67",
           "-2.72",
           "-3.14",
           "-2.94"
          ],
          [
           "-2.84",
           "-2.73",
           "-2.82",
           "-2.49",
           "N/A",
           "-2.83",
           "-2.48",
           "-2.72",
           "-2.85",
           "-2.52",
           "-2.72",
           "-2.74",
           "-2.84",
           "-2.75",
           "-2.74",
           "-3.23",
           "-3.00"
          ],
          [
           "-2.85",
           "-2.76",
           "-2.86",
           "-2.52",
           "-2.76",
           "N/A",
           "-2.54",
           "-2.75",
           "-2.82",
           "-2.52",
           "-2.77",
           "-2.77",
           "-2.84",
           "-2.75",
           "-2.76",
           "-3.26",
           "-3.01"
          ],
          [
           "-2.79",
           "-2.67",
           "-2.81",
           "-2.42",
           "-2.68",
           "-2.79",
           "N/A",
           "-2.70",
           "-2.79",
           "-2.43",
           "-2.69",
           "-2.69",
           "-2.81",
           "-2.69",
           "-2.67",
           "-3.14",
           "-2.95"
          ],
          [
           "-2.85",
           "-2.72",
           "-2.86",
           "-2.50",
           "-2.73",
           "-2.84",
           "-2.50",
           "N/A",
           "-2.84",
           "-2.52",
           "-2.71",
           "-2.72",
           "-2.84",
           "-2.73",
           "-2.72",
           "-3.24",
           "-2.99"
          ],
          [
           "-2.85",
           "-2.75",
           "-2.85",
           "-2.52",
           "-2.74",
           "-2.85",
           "-2.54",
           "-2.76",
           "N/A",
           "-2.50",
           "-2.76",
           "-2.74",
           "-2.86",
           "-2.74",
           "-2.75",
           "-3.27",
           "-3.01"
          ],
          [
           "-2.79",
           "-2.71",
           "-2.80",
           "-2.42",
           "-2.70",
           "-2.78",
           "-2.41",
           "-2.71",
           "-2.79",
           "N/A",
           "-2.71",
           "-2.68",
           "-2.82",
           "-2.68",
           "-2.71",
           "-3.15",
           "-2.92"
          ],
          [
           "-2.84",
           "-2.72",
           "-2.84",
           "-2.49",
           "-2.75",
           "-2.85",
           "-2.48",
           "-2.71",
           "-2.85",
           "-2.49",
           "N/A",
           "-2.71",
           "-2.84",
           "-2.71",
           "-2.75",
           "-3.24",
           "-2.99"
          ],
          [
           "-2.84",
           "-2.74",
           "-2.84",
           "-2.50",
           "-2.70",
           "-2.86",
           "-2.50",
           "-2.73",
           "-2.87",
           "-2.51",
           "-2.72",
           "N/A",
           "-2.84",
           "-2.75",
           "-2.72",
           "-3.24",
           "-2.99"
          ],
          [
           "-2.86",
           "-2.76",
           "-2.84",
           "-2.51",
           "-2.78",
           "-2.86",
           "-2.51",
           "-2.77",
           "-2.85",
           "-2.54",
           "-2.77",
           "-2.77",
           "N/A",
           "-2.77",
           "-2.76",
           "-3.27",
           "-3.02"
          ],
          [
           "-2.83",
           "-2.74",
           "-2.83",
           "-2.50",
           "-2.73",
           "-2.84",
           "-2.48",
           "-2.70",
           "-2.84",
           "-2.48",
           "-2.72",
           "-2.71",
           "-2.82",
           "N/A",
           "-2.72",
           "-3.23",
           "-2.99"
          ],
          [
           "-2.85",
           "-2.74",
           "-2.84",
           "-2.50",
           "-2.74",
           "-2.83",
           "-2.50",
           "-2.71",
           "-2.83",
           "-2.50",
           "-2.74",
           "-2.73",
           "-2.84",
           "-2.71",
           "N/A",
           "-3.24",
           "-2.98"
          ],
          [
           "-2.96",
           "-2.84",
           "-2.95",
           "-2.56",
           "-2.84",
           "-2.96",
           "-2.56",
           "-2.84",
           "-2.96",
           "-2.56",
           "-2.83",
           "-2.83",
           "-2.95",
           "-2.84",
           "-2.82",
           "N/A",
           "-3.10"
          ],
          [
           "-2.91",
           "-2.79",
           "-2.90",
           "-2.53",
           "-2.78",
           "-2.91",
           "-2.52",
           "-2.81",
           "-2.90",
           "-2.52",
           "-2.80",
           "-2.82",
           "-2.90",
           "-2.80",
           "-2.81",
           "-3.30",
           "N/A"
          ]
         ],
         "textfont": {
          "color": "black"
         },
         "texttemplate": "%{text}",
         "type": "heatmap",
         "x": [
          "WhereIsAI_UAE-Large-V1",
          "BAAI_bge-base-en-v1.5",
          "BAAI_bge-large-en-v1.5",
          "BAAI_bge-small-en-v1.5",
          "intfloat_e5-base-v2",
          "intfloat_e5-large-v2",
          "intfloat_e5-small-v2",
          "thenlper_gte-base",
          "thenlper_gte-large",
          "thenlper_gte-small",
          "sentence-transformers_gtr-t5-base",
          "sentence-transformers_gtr-t5-large",
          "mixedbread-ai_mxbai-embed-large-v1",
          "sentence-transformers_sentence-t5-base",
          "sentence-transformers_sentence-t5-large",
          "openai_text-embedding-3-large",
          "openai_text-embedding-3-small"
         ],
         "y": [
          "WhereIsAI_UAE-Large-V1",
          "BAAI_bge-base-en-v1.5",
          "BAAI_bge-large-en-v1.5",
          "BAAI_bge-small-en-v1.5",
          "intfloat_e5-base-v2",
          "intfloat_e5-large-v2",
          "intfloat_e5-small-v2",
          "thenlper_gte-base",
          "thenlper_gte-large",
          "thenlper_gte-small",
          "sentence-transformers_gtr-t5-base",
          "sentence-transformers_gtr-t5-large",
          "mixedbread-ai_mxbai-embed-large-v1",
          "sentence-transformers_sentence-t5-base",
          "sentence-transformers_sentence-t5-large",
          "openai_text-embedding-3-large",
          "openai_text-embedding-3-small"
         ],
         "z": [
          [
           null,
           -2.7574663425948116,
           -2.8420995149022072,
           -2.5095080204774765,
           -2.772926057182547,
           -2.8495111364061194,
           -2.504729011234093,
           -2.771978108569226,
           -2.8644323823071316,
           -2.4903870476720407,
           -2.762528125724493,
           -2.7511733114121983,
           -2.8454498318091486,
           -2.7498421169253677,
           -2.7501509336190813,
           -3.2696157318654278,
           -3.02198423076025
          ],
          [
           -2.8439671840984952,
           null,
           -2.8425685649518804,
           -2.4749370961506623,
           -2.7262825567904367,
           -2.8291240980333727,
           -2.4784590184216295,
           -2.7468449351451576,
           -2.8555266586187416,
           -2.4797362835448697,
           -2.735703755380616,
           -2.7288352609804054,
           -2.844996909042494,
           -2.733095494011109,
           -2.723420118354665,
           -3.237153824629583,
           -2.98560012259634
          ],
          [
           -2.847032143924652,
           -2.769208332080826,
           null,
           -2.5159174758940686,
           -2.7647998813551764,
           -2.859104585314454,
           -2.500828877749649,
           -2.7574615990580216,
           -2.8504715783957004,
           -2.5095226630642307,
           -2.773071177477477,
           -2.737753963940291,
           -2.838673846847979,
           -2.7590395972498656,
           -2.775269038776332,
           -3.265478096932488,
           -3.0072780568853523
          ],
          [
           -2.793861657643175,
           -2.6806242728225356,
           -2.805010042893231,
           null,
           -2.6933186738606256,
           -2.8112592269492285,
           -2.4390978670404246,
           -2.6841598709638115,
           -2.7989696594110605,
           -2.418366493260947,
           -2.6777851988160783,
           -2.7018360273677144,
           -2.813204423160594,
           -2.6743761031771873,
           -2.7160313697399996,
           -3.137169966998491,
           -2.9366836102976093
          ],
          [
           -2.838349525279202,
           -2.726233080426001,
           -2.8222737559154836,
           -2.4857008456020866,
           null,
           -2.82648948208632,
           -2.476211658472666,
           -2.715059648720614,
           -2.846425889143047,
           -2.5203621985473252,
           -2.7243012129054516,
           -2.742306246985116,
           -2.840890019131271,
           -2.7537059548478817,
           -2.739483645985742,
           -3.2347535814133175,
           -3.0041197038012433
          ],
          [
           -2.848610680225495,
           -2.7633478602228982,
           -2.861550176205477,
           -2.5189607223864074,
           -2.7594822848260843,
           null,
           -2.537914955629029,
           -2.7478137777043647,
           -2.824773305410056,
           -2.5243649046974794,
           -2.772076932474613,
           -2.767920620860492,
           -2.8435499746200517,
           -2.746862294084466,
           -2.7647419048581545,
           -3.2638811808935446,
           -3.006200647937264
          ],
          [
           -2.7945975474406426,
           -2.672205624277428,
           -2.8055648996591964,
           -2.4192694036078586,
           -2.679833667465062,
           -2.790561112025961,
           null,
           -2.6976131427529637,
           -2.787996442364042,
           -2.4333433568378586,
           -2.6934248345409646,
           -2.689664582821246,
           -2.811017294196133,
           -2.6852397758964472,
           -2.665421900124522,
           -3.142477136686657,
           -2.945049031507515
          ],
          [
           -2.8527441484476204,
           -2.720312330187536,
           -2.8593186440541323,
           -2.4965141594896365,
           -2.73222070979967,
           -2.836172110176852,
           -2.5012113128768787,
           null,
           -2.8362701708791134,
           -2.5151507713784094,
           -2.7149571145777065,
           -2.71873632350183,
           -2.841471953687869,
           -2.7266619192590054,
           -2.7151816772719215,
           -3.2367913431774546,
           -2.990001772362981
          ],
          [
           -2.854049946191234,
           -2.7534789384444025,
           -2.8499774195833054,
           -2.517077975365861,
           -2.737490131068005,
           -2.853228773987639,
           -2.5350490674750676,
           -2.7629753227906853,
           null,
           -2.4978144834788654,
           -2.7639867117242987,
           -2.738939346759615,
           -2.856158975272222,
           -2.7364414423899426,
           -2.7543894975646266,
           -3.2653910855796293,
           -3.012757078980578
          ],
          [
           -2.7945773841275368,
           -2.710017958546196,
           -2.804236725987993,
           -2.4222160053990853,
           -2.6959802561360102,
           -2.7835828346946787,
           -2.4050714091801533,
           -2.706208423646955,
           -2.7928610469325696,
           null,
           -2.7065209440393088,
           -2.682494770419618,
           -2.8200673512399974,
           -2.677039779851422,
           -2.7090154729404157,
           -3.149138864063171,
           -2.9176048517444637
          ],
          [
           -2.838016532079381,
           -2.717282414331235,
           -2.8372934303265755,
           -2.492715648951941,
           -2.753655862859868,
           -2.852506520284063,
           -2.4822052322300467,
           -2.710654813825686,
           -2.8469891318429172,
           -2.4940913066284485,
           null,
           -2.7055503826655363,
           -2.837333128802843,
           -2.7122439864704684,
           -2.753149418287607,
           -3.2366751461774594,
           -2.9857239305725702
          ],
          [
           -2.841436577644957,
           -2.741197314512788,
           -2.8350086891014312,
           -2.5018797479162367,
           -2.7032368315174287,
           -2.8576168797407124,
           -2.5015080185430247,
           -2.7319167974208143,
           -2.866335087012379,
           -2.50599924665408,
           -2.7159763437912665,
           null,
           -2.8427741317658617,
           -2.7494958052689555,
           -2.7188830490325513,
           -3.2382536761355643,
           -2.989299907969369
          ],
          [
           -2.8574904999541713,
           -2.757874828121548,
           -2.836801602405946,
           -2.5145947926412124,
           -2.776514985995462,
           -2.8582888395432473,
           -2.5100568665760847,
           -2.7727799067214463,
           -2.847354870392868,
           -2.539932652546568,
           -2.7670191506382733,
           -2.7676537467638225,
           null,
           -2.768673253337806,
           -2.7621329590330648,
           -3.267328367615393,
           -3.018371082714945
          ],
          [
           -2.831625897800422,
           -2.743224193225815,
           -2.8253331810086357,
           -2.496564090264143,
           -2.7269613124593968,
           -2.84291883650624,
           -2.4755802877330217,
           -2.704577990630079,
           -2.839717997400511,
           -2.475167000083609,
           -2.7226632215846203,
           -2.7119516225256906,
           -2.8185491026905214,
           null,
           -2.719689163512609,
           -3.2348944898536733,
           -2.9934528032433056
          ],
          [
           -2.8514682300735994,
           -2.7448640037565926,
           -2.8427515678052133,
           -2.4966078081967917,
           -2.74235577309305,
           -2.8342725198140037,
           -2.4988083593057078,
           -2.7103880938991805,
           -2.8291400972749035,
           -2.503298547080734,
           -2.7360807575585264,
           -2.7330988575522306,
           -2.8441296601993993,
           -2.705682424581142,
           null,
           -3.2378874342952315,
           -2.9841915614481604
          ],
          [
           -2.962494039911259,
           -2.8423406582790576,
           -2.954507314221811,
           -2.5644603072164207,
           -2.8353951693433355,
           -2.964845090449149,
           -2.5556375683646704,
           -2.8386317940804386,
           -2.963308972093713,
           -2.560999283191517,
           -2.8333860962443933,
           -2.8308654658430337,
           -2.952742366845893,
           -2.8359384903778384,
           -2.8236707391222384,
           null,
           -3.095328214131093
          ],
          [
           -2.9080143017269084,
           -2.793943662230012,
           -2.8998820636227056,
           -2.527864651448688,
           -2.7838094308865386,
           -2.914045622553132,
           -2.52481682222563,
           -2.8084470135948747,
           -2.8951426735246373,
           -2.523727571881367,
           -2.799631799115948,
           -2.82328182590169,
           -2.9013001563461964,
           -2.7973275588650637,
           -2.8090540626581615,
           -3.2986171609264896,
           null
          ]
         ]
        }
       ],
       "layout": {
        "dragmode": false,
        "height": 600,
        "modebar": {
         "remove": [
          "zoomIn2d",
          "zoomOut2d",
          "autoScale2d",
          "resetScale2d",
          "hoverClosestCartesian",
          "hoverCompareCartesian",
          "toggleSpikelines"
         ]
        },
        "template": {
         "data": {
          "bar": [
           {
            "error_x": {
             "color": "#2a3f5f"
            },
            "error_y": {
             "color": "#2a3f5f"
            },
            "marker": {
             "line": {
              "color": "#E5ECF6",
              "width": 0.5
             },
             "pattern": {
              "fillmode": "overlay",
              "size": 10,
              "solidity": 0.2
             }
            },
            "type": "bar"
           }
          ],
          "barpolar": [
           {
            "marker": {
             "line": {
              "color": "#E5ECF6",
              "width": 0.5
             },
             "pattern": {
              "fillmode": "overlay",
              "size": 10,
              "solidity": 0.2
             }
            },
            "type": "barpolar"
           }
          ],
          "carpet": [
           {
            "aaxis": {
             "endlinecolor": "#2a3f5f",
             "gridcolor": "white",
             "linecolor": "white",
             "minorgridcolor": "white",
             "startlinecolor": "#2a3f5f"
            },
            "baxis": {
             "endlinecolor": "#2a3f5f",
             "gridcolor": "white",
             "linecolor": "white",
             "minorgridcolor": "white",
             "startlinecolor": "#2a3f5f"
            },
            "type": "carpet"
           }
          ],
          "choropleth": [
           {
            "colorbar": {
             "outlinewidth": 0,
             "ticks": ""
            },
            "type": "choropleth"
           }
          ],
          "contour": [
           {
            "colorbar": {
             "outlinewidth": 0,
             "ticks": ""
            },
            "colorscale": [
             [
              0,
              "#0d0887"
             ],
             [
              0.1111111111111111,
              "#46039f"
             ],
             [
              0.2222222222222222,
              "#7201a8"
             ],
             [
              0.3333333333333333,
              "#9c179e"
             ],
             [
              0.4444444444444444,
              "#bd3786"
             ],
             [
              0.5555555555555556,
              "#d8576b"
             ],
             [
              0.6666666666666666,
              "#ed7953"
             ],
             [
              0.7777777777777778,
              "#fb9f3a"
             ],
             [
              0.8888888888888888,
              "#fdca26"
             ],
             [
              1,
              "#f0f921"
             ]
            ],
            "type": "contour"
           }
          ],
          "contourcarpet": [
           {
            "colorbar": {
             "outlinewidth": 0,
             "ticks": ""
            },
            "type": "contourcarpet"
           }
          ],
          "heatmap": [
           {
            "colorbar": {
             "outlinewidth": 0,
             "ticks": ""
            },
            "colorscale": [
             [
              0,
              "#0d0887"
             ],
             [
              0.1111111111111111,
              "#46039f"
             ],
             [
              0.2222222222222222,
              "#7201a8"
             ],
             [
              0.3333333333333333,
              "#9c179e"
             ],
             [
              0.4444444444444444,
              "#bd3786"
             ],
             [
              0.5555555555555556,
              "#d8576b"
             ],
             [
              0.6666666666666666,
              "#ed7953"
             ],
             [
              0.7777777777777778,
              "#fb9f3a"
             ],
             [
              0.8888888888888888,
              "#fdca26"
             ],
             [
              1,
              "#f0f921"
             ]
            ],
            "type": "heatmap"
           }
          ],
          "heatmapgl": [
           {
            "colorbar": {
             "outlinewidth": 0,
             "ticks": ""
            },
            "colorscale": [
             [
              0,
              "#0d0887"
             ],
             [
              0.1111111111111111,
              "#46039f"
             ],
             [
              0.2222222222222222,
              "#7201a8"
             ],
             [
              0.3333333333333333,
              "#9c179e"
             ],
             [
              0.4444444444444444,
              "#bd3786"
             ],
             [
              0.5555555555555556,
              "#d8576b"
             ],
             [
              0.6666666666666666,
              "#ed7953"
             ],
             [
              0.7777777777777778,
              "#fb9f3a"
             ],
             [
              0.8888888888888888,
              "#fdca26"
             ],
             [
              1,
              "#f0f921"
             ]
            ],
            "type": "heatmapgl"
           }
          ],
          "histogram": [
           {
            "marker": {
             "pattern": {
              "fillmode": "overlay",
              "size": 10,
              "solidity": 0.2
             }
            },
            "type": "histogram"
           }
          ],
          "histogram2d": [
           {
            "colorbar": {
             "outlinewidth": 0,
             "ticks": ""
            },
            "colorscale": [
             [
              0,
              "#0d0887"
             ],
             [
              0.1111111111111111,
              "#46039f"
             ],
             [
              0.2222222222222222,
              "#7201a8"
             ],
             [
              0.3333333333333333,
              "#9c179e"
             ],
             [
              0.4444444444444444,
              "#bd3786"
             ],
             [
              0.5555555555555556,
              "#d8576b"
             ],
             [
              0.6666666666666666,
              "#ed7953"
             ],
             [
              0.7777777777777778,
              "#fb9f3a"
             ],
             [
              0.8888888888888888,
              "#fdca26"
             ],
             [
              1,
              "#f0f921"
             ]
            ],
            "type": "histogram2d"
           }
          ],
          "histogram2dcontour": [
           {
            "colorbar": {
             "outlinewidth": 0,
             "ticks": ""
            },
            "colorscale": [
             [
              0,
              "#0d0887"
             ],
             [
              0.1111111111111111,
              "#46039f"
             ],
             [
              0.2222222222222222,
              "#7201a8"
             ],
             [
              0.3333333333333333,
              "#9c179e"
             ],
             [
              0.4444444444444444,
              "#bd3786"
             ],
             [
              0.5555555555555556,
              "#d8576b"
             ],
             [
              0.6666666666666666,
              "#ed7953"
             ],
             [
              0.7777777777777778,
              "#fb9f3a"
             ],
             [
              0.8888888888888888,
              "#fdca26"
             ],
             [
              1,
              "#f0f921"
             ]
            ],
            "type": "histogram2dcontour"
           }
          ],
          "mesh3d": [
           {
            "colorbar": {
             "outlinewidth": 0,
             "ticks": ""
            },
            "type": "mesh3d"
           }
          ],
          "parcoords": [
           {
            "line": {
             "colorbar": {
              "outlinewidth": 0,
              "ticks": ""
             }
            },
            "type": "parcoords"
           }
          ],
          "pie": [
           {
            "automargin": true,
            "type": "pie"
           }
          ],
          "scatter": [
           {
            "fillpattern": {
             "fillmode": "overlay",
             "size": 10,
             "solidity": 0.2
            },
            "type": "scatter"
           }
          ],
          "scatter3d": [
           {
            "line": {
             "colorbar": {
              "outlinewidth": 0,
              "ticks": ""
             }
            },
            "marker": {
             "colorbar": {
              "outlinewidth": 0,
              "ticks": ""
             }
            },
            "type": "scatter3d"
           }
          ],
          "scattercarpet": [
           {
            "marker": {
             "colorbar": {
              "outlinewidth": 0,
              "ticks": ""
             }
            },
            "type": "scattercarpet"
           }
          ],
          "scattergeo": [
           {
            "marker": {
             "colorbar": {
              "outlinewidth": 0,
              "ticks": ""
             }
            },
            "type": "scattergeo"
           }
          ],
          "scattergl": [
           {
            "marker": {
             "colorbar": {
              "outlinewidth": 0,
              "ticks": ""
             }
            },
            "type": "scattergl"
           }
          ],
          "scattermapbox": [
           {
            "marker": {
             "colorbar": {
              "outlinewidth": 0,
              "ticks": ""
             }
            },
            "type": "scattermapbox"
           }
          ],
          "scatterpolar": [
           {
            "marker": {
             "colorbar": {
              "outlinewidth": 0,
              "ticks": ""
             }
            },
            "type": "scatterpolar"
           }
          ],
          "scatterpolargl": [
           {
            "marker": {
             "colorbar": {
              "outlinewidth": 0,
              "ticks": ""
             }
            },
            "type": "scatterpolargl"
           }
          ],
          "scatterternary": [
           {
            "marker": {
             "colorbar": {
              "outlinewidth": 0,
              "ticks": ""
             }
            },
            "type": "scatterternary"
           }
          ],
          "surface": [
           {
            "colorbar": {
             "outlinewidth": 0,
             "ticks": ""
            },
            "colorscale": [
             [
              0,
              "#0d0887"
             ],
             [
              0.1111111111111111,
              "#46039f"
             ],
             [
              0.2222222222222222,
              "#7201a8"
             ],
             [
              0.3333333333333333,
              "#9c179e"
             ],
             [
              0.4444444444444444,
              "#bd3786"
             ],
             [
              0.5555555555555556,
              "#d8576b"
             ],
             [
              0.6666666666666666,
              "#ed7953"
             ],
             [
              0.7777777777777778,
              "#fb9f3a"
             ],
             [
              0.8888888888888888,
              "#fdca26"
             ],
             [
              1,
              "#f0f921"
             ]
            ],
            "type": "surface"
           }
          ],
          "table": [
           {
            "cells": {
             "fill": {
              "color": "#EBF0F8"
             },
             "line": {
              "color": "white"
             }
            },
            "header": {
             "fill": {
              "color": "#C8D4E3"
             },
             "line": {
              "color": "white"
             }
            },
            "type": "table"
           }
          ]
         },
         "layout": {
          "annotationdefaults": {
           "arrowcolor": "#2a3f5f",
           "arrowhead": 0,
           "arrowwidth": 1
          },
          "autotypenumbers": "strict",
          "coloraxis": {
           "colorbar": {
            "outlinewidth": 0,
            "ticks": ""
           }
          },
          "colorscale": {
           "diverging": [
            [
             0,
             "#8e0152"
            ],
            [
             0.1,
             "#c51b7d"
            ],
            [
             0.2,
             "#de77ae"
            ],
            [
             0.3,
             "#f1b6da"
            ],
            [
             0.4,
             "#fde0ef"
            ],
            [
             0.5,
             "#f7f7f7"
            ],
            [
             0.6,
             "#e6f5d0"
            ],
            [
             0.7,
             "#b8e186"
            ],
            [
             0.8,
             "#7fbc41"
            ],
            [
             0.9,
             "#4d9221"
            ],
            [
             1,
             "#276419"
            ]
           ],
           "sequential": [
            [
             0,
             "#0d0887"
            ],
            [
             0.1111111111111111,
             "#46039f"
            ],
            [
             0.2222222222222222,
             "#7201a8"
            ],
            [
             0.3333333333333333,
             "#9c179e"
            ],
            [
             0.4444444444444444,
             "#bd3786"
            ],
            [
             0.5555555555555556,
             "#d8576b"
            ],
            [
             0.6666666666666666,
             "#ed7953"
            ],
            [
             0.7777777777777778,
             "#fb9f3a"
            ],
            [
             0.8888888888888888,
             "#fdca26"
            ],
            [
             1,
             "#f0f921"
            ]
           ],
           "sequentialminus": [
            [
             0,
             "#0d0887"
            ],
            [
             0.1111111111111111,
             "#46039f"
            ],
            [
             0.2222222222222222,
             "#7201a8"
            ],
            [
             0.3333333333333333,
             "#9c179e"
            ],
            [
             0.4444444444444444,
             "#bd3786"
            ],
            [
             0.5555555555555556,
             "#d8576b"
            ],
            [
             0.6666666666666666,
             "#ed7953"
            ],
            [
             0.7777777777777778,
             "#fb9f3a"
            ],
            [
             0.8888888888888888,
             "#fdca26"
            ],
            [
             1,
             "#f0f921"
            ]
           ]
          },
          "colorway": [
           "#636efa",
           "#EF553B",
           "#00cc96",
           "#ab63fa",
           "#FFA15A",
           "#19d3f3",
           "#FF6692",
           "#B6E880",
           "#FF97FF",
           "#FECB52"
          ],
          "font": {
           "color": "#2a3f5f"
          },
          "geo": {
           "bgcolor": "white",
           "lakecolor": "white",
           "landcolor": "#E5ECF6",
           "showlakes": true,
           "showland": true,
           "subunitcolor": "white"
          },
          "hoverlabel": {
           "align": "left"
          },
          "hovermode": "closest",
          "mapbox": {
           "style": "light"
          },
          "paper_bgcolor": "white",
          "plot_bgcolor": "#E5ECF6",
          "polar": {
           "angularaxis": {
            "gridcolor": "white",
            "linecolor": "white",
            "ticks": ""
           },
           "bgcolor": "#E5ECF6",
           "radialaxis": {
            "gridcolor": "white",
            "linecolor": "white",
            "ticks": ""
           }
          },
          "scene": {
           "xaxis": {
            "backgroundcolor": "#E5ECF6",
            "gridcolor": "white",
            "gridwidth": 2,
            "linecolor": "white",
            "showbackground": true,
            "ticks": "",
            "zerolinecolor": "white"
           },
           "yaxis": {
            "backgroundcolor": "#E5ECF6",
            "gridcolor": "white",
            "gridwidth": 2,
            "linecolor": "white",
            "showbackground": true,
            "ticks": "",
            "zerolinecolor": "white"
           },
           "zaxis": {
            "backgroundcolor": "#E5ECF6",
            "gridcolor": "white",
            "gridwidth": 2,
            "linecolor": "white",
            "showbackground": true,
            "ticks": "",
            "zerolinecolor": "white"
           }
          },
          "shapedefaults": {
           "line": {
            "color": "#2a3f5f"
           }
          },
          "ternary": {
           "aaxis": {
            "gridcolor": "white",
            "linecolor": "white",
            "ticks": ""
           },
           "baxis": {
            "gridcolor": "white",
            "linecolor": "white",
            "ticks": ""
           },
           "bgcolor": "#E5ECF6",
           "caxis": {
            "gridcolor": "white",
            "linecolor": "white",
            "ticks": ""
           }
          },
          "title": {
           "x": 0.05
          },
          "xaxis": {
           "automargin": true,
           "gridcolor": "white",
           "linecolor": "white",
           "ticks": "",
           "title": {
            "standoff": 15
           },
           "zerolinecolor": "white",
           "zerolinewidth": 2
          },
          "yaxis": {
           "automargin": true,
           "gridcolor": "white",
           "linecolor": "white",
           "ticks": "",
           "title": {
            "standoff": 15
           },
           "zerolinecolor": "white",
           "zerolinewidth": 2
          }
         }
        },
        "title": {
         "text": "Example Validation MSE (log)"
        },
        "width": 800,
        "xaxis": {
         "fixedrange": true,
         "nticks": 17
        },
        "yaxis": {
         "fixedrange": true,
         "nticks": 17
        }
       }
      }
     },
     "metadata": {},
     "output_type": "display_data"
    }
   ],
   "source": [
    "labels = sorted(meta[\"model2idx\"], key=lambda k: meta[\"model2idx\"][k])\n",
    "matrix = example_validation_mse\n",
    "heatmap(\n",
    "    matrix,\n",
    "    log=True,\n",
    "    title=\"Example Validation MSE (log)\",\n",
    "    labels=labels,\n",
    ")"
   ]
  }
 ],
 "metadata": {
  "kernelspec": {
   "display_name": ".venv",
   "language": "python",
   "name": "python3"
  },
  "language_info": {
   "codemirror_mode": {
    "name": "ipython",
    "version": 3
   },
   "file_extension": ".py",
   "mimetype": "text/x-python",
   "name": "python",
   "nbconvert_exporter": "python",
   "pygments_lexer": "ipython3",
   "version": "3.12.8"
  }
 },
 "nbformat": 4,
 "nbformat_minor": 2
}
