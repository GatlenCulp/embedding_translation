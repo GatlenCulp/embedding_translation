{
 "cells": [
  {
   "cell_type": "markdown",
   "metadata": {},
   "source": [
    "# Complexity vs MSE and Rank Graphs\n"
   ]
  },
  {
   "cell_type": "markdown",
   "metadata": {},
   "source": [
    "## Setup\n"
   ]
  },
  {
   "cell_type": "code",
   "execution_count": 1,
   "metadata": {},
   "outputs": [
    {
     "name": "stdout",
     "output_type": "stream",
     "text": [
      "Requirement already satisfied: safetensors in /Users/gat/work/FA2024/embedding_translation/.venv/lib/python3.12/site-packages (0.4.5)\n",
      "Note: you may need to restart the kernel to use updated packages.\n"
     ]
    }
   ],
   "source": [
    "# Installs\n",
    "%pip install safetensors"
   ]
  },
  {
   "cell_type": "code",
   "execution_count": 3,
   "metadata": {},
   "outputs": [],
   "source": [
    "# Imports\n",
    "from pathlib import Path\n",
    "from typing import Literal\n",
    "\n",
    "# from IPython.display import display\n",
    "import numpy as np\n",
    "import orjson\n",
    "import plotly.graph_objects as go\n",
    "import plotly.io as pio\n",
    "import polars as pl\n",
    "from faker import Faker\n",
    "from loguru import logger\n",
    "from rich import pretty\n",
    "from safetensors.numpy import load_file\n",
    "\n",
    "\n",
    "np.set_printoptions(\n",
    "    precision=3,\n",
    "    suppress=True,\n",
    "    threshold=5,\n",
    ")\n",
    "rng = np.random.default_rng(0)\n",
    "faker = Faker()\n",
    "pio.templates.default = \"plotly\""
   ]
  },
  {
   "cell_type": "code",
   "execution_count": 4,
   "metadata": {},
   "outputs": [
    {
     "name": "stderr",
     "output_type": "stream",
     "text": [
      "\u001b[32m2025-01-07 20:06:22.873\u001b[0m | \u001b[1mINFO    \u001b[0m | \u001b[36m__main__\u001b[0m:\u001b[36m<cell line: 0>\u001b[0m:\u001b[36m3\u001b[0m - \u001b[1m/Users/gat/work/FA2024/embedding_translation\u001b[0m\n",
      "\u001b[32m2025-01-07 20:06:22.874\u001b[0m | \u001b[1mINFO    \u001b[0m | \u001b[36m__main__\u001b[0m:\u001b[36m<cell line: 0>\u001b[0m:\u001b[36m5\u001b[0m - \u001b[1m/Users/gat/work/FA2024/embedding_translation/data\u001b[0m\n"
     ]
    }
   ],
   "source": [
    "# Directories\n",
    "PROJ_ROOT = Path.cwd().resolve().parent\n",
    "logger.info(PROJ_ROOT)\n",
    "DATA_DIR = PROJ_ROOT / \"data\"\n",
    "logger.info(DATA_DIR)\n",
    "MLP_MSE_VALIDATION = DATA_DIR / \"mlp_mse_validation\"\n",
    "MLP_MSE_VALIDATION_TENSORS = MLP_MSE_VALIDATION / \"validation_mses.safetensors\"\n",
    "MLP_MSE_VALIDATION_META = MLP_MSE_VALIDATION / \"validation_mses.json\""
   ]
  },
  {
   "cell_type": "markdown",
   "metadata": {},
   "source": [
    "## Helper Viz\n"
   ]
  },
  {
   "cell_type": "code",
   "execution_count": 40,
   "metadata": {},
   "outputs": [
    {
     "data": {
      "application/vnd.plotly.v1+json": {
       "config": {
        "plotlyServerURL": "https://plot.ly"
       },
       "data": [
        {
         "colorscale": [
          [
           0,
           "#440154"
          ],
          [
           0.1111111111111111,
           "#482878"
          ],
          [
           0.2222222222222222,
           "#3e4989"
          ],
          [
           0.3333333333333333,
           "#31688e"
          ],
          [
           0.4444444444444444,
           "#26828e"
          ],
          [
           0.5555555555555556,
           "#1f9e89"
          ],
          [
           0.6666666666666666,
           "#35b779"
          ],
          [
           0.7777777777777778,
           "#6ece58"
          ],
          [
           0.8888888888888888,
           "#b5de2b"
          ],
          [
           1,
           "#fde725"
          ]
         ],
         "reversescale": false,
         "showlegend": false,
         "showscale": true,
         "textfont": {
          "color": "black"
         },
         "type": "heatmap",
         "x": [
          "A",
          "B",
          "C"
         ],
         "y": [
          "X",
          "Y",
          "Z"
         ],
         "z": [
          [
           1,
           2,
           3
          ],
          [
           4,
           5,
           6
          ],
          [
           7,
           8,
           9
          ]
         ]
        }
       ],
       "layout": {
        "dragmode": false,
        "height": 600,
        "modebar": {
         "remove": [
          "zoomIn2d",
          "zoomOut2d",
          "autoScale2d",
          "resetScale2d",
          "hoverClosestCartesian",
          "hoverCompareCartesian",
          "toggleSpikelines"
         ]
        },
        "template": {
         "data": {
          "bar": [
           {
            "error_x": {
             "color": "#2a3f5f"
            },
            "error_y": {
             "color": "#2a3f5f"
            },
            "marker": {
             "line": {
              "color": "white",
              "width": 0.5
             },
             "pattern": {
              "fillmode": "overlay",
              "size": 10,
              "solidity": 0.2
             }
            },
            "type": "bar"
           }
          ],
          "barpolar": [
           {
            "marker": {
             "line": {
              "color": "white",
              "width": 0.5
             },
             "pattern": {
              "fillmode": "overlay",
              "size": 10,
              "solidity": 0.2
             }
            },
            "type": "barpolar"
           }
          ],
          "carpet": [
           {
            "aaxis": {
             "endlinecolor": "#2a3f5f",
             "gridcolor": "#C8D4E3",
             "linecolor": "#C8D4E3",
             "minorgridcolor": "#C8D4E3",
             "startlinecolor": "#2a3f5f"
            },
            "baxis": {
             "endlinecolor": "#2a3f5f",
             "gridcolor": "#C8D4E3",
             "linecolor": "#C8D4E3",
             "minorgridcolor": "#C8D4E3",
             "startlinecolor": "#2a3f5f"
            },
            "type": "carpet"
           }
          ],
          "choropleth": [
           {
            "colorbar": {
             "outlinewidth": 0,
             "ticks": ""
            },
            "type": "choropleth"
           }
          ],
          "contour": [
           {
            "colorbar": {
             "outlinewidth": 0,
             "ticks": ""
            },
            "colorscale": [
             [
              0,
              "#0d0887"
             ],
             [
              0.1111111111111111,
              "#46039f"
             ],
             [
              0.2222222222222222,
              "#7201a8"
             ],
             [
              0.3333333333333333,
              "#9c179e"
             ],
             [
              0.4444444444444444,
              "#bd3786"
             ],
             [
              0.5555555555555556,
              "#d8576b"
             ],
             [
              0.6666666666666666,
              "#ed7953"
             ],
             [
              0.7777777777777778,
              "#fb9f3a"
             ],
             [
              0.8888888888888888,
              "#fdca26"
             ],
             [
              1,
              "#f0f921"
             ]
            ],
            "type": "contour"
           }
          ],
          "contourcarpet": [
           {
            "colorbar": {
             "outlinewidth": 0,
             "ticks": ""
            },
            "type": "contourcarpet"
           }
          ],
          "heatmap": [
           {
            "colorbar": {
             "outlinewidth": 0,
             "ticks": ""
            },
            "colorscale": [
             [
              0,
              "#0d0887"
             ],
             [
              0.1111111111111111,
              "#46039f"
             ],
             [
              0.2222222222222222,
              "#7201a8"
             ],
             [
              0.3333333333333333,
              "#9c179e"
             ],
             [
              0.4444444444444444,
              "#bd3786"
             ],
             [
              0.5555555555555556,
              "#d8576b"
             ],
             [
              0.6666666666666666,
              "#ed7953"
             ],
             [
              0.7777777777777778,
              "#fb9f3a"
             ],
             [
              0.8888888888888888,
              "#fdca26"
             ],
             [
              1,
              "#f0f921"
             ]
            ],
            "type": "heatmap"
           }
          ],
          "heatmapgl": [
           {
            "colorbar": {
             "outlinewidth": 0,
             "ticks": ""
            },
            "colorscale": [
             [
              0,
              "#0d0887"
             ],
             [
              0.1111111111111111,
              "#46039f"
             ],
             [
              0.2222222222222222,
              "#7201a8"
             ],
             [
              0.3333333333333333,
              "#9c179e"
             ],
             [
              0.4444444444444444,
              "#bd3786"
             ],
             [
              0.5555555555555556,
              "#d8576b"
             ],
             [
              0.6666666666666666,
              "#ed7953"
             ],
             [
              0.7777777777777778,
              "#fb9f3a"
             ],
             [
              0.8888888888888888,
              "#fdca26"
             ],
             [
              1,
              "#f0f921"
             ]
            ],
            "type": "heatmapgl"
           }
          ],
          "histogram": [
           {
            "marker": {
             "pattern": {
              "fillmode": "overlay",
              "size": 10,
              "solidity": 0.2
             }
            },
            "type": "histogram"
           }
          ],
          "histogram2d": [
           {
            "colorbar": {
             "outlinewidth": 0,
             "ticks": ""
            },
            "colorscale": [
             [
              0,
              "#0d0887"
             ],
             [
              0.1111111111111111,
              "#46039f"
             ],
             [
              0.2222222222222222,
              "#7201a8"
             ],
             [
              0.3333333333333333,
              "#9c179e"
             ],
             [
              0.4444444444444444,
              "#bd3786"
             ],
             [
              0.5555555555555556,
              "#d8576b"
             ],
             [
              0.6666666666666666,
              "#ed7953"
             ],
             [
              0.7777777777777778,
              "#fb9f3a"
             ],
             [
              0.8888888888888888,
              "#fdca26"
             ],
             [
              1,
              "#f0f921"
             ]
            ],
            "type": "histogram2d"
           }
          ],
          "histogram2dcontour": [
           {
            "colorbar": {
             "outlinewidth": 0,
             "ticks": ""
            },
            "colorscale": [
             [
              0,
              "#0d0887"
             ],
             [
              0.1111111111111111,
              "#46039f"
             ],
             [
              0.2222222222222222,
              "#7201a8"
             ],
             [
              0.3333333333333333,
              "#9c179e"
             ],
             [
              0.4444444444444444,
              "#bd3786"
             ],
             [
              0.5555555555555556,
              "#d8576b"
             ],
             [
              0.6666666666666666,
              "#ed7953"
             ],
             [
              0.7777777777777778,
              "#fb9f3a"
             ],
             [
              0.8888888888888888,
              "#fdca26"
             ],
             [
              1,
              "#f0f921"
             ]
            ],
            "type": "histogram2dcontour"
           }
          ],
          "mesh3d": [
           {
            "colorbar": {
             "outlinewidth": 0,
             "ticks": ""
            },
            "type": "mesh3d"
           }
          ],
          "parcoords": [
           {
            "line": {
             "colorbar": {
              "outlinewidth": 0,
              "ticks": ""
             }
            },
            "type": "parcoords"
           }
          ],
          "pie": [
           {
            "automargin": true,
            "type": "pie"
           }
          ],
          "scatter": [
           {
            "fillpattern": {
             "fillmode": "overlay",
             "size": 10,
             "solidity": 0.2
            },
            "type": "scatter"
           }
          ],
          "scatter3d": [
           {
            "line": {
             "colorbar": {
              "outlinewidth": 0,
              "ticks": ""
             }
            },
            "marker": {
             "colorbar": {
              "outlinewidth": 0,
              "ticks": ""
             }
            },
            "type": "scatter3d"
           }
          ],
          "scattercarpet": [
           {
            "marker": {
             "colorbar": {
              "outlinewidth": 0,
              "ticks": ""
             }
            },
            "type": "scattercarpet"
           }
          ],
          "scattergeo": [
           {
            "marker": {
             "colorbar": {
              "outlinewidth": 0,
              "ticks": ""
             }
            },
            "type": "scattergeo"
           }
          ],
          "scattergl": [
           {
            "marker": {
             "colorbar": {
              "outlinewidth": 0,
              "ticks": ""
             }
            },
            "type": "scattergl"
           }
          ],
          "scattermapbox": [
           {
            "marker": {
             "colorbar": {
              "outlinewidth": 0,
              "ticks": ""
             }
            },
            "type": "scattermapbox"
           }
          ],
          "scatterpolar": [
           {
            "marker": {
             "colorbar": {
              "outlinewidth": 0,
              "ticks": ""
             }
            },
            "type": "scatterpolar"
           }
          ],
          "scatterpolargl": [
           {
            "marker": {
             "colorbar": {
              "outlinewidth": 0,
              "ticks": ""
             }
            },
            "type": "scatterpolargl"
           }
          ],
          "scatterternary": [
           {
            "marker": {
             "colorbar": {
              "outlinewidth": 0,
              "ticks": ""
             }
            },
            "type": "scatterternary"
           }
          ],
          "surface": [
           {
            "colorbar": {
             "outlinewidth": 0,
             "ticks": ""
            },
            "colorscale": [
             [
              0,
              "#0d0887"
             ],
             [
              0.1111111111111111,
              "#46039f"
             ],
             [
              0.2222222222222222,
              "#7201a8"
             ],
             [
              0.3333333333333333,
              "#9c179e"
             ],
             [
              0.4444444444444444,
              "#bd3786"
             ],
             [
              0.5555555555555556,
              "#d8576b"
             ],
             [
              0.6666666666666666,
              "#ed7953"
             ],
             [
              0.7777777777777778,
              "#fb9f3a"
             ],
             [
              0.8888888888888888,
              "#fdca26"
             ],
             [
              1,
              "#f0f921"
             ]
            ],
            "type": "surface"
           }
          ],
          "table": [
           {
            "cells": {
             "fill": {
              "color": "#EBF0F8"
             },
             "line": {
              "color": "white"
             }
            },
            "header": {
             "fill": {
              "color": "#C8D4E3"
             },
             "line": {
              "color": "white"
             }
            },
            "type": "table"
           }
          ]
         },
         "layout": {
          "annotationdefaults": {
           "arrowcolor": "#2a3f5f",
           "arrowhead": 0,
           "arrowwidth": 1
          },
          "autotypenumbers": "strict",
          "coloraxis": {
           "colorbar": {
            "outlinewidth": 0,
            "ticks": ""
           }
          },
          "colorscale": {
           "diverging": [
            [
             0,
             "#8e0152"
            ],
            [
             0.1,
             "#c51b7d"
            ],
            [
             0.2,
             "#de77ae"
            ],
            [
             0.3,
             "#f1b6da"
            ],
            [
             0.4,
             "#fde0ef"
            ],
            [
             0.5,
             "#f7f7f7"
            ],
            [
             0.6,
             "#e6f5d0"
            ],
            [
             0.7,
             "#b8e186"
            ],
            [
             0.8,
             "#7fbc41"
            ],
            [
             0.9,
             "#4d9221"
            ],
            [
             1,
             "#276419"
            ]
           ],
           "sequential": [
            [
             0,
             "#0d0887"
            ],
            [
             0.1111111111111111,
             "#46039f"
            ],
            [
             0.2222222222222222,
             "#7201a8"
            ],
            [
             0.3333333333333333,
             "#9c179e"
            ],
            [
             0.4444444444444444,
             "#bd3786"
            ],
            [
             0.5555555555555556,
             "#d8576b"
            ],
            [
             0.6666666666666666,
             "#ed7953"
            ],
            [
             0.7777777777777778,
             "#fb9f3a"
            ],
            [
             0.8888888888888888,
             "#fdca26"
            ],
            [
             1,
             "#f0f921"
            ]
           ],
           "sequentialminus": [
            [
             0,
             "#0d0887"
            ],
            [
             0.1111111111111111,
             "#46039f"
            ],
            [
             0.2222222222222222,
             "#7201a8"
            ],
            [
             0.3333333333333333,
             "#9c179e"
            ],
            [
             0.4444444444444444,
             "#bd3786"
            ],
            [
             0.5555555555555556,
             "#d8576b"
            ],
            [
             0.6666666666666666,
             "#ed7953"
            ],
            [
             0.7777777777777778,
             "#fb9f3a"
            ],
            [
             0.8888888888888888,
             "#fdca26"
            ],
            [
             1,
             "#f0f921"
            ]
           ]
          },
          "colorway": [
           "#636efa",
           "#EF553B",
           "#00cc96",
           "#ab63fa",
           "#FFA15A",
           "#19d3f3",
           "#FF6692",
           "#B6E880",
           "#FF97FF",
           "#FECB52"
          ],
          "font": {
           "color": "#2a3f5f"
          },
          "geo": {
           "bgcolor": "white",
           "lakecolor": "white",
           "landcolor": "white",
           "showlakes": true,
           "showland": true,
           "subunitcolor": "#C8D4E3"
          },
          "hoverlabel": {
           "align": "left"
          },
          "hovermode": "closest",
          "mapbox": {
           "style": "light"
          },
          "paper_bgcolor": "white",
          "plot_bgcolor": "white",
          "polar": {
           "angularaxis": {
            "gridcolor": "#EBF0F8",
            "linecolor": "#EBF0F8",
            "ticks": ""
           },
           "bgcolor": "white",
           "radialaxis": {
            "gridcolor": "#EBF0F8",
            "linecolor": "#EBF0F8",
            "ticks": ""
           }
          },
          "scene": {
           "xaxis": {
            "backgroundcolor": "white",
            "gridcolor": "#DFE8F3",
            "gridwidth": 2,
            "linecolor": "#EBF0F8",
            "showbackground": true,
            "ticks": "",
            "zerolinecolor": "#EBF0F8"
           },
           "yaxis": {
            "backgroundcolor": "white",
            "gridcolor": "#DFE8F3",
            "gridwidth": 2,
            "linecolor": "#EBF0F8",
            "showbackground": true,
            "ticks": "",
            "zerolinecolor": "#EBF0F8"
           },
           "zaxis": {
            "backgroundcolor": "white",
            "gridcolor": "#DFE8F3",
            "gridwidth": 2,
            "linecolor": "#EBF0F8",
            "showbackground": true,
            "ticks": "",
            "zerolinecolor": "#EBF0F8"
           }
          },
          "shapedefaults": {
           "line": {
            "color": "#2a3f5f"
           }
          },
          "ternary": {
           "aaxis": {
            "gridcolor": "#DFE8F3",
            "linecolor": "#A2B1C6",
            "ticks": ""
           },
           "baxis": {
            "gridcolor": "#DFE8F3",
            "linecolor": "#A2B1C6",
            "ticks": ""
           },
           "bgcolor": "white",
           "caxis": {
            "gridcolor": "#DFE8F3",
            "linecolor": "#A2B1C6",
            "ticks": ""
           }
          },
          "title": {
           "x": 0.05
          },
          "xaxis": {
           "automargin": true,
           "gridcolor": "#EBF0F8",
           "linecolor": "#EBF0F8",
           "ticks": "",
           "title": {
            "standoff": 15
           },
           "zerolinecolor": "#EBF0F8",
           "zerolinewidth": 2
          },
          "yaxis": {
           "automargin": true,
           "gridcolor": "#EBF0F8",
           "linecolor": "#EBF0F8",
           "ticks": "",
           "title": {
            "standoff": 15
           },
           "zerolinecolor": "#EBF0F8",
           "zerolinewidth": 2
          }
         }
        },
        "title": {
         "text": "Example Heatmap"
        },
        "width": 800,
        "xaxis": {
         "title": {
          "text": "X Axis"
         }
        },
        "yaxis": {
         "title": {
          "text": "Y Axis"
         }
        }
       }
      }
     },
     "metadata": {},
     "output_type": "display_data"
    }
   ],
   "source": [
    "def get_default_heatmap_fig() -> go.Figure:\n",
    "    \"\"\"Create a default heatmap figure with standard configuration.\n",
    "\n",
    "    Returns:\n",
    "        go.Figure: A plotly figure with default heatmap settings\n",
    "    \"\"\"\n",
    "    # General Viz Config\n",
    "    heatmap_layout = go.Layout(\n",
    "        modebar=go.layout.Modebar(\n",
    "            remove=[\n",
    "                \"zoomIn2d\",\n",
    "                \"zoomOut2d\",\n",
    "                \"autoScale2d\",\n",
    "                \"resetScale2d\",\n",
    "                \"hoverClosestCartesian\",\n",
    "                \"hoverCompareCartesian\",\n",
    "                \"toggleSpikelines\",\n",
    "            ]\n",
    "        ),\n",
    "        dragmode=False,\n",
    "        width=800,\n",
    "        height=600,\n",
    "    )\n",
    "\n",
    "    heatmap_trace = go.Heatmap(\n",
    "        colorscale=\"Viridis\",\n",
    "        textfont={\"color\": \"black\"},\n",
    "        reversescale=False,\n",
    "        showscale=True,\n",
    "        showlegend=False,\n",
    "    )\n",
    "\n",
    "    return go.Figure(data=heatmap_trace, layout=heatmap_layout)\n",
    "\n",
    "\n",
    "# Create example data\n",
    "x_labels = [\"A\", \"B\", \"C\"]  # <--- [NEW] Added example x labels\n",
    "y_labels = [\"X\", \"Y\", \"Z\"]  # <--- [NEW] Added example y labels\n",
    "z_values = [\n",
    "    [1, 2, 3],  # <--- [NEW] Added 2D array for heatmap values\n",
    "    [4, 5, 6],\n",
    "    [7, 8, 9],\n",
    "]\n",
    "\n",
    "# Create and configure figure\n",
    "fig = get_default_heatmap_fig()\n",
    "heatmap_trace: go.Heatmap = fig.data[0]\n",
    "heatmap_trace.x = x_labels  # <--- [CHANGED] Set x axis labels\n",
    "heatmap_trace.y = y_labels  # <--- [CHANGED] Set y axis labels\n",
    "heatmap_trace.z = z_values  # <--- [CHANGED] Set z values as 2D array\n",
    "\n",
    "# Update layout with titles\n",
    "fig.update_layout(  # <--- [NEW] Added titles\n",
    "    title=\"Example Heatmap\", xaxis_title=\"X Axis\", yaxis_title=\"Y Axis\"\n",
    ")\n",
    "\n",
    "fig  # Display the figure"
   ]
  },
  {
   "cell_type": "code",
   "execution_count": 41,
   "metadata": {},
   "outputs": [
    {
     "name": "stderr",
     "output_type": "stream",
     "text": [
      "\u001b[32m2024-12-13 18:55:47.752\u001b[0m | \u001b[1mINFO    \u001b[0m | \u001b[36m__main__\u001b[0m:\u001b[36mheatmap\u001b[0m:\u001b[36m41\u001b[0m - \u001b[1m['Charles Henderson', 'Melinda Trujillo', 'Sarah Blake', 'Sandra Gonzales', 'Tammy Carson', 'Paul York', 'Patricia Torres', 'Rachel Tanner', 'James Thompson', 'Micheal Lucas']\u001b[0m\n",
      "\u001b[32m2024-12-13 18:55:47.752\u001b[0m | \u001b[1mINFO    \u001b[0m | \u001b[36m__main__\u001b[0m:\u001b[36mheatmap\u001b[0m:\u001b[36m42\u001b[0m - \u001b[1mCreating heatmap visualization...\u001b[0m\n"
     ]
    },
    {
     "data": {
      "application/vnd.plotly.v1+json": {
       "config": {
        "plotlyServerURL": "https://plot.ly"
       },
       "data": [
        {
         "colorscale": [
          [
           0,
           "#440154"
          ],
          [
           0.1111111111111111,
           "#482878"
          ],
          [
           0.2222222222222222,
           "#3e4989"
          ],
          [
           0.3333333333333333,
           "#31688e"
          ],
          [
           0.4444444444444444,
           "#26828e"
          ],
          [
           0.5555555555555556,
           "#1f9e89"
          ],
          [
           0.6666666666666666,
           "#35b779"
          ],
          [
           0.7777777777777778,
           "#6ece58"
          ],
          [
           0.8888888888888888,
           "#b5de2b"
          ],
          [
           1,
           "#fde725"
          ]
         ],
         "reversescale": false,
         "showlegend": false,
         "showscale": true,
         "text": [
          [
           "0.01",
           "0.10",
           "0.57",
           "0.29",
           "0.29",
           "0.77",
           "0.99",
           "0.53",
           "0.00",
           "0.60"
          ],
          [
           "0.76",
           "0.18",
           "0.24",
           "0.21",
           "0.78",
           "0.93",
           "0.80",
           "0.38",
           "0.78",
           "0.55"
          ],
          [
           "0.41",
           "0.46",
           "0.13",
           "0.97",
           "0.82",
           "0.21",
           "0.64",
           "0.11",
           "0.10",
           "0.15"
          ],
          [
           "0.57",
           "0.32",
           "0.84",
           "0.61",
           "0.86",
           "0.96",
           "0.11",
           "0.32",
           "0.40",
           "0.37"
          ],
          [
           "0.24",
           "0.71",
           "0.18",
           "0.70",
           "0.39",
           "0.53",
           "0.66",
           "0.65",
           "0.24",
           "0.47"
          ],
          [
           "0.34",
           "0.98",
           "0.63",
           "0.33",
           "0.25",
           "0.01",
           "0.08",
           "0.81",
           "0.24",
           "0.64"
          ],
          [
           "0.95",
           "0.12",
           "0.93",
           "0.19",
           "0.89",
           "0.73",
           "0.82",
           "0.36",
           "0.29",
           "0.59"
          ],
          [
           "0.62",
           "0.86",
           "0.12",
           "0.40",
           "0.23",
           "0.36",
           "0.26",
           "0.12",
           "0.31",
           "0.99"
          ],
          [
           "0.69",
           "0.59",
           "0.80",
           "0.64",
           "0.46",
           "0.52",
           "0.05",
           "0.74",
           "0.36",
           "0.83"
          ],
          [
           "0.41",
           "0.68",
           "0.44",
           "0.16",
           "0.52",
           "0.96",
           "0.25",
           "0.19",
           "0.84",
           "0.38"
          ]
         ],
         "textfont": {
          "color": "black"
         },
         "texttemplate": "%{text}",
         "type": "heatmap",
         "x": [
          "Charles Henderson",
          "Melinda Trujillo",
          "Sarah Blake",
          "Sandra Gonzales",
          "Tammy Carson",
          "Paul York",
          "Patricia Torres",
          "Rachel Tanner",
          "James Thompson",
          "Micheal Lucas"
         ],
         "y": [
          "Charles Henderson",
          "Melinda Trujillo",
          "Sarah Blake",
          "Sandra Gonzales",
          "Tammy Carson",
          "Paul York",
          "Patricia Torres",
          "Rachel Tanner",
          "James Thompson",
          "Micheal Lucas"
         ],
         "z": [
          [
           0.01332988124137724,
           0.10155258700850078,
           0.5672629011845808,
           0.2892206846885119,
           0.287229730981448,
           0.7686950821950589,
           0.9915454694976328,
           0.5320054580970641,
           0.0025835635887759834,
           0.6014039333823012
          ],
          [
           0.7558637036604008,
           0.18135179414467484,
           0.24291871936160225,
           0.20842556954203784,
           0.784185036908595,
           0.9310849410419282,
           0.8025302111269813,
           0.3838455602223009,
           0.7811028451096586,
           0.5458051519571109
          ],
          [
           0.4097119854220458,
           0.45638901004443433,
           0.13377116028995617,
           0.9717723010056112,
           0.8235136585772058,
           0.2085229807780311,
           0.6449142168868106,
           0.1052213830494001,
           0.09516779111577822,
           0.14655900460563587
          ],
          [
           0.5703007745551871,
           0.31900611588561134,
           0.8364080330318824,
           0.6077639586108872,
           0.856144633443706,
           0.9632089187143752,
           0.11312307050045778,
           0.3247540726302097,
           0.4001096408539353,
           0.3658521489346641
          ],
          [
           0.23915892320687648,
           0.7072311005254844,
           0.17894672001100131,
           0.704386005957822,
           0.38881318359781014,
           0.5298567532960476,
           0.6564353773343607,
           0.6483246364546388,
           0.24077037380085864,
           0.4660182811441669
          ],
          [
           0.3368061274138431,
           0.9790910607268486,
           0.629095908651274,
           0.3311994676068186,
           0.2497832003922872,
           0.013156060236741207,
           0.07966734812390908,
           0.8121271317816278,
           0.23979952238850488,
           0.6422073159189602
          ],
          [
           0.9510815876120228,
           0.12084827046555624,
           0.9341940568911796,
           0.18959333336279272,
           0.8852450027520634,
           0.7286419533462265,
           0.8211061213892988,
           0.35592813714581195,
           0.28969900345177113,
           0.5916995715790265
          ],
          [
           0.6181936521313326,
           0.8598221346992201,
           0.12179486340981228,
           0.40490863418384615,
           0.225052466464701,
           0.3570262109431558,
           0.26358525305973124,
           0.11988160284746818,
           0.3053679150896612,
           0.9948969475048494
          ],
          [
           0.6921981973125715,
           0.5901298605859714,
           0.8001588802559912,
           0.6439465836952363,
           0.4640695261003014,
           0.5163498431018556,
           0.04842348932679885,
           0.7436275042485496,
           0.35720465345573693,
           0.8331755667636177
          ],
          [
           0.41271431234695766,
           0.6816887827112171,
           0.43612946652831,
           0.15543774569577362,
           0.5192094191533293,
           0.9648478423467696,
           0.24595258022377353,
           0.191206136357155,
           0.8431622002209399,
           0.3802204887894308
          ]
         ]
        }
       ],
       "layout": {
        "dragmode": false,
        "height": 600,
        "modebar": {
         "remove": [
          "zoomIn2d",
          "zoomOut2d",
          "autoScale2d",
          "resetScale2d",
          "hoverClosestCartesian",
          "hoverCompareCartesian",
          "toggleSpikelines"
         ]
        },
        "template": {
         "data": {
          "bar": [
           {
            "error_x": {
             "color": "#2a3f5f"
            },
            "error_y": {
             "color": "#2a3f5f"
            },
            "marker": {
             "line": {
              "color": "white",
              "width": 0.5
             },
             "pattern": {
              "fillmode": "overlay",
              "size": 10,
              "solidity": 0.2
             }
            },
            "type": "bar"
           }
          ],
          "barpolar": [
           {
            "marker": {
             "line": {
              "color": "white",
              "width": 0.5
             },
             "pattern": {
              "fillmode": "overlay",
              "size": 10,
              "solidity": 0.2
             }
            },
            "type": "barpolar"
           }
          ],
          "carpet": [
           {
            "aaxis": {
             "endlinecolor": "#2a3f5f",
             "gridcolor": "#C8D4E3",
             "linecolor": "#C8D4E3",
             "minorgridcolor": "#C8D4E3",
             "startlinecolor": "#2a3f5f"
            },
            "baxis": {
             "endlinecolor": "#2a3f5f",
             "gridcolor": "#C8D4E3",
             "linecolor": "#C8D4E3",
             "minorgridcolor": "#C8D4E3",
             "startlinecolor": "#2a3f5f"
            },
            "type": "carpet"
           }
          ],
          "choropleth": [
           {
            "colorbar": {
             "outlinewidth": 0,
             "ticks": ""
            },
            "type": "choropleth"
           }
          ],
          "contour": [
           {
            "colorbar": {
             "outlinewidth": 0,
             "ticks": ""
            },
            "colorscale": [
             [
              0,
              "#0d0887"
             ],
             [
              0.1111111111111111,
              "#46039f"
             ],
             [
              0.2222222222222222,
              "#7201a8"
             ],
             [
              0.3333333333333333,
              "#9c179e"
             ],
             [
              0.4444444444444444,
              "#bd3786"
             ],
             [
              0.5555555555555556,
              "#d8576b"
             ],
             [
              0.6666666666666666,
              "#ed7953"
             ],
             [
              0.7777777777777778,
              "#fb9f3a"
             ],
             [
              0.8888888888888888,
              "#fdca26"
             ],
             [
              1,
              "#f0f921"
             ]
            ],
            "type": "contour"
           }
          ],
          "contourcarpet": [
           {
            "colorbar": {
             "outlinewidth": 0,
             "ticks": ""
            },
            "type": "contourcarpet"
           }
          ],
          "heatmap": [
           {
            "colorbar": {
             "outlinewidth": 0,
             "ticks": ""
            },
            "colorscale": [
             [
              0,
              "#0d0887"
             ],
             [
              0.1111111111111111,
              "#46039f"
             ],
             [
              0.2222222222222222,
              "#7201a8"
             ],
             [
              0.3333333333333333,
              "#9c179e"
             ],
             [
              0.4444444444444444,
              "#bd3786"
             ],
             [
              0.5555555555555556,
              "#d8576b"
             ],
             [
              0.6666666666666666,
              "#ed7953"
             ],
             [
              0.7777777777777778,
              "#fb9f3a"
             ],
             [
              0.8888888888888888,
              "#fdca26"
             ],
             [
              1,
              "#f0f921"
             ]
            ],
            "type": "heatmap"
           }
          ],
          "heatmapgl": [
           {
            "colorbar": {
             "outlinewidth": 0,
             "ticks": ""
            },
            "colorscale": [
             [
              0,
              "#0d0887"
             ],
             [
              0.1111111111111111,
              "#46039f"
             ],
             [
              0.2222222222222222,
              "#7201a8"
             ],
             [
              0.3333333333333333,
              "#9c179e"
             ],
             [
              0.4444444444444444,
              "#bd3786"
             ],
             [
              0.5555555555555556,
              "#d8576b"
             ],
             [
              0.6666666666666666,
              "#ed7953"
             ],
             [
              0.7777777777777778,
              "#fb9f3a"
             ],
             [
              0.8888888888888888,
              "#fdca26"
             ],
             [
              1,
              "#f0f921"
             ]
            ],
            "type": "heatmapgl"
           }
          ],
          "histogram": [
           {
            "marker": {
             "pattern": {
              "fillmode": "overlay",
              "size": 10,
              "solidity": 0.2
             }
            },
            "type": "histogram"
           }
          ],
          "histogram2d": [
           {
            "colorbar": {
             "outlinewidth": 0,
             "ticks": ""
            },
            "colorscale": [
             [
              0,
              "#0d0887"
             ],
             [
              0.1111111111111111,
              "#46039f"
             ],
             [
              0.2222222222222222,
              "#7201a8"
             ],
             [
              0.3333333333333333,
              "#9c179e"
             ],
             [
              0.4444444444444444,
              "#bd3786"
             ],
             [
              0.5555555555555556,
              "#d8576b"
             ],
             [
              0.6666666666666666,
              "#ed7953"
             ],
             [
              0.7777777777777778,
              "#fb9f3a"
             ],
             [
              0.8888888888888888,
              "#fdca26"
             ],
             [
              1,
              "#f0f921"
             ]
            ],
            "type": "histogram2d"
           }
          ],
          "histogram2dcontour": [
           {
            "colorbar": {
             "outlinewidth": 0,
             "ticks": ""
            },
            "colorscale": [
             [
              0,
              "#0d0887"
             ],
             [
              0.1111111111111111,
              "#46039f"
             ],
             [
              0.2222222222222222,
              "#7201a8"
             ],
             [
              0.3333333333333333,
              "#9c179e"
             ],
             [
              0.4444444444444444,
              "#bd3786"
             ],
             [
              0.5555555555555556,
              "#d8576b"
             ],
             [
              0.6666666666666666,
              "#ed7953"
             ],
             [
              0.7777777777777778,
              "#fb9f3a"
             ],
             [
              0.8888888888888888,
              "#fdca26"
             ],
             [
              1,
              "#f0f921"
             ]
            ],
            "type": "histogram2dcontour"
           }
          ],
          "mesh3d": [
           {
            "colorbar": {
             "outlinewidth": 0,
             "ticks": ""
            },
            "type": "mesh3d"
           }
          ],
          "parcoords": [
           {
            "line": {
             "colorbar": {
              "outlinewidth": 0,
              "ticks": ""
             }
            },
            "type": "parcoords"
           }
          ],
          "pie": [
           {
            "automargin": true,
            "type": "pie"
           }
          ],
          "scatter": [
           {
            "fillpattern": {
             "fillmode": "overlay",
             "size": 10,
             "solidity": 0.2
            },
            "type": "scatter"
           }
          ],
          "scatter3d": [
           {
            "line": {
             "colorbar": {
              "outlinewidth": 0,
              "ticks": ""
             }
            },
            "marker": {
             "colorbar": {
              "outlinewidth": 0,
              "ticks": ""
             }
            },
            "type": "scatter3d"
           }
          ],
          "scattercarpet": [
           {
            "marker": {
             "colorbar": {
              "outlinewidth": 0,
              "ticks": ""
             }
            },
            "type": "scattercarpet"
           }
          ],
          "scattergeo": [
           {
            "marker": {
             "colorbar": {
              "outlinewidth": 0,
              "ticks": ""
             }
            },
            "type": "scattergeo"
           }
          ],
          "scattergl": [
           {
            "marker": {
             "colorbar": {
              "outlinewidth": 0,
              "ticks": ""
             }
            },
            "type": "scattergl"
           }
          ],
          "scattermapbox": [
           {
            "marker": {
             "colorbar": {
              "outlinewidth": 0,
              "ticks": ""
             }
            },
            "type": "scattermapbox"
           }
          ],
          "scatterpolar": [
           {
            "marker": {
             "colorbar": {
              "outlinewidth": 0,
              "ticks": ""
             }
            },
            "type": "scatterpolar"
           }
          ],
          "scatterpolargl": [
           {
            "marker": {
             "colorbar": {
              "outlinewidth": 0,
              "ticks": ""
             }
            },
            "type": "scatterpolargl"
           }
          ],
          "scatterternary": [
           {
            "marker": {
             "colorbar": {
              "outlinewidth": 0,
              "ticks": ""
             }
            },
            "type": "scatterternary"
           }
          ],
          "surface": [
           {
            "colorbar": {
             "outlinewidth": 0,
             "ticks": ""
            },
            "colorscale": [
             [
              0,
              "#0d0887"
             ],
             [
              0.1111111111111111,
              "#46039f"
             ],
             [
              0.2222222222222222,
              "#7201a8"
             ],
             [
              0.3333333333333333,
              "#9c179e"
             ],
             [
              0.4444444444444444,
              "#bd3786"
             ],
             [
              0.5555555555555556,
              "#d8576b"
             ],
             [
              0.6666666666666666,
              "#ed7953"
             ],
             [
              0.7777777777777778,
              "#fb9f3a"
             ],
             [
              0.8888888888888888,
              "#fdca26"
             ],
             [
              1,
              "#f0f921"
             ]
            ],
            "type": "surface"
           }
          ],
          "table": [
           {
            "cells": {
             "fill": {
              "color": "#EBF0F8"
             },
             "line": {
              "color": "white"
             }
            },
            "header": {
             "fill": {
              "color": "#C8D4E3"
             },
             "line": {
              "color": "white"
             }
            },
            "type": "table"
           }
          ]
         },
         "layout": {
          "annotationdefaults": {
           "arrowcolor": "#2a3f5f",
           "arrowhead": 0,
           "arrowwidth": 1
          },
          "autotypenumbers": "strict",
          "coloraxis": {
           "colorbar": {
            "outlinewidth": 0,
            "ticks": ""
           }
          },
          "colorscale": {
           "diverging": [
            [
             0,
             "#8e0152"
            ],
            [
             0.1,
             "#c51b7d"
            ],
            [
             0.2,
             "#de77ae"
            ],
            [
             0.3,
             "#f1b6da"
            ],
            [
             0.4,
             "#fde0ef"
            ],
            [
             0.5,
             "#f7f7f7"
            ],
            [
             0.6,
             "#e6f5d0"
            ],
            [
             0.7,
             "#b8e186"
            ],
            [
             0.8,
             "#7fbc41"
            ],
            [
             0.9,
             "#4d9221"
            ],
            [
             1,
             "#276419"
            ]
           ],
           "sequential": [
            [
             0,
             "#0d0887"
            ],
            [
             0.1111111111111111,
             "#46039f"
            ],
            [
             0.2222222222222222,
             "#7201a8"
            ],
            [
             0.3333333333333333,
             "#9c179e"
            ],
            [
             0.4444444444444444,
             "#bd3786"
            ],
            [
             0.5555555555555556,
             "#d8576b"
            ],
            [
             0.6666666666666666,
             "#ed7953"
            ],
            [
             0.7777777777777778,
             "#fb9f3a"
            ],
            [
             0.8888888888888888,
             "#fdca26"
            ],
            [
             1,
             "#f0f921"
            ]
           ],
           "sequentialminus": [
            [
             0,
             "#0d0887"
            ],
            [
             0.1111111111111111,
             "#46039f"
            ],
            [
             0.2222222222222222,
             "#7201a8"
            ],
            [
             0.3333333333333333,
             "#9c179e"
            ],
            [
             0.4444444444444444,
             "#bd3786"
            ],
            [
             0.5555555555555556,
             "#d8576b"
            ],
            [
             0.6666666666666666,
             "#ed7953"
            ],
            [
             0.7777777777777778,
             "#fb9f3a"
            ],
            [
             0.8888888888888888,
             "#fdca26"
            ],
            [
             1,
             "#f0f921"
            ]
           ]
          },
          "colorway": [
           "#636efa",
           "#EF553B",
           "#00cc96",
           "#ab63fa",
           "#FFA15A",
           "#19d3f3",
           "#FF6692",
           "#B6E880",
           "#FF97FF",
           "#FECB52"
          ],
          "font": {
           "color": "#2a3f5f"
          },
          "geo": {
           "bgcolor": "white",
           "lakecolor": "white",
           "landcolor": "white",
           "showlakes": true,
           "showland": true,
           "subunitcolor": "#C8D4E3"
          },
          "hoverlabel": {
           "align": "left"
          },
          "hovermode": "closest",
          "mapbox": {
           "style": "light"
          },
          "paper_bgcolor": "white",
          "plot_bgcolor": "white",
          "polar": {
           "angularaxis": {
            "gridcolor": "#EBF0F8",
            "linecolor": "#EBF0F8",
            "ticks": ""
           },
           "bgcolor": "white",
           "radialaxis": {
            "gridcolor": "#EBF0F8",
            "linecolor": "#EBF0F8",
            "ticks": ""
           }
          },
          "scene": {
           "xaxis": {
            "backgroundcolor": "white",
            "gridcolor": "#DFE8F3",
            "gridwidth": 2,
            "linecolor": "#EBF0F8",
            "showbackground": true,
            "ticks": "",
            "zerolinecolor": "#EBF0F8"
           },
           "yaxis": {
            "backgroundcolor": "white",
            "gridcolor": "#DFE8F3",
            "gridwidth": 2,
            "linecolor": "#EBF0F8",
            "showbackground": true,
            "ticks": "",
            "zerolinecolor": "#EBF0F8"
           },
           "zaxis": {
            "backgroundcolor": "white",
            "gridcolor": "#DFE8F3",
            "gridwidth": 2,
            "linecolor": "#EBF0F8",
            "showbackground": true,
            "ticks": "",
            "zerolinecolor": "#EBF0F8"
           }
          },
          "shapedefaults": {
           "line": {
            "color": "#2a3f5f"
           }
          },
          "ternary": {
           "aaxis": {
            "gridcolor": "#DFE8F3",
            "linecolor": "#A2B1C6",
            "ticks": ""
           },
           "baxis": {
            "gridcolor": "#DFE8F3",
            "linecolor": "#A2B1C6",
            "ticks": ""
           },
           "bgcolor": "white",
           "caxis": {
            "gridcolor": "#DFE8F3",
            "linecolor": "#A2B1C6",
            "ticks": ""
           }
          },
          "title": {
           "x": 0.05
          },
          "xaxis": {
           "automargin": true,
           "gridcolor": "#EBF0F8",
           "linecolor": "#EBF0F8",
           "ticks": "",
           "title": {
            "standoff": 15
           },
           "zerolinecolor": "#EBF0F8",
           "zerolinewidth": 2
          },
          "yaxis": {
           "automargin": true,
           "gridcolor": "#EBF0F8",
           "linecolor": "#EBF0F8",
           "ticks": "",
           "title": {
            "standoff": 15
           },
           "zerolinecolor": "#EBF0F8",
           "zerolinewidth": 2
          }
         }
        },
        "title": {
         "text": "DEFAULT TITLE"
        },
        "width": 800,
        "xaxis": {
         "fixedrange": true,
         "nticks": 10,
         "title": {}
        },
        "yaxis": {
         "fixedrange": true,
         "nticks": 10,
         "title": {}
        }
       }
      }
     },
     "metadata": {},
     "output_type": "display_data"
    }
   ],
   "source": [
    "def heatmap(\n",
    "    matrix: np.ndarray | None = None,\n",
    "    labels: list | None = None,\n",
    "    title: str = \"DEFAULT TITLE\",\n",
    "    show_values: bool = True,\n",
    "    value_format: Literal[\".2f\", \".2e\"] = \".2f\",\n",
    "    width: int = 800,\n",
    "    height: int = 600,\n",
    "    xaxis_title: str | None = None,\n",
    "    yaxis_title: str | None = None,\n",
    "    log: bool = False,\n",
    "    nan_diagnal: bool = False,\n",
    ") -> go.Figure:\n",
    "    \"\"\"Create a heatmap visualization using plotly.\n",
    "\n",
    "    Args:\n",
    "        matrix: Input matrix to visualize. If None, generates random demo data\n",
    "        labels: Labels for rows and columns. If None, generates fake names\n",
    "        title: Title of the heatmap\n",
    "        show_values: Whether to show values in cells\n",
    "        value_format: Format string for cell values\n",
    "        width: Width of the figure in pixels\n",
    "        height: Height of the figure in pixels\n",
    "        xaxis_title: Title for x-axis\n",
    "        yaxis_title: Title for y-axis\n",
    "        log: Whether to log10 transform the values\n",
    "        nan_diagnal: Whether to set diagonal to NaN\n",
    "\n",
    "    Returns:\n",
    "        go.Figure: Plotly figure object\n",
    "    \"\"\"\n",
    "    if matrix is None:\n",
    "        faker = Faker()\n",
    "        shape = (10, 10)\n",
    "        matrix = rng.random(shape)\n",
    "    else:\n",
    "        shape = matrix.shape\n",
    "\n",
    "    if labels is None:\n",
    "        labels = [faker.name() for _ in range(shape[0])]\n",
    "        logger.info(labels)\n",
    "    logger.info(\"Creating heatmap visualization...\")\n",
    "\n",
    "    # Convert input to numpy array and handle None values\n",
    "    matrix = np.array(matrix, dtype=object)\n",
    "    none_mask = matrix is None\n",
    "    matrix = matrix.astype(float)\n",
    "    if log:\n",
    "        matrix = np.log10(matrix)\n",
    "    matrix[none_mask] = np.nan\n",
    "    if nan_diagnal:\n",
    "        matrix[np.identity(matrix.shape[0], dtype=bool)] = np.nan\n",
    "\n",
    "    # Format cell values if needed\n",
    "    text_vals = None\n",
    "    if show_values:\n",
    "        text_vals = np.vectorize(\n",
    "            lambda x: \"N/A\" if np.isnan(x) else f\"{x:{value_format}}\"\n",
    "        )(matrix)\n",
    "\n",
    "    # Create figure\n",
    "    fig = get_default_heatmap_fig()\n",
    "    heatmap_trace: go.Heatmap = fig.data[0]\n",
    "    heatmap_trace.update(\n",
    "        go.Heatmap(\n",
    "            z=matrix,\n",
    "            x=labels,\n",
    "            y=labels,\n",
    "            text=text_vals,\n",
    "            texttemplate=\"%{text}\" if show_values else None,\n",
    "        ),\n",
    "        overwrite=True,\n",
    "    )\n",
    "\n",
    "    # Update layout using plotly objects\n",
    "    fig.update_layout(\n",
    "        title=title,\n",
    "        height=height,\n",
    "        width=width,\n",
    "    )\n",
    "\n",
    "    # Update axes\n",
    "    fig.update_xaxes(\n",
    "        title=xaxis_title,\n",
    "        nticks=len(labels) if labels else None,\n",
    "        fixedrange=True,  # Disable zoom/pan\n",
    "    )\n",
    "\n",
    "    fig.update_yaxes(\n",
    "        title=yaxis_title,\n",
    "        nticks=len(labels) if labels else None,\n",
    "        fixedrange=True,  # Disable zoom/pan\n",
    "    )\n",
    "\n",
    "    return fig\n",
    "\n",
    "\n",
    "heatmap()"
   ]
  },
  {
   "cell_type": "code",
   "execution_count": 53,
   "metadata": {},
   "outputs": [
    {
     "name": "stderr",
     "output_type": "stream",
     "text": [
      "\u001b[32m2024-12-13 19:44:18.596\u001b[0m | \u001b[1mINFO    \u001b[0m | \u001b[36m__main__\u001b[0m:\u001b[36mheatmap\u001b[0m:\u001b[36m42\u001b[0m - \u001b[1mCreating heatmap visualization...\u001b[0m\n",
      "\u001b[32m2024-12-13 19:44:18.603\u001b[0m | \u001b[1mINFO    \u001b[0m | \u001b[36m__main__\u001b[0m:\u001b[36mheatmap\u001b[0m:\u001b[36m42\u001b[0m - \u001b[1mCreating heatmap visualization...\u001b[0m\n",
      "\u001b[32m2024-12-13 19:44:18.609\u001b[0m | \u001b[1mINFO    \u001b[0m | \u001b[36m__main__\u001b[0m:\u001b[36mheatmap\u001b[0m:\u001b[36m42\u001b[0m - \u001b[1mCreating heatmap visualization...\u001b[0m\n",
      "\u001b[32m2024-12-13 19:44:18.615\u001b[0m | \u001b[1mINFO    \u001b[0m | \u001b[36m__main__\u001b[0m:\u001b[36mheatmap\u001b[0m:\u001b[36m42\u001b[0m - \u001b[1mCreating heatmap visualization...\u001b[0m\n",
      "\u001b[32m2024-12-13 19:44:18.621\u001b[0m | \u001b[1mINFO    \u001b[0m | \u001b[36m__main__\u001b[0m:\u001b[36mheatmap\u001b[0m:\u001b[36m42\u001b[0m - \u001b[1mCreating heatmap visualization...\u001b[0m\n",
      "\u001b[32m2024-12-13 19:44:18.626\u001b[0m | \u001b[1mINFO    \u001b[0m | \u001b[36m__main__\u001b[0m:\u001b[36mheatmap\u001b[0m:\u001b[36m42\u001b[0m - \u001b[1mCreating heatmap visualization...\u001b[0m\n"
     ]
    },
    {
     "data": {
      "application/vnd.plotly.v1+json": {
       "config": {
        "plotlyServerURL": "https://plot.ly"
       },
       "data": [
        {
         "colorscale": [
          [
           0,
           "#440154"
          ],
          [
           0.1111111111111111,
           "#482878"
          ],
          [
           0.2222222222222222,
           "#3e4989"
          ],
          [
           0.3333333333333333,
           "#31688e"
          ],
          [
           0.4444444444444444,
           "#26828e"
          ],
          [
           0.5555555555555556,
           "#1f9e89"
          ],
          [
           0.6666666666666666,
           "#35b779"
          ],
          [
           0.7777777777777778,
           "#6ece58"
          ],
          [
           0.8888888888888888,
           "#b5de2b"
          ],
          [
           1,
           "#fde725"
          ]
         ],
         "reversescale": false,
         "showlegend": false,
         "showscale": true,
         "text": [
          [
           "0.66",
           "0.08",
           "0.37",
           "0.68",
           "0.98",
           "0.50",
           "0.56",
           "0.86",
           "0.17",
           "0.66"
          ],
          [
           "0.24",
           "0.42",
           "0.60",
           "0.23",
           "0.61",
           "0.29",
           "0.25",
           "0.74",
           "0.90",
           "0.49"
          ],
          [
           "0.16",
           "0.45",
           "0.79",
           "0.17",
           "0.19",
           "0.88",
           "0.74",
           "0.68",
           "0.95",
           "0.75"
          ],
          [
           "0.18",
           "0.99",
           "0.96",
           "0.14",
           "0.65",
           "0.24",
           "0.28",
           "0.73",
           "0.01",
           "0.56"
          ],
          [
           "0.97",
           "0.65",
           "0.28",
           "1.00",
           "0.29",
           "0.27",
           "0.33",
           "0.43",
           "0.22",
           "0.05"
          ],
          [
           "0.71",
           "0.10",
           "0.51",
           "0.18",
           "0.87",
           "0.51",
           "0.56",
           "0.69",
           "0.79",
           "0.96"
          ],
          [
           "0.21",
           "0.39",
           "0.38",
           "0.37",
           "0.69",
           "0.61",
           "0.83",
           "0.78",
           "0.91",
           "0.88"
          ],
          [
           "0.87",
           "0.12",
           "0.26",
           "0.35",
           "0.06",
           "0.84",
           "0.13",
           "0.64",
           "0.28",
           "0.09"
          ],
          [
           "0.83",
           "0.64",
           "0.19",
           "0.93",
           "0.57",
           "0.57",
           "0.02",
           "0.02",
           "0.09",
           "0.39"
          ],
          [
           "0.55",
           "0.53",
           "0.82",
           "0.17",
           "0.52",
           "0.85",
           "0.05",
           "0.51",
           "0.27",
           "0.97"
          ]
         ],
         "textfont": {
          "color": "black"
         },
         "texttemplate": "%{text}",
         "type": "heatmap",
         "x": [
          "Lindsey Ellis",
          "Eric Cervantes",
          "Melanie Lyons",
          "David Estrada",
          "Linda Powers",
          "Dawn Perkins",
          "Melissa Key",
          "Dylan Gilbert",
          "Jennifer Norton",
          "Bryan Garcia"
         ],
         "y": [
          "Lindsey Ellis",
          "Eric Cervantes",
          "Melanie Lyons",
          "David Estrada",
          "Linda Powers",
          "Dawn Perkins",
          "Melissa Key",
          "Dylan Gilbert",
          "Jennifer Norton",
          "Bryan Garcia"
         ],
         "z": [
          [
           0.6600889374195796,
           0.0751044311466551,
           0.36786810525831704,
           0.6791587296463926,
           0.9773191490346808,
           0.5040688832436899,
           0.5572326373643123,
           0.8617964630106378,
           0.1731658843790569,
           0.6614379472426721
          ],
          [
           0.2383558050441862,
           0.42437667474896623,
           0.604323694136712,
           0.2285232509886964,
           0.6149064721729772,
           0.2858001933076526,
           0.25063846981739246,
           0.7352487814197843,
           0.9015563232078688,
           0.4925900535394496
          ],
          [
           0.1559605353143999,
           0.4510109682984452,
           0.7934299511686831,
           0.17132568459369912,
           0.1878706940450665,
           0.8784248383650632,
           0.7381903441973446,
           0.678774229907976,
           0.9464599040412978,
           0.7479202767522576
          ],
          [
           0.18104518883674817,
           0.9856772679988606,
           0.9576986843901109,
           0.1388018489706473,
           0.6545159381813038,
           0.23586061499821953,
           0.28178164925350924,
           0.7300115164484877,
           0.014332937893742235,
           0.5565077977649437
          ],
          [
           0.9659994523901372,
           0.6491636823805751,
           0.2793735752440587,
           0.9981984711882927,
           0.29198614722597926,
           0.2676338536265209,
           0.33244151142380163,
           0.4280564963684529,
           0.2190713273033108,
           0.05201804810416888
          ],
          [
           0.710315123548072,
           0.0958962691129227,
           0.5143889004522183,
           0.1750918955422971,
           0.8730721994861572,
           0.5094068282101025,
           0.5591771860666569,
           0.6880062295119465,
           0.7887297682074856,
           0.9569477221578648
          ],
          [
           0.20645430504142617,
           0.3873233230010188,
           0.3814415542434446,
           0.3728984833786294,
           0.6929832258143934,
           0.6145924945091513,
           0.8291296071887788,
           0.7805696096523723,
           0.9089188155483297,
           0.8805607001893325
          ],
          [
           0.8694448435782842,
           0.12015238521175142,
           0.2590595619463101,
           0.35458946395655533,
           0.059612514567416786,
           0.8374607143338403,
           0.13485911857384658,
           0.6403666443973851,
           0.28176927027709453,
           0.08663506531322074
          ],
          [
           0.8346412173156144,
           0.6429168521845219,
           0.18602440384151564,
           0.9266475658800606,
           0.566571860133643,
           0.5706876199018517,
           0.01941094525897602,
           0.023865866795175102,
           0.0894722284880265,
           0.3894335585488981
          ],
          [
           0.5531721302797132,
           0.5284457284324859,
           0.8218964759137167,
           0.16629061851800897,
           0.5181714013401479,
           0.8497638104276575,
           0.053652842451567206,
           0.5144140815185748,
           0.2650212246131839,
           0.9674956141471333
          ]
         ]
        }
       ],
       "frames": [
        {
         "data": [
          {
           "colorscale": [
            [
             0,
             "#440154"
            ],
            [
             0.1111111111111111,
             "#482878"
            ],
            [
             0.2222222222222222,
             "#3e4989"
            ],
            [
             0.3333333333333333,
             "#31688e"
            ],
            [
             0.4444444444444444,
             "#26828e"
            ],
            [
             0.5555555555555556,
             "#1f9e89"
            ],
            [
             0.6666666666666666,
             "#35b779"
            ],
            [
             0.7777777777777778,
             "#6ece58"
            ],
            [
             0.8888888888888888,
             "#b5de2b"
            ],
            [
             1,
             "#fde725"
            ]
           ],
           "reversescale": false,
           "showlegend": false,
           "showscale": true,
           "text": [
            [
             "0.66",
             "0.08",
             "0.37",
             "0.68",
             "0.98",
             "0.50",
             "0.56",
             "0.86",
             "0.17",
             "0.66"
            ],
            [
             "0.24",
             "0.42",
             "0.60",
             "0.23",
             "0.61",
             "0.29",
             "0.25",
             "0.74",
             "0.90",
             "0.49"
            ],
            [
             "0.16",
             "0.45",
             "0.79",
             "0.17",
             "0.19",
             "0.88",
             "0.74",
             "0.68",
             "0.95",
             "0.75"
            ],
            [
             "0.18",
             "0.99",
             "0.96",
             "0.14",
             "0.65",
             "0.24",
             "0.28",
             "0.73",
             "0.01",
             "0.56"
            ],
            [
             "0.97",
             "0.65",
             "0.28",
             "1.00",
             "0.29",
             "0.27",
             "0.33",
             "0.43",
             "0.22",
             "0.05"
            ],
            [
             "0.71",
             "0.10",
             "0.51",
             "0.18",
             "0.87",
             "0.51",
             "0.56",
             "0.69",
             "0.79",
             "0.96"
            ],
            [
             "0.21",
             "0.39",
             "0.38",
             "0.37",
             "0.69",
             "0.61",
             "0.83",
             "0.78",
             "0.91",
             "0.88"
            ],
            [
             "0.87",
             "0.12",
             "0.26",
             "0.35",
             "0.06",
             "0.84",
             "0.13",
             "0.64",
             "0.28",
             "0.09"
            ],
            [
             "0.83",
             "0.64",
             "0.19",
             "0.93",
             "0.57",
             "0.57",
             "0.02",
             "0.02",
             "0.09",
             "0.39"
            ],
            [
             "0.55",
             "0.53",
             "0.82",
             "0.17",
             "0.52",
             "0.85",
             "0.05",
             "0.51",
             "0.27",
             "0.97"
            ]
           ],
           "textfont": {
            "color": "black"
           },
           "texttemplate": "%{text}",
           "type": "heatmap",
           "x": [
            "Lindsey Ellis",
            "Eric Cervantes",
            "Melanie Lyons",
            "David Estrada",
            "Linda Powers",
            "Dawn Perkins",
            "Melissa Key",
            "Dylan Gilbert",
            "Jennifer Norton",
            "Bryan Garcia"
           ],
           "y": [
            "Lindsey Ellis",
            "Eric Cervantes",
            "Melanie Lyons",
            "David Estrada",
            "Linda Powers",
            "Dawn Perkins",
            "Melissa Key",
            "Dylan Gilbert",
            "Jennifer Norton",
            "Bryan Garcia"
           ],
           "z": [
            [
             0.6600889374195796,
             0.0751044311466551,
             0.36786810525831704,
             0.6791587296463926,
             0.9773191490346808,
             0.5040688832436899,
             0.5572326373643123,
             0.8617964630106378,
             0.1731658843790569,
             0.6614379472426721
            ],
            [
             0.2383558050441862,
             0.42437667474896623,
             0.604323694136712,
             0.2285232509886964,
             0.6149064721729772,
             0.2858001933076526,
             0.25063846981739246,
             0.7352487814197843,
             0.9015563232078688,
             0.4925900535394496
            ],
            [
             0.1559605353143999,
             0.4510109682984452,
             0.7934299511686831,
             0.17132568459369912,
             0.1878706940450665,
             0.8784248383650632,
             0.7381903441973446,
             0.678774229907976,
             0.9464599040412978,
             0.7479202767522576
            ],
            [
             0.18104518883674817,
             0.9856772679988606,
             0.9576986843901109,
             0.1388018489706473,
             0.6545159381813038,
             0.23586061499821953,
             0.28178164925350924,
             0.7300115164484877,
             0.014332937893742235,
             0.5565077977649437
            ],
            [
             0.9659994523901372,
             0.6491636823805751,
             0.2793735752440587,
             0.9981984711882927,
             0.29198614722597926,
             0.2676338536265209,
             0.33244151142380163,
             0.4280564963684529,
             0.2190713273033108,
             0.05201804810416888
            ],
            [
             0.710315123548072,
             0.0958962691129227,
             0.5143889004522183,
             0.1750918955422971,
             0.8730721994861572,
             0.5094068282101025,
             0.5591771860666569,
             0.6880062295119465,
             0.7887297682074856,
             0.9569477221578648
            ],
            [
             0.20645430504142617,
             0.3873233230010188,
             0.3814415542434446,
             0.3728984833786294,
             0.6929832258143934,
             0.6145924945091513,
             0.8291296071887788,
             0.7805696096523723,
             0.9089188155483297,
             0.8805607001893325
            ],
            [
             0.8694448435782842,
             0.12015238521175142,
             0.2590595619463101,
             0.35458946395655533,
             0.059612514567416786,
             0.8374607143338403,
             0.13485911857384658,
             0.6403666443973851,
             0.28176927027709453,
             0.08663506531322074
            ],
            [
             0.8346412173156144,
             0.6429168521845219,
             0.18602440384151564,
             0.9266475658800606,
             0.566571860133643,
             0.5706876199018517,
             0.01941094525897602,
             0.023865866795175102,
             0.0894722284880265,
             0.3894335585488981
            ],
            [
             0.5531721302797132,
             0.5284457284324859,
             0.8218964759137167,
             0.16629061851800897,
             0.5181714013401479,
             0.8497638104276575,
             0.053652842451567206,
             0.5144140815185748,
             0.2650212246131839,
             0.9674956141471333
            ]
           ]
          }
         ],
         "name": "frame_0"
        },
        {
         "data": [
          {
           "colorscale": [
            [
             0,
             "#440154"
            ],
            [
             0.1111111111111111,
             "#482878"
            ],
            [
             0.2222222222222222,
             "#3e4989"
            ],
            [
             0.3333333333333333,
             "#31688e"
            ],
            [
             0.4444444444444444,
             "#26828e"
            ],
            [
             0.5555555555555556,
             "#1f9e89"
            ],
            [
             0.6666666666666666,
             "#35b779"
            ],
            [
             0.7777777777777778,
             "#6ece58"
            ],
            [
             0.8888888888888888,
             "#b5de2b"
            ],
            [
             1,
             "#fde725"
            ]
           ],
           "reversescale": false,
           "showlegend": false,
           "showscale": true,
           "text": [
            [
             "0.09",
             "0.36",
             "0.15",
             "0.40",
             "0.77",
             "0.06",
             "0.41",
             "0.85",
             "0.21",
             "0.87"
            ],
            [
             "0.05",
             "0.16",
             "0.76",
             "0.21",
             "0.10",
             "0.54",
             "0.40",
             "0.27",
             "0.02",
             "0.01"
            ],
            [
             "0.34",
             "0.37",
             "0.04",
             "0.34",
             "0.93",
             "0.51",
             "0.34",
             "0.76",
             "0.73",
             "0.76"
            ],
            [
             "0.60",
             "0.03",
             "0.08",
             "0.86",
             "0.87",
             "0.40",
             "0.91",
             "0.64",
             "0.77",
             "0.46"
            ],
            [
             "0.38",
             "0.39",
             "0.33",
             "0.28",
             "0.96",
             "0.21",
             "0.41",
             "0.47",
             "0.46",
             "0.18"
            ],
            [
             "0.36",
             "0.45",
             "0.37",
             "0.10",
             "0.07",
             "0.86",
             "0.20",
             "0.35",
             "0.97",
             "0.41"
            ],
            [
             "0.30",
             "0.21",
             "0.49",
             "0.64",
             "0.58",
             "0.46",
             "0.09",
             "0.52",
             "0.21",
             "0.73"
            ],
            [
             "0.92",
             "0.87",
             "0.08",
             "0.36",
             "0.25",
             "0.03",
             "1.00",
             "0.24",
             "0.13",
             "0.65"
            ],
            [
             "0.18",
             "0.23",
             "0.07",
             "0.61",
             "0.70",
             "0.67",
             "0.29",
             "0.64",
             "0.90",
             "0.25"
            ],
            [
             "0.22",
             "0.82",
             "0.33",
             "0.91",
             "0.79",
             "0.12",
             "0.04",
             "0.79",
             "0.45",
             "0.08"
            ]
           ],
           "textfont": {
            "color": "black"
           },
           "texttemplate": "%{text}",
           "type": "heatmap",
           "x": [
            "Lindsey Ellis",
            "Eric Cervantes",
            "Melanie Lyons",
            "David Estrada",
            "Linda Powers",
            "Dawn Perkins",
            "Melissa Key",
            "Dylan Gilbert",
            "Jennifer Norton",
            "Bryan Garcia"
           ],
           "y": [
            "Lindsey Ellis",
            "Eric Cervantes",
            "Melanie Lyons",
            "David Estrada",
            "Linda Powers",
            "Dawn Perkins",
            "Melissa Key",
            "Dylan Gilbert",
            "Jennifer Norton",
            "Bryan Garcia"
           ],
           "z": [
            [
             0.09095571290731974,
             0.35732204106255416,
             0.14641916269047983,
             0.4043176791157954,
             0.7725923809289194,
             0.055849172310246775,
             0.4136086062070109,
             0.8494552613299304,
             0.20674678272954192,
             0.8666852304771645
            ],
            [
             0.05059962686301689,
             0.15628111732627847,
             0.7629453122244817,
             0.21026370858469745,
             0.10441014938991278,
             0.5434049936421377,
             0.40055899223264835,
             0.2739988565916792,
             0.02323514199599319,
             0.013366164986995166
            ],
            [
             0.3405899029524725,
             0.3732607261471399,
             0.04395135926319482,
             0.34442566201091407,
             0.9273533878080632,
             0.5113018362676968,
             0.3403671330254602,
             0.7643421520258634,
             0.7254057167417729,
             0.7597901065887915
            ],
            [
             0.6046934617260067,
             0.029941921494684443,
             0.07510436601149273,
             0.8562851693075711,
             0.8662349355532729,
             0.4028762214466638,
             0.9148021951128936,
             0.6438998010107094,
             0.7704274353595562,
             0.458007158660909
            ],
            [
             0.38421291560830695,
             0.3918567186946216,
             0.3251733965735145,
             0.28244983011570957,
             0.9587545755310852,
             0.2076100112494912,
             0.4116449988812092,
             0.4729531797678056,
             0.4585755130643756,
             0.1786664055662207
            ],
            [
             0.3640278405392714,
             0.45370099831118194,
             0.3739354469651849,
             0.09529164855428009,
             0.07222650907065575,
             0.8581839462807073,
             0.1987903869192185,
             0.34955069214332235,
             0.9699432601199492,
             0.4062323231131229
            ],
            [
             0.3044954160429536,
             0.21368577195023164,
             0.49421254946990223,
             0.6389072883656217,
             0.5751095151063086,
             0.45790156782798264,
             0.08942461987947459,
             0.5190305324924284,
             0.2079736010152683,
             0.7317394546433961
            ],
            [
             0.919753700273513,
             0.8731779048907125,
             0.08030886246600111,
             0.357714989847827,
             0.2528334644847222,
             0.02854749656673239,
             0.9987507373625644,
             0.23987137024794103,
             0.13073007194879327,
             0.6528028174651489
            ],
            [
             0.17881024272303547,
             0.23437939889929785,
             0.07076640960333791,
             0.6136153495362188,
             0.7041675039130216,
             0.6702831802220162,
             0.28688729229398535,
             0.6409749216681863,
             0.8950103245771361,
             0.24924670607361765
            ],
            [
             0.21825793477955935,
             0.8179383462960129,
             0.33062666675367436,
             0.906838100560089,
             0.7872656561273732,
             0.11680646174698972,
             0.040797339687667855,
             0.7943559832959093,
             0.4497423795306202,
             0.07821061305470656
            ]
           ]
          }
         ],
         "name": "frame_1"
        },
        {
         "data": [
          {
           "colorscale": [
            [
             0,
             "#440154"
            ],
            [
             0.1111111111111111,
             "#482878"
            ],
            [
             0.2222222222222222,
             "#3e4989"
            ],
            [
             0.3333333333333333,
             "#31688e"
            ],
            [
             0.4444444444444444,
             "#26828e"
            ],
            [
             0.5555555555555556,
             "#1f9e89"
            ],
            [
             0.6666666666666666,
             "#35b779"
            ],
            [
             0.7777777777777778,
             "#6ece58"
            ],
            [
             0.8888888888888888,
             "#b5de2b"
            ],
            [
             1,
             "#fde725"
            ]
           ],
           "reversescale": false,
           "showlegend": false,
           "showscale": true,
           "text": [
            [
             "0.88",
             "0.02",
             "0.71",
             "0.52",
             "0.51",
             "0.84",
             "0.66",
             "0.62",
             "0.87",
             "0.92"
            ],
            [
             "0.64",
             "0.91",
             "0.48",
             "0.10",
             "0.02",
             "0.04",
             "0.96",
             "0.14",
             "0.05",
             "0.97"
            ],
            [
             "0.40",
             "0.96",
             "0.63",
             "0.30",
             "0.49",
             "0.37",
             "0.95",
             "0.39",
             "0.55",
             "0.05"
            ],
            [
             "0.01",
             "0.48",
             "0.26",
             "0.39",
             "0.38",
             "0.71",
             "0.16",
             "0.96",
             "0.07",
             "0.23"
            ],
            [
             "0.14",
             "0.44",
             "0.10",
             "0.13",
             "0.39",
             "0.00",
             "0.90",
             "0.12",
             "0.30",
             "0.91"
            ],
            [
             "0.40",
             "0.46",
             "0.78",
             "0.52",
             "0.25",
             "0.75",
             "0.16",
             "0.87",
             "0.37",
             "0.45"
            ],
            [
             "0.74",
             "0.21",
             "0.78",
             "0.18",
             "0.33",
             "0.38",
             "0.05",
             "0.36",
             "0.11",
             "0.01"
            ],
            [
             "0.48",
             "0.90",
             "0.50",
             "0.82",
             "0.40",
             "0.54",
             "0.11",
             "0.60",
             "0.05",
             "0.77"
            ],
            [
             "0.72",
             "0.71",
             "0.00",
             "0.41",
             "0.30",
             "0.84",
             "0.74",
             "0.25",
             "0.65",
             "0.19"
            ],
            [
             "0.26",
             "0.17",
             "0.03",
             "0.67",
             "0.64",
             "0.55",
             "0.68",
             "0.49",
             "0.83",
             "0.82"
            ]
           ],
           "textfont": {
            "color": "black"
           },
           "texttemplate": "%{text}",
           "type": "heatmap",
           "x": [
            "Lindsey Ellis",
            "Eric Cervantes",
            "Melanie Lyons",
            "David Estrada",
            "Linda Powers",
            "Dawn Perkins",
            "Melissa Key",
            "Dylan Gilbert",
            "Jennifer Norton",
            "Bryan Garcia"
           ],
           "y": [
            "Lindsey Ellis",
            "Eric Cervantes",
            "Melanie Lyons",
            "David Estrada",
            "Linda Powers",
            "Dawn Perkins",
            "Melissa Key",
            "Dylan Gilbert",
            "Jennifer Norton",
            "Bryan Garcia"
           ],
           "z": [
            [
             0.8821709794464438,
             0.02010292758467358,
             0.7130674926726926,
             0.5236313261379469,
             0.5117703186179025,
             0.8359993376583439,
             0.6592068947542227,
             0.6210666921900899,
             0.8675820172935872,
             0.919078670362219
            ],
            [
             0.6354013815926014,
             0.9076814439518514,
             0.48125894659088186,
             0.10007363698644456,
             0.016886884864968366,
             0.036979067237080665,
             0.960540380342474,
             0.1405139017334387,
             0.05289736353125507,
             0.9712239191564336
            ],
            [
             0.4048000130256795,
             0.955803319500588,
             0.6268956634990259,
             0.3000975348112789,
             0.4947962865745018,
             0.3691066455171044,
             0.9457406796800744,
             0.3887972043284559,
             0.5508575836727929,
             0.0540216442914172
            ],
            [
             0.008997713913360794,
             0.4771926145515173,
             0.26491930279477727,
             0.3869341422758142,
             0.3756870870573362,
             0.7106079641312589,
             0.1567039874383103,
             0.9604633796895388,
             0.07274772304005106,
             0.23206178709443648
            ],
            [
             0.14107150095886023,
             0.4409228499307274,
             0.09803675515650512,
             0.1319762928714593,
             0.3941491092396199,
             0.004745809404350099,
             0.9003555930551601,
             0.12331718020469327,
             0.3026694502518116,
             0.909412664528286
            ],
            [
             0.39704410420350233,
             0.45933439238686213,
             0.7786507277073275,
             0.5175900277825838,
             0.253772255134025,
             0.7467036717914103,
             0.16223246315121764,
             0.8658253066521506,
             0.36920051583711266,
             0.450744031260486
            ],
            [
             0.7369215855165752,
             0.2124906602748945,
             0.7797675816263667,
             0.17955722838433352,
             0.33232357318733985,
             0.37530536677740134,
             0.05357876718580257,
             0.35731183066990935,
             0.10897501875774718,
             0.005422422093494084
            ],
            [
             0.4766846842040231,
             0.8957189894954767,
             0.500156928030143,
             0.816808293337779,
             0.4021882235400198,
             0.5411386131007585,
             0.10935273328562144,
             0.596903106258868,
             0.04785504092651427,
             0.7738091098911353
            ],
            [
             0.7152050784833679,
             0.713346022412789,
             0.002635884061167326,
             0.40552805237608247,
             0.29706145700111686,
             0.8363381784384578,
             0.741893066677345,
             0.24851614708203407,
             0.6486334166331976,
             0.1932057648401081
            ],
            [
             0.263801912908334,
             0.16546054174757918,
             0.030020792014707087,
             0.6670142947923644,
             0.6394980517033105,
             0.5511185107239462,
             0.6787063848027507,
             0.4897936038880193,
             0.8258976716155996,
             0.8230429803951725
            ]
           ]
          }
         ],
         "name": "frame_2"
        },
        {
         "data": [
          {
           "colorscale": [
            [
             0,
             "#440154"
            ],
            [
             0.1111111111111111,
             "#482878"
            ],
            [
             0.2222222222222222,
             "#3e4989"
            ],
            [
             0.3333333333333333,
             "#31688e"
            ],
            [
             0.4444444444444444,
             "#26828e"
            ],
            [
             0.5555555555555556,
             "#1f9e89"
            ],
            [
             0.6666666666666666,
             "#35b779"
            ],
            [
             0.7777777777777778,
             "#6ece58"
            ],
            [
             0.8888888888888888,
             "#b5de2b"
            ],
            [
             1,
             "#fde725"
            ]
           ],
           "reversescale": false,
           "showlegend": false,
           "showscale": true,
           "text": [
            [
             "0.28",
             "0.08",
             "0.58",
             "0.04",
             "0.29",
             "0.82",
             "0.04",
             "0.16",
             "0.51",
             "0.78"
            ],
            [
             "0.56",
             "0.66",
             "0.43",
             "0.55",
             "0.42",
             "0.87",
             "0.31",
             "0.11",
             "0.65",
             "0.70"
            ],
            [
             "0.07",
             "0.73",
             "0.85",
             "0.10",
             "0.49",
             "0.13",
             "0.29",
             "0.42",
             "1.00",
             "0.49"
            ],
            [
             "0.07",
             "0.73",
             "0.55",
             "0.08",
             "0.80",
             "0.49",
             "0.37",
             "0.54",
             "0.37",
             "0.82"
            ],
            [
             "0.54",
             "0.71",
             "0.65",
             "0.99",
             "0.03",
             "0.15",
             "0.63",
             "0.10",
             "0.91",
             "0.25"
            ],
            [
             "0.32",
             "0.94",
             "0.70",
             "0.02",
             "0.53",
             "0.33",
             "0.24",
             "0.03",
             "0.54",
             "0.22"
            ],
            [
             "0.80",
             "0.89",
             "0.59",
             "0.18",
             "0.41",
             "0.23",
             "0.58",
             "0.36",
             "0.28",
             "0.58"
            ],
            [
             "0.23",
             "0.33",
             "0.57",
             "0.34",
             "0.33",
             "0.07",
             "0.06",
             "0.83",
             "0.04",
             "0.35"
            ],
            [
             "0.39",
             "0.76",
             "0.40",
             "0.42",
             "0.44",
             "0.01",
             "0.68",
             "0.21",
             "0.97",
             "0.73"
            ],
            [
             "0.80",
             "0.27",
             "0.45",
             "0.57",
             "0.88",
             "0.23",
             "0.04",
             "0.48",
             "0.40",
             "0.46"
            ]
           ],
           "textfont": {
            "color": "black"
           },
           "texttemplate": "%{text}",
           "type": "heatmap",
           "x": [
            "Lindsey Ellis",
            "Eric Cervantes",
            "Melanie Lyons",
            "David Estrada",
            "Linda Powers",
            "Dawn Perkins",
            "Melissa Key",
            "Dylan Gilbert",
            "Jennifer Norton",
            "Bryan Garcia"
           ],
           "y": [
            "Lindsey Ellis",
            "Eric Cervantes",
            "Melanie Lyons",
            "David Estrada",
            "Linda Powers",
            "Dawn Perkins",
            "Melissa Key",
            "Dylan Gilbert",
            "Jennifer Norton",
            "Bryan Garcia"
           ],
           "z": [
            [
             0.2781960298840118,
             0.08379769201303067,
             0.584421303534195,
             0.035408683184944945,
             0.2943661827204883,
             0.8174149554089487,
             0.03820760954512703,
             0.1607940785379932,
             0.5050273137287139,
             0.7844410057228323
            ],
            [
             0.556980114889109,
             0.6623288028372739,
             0.4261889749260499,
             0.5454512042653997,
             0.4180830637694619,
             0.8694555283136882,
             0.30994714914219457,
             0.11274870988409512,
             0.6515467728414275,
             0.6958719928429455
            ],
            [
             0.06929375498640922,
             0.729689137533923,
             0.8547569117682087,
             0.10295408813299044,
             0.48597089858273734,
             0.13168654132543622,
             0.2861631432975176,
             0.4170242847587166,
             0.9995269948671068,
             0.4930164065472674
            ],
            [
             0.07364817208796537,
             0.7345088731409425,
             0.5512685330207598,
             0.07551573206511697,
             0.8013588491017014,
             0.48630734707457945,
             0.3708354715406472,
             0.5386493504939892,
             0.374613063837573,
             0.8181785970027068
            ],
            [
             0.538118262099535,
             0.7149539609209465,
             0.6546916827120568,
             0.9860499639870416,
             0.03210413664149869,
             0.14960549929422717,
             0.631103592486021,
             0.09593721575772685,
             0.91195503995506,
             0.24651885754542768
            ],
            [
             0.31566425247797747,
             0.935181966917874,
             0.6961297034631966,
             0.0214464813380143,
             0.5282848191561064,
             0.33442190361598934,
             0.24089302707993987,
             0.028493959483014364,
             0.535388064143224,
             0.2221251790454848
            ],
            [
             0.804842942489967,
             0.888186691986226,
             0.585189896048844,
             0.17579725088911102,
             0.4087763504747146,
             0.2289557139055892,
             0.5751511251987351,
             0.3615774413078048,
             0.2827124225070654,
             0.5847329360385145
            ],
            [
             0.2266668817938533,
             0.3277858651282394,
             0.5728830340043057,
             0.3352360657843516,
             0.32703316268510896,
             0.06546172806960093,
             0.06098308589650092,
             0.8311409832042479,
             0.04132058807826866,
             0.3533444951692686
            ],
            [
             0.3858273914819551,
             0.7574922414494,
             0.39946366675164113,
             0.4229385662354555,
             0.4438250928133223,
             0.00668918425099474,
             0.6802441460846794,
             0.21463374042183092,
             0.9726835491330814,
             0.7257547907277258
            ],
            [
             0.7967433350611515,
             0.2741052932584518,
             0.446304839606002,
             0.5654687919671438,
             0.8763826406814974,
             0.22938364871155015,
             0.04462162495959188,
             0.48335959129982187,
             0.4041991182651785,
             0.4587112125440592
            ]
           ]
          }
         ],
         "name": "frame_3"
        },
        {
         "data": [
          {
           "colorscale": [
            [
             0,
             "#440154"
            ],
            [
             0.1111111111111111,
             "#482878"
            ],
            [
             0.2222222222222222,
             "#3e4989"
            ],
            [
             0.3333333333333333,
             "#31688e"
            ],
            [
             0.4444444444444444,
             "#26828e"
            ],
            [
             0.5555555555555556,
             "#1f9e89"
            ],
            [
             0.6666666666666666,
             "#35b779"
            ],
            [
             0.7777777777777778,
             "#6ece58"
            ],
            [
             0.8888888888888888,
             "#b5de2b"
            ],
            [
             1,
             "#fde725"
            ]
           ],
           "reversescale": false,
           "showlegend": false,
           "showscale": true,
           "text": [
            [
             "0.87",
             "0.06",
             "0.67",
             "0.43",
             "0.60",
             "0.85",
             "0.30",
             "0.09",
             "0.40",
             "0.45"
            ],
            [
             "0.70",
             "0.81",
             "0.13",
             "0.08",
             "0.97",
             "1.00",
             "0.26",
             "0.08",
             "0.64",
             "0.74"
            ],
            [
             "0.45",
             "0.23",
             "0.18",
             "0.68",
             "0.35",
             "0.11",
             "0.18",
             "0.91",
             "0.46",
             "0.78"
            ],
            [
             "0.85",
             "0.32",
             "0.76",
             "0.79",
             "0.75",
             "0.40",
             "0.98",
             "0.59",
             "0.85",
             "0.52"
            ],
            [
             "0.32",
             "0.38",
             "0.28",
             "0.77",
             "0.97",
             "0.03",
             "0.29",
             "0.29",
             "0.14",
             "0.75"
            ],
            [
             "0.06",
             "0.14",
             "0.56",
             "0.94",
             "0.60",
             "0.85",
             "0.69",
             "0.90",
             "0.81",
             "0.75"
            ],
            [
             "0.16",
             "0.62",
             "0.74",
             "0.78",
             "0.83",
             "0.52",
             "0.31",
             "0.35",
             "0.64",
             "0.53"
            ],
            [
             "0.65",
             "0.93",
             "0.98",
             "0.83",
             "0.71",
             "0.43",
             "0.82",
             "0.36",
             "0.65",
             "0.91"
            ],
            [
             "0.58",
             "0.38",
             "0.18",
             "0.69",
             "0.44",
             "0.14",
             "0.39",
             "0.86",
             "0.92",
             "0.91"
            ],
            [
             "0.01",
             "0.35",
             "0.30",
             "0.71",
             "0.19",
             "0.21",
             "0.87",
             "0.48",
             "0.79",
             "0.67"
            ]
           ],
           "textfont": {
            "color": "black"
           },
           "texttemplate": "%{text}",
           "type": "heatmap",
           "x": [
            "Lindsey Ellis",
            "Eric Cervantes",
            "Melanie Lyons",
            "David Estrada",
            "Linda Powers",
            "Dawn Perkins",
            "Melissa Key",
            "Dylan Gilbert",
            "Jennifer Norton",
            "Bryan Garcia"
           ],
           "y": [
            "Lindsey Ellis",
            "Eric Cervantes",
            "Melanie Lyons",
            "David Estrada",
            "Linda Powers",
            "Dawn Perkins",
            "Melissa Key",
            "Dylan Gilbert",
            "Jennifer Norton",
            "Bryan Garcia"
           ],
           "z": [
            [
             0.8653340011930313,
             0.06010652105530934,
             0.6652709149571963,
             0.4282616988510186,
             0.5954107418552672,
             0.8489180838022713,
             0.298885610314664,
             0.09485677706753326,
             0.3961295854154111,
             0.4484057558488602
            ],
            [
             0.7045267490885347,
             0.8085640363667747,
             0.12706855605752154,
             0.0836652402715038,
             0.9653176853894472,
             0.9973424618043296,
             0.2600916635099565,
             0.07523191679100794,
             0.6394249383036659,
             0.7426377654761159
            ],
            [
             0.45176210499586866,
             0.22787562632568803,
             0.18411746848968336,
             0.6791423087304331,
             0.3453971351059565,
             0.1130501567143528,
             0.1800963578263851,
             0.9139495773774476,
             0.4621537309874848,
             0.7803767570725306
            ],
            [
             0.8456985979696694,
             0.31957053127416335,
             0.7586438081851259,
             0.7899101850874954,
             0.74988854342137,
             0.3992761452925301,
             0.9784953933011642,
             0.5918182579597675,
             0.8459639958105527,
             0.5201339490782474
            ],
            [
             0.32494741882936873,
             0.3834837076827776,
             0.2754973323722748,
             0.7716473991382109,
             0.9717081678667676,
             0.03255837023153707,
             0.2884767373298598,
             0.2933452584862061,
             0.14087130639821577,
             0.7470887402279593
            ],
            [
             0.06216684857306354,
             0.14437038945134695,
             0.5568587983873883,
             0.9408583226287662,
             0.6024453853403258,
             0.8519052827803885,
             0.6882397242168247,
             0.9020075116177924,
             0.8108808191559405,
             0.753499158601202
            ],
            [
             0.164027470944468,
             0.6182769718332592,
             0.7449209184904607,
             0.7823453337025674,
             0.8277333290527421,
             0.520963480191744,
             0.31384898236174363,
             0.34554602869358697,
             0.6369761838315373,
             0.5253395135331705
            ],
            [
             0.6478317482486725,
             0.9297155602265031,
             0.9786063550802848,
             0.8272388397667,
             0.712212428574076,
             0.430472474180043,
             0.8205461403126895,
             0.35681321308745073,
             0.6484547839621865,
             0.9072313485003184
            ],
            [
             0.5821149591946693,
             0.37838289990348184,
             0.18179266004485073,
             0.6919760357200142,
             0.44365753765971894,
             0.1417996372430652,
             0.39447250862462224,
             0.8596281120602697,
             0.921543417889451,
             0.9149300616909491
            ],
            [
             0.011320381727086049,
             0.3477141421549951,
             0.2968520107302429,
             0.7125473610641626,
             0.18630989680364415,
             0.21070189463915423,
             0.8744414589874975,
             0.4840010943573918,
             0.7854537501757926,
             0.6718849519889607
            ]
           ]
          }
         ],
         "name": "frame_4"
        }
       ],
       "layout": {
        "dragmode": false,
        "height": 600,
        "sliders": [
         {
          "active": 0,
          "currentvalue": {
           "font": {
            "size": 20
           },
           "prefix": "Frame: ",
           "visible": true,
           "xanchor": "right"
          },
          "len": 0.9,
          "pad": {
           "b": 10,
           "t": 50
          },
          "steps": [
           {
            "args": [
             [
              "frame_0"
             ],
             {
              "frame": {
               "duration": 500,
               "redraw": true
              },
              "mode": "immediate",
              "transition": {
               "duration": 500
              }
             }
            ],
            "label": "0",
            "method": "animate"
           },
           {
            "args": [
             [
              "frame_1"
             ],
             {
              "frame": {
               "duration": 500,
               "redraw": true
              },
              "mode": "immediate",
              "transition": {
               "duration": 500
              }
             }
            ],
            "label": "1",
            "method": "animate"
           },
           {
            "args": [
             [
              "frame_2"
             ],
             {
              "frame": {
               "duration": 500,
               "redraw": true
              },
              "mode": "immediate",
              "transition": {
               "duration": 500
              }
             }
            ],
            "label": "2",
            "method": "animate"
           },
           {
            "args": [
             [
              "frame_3"
             ],
             {
              "frame": {
               "duration": 500,
               "redraw": true
              },
              "mode": "immediate",
              "transition": {
               "duration": 500
              }
             }
            ],
            "label": "3",
            "method": "animate"
           },
           {
            "args": [
             [
              "frame_4"
             ],
             {
              "frame": {
               "duration": 500,
               "redraw": true
              },
              "mode": "immediate",
              "transition": {
               "duration": 500
              }
             }
            ],
            "label": "4",
            "method": "animate"
           }
          ],
          "transition": {
           "duration": 500,
           "easing": "cubic-in-out"
          },
          "x": 0.1,
          "xanchor": "left",
          "y": 1.1,
          "yanchor": "bottom"
         }
        ],
        "template": {
         "data": {
          "bar": [
           {
            "error_x": {
             "color": "#2a3f5f"
            },
            "error_y": {
             "color": "#2a3f5f"
            },
            "marker": {
             "line": {
              "color": "white",
              "width": 0.5
             },
             "pattern": {
              "fillmode": "overlay",
              "size": 10,
              "solidity": 0.2
             }
            },
            "type": "bar"
           }
          ],
          "barpolar": [
           {
            "marker": {
             "line": {
              "color": "white",
              "width": 0.5
             },
             "pattern": {
              "fillmode": "overlay",
              "size": 10,
              "solidity": 0.2
             }
            },
            "type": "barpolar"
           }
          ],
          "carpet": [
           {
            "aaxis": {
             "endlinecolor": "#2a3f5f",
             "gridcolor": "#C8D4E3",
             "linecolor": "#C8D4E3",
             "minorgridcolor": "#C8D4E3",
             "startlinecolor": "#2a3f5f"
            },
            "baxis": {
             "endlinecolor": "#2a3f5f",
             "gridcolor": "#C8D4E3",
             "linecolor": "#C8D4E3",
             "minorgridcolor": "#C8D4E3",
             "startlinecolor": "#2a3f5f"
            },
            "type": "carpet"
           }
          ],
          "choropleth": [
           {
            "colorbar": {
             "outlinewidth": 0,
             "ticks": ""
            },
            "type": "choropleth"
           }
          ],
          "contour": [
           {
            "colorbar": {
             "outlinewidth": 0,
             "ticks": ""
            },
            "colorscale": [
             [
              0,
              "#0d0887"
             ],
             [
              0.1111111111111111,
              "#46039f"
             ],
             [
              0.2222222222222222,
              "#7201a8"
             ],
             [
              0.3333333333333333,
              "#9c179e"
             ],
             [
              0.4444444444444444,
              "#bd3786"
             ],
             [
              0.5555555555555556,
              "#d8576b"
             ],
             [
              0.6666666666666666,
              "#ed7953"
             ],
             [
              0.7777777777777778,
              "#fb9f3a"
             ],
             [
              0.8888888888888888,
              "#fdca26"
             ],
             [
              1,
              "#f0f921"
             ]
            ],
            "type": "contour"
           }
          ],
          "contourcarpet": [
           {
            "colorbar": {
             "outlinewidth": 0,
             "ticks": ""
            },
            "type": "contourcarpet"
           }
          ],
          "heatmap": [
           {
            "colorbar": {
             "outlinewidth": 0,
             "ticks": ""
            },
            "colorscale": [
             [
              0,
              "#0d0887"
             ],
             [
              0.1111111111111111,
              "#46039f"
             ],
             [
              0.2222222222222222,
              "#7201a8"
             ],
             [
              0.3333333333333333,
              "#9c179e"
             ],
             [
              0.4444444444444444,
              "#bd3786"
             ],
             [
              0.5555555555555556,
              "#d8576b"
             ],
             [
              0.6666666666666666,
              "#ed7953"
             ],
             [
              0.7777777777777778,
              "#fb9f3a"
             ],
             [
              0.8888888888888888,
              "#fdca26"
             ],
             [
              1,
              "#f0f921"
             ]
            ],
            "type": "heatmap"
           }
          ],
          "heatmapgl": [
           {
            "colorbar": {
             "outlinewidth": 0,
             "ticks": ""
            },
            "colorscale": [
             [
              0,
              "#0d0887"
             ],
             [
              0.1111111111111111,
              "#46039f"
             ],
             [
              0.2222222222222222,
              "#7201a8"
             ],
             [
              0.3333333333333333,
              "#9c179e"
             ],
             [
              0.4444444444444444,
              "#bd3786"
             ],
             [
              0.5555555555555556,
              "#d8576b"
             ],
             [
              0.6666666666666666,
              "#ed7953"
             ],
             [
              0.7777777777777778,
              "#fb9f3a"
             ],
             [
              0.8888888888888888,
              "#fdca26"
             ],
             [
              1,
              "#f0f921"
             ]
            ],
            "type": "heatmapgl"
           }
          ],
          "histogram": [
           {
            "marker": {
             "pattern": {
              "fillmode": "overlay",
              "size": 10,
              "solidity": 0.2
             }
            },
            "type": "histogram"
           }
          ],
          "histogram2d": [
           {
            "colorbar": {
             "outlinewidth": 0,
             "ticks": ""
            },
            "colorscale": [
             [
              0,
              "#0d0887"
             ],
             [
              0.1111111111111111,
              "#46039f"
             ],
             [
              0.2222222222222222,
              "#7201a8"
             ],
             [
              0.3333333333333333,
              "#9c179e"
             ],
             [
              0.4444444444444444,
              "#bd3786"
             ],
             [
              0.5555555555555556,
              "#d8576b"
             ],
             [
              0.6666666666666666,
              "#ed7953"
             ],
             [
              0.7777777777777778,
              "#fb9f3a"
             ],
             [
              0.8888888888888888,
              "#fdca26"
             ],
             [
              1,
              "#f0f921"
             ]
            ],
            "type": "histogram2d"
           }
          ],
          "histogram2dcontour": [
           {
            "colorbar": {
             "outlinewidth": 0,
             "ticks": ""
            },
            "colorscale": [
             [
              0,
              "#0d0887"
             ],
             [
              0.1111111111111111,
              "#46039f"
             ],
             [
              0.2222222222222222,
              "#7201a8"
             ],
             [
              0.3333333333333333,
              "#9c179e"
             ],
             [
              0.4444444444444444,
              "#bd3786"
             ],
             [
              0.5555555555555556,
              "#d8576b"
             ],
             [
              0.6666666666666666,
              "#ed7953"
             ],
             [
              0.7777777777777778,
              "#fb9f3a"
             ],
             [
              0.8888888888888888,
              "#fdca26"
             ],
             [
              1,
              "#f0f921"
             ]
            ],
            "type": "histogram2dcontour"
           }
          ],
          "mesh3d": [
           {
            "colorbar": {
             "outlinewidth": 0,
             "ticks": ""
            },
            "type": "mesh3d"
           }
          ],
          "parcoords": [
           {
            "line": {
             "colorbar": {
              "outlinewidth": 0,
              "ticks": ""
             }
            },
            "type": "parcoords"
           }
          ],
          "pie": [
           {
            "automargin": true,
            "type": "pie"
           }
          ],
          "scatter": [
           {
            "fillpattern": {
             "fillmode": "overlay",
             "size": 10,
             "solidity": 0.2
            },
            "type": "scatter"
           }
          ],
          "scatter3d": [
           {
            "line": {
             "colorbar": {
              "outlinewidth": 0,
              "ticks": ""
             }
            },
            "marker": {
             "colorbar": {
              "outlinewidth": 0,
              "ticks": ""
             }
            },
            "type": "scatter3d"
           }
          ],
          "scattercarpet": [
           {
            "marker": {
             "colorbar": {
              "outlinewidth": 0,
              "ticks": ""
             }
            },
            "type": "scattercarpet"
           }
          ],
          "scattergeo": [
           {
            "marker": {
             "colorbar": {
              "outlinewidth": 0,
              "ticks": ""
             }
            },
            "type": "scattergeo"
           }
          ],
          "scattergl": [
           {
            "marker": {
             "colorbar": {
              "outlinewidth": 0,
              "ticks": ""
             }
            },
            "type": "scattergl"
           }
          ],
          "scattermapbox": [
           {
            "marker": {
             "colorbar": {
              "outlinewidth": 0,
              "ticks": ""
             }
            },
            "type": "scattermapbox"
           }
          ],
          "scatterpolar": [
           {
            "marker": {
             "colorbar": {
              "outlinewidth": 0,
              "ticks": ""
             }
            },
            "type": "scatterpolar"
           }
          ],
          "scatterpolargl": [
           {
            "marker": {
             "colorbar": {
              "outlinewidth": 0,
              "ticks": ""
             }
            },
            "type": "scatterpolargl"
           }
          ],
          "scatterternary": [
           {
            "marker": {
             "colorbar": {
              "outlinewidth": 0,
              "ticks": ""
             }
            },
            "type": "scatterternary"
           }
          ],
          "surface": [
           {
            "colorbar": {
             "outlinewidth": 0,
             "ticks": ""
            },
            "colorscale": [
             [
              0,
              "#0d0887"
             ],
             [
              0.1111111111111111,
              "#46039f"
             ],
             [
              0.2222222222222222,
              "#7201a8"
             ],
             [
              0.3333333333333333,
              "#9c179e"
             ],
             [
              0.4444444444444444,
              "#bd3786"
             ],
             [
              0.5555555555555556,
              "#d8576b"
             ],
             [
              0.6666666666666666,
              "#ed7953"
             ],
             [
              0.7777777777777778,
              "#fb9f3a"
             ],
             [
              0.8888888888888888,
              "#fdca26"
             ],
             [
              1,
              "#f0f921"
             ]
            ],
            "type": "surface"
           }
          ],
          "table": [
           {
            "cells": {
             "fill": {
              "color": "#EBF0F8"
             },
             "line": {
              "color": "white"
             }
            },
            "header": {
             "fill": {
              "color": "#C8D4E3"
             },
             "line": {
              "color": "white"
             }
            },
            "type": "table"
           }
          ]
         },
         "layout": {
          "annotationdefaults": {
           "arrowcolor": "#2a3f5f",
           "arrowhead": 0,
           "arrowwidth": 1
          },
          "autotypenumbers": "strict",
          "coloraxis": {
           "colorbar": {
            "outlinewidth": 0,
            "ticks": ""
           }
          },
          "colorscale": {
           "diverging": [
            [
             0,
             "#8e0152"
            ],
            [
             0.1,
             "#c51b7d"
            ],
            [
             0.2,
             "#de77ae"
            ],
            [
             0.3,
             "#f1b6da"
            ],
            [
             0.4,
             "#fde0ef"
            ],
            [
             0.5,
             "#f7f7f7"
            ],
            [
             0.6,
             "#e6f5d0"
            ],
            [
             0.7,
             "#b8e186"
            ],
            [
             0.8,
             "#7fbc41"
            ],
            [
             0.9,
             "#4d9221"
            ],
            [
             1,
             "#276419"
            ]
           ],
           "sequential": [
            [
             0,
             "#0d0887"
            ],
            [
             0.1111111111111111,
             "#46039f"
            ],
            [
             0.2222222222222222,
             "#7201a8"
            ],
            [
             0.3333333333333333,
             "#9c179e"
            ],
            [
             0.4444444444444444,
             "#bd3786"
            ],
            [
             0.5555555555555556,
             "#d8576b"
            ],
            [
             0.6666666666666666,
             "#ed7953"
            ],
            [
             0.7777777777777778,
             "#fb9f3a"
            ],
            [
             0.8888888888888888,
             "#fdca26"
            ],
            [
             1,
             "#f0f921"
            ]
           ],
           "sequentialminus": [
            [
             0,
             "#0d0887"
            ],
            [
             0.1111111111111111,
             "#46039f"
            ],
            [
             0.2222222222222222,
             "#7201a8"
            ],
            [
             0.3333333333333333,
             "#9c179e"
            ],
            [
             0.4444444444444444,
             "#bd3786"
            ],
            [
             0.5555555555555556,
             "#d8576b"
            ],
            [
             0.6666666666666666,
             "#ed7953"
            ],
            [
             0.7777777777777778,
             "#fb9f3a"
            ],
            [
             0.8888888888888888,
             "#fdca26"
            ],
            [
             1,
             "#f0f921"
            ]
           ]
          },
          "colorway": [
           "#636efa",
           "#EF553B",
           "#00cc96",
           "#ab63fa",
           "#FFA15A",
           "#19d3f3",
           "#FF6692",
           "#B6E880",
           "#FF97FF",
           "#FECB52"
          ],
          "font": {
           "color": "#2a3f5f"
          },
          "geo": {
           "bgcolor": "white",
           "lakecolor": "white",
           "landcolor": "white",
           "showlakes": true,
           "showland": true,
           "subunitcolor": "#C8D4E3"
          },
          "hoverlabel": {
           "align": "left"
          },
          "hovermode": "closest",
          "mapbox": {
           "style": "light"
          },
          "paper_bgcolor": "white",
          "plot_bgcolor": "white",
          "polar": {
           "angularaxis": {
            "gridcolor": "#EBF0F8",
            "linecolor": "#EBF0F8",
            "ticks": ""
           },
           "bgcolor": "white",
           "radialaxis": {
            "gridcolor": "#EBF0F8",
            "linecolor": "#EBF0F8",
            "ticks": ""
           }
          },
          "scene": {
           "xaxis": {
            "backgroundcolor": "white",
            "gridcolor": "#DFE8F3",
            "gridwidth": 2,
            "linecolor": "#EBF0F8",
            "showbackground": true,
            "ticks": "",
            "zerolinecolor": "#EBF0F8"
           },
           "yaxis": {
            "backgroundcolor": "white",
            "gridcolor": "#DFE8F3",
            "gridwidth": 2,
            "linecolor": "#EBF0F8",
            "showbackground": true,
            "ticks": "",
            "zerolinecolor": "#EBF0F8"
           },
           "zaxis": {
            "backgroundcolor": "white",
            "gridcolor": "#DFE8F3",
            "gridwidth": 2,
            "linecolor": "#EBF0F8",
            "showbackground": true,
            "ticks": "",
            "zerolinecolor": "#EBF0F8"
           }
          },
          "shapedefaults": {
           "line": {
            "color": "#2a3f5f"
           }
          },
          "ternary": {
           "aaxis": {
            "gridcolor": "#DFE8F3",
            "linecolor": "#A2B1C6",
            "ticks": ""
           },
           "baxis": {
            "gridcolor": "#DFE8F3",
            "linecolor": "#A2B1C6",
            "ticks": ""
           },
           "bgcolor": "white",
           "caxis": {
            "gridcolor": "#DFE8F3",
            "linecolor": "#A2B1C6",
            "ticks": ""
           }
          },
          "title": {
           "x": 0.05
          },
          "xaxis": {
           "automargin": true,
           "gridcolor": "#EBF0F8",
           "linecolor": "#EBF0F8",
           "ticks": "",
           "title": {
            "standoff": 15
           },
           "zerolinecolor": "#EBF0F8",
           "zerolinewidth": 2
          },
          "yaxis": {
           "automargin": true,
           "gridcolor": "#EBF0F8",
           "linecolor": "#EBF0F8",
           "ticks": "",
           "title": {
            "standoff": 15
           },
           "zerolinecolor": "#EBF0F8",
           "zerolinewidth": 2
          }
         }
        },
        "title": {
         "text": "DEFAULT TITLE"
        },
        "updatemenus": [
         {
          "direction": "left",
          "pad": {
           "r": 10,
           "t": 87
          },
          "showactive": false,
          "type": "buttons",
          "x": 0.1,
          "xanchor": "right",
          "y": 1.1,
          "yanchor": "bottom"
         }
        ],
        "width": 800,
        "xaxis": {
         "fixedrange": true,
         "nticks": 10
        },
        "yaxis": {
         "fixedrange": true,
         "nticks": 10
        }
       }
      }
     },
     "metadata": {},
     "output_type": "display_data"
    }
   ],
   "source": [
    "def animated_heatmap(\n",
    "    matrices: np.ndarray | None = None,\n",
    "    labels: list | None = None,\n",
    "    title: str = \"DEFAULT TITLE\",\n",
    "    show_values: bool = True,\n",
    "    value_format: Literal[\".2f\", \".2e\"] = \".2f\",\n",
    "    width: int = 800,\n",
    "    height: int = 600,\n",
    "    xaxis_title: str | None = None,\n",
    "    yaxis_title: str | None = None,\n",
    "    log: bool = False,\n",
    "    nan_diagnal: bool = False,\n",
    "    frame_duration: int = 500,\n",
    "    slider_labels: list[str] | None = None,\n",
    "    slider_prefix: str = \"Frame: \",\n",
    "):\n",
    "    # Generate demo data if matrices is None\n",
    "    if matrices is None:\n",
    "        faker = Faker()\n",
    "        shape = (5, 10, 10)  # (time, rows, cols)\n",
    "        matrices = rng.random(shape)\n",
    "        # logger.info(matrices)\n",
    "    elif matrices.ndim != 3:\n",
    "        raise ValueError(\"Expected 3D array (time, rows, cols)\")\n",
    "\n",
    "    n_frames, n_rows, n_cols = matrices.shape\n",
    "\n",
    "    if labels is None:\n",
    "        faker = Faker()\n",
    "        labels = [faker.name() for _ in range(n_rows)]\n",
    "    col_labels = labels\n",
    "    row_labels = labels\n",
    "\n",
    "    # Process all matrices\n",
    "    processed_matrices = []\n",
    "    for matrix in matrices:\n",
    "        # Convert and process each time slice\n",
    "        matrix = np.array(matrix, dtype=object)\n",
    "        none_mask = matrix is None\n",
    "        matrix = matrix.astype(float)\n",
    "        if log:\n",
    "            matrix = np.log10(matrix)\n",
    "        matrix[none_mask] = np.nan\n",
    "        if nan_diagnal:\n",
    "            matrix[np.identity(matrix.shape[0], dtype=bool)] = np.nan\n",
    "        processed_matrices.append(matrix)\n",
    "\n",
    "        # Update the sliders configuration with custom labels\n",
    "    if slider_labels is not None:\n",
    "        if len(slider_labels) != n_frames:\n",
    "            raise ValueError(\n",
    "                f\"Expected {n_frames} slider labels, got {len(slider_labels)}\"\n",
    "            )\n",
    "        frame_labels = slider_labels\n",
    "    else:\n",
    "        frame_labels = [str(k) for k in range(n_frames)]\n",
    "\n",
    "    layout_sliders = [\n",
    "        go.layout.Slider(\n",
    "            active=0,\n",
    "            yanchor=\"bottom\",\n",
    "            xanchor=\"left\",\n",
    "            currentvalue=go.layout.slider.Currentvalue(\n",
    "                font=dict(size=20), prefix=slider_prefix, visible=True, xanchor=\"right\"\n",
    "            ),\n",
    "            transition=go.layout.slider.Transition(\n",
    "                duration=frame_duration, easing=\"cubic-in-out\"\n",
    "            ),\n",
    "            pad=dict(b=10, t=50),\n",
    "            len=0.9,\n",
    "            x=0.1,\n",
    "            y=1.1,\n",
    "            steps=[\n",
    "                go.layout.slider.Step(\n",
    "                    args=[\n",
    "                        [f\"frame_{k}\"],\n",
    "                        {\n",
    "                            \"frame\": {\"duration\": frame_duration, \"redraw\": True},\n",
    "                            \"mode\": \"immediate\",\n",
    "                            \"transition\": {\"duration\": frame_duration},\n",
    "                        },\n",
    "                    ],\n",
    "                    label=label,\n",
    "                    method=\"animate\",\n",
    "                )\n",
    "                for k, label in enumerate(frame_labels)\n",
    "            ],\n",
    "        )\n",
    "    ]\n",
    "\n",
    "    # Create frames for animation\n",
    "    frames = [\n",
    "        go.Frame(\n",
    "            data=[heatmap(matrix, row_labels, show_values=show_values).data[0]],\n",
    "            name=f\"frame_{i}\",  # name is required for frames\n",
    "        )\n",
    "        for i, matrix in enumerate(processed_matrices)\n",
    "    ]\n",
    "\n",
    "    # Create the figure with the initial frame\n",
    "    fig = go.Figure(\n",
    "        data=[\n",
    "            heatmap(processed_matrices[0], row_labels, show_values=show_values).data[0]\n",
    "        ],\n",
    "        frames=frames,\n",
    "        layout=go.Layout(\n",
    "            title=title,\n",
    "            width=width,\n",
    "            height=height,\n",
    "            xaxis=go.layout.XAxis(\n",
    "                title=xaxis_title,\n",
    "                nticks=len(col_labels) if col_labels else None,\n",
    "                fixedrange=True,\n",
    "            ),\n",
    "            yaxis=go.layout.YAxis(\n",
    "                title=yaxis_title,\n",
    "                nticks=len(row_labels) if row_labels else None,\n",
    "                fixedrange=True,\n",
    "            ),\n",
    "            dragmode=False,\n",
    "            updatemenus=[\n",
    "                go.layout.Updatemenu(\n",
    "                    buttons=[\n",
    "                        # go.layout.updatemenu.Button(\n",
    "                        #     args=[\n",
    "                        #         None,\n",
    "                        #         {\n",
    "                        #             \"frame\": {\"duration\": frame_duration, \"redraw\": True},\n",
    "                        #             \"fromcurrent\": True,\n",
    "                        #         },\n",
    "                        #     ],\n",
    "                        #     label=\"Play\",\n",
    "                        #     method=\"animate\",\n",
    "                        # ),\n",
    "                        # go.layout.updatemenu.Button(\n",
    "                        #     args=[\n",
    "                        #         [None],\n",
    "                        #         {\n",
    "                        #             \"frame\": {\"duration\": 0, \"redraw\": True},\n",
    "                        #             \"mode\": \"immediate\",\n",
    "                        #             \"transition\": {\"duration\": 0},\n",
    "                        #         },\n",
    "                        #     ],\n",
    "                        #     label=\"Pause\",\n",
    "                        #     method=\"animate\",\n",
    "                        # ),\n",
    "                    ],\n",
    "                    direction=\"left\",\n",
    "                    pad={\"r\": 10, \"t\": 87},\n",
    "                    showactive=False,\n",
    "                    type=\"buttons\",\n",
    "                    x=0.1,\n",
    "                    xanchor=\"right\",\n",
    "                    y=1.1,\n",
    "                    yanchor=\"bottom\",\n",
    "                )\n",
    "            ],\n",
    "        ),\n",
    "    )\n",
    "\n",
    "    # Update the layout dictionary to include the new sliders\n",
    "    fig.update_layout(sliders=layout_sliders)\n",
    "\n",
    "    return fig\n",
    "\n",
    "\n",
    "animated_heatmap()"
   ]
  },
  {
   "cell_type": "markdown",
   "metadata": {},
   "source": [
    "## Import Data\n"
   ]
  },
  {
   "cell_type": "code",
   "execution_count": 5,
   "metadata": {},
   "outputs": [
    {
     "ename": "AttributeError",
     "evalue": "'Series' object has no attribute 'cast_dict'",
     "output_type": "error",
     "traceback": [
      "\u001b[0;31m---------------------------------------------------------------------------\u001b[0m",
      "\u001b[0;31mAttributeError\u001b[0m                            Traceback (most recent call last)",
      "\u001b[0;32m/var/folders/6f/f4k9qbkd5nqfywwdhvwdtl5m0000gn/T/ipykernel_57309/339369300.py\u001b[0m in \u001b[0;36m<cell line: 0>\u001b[0;34m()\u001b[0m\n\u001b[1;32m     49\u001b[0m \u001b[0;34m\u001b[0m\u001b[0m\n\u001b[1;32m     50\u001b[0m \u001b[0;34m\u001b[0m\u001b[0m\n\u001b[0;32m---> 51\u001b[0;31m \u001b[0mcreate_index_df\u001b[0m\u001b[0;34m(\u001b[0m\u001b[0mmeta\u001b[0m\u001b[0;34m)\u001b[0m\u001b[0;34m\u001b[0m\u001b[0;34m\u001b[0m\u001b[0m\n\u001b[0m\u001b[1;32m     52\u001b[0m \u001b[0;31m# why am I being silly, work on this later.\u001b[0m\u001b[0;34m\u001b[0m\u001b[0;34m\u001b[0m\u001b[0m\n",
      "\u001b[0;32m/var/folders/6f/f4k9qbkd5nqfywwdhvwdtl5m0000gn/T/ipykernel_57309/339369300.py\u001b[0m in \u001b[0;36mcreate_index_df\u001b[0;34m(meta)\u001b[0m\n\u001b[1;32m     38\u001b[0m     return pl.DataFrame(\n\u001b[1;32m     39\u001b[0m         {\n\u001b[0;32m---> 40\u001b[0;31m             \u001b[0;34m\"dataset\"\u001b[0m\u001b[0;34m:\u001b[0m \u001b[0mpl\u001b[0m\u001b[0;34m.\u001b[0m\u001b[0mSeries\u001b[0m\u001b[0;34m(\u001b[0m\u001b[0mdatasets\u001b[0m\u001b[0;34m.\u001b[0m\u001b[0mflatten\u001b[0m\u001b[0;34m(\u001b[0m\u001b[0;34m)\u001b[0m\u001b[0;34m)\u001b[0m\u001b[0;34m.\u001b[0m\u001b[0mcast_dict\u001b[0m\u001b[0;34m(\u001b[0m\u001b[0mdataset_map\u001b[0m\u001b[0;34m)\u001b[0m\u001b[0;34m,\u001b[0m\u001b[0;34m\u001b[0m\u001b[0;34m\u001b[0m\u001b[0m\n\u001b[0m\u001b[1;32m     41\u001b[0m             \u001b[0;34m\"source_model\"\u001b[0m\u001b[0;34m:\u001b[0m \u001b[0mpl\u001b[0m\u001b[0;34m.\u001b[0m\u001b[0mSeries\u001b[0m\u001b[0;34m(\u001b[0m\u001b[0msources\u001b[0m\u001b[0;34m.\u001b[0m\u001b[0mflatten\u001b[0m\u001b[0;34m(\u001b[0m\u001b[0;34m)\u001b[0m\u001b[0;34m)\u001b[0m\u001b[0;34m.\u001b[0m\u001b[0mcast_dict\u001b[0m\u001b[0;34m(\u001b[0m\u001b[0mmodel_map\u001b[0m\u001b[0;34m)\u001b[0m\u001b[0;34m,\u001b[0m\u001b[0;34m\u001b[0m\u001b[0;34m\u001b[0m\u001b[0m\n\u001b[1;32m     42\u001b[0m             \u001b[0;34m\"target_model\"\u001b[0m\u001b[0;34m:\u001b[0m \u001b[0mpl\u001b[0m\u001b[0;34m.\u001b[0m\u001b[0mSeries\u001b[0m\u001b[0;34m(\u001b[0m\u001b[0mtargets\u001b[0m\u001b[0;34m.\u001b[0m\u001b[0mflatten\u001b[0m\u001b[0;34m(\u001b[0m\u001b[0;34m)\u001b[0m\u001b[0;34m)\u001b[0m\u001b[0;34m.\u001b[0m\u001b[0mcast_dict\u001b[0m\u001b[0;34m(\u001b[0m\u001b[0mmodel_map\u001b[0m\u001b[0;34m)\u001b[0m\u001b[0;34m,\u001b[0m\u001b[0;34m\u001b[0m\u001b[0;34m\u001b[0m\u001b[0m\n",
      "\u001b[0;31mAttributeError\u001b[0m: 'Series' object has no attribute 'cast_dict'"
     ]
    }
   ],
   "source": [
    "# Load Metadata\n",
    "\"\"\"\n",
    "# 6 Datasets (ArguAna, FiQA, SciDocs, NFCorpus, HotPotQA, Trec-COVID)\n",
    "# 17 Native Embedding Spaces\n",
    "# 17 Stitched Embedding Spaces\n",
    "# 6 Architectures (2, 3, 4, 5, 6, or 7 layers)\n",
    "\"\"\"\n",
    "with MLP_MSE_VALIDATION_META.open() as f:\n",
    "    meta = orjson.loads(f.read())\n",
    "\n",
    "# pretty.pprint(meta)\n",
    "\n",
    "meta_df = pl.read_json(MLP_MSE_VALIDATION_META)\n",
    "\n",
    "\n",
    "def create_index_df(meta: dict) -> pl.DataFrame:\n",
    "    \"\"\"Create an index DataFrame for easy tensor lookup using np.indices.\n",
    "\n",
    "    Args:\n",
    "        meta: Dictionary containing dataset2idx and model2idx mappings\n",
    "\n",
    "    Returns:\n",
    "        pl.DataFrame: DataFrame with hierarchical index for tensor lookup\n",
    "    \"\"\"\n",
    "    # Get shape from metadata\n",
    "    n_datasets = len(meta[\"dataset2idx\"])\n",
    "    n_models = len(meta[\"model2idx\"])\n",
    "    n_layers = len(meta[\"num_layers\"])\n",
    "\n",
    "    # Create indices arrays for each dimension\n",
    "    datasets, sources, targets, layers = np.indices((n_datasets, n_models, n_models, n_layers))\n",
    "\n",
    "    # Create reverse mapping dictionaries\n",
    "    dataset_map = {v: k for k, v in meta[\"dataset2idx\"].items()}\n",
    "    model_map = {v: k for k, v in meta[\"model2idx\"].items()}\n",
    "\n",
    "    # Create DataFrame\n",
    "    return pl.DataFrame(\n",
    "        {\n",
    "            \"dataset\": pl.Series(datasets.flatten()).cast_dict(dataset_map),\n",
    "            \"source_model\": pl.Series(sources.flatten()).cast_dict(model_map),\n",
    "            \"target_model\": pl.Series(targets.flatten()).cast_dict(model_map),\n",
    "            \"num_layers\": pl.Series(layers.flatten()) + 2,  # Convert 0-based to 2-based\n",
    "            \"index\": list(\n",
    "                zip(datasets.flatten(), sources.flatten(), targets.flatten(), layers.flatten()),\n",
    "            ),\n",
    "        }\n",
    "    )\n",
    "\n",
    "\n",
    "create_index_df(meta)\n",
    "# why am I being silly, work on this later."
   ]
  },
  {
   "cell_type": "code",
   "execution_count": 32,
   "metadata": {},
   "outputs": [
    {
     "name": "stderr",
     "output_type": "stream",
     "text": [
      "\u001b[32m2024-12-13 18:50:24.839\u001b[0m | \u001b[1mINFO    \u001b[0m | \u001b[36m__main__\u001b[0m:\u001b[36m<cell line: 0>\u001b[0m:\u001b[36m3\u001b[0m - \u001b[1m['validation_mses']\u001b[0m\n"
     ]
    },
    {
     "data": {
      "text/plain": [
       "'tensors[\"validation_mses\"].shape=(6, 17, 17, 6)'"
      ]
     },
     "execution_count": 32,
     "metadata": {},
     "output_type": "execute_result"
    }
   ],
   "source": [
    "# Load Tensors\n",
    "tensors = load_file(MLP_MSE_VALIDATION_TENSORS)\n",
    "logger.info(list(tensors.keys()))\n",
    "validation_mse = tensors[\"validation_mses\"]\n",
    "# f\"{tensors[\"validation_mses\"].shape=}\"\n",
    "f\"{tensors[\"validation_mses\"].shape=}\""
   ]
  },
  {
   "cell_type": "code",
   "execution_count": 33,
   "metadata": {},
   "outputs": [],
   "source": [
    "from safetensors.numpy import load_file\n",
    "\n",
    "\n",
    "def safetensor_to_polars(\n",
    "    tensor_path: Path,\n",
    "    meta_path: Path,\n",
    ") -> pl.DataFrame:\n",
    "    \"\"\"Convert safetensor validation MSEs to a polars dataframe.\n",
    "\n",
    "    Args:\n",
    "        tensor_path: Path to .safetensors file\n",
    "        meta_path: Path to metadata JSON file\n",
    "\n",
    "    Returns:\n",
    "        pl.DataFrame: Long-format dataframe with validation MSEs\n",
    "    \"\"\"\n",
    "    # Load metadata\n",
    "    with meta_path.open() as f:\n",
    "        meta = orjson.loads(f.read())\n",
    "\n",
    "    # Load tensor\n",
    "    tensor_dict = load_file(tensor_path)  # (6, 17, 17, 6)\n",
    "    validation_mses = tensor_dict[\"validation_mses\"]\n",
    "\n",
    "    # Create mapping dictionaries\n",
    "    dataset_map = {v: k for k, v in meta[\"dataset2idx\"].items()}\n",
    "    model_map = {v: k for k, v in meta[\"model2idx\"].items()}\n",
    "\n",
    "    # Create index arrays for each dimension\n",
    "    datasets, source_models, target_models, architectures = np.indices(validation_mses.shape)\n",
    "\n",
    "    # Create dataframe\n",
    "    mse_df = pl.DataFrame(\n",
    "        {\n",
    "            \"dataset\": datasets.flatten(),\n",
    "            \"source_model\": source_models.flatten(),\n",
    "            \"target_model\": target_models.flatten(),\n",
    "            \"num_layers\": architectures.flatten(),\n",
    "            \"mse\": validation_mses.flatten(),\n",
    "        }\n",
    "    )\n",
    "\n",
    "    # Map indices to names\n",
    "    mse_df = mse_df.with_columns(\n",
    "        [\n",
    "            pl.col(\"dataset\").map_dict(dataset_map).alias(\"dataset_name\"),\n",
    "            pl.col(\"source_model\").map_dict(model_map).alias(\"source_model_name\"),\n",
    "            pl.col(\"target_model\").map_dict(model_map).alias(\"target_model_name\"),\n",
    "            pl.col(\"num_layers\").map_dict(dict(enumerate(meta[\"num_layers\"]))).alias(\"num_layers\"),\n",
    "        ]\n",
    "    ).drop(\"dataset\", \"source_model\", \"target_model\")\n",
    "\n",
    "    return mse_df\n",
    "\n",
    "\n",
    "# Usage\n",
    "mse_df = safetensor_to_polars(\n",
    "    tensor_path=MLP_MSE_VALIDATION_TENSORS, meta_path=MLP_MSE_VALIDATION_META\n",
    ")\n",
    "# not working, also fucked around here."
   ]
  },
  {
   "cell_type": "code",
   "execution_count": 34,
   "metadata": {},
   "outputs": [
    {
     "name": "stderr",
     "output_type": "stream",
     "text": [
      "\u001b[32m2024-12-13 18:50:26.756\u001b[0m | \u001b[1mINFO    \u001b[0m | \u001b[36m__main__\u001b[0m:\u001b[36m<cell line: 0>\u001b[0m:\u001b[36m6\u001b[0m - \u001b[1m(17, 17)\u001b[0m\n"
     ]
    },
    {
     "data": {
      "text/html": [
       "<pre style=\"white-space:pre;overflow-x:auto;line-height:normal;font-family:Menlo,'DejaVu Sans Mono',consolas,'Courier New',monospace\"><span style=\"color: #800080; text-decoration-color: #800080; font-weight: bold\">array</span><span style=\"font-weight: bold\">([[</span><span style=\"color: #008080; text-decoration-color: #008080; font-weight: bold\">1</span>.   , <span style=\"color: #008080; text-decoration-color: #008080; font-weight: bold\">0.002</span>, <span style=\"color: #008080; text-decoration-color: #008080; font-weight: bold\">0.001</span>, <span style=\"color: #808000; text-decoration-color: #808000\">...</span>, <span style=\"color: #008080; text-decoration-color: #008080; font-weight: bold\">0.002</span>, <span style=\"color: #008080; text-decoration-color: #008080; font-weight: bold\">0.001</span>, <span style=\"color: #008080; text-decoration-color: #008080; font-weight: bold\">0.001</span><span style=\"font-weight: bold\">]</span>,\n",
       "<span style=\"color: #7fbf7f; text-decoration-color: #7fbf7f\">│      </span><span style=\"font-weight: bold\">[</span><span style=\"color: #008080; text-decoration-color: #008080; font-weight: bold\">0.001</span>, <span style=\"color: #008080; text-decoration-color: #008080; font-weight: bold\">1</span>.   , <span style=\"color: #008080; text-decoration-color: #008080; font-weight: bold\">0.001</span>, <span style=\"color: #808000; text-decoration-color: #808000\">...</span>, <span style=\"color: #008080; text-decoration-color: #008080; font-weight: bold\">0.002</span>, <span style=\"color: #008080; text-decoration-color: #008080; font-weight: bold\">0.001</span>, <span style=\"color: #008080; text-decoration-color: #008080; font-weight: bold\">0.001</span><span style=\"font-weight: bold\">]</span>,\n",
       "<span style=\"color: #7fbf7f; text-decoration-color: #7fbf7f\">│      </span><span style=\"font-weight: bold\">[</span><span style=\"color: #008080; text-decoration-color: #008080; font-weight: bold\">0.001</span>, <span style=\"color: #008080; text-decoration-color: #008080; font-weight: bold\">0.002</span>, <span style=\"color: #008080; text-decoration-color: #008080; font-weight: bold\">1</span>.   , <span style=\"color: #808000; text-decoration-color: #808000\">...</span>, <span style=\"color: #008080; text-decoration-color: #008080; font-weight: bold\">0.002</span>, <span style=\"color: #008080; text-decoration-color: #008080; font-weight: bold\">0.001</span>, <span style=\"color: #008080; text-decoration-color: #008080; font-weight: bold\">0.001</span><span style=\"font-weight: bold\">]</span>,\n",
       "<span style=\"color: #7fbf7f; text-decoration-color: #7fbf7f\">│      </span><span style=\"color: #808000; text-decoration-color: #808000\">...</span>,\n",
       "<span style=\"color: #7fbf7f; text-decoration-color: #7fbf7f\">│      </span><span style=\"font-weight: bold\">[</span><span style=\"color: #008080; text-decoration-color: #008080; font-weight: bold\">0.001</span>, <span style=\"color: #008080; text-decoration-color: #008080; font-weight: bold\">0.002</span>, <span style=\"color: #008080; text-decoration-color: #008080; font-weight: bold\">0.001</span>, <span style=\"color: #808000; text-decoration-color: #808000\">...</span>, <span style=\"color: #008080; text-decoration-color: #008080; font-weight: bold\">1</span>.   , <span style=\"color: #008080; text-decoration-color: #008080; font-weight: bold\">0.001</span>, <span style=\"color: #008080; text-decoration-color: #008080; font-weight: bold\">0.001</span><span style=\"font-weight: bold\">]</span>,\n",
       "<span style=\"color: #7fbf7f; text-decoration-color: #7fbf7f\">│      </span><span style=\"font-weight: bold\">[</span><span style=\"color: #008080; text-decoration-color: #008080; font-weight: bold\">0.001</span>, <span style=\"color: #008080; text-decoration-color: #008080; font-weight: bold\">0.001</span>, <span style=\"color: #008080; text-decoration-color: #008080; font-weight: bold\">0.001</span>, <span style=\"color: #808000; text-decoration-color: #808000\">...</span>, <span style=\"color: #008080; text-decoration-color: #008080; font-weight: bold\">0.002</span>, <span style=\"color: #008080; text-decoration-color: #008080; font-weight: bold\">1</span>.   , <span style=\"color: #008080; text-decoration-color: #008080; font-weight: bold\">0.001</span><span style=\"font-weight: bold\">]</span>,\n",
       "<span style=\"color: #7fbf7f; text-decoration-color: #7fbf7f\">│      </span><span style=\"font-weight: bold\">[</span><span style=\"color: #008080; text-decoration-color: #008080; font-weight: bold\">0.001</span>, <span style=\"color: #008080; text-decoration-color: #008080; font-weight: bold\">0.002</span>, <span style=\"color: #008080; text-decoration-color: #008080; font-weight: bold\">0.001</span>, <span style=\"color: #808000; text-decoration-color: #808000\">...</span>, <span style=\"color: #008080; text-decoration-color: #008080; font-weight: bold\">0.002</span>, <span style=\"color: #008080; text-decoration-color: #008080; font-weight: bold\">0.001</span>, <span style=\"color: #008080; text-decoration-color: #008080; font-weight: bold\">1</span>.   <span style=\"font-weight: bold\">]]</span>, <span style=\"color: #808000; text-decoration-color: #808000\">dtype</span>=<span style=\"color: #800080; text-decoration-color: #800080\">float32</span><span style=\"font-weight: bold\">)</span>\n",
       "</pre>\n"
      ],
      "text/plain": [
       "\u001b[1;35marray\u001b[0m\u001b[1m(\u001b[0m\u001b[1m[\u001b[0m\u001b[1m[\u001b[0m\u001b[1;36m1\u001b[0m.   , \u001b[1;36m0.002\u001b[0m, \u001b[1;36m0.001\u001b[0m, \u001b[33m...\u001b[0m, \u001b[1;36m0.002\u001b[0m, \u001b[1;36m0.001\u001b[0m, \u001b[1;36m0.001\u001b[0m\u001b[1m]\u001b[0m,\n",
       "\u001b[2;32m│      \u001b[0m\u001b[1m[\u001b[0m\u001b[1;36m0.001\u001b[0m, \u001b[1;36m1\u001b[0m.   , \u001b[1;36m0.001\u001b[0m, \u001b[33m...\u001b[0m, \u001b[1;36m0.002\u001b[0m, \u001b[1;36m0.001\u001b[0m, \u001b[1;36m0.001\u001b[0m\u001b[1m]\u001b[0m,\n",
       "\u001b[2;32m│      \u001b[0m\u001b[1m[\u001b[0m\u001b[1;36m0.001\u001b[0m, \u001b[1;36m0.002\u001b[0m, \u001b[1;36m1\u001b[0m.   , \u001b[33m...\u001b[0m, \u001b[1;36m0.002\u001b[0m, \u001b[1;36m0.001\u001b[0m, \u001b[1;36m0.001\u001b[0m\u001b[1m]\u001b[0m,\n",
       "\u001b[2;32m│      \u001b[0m\u001b[33m...\u001b[0m,\n",
       "\u001b[2;32m│      \u001b[0m\u001b[1m[\u001b[0m\u001b[1;36m0.001\u001b[0m, \u001b[1;36m0.002\u001b[0m, \u001b[1;36m0.001\u001b[0m, \u001b[33m...\u001b[0m, \u001b[1;36m1\u001b[0m.   , \u001b[1;36m0.001\u001b[0m, \u001b[1;36m0.001\u001b[0m\u001b[1m]\u001b[0m,\n",
       "\u001b[2;32m│      \u001b[0m\u001b[1m[\u001b[0m\u001b[1;36m0.001\u001b[0m, \u001b[1;36m0.001\u001b[0m, \u001b[1;36m0.001\u001b[0m, \u001b[33m...\u001b[0m, \u001b[1;36m0.002\u001b[0m, \u001b[1;36m1\u001b[0m.   , \u001b[1;36m0.001\u001b[0m\u001b[1m]\u001b[0m,\n",
       "\u001b[2;32m│      \u001b[0m\u001b[1m[\u001b[0m\u001b[1;36m0.001\u001b[0m, \u001b[1;36m0.002\u001b[0m, \u001b[1;36m0.001\u001b[0m, \u001b[33m...\u001b[0m, \u001b[1;36m0.002\u001b[0m, \u001b[1;36m0.001\u001b[0m, \u001b[1;36m1\u001b[0m.   \u001b[1m]\u001b[0m\u001b[1m]\u001b[0m, \u001b[33mdtype\u001b[0m=\u001b[35mfloat32\u001b[0m\u001b[1m)\u001b[0m\n"
      ]
     },
     "metadata": {},
     "output_type": "display_data"
    }
   ],
   "source": [
    "# Print Imported Data (One Dataset, One Architecture)\n",
    "dataset_i = 0\n",
    "architecture_i = 0\n",
    "\n",
    "example_validation_mse = validation_mse[dataset_i, :, :, architecture_i]\n",
    "logger.info(example_validation_mse.shape)\n",
    "pretty.pprint(example_validation_mse)"
   ]
  },
  {
   "cell_type": "code",
   "execution_count": 35,
   "metadata": {},
   "outputs": [
    {
     "name": "stderr",
     "output_type": "stream",
     "text": [
      "\u001b[32m2024-12-13 18:50:27.515\u001b[0m | \u001b[1mINFO    \u001b[0m | \u001b[36m__main__\u001b[0m:\u001b[36mheatmap\u001b[0m:\u001b[36m42\u001b[0m - \u001b[1mCreating heatmap visualization...\u001b[0m\n"
     ]
    },
    {
     "data": {
      "application/vnd.plotly.v1+json": {
       "config": {
        "plotlyServerURL": "https://plot.ly"
       },
       "data": [
        {
         "colorscale": [
          [
           0,
           "#440154"
          ],
          [
           0.1111111111111111,
           "#482878"
          ],
          [
           0.2222222222222222,
           "#3e4989"
          ],
          [
           0.3333333333333333,
           "#31688e"
          ],
          [
           0.4444444444444444,
           "#26828e"
          ],
          [
           0.5555555555555556,
           "#1f9e89"
          ],
          [
           0.6666666666666666,
           "#35b779"
          ],
          [
           0.7777777777777778,
           "#6ece58"
          ],
          [
           0.8888888888888888,
           "#b5de2b"
          ],
          [
           1,
           "#fde725"
          ]
         ],
         "reversescale": false,
         "showlegend": true,
         "showscale": true,
         "text": [
          [
           "N/A",
           "-2.76",
           "-2.84",
           "-2.51",
           "-2.77",
           "-2.85",
           "-2.50",
           "-2.77",
           "-2.86",
           "-2.49",
           "-2.76",
           "-2.75",
           "-2.85",
           "-2.75",
           "-2.75",
           "-3.27",
           "-3.02"
          ],
          [
           "-2.84",
           "N/A",
           "-2.84",
           "-2.47",
           "-2.73",
           "-2.83",
           "-2.48",
           "-2.75",
           "-2.86",
           "-2.48",
           "-2.74",
           "-2.73",
           "-2.84",
           "-2.73",
           "-2.72",
           "-3.24",
           "-2.99"
          ],
          [
           "-2.85",
           "-2.77",
           "N/A",
           "-2.52",
           "-2.76",
           "-2.86",
           "-2.50",
           "-2.76",
           "-2.85",
           "-2.51",
           "-2.77",
           "-2.74",
           "-2.84",
           "-2.76",
           "-2.78",
           "-3.27",
           "-3.01"
          ],
          [
           "-2.79",
           "-2.68",
           "-2.81",
           "N/A",
           "-2.69",
           "-2.81",
           "-2.44",
           "-2.68",
           "-2.80",
           "-2.42",
           "-2.68",
           "-2.70",
           "-2.81",
           "-2.67",
           "-2.72",
           "-3.14",
           "-2.94"
          ],
          [
           "-2.84",
           "-2.73",
           "-2.82",
           "-2.49",
           "N/A",
           "-2.83",
           "-2.48",
           "-2.72",
           "-2.85",
           "-2.52",
           "-2.72",
           "-2.74",
           "-2.84",
           "-2.75",
           "-2.74",
           "-3.23",
           "-3.00"
          ],
          [
           "-2.85",
           "-2.76",
           "-2.86",
           "-2.52",
           "-2.76",
           "N/A",
           "-2.54",
           "-2.75",
           "-2.82",
           "-2.52",
           "-2.77",
           "-2.77",
           "-2.84",
           "-2.75",
           "-2.76",
           "-3.26",
           "-3.01"
          ],
          [
           "-2.79",
           "-2.67",
           "-2.81",
           "-2.42",
           "-2.68",
           "-2.79",
           "N/A",
           "-2.70",
           "-2.79",
           "-2.43",
           "-2.69",
           "-2.69",
           "-2.81",
           "-2.69",
           "-2.67",
           "-3.14",
           "-2.95"
          ],
          [
           "-2.85",
           "-2.72",
           "-2.86",
           "-2.50",
           "-2.73",
           "-2.84",
           "-2.50",
           "N/A",
           "-2.84",
           "-2.52",
           "-2.71",
           "-2.72",
           "-2.84",
           "-2.73",
           "-2.72",
           "-3.24",
           "-2.99"
          ],
          [
           "-2.85",
           "-2.75",
           "-2.85",
           "-2.52",
           "-2.74",
           "-2.85",
           "-2.54",
           "-2.76",
           "N/A",
           "-2.50",
           "-2.76",
           "-2.74",
           "-2.86",
           "-2.74",
           "-2.75",
           "-3.27",
           "-3.01"
          ],
          [
           "-2.79",
           "-2.71",
           "-2.80",
           "-2.42",
           "-2.70",
           "-2.78",
           "-2.41",
           "-2.71",
           "-2.79",
           "N/A",
           "-2.71",
           "-2.68",
           "-2.82",
           "-2.68",
           "-2.71",
           "-3.15",
           "-2.92"
          ],
          [
           "-2.84",
           "-2.72",
           "-2.84",
           "-2.49",
           "-2.75",
           "-2.85",
           "-2.48",
           "-2.71",
           "-2.85",
           "-2.49",
           "N/A",
           "-2.71",
           "-2.84",
           "-2.71",
           "-2.75",
           "-3.24",
           "-2.99"
          ],
          [
           "-2.84",
           "-2.74",
           "-2.84",
           "-2.50",
           "-2.70",
           "-2.86",
           "-2.50",
           "-2.73",
           "-2.87",
           "-2.51",
           "-2.72",
           "N/A",
           "-2.84",
           "-2.75",
           "-2.72",
           "-3.24",
           "-2.99"
          ],
          [
           "-2.86",
           "-2.76",
           "-2.84",
           "-2.51",
           "-2.78",
           "-2.86",
           "-2.51",
           "-2.77",
           "-2.85",
           "-2.54",
           "-2.77",
           "-2.77",
           "N/A",
           "-2.77",
           "-2.76",
           "-3.27",
           "-3.02"
          ],
          [
           "-2.83",
           "-2.74",
           "-2.83",
           "-2.50",
           "-2.73",
           "-2.84",
           "-2.48",
           "-2.70",
           "-2.84",
           "-2.48",
           "-2.72",
           "-2.71",
           "-2.82",
           "N/A",
           "-2.72",
           "-3.23",
           "-2.99"
          ],
          [
           "-2.85",
           "-2.74",
           "-2.84",
           "-2.50",
           "-2.74",
           "-2.83",
           "-2.50",
           "-2.71",
           "-2.83",
           "-2.50",
           "-2.74",
           "-2.73",
           "-2.84",
           "-2.71",
           "N/A",
           "-3.24",
           "-2.98"
          ],
          [
           "-2.96",
           "-2.84",
           "-2.95",
           "-2.56",
           "-2.84",
           "-2.96",
           "-2.56",
           "-2.84",
           "-2.96",
           "-2.56",
           "-2.83",
           "-2.83",
           "-2.95",
           "-2.84",
           "-2.82",
           "N/A",
           "-3.10"
          ],
          [
           "-2.91",
           "-2.79",
           "-2.90",
           "-2.53",
           "-2.78",
           "-2.91",
           "-2.52",
           "-2.81",
           "-2.90",
           "-2.52",
           "-2.80",
           "-2.82",
           "-2.90",
           "-2.80",
           "-2.81",
           "-3.30",
           "N/A"
          ]
         ],
         "textfont": {
          "color": "black"
         },
         "texttemplate": "%{text}",
         "type": "heatmap",
         "x": [
          "WhereIsAI_UAE-Large-V1",
          "BAAI_bge-base-en-v1.5",
          "BAAI_bge-large-en-v1.5",
          "BAAI_bge-small-en-v1.5",
          "intfloat_e5-base-v2",
          "intfloat_e5-large-v2",
          "intfloat_e5-small-v2",
          "thenlper_gte-base",
          "thenlper_gte-large",
          "thenlper_gte-small",
          "sentence-transformers_gtr-t5-base",
          "sentence-transformers_gtr-t5-large",
          "mixedbread-ai_mxbai-embed-large-v1",
          "sentence-transformers_sentence-t5-base",
          "sentence-transformers_sentence-t5-large",
          "openai_text-embedding-3-large",
          "openai_text-embedding-3-small"
         ],
         "y": [
          "WhereIsAI_UAE-Large-V1",
          "BAAI_bge-base-en-v1.5",
          "BAAI_bge-large-en-v1.5",
          "BAAI_bge-small-en-v1.5",
          "intfloat_e5-base-v2",
          "intfloat_e5-large-v2",
          "intfloat_e5-small-v2",
          "thenlper_gte-base",
          "thenlper_gte-large",
          "thenlper_gte-small",
          "sentence-transformers_gtr-t5-base",
          "sentence-transformers_gtr-t5-large",
          "mixedbread-ai_mxbai-embed-large-v1",
          "sentence-transformers_sentence-t5-base",
          "sentence-transformers_sentence-t5-large",
          "openai_text-embedding-3-large",
          "openai_text-embedding-3-small"
         ],
         "z": [
          [
           null,
           -2.7574663425948116,
           -2.8420995149022072,
           -2.5095080204774765,
           -2.772926057182547,
           -2.8495111364061194,
           -2.504729011234093,
           -2.771978108569226,
           -2.8644323823071316,
           -2.4903870476720407,
           -2.762528125724493,
           -2.7511733114121983,
           -2.845449831809149,
           -2.7498421169253677,
           -2.7501509336190813,
           -3.269615731865428,
           -3.02198423076025
          ],
          [
           -2.8439671840984952,
           null,
           -2.8425685649518804,
           -2.4749370961506623,
           -2.7262825567904367,
           -2.8291240980333727,
           -2.4784590184216295,
           -2.7468449351451576,
           -2.8555266586187416,
           -2.4797362835448697,
           -2.735703755380616,
           -2.7288352609804054,
           -2.844996909042494,
           -2.733095494011109,
           -2.723420118354665,
           -3.237153824629583,
           -2.98560012259634
          ],
          [
           -2.847032143924652,
           -2.769208332080826,
           null,
           -2.515917475894069,
           -2.7647998813551764,
           -2.859104585314454,
           -2.500828877749649,
           -2.7574615990580216,
           -2.8504715783957004,
           -2.5095226630642307,
           -2.773071177477477,
           -2.737753963940291,
           -2.838673846847979,
           -2.7590395972498656,
           -2.775269038776332,
           -3.265478096932488,
           -3.0072780568853523
          ],
          [
           -2.793861657643175,
           -2.6806242728225356,
           -2.805010042893231,
           null,
           -2.6933186738606256,
           -2.8112592269492285,
           -2.4390978670404246,
           -2.6841598709638115,
           -2.7989696594110605,
           -2.418366493260947,
           -2.6777851988160783,
           -2.7018360273677144,
           -2.813204423160594,
           -2.6743761031771873,
           -2.7160313697399996,
           -3.137169966998491,
           -2.9366836102976093
          ],
          [
           -2.838349525279202,
           -2.726233080426001,
           -2.8222737559154836,
           -2.4857008456020866,
           null,
           -2.82648948208632,
           -2.476211658472666,
           -2.715059648720614,
           -2.846425889143047,
           -2.5203621985473252,
           -2.7243012129054516,
           -2.742306246985116,
           -2.840890019131271,
           -2.7537059548478817,
           -2.739483645985742,
           -3.2347535814133175,
           -3.0041197038012433
          ],
          [
           -2.848610680225495,
           -2.7633478602228982,
           -2.861550176205477,
           -2.518960722386407,
           -2.7594822848260843,
           null,
           -2.537914955629029,
           -2.7478137777043647,
           -2.824773305410056,
           -2.524364904697479,
           -2.772076932474613,
           -2.767920620860492,
           -2.8435499746200517,
           -2.746862294084466,
           -2.7647419048581545,
           -3.2638811808935446,
           -3.006200647937264
          ],
          [
           -2.7945975474406426,
           -2.672205624277428,
           -2.8055648996591964,
           -2.4192694036078586,
           -2.679833667465062,
           -2.790561112025961,
           null,
           -2.6976131427529637,
           -2.787996442364042,
           -2.433343356837858,
           -2.6934248345409646,
           -2.689664582821246,
           -2.811017294196133,
           -2.6852397758964472,
           -2.665421900124522,
           -3.142477136686657,
           -2.945049031507515
          ],
          [
           -2.8527441484476204,
           -2.720312330187536,
           -2.8593186440541323,
           -2.4965141594896365,
           -2.73222070979967,
           -2.836172110176852,
           -2.5012113128768787,
           null,
           -2.836270170879114,
           -2.51515077137841,
           -2.7149571145777065,
           -2.71873632350183,
           -2.841471953687869,
           -2.726661919259006,
           -2.7151816772719215,
           -3.236791343177454,
           -2.990001772362981
          ],
          [
           -2.854049946191234,
           -2.7534789384444025,
           -2.8499774195833054,
           -2.517077975365861,
           -2.737490131068005,
           -2.853228773987639,
           -2.5350490674750676,
           -2.7629753227906853,
           null,
           -2.497814483478866,
           -2.7639867117242987,
           -2.738939346759615,
           -2.856158975272222,
           -2.7364414423899426,
           -2.7543894975646266,
           -3.2653910855796293,
           -3.012757078980578
          ],
          [
           -2.7945773841275368,
           -2.710017958546196,
           -2.804236725987993,
           -2.4222160053990853,
           -2.6959802561360102,
           -2.7835828346946787,
           -2.4050714091801533,
           -2.706208423646955,
           -2.7928610469325696,
           null,
           -2.7065209440393088,
           -2.682494770419618,
           -2.8200673512399974,
           -2.677039779851422,
           -2.7090154729404157,
           -3.149138864063171,
           -2.9176048517444637
          ],
          [
           -2.838016532079381,
           -2.717282414331235,
           -2.8372934303265755,
           -2.492715648951941,
           -2.753655862859868,
           -2.852506520284063,
           -2.4822052322300467,
           -2.710654813825686,
           -2.8469891318429172,
           -2.4940913066284485,
           null,
           -2.7055503826655363,
           -2.837333128802843,
           -2.7122439864704684,
           -2.753149418287607,
           -3.236675146177459,
           -2.9857239305725702
          ],
          [
           -2.841436577644957,
           -2.741197314512788,
           -2.8350086891014312,
           -2.5018797479162367,
           -2.7032368315174287,
           -2.8576168797407124,
           -2.5015080185430247,
           -2.7319167974208143,
           -2.866335087012379,
           -2.50599924665408,
           -2.7159763437912665,
           null,
           -2.8427741317658617,
           -2.7494958052689555,
           -2.7188830490325513,
           -3.2382536761355643,
           -2.989299907969369
          ],
          [
           -2.8574904999541713,
           -2.757874828121548,
           -2.836801602405946,
           -2.5145947926412124,
           -2.776514985995462,
           -2.8582888395432473,
           -2.5100568665760847,
           -2.7727799067214463,
           -2.847354870392868,
           -2.539932652546568,
           -2.7670191506382733,
           -2.7676537467638225,
           null,
           -2.768673253337806,
           -2.7621329590330648,
           -3.267328367615393,
           -3.018371082714945
          ],
          [
           -2.831625897800422,
           -2.743224193225815,
           -2.8253331810086357,
           -2.496564090264143,
           -2.7269613124593968,
           -2.84291883650624,
           -2.4755802877330217,
           -2.704577990630079,
           -2.839717997400511,
           -2.475167000083609,
           -2.7226632215846203,
           -2.7119516225256906,
           -2.8185491026905214,
           null,
           -2.719689163512609,
           -3.2348944898536733,
           -2.9934528032433056
          ],
          [
           -2.8514682300735994,
           -2.744864003756593,
           -2.8427515678052133,
           -2.4966078081967917,
           -2.74235577309305,
           -2.8342725198140037,
           -2.498808359305708,
           -2.7103880938991805,
           -2.8291400972749035,
           -2.503298547080734,
           -2.7360807575585264,
           -2.7330988575522306,
           -2.8441296601993993,
           -2.705682424581142,
           null,
           -3.2378874342952315,
           -2.9841915614481604
          ],
          [
           -2.962494039911259,
           -2.8423406582790576,
           -2.954507314221811,
           -2.5644603072164207,
           -2.8353951693433355,
           -2.964845090449149,
           -2.5556375683646704,
           -2.838631794080438,
           -2.963308972093713,
           -2.560999283191517,
           -2.8333860962443933,
           -2.8308654658430337,
           -2.952742366845893,
           -2.8359384903778384,
           -2.8236707391222384,
           null,
           -3.095328214131093
          ],
          [
           -2.9080143017269084,
           -2.793943662230012,
           -2.8998820636227056,
           -2.527864651448688,
           -2.783809430886538,
           -2.914045622553132,
           -2.52481682222563,
           -2.8084470135948747,
           -2.8951426735246373,
           -2.523727571881367,
           -2.799631799115948,
           -2.82328182590169,
           -2.9013001563461964,
           -2.7973275588650637,
           -2.8090540626581615,
           -3.2986171609264896,
           null
          ]
         ]
        }
       ],
       "layout": {
        "dragmode": false,
        "height": 600,
        "modebar": {
         "remove": [
          "zoomIn2d",
          "zoomOut2d",
          "autoScale2d",
          "resetScale2d",
          "hoverClosestCartesian",
          "hoverCompareCartesian",
          "toggleSpikelines"
         ]
        },
        "template": {
         "data": {
          "bar": [
           {
            "error_x": {
             "color": "#2a3f5f"
            },
            "error_y": {
             "color": "#2a3f5f"
            },
            "marker": {
             "line": {
              "color": "white",
              "width": 0.5
             },
             "pattern": {
              "fillmode": "overlay",
              "size": 10,
              "solidity": 0.2
             }
            },
            "type": "bar"
           }
          ],
          "barpolar": [
           {
            "marker": {
             "line": {
              "color": "white",
              "width": 0.5
             },
             "pattern": {
              "fillmode": "overlay",
              "size": 10,
              "solidity": 0.2
             }
            },
            "type": "barpolar"
           }
          ],
          "carpet": [
           {
            "aaxis": {
             "endlinecolor": "#2a3f5f",
             "gridcolor": "#C8D4E3",
             "linecolor": "#C8D4E3",
             "minorgridcolor": "#C8D4E3",
             "startlinecolor": "#2a3f5f"
            },
            "baxis": {
             "endlinecolor": "#2a3f5f",
             "gridcolor": "#C8D4E3",
             "linecolor": "#C8D4E3",
             "minorgridcolor": "#C8D4E3",
             "startlinecolor": "#2a3f5f"
            },
            "type": "carpet"
           }
          ],
          "choropleth": [
           {
            "colorbar": {
             "outlinewidth": 0,
             "ticks": ""
            },
            "type": "choropleth"
           }
          ],
          "contour": [
           {
            "colorbar": {
             "outlinewidth": 0,
             "ticks": ""
            },
            "colorscale": [
             [
              0,
              "#0d0887"
             ],
             [
              0.1111111111111111,
              "#46039f"
             ],
             [
              0.2222222222222222,
              "#7201a8"
             ],
             [
              0.3333333333333333,
              "#9c179e"
             ],
             [
              0.4444444444444444,
              "#bd3786"
             ],
             [
              0.5555555555555556,
              "#d8576b"
             ],
             [
              0.6666666666666666,
              "#ed7953"
             ],
             [
              0.7777777777777778,
              "#fb9f3a"
             ],
             [
              0.8888888888888888,
              "#fdca26"
             ],
             [
              1,
              "#f0f921"
             ]
            ],
            "type": "contour"
           }
          ],
          "contourcarpet": [
           {
            "colorbar": {
             "outlinewidth": 0,
             "ticks": ""
            },
            "type": "contourcarpet"
           }
          ],
          "heatmap": [
           {
            "colorbar": {
             "outlinewidth": 0,
             "ticks": ""
            },
            "colorscale": [
             [
              0,
              "#0d0887"
             ],
             [
              0.1111111111111111,
              "#46039f"
             ],
             [
              0.2222222222222222,
              "#7201a8"
             ],
             [
              0.3333333333333333,
              "#9c179e"
             ],
             [
              0.4444444444444444,
              "#bd3786"
             ],
             [
              0.5555555555555556,
              "#d8576b"
             ],
             [
              0.6666666666666666,
              "#ed7953"
             ],
             [
              0.7777777777777778,
              "#fb9f3a"
             ],
             [
              0.8888888888888888,
              "#fdca26"
             ],
             [
              1,
              "#f0f921"
             ]
            ],
            "type": "heatmap"
           }
          ],
          "heatmapgl": [
           {
            "colorbar": {
             "outlinewidth": 0,
             "ticks": ""
            },
            "colorscale": [
             [
              0,
              "#0d0887"
             ],
             [
              0.1111111111111111,
              "#46039f"
             ],
             [
              0.2222222222222222,
              "#7201a8"
             ],
             [
              0.3333333333333333,
              "#9c179e"
             ],
             [
              0.4444444444444444,
              "#bd3786"
             ],
             [
              0.5555555555555556,
              "#d8576b"
             ],
             [
              0.6666666666666666,
              "#ed7953"
             ],
             [
              0.7777777777777778,
              "#fb9f3a"
             ],
             [
              0.8888888888888888,
              "#fdca26"
             ],
             [
              1,
              "#f0f921"
             ]
            ],
            "type": "heatmapgl"
           }
          ],
          "histogram": [
           {
            "marker": {
             "pattern": {
              "fillmode": "overlay",
              "size": 10,
              "solidity": 0.2
             }
            },
            "type": "histogram"
           }
          ],
          "histogram2d": [
           {
            "colorbar": {
             "outlinewidth": 0,
             "ticks": ""
            },
            "colorscale": [
             [
              0,
              "#0d0887"
             ],
             [
              0.1111111111111111,
              "#46039f"
             ],
             [
              0.2222222222222222,
              "#7201a8"
             ],
             [
              0.3333333333333333,
              "#9c179e"
             ],
             [
              0.4444444444444444,
              "#bd3786"
             ],
             [
              0.5555555555555556,
              "#d8576b"
             ],
             [
              0.6666666666666666,
              "#ed7953"
             ],
             [
              0.7777777777777778,
              "#fb9f3a"
             ],
             [
              0.8888888888888888,
              "#fdca26"
             ],
             [
              1,
              "#f0f921"
             ]
            ],
            "type": "histogram2d"
           }
          ],
          "histogram2dcontour": [
           {
            "colorbar": {
             "outlinewidth": 0,
             "ticks": ""
            },
            "colorscale": [
             [
              0,
              "#0d0887"
             ],
             [
              0.1111111111111111,
              "#46039f"
             ],
             [
              0.2222222222222222,
              "#7201a8"
             ],
             [
              0.3333333333333333,
              "#9c179e"
             ],
             [
              0.4444444444444444,
              "#bd3786"
             ],
             [
              0.5555555555555556,
              "#d8576b"
             ],
             [
              0.6666666666666666,
              "#ed7953"
             ],
             [
              0.7777777777777778,
              "#fb9f3a"
             ],
             [
              0.8888888888888888,
              "#fdca26"
             ],
             [
              1,
              "#f0f921"
             ]
            ],
            "type": "histogram2dcontour"
           }
          ],
          "mesh3d": [
           {
            "colorbar": {
             "outlinewidth": 0,
             "ticks": ""
            },
            "type": "mesh3d"
           }
          ],
          "parcoords": [
           {
            "line": {
             "colorbar": {
              "outlinewidth": 0,
              "ticks": ""
             }
            },
            "type": "parcoords"
           }
          ],
          "pie": [
           {
            "automargin": true,
            "type": "pie"
           }
          ],
          "scatter": [
           {
            "fillpattern": {
             "fillmode": "overlay",
             "size": 10,
             "solidity": 0.2
            },
            "type": "scatter"
           }
          ],
          "scatter3d": [
           {
            "line": {
             "colorbar": {
              "outlinewidth": 0,
              "ticks": ""
             }
            },
            "marker": {
             "colorbar": {
              "outlinewidth": 0,
              "ticks": ""
             }
            },
            "type": "scatter3d"
           }
          ],
          "scattercarpet": [
           {
            "marker": {
             "colorbar": {
              "outlinewidth": 0,
              "ticks": ""
             }
            },
            "type": "scattercarpet"
           }
          ],
          "scattergeo": [
           {
            "marker": {
             "colorbar": {
              "outlinewidth": 0,
              "ticks": ""
             }
            },
            "type": "scattergeo"
           }
          ],
          "scattergl": [
           {
            "marker": {
             "colorbar": {
              "outlinewidth": 0,
              "ticks": ""
             }
            },
            "type": "scattergl"
           }
          ],
          "scattermapbox": [
           {
            "marker": {
             "colorbar": {
              "outlinewidth": 0,
              "ticks": ""
             }
            },
            "type": "scattermapbox"
           }
          ],
          "scatterpolar": [
           {
            "marker": {
             "colorbar": {
              "outlinewidth": 0,
              "ticks": ""
             }
            },
            "type": "scatterpolar"
           }
          ],
          "scatterpolargl": [
           {
            "marker": {
             "colorbar": {
              "outlinewidth": 0,
              "ticks": ""
             }
            },
            "type": "scatterpolargl"
           }
          ],
          "scatterternary": [
           {
            "marker": {
             "colorbar": {
              "outlinewidth": 0,
              "ticks": ""
             }
            },
            "type": "scatterternary"
           }
          ],
          "surface": [
           {
            "colorbar": {
             "outlinewidth": 0,
             "ticks": ""
            },
            "colorscale": [
             [
              0,
              "#0d0887"
             ],
             [
              0.1111111111111111,
              "#46039f"
             ],
             [
              0.2222222222222222,
              "#7201a8"
             ],
             [
              0.3333333333333333,
              "#9c179e"
             ],
             [
              0.4444444444444444,
              "#bd3786"
             ],
             [
              0.5555555555555556,
              "#d8576b"
             ],
             [
              0.6666666666666666,
              "#ed7953"
             ],
             [
              0.7777777777777778,
              "#fb9f3a"
             ],
             [
              0.8888888888888888,
              "#fdca26"
             ],
             [
              1,
              "#f0f921"
             ]
            ],
            "type": "surface"
           }
          ],
          "table": [
           {
            "cells": {
             "fill": {
              "color": "#EBF0F8"
             },
             "line": {
              "color": "white"
             }
            },
            "header": {
             "fill": {
              "color": "#C8D4E3"
             },
             "line": {
              "color": "white"
             }
            },
            "type": "table"
           }
          ]
         },
         "layout": {
          "annotationdefaults": {
           "arrowcolor": "#2a3f5f",
           "arrowhead": 0,
           "arrowwidth": 1
          },
          "autotypenumbers": "strict",
          "coloraxis": {
           "colorbar": {
            "outlinewidth": 0,
            "ticks": ""
           }
          },
          "colorscale": {
           "diverging": [
            [
             0,
             "#8e0152"
            ],
            [
             0.1,
             "#c51b7d"
            ],
            [
             0.2,
             "#de77ae"
            ],
            [
             0.3,
             "#f1b6da"
            ],
            [
             0.4,
             "#fde0ef"
            ],
            [
             0.5,
             "#f7f7f7"
            ],
            [
             0.6,
             "#e6f5d0"
            ],
            [
             0.7,
             "#b8e186"
            ],
            [
             0.8,
             "#7fbc41"
            ],
            [
             0.9,
             "#4d9221"
            ],
            [
             1,
             "#276419"
            ]
           ],
           "sequential": [
            [
             0,
             "#0d0887"
            ],
            [
             0.1111111111111111,
             "#46039f"
            ],
            [
             0.2222222222222222,
             "#7201a8"
            ],
            [
             0.3333333333333333,
             "#9c179e"
            ],
            [
             0.4444444444444444,
             "#bd3786"
            ],
            [
             0.5555555555555556,
             "#d8576b"
            ],
            [
             0.6666666666666666,
             "#ed7953"
            ],
            [
             0.7777777777777778,
             "#fb9f3a"
            ],
            [
             0.8888888888888888,
             "#fdca26"
            ],
            [
             1,
             "#f0f921"
            ]
           ],
           "sequentialminus": [
            [
             0,
             "#0d0887"
            ],
            [
             0.1111111111111111,
             "#46039f"
            ],
            [
             0.2222222222222222,
             "#7201a8"
            ],
            [
             0.3333333333333333,
             "#9c179e"
            ],
            [
             0.4444444444444444,
             "#bd3786"
            ],
            [
             0.5555555555555556,
             "#d8576b"
            ],
            [
             0.6666666666666666,
             "#ed7953"
            ],
            [
             0.7777777777777778,
             "#fb9f3a"
            ],
            [
             0.8888888888888888,
             "#fdca26"
            ],
            [
             1,
             "#f0f921"
            ]
           ]
          },
          "colorway": [
           "#636efa",
           "#EF553B",
           "#00cc96",
           "#ab63fa",
           "#FFA15A",
           "#19d3f3",
           "#FF6692",
           "#B6E880",
           "#FF97FF",
           "#FECB52"
          ],
          "font": {
           "color": "#2a3f5f"
          },
          "geo": {
           "bgcolor": "white",
           "lakecolor": "white",
           "landcolor": "white",
           "showlakes": true,
           "showland": true,
           "subunitcolor": "#C8D4E3"
          },
          "hoverlabel": {
           "align": "left"
          },
          "hovermode": "closest",
          "mapbox": {
           "style": "light"
          },
          "paper_bgcolor": "white",
          "plot_bgcolor": "white",
          "polar": {
           "angularaxis": {
            "gridcolor": "#EBF0F8",
            "linecolor": "#EBF0F8",
            "ticks": ""
           },
           "bgcolor": "white",
           "radialaxis": {
            "gridcolor": "#EBF0F8",
            "linecolor": "#EBF0F8",
            "ticks": ""
           }
          },
          "scene": {
           "xaxis": {
            "backgroundcolor": "white",
            "gridcolor": "#DFE8F3",
            "gridwidth": 2,
            "linecolor": "#EBF0F8",
            "showbackground": true,
            "ticks": "",
            "zerolinecolor": "#EBF0F8"
           },
           "yaxis": {
            "backgroundcolor": "white",
            "gridcolor": "#DFE8F3",
            "gridwidth": 2,
            "linecolor": "#EBF0F8",
            "showbackground": true,
            "ticks": "",
            "zerolinecolor": "#EBF0F8"
           },
           "zaxis": {
            "backgroundcolor": "white",
            "gridcolor": "#DFE8F3",
            "gridwidth": 2,
            "linecolor": "#EBF0F8",
            "showbackground": true,
            "ticks": "",
            "zerolinecolor": "#EBF0F8"
           }
          },
          "shapedefaults": {
           "line": {
            "color": "#2a3f5f"
           }
          },
          "ternary": {
           "aaxis": {
            "gridcolor": "#DFE8F3",
            "linecolor": "#A2B1C6",
            "ticks": ""
           },
           "baxis": {
            "gridcolor": "#DFE8F3",
            "linecolor": "#A2B1C6",
            "ticks": ""
           },
           "bgcolor": "white",
           "caxis": {
            "gridcolor": "#DFE8F3",
            "linecolor": "#A2B1C6",
            "ticks": ""
           }
          },
          "title": {
           "x": 0.05
          },
          "xaxis": {
           "automargin": true,
           "gridcolor": "#EBF0F8",
           "linecolor": "#EBF0F8",
           "ticks": "",
           "title": {
            "standoff": 15
           },
           "zerolinecolor": "#EBF0F8",
           "zerolinewidth": 2
          },
          "yaxis": {
           "automargin": true,
           "gridcolor": "#EBF0F8",
           "linecolor": "#EBF0F8",
           "ticks": "",
           "title": {
            "standoff": 15
           },
           "zerolinecolor": "#EBF0F8",
           "zerolinewidth": 2
          }
         }
        },
        "title": {
         "text": "Example Validation MSE (log)"
        },
        "width": 800,
        "xaxis": {
         "fixedrange": true,
         "nticks": 17,
         "title": {}
        },
        "yaxis": {
         "fixedrange": true,
         "nticks": 17,
         "title": {}
        }
       }
      }
     },
     "metadata": {},
     "output_type": "display_data"
    }
   ],
   "source": [
    "# Visualize Imported Data (One Dataset, One Architecture)\n",
    "labels = sorted(meta[\"model2idx\"], key=lambda k: meta[\"model2idx\"][k])\n",
    "matrix = example_validation_mse\n",
    "heatmap(\n",
    "    matrix,\n",
    "    log=True,\n",
    "    title=\"Example Validation MSE (log)\",\n",
    "    labels=labels,\n",
    "    nan_diagnal=True,\n",
    ")"
   ]
  },
  {
   "cell_type": "code",
   "execution_count": 63,
   "metadata": {},
   "outputs": [
    {
     "name": "stdout",
     "output_type": "stream",
     "text": [
      "\u001b[2;36m[12/13/24 20:05:15]\u001b[0m\u001b[2;36m \u001b[0m\u001b[1;34mINFO    \u001b[0m\u001b[1;32m \u001b[0m Saving HTML figure to            \u001b]8;id=899573;file:///Users/gat/work/FA2024/embedding_translation/src/viz/save_figure.py\u001b\\\u001b[1;36msave_figure.py\u001b[0m\u001b]8;;\u001b\\\u001b[1;36m:\u001b[0m\u001b]8;id=490907;file:///Users/gat/work/FA2024/embedding_translation/src/viz/save_figure.py#32\u001b\\\u001b[1;36m32\u001b[0m\u001b]8;;\u001b\\\n",
      "\u001b[2;36m                    \u001b[0m\u001b[1;32m         \u001b[0mdata/figs/html/complexity_vs_rank \u001b[1;36m                 \u001b[0m\n",
      "\u001b[2;36m                    \u001b[0m\u001b[1;32m         \u001b[0m.html                             \u001b[1;36m                 \u001b[0m\n"
     ]
    },
    {
     "name": "stdout",
     "output_type": "stream",
     "text": [
      "\u001b[2;36m                   \u001b[0m\u001b[2;36m \u001b[0m\u001b[1;32mSUCCESS \u001b[0m\u001b[1;32m \u001b[0m Successfully saved HTML to       \u001b]8;id=482313;file:///Users/gat/work/FA2024/embedding_translation/src/viz/save_figure.py\u001b\\\u001b[1;36msave_figure.py\u001b[0m\u001b]8;;\u001b\\\u001b[1;36m:\u001b[0m\u001b]8;id=275185;file:///Users/gat/work/FA2024/embedding_translation/src/viz/save_figure.py#40\u001b\\\u001b[1;36m40\u001b[0m\u001b]8;;\u001b\\\n",
      "\u001b[2;36m                    \u001b[0m\u001b[1;32m         \u001b[0mdata/figs/html/complexity_vs_rank \u001b[1;36m                 \u001b[0m\n",
      "\u001b[2;36m                    \u001b[0m\u001b[1;32m         \u001b[0m.html                             \u001b[1;36m                 \u001b[0m\n",
      "\u001b[2;36m                   \u001b[0m\u001b[2;36m \u001b[0m\u001b[1;34mINFO    \u001b[0m\u001b[1;32m \u001b[0m Saving PNG figure to             \u001b]8;id=823599;file:///Users/gat/work/FA2024/embedding_translation/src/viz/save_figure.py\u001b\\\u001b[1;36msave_figure.py\u001b[0m\u001b]8;;\u001b\\\u001b[1;36m:\u001b[0m\u001b]8;id=30733;file:///Users/gat/work/FA2024/embedding_translation/src/viz/save_figure.py#67\u001b\\\u001b[1;36m67\u001b[0m\u001b]8;;\u001b\\\n",
      "\u001b[2;36m                    \u001b[0m\u001b[1;32m         \u001b[0mdata/figs/imgs/complexity_vs_rank \u001b[1;36m                 \u001b[0m\n",
      "\u001b[2;36m                    \u001b[0m\u001b[1;32m         \u001b[0m.png                              \u001b[1;36m                 \u001b[0m\n",
      "\u001b[2;36m                   \u001b[0m\u001b[2;36m \u001b[0m\u001b[1;32mSUCCESS \u001b[0m\u001b[1;32m \u001b[0m Successfully saved PNG to        \u001b]8;id=746335;file:///Users/gat/work/FA2024/embedding_translation/src/viz/save_figure.py\u001b\\\u001b[1;36msave_figure.py\u001b[0m\u001b]8;;\u001b\\\u001b[1;36m:\u001b[0m\u001b]8;id=818293;file:///Users/gat/work/FA2024/embedding_translation/src/viz/save_figure.py#76\u001b\\\u001b[1;36m76\u001b[0m\u001b]8;;\u001b\\\n",
      "\u001b[2;36m                    \u001b[0m\u001b[1;32m         \u001b[0mdata/figs/imgs/complexity_vs_rank \u001b[1;36m                 \u001b[0m\n",
      "\u001b[2;36m                    \u001b[0m\u001b[1;32m         \u001b[0m.png                              \u001b[1;36m                 \u001b[0m\n",
      "\u001b[2;36m[12/13/24 20:05:16]\u001b[0m\u001b[2;36m \u001b[0m\u001b[1;34mINFO    \u001b[0m\u001b[1;32m \u001b[0m\u001b[1m[\u001b[0m\u001b[1;36m220785227.\u001b[0mpy:\u001b[1;36m42\u001b[0m\u001b[1m]\u001b[0m Creating heatmap  \u001b]8;id=974895;file:///var/folders/6f/f4k9qbkd5nqfywwdhvwdtl5m0000gn/T/ipykernel_39579/220785227.py\u001b\\\u001b[1;36m220785227.py\u001b[0m\u001b]8;;\u001b\\\u001b[1;36m:\u001b[0m\u001b]8;id=74177;file:///var/folders/6f/f4k9qbkd5nqfywwdhvwdtl5m0000gn/T/ipykernel_39579/220785227.py#42\u001b\\\u001b[1;36m42\u001b[0m\u001b]8;;\u001b\\\n",
      "\u001b[2;36m                    \u001b[0m\u001b[1;32m         \u001b[0mvisualization\u001b[33m...\u001b[0m                    \u001b[1;36m               \u001b[0m\n",
      "\u001b[2;36m                   \u001b[0m\u001b[2;36m \u001b[0m\u001b[1;34mINFO    \u001b[0m\u001b[1;32m \u001b[0m\u001b[1m[\u001b[0m\u001b[1;36m220785227.\u001b[0mpy:\u001b[1;36m42\u001b[0m\u001b[1m]\u001b[0m Creating heatmap  \u001b]8;id=250278;file:///var/folders/6f/f4k9qbkd5nqfywwdhvwdtl5m0000gn/T/ipykernel_39579/220785227.py\u001b\\\u001b[1;36m220785227.py\u001b[0m\u001b]8;;\u001b\\\u001b[1;36m:\u001b[0m\u001b]8;id=350438;file:///var/folders/6f/f4k9qbkd5nqfywwdhvwdtl5m0000gn/T/ipykernel_39579/220785227.py#42\u001b\\\u001b[1;36m42\u001b[0m\u001b]8;;\u001b\\\n",
      "\u001b[2;36m                    \u001b[0m\u001b[1;32m         \u001b[0mvisualization\u001b[33m...\u001b[0m                    \u001b[1;36m               \u001b[0m\n",
      "\u001b[2;36m                   \u001b[0m\u001b[2;36m \u001b[0m\u001b[1;34mINFO    \u001b[0m\u001b[1;32m \u001b[0m\u001b[1m[\u001b[0m\u001b[1;36m220785227.\u001b[0mpy:\u001b[1;36m42\u001b[0m\u001b[1m]\u001b[0m Creating heatmap  \u001b]8;id=939570;file:///var/folders/6f/f4k9qbkd5nqfywwdhvwdtl5m0000gn/T/ipykernel_39579/220785227.py\u001b\\\u001b[1;36m220785227.py\u001b[0m\u001b]8;;\u001b\\\u001b[1;36m:\u001b[0m\u001b]8;id=67280;file:///var/folders/6f/f4k9qbkd5nqfywwdhvwdtl5m0000gn/T/ipykernel_39579/220785227.py#42\u001b\\\u001b[1;36m42\u001b[0m\u001b]8;;\u001b\\\n",
      "\u001b[2;36m                    \u001b[0m\u001b[1;32m         \u001b[0mvisualization\u001b[33m...\u001b[0m                    \u001b[1;36m               \u001b[0m\n",
      "\u001b[2;36m                   \u001b[0m\u001b[2;36m \u001b[0m\u001b[1;34mINFO    \u001b[0m\u001b[1;32m \u001b[0m\u001b[1m[\u001b[0m\u001b[1;36m220785227.\u001b[0mpy:\u001b[1;36m42\u001b[0m\u001b[1m]\u001b[0m Creating heatmap  \u001b]8;id=880777;file:///var/folders/6f/f4k9qbkd5nqfywwdhvwdtl5m0000gn/T/ipykernel_39579/220785227.py\u001b\\\u001b[1;36m220785227.py\u001b[0m\u001b]8;;\u001b\\\u001b[1;36m:\u001b[0m\u001b]8;id=386754;file:///var/folders/6f/f4k9qbkd5nqfywwdhvwdtl5m0000gn/T/ipykernel_39579/220785227.py#42\u001b\\\u001b[1;36m42\u001b[0m\u001b]8;;\u001b\\\n",
      "\u001b[2;36m                    \u001b[0m\u001b[1;32m         \u001b[0mvisualization\u001b[33m...\u001b[0m                    \u001b[1;36m               \u001b[0m\n",
      "\u001b[2;36m                   \u001b[0m\u001b[2;36m \u001b[0m\u001b[1;34mINFO    \u001b[0m\u001b[1;32m \u001b[0m\u001b[1m[\u001b[0m\u001b[1;36m220785227.\u001b[0mpy:\u001b[1;36m42\u001b[0m\u001b[1m]\u001b[0m Creating heatmap  \u001b]8;id=588472;file:///var/folders/6f/f4k9qbkd5nqfywwdhvwdtl5m0000gn/T/ipykernel_39579/220785227.py\u001b\\\u001b[1;36m220785227.py\u001b[0m\u001b]8;;\u001b\\\u001b[1;36m:\u001b[0m\u001b]8;id=255224;file:///var/folders/6f/f4k9qbkd5nqfywwdhvwdtl5m0000gn/T/ipykernel_39579/220785227.py#42\u001b\\\u001b[1;36m42\u001b[0m\u001b]8;;\u001b\\\n",
      "\u001b[2;36m                    \u001b[0m\u001b[1;32m         \u001b[0mvisualization\u001b[33m...\u001b[0m                    \u001b[1;36m               \u001b[0m\n",
      "\u001b[2;36m                   \u001b[0m\u001b[2;36m \u001b[0m\u001b[1;34mINFO    \u001b[0m\u001b[1;32m \u001b[0m\u001b[1m[\u001b[0m\u001b[1;36m220785227.\u001b[0mpy:\u001b[1;36m42\u001b[0m\u001b[1m]\u001b[0m Creating heatmap  \u001b]8;id=438960;file:///var/folders/6f/f4k9qbkd5nqfywwdhvwdtl5m0000gn/T/ipykernel_39579/220785227.py\u001b\\\u001b[1;36m220785227.py\u001b[0m\u001b]8;;\u001b\\\u001b[1;36m:\u001b[0m\u001b]8;id=103247;file:///var/folders/6f/f4k9qbkd5nqfywwdhvwdtl5m0000gn/T/ipykernel_39579/220785227.py#42\u001b\\\u001b[1;36m42\u001b[0m\u001b]8;;\u001b\\\n",
      "\u001b[2;36m                    \u001b[0m\u001b[1;32m         \u001b[0mvisualization\u001b[33m...\u001b[0m                    \u001b[1;36m               \u001b[0m\n",
      "\u001b[2;36m                   \u001b[0m\u001b[2;36m \u001b[0m\u001b[1;34mINFO    \u001b[0m\u001b[1;32m \u001b[0m\u001b[1m[\u001b[0m\u001b[1;36m220785227.\u001b[0mpy:\u001b[1;36m42\u001b[0m\u001b[1m]\u001b[0m Creating heatmap  \u001b]8;id=407027;file:///var/folders/6f/f4k9qbkd5nqfywwdhvwdtl5m0000gn/T/ipykernel_39579/220785227.py\u001b\\\u001b[1;36m220785227.py\u001b[0m\u001b]8;;\u001b\\\u001b[1;36m:\u001b[0m\u001b]8;id=813046;file:///var/folders/6f/f4k9qbkd5nqfywwdhvwdtl5m0000gn/T/ipykernel_39579/220785227.py#42\u001b\\\u001b[1;36m42\u001b[0m\u001b]8;;\u001b\\\n",
      "\u001b[2;36m                    \u001b[0m\u001b[1;32m         \u001b[0mvisualization\u001b[33m...\u001b[0m                    \u001b[1;36m               \u001b[0m\n",
      "\u001b[2;36m                   \u001b[0m\u001b[2;36m \u001b[0m\u001b[1;34mINFO    \u001b[0m\u001b[1;32m \u001b[0m Saving HTML figure to            \u001b]8;id=533963;file:///Users/gat/work/FA2024/embedding_translation/src/viz/save_figure.py\u001b\\\u001b[1;36msave_figure.py\u001b[0m\u001b]8;;\u001b\\\u001b[1;36m:\u001b[0m\u001b]8;id=732517;file:///Users/gat/work/FA2024/embedding_translation/src/viz/save_figure.py#32\u001b\\\u001b[1;36m32\u001b[0m\u001b]8;;\u001b\\\n",
      "\u001b[2;36m                    \u001b[0m\u001b[1;32m         \u001b[0m\u001b[35m/Users/gat/work/FA2024/embedding_\u001b[0m \u001b[1;36m                 \u001b[0m\n",
      "\u001b[2;36m                    \u001b[0m\u001b[1;32m         \u001b[0m\u001b[35mtranslation/data/figs/html/\u001b[0m\u001b[95marguan\u001b[0m \u001b[1;36m                 \u001b[0m\n",
      "\u001b[2;36m                    \u001b[0m\u001b[1;32m         \u001b[0m\u001b[95ma_all_layers_mse_withlog_validati\u001b[0m \u001b[1;36m                 \u001b[0m\n",
      "\u001b[2;36m                    \u001b[0m\u001b[1;32m         \u001b[0m\u001b[95mon.html\u001b[0m                           \u001b[1;36m                 \u001b[0m\n",
      "\u001b[2;36m                   \u001b[0m\u001b[2;36m \u001b[0m\u001b[1;32mSUCCESS \u001b[0m\u001b[1;32m \u001b[0m Successfully saved HTML to       \u001b]8;id=754087;file:///Users/gat/work/FA2024/embedding_translation/src/viz/save_figure.py\u001b\\\u001b[1;36msave_figure.py\u001b[0m\u001b]8;;\u001b\\\u001b[1;36m:\u001b[0m\u001b]8;id=868137;file:///Users/gat/work/FA2024/embedding_translation/src/viz/save_figure.py#40\u001b\\\u001b[1;36m40\u001b[0m\u001b]8;;\u001b\\\n",
      "\u001b[2;36m                    \u001b[0m\u001b[1;32m         \u001b[0m\u001b[35m/Users/gat/work/FA2024/embedding_\u001b[0m \u001b[1;36m                 \u001b[0m\n",
      "\u001b[2;36m                    \u001b[0m\u001b[1;32m         \u001b[0m\u001b[35mtranslation/data/figs/html/\u001b[0m\u001b[95marguan\u001b[0m \u001b[1;36m                 \u001b[0m\n",
      "\u001b[2;36m                    \u001b[0m\u001b[1;32m         \u001b[0m\u001b[95ma_all_layers_mse_withlog_validati\u001b[0m \u001b[1;36m                 \u001b[0m\n",
      "\u001b[2;36m                    \u001b[0m\u001b[1;32m         \u001b[0m\u001b[95mon.html\u001b[0m                           \u001b[1;36m                 \u001b[0m\n",
      "\u001b[2;36m                   \u001b[0m\u001b[2;36m \u001b[0m\u001b[1;34mINFO    \u001b[0m\u001b[1;32m \u001b[0m Saving PNG figure to             \u001b]8;id=527619;file:///Users/gat/work/FA2024/embedding_translation/src/viz/save_figure.py\u001b\\\u001b[1;36msave_figure.py\u001b[0m\u001b]8;;\u001b\\\u001b[1;36m:\u001b[0m\u001b]8;id=325657;file:///Users/gat/work/FA2024/embedding_translation/src/viz/save_figure.py#67\u001b\\\u001b[1;36m67\u001b[0m\u001b]8;;\u001b\\\n",
      "\u001b[2;36m                    \u001b[0m\u001b[1;32m         \u001b[0m\u001b[35m/Users/gat/work/FA2024/embedding_\u001b[0m \u001b[1;36m                 \u001b[0m\n",
      "\u001b[2;36m                    \u001b[0m\u001b[1;32m         \u001b[0m\u001b[35mtranslation/data/figs/imgs/\u001b[0m\u001b[95marguan\u001b[0m \u001b[1;36m                 \u001b[0m\n",
      "\u001b[2;36m                    \u001b[0m\u001b[1;32m         \u001b[0m\u001b[95ma_all_layers_mse_withlog_validati\u001b[0m \u001b[1;36m                 \u001b[0m\n",
      "\u001b[2;36m                    \u001b[0m\u001b[1;32m         \u001b[0m\u001b[95mon.png\u001b[0m                            \u001b[1;36m                 \u001b[0m\n",
      "\u001b[2;36m                   \u001b[0m\u001b[2;36m \u001b[0m\u001b[1;32mSUCCESS \u001b[0m\u001b[1;32m \u001b[0m Successfully saved PNG to        \u001b]8;id=693085;file:///Users/gat/work/FA2024/embedding_translation/src/viz/save_figure.py\u001b\\\u001b[1;36msave_figure.py\u001b[0m\u001b]8;;\u001b\\\u001b[1;36m:\u001b[0m\u001b]8;id=742780;file:///Users/gat/work/FA2024/embedding_translation/src/viz/save_figure.py#76\u001b\\\u001b[1;36m76\u001b[0m\u001b]8;;\u001b\\\n",
      "\u001b[2;36m                    \u001b[0m\u001b[1;32m         \u001b[0m\u001b[35m/Users/gat/work/FA2024/embedding_\u001b[0m \u001b[1;36m                 \u001b[0m\n",
      "\u001b[2;36m                    \u001b[0m\u001b[1;32m         \u001b[0m\u001b[35mtranslation/data/figs/imgs/\u001b[0m\u001b[95marguan\u001b[0m \u001b[1;36m                 \u001b[0m\n",
      "\u001b[2;36m                    \u001b[0m\u001b[1;32m         \u001b[0m\u001b[95ma_all_layers_mse_withlog_validati\u001b[0m \u001b[1;36m                 \u001b[0m\n",
      "\u001b[2;36m                    \u001b[0m\u001b[1;32m         \u001b[0m\u001b[95mon.png\u001b[0m                            \u001b[1;36m                 \u001b[0m\n",
      "\u001b[2;36m                   \u001b[0m\u001b[2;36m \u001b[0m\u001b[1;34mINFO    \u001b[0m\u001b[1;32m \u001b[0m Saving HTML figure to            \u001b]8;id=772245;file:///Users/gat/work/FA2024/embedding_translation/src/viz/save_figure.py\u001b\\\u001b[1;36msave_figure.py\u001b[0m\u001b]8;;\u001b\\\u001b[1;36m:\u001b[0m\u001b]8;id=331332;file:///Users/gat/work/FA2024/embedding_translation/src/viz/save_figure.py#32\u001b\\\u001b[1;36m32\u001b[0m\u001b]8;;\u001b\\\n",
      "\u001b[2;36m                    \u001b[0m\u001b[1;32m         \u001b[0m\u001b[35m/Users/gat/work/FA2024/embedding_\u001b[0m \u001b[1;36m                 \u001b[0m\n",
      "\u001b[2;36m                    \u001b[0m\u001b[1;32m         \u001b[0m\u001b[35mtranslation/src/blog/figs/gatlen/\u001b[0m \u001b[1;36m                 \u001b[0m\n",
      "\u001b[2;36m                    \u001b[0m\u001b[1;32m         \u001b[0m\u001b[35mhtml/\u001b[0m\u001b[95marguana_all_layers_mse_withl\u001b[0m \u001b[1;36m                 \u001b[0m\n",
      "\u001b[2;36m                    \u001b[0m\u001b[1;32m         \u001b[0m\u001b[95mog_validation.html\u001b[0m                \u001b[1;36m                 \u001b[0m\n",
      "\u001b[2;36m                   \u001b[0m\u001b[2;36m \u001b[0m\u001b[1;32mSUCCESS \u001b[0m\u001b[1;32m \u001b[0m Successfully saved HTML to       \u001b]8;id=50521;file:///Users/gat/work/FA2024/embedding_translation/src/viz/save_figure.py\u001b\\\u001b[1;36msave_figure.py\u001b[0m\u001b]8;;\u001b\\\u001b[1;36m:\u001b[0m\u001b]8;id=371425;file:///Users/gat/work/FA2024/embedding_translation/src/viz/save_figure.py#40\u001b\\\u001b[1;36m40\u001b[0m\u001b]8;;\u001b\\\n",
      "\u001b[2;36m                    \u001b[0m\u001b[1;32m         \u001b[0m\u001b[35m/Users/gat/work/FA2024/embedding_\u001b[0m \u001b[1;36m                 \u001b[0m\n",
      "\u001b[2;36m                    \u001b[0m\u001b[1;32m         \u001b[0m\u001b[35mtranslation/src/blog/figs/gatlen/\u001b[0m \u001b[1;36m                 \u001b[0m\n",
      "\u001b[2;36m                    \u001b[0m\u001b[1;32m         \u001b[0m\u001b[35mhtml/\u001b[0m\u001b[95marguana_all_layers_mse_withl\u001b[0m \u001b[1;36m                 \u001b[0m\n",
      "\u001b[2;36m                    \u001b[0m\u001b[1;32m         \u001b[0m\u001b[95mog_validation.html\u001b[0m                \u001b[1;36m                 \u001b[0m\n",
      "\u001b[2;36m                   \u001b[0m\u001b[2;36m \u001b[0m\u001b[1;34mINFO    \u001b[0m\u001b[1;32m \u001b[0m Saving PNG figure to             \u001b]8;id=176391;file:///Users/gat/work/FA2024/embedding_translation/src/viz/save_figure.py\u001b\\\u001b[1;36msave_figure.py\u001b[0m\u001b]8;;\u001b\\\u001b[1;36m:\u001b[0m\u001b]8;id=605959;file:///Users/gat/work/FA2024/embedding_translation/src/viz/save_figure.py#67\u001b\\\u001b[1;36m67\u001b[0m\u001b]8;;\u001b\\\n",
      "\u001b[2;36m                    \u001b[0m\u001b[1;32m         \u001b[0m\u001b[35m/Users/gat/work/FA2024/embedding_\u001b[0m \u001b[1;36m                 \u001b[0m\n",
      "\u001b[2;36m                    \u001b[0m\u001b[1;32m         \u001b[0m\u001b[35mtranslation/src/blog/figs/gatlen/\u001b[0m \u001b[1;36m                 \u001b[0m\n",
      "\u001b[2;36m                    \u001b[0m\u001b[1;32m         \u001b[0m\u001b[35mimgs/\u001b[0m\u001b[95marguana_all_layers_mse_withl\u001b[0m \u001b[1;36m                 \u001b[0m\n",
      "\u001b[2;36m                    \u001b[0m\u001b[1;32m         \u001b[0m\u001b[95mog_validation.png\u001b[0m                 \u001b[1;36m                 \u001b[0m\n",
      "\u001b[2;36m                   \u001b[0m\u001b[2;36m \u001b[0m\u001b[1;32mSUCCESS \u001b[0m\u001b[1;32m \u001b[0m Successfully saved PNG to        \u001b]8;id=938101;file:///Users/gat/work/FA2024/embedding_translation/src/viz/save_figure.py\u001b\\\u001b[1;36msave_figure.py\u001b[0m\u001b]8;;\u001b\\\u001b[1;36m:\u001b[0m\u001b]8;id=287219;file:///Users/gat/work/FA2024/embedding_translation/src/viz/save_figure.py#76\u001b\\\u001b[1;36m76\u001b[0m\u001b]8;;\u001b\\\n",
      "\u001b[2;36m                    \u001b[0m\u001b[1;32m         \u001b[0m\u001b[35m/Users/gat/work/FA2024/embedding_\u001b[0m \u001b[1;36m                 \u001b[0m\n",
      "\u001b[2;36m                    \u001b[0m\u001b[1;32m         \u001b[0m\u001b[35mtranslation/src/blog/figs/gatlen/\u001b[0m \u001b[1;36m                 \u001b[0m\n",
      "\u001b[2;36m                    \u001b[0m\u001b[1;32m         \u001b[0m\u001b[35mimgs/\u001b[0m\u001b[95marguana_all_layers_mse_withl\u001b[0m \u001b[1;36m                 \u001b[0m\n",
      "\u001b[2;36m                    \u001b[0m\u001b[1;32m         \u001b[0m\u001b[95mog_validation.png\u001b[0m                 \u001b[1;36m                 \u001b[0m\n",
      "\u001b[2;36m                   \u001b[0m\u001b[2;36m \u001b[0m\u001b[1;34mINFO    \u001b[0m\u001b[1;32m \u001b[0m\u001b[1m[\u001b[0m\u001b[1;36m220785227.\u001b[0mpy:\u001b[1;36m42\u001b[0m\u001b[1m]\u001b[0m Creating heatmap  \u001b]8;id=2377;file:///var/folders/6f/f4k9qbkd5nqfywwdhvwdtl5m0000gn/T/ipykernel_39579/220785227.py\u001b\\\u001b[1;36m220785227.py\u001b[0m\u001b]8;;\u001b\\\u001b[1;36m:\u001b[0m\u001b]8;id=858408;file:///var/folders/6f/f4k9qbkd5nqfywwdhvwdtl5m0000gn/T/ipykernel_39579/220785227.py#42\u001b\\\u001b[1;36m42\u001b[0m\u001b]8;;\u001b\\\n",
      "\u001b[2;36m                    \u001b[0m\u001b[1;32m         \u001b[0mvisualization\u001b[33m...\u001b[0m                    \u001b[1;36m               \u001b[0m\n",
      "\u001b[2;36m                   \u001b[0m\u001b[2;36m \u001b[0m\u001b[1;34mINFO    \u001b[0m\u001b[1;32m \u001b[0m\u001b[1m[\u001b[0m\u001b[1;36m220785227.\u001b[0mpy:\u001b[1;36m42\u001b[0m\u001b[1m]\u001b[0m Creating heatmap  \u001b]8;id=894934;file:///var/folders/6f/f4k9qbkd5nqfywwdhvwdtl5m0000gn/T/ipykernel_39579/220785227.py\u001b\\\u001b[1;36m220785227.py\u001b[0m\u001b]8;;\u001b\\\u001b[1;36m:\u001b[0m\u001b]8;id=403884;file:///var/folders/6f/f4k9qbkd5nqfywwdhvwdtl5m0000gn/T/ipykernel_39579/220785227.py#42\u001b\\\u001b[1;36m42\u001b[0m\u001b]8;;\u001b\\\n",
      "\u001b[2;36m                    \u001b[0m\u001b[1;32m         \u001b[0mvisualization\u001b[33m...\u001b[0m                    \u001b[1;36m               \u001b[0m\n",
      "\u001b[2;36m                   \u001b[0m\u001b[2;36m \u001b[0m\u001b[1;34mINFO    \u001b[0m\u001b[1;32m \u001b[0m\u001b[1m[\u001b[0m\u001b[1;36m220785227.\u001b[0mpy:\u001b[1;36m42\u001b[0m\u001b[1m]\u001b[0m Creating heatmap  \u001b]8;id=875253;file:///var/folders/6f/f4k9qbkd5nqfywwdhvwdtl5m0000gn/T/ipykernel_39579/220785227.py\u001b\\\u001b[1;36m220785227.py\u001b[0m\u001b]8;;\u001b\\\u001b[1;36m:\u001b[0m\u001b]8;id=39021;file:///var/folders/6f/f4k9qbkd5nqfywwdhvwdtl5m0000gn/T/ipykernel_39579/220785227.py#42\u001b\\\u001b[1;36m42\u001b[0m\u001b]8;;\u001b\\\n",
      "\u001b[2;36m                    \u001b[0m\u001b[1;32m         \u001b[0mvisualization\u001b[33m...\u001b[0m                    \u001b[1;36m               \u001b[0m\n",
      "\u001b[2;36m                   \u001b[0m\u001b[2;36m \u001b[0m\u001b[1;34mINFO    \u001b[0m\u001b[1;32m \u001b[0m\u001b[1m[\u001b[0m\u001b[1;36m220785227.\u001b[0mpy:\u001b[1;36m42\u001b[0m\u001b[1m]\u001b[0m Creating heatmap  \u001b]8;id=997868;file:///var/folders/6f/f4k9qbkd5nqfywwdhvwdtl5m0000gn/T/ipykernel_39579/220785227.py\u001b\\\u001b[1;36m220785227.py\u001b[0m\u001b]8;;\u001b\\\u001b[1;36m:\u001b[0m\u001b]8;id=705774;file:///var/folders/6f/f4k9qbkd5nqfywwdhvwdtl5m0000gn/T/ipykernel_39579/220785227.py#42\u001b\\\u001b[1;36m42\u001b[0m\u001b]8;;\u001b\\\n",
      "\u001b[2;36m                    \u001b[0m\u001b[1;32m         \u001b[0mvisualization\u001b[33m...\u001b[0m                    \u001b[1;36m               \u001b[0m\n",
      "\u001b[2;36m                   \u001b[0m\u001b[2;36m \u001b[0m\u001b[1;34mINFO    \u001b[0m\u001b[1;32m \u001b[0m\u001b[1m[\u001b[0m\u001b[1;36m220785227.\u001b[0mpy:\u001b[1;36m42\u001b[0m\u001b[1m]\u001b[0m Creating heatmap  \u001b]8;id=743835;file:///var/folders/6f/f4k9qbkd5nqfywwdhvwdtl5m0000gn/T/ipykernel_39579/220785227.py\u001b\\\u001b[1;36m220785227.py\u001b[0m\u001b]8;;\u001b\\\u001b[1;36m:\u001b[0m\u001b]8;id=269023;file:///var/folders/6f/f4k9qbkd5nqfywwdhvwdtl5m0000gn/T/ipykernel_39579/220785227.py#42\u001b\\\u001b[1;36m42\u001b[0m\u001b]8;;\u001b\\\n",
      "\u001b[2;36m                    \u001b[0m\u001b[1;32m         \u001b[0mvisualization\u001b[33m...\u001b[0m                    \u001b[1;36m               \u001b[0m\n",
      "\u001b[2;36m                   \u001b[0m\u001b[2;36m \u001b[0m\u001b[1;34mINFO    \u001b[0m\u001b[1;32m \u001b[0m\u001b[1m[\u001b[0m\u001b[1;36m220785227.\u001b[0mpy:\u001b[1;36m42\u001b[0m\u001b[1m]\u001b[0m Creating heatmap  \u001b]8;id=951733;file:///var/folders/6f/f4k9qbkd5nqfywwdhvwdtl5m0000gn/T/ipykernel_39579/220785227.py\u001b\\\u001b[1;36m220785227.py\u001b[0m\u001b]8;;\u001b\\\u001b[1;36m:\u001b[0m\u001b]8;id=207548;file:///var/folders/6f/f4k9qbkd5nqfywwdhvwdtl5m0000gn/T/ipykernel_39579/220785227.py#42\u001b\\\u001b[1;36m42\u001b[0m\u001b]8;;\u001b\\\n",
      "\u001b[2;36m                    \u001b[0m\u001b[1;32m         \u001b[0mvisualization\u001b[33m...\u001b[0m                    \u001b[1;36m               \u001b[0m\n",
      "\u001b[2;36m                   \u001b[0m\u001b[2;36m \u001b[0m\u001b[1;34mINFO    \u001b[0m\u001b[1;32m \u001b[0m\u001b[1m[\u001b[0m\u001b[1;36m220785227.\u001b[0mpy:\u001b[1;36m42\u001b[0m\u001b[1m]\u001b[0m Creating heatmap  \u001b]8;id=350639;file:///var/folders/6f/f4k9qbkd5nqfywwdhvwdtl5m0000gn/T/ipykernel_39579/220785227.py\u001b\\\u001b[1;36m220785227.py\u001b[0m\u001b]8;;\u001b\\\u001b[1;36m:\u001b[0m\u001b]8;id=710702;file:///var/folders/6f/f4k9qbkd5nqfywwdhvwdtl5m0000gn/T/ipykernel_39579/220785227.py#42\u001b\\\u001b[1;36m42\u001b[0m\u001b]8;;\u001b\\\n",
      "\u001b[2;36m                    \u001b[0m\u001b[1;32m         \u001b[0mvisualization\u001b[33m...\u001b[0m                    \u001b[1;36m               \u001b[0m\n",
      "\u001b[2;36m                   \u001b[0m\u001b[2;36m \u001b[0m\u001b[1;34mINFO    \u001b[0m\u001b[1;32m \u001b[0m Saving HTML figure to            \u001b]8;id=683507;file:///Users/gat/work/FA2024/embedding_translation/src/viz/save_figure.py\u001b\\\u001b[1;36msave_figure.py\u001b[0m\u001b]8;;\u001b\\\u001b[1;36m:\u001b[0m\u001b]8;id=398943;file:///Users/gat/work/FA2024/embedding_translation/src/viz/save_figure.py#32\u001b\\\u001b[1;36m32\u001b[0m\u001b]8;;\u001b\\\n",
      "\u001b[2;36m                    \u001b[0m\u001b[1;32m         \u001b[0m\u001b[35m/Users/gat/work/FA2024/embedding_\u001b[0m \u001b[1;36m                 \u001b[0m\n",
      "\u001b[2;36m                    \u001b[0m\u001b[1;32m         \u001b[0m\u001b[35mtranslation/data/figs/html/\u001b[0m\u001b[95mfiqa_a\u001b[0m \u001b[1;36m                 \u001b[0m\n",
      "\u001b[2;36m                    \u001b[0m\u001b[1;32m         \u001b[0m\u001b[95mll_layers_mse_withlog_validation.\u001b[0m \u001b[1;36m                 \u001b[0m\n",
      "\u001b[2;36m                    \u001b[0m\u001b[1;32m         \u001b[0m\u001b[95mhtml\u001b[0m                              \u001b[1;36m                 \u001b[0m\n",
      "\u001b[2;36m                   \u001b[0m\u001b[2;36m \u001b[0m\u001b[1;32mSUCCESS \u001b[0m\u001b[1;32m \u001b[0m Successfully saved HTML to       \u001b]8;id=289338;file:///Users/gat/work/FA2024/embedding_translation/src/viz/save_figure.py\u001b\\\u001b[1;36msave_figure.py\u001b[0m\u001b]8;;\u001b\\\u001b[1;36m:\u001b[0m\u001b]8;id=841509;file:///Users/gat/work/FA2024/embedding_translation/src/viz/save_figure.py#40\u001b\\\u001b[1;36m40\u001b[0m\u001b]8;;\u001b\\\n",
      "\u001b[2;36m                    \u001b[0m\u001b[1;32m         \u001b[0m\u001b[35m/Users/gat/work/FA2024/embedding_\u001b[0m \u001b[1;36m                 \u001b[0m\n",
      "\u001b[2;36m                    \u001b[0m\u001b[1;32m         \u001b[0m\u001b[35mtranslation/data/figs/html/\u001b[0m\u001b[95mfiqa_a\u001b[0m \u001b[1;36m                 \u001b[0m\n",
      "\u001b[2;36m                    \u001b[0m\u001b[1;32m         \u001b[0m\u001b[95mll_layers_mse_withlog_validation.\u001b[0m \u001b[1;36m                 \u001b[0m\n",
      "\u001b[2;36m                    \u001b[0m\u001b[1;32m         \u001b[0m\u001b[95mhtml\u001b[0m                              \u001b[1;36m                 \u001b[0m\n",
      "\u001b[2;36m                   \u001b[0m\u001b[2;36m \u001b[0m\u001b[1;34mINFO    \u001b[0m\u001b[1;32m \u001b[0m Saving PNG figure to             \u001b]8;id=996355;file:///Users/gat/work/FA2024/embedding_translation/src/viz/save_figure.py\u001b\\\u001b[1;36msave_figure.py\u001b[0m\u001b]8;;\u001b\\\u001b[1;36m:\u001b[0m\u001b]8;id=900210;file:///Users/gat/work/FA2024/embedding_translation/src/viz/save_figure.py#67\u001b\\\u001b[1;36m67\u001b[0m\u001b]8;;\u001b\\\n",
      "\u001b[2;36m                    \u001b[0m\u001b[1;32m         \u001b[0m\u001b[35m/Users/gat/work/FA2024/embedding_\u001b[0m \u001b[1;36m                 \u001b[0m\n",
      "\u001b[2;36m                    \u001b[0m\u001b[1;32m         \u001b[0m\u001b[35mtranslation/data/figs/imgs/\u001b[0m\u001b[95mfiqa_a\u001b[0m \u001b[1;36m                 \u001b[0m\n",
      "\u001b[2;36m                    \u001b[0m\u001b[1;32m         \u001b[0m\u001b[95mll_layers_mse_withlog_validation.\u001b[0m \u001b[1;36m                 \u001b[0m\n",
      "\u001b[2;36m                    \u001b[0m\u001b[1;32m         \u001b[0m\u001b[95mpng\u001b[0m                               \u001b[1;36m                 \u001b[0m\n",
      "\u001b[2;36m                   \u001b[0m\u001b[2;36m \u001b[0m\u001b[1;32mSUCCESS \u001b[0m\u001b[1;32m \u001b[0m Successfully saved PNG to        \u001b]8;id=492797;file:///Users/gat/work/FA2024/embedding_translation/src/viz/save_figure.py\u001b\\\u001b[1;36msave_figure.py\u001b[0m\u001b]8;;\u001b\\\u001b[1;36m:\u001b[0m\u001b]8;id=831891;file:///Users/gat/work/FA2024/embedding_translation/src/viz/save_figure.py#76\u001b\\\u001b[1;36m76\u001b[0m\u001b]8;;\u001b\\\n",
      "\u001b[2;36m                    \u001b[0m\u001b[1;32m         \u001b[0m\u001b[35m/Users/gat/work/FA2024/embedding_\u001b[0m \u001b[1;36m                 \u001b[0m\n",
      "\u001b[2;36m                    \u001b[0m\u001b[1;32m         \u001b[0m\u001b[35mtranslation/data/figs/imgs/\u001b[0m\u001b[95mfiqa_a\u001b[0m \u001b[1;36m                 \u001b[0m\n",
      "\u001b[2;36m                    \u001b[0m\u001b[1;32m         \u001b[0m\u001b[95mll_layers_mse_withlog_validation.\u001b[0m \u001b[1;36m                 \u001b[0m\n",
      "\u001b[2;36m                    \u001b[0m\u001b[1;32m         \u001b[0m\u001b[95mpng\u001b[0m                               \u001b[1;36m                 \u001b[0m\n",
      "\u001b[2;36m                   \u001b[0m\u001b[2;36m \u001b[0m\u001b[1;34mINFO    \u001b[0m\u001b[1;32m \u001b[0m Saving HTML figure to            \u001b]8;id=149326;file:///Users/gat/work/FA2024/embedding_translation/src/viz/save_figure.py\u001b\\\u001b[1;36msave_figure.py\u001b[0m\u001b]8;;\u001b\\\u001b[1;36m:\u001b[0m\u001b]8;id=433199;file:///Users/gat/work/FA2024/embedding_translation/src/viz/save_figure.py#32\u001b\\\u001b[1;36m32\u001b[0m\u001b]8;;\u001b\\\n",
      "\u001b[2;36m                    \u001b[0m\u001b[1;32m         \u001b[0m\u001b[35m/Users/gat/work/FA2024/embedding_\u001b[0m \u001b[1;36m                 \u001b[0m\n",
      "\u001b[2;36m                    \u001b[0m\u001b[1;32m         \u001b[0m\u001b[35mtranslation/src/blog/figs/gatlen/\u001b[0m \u001b[1;36m                 \u001b[0m\n",
      "\u001b[2;36m                    \u001b[0m\u001b[1;32m         \u001b[0m\u001b[35mhtml/\u001b[0m\u001b[95mfiqa_all_layers_mse_withlog_\u001b[0m \u001b[1;36m                 \u001b[0m\n",
      "\u001b[2;36m                    \u001b[0m\u001b[1;32m         \u001b[0m\u001b[95mvalidation.html\u001b[0m                   \u001b[1;36m                 \u001b[0m\n",
      "\u001b[2;36m                   \u001b[0m\u001b[2;36m \u001b[0m\u001b[1;32mSUCCESS \u001b[0m\u001b[1;32m \u001b[0m Successfully saved HTML to       \u001b]8;id=604982;file:///Users/gat/work/FA2024/embedding_translation/src/viz/save_figure.py\u001b\\\u001b[1;36msave_figure.py\u001b[0m\u001b]8;;\u001b\\\u001b[1;36m:\u001b[0m\u001b]8;id=769946;file:///Users/gat/work/FA2024/embedding_translation/src/viz/save_figure.py#40\u001b\\\u001b[1;36m40\u001b[0m\u001b]8;;\u001b\\\n",
      "\u001b[2;36m                    \u001b[0m\u001b[1;32m         \u001b[0m\u001b[35m/Users/gat/work/FA2024/embedding_\u001b[0m \u001b[1;36m                 \u001b[0m\n",
      "\u001b[2;36m                    \u001b[0m\u001b[1;32m         \u001b[0m\u001b[35mtranslation/src/blog/figs/gatlen/\u001b[0m \u001b[1;36m                 \u001b[0m\n",
      "\u001b[2;36m                    \u001b[0m\u001b[1;32m         \u001b[0m\u001b[35mhtml/\u001b[0m\u001b[95mfiqa_all_layers_mse_withlog_\u001b[0m \u001b[1;36m                 \u001b[0m\n",
      "\u001b[2;36m                    \u001b[0m\u001b[1;32m         \u001b[0m\u001b[95mvalidation.html\u001b[0m                   \u001b[1;36m                 \u001b[0m\n",
      "\u001b[2;36m                   \u001b[0m\u001b[2;36m \u001b[0m\u001b[1;34mINFO    \u001b[0m\u001b[1;32m \u001b[0m Saving PNG figure to             \u001b]8;id=414761;file:///Users/gat/work/FA2024/embedding_translation/src/viz/save_figure.py\u001b\\\u001b[1;36msave_figure.py\u001b[0m\u001b]8;;\u001b\\\u001b[1;36m:\u001b[0m\u001b]8;id=122045;file:///Users/gat/work/FA2024/embedding_translation/src/viz/save_figure.py#67\u001b\\\u001b[1;36m67\u001b[0m\u001b]8;;\u001b\\\n",
      "\u001b[2;36m                    \u001b[0m\u001b[1;32m         \u001b[0m\u001b[35m/Users/gat/work/FA2024/embedding_\u001b[0m \u001b[1;36m                 \u001b[0m\n",
      "\u001b[2;36m                    \u001b[0m\u001b[1;32m         \u001b[0m\u001b[35mtranslation/src/blog/figs/gatlen/\u001b[0m \u001b[1;36m                 \u001b[0m\n",
      "\u001b[2;36m                    \u001b[0m\u001b[1;32m         \u001b[0m\u001b[35mimgs/\u001b[0m\u001b[95mfiqa_all_layers_mse_withlog_\u001b[0m \u001b[1;36m                 \u001b[0m\n",
      "\u001b[2;36m                    \u001b[0m\u001b[1;32m         \u001b[0m\u001b[95mvalidation.png\u001b[0m                    \u001b[1;36m                 \u001b[0m\n",
      "\u001b[2;36m[12/13/24 20:05:17]\u001b[0m\u001b[2;36m \u001b[0m\u001b[1;32mSUCCESS \u001b[0m\u001b[1;32m \u001b[0m Successfully saved PNG to        \u001b]8;id=634069;file:///Users/gat/work/FA2024/embedding_translation/src/viz/save_figure.py\u001b\\\u001b[1;36msave_figure.py\u001b[0m\u001b]8;;\u001b\\\u001b[1;36m:\u001b[0m\u001b]8;id=25057;file:///Users/gat/work/FA2024/embedding_translation/src/viz/save_figure.py#76\u001b\\\u001b[1;36m76\u001b[0m\u001b]8;;\u001b\\\n",
      "\u001b[2;36m                    \u001b[0m\u001b[1;32m         \u001b[0m\u001b[35m/Users/gat/work/FA2024/embedding_\u001b[0m \u001b[1;36m                 \u001b[0m\n",
      "\u001b[2;36m                    \u001b[0m\u001b[1;32m         \u001b[0m\u001b[35mtranslation/src/blog/figs/gatlen/\u001b[0m \u001b[1;36m                 \u001b[0m\n",
      "\u001b[2;36m                    \u001b[0m\u001b[1;32m         \u001b[0m\u001b[35mimgs/\u001b[0m\u001b[95mfiqa_all_layers_mse_withlog_\u001b[0m \u001b[1;36m                 \u001b[0m\n",
      "\u001b[2;36m                    \u001b[0m\u001b[1;32m         \u001b[0m\u001b[95mvalidation.png\u001b[0m                    \u001b[1;36m                 \u001b[0m\n",
      "\u001b[2;36m                   \u001b[0m\u001b[2;36m \u001b[0m\u001b[1;34mINFO    \u001b[0m\u001b[1;32m \u001b[0m\u001b[1m[\u001b[0m\u001b[1;36m220785227.\u001b[0mpy:\u001b[1;36m42\u001b[0m\u001b[1m]\u001b[0m Creating heatmap  \u001b]8;id=688829;file:///var/folders/6f/f4k9qbkd5nqfywwdhvwdtl5m0000gn/T/ipykernel_39579/220785227.py\u001b\\\u001b[1;36m220785227.py\u001b[0m\u001b]8;;\u001b\\\u001b[1;36m:\u001b[0m\u001b]8;id=614107;file:///var/folders/6f/f4k9qbkd5nqfywwdhvwdtl5m0000gn/T/ipykernel_39579/220785227.py#42\u001b\\\u001b[1;36m42\u001b[0m\u001b]8;;\u001b\\\n",
      "\u001b[2;36m                    \u001b[0m\u001b[1;32m         \u001b[0mvisualization\u001b[33m...\u001b[0m                    \u001b[1;36m               \u001b[0m\n",
      "\u001b[2;36m                   \u001b[0m\u001b[2;36m \u001b[0m\u001b[1;34mINFO    \u001b[0m\u001b[1;32m \u001b[0m\u001b[1m[\u001b[0m\u001b[1;36m220785227.\u001b[0mpy:\u001b[1;36m42\u001b[0m\u001b[1m]\u001b[0m Creating heatmap  \u001b]8;id=835567;file:///var/folders/6f/f4k9qbkd5nqfywwdhvwdtl5m0000gn/T/ipykernel_39579/220785227.py\u001b\\\u001b[1;36m220785227.py\u001b[0m\u001b]8;;\u001b\\\u001b[1;36m:\u001b[0m\u001b]8;id=512245;file:///var/folders/6f/f4k9qbkd5nqfywwdhvwdtl5m0000gn/T/ipykernel_39579/220785227.py#42\u001b\\\u001b[1;36m42\u001b[0m\u001b]8;;\u001b\\\n",
      "\u001b[2;36m                    \u001b[0m\u001b[1;32m         \u001b[0mvisualization\u001b[33m...\u001b[0m                    \u001b[1;36m               \u001b[0m\n",
      "\u001b[2;36m                   \u001b[0m\u001b[2;36m \u001b[0m\u001b[1;34mINFO    \u001b[0m\u001b[1;32m \u001b[0m\u001b[1m[\u001b[0m\u001b[1;36m220785227.\u001b[0mpy:\u001b[1;36m42\u001b[0m\u001b[1m]\u001b[0m Creating heatmap  \u001b]8;id=429323;file:///var/folders/6f/f4k9qbkd5nqfywwdhvwdtl5m0000gn/T/ipykernel_39579/220785227.py\u001b\\\u001b[1;36m220785227.py\u001b[0m\u001b]8;;\u001b\\\u001b[1;36m:\u001b[0m\u001b]8;id=4784;file:///var/folders/6f/f4k9qbkd5nqfywwdhvwdtl5m0000gn/T/ipykernel_39579/220785227.py#42\u001b\\\u001b[1;36m42\u001b[0m\u001b]8;;\u001b\\\n",
      "\u001b[2;36m                    \u001b[0m\u001b[1;32m         \u001b[0mvisualization\u001b[33m...\u001b[0m                    \u001b[1;36m               \u001b[0m\n",
      "\u001b[2;36m                   \u001b[0m\u001b[2;36m \u001b[0m\u001b[1;34mINFO    \u001b[0m\u001b[1;32m \u001b[0m\u001b[1m[\u001b[0m\u001b[1;36m220785227.\u001b[0mpy:\u001b[1;36m42\u001b[0m\u001b[1m]\u001b[0m Creating heatmap  \u001b]8;id=641303;file:///var/folders/6f/f4k9qbkd5nqfywwdhvwdtl5m0000gn/T/ipykernel_39579/220785227.py\u001b\\\u001b[1;36m220785227.py\u001b[0m\u001b]8;;\u001b\\\u001b[1;36m:\u001b[0m\u001b]8;id=540268;file:///var/folders/6f/f4k9qbkd5nqfywwdhvwdtl5m0000gn/T/ipykernel_39579/220785227.py#42\u001b\\\u001b[1;36m42\u001b[0m\u001b]8;;\u001b\\\n",
      "\u001b[2;36m                    \u001b[0m\u001b[1;32m         \u001b[0mvisualization\u001b[33m...\u001b[0m                    \u001b[1;36m               \u001b[0m\n",
      "\u001b[2;36m                   \u001b[0m\u001b[2;36m \u001b[0m\u001b[1;34mINFO    \u001b[0m\u001b[1;32m \u001b[0m\u001b[1m[\u001b[0m\u001b[1;36m220785227.\u001b[0mpy:\u001b[1;36m42\u001b[0m\u001b[1m]\u001b[0m Creating heatmap  \u001b]8;id=885449;file:///var/folders/6f/f4k9qbkd5nqfywwdhvwdtl5m0000gn/T/ipykernel_39579/220785227.py\u001b\\\u001b[1;36m220785227.py\u001b[0m\u001b]8;;\u001b\\\u001b[1;36m:\u001b[0m\u001b]8;id=548902;file:///var/folders/6f/f4k9qbkd5nqfywwdhvwdtl5m0000gn/T/ipykernel_39579/220785227.py#42\u001b\\\u001b[1;36m42\u001b[0m\u001b]8;;\u001b\\\n",
      "\u001b[2;36m                    \u001b[0m\u001b[1;32m         \u001b[0mvisualization\u001b[33m...\u001b[0m                    \u001b[1;36m               \u001b[0m\n",
      "\u001b[2;36m                   \u001b[0m\u001b[2;36m \u001b[0m\u001b[1;34mINFO    \u001b[0m\u001b[1;32m \u001b[0m\u001b[1m[\u001b[0m\u001b[1;36m220785227.\u001b[0mpy:\u001b[1;36m42\u001b[0m\u001b[1m]\u001b[0m Creating heatmap  \u001b]8;id=493348;file:///var/folders/6f/f4k9qbkd5nqfywwdhvwdtl5m0000gn/T/ipykernel_39579/220785227.py\u001b\\\u001b[1;36m220785227.py\u001b[0m\u001b]8;;\u001b\\\u001b[1;36m:\u001b[0m\u001b]8;id=894100;file:///var/folders/6f/f4k9qbkd5nqfywwdhvwdtl5m0000gn/T/ipykernel_39579/220785227.py#42\u001b\\\u001b[1;36m42\u001b[0m\u001b]8;;\u001b\\\n",
      "\u001b[2;36m                    \u001b[0m\u001b[1;32m         \u001b[0mvisualization\u001b[33m...\u001b[0m                    \u001b[1;36m               \u001b[0m\n",
      "\u001b[2;36m                   \u001b[0m\u001b[2;36m \u001b[0m\u001b[1;34mINFO    \u001b[0m\u001b[1;32m \u001b[0m\u001b[1m[\u001b[0m\u001b[1;36m220785227.\u001b[0mpy:\u001b[1;36m42\u001b[0m\u001b[1m]\u001b[0m Creating heatmap  \u001b]8;id=876803;file:///var/folders/6f/f4k9qbkd5nqfywwdhvwdtl5m0000gn/T/ipykernel_39579/220785227.py\u001b\\\u001b[1;36m220785227.py\u001b[0m\u001b]8;;\u001b\\\u001b[1;36m:\u001b[0m\u001b]8;id=164854;file:///var/folders/6f/f4k9qbkd5nqfywwdhvwdtl5m0000gn/T/ipykernel_39579/220785227.py#42\u001b\\\u001b[1;36m42\u001b[0m\u001b]8;;\u001b\\\n",
      "\u001b[2;36m                    \u001b[0m\u001b[1;32m         \u001b[0mvisualization\u001b[33m...\u001b[0m                    \u001b[1;36m               \u001b[0m\n",
      "\u001b[2;36m                   \u001b[0m\u001b[2;36m \u001b[0m\u001b[1;34mINFO    \u001b[0m\u001b[1;32m \u001b[0m Saving HTML figure to            \u001b]8;id=157778;file:///Users/gat/work/FA2024/embedding_translation/src/viz/save_figure.py\u001b\\\u001b[1;36msave_figure.py\u001b[0m\u001b]8;;\u001b\\\u001b[1;36m:\u001b[0m\u001b]8;id=859972;file:///Users/gat/work/FA2024/embedding_translation/src/viz/save_figure.py#32\u001b\\\u001b[1;36m32\u001b[0m\u001b]8;;\u001b\\\n",
      "\u001b[2;36m                    \u001b[0m\u001b[1;32m         \u001b[0m\u001b[35m/Users/gat/work/FA2024/embedding_\u001b[0m \u001b[1;36m                 \u001b[0m\n",
      "\u001b[2;36m                    \u001b[0m\u001b[1;32m         \u001b[0m\u001b[35mtranslation/data/figs/html/\u001b[0m\u001b[95mscidoc\u001b[0m \u001b[1;36m                 \u001b[0m\n",
      "\u001b[2;36m                    \u001b[0m\u001b[1;32m         \u001b[0m\u001b[95ms_all_layers_mse_withlog_validati\u001b[0m \u001b[1;36m                 \u001b[0m\n",
      "\u001b[2;36m                    \u001b[0m\u001b[1;32m         \u001b[0m\u001b[95mon.html\u001b[0m                           \u001b[1;36m                 \u001b[0m\n",
      "\u001b[2;36m                   \u001b[0m\u001b[2;36m \u001b[0m\u001b[1;32mSUCCESS \u001b[0m\u001b[1;32m \u001b[0m Successfully saved HTML to       \u001b]8;id=871092;file:///Users/gat/work/FA2024/embedding_translation/src/viz/save_figure.py\u001b\\\u001b[1;36msave_figure.py\u001b[0m\u001b]8;;\u001b\\\u001b[1;36m:\u001b[0m\u001b]8;id=944887;file:///Users/gat/work/FA2024/embedding_translation/src/viz/save_figure.py#40\u001b\\\u001b[1;36m40\u001b[0m\u001b]8;;\u001b\\\n",
      "\u001b[2;36m                    \u001b[0m\u001b[1;32m         \u001b[0m\u001b[35m/Users/gat/work/FA2024/embedding_\u001b[0m \u001b[1;36m                 \u001b[0m\n",
      "\u001b[2;36m                    \u001b[0m\u001b[1;32m         \u001b[0m\u001b[35mtranslation/data/figs/html/\u001b[0m\u001b[95mscidoc\u001b[0m \u001b[1;36m                 \u001b[0m\n",
      "\u001b[2;36m                    \u001b[0m\u001b[1;32m         \u001b[0m\u001b[95ms_all_layers_mse_withlog_validati\u001b[0m \u001b[1;36m                 \u001b[0m\n",
      "\u001b[2;36m                    \u001b[0m\u001b[1;32m         \u001b[0m\u001b[95mon.html\u001b[0m                           \u001b[1;36m                 \u001b[0m\n",
      "\u001b[2;36m                   \u001b[0m\u001b[2;36m \u001b[0m\u001b[1;34mINFO    \u001b[0m\u001b[1;32m \u001b[0m Saving PNG figure to             \u001b]8;id=330917;file:///Users/gat/work/FA2024/embedding_translation/src/viz/save_figure.py\u001b\\\u001b[1;36msave_figure.py\u001b[0m\u001b]8;;\u001b\\\u001b[1;36m:\u001b[0m\u001b]8;id=881214;file:///Users/gat/work/FA2024/embedding_translation/src/viz/save_figure.py#67\u001b\\\u001b[1;36m67\u001b[0m\u001b]8;;\u001b\\\n",
      "\u001b[2;36m                    \u001b[0m\u001b[1;32m         \u001b[0m\u001b[35m/Users/gat/work/FA2024/embedding_\u001b[0m \u001b[1;36m                 \u001b[0m\n",
      "\u001b[2;36m                    \u001b[0m\u001b[1;32m         \u001b[0m\u001b[35mtranslation/data/figs/imgs/\u001b[0m\u001b[95mscidoc\u001b[0m \u001b[1;36m                 \u001b[0m\n",
      "\u001b[2;36m                    \u001b[0m\u001b[1;32m         \u001b[0m\u001b[95ms_all_layers_mse_withlog_validati\u001b[0m \u001b[1;36m                 \u001b[0m\n",
      "\u001b[2;36m                    \u001b[0m\u001b[1;32m         \u001b[0m\u001b[95mon.png\u001b[0m                            \u001b[1;36m                 \u001b[0m\n",
      "\u001b[2;36m                   \u001b[0m\u001b[2;36m \u001b[0m\u001b[1;32mSUCCESS \u001b[0m\u001b[1;32m \u001b[0m Successfully saved PNG to        \u001b]8;id=907956;file:///Users/gat/work/FA2024/embedding_translation/src/viz/save_figure.py\u001b\\\u001b[1;36msave_figure.py\u001b[0m\u001b]8;;\u001b\\\u001b[1;36m:\u001b[0m\u001b]8;id=592694;file:///Users/gat/work/FA2024/embedding_translation/src/viz/save_figure.py#76\u001b\\\u001b[1;36m76\u001b[0m\u001b]8;;\u001b\\\n",
      "\u001b[2;36m                    \u001b[0m\u001b[1;32m         \u001b[0m\u001b[35m/Users/gat/work/FA2024/embedding_\u001b[0m \u001b[1;36m                 \u001b[0m\n",
      "\u001b[2;36m                    \u001b[0m\u001b[1;32m         \u001b[0m\u001b[35mtranslation/data/figs/imgs/\u001b[0m\u001b[95mscidoc\u001b[0m \u001b[1;36m                 \u001b[0m\n",
      "\u001b[2;36m                    \u001b[0m\u001b[1;32m         \u001b[0m\u001b[95ms_all_layers_mse_withlog_validati\u001b[0m \u001b[1;36m                 \u001b[0m\n",
      "\u001b[2;36m                    \u001b[0m\u001b[1;32m         \u001b[0m\u001b[95mon.png\u001b[0m                            \u001b[1;36m                 \u001b[0m\n",
      "\u001b[2;36m                   \u001b[0m\u001b[2;36m \u001b[0m\u001b[1;34mINFO    \u001b[0m\u001b[1;32m \u001b[0m Saving HTML figure to            \u001b]8;id=985825;file:///Users/gat/work/FA2024/embedding_translation/src/viz/save_figure.py\u001b\\\u001b[1;36msave_figure.py\u001b[0m\u001b]8;;\u001b\\\u001b[1;36m:\u001b[0m\u001b]8;id=356072;file:///Users/gat/work/FA2024/embedding_translation/src/viz/save_figure.py#32\u001b\\\u001b[1;36m32\u001b[0m\u001b]8;;\u001b\\\n",
      "\u001b[2;36m                    \u001b[0m\u001b[1;32m         \u001b[0m\u001b[35m/Users/gat/work/FA2024/embedding_\u001b[0m \u001b[1;36m                 \u001b[0m\n",
      "\u001b[2;36m                    \u001b[0m\u001b[1;32m         \u001b[0m\u001b[35mtranslation/src/blog/figs/gatlen/\u001b[0m \u001b[1;36m                 \u001b[0m\n",
      "\u001b[2;36m                    \u001b[0m\u001b[1;32m         \u001b[0m\u001b[35mhtml/\u001b[0m\u001b[95mscidocs_all_layers_mse_withl\u001b[0m \u001b[1;36m                 \u001b[0m\n",
      "\u001b[2;36m                    \u001b[0m\u001b[1;32m         \u001b[0m\u001b[95mog_validation.html\u001b[0m                \u001b[1;36m                 \u001b[0m\n",
      "\u001b[2;36m                   \u001b[0m\u001b[2;36m \u001b[0m\u001b[1;32mSUCCESS \u001b[0m\u001b[1;32m \u001b[0m Successfully saved HTML to       \u001b]8;id=476918;file:///Users/gat/work/FA2024/embedding_translation/src/viz/save_figure.py\u001b\\\u001b[1;36msave_figure.py\u001b[0m\u001b]8;;\u001b\\\u001b[1;36m:\u001b[0m\u001b]8;id=958402;file:///Users/gat/work/FA2024/embedding_translation/src/viz/save_figure.py#40\u001b\\\u001b[1;36m40\u001b[0m\u001b]8;;\u001b\\\n",
      "\u001b[2;36m                    \u001b[0m\u001b[1;32m         \u001b[0m\u001b[35m/Users/gat/work/FA2024/embedding_\u001b[0m \u001b[1;36m                 \u001b[0m\n",
      "\u001b[2;36m                    \u001b[0m\u001b[1;32m         \u001b[0m\u001b[35mtranslation/src/blog/figs/gatlen/\u001b[0m \u001b[1;36m                 \u001b[0m\n",
      "\u001b[2;36m                    \u001b[0m\u001b[1;32m         \u001b[0m\u001b[35mhtml/\u001b[0m\u001b[95mscidocs_all_layers_mse_withl\u001b[0m \u001b[1;36m                 \u001b[0m\n",
      "\u001b[2;36m                    \u001b[0m\u001b[1;32m         \u001b[0m\u001b[95mog_validation.html\u001b[0m                \u001b[1;36m                 \u001b[0m\n",
      "\u001b[2;36m                   \u001b[0m\u001b[2;36m \u001b[0m\u001b[1;34mINFO    \u001b[0m\u001b[1;32m \u001b[0m Saving PNG figure to             \u001b]8;id=493046;file:///Users/gat/work/FA2024/embedding_translation/src/viz/save_figure.py\u001b\\\u001b[1;36msave_figure.py\u001b[0m\u001b]8;;\u001b\\\u001b[1;36m:\u001b[0m\u001b]8;id=556507;file:///Users/gat/work/FA2024/embedding_translation/src/viz/save_figure.py#67\u001b\\\u001b[1;36m67\u001b[0m\u001b]8;;\u001b\\\n",
      "\u001b[2;36m                    \u001b[0m\u001b[1;32m         \u001b[0m\u001b[35m/Users/gat/work/FA2024/embedding_\u001b[0m \u001b[1;36m                 \u001b[0m\n",
      "\u001b[2;36m                    \u001b[0m\u001b[1;32m         \u001b[0m\u001b[35mtranslation/src/blog/figs/gatlen/\u001b[0m \u001b[1;36m                 \u001b[0m\n",
      "\u001b[2;36m                    \u001b[0m\u001b[1;32m         \u001b[0m\u001b[35mimgs/\u001b[0m\u001b[95mscidocs_all_layers_mse_withl\u001b[0m \u001b[1;36m                 \u001b[0m\n",
      "\u001b[2;36m                    \u001b[0m\u001b[1;32m         \u001b[0m\u001b[95mog_validation.png\u001b[0m                 \u001b[1;36m                 \u001b[0m\n",
      "\u001b[2;36m[12/13/24 20:05:18]\u001b[0m\u001b[2;36m \u001b[0m\u001b[1;32mSUCCESS \u001b[0m\u001b[1;32m \u001b[0m Successfully saved PNG to        \u001b]8;id=238530;file:///Users/gat/work/FA2024/embedding_translation/src/viz/save_figure.py\u001b\\\u001b[1;36msave_figure.py\u001b[0m\u001b]8;;\u001b\\\u001b[1;36m:\u001b[0m\u001b]8;id=663830;file:///Users/gat/work/FA2024/embedding_translation/src/viz/save_figure.py#76\u001b\\\u001b[1;36m76\u001b[0m\u001b]8;;\u001b\\\n",
      "\u001b[2;36m                    \u001b[0m\u001b[1;32m         \u001b[0m\u001b[35m/Users/gat/work/FA2024/embedding_\u001b[0m \u001b[1;36m                 \u001b[0m\n",
      "\u001b[2;36m                    \u001b[0m\u001b[1;32m         \u001b[0m\u001b[35mtranslation/src/blog/figs/gatlen/\u001b[0m \u001b[1;36m                 \u001b[0m\n",
      "\u001b[2;36m                    \u001b[0m\u001b[1;32m         \u001b[0m\u001b[35mimgs/\u001b[0m\u001b[95mscidocs_all_layers_mse_withl\u001b[0m \u001b[1;36m                 \u001b[0m\n",
      "\u001b[2;36m                    \u001b[0m\u001b[1;32m         \u001b[0m\u001b[95mog_validation.png\u001b[0m                 \u001b[1;36m                 \u001b[0m\n",
      "\u001b[2;36m                   \u001b[0m\u001b[2;36m \u001b[0m\u001b[1;34mINFO    \u001b[0m\u001b[1;32m \u001b[0m\u001b[1m[\u001b[0m\u001b[1;36m220785227.\u001b[0mpy:\u001b[1;36m42\u001b[0m\u001b[1m]\u001b[0m Creating heatmap  \u001b]8;id=774181;file:///var/folders/6f/f4k9qbkd5nqfywwdhvwdtl5m0000gn/T/ipykernel_39579/220785227.py\u001b\\\u001b[1;36m220785227.py\u001b[0m\u001b]8;;\u001b\\\u001b[1;36m:\u001b[0m\u001b]8;id=479510;file:///var/folders/6f/f4k9qbkd5nqfywwdhvwdtl5m0000gn/T/ipykernel_39579/220785227.py#42\u001b\\\u001b[1;36m42\u001b[0m\u001b]8;;\u001b\\\n",
      "\u001b[2;36m                    \u001b[0m\u001b[1;32m         \u001b[0mvisualization\u001b[33m...\u001b[0m                    \u001b[1;36m               \u001b[0m\n",
      "\u001b[2;36m                   \u001b[0m\u001b[2;36m \u001b[0m\u001b[1;34mINFO    \u001b[0m\u001b[1;32m \u001b[0m\u001b[1m[\u001b[0m\u001b[1;36m220785227.\u001b[0mpy:\u001b[1;36m42\u001b[0m\u001b[1m]\u001b[0m Creating heatmap  \u001b]8;id=314508;file:///var/folders/6f/f4k9qbkd5nqfywwdhvwdtl5m0000gn/T/ipykernel_39579/220785227.py\u001b\\\u001b[1;36m220785227.py\u001b[0m\u001b]8;;\u001b\\\u001b[1;36m:\u001b[0m\u001b]8;id=304179;file:///var/folders/6f/f4k9qbkd5nqfywwdhvwdtl5m0000gn/T/ipykernel_39579/220785227.py#42\u001b\\\u001b[1;36m42\u001b[0m\u001b]8;;\u001b\\\n",
      "\u001b[2;36m                    \u001b[0m\u001b[1;32m         \u001b[0mvisualization\u001b[33m...\u001b[0m                    \u001b[1;36m               \u001b[0m\n",
      "\u001b[2;36m                   \u001b[0m\u001b[2;36m \u001b[0m\u001b[1;34mINFO    \u001b[0m\u001b[1;32m \u001b[0m\u001b[1m[\u001b[0m\u001b[1;36m220785227.\u001b[0mpy:\u001b[1;36m42\u001b[0m\u001b[1m]\u001b[0m Creating heatmap  \u001b]8;id=352583;file:///var/folders/6f/f4k9qbkd5nqfywwdhvwdtl5m0000gn/T/ipykernel_39579/220785227.py\u001b\\\u001b[1;36m220785227.py\u001b[0m\u001b]8;;\u001b\\\u001b[1;36m:\u001b[0m\u001b]8;id=394445;file:///var/folders/6f/f4k9qbkd5nqfywwdhvwdtl5m0000gn/T/ipykernel_39579/220785227.py#42\u001b\\\u001b[1;36m42\u001b[0m\u001b]8;;\u001b\\\n",
      "\u001b[2;36m                    \u001b[0m\u001b[1;32m         \u001b[0mvisualization\u001b[33m...\u001b[0m                    \u001b[1;36m               \u001b[0m\n",
      "\u001b[2;36m                   \u001b[0m\u001b[2;36m \u001b[0m\u001b[1;34mINFO    \u001b[0m\u001b[1;32m \u001b[0m\u001b[1m[\u001b[0m\u001b[1;36m220785227.\u001b[0mpy:\u001b[1;36m42\u001b[0m\u001b[1m]\u001b[0m Creating heatmap  \u001b]8;id=639025;file:///var/folders/6f/f4k9qbkd5nqfywwdhvwdtl5m0000gn/T/ipykernel_39579/220785227.py\u001b\\\u001b[1;36m220785227.py\u001b[0m\u001b]8;;\u001b\\\u001b[1;36m:\u001b[0m\u001b]8;id=520034;file:///var/folders/6f/f4k9qbkd5nqfywwdhvwdtl5m0000gn/T/ipykernel_39579/220785227.py#42\u001b\\\u001b[1;36m42\u001b[0m\u001b]8;;\u001b\\\n",
      "\u001b[2;36m                    \u001b[0m\u001b[1;32m         \u001b[0mvisualization\u001b[33m...\u001b[0m                    \u001b[1;36m               \u001b[0m\n",
      "\u001b[2;36m                   \u001b[0m\u001b[2;36m \u001b[0m\u001b[1;34mINFO    \u001b[0m\u001b[1;32m \u001b[0m\u001b[1m[\u001b[0m\u001b[1;36m220785227.\u001b[0mpy:\u001b[1;36m42\u001b[0m\u001b[1m]\u001b[0m Creating heatmap  \u001b]8;id=176989;file:///var/folders/6f/f4k9qbkd5nqfywwdhvwdtl5m0000gn/T/ipykernel_39579/220785227.py\u001b\\\u001b[1;36m220785227.py\u001b[0m\u001b]8;;\u001b\\\u001b[1;36m:\u001b[0m\u001b]8;id=884072;file:///var/folders/6f/f4k9qbkd5nqfywwdhvwdtl5m0000gn/T/ipykernel_39579/220785227.py#42\u001b\\\u001b[1;36m42\u001b[0m\u001b]8;;\u001b\\\n",
      "\u001b[2;36m                    \u001b[0m\u001b[1;32m         \u001b[0mvisualization\u001b[33m...\u001b[0m                    \u001b[1;36m               \u001b[0m\n",
      "\u001b[2;36m                   \u001b[0m\u001b[2;36m \u001b[0m\u001b[1;34mINFO    \u001b[0m\u001b[1;32m \u001b[0m\u001b[1m[\u001b[0m\u001b[1;36m220785227.\u001b[0mpy:\u001b[1;36m42\u001b[0m\u001b[1m]\u001b[0m Creating heatmap  \u001b]8;id=940474;file:///var/folders/6f/f4k9qbkd5nqfywwdhvwdtl5m0000gn/T/ipykernel_39579/220785227.py\u001b\\\u001b[1;36m220785227.py\u001b[0m\u001b]8;;\u001b\\\u001b[1;36m:\u001b[0m\u001b]8;id=267974;file:///var/folders/6f/f4k9qbkd5nqfywwdhvwdtl5m0000gn/T/ipykernel_39579/220785227.py#42\u001b\\\u001b[1;36m42\u001b[0m\u001b]8;;\u001b\\\n",
      "\u001b[2;36m                    \u001b[0m\u001b[1;32m         \u001b[0mvisualization\u001b[33m...\u001b[0m                    \u001b[1;36m               \u001b[0m\n",
      "\u001b[2;36m                   \u001b[0m\u001b[2;36m \u001b[0m\u001b[1;34mINFO    \u001b[0m\u001b[1;32m \u001b[0m\u001b[1m[\u001b[0m\u001b[1;36m220785227.\u001b[0mpy:\u001b[1;36m42\u001b[0m\u001b[1m]\u001b[0m Creating heatmap  \u001b]8;id=703058;file:///var/folders/6f/f4k9qbkd5nqfywwdhvwdtl5m0000gn/T/ipykernel_39579/220785227.py\u001b\\\u001b[1;36m220785227.py\u001b[0m\u001b]8;;\u001b\\\u001b[1;36m:\u001b[0m\u001b]8;id=989386;file:///var/folders/6f/f4k9qbkd5nqfywwdhvwdtl5m0000gn/T/ipykernel_39579/220785227.py#42\u001b\\\u001b[1;36m42\u001b[0m\u001b]8;;\u001b\\\n",
      "\u001b[2;36m                    \u001b[0m\u001b[1;32m         \u001b[0mvisualization\u001b[33m...\u001b[0m                    \u001b[1;36m               \u001b[0m\n",
      "\u001b[2;36m                   \u001b[0m\u001b[2;36m \u001b[0m\u001b[1;34mINFO    \u001b[0m\u001b[1;32m \u001b[0m Saving HTML figure to            \u001b]8;id=293669;file:///Users/gat/work/FA2024/embedding_translation/src/viz/save_figure.py\u001b\\\u001b[1;36msave_figure.py\u001b[0m\u001b]8;;\u001b\\\u001b[1;36m:\u001b[0m\u001b]8;id=446454;file:///Users/gat/work/FA2024/embedding_translation/src/viz/save_figure.py#32\u001b\\\u001b[1;36m32\u001b[0m\u001b]8;;\u001b\\\n",
      "\u001b[2;36m                    \u001b[0m\u001b[1;32m         \u001b[0m\u001b[35m/Users/gat/work/FA2024/embedding_\u001b[0m \u001b[1;36m                 \u001b[0m\n",
      "\u001b[2;36m                    \u001b[0m\u001b[1;32m         \u001b[0m\u001b[35mtranslation/data/figs/html/\u001b[0m\u001b[95mnfcorp\u001b[0m \u001b[1;36m                 \u001b[0m\n",
      "\u001b[2;36m                    \u001b[0m\u001b[1;32m         \u001b[0m\u001b[95mus_all_layers_mse_withlog_validat\u001b[0m \u001b[1;36m                 \u001b[0m\n",
      "\u001b[2;36m                    \u001b[0m\u001b[1;32m         \u001b[0m\u001b[95mion.html\u001b[0m                          \u001b[1;36m                 \u001b[0m\n",
      "\u001b[2;36m                   \u001b[0m\u001b[2;36m \u001b[0m\u001b[1;32mSUCCESS \u001b[0m\u001b[1;32m \u001b[0m Successfully saved HTML to       \u001b]8;id=786199;file:///Users/gat/work/FA2024/embedding_translation/src/viz/save_figure.py\u001b\\\u001b[1;36msave_figure.py\u001b[0m\u001b]8;;\u001b\\\u001b[1;36m:\u001b[0m\u001b]8;id=63387;file:///Users/gat/work/FA2024/embedding_translation/src/viz/save_figure.py#40\u001b\\\u001b[1;36m40\u001b[0m\u001b]8;;\u001b\\\n",
      "\u001b[2;36m                    \u001b[0m\u001b[1;32m         \u001b[0m\u001b[35m/Users/gat/work/FA2024/embedding_\u001b[0m \u001b[1;36m                 \u001b[0m\n",
      "\u001b[2;36m                    \u001b[0m\u001b[1;32m         \u001b[0m\u001b[35mtranslation/data/figs/html/\u001b[0m\u001b[95mnfcorp\u001b[0m \u001b[1;36m                 \u001b[0m\n",
      "\u001b[2;36m                    \u001b[0m\u001b[1;32m         \u001b[0m\u001b[95mus_all_layers_mse_withlog_validat\u001b[0m \u001b[1;36m                 \u001b[0m\n",
      "\u001b[2;36m                    \u001b[0m\u001b[1;32m         \u001b[0m\u001b[95mion.html\u001b[0m                          \u001b[1;36m                 \u001b[0m\n",
      "\u001b[2;36m                   \u001b[0m\u001b[2;36m \u001b[0m\u001b[1;34mINFO    \u001b[0m\u001b[1;32m \u001b[0m Saving PNG figure to             \u001b]8;id=576347;file:///Users/gat/work/FA2024/embedding_translation/src/viz/save_figure.py\u001b\\\u001b[1;36msave_figure.py\u001b[0m\u001b]8;;\u001b\\\u001b[1;36m:\u001b[0m\u001b]8;id=698201;file:///Users/gat/work/FA2024/embedding_translation/src/viz/save_figure.py#67\u001b\\\u001b[1;36m67\u001b[0m\u001b]8;;\u001b\\\n",
      "\u001b[2;36m                    \u001b[0m\u001b[1;32m         \u001b[0m\u001b[35m/Users/gat/work/FA2024/embedding_\u001b[0m \u001b[1;36m                 \u001b[0m\n",
      "\u001b[2;36m                    \u001b[0m\u001b[1;32m         \u001b[0m\u001b[35mtranslation/data/figs/imgs/\u001b[0m\u001b[95mnfcorp\u001b[0m \u001b[1;36m                 \u001b[0m\n",
      "\u001b[2;36m                    \u001b[0m\u001b[1;32m         \u001b[0m\u001b[95mus_all_layers_mse_withlog_validat\u001b[0m \u001b[1;36m                 \u001b[0m\n",
      "\u001b[2;36m                    \u001b[0m\u001b[1;32m         \u001b[0m\u001b[95mion.png\u001b[0m                           \u001b[1;36m                 \u001b[0m\n",
      "\u001b[2;36m                   \u001b[0m\u001b[2;36m \u001b[0m\u001b[1;32mSUCCESS \u001b[0m\u001b[1;32m \u001b[0m Successfully saved PNG to        \u001b]8;id=470869;file:///Users/gat/work/FA2024/embedding_translation/src/viz/save_figure.py\u001b\\\u001b[1;36msave_figure.py\u001b[0m\u001b]8;;\u001b\\\u001b[1;36m:\u001b[0m\u001b]8;id=240739;file:///Users/gat/work/FA2024/embedding_translation/src/viz/save_figure.py#76\u001b\\\u001b[1;36m76\u001b[0m\u001b]8;;\u001b\\\n",
      "\u001b[2;36m                    \u001b[0m\u001b[1;32m         \u001b[0m\u001b[35m/Users/gat/work/FA2024/embedding_\u001b[0m \u001b[1;36m                 \u001b[0m\n",
      "\u001b[2;36m                    \u001b[0m\u001b[1;32m         \u001b[0m\u001b[35mtranslation/data/figs/imgs/\u001b[0m\u001b[95mnfcorp\u001b[0m \u001b[1;36m                 \u001b[0m\n",
      "\u001b[2;36m                    \u001b[0m\u001b[1;32m         \u001b[0m\u001b[95mus_all_layers_mse_withlog_validat\u001b[0m \u001b[1;36m                 \u001b[0m\n",
      "\u001b[2;36m                    \u001b[0m\u001b[1;32m         \u001b[0m\u001b[95mion.png\u001b[0m                           \u001b[1;36m                 \u001b[0m\n",
      "\u001b[2;36m                   \u001b[0m\u001b[2;36m \u001b[0m\u001b[1;34mINFO    \u001b[0m\u001b[1;32m \u001b[0m Saving HTML figure to            \u001b]8;id=605803;file:///Users/gat/work/FA2024/embedding_translation/src/viz/save_figure.py\u001b\\\u001b[1;36msave_figure.py\u001b[0m\u001b]8;;\u001b\\\u001b[1;36m:\u001b[0m\u001b]8;id=545910;file:///Users/gat/work/FA2024/embedding_translation/src/viz/save_figure.py#32\u001b\\\u001b[1;36m32\u001b[0m\u001b]8;;\u001b\\\n",
      "\u001b[2;36m                    \u001b[0m\u001b[1;32m         \u001b[0m\u001b[35m/Users/gat/work/FA2024/embedding_\u001b[0m \u001b[1;36m                 \u001b[0m\n",
      "\u001b[2;36m                    \u001b[0m\u001b[1;32m         \u001b[0m\u001b[35mtranslation/src/blog/figs/gatlen/\u001b[0m \u001b[1;36m                 \u001b[0m\n",
      "\u001b[2;36m                    \u001b[0m\u001b[1;32m         \u001b[0m\u001b[35mhtml/\u001b[0m\u001b[95mnfcorpus_all_layers_mse_with\u001b[0m \u001b[1;36m                 \u001b[0m\n",
      "\u001b[2;36m                    \u001b[0m\u001b[1;32m         \u001b[0m\u001b[95mlog_validation.html\u001b[0m               \u001b[1;36m                 \u001b[0m\n",
      "\u001b[2;36m                   \u001b[0m\u001b[2;36m \u001b[0m\u001b[1;32mSUCCESS \u001b[0m\u001b[1;32m \u001b[0m Successfully saved HTML to       \u001b]8;id=267352;file:///Users/gat/work/FA2024/embedding_translation/src/viz/save_figure.py\u001b\\\u001b[1;36msave_figure.py\u001b[0m\u001b]8;;\u001b\\\u001b[1;36m:\u001b[0m\u001b]8;id=369964;file:///Users/gat/work/FA2024/embedding_translation/src/viz/save_figure.py#40\u001b\\\u001b[1;36m40\u001b[0m\u001b]8;;\u001b\\\n",
      "\u001b[2;36m                    \u001b[0m\u001b[1;32m         \u001b[0m\u001b[35m/Users/gat/work/FA2024/embedding_\u001b[0m \u001b[1;36m                 \u001b[0m\n",
      "\u001b[2;36m                    \u001b[0m\u001b[1;32m         \u001b[0m\u001b[35mtranslation/src/blog/figs/gatlen/\u001b[0m \u001b[1;36m                 \u001b[0m\n",
      "\u001b[2;36m                    \u001b[0m\u001b[1;32m         \u001b[0m\u001b[35mhtml/\u001b[0m\u001b[95mnfcorpus_all_layers_mse_with\u001b[0m \u001b[1;36m                 \u001b[0m\n",
      "\u001b[2;36m                    \u001b[0m\u001b[1;32m         \u001b[0m\u001b[95mlog_validation.html\u001b[0m               \u001b[1;36m                 \u001b[0m\n",
      "\u001b[2;36m                   \u001b[0m\u001b[2;36m \u001b[0m\u001b[1;34mINFO    \u001b[0m\u001b[1;32m \u001b[0m Saving PNG figure to             \u001b]8;id=82195;file:///Users/gat/work/FA2024/embedding_translation/src/viz/save_figure.py\u001b\\\u001b[1;36msave_figure.py\u001b[0m\u001b]8;;\u001b\\\u001b[1;36m:\u001b[0m\u001b]8;id=722217;file:///Users/gat/work/FA2024/embedding_translation/src/viz/save_figure.py#67\u001b\\\u001b[1;36m67\u001b[0m\u001b]8;;\u001b\\\n",
      "\u001b[2;36m                    \u001b[0m\u001b[1;32m         \u001b[0m\u001b[35m/Users/gat/work/FA2024/embedding_\u001b[0m \u001b[1;36m                 \u001b[0m\n",
      "\u001b[2;36m                    \u001b[0m\u001b[1;32m         \u001b[0m\u001b[35mtranslation/src/blog/figs/gatlen/\u001b[0m \u001b[1;36m                 \u001b[0m\n",
      "\u001b[2;36m                    \u001b[0m\u001b[1;32m         \u001b[0m\u001b[35mimgs/\u001b[0m\u001b[95mnfcorpus_all_layers_mse_with\u001b[0m \u001b[1;36m                 \u001b[0m\n",
      "\u001b[2;36m                    \u001b[0m\u001b[1;32m         \u001b[0m\u001b[95mlog_validation.png\u001b[0m                \u001b[1;36m                 \u001b[0m\n",
      "\u001b[2;36m                   \u001b[0m\u001b[2;36m \u001b[0m\u001b[1;32mSUCCESS \u001b[0m\u001b[1;32m \u001b[0m Successfully saved PNG to        \u001b]8;id=218658;file:///Users/gat/work/FA2024/embedding_translation/src/viz/save_figure.py\u001b\\\u001b[1;36msave_figure.py\u001b[0m\u001b]8;;\u001b\\\u001b[1;36m:\u001b[0m\u001b]8;id=344411;file:///Users/gat/work/FA2024/embedding_translation/src/viz/save_figure.py#76\u001b\\\u001b[1;36m76\u001b[0m\u001b]8;;\u001b\\\n",
      "\u001b[2;36m                    \u001b[0m\u001b[1;32m         \u001b[0m\u001b[35m/Users/gat/work/FA2024/embedding_\u001b[0m \u001b[1;36m                 \u001b[0m\n",
      "\u001b[2;36m                    \u001b[0m\u001b[1;32m         \u001b[0m\u001b[35mtranslation/src/blog/figs/gatlen/\u001b[0m \u001b[1;36m                 \u001b[0m\n",
      "\u001b[2;36m                    \u001b[0m\u001b[1;32m         \u001b[0m\u001b[35mimgs/\u001b[0m\u001b[95mnfcorpus_all_layers_mse_with\u001b[0m \u001b[1;36m                 \u001b[0m\n",
      "\u001b[2;36m                    \u001b[0m\u001b[1;32m         \u001b[0m\u001b[95mlog_validation.png\u001b[0m                \u001b[1;36m                 \u001b[0m\n",
      "\u001b[2;36m                   \u001b[0m\u001b[2;36m \u001b[0m\u001b[1;34mINFO    \u001b[0m\u001b[1;32m \u001b[0m\u001b[1m[\u001b[0m\u001b[1;36m220785227.\u001b[0mpy:\u001b[1;36m42\u001b[0m\u001b[1m]\u001b[0m Creating heatmap  \u001b]8;id=585354;file:///var/folders/6f/f4k9qbkd5nqfywwdhvwdtl5m0000gn/T/ipykernel_39579/220785227.py\u001b\\\u001b[1;36m220785227.py\u001b[0m\u001b]8;;\u001b\\\u001b[1;36m:\u001b[0m\u001b]8;id=54339;file:///var/folders/6f/f4k9qbkd5nqfywwdhvwdtl5m0000gn/T/ipykernel_39579/220785227.py#42\u001b\\\u001b[1;36m42\u001b[0m\u001b]8;;\u001b\\\n",
      "\u001b[2;36m                    \u001b[0m\u001b[1;32m         \u001b[0mvisualization\u001b[33m...\u001b[0m                    \u001b[1;36m               \u001b[0m\n",
      "\u001b[2;36m                   \u001b[0m\u001b[2;36m \u001b[0m\u001b[1;34mINFO    \u001b[0m\u001b[1;32m \u001b[0m\u001b[1m[\u001b[0m\u001b[1;36m220785227.\u001b[0mpy:\u001b[1;36m42\u001b[0m\u001b[1m]\u001b[0m Creating heatmap  \u001b]8;id=378301;file:///var/folders/6f/f4k9qbkd5nqfywwdhvwdtl5m0000gn/T/ipykernel_39579/220785227.py\u001b\\\u001b[1;36m220785227.py\u001b[0m\u001b]8;;\u001b\\\u001b[1;36m:\u001b[0m\u001b]8;id=366965;file:///var/folders/6f/f4k9qbkd5nqfywwdhvwdtl5m0000gn/T/ipykernel_39579/220785227.py#42\u001b\\\u001b[1;36m42\u001b[0m\u001b]8;;\u001b\\\n",
      "\u001b[2;36m                    \u001b[0m\u001b[1;32m         \u001b[0mvisualization\u001b[33m...\u001b[0m                    \u001b[1;36m               \u001b[0m\n",
      "\u001b[2;36m                   \u001b[0m\u001b[2;36m \u001b[0m\u001b[1;34mINFO    \u001b[0m\u001b[1;32m \u001b[0m\u001b[1m[\u001b[0m\u001b[1;36m220785227.\u001b[0mpy:\u001b[1;36m42\u001b[0m\u001b[1m]\u001b[0m Creating heatmap  \u001b]8;id=510051;file:///var/folders/6f/f4k9qbkd5nqfywwdhvwdtl5m0000gn/T/ipykernel_39579/220785227.py\u001b\\\u001b[1;36m220785227.py\u001b[0m\u001b]8;;\u001b\\\u001b[1;36m:\u001b[0m\u001b]8;id=923646;file:///var/folders/6f/f4k9qbkd5nqfywwdhvwdtl5m0000gn/T/ipykernel_39579/220785227.py#42\u001b\\\u001b[1;36m42\u001b[0m\u001b]8;;\u001b\\\n",
      "\u001b[2;36m                    \u001b[0m\u001b[1;32m         \u001b[0mvisualization\u001b[33m...\u001b[0m                    \u001b[1;36m               \u001b[0m\n",
      "\u001b[2;36m                   \u001b[0m\u001b[2;36m \u001b[0m\u001b[1;34mINFO    \u001b[0m\u001b[1;32m \u001b[0m\u001b[1m[\u001b[0m\u001b[1;36m220785227.\u001b[0mpy:\u001b[1;36m42\u001b[0m\u001b[1m]\u001b[0m Creating heatmap  \u001b]8;id=481900;file:///var/folders/6f/f4k9qbkd5nqfywwdhvwdtl5m0000gn/T/ipykernel_39579/220785227.py\u001b\\\u001b[1;36m220785227.py\u001b[0m\u001b]8;;\u001b\\\u001b[1;36m:\u001b[0m\u001b]8;id=672966;file:///var/folders/6f/f4k9qbkd5nqfywwdhvwdtl5m0000gn/T/ipykernel_39579/220785227.py#42\u001b\\\u001b[1;36m42\u001b[0m\u001b]8;;\u001b\\\n",
      "\u001b[2;36m                    \u001b[0m\u001b[1;32m         \u001b[0mvisualization\u001b[33m...\u001b[0m                    \u001b[1;36m               \u001b[0m\n",
      "\u001b[2;36m                   \u001b[0m\u001b[2;36m \u001b[0m\u001b[1;34mINFO    \u001b[0m\u001b[1;32m \u001b[0m\u001b[1m[\u001b[0m\u001b[1;36m220785227.\u001b[0mpy:\u001b[1;36m42\u001b[0m\u001b[1m]\u001b[0m Creating heatmap  \u001b]8;id=940605;file:///var/folders/6f/f4k9qbkd5nqfywwdhvwdtl5m0000gn/T/ipykernel_39579/220785227.py\u001b\\\u001b[1;36m220785227.py\u001b[0m\u001b]8;;\u001b\\\u001b[1;36m:\u001b[0m\u001b]8;id=78549;file:///var/folders/6f/f4k9qbkd5nqfywwdhvwdtl5m0000gn/T/ipykernel_39579/220785227.py#42\u001b\\\u001b[1;36m42\u001b[0m\u001b]8;;\u001b\\\n",
      "\u001b[2;36m                    \u001b[0m\u001b[1;32m         \u001b[0mvisualization\u001b[33m...\u001b[0m                    \u001b[1;36m               \u001b[0m\n",
      "\u001b[2;36m                   \u001b[0m\u001b[2;36m \u001b[0m\u001b[1;34mINFO    \u001b[0m\u001b[1;32m \u001b[0m\u001b[1m[\u001b[0m\u001b[1;36m220785227.\u001b[0mpy:\u001b[1;36m42\u001b[0m\u001b[1m]\u001b[0m Creating heatmap  \u001b]8;id=489297;file:///var/folders/6f/f4k9qbkd5nqfywwdhvwdtl5m0000gn/T/ipykernel_39579/220785227.py\u001b\\\u001b[1;36m220785227.py\u001b[0m\u001b]8;;\u001b\\\u001b[1;36m:\u001b[0m\u001b]8;id=977919;file:///var/folders/6f/f4k9qbkd5nqfywwdhvwdtl5m0000gn/T/ipykernel_39579/220785227.py#42\u001b\\\u001b[1;36m42\u001b[0m\u001b]8;;\u001b\\\n",
      "\u001b[2;36m                    \u001b[0m\u001b[1;32m         \u001b[0mvisualization\u001b[33m...\u001b[0m                    \u001b[1;36m               \u001b[0m\n",
      "\u001b[2;36m                   \u001b[0m\u001b[2;36m \u001b[0m\u001b[1;34mINFO    \u001b[0m\u001b[1;32m \u001b[0m\u001b[1m[\u001b[0m\u001b[1;36m220785227.\u001b[0mpy:\u001b[1;36m42\u001b[0m\u001b[1m]\u001b[0m Creating heatmap  \u001b]8;id=920862;file:///var/folders/6f/f4k9qbkd5nqfywwdhvwdtl5m0000gn/T/ipykernel_39579/220785227.py\u001b\\\u001b[1;36m220785227.py\u001b[0m\u001b]8;;\u001b\\\u001b[1;36m:\u001b[0m\u001b]8;id=511695;file:///var/folders/6f/f4k9qbkd5nqfywwdhvwdtl5m0000gn/T/ipykernel_39579/220785227.py#42\u001b\\\u001b[1;36m42\u001b[0m\u001b]8;;\u001b\\\n",
      "\u001b[2;36m                    \u001b[0m\u001b[1;32m         \u001b[0mvisualization\u001b[33m...\u001b[0m                    \u001b[1;36m               \u001b[0m\n",
      "\u001b[2;36m                   \u001b[0m\u001b[2;36m \u001b[0m\u001b[1;34mINFO    \u001b[0m\u001b[1;32m \u001b[0m Saving HTML figure to            \u001b]8;id=369733;file:///Users/gat/work/FA2024/embedding_translation/src/viz/save_figure.py\u001b\\\u001b[1;36msave_figure.py\u001b[0m\u001b]8;;\u001b\\\u001b[1;36m:\u001b[0m\u001b]8;id=170724;file:///Users/gat/work/FA2024/embedding_translation/src/viz/save_figure.py#32\u001b\\\u001b[1;36m32\u001b[0m\u001b]8;;\u001b\\\n",
      "\u001b[2;36m                    \u001b[0m\u001b[1;32m         \u001b[0m\u001b[35m/Users/gat/work/FA2024/embedding_\u001b[0m \u001b[1;36m                 \u001b[0m\n",
      "\u001b[2;36m                    \u001b[0m\u001b[1;32m         \u001b[0m\u001b[35mtranslation/data/figs/html/\u001b[0m\u001b[95mhotpot\u001b[0m \u001b[1;36m                 \u001b[0m\n",
      "\u001b[2;36m                    \u001b[0m\u001b[1;32m         \u001b[0m\u001b[95mqa_all_layers_mse_withlog_validat\u001b[0m \u001b[1;36m                 \u001b[0m\n",
      "\u001b[2;36m                    \u001b[0m\u001b[1;32m         \u001b[0m\u001b[95mion.html\u001b[0m                          \u001b[1;36m                 \u001b[0m\n",
      "\u001b[2;36m                   \u001b[0m\u001b[2;36m \u001b[0m\u001b[1;32mSUCCESS \u001b[0m\u001b[1;32m \u001b[0m Successfully saved HTML to       \u001b]8;id=760667;file:///Users/gat/work/FA2024/embedding_translation/src/viz/save_figure.py\u001b\\\u001b[1;36msave_figure.py\u001b[0m\u001b]8;;\u001b\\\u001b[1;36m:\u001b[0m\u001b]8;id=200576;file:///Users/gat/work/FA2024/embedding_translation/src/viz/save_figure.py#40\u001b\\\u001b[1;36m40\u001b[0m\u001b]8;;\u001b\\\n",
      "\u001b[2;36m                    \u001b[0m\u001b[1;32m         \u001b[0m\u001b[35m/Users/gat/work/FA2024/embedding_\u001b[0m \u001b[1;36m                 \u001b[0m\n",
      "\u001b[2;36m                    \u001b[0m\u001b[1;32m         \u001b[0m\u001b[35mtranslation/data/figs/html/\u001b[0m\u001b[95mhotpot\u001b[0m \u001b[1;36m                 \u001b[0m\n",
      "\u001b[2;36m                    \u001b[0m\u001b[1;32m         \u001b[0m\u001b[95mqa_all_layers_mse_withlog_validat\u001b[0m \u001b[1;36m                 \u001b[0m\n",
      "\u001b[2;36m                    \u001b[0m\u001b[1;32m         \u001b[0m\u001b[95mion.html\u001b[0m                          \u001b[1;36m                 \u001b[0m\n",
      "\u001b[2;36m                   \u001b[0m\u001b[2;36m \u001b[0m\u001b[1;34mINFO    \u001b[0m\u001b[1;32m \u001b[0m Saving PNG figure to             \u001b]8;id=997921;file:///Users/gat/work/FA2024/embedding_translation/src/viz/save_figure.py\u001b\\\u001b[1;36msave_figure.py\u001b[0m\u001b]8;;\u001b\\\u001b[1;36m:\u001b[0m\u001b]8;id=501109;file:///Users/gat/work/FA2024/embedding_translation/src/viz/save_figure.py#67\u001b\\\u001b[1;36m67\u001b[0m\u001b]8;;\u001b\\\n",
      "\u001b[2;36m                    \u001b[0m\u001b[1;32m         \u001b[0m\u001b[35m/Users/gat/work/FA2024/embedding_\u001b[0m \u001b[1;36m                 \u001b[0m\n",
      "\u001b[2;36m                    \u001b[0m\u001b[1;32m         \u001b[0m\u001b[35mtranslation/data/figs/imgs/\u001b[0m\u001b[95mhotpot\u001b[0m \u001b[1;36m                 \u001b[0m\n",
      "\u001b[2;36m                    \u001b[0m\u001b[1;32m         \u001b[0m\u001b[95mqa_all_layers_mse_withlog_validat\u001b[0m \u001b[1;36m                 \u001b[0m\n",
      "\u001b[2;36m                    \u001b[0m\u001b[1;32m         \u001b[0m\u001b[95mion.png\u001b[0m                           \u001b[1;36m                 \u001b[0m\n",
      "\u001b[2;36m[12/13/24 20:05:19]\u001b[0m\u001b[2;36m \u001b[0m\u001b[1;32mSUCCESS \u001b[0m\u001b[1;32m \u001b[0m Successfully saved PNG to        \u001b]8;id=59679;file:///Users/gat/work/FA2024/embedding_translation/src/viz/save_figure.py\u001b\\\u001b[1;36msave_figure.py\u001b[0m\u001b]8;;\u001b\\\u001b[1;36m:\u001b[0m\u001b]8;id=570486;file:///Users/gat/work/FA2024/embedding_translation/src/viz/save_figure.py#76\u001b\\\u001b[1;36m76\u001b[0m\u001b]8;;\u001b\\\n",
      "\u001b[2;36m                    \u001b[0m\u001b[1;32m         \u001b[0m\u001b[35m/Users/gat/work/FA2024/embedding_\u001b[0m \u001b[1;36m                 \u001b[0m\n",
      "\u001b[2;36m                    \u001b[0m\u001b[1;32m         \u001b[0m\u001b[35mtranslation/data/figs/imgs/\u001b[0m\u001b[95mhotpot\u001b[0m \u001b[1;36m                 \u001b[0m\n",
      "\u001b[2;36m                    \u001b[0m\u001b[1;32m         \u001b[0m\u001b[95mqa_all_layers_mse_withlog_validat\u001b[0m \u001b[1;36m                 \u001b[0m\n",
      "\u001b[2;36m                    \u001b[0m\u001b[1;32m         \u001b[0m\u001b[95mion.png\u001b[0m                           \u001b[1;36m                 \u001b[0m\n",
      "\u001b[2;36m                   \u001b[0m\u001b[2;36m \u001b[0m\u001b[1;34mINFO    \u001b[0m\u001b[1;32m \u001b[0m Saving HTML figure to            \u001b]8;id=307795;file:///Users/gat/work/FA2024/embedding_translation/src/viz/save_figure.py\u001b\\\u001b[1;36msave_figure.py\u001b[0m\u001b]8;;\u001b\\\u001b[1;36m:\u001b[0m\u001b]8;id=18381;file:///Users/gat/work/FA2024/embedding_translation/src/viz/save_figure.py#32\u001b\\\u001b[1;36m32\u001b[0m\u001b]8;;\u001b\\\n",
      "\u001b[2;36m                    \u001b[0m\u001b[1;32m         \u001b[0m\u001b[35m/Users/gat/work/FA2024/embedding_\u001b[0m \u001b[1;36m                 \u001b[0m\n",
      "\u001b[2;36m                    \u001b[0m\u001b[1;32m         \u001b[0m\u001b[35mtranslation/src/blog/figs/gatlen/\u001b[0m \u001b[1;36m                 \u001b[0m\n",
      "\u001b[2;36m                    \u001b[0m\u001b[1;32m         \u001b[0m\u001b[35mhtml/\u001b[0m\u001b[95mhotpotqa_all_layers_mse_with\u001b[0m \u001b[1;36m                 \u001b[0m\n",
      "\u001b[2;36m                    \u001b[0m\u001b[1;32m         \u001b[0m\u001b[95mlog_validation.html\u001b[0m               \u001b[1;36m                 \u001b[0m\n",
      "\u001b[2;36m                   \u001b[0m\u001b[2;36m \u001b[0m\u001b[1;32mSUCCESS \u001b[0m\u001b[1;32m \u001b[0m Successfully saved HTML to       \u001b]8;id=15247;file:///Users/gat/work/FA2024/embedding_translation/src/viz/save_figure.py\u001b\\\u001b[1;36msave_figure.py\u001b[0m\u001b]8;;\u001b\\\u001b[1;36m:\u001b[0m\u001b]8;id=467783;file:///Users/gat/work/FA2024/embedding_translation/src/viz/save_figure.py#40\u001b\\\u001b[1;36m40\u001b[0m\u001b]8;;\u001b\\\n",
      "\u001b[2;36m                    \u001b[0m\u001b[1;32m         \u001b[0m\u001b[35m/Users/gat/work/FA2024/embedding_\u001b[0m \u001b[1;36m                 \u001b[0m\n",
      "\u001b[2;36m                    \u001b[0m\u001b[1;32m         \u001b[0m\u001b[35mtranslation/src/blog/figs/gatlen/\u001b[0m \u001b[1;36m                 \u001b[0m\n",
      "\u001b[2;36m                    \u001b[0m\u001b[1;32m         \u001b[0m\u001b[35mhtml/\u001b[0m\u001b[95mhotpotqa_all_layers_mse_with\u001b[0m \u001b[1;36m                 \u001b[0m\n",
      "\u001b[2;36m                    \u001b[0m\u001b[1;32m         \u001b[0m\u001b[95mlog_validation.html\u001b[0m               \u001b[1;36m                 \u001b[0m\n",
      "\u001b[2;36m                   \u001b[0m\u001b[2;36m \u001b[0m\u001b[1;34mINFO    \u001b[0m\u001b[1;32m \u001b[0m Saving PNG figure to             \u001b]8;id=63087;file:///Users/gat/work/FA2024/embedding_translation/src/viz/save_figure.py\u001b\\\u001b[1;36msave_figure.py\u001b[0m\u001b]8;;\u001b\\\u001b[1;36m:\u001b[0m\u001b]8;id=387550;file:///Users/gat/work/FA2024/embedding_translation/src/viz/save_figure.py#67\u001b\\\u001b[1;36m67\u001b[0m\u001b]8;;\u001b\\\n",
      "\u001b[2;36m                    \u001b[0m\u001b[1;32m         \u001b[0m\u001b[35m/Users/gat/work/FA2024/embedding_\u001b[0m \u001b[1;36m                 \u001b[0m\n",
      "\u001b[2;36m                    \u001b[0m\u001b[1;32m         \u001b[0m\u001b[35mtranslation/src/blog/figs/gatlen/\u001b[0m \u001b[1;36m                 \u001b[0m\n",
      "\u001b[2;36m                    \u001b[0m\u001b[1;32m         \u001b[0m\u001b[35mimgs/\u001b[0m\u001b[95mhotpotqa_all_layers_mse_with\u001b[0m \u001b[1;36m                 \u001b[0m\n",
      "\u001b[2;36m                    \u001b[0m\u001b[1;32m         \u001b[0m\u001b[95mlog_validation.png\u001b[0m                \u001b[1;36m                 \u001b[0m\n",
      "\u001b[2;36m                   \u001b[0m\u001b[2;36m \u001b[0m\u001b[1;32mSUCCESS \u001b[0m\u001b[1;32m \u001b[0m Successfully saved PNG to        \u001b]8;id=186400;file:///Users/gat/work/FA2024/embedding_translation/src/viz/save_figure.py\u001b\\\u001b[1;36msave_figure.py\u001b[0m\u001b]8;;\u001b\\\u001b[1;36m:\u001b[0m\u001b]8;id=906379;file:///Users/gat/work/FA2024/embedding_translation/src/viz/save_figure.py#76\u001b\\\u001b[1;36m76\u001b[0m\u001b]8;;\u001b\\\n",
      "\u001b[2;36m                    \u001b[0m\u001b[1;32m         \u001b[0m\u001b[35m/Users/gat/work/FA2024/embedding_\u001b[0m \u001b[1;36m                 \u001b[0m\n",
      "\u001b[2;36m                    \u001b[0m\u001b[1;32m         \u001b[0m\u001b[35mtranslation/src/blog/figs/gatlen/\u001b[0m \u001b[1;36m                 \u001b[0m\n",
      "\u001b[2;36m                    \u001b[0m\u001b[1;32m         \u001b[0m\u001b[35mimgs/\u001b[0m\u001b[95mhotpotqa_all_layers_mse_with\u001b[0m \u001b[1;36m                 \u001b[0m\n",
      "\u001b[2;36m                    \u001b[0m\u001b[1;32m         \u001b[0m\u001b[95mlog_validation.png\u001b[0m                \u001b[1;36m                 \u001b[0m\n",
      "\u001b[2;36m                   \u001b[0m\u001b[2;36m \u001b[0m\u001b[1;34mINFO    \u001b[0m\u001b[1;32m \u001b[0m\u001b[1m[\u001b[0m\u001b[1;36m220785227.\u001b[0mpy:\u001b[1;36m42\u001b[0m\u001b[1m]\u001b[0m Creating heatmap  \u001b]8;id=569850;file:///var/folders/6f/f4k9qbkd5nqfywwdhvwdtl5m0000gn/T/ipykernel_39579/220785227.py\u001b\\\u001b[1;36m220785227.py\u001b[0m\u001b]8;;\u001b\\\u001b[1;36m:\u001b[0m\u001b]8;id=379145;file:///var/folders/6f/f4k9qbkd5nqfywwdhvwdtl5m0000gn/T/ipykernel_39579/220785227.py#42\u001b\\\u001b[1;36m42\u001b[0m\u001b]8;;\u001b\\\n",
      "\u001b[2;36m                    \u001b[0m\u001b[1;32m         \u001b[0mvisualization\u001b[33m...\u001b[0m                    \u001b[1;36m               \u001b[0m\n",
      "\u001b[2;36m                   \u001b[0m\u001b[2;36m \u001b[0m\u001b[1;34mINFO    \u001b[0m\u001b[1;32m \u001b[0m\u001b[1m[\u001b[0m\u001b[1;36m220785227.\u001b[0mpy:\u001b[1;36m42\u001b[0m\u001b[1m]\u001b[0m Creating heatmap  \u001b]8;id=603418;file:///var/folders/6f/f4k9qbkd5nqfywwdhvwdtl5m0000gn/T/ipykernel_39579/220785227.py\u001b\\\u001b[1;36m220785227.py\u001b[0m\u001b]8;;\u001b\\\u001b[1;36m:\u001b[0m\u001b]8;id=818686;file:///var/folders/6f/f4k9qbkd5nqfywwdhvwdtl5m0000gn/T/ipykernel_39579/220785227.py#42\u001b\\\u001b[1;36m42\u001b[0m\u001b]8;;\u001b\\\n",
      "\u001b[2;36m                    \u001b[0m\u001b[1;32m         \u001b[0mvisualization\u001b[33m...\u001b[0m                    \u001b[1;36m               \u001b[0m\n",
      "\u001b[2;36m                   \u001b[0m\u001b[2;36m \u001b[0m\u001b[1;34mINFO    \u001b[0m\u001b[1;32m \u001b[0m\u001b[1m[\u001b[0m\u001b[1;36m220785227.\u001b[0mpy:\u001b[1;36m42\u001b[0m\u001b[1m]\u001b[0m Creating heatmap  \u001b]8;id=81178;file:///var/folders/6f/f4k9qbkd5nqfywwdhvwdtl5m0000gn/T/ipykernel_39579/220785227.py\u001b\\\u001b[1;36m220785227.py\u001b[0m\u001b]8;;\u001b\\\u001b[1;36m:\u001b[0m\u001b]8;id=505895;file:///var/folders/6f/f4k9qbkd5nqfywwdhvwdtl5m0000gn/T/ipykernel_39579/220785227.py#42\u001b\\\u001b[1;36m42\u001b[0m\u001b]8;;\u001b\\\n",
      "\u001b[2;36m                    \u001b[0m\u001b[1;32m         \u001b[0mvisualization\u001b[33m...\u001b[0m                    \u001b[1;36m               \u001b[0m\n",
      "\u001b[2;36m                   \u001b[0m\u001b[2;36m \u001b[0m\u001b[1;34mINFO    \u001b[0m\u001b[1;32m \u001b[0m\u001b[1m[\u001b[0m\u001b[1;36m220785227.\u001b[0mpy:\u001b[1;36m42\u001b[0m\u001b[1m]\u001b[0m Creating heatmap  \u001b]8;id=150713;file:///var/folders/6f/f4k9qbkd5nqfywwdhvwdtl5m0000gn/T/ipykernel_39579/220785227.py\u001b\\\u001b[1;36m220785227.py\u001b[0m\u001b]8;;\u001b\\\u001b[1;36m:\u001b[0m\u001b]8;id=530757;file:///var/folders/6f/f4k9qbkd5nqfywwdhvwdtl5m0000gn/T/ipykernel_39579/220785227.py#42\u001b\\\u001b[1;36m42\u001b[0m\u001b]8;;\u001b\\\n",
      "\u001b[2;36m                    \u001b[0m\u001b[1;32m         \u001b[0mvisualization\u001b[33m...\u001b[0m                    \u001b[1;36m               \u001b[0m\n",
      "\u001b[2;36m                   \u001b[0m\u001b[2;36m \u001b[0m\u001b[1;34mINFO    \u001b[0m\u001b[1;32m \u001b[0m\u001b[1m[\u001b[0m\u001b[1;36m220785227.\u001b[0mpy:\u001b[1;36m42\u001b[0m\u001b[1m]\u001b[0m Creating heatmap  \u001b]8;id=159511;file:///var/folders/6f/f4k9qbkd5nqfywwdhvwdtl5m0000gn/T/ipykernel_39579/220785227.py\u001b\\\u001b[1;36m220785227.py\u001b[0m\u001b]8;;\u001b\\\u001b[1;36m:\u001b[0m\u001b]8;id=43804;file:///var/folders/6f/f4k9qbkd5nqfywwdhvwdtl5m0000gn/T/ipykernel_39579/220785227.py#42\u001b\\\u001b[1;36m42\u001b[0m\u001b]8;;\u001b\\\n",
      "\u001b[2;36m                    \u001b[0m\u001b[1;32m         \u001b[0mvisualization\u001b[33m...\u001b[0m                    \u001b[1;36m               \u001b[0m\n",
      "\u001b[2;36m                   \u001b[0m\u001b[2;36m \u001b[0m\u001b[1;34mINFO    \u001b[0m\u001b[1;32m \u001b[0m\u001b[1m[\u001b[0m\u001b[1;36m220785227.\u001b[0mpy:\u001b[1;36m42\u001b[0m\u001b[1m]\u001b[0m Creating heatmap  \u001b]8;id=805076;file:///var/folders/6f/f4k9qbkd5nqfywwdhvwdtl5m0000gn/T/ipykernel_39579/220785227.py\u001b\\\u001b[1;36m220785227.py\u001b[0m\u001b]8;;\u001b\\\u001b[1;36m:\u001b[0m\u001b]8;id=920611;file:///var/folders/6f/f4k9qbkd5nqfywwdhvwdtl5m0000gn/T/ipykernel_39579/220785227.py#42\u001b\\\u001b[1;36m42\u001b[0m\u001b]8;;\u001b\\\n",
      "\u001b[2;36m                    \u001b[0m\u001b[1;32m         \u001b[0mvisualization\u001b[33m...\u001b[0m                    \u001b[1;36m               \u001b[0m\n",
      "\u001b[2;36m                   \u001b[0m\u001b[2;36m \u001b[0m\u001b[1;34mINFO    \u001b[0m\u001b[1;32m \u001b[0m\u001b[1m[\u001b[0m\u001b[1;36m220785227.\u001b[0mpy:\u001b[1;36m42\u001b[0m\u001b[1m]\u001b[0m Creating heatmap  \u001b]8;id=802370;file:///var/folders/6f/f4k9qbkd5nqfywwdhvwdtl5m0000gn/T/ipykernel_39579/220785227.py\u001b\\\u001b[1;36m220785227.py\u001b[0m\u001b]8;;\u001b\\\u001b[1;36m:\u001b[0m\u001b]8;id=600462;file:///var/folders/6f/f4k9qbkd5nqfywwdhvwdtl5m0000gn/T/ipykernel_39579/220785227.py#42\u001b\\\u001b[1;36m42\u001b[0m\u001b]8;;\u001b\\\n",
      "\u001b[2;36m                    \u001b[0m\u001b[1;32m         \u001b[0mvisualization\u001b[33m...\u001b[0m                    \u001b[1;36m               \u001b[0m\n",
      "\u001b[2;36m                   \u001b[0m\u001b[2;36m \u001b[0m\u001b[1;34mINFO    \u001b[0m\u001b[1;32m \u001b[0m Saving HTML figure to            \u001b]8;id=552955;file:///Users/gat/work/FA2024/embedding_translation/src/viz/save_figure.py\u001b\\\u001b[1;36msave_figure.py\u001b[0m\u001b]8;;\u001b\\\u001b[1;36m:\u001b[0m\u001b]8;id=773545;file:///Users/gat/work/FA2024/embedding_translation/src/viz/save_figure.py#32\u001b\\\u001b[1;36m32\u001b[0m\u001b]8;;\u001b\\\n",
      "\u001b[2;36m                    \u001b[0m\u001b[1;32m         \u001b[0m\u001b[35m/Users/gat/work/FA2024/embedding_\u001b[0m \u001b[1;36m                 \u001b[0m\n",
      "\u001b[2;36m                    \u001b[0m\u001b[1;32m         \u001b[0m\u001b[35mtranslation/data/figs/html/\u001b[0m\u001b[95mtrec-c\u001b[0m \u001b[1;36m                 \u001b[0m\n",
      "\u001b[2;36m                    \u001b[0m\u001b[1;32m         \u001b[0m\u001b[95movid_all_layers_mse_withlog_valid\u001b[0m \u001b[1;36m                 \u001b[0m\n",
      "\u001b[2;36m                    \u001b[0m\u001b[1;32m         \u001b[0m\u001b[95mation.html\u001b[0m                        \u001b[1;36m                 \u001b[0m\n",
      "\u001b[2;36m                   \u001b[0m\u001b[2;36m \u001b[0m\u001b[1;32mSUCCESS \u001b[0m\u001b[1;32m \u001b[0m Successfully saved HTML to       \u001b]8;id=504525;file:///Users/gat/work/FA2024/embedding_translation/src/viz/save_figure.py\u001b\\\u001b[1;36msave_figure.py\u001b[0m\u001b]8;;\u001b\\\u001b[1;36m:\u001b[0m\u001b]8;id=912163;file:///Users/gat/work/FA2024/embedding_translation/src/viz/save_figure.py#40\u001b\\\u001b[1;36m40\u001b[0m\u001b]8;;\u001b\\\n",
      "\u001b[2;36m                    \u001b[0m\u001b[1;32m         \u001b[0m\u001b[35m/Users/gat/work/FA2024/embedding_\u001b[0m \u001b[1;36m                 \u001b[0m\n",
      "\u001b[2;36m                    \u001b[0m\u001b[1;32m         \u001b[0m\u001b[35mtranslation/data/figs/html/\u001b[0m\u001b[95mtrec-c\u001b[0m \u001b[1;36m                 \u001b[0m\n",
      "\u001b[2;36m                    \u001b[0m\u001b[1;32m         \u001b[0m\u001b[95movid_all_layers_mse_withlog_valid\u001b[0m \u001b[1;36m                 \u001b[0m\n",
      "\u001b[2;36m                    \u001b[0m\u001b[1;32m         \u001b[0m\u001b[95mation.html\u001b[0m                        \u001b[1;36m                 \u001b[0m\n",
      "\u001b[2;36m                   \u001b[0m\u001b[2;36m \u001b[0m\u001b[1;34mINFO    \u001b[0m\u001b[1;32m \u001b[0m Saving PNG figure to             \u001b]8;id=902623;file:///Users/gat/work/FA2024/embedding_translation/src/viz/save_figure.py\u001b\\\u001b[1;36msave_figure.py\u001b[0m\u001b]8;;\u001b\\\u001b[1;36m:\u001b[0m\u001b]8;id=292194;file:///Users/gat/work/FA2024/embedding_translation/src/viz/save_figure.py#67\u001b\\\u001b[1;36m67\u001b[0m\u001b]8;;\u001b\\\n",
      "\u001b[2;36m                    \u001b[0m\u001b[1;32m         \u001b[0m\u001b[35m/Users/gat/work/FA2024/embedding_\u001b[0m \u001b[1;36m                 \u001b[0m\n",
      "\u001b[2;36m                    \u001b[0m\u001b[1;32m         \u001b[0m\u001b[35mtranslation/data/figs/imgs/\u001b[0m\u001b[95mtrec-c\u001b[0m \u001b[1;36m                 \u001b[0m\n",
      "\u001b[2;36m                    \u001b[0m\u001b[1;32m         \u001b[0m\u001b[95movid_all_layers_mse_withlog_valid\u001b[0m \u001b[1;36m                 \u001b[0m\n",
      "\u001b[2;36m                    \u001b[0m\u001b[1;32m         \u001b[0m\u001b[95mation.png\u001b[0m                         \u001b[1;36m                 \u001b[0m\n",
      "\u001b[2;36m                   \u001b[0m\u001b[2;36m \u001b[0m\u001b[1;32mSUCCESS \u001b[0m\u001b[1;32m \u001b[0m Successfully saved PNG to        \u001b]8;id=970717;file:///Users/gat/work/FA2024/embedding_translation/src/viz/save_figure.py\u001b\\\u001b[1;36msave_figure.py\u001b[0m\u001b]8;;\u001b\\\u001b[1;36m:\u001b[0m\u001b]8;id=695129;file:///Users/gat/work/FA2024/embedding_translation/src/viz/save_figure.py#76\u001b\\\u001b[1;36m76\u001b[0m\u001b]8;;\u001b\\\n",
      "\u001b[2;36m                    \u001b[0m\u001b[1;32m         \u001b[0m\u001b[35m/Users/gat/work/FA2024/embedding_\u001b[0m \u001b[1;36m                 \u001b[0m\n",
      "\u001b[2;36m                    \u001b[0m\u001b[1;32m         \u001b[0m\u001b[35mtranslation/data/figs/imgs/\u001b[0m\u001b[95mtrec-c\u001b[0m \u001b[1;36m                 \u001b[0m\n",
      "\u001b[2;36m                    \u001b[0m\u001b[1;32m         \u001b[0m\u001b[95movid_all_layers_mse_withlog_valid\u001b[0m \u001b[1;36m                 \u001b[0m\n",
      "\u001b[2;36m                    \u001b[0m\u001b[1;32m         \u001b[0m\u001b[95mation.png\u001b[0m                         \u001b[1;36m                 \u001b[0m\n",
      "\u001b[2;36m                   \u001b[0m\u001b[2;36m \u001b[0m\u001b[1;34mINFO    \u001b[0m\u001b[1;32m \u001b[0m Saving HTML figure to            \u001b]8;id=850139;file:///Users/gat/work/FA2024/embedding_translation/src/viz/save_figure.py\u001b\\\u001b[1;36msave_figure.py\u001b[0m\u001b]8;;\u001b\\\u001b[1;36m:\u001b[0m\u001b]8;id=9864;file:///Users/gat/work/FA2024/embedding_translation/src/viz/save_figure.py#32\u001b\\\u001b[1;36m32\u001b[0m\u001b]8;;\u001b\\\n",
      "\u001b[2;36m                    \u001b[0m\u001b[1;32m         \u001b[0m\u001b[35m/Users/gat/work/FA2024/embedding_\u001b[0m \u001b[1;36m                 \u001b[0m\n",
      "\u001b[2;36m                    \u001b[0m\u001b[1;32m         \u001b[0m\u001b[35mtranslation/src/blog/figs/gatlen/\u001b[0m \u001b[1;36m                 \u001b[0m\n",
      "\u001b[2;36m                    \u001b[0m\u001b[1;32m         \u001b[0m\u001b[35mhtml/\u001b[0m\u001b[95mtrec-covid_all_layers_mse_wi\u001b[0m \u001b[1;36m                 \u001b[0m\n",
      "\u001b[2;36m                    \u001b[0m\u001b[1;32m         \u001b[0m\u001b[95mthlog_validation.html\u001b[0m             \u001b[1;36m                 \u001b[0m\n",
      "\u001b[2;36m                   \u001b[0m\u001b[2;36m \u001b[0m\u001b[1;32mSUCCESS \u001b[0m\u001b[1;32m \u001b[0m Successfully saved HTML to       \u001b]8;id=592037;file:///Users/gat/work/FA2024/embedding_translation/src/viz/save_figure.py\u001b\\\u001b[1;36msave_figure.py\u001b[0m\u001b]8;;\u001b\\\u001b[1;36m:\u001b[0m\u001b]8;id=553913;file:///Users/gat/work/FA2024/embedding_translation/src/viz/save_figure.py#40\u001b\\\u001b[1;36m40\u001b[0m\u001b]8;;\u001b\\\n",
      "\u001b[2;36m                    \u001b[0m\u001b[1;32m         \u001b[0m\u001b[35m/Users/gat/work/FA2024/embedding_\u001b[0m \u001b[1;36m                 \u001b[0m\n",
      "\u001b[2;36m                    \u001b[0m\u001b[1;32m         \u001b[0m\u001b[35mtranslation/src/blog/figs/gatlen/\u001b[0m \u001b[1;36m                 \u001b[0m\n",
      "\u001b[2;36m                    \u001b[0m\u001b[1;32m         \u001b[0m\u001b[35mhtml/\u001b[0m\u001b[95mtrec-covid_all_layers_mse_wi\u001b[0m \u001b[1;36m                 \u001b[0m\n",
      "\u001b[2;36m                    \u001b[0m\u001b[1;32m         \u001b[0m\u001b[95mthlog_validation.html\u001b[0m             \u001b[1;36m                 \u001b[0m\n",
      "\u001b[2;36m                   \u001b[0m\u001b[2;36m \u001b[0m\u001b[1;34mINFO    \u001b[0m\u001b[1;32m \u001b[0m Saving PNG figure to             \u001b]8;id=630432;file:///Users/gat/work/FA2024/embedding_translation/src/viz/save_figure.py\u001b\\\u001b[1;36msave_figure.py\u001b[0m\u001b]8;;\u001b\\\u001b[1;36m:\u001b[0m\u001b]8;id=660452;file:///Users/gat/work/FA2024/embedding_translation/src/viz/save_figure.py#67\u001b\\\u001b[1;36m67\u001b[0m\u001b]8;;\u001b\\\n",
      "\u001b[2;36m                    \u001b[0m\u001b[1;32m         \u001b[0m\u001b[35m/Users/gat/work/FA2024/embedding_\u001b[0m \u001b[1;36m                 \u001b[0m\n",
      "\u001b[2;36m                    \u001b[0m\u001b[1;32m         \u001b[0m\u001b[35mtranslation/src/blog/figs/gatlen/\u001b[0m \u001b[1;36m                 \u001b[0m\n",
      "\u001b[2;36m                    \u001b[0m\u001b[1;32m         \u001b[0m\u001b[35mimgs/\u001b[0m\u001b[95mtrec-covid_all_layers_mse_wi\u001b[0m \u001b[1;36m                 \u001b[0m\n",
      "\u001b[2;36m                    \u001b[0m\u001b[1;32m         \u001b[0m\u001b[95mthlog_validation.png\u001b[0m              \u001b[1;36m                 \u001b[0m\n",
      "\u001b[2;36m                   \u001b[0m\u001b[2;36m \u001b[0m\u001b[1;32mSUCCESS \u001b[0m\u001b[1;32m \u001b[0m Successfully saved PNG to        \u001b]8;id=4161;file:///Users/gat/work/FA2024/embedding_translation/src/viz/save_figure.py\u001b\\\u001b[1;36msave_figure.py\u001b[0m\u001b]8;;\u001b\\\u001b[1;36m:\u001b[0m\u001b]8;id=62012;file:///Users/gat/work/FA2024/embedding_translation/src/viz/save_figure.py#76\u001b\\\u001b[1;36m76\u001b[0m\u001b]8;;\u001b\\\n",
      "\u001b[2;36m                    \u001b[0m\u001b[1;32m         \u001b[0m\u001b[35m/Users/gat/work/FA2024/embedding_\u001b[0m \u001b[1;36m                 \u001b[0m\n",
      "\u001b[2;36m                    \u001b[0m\u001b[1;32m         \u001b[0m\u001b[35mtranslation/src/blog/figs/gatlen/\u001b[0m \u001b[1;36m                 \u001b[0m\n",
      "\u001b[2;36m                    \u001b[0m\u001b[1;32m         \u001b[0m\u001b[35mimgs/\u001b[0m\u001b[95mtrec-covid_all_layers_mse_wi\u001b[0m \u001b[1;36m                 \u001b[0m\n",
      "\u001b[2;36m                    \u001b[0m\u001b[1;32m         \u001b[0m\u001b[95mthlog_validation.png\u001b[0m              \u001b[1;36m                 \u001b[0m\n"
     ]
    }
   ],
   "source": [
    "# Visualize Imported Data (One Dataset, All Architectures)\n",
    "\n",
    "from src.viz.save_figure import save_figure\n",
    "\n",
    "\n",
    "save_figure(fig, \"complexity_vs_rank\")\n",
    "labels = sorted(meta[\"model2idx\"], key=lambda k: meta[\"model2idx\"][k])\n",
    "num_layers = sorted(meta[\"num_layers\"])\n",
    "\n",
    "for dataset_name, dataset_i in meta[\"dataset2idx\"].items():\n",
    "    matrix = validation_mse[dataset_i, :, :, :].transpose(2, 0, 1)\n",
    "    fig = animated_heatmap(\n",
    "        matrices=matrix,\n",
    "        log=True,\n",
    "        title=f\"Validation MSE (log) ({dataset_name})\",\n",
    "        labels=labels,\n",
    "        nan_diagnal=True,\n",
    "        slider_prefix=\"Number of Layers: \",\n",
    "        slider_labels=num_layers,\n",
    "    )\n",
    "    save_figure(\n",
    "        fig,\n",
    "        f\"{dataset_name}_all_layers_mse_withlog_validation\",\n",
    "        output_dir=PROJ_ROOT / \"data\" / \"figs\",\n",
    "    )\n",
    "    save_figure(\n",
    "        fig,\n",
    "        f\"{dataset_name}_all_layers_mse_withlog_validation\",\n",
    "        output_dir=PROJ_ROOT / \"src\" / \"blog\" / \"figs\" / \"gatlen\",\n",
    "    )"
   ]
  },
  {
   "cell_type": "code",
   "execution_count": 68,
   "metadata": {},
   "outputs": [
    {
     "name": "stdout",
     "output_type": "stream",
     "text": [
      "\u001b[2;36m[12/13/24 20:17:06]\u001b[0m\u001b[2;36m \u001b[0m\u001b[1;34mINFO    \u001b[0m\u001b[1;32m \u001b[0m\u001b[1m[\u001b[0m\u001b[1;36m220785227.\u001b[0mpy:\u001b[1;36m42\u001b[0m\u001b[1m]\u001b[0m Creating heatmap  \u001b]8;id=641840;file:///var/folders/6f/f4k9qbkd5nqfywwdhvwdtl5m0000gn/T/ipykernel_39579/220785227.py\u001b\\\u001b[1;36m220785227.py\u001b[0m\u001b]8;;\u001b\\\u001b[1;36m:\u001b[0m\u001b]8;id=469499;file:///var/folders/6f/f4k9qbkd5nqfywwdhvwdtl5m0000gn/T/ipykernel_39579/220785227.py#42\u001b\\\u001b[1;36m42\u001b[0m\u001b]8;;\u001b\\\n",
      "\u001b[2;36m                    \u001b[0m\u001b[1;32m         \u001b[0mvisualization\u001b[33m...\u001b[0m                    \u001b[1;36m               \u001b[0m\n",
      "\u001b[2;36m                   \u001b[0m\u001b[2;36m \u001b[0m\u001b[1;34mINFO    \u001b[0m\u001b[1;32m \u001b[0m\u001b[1m[\u001b[0m\u001b[1;36m220785227.\u001b[0mpy:\u001b[1;36m42\u001b[0m\u001b[1m]\u001b[0m Creating heatmap  \u001b]8;id=290397;file:///var/folders/6f/f4k9qbkd5nqfywwdhvwdtl5m0000gn/T/ipykernel_39579/220785227.py\u001b\\\u001b[1;36m220785227.py\u001b[0m\u001b]8;;\u001b\\\u001b[1;36m:\u001b[0m\u001b]8;id=260346;file:///var/folders/6f/f4k9qbkd5nqfywwdhvwdtl5m0000gn/T/ipykernel_39579/220785227.py#42\u001b\\\u001b[1;36m42\u001b[0m\u001b]8;;\u001b\\\n",
      "\u001b[2;36m                    \u001b[0m\u001b[1;32m         \u001b[0mvisualization\u001b[33m...\u001b[0m                    \u001b[1;36m               \u001b[0m\n"
     ]
    },
    {
     "name": "stdout",
     "output_type": "stream",
     "text": [
      "\u001b[2;36m                   \u001b[0m\u001b[2;36m \u001b[0m\u001b[1;34mINFO    \u001b[0m\u001b[1;32m \u001b[0m\u001b[1m[\u001b[0m\u001b[1;36m220785227.\u001b[0mpy:\u001b[1;36m42\u001b[0m\u001b[1m]\u001b[0m Creating heatmap  \u001b]8;id=789049;file:///var/folders/6f/f4k9qbkd5nqfywwdhvwdtl5m0000gn/T/ipykernel_39579/220785227.py\u001b\\\u001b[1;36m220785227.py\u001b[0m\u001b]8;;\u001b\\\u001b[1;36m:\u001b[0m\u001b]8;id=889282;file:///var/folders/6f/f4k9qbkd5nqfywwdhvwdtl5m0000gn/T/ipykernel_39579/220785227.py#42\u001b\\\u001b[1;36m42\u001b[0m\u001b]8;;\u001b\\\n",
      "\u001b[2;36m                    \u001b[0m\u001b[1;32m         \u001b[0mvisualization\u001b[33m...\u001b[0m                    \u001b[1;36m               \u001b[0m\n",
      "\u001b[2;36m                   \u001b[0m\u001b[2;36m \u001b[0m\u001b[1;34mINFO    \u001b[0m\u001b[1;32m \u001b[0m\u001b[1m[\u001b[0m\u001b[1;36m220785227.\u001b[0mpy:\u001b[1;36m42\u001b[0m\u001b[1m]\u001b[0m Creating heatmap  \u001b]8;id=643182;file:///var/folders/6f/f4k9qbkd5nqfywwdhvwdtl5m0000gn/T/ipykernel_39579/220785227.py\u001b\\\u001b[1;36m220785227.py\u001b[0m\u001b]8;;\u001b\\\u001b[1;36m:\u001b[0m\u001b]8;id=590298;file:///var/folders/6f/f4k9qbkd5nqfywwdhvwdtl5m0000gn/T/ipykernel_39579/220785227.py#42\u001b\\\u001b[1;36m42\u001b[0m\u001b]8;;\u001b\\\n",
      "\u001b[2;36m                    \u001b[0m\u001b[1;32m         \u001b[0mvisualization\u001b[33m...\u001b[0m                    \u001b[1;36m               \u001b[0m\n",
      "\u001b[2;36m                   \u001b[0m\u001b[2;36m \u001b[0m\u001b[1;34mINFO    \u001b[0m\u001b[1;32m \u001b[0m\u001b[1m[\u001b[0m\u001b[1;36m220785227.\u001b[0mpy:\u001b[1;36m42\u001b[0m\u001b[1m]\u001b[0m Creating heatmap  \u001b]8;id=592556;file:///var/folders/6f/f4k9qbkd5nqfywwdhvwdtl5m0000gn/T/ipykernel_39579/220785227.py\u001b\\\u001b[1;36m220785227.py\u001b[0m\u001b]8;;\u001b\\\u001b[1;36m:\u001b[0m\u001b]8;id=135289;file:///var/folders/6f/f4k9qbkd5nqfywwdhvwdtl5m0000gn/T/ipykernel_39579/220785227.py#42\u001b\\\u001b[1;36m42\u001b[0m\u001b]8;;\u001b\\\n",
      "\u001b[2;36m                    \u001b[0m\u001b[1;32m         \u001b[0mvisualization\u001b[33m...\u001b[0m                    \u001b[1;36m               \u001b[0m\n",
      "\u001b[2;36m                   \u001b[0m\u001b[2;36m \u001b[0m\u001b[1;34mINFO    \u001b[0m\u001b[1;32m \u001b[0m\u001b[1m[\u001b[0m\u001b[1;36m220785227.\u001b[0mpy:\u001b[1;36m42\u001b[0m\u001b[1m]\u001b[0m Creating heatmap  \u001b]8;id=800793;file:///var/folders/6f/f4k9qbkd5nqfywwdhvwdtl5m0000gn/T/ipykernel_39579/220785227.py\u001b\\\u001b[1;36m220785227.py\u001b[0m\u001b]8;;\u001b\\\u001b[1;36m:\u001b[0m\u001b]8;id=259414;file:///var/folders/6f/f4k9qbkd5nqfywwdhvwdtl5m0000gn/T/ipykernel_39579/220785227.py#42\u001b\\\u001b[1;36m42\u001b[0m\u001b]8;;\u001b\\\n",
      "\u001b[2;36m                    \u001b[0m\u001b[1;32m         \u001b[0mvisualization\u001b[33m...\u001b[0m                    \u001b[1;36m               \u001b[0m\n",
      "\u001b[2;36m                   \u001b[0m\u001b[2;36m \u001b[0m\u001b[1;34mINFO    \u001b[0m\u001b[1;32m \u001b[0m\u001b[1m[\u001b[0m\u001b[1;36m220785227.\u001b[0mpy:\u001b[1;36m42\u001b[0m\u001b[1m]\u001b[0m Creating heatmap  \u001b]8;id=493111;file:///var/folders/6f/f4k9qbkd5nqfywwdhvwdtl5m0000gn/T/ipykernel_39579/220785227.py\u001b\\\u001b[1;36m220785227.py\u001b[0m\u001b]8;;\u001b\\\u001b[1;36m:\u001b[0m\u001b]8;id=490543;file:///var/folders/6f/f4k9qbkd5nqfywwdhvwdtl5m0000gn/T/ipykernel_39579/220785227.py#42\u001b\\\u001b[1;36m42\u001b[0m\u001b]8;;\u001b\\\n",
      "\u001b[2;36m                    \u001b[0m\u001b[1;32m         \u001b[0mvisualization\u001b[33m...\u001b[0m                    \u001b[1;36m               \u001b[0m\n",
      "\u001b[2;36m                   \u001b[0m\u001b[2;36m \u001b[0m\u001b[1;34mINFO    \u001b[0m\u001b[1;32m \u001b[0m Saving HTML figure to            \u001b]8;id=746571;file:///Users/gat/work/FA2024/embedding_translation/src/viz/save_figure.py\u001b\\\u001b[1;36msave_figure.py\u001b[0m\u001b]8;;\u001b\\\u001b[1;36m:\u001b[0m\u001b]8;id=586291;file:///Users/gat/work/FA2024/embedding_translation/src/viz/save_figure.py#32\u001b\\\u001b[1;36m32\u001b[0m\u001b]8;;\u001b\\\n",
      "\u001b[2;36m                    \u001b[0m\u001b[1;32m         \u001b[0m\u001b[35m/Users/gat/work/FA2024/embedding_\u001b[0m \u001b[1;36m                 \u001b[0m\n",
      "\u001b[2;36m                    \u001b[0m\u001b[1;32m         \u001b[0m\u001b[35mtranslation/data/figs/html/\u001b[0m\u001b[95mweight\u001b[0m \u001b[1;36m                 \u001b[0m\n",
      "\u001b[2;36m                    \u001b[0m\u001b[1;32m         \u001b[0m\u001b[95medmean_all_layers_mse_withlog_val\u001b[0m \u001b[1;36m                 \u001b[0m\n",
      "\u001b[2;36m                    \u001b[0m\u001b[1;32m         \u001b[0m\u001b[95midation.html\u001b[0m                      \u001b[1;36m                 \u001b[0m\n",
      "\u001b[2;36m[12/13/24 20:17:07]\u001b[0m\u001b[2;36m \u001b[0m\u001b[1;32mSUCCESS \u001b[0m\u001b[1;32m \u001b[0m Successfully saved HTML to       \u001b]8;id=42083;file:///Users/gat/work/FA2024/embedding_translation/src/viz/save_figure.py\u001b\\\u001b[1;36msave_figure.py\u001b[0m\u001b]8;;\u001b\\\u001b[1;36m:\u001b[0m\u001b]8;id=938081;file:///Users/gat/work/FA2024/embedding_translation/src/viz/save_figure.py#40\u001b\\\u001b[1;36m40\u001b[0m\u001b]8;;\u001b\\\n",
      "\u001b[2;36m                    \u001b[0m\u001b[1;32m         \u001b[0m\u001b[35m/Users/gat/work/FA2024/embedding_\u001b[0m \u001b[1;36m                 \u001b[0m\n",
      "\u001b[2;36m                    \u001b[0m\u001b[1;32m         \u001b[0m\u001b[35mtranslation/data/figs/html/\u001b[0m\u001b[95mweight\u001b[0m \u001b[1;36m                 \u001b[0m\n",
      "\u001b[2;36m                    \u001b[0m\u001b[1;32m         \u001b[0m\u001b[95medmean_all_layers_mse_withlog_val\u001b[0m \u001b[1;36m                 \u001b[0m\n",
      "\u001b[2;36m                    \u001b[0m\u001b[1;32m         \u001b[0m\u001b[95midation.html\u001b[0m                      \u001b[1;36m                 \u001b[0m\n",
      "\u001b[2;36m                   \u001b[0m\u001b[2;36m \u001b[0m\u001b[1;34mINFO    \u001b[0m\u001b[1;32m \u001b[0m Saving PNG figure to             \u001b]8;id=302118;file:///Users/gat/work/FA2024/embedding_translation/src/viz/save_figure.py\u001b\\\u001b[1;36msave_figure.py\u001b[0m\u001b]8;;\u001b\\\u001b[1;36m:\u001b[0m\u001b]8;id=427298;file:///Users/gat/work/FA2024/embedding_translation/src/viz/save_figure.py#67\u001b\\\u001b[1;36m67\u001b[0m\u001b]8;;\u001b\\\n",
      "\u001b[2;36m                    \u001b[0m\u001b[1;32m         \u001b[0m\u001b[35m/Users/gat/work/FA2024/embedding_\u001b[0m \u001b[1;36m                 \u001b[0m\n",
      "\u001b[2;36m                    \u001b[0m\u001b[1;32m         \u001b[0m\u001b[35mtranslation/data/figs/imgs/\u001b[0m\u001b[95mweight\u001b[0m \u001b[1;36m                 \u001b[0m\n",
      "\u001b[2;36m                    \u001b[0m\u001b[1;32m         \u001b[0m\u001b[95medmean_all_layers_mse_withlog_val\u001b[0m \u001b[1;36m                 \u001b[0m\n",
      "\u001b[2;36m                    \u001b[0m\u001b[1;32m         \u001b[0m\u001b[95midation.png\u001b[0m                       \u001b[1;36m                 \u001b[0m\n",
      "\u001b[2;36m                   \u001b[0m\u001b[2;36m \u001b[0m\u001b[1;32mSUCCESS \u001b[0m\u001b[1;32m \u001b[0m Successfully saved PNG to        \u001b]8;id=879027;file:///Users/gat/work/FA2024/embedding_translation/src/viz/save_figure.py\u001b\\\u001b[1;36msave_figure.py\u001b[0m\u001b]8;;\u001b\\\u001b[1;36m:\u001b[0m\u001b]8;id=471393;file:///Users/gat/work/FA2024/embedding_translation/src/viz/save_figure.py#76\u001b\\\u001b[1;36m76\u001b[0m\u001b]8;;\u001b\\\n",
      "\u001b[2;36m                    \u001b[0m\u001b[1;32m         \u001b[0m\u001b[35m/Users/gat/work/FA2024/embedding_\u001b[0m \u001b[1;36m                 \u001b[0m\n",
      "\u001b[2;36m                    \u001b[0m\u001b[1;32m         \u001b[0m\u001b[35mtranslation/data/figs/imgs/\u001b[0m\u001b[95mweight\u001b[0m \u001b[1;36m                 \u001b[0m\n",
      "\u001b[2;36m                    \u001b[0m\u001b[1;32m         \u001b[0m\u001b[95medmean_all_layers_mse_withlog_val\u001b[0m \u001b[1;36m                 \u001b[0m\n",
      "\u001b[2;36m                    \u001b[0m\u001b[1;32m         \u001b[0m\u001b[95midation.png\u001b[0m                       \u001b[1;36m                 \u001b[0m\n",
      "\u001b[2;36m                   \u001b[0m\u001b[2;36m \u001b[0m\u001b[1;34mINFO    \u001b[0m\u001b[1;32m \u001b[0m Saving HTML figure to            \u001b]8;id=934183;file:///Users/gat/work/FA2024/embedding_translation/src/viz/save_figure.py\u001b\\\u001b[1;36msave_figure.py\u001b[0m\u001b]8;;\u001b\\\u001b[1;36m:\u001b[0m\u001b]8;id=519862;file:///Users/gat/work/FA2024/embedding_translation/src/viz/save_figure.py#32\u001b\\\u001b[1;36m32\u001b[0m\u001b]8;;\u001b\\\n",
      "\u001b[2;36m                    \u001b[0m\u001b[1;32m         \u001b[0m\u001b[35m/Users/gat/work/FA2024/embedding_\u001b[0m \u001b[1;36m                 \u001b[0m\n",
      "\u001b[2;36m                    \u001b[0m\u001b[1;32m         \u001b[0m\u001b[35mtranslation/src/blog/figs/gatlen/\u001b[0m \u001b[1;36m                 \u001b[0m\n",
      "\u001b[2;36m                    \u001b[0m\u001b[1;32m         \u001b[0m\u001b[35mhtml/\u001b[0m\u001b[95mweightedmean_all_layers_mse_\u001b[0m \u001b[1;36m                 \u001b[0m\n",
      "\u001b[2;36m                    \u001b[0m\u001b[1;32m         \u001b[0m\u001b[95mwithlog_validation.html\u001b[0m           \u001b[1;36m                 \u001b[0m\n",
      "\u001b[2;36m                   \u001b[0m\u001b[2;36m \u001b[0m\u001b[1;32mSUCCESS \u001b[0m\u001b[1;32m \u001b[0m Successfully saved HTML to       \u001b]8;id=557551;file:///Users/gat/work/FA2024/embedding_translation/src/viz/save_figure.py\u001b\\\u001b[1;36msave_figure.py\u001b[0m\u001b]8;;\u001b\\\u001b[1;36m:\u001b[0m\u001b]8;id=530383;file:///Users/gat/work/FA2024/embedding_translation/src/viz/save_figure.py#40\u001b\\\u001b[1;36m40\u001b[0m\u001b]8;;\u001b\\\n",
      "\u001b[2;36m                    \u001b[0m\u001b[1;32m         \u001b[0m\u001b[35m/Users/gat/work/FA2024/embedding_\u001b[0m \u001b[1;36m                 \u001b[0m\n",
      "\u001b[2;36m                    \u001b[0m\u001b[1;32m         \u001b[0m\u001b[35mtranslation/src/blog/figs/gatlen/\u001b[0m \u001b[1;36m                 \u001b[0m\n",
      "\u001b[2;36m                    \u001b[0m\u001b[1;32m         \u001b[0m\u001b[35mhtml/\u001b[0m\u001b[95mweightedmean_all_layers_mse_\u001b[0m \u001b[1;36m                 \u001b[0m\n",
      "\u001b[2;36m                    \u001b[0m\u001b[1;32m         \u001b[0m\u001b[95mwithlog_validation.html\u001b[0m           \u001b[1;36m                 \u001b[0m\n",
      "\u001b[2;36m                   \u001b[0m\u001b[2;36m \u001b[0m\u001b[1;34mINFO    \u001b[0m\u001b[1;32m \u001b[0m Saving PNG figure to             \u001b]8;id=475053;file:///Users/gat/work/FA2024/embedding_translation/src/viz/save_figure.py\u001b\\\u001b[1;36msave_figure.py\u001b[0m\u001b]8;;\u001b\\\u001b[1;36m:\u001b[0m\u001b]8;id=411048;file:///Users/gat/work/FA2024/embedding_translation/src/viz/save_figure.py#67\u001b\\\u001b[1;36m67\u001b[0m\u001b]8;;\u001b\\\n",
      "\u001b[2;36m                    \u001b[0m\u001b[1;32m         \u001b[0m\u001b[35m/Users/gat/work/FA2024/embedding_\u001b[0m \u001b[1;36m                 \u001b[0m\n",
      "\u001b[2;36m                    \u001b[0m\u001b[1;32m         \u001b[0m\u001b[35mtranslation/src/blog/figs/gatlen/\u001b[0m \u001b[1;36m                 \u001b[0m\n",
      "\u001b[2;36m                    \u001b[0m\u001b[1;32m         \u001b[0m\u001b[35mimgs/\u001b[0m\u001b[95mweightedmean_all_layers_mse_\u001b[0m \u001b[1;36m                 \u001b[0m\n",
      "\u001b[2;36m                    \u001b[0m\u001b[1;32m         \u001b[0m\u001b[95mwithlog_validation.png\u001b[0m            \u001b[1;36m                 \u001b[0m\n",
      "\u001b[2;36m                   \u001b[0m\u001b[2;36m \u001b[0m\u001b[1;32mSUCCESS \u001b[0m\u001b[1;32m \u001b[0m Successfully saved PNG to        \u001b]8;id=594750;file:///Users/gat/work/FA2024/embedding_translation/src/viz/save_figure.py\u001b\\\u001b[1;36msave_figure.py\u001b[0m\u001b]8;;\u001b\\\u001b[1;36m:\u001b[0m\u001b]8;id=366427;file:///Users/gat/work/FA2024/embedding_translation/src/viz/save_figure.py#76\u001b\\\u001b[1;36m76\u001b[0m\u001b]8;;\u001b\\\n",
      "\u001b[2;36m                    \u001b[0m\u001b[1;32m         \u001b[0m\u001b[35m/Users/gat/work/FA2024/embedding_\u001b[0m \u001b[1;36m                 \u001b[0m\n",
      "\u001b[2;36m                    \u001b[0m\u001b[1;32m         \u001b[0m\u001b[35mtranslation/src/blog/figs/gatlen/\u001b[0m \u001b[1;36m                 \u001b[0m\n",
      "\u001b[2;36m                    \u001b[0m\u001b[1;32m         \u001b[0m\u001b[35mimgs/\u001b[0m\u001b[95mweightedmean_all_layers_mse_\u001b[0m \u001b[1;36m                 \u001b[0m\n",
      "\u001b[2;36m                    \u001b[0m\u001b[1;32m         \u001b[0m\u001b[95mwithlog_validation.png\u001b[0m            \u001b[1;36m                 \u001b[0m\n"
     ]
    },
    {
     "data": {
      "text/plain": [
       "(PosixPath('/Users/gat/work/FA2024/embedding_translation/src/blog/figs/gatlen/html/weightedmean_all_layers_mse_withlog_validation.html'),\n",
       " PosixPath('/Users/gat/work/FA2024/embedding_translation/src/blog/figs/gatlen/imgs/weightedmean_all_layers_mse_withlog_validation.png'))"
      ]
     },
     "execution_count": 68,
     "metadata": {},
     "output_type": "execute_result"
    }
   ],
   "source": [
    "# Lastly get the mean score (not weighted)\n",
    "dataset_name = \"weightedmean\"\n",
    "average_validation_mse = validation_mse.mean(\n",
    "    axis=0\n",
    ")  # Calculate mean across datasets (axis=0)\n",
    "fig = animated_heatmap(\n",
    "    matrices=average_validation_mse.transpose(\n",
    "        2, 0, 1\n",
    "    ),  # Reshape to (n_layers, n_models, n_models)\n",
    "    log=True,\n",
    "    title=f\"Validation MSE (log) ({dataset_name})\",\n",
    "    labels=labels,\n",
    "    nan_diagnal=True,\n",
    "    slider_prefix=\"Number of Layers: \",\n",
    "    slider_labels=num_layers,\n",
    ")\n",
    "save_figure(\n",
    "    fig,\n",
    "    f\"{dataset_name}_all_layers_mse_withlog_validation\",\n",
    "    output_dir=PROJ_ROOT / \"data\" / \"figs\",\n",
    ")\n",
    "save_figure(\n",
    "    fig,\n",
    "    f\"{dataset_name}_all_layers_mse_withlog_validation\",\n",
    "    output_dir=PROJ_ROOT / \"src\" / \"blog\" / \"figs\" / \"gatlen\",\n",
    ")"
   ]
  },
  {
   "cell_type": "markdown",
   "metadata": {},
   "source": [
    "## Get Loss vs Layers\n"
   ]
  },
  {
   "cell_type": "code",
   "execution_count": 70,
   "metadata": {},
   "outputs": [
    {
     "data": {
      "text/plain": [
       "(17, 17, 6)"
      ]
     },
     "execution_count": 70,
     "metadata": {},
     "output_type": "execute_result"
    }
   ],
   "source": [
    "average_validation_mse.shape  # (17, 17, 6)"
   ]
  },
  {
   "cell_type": "code",
   "execution_count": 80,
   "metadata": {},
   "outputs": [
    {
     "data": {
      "application/vnd.plotly.v1+json": {
       "config": {
        "plotlyServerURL": "https://plot.ly"
       },
       "data": [
        {
         "legendgroup": "WhereIsAI_UAE-Large-V1",
         "legendgrouptitle": {
          "text": "From: WhereIsAI_UAE-Large-V1"
         },
         "line": {
          "width": 1
         },
         "mode": "lines",
         "name": "BAAI_bge-base-en-v1.5",
         "opacity": 0.5,
         "showlegend": true,
         "type": "scatter",
         "x": [
          2,
          3,
          4,
          5,
          6,
          7
         ],
         "y": [
          0.0017173201,
          0.0017193096,
          0.0016485597,
          0.0017172334,
          0.0017010268,
          0.0017198324
         ]
        },
        {
         "legendgroup": "WhereIsAI_UAE-Large-V1",
         "legendgrouptitle": {
          "text": "From: WhereIsAI_UAE-Large-V1"
         },
         "line": {
          "width": 1
         },
         "mode": "lines",
         "name": "BAAI_bge-large-en-v1.5",
         "opacity": 0.5,
         "showlegend": true,
         "type": "scatter",
         "x": [
          2,
          3,
          4,
          5,
          6,
          7
         ],
         "y": [
          0.0014136225,
          0.0013882782,
          0.0013593916,
          0.0013846062,
          0.0013724648,
          0.0013565352
         ]
        },
        {
         "legendgroup": "WhereIsAI_UAE-Large-V1",
         "legendgrouptitle": {
          "text": "From: WhereIsAI_UAE-Large-V1"
         },
         "line": {
          "width": 1
         },
         "mode": "lines",
         "name": "BAAI_bge-small-en-v1.5",
         "opacity": 0.5,
         "showlegend": true,
         "type": "scatter",
         "x": [
          2,
          3,
          4,
          5,
          6,
          7
         ],
         "y": [
          0.0029882074,
          0.0030201934,
          0.0029805286,
          0.002980829,
          0.0030091507,
          0.0029716997
         ]
        },
        {
         "legendgroup": "WhereIsAI_UAE-Large-V1",
         "legendgrouptitle": {
          "text": "From: WhereIsAI_UAE-Large-V1"
         },
         "line": {
          "width": 1
         },
         "mode": "lines",
         "name": "intfloat_e5-base-v2",
         "opacity": 0.5,
         "showlegend": true,
         "type": "scatter",
         "x": [
          2,
          3,
          4,
          5,
          6,
          7
         ],
         "y": [
          0.0017296276,
          0.0017245454,
          0.0016842559,
          0.0017157634,
          0.0016730083,
          0.0017034729
         ]
        },
        {
         "legendgroup": "WhereIsAI_UAE-Large-V1",
         "legendgrouptitle": {
          "text": "From: WhereIsAI_UAE-Large-V1"
         },
         "line": {
          "width": 1
         },
         "mode": "lines",
         "name": "intfloat_e5-large-v2",
         "opacity": 0.5,
         "showlegend": true,
         "type": "scatter",
         "x": [
          2,
          3,
          4,
          5,
          6,
          7
         ],
         "y": [
          0.0014157483,
          0.0013719188,
          0.0013582306,
          0.0013805589,
          0.0013730772,
          0.0013729943
         ]
        },
        {
         "legendgroup": "WhereIsAI_UAE-Large-V1",
         "legendgrouptitle": {
          "text": "From: WhereIsAI_UAE-Large-V1"
         },
         "line": {
          "width": 1
         },
         "mode": "lines",
         "name": "intfloat_e5-small-v2",
         "opacity": 0.5,
         "showlegend": true,
         "type": "scatter",
         "x": [
          2,
          3,
          4,
          5,
          6,
          7
         ],
         "y": [
          0.003118096,
          0.0030218547,
          0.002971581,
          0.0029427337,
          0.0030337342,
          0.0029767624
         ]
        },
        {
         "legendgroup": "WhereIsAI_UAE-Large-V1",
         "legendgrouptitle": {
          "text": "From: WhereIsAI_UAE-Large-V1"
         },
         "line": {
          "width": 1
         },
         "mode": "lines",
         "name": "thenlper_gte-base",
         "opacity": 0.5,
         "showlegend": true,
         "type": "scatter",
         "x": [
          2,
          3,
          4,
          5,
          6,
          7
         ],
         "y": [
          0.0017173422,
          0.0017198268,
          0.0017120998,
          0.0016809031,
          0.0016956503,
          0.0016702757
         ]
        },
        {
         "legendgroup": "WhereIsAI_UAE-Large-V1",
         "legendgrouptitle": {
          "text": "From: WhereIsAI_UAE-Large-V1"
         },
         "line": {
          "width": 1
         },
         "mode": "lines",
         "name": "thenlper_gte-large",
         "opacity": 0.5,
         "showlegend": true,
         "type": "scatter",
         "x": [
          2,
          3,
          4,
          5,
          6,
          7
         ],
         "y": [
          0.001437358,
          0.0013579609,
          0.0013473653,
          0.0013502367,
          0.0013747647,
          0.0013624277
         ]
        },
        {
         "legendgroup": "WhereIsAI_UAE-Large-V1",
         "legendgrouptitle": {
          "text": "From: WhereIsAI_UAE-Large-V1"
         },
         "line": {
          "width": 1
         },
         "mode": "lines",
         "name": "thenlper_gte-small",
         "opacity": 0.5,
         "showlegend": true,
         "type": "scatter",
         "x": [
          2,
          3,
          4,
          5,
          6,
          7
         ],
         "y": [
          0.0031138335,
          0.0030272983,
          0.0030327216,
          0.003018135,
          0.0029749274,
          0.0030392613
         ]
        },
        {
         "legendgroup": "WhereIsAI_UAE-Large-V1",
         "legendgrouptitle": {
          "text": "From: WhereIsAI_UAE-Large-V1"
         },
         "line": {
          "width": 1
         },
         "mode": "lines",
         "name": "sentence-transformers_gtr-t5-base",
         "opacity": 0.5,
         "showlegend": true,
         "type": "scatter",
         "x": [
          2,
          3,
          4,
          5,
          6,
          7
         ],
         "y": [
          0.0017345735,
          0.001704293,
          0.0016978869,
          0.0016734676,
          0.0016972111,
          0.0017023506
         ]
        },
        {
         "legendgroup": "WhereIsAI_UAE-Large-V1",
         "legendgrouptitle": {
          "text": "From: WhereIsAI_UAE-Large-V1"
         },
         "line": {
          "width": 1
         },
         "mode": "lines",
         "name": "sentence-transformers_gtr-t5-large",
         "opacity": 0.5,
         "showlegend": true,
         "type": "scatter",
         "x": [
          2,
          3,
          4,
          5,
          6,
          7
         ],
         "y": [
          0.0017129654,
          0.0017134353,
          0.0016834995,
          0.0016920053,
          0.0016925047,
          0.0016835093
         ]
        },
        {
         "legendgroup": "WhereIsAI_UAE-Large-V1",
         "legendgrouptitle": {
          "text": "From: WhereIsAI_UAE-Large-V1"
         },
         "line": {
          "width": 1
         },
         "mode": "lines",
         "name": "mixedbread-ai_mxbai-embed-large-v1",
         "opacity": 0.5,
         "showlegend": true,
         "type": "scatter",
         "x": [
          2,
          3,
          4,
          5,
          6,
          7
         ],
         "y": [
          0.0014095715,
          0.0013867981,
          0.0013680562,
          0.0013695839,
          0.0013697827,
          0.0013733449
         ]
        },
        {
         "legendgroup": "WhereIsAI_UAE-Large-V1",
         "legendgrouptitle": {
          "text": "From: WhereIsAI_UAE-Large-V1"
         },
         "line": {
          "width": 1
         },
         "mode": "lines",
         "name": "sentence-transformers_sentence-t5-base",
         "opacity": 0.5,
         "showlegend": true,
         "type": "scatter",
         "x": [
          2,
          3,
          4,
          5,
          6,
          7
         ],
         "y": [
          0.0017727548,
          0.0017276251,
          0.0016873245,
          0.0016867676,
          0.0017084922,
          0.0016877726
         ]
        },
        {
         "legendgroup": "WhereIsAI_UAE-Large-V1",
         "legendgrouptitle": {
          "text": "From: WhereIsAI_UAE-Large-V1"
         },
         "line": {
          "width": 1
         },
         "mode": "lines",
         "name": "sentence-transformers_sentence-t5-large",
         "opacity": 0.5,
         "showlegend": true,
         "type": "scatter",
         "x": [
          2,
          3,
          4,
          5,
          6,
          7
         ],
         "y": [
          0.001745734,
          0.0016890311,
          0.0016554984,
          0.0017034457,
          0.0016929406,
          0.0016839817
         ]
        },
        {
         "legendgroup": "WhereIsAI_UAE-Large-V1",
         "legendgrouptitle": {
          "text": "From: WhereIsAI_UAE-Large-V1"
         },
         "line": {
          "width": 1
         },
         "mode": "lines",
         "name": "openai_text-embedding-3-large",
         "opacity": 0.5,
         "showlegend": true,
         "type": "scatter",
         "x": [
          2,
          3,
          4,
          5,
          6,
          7
         ],
         "y": [
          0.0005412169,
          0.00047179512,
          0.00045813966,
          0.00045606517,
          0.00045454167,
          0.0004539697
         ]
        },
        {
         "legendgroup": "WhereIsAI_UAE-Large-V1",
         "legendgrouptitle": {
          "text": "From: WhereIsAI_UAE-Large-V1"
         },
         "line": {
          "width": 1
         },
         "mode": "lines",
         "name": "openai_text-embedding-3-small",
         "opacity": 0.5,
         "showlegend": true,
         "type": "scatter",
         "x": [
          2,
          3,
          4,
          5,
          6,
          7
         ],
         "y": [
          0.0009698221,
          0.00092172524,
          0.0009161755,
          0.00091414416,
          0.0009145576,
          0.0009106645
         ]
        },
        {
         "legendgroup": "BAAI_bge-base-en-v1.5",
         "legendgrouptitle": {
          "text": "From: BAAI_bge-base-en-v1.5"
         },
         "line": {
          "width": 1
         },
         "mode": "lines",
         "name": "WhereIsAI_UAE-Large-V1",
         "opacity": 0.5,
         "showlegend": true,
         "type": "scatter",
         "x": [
          2,
          3,
          4,
          5,
          6,
          7
         ],
         "y": [
          0.0014329478,
          0.0013789013,
          0.0013636522,
          0.0013796883,
          0.0013591396,
          0.0013721107
         ]
        },
        {
         "legendgroup": "BAAI_bge-base-en-v1.5",
         "legendgrouptitle": {
          "text": "From: BAAI_bge-base-en-v1.5"
         },
         "line": {
          "width": 1
         },
         "mode": "lines",
         "name": "BAAI_bge-large-en-v1.5",
         "opacity": 0.5,
         "showlegend": true,
         "type": "scatter",
         "x": [
          2,
          3,
          4,
          5,
          6,
          7
         ],
         "y": [
          0.0014469591,
          0.001392582,
          0.001388043,
          0.0013548514,
          0.0013606924,
          0.0013595838
         ]
        },
        {
         "legendgroup": "BAAI_bge-base-en-v1.5",
         "legendgrouptitle": {
          "text": "From: BAAI_bge-base-en-v1.5"
         },
         "line": {
          "width": 1
         },
         "mode": "lines",
         "name": "BAAI_bge-small-en-v1.5",
         "opacity": 0.5,
         "showlegend": true,
         "type": "scatter",
         "x": [
          2,
          3,
          4,
          5,
          6,
          7
         ],
         "y": [
          0.003139537,
          0.0031434332,
          0.0031313186,
          0.0031464493,
          0.0031190645,
          0.0030502733
         ]
        },
        {
         "legendgroup": "BAAI_bge-base-en-v1.5",
         "legendgrouptitle": {
          "text": "From: BAAI_bge-base-en-v1.5"
         },
         "line": {
          "width": 1
         },
         "mode": "lines",
         "name": "intfloat_e5-base-v2",
         "opacity": 0.5,
         "showlegend": true,
         "type": "scatter",
         "x": [
          2,
          3,
          4,
          5,
          6,
          7
         ],
         "y": [
          0.0019024151,
          0.0018267973,
          0.0017837555,
          0.0018368224,
          0.0018046853,
          0.001839879
         ]
        },
        {
         "legendgroup": "BAAI_bge-base-en-v1.5",
         "legendgrouptitle": {
          "text": "From: BAAI_bge-base-en-v1.5"
         },
         "line": {
          "width": 1
         },
         "mode": "lines",
         "name": "intfloat_e5-large-v2",
         "opacity": 0.5,
         "showlegend": true,
         "type": "scatter",
         "x": [
          2,
          3,
          4,
          5,
          6,
          7
         ],
         "y": [
          0.0014348929,
          0.0014021788,
          0.0013524116,
          0.0013809406,
          0.0013613185,
          0.001380832
         ]
        },
        {
         "legendgroup": "BAAI_bge-base-en-v1.5",
         "legendgrouptitle": {
          "text": "From: BAAI_bge-base-en-v1.5"
         },
         "line": {
          "width": 1
         },
         "mode": "lines",
         "name": "intfloat_e5-small-v2",
         "opacity": 0.5,
         "showlegend": true,
         "type": "scatter",
         "x": [
          2,
          3,
          4,
          5,
          6,
          7
         ],
         "y": [
          0.0031629938,
          0.003186357,
          0.0030869087,
          0.0030861348,
          0.0031886154,
          0.0031106996
         ]
        },
        {
         "legendgroup": "BAAI_bge-base-en-v1.5",
         "legendgrouptitle": {
          "text": "From: BAAI_bge-base-en-v1.5"
         },
         "line": {
          "width": 1
         },
         "mode": "lines",
         "name": "thenlper_gte-base",
         "opacity": 0.5,
         "showlegend": true,
         "type": "scatter",
         "x": [
          2,
          3,
          4,
          5,
          6,
          7
         ],
         "y": [
          0.0018678525,
          0.0018268517,
          0.0018313042,
          0.0018344265,
          0.0018162479,
          0.0018249531
         ]
        },
        {
         "legendgroup": "BAAI_bge-base-en-v1.5",
         "legendgrouptitle": {
          "text": "From: BAAI_bge-base-en-v1.5"
         },
         "line": {
          "width": 1
         },
         "mode": "lines",
         "name": "thenlper_gte-large",
         "opacity": 0.5,
         "showlegend": true,
         "type": "scatter",
         "x": [
          2,
          3,
          4,
          5,
          6,
          7
         ],
         "y": [
          0.0014133084,
          0.0013880985,
          0.0013761033,
          0.0013807453,
          0.0013799621,
          0.0013460034
         ]
        },
        {
         "legendgroup": "BAAI_bge-base-en-v1.5",
         "legendgrouptitle": {
          "text": "From: BAAI_bge-base-en-v1.5"
         },
         "line": {
          "width": 1
         },
         "mode": "lines",
         "name": "thenlper_gte-small",
         "opacity": 0.5,
         "showlegend": true,
         "type": "scatter",
         "x": [
          2,
          3,
          4,
          5,
          6,
          7
         ],
         "y": [
          0.0032086729,
          0.0031338006,
          0.0030675877,
          0.0031691028,
          0.0031999273,
          0.003091572
         ]
        },
        {
         "legendgroup": "BAAI_bge-base-en-v1.5",
         "legendgrouptitle": {
          "text": "From: BAAI_bge-base-en-v1.5"
         },
         "line": {
          "width": 1
         },
         "mode": "lines",
         "name": "sentence-transformers_gtr-t5-base",
         "opacity": 0.5,
         "showlegend": true,
         "type": "scatter",
         "x": [
          2,
          3,
          4,
          5,
          6,
          7
         ],
         "y": [
          0.0018875516,
          0.0018304276,
          0.0018446259,
          0.001817431,
          0.0017892178,
          0.0018255753
         ]
        },
        {
         "legendgroup": "BAAI_bge-base-en-v1.5",
         "legendgrouptitle": {
          "text": "From: BAAI_bge-base-en-v1.5"
         },
         "line": {
          "width": 1
         },
         "mode": "lines",
         "name": "sentence-transformers_gtr-t5-large",
         "opacity": 0.5,
         "showlegend": true,
         "type": "scatter",
         "x": [
          2,
          3,
          4,
          5,
          6,
          7
         ],
         "y": [
          0.0018617084,
          0.0018284936,
          0.0018521958,
          0.0018562023,
          0.0018358816,
          0.00182839
         ]
        },
        {
         "legendgroup": "BAAI_bge-base-en-v1.5",
         "legendgrouptitle": {
          "text": "From: BAAI_bge-base-en-v1.5"
         },
         "line": {
          "width": 1
         },
         "mode": "lines",
         "name": "mixedbread-ai_mxbai-embed-large-v1",
         "opacity": 0.5,
         "showlegend": true,
         "type": "scatter",
         "x": [
          2,
          3,
          4,
          5,
          6,
          7
         ],
         "y": [
          0.0014419681,
          0.0013849287,
          0.0013700655,
          0.0013794233,
          0.001380094,
          0.0013734499
         ]
        },
        {
         "legendgroup": "BAAI_bge-base-en-v1.5",
         "legendgrouptitle": {
          "text": "From: BAAI_bge-base-en-v1.5"
         },
         "line": {
          "width": 1
         },
         "mode": "lines",
         "name": "sentence-transformers_sentence-t5-base",
         "opacity": 0.5,
         "showlegend": true,
         "type": "scatter",
         "x": [
          2,
          3,
          4,
          5,
          6,
          7
         ],
         "y": [
          0.0018787951,
          0.0018316504,
          0.0018363075,
          0.0018085291,
          0.0018193455,
          0.0018265791
         ]
        },
        {
         "legendgroup": "BAAI_bge-base-en-v1.5",
         "legendgrouptitle": {
          "text": "From: BAAI_bge-base-en-v1.5"
         },
         "line": {
          "width": 1
         },
         "mode": "lines",
         "name": "sentence-transformers_sentence-t5-large",
         "opacity": 0.5,
         "showlegend": true,
         "type": "scatter",
         "x": [
          2,
          3,
          4,
          5,
          6,
          7
         ],
         "y": [
          0.0018811217,
          0.0018492668,
          0.0018371297,
          0.001858444,
          0.0018075113,
          0.0018273392
         ]
        },
        {
         "legendgroup": "BAAI_bge-base-en-v1.5",
         "legendgrouptitle": {
          "text": "From: BAAI_bge-base-en-v1.5"
         },
         "line": {
          "width": 1
         },
         "mode": "lines",
         "name": "openai_text-embedding-3-large",
         "opacity": 0.5,
         "showlegend": true,
         "type": "scatter",
         "x": [
          2,
          3,
          4,
          5,
          6,
          7
         ],
         "y": [
          0.0005696151,
          0.0004761657,
          0.00046091186,
          0.0004569043,
          0.00045508798,
          0.00045514954
         ]
        },
        {
         "legendgroup": "BAAI_bge-base-en-v1.5",
         "legendgrouptitle": {
          "text": "From: BAAI_bge-base-en-v1.5"
         },
         "line": {
          "width": 1
         },
         "mode": "lines",
         "name": "openai_text-embedding-3-small",
         "opacity": 0.5,
         "showlegend": true,
         "type": "scatter",
         "x": [
          2,
          3,
          4,
          5,
          6,
          7
         ],
         "y": [
          0.0010142823,
          0.0009205334,
          0.0009077135,
          0.0009115078,
          0.00090993155,
          0.0009104069
         ]
        },
        {
         "legendgroup": "BAAI_bge-large-en-v1.5",
         "legendgrouptitle": {
          "text": "From: BAAI_bge-large-en-v1.5"
         },
         "line": {
          "width": 1
         },
         "mode": "lines",
         "name": "WhereIsAI_UAE-Large-V1",
         "opacity": 0.5,
         "showlegend": true,
         "type": "scatter",
         "x": [
          2,
          3,
          4,
          5,
          6,
          7
         ],
         "y": [
          0.0014015026,
          0.0013680126,
          0.0013721321,
          0.001353402,
          0.0013679779,
          0.0013678437
         ]
        },
        {
         "legendgroup": "BAAI_bge-large-en-v1.5",
         "legendgrouptitle": {
          "text": "From: BAAI_bge-large-en-v1.5"
         },
         "line": {
          "width": 1
         },
         "mode": "lines",
         "name": "BAAI_bge-base-en-v1.5",
         "opacity": 0.5,
         "showlegend": true,
         "type": "scatter",
         "x": [
          2,
          3,
          4,
          5,
          6,
          7
         ],
         "y": [
          0.0017384788,
          0.0016788886,
          0.0016858814,
          0.0017049817,
          0.0016942605,
          0.001696778
         ]
        },
        {
         "legendgroup": "BAAI_bge-large-en-v1.5",
         "legendgrouptitle": {
          "text": "From: BAAI_bge-large-en-v1.5"
         },
         "line": {
          "width": 1
         },
         "mode": "lines",
         "name": "BAAI_bge-small-en-v1.5",
         "opacity": 0.5,
         "showlegend": true,
         "type": "scatter",
         "x": [
          2,
          3,
          4,
          5,
          6,
          7
         ],
         "y": [
          0.0030559432,
          0.0030482598,
          0.0029899266,
          0.0030043086,
          0.0029964745,
          0.0030022215
         ]
        },
        {
         "legendgroup": "BAAI_bge-large-en-v1.5",
         "legendgrouptitle": {
          "text": "From: BAAI_bge-large-en-v1.5"
         },
         "line": {
          "width": 1
         },
         "mode": "lines",
         "name": "intfloat_e5-base-v2",
         "opacity": 0.5,
         "showlegend": true,
         "type": "scatter",
         "x": [
          2,
          3,
          4,
          5,
          6,
          7
         ],
         "y": [
          0.0017567306,
          0.0016809505,
          0.0017234818,
          0.0016705667,
          0.0016865064,
          0.0016805175
         ]
        },
        {
         "legendgroup": "BAAI_bge-large-en-v1.5",
         "legendgrouptitle": {
          "text": "From: BAAI_bge-large-en-v1.5"
         },
         "line": {
          "width": 1
         },
         "mode": "lines",
         "name": "intfloat_e5-large-v2",
         "opacity": 0.5,
         "showlegend": true,
         "type": "scatter",
         "x": [
          2,
          3,
          4,
          5,
          6,
          7
         ],
         "y": [
          0.0014080942,
          0.0013836598,
          0.0013663084,
          0.0013716965,
          0.0013664874,
          0.0013684846
         ]
        },
        {
         "legendgroup": "BAAI_bge-large-en-v1.5",
         "legendgrouptitle": {
          "text": "From: BAAI_bge-large-en-v1.5"
         },
         "line": {
          "width": 1
         },
         "mode": "lines",
         "name": "intfloat_e5-small-v2",
         "opacity": 0.5,
         "showlegend": true,
         "type": "scatter",
         "x": [
          2,
          3,
          4,
          5,
          6,
          7
         ],
         "y": [
          0.003075003,
          0.0029808793,
          0.0029906027,
          0.0030157093,
          0.0030003767,
          0.0029675758
         ]
        },
        {
         "legendgroup": "BAAI_bge-large-en-v1.5",
         "legendgrouptitle": {
          "text": "From: BAAI_bge-large-en-v1.5"
         },
         "line": {
          "width": 1
         },
         "mode": "lines",
         "name": "thenlper_gte-base",
         "opacity": 0.5,
         "showlegend": true,
         "type": "scatter",
         "x": [
          2,
          3,
          4,
          5,
          6,
          7
         ],
         "y": [
          0.0017241096,
          0.0016955738,
          0.0016959918,
          0.0017180744,
          0.0016633435,
          0.0017162127
         ]
        },
        {
         "legendgroup": "BAAI_bge-large-en-v1.5",
         "legendgrouptitle": {
          "text": "From: BAAI_bge-large-en-v1.5"
         },
         "line": {
          "width": 1
         },
         "mode": "lines",
         "name": "thenlper_gte-large",
         "opacity": 0.5,
         "showlegend": true,
         "type": "scatter",
         "x": [
          2,
          3,
          4,
          5,
          6,
          7
         ],
         "y": [
          0.0013854728,
          0.0013724227,
          0.0013761359,
          0.0013622778,
          0.0013993606,
          0.0013653086
         ]
        },
        {
         "legendgroup": "BAAI_bge-large-en-v1.5",
         "legendgrouptitle": {
          "text": "From: BAAI_bge-large-en-v1.5"
         },
         "line": {
          "width": 1
         },
         "mode": "lines",
         "name": "thenlper_gte-small",
         "opacity": 0.5,
         "showlegend": true,
         "type": "scatter",
         "x": [
          2,
          3,
          4,
          5,
          6,
          7
         ],
         "y": [
          0.0030078685,
          0.0030234875,
          0.002982245,
          0.0030803673,
          0.0030156,
          0.0029630754
         ]
        },
        {
         "legendgroup": "BAAI_bge-large-en-v1.5",
         "legendgrouptitle": {
          "text": "From: BAAI_bge-large-en-v1.5"
         },
         "line": {
          "width": 1
         },
         "mode": "lines",
         "name": "sentence-transformers_gtr-t5-base",
         "opacity": 0.5,
         "showlegend": true,
         "type": "scatter",
         "x": [
          2,
          3,
          4,
          5,
          6,
          7
         ],
         "y": [
          0.0017297579,
          0.0016770022,
          0.0016728211,
          0.001701783,
          0.0016959984,
          0.0016740514
         ]
        },
        {
         "legendgroup": "BAAI_bge-large-en-v1.5",
         "legendgrouptitle": {
          "text": "From: BAAI_bge-large-en-v1.5"
         },
         "line": {
          "width": 1
         },
         "mode": "lines",
         "name": "sentence-transformers_gtr-t5-large",
         "opacity": 0.5,
         "showlegend": true,
         "type": "scatter",
         "x": [
          2,
          3,
          4,
          5,
          6,
          7
         ],
         "y": [
          0.0017872,
          0.0016755237,
          0.0016746637,
          0.0016746445,
          0.0017187522,
          0.0017059101
         ]
        },
        {
         "legendgroup": "BAAI_bge-large-en-v1.5",
         "legendgrouptitle": {
          "text": "From: BAAI_bge-large-en-v1.5"
         },
         "line": {
          "width": 1
         },
         "mode": "lines",
         "name": "mixedbread-ai_mxbai-embed-large-v1",
         "opacity": 0.5,
         "showlegend": true,
         "type": "scatter",
         "x": [
          2,
          3,
          4,
          5,
          6,
          7
         ],
         "y": [
          0.0014285217,
          0.0013650116,
          0.0013687751,
          0.0013643145,
          0.001376443,
          0.0013705231
         ]
        },
        {
         "legendgroup": "BAAI_bge-large-en-v1.5",
         "legendgrouptitle": {
          "text": "From: BAAI_bge-large-en-v1.5"
         },
         "line": {
          "width": 1
         },
         "mode": "lines",
         "name": "sentence-transformers_sentence-t5-base",
         "opacity": 0.5,
         "showlegend": true,
         "type": "scatter",
         "x": [
          2,
          3,
          4,
          5,
          6,
          7
         ],
         "y": [
          0.0017598444,
          0.0016665631,
          0.001709117,
          0.0016923068,
          0.0016685737,
          0.001710686
         ]
        },
        {
         "legendgroup": "BAAI_bge-large-en-v1.5",
         "legendgrouptitle": {
          "text": "From: BAAI_bge-large-en-v1.5"
         },
         "line": {
          "width": 1
         },
         "mode": "lines",
         "name": "sentence-transformers_sentence-t5-large",
         "opacity": 0.5,
         "showlegend": true,
         "type": "scatter",
         "x": [
          2,
          3,
          4,
          5,
          6,
          7
         ],
         "y": [
          0.0017077752,
          0.0017117533,
          0.001695682,
          0.0016885061,
          0.001669241,
          0.001701903
         ]
        },
        {
         "legendgroup": "BAAI_bge-large-en-v1.5",
         "legendgrouptitle": {
          "text": "From: BAAI_bge-large-en-v1.5"
         },
         "line": {
          "width": 1
         },
         "mode": "lines",
         "name": "openai_text-embedding-3-large",
         "opacity": 0.5,
         "showlegend": true,
         "type": "scatter",
         "x": [
          2,
          3,
          4,
          5,
          6,
          7
         ],
         "y": [
          0.0005426473,
          0.00046776028,
          0.00045795427,
          0.0004587035,
          0.00045523266,
          0.00045468184
         ]
        },
        {
         "legendgroup": "BAAI_bge-large-en-v1.5",
         "legendgrouptitle": {
          "text": "From: BAAI_bge-large-en-v1.5"
         },
         "line": {
          "width": 1
         },
         "mode": "lines",
         "name": "openai_text-embedding-3-small",
         "opacity": 0.5,
         "showlegend": true,
         "type": "scatter",
         "x": [
          2,
          3,
          4,
          5,
          6,
          7
         ],
         "y": [
          0.0009844495,
          0.00092866644,
          0.00091776735,
          0.00091205764,
          0.00091701123,
          0.0009065251
         ]
        },
        {
         "legendgroup": "BAAI_bge-small-en-v1.5",
         "legendgrouptitle": {
          "text": "From: BAAI_bge-small-en-v1.5"
         },
         "line": {
          "width": 1
         },
         "mode": "lines",
         "name": "WhereIsAI_UAE-Large-V1",
         "opacity": 0.5,
         "showlegend": true,
         "type": "scatter",
         "x": [
          2,
          3,
          4,
          5,
          6,
          7
         ],
         "y": [
          0.0016079574,
          0.0013946363,
          0.0013881051,
          0.0013910523,
          0.0013638543,
          0.0013745348
         ]
        },
        {
         "legendgroup": "BAAI_bge-small-en-v1.5",
         "legendgrouptitle": {
          "text": "From: BAAI_bge-small-en-v1.5"
         },
         "line": {
          "width": 1
         },
         "mode": "lines",
         "name": "BAAI_bge-base-en-v1.5",
         "opacity": 0.5,
         "showlegend": true,
         "type": "scatter",
         "x": [
          2,
          3,
          4,
          5,
          6,
          7
         ],
         "y": [
          0.0020477332,
          0.00184519,
          0.0018044278,
          0.0018174363,
          0.0018228245,
          0.0018452303
         ]
        },
        {
         "legendgroup": "BAAI_bge-small-en-v1.5",
         "legendgrouptitle": {
          "text": "From: BAAI_bge-small-en-v1.5"
         },
         "line": {
          "width": 1
         },
         "mode": "lines",
         "name": "BAAI_bge-large-en-v1.5",
         "opacity": 0.5,
         "showlegend": true,
         "type": "scatter",
         "x": [
          2,
          3,
          4,
          5,
          6,
          7
         ],
         "y": [
          0.0015881812,
          0.001398677,
          0.0013768127,
          0.0013624076,
          0.0013696452,
          0.0014009605
         ]
        },
        {
         "legendgroup": "BAAI_bge-small-en-v1.5",
         "legendgrouptitle": {
          "text": "From: BAAI_bge-small-en-v1.5"
         },
         "line": {
          "width": 1
         },
         "mode": "lines",
         "name": "intfloat_e5-base-v2",
         "opacity": 0.5,
         "showlegend": true,
         "type": "scatter",
         "x": [
          2,
          3,
          4,
          5,
          6,
          7
         ],
         "y": [
          0.0019868421,
          0.001823834,
          0.0018039825,
          0.0018341775,
          0.0018312862,
          0.0018322835
         ]
        },
        {
         "legendgroup": "BAAI_bge-small-en-v1.5",
         "legendgrouptitle": {
          "text": "From: BAAI_bge-small-en-v1.5"
         },
         "line": {
          "width": 1
         },
         "mode": "lines",
         "name": "intfloat_e5-large-v2",
         "opacity": 0.5,
         "showlegend": true,
         "type": "scatter",
         "x": [
          2,
          3,
          4,
          5,
          6,
          7
         ],
         "y": [
          0.0015843689,
          0.0013978054,
          0.0013907655,
          0.0013635405,
          0.0013767794,
          0.0013694846
         ]
        },
        {
         "legendgroup": "BAAI_bge-small-en-v1.5",
         "legendgrouptitle": {
          "text": "From: BAAI_bge-small-en-v1.5"
         },
         "line": {
          "width": 1
         },
         "mode": "lines",
         "name": "intfloat_e5-small-v2",
         "opacity": 0.5,
         "showlegend": true,
         "type": "scatter",
         "x": [
          2,
          3,
          4,
          5,
          6,
          7
         ],
         "y": [
          0.0037980948,
          0.003700081,
          0.0036895226,
          0.0036754922,
          0.0037289655,
          0.00365402
         ]
        },
        {
         "legendgroup": "BAAI_bge-small-en-v1.5",
         "legendgrouptitle": {
          "text": "From: BAAI_bge-small-en-v1.5"
         },
         "line": {
          "width": 1
         },
         "mode": "lines",
         "name": "thenlper_gte-base",
         "opacity": 0.5,
         "showlegend": true,
         "type": "scatter",
         "x": [
          2,
          3,
          4,
          5,
          6,
          7
         ],
         "y": [
          0.0020550305,
          0.0018360149,
          0.0018466288,
          0.0018063096,
          0.0018708449,
          0.00182316
         ]
        },
        {
         "legendgroup": "BAAI_bge-small-en-v1.5",
         "legendgrouptitle": {
          "text": "From: BAAI_bge-small-en-v1.5"
         },
         "line": {
          "width": 1
         },
         "mode": "lines",
         "name": "thenlper_gte-large",
         "opacity": 0.5,
         "showlegend": true,
         "type": "scatter",
         "x": [
          2,
          3,
          4,
          5,
          6,
          7
         ],
         "y": [
          0.0015790188,
          0.0014025307,
          0.0013728471,
          0.001356424,
          0.001394575,
          0.0013704695
         ]
        },
        {
         "legendgroup": "BAAI_bge-small-en-v1.5",
         "legendgrouptitle": {
          "text": "From: BAAI_bge-small-en-v1.5"
         },
         "line": {
          "width": 1
         },
         "mode": "lines",
         "name": "thenlper_gte-small",
         "opacity": 0.5,
         "showlegend": true,
         "type": "scatter",
         "x": [
          2,
          3,
          4,
          5,
          6,
          7
         ],
         "y": [
          0.0037965775,
          0.0036147486,
          0.003636977,
          0.0036872877,
          0.0037050936,
          0.0036977956
         ]
        },
        {
         "legendgroup": "BAAI_bge-small-en-v1.5",
         "legendgrouptitle": {
          "text": "From: BAAI_bge-small-en-v1.5"
         },
         "line": {
          "width": 1
         },
         "mode": "lines",
         "name": "sentence-transformers_gtr-t5-base",
         "opacity": 0.5,
         "showlegend": true,
         "type": "scatter",
         "x": [
          2,
          3,
          4,
          5,
          6,
          7
         ],
         "y": [
          0.002039774,
          0.0018341119,
          0.0018335345,
          0.0017894971,
          0.0018450579,
          0.0018454442
         ]
        },
        {
         "legendgroup": "BAAI_bge-small-en-v1.5",
         "legendgrouptitle": {
          "text": "From: BAAI_bge-small-en-v1.5"
         },
         "line": {
          "width": 1
         },
         "mode": "lines",
         "name": "sentence-transformers_gtr-t5-large",
         "opacity": 0.5,
         "showlegend": true,
         "type": "scatter",
         "x": [
          2,
          3,
          4,
          5,
          6,
          7
         ],
         "y": [
          0.002058699,
          0.0018572626,
          0.0018281803,
          0.0018241996,
          0.001818986,
          0.0018273162
         ]
        },
        {
         "legendgroup": "BAAI_bge-small-en-v1.5",
         "legendgrouptitle": {
          "text": "From: BAAI_bge-small-en-v1.5"
         },
         "line": {
          "width": 1
         },
         "mode": "lines",
         "name": "mixedbread-ai_mxbai-embed-large-v1",
         "opacity": 0.5,
         "showlegend": true,
         "type": "scatter",
         "x": [
          2,
          3,
          4,
          5,
          6,
          7
         ],
         "y": [
          0.001588303,
          0.001422734,
          0.0013929815,
          0.0013809805,
          0.0013650964,
          0.0013776113
         ]
        },
        {
         "legendgroup": "BAAI_bge-small-en-v1.5",
         "legendgrouptitle": {
          "text": "From: BAAI_bge-small-en-v1.5"
         },
         "line": {
          "width": 1
         },
         "mode": "lines",
         "name": "sentence-transformers_sentence-t5-base",
         "opacity": 0.5,
         "showlegend": true,
         "type": "scatter",
         "x": [
          2,
          3,
          4,
          5,
          6,
          7
         ],
         "y": [
          0.002020404,
          0.0018466101,
          0.0018351631,
          0.0018139356,
          0.0018703892,
          0.0018286766
         ]
        },
        {
         "legendgroup": "BAAI_bge-small-en-v1.5",
         "legendgrouptitle": {
          "text": "From: BAAI_bge-small-en-v1.5"
         },
         "line": {
          "width": 1
         },
         "mode": "lines",
         "name": "sentence-transformers_sentence-t5-large",
         "opacity": 0.5,
         "showlegend": true,
         "type": "scatter",
         "x": [
          2,
          3,
          4,
          5,
          6,
          7
         ],
         "y": [
          0.0020266764,
          0.0018620761,
          0.0018159724,
          0.001809684,
          0.0018214163,
          0.0018258892
         ]
        },
        {
         "legendgroup": "BAAI_bge-small-en-v1.5",
         "legendgrouptitle": {
          "text": "From: BAAI_bge-small-en-v1.5"
         },
         "line": {
          "width": 1
         },
         "mode": "lines",
         "name": "openai_text-embedding-3-large",
         "opacity": 0.5,
         "showlegend": true,
         "type": "scatter",
         "x": [
          2,
          3,
          4,
          5,
          6,
          7
         ],
         "y": [
          0.00072473544,
          0.00050095835,
          0.00046411916,
          0.00045729164,
          0.00045407048,
          0.00045511566
         ]
        },
        {
         "legendgroup": "BAAI_bge-small-en-v1.5",
         "legendgrouptitle": {
          "text": "From: BAAI_bge-small-en-v1.5"
         },
         "line": {
          "width": 1
         },
         "mode": "lines",
         "name": "openai_text-embedding-3-small",
         "opacity": 0.5,
         "showlegend": true,
         "type": "scatter",
         "x": [
          2,
          3,
          4,
          5,
          6,
          7
         ],
         "y": [
          0.001140634,
          0.00094788644,
          0.0009245013,
          0.0009128053,
          0.0009096819,
          0.00090760534
         ]
        },
        {
         "legendgroup": "intfloat_e5-base-v2",
         "legendgrouptitle": {
          "text": "From: intfloat_e5-base-v2"
         },
         "line": {
          "width": 1
         },
         "mode": "lines",
         "name": "WhereIsAI_UAE-Large-V1",
         "opacity": 0.5,
         "showlegend": true,
         "type": "scatter",
         "x": [
          2,
          3,
          4,
          5,
          6,
          7
         ],
         "y": [
          0.0014396595,
          0.0013729158,
          0.0013724841,
          0.0013694376,
          0.0013647646,
          0.0013740319
         ]
        },
        {
         "legendgroup": "intfloat_e5-base-v2",
         "legendgrouptitle": {
          "text": "From: intfloat_e5-base-v2"
         },
         "line": {
          "width": 1
         },
         "mode": "lines",
         "name": "BAAI_bge-base-en-v1.5",
         "opacity": 0.5,
         "showlegend": true,
         "type": "scatter",
         "x": [
          2,
          3,
          4,
          5,
          6,
          7
         ],
         "y": [
          0.0018718109,
          0.0018504927,
          0.0017967966,
          0.0017920347,
          0.0018103848,
          0.0018265704
         ]
        },
        {
         "legendgroup": "intfloat_e5-base-v2",
         "legendgrouptitle": {
          "text": "From: intfloat_e5-base-v2"
         },
         "line": {
          "width": 1
         },
         "mode": "lines",
         "name": "BAAI_bge-large-en-v1.5",
         "opacity": 0.5,
         "showlegend": true,
         "type": "scatter",
         "x": [
          2,
          3,
          4,
          5,
          6,
          7
         ],
         "y": [
          0.0014568983,
          0.0013690259,
          0.0013586609,
          0.0013812733,
          0.0013680727,
          0.0013767631
         ]
        },
        {
         "legendgroup": "intfloat_e5-base-v2",
         "legendgrouptitle": {
          "text": "From: intfloat_e5-base-v2"
         },
         "line": {
          "width": 1
         },
         "mode": "lines",
         "name": "BAAI_bge-small-en-v1.5",
         "opacity": 0.5,
         "showlegend": true,
         "type": "scatter",
         "x": [
          2,
          3,
          4,
          5,
          6,
          7
         ],
         "y": [
          0.0032120105,
          0.0031204268,
          0.0031451797,
          0.0031793946,
          0.0031164624,
          0.0031190673
         ]
        },
        {
         "legendgroup": "intfloat_e5-base-v2",
         "legendgrouptitle": {
          "text": "From: intfloat_e5-base-v2"
         },
         "line": {
          "width": 1
         },
         "mode": "lines",
         "name": "intfloat_e5-large-v2",
         "opacity": 0.5,
         "showlegend": true,
         "type": "scatter",
         "x": [
          2,
          3,
          4,
          5,
          6,
          7
         ],
         "y": [
          0.0014542965,
          0.0013703086,
          0.0013716351,
          0.001349788,
          0.0013414432,
          0.0013748673
         ]
        },
        {
         "legendgroup": "intfloat_e5-base-v2",
         "legendgrouptitle": {
          "text": "From: intfloat_e5-base-v2"
         },
         "line": {
          "width": 1
         },
         "mode": "lines",
         "name": "intfloat_e5-small-v2",
         "opacity": 0.5,
         "showlegend": true,
         "type": "scatter",
         "x": [
          2,
          3,
          4,
          5,
          6,
          7
         ],
         "y": [
          0.0032159376,
          0.003083998,
          0.0030932277,
          0.003153653,
          0.003120952,
          0.0032073546
         ]
        },
        {
         "legendgroup": "intfloat_e5-base-v2",
         "legendgrouptitle": {
          "text": "From: intfloat_e5-base-v2"
         },
         "line": {
          "width": 1
         },
         "mode": "lines",
         "name": "thenlper_gte-base",
         "opacity": 0.5,
         "showlegend": true,
         "type": "scatter",
         "x": [
          2,
          3,
          4,
          5,
          6,
          7
         ],
         "y": [
          0.0018974318,
          0.0018588508,
          0.0018225824,
          0.0017957314,
          0.0018105797,
          0.0018303717
         ]
        },
        {
         "legendgroup": "intfloat_e5-base-v2",
         "legendgrouptitle": {
          "text": "From: intfloat_e5-base-v2"
         },
         "line": {
          "width": 1
         },
         "mode": "lines",
         "name": "thenlper_gte-large",
         "opacity": 0.5,
         "showlegend": true,
         "type": "scatter",
         "x": [
          2,
          3,
          4,
          5,
          6,
          7
         ],
         "y": [
          0.0014618401,
          0.0014008231,
          0.0013890188,
          0.0013343459,
          0.0013474185,
          0.0013858863
         ]
        },
        {
         "legendgroup": "intfloat_e5-base-v2",
         "legendgrouptitle": {
          "text": "From: intfloat_e5-base-v2"
         },
         "line": {
          "width": 1
         },
         "mode": "lines",
         "name": "thenlper_gte-small",
         "opacity": 0.5,
         "showlegend": true,
         "type": "scatter",
         "x": [
          2,
          3,
          4,
          5,
          6,
          7
         ],
         "y": [
          0.0032154424,
          0.0031625384,
          0.0031484824,
          0.003146591,
          0.0031232152,
          0.0031261873
         ]
        },
        {
         "legendgroup": "intfloat_e5-base-v2",
         "legendgrouptitle": {
          "text": "From: intfloat_e5-base-v2"
         },
         "line": {
          "width": 1
         },
         "mode": "lines",
         "name": "sentence-transformers_gtr-t5-base",
         "opacity": 0.5,
         "showlegend": true,
         "type": "scatter",
         "x": [
          2,
          3,
          4,
          5,
          6,
          7
         ],
         "y": [
          0.0018669827,
          0.0018652156,
          0.0018563112,
          0.0017985171,
          0.0018505858,
          0.0018221225
         ]
        },
        {
         "legendgroup": "intfloat_e5-base-v2",
         "legendgrouptitle": {
          "text": "From: intfloat_e5-base-v2"
         },
         "line": {
          "width": 1
         },
         "mode": "lines",
         "name": "sentence-transformers_gtr-t5-large",
         "opacity": 0.5,
         "showlegend": true,
         "type": "scatter",
         "x": [
          2,
          3,
          4,
          5,
          6,
          7
         ],
         "y": [
          0.0018684309,
          0.0018323017,
          0.0018302952,
          0.0018514158,
          0.0018528206,
          0.0018389686
         ]
        },
        {
         "legendgroup": "intfloat_e5-base-v2",
         "legendgrouptitle": {
          "text": "From: intfloat_e5-base-v2"
         },
         "line": {
          "width": 1
         },
         "mode": "lines",
         "name": "mixedbread-ai_mxbai-embed-large-v1",
         "opacity": 0.5,
         "showlegend": true,
         "type": "scatter",
         "x": [
          2,
          3,
          4,
          5,
          6,
          7
         ],
         "y": [
          0.0014745469,
          0.0013858405,
          0.0013715186,
          0.0013561515,
          0.0013458562,
          0.0013496896
         ]
        },
        {
         "legendgroup": "intfloat_e5-base-v2",
         "legendgrouptitle": {
          "text": "From: intfloat_e5-base-v2"
         },
         "line": {
          "width": 1
         },
         "mode": "lines",
         "name": "sentence-transformers_sentence-t5-base",
         "opacity": 0.5,
         "showlegend": true,
         "type": "scatter",
         "x": [
          2,
          3,
          4,
          5,
          6,
          7
         ],
         "y": [
          0.0018599373,
          0.0018182652,
          0.0018328935,
          0.001839235,
          0.0018226161,
          0.0017912163
         ]
        },
        {
         "legendgroup": "intfloat_e5-base-v2",
         "legendgrouptitle": {
          "text": "From: intfloat_e5-base-v2"
         },
         "line": {
          "width": 1
         },
         "mode": "lines",
         "name": "sentence-transformers_sentence-t5-large",
         "opacity": 0.5,
         "showlegend": true,
         "type": "scatter",
         "x": [
          2,
          3,
          4,
          5,
          6,
          7
         ],
         "y": [
          0.0018800832,
          0.0018562697,
          0.0018126821,
          0.0018241899,
          0.0018388433,
          0.0018078219
         ]
        },
        {
         "legendgroup": "intfloat_e5-base-v2",
         "legendgrouptitle": {
          "text": "From: intfloat_e5-base-v2"
         },
         "line": {
          "width": 1
         },
         "mode": "lines",
         "name": "openai_text-embedding-3-large",
         "opacity": 0.5,
         "showlegend": true,
         "type": "scatter",
         "x": [
          2,
          3,
          4,
          5,
          6,
          7
         ],
         "y": [
          0.0005760954,
          0.00047832623,
          0.0004591958,
          0.00045497212,
          0.0004564675,
          0.000457574
         ]
        },
        {
         "legendgroup": "intfloat_e5-base-v2",
         "legendgrouptitle": {
          "text": "From: intfloat_e5-base-v2"
         },
         "line": {
          "width": 1
         },
         "mode": "lines",
         "name": "openai_text-embedding-3-small",
         "opacity": 0.5,
         "showlegend": true,
         "type": "scatter",
         "x": [
          2,
          3,
          4,
          5,
          6,
          7
         ],
         "y": [
          0.0010028223,
          0.00093057216,
          0.0009260844,
          0.0009211334,
          0.00091727654,
          0.0009179592
         ]
        },
        {
         "legendgroup": "intfloat_e5-large-v2",
         "legendgrouptitle": {
          "text": "From: intfloat_e5-large-v2"
         },
         "line": {
          "width": 1
         },
         "mode": "lines",
         "name": "WhereIsAI_UAE-Large-V1",
         "opacity": 0.5,
         "showlegend": true,
         "type": "scatter",
         "x": [
          2,
          3,
          4,
          5,
          6,
          7
         ],
         "y": [
          0.0014145672,
          0.0014042949,
          0.0013748839,
          0.0013626958,
          0.0013549164,
          0.0013396366
         ]
        },
        {
         "legendgroup": "intfloat_e5-large-v2",
         "legendgrouptitle": {
          "text": "From: intfloat_e5-large-v2"
         },
         "line": {
          "width": 1
         },
         "mode": "lines",
         "name": "BAAI_bge-base-en-v1.5",
         "opacity": 0.5,
         "showlegend": true,
         "type": "scatter",
         "x": [
          2,
          3,
          4,
          5,
          6,
          7
         ],
         "y": [
          0.0017309018,
          0.0017187303,
          0.0017033117,
          0.0016702255,
          0.0016944059,
          0.0016932428
         ]
        },
        {
         "legendgroup": "intfloat_e5-large-v2",
         "legendgrouptitle": {
          "text": "From: intfloat_e5-large-v2"
         },
         "line": {
          "width": 1
         },
         "mode": "lines",
         "name": "BAAI_bge-large-en-v1.5",
         "opacity": 0.5,
         "showlegend": true,
         "type": "scatter",
         "x": [
          2,
          3,
          4,
          5,
          6,
          7
         ],
         "y": [
          0.0014202989,
          0.0013804667,
          0.0013655914,
          0.0013860515,
          0.001388278,
          0.0013621836
         ]
        },
        {
         "legendgroup": "intfloat_e5-large-v2",
         "legendgrouptitle": {
          "text": "From: intfloat_e5-large-v2"
         },
         "line": {
          "width": 1
         },
         "mode": "lines",
         "name": "BAAI_bge-small-en-v1.5",
         "opacity": 0.5,
         "showlegend": true,
         "type": "scatter",
         "x": [
          2,
          3,
          4,
          5,
          6,
          7
         ],
         "y": [
          0.003098635,
          0.0029593555,
          0.0029769826,
          0.003038543,
          0.0029709823,
          0.0029987015
         ]
        },
        {
         "legendgroup": "intfloat_e5-large-v2",
         "legendgrouptitle": {
          "text": "From: intfloat_e5-large-v2"
         },
         "line": {
          "width": 1
         },
         "mode": "lines",
         "name": "intfloat_e5-base-v2",
         "opacity": 0.5,
         "showlegend": true,
         "type": "scatter",
         "x": [
          2,
          3,
          4,
          5,
          6,
          7
         ],
         "y": [
          0.0017172327,
          0.0017105342,
          0.0017097999,
          0.0017046399,
          0.001702509,
          0.0016821636
         ]
        },
        {
         "legendgroup": "intfloat_e5-large-v2",
         "legendgrouptitle": {
          "text": "From: intfloat_e5-large-v2"
         },
         "line": {
          "width": 1
         },
         "mode": "lines",
         "name": "intfloat_e5-small-v2",
         "opacity": 0.5,
         "showlegend": true,
         "type": "scatter",
         "x": [
          2,
          3,
          4,
          5,
          6,
          7
         ],
         "y": [
          0.002962798,
          0.0030239096,
          0.0030164302,
          0.002925802,
          0.0030493645,
          0.0029663907
         ]
        },
        {
         "legendgroup": "intfloat_e5-large-v2",
         "legendgrouptitle": {
          "text": "From: intfloat_e5-large-v2"
         },
         "line": {
          "width": 1
         },
         "mode": "lines",
         "name": "thenlper_gte-base",
         "opacity": 0.5,
         "showlegend": true,
         "type": "scatter",
         "x": [
          2,
          3,
          4,
          5,
          6,
          7
         ],
         "y": [
          0.00176414,
          0.0017006233,
          0.001710486,
          0.0016991007,
          0.0016703509,
          0.0016805235
         ]
        },
        {
         "legendgroup": "intfloat_e5-large-v2",
         "legendgrouptitle": {
          "text": "From: intfloat_e5-large-v2"
         },
         "line": {
          "width": 1
         },
         "mode": "lines",
         "name": "thenlper_gte-large",
         "opacity": 0.5,
         "showlegend": true,
         "type": "scatter",
         "x": [
          2,
          3,
          4,
          5,
          6,
          7
         ],
         "y": [
          0.0014168058,
          0.0013925458,
          0.0013700115,
          0.0013652154,
          0.0013413862,
          0.0013687754
         ]
        },
        {
         "legendgroup": "intfloat_e5-large-v2",
         "legendgrouptitle": {
          "text": "From: intfloat_e5-large-v2"
         },
         "line": {
          "width": 1
         },
         "mode": "lines",
         "name": "thenlper_gte-small",
         "opacity": 0.5,
         "showlegend": true,
         "type": "scatter",
         "x": [
          2,
          3,
          4,
          5,
          6,
          7
         ],
         "y": [
          0.0030021553,
          0.003036441,
          0.0029969371,
          0.0029359914,
          0.0029762427,
          0.0029837713
         ]
        },
        {
         "legendgroup": "intfloat_e5-large-v2",
         "legendgrouptitle": {
          "text": "From: intfloat_e5-large-v2"
         },
         "line": {
          "width": 1
         },
         "mode": "lines",
         "name": "sentence-transformers_gtr-t5-base",
         "opacity": 0.5,
         "showlegend": true,
         "type": "scatter",
         "x": [
          2,
          3,
          4,
          5,
          6,
          7
         ],
         "y": [
          0.0017187361,
          0.0016885,
          0.0016937313,
          0.0016840519,
          0.001712097,
          0.0016868847
         ]
        },
        {
         "legendgroup": "intfloat_e5-large-v2",
         "legendgrouptitle": {
          "text": "From: intfloat_e5-large-v2"
         },
         "line": {
          "width": 1
         },
         "mode": "lines",
         "name": "sentence-transformers_gtr-t5-large",
         "opacity": 0.5,
         "showlegend": true,
         "type": "scatter",
         "x": [
          2,
          3,
          4,
          5,
          6,
          7
         ],
         "y": [
          0.0017401716,
          0.0017011096,
          0.0017144602,
          0.0016914319,
          0.001692339,
          0.0017143354
         ]
        },
        {
         "legendgroup": "intfloat_e5-large-v2",
         "legendgrouptitle": {
          "text": "From: intfloat_e5-large-v2"
         },
         "line": {
          "width": 1
         },
         "mode": "lines",
         "name": "mixedbread-ai_mxbai-embed-large-v1",
         "opacity": 0.5,
         "showlegend": true,
         "type": "scatter",
         "x": [
          2,
          3,
          4,
          5,
          6,
          7
         ],
         "y": [
          0.0014247919,
          0.0013753244,
          0.0013744081,
          0.0013794311,
          0.0013662024,
          0.001376063
         ]
        },
        {
         "legendgroup": "intfloat_e5-large-v2",
         "legendgrouptitle": {
          "text": "From: intfloat_e5-large-v2"
         },
         "line": {
          "width": 1
         },
         "mode": "lines",
         "name": "sentence-transformers_sentence-t5-base",
         "opacity": 0.5,
         "showlegend": true,
         "type": "scatter",
         "x": [
          2,
          3,
          4,
          5,
          6,
          7
         ],
         "y": [
          0.0017342148,
          0.0016804299,
          0.0017131394,
          0.0017026057,
          0.0017086841,
          0.0016646868
         ]
        },
        {
         "legendgroup": "intfloat_e5-large-v2",
         "legendgrouptitle": {
          "text": "From: intfloat_e5-large-v2"
         },
         "line": {
          "width": 1
         },
         "mode": "lines",
         "name": "sentence-transformers_sentence-t5-large",
         "opacity": 0.5,
         "showlegend": true,
         "type": "scatter",
         "x": [
          2,
          3,
          4,
          5,
          6,
          7
         ],
         "y": [
          0.0017134636,
          0.0017188847,
          0.0016771926,
          0.0017178488,
          0.0017215582,
          0.0017199968
         ]
        },
        {
         "legendgroup": "intfloat_e5-large-v2",
         "legendgrouptitle": {
          "text": "From: intfloat_e5-large-v2"
         },
         "line": {
          "width": 1
         },
         "mode": "lines",
         "name": "openai_text-embedding-3-large",
         "opacity": 0.5,
         "showlegend": true,
         "type": "scatter",
         "x": [
          2,
          3,
          4,
          5,
          6,
          7
         ],
         "y": [
          0.0005414307,
          0.00047132722,
          0.00045985132,
          0.00045640036,
          0.00045767982,
          0.00045726317
         ]
        },
        {
         "legendgroup": "intfloat_e5-large-v2",
         "legendgrouptitle": {
          "text": "From: intfloat_e5-large-v2"
         },
         "line": {
          "width": 1
         },
         "mode": "lines",
         "name": "openai_text-embedding-3-small",
         "opacity": 0.5,
         "showlegend": true,
         "type": "scatter",
         "x": [
          2,
          3,
          4,
          5,
          6,
          7
         ],
         "y": [
          0.0009841317,
          0.0009216,
          0.0009096715,
          0.0009062413,
          0.0009184195,
          0.00090883725
         ]
        },
        {
         "legendgroup": "intfloat_e5-small-v2",
         "legendgrouptitle": {
          "text": "From: intfloat_e5-small-v2"
         },
         "line": {
          "width": 1
         },
         "mode": "lines",
         "name": "WhereIsAI_UAE-Large-V1",
         "opacity": 0.5,
         "showlegend": true,
         "type": "scatter",
         "x": [
          2,
          3,
          4,
          5,
          6,
          7
         ],
         "y": [
          0.0015898607,
          0.0013908538,
          0.0013662903,
          0.0013621906,
          0.0013872766,
          0.0013469182
         ]
        },
        {
         "legendgroup": "intfloat_e5-small-v2",
         "legendgrouptitle": {
          "text": "From: intfloat_e5-small-v2"
         },
         "line": {
          "width": 1
         },
         "mode": "lines",
         "name": "BAAI_bge-base-en-v1.5",
         "opacity": 0.5,
         "showlegend": true,
         "type": "scatter",
         "x": [
          2,
          3,
          4,
          5,
          6,
          7
         ],
         "y": [
          0.0020627994,
          0.0018715713,
          0.0018555666,
          0.001796516,
          0.0018049377,
          0.0018025573
         ]
        },
        {
         "legendgroup": "intfloat_e5-small-v2",
         "legendgrouptitle": {
          "text": "From: intfloat_e5-small-v2"
         },
         "line": {
          "width": 1
         },
         "mode": "lines",
         "name": "BAAI_bge-large-en-v1.5",
         "opacity": 0.5,
         "showlegend": true,
         "type": "scatter",
         "x": [
          2,
          3,
          4,
          5,
          6,
          7
         ],
         "y": [
          0.0015970714,
          0.001418986,
          0.0013647177,
          0.001384053,
          0.001369255,
          0.001383098
         ]
        },
        {
         "legendgroup": "intfloat_e5-small-v2",
         "legendgrouptitle": {
          "text": "From: intfloat_e5-small-v2"
         },
         "line": {
          "width": 1
         },
         "mode": "lines",
         "name": "BAAI_bge-small-en-v1.5",
         "opacity": 0.5,
         "showlegend": true,
         "type": "scatter",
         "x": [
          2,
          3,
          4,
          5,
          6,
          7
         ],
         "y": [
          0.0037664678,
          0.0036897417,
          0.0037012836,
          0.0036813037,
          0.003634683,
          0.00365196
         ]
        },
        {
         "legendgroup": "intfloat_e5-small-v2",
         "legendgrouptitle": {
          "text": "From: intfloat_e5-small-v2"
         },
         "line": {
          "width": 1
         },
         "mode": "lines",
         "name": "intfloat_e5-base-v2",
         "opacity": 0.5,
         "showlegend": true,
         "type": "scatter",
         "x": [
          2,
          3,
          4,
          5,
          6,
          7
         ],
         "y": [
          0.002047627,
          0.0018850788,
          0.0018436847,
          0.0018113212,
          0.0018109387,
          0.001820684
         ]
        },
        {
         "legendgroup": "intfloat_e5-small-v2",
         "legendgrouptitle": {
          "text": "From: intfloat_e5-small-v2"
         },
         "line": {
          "width": 1
         },
         "mode": "lines",
         "name": "intfloat_e5-large-v2",
         "opacity": 0.5,
         "showlegend": true,
         "type": "scatter",
         "x": [
          2,
          3,
          4,
          5,
          6,
          7
         ],
         "y": [
          0.0015778987,
          0.0013893702,
          0.0013521999,
          0.001362125,
          0.0013772364,
          0.0013456623
         ]
        },
        {
         "legendgroup": "intfloat_e5-small-v2",
         "legendgrouptitle": {
          "text": "From: intfloat_e5-small-v2"
         },
         "line": {
          "width": 1
         },
         "mode": "lines",
         "name": "thenlper_gte-base",
         "opacity": 0.5,
         "showlegend": true,
         "type": "scatter",
         "x": [
          2,
          3,
          4,
          5,
          6,
          7
         ],
         "y": [
          0.0020451413,
          0.0018679881,
          0.0018321002,
          0.001833507,
          0.0018092785,
          0.0018438067
         ]
        },
        {
         "legendgroup": "intfloat_e5-small-v2",
         "legendgrouptitle": {
          "text": "From: intfloat_e5-small-v2"
         },
         "line": {
          "width": 1
         },
         "mode": "lines",
         "name": "thenlper_gte-large",
         "opacity": 0.5,
         "showlegend": true,
         "type": "scatter",
         "x": [
          2,
          3,
          4,
          5,
          6,
          7
         ],
         "y": [
          0.0015983931,
          0.0013775653,
          0.0013739136,
          0.0013295937,
          0.0013466798,
          0.0013724017
         ]
        },
        {
         "legendgroup": "intfloat_e5-small-v2",
         "legendgrouptitle": {
          "text": "From: intfloat_e5-small-v2"
         },
         "line": {
          "width": 1
         },
         "mode": "lines",
         "name": "thenlper_gte-small",
         "opacity": 0.5,
         "showlegend": true,
         "type": "scatter",
         "x": [
          2,
          3,
          4,
          5,
          6,
          7
         ],
         "y": [
          0.0037740998,
          0.0036807777,
          0.003589141,
          0.0036281638,
          0.0036783973,
          0.003634162
         ]
        },
        {
         "legendgroup": "intfloat_e5-small-v2",
         "legendgrouptitle": {
          "text": "From: intfloat_e5-small-v2"
         },
         "line": {
          "width": 1
         },
         "mode": "lines",
         "name": "sentence-transformers_gtr-t5-base",
         "opacity": 0.5,
         "showlegend": true,
         "type": "scatter",
         "x": [
          2,
          3,
          4,
          5,
          6,
          7
         ],
         "y": [
          0.0020046125,
          0.0018699366,
          0.0018132903,
          0.0018297574,
          0.001809785,
          0.0018500993
         ]
        },
        {
         "legendgroup": "intfloat_e5-small-v2",
         "legendgrouptitle": {
          "text": "From: intfloat_e5-small-v2"
         },
         "line": {
          "width": 1
         },
         "mode": "lines",
         "name": "sentence-transformers_gtr-t5-large",
         "opacity": 0.5,
         "showlegend": true,
         "type": "scatter",
         "x": [
          2,
          3,
          4,
          5,
          6,
          7
         ],
         "y": [
          0.002043101,
          0.0018879181,
          0.0018265176,
          0.0018386957,
          0.0018340108,
          0.0018560104
         ]
        },
        {
         "legendgroup": "intfloat_e5-small-v2",
         "legendgrouptitle": {
          "text": "From: intfloat_e5-small-v2"
         },
         "line": {
          "width": 1
         },
         "mode": "lines",
         "name": "mixedbread-ai_mxbai-embed-large-v1",
         "opacity": 0.5,
         "showlegend": true,
         "type": "scatter",
         "x": [
          2,
          3,
          4,
          5,
          6,
          7
         ],
         "y": [
          0.001570587,
          0.0014142026,
          0.001365535,
          0.0013673232,
          0.0013911417,
          0.0013773484
         ]
        },
        {
         "legendgroup": "intfloat_e5-small-v2",
         "legendgrouptitle": {
          "text": "From: intfloat_e5-small-v2"
         },
         "line": {
          "width": 1
         },
         "mode": "lines",
         "name": "sentence-transformers_sentence-t5-base",
         "opacity": 0.5,
         "showlegend": true,
         "type": "scatter",
         "x": [
          2,
          3,
          4,
          5,
          6,
          7
         ],
         "y": [
          0.0020138267,
          0.0018631761,
          0.0018584939,
          0.0018220249,
          0.0018318094,
          0.0017965777
         ]
        },
        {
         "legendgroup": "intfloat_e5-small-v2",
         "legendgrouptitle": {
          "text": "From: intfloat_e5-small-v2"
         },
         "line": {
          "width": 1
         },
         "mode": "lines",
         "name": "sentence-transformers_sentence-t5-large",
         "opacity": 0.5,
         "showlegend": true,
         "type": "scatter",
         "x": [
          2,
          3,
          4,
          5,
          6,
          7
         ],
         "y": [
          0.0020596548,
          0.0018582755,
          0.0018743229,
          0.0018469379,
          0.0018005787,
          0.0018569721
         ]
        },
        {
         "legendgroup": "intfloat_e5-small-v2",
         "legendgrouptitle": {
          "text": "From: intfloat_e5-small-v2"
         },
         "line": {
          "width": 1
         },
         "mode": "lines",
         "name": "openai_text-embedding-3-large",
         "opacity": 0.5,
         "showlegend": true,
         "type": "scatter",
         "x": [
          2,
          3,
          4,
          5,
          6,
          7
         ],
         "y": [
          0.0007212243,
          0.0004984607,
          0.00046239584,
          0.00045551246,
          0.0004555162,
          0.0004562774
         ]
        },
        {
         "legendgroup": "intfloat_e5-small-v2",
         "legendgrouptitle": {
          "text": "From: intfloat_e5-small-v2"
         },
         "line": {
          "width": 1
         },
         "mode": "lines",
         "name": "openai_text-embedding-3-small",
         "opacity": 0.5,
         "showlegend": true,
         "type": "scatter",
         "x": [
          2,
          3,
          4,
          5,
          6,
          7
         ],
         "y": [
          0.0011573033,
          0.00095995376,
          0.000914803,
          0.0009199117,
          0.00091445545,
          0.0009097317
         ]
        },
        {
         "legendgroup": "thenlper_gte-base",
         "legendgrouptitle": {
          "text": "From: thenlper_gte-base"
         },
         "line": {
          "width": 1
         },
         "mode": "lines",
         "name": "WhereIsAI_UAE-Large-V1",
         "opacity": 0.5,
         "showlegend": true,
         "type": "scatter",
         "x": [
          2,
          3,
          4,
          5,
          6,
          7
         ],
         "y": [
          0.0014364597,
          0.0013915101,
          0.0013765747,
          0.0013484022,
          0.0013665477,
          0.0013274914
         ]
        },
        {
         "legendgroup": "thenlper_gte-base",
         "legendgrouptitle": {
          "text": "From: thenlper_gte-base"
         },
         "line": {
          "width": 1
         },
         "mode": "lines",
         "name": "BAAI_bge-base-en-v1.5",
         "opacity": 0.5,
         "showlegend": true,
         "type": "scatter",
         "x": [
          2,
          3,
          4,
          5,
          6,
          7
         ],
         "y": [
          0.001894236,
          0.0018443569,
          0.0017913253,
          0.0018222224,
          0.0018511725,
          0.0018200626
         ]
        },
        {
         "legendgroup": "thenlper_gte-base",
         "legendgrouptitle": {
          "text": "From: thenlper_gte-base"
         },
         "line": {
          "width": 1
         },
         "mode": "lines",
         "name": "BAAI_bge-large-en-v1.5",
         "opacity": 0.5,
         "showlegend": true,
         "type": "scatter",
         "x": [
          2,
          3,
          4,
          5,
          6,
          7
         ],
         "y": [
          0.0014285798,
          0.0013948384,
          0.0013851454,
          0.0013574121,
          0.0013659066,
          0.0013753389
         ]
        },
        {
         "legendgroup": "thenlper_gte-base",
         "legendgrouptitle": {
          "text": "From: thenlper_gte-base"
         },
         "line": {
          "width": 1
         },
         "mode": "lines",
         "name": "BAAI_bge-small-en-v1.5",
         "opacity": 0.5,
         "showlegend": true,
         "type": "scatter",
         "x": [
          2,
          3,
          4,
          5,
          6,
          7
         ],
         "y": [
          0.0032541994,
          0.0031641629,
          0.0031258387,
          0.0031435536,
          0.003112876,
          0.0031130577
         ]
        },
        {
         "legendgroup": "thenlper_gte-base",
         "legendgrouptitle": {
          "text": "From: thenlper_gte-base"
         },
         "line": {
          "width": 1
         },
         "mode": "lines",
         "name": "intfloat_e5-base-v2",
         "opacity": 0.5,
         "showlegend": true,
         "type": "scatter",
         "x": [
          2,
          3,
          4,
          5,
          6,
          7
         ],
         "y": [
          0.0018889498,
          0.00179143,
          0.001842637,
          0.0018283759,
          0.0018168865,
          0.0017953337
         ]
        },
        {
         "legendgroup": "thenlper_gte-base",
         "legendgrouptitle": {
          "text": "From: thenlper_gte-base"
         },
         "line": {
          "width": 1
         },
         "mode": "lines",
         "name": "intfloat_e5-large-v2",
         "opacity": 0.5,
         "showlegend": true,
         "type": "scatter",
         "x": [
          2,
          3,
          4,
          5,
          6,
          7
         ],
         "y": [
          0.0014264678,
          0.0013830018,
          0.0014037816,
          0.0013597376,
          0.0013636998,
          0.0013887199
         ]
        },
        {
         "legendgroup": "thenlper_gte-base",
         "legendgrouptitle": {
          "text": "From: thenlper_gte-base"
         },
         "line": {
          "width": 1
         },
         "mode": "lines",
         "name": "intfloat_e5-small-v2",
         "opacity": 0.5,
         "showlegend": true,
         "type": "scatter",
         "x": [
          2,
          3,
          4,
          5,
          6,
          7
         ],
         "y": [
          0.0031730393,
          0.00310978,
          0.0031363706,
          0.003119845,
          0.0031308022,
          0.0031175308
         ]
        },
        {
         "legendgroup": "thenlper_gte-base",
         "legendgrouptitle": {
          "text": "From: thenlper_gte-base"
         },
         "line": {
          "width": 1
         },
         "mode": "lines",
         "name": "thenlper_gte-large",
         "opacity": 0.5,
         "showlegend": true,
         "type": "scatter",
         "x": [
          2,
          3,
          4,
          5,
          6,
          7
         ],
         "y": [
          0.0014305069,
          0.0013696466,
          0.0013566324,
          0.0013350755,
          0.0013808487,
          0.0013938317
         ]
        },
        {
         "legendgroup": "thenlper_gte-base",
         "legendgrouptitle": {
          "text": "From: thenlper_gte-base"
         },
         "line": {
          "width": 1
         },
         "mode": "lines",
         "name": "thenlper_gte-small",
         "opacity": 0.5,
         "showlegend": true,
         "type": "scatter",
         "x": [
          2,
          3,
          4,
          5,
          6,
          7
         ],
         "y": [
          0.0031676048,
          0.0031327906,
          0.0031187916,
          0.003101077,
          0.0031326439,
          0.0030949602
         ]
        },
        {
         "legendgroup": "thenlper_gte-base",
         "legendgrouptitle": {
          "text": "From: thenlper_gte-base"
         },
         "line": {
          "width": 1
         },
         "mode": "lines",
         "name": "sentence-transformers_gtr-t5-base",
         "opacity": 0.5,
         "showlegend": true,
         "type": "scatter",
         "x": [
          2,
          3,
          4,
          5,
          6,
          7
         ],
         "y": [
          0.0019013705,
          0.0018395389,
          0.0018519765,
          0.0018345771,
          0.0018218696,
          0.0018166568
         ]
        },
        {
         "legendgroup": "thenlper_gte-base",
         "legendgrouptitle": {
          "text": "From: thenlper_gte-base"
         },
         "line": {
          "width": 1
         },
         "mode": "lines",
         "name": "sentence-transformers_gtr-t5-large",
         "opacity": 0.5,
         "showlegend": true,
         "type": "scatter",
         "x": [
          2,
          3,
          4,
          5,
          6,
          7
         ],
         "y": [
          0.0018983743,
          0.0018213083,
          0.0017962136,
          0.0018184535,
          0.0018506529,
          0.001806982
         ]
        },
        {
         "legendgroup": "thenlper_gte-base",
         "legendgrouptitle": {
          "text": "From: thenlper_gte-base"
         },
         "line": {
          "width": 1
         },
         "mode": "lines",
         "name": "mixedbread-ai_mxbai-embed-large-v1",
         "opacity": 0.5,
         "showlegend": true,
         "type": "scatter",
         "x": [
          2,
          3,
          4,
          5,
          6,
          7
         ],
         "y": [
          0.0014570253,
          0.0013802404,
          0.0013951067,
          0.0013662135,
          0.0013646082,
          0.0013898667
         ]
        },
        {
         "legendgroup": "thenlper_gte-base",
         "legendgrouptitle": {
          "text": "From: thenlper_gte-base"
         },
         "line": {
          "width": 1
         },
         "mode": "lines",
         "name": "sentence-transformers_sentence-t5-base",
         "opacity": 0.5,
         "showlegend": true,
         "type": "scatter",
         "x": [
          2,
          3,
          4,
          5,
          6,
          7
         ],
         "y": [
          0.0018916274,
          0.0018069874,
          0.0017941633,
          0.0018636723,
          0.001832243,
          0.0018003061
         ]
        },
        {
         "legendgroup": "thenlper_gte-base",
         "legendgrouptitle": {
          "text": "From: thenlper_gte-base"
         },
         "line": {
          "width": 1
         },
         "mode": "lines",
         "name": "sentence-transformers_sentence-t5-large",
         "opacity": 0.5,
         "showlegend": true,
         "type": "scatter",
         "x": [
          2,
          3,
          4,
          5,
          6,
          7
         ],
         "y": [
          0.0019056973,
          0.0018410437,
          0.0018324666,
          0.0017911787,
          0.0018268345,
          0.0017747162
         ]
        },
        {
         "legendgroup": "thenlper_gte-base",
         "legendgrouptitle": {
          "text": "From: thenlper_gte-base"
         },
         "line": {
          "width": 1
         },
         "mode": "lines",
         "name": "openai_text-embedding-3-large",
         "opacity": 0.5,
         "showlegend": true,
         "type": "scatter",
         "x": [
          2,
          3,
          4,
          5,
          6,
          7
         ],
         "y": [
          0.0005829756,
          0.00047687508,
          0.0004567626,
          0.00045856377,
          0.0004545286,
          0.00045262158
         ]
        },
        {
         "legendgroup": "thenlper_gte-base",
         "legendgrouptitle": {
          "text": "From: thenlper_gte-base"
         },
         "line": {
          "width": 1
         },
         "mode": "lines",
         "name": "openai_text-embedding-3-small",
         "opacity": 0.5,
         "showlegend": true,
         "type": "scatter",
         "x": [
          2,
          3,
          4,
          5,
          6,
          7
         ],
         "y": [
          0.0010067549,
          0.0009292905,
          0.00092025305,
          0.0009133857,
          0.00091381016,
          0.00091032946
         ]
        },
        {
         "legendgroup": "thenlper_gte-large",
         "legendgrouptitle": {
          "text": "From: thenlper_gte-large"
         },
         "line": {
          "width": 1
         },
         "mode": "lines",
         "name": "WhereIsAI_UAE-Large-V1",
         "opacity": 0.5,
         "showlegend": true,
         "type": "scatter",
         "x": [
          2,
          3,
          4,
          5,
          6,
          7
         ],
         "y": [
          0.001400102,
          0.0013709882,
          0.0013468837,
          0.0013810736,
          0.0013502687,
          0.0013608504
         ]
        },
        {
         "legendgroup": "thenlper_gte-large",
         "legendgrouptitle": {
          "text": "From: thenlper_gte-large"
         },
         "line": {
          "width": 1
         },
         "mode": "lines",
         "name": "BAAI_bge-base-en-v1.5",
         "opacity": 0.5,
         "showlegend": true,
         "type": "scatter",
         "x": [
          2,
          3,
          4,
          5,
          6,
          7
         ],
         "y": [
          0.0017257547,
          0.0017009875,
          0.0016794024,
          0.0016785307,
          0.0016592043,
          0.001670633
         ]
        },
        {
         "legendgroup": "thenlper_gte-large",
         "legendgrouptitle": {
          "text": "From: thenlper_gte-large"
         },
         "line": {
          "width": 1
         },
         "mode": "lines",
         "name": "BAAI_bge-large-en-v1.5",
         "opacity": 0.5,
         "showlegend": true,
         "type": "scatter",
         "x": [
          2,
          3,
          4,
          5,
          6,
          7
         ],
         "y": [
          0.0014201977,
          0.001364526,
          0.0013939698,
          0.001396414,
          0.0013529217,
          0.0013781422
         ]
        },
        {
         "legendgroup": "thenlper_gte-large",
         "legendgrouptitle": {
          "text": "From: thenlper_gte-large"
         },
         "line": {
          "width": 1
         },
         "mode": "lines",
         "name": "BAAI_bge-small-en-v1.5",
         "opacity": 0.5,
         "showlegend": true,
         "type": "scatter",
         "x": [
          2,
          3,
          4,
          5,
          6,
          7
         ],
         "y": [
          0.003046782,
          0.00310658,
          0.0029359215,
          0.0029976908,
          0.0029920128,
          0.0029541152
         ]
        },
        {
         "legendgroup": "thenlper_gte-large",
         "legendgrouptitle": {
          "text": "From: thenlper_gte-large"
         },
         "line": {
          "width": 1
         },
         "mode": "lines",
         "name": "intfloat_e5-base-v2",
         "opacity": 0.5,
         "showlegend": true,
         "type": "scatter",
         "x": [
          2,
          3,
          4,
          5,
          6,
          7
         ],
         "y": [
          0.001741327,
          0.0016875117,
          0.0017008177,
          0.0017089575,
          0.0016817715,
          0.0017250438
         ]
        },
        {
         "legendgroup": "thenlper_gte-large",
         "legendgrouptitle": {
          "text": "From: thenlper_gte-large"
         },
         "line": {
          "width": 1
         },
         "mode": "lines",
         "name": "intfloat_e5-large-v2",
         "opacity": 0.5,
         "showlegend": true,
         "type": "scatter",
         "x": [
          2,
          3,
          4,
          5,
          6,
          7
         ],
         "y": [
          0.0014090948,
          0.0013806643,
          0.0013520756,
          0.0013691066,
          0.0013842558,
          0.0013559452
         ]
        },
        {
         "legendgroup": "thenlper_gte-large",
         "legendgrouptitle": {
          "text": "From: thenlper_gte-large"
         },
         "line": {
          "width": 1
         },
         "mode": "lines",
         "name": "intfloat_e5-small-v2",
         "opacity": 0.5,
         "showlegend": true,
         "type": "scatter",
         "x": [
          2,
          3,
          4,
          5,
          6,
          7
         ],
         "y": [
          0.0030407181,
          0.0029903303,
          0.0029912554,
          0.002956671,
          0.0029900996,
          0.0030226882
         ]
        },
        {
         "legendgroup": "thenlper_gte-large",
         "legendgrouptitle": {
          "text": "From: thenlper_gte-large"
         },
         "line": {
          "width": 1
         },
         "mode": "lines",
         "name": "thenlper_gte-base",
         "opacity": 0.5,
         "showlegend": true,
         "type": "scatter",
         "x": [
          2,
          3,
          4,
          5,
          6,
          7
         ],
         "y": [
          0.0017526424,
          0.0016913278,
          0.0017019649,
          0.0016713165,
          0.001685511,
          0.0016890505
         ]
        },
        {
         "legendgroup": "thenlper_gte-large",
         "legendgrouptitle": {
          "text": "From: thenlper_gte-large"
         },
         "line": {
          "width": 1
         },
         "mode": "lines",
         "name": "thenlper_gte-small",
         "opacity": 0.5,
         "showlegend": true,
         "type": "scatter",
         "x": [
          2,
          3,
          4,
          5,
          6,
          7
         ],
         "y": [
          0.0030395444,
          0.002914425,
          0.0029712461,
          0.0029965064,
          0.0029732233,
          0.0029416636
         ]
        },
        {
         "legendgroup": "thenlper_gte-large",
         "legendgrouptitle": {
          "text": "From: thenlper_gte-large"
         },
         "line": {
          "width": 1
         },
         "mode": "lines",
         "name": "sentence-transformers_gtr-t5-base",
         "opacity": 0.5,
         "showlegend": true,
         "type": "scatter",
         "x": [
          2,
          3,
          4,
          5,
          6,
          7
         ],
         "y": [
          0.00171575,
          0.0016950272,
          0.0017011723,
          0.0016779496,
          0.0017064534,
          0.0016805426
         ]
        },
        {
         "legendgroup": "thenlper_gte-large",
         "legendgrouptitle": {
          "text": "From: thenlper_gte-large"
         },
         "line": {
          "width": 1
         },
         "mode": "lines",
         "name": "sentence-transformers_gtr-t5-large",
         "opacity": 0.5,
         "showlegend": true,
         "type": "scatter",
         "x": [
          2,
          3,
          4,
          5,
          6,
          7
         ],
         "y": [
          0.0017375257,
          0.0016876701,
          0.0017031349,
          0.0016824227,
          0.001737564,
          0.001704915
         ]
        },
        {
         "legendgroup": "thenlper_gte-large",
         "legendgrouptitle": {
          "text": "From: thenlper_gte-large"
         },
         "line": {
          "width": 1
         },
         "mode": "lines",
         "name": "mixedbread-ai_mxbai-embed-large-v1",
         "opacity": 0.5,
         "showlegend": true,
         "type": "scatter",
         "x": [
          2,
          3,
          4,
          5,
          6,
          7
         ],
         "y": [
          0.0014016131,
          0.0013686032,
          0.0013752278,
          0.0013867525,
          0.0013660685,
          0.0013659648
         ]
        },
        {
         "legendgroup": "thenlper_gte-large",
         "legendgrouptitle": {
          "text": "From: thenlper_gte-large"
         },
         "line": {
          "width": 1
         },
         "mode": "lines",
         "name": "sentence-transformers_sentence-t5-base",
         "opacity": 0.5,
         "showlegend": true,
         "type": "scatter",
         "x": [
          2,
          3,
          4,
          5,
          6,
          7
         ],
         "y": [
          0.0017514532,
          0.0016994501,
          0.0017167168,
          0.001718026,
          0.001697854,
          0.0016999821
         ]
        },
        {
         "legendgroup": "thenlper_gte-large",
         "legendgrouptitle": {
          "text": "From: thenlper_gte-large"
         },
         "line": {
          "width": 1
         },
         "mode": "lines",
         "name": "sentence-transformers_sentence-t5-large",
         "opacity": 0.5,
         "showlegend": true,
         "type": "scatter",
         "x": [
          2,
          3,
          4,
          5,
          6,
          7
         ],
         "y": [
          0.0017310731,
          0.0016846581,
          0.0017106148,
          0.0016943793,
          0.0016725376,
          0.0016875424
         ]
        },
        {
         "legendgroup": "thenlper_gte-large",
         "legendgrouptitle": {
          "text": "From: thenlper_gte-large"
         },
         "line": {
          "width": 1
         },
         "mode": "lines",
         "name": "openai_text-embedding-3-large",
         "opacity": 0.5,
         "showlegend": true,
         "type": "scatter",
         "x": [
          2,
          3,
          4,
          5,
          6,
          7
         ],
         "y": [
          0.00054336555,
          0.00047340768,
          0.00045993505,
          0.00045677702,
          0.00045815678,
          0.00045513245
         ]
        },
        {
         "legendgroup": "thenlper_gte-large",
         "legendgrouptitle": {
          "text": "From: thenlper_gte-large"
         },
         "line": {
          "width": 1
         },
         "mode": "lines",
         "name": "openai_text-embedding-3-small",
         "opacity": 0.5,
         "showlegend": true,
         "type": "scatter",
         "x": [
          2,
          3,
          4,
          5,
          6,
          7
         ],
         "y": [
          0.0009811082,
          0.000920281,
          0.0009162577,
          0.0009043605,
          0.0009117077,
          0.0009104803
         ]
        },
        {
         "legendgroup": "thenlper_gte-small",
         "legendgrouptitle": {
          "text": "From: thenlper_gte-small"
         },
         "line": {
          "width": 1
         },
         "mode": "lines",
         "name": "WhereIsAI_UAE-Large-V1",
         "opacity": 0.5,
         "showlegend": true,
         "type": "scatter",
         "x": [
          2,
          3,
          4,
          5,
          6,
          7
         ],
         "y": [
          0.0015889277,
          0.0014000906,
          0.0013928401,
          0.0013705605,
          0.0013590838,
          0.0013787574
         ]
        },
        {
         "legendgroup": "thenlper_gte-small",
         "legendgrouptitle": {
          "text": "From: thenlper_gte-small"
         },
         "line": {
          "width": 1
         },
         "mode": "lines",
         "name": "BAAI_bge-base-en-v1.5",
         "opacity": 0.5,
         "showlegend": true,
         "type": "scatter",
         "x": [
          2,
          3,
          4,
          5,
          6,
          7
         ],
         "y": [
          0.0020493416,
          0.0018655696,
          0.0018676574,
          0.0018358728,
          0.001826879,
          0.0018124647
         ]
        },
        {
         "legendgroup": "thenlper_gte-small",
         "legendgrouptitle": {
          "text": "From: thenlper_gte-small"
         },
         "line": {
          "width": 1
         },
         "mode": "lines",
         "name": "BAAI_bge-large-en-v1.5",
         "opacity": 0.5,
         "showlegend": true,
         "type": "scatter",
         "x": [
          2,
          3,
          4,
          5,
          6,
          7
         ],
         "y": [
          0.0016060028,
          0.0013919749,
          0.001376324,
          0.001372641,
          0.0013682134,
          0.0013707479
         ]
        },
        {
         "legendgroup": "thenlper_gte-small",
         "legendgrouptitle": {
          "text": "From: thenlper_gte-small"
         },
         "line": {
          "width": 1
         },
         "mode": "lines",
         "name": "BAAI_bge-small-en-v1.5",
         "opacity": 0.5,
         "showlegend": true,
         "type": "scatter",
         "x": [
          2,
          3,
          4,
          5,
          6,
          7
         ],
         "y": [
          0.003796608,
          0.0035971412,
          0.0036182906,
          0.003548693,
          0.0035476394,
          0.003616669
         ]
        },
        {
         "legendgroup": "thenlper_gte-small",
         "legendgrouptitle": {
          "text": "From: thenlper_gte-small"
         },
         "line": {
          "width": 1
         },
         "mode": "lines",
         "name": "intfloat_e5-base-v2",
         "opacity": 0.5,
         "showlegend": true,
         "type": "scatter",
         "x": [
          2,
          3,
          4,
          5,
          6,
          7
         ],
         "y": [
          0.002031144,
          0.0018992241,
          0.0018577591,
          0.0018766471,
          0.0018154737,
          0.001804547
         ]
        },
        {
         "legendgroup": "thenlper_gte-small",
         "legendgrouptitle": {
          "text": "From: thenlper_gte-small"
         },
         "line": {
          "width": 1
         },
         "mode": "lines",
         "name": "intfloat_e5-large-v2",
         "opacity": 0.5,
         "showlegend": true,
         "type": "scatter",
         "x": [
          2,
          3,
          4,
          5,
          6,
          7
         ],
         "y": [
          0.0016169759,
          0.0013998499,
          0.0013811775,
          0.001375592,
          0.0013713045,
          0.0013780012
         ]
        },
        {
         "legendgroup": "thenlper_gte-small",
         "legendgrouptitle": {
          "text": "From: thenlper_gte-small"
         },
         "line": {
          "width": 1
         },
         "mode": "lines",
         "name": "intfloat_e5-small-v2",
         "opacity": 0.5,
         "showlegend": true,
         "type": "scatter",
         "x": [
          2,
          3,
          4,
          5,
          6,
          7
         ],
         "y": [
          0.0038253388,
          0.003625838,
          0.0036138855,
          0.0036717432,
          0.0036607694,
          0.0037295304
         ]
        },
        {
         "legendgroup": "thenlper_gte-small",
         "legendgrouptitle": {
          "text": "From: thenlper_gte-small"
         },
         "line": {
          "width": 1
         },
         "mode": "lines",
         "name": "thenlper_gte-base",
         "opacity": 0.5,
         "showlegend": true,
         "type": "scatter",
         "x": [
          2,
          3,
          4,
          5,
          6,
          7
         ],
         "y": [
          0.0020029375,
          0.001836609,
          0.0018052644,
          0.001818807,
          0.0018346609,
          0.0018377033
         ]
        },
        {
         "legendgroup": "thenlper_gte-small",
         "legendgrouptitle": {
          "text": "From: thenlper_gte-small"
         },
         "line": {
          "width": 1
         },
         "mode": "lines",
         "name": "thenlper_gte-large",
         "opacity": 0.5,
         "showlegend": true,
         "type": "scatter",
         "x": [
          2,
          3,
          4,
          5,
          6,
          7
         ],
         "y": [
          0.001583248,
          0.0014199394,
          0.0013844165,
          0.0013683963,
          0.0013797967,
          0.0013600254
         ]
        },
        {
         "legendgroup": "thenlper_gte-small",
         "legendgrouptitle": {
          "text": "From: thenlper_gte-small"
         },
         "line": {
          "width": 1
         },
         "mode": "lines",
         "name": "sentence-transformers_gtr-t5-base",
         "opacity": 0.5,
         "showlegend": true,
         "type": "scatter",
         "x": [
          2,
          3,
          4,
          5,
          6,
          7
         ],
         "y": [
          0.0019852945,
          0.0018599314,
          0.0018403021,
          0.00182437,
          0.0018436232,
          0.0018544253
         ]
        },
        {
         "legendgroup": "thenlper_gte-small",
         "legendgrouptitle": {
          "text": "From: thenlper_gte-small"
         },
         "line": {
          "width": 1
         },
         "mode": "lines",
         "name": "sentence-transformers_gtr-t5-large",
         "opacity": 0.5,
         "showlegend": true,
         "type": "scatter",
         "x": [
          2,
          3,
          4,
          5,
          6,
          7
         ],
         "y": [
          0.0020271845,
          0.0018397346,
          0.0018409543,
          0.0018214756,
          0.0018380579,
          0.0018308029
         ]
        },
        {
         "legendgroup": "thenlper_gte-small",
         "legendgrouptitle": {
          "text": "From: thenlper_gte-small"
         },
         "line": {
          "width": 1
         },
         "mode": "lines",
         "name": "mixedbread-ai_mxbai-embed-large-v1",
         "opacity": 0.5,
         "showlegend": true,
         "type": "scatter",
         "x": [
          2,
          3,
          4,
          5,
          6,
          7
         ],
         "y": [
          0.0015861653,
          0.0013969257,
          0.0013737284,
          0.0013705188,
          0.0013396651,
          0.0013815645
         ]
        },
        {
         "legendgroup": "thenlper_gte-small",
         "legendgrouptitle": {
          "text": "From: thenlper_gte-small"
         },
         "line": {
          "width": 1
         },
         "mode": "lines",
         "name": "sentence-transformers_sentence-t5-base",
         "opacity": 0.5,
         "showlegend": true,
         "type": "scatter",
         "x": [
          2,
          3,
          4,
          5,
          6,
          7
         ],
         "y": [
          0.0020517558,
          0.001830562,
          0.0018461394,
          0.0018116074,
          0.0017925444,
          0.0017922324
         ]
        },
        {
         "legendgroup": "thenlper_gte-small",
         "legendgrouptitle": {
          "text": "From: thenlper_gte-small"
         },
         "line": {
          "width": 1
         },
         "mode": "lines",
         "name": "sentence-transformers_sentence-t5-large",
         "opacity": 0.5,
         "showlegend": true,
         "type": "scatter",
         "x": [
          2,
          3,
          4,
          5,
          6,
          7
         ],
         "y": [
          0.001992406,
          0.0018558413,
          0.0018038336,
          0.0018601163,
          0.0018155546,
          0.0018140419
         ]
        },
        {
         "legendgroup": "thenlper_gte-small",
         "legendgrouptitle": {
          "text": "From: thenlper_gte-small"
         },
         "line": {
          "width": 1
         },
         "mode": "lines",
         "name": "openai_text-embedding-3-large",
         "opacity": 0.5,
         "showlegend": true,
         "type": "scatter",
         "x": [
          2,
          3,
          4,
          5,
          6,
          7
         ],
         "y": [
          0.00072034245,
          0.00049991574,
          0.0004637936,
          0.00045353247,
          0.00045414572,
          0.0004553181
         ]
        },
        {
         "legendgroup": "thenlper_gte-small",
         "legendgrouptitle": {
          "text": "From: thenlper_gte-small"
         },
         "line": {
          "width": 1
         },
         "mode": "lines",
         "name": "openai_text-embedding-3-small",
         "opacity": 0.5,
         "showlegend": true,
         "type": "scatter",
         "x": [
          2,
          3,
          4,
          5,
          6,
          7
         ],
         "y": [
          0.0011645289,
          0.00095433486,
          0.00091934466,
          0.00091647526,
          0.0009128754,
          0.0009145372
         ]
        },
        {
         "legendgroup": "sentence-transformers_gtr-t5-base",
         "legendgrouptitle": {
          "text": "From: sentence-transformers_gtr-t5-base"
         },
         "line": {
          "width": 1
         },
         "mode": "lines",
         "name": "WhereIsAI_UAE-Large-V1",
         "opacity": 0.5,
         "showlegend": true,
         "type": "scatter",
         "x": [
          2,
          3,
          4,
          5,
          6,
          7
         ],
         "y": [
          0.0014538945,
          0.0013777012,
          0.0013583214,
          0.001364837,
          0.0013569832,
          0.0013598036
         ]
        },
        {
         "legendgroup": "sentence-transformers_gtr-t5-base",
         "legendgrouptitle": {
          "text": "From: sentence-transformers_gtr-t5-base"
         },
         "line": {
          "width": 1
         },
         "mode": "lines",
         "name": "BAAI_bge-base-en-v1.5",
         "opacity": 0.5,
         "showlegend": true,
         "type": "scatter",
         "x": [
          2,
          3,
          4,
          5,
          6,
          7
         ],
         "y": [
          0.0018840703,
          0.0018775429,
          0.0018463692,
          0.0018341461,
          0.001810738,
          0.0018306564
         ]
        },
        {
         "legendgroup": "sentence-transformers_gtr-t5-base",
         "legendgrouptitle": {
          "text": "From: sentence-transformers_gtr-t5-base"
         },
         "line": {
          "width": 1
         },
         "mode": "lines",
         "name": "BAAI_bge-large-en-v1.5",
         "opacity": 0.5,
         "showlegend": true,
         "type": "scatter",
         "x": [
          2,
          3,
          4,
          5,
          6,
          7
         ],
         "y": [
          0.001455617,
          0.0013838996,
          0.0013790723,
          0.001375981,
          0.0013481571,
          0.0013610445
         ]
        },
        {
         "legendgroup": "sentence-transformers_gtr-t5-base",
         "legendgrouptitle": {
          "text": "From: sentence-transformers_gtr-t5-base"
         },
         "line": {
          "width": 1
         },
         "mode": "lines",
         "name": "BAAI_bge-small-en-v1.5",
         "opacity": 0.5,
         "showlegend": true,
         "type": "scatter",
         "x": [
          2,
          3,
          4,
          5,
          6,
          7
         ],
         "y": [
          0.0031802028,
          0.0031050416,
          0.0031739334,
          0.0031207008,
          0.0032418186,
          0.0030962212
         ]
        },
        {
         "legendgroup": "sentence-transformers_gtr-t5-base",
         "legendgrouptitle": {
          "text": "From: sentence-transformers_gtr-t5-base"
         },
         "line": {
          "width": 1
         },
         "mode": "lines",
         "name": "intfloat_e5-base-v2",
         "opacity": 0.5,
         "showlegend": true,
         "type": "scatter",
         "x": [
          2,
          3,
          4,
          5,
          6,
          7
         ],
         "y": [
          0.0018887287,
          0.0018354855,
          0.0018021663,
          0.0017966023,
          0.0017915949,
          0.0018071793
         ]
        },
        {
         "legendgroup": "sentence-transformers_gtr-t5-base",
         "legendgrouptitle": {
          "text": "From: sentence-transformers_gtr-t5-base"
         },
         "line": {
          "width": 1
         },
         "mode": "lines",
         "name": "intfloat_e5-large-v2",
         "opacity": 0.5,
         "showlegend": true,
         "type": "scatter",
         "x": [
          2,
          3,
          4,
          5,
          6,
          7
         ],
         "y": [
          0.0014299384,
          0.0013984642,
          0.0013811568,
          0.0013511052,
          0.0013562009,
          0.0013278425
         ]
        },
        {
         "legendgroup": "sentence-transformers_gtr-t5-base",
         "legendgrouptitle": {
          "text": "From: sentence-transformers_gtr-t5-base"
         },
         "line": {
          "width": 1
         },
         "mode": "lines",
         "name": "intfloat_e5-small-v2",
         "opacity": 0.5,
         "showlegend": true,
         "type": "scatter",
         "x": [
          2,
          3,
          4,
          5,
          6,
          7
         ],
         "y": [
          0.0031954225,
          0.0031389452,
          0.0031842173,
          0.0030989724,
          0.0031929899,
          0.003125578
         ]
        },
        {
         "legendgroup": "sentence-transformers_gtr-t5-base",
         "legendgrouptitle": {
          "text": "From: sentence-transformers_gtr-t5-base"
         },
         "line": {
          "width": 1
         },
         "mode": "lines",
         "name": "thenlper_gte-base",
         "opacity": 0.5,
         "showlegend": true,
         "type": "scatter",
         "x": [
          2,
          3,
          4,
          5,
          6,
          7
         ],
         "y": [
          0.0018928614,
          0.0018713014,
          0.0018172975,
          0.0018120586,
          0.0018143536,
          0.0018277782
         ]
        },
        {
         "legendgroup": "sentence-transformers_gtr-t5-base",
         "legendgrouptitle": {
          "text": "From: sentence-transformers_gtr-t5-base"
         },
         "line": {
          "width": 1
         },
         "mode": "lines",
         "name": "thenlper_gte-large",
         "opacity": 0.5,
         "showlegend": true,
         "type": "scatter",
         "x": [
          2,
          3,
          4,
          5,
          6,
          7
         ],
         "y": [
          0.0014293744,
          0.0013648967,
          0.001371958,
          0.0013744562,
          0.0013621603,
          0.0013785713
         ]
        },
        {
         "legendgroup": "sentence-transformers_gtr-t5-base",
         "legendgrouptitle": {
          "text": "From: sentence-transformers_gtr-t5-base"
         },
         "line": {
          "width": 1
         },
         "mode": "lines",
         "name": "thenlper_gte-small",
         "opacity": 0.5,
         "showlegend": true,
         "type": "scatter",
         "x": [
          2,
          3,
          4,
          5,
          6,
          7
         ],
         "y": [
          0.0031693082,
          0.0030893364,
          0.0031462954,
          0.003131331,
          0.003151008,
          0.0031237332
         ]
        },
        {
         "legendgroup": "sentence-transformers_gtr-t5-base",
         "legendgrouptitle": {
          "text": "From: sentence-transformers_gtr-t5-base"
         },
         "line": {
          "width": 1
         },
         "mode": "lines",
         "name": "sentence-transformers_gtr-t5-large",
         "opacity": 0.5,
         "showlegend": true,
         "type": "scatter",
         "x": [
          2,
          3,
          4,
          5,
          6,
          7
         ],
         "y": [
          0.0018891325,
          0.0018629831,
          0.0018414165,
          0.0018280363,
          0.0018477893,
          0.0017969771
         ]
        },
        {
         "legendgroup": "sentence-transformers_gtr-t5-base",
         "legendgrouptitle": {
          "text": "From: sentence-transformers_gtr-t5-base"
         },
         "line": {
          "width": 1
         },
         "mode": "lines",
         "name": "mixedbread-ai_mxbai-embed-large-v1",
         "opacity": 0.5,
         "showlegend": true,
         "type": "scatter",
         "x": [
          2,
          3,
          4,
          5,
          6,
          7
         ],
         "y": [
          0.0014343142,
          0.0013605007,
          0.0014037628,
          0.0013628508,
          0.0013701351,
          0.0013535923
         ]
        },
        {
         "legendgroup": "sentence-transformers_gtr-t5-base",
         "legendgrouptitle": {
          "text": "From: sentence-transformers_gtr-t5-base"
         },
         "line": {
          "width": 1
         },
         "mode": "lines",
         "name": "sentence-transformers_sentence-t5-base",
         "opacity": 0.5,
         "showlegend": true,
         "type": "scatter",
         "x": [
          2,
          3,
          4,
          5,
          6,
          7
         ],
         "y": [
          0.0018583197,
          0.0018004795,
          0.001831208,
          0.0017699087,
          0.0018543691,
          0.0017976878
         ]
        },
        {
         "legendgroup": "sentence-transformers_gtr-t5-base",
         "legendgrouptitle": {
          "text": "From: sentence-transformers_gtr-t5-base"
         },
         "line": {
          "width": 1
         },
         "mode": "lines",
         "name": "sentence-transformers_sentence-t5-large",
         "opacity": 0.5,
         "showlegend": true,
         "type": "scatter",
         "x": [
          2,
          3,
          4,
          5,
          6,
          7
         ],
         "y": [
          0.0018612785,
          0.0018400461,
          0.001784979,
          0.0018075783,
          0.0018266643,
          0.0018636719
         ]
        },
        {
         "legendgroup": "sentence-transformers_gtr-t5-base",
         "legendgrouptitle": {
          "text": "From: sentence-transformers_gtr-t5-base"
         },
         "line": {
          "width": 1
         },
         "mode": "lines",
         "name": "openai_text-embedding-3-large",
         "opacity": 0.5,
         "showlegend": true,
         "type": "scatter",
         "x": [
          2,
          3,
          4,
          5,
          6,
          7
         ],
         "y": [
          0.0005806132,
          0.0004744477,
          0.00045989818,
          0.0004565723,
          0.00045587003,
          0.00045510125
         ]
        },
        {
         "legendgroup": "sentence-transformers_gtr-t5-base",
         "legendgrouptitle": {
          "text": "From: sentence-transformers_gtr-t5-base"
         },
         "line": {
          "width": 1
         },
         "mode": "lines",
         "name": "openai_text-embedding-3-small",
         "opacity": 0.5,
         "showlegend": true,
         "type": "scatter",
         "x": [
          2,
          3,
          4,
          5,
          6,
          7
         ],
         "y": [
          0.0010139503,
          0.00092330854,
          0.0009189597,
          0.00091328233,
          0.0009165541,
          0.0009054486
         ]
        },
        {
         "legendgroup": "sentence-transformers_gtr-t5-large",
         "legendgrouptitle": {
          "text": "From: sentence-transformers_gtr-t5-large"
         },
         "line": {
          "width": 1
         },
         "mode": "lines",
         "name": "WhereIsAI_UAE-Large-V1",
         "opacity": 0.5,
         "showlegend": true,
         "type": "scatter",
         "x": [
          2,
          3,
          4,
          5,
          6,
          7
         ],
         "y": [
          0.001451769,
          0.0013551147,
          0.0013644857,
          0.001375558,
          0.0013751215,
          0.0013666152
         ]
        },
        {
         "legendgroup": "sentence-transformers_gtr-t5-large",
         "legendgrouptitle": {
          "text": "From: sentence-transformers_gtr-t5-large"
         },
         "line": {
          "width": 1
         },
         "mode": "lines",
         "name": "BAAI_bge-base-en-v1.5",
         "opacity": 0.5,
         "showlegend": true,
         "type": "scatter",
         "x": [
          2,
          3,
          4,
          5,
          6,
          7
         ],
         "y": [
          0.001871602,
          0.0018438809,
          0.0018344045,
          0.0018323458,
          0.001842237,
          0.0018080097
         ]
        },
        {
         "legendgroup": "sentence-transformers_gtr-t5-large",
         "legendgrouptitle": {
          "text": "From: sentence-transformers_gtr-t5-large"
         },
         "line": {
          "width": 1
         },
         "mode": "lines",
         "name": "BAAI_bge-large-en-v1.5",
         "opacity": 0.5,
         "showlegend": true,
         "type": "scatter",
         "x": [
          2,
          3,
          4,
          5,
          6,
          7
         ],
         "y": [
          0.0014351321,
          0.0013784277,
          0.0013697026,
          0.001363325,
          0.0013754662,
          0.0013775252
         ]
        },
        {
         "legendgroup": "sentence-transformers_gtr-t5-large",
         "legendgrouptitle": {
          "text": "From: sentence-transformers_gtr-t5-large"
         },
         "line": {
          "width": 1
         },
         "mode": "lines",
         "name": "BAAI_bge-small-en-v1.5",
         "opacity": 0.5,
         "showlegend": true,
         "type": "scatter",
         "x": [
          2,
          3,
          4,
          5,
          6,
          7
         ],
         "y": [
          0.0031939547,
          0.0031227598,
          0.003187827,
          0.0031258091,
          0.003187671,
          0.0030969745
         ]
        },
        {
         "legendgroup": "sentence-transformers_gtr-t5-large",
         "legendgrouptitle": {
          "text": "From: sentence-transformers_gtr-t5-large"
         },
         "line": {
          "width": 1
         },
         "mode": "lines",
         "name": "intfloat_e5-base-v2",
         "opacity": 0.5,
         "showlegend": true,
         "type": "scatter",
         "x": [
          2,
          3,
          4,
          5,
          6,
          7
         ],
         "y": [
          0.0019007261,
          0.0018148461,
          0.0017861644,
          0.0018202924,
          0.0018270147,
          0.0018435116
         ]
        },
        {
         "legendgroup": "sentence-transformers_gtr-t5-large",
         "legendgrouptitle": {
          "text": "From: sentence-transformers_gtr-t5-large"
         },
         "line": {
          "width": 1
         },
         "mode": "lines",
         "name": "intfloat_e5-large-v2",
         "opacity": 0.5,
         "showlegend": true,
         "type": "scatter",
         "x": [
          2,
          3,
          4,
          5,
          6,
          7
         ],
         "y": [
          0.0014454909,
          0.0013881415,
          0.0013497919,
          0.0013801212,
          0.0013580001,
          0.001379317
         ]
        },
        {
         "legendgroup": "sentence-transformers_gtr-t5-large",
         "legendgrouptitle": {
          "text": "From: sentence-transformers_gtr-t5-large"
         },
         "line": {
          "width": 1
         },
         "mode": "lines",
         "name": "intfloat_e5-small-v2",
         "opacity": 0.5,
         "showlegend": true,
         "type": "scatter",
         "x": [
          2,
          3,
          4,
          5,
          6,
          7
         ],
         "y": [
          0.0031865286,
          0.0031005228,
          0.0031736281,
          0.003061571,
          0.0030595541,
          0.0031596513
         ]
        },
        {
         "legendgroup": "sentence-transformers_gtr-t5-large",
         "legendgrouptitle": {
          "text": "From: sentence-transformers_gtr-t5-large"
         },
         "line": {
          "width": 1
         },
         "mode": "lines",
         "name": "thenlper_gte-base",
         "opacity": 0.5,
         "showlegend": true,
         "type": "scatter",
         "x": [
          2,
          3,
          4,
          5,
          6,
          7
         ],
         "y": [
          0.0018994412,
          0.001853214,
          0.0018468226,
          0.0017789174,
          0.0018373112,
          0.0018536117
         ]
        },
        {
         "legendgroup": "sentence-transformers_gtr-t5-large",
         "legendgrouptitle": {
          "text": "From: sentence-transformers_gtr-t5-large"
         },
         "line": {
          "width": 1
         },
         "mode": "lines",
         "name": "thenlper_gte-large",
         "opacity": 0.5,
         "showlegend": true,
         "type": "scatter",
         "x": [
          2,
          3,
          4,
          5,
          6,
          7
         ],
         "y": [
          0.001411722,
          0.0013665812,
          0.0013713832,
          0.0013514258,
          0.0013668967,
          0.0013639061
         ]
        },
        {
         "legendgroup": "sentence-transformers_gtr-t5-large",
         "legendgrouptitle": {
          "text": "From: sentence-transformers_gtr-t5-large"
         },
         "line": {
          "width": 1
         },
         "mode": "lines",
         "name": "thenlper_gte-small",
         "opacity": 0.5,
         "showlegend": true,
         "type": "scatter",
         "x": [
          2,
          3,
          4,
          5,
          6,
          7
         ],
         "y": [
          0.003124265,
          0.0032191407,
          0.0031321698,
          0.0030454283,
          0.0031852352,
          0.0031203565
         ]
        },
        {
         "legendgroup": "sentence-transformers_gtr-t5-large",
         "legendgrouptitle": {
          "text": "From: sentence-transformers_gtr-t5-large"
         },
         "line": {
          "width": 1
         },
         "mode": "lines",
         "name": "sentence-transformers_gtr-t5-base",
         "opacity": 0.5,
         "showlegend": true,
         "type": "scatter",
         "x": [
          2,
          3,
          4,
          5,
          6,
          7
         ],
         "y": [
          0.001872789,
          0.0018244926,
          0.0018267749,
          0.0018211516,
          0.0018149813,
          0.0018082889
         ]
        },
        {
         "legendgroup": "sentence-transformers_gtr-t5-large",
         "legendgrouptitle": {
          "text": "From: sentence-transformers_gtr-t5-large"
         },
         "line": {
          "width": 1
         },
         "mode": "lines",
         "name": "mixedbread-ai_mxbai-embed-large-v1",
         "opacity": 0.5,
         "showlegend": true,
         "type": "scatter",
         "x": [
          2,
          3,
          4,
          5,
          6,
          7
         ],
         "y": [
          0.0014322804,
          0.0013866819,
          0.0013549275,
          0.0013542433,
          0.0013640824,
          0.0013557487
         ]
        },
        {
         "legendgroup": "sentence-transformers_gtr-t5-large",
         "legendgrouptitle": {
          "text": "From: sentence-transformers_gtr-t5-large"
         },
         "line": {
          "width": 1
         },
         "mode": "lines",
         "name": "sentence-transformers_sentence-t5-base",
         "opacity": 0.5,
         "showlegend": true,
         "type": "scatter",
         "x": [
          2,
          3,
          4,
          5,
          6,
          7
         ],
         "y": [
          0.0018326248,
          0.0018633277,
          0.0018639393,
          0.0018124074,
          0.0018510945,
          0.0018063892
         ]
        },
        {
         "legendgroup": "sentence-transformers_gtr-t5-large",
         "legendgrouptitle": {
          "text": "From: sentence-transformers_gtr-t5-large"
         },
         "line": {
          "width": 1
         },
         "mode": "lines",
         "name": "sentence-transformers_sentence-t5-large",
         "opacity": 0.5,
         "showlegend": true,
         "type": "scatter",
         "x": [
          2,
          3,
          4,
          5,
          6,
          7
         ],
         "y": [
          0.0018731524,
          0.0018047214,
          0.0018283641,
          0.0018166321,
          0.0018520305,
          0.0017863336
         ]
        },
        {
         "legendgroup": "sentence-transformers_gtr-t5-large",
         "legendgrouptitle": {
          "text": "From: sentence-transformers_gtr-t5-large"
         },
         "line": {
          "width": 1
         },
         "mode": "lines",
         "name": "openai_text-embedding-3-large",
         "opacity": 0.5,
         "showlegend": true,
         "type": "scatter",
         "x": [
          2,
          3,
          4,
          5,
          6,
          7
         ],
         "y": [
          0.00057304255,
          0.00047550353,
          0.00045869907,
          0.0004542082,
          0.0004577093,
          0.0004551789
         ]
        },
        {
         "legendgroup": "sentence-transformers_gtr-t5-large",
         "legendgrouptitle": {
          "text": "From: sentence-transformers_gtr-t5-large"
         },
         "line": {
          "width": 1
         },
         "mode": "lines",
         "name": "openai_text-embedding-3-small",
         "opacity": 0.5,
         "showlegend": true,
         "type": "scatter",
         "x": [
          2,
          3,
          4,
          5,
          6,
          7
         ],
         "y": [
          0.0010166863,
          0.000924836,
          0.0009023975,
          0.00091346935,
          0.00090674846,
          0.00090747356
         ]
        },
        {
         "legendgroup": "mixedbread-ai_mxbai-embed-large-v1",
         "legendgrouptitle": {
          "text": "From: mixedbread-ai_mxbai-embed-large-v1"
         },
         "line": {
          "width": 1
         },
         "mode": "lines",
         "name": "WhereIsAI_UAE-Large-V1",
         "opacity": 0.5,
         "showlegend": true,
         "type": "scatter",
         "x": [
          2,
          3,
          4,
          5,
          6,
          7
         ],
         "y": [
          0.0014027028,
          0.0013745403,
          0.0013438849,
          0.0013651826,
          0.0013885526,
          0.0013617799
         ]
        },
        {
         "legendgroup": "mixedbread-ai_mxbai-embed-large-v1",
         "legendgrouptitle": {
          "text": "From: mixedbread-ai_mxbai-embed-large-v1"
         },
         "line": {
          "width": 1
         },
         "mode": "lines",
         "name": "BAAI_bge-base-en-v1.5",
         "opacity": 0.5,
         "showlegend": true,
         "type": "scatter",
         "x": [
          2,
          3,
          4,
          5,
          6,
          7
         ],
         "y": [
          0.001736256,
          0.001691537,
          0.0016844502,
          0.0017131749,
          0.0016757293,
          0.001714476
         ]
        },
        {
         "legendgroup": "mixedbread-ai_mxbai-embed-large-v1",
         "legendgrouptitle": {
          "text": "From: mixedbread-ai_mxbai-embed-large-v1"
         },
         "line": {
          "width": 1
         },
         "mode": "lines",
         "name": "BAAI_bge-large-en-v1.5",
         "opacity": 0.5,
         "showlegend": true,
         "type": "scatter",
         "x": [
          2,
          3,
          4,
          5,
          6,
          7
         ],
         "y": [
          0.0014077105,
          0.0013902178,
          0.0013524988,
          0.0013543903,
          0.0013734846,
          0.0013815073
         ]
        },
        {
         "legendgroup": "mixedbread-ai_mxbai-embed-large-v1",
         "legendgrouptitle": {
          "text": "From: mixedbread-ai_mxbai-embed-large-v1"
         },
         "line": {
          "width": 1
         },
         "mode": "lines",
         "name": "BAAI_bge-small-en-v1.5",
         "opacity": 0.5,
         "showlegend": true,
         "type": "scatter",
         "x": [
          2,
          3,
          4,
          5,
          6,
          7
         ],
         "y": [
          0.0030374778,
          0.003001204,
          0.003006272,
          0.0029977516,
          0.0030049866,
          0.0029788755
         ]
        },
        {
         "legendgroup": "mixedbread-ai_mxbai-embed-large-v1",
         "legendgrouptitle": {
          "text": "From: mixedbread-ai_mxbai-embed-large-v1"
         },
         "line": {
          "width": 1
         },
         "mode": "lines",
         "name": "intfloat_e5-base-v2",
         "opacity": 0.5,
         "showlegend": true,
         "type": "scatter",
         "x": [
          2,
          3,
          4,
          5,
          6,
          7
         ],
         "y": [
          0.0017283099,
          0.0016927611,
          0.0016928924,
          0.0017084653,
          0.0017205095,
          0.0017188323
         ]
        },
        {
         "legendgroup": "mixedbread-ai_mxbai-embed-large-v1",
         "legendgrouptitle": {
          "text": "From: mixedbread-ai_mxbai-embed-large-v1"
         },
         "line": {
          "width": 1
         },
         "mode": "lines",
         "name": "intfloat_e5-large-v2",
         "opacity": 0.5,
         "showlegend": true,
         "type": "scatter",
         "x": [
          2,
          3,
          4,
          5,
          6,
          7
         ],
         "y": [
          0.0014001778,
          0.0013510096,
          0.00136838,
          0.0013603676,
          0.0013497034,
          0.0013637164
         ]
        },
        {
         "legendgroup": "mixedbread-ai_mxbai-embed-large-v1",
         "legendgrouptitle": {
          "text": "From: mixedbread-ai_mxbai-embed-large-v1"
         },
         "line": {
          "width": 1
         },
         "mode": "lines",
         "name": "intfloat_e5-small-v2",
         "opacity": 0.5,
         "showlegend": true,
         "type": "scatter",
         "x": [
          2,
          3,
          4,
          5,
          6,
          7
         ],
         "y": [
          0.003049617,
          0.0029632307,
          0.0030411165,
          0.0030262144,
          0.0029834148,
          0.0030457608
         ]
        },
        {
         "legendgroup": "mixedbread-ai_mxbai-embed-large-v1",
         "legendgrouptitle": {
          "text": "From: mixedbread-ai_mxbai-embed-large-v1"
         },
         "line": {
          "width": 1
         },
         "mode": "lines",
         "name": "thenlper_gte-base",
         "opacity": 0.5,
         "showlegend": true,
         "type": "scatter",
         "x": [
          2,
          3,
          4,
          5,
          6,
          7
         ],
         "y": [
          0.0017224681,
          0.0017057331,
          0.0016654554,
          0.0016761216,
          0.0016906749,
          0.0016819477
         ]
        },
        {
         "legendgroup": "mixedbread-ai_mxbai-embed-large-v1",
         "legendgrouptitle": {
          "text": "From: mixedbread-ai_mxbai-embed-large-v1"
         },
         "line": {
          "width": 1
         },
         "mode": "lines",
         "name": "thenlper_gte-large",
         "opacity": 0.5,
         "showlegend": true,
         "type": "scatter",
         "x": [
          2,
          3,
          4,
          5,
          6,
          7
         ],
         "y": [
          0.0014034217,
          0.0013360962,
          0.0013779592,
          0.0013692621,
          0.001382628,
          0.0013400018
         ]
        },
        {
         "legendgroup": "mixedbread-ai_mxbai-embed-large-v1",
         "legendgrouptitle": {
          "text": "From: mixedbread-ai_mxbai-embed-large-v1"
         },
         "line": {
          "width": 1
         },
         "mode": "lines",
         "name": "thenlper_gte-small",
         "opacity": 0.5,
         "showlegend": true,
         "type": "scatter",
         "x": [
          2,
          3,
          4,
          5,
          6,
          7
         ],
         "y": [
          0.0029786022,
          0.0029753547,
          0.0029629814,
          0.003030712,
          0.0030078802,
          0.0030513646
         ]
        },
        {
         "legendgroup": "mixedbread-ai_mxbai-embed-large-v1",
         "legendgrouptitle": {
          "text": "From: mixedbread-ai_mxbai-embed-large-v1"
         },
         "line": {
          "width": 1
         },
         "mode": "lines",
         "name": "sentence-transformers_gtr-t5-base",
         "opacity": 0.5,
         "showlegend": true,
         "type": "scatter",
         "x": [
          2,
          3,
          4,
          5,
          6,
          7
         ],
         "y": [
          0.0017296545,
          0.0017018517,
          0.0016895598,
          0.0016803668,
          0.001704568,
          0.0016955025
         ]
        },
        {
         "legendgroup": "mixedbread-ai_mxbai-embed-large-v1",
         "legendgrouptitle": {
          "text": "From: mixedbread-ai_mxbai-embed-large-v1"
         },
         "line": {
          "width": 1
         },
         "mode": "lines",
         "name": "sentence-transformers_gtr-t5-large",
         "opacity": 0.5,
         "showlegend": true,
         "type": "scatter",
         "x": [
          2,
          3,
          4,
          5,
          6,
          7
         ],
         "y": [
          0.001718381,
          0.0017111708,
          0.0016871472,
          0.0017177626,
          0.0016995175,
          0.0016849884
         ]
        },
        {
         "legendgroup": "mixedbread-ai_mxbai-embed-large-v1",
         "legendgrouptitle": {
          "text": "From: mixedbread-ai_mxbai-embed-large-v1"
         },
         "line": {
          "width": 1
         },
         "mode": "lines",
         "name": "sentence-transformers_sentence-t5-base",
         "opacity": 0.5,
         "showlegend": true,
         "type": "scatter",
         "x": [
          2,
          3,
          4,
          5,
          6,
          7
         ],
         "y": [
          0.0017273523,
          0.0017059379,
          0.0017406683,
          0.0017111691,
          0.0016899671,
          0.0016396419
         ]
        },
        {
         "legendgroup": "mixedbread-ai_mxbai-embed-large-v1",
         "legendgrouptitle": {
          "text": "From: mixedbread-ai_mxbai-embed-large-v1"
         },
         "line": {
          "width": 1
         },
         "mode": "lines",
         "name": "sentence-transformers_sentence-t5-large",
         "opacity": 0.5,
         "showlegend": true,
         "type": "scatter",
         "x": [
          2,
          3,
          4,
          5,
          6,
          7
         ],
         "y": [
          0.0017181528,
          0.0017075171,
          0.001693888,
          0.001707809,
          0.0016410053,
          0.0016714
         ]
        },
        {
         "legendgroup": "mixedbread-ai_mxbai-embed-large-v1",
         "legendgrouptitle": {
          "text": "From: mixedbread-ai_mxbai-embed-large-v1"
         },
         "line": {
          "width": 1
         },
         "mode": "lines",
         "name": "openai_text-embedding-3-large",
         "opacity": 0.5,
         "showlegend": true,
         "type": "scatter",
         "x": [
          2,
          3,
          4,
          5,
          6,
          7
         ],
         "y": [
          0.0005417188,
          0.00047254164,
          0.00045890256,
          0.0004540554,
          0.00045479366,
          0.00045330296
         ]
        },
        {
         "legendgroup": "mixedbread-ai_mxbai-embed-large-v1",
         "legendgrouptitle": {
          "text": "From: mixedbread-ai_mxbai-embed-large-v1"
         },
         "line": {
          "width": 1
         },
         "mode": "lines",
         "name": "openai_text-embedding-3-small",
         "opacity": 0.5,
         "showlegend": true,
         "type": "scatter",
         "x": [
          2,
          3,
          4,
          5,
          6,
          7
         ],
         "y": [
          0.0009714405,
          0.00093201984,
          0.0009149452,
          0.0009215137,
          0.00090995285,
          0.0009094356
         ]
        },
        {
         "legendgroup": "sentence-transformers_sentence-t5-base",
         "legendgrouptitle": {
          "text": "From: sentence-transformers_sentence-t5-base"
         },
         "line": {
          "width": 1
         },
         "mode": "lines",
         "name": "WhereIsAI_UAE-Large-V1",
         "opacity": 0.5,
         "showlegend": true,
         "type": "scatter",
         "x": [
          2,
          3,
          4,
          5,
          6,
          7
         ],
         "y": [
          0.0014494485,
          0.0013710302,
          0.001366977,
          0.0013554703,
          0.001364748,
          0.0013582235
         ]
        },
        {
         "legendgroup": "sentence-transformers_sentence-t5-base",
         "legendgrouptitle": {
          "text": "From: sentence-transformers_sentence-t5-base"
         },
         "line": {
          "width": 1
         },
         "mode": "lines",
         "name": "BAAI_bge-base-en-v1.5",
         "opacity": 0.5,
         "showlegend": true,
         "type": "scatter",
         "x": [
          2,
          3,
          4,
          5,
          6,
          7
         ],
         "y": [
          0.0018712025,
          0.0018494463,
          0.0018468384,
          0.001837812,
          0.0018325779,
          0.0018100907
         ]
        },
        {
         "legendgroup": "sentence-transformers_sentence-t5-base",
         "legendgrouptitle": {
          "text": "From: sentence-transformers_sentence-t5-base"
         },
         "line": {
          "width": 1
         },
         "mode": "lines",
         "name": "BAAI_bge-large-en-v1.5",
         "opacity": 0.5,
         "showlegend": true,
         "type": "scatter",
         "x": [
          2,
          3,
          4,
          5,
          6,
          7
         ],
         "y": [
          0.001440951,
          0.0013737482,
          0.0013698391,
          0.00135154,
          0.0013581343,
          0.001358464
         ]
        },
        {
         "legendgroup": "sentence-transformers_sentence-t5-base",
         "legendgrouptitle": {
          "text": "From: sentence-transformers_sentence-t5-base"
         },
         "line": {
          "width": 1
         },
         "mode": "lines",
         "name": "BAAI_bge-small-en-v1.5",
         "opacity": 0.5,
         "showlegend": true,
         "type": "scatter",
         "x": [
          2,
          3,
          4,
          5,
          6,
          7
         ],
         "y": [
          0.0031815765,
          0.0031886473,
          0.0031312637,
          0.0031467665,
          0.003078771,
          0.0031050984
         ]
        },
        {
         "legendgroup": "sentence-transformers_sentence-t5-base",
         "legendgrouptitle": {
          "text": "From: sentence-transformers_sentence-t5-base"
         },
         "line": {
          "width": 1
         },
         "mode": "lines",
         "name": "intfloat_e5-base-v2",
         "opacity": 0.5,
         "showlegend": true,
         "type": "scatter",
         "x": [
          2,
          3,
          4,
          5,
          6,
          7
         ],
         "y": [
          0.0018669916,
          0.0018748451,
          0.0018355158,
          0.0018138443,
          0.0018363623,
          0.0018037484
         ]
        },
        {
         "legendgroup": "sentence-transformers_sentence-t5-base",
         "legendgrouptitle": {
          "text": "From: sentence-transformers_sentence-t5-base"
         },
         "line": {
          "width": 1
         },
         "mode": "lines",
         "name": "intfloat_e5-large-v2",
         "opacity": 0.5,
         "showlegend": true,
         "type": "scatter",
         "x": [
          2,
          3,
          4,
          5,
          6,
          7
         ],
         "y": [
          0.0014313384,
          0.0013973037,
          0.0013626666,
          0.0013717435,
          0.0013746563,
          0.0013728867
         ]
        },
        {
         "legendgroup": "sentence-transformers_sentence-t5-base",
         "legendgrouptitle": {
          "text": "From: sentence-transformers_sentence-t5-base"
         },
         "line": {
          "width": 1
         },
         "mode": "lines",
         "name": "intfloat_e5-small-v2",
         "opacity": 0.5,
         "showlegend": true,
         "type": "scatter",
         "x": [
          2,
          3,
          4,
          5,
          6,
          7
         ],
         "y": [
          0.0032049187,
          0.0032079937,
          0.0031476011,
          0.0031007314,
          0.0031406365,
          0.0031363005
         ]
        },
        {
         "legendgroup": "sentence-transformers_sentence-t5-base",
         "legendgrouptitle": {
          "text": "From: sentence-transformers_sentence-t5-base"
         },
         "line": {
          "width": 1
         },
         "mode": "lines",
         "name": "thenlper_gte-base",
         "opacity": 0.5,
         "showlegend": true,
         "type": "scatter",
         "x": [
          2,
          3,
          4,
          5,
          6,
          7
         ],
         "y": [
          0.0019263579,
          0.001848449,
          0.0018318173,
          0.0018511569,
          0.0018261758,
          0.0018186608
         ]
        },
        {
         "legendgroup": "sentence-transformers_sentence-t5-base",
         "legendgrouptitle": {
          "text": "From: sentence-transformers_sentence-t5-base"
         },
         "line": {
          "width": 1
         },
         "mode": "lines",
         "name": "thenlper_gte-large",
         "opacity": 0.5,
         "showlegend": true,
         "type": "scatter",
         "x": [
          2,
          3,
          4,
          5,
          6,
          7
         ],
         "y": [
          0.0014637375,
          0.001411776,
          0.0013498779,
          0.0013890906,
          0.0013700034,
          0.0013658818
         ]
        },
        {
         "legendgroup": "sentence-transformers_sentence-t5-base",
         "legendgrouptitle": {
          "text": "From: sentence-transformers_sentence-t5-base"
         },
         "line": {
          "width": 1
         },
         "mode": "lines",
         "name": "thenlper_gte-small",
         "opacity": 0.5,
         "showlegend": true,
         "type": "scatter",
         "x": [
          2,
          3,
          4,
          5,
          6,
          7
         ],
         "y": [
          0.0032222345,
          0.0031320772,
          0.00313655,
          0.0030796416,
          0.0030891486,
          0.0031377682
         ]
        },
        {
         "legendgroup": "sentence-transformers_sentence-t5-base",
         "legendgrouptitle": {
          "text": "From: sentence-transformers_sentence-t5-base"
         },
         "line": {
          "width": 1
         },
         "mode": "lines",
         "name": "sentence-transformers_gtr-t5-base",
         "opacity": 0.5,
         "showlegend": true,
         "type": "scatter",
         "x": [
          2,
          3,
          4,
          5,
          6,
          7
         ],
         "y": [
          0.0018833954,
          0.0018363404,
          0.0018577079,
          0.0018430986,
          0.0018160822,
          0.0018499963
         ]
        },
        {
         "legendgroup": "sentence-transformers_sentence-t5-base",
         "legendgrouptitle": {
          "text": "From: sentence-transformers_sentence-t5-base"
         },
         "line": {
          "width": 1
         },
         "mode": "lines",
         "name": "sentence-transformers_gtr-t5-large",
         "opacity": 0.5,
         "showlegend": true,
         "type": "scatter",
         "x": [
          2,
          3,
          4,
          5,
          6,
          7
         ],
         "y": [
          0.0019112496,
          0.0018458683,
          0.0018080227,
          0.0018326087,
          0.0018162344,
          0.0018392326
         ]
        },
        {
         "legendgroup": "sentence-transformers_sentence-t5-base",
         "legendgrouptitle": {
          "text": "From: sentence-transformers_sentence-t5-base"
         },
         "line": {
          "width": 1
         },
         "mode": "lines",
         "name": "mixedbread-ai_mxbai-embed-large-v1",
         "opacity": 0.5,
         "showlegend": true,
         "type": "scatter",
         "x": [
          2,
          3,
          4,
          5,
          6,
          7
         ],
         "y": [
          0.0014689062,
          0.00139298,
          0.001373089,
          0.0013774658,
          0.0013556913,
          0.0013649968
         ]
        },
        {
         "legendgroup": "sentence-transformers_sentence-t5-base",
         "legendgrouptitle": {
          "text": "From: sentence-transformers_sentence-t5-base"
         },
         "line": {
          "width": 1
         },
         "mode": "lines",
         "name": "sentence-transformers_sentence-t5-large",
         "opacity": 0.5,
         "showlegend": true,
         "type": "scatter",
         "x": [
          2,
          3,
          4,
          5,
          6,
          7
         ],
         "y": [
          0.0019048479,
          0.0017954075,
          0.0018164924,
          0.0018527927,
          0.0018460844,
          0.0018412241
         ]
        },
        {
         "legendgroup": "sentence-transformers_sentence-t5-base",
         "legendgrouptitle": {
          "text": "From: sentence-transformers_sentence-t5-base"
         },
         "line": {
          "width": 1
         },
         "mode": "lines",
         "name": "openai_text-embedding-3-large",
         "opacity": 0.5,
         "showlegend": true,
         "type": "scatter",
         "x": [
          2,
          3,
          4,
          5,
          6,
          7
         ],
         "y": [
          0.00058066926,
          0.00047641282,
          0.00046024748,
          0.00045594748,
          0.00045443725,
          0.00045853297
         ]
        },
        {
         "legendgroup": "sentence-transformers_sentence-t5-base",
         "legendgrouptitle": {
          "text": "From: sentence-transformers_sentence-t5-base"
         },
         "line": {
          "width": 1
         },
         "mode": "lines",
         "name": "openai_text-embedding-3-small",
         "opacity": 0.5,
         "showlegend": true,
         "type": "scatter",
         "x": [
          2,
          3,
          4,
          5,
          6,
          7
         ],
         "y": [
          0.0010162174,
          0.0009312038,
          0.00090152485,
          0.0009094603,
          0.000912802,
          0.000912379
         ]
        },
        {
         "legendgroup": "sentence-transformers_sentence-t5-large",
         "legendgrouptitle": {
          "text": "From: sentence-transformers_sentence-t5-large"
         },
         "line": {
          "width": 1
         },
         "mode": "lines",
         "name": "WhereIsAI_UAE-Large-V1",
         "opacity": 0.5,
         "showlegend": true,
         "type": "scatter",
         "x": [
          2,
          3,
          4,
          5,
          6,
          7
         ],
         "y": [
          0.0014295722,
          0.0013807582,
          0.0013651582,
          0.0013945351,
          0.0013653707,
          0.0013662027
         ]
        },
        {
         "legendgroup": "sentence-transformers_sentence-t5-large",
         "legendgrouptitle": {
          "text": "From: sentence-transformers_sentence-t5-large"
         },
         "line": {
          "width": 1
         },
         "mode": "lines",
         "name": "BAAI_bge-base-en-v1.5",
         "opacity": 0.5,
         "showlegend": true,
         "type": "scatter",
         "x": [
          2,
          3,
          4,
          5,
          6,
          7
         ],
         "y": [
          0.001872742,
          0.0018430548,
          0.0017892824,
          0.0018190984,
          0.0018288285,
          0.0018373331
         ]
        },
        {
         "legendgroup": "sentence-transformers_sentence-t5-large",
         "legendgrouptitle": {
          "text": "From: sentence-transformers_sentence-t5-large"
         },
         "line": {
          "width": 1
         },
         "mode": "lines",
         "name": "BAAI_bge-large-en-v1.5",
         "opacity": 0.5,
         "showlegend": true,
         "type": "scatter",
         "x": [
          2,
          3,
          4,
          5,
          6,
          7
         ],
         "y": [
          0.0014647101,
          0.0013879094,
          0.001388844,
          0.0013706036,
          0.0013665537,
          0.0013770169
         ]
        },
        {
         "legendgroup": "sentence-transformers_sentence-t5-large",
         "legendgrouptitle": {
          "text": "From: sentence-transformers_sentence-t5-large"
         },
         "line": {
          "width": 1
         },
         "mode": "lines",
         "name": "BAAI_bge-small-en-v1.5",
         "opacity": 0.5,
         "showlegend": true,
         "type": "scatter",
         "x": [
          2,
          3,
          4,
          5,
          6,
          7
         ],
         "y": [
          0.0031411694,
          0.0031948127,
          0.003042658,
          0.0032309461,
          0.0031191998,
          0.0030972762
         ]
        },
        {
         "legendgroup": "sentence-transformers_sentence-t5-large",
         "legendgrouptitle": {
          "text": "From: sentence-transformers_sentence-t5-large"
         },
         "line": {
          "width": 1
         },
         "mode": "lines",
         "name": "intfloat_e5-base-v2",
         "opacity": 0.5,
         "showlegend": true,
         "type": "scatter",
         "x": [
          2,
          3,
          4,
          5,
          6,
          7
         ],
         "y": [
          0.0018829796,
          0.0018287473,
          0.0017856816,
          0.0018342094,
          0.0018325909,
          0.0018344527
         ]
        },
        {
         "legendgroup": "sentence-transformers_sentence-t5-large",
         "legendgrouptitle": {
          "text": "From: sentence-transformers_sentence-t5-large"
         },
         "line": {
          "width": 1
         },
         "mode": "lines",
         "name": "intfloat_e5-large-v2",
         "opacity": 0.5,
         "showlegend": true,
         "type": "scatter",
         "x": [
          2,
          3,
          4,
          5,
          6,
          7
         ],
         "y": [
          0.0014469702,
          0.0013820528,
          0.0013548456,
          0.0013642487,
          0.001353539,
          0.0013595916
         ]
        },
        {
         "legendgroup": "sentence-transformers_sentence-t5-large",
         "legendgrouptitle": {
          "text": "From: sentence-transformers_sentence-t5-large"
         },
         "line": {
          "width": 1
         },
         "mode": "lines",
         "name": "intfloat_e5-small-v2",
         "opacity": 0.5,
         "showlegend": true,
         "type": "scatter",
         "x": [
          2,
          3,
          4,
          5,
          6,
          7
         ],
         "y": [
          0.0032108827,
          0.0031718407,
          0.0031137674,
          0.0031142961,
          0.0031484552,
          0.0031088453
         ]
        },
        {
         "legendgroup": "sentence-transformers_sentence-t5-large",
         "legendgrouptitle": {
          "text": "From: sentence-transformers_sentence-t5-large"
         },
         "line": {
          "width": 1
         },
         "mode": "lines",
         "name": "thenlper_gte-base",
         "opacity": 0.5,
         "showlegend": true,
         "type": "scatter",
         "x": [
          2,
          3,
          4,
          5,
          6,
          7
         ],
         "y": [
          0.0018798453,
          0.0018573081,
          0.0018174049,
          0.001808758,
          0.0018015612,
          0.0018476974
         ]
        },
        {
         "legendgroup": "sentence-transformers_sentence-t5-large",
         "legendgrouptitle": {
          "text": "From: sentence-transformers_sentence-t5-large"
         },
         "line": {
          "width": 1
         },
         "mode": "lines",
         "name": "thenlper_gte-large",
         "opacity": 0.5,
         "showlegend": true,
         "type": "scatter",
         "x": [
          2,
          3,
          4,
          5,
          6,
          7
         ],
         "y": [
          0.0014646519,
          0.0013858114,
          0.0013633426,
          0.0013755327,
          0.0013617026,
          0.001351884
         ]
        },
        {
         "legendgroup": "sentence-transformers_sentence-t5-large",
         "legendgrouptitle": {
          "text": "From: sentence-transformers_sentence-t5-large"
         },
         "line": {
          "width": 1
         },
         "mode": "lines",
         "name": "thenlper_gte-small",
         "opacity": 0.5,
         "showlegend": true,
         "type": "scatter",
         "x": [
          2,
          3,
          4,
          5,
          6,
          7
         ],
         "y": [
          0.0031932232,
          0.00307649,
          0.003083476,
          0.003078468,
          0.0030858703,
          0.0031306522
         ]
        },
        {
         "legendgroup": "sentence-transformers_sentence-t5-large",
         "legendgrouptitle": {
          "text": "From: sentence-transformers_sentence-t5-large"
         },
         "line": {
          "width": 1
         },
         "mode": "lines",
         "name": "sentence-transformers_gtr-t5-base",
         "opacity": 0.5,
         "showlegend": true,
         "type": "scatter",
         "x": [
          2,
          3,
          4,
          5,
          6,
          7
         ],
         "y": [
          0.001853444,
          0.0018450896,
          0.0018484915,
          0.0018192921,
          0.0018478819,
          0.0018283189
         ]
        },
        {
         "legendgroup": "sentence-transformers_sentence-t5-large",
         "legendgrouptitle": {
          "text": "From: sentence-transformers_sentence-t5-large"
         },
         "line": {
          "width": 1
         },
         "mode": "lines",
         "name": "sentence-transformers_gtr-t5-large",
         "opacity": 0.5,
         "showlegend": true,
         "type": "scatter",
         "x": [
          2,
          3,
          4,
          5,
          6,
          7
         ],
         "y": [
          0.0018977545,
          0.0018447442,
          0.0018879893,
          0.0018016072,
          0.0018466819,
          0.0018193576
         ]
        },
        {
         "legendgroup": "sentence-transformers_sentence-t5-large",
         "legendgrouptitle": {
          "text": "From: sentence-transformers_sentence-t5-large"
         },
         "line": {
          "width": 1
         },
         "mode": "lines",
         "name": "mixedbread-ai_mxbai-embed-large-v1",
         "opacity": 0.5,
         "showlegend": true,
         "type": "scatter",
         "x": [
          2,
          3,
          4,
          5,
          6,
          7
         ],
         "y": [
          0.001429476,
          0.0013740994,
          0.0013541408,
          0.0013434319,
          0.0013742707,
          0.0013612999
         ]
        },
        {
         "legendgroup": "sentence-transformers_sentence-t5-large",
         "legendgrouptitle": {
          "text": "From: sentence-transformers_sentence-t5-large"
         },
         "line": {
          "width": 1
         },
         "mode": "lines",
         "name": "sentence-transformers_sentence-t5-base",
         "opacity": 0.5,
         "showlegend": true,
         "type": "scatter",
         "x": [
          2,
          3,
          4,
          5,
          6,
          7
         ],
         "y": [
          0.0018764124,
          0.0018585026,
          0.0018318546,
          0.0018275492,
          0.0017849455,
          0.0017888177
         ]
        },
        {
         "legendgroup": "sentence-transformers_sentence-t5-large",
         "legendgrouptitle": {
          "text": "From: sentence-transformers_sentence-t5-large"
         },
         "line": {
          "width": 1
         },
         "mode": "lines",
         "name": "openai_text-embedding-3-large",
         "opacity": 0.5,
         "showlegend": true,
         "type": "scatter",
         "x": [
          2,
          3,
          4,
          5,
          6,
          7
         ],
         "y": [
          0.00057667104,
          0.00047298582,
          0.0004608781,
          0.00045495792,
          0.0004552037,
          0.00045540076
         ]
        },
        {
         "legendgroup": "sentence-transformers_sentence-t5-large",
         "legendgrouptitle": {
          "text": "From: sentence-transformers_sentence-t5-large"
         },
         "line": {
          "width": 1
         },
         "mode": "lines",
         "name": "openai_text-embedding-3-small",
         "opacity": 0.5,
         "showlegend": true,
         "type": "scatter",
         "x": [
          2,
          3,
          4,
          5,
          6,
          7
         ],
         "y": [
          0.0010122887,
          0.00092827744,
          0.00091166893,
          0.0009040499,
          0.0009149548,
          0.00089971797
         ]
        },
        {
         "legendgroup": "openai_text-embedding-3-large",
         "legendgrouptitle": {
          "text": "From: openai_text-embedding-3-large"
         },
         "line": {
          "width": 1
         },
         "mode": "lines",
         "name": "WhereIsAI_UAE-Large-V1",
         "opacity": 0.5,
         "showlegend": true,
         "type": "scatter",
         "x": [
          2,
          3,
          4,
          5,
          6,
          7
         ],
         "y": [
          0.0011128332,
          0.0011102286,
          0.0011030077,
          0.00110337,
          0.0011178593,
          0.0010963326
         ]
        },
        {
         "legendgroup": "openai_text-embedding-3-large",
         "legendgrouptitle": {
          "text": "From: openai_text-embedding-3-large"
         },
         "line": {
          "width": 1
         },
         "mode": "lines",
         "name": "BAAI_bge-base-en-v1.5",
         "opacity": 0.5,
         "showlegend": true,
         "type": "scatter",
         "x": [
          2,
          3,
          4,
          5,
          6,
          7
         ],
         "y": [
          0.0014418726,
          0.0014448669,
          0.0014403983,
          0.0014478235,
          0.0014258557,
          0.0014343428
         ]
        },
        {
         "legendgroup": "openai_text-embedding-3-large",
         "legendgrouptitle": {
          "text": "From: openai_text-embedding-3-large"
         },
         "line": {
          "width": 1
         },
         "mode": "lines",
         "name": "BAAI_bge-large-en-v1.5",
         "opacity": 0.5,
         "showlegend": true,
         "type": "scatter",
         "x": [
          2,
          3,
          4,
          5,
          6,
          7
         ],
         "y": [
          0.0011220154,
          0.0011072054,
          0.0011021143,
          0.0011024595,
          0.0010979694,
          0.0011172602
         ]
        },
        {
         "legendgroup": "openai_text-embedding-3-large",
         "legendgrouptitle": {
          "text": "From: openai_text-embedding-3-large"
         },
         "line": {
          "width": 1
         },
         "mode": "lines",
         "name": "BAAI_bge-small-en-v1.5",
         "opacity": 0.5,
         "showlegend": true,
         "type": "scatter",
         "x": [
          2,
          3,
          4,
          5,
          6,
          7
         ],
         "y": [
          0.0027272522,
          0.0027165723,
          0.0027225816,
          0.002722755,
          0.002732978,
          0.0027373238
         ]
        },
        {
         "legendgroup": "openai_text-embedding-3-large",
         "legendgrouptitle": {
          "text": "From: openai_text-embedding-3-large"
         },
         "line": {
          "width": 1
         },
         "mode": "lines",
         "name": "intfloat_e5-base-v2",
         "opacity": 0.5,
         "showlegend": true,
         "type": "scatter",
         "x": [
          2,
          3,
          4,
          5,
          6,
          7
         ],
         "y": [
          0.0014505624,
          0.0014417325,
          0.0014420437,
          0.0014160201,
          0.0014426563,
          0.0014250688
         ]
        },
        {
         "legendgroup": "openai_text-embedding-3-large",
         "legendgrouptitle": {
          "text": "From: openai_text-embedding-3-large"
         },
         "line": {
          "width": 1
         },
         "mode": "lines",
         "name": "intfloat_e5-large-v2",
         "opacity": 0.5,
         "showlegend": true,
         "type": "scatter",
         "x": [
          2,
          3,
          4,
          5,
          6,
          7
         ],
         "y": [
          0.00111744,
          0.0011260334,
          0.0011190556,
          0.0011048344,
          0.0010919236,
          0.001091655
         ]
        },
        {
         "legendgroup": "openai_text-embedding-3-large",
         "legendgrouptitle": {
          "text": "From: openai_text-embedding-3-large"
         },
         "line": {
          "width": 1
         },
         "mode": "lines",
         "name": "intfloat_e5-small-v2",
         "opacity": 0.5,
         "showlegend": true,
         "type": "scatter",
         "x": [
          2,
          3,
          4,
          5,
          6,
          7
         ],
         "y": [
          0.0027382765,
          0.0027380672,
          0.0027460966,
          0.002729486,
          0.002747358,
          0.002731151
         ]
        },
        {
         "legendgroup": "openai_text-embedding-3-large",
         "legendgrouptitle": {
          "text": "From: openai_text-embedding-3-large"
         },
         "line": {
          "width": 1
         },
         "mode": "lines",
         "name": "thenlper_gte-base",
         "opacity": 0.5,
         "showlegend": true,
         "type": "scatter",
         "x": [
          2,
          3,
          4,
          5,
          6,
          7
         ],
         "y": [
          0.0014500342,
          0.0014177792,
          0.0014178435,
          0.0014369343,
          0.001427123,
          0.0014218153
         ]
        },
        {
         "legendgroup": "openai_text-embedding-3-large",
         "legendgrouptitle": {
          "text": "From: openai_text-embedding-3-large"
         },
         "line": {
          "width": 1
         },
         "mode": "lines",
         "name": "thenlper_gte-large",
         "opacity": 0.5,
         "showlegend": true,
         "type": "scatter",
         "x": [
          2,
          3,
          4,
          5,
          6,
          7
         ],
         "y": [
          0.0011171767,
          0.0011116236,
          0.0010981052,
          0.0011115945,
          0.0010994273,
          0.0011164333
         ]
        },
        {
         "legendgroup": "openai_text-embedding-3-large",
         "legendgrouptitle": {
          "text": "From: openai_text-embedding-3-large"
         },
         "line": {
          "width": 1
         },
         "mode": "lines",
         "name": "thenlper_gte-small",
         "opacity": 0.5,
         "showlegend": true,
         "type": "scatter",
         "x": [
          2,
          3,
          4,
          5,
          6,
          7
         ],
         "y": [
          0.002761172,
          0.0027264205,
          0.0027493967,
          0.0026791885,
          0.0027323037,
          0.0026832402
         ]
        },
        {
         "legendgroup": "openai_text-embedding-3-large",
         "legendgrouptitle": {
          "text": "From: openai_text-embedding-3-large"
         },
         "line": {
          "width": 1
         },
         "mode": "lines",
         "name": "sentence-transformers_gtr-t5-base",
         "opacity": 0.5,
         "showlegend": true,
         "type": "scatter",
         "x": [
          2,
          3,
          4,
          5,
          6,
          7
         ],
         "y": [
          0.0014540771,
          0.0014463309,
          0.0014343448,
          0.001429807,
          0.0014487352,
          0.0014361594
         ]
        },
        {
         "legendgroup": "openai_text-embedding-3-large",
         "legendgrouptitle": {
          "text": "From: openai_text-embedding-3-large"
         },
         "line": {
          "width": 1
         },
         "mode": "lines",
         "name": "sentence-transformers_gtr-t5-large",
         "opacity": 0.5,
         "showlegend": true,
         "type": "scatter",
         "x": [
          2,
          3,
          4,
          5,
          6,
          7
         ],
         "y": [
          0.0014535077,
          0.0014383169,
          0.0014186744,
          0.0014260743,
          0.0014407965,
          0.0014240633
         ]
        },
        {
         "legendgroup": "openai_text-embedding-3-large",
         "legendgrouptitle": {
          "text": "From: openai_text-embedding-3-large"
         },
         "line": {
          "width": 1
         },
         "mode": "lines",
         "name": "mixedbread-ai_mxbai-embed-large-v1",
         "opacity": 0.5,
         "showlegend": true,
         "type": "scatter",
         "x": [
          2,
          3,
          4,
          5,
          6,
          7
         ],
         "y": [
          0.0011315433,
          0.0011054532,
          0.0011094635,
          0.0011157175,
          0.001110482,
          0.0011072302
         ]
        },
        {
         "legendgroup": "openai_text-embedding-3-large",
         "legendgrouptitle": {
          "text": "From: openai_text-embedding-3-large"
         },
         "line": {
          "width": 1
         },
         "mode": "lines",
         "name": "sentence-transformers_sentence-t5-base",
         "opacity": 0.5,
         "showlegend": true,
         "type": "scatter",
         "x": [
          2,
          3,
          4,
          5,
          6,
          7
         ],
         "y": [
          0.0014586953,
          0.001461146,
          0.0014361608,
          0.0014250103,
          0.0014274446,
          0.0014143392
         ]
        },
        {
         "legendgroup": "openai_text-embedding-3-large",
         "legendgrouptitle": {
          "text": "From: openai_text-embedding-3-large"
         },
         "line": {
          "width": 1
         },
         "mode": "lines",
         "name": "sentence-transformers_sentence-t5-large",
         "opacity": 0.5,
         "showlegend": true,
         "type": "scatter",
         "x": [
          2,
          3,
          4,
          5,
          6,
          7
         ],
         "y": [
          0.0014668228,
          0.001452495,
          0.0014186017,
          0.0014201986,
          0.0014193676,
          0.0014245156
         ]
        },
        {
         "legendgroup": "openai_text-embedding-3-large",
         "legendgrouptitle": {
          "text": "From: openai_text-embedding-3-large"
         },
         "line": {
          "width": 1
         },
         "mode": "lines",
         "name": "openai_text-embedding-3-small",
         "opacity": 0.5,
         "showlegend": true,
         "type": "scatter",
         "x": [
          2,
          3,
          4,
          5,
          6,
          7
         ],
         "y": [
          0.0007944897,
          0.000785396,
          0.00078252336,
          0.00077709416,
          0.00078064617,
          0.000777489
         ]
        },
        {
         "legendgroup": "openai_text-embedding-3-small",
         "legendgrouptitle": {
          "text": "From: openai_text-embedding-3-small"
         },
         "line": {
          "width": 1
         },
         "mode": "lines",
         "name": "WhereIsAI_UAE-Large-V1",
         "opacity": 0.5,
         "showlegend": true,
         "type": "scatter",
         "x": [
          2,
          3,
          4,
          5,
          6,
          7
         ],
         "y": [
          0.001259128,
          0.0012252596,
          0.0012587552,
          0.0012435118,
          0.0012452082,
          0.001231007
         ]
        },
        {
         "legendgroup": "openai_text-embedding-3-small",
         "legendgrouptitle": {
          "text": "From: openai_text-embedding-3-small"
         },
         "line": {
          "width": 1
         },
         "mode": "lines",
         "name": "BAAI_bge-base-en-v1.5",
         "opacity": 0.5,
         "showlegend": true,
         "type": "scatter",
         "x": [
          2,
          3,
          4,
          5,
          6,
          7
         ],
         "y": [
          0.0015859663,
          0.0015801649,
          0.001581974,
          0.0015703993,
          0.0015480233,
          0.0015455749
         ]
        },
        {
         "legendgroup": "openai_text-embedding-3-small",
         "legendgrouptitle": {
          "text": "From: openai_text-embedding-3-small"
         },
         "line": {
          "width": 1
         },
         "mode": "lines",
         "name": "BAAI_bge-large-en-v1.5",
         "opacity": 0.5,
         "showlegend": true,
         "type": "scatter",
         "x": [
          2,
          3,
          4,
          5,
          6,
          7
         ],
         "y": [
          0.001259708,
          0.0012523144,
          0.0012589913,
          0.0012253143,
          0.0012398016,
          0.0012445854
         ]
        },
        {
         "legendgroup": "openai_text-embedding-3-small",
         "legendgrouptitle": {
          "text": "From: openai_text-embedding-3-small"
         },
         "line": {
          "width": 1
         },
         "mode": "lines",
         "name": "BAAI_bge-small-en-v1.5",
         "opacity": 0.5,
         "showlegend": true,
         "type": "scatter",
         "x": [
          2,
          3,
          4,
          5,
          6,
          7
         ],
         "y": [
          0.0029082082,
          0.0028560453,
          0.0029022556,
          0.0028736556,
          0.0028660607,
          0.0028265927
         ]
        },
        {
         "legendgroup": "openai_text-embedding-3-small",
         "legendgrouptitle": {
          "text": "From: openai_text-embedding-3-small"
         },
         "line": {
          "width": 1
         },
         "mode": "lines",
         "name": "intfloat_e5-base-v2",
         "opacity": 0.5,
         "showlegend": true,
         "type": "scatter",
         "x": [
          2,
          3,
          4,
          5,
          6,
          7
         ],
         "y": [
          0.0015964833,
          0.0015499593,
          0.0015768752,
          0.0015456242,
          0.001579859,
          0.0015410116
         ]
        },
        {
         "legendgroup": "openai_text-embedding-3-small",
         "legendgrouptitle": {
          "text": "From: openai_text-embedding-3-small"
         },
         "line": {
          "width": 1
         },
         "mode": "lines",
         "name": "intfloat_e5-large-v2",
         "opacity": 0.5,
         "showlegend": true,
         "type": "scatter",
         "x": [
          2,
          3,
          4,
          5,
          6,
          7
         ],
         "y": [
          0.0012645026,
          0.001252185,
          0.0012277557,
          0.0012405842,
          0.0012530796,
          0.0012381515
         ]
        },
        {
         "legendgroup": "openai_text-embedding-3-small",
         "legendgrouptitle": {
          "text": "From: openai_text-embedding-3-small"
         },
         "line": {
          "width": 1
         },
         "mode": "lines",
         "name": "intfloat_e5-small-v2",
         "opacity": 0.5,
         "showlegend": true,
         "type": "scatter",
         "x": [
          2,
          3,
          4,
          5,
          6,
          7
         ],
         "y": [
          0.0028614446,
          0.002842562,
          0.0028720712,
          0.0028640416,
          0.0028954998,
          0.00289638
         ]
        },
        {
         "legendgroup": "openai_text-embedding-3-small",
         "legendgrouptitle": {
          "text": "From: openai_text-embedding-3-small"
         },
         "line": {
          "width": 1
         },
         "mode": "lines",
         "name": "thenlper_gte-base",
         "opacity": 0.5,
         "showlegend": true,
         "type": "scatter",
         "x": [
          2,
          3,
          4,
          5,
          6,
          7
         ],
         "y": [
          0.0015744357,
          0.001537935,
          0.0015633778,
          0.0015875036,
          0.0015647953,
          0.0015519169
         ]
        },
        {
         "legendgroup": "openai_text-embedding-3-small",
         "legendgrouptitle": {
          "text": "From: openai_text-embedding-3-small"
         },
         "line": {
          "width": 1
         },
         "mode": "lines",
         "name": "thenlper_gte-large",
         "opacity": 0.5,
         "showlegend": true,
         "type": "scatter",
         "x": [
          2,
          3,
          4,
          5,
          6,
          7
         ],
         "y": [
          0.0012462937,
          0.0012373955,
          0.001235651,
          0.0012371737,
          0.0012263926,
          0.0012460821
         ]
        },
        {
         "legendgroup": "openai_text-embedding-3-small",
         "legendgrouptitle": {
          "text": "From: openai_text-embedding-3-small"
         },
         "line": {
          "width": 1
         },
         "mode": "lines",
         "name": "thenlper_gte-small",
         "opacity": 0.5,
         "showlegend": true,
         "type": "scatter",
         "x": [
          2,
          3,
          4,
          5,
          6,
          7
         ],
         "y": [
          0.0029062408,
          0.002871154,
          0.002860904,
          0.0028877517,
          0.0028087317,
          0.0028336782
         ]
        },
        {
         "legendgroup": "openai_text-embedding-3-small",
         "legendgrouptitle": {
          "text": "From: openai_text-embedding-3-small"
         },
         "line": {
          "width": 1
         },
         "mode": "lines",
         "name": "sentence-transformers_gtr-t5-base",
         "opacity": 0.5,
         "showlegend": true,
         "type": "scatter",
         "x": [
          2,
          3,
          4,
          5,
          6,
          7
         ],
         "y": [
          0.0015901886,
          0.0015674342,
          0.0015292171,
          0.0015586885,
          0.0015457006,
          0.0015785269
         ]
        },
        {
         "legendgroup": "openai_text-embedding-3-small",
         "legendgrouptitle": {
          "text": "From: openai_text-embedding-3-small"
         },
         "line": {
          "width": 1
         },
         "mode": "lines",
         "name": "sentence-transformers_gtr-t5-large",
         "opacity": 0.5,
         "showlegend": true,
         "type": "scatter",
         "x": [
          2,
          3,
          4,
          5,
          6,
          7
         ],
         "y": [
          0.0015871943,
          0.0015670233,
          0.0015487899,
          0.0015663271,
          0.0015550443,
          0.001567786
         ]
        },
        {
         "legendgroup": "openai_text-embedding-3-small",
         "legendgrouptitle": {
          "text": "From: openai_text-embedding-3-small"
         },
         "line": {
          "width": 1
         },
         "mode": "lines",
         "name": "mixedbread-ai_mxbai-embed-large-v1",
         "opacity": 0.5,
         "showlegend": true,
         "type": "scatter",
         "x": [
          2,
          3,
          4,
          5,
          6,
          7
         ],
         "y": [
          0.0012866324,
          0.0012466534,
          0.0012311675,
          0.0012434301,
          0.0012232806,
          0.0012254716
         ]
        },
        {
         "legendgroup": "openai_text-embedding-3-small",
         "legendgrouptitle": {
          "text": "From: openai_text-embedding-3-small"
         },
         "line": {
          "width": 1
         },
         "mode": "lines",
         "name": "sentence-transformers_sentence-t5-base",
         "opacity": 0.5,
         "showlegend": true,
         "type": "scatter",
         "x": [
          2,
          3,
          4,
          5,
          6,
          7
         ],
         "y": [
          0.0015884895,
          0.0015677408,
          0.0015912148,
          0.0015768339,
          0.0015685972,
          0.0015657359
         ]
        },
        {
         "legendgroup": "openai_text-embedding-3-small",
         "legendgrouptitle": {
          "text": "From: openai_text-embedding-3-small"
         },
         "line": {
          "width": 1
         },
         "mode": "lines",
         "name": "sentence-transformers_sentence-t5-large",
         "opacity": 0.5,
         "showlegend": true,
         "type": "scatter",
         "x": [
          2,
          3,
          4,
          5,
          6,
          7
         ],
         "y": [
          0.0015655658,
          0.0015288371,
          0.0015564841,
          0.0015562195,
          0.001567827,
          0.0015495619
         ]
        },
        {
         "legendgroup": "openai_text-embedding-3-small",
         "legendgrouptitle": {
          "text": "From: openai_text-embedding-3-small"
         },
         "line": {
          "width": 1
         },
         "mode": "lines",
         "name": "openai_text-embedding-3-large",
         "opacity": 0.5,
         "showlegend": true,
         "type": "scatter",
         "x": [
          2,
          3,
          4,
          5,
          6,
          7
         ],
         "y": [
          0.00050703983,
          0.00046405825,
          0.0004552937,
          0.00045229905,
          0.00045453652,
          0.0004544392
         ]
        }
       ],
       "layout": {
        "height": 600,
        "legend": {
         "font": {
          "size": 7
         },
         "groupclick": "toggleitem"
        },
        "showlegend": true,
        "template": {
         "data": {
          "bar": [
           {
            "error_x": {
             "color": "#2a3f5f"
            },
            "error_y": {
             "color": "#2a3f5f"
            },
            "marker": {
             "line": {
              "color": "white",
              "width": 0.5
             },
             "pattern": {
              "fillmode": "overlay",
              "size": 10,
              "solidity": 0.2
             }
            },
            "type": "bar"
           }
          ],
          "barpolar": [
           {
            "marker": {
             "line": {
              "color": "white",
              "width": 0.5
             },
             "pattern": {
              "fillmode": "overlay",
              "size": 10,
              "solidity": 0.2
             }
            },
            "type": "barpolar"
           }
          ],
          "carpet": [
           {
            "aaxis": {
             "endlinecolor": "#2a3f5f",
             "gridcolor": "#C8D4E3",
             "linecolor": "#C8D4E3",
             "minorgridcolor": "#C8D4E3",
             "startlinecolor": "#2a3f5f"
            },
            "baxis": {
             "endlinecolor": "#2a3f5f",
             "gridcolor": "#C8D4E3",
             "linecolor": "#C8D4E3",
             "minorgridcolor": "#C8D4E3",
             "startlinecolor": "#2a3f5f"
            },
            "type": "carpet"
           }
          ],
          "choropleth": [
           {
            "colorbar": {
             "outlinewidth": 0,
             "ticks": ""
            },
            "type": "choropleth"
           }
          ],
          "contour": [
           {
            "colorbar": {
             "outlinewidth": 0,
             "ticks": ""
            },
            "colorscale": [
             [
              0,
              "#0d0887"
             ],
             [
              0.1111111111111111,
              "#46039f"
             ],
             [
              0.2222222222222222,
              "#7201a8"
             ],
             [
              0.3333333333333333,
              "#9c179e"
             ],
             [
              0.4444444444444444,
              "#bd3786"
             ],
             [
              0.5555555555555556,
              "#d8576b"
             ],
             [
              0.6666666666666666,
              "#ed7953"
             ],
             [
              0.7777777777777778,
              "#fb9f3a"
             ],
             [
              0.8888888888888888,
              "#fdca26"
             ],
             [
              1,
              "#f0f921"
             ]
            ],
            "type": "contour"
           }
          ],
          "contourcarpet": [
           {
            "colorbar": {
             "outlinewidth": 0,
             "ticks": ""
            },
            "type": "contourcarpet"
           }
          ],
          "heatmap": [
           {
            "colorbar": {
             "outlinewidth": 0,
             "ticks": ""
            },
            "colorscale": [
             [
              0,
              "#0d0887"
             ],
             [
              0.1111111111111111,
              "#46039f"
             ],
             [
              0.2222222222222222,
              "#7201a8"
             ],
             [
              0.3333333333333333,
              "#9c179e"
             ],
             [
              0.4444444444444444,
              "#bd3786"
             ],
             [
              0.5555555555555556,
              "#d8576b"
             ],
             [
              0.6666666666666666,
              "#ed7953"
             ],
             [
              0.7777777777777778,
              "#fb9f3a"
             ],
             [
              0.8888888888888888,
              "#fdca26"
             ],
             [
              1,
              "#f0f921"
             ]
            ],
            "type": "heatmap"
           }
          ],
          "heatmapgl": [
           {
            "colorbar": {
             "outlinewidth": 0,
             "ticks": ""
            },
            "colorscale": [
             [
              0,
              "#0d0887"
             ],
             [
              0.1111111111111111,
              "#46039f"
             ],
             [
              0.2222222222222222,
              "#7201a8"
             ],
             [
              0.3333333333333333,
              "#9c179e"
             ],
             [
              0.4444444444444444,
              "#bd3786"
             ],
             [
              0.5555555555555556,
              "#d8576b"
             ],
             [
              0.6666666666666666,
              "#ed7953"
             ],
             [
              0.7777777777777778,
              "#fb9f3a"
             ],
             [
              0.8888888888888888,
              "#fdca26"
             ],
             [
              1,
              "#f0f921"
             ]
            ],
            "type": "heatmapgl"
           }
          ],
          "histogram": [
           {
            "marker": {
             "pattern": {
              "fillmode": "overlay",
              "size": 10,
              "solidity": 0.2
             }
            },
            "type": "histogram"
           }
          ],
          "histogram2d": [
           {
            "colorbar": {
             "outlinewidth": 0,
             "ticks": ""
            },
            "colorscale": [
             [
              0,
              "#0d0887"
             ],
             [
              0.1111111111111111,
              "#46039f"
             ],
             [
              0.2222222222222222,
              "#7201a8"
             ],
             [
              0.3333333333333333,
              "#9c179e"
             ],
             [
              0.4444444444444444,
              "#bd3786"
             ],
             [
              0.5555555555555556,
              "#d8576b"
             ],
             [
              0.6666666666666666,
              "#ed7953"
             ],
             [
              0.7777777777777778,
              "#fb9f3a"
             ],
             [
              0.8888888888888888,
              "#fdca26"
             ],
             [
              1,
              "#f0f921"
             ]
            ],
            "type": "histogram2d"
           }
          ],
          "histogram2dcontour": [
           {
            "colorbar": {
             "outlinewidth": 0,
             "ticks": ""
            },
            "colorscale": [
             [
              0,
              "#0d0887"
             ],
             [
              0.1111111111111111,
              "#46039f"
             ],
             [
              0.2222222222222222,
              "#7201a8"
             ],
             [
              0.3333333333333333,
              "#9c179e"
             ],
             [
              0.4444444444444444,
              "#bd3786"
             ],
             [
              0.5555555555555556,
              "#d8576b"
             ],
             [
              0.6666666666666666,
              "#ed7953"
             ],
             [
              0.7777777777777778,
              "#fb9f3a"
             ],
             [
              0.8888888888888888,
              "#fdca26"
             ],
             [
              1,
              "#f0f921"
             ]
            ],
            "type": "histogram2dcontour"
           }
          ],
          "mesh3d": [
           {
            "colorbar": {
             "outlinewidth": 0,
             "ticks": ""
            },
            "type": "mesh3d"
           }
          ],
          "parcoords": [
           {
            "line": {
             "colorbar": {
              "outlinewidth": 0,
              "ticks": ""
             }
            },
            "type": "parcoords"
           }
          ],
          "pie": [
           {
            "automargin": true,
            "type": "pie"
           }
          ],
          "scatter": [
           {
            "fillpattern": {
             "fillmode": "overlay",
             "size": 10,
             "solidity": 0.2
            },
            "type": "scatter"
           }
          ],
          "scatter3d": [
           {
            "line": {
             "colorbar": {
              "outlinewidth": 0,
              "ticks": ""
             }
            },
            "marker": {
             "colorbar": {
              "outlinewidth": 0,
              "ticks": ""
             }
            },
            "type": "scatter3d"
           }
          ],
          "scattercarpet": [
           {
            "marker": {
             "colorbar": {
              "outlinewidth": 0,
              "ticks": ""
             }
            },
            "type": "scattercarpet"
           }
          ],
          "scattergeo": [
           {
            "marker": {
             "colorbar": {
              "outlinewidth": 0,
              "ticks": ""
             }
            },
            "type": "scattergeo"
           }
          ],
          "scattergl": [
           {
            "marker": {
             "colorbar": {
              "outlinewidth": 0,
              "ticks": ""
             }
            },
            "type": "scattergl"
           }
          ],
          "scattermapbox": [
           {
            "marker": {
             "colorbar": {
              "outlinewidth": 0,
              "ticks": ""
             }
            },
            "type": "scattermapbox"
           }
          ],
          "scatterpolar": [
           {
            "marker": {
             "colorbar": {
              "outlinewidth": 0,
              "ticks": ""
             }
            },
            "type": "scatterpolar"
           }
          ],
          "scatterpolargl": [
           {
            "marker": {
             "colorbar": {
              "outlinewidth": 0,
              "ticks": ""
             }
            },
            "type": "scatterpolargl"
           }
          ],
          "scatterternary": [
           {
            "marker": {
             "colorbar": {
              "outlinewidth": 0,
              "ticks": ""
             }
            },
            "type": "scatterternary"
           }
          ],
          "surface": [
           {
            "colorbar": {
             "outlinewidth": 0,
             "ticks": ""
            },
            "colorscale": [
             [
              0,
              "#0d0887"
             ],
             [
              0.1111111111111111,
              "#46039f"
             ],
             [
              0.2222222222222222,
              "#7201a8"
             ],
             [
              0.3333333333333333,
              "#9c179e"
             ],
             [
              0.4444444444444444,
              "#bd3786"
             ],
             [
              0.5555555555555556,
              "#d8576b"
             ],
             [
              0.6666666666666666,
              "#ed7953"
             ],
             [
              0.7777777777777778,
              "#fb9f3a"
             ],
             [
              0.8888888888888888,
              "#fdca26"
             ],
             [
              1,
              "#f0f921"
             ]
            ],
            "type": "surface"
           }
          ],
          "table": [
           {
            "cells": {
             "fill": {
              "color": "#EBF0F8"
             },
             "line": {
              "color": "white"
             }
            },
            "header": {
             "fill": {
              "color": "#C8D4E3"
             },
             "line": {
              "color": "white"
             }
            },
            "type": "table"
           }
          ]
         },
         "layout": {
          "annotationdefaults": {
           "arrowcolor": "#2a3f5f",
           "arrowhead": 0,
           "arrowwidth": 1
          },
          "autotypenumbers": "strict",
          "coloraxis": {
           "colorbar": {
            "outlinewidth": 0,
            "ticks": ""
           }
          },
          "colorscale": {
           "diverging": [
            [
             0,
             "#8e0152"
            ],
            [
             0.1,
             "#c51b7d"
            ],
            [
             0.2,
             "#de77ae"
            ],
            [
             0.3,
             "#f1b6da"
            ],
            [
             0.4,
             "#fde0ef"
            ],
            [
             0.5,
             "#f7f7f7"
            ],
            [
             0.6,
             "#e6f5d0"
            ],
            [
             0.7,
             "#b8e186"
            ],
            [
             0.8,
             "#7fbc41"
            ],
            [
             0.9,
             "#4d9221"
            ],
            [
             1,
             "#276419"
            ]
           ],
           "sequential": [
            [
             0,
             "#0d0887"
            ],
            [
             0.1111111111111111,
             "#46039f"
            ],
            [
             0.2222222222222222,
             "#7201a8"
            ],
            [
             0.3333333333333333,
             "#9c179e"
            ],
            [
             0.4444444444444444,
             "#bd3786"
            ],
            [
             0.5555555555555556,
             "#d8576b"
            ],
            [
             0.6666666666666666,
             "#ed7953"
            ],
            [
             0.7777777777777778,
             "#fb9f3a"
            ],
            [
             0.8888888888888888,
             "#fdca26"
            ],
            [
             1,
             "#f0f921"
            ]
           ],
           "sequentialminus": [
            [
             0,
             "#0d0887"
            ],
            [
             0.1111111111111111,
             "#46039f"
            ],
            [
             0.2222222222222222,
             "#7201a8"
            ],
            [
             0.3333333333333333,
             "#9c179e"
            ],
            [
             0.4444444444444444,
             "#bd3786"
            ],
            [
             0.5555555555555556,
             "#d8576b"
            ],
            [
             0.6666666666666666,
             "#ed7953"
            ],
            [
             0.7777777777777778,
             "#fb9f3a"
            ],
            [
             0.8888888888888888,
             "#fdca26"
            ],
            [
             1,
             "#f0f921"
            ]
           ]
          },
          "colorway": [
           "#636efa",
           "#EF553B",
           "#00cc96",
           "#ab63fa",
           "#FFA15A",
           "#19d3f3",
           "#FF6692",
           "#B6E880",
           "#FF97FF",
           "#FECB52"
          ],
          "font": {
           "color": "#2a3f5f"
          },
          "geo": {
           "bgcolor": "white",
           "lakecolor": "white",
           "landcolor": "white",
           "showlakes": true,
           "showland": true,
           "subunitcolor": "#C8D4E3"
          },
          "hoverlabel": {
           "align": "left"
          },
          "hovermode": "closest",
          "mapbox": {
           "style": "light"
          },
          "paper_bgcolor": "white",
          "plot_bgcolor": "white",
          "polar": {
           "angularaxis": {
            "gridcolor": "#EBF0F8",
            "linecolor": "#EBF0F8",
            "ticks": ""
           },
           "bgcolor": "white",
           "radialaxis": {
            "gridcolor": "#EBF0F8",
            "linecolor": "#EBF0F8",
            "ticks": ""
           }
          },
          "scene": {
           "xaxis": {
            "backgroundcolor": "white",
            "gridcolor": "#DFE8F3",
            "gridwidth": 2,
            "linecolor": "#EBF0F8",
            "showbackground": true,
            "ticks": "",
            "zerolinecolor": "#EBF0F8"
           },
           "yaxis": {
            "backgroundcolor": "white",
            "gridcolor": "#DFE8F3",
            "gridwidth": 2,
            "linecolor": "#EBF0F8",
            "showbackground": true,
            "ticks": "",
            "zerolinecolor": "#EBF0F8"
           },
           "zaxis": {
            "backgroundcolor": "white",
            "gridcolor": "#DFE8F3",
            "gridwidth": 2,
            "linecolor": "#EBF0F8",
            "showbackground": true,
            "ticks": "",
            "zerolinecolor": "#EBF0F8"
           }
          },
          "shapedefaults": {
           "line": {
            "color": "#2a3f5f"
           }
          },
          "ternary": {
           "aaxis": {
            "gridcolor": "#DFE8F3",
            "linecolor": "#A2B1C6",
            "ticks": ""
           },
           "baxis": {
            "gridcolor": "#DFE8F3",
            "linecolor": "#A2B1C6",
            "ticks": ""
           },
           "bgcolor": "white",
           "caxis": {
            "gridcolor": "#DFE8F3",
            "linecolor": "#A2B1C6",
            "ticks": ""
           }
          },
          "title": {
           "x": 0.05
          },
          "xaxis": {
           "automargin": true,
           "gridcolor": "#EBF0F8",
           "linecolor": "#EBF0F8",
           "ticks": "",
           "title": {
            "standoff": 15
           },
           "zerolinecolor": "#EBF0F8",
           "zerolinewidth": 2
          },
          "yaxis": {
           "automargin": true,
           "gridcolor": "#EBF0F8",
           "linecolor": "#EBF0F8",
           "ticks": "",
           "title": {
            "standoff": 15
           },
           "zerolinecolor": "#EBF0F8",
           "zerolinewidth": 2
          }
         }
        },
        "title": {
         "text": "MSE vs Number of Layers for All Model Pairs"
        },
        "width": 1000,
        "xaxis": {
         "gridcolor": "LightGray",
         "gridwidth": 1,
         "showgrid": true,
         "title": {
          "text": "Number of Layers"
         }
        },
        "yaxis": {
         "gridcolor": "LightGray",
         "gridwidth": 1,
         "showgrid": true,
         "title": {
          "text": "MSE"
         },
         "type": "log"
        }
       }
      }
     },
     "metadata": {},
     "output_type": "display_data"
    }
   ],
   "source": [
    "# Create figure\n",
    "fig = go.Figure()\n",
    "\n",
    "# Get model labels for the legend\n",
    "model_labels = sorted(meta[\"model2idx\"], key=lambda k: meta[\"model2idx\"][k])\n",
    "\n",
    "# Create traces grouped by source model\n",
    "for i in range(17):\n",
    "    # Create a legendgroup for each source model\n",
    "    legendgroup = model_labels[i]\n",
    "\n",
    "    for j in range(17):\n",
    "        if i != j:  # Skip diagonal entries since they're NaN\n",
    "            y_values = average_validation_mse[i, j, :]\n",
    "            fig.add_trace(\n",
    "                go.Scatter(\n",
    "                    x=x_values,\n",
    "                    y=y_values,\n",
    "                    mode=\"lines\",\n",
    "                    name=f\"{model_labels[j]}\",  # Only show target model in name\n",
    "                    legendgroup=legendgroup,  # Group by source model\n",
    "                    legendgrouptitle_text=f\"From: {legendgroup}\",  # Add group title\n",
    "                    showlegend=True,  # Show all traces in legend\n",
    "                    line=dict(width=1),\n",
    "                    opacity=0.5,\n",
    "                )\n",
    "            )\n",
    "\n",
    "# Update layout with smaller legend text and grouping\n",
    "fig.update_layout(\n",
    "    title=\"MSE vs Number of Layers for All Model Pairs\",\n",
    "    xaxis_title=\"Number of Layers\",\n",
    "    yaxis_title=\"MSE\",\n",
    "    width=1000,\n",
    "    height=600,\n",
    "    showlegend=True,\n",
    "    yaxis_type=\"log\",\n",
    "    legend=dict(font=dict(size=7), groupclick=\"toggleitem\"),\n",
    ")\n",
    "\n",
    "# Add gridlines\n",
    "fig.update_xaxes(showgrid=True, gridwidth=1, gridcolor=\"LightGray\")\n",
    "fig.update_yaxes(showgrid=True, gridwidth=1, gridcolor=\"LightGray\")\n",
    "\n",
    "# Show figure\n",
    "fig"
   ]
  },
  {
   "cell_type": "code",
   "execution_count": 81,
   "metadata": {},
   "outputs": [
    {
     "name": "stdout",
     "output_type": "stream",
     "text": [
      "\u001b[2;36m[12/13/24 20:37:17]\u001b[0m\u001b[2;36m \u001b[0m\u001b[1;34mINFO    \u001b[0m\u001b[1;32m \u001b[0m Saving HTML figure to            \u001b]8;id=526655;file:///Users/gat/work/FA2024/embedding_translation/src/viz/save_figure.py\u001b\\\u001b[1;36msave_figure.py\u001b[0m\u001b]8;;\u001b\\\u001b[1;36m:\u001b[0m\u001b]8;id=624328;file:///Users/gat/work/FA2024/embedding_translation/src/viz/save_figure.py#32\u001b\\\u001b[1;36m32\u001b[0m\u001b]8;;\u001b\\\n",
      "\u001b[2;36m                    \u001b[0m\u001b[1;32m         \u001b[0m\u001b[35m/Users/gat/work/FA2024/embedding_\u001b[0m \u001b[1;36m                 \u001b[0m\n",
      "\u001b[2;36m                    \u001b[0m\u001b[1;32m         \u001b[0m\u001b[35mtranslation/data/figs/html/\u001b[0m\u001b[95mmse_vs\u001b[0m \u001b[1;36m                 \u001b[0m\n",
      "\u001b[2;36m                    \u001b[0m\u001b[1;32m         \u001b[0m\u001b[95m_layers_all_pairs.html\u001b[0m            \u001b[1;36m                 \u001b[0m\n",
      "\u001b[2;36m                   \u001b[0m\u001b[2;36m \u001b[0m\u001b[1;32mSUCCESS \u001b[0m\u001b[1;32m \u001b[0m Successfully saved HTML to       \u001b]8;id=730259;file:///Users/gat/work/FA2024/embedding_translation/src/viz/save_figure.py\u001b\\\u001b[1;36msave_figure.py\u001b[0m\u001b]8;;\u001b\\\u001b[1;36m:\u001b[0m\u001b]8;id=550151;file:///Users/gat/work/FA2024/embedding_translation/src/viz/save_figure.py#40\u001b\\\u001b[1;36m40\u001b[0m\u001b]8;;\u001b\\\n",
      "\u001b[2;36m                    \u001b[0m\u001b[1;32m         \u001b[0m\u001b[35m/Users/gat/work/FA2024/embedding_\u001b[0m \u001b[1;36m                 \u001b[0m\n",
      "\u001b[2;36m                    \u001b[0m\u001b[1;32m         \u001b[0m\u001b[35mtranslation/data/figs/html/\u001b[0m\u001b[95mmse_vs\u001b[0m \u001b[1;36m                 \u001b[0m\n",
      "\u001b[2;36m                    \u001b[0m\u001b[1;32m         \u001b[0m\u001b[95m_layers_all_pairs.html\u001b[0m            \u001b[1;36m                 \u001b[0m\n",
      "\u001b[2;36m                   \u001b[0m\u001b[2;36m \u001b[0m\u001b[1;34mINFO    \u001b[0m\u001b[1;32m \u001b[0m Saving PNG figure to             \u001b]8;id=265429;file:///Users/gat/work/FA2024/embedding_translation/src/viz/save_figure.py\u001b\\\u001b[1;36msave_figure.py\u001b[0m\u001b]8;;\u001b\\\u001b[1;36m:\u001b[0m\u001b]8;id=133355;file:///Users/gat/work/FA2024/embedding_translation/src/viz/save_figure.py#67\u001b\\\u001b[1;36m67\u001b[0m\u001b]8;;\u001b\\\n",
      "\u001b[2;36m                    \u001b[0m\u001b[1;32m         \u001b[0m\u001b[35m/Users/gat/work/FA2024/embedding_\u001b[0m \u001b[1;36m                 \u001b[0m\n",
      "\u001b[2;36m                    \u001b[0m\u001b[1;32m         \u001b[0m\u001b[35mtranslation/data/figs/imgs/\u001b[0m\u001b[95mmse_vs\u001b[0m \u001b[1;36m                 \u001b[0m\n",
      "\u001b[2;36m                    \u001b[0m\u001b[1;32m         \u001b[0m\u001b[95m_layers_all_pairs.png\u001b[0m             \u001b[1;36m                 \u001b[0m\n",
      "\u001b[2;36m[12/13/24 20:37:20]\u001b[0m\u001b[2;36m \u001b[0m\u001b[1;32mSUCCESS \u001b[0m\u001b[1;32m \u001b[0m Successfully saved PNG to        \u001b]8;id=960969;file:///Users/gat/work/FA2024/embedding_translation/src/viz/save_figure.py\u001b\\\u001b[1;36msave_figure.py\u001b[0m\u001b]8;;\u001b\\\u001b[1;36m:\u001b[0m\u001b]8;id=648684;file:///Users/gat/work/FA2024/embedding_translation/src/viz/save_figure.py#76\u001b\\\u001b[1;36m76\u001b[0m\u001b]8;;\u001b\\\n",
      "\u001b[2;36m                    \u001b[0m\u001b[1;32m         \u001b[0m\u001b[35m/Users/gat/work/FA2024/embedding_\u001b[0m \u001b[1;36m                 \u001b[0m\n",
      "\u001b[2;36m                    \u001b[0m\u001b[1;32m         \u001b[0m\u001b[35mtranslation/data/figs/imgs/\u001b[0m\u001b[95mmse_vs\u001b[0m \u001b[1;36m                 \u001b[0m\n",
      "\u001b[2;36m                    \u001b[0m\u001b[1;32m         \u001b[0m\u001b[95m_layers_all_pairs.png\u001b[0m             \u001b[1;36m                 \u001b[0m\n",
      "\u001b[2;36m                   \u001b[0m\u001b[2;36m \u001b[0m\u001b[1;34mINFO    \u001b[0m\u001b[1;32m \u001b[0m Saving HTML figure to            \u001b]8;id=5388;file:///Users/gat/work/FA2024/embedding_translation/src/viz/save_figure.py\u001b\\\u001b[1;36msave_figure.py\u001b[0m\u001b]8;;\u001b\\\u001b[1;36m:\u001b[0m\u001b]8;id=534357;file:///Users/gat/work/FA2024/embedding_translation/src/viz/save_figure.py#32\u001b\\\u001b[1;36m32\u001b[0m\u001b]8;;\u001b\\\n",
      "\u001b[2;36m                    \u001b[0m\u001b[1;32m         \u001b[0m\u001b[35m/Users/gat/work/FA2024/embedding_\u001b[0m \u001b[1;36m                 \u001b[0m\n",
      "\u001b[2;36m                    \u001b[0m\u001b[1;32m         \u001b[0m\u001b[35mtranslation/src/blog/figs/gatlen/\u001b[0m \u001b[1;36m                 \u001b[0m\n",
      "\u001b[2;36m                    \u001b[0m\u001b[1;32m         \u001b[0m\u001b[35mhtml/\u001b[0m\u001b[95mmse_vs_layers_all_pairs.html\u001b[0m \u001b[1;36m                 \u001b[0m\n",
      "\u001b[2;36m                   \u001b[0m\u001b[2;36m \u001b[0m\u001b[1;32mSUCCESS \u001b[0m\u001b[1;32m \u001b[0m Successfully saved HTML to       \u001b]8;id=495484;file:///Users/gat/work/FA2024/embedding_translation/src/viz/save_figure.py\u001b\\\u001b[1;36msave_figure.py\u001b[0m\u001b]8;;\u001b\\\u001b[1;36m:\u001b[0m\u001b]8;id=200972;file:///Users/gat/work/FA2024/embedding_translation/src/viz/save_figure.py#40\u001b\\\u001b[1;36m40\u001b[0m\u001b]8;;\u001b\\\n",
      "\u001b[2;36m                    \u001b[0m\u001b[1;32m         \u001b[0m\u001b[35m/Users/gat/work/FA2024/embedding_\u001b[0m \u001b[1;36m                 \u001b[0m\n",
      "\u001b[2;36m                    \u001b[0m\u001b[1;32m         \u001b[0m\u001b[35mtranslation/src/blog/figs/gatlen/\u001b[0m \u001b[1;36m                 \u001b[0m\n",
      "\u001b[2;36m                    \u001b[0m\u001b[1;32m         \u001b[0m\u001b[35mhtml/\u001b[0m\u001b[95mmse_vs_layers_all_pairs.html\u001b[0m \u001b[1;36m                 \u001b[0m\n",
      "\u001b[2;36m                   \u001b[0m\u001b[2;36m \u001b[0m\u001b[1;34mINFO    \u001b[0m\u001b[1;32m \u001b[0m Saving PNG figure to             \u001b]8;id=968614;file:///Users/gat/work/FA2024/embedding_translation/src/viz/save_figure.py\u001b\\\u001b[1;36msave_figure.py\u001b[0m\u001b]8;;\u001b\\\u001b[1;36m:\u001b[0m\u001b]8;id=616635;file:///Users/gat/work/FA2024/embedding_translation/src/viz/save_figure.py#67\u001b\\\u001b[1;36m67\u001b[0m\u001b]8;;\u001b\\\n",
      "\u001b[2;36m                    \u001b[0m\u001b[1;32m         \u001b[0m\u001b[35m/Users/gat/work/FA2024/embedding_\u001b[0m \u001b[1;36m                 \u001b[0m\n",
      "\u001b[2;36m                    \u001b[0m\u001b[1;32m         \u001b[0m\u001b[35mtranslation/src/blog/figs/gatlen/\u001b[0m \u001b[1;36m                 \u001b[0m\n",
      "\u001b[2;36m                    \u001b[0m\u001b[1;32m         \u001b[0m\u001b[35mimgs/\u001b[0m\u001b[95mmse_vs_layers_all_pairs.png\u001b[0m  \u001b[1;36m                 \u001b[0m\n",
      "\u001b[2;36m                   \u001b[0m\u001b[2;36m \u001b[0m\u001b[1;32mSUCCESS \u001b[0m\u001b[1;32m \u001b[0m Successfully saved PNG to        \u001b]8;id=367495;file:///Users/gat/work/FA2024/embedding_translation/src/viz/save_figure.py\u001b\\\u001b[1;36msave_figure.py\u001b[0m\u001b]8;;\u001b\\\u001b[1;36m:\u001b[0m\u001b]8;id=405923;file:///Users/gat/work/FA2024/embedding_translation/src/viz/save_figure.py#76\u001b\\\u001b[1;36m76\u001b[0m\u001b]8;;\u001b\\\n",
      "\u001b[2;36m                    \u001b[0m\u001b[1;32m         \u001b[0m\u001b[35m/Users/gat/work/FA2024/embedding_\u001b[0m \u001b[1;36m                 \u001b[0m\n",
      "\u001b[2;36m                    \u001b[0m\u001b[1;32m         \u001b[0m\u001b[35mtranslation/src/blog/figs/gatlen/\u001b[0m \u001b[1;36m                 \u001b[0m\n",
      "\u001b[2;36m                    \u001b[0m\u001b[1;32m         \u001b[0m\u001b[35mimgs/\u001b[0m\u001b[95mmse_vs_layers_all_pairs.png\u001b[0m  \u001b[1;36m                 \u001b[0m\n"
     ]
    },
    {
     "data": {
      "text/plain": [
       "(PosixPath('/Users/gat/work/FA2024/embedding_translation/src/blog/figs/gatlen/html/mse_vs_layers_all_pairs.html'),\n",
       " PosixPath('/Users/gat/work/FA2024/embedding_translation/src/blog/figs/gatlen/imgs/mse_vs_layers_all_pairs.png'))"
      ]
     },
     "execution_count": 81,
     "metadata": {},
     "output_type": "execute_result"
    }
   ],
   "source": [
    "# Save figure\n",
    "save_figure(\n",
    "    fig,\n",
    "    \"mse_vs_layers_all_pairs\",\n",
    "    output_dir=PROJ_ROOT / \"data\" / \"figs\",\n",
    ")\n",
    "save_figure(\n",
    "    fig,\n",
    "    \"mse_vs_layers_all_pairs\",\n",
    "    output_dir=PROJ_ROOT / \"src\" / \"blog\" / \"figs\" / \"gatlen\",\n",
    ")"
   ]
  },
  {
   "cell_type": "code",
   "execution_count": 74,
   "metadata": {},
   "outputs": [
    {
     "data": {
      "application/vnd.plotly.v1+json": {
       "config": {
        "plotlyServerURL": "https://plot.ly"
       },
       "data": [
        {
         "line": {
          "color": "blue",
          "width": 3
         },
         "marker": {
          "size": 10
         },
         "mode": "lines+markers",
         "name": "Mean MSE across all model pairs",
         "type": "scatter",
         "x": [
          2,
          3,
          4,
          5,
          6,
          7
         ],
         "y": [
          0.0018237173790112136,
          0.0017555458471179008,
          0.0017438606591895225,
          0.001740982523187995,
          0.001742945401929319,
          0.0017394491005688906
         ]
        }
       ],
       "layout": {
        "height": 500,
        "showlegend": false,
        "template": {
         "data": {
          "bar": [
           {
            "error_x": {
             "color": "#2a3f5f"
            },
            "error_y": {
             "color": "#2a3f5f"
            },
            "marker": {
             "line": {
              "color": "white",
              "width": 0.5
             },
             "pattern": {
              "fillmode": "overlay",
              "size": 10,
              "solidity": 0.2
             }
            },
            "type": "bar"
           }
          ],
          "barpolar": [
           {
            "marker": {
             "line": {
              "color": "white",
              "width": 0.5
             },
             "pattern": {
              "fillmode": "overlay",
              "size": 10,
              "solidity": 0.2
             }
            },
            "type": "barpolar"
           }
          ],
          "carpet": [
           {
            "aaxis": {
             "endlinecolor": "#2a3f5f",
             "gridcolor": "#C8D4E3",
             "linecolor": "#C8D4E3",
             "minorgridcolor": "#C8D4E3",
             "startlinecolor": "#2a3f5f"
            },
            "baxis": {
             "endlinecolor": "#2a3f5f",
             "gridcolor": "#C8D4E3",
             "linecolor": "#C8D4E3",
             "minorgridcolor": "#C8D4E3",
             "startlinecolor": "#2a3f5f"
            },
            "type": "carpet"
           }
          ],
          "choropleth": [
           {
            "colorbar": {
             "outlinewidth": 0,
             "ticks": ""
            },
            "type": "choropleth"
           }
          ],
          "contour": [
           {
            "colorbar": {
             "outlinewidth": 0,
             "ticks": ""
            },
            "colorscale": [
             [
              0,
              "#0d0887"
             ],
             [
              0.1111111111111111,
              "#46039f"
             ],
             [
              0.2222222222222222,
              "#7201a8"
             ],
             [
              0.3333333333333333,
              "#9c179e"
             ],
             [
              0.4444444444444444,
              "#bd3786"
             ],
             [
              0.5555555555555556,
              "#d8576b"
             ],
             [
              0.6666666666666666,
              "#ed7953"
             ],
             [
              0.7777777777777778,
              "#fb9f3a"
             ],
             [
              0.8888888888888888,
              "#fdca26"
             ],
             [
              1,
              "#f0f921"
             ]
            ],
            "type": "contour"
           }
          ],
          "contourcarpet": [
           {
            "colorbar": {
             "outlinewidth": 0,
             "ticks": ""
            },
            "type": "contourcarpet"
           }
          ],
          "heatmap": [
           {
            "colorbar": {
             "outlinewidth": 0,
             "ticks": ""
            },
            "colorscale": [
             [
              0,
              "#0d0887"
             ],
             [
              0.1111111111111111,
              "#46039f"
             ],
             [
              0.2222222222222222,
              "#7201a8"
             ],
             [
              0.3333333333333333,
              "#9c179e"
             ],
             [
              0.4444444444444444,
              "#bd3786"
             ],
             [
              0.5555555555555556,
              "#d8576b"
             ],
             [
              0.6666666666666666,
              "#ed7953"
             ],
             [
              0.7777777777777778,
              "#fb9f3a"
             ],
             [
              0.8888888888888888,
              "#fdca26"
             ],
             [
              1,
              "#f0f921"
             ]
            ],
            "type": "heatmap"
           }
          ],
          "heatmapgl": [
           {
            "colorbar": {
             "outlinewidth": 0,
             "ticks": ""
            },
            "colorscale": [
             [
              0,
              "#0d0887"
             ],
             [
              0.1111111111111111,
              "#46039f"
             ],
             [
              0.2222222222222222,
              "#7201a8"
             ],
             [
              0.3333333333333333,
              "#9c179e"
             ],
             [
              0.4444444444444444,
              "#bd3786"
             ],
             [
              0.5555555555555556,
              "#d8576b"
             ],
             [
              0.6666666666666666,
              "#ed7953"
             ],
             [
              0.7777777777777778,
              "#fb9f3a"
             ],
             [
              0.8888888888888888,
              "#fdca26"
             ],
             [
              1,
              "#f0f921"
             ]
            ],
            "type": "heatmapgl"
           }
          ],
          "histogram": [
           {
            "marker": {
             "pattern": {
              "fillmode": "overlay",
              "size": 10,
              "solidity": 0.2
             }
            },
            "type": "histogram"
           }
          ],
          "histogram2d": [
           {
            "colorbar": {
             "outlinewidth": 0,
             "ticks": ""
            },
            "colorscale": [
             [
              0,
              "#0d0887"
             ],
             [
              0.1111111111111111,
              "#46039f"
             ],
             [
              0.2222222222222222,
              "#7201a8"
             ],
             [
              0.3333333333333333,
              "#9c179e"
             ],
             [
              0.4444444444444444,
              "#bd3786"
             ],
             [
              0.5555555555555556,
              "#d8576b"
             ],
             [
              0.6666666666666666,
              "#ed7953"
             ],
             [
              0.7777777777777778,
              "#fb9f3a"
             ],
             [
              0.8888888888888888,
              "#fdca26"
             ],
             [
              1,
              "#f0f921"
             ]
            ],
            "type": "histogram2d"
           }
          ],
          "histogram2dcontour": [
           {
            "colorbar": {
             "outlinewidth": 0,
             "ticks": ""
            },
            "colorscale": [
             [
              0,
              "#0d0887"
             ],
             [
              0.1111111111111111,
              "#46039f"
             ],
             [
              0.2222222222222222,
              "#7201a8"
             ],
             [
              0.3333333333333333,
              "#9c179e"
             ],
             [
              0.4444444444444444,
              "#bd3786"
             ],
             [
              0.5555555555555556,
              "#d8576b"
             ],
             [
              0.6666666666666666,
              "#ed7953"
             ],
             [
              0.7777777777777778,
              "#fb9f3a"
             ],
             [
              0.8888888888888888,
              "#fdca26"
             ],
             [
              1,
              "#f0f921"
             ]
            ],
            "type": "histogram2dcontour"
           }
          ],
          "mesh3d": [
           {
            "colorbar": {
             "outlinewidth": 0,
             "ticks": ""
            },
            "type": "mesh3d"
           }
          ],
          "parcoords": [
           {
            "line": {
             "colorbar": {
              "outlinewidth": 0,
              "ticks": ""
             }
            },
            "type": "parcoords"
           }
          ],
          "pie": [
           {
            "automargin": true,
            "type": "pie"
           }
          ],
          "scatter": [
           {
            "fillpattern": {
             "fillmode": "overlay",
             "size": 10,
             "solidity": 0.2
            },
            "type": "scatter"
           }
          ],
          "scatter3d": [
           {
            "line": {
             "colorbar": {
              "outlinewidth": 0,
              "ticks": ""
             }
            },
            "marker": {
             "colorbar": {
              "outlinewidth": 0,
              "ticks": ""
             }
            },
            "type": "scatter3d"
           }
          ],
          "scattercarpet": [
           {
            "marker": {
             "colorbar": {
              "outlinewidth": 0,
              "ticks": ""
             }
            },
            "type": "scattercarpet"
           }
          ],
          "scattergeo": [
           {
            "marker": {
             "colorbar": {
              "outlinewidth": 0,
              "ticks": ""
             }
            },
            "type": "scattergeo"
           }
          ],
          "scattergl": [
           {
            "marker": {
             "colorbar": {
              "outlinewidth": 0,
              "ticks": ""
             }
            },
            "type": "scattergl"
           }
          ],
          "scattermapbox": [
           {
            "marker": {
             "colorbar": {
              "outlinewidth": 0,
              "ticks": ""
             }
            },
            "type": "scattermapbox"
           }
          ],
          "scatterpolar": [
           {
            "marker": {
             "colorbar": {
              "outlinewidth": 0,
              "ticks": ""
             }
            },
            "type": "scatterpolar"
           }
          ],
          "scatterpolargl": [
           {
            "marker": {
             "colorbar": {
              "outlinewidth": 0,
              "ticks": ""
             }
            },
            "type": "scatterpolargl"
           }
          ],
          "scatterternary": [
           {
            "marker": {
             "colorbar": {
              "outlinewidth": 0,
              "ticks": ""
             }
            },
            "type": "scatterternary"
           }
          ],
          "surface": [
           {
            "colorbar": {
             "outlinewidth": 0,
             "ticks": ""
            },
            "colorscale": [
             [
              0,
              "#0d0887"
             ],
             [
              0.1111111111111111,
              "#46039f"
             ],
             [
              0.2222222222222222,
              "#7201a8"
             ],
             [
              0.3333333333333333,
              "#9c179e"
             ],
             [
              0.4444444444444444,
              "#bd3786"
             ],
             [
              0.5555555555555556,
              "#d8576b"
             ],
             [
              0.6666666666666666,
              "#ed7953"
             ],
             [
              0.7777777777777778,
              "#fb9f3a"
             ],
             [
              0.8888888888888888,
              "#fdca26"
             ],
             [
              1,
              "#f0f921"
             ]
            ],
            "type": "surface"
           }
          ],
          "table": [
           {
            "cells": {
             "fill": {
              "color": "#EBF0F8"
             },
             "line": {
              "color": "white"
             }
            },
            "header": {
             "fill": {
              "color": "#C8D4E3"
             },
             "line": {
              "color": "white"
             }
            },
            "type": "table"
           }
          ]
         },
         "layout": {
          "annotationdefaults": {
           "arrowcolor": "#2a3f5f",
           "arrowhead": 0,
           "arrowwidth": 1
          },
          "autotypenumbers": "strict",
          "coloraxis": {
           "colorbar": {
            "outlinewidth": 0,
            "ticks": ""
           }
          },
          "colorscale": {
           "diverging": [
            [
             0,
             "#8e0152"
            ],
            [
             0.1,
             "#c51b7d"
            ],
            [
             0.2,
             "#de77ae"
            ],
            [
             0.3,
             "#f1b6da"
            ],
            [
             0.4,
             "#fde0ef"
            ],
            [
             0.5,
             "#f7f7f7"
            ],
            [
             0.6,
             "#e6f5d0"
            ],
            [
             0.7,
             "#b8e186"
            ],
            [
             0.8,
             "#7fbc41"
            ],
            [
             0.9,
             "#4d9221"
            ],
            [
             1,
             "#276419"
            ]
           ],
           "sequential": [
            [
             0,
             "#0d0887"
            ],
            [
             0.1111111111111111,
             "#46039f"
            ],
            [
             0.2222222222222222,
             "#7201a8"
            ],
            [
             0.3333333333333333,
             "#9c179e"
            ],
            [
             0.4444444444444444,
             "#bd3786"
            ],
            [
             0.5555555555555556,
             "#d8576b"
            ],
            [
             0.6666666666666666,
             "#ed7953"
            ],
            [
             0.7777777777777778,
             "#fb9f3a"
            ],
            [
             0.8888888888888888,
             "#fdca26"
            ],
            [
             1,
             "#f0f921"
            ]
           ],
           "sequentialminus": [
            [
             0,
             "#0d0887"
            ],
            [
             0.1111111111111111,
             "#46039f"
            ],
            [
             0.2222222222222222,
             "#7201a8"
            ],
            [
             0.3333333333333333,
             "#9c179e"
            ],
            [
             0.4444444444444444,
             "#bd3786"
            ],
            [
             0.5555555555555556,
             "#d8576b"
            ],
            [
             0.6666666666666666,
             "#ed7953"
            ],
            [
             0.7777777777777778,
             "#fb9f3a"
            ],
            [
             0.8888888888888888,
             "#fdca26"
            ],
            [
             1,
             "#f0f921"
            ]
           ]
          },
          "colorway": [
           "#636efa",
           "#EF553B",
           "#00cc96",
           "#ab63fa",
           "#FFA15A",
           "#19d3f3",
           "#FF6692",
           "#B6E880",
           "#FF97FF",
           "#FECB52"
          ],
          "font": {
           "color": "#2a3f5f"
          },
          "geo": {
           "bgcolor": "white",
           "lakecolor": "white",
           "landcolor": "white",
           "showlakes": true,
           "showland": true,
           "subunitcolor": "#C8D4E3"
          },
          "hoverlabel": {
           "align": "left"
          },
          "hovermode": "closest",
          "mapbox": {
           "style": "light"
          },
          "paper_bgcolor": "white",
          "plot_bgcolor": "white",
          "polar": {
           "angularaxis": {
            "gridcolor": "#EBF0F8",
            "linecolor": "#EBF0F8",
            "ticks": ""
           },
           "bgcolor": "white",
           "radialaxis": {
            "gridcolor": "#EBF0F8",
            "linecolor": "#EBF0F8",
            "ticks": ""
           }
          },
          "scene": {
           "xaxis": {
            "backgroundcolor": "white",
            "gridcolor": "#DFE8F3",
            "gridwidth": 2,
            "linecolor": "#EBF0F8",
            "showbackground": true,
            "ticks": "",
            "zerolinecolor": "#EBF0F8"
           },
           "yaxis": {
            "backgroundcolor": "white",
            "gridcolor": "#DFE8F3",
            "gridwidth": 2,
            "linecolor": "#EBF0F8",
            "showbackground": true,
            "ticks": "",
            "zerolinecolor": "#EBF0F8"
           },
           "zaxis": {
            "backgroundcolor": "white",
            "gridcolor": "#DFE8F3",
            "gridwidth": 2,
            "linecolor": "#EBF0F8",
            "showbackground": true,
            "ticks": "",
            "zerolinecolor": "#EBF0F8"
           }
          },
          "shapedefaults": {
           "line": {
            "color": "#2a3f5f"
           }
          },
          "ternary": {
           "aaxis": {
            "gridcolor": "#DFE8F3",
            "linecolor": "#A2B1C6",
            "ticks": ""
           },
           "baxis": {
            "gridcolor": "#DFE8F3",
            "linecolor": "#A2B1C6",
            "ticks": ""
           },
           "bgcolor": "white",
           "caxis": {
            "gridcolor": "#DFE8F3",
            "linecolor": "#A2B1C6",
            "ticks": ""
           }
          },
          "title": {
           "x": 0.05
          },
          "xaxis": {
           "automargin": true,
           "gridcolor": "#EBF0F8",
           "linecolor": "#EBF0F8",
           "ticks": "",
           "title": {
            "standoff": 15
           },
           "zerolinecolor": "#EBF0F8",
           "zerolinewidth": 2
          },
          "yaxis": {
           "automargin": true,
           "gridcolor": "#EBF0F8",
           "linecolor": "#EBF0F8",
           "ticks": "",
           "title": {
            "standoff": 15
           },
           "zerolinecolor": "#EBF0F8",
           "zerolinewidth": 2
          }
         }
        },
        "title": {
         "text": "Mean MSE vs Number of Layers (Averaged Across All Model Pairs)"
        },
        "width": 800,
        "xaxis": {
         "gridcolor": "LightGray",
         "gridwidth": 1,
         "showgrid": true,
         "title": {
          "text": "Number of Layers"
         }
        },
        "yaxis": {
         "gridcolor": "LightGray",
         "gridwidth": 1,
         "showgrid": true,
         "title": {
          "text": "Mean MSE"
         },
         "type": "log"
        }
       }
      }
     },
     "metadata": {},
     "output_type": "display_data"
    }
   ],
   "source": [
    "# Create line plot showing average MSE vs number of layers\n",
    "fig = go.Figure()\n",
    "\n",
    "# Calculate mean MSE across all model pairs (excluding diagonal)\n",
    "mean_mse = []\n",
    "for layer_idx in range(6):  # For each layer configuration\n",
    "    layer_mse = average_validation_mse[:, :, layer_idx]  # Get MSE matrix for this layer\n",
    "    # Create mask to exclude diagonal elements\n",
    "    mask = ~np.eye(17, dtype=bool)\n",
    "    # Calculate mean excluding diagonal elements\n",
    "    mean_mse.append(layer_mse[mask].mean())\n",
    "\n",
    "# Add trace for mean MSE\n",
    "fig.add_trace(\n",
    "    go.Scatter(\n",
    "        x=x_values,\n",
    "        y=mean_mse,\n",
    "        mode=\"lines+markers\",\n",
    "        name=\"Mean MSE across all model pairs\",\n",
    "        line=dict(width=3, color=\"blue\"),\n",
    "        marker=dict(size=10),\n",
    "    )\n",
    ")\n",
    "\n",
    "# Update layout\n",
    "fig.update_layout(\n",
    "    title=\"Mean MSE vs Number of Layers (Averaged Across All Model Pairs)\",\n",
    "    xaxis_title=\"Number of Layers\",\n",
    "    yaxis_title=\"Mean MSE\",\n",
    "    width=800,\n",
    "    height=500,\n",
    "    showlegend=False,\n",
    "    yaxis_type=\"log\",  # Use log scale for y-axis\n",
    "    template=\"plotly_white\",  # Clean template\n",
    ")\n",
    "\n",
    "# Add gridlines\n",
    "fig.update_xaxes(showgrid=True, gridwidth=1, gridcolor=\"LightGray\")\n",
    "fig.update_yaxes(showgrid=True, gridwidth=1, gridcolor=\"LightGray\")\n",
    "\n",
    "# Show figure\n",
    "fig"
   ]
  },
  {
   "cell_type": "code",
   "execution_count": 75,
   "metadata": {},
   "outputs": [
    {
     "name": "stdout",
     "output_type": "stream",
     "text": [
      "\u001b[2;36m[12/13/24 20:25:08]\u001b[0m\u001b[2;36m \u001b[0m\u001b[1;34mINFO    \u001b[0m\u001b[1;32m \u001b[0m Saving HTML figure to            \u001b]8;id=266039;file:///Users/gat/work/FA2024/embedding_translation/src/viz/save_figure.py\u001b\\\u001b[1;36msave_figure.py\u001b[0m\u001b]8;;\u001b\\\u001b[1;36m:\u001b[0m\u001b]8;id=967827;file:///Users/gat/work/FA2024/embedding_translation/src/viz/save_figure.py#32\u001b\\\u001b[1;36m32\u001b[0m\u001b]8;;\u001b\\\n",
      "\u001b[2;36m                    \u001b[0m\u001b[1;32m         \u001b[0m\u001b[35m/Users/gat/work/FA2024/embedding_\u001b[0m \u001b[1;36m                 \u001b[0m\n",
      "\u001b[2;36m                    \u001b[0m\u001b[1;32m         \u001b[0m\u001b[35mtranslation/data/figs/html/\u001b[0m\u001b[95mmean_m\u001b[0m \u001b[1;36m                 \u001b[0m\n",
      "\u001b[2;36m                    \u001b[0m\u001b[1;32m         \u001b[0m\u001b[95mse_vs_layers.html\u001b[0m                 \u001b[1;36m                 \u001b[0m\n",
      "\u001b[2;36m                   \u001b[0m\u001b[2;36m \u001b[0m\u001b[1;32mSUCCESS \u001b[0m\u001b[1;32m \u001b[0m Successfully saved HTML to       \u001b]8;id=769225;file:///Users/gat/work/FA2024/embedding_translation/src/viz/save_figure.py\u001b\\\u001b[1;36msave_figure.py\u001b[0m\u001b]8;;\u001b\\\u001b[1;36m:\u001b[0m\u001b]8;id=185062;file:///Users/gat/work/FA2024/embedding_translation/src/viz/save_figure.py#40\u001b\\\u001b[1;36m40\u001b[0m\u001b]8;;\u001b\\\n",
      "\u001b[2;36m                    \u001b[0m\u001b[1;32m         \u001b[0m\u001b[35m/Users/gat/work/FA2024/embedding_\u001b[0m \u001b[1;36m                 \u001b[0m\n",
      "\u001b[2;36m                    \u001b[0m\u001b[1;32m         \u001b[0m\u001b[35mtranslation/data/figs/html/\u001b[0m\u001b[95mmean_m\u001b[0m \u001b[1;36m                 \u001b[0m\n",
      "\u001b[2;36m                    \u001b[0m\u001b[1;32m         \u001b[0m\u001b[95mse_vs_layers.html\u001b[0m                 \u001b[1;36m                 \u001b[0m\n",
      "\u001b[2;36m                   \u001b[0m\u001b[2;36m \u001b[0m\u001b[1;34mINFO    \u001b[0m\u001b[1;32m \u001b[0m Saving PNG figure to             \u001b]8;id=938910;file:///Users/gat/work/FA2024/embedding_translation/src/viz/save_figure.py\u001b\\\u001b[1;36msave_figure.py\u001b[0m\u001b]8;;\u001b\\\u001b[1;36m:\u001b[0m\u001b]8;id=682723;file:///Users/gat/work/FA2024/embedding_translation/src/viz/save_figure.py#67\u001b\\\u001b[1;36m67\u001b[0m\u001b]8;;\u001b\\\n",
      "\u001b[2;36m                    \u001b[0m\u001b[1;32m         \u001b[0m\u001b[35m/Users/gat/work/FA2024/embedding_\u001b[0m \u001b[1;36m                 \u001b[0m\n",
      "\u001b[2;36m                    \u001b[0m\u001b[1;32m         \u001b[0m\u001b[35mtranslation/data/figs/imgs/\u001b[0m\u001b[95mmean_m\u001b[0m \u001b[1;36m                 \u001b[0m\n",
      "\u001b[2;36m                    \u001b[0m\u001b[1;32m         \u001b[0m\u001b[95mse_vs_layers.png\u001b[0m                  \u001b[1;36m                 \u001b[0m\n",
      "\u001b[2;36m[12/13/24 20:25:09]\u001b[0m\u001b[2;36m \u001b[0m\u001b[1;32mSUCCESS \u001b[0m\u001b[1;32m \u001b[0m Successfully saved PNG to        \u001b]8;id=465064;file:///Users/gat/work/FA2024/embedding_translation/src/viz/save_figure.py\u001b\\\u001b[1;36msave_figure.py\u001b[0m\u001b]8;;\u001b\\\u001b[1;36m:\u001b[0m\u001b]8;id=851447;file:///Users/gat/work/FA2024/embedding_translation/src/viz/save_figure.py#76\u001b\\\u001b[1;36m76\u001b[0m\u001b]8;;\u001b\\\n",
      "\u001b[2;36m                    \u001b[0m\u001b[1;32m         \u001b[0m\u001b[35m/Users/gat/work/FA2024/embedding_\u001b[0m \u001b[1;36m                 \u001b[0m\n",
      "\u001b[2;36m                    \u001b[0m\u001b[1;32m         \u001b[0m\u001b[35mtranslation/data/figs/imgs/\u001b[0m\u001b[95mmean_m\u001b[0m \u001b[1;36m                 \u001b[0m\n",
      "\u001b[2;36m                    \u001b[0m\u001b[1;32m         \u001b[0m\u001b[95mse_vs_layers.png\u001b[0m                  \u001b[1;36m                 \u001b[0m\n",
      "\u001b[2;36m                   \u001b[0m\u001b[2;36m \u001b[0m\u001b[1;34mINFO    \u001b[0m\u001b[1;32m \u001b[0m Saving HTML figure to            \u001b]8;id=116833;file:///Users/gat/work/FA2024/embedding_translation/src/viz/save_figure.py\u001b\\\u001b[1;36msave_figure.py\u001b[0m\u001b]8;;\u001b\\\u001b[1;36m:\u001b[0m\u001b]8;id=459289;file:///Users/gat/work/FA2024/embedding_translation/src/viz/save_figure.py#32\u001b\\\u001b[1;36m32\u001b[0m\u001b]8;;\u001b\\\n",
      "\u001b[2;36m                    \u001b[0m\u001b[1;32m         \u001b[0m\u001b[35m/Users/gat/work/FA2024/embedding_\u001b[0m \u001b[1;36m                 \u001b[0m\n",
      "\u001b[2;36m                    \u001b[0m\u001b[1;32m         \u001b[0m\u001b[35mtranslation/src/blog/figs/gatlen/\u001b[0m \u001b[1;36m                 \u001b[0m\n",
      "\u001b[2;36m                    \u001b[0m\u001b[1;32m         \u001b[0m\u001b[35mhtml/\u001b[0m\u001b[95mmean_mse_vs_layers.html\u001b[0m      \u001b[1;36m                 \u001b[0m\n",
      "\u001b[2;36m                   \u001b[0m\u001b[2;36m \u001b[0m\u001b[1;32mSUCCESS \u001b[0m\u001b[1;32m \u001b[0m Successfully saved HTML to       \u001b]8;id=158827;file:///Users/gat/work/FA2024/embedding_translation/src/viz/save_figure.py\u001b\\\u001b[1;36msave_figure.py\u001b[0m\u001b]8;;\u001b\\\u001b[1;36m:\u001b[0m\u001b]8;id=134921;file:///Users/gat/work/FA2024/embedding_translation/src/viz/save_figure.py#40\u001b\\\u001b[1;36m40\u001b[0m\u001b]8;;\u001b\\\n",
      "\u001b[2;36m                    \u001b[0m\u001b[1;32m         \u001b[0m\u001b[35m/Users/gat/work/FA2024/embedding_\u001b[0m \u001b[1;36m                 \u001b[0m\n",
      "\u001b[2;36m                    \u001b[0m\u001b[1;32m         \u001b[0m\u001b[35mtranslation/src/blog/figs/gatlen/\u001b[0m \u001b[1;36m                 \u001b[0m\n",
      "\u001b[2;36m                    \u001b[0m\u001b[1;32m         \u001b[0m\u001b[35mhtml/\u001b[0m\u001b[95mmean_mse_vs_layers.html\u001b[0m      \u001b[1;36m                 \u001b[0m\n",
      "\u001b[2;36m                   \u001b[0m\u001b[2;36m \u001b[0m\u001b[1;34mINFO    \u001b[0m\u001b[1;32m \u001b[0m Saving PNG figure to             \u001b]8;id=425342;file:///Users/gat/work/FA2024/embedding_translation/src/viz/save_figure.py\u001b\\\u001b[1;36msave_figure.py\u001b[0m\u001b]8;;\u001b\\\u001b[1;36m:\u001b[0m\u001b]8;id=178892;file:///Users/gat/work/FA2024/embedding_translation/src/viz/save_figure.py#67\u001b\\\u001b[1;36m67\u001b[0m\u001b]8;;\u001b\\\n",
      "\u001b[2;36m                    \u001b[0m\u001b[1;32m         \u001b[0m\u001b[35m/Users/gat/work/FA2024/embedding_\u001b[0m \u001b[1;36m                 \u001b[0m\n",
      "\u001b[2;36m                    \u001b[0m\u001b[1;32m         \u001b[0m\u001b[35mtranslation/src/blog/figs/gatlen/\u001b[0m \u001b[1;36m                 \u001b[0m\n",
      "\u001b[2;36m                    \u001b[0m\u001b[1;32m         \u001b[0m\u001b[35mimgs/\u001b[0m\u001b[95mmean_mse_vs_layers.png\u001b[0m       \u001b[1;36m                 \u001b[0m\n",
      "\u001b[2;36m                   \u001b[0m\u001b[2;36m \u001b[0m\u001b[1;32mSUCCESS \u001b[0m\u001b[1;32m \u001b[0m Successfully saved PNG to        \u001b]8;id=366372;file:///Users/gat/work/FA2024/embedding_translation/src/viz/save_figure.py\u001b\\\u001b[1;36msave_figure.py\u001b[0m\u001b]8;;\u001b\\\u001b[1;36m:\u001b[0m\u001b]8;id=151710;file:///Users/gat/work/FA2024/embedding_translation/src/viz/save_figure.py#76\u001b\\\u001b[1;36m76\u001b[0m\u001b]8;;\u001b\\\n",
      "\u001b[2;36m                    \u001b[0m\u001b[1;32m         \u001b[0m\u001b[35m/Users/gat/work/FA2024/embedding_\u001b[0m \u001b[1;36m                 \u001b[0m\n",
      "\u001b[2;36m                    \u001b[0m\u001b[1;32m         \u001b[0m\u001b[35mtranslation/src/blog/figs/gatlen/\u001b[0m \u001b[1;36m                 \u001b[0m\n",
      "\u001b[2;36m                    \u001b[0m\u001b[1;32m         \u001b[0m\u001b[35mimgs/\u001b[0m\u001b[95mmean_mse_vs_layers.png\u001b[0m       \u001b[1;36m                 \u001b[0m\n"
     ]
    },
    {
     "data": {
      "text/plain": [
       "(PosixPath('/Users/gat/work/FA2024/embedding_translation/src/blog/figs/gatlen/html/mean_mse_vs_layers.html'),\n",
       " PosixPath('/Users/gat/work/FA2024/embedding_translation/src/blog/figs/gatlen/imgs/mean_mse_vs_layers.png'))"
      ]
     },
     "execution_count": 75,
     "metadata": {},
     "output_type": "execute_result"
    }
   ],
   "source": [
    "# Save figure\n",
    "save_figure(\n",
    "    fig,\n",
    "    \"mean_mse_vs_layers\",\n",
    "    output_dir=PROJ_ROOT / \"data\" / \"figs\",\n",
    ")\n",
    "save_figure(\n",
    "    fig,\n",
    "    \"mean_mse_vs_layers\",\n",
    "    output_dir=PROJ_ROOT / \"src\" / \"blog\" / \"figs\" / \"gatlen\",\n",
    ")"
   ]
  }
 ],
 "metadata": {
  "kernelspec": {
   "display_name": ".venv",
   "language": "python",
   "name": "python3"
  },
  "language_info": {
   "codemirror_mode": {
    "name": "ipython",
    "version": 3
   },
   "file_extension": ".py",
   "mimetype": "text/x-python",
   "name": "python",
   "nbconvert_exporter": "python",
   "pygments_lexer": "ipython3",
   "version": "3.12.8"
  }
 },
 "nbformat": 4,
 "nbformat_minor": 2
}
