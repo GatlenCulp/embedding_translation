{
 "cells": [
  {
   "cell_type": "markdown",
   "metadata": {},
   "source": [
    "# Complexity vs MSE and Rank Graphs\n"
   ]
  },
  {
   "cell_type": "code",
   "execution_count": 1,
   "metadata": {},
   "outputs": [
    {
     "name": "stdout",
     "output_type": "stream",
     "text": [
      "Requirement already satisfied: safetensors in /Users/gat/work/FA2024/embedding_translation/.venv/lib/python3.12/site-packages (0.4.5)\n",
      "Note: you may need to restart the kernel to use updated packages.\n"
     ]
    }
   ],
   "source": [
    "%pip install safetensors"
   ]
  },
  {
   "cell_type": "code",
   "execution_count": 82,
   "metadata": {},
   "outputs": [],
   "source": [
    "from safetensors.numpy import load_file\n",
    "from pathlib import Path\n",
    "from loguru import logger\n",
    "import orjson\n",
    "from rich import pretty\n",
    "import plotly.graph_objects as go\n",
    "from faker import Faker\n",
    "from typing import Literal\n",
    "\n",
    "# from IPython.display import display\n",
    "import numpy as np\n",
    "\n",
    "np.set_printoptions(\n",
    "    precision=3,\n",
    "    suppress=True,\n",
    "    threshold=5,\n",
    ")\n",
    "rng = np.random.default_rng(0)\n",
    "faker = Faker()"
   ]
  },
  {
   "cell_type": "code",
   "execution_count": 12,
   "metadata": {},
   "outputs": [
    {
     "name": "stderr",
     "output_type": "stream",
     "text": [
      "\u001b[32m2024-12-13 14:18:35.910\u001b[0m | \u001b[1mINFO    \u001b[0m | \u001b[36m__main__\u001b[0m:\u001b[36m<cell line: 0>\u001b[0m:\u001b[36m2\u001b[0m - \u001b[1m/Users/gat/work/FA2024/embedding_translation\u001b[0m\n",
      "\u001b[32m2024-12-13 14:18:35.911\u001b[0m | \u001b[1mINFO    \u001b[0m | \u001b[36m__main__\u001b[0m:\u001b[36m<cell line: 0>\u001b[0m:\u001b[36m4\u001b[0m - \u001b[1m/Users/gat/work/FA2024/embedding_translation/data\u001b[0m\n"
     ]
    }
   ],
   "source": [
    "PROJ_ROOT = Path.cwd().resolve().parent\n",
    "logger.info(PROJ_ROOT)\n",
    "DATA_DIR = PROJ_ROOT / \"data\"\n",
    "logger.info(DATA_DIR)\n",
    "MLP_MSE_VALIDATION = DATA_DIR / \"mlp_mse_validation\"\n",
    "MLP_MSE_VALIDATION_TENSORS = MLP_MSE_VALIDATION / \"validation_mses.safetensors\"\n",
    "MLP_MSE_VALIDATION_META = MLP_MSE_VALIDATION / \"validation_mses.json\""
   ]
  },
  {
   "cell_type": "code",
   "execution_count": 26,
   "metadata": {},
   "outputs": [
    {
     "name": "stdout",
     "output_type": "stream",
     "text": [
      "\u001b[2;36m[12/13/24 14:33:27]\u001b[0m\u001b[2;36m \u001b[0m\u001b[1;34mINFO    \u001b[0m\u001b[1;32m \u001b[0m\u001b[1m[\u001b[0m\u001b[1;36m3396536193.\u001b[0mpy:\u001b[1;36m2\u001b[0m\u001b[1m]\u001b[0m                   \u001b]8;id=747558;file:///var/folders/6f/f4k9qbkd5nqfywwdhvwdtl5m0000gn/T/ipykernel_17291/3396536193.py\u001b\\\u001b[1;36m3396536193.py\u001b[0m\u001b]8;;\u001b\\\u001b[1;36m:\u001b[0m\u001b]8;id=363556;file:///var/folders/6f/f4k9qbkd5nqfywwdhvwdtl5m0000gn/T/ipykernel_17291/3396536193.py#2\u001b\\\u001b[1;36m2\u001b[0m\u001b]8;;\u001b\\\n",
      "\u001b[2;36m                    \u001b[0m\u001b[1;32m         \u001b[0m\u001b[1m[\u001b[0m\u001b[32m'validation_mses'\u001b[0m\u001b[1m]\u001b[0m                 \u001b[1;36m               \u001b[0m\n",
      "\u001b[2;36m                   \u001b[0m\u001b[2;36m \u001b[0m\u001b[1;34mINFO    \u001b[0m\u001b[1;32m \u001b[0m\u001b[1m[\u001b[0m\u001b[1;36m3396536193.\u001b[0mpy:\u001b[1;36m4\u001b[0m\u001b[1m]\u001b[0m \u001b[1m(\u001b[0m\u001b[1;36m6\u001b[0m, \u001b[1;36m17\u001b[0m, \u001b[1;36m17\u001b[0m, \u001b[1;36m6\u001b[0m\u001b[1m)\u001b[0m    \u001b]8;id=420402;file:///var/folders/6f/f4k9qbkd5nqfywwdhvwdtl5m0000gn/T/ipykernel_17291/3396536193.py\u001b\\\u001b[1;36m3396536193.py\u001b[0m\u001b]8;;\u001b\\\u001b[1;36m:\u001b[0m\u001b]8;id=307068;file:///var/folders/6f/f4k9qbkd5nqfywwdhvwdtl5m0000gn/T/ipykernel_17291/3396536193.py#4\u001b\\\u001b[1;36m4\u001b[0m\u001b]8;;\u001b\\\n"
     ]
    }
   ],
   "source": [
    "tensors = load_file(MLP_MSE_VALIDATION_TENSORS)\n",
    "logger.info(list(tensors.keys()))\n",
    "validation_mse = tensors[\"validation_mses\"]\n",
    "logger.info(tensors[\"validation_mses\"].shape)"
   ]
  },
  {
   "cell_type": "code",
   "execution_count": 28,
   "metadata": {},
   "outputs": [
    {
     "data": {
      "text/html": [
       "<pre style=\"white-space:pre;overflow-x:auto;line-height:normal;font-family:Menlo,'DejaVu Sans Mono',consolas,'Courier New',monospace\"><span style=\"font-weight: bold\">{</span>\n",
       "<span style=\"color: #7fbf7f; text-decoration-color: #7fbf7f\">│   </span><span style=\"color: #008000; text-decoration-color: #008000\">'dataset2idx'</span>: <span style=\"font-weight: bold\">{</span><span style=\"color: #008000; text-decoration-color: #008000\">'arguana'</span>: <span style=\"color: #008080; text-decoration-color: #008080; font-weight: bold\">0</span>, <span style=\"color: #008000; text-decoration-color: #008000\">'fiqa'</span>: <span style=\"color: #008080; text-decoration-color: #008080; font-weight: bold\">1</span>, <span style=\"color: #008000; text-decoration-color: #008000\">'scidocs'</span>: <span style=\"color: #008080; text-decoration-color: #008080; font-weight: bold\">2</span>, <span style=\"color: #008000; text-decoration-color: #008000\">'nfcorpus'</span>: <span style=\"color: #008080; text-decoration-color: #008080; font-weight: bold\">3</span>, <span style=\"color: #008000; text-decoration-color: #008000\">'hotpotqa'</span>: <span style=\"color: #008080; text-decoration-color: #008080; font-weight: bold\">4</span>, <span style=\"color: #008000; text-decoration-color: #008000\">'trec-covid'</span>: <span style=\"color: #008080; text-decoration-color: #008080; font-weight: bold\">5</span><span style=\"font-weight: bold\">}</span>,\n",
       "<span style=\"color: #7fbf7f; text-decoration-color: #7fbf7f\">│   </span><span style=\"color: #008000; text-decoration-color: #008000\">'model2idx'</span>: <span style=\"font-weight: bold\">{</span>\n",
       "<span style=\"color: #7fbf7f; text-decoration-color: #7fbf7f\">│   │   </span><span style=\"color: #008000; text-decoration-color: #008000\">'WhereIsAI_UAE-Large-V1'</span>: <span style=\"color: #008080; text-decoration-color: #008080; font-weight: bold\">0</span>,\n",
       "<span style=\"color: #7fbf7f; text-decoration-color: #7fbf7f\">│   │   </span><span style=\"color: #008000; text-decoration-color: #008000\">'BAAI_bge-base-en-v1.5'</span>: <span style=\"color: #008080; text-decoration-color: #008080; font-weight: bold\">1</span>,\n",
       "<span style=\"color: #7fbf7f; text-decoration-color: #7fbf7f\">│   │   </span><span style=\"color: #008000; text-decoration-color: #008000\">'BAAI_bge-large-en-v1.5'</span>: <span style=\"color: #008080; text-decoration-color: #008080; font-weight: bold\">2</span>,\n",
       "<span style=\"color: #7fbf7f; text-decoration-color: #7fbf7f\">│   │   </span><span style=\"color: #008000; text-decoration-color: #008000\">'BAAI_bge-small-en-v1.5'</span>: <span style=\"color: #008080; text-decoration-color: #008080; font-weight: bold\">3</span>,\n",
       "<span style=\"color: #7fbf7f; text-decoration-color: #7fbf7f\">│   │   </span><span style=\"color: #008000; text-decoration-color: #008000\">'intfloat_e5-base-v2'</span>: <span style=\"color: #008080; text-decoration-color: #008080; font-weight: bold\">4</span>,\n",
       "<span style=\"color: #7fbf7f; text-decoration-color: #7fbf7f\">│   │   </span><span style=\"color: #008000; text-decoration-color: #008000\">'intfloat_e5-large-v2'</span>: <span style=\"color: #008080; text-decoration-color: #008080; font-weight: bold\">5</span>,\n",
       "<span style=\"color: #7fbf7f; text-decoration-color: #7fbf7f\">│   │   </span><span style=\"color: #008000; text-decoration-color: #008000\">'intfloat_e5-small-v2'</span>: <span style=\"color: #008080; text-decoration-color: #008080; font-weight: bold\">6</span>,\n",
       "<span style=\"color: #7fbf7f; text-decoration-color: #7fbf7f\">│   │   </span><span style=\"color: #008000; text-decoration-color: #008000\">'thenlper_gte-base'</span>: <span style=\"color: #008080; text-decoration-color: #008080; font-weight: bold\">7</span>,\n",
       "<span style=\"color: #7fbf7f; text-decoration-color: #7fbf7f\">│   │   </span><span style=\"color: #008000; text-decoration-color: #008000\">'thenlper_gte-large'</span>: <span style=\"color: #008080; text-decoration-color: #008080; font-weight: bold\">8</span>,\n",
       "<span style=\"color: #7fbf7f; text-decoration-color: #7fbf7f\">│   │   </span><span style=\"color: #008000; text-decoration-color: #008000\">'thenlper_gte-small'</span>: <span style=\"color: #008080; text-decoration-color: #008080; font-weight: bold\">9</span>,\n",
       "<span style=\"color: #7fbf7f; text-decoration-color: #7fbf7f\">│   │   </span><span style=\"color: #008000; text-decoration-color: #008000\">'sentence-transformers_gtr-t5-base'</span>: <span style=\"color: #008080; text-decoration-color: #008080; font-weight: bold\">10</span>,\n",
       "<span style=\"color: #7fbf7f; text-decoration-color: #7fbf7f\">│   │   </span><span style=\"color: #008000; text-decoration-color: #008000\">'sentence-transformers_gtr-t5-large'</span>: <span style=\"color: #008080; text-decoration-color: #008080; font-weight: bold\">11</span>,\n",
       "<span style=\"color: #7fbf7f; text-decoration-color: #7fbf7f\">│   │   </span><span style=\"color: #008000; text-decoration-color: #008000\">'mixedbread-ai_mxbai-embed-large-v1'</span>: <span style=\"color: #008080; text-decoration-color: #008080; font-weight: bold\">12</span>,\n",
       "<span style=\"color: #7fbf7f; text-decoration-color: #7fbf7f\">│   │   </span><span style=\"color: #008000; text-decoration-color: #008000\">'sentence-transformers_sentence-t5-base'</span>: <span style=\"color: #008080; text-decoration-color: #008080; font-weight: bold\">13</span>,\n",
       "<span style=\"color: #7fbf7f; text-decoration-color: #7fbf7f\">│   │   </span><span style=\"color: #008000; text-decoration-color: #008000\">'sentence-transformers_sentence-t5-large'</span>: <span style=\"color: #008080; text-decoration-color: #008080; font-weight: bold\">14</span>,\n",
       "<span style=\"color: #7fbf7f; text-decoration-color: #7fbf7f\">│   │   </span><span style=\"color: #008000; text-decoration-color: #008000\">'openai_text-embedding-3-large'</span>: <span style=\"color: #008080; text-decoration-color: #008080; font-weight: bold\">15</span>,\n",
       "<span style=\"color: #7fbf7f; text-decoration-color: #7fbf7f\">│   │   </span><span style=\"color: #008000; text-decoration-color: #008000\">'openai_text-embedding-3-small'</span>: <span style=\"color: #008080; text-decoration-color: #008080; font-weight: bold\">16</span>\n",
       "<span style=\"color: #7fbf7f; text-decoration-color: #7fbf7f\">│   </span><span style=\"font-weight: bold\">}</span>,\n",
       "<span style=\"color: #7fbf7f; text-decoration-color: #7fbf7f\">│   </span><span style=\"color: #008000; text-decoration-color: #008000\">'num_layers'</span>: <span style=\"font-weight: bold\">[</span><span style=\"color: #008080; text-decoration-color: #008080; font-weight: bold\">2</span>, <span style=\"color: #008080; text-decoration-color: #008080; font-weight: bold\">3</span>, <span style=\"color: #008080; text-decoration-color: #008080; font-weight: bold\">4</span>, <span style=\"color: #008080; text-decoration-color: #008080; font-weight: bold\">5</span>, <span style=\"color: #008080; text-decoration-color: #008080; font-weight: bold\">6</span>, <span style=\"color: #008080; text-decoration-color: #008080; font-weight: bold\">7</span><span style=\"font-weight: bold\">]</span>\n",
       "<span style=\"font-weight: bold\">}</span>\n",
       "</pre>\n"
      ],
      "text/plain": [
       "\u001b[1m{\u001b[0m\n",
       "\u001b[2;32m│   \u001b[0m\u001b[32m'dataset2idx'\u001b[0m: \u001b[1m{\u001b[0m\u001b[32m'arguana'\u001b[0m: \u001b[1;36m0\u001b[0m, \u001b[32m'fiqa'\u001b[0m: \u001b[1;36m1\u001b[0m, \u001b[32m'scidocs'\u001b[0m: \u001b[1;36m2\u001b[0m, \u001b[32m'nfcorpus'\u001b[0m: \u001b[1;36m3\u001b[0m, \u001b[32m'hotpotqa'\u001b[0m: \u001b[1;36m4\u001b[0m, \u001b[32m'trec-covid'\u001b[0m: \u001b[1;36m5\u001b[0m\u001b[1m}\u001b[0m,\n",
       "\u001b[2;32m│   \u001b[0m\u001b[32m'model2idx'\u001b[0m: \u001b[1m{\u001b[0m\n",
       "\u001b[2;32m│   │   \u001b[0m\u001b[32m'WhereIsAI_UAE-Large-V1'\u001b[0m: \u001b[1;36m0\u001b[0m,\n",
       "\u001b[2;32m│   │   \u001b[0m\u001b[32m'BAAI_bge-base-en-v1.5'\u001b[0m: \u001b[1;36m1\u001b[0m,\n",
       "\u001b[2;32m│   │   \u001b[0m\u001b[32m'BAAI_bge-large-en-v1.5'\u001b[0m: \u001b[1;36m2\u001b[0m,\n",
       "\u001b[2;32m│   │   \u001b[0m\u001b[32m'BAAI_bge-small-en-v1.5'\u001b[0m: \u001b[1;36m3\u001b[0m,\n",
       "\u001b[2;32m│   │   \u001b[0m\u001b[32m'intfloat_e5-base-v2'\u001b[0m: \u001b[1;36m4\u001b[0m,\n",
       "\u001b[2;32m│   │   \u001b[0m\u001b[32m'intfloat_e5-large-v2'\u001b[0m: \u001b[1;36m5\u001b[0m,\n",
       "\u001b[2;32m│   │   \u001b[0m\u001b[32m'intfloat_e5-small-v2'\u001b[0m: \u001b[1;36m6\u001b[0m,\n",
       "\u001b[2;32m│   │   \u001b[0m\u001b[32m'thenlper_gte-base'\u001b[0m: \u001b[1;36m7\u001b[0m,\n",
       "\u001b[2;32m│   │   \u001b[0m\u001b[32m'thenlper_gte-large'\u001b[0m: \u001b[1;36m8\u001b[0m,\n",
       "\u001b[2;32m│   │   \u001b[0m\u001b[32m'thenlper_gte-small'\u001b[0m: \u001b[1;36m9\u001b[0m,\n",
       "\u001b[2;32m│   │   \u001b[0m\u001b[32m'sentence-transformers_gtr-t5-base'\u001b[0m: \u001b[1;36m10\u001b[0m,\n",
       "\u001b[2;32m│   │   \u001b[0m\u001b[32m'sentence-transformers_gtr-t5-large'\u001b[0m: \u001b[1;36m11\u001b[0m,\n",
       "\u001b[2;32m│   │   \u001b[0m\u001b[32m'mixedbread-ai_mxbai-embed-large-v1'\u001b[0m: \u001b[1;36m12\u001b[0m,\n",
       "\u001b[2;32m│   │   \u001b[0m\u001b[32m'sentence-transformers_sentence-t5-base'\u001b[0m: \u001b[1;36m13\u001b[0m,\n",
       "\u001b[2;32m│   │   \u001b[0m\u001b[32m'sentence-transformers_sentence-t5-large'\u001b[0m: \u001b[1;36m14\u001b[0m,\n",
       "\u001b[2;32m│   │   \u001b[0m\u001b[32m'openai_text-embedding-3-large'\u001b[0m: \u001b[1;36m15\u001b[0m,\n",
       "\u001b[2;32m│   │   \u001b[0m\u001b[32m'openai_text-embedding-3-small'\u001b[0m: \u001b[1;36m16\u001b[0m\n",
       "\u001b[2;32m│   \u001b[0m\u001b[1m}\u001b[0m,\n",
       "\u001b[2;32m│   \u001b[0m\u001b[32m'num_layers'\u001b[0m: \u001b[1m[\u001b[0m\u001b[1;36m2\u001b[0m, \u001b[1;36m3\u001b[0m, \u001b[1;36m4\u001b[0m, \u001b[1;36m5\u001b[0m, \u001b[1;36m6\u001b[0m, \u001b[1;36m7\u001b[0m\u001b[1m]\u001b[0m\n",
       "\u001b[1m}\u001b[0m\n"
      ]
     },
     "metadata": {},
     "output_type": "display_data"
    }
   ],
   "source": [
    "with MLP_MSE_VALIDATION_META.open() as f:\n",
    "    meta = orjson.loads(f.read())\n",
    "\n",
    "pretty.pprint(meta)\n",
    "# 6 Datasets (ArguAna, FiQA, SciDocs, NFCorpus, HotPotQA, Trec-COVID)\n",
    "# 17 Native Embedding Spaces\n",
    "# 17 Stitched Embedding Spaces\n",
    "# 6 Architectures (2, 3, 4, 5, 6, or 7 layers)"
   ]
  },
  {
   "cell_type": "code",
   "execution_count": 56,
   "metadata": {},
   "outputs": [
    {
     "name": "stdout",
     "output_type": "stream",
     "text": [
      "\u001b[2;36m[12/13/24 14:53:57]\u001b[0m\u001b[2;36m \u001b[0m\u001b[1;34mINFO    \u001b[0m\u001b[1;32m \u001b[0m\u001b[1m[\u001b[0m\u001b[1;36m2716447018.\u001b[0mpy:\u001b[1;36m8\u001b[0m\u001b[1m]\u001b[0m \u001b[1m(\u001b[0m\u001b[1;36m17\u001b[0m, \u001b[1;36m17\u001b[0m\u001b[1m)\u001b[0m          \u001b]8;id=34588;file:///var/folders/6f/f4k9qbkd5nqfywwdhvwdtl5m0000gn/T/ipykernel_17291/2716447018.py\u001b\\\u001b[1;36m2716447018.py\u001b[0m\u001b]8;;\u001b\\\u001b[1;36m:\u001b[0m\u001b]8;id=443200;file:///var/folders/6f/f4k9qbkd5nqfywwdhvwdtl5m0000gn/T/ipykernel_17291/2716447018.py#8\u001b\\\u001b[1;36m8\u001b[0m\u001b]8;;\u001b\\\n"
     ]
    },
    {
     "data": {
      "text/html": [
       "<pre style=\"white-space:pre;overflow-x:auto;line-height:normal;font-family:Menlo,'DejaVu Sans Mono',consolas,'Courier New',monospace\"><span style=\"color: #800080; text-decoration-color: #800080; font-weight: bold\">array</span><span style=\"font-weight: bold\">([[</span><span style=\"color: #008080; text-decoration-color: #008080; font-weight: bold\">1</span>.   , <span style=\"color: #008080; text-decoration-color: #008080; font-weight: bold\">0.002</span>, <span style=\"color: #008080; text-decoration-color: #008080; font-weight: bold\">0.001</span>, <span style=\"color: #808000; text-decoration-color: #808000\">...</span>, <span style=\"color: #008080; text-decoration-color: #008080; font-weight: bold\">0.002</span>, <span style=\"color: #008080; text-decoration-color: #008080; font-weight: bold\">0.001</span>, <span style=\"color: #008080; text-decoration-color: #008080; font-weight: bold\">0.001</span><span style=\"font-weight: bold\">]</span>,\n",
       "<span style=\"color: #7fbf7f; text-decoration-color: #7fbf7f\">│      </span><span style=\"font-weight: bold\">[</span><span style=\"color: #008080; text-decoration-color: #008080; font-weight: bold\">0.001</span>, <span style=\"color: #008080; text-decoration-color: #008080; font-weight: bold\">1</span>.   , <span style=\"color: #008080; text-decoration-color: #008080; font-weight: bold\">0.001</span>, <span style=\"color: #808000; text-decoration-color: #808000\">...</span>, <span style=\"color: #008080; text-decoration-color: #008080; font-weight: bold\">0.002</span>, <span style=\"color: #008080; text-decoration-color: #008080; font-weight: bold\">0.001</span>, <span style=\"color: #008080; text-decoration-color: #008080; font-weight: bold\">0.001</span><span style=\"font-weight: bold\">]</span>,\n",
       "<span style=\"color: #7fbf7f; text-decoration-color: #7fbf7f\">│      </span><span style=\"font-weight: bold\">[</span><span style=\"color: #008080; text-decoration-color: #008080; font-weight: bold\">0.001</span>, <span style=\"color: #008080; text-decoration-color: #008080; font-weight: bold\">0.002</span>, <span style=\"color: #008080; text-decoration-color: #008080; font-weight: bold\">1</span>.   , <span style=\"color: #808000; text-decoration-color: #808000\">...</span>, <span style=\"color: #008080; text-decoration-color: #008080; font-weight: bold\">0.002</span>, <span style=\"color: #008080; text-decoration-color: #008080; font-weight: bold\">0.001</span>, <span style=\"color: #008080; text-decoration-color: #008080; font-weight: bold\">0.001</span><span style=\"font-weight: bold\">]</span>,\n",
       "<span style=\"color: #7fbf7f; text-decoration-color: #7fbf7f\">│      </span><span style=\"color: #808000; text-decoration-color: #808000\">...</span>,\n",
       "<span style=\"color: #7fbf7f; text-decoration-color: #7fbf7f\">│      </span><span style=\"font-weight: bold\">[</span><span style=\"color: #008080; text-decoration-color: #008080; font-weight: bold\">0.001</span>, <span style=\"color: #008080; text-decoration-color: #008080; font-weight: bold\">0.002</span>, <span style=\"color: #008080; text-decoration-color: #008080; font-weight: bold\">0.001</span>, <span style=\"color: #808000; text-decoration-color: #808000\">...</span>, <span style=\"color: #008080; text-decoration-color: #008080; font-weight: bold\">1</span>.   , <span style=\"color: #008080; text-decoration-color: #008080; font-weight: bold\">0.001</span>, <span style=\"color: #008080; text-decoration-color: #008080; font-weight: bold\">0.001</span><span style=\"font-weight: bold\">]</span>,\n",
       "<span style=\"color: #7fbf7f; text-decoration-color: #7fbf7f\">│      </span><span style=\"font-weight: bold\">[</span><span style=\"color: #008080; text-decoration-color: #008080; font-weight: bold\">0.001</span>, <span style=\"color: #008080; text-decoration-color: #008080; font-weight: bold\">0.001</span>, <span style=\"color: #008080; text-decoration-color: #008080; font-weight: bold\">0.001</span>, <span style=\"color: #808000; text-decoration-color: #808000\">...</span>, <span style=\"color: #008080; text-decoration-color: #008080; font-weight: bold\">0.002</span>, <span style=\"color: #008080; text-decoration-color: #008080; font-weight: bold\">1</span>.   , <span style=\"color: #008080; text-decoration-color: #008080; font-weight: bold\">0.001</span><span style=\"font-weight: bold\">]</span>,\n",
       "<span style=\"color: #7fbf7f; text-decoration-color: #7fbf7f\">│      </span><span style=\"font-weight: bold\">[</span><span style=\"color: #008080; text-decoration-color: #008080; font-weight: bold\">0.001</span>, <span style=\"color: #008080; text-decoration-color: #008080; font-weight: bold\">0.002</span>, <span style=\"color: #008080; text-decoration-color: #008080; font-weight: bold\">0.001</span>, <span style=\"color: #808000; text-decoration-color: #808000\">...</span>, <span style=\"color: #008080; text-decoration-color: #008080; font-weight: bold\">0.002</span>, <span style=\"color: #008080; text-decoration-color: #008080; font-weight: bold\">0.001</span>, <span style=\"color: #008080; text-decoration-color: #008080; font-weight: bold\">1</span>.   <span style=\"font-weight: bold\">]]</span>, <span style=\"color: #808000; text-decoration-color: #808000\">dtype</span>=<span style=\"color: #800080; text-decoration-color: #800080\">float32</span><span style=\"font-weight: bold\">)</span>\n",
       "</pre>\n"
      ],
      "text/plain": [
       "\u001b[1;35marray\u001b[0m\u001b[1m(\u001b[0m\u001b[1m[\u001b[0m\u001b[1m[\u001b[0m\u001b[1;36m1\u001b[0m.   , \u001b[1;36m0.002\u001b[0m, \u001b[1;36m0.001\u001b[0m, \u001b[33m...\u001b[0m, \u001b[1;36m0.002\u001b[0m, \u001b[1;36m0.001\u001b[0m, \u001b[1;36m0.001\u001b[0m\u001b[1m]\u001b[0m,\n",
       "\u001b[2;32m│      \u001b[0m\u001b[1m[\u001b[0m\u001b[1;36m0.001\u001b[0m, \u001b[1;36m1\u001b[0m.   , \u001b[1;36m0.001\u001b[0m, \u001b[33m...\u001b[0m, \u001b[1;36m0.002\u001b[0m, \u001b[1;36m0.001\u001b[0m, \u001b[1;36m0.001\u001b[0m\u001b[1m]\u001b[0m,\n",
       "\u001b[2;32m│      \u001b[0m\u001b[1m[\u001b[0m\u001b[1;36m0.001\u001b[0m, \u001b[1;36m0.002\u001b[0m, \u001b[1;36m1\u001b[0m.   , \u001b[33m...\u001b[0m, \u001b[1;36m0.002\u001b[0m, \u001b[1;36m0.001\u001b[0m, \u001b[1;36m0.001\u001b[0m\u001b[1m]\u001b[0m,\n",
       "\u001b[2;32m│      \u001b[0m\u001b[33m...\u001b[0m,\n",
       "\u001b[2;32m│      \u001b[0m\u001b[1m[\u001b[0m\u001b[1;36m0.001\u001b[0m, \u001b[1;36m0.002\u001b[0m, \u001b[1;36m0.001\u001b[0m, \u001b[33m...\u001b[0m, \u001b[1;36m1\u001b[0m.   , \u001b[1;36m0.001\u001b[0m, \u001b[1;36m0.001\u001b[0m\u001b[1m]\u001b[0m,\n",
       "\u001b[2;32m│      \u001b[0m\u001b[1m[\u001b[0m\u001b[1;36m0.001\u001b[0m, \u001b[1;36m0.001\u001b[0m, \u001b[1;36m0.001\u001b[0m, \u001b[33m...\u001b[0m, \u001b[1;36m0.002\u001b[0m, \u001b[1;36m1\u001b[0m.   , \u001b[1;36m0.001\u001b[0m\u001b[1m]\u001b[0m,\n",
       "\u001b[2;32m│      \u001b[0m\u001b[1m[\u001b[0m\u001b[1;36m0.001\u001b[0m, \u001b[1;36m0.002\u001b[0m, \u001b[1;36m0.001\u001b[0m, \u001b[33m...\u001b[0m, \u001b[1;36m0.002\u001b[0m, \u001b[1;36m0.001\u001b[0m, \u001b[1;36m1\u001b[0m.   \u001b[1m]\u001b[0m\u001b[1m]\u001b[0m, \u001b[33mdtype\u001b[0m=\u001b[35mfloat32\u001b[0m\u001b[1m)\u001b[0m\n"
      ]
     },
     "metadata": {},
     "output_type": "display_data"
    }
   ],
   "source": [
    "# Plot heatmap for one architecture\n",
    "dataset_i = 0\n",
    "architecture_i = 0\n",
    "\n",
    "example_validation_mse = validation_mse[dataset_i, :, :, architecture_i]\n",
    "logger.info(example_validation_mse.shape)\n",
    "pretty.pprint(example_validation_mse)"
   ]
  },
  {
   "cell_type": "code",
   "execution_count": 99,
   "metadata": {},
   "outputs": [
    {
     "name": "stdout",
     "output_type": "stream",
     "text": [
      "\u001b[2;36m[12/13/24 15:23:46]\u001b[0m\u001b[2;36m \u001b[0m\u001b[1;34mINFO    \u001b[0m\u001b[1;32m \u001b[0m\u001b[1m[\u001b[0m\u001b[1;36m1064263312.\u001b[0mpy:\u001b[1;36m28\u001b[0m\u001b[1m]\u001b[0m \u001b[1m[\u001b[0m\u001b[32m'Gerald \u001b[0m       \u001b]8;id=904166;file:///var/folders/6f/f4k9qbkd5nqfywwdhvwdtl5m0000gn/T/ipykernel_17291/1064263312.py\u001b\\\u001b[1;36m1064263312.py\u001b[0m\u001b]8;;\u001b\\\u001b[1;36m:\u001b[0m\u001b]8;id=943911;file:///var/folders/6f/f4k9qbkd5nqfywwdhvwdtl5m0000gn/T/ipykernel_17291/1064263312.py#28\u001b\\\u001b[1;36m28\u001b[0m\u001b]8;;\u001b\\\n",
      "\u001b[2;36m                    \u001b[0m\u001b[1;32m         \u001b[0m\u001b[32mDavila'\u001b[0m, \u001b[32m'Christopher Nunez'\u001b[0m,      \u001b[1;36m                \u001b[0m\n",
      "\u001b[2;36m                    \u001b[0m\u001b[1;32m         \u001b[0m\u001b[32m'Richard Archer'\u001b[0m, \u001b[32m'Jessica \u001b[0m        \u001b[1;36m                \u001b[0m\n",
      "\u001b[2;36m                    \u001b[0m\u001b[1;32m         \u001b[0m\u001b[32mBaldwin'\u001b[0m, \u001b[32m'Andrea Williams'\u001b[0m,       \u001b[1;36m                \u001b[0m\n",
      "\u001b[2;36m                    \u001b[0m\u001b[1;32m         \u001b[0m\u001b[32m'Elizabeth Pratt'\u001b[0m, \u001b[32m'Jeremy \u001b[0m        \u001b[1;36m                \u001b[0m\n",
      "\u001b[2;36m                    \u001b[0m\u001b[1;32m         \u001b[0m\u001b[32mTorres'\u001b[0m, \u001b[32m'Brenda Franklin'\u001b[0m, \u001b[32m'Nancy\u001b[0m \u001b[1;36m                \u001b[0m\n",
      "\u001b[2;36m                    \u001b[0m\u001b[1;32m         \u001b[0m\u001b[32mJames'\u001b[0m, \u001b[32m'Anthony Parker'\u001b[0m\u001b[1m]\u001b[0m          \u001b[1;36m                \u001b[0m\n",
      "\u001b[2;36m                   \u001b[0m\u001b[2;36m \u001b[0m\u001b[1;34mINFO    \u001b[0m\u001b[1;32m \u001b[0m\u001b[1m[\u001b[0m\u001b[1;36m1064263312.\u001b[0mpy:\u001b[1;36m31\u001b[0m\u001b[1m]\u001b[0m Creating        \u001b]8;id=87908;file:///var/folders/6f/f4k9qbkd5nqfywwdhvwdtl5m0000gn/T/ipykernel_17291/1064263312.py\u001b\\\u001b[1;36m1064263312.py\u001b[0m\u001b]8;;\u001b\\\u001b[1;36m:\u001b[0m\u001b]8;id=373851;file:///var/folders/6f/f4k9qbkd5nqfywwdhvwdtl5m0000gn/T/ipykernel_17291/1064263312.py#31\u001b\\\u001b[1;36m31\u001b[0m\u001b]8;;\u001b\\\n",
      "\u001b[2;36m                    \u001b[0m\u001b[1;32m         \u001b[0mheatmap visualization\u001b[33m...\u001b[0m           \u001b[1;36m                \u001b[0m\n"
     ]
    },
    {
     "data": {
      "application/vnd.plotly.v1+json": {
       "config": {
        "plotlyServerURL": "https://plot.ly"
       },
       "data": [
        {
         "colorscale": [
          [
           0,
           "#440154"
          ],
          [
           0.1111111111111111,
           "#482878"
          ],
          [
           0.2222222222222222,
           "#3e4989"
          ],
          [
           0.3333333333333333,
           "#31688e"
          ],
          [
           0.4444444444444444,
           "#26828e"
          ],
          [
           0.5555555555555556,
           "#1f9e89"
          ],
          [
           0.6666666666666666,
           "#35b779"
          ],
          [
           0.7777777777777778,
           "#6ece58"
          ],
          [
           0.8888888888888888,
           "#b5de2b"
          ],
          [
           1,
           "#fde725"
          ]
         ],
         "reversescale": false,
         "showscale": true,
         "text": [
          [
           "0.64",
           "0.27",
           "0.04",
           "0.02",
           "0.81",
           "0.91",
           "0.61",
           "0.73",
           "0.54",
           "0.94"
          ],
          [
           "0.82",
           "0.00",
           "0.86",
           "0.03",
           "0.73",
           "0.18",
           "0.86",
           "0.54",
           "0.30",
           "0.42"
          ],
          [
           "0.03",
           "0.12",
           "0.67",
           "0.65",
           "0.62",
           "0.38",
           "1.00",
           "0.98",
           "0.69",
           "0.65"
          ],
          [
           "0.69",
           "0.39",
           "0.14",
           "0.72",
           "0.53",
           "0.31",
           "0.49",
           "0.89",
           "0.93",
           "0.36"
          ],
          [
           "0.57",
           "0.32",
           "0.59",
           "0.34",
           "0.39",
           "0.89",
           "0.23",
           "0.62",
           "0.08",
           "0.83"
          ],
          [
           "0.79",
           "0.24",
           "0.88",
           "0.06",
           "0.34",
           "0.15",
           "0.45",
           "0.80",
           "0.23",
           "0.05"
          ],
          [
           "0.40",
           "0.20",
           "0.09",
           "0.58",
           "0.30",
           "0.67",
           "0.20",
           "0.94",
           "0.37",
           "0.11"
          ],
          [
           "0.63",
           "0.93",
           "0.44",
           "0.95",
           "0.50",
           "0.43",
           "0.62",
           "1.00",
           "0.95",
           "0.46"
          ],
          [
           "0.76",
           "0.50",
           "0.53",
           "0.79",
           "0.41",
           "0.73",
           "0.71",
           "0.93",
           "0.11",
           "0.73"
          ],
          [
           "0.93",
           "0.97",
           "0.01",
           "0.86",
           "0.98",
           "0.96",
           "0.15",
           "0.97",
           "0.89",
           "0.82"
          ]
         ],
         "textfont": {
          "color": "black"
         },
         "texttemplate": "%{text}",
         "type": "heatmap",
         "x": [
          "Gerald Davila",
          "Christopher Nunez",
          "Richard Archer",
          "Jessica Baldwin",
          "Andrea Williams",
          "Elizabeth Pratt",
          "Jeremy Torres",
          "Brenda Franklin",
          "Nancy James",
          "Anthony Parker"
         ],
         "y": [
          "Gerald Davila",
          "Christopher Nunez",
          "Richard Archer",
          "Jessica Baldwin",
          "Andrea Williams",
          "Elizabeth Pratt",
          "Jeremy Torres",
          "Brenda Franklin",
          "Nancy James",
          "Anthony Parker"
         ],
         "z": [
          [
           0.6369616873214543,
           0.2697867137638703,
           0.04097352393619469,
           0.016527635528529094,
           0.8132702392002724,
           0.9127555772777217,
           0.6066357757671799,
           0.7294965609839984,
           0.5436249914654229,
           0.9350724237877682
          ],
          [
           0.8158535541215322,
           0.002738500170148095,
           0.8574042765875693,
           0.033585575305464355,
           0.7296554464299441,
           0.17565562060255901,
           0.8631789223498866,
           0.5414612202490917,
           0.2997118905373848,
           0.42268722119765845
          ],
          [
           0.028319671145462966,
           0.12428327649956394,
           0.6706244146936303,
           0.6471895115742501,
           0.6153851114812539,
           0.38367755426188344,
           0.997209935789211,
           0.9808353387762301,
           0.6855419844806947,
           0.6504592762678163
          ],
          [
           0.6884467305709401,
           0.3889214239791038,
           0.13509650502241122,
           0.7214883401940817,
           0.5253543224757259,
           0.31024187555895566,
           0.4858353588317891,
           0.8894878343490003,
           0.9340435159562497,
           0.35779519670907023
          ],
          [
           0.5715298307297609,
           0.32186939107594215,
           0.5943000301996968,
           0.33791122550713326,
           0.39161900052816123,
           0.8902743520047923,
           0.22715759353337972,
           0.6231871446860424,
           0.08401534358238483,
           0.8326441476533978
          ],
          [
           0.7870983074886834,
           0.23936944299295215,
           0.8764842308107038,
           0.05856803480519435,
           0.3361170605456604,
           0.15027946689483906,
           0.450339366649287,
           0.7963242702872942,
           0.23064220899374743,
           0.05202130106440961
          ],
          [
           0.4045518398215282,
           0.19851304450925533,
           0.0907530456191219,
           0.5803323859868507,
           0.2986961328189226,
           0.6719948779563594,
           0.1995154439682133,
           0.9421131105064978,
           0.36511016824482856,
           0.10549527957022953
          ],
          [
           0.6291081515397092,
           0.9271545530678674,
           0.440377154715784,
           0.9545904936907372,
           0.499895813687647,
           0.42522862484907553,
           0.6202134520153778,
           0.9950965052353241,
           0.9489436749377653,
           0.4600451393090961
          ],
          [
           0.7577288453082914,
           0.49742269548761897,
           0.5293121601967704,
           0.7857857007138075,
           0.4146558493556708,
           0.7344835717887294,
           0.7111428779897498,
           0.9320596866133782,
           0.1149326332809052,
           0.7290151170763094
          ],
          [
           0.9274239286245599,
           0.9679261899246464,
           0.014706304965369288,
           0.8636400902455758,
           0.9811950400663443,
           0.9572101796109636,
           0.1487640122324979,
           0.972628813822955,
           0.8899355557205206,
           0.8223738275430704
          ]
         ]
        }
       ],
       "layout": {
        "dragmode": false,
        "height": 600,
        "modebar": {
         "remove": [
          "zoomIn2d",
          "zoomOut2d",
          "autoScale2d",
          "resetScale2d",
          "hoverClosestCartesian",
          "hoverCompareCartesian",
          "toggleSpikelines"
         ]
        },
        "template": {
         "data": {
          "bar": [
           {
            "error_x": {
             "color": "#2a3f5f"
            },
            "error_y": {
             "color": "#2a3f5f"
            },
            "marker": {
             "line": {
              "color": "#E5ECF6",
              "width": 0.5
             },
             "pattern": {
              "fillmode": "overlay",
              "size": 10,
              "solidity": 0.2
             }
            },
            "type": "bar"
           }
          ],
          "barpolar": [
           {
            "marker": {
             "line": {
              "color": "#E5ECF6",
              "width": 0.5
             },
             "pattern": {
              "fillmode": "overlay",
              "size": 10,
              "solidity": 0.2
             }
            },
            "type": "barpolar"
           }
          ],
          "carpet": [
           {
            "aaxis": {
             "endlinecolor": "#2a3f5f",
             "gridcolor": "white",
             "linecolor": "white",
             "minorgridcolor": "white",
             "startlinecolor": "#2a3f5f"
            },
            "baxis": {
             "endlinecolor": "#2a3f5f",
             "gridcolor": "white",
             "linecolor": "white",
             "minorgridcolor": "white",
             "startlinecolor": "#2a3f5f"
            },
            "type": "carpet"
           }
          ],
          "choropleth": [
           {
            "colorbar": {
             "outlinewidth": 0,
             "ticks": ""
            },
            "type": "choropleth"
           }
          ],
          "contour": [
           {
            "colorbar": {
             "outlinewidth": 0,
             "ticks": ""
            },
            "colorscale": [
             [
              0,
              "#0d0887"
             ],
             [
              0.1111111111111111,
              "#46039f"
             ],
             [
              0.2222222222222222,
              "#7201a8"
             ],
             [
              0.3333333333333333,
              "#9c179e"
             ],
             [
              0.4444444444444444,
              "#bd3786"
             ],
             [
              0.5555555555555556,
              "#d8576b"
             ],
             [
              0.6666666666666666,
              "#ed7953"
             ],
             [
              0.7777777777777778,
              "#fb9f3a"
             ],
             [
              0.8888888888888888,
              "#fdca26"
             ],
             [
              1,
              "#f0f921"
             ]
            ],
            "type": "contour"
           }
          ],
          "contourcarpet": [
           {
            "colorbar": {
             "outlinewidth": 0,
             "ticks": ""
            },
            "type": "contourcarpet"
           }
          ],
          "heatmap": [
           {
            "colorbar": {
             "outlinewidth": 0,
             "ticks": ""
            },
            "colorscale": [
             [
              0,
              "#0d0887"
             ],
             [
              0.1111111111111111,
              "#46039f"
             ],
             [
              0.2222222222222222,
              "#7201a8"
             ],
             [
              0.3333333333333333,
              "#9c179e"
             ],
             [
              0.4444444444444444,
              "#bd3786"
             ],
             [
              0.5555555555555556,
              "#d8576b"
             ],
             [
              0.6666666666666666,
              "#ed7953"
             ],
             [
              0.7777777777777778,
              "#fb9f3a"
             ],
             [
              0.8888888888888888,
              "#fdca26"
             ],
             [
              1,
              "#f0f921"
             ]
            ],
            "type": "heatmap"
           }
          ],
          "heatmapgl": [
           {
            "colorbar": {
             "outlinewidth": 0,
             "ticks": ""
            },
            "colorscale": [
             [
              0,
              "#0d0887"
             ],
             [
              0.1111111111111111,
              "#46039f"
             ],
             [
              0.2222222222222222,
              "#7201a8"
             ],
             [
              0.3333333333333333,
              "#9c179e"
             ],
             [
              0.4444444444444444,
              "#bd3786"
             ],
             [
              0.5555555555555556,
              "#d8576b"
             ],
             [
              0.6666666666666666,
              "#ed7953"
             ],
             [
              0.7777777777777778,
              "#fb9f3a"
             ],
             [
              0.8888888888888888,
              "#fdca26"
             ],
             [
              1,
              "#f0f921"
             ]
            ],
            "type": "heatmapgl"
           }
          ],
          "histogram": [
           {
            "marker": {
             "pattern": {
              "fillmode": "overlay",
              "size": 10,
              "solidity": 0.2
             }
            },
            "type": "histogram"
           }
          ],
          "histogram2d": [
           {
            "colorbar": {
             "outlinewidth": 0,
             "ticks": ""
            },
            "colorscale": [
             [
              0,
              "#0d0887"
             ],
             [
              0.1111111111111111,
              "#46039f"
             ],
             [
              0.2222222222222222,
              "#7201a8"
             ],
             [
              0.3333333333333333,
              "#9c179e"
             ],
             [
              0.4444444444444444,
              "#bd3786"
             ],
             [
              0.5555555555555556,
              "#d8576b"
             ],
             [
              0.6666666666666666,
              "#ed7953"
             ],
             [
              0.7777777777777778,
              "#fb9f3a"
             ],
             [
              0.8888888888888888,
              "#fdca26"
             ],
             [
              1,
              "#f0f921"
             ]
            ],
            "type": "histogram2d"
           }
          ],
          "histogram2dcontour": [
           {
            "colorbar": {
             "outlinewidth": 0,
             "ticks": ""
            },
            "colorscale": [
             [
              0,
              "#0d0887"
             ],
             [
              0.1111111111111111,
              "#46039f"
             ],
             [
              0.2222222222222222,
              "#7201a8"
             ],
             [
              0.3333333333333333,
              "#9c179e"
             ],
             [
              0.4444444444444444,
              "#bd3786"
             ],
             [
              0.5555555555555556,
              "#d8576b"
             ],
             [
              0.6666666666666666,
              "#ed7953"
             ],
             [
              0.7777777777777778,
              "#fb9f3a"
             ],
             [
              0.8888888888888888,
              "#fdca26"
             ],
             [
              1,
              "#f0f921"
             ]
            ],
            "type": "histogram2dcontour"
           }
          ],
          "mesh3d": [
           {
            "colorbar": {
             "outlinewidth": 0,
             "ticks": ""
            },
            "type": "mesh3d"
           }
          ],
          "parcoords": [
           {
            "line": {
             "colorbar": {
              "outlinewidth": 0,
              "ticks": ""
             }
            },
            "type": "parcoords"
           }
          ],
          "pie": [
           {
            "automargin": true,
            "type": "pie"
           }
          ],
          "scatter": [
           {
            "fillpattern": {
             "fillmode": "overlay",
             "size": 10,
             "solidity": 0.2
            },
            "type": "scatter"
           }
          ],
          "scatter3d": [
           {
            "line": {
             "colorbar": {
              "outlinewidth": 0,
              "ticks": ""
             }
            },
            "marker": {
             "colorbar": {
              "outlinewidth": 0,
              "ticks": ""
             }
            },
            "type": "scatter3d"
           }
          ],
          "scattercarpet": [
           {
            "marker": {
             "colorbar": {
              "outlinewidth": 0,
              "ticks": ""
             }
            },
            "type": "scattercarpet"
           }
          ],
          "scattergeo": [
           {
            "marker": {
             "colorbar": {
              "outlinewidth": 0,
              "ticks": ""
             }
            },
            "type": "scattergeo"
           }
          ],
          "scattergl": [
           {
            "marker": {
             "colorbar": {
              "outlinewidth": 0,
              "ticks": ""
             }
            },
            "type": "scattergl"
           }
          ],
          "scattermapbox": [
           {
            "marker": {
             "colorbar": {
              "outlinewidth": 0,
              "ticks": ""
             }
            },
            "type": "scattermapbox"
           }
          ],
          "scatterpolar": [
           {
            "marker": {
             "colorbar": {
              "outlinewidth": 0,
              "ticks": ""
             }
            },
            "type": "scatterpolar"
           }
          ],
          "scatterpolargl": [
           {
            "marker": {
             "colorbar": {
              "outlinewidth": 0,
              "ticks": ""
             }
            },
            "type": "scatterpolargl"
           }
          ],
          "scatterternary": [
           {
            "marker": {
             "colorbar": {
              "outlinewidth": 0,
              "ticks": ""
             }
            },
            "type": "scatterternary"
           }
          ],
          "surface": [
           {
            "colorbar": {
             "outlinewidth": 0,
             "ticks": ""
            },
            "colorscale": [
             [
              0,
              "#0d0887"
             ],
             [
              0.1111111111111111,
              "#46039f"
             ],
             [
              0.2222222222222222,
              "#7201a8"
             ],
             [
              0.3333333333333333,
              "#9c179e"
             ],
             [
              0.4444444444444444,
              "#bd3786"
             ],
             [
              0.5555555555555556,
              "#d8576b"
             ],
             [
              0.6666666666666666,
              "#ed7953"
             ],
             [
              0.7777777777777778,
              "#fb9f3a"
             ],
             [
              0.8888888888888888,
              "#fdca26"
             ],
             [
              1,
              "#f0f921"
             ]
            ],
            "type": "surface"
           }
          ],
          "table": [
           {
            "cells": {
             "fill": {
              "color": "#EBF0F8"
             },
             "line": {
              "color": "white"
             }
            },
            "header": {
             "fill": {
              "color": "#C8D4E3"
             },
             "line": {
              "color": "white"
             }
            },
            "type": "table"
           }
          ]
         },
         "layout": {
          "annotationdefaults": {
           "arrowcolor": "#2a3f5f",
           "arrowhead": 0,
           "arrowwidth": 1
          },
          "autotypenumbers": "strict",
          "coloraxis": {
           "colorbar": {
            "outlinewidth": 0,
            "ticks": ""
           }
          },
          "colorscale": {
           "diverging": [
            [
             0,
             "#8e0152"
            ],
            [
             0.1,
             "#c51b7d"
            ],
            [
             0.2,
             "#de77ae"
            ],
            [
             0.3,
             "#f1b6da"
            ],
            [
             0.4,
             "#fde0ef"
            ],
            [
             0.5,
             "#f7f7f7"
            ],
            [
             0.6,
             "#e6f5d0"
            ],
            [
             0.7,
             "#b8e186"
            ],
            [
             0.8,
             "#7fbc41"
            ],
            [
             0.9,
             "#4d9221"
            ],
            [
             1,
             "#276419"
            ]
           ],
           "sequential": [
            [
             0,
             "#0d0887"
            ],
            [
             0.1111111111111111,
             "#46039f"
            ],
            [
             0.2222222222222222,
             "#7201a8"
            ],
            [
             0.3333333333333333,
             "#9c179e"
            ],
            [
             0.4444444444444444,
             "#bd3786"
            ],
            [
             0.5555555555555556,
             "#d8576b"
            ],
            [
             0.6666666666666666,
             "#ed7953"
            ],
            [
             0.7777777777777778,
             "#fb9f3a"
            ],
            [
             0.8888888888888888,
             "#fdca26"
            ],
            [
             1,
             "#f0f921"
            ]
           ],
           "sequentialminus": [
            [
             0,
             "#0d0887"
            ],
            [
             0.1111111111111111,
             "#46039f"
            ],
            [
             0.2222222222222222,
             "#7201a8"
            ],
            [
             0.3333333333333333,
             "#9c179e"
            ],
            [
             0.4444444444444444,
             "#bd3786"
            ],
            [
             0.5555555555555556,
             "#d8576b"
            ],
            [
             0.6666666666666666,
             "#ed7953"
            ],
            [
             0.7777777777777778,
             "#fb9f3a"
            ],
            [
             0.8888888888888888,
             "#fdca26"
            ],
            [
             1,
             "#f0f921"
            ]
           ]
          },
          "colorway": [
           "#636efa",
           "#EF553B",
           "#00cc96",
           "#ab63fa",
           "#FFA15A",
           "#19d3f3",
           "#FF6692",
           "#B6E880",
           "#FF97FF",
           "#FECB52"
          ],
          "font": {
           "color": "#2a3f5f"
          },
          "geo": {
           "bgcolor": "white",
           "lakecolor": "white",
           "landcolor": "#E5ECF6",
           "showlakes": true,
           "showland": true,
           "subunitcolor": "white"
          },
          "hoverlabel": {
           "align": "left"
          },
          "hovermode": "closest",
          "mapbox": {
           "style": "light"
          },
          "paper_bgcolor": "white",
          "plot_bgcolor": "#E5ECF6",
          "polar": {
           "angularaxis": {
            "gridcolor": "white",
            "linecolor": "white",
            "ticks": ""
           },
           "bgcolor": "#E5ECF6",
           "radialaxis": {
            "gridcolor": "white",
            "linecolor": "white",
            "ticks": ""
           }
          },
          "scene": {
           "xaxis": {
            "backgroundcolor": "#E5ECF6",
            "gridcolor": "white",
            "gridwidth": 2,
            "linecolor": "white",
            "showbackground": true,
            "ticks": "",
            "zerolinecolor": "white"
           },
           "yaxis": {
            "backgroundcolor": "#E5ECF6",
            "gridcolor": "white",
            "gridwidth": 2,
            "linecolor": "white",
            "showbackground": true,
            "ticks": "",
            "zerolinecolor": "white"
           },
           "zaxis": {
            "backgroundcolor": "#E5ECF6",
            "gridcolor": "white",
            "gridwidth": 2,
            "linecolor": "white",
            "showbackground": true,
            "ticks": "",
            "zerolinecolor": "white"
           }
          },
          "shapedefaults": {
           "line": {
            "color": "#2a3f5f"
           }
          },
          "ternary": {
           "aaxis": {
            "gridcolor": "white",
            "linecolor": "white",
            "ticks": ""
           },
           "baxis": {
            "gridcolor": "white",
            "linecolor": "white",
            "ticks": ""
           },
           "bgcolor": "#E5ECF6",
           "caxis": {
            "gridcolor": "white",
            "linecolor": "white",
            "ticks": ""
           }
          },
          "title": {
           "x": 0.05
          },
          "xaxis": {
           "automargin": true,
           "gridcolor": "white",
           "linecolor": "white",
           "ticks": "",
           "title": {
            "standoff": 15
           },
           "zerolinecolor": "white",
           "zerolinewidth": 2
          },
          "yaxis": {
           "automargin": true,
           "gridcolor": "white",
           "linecolor": "white",
           "ticks": "",
           "title": {
            "standoff": 15
           },
           "zerolinecolor": "white",
           "zerolinewidth": 2
          }
         }
        },
        "title": {
         "text": "DEFAULT TITLE"
        },
        "width": 800,
        "xaxis": {
         "fixedrange": true,
         "nticks": 10
        },
        "yaxis": {
         "fixedrange": true,
         "nticks": 10
        }
       }
      }
     },
     "metadata": {},
     "output_type": "display_data"
    }
   ],
   "source": [
    "rng = np.random.default_rng(0)\n",
    "\n",
    "\n",
    "def heatmap(\n",
    "    matrix: np.ndarray | None = None,\n",
    "    labels: list | None = None,\n",
    "    title: str = \"DEFAULT TITLE\",\n",
    "    show_values: bool = True,\n",
    "    value_format: Literal[\".2f\", \".2e\"] = \".2f\",\n",
    "    width: int = 800,\n",
    "    height: int = 600,\n",
    "    xaxis_title: str | None = None,\n",
    "    yaxis_title: str | None = None,\n",
    "    log: bool = False,\n",
    "    nan_diagnal: bool = False,\n",
    "):\n",
    "    if matrix is None:\n",
    "        faker = Faker()\n",
    "        shape = (10, 10)\n",
    "        matrix = rng.random(shape)\n",
    "        # logger.info(matrix)\n",
    "    else:\n",
    "        shape = matrix.shape\n",
    "\n",
    "    if labels is None:\n",
    "        labels = [faker.name() for _ in range(shape[0])]\n",
    "        # logger.info(\"Using example labels and matrix\")\n",
    "        logger.info(labels)\n",
    "    col_labels = labels\n",
    "    row_labels = labels\n",
    "    logger.info(\"Creating heatmap visualization...\")\n",
    "\n",
    "    # Convert input to numpy array and handle None values\n",
    "    matrix = np.array(matrix, dtype=object)\n",
    "    none_mask = matrix is None\n",
    "    matrix = matrix.astype(float)\n",
    "    if log:\n",
    "        matrix = np.log10(matrix)\n",
    "    matrix[none_mask] = np.nan\n",
    "    if nan_diagnal:\n",
    "        matrix[np.identity(matrix.shape[0], dtype=bool)] = np.nan\n",
    "\n",
    "    # Format cell values if needed\n",
    "    text_vals = None\n",
    "    if show_values:\n",
    "        text_vals = np.vectorize(lambda x: \"N/A\" if np.isnan(x) else f\"{x:{value_format}}\")(matrix)\n",
    "\n",
    "    fig = go.Figure(\n",
    "        data=[\n",
    "            go.Heatmap(\n",
    "                z=matrix,\n",
    "                x=col_labels,\n",
    "                y=row_labels,\n",
    "                colorscale=\"Viridis\",\n",
    "                text=text_vals,\n",
    "                texttemplate=\"%{text}\" if show_values else None,\n",
    "                textfont={\"color\": \"black\"},\n",
    "                reversescale=False,\n",
    "                showscale=True,\n",
    "            )\n",
    "        ],\n",
    "        layout={\n",
    "            \"title\": title,\n",
    "            \"width\": width,\n",
    "            \"height\": height,\n",
    "            \"xaxis\": {\n",
    "                \"title\": xaxis_title,\n",
    "                \"nticks\": len(col_labels) if col_labels else None,\n",
    "                \"fixedrange\": True,  # Disable zoom/pan\n",
    "            },\n",
    "            \"yaxis\": {\n",
    "                \"title\": yaxis_title,\n",
    "                \"nticks\": len(row_labels) if row_labels else None,\n",
    "                \"fixedrange\": True,  # Disable zoom/pan\n",
    "            },\n",
    "            \"dragmode\": False,  # Disable dragging/panning\n",
    "            \"modebar\": {\n",
    "                \"remove\": [\n",
    "                    \"zoomIn2d\",\n",
    "                    \"zoomOut2d\",\n",
    "                    \"autoScale2d\",\n",
    "                    \"resetScale2d\",\n",
    "                    \"hoverClosestCartesian\",\n",
    "                    \"hoverCompareCartesian\",\n",
    "                    \"toggleSpikelines\",\n",
    "                ]\n",
    "            },\n",
    "        },\n",
    "    )\n",
    "    return fig\n",
    "\n",
    "\n",
    "heatmap()"
   ]
  },
  {
   "cell_type": "code",
   "execution_count": 110,
   "metadata": {},
   "outputs": [
    {
     "data": {
      "application/vnd.plotly.v1+json": {
       "config": {
        "plotlyServerURL": "https://plot.ly"
       },
       "data": [
        {
         "colorscale": [
          [
           0,
           "#440154"
          ],
          [
           0.1111111111111111,
           "#482878"
          ],
          [
           0.2222222222222222,
           "#3e4989"
          ],
          [
           0.3333333333333333,
           "#31688e"
          ],
          [
           0.4444444444444444,
           "#26828e"
          ],
          [
           0.5555555555555556,
           "#1f9e89"
          ],
          [
           0.6666666666666666,
           "#35b779"
          ],
          [
           0.7777777777777778,
           "#6ece58"
          ],
          [
           0.8888888888888888,
           "#b5de2b"
          ],
          [
           1,
           "#fde725"
          ]
         ],
         "reversescale": false,
         "showscale": true,
         "text": [
          [
           "0.01",
           "0.72",
           "0.68",
           "0.66",
           "0.69",
           "0.59",
           "0.12",
           "0.67",
           "0.01",
           "0.18"
          ],
          [
           "0.42",
           "0.38",
           "0.12",
           "0.43",
           "0.62",
           "0.38",
           "0.71",
           "0.23",
           "0.14",
           "0.75"
          ],
          [
           "0.67",
           "0.43",
           "0.14",
           "0.66",
           "0.75",
           "0.16",
           "0.69",
           "0.36",
           "0.92",
           "0.75"
          ],
          [
           "0.27",
           "0.94",
           "0.03",
           "0.18",
           "0.24",
           "0.73",
           "0.53",
           "0.46",
           "0.22",
           "0.76"
          ],
          [
           "0.12",
           "0.25",
           "0.81",
           "0.45",
           "0.88",
           "0.60",
           "0.79",
           "0.19",
           "0.32",
           "0.38"
          ],
          [
           "0.49",
           "0.47",
           "0.82",
           "0.17",
           "0.85",
           "0.89",
           "0.08",
           "0.01",
           "0.29",
           "0.40"
          ],
          [
           "0.97",
           "0.07",
           "0.78",
           "0.48",
           "0.13",
           "0.37",
           "0.38",
           "0.24",
           "0.29",
           "0.42"
          ],
          [
           "0.96",
           "0.46",
           "0.95",
           "0.03",
           "0.07",
           "0.03",
           "0.67",
           "0.22",
           "0.58",
           "0.80"
          ],
          [
           "0.33",
           "0.25",
           "0.73",
           "0.48",
           "0.15",
           "0.09",
           "0.74",
           "0.86",
           "0.89",
           "0.51"
          ],
          [
           "0.15",
           "0.23",
           "0.45",
           "0.85",
           "0.65",
           "0.27",
           "0.76",
           "0.44",
           "0.98",
           "0.43"
          ]
         ],
         "textfont": {
          "color": "black"
         },
         "texttemplate": "%{text}",
         "type": "heatmap",
         "x": [
          "Chase Smith",
          "Kelly Hansen",
          "Emily Vasquez",
          "Laura Bradley",
          "Matthew Stanton",
          "Alicia Lopez",
          "Corey Stephens",
          "Kelly Nicholson",
          "Thomas Pope",
          "Ana Butler"
         ],
         "y": [
          "Chase Smith",
          "Kelly Hansen",
          "Emily Vasquez",
          "Laura Bradley",
          "Matthew Stanton",
          "Alicia Lopez",
          "Corey Stephens",
          "Kelly Nicholson",
          "Thomas Pope",
          "Ana Butler"
         ],
         "z": [
          [
           0.0061768287842781655,
           0.721165786116842,
           0.6766044632445796,
           0.6569014499256771,
           0.6874150023133265,
           0.5862642110184831,
           0.11527895307851443,
           0.6692037223800513,
           0.006598523780704801,
           0.18284287895470064
          ],
          [
           0.42087840519534825,
           0.37836938040865464,
           0.1189651624145176,
           0.42695760403988736,
           0.6236172436233424,
           0.377463431532434,
           0.7084994832867091,
           0.23092209537827701,
           0.14382527227092345,
           0.7488998444884865
          ],
          [
           0.6687281297620549,
           0.4293706932947625,
           0.13676728481771305,
           0.6636837393289772,
           0.7499557499262143,
           0.16394265320782597,
           0.6893017369301842,
           0.3556370863817859,
           0.915118614889683,
           0.7515396876083913
          ],
          [
           0.2737311702333963,
           0.938026319637804,
           0.02523275610463449,
           0.18482401447839825,
           0.241902971147135,
           0.7320800833698843,
           0.5261680305016215,
           0.4643754078940663,
           0.2225333387721835,
           0.7564671103596112
          ],
          [
           0.11710640805159289,
           0.24734122040485584,
           0.8063603195749761,
           0.451047464466092,
           0.8768177365996089,
           0.601664104232256,
           0.789544646958382,
           0.18740327292912107,
           0.31622186767646676,
           0.3767060518006826
          ],
          [
           0.4941992058820347,
           0.4724670244775304,
           0.8224661575824719,
           0.1731905319120426,
           0.8514859146296521,
           0.8890462941434096,
           0.07551903556109762,
           0.009390369621182337,
           0.29275297281953516,
           0.4007447677615643
          ],
          [
           0.9704494067485071,
           0.07140859705348279,
           0.7813052652283013,
           0.47542495358772874,
           0.12987352477313463,
           0.36608030867065855,
           0.3809014070809107,
           0.24357250030214583,
           0.2943637575238798,
           0.419918831202575
          ],
          [
           0.9622613949147543,
           0.458860568981583,
           0.9501350121123174,
           0.03053207158355553,
           0.0661102585732195,
           0.027815906197269258,
           0.6659446382623543,
           0.22023269111379518,
           0.5764201812930485,
           0.7953661356054246
          ],
          [
           0.33181391865850374,
           0.2456774927090868,
           0.7254085871405749,
           0.4758977932995704,
           0.1492101460493006,
           0.08744511746968864,
           0.7371675011394206,
           0.8604123348789248,
           0.8903620782835129,
           0.5100890074847036
          ],
          [
           0.15345456636464716,
           0.22565741227847802,
           0.4535238890209351,
           0.8518573736056136,
           0.6501974188352687,
           0.2742069569533242,
           0.7559386415571794,
           0.4354401753206102,
           0.9827639451941653,
           0.4287271374848053
          ]
         ]
        }
       ],
       "frames": [
        {
         "data": [
          {
           "colorscale": [
            [
             0,
             "#440154"
            ],
            [
             0.1111111111111111,
             "#482878"
            ],
            [
             0.2222222222222222,
             "#3e4989"
            ],
            [
             0.3333333333333333,
             "#31688e"
            ],
            [
             0.4444444444444444,
             "#26828e"
            ],
            [
             0.5555555555555556,
             "#1f9e89"
            ],
            [
             0.6666666666666666,
             "#35b779"
            ],
            [
             0.7777777777777778,
             "#6ece58"
            ],
            [
             0.8888888888888888,
             "#b5de2b"
            ],
            [
             1,
             "#fde725"
            ]
           ],
           "reversescale": false,
           "showscale": true,
           "text": [
            [
             "0.01",
             "0.72",
             "0.68",
             "0.66",
             "0.69",
             "0.59",
             "0.12",
             "0.67",
             "0.01",
             "0.18"
            ],
            [
             "0.42",
             "0.38",
             "0.12",
             "0.43",
             "0.62",
             "0.38",
             "0.71",
             "0.23",
             "0.14",
             "0.75"
            ],
            [
             "0.67",
             "0.43",
             "0.14",
             "0.66",
             "0.75",
             "0.16",
             "0.69",
             "0.36",
             "0.92",
             "0.75"
            ],
            [
             "0.27",
             "0.94",
             "0.03",
             "0.18",
             "0.24",
             "0.73",
             "0.53",
             "0.46",
             "0.22",
             "0.76"
            ],
            [
             "0.12",
             "0.25",
             "0.81",
             "0.45",
             "0.88",
             "0.60",
             "0.79",
             "0.19",
             "0.32",
             "0.38"
            ],
            [
             "0.49",
             "0.47",
             "0.82",
             "0.17",
             "0.85",
             "0.89",
             "0.08",
             "0.01",
             "0.29",
             "0.40"
            ],
            [
             "0.97",
             "0.07",
             "0.78",
             "0.48",
             "0.13",
             "0.37",
             "0.38",
             "0.24",
             "0.29",
             "0.42"
            ],
            [
             "0.96",
             "0.46",
             "0.95",
             "0.03",
             "0.07",
             "0.03",
             "0.67",
             "0.22",
             "0.58",
             "0.80"
            ],
            [
             "0.33",
             "0.25",
             "0.73",
             "0.48",
             "0.15",
             "0.09",
             "0.74",
             "0.86",
             "0.89",
             "0.51"
            ],
            [
             "0.15",
             "0.23",
             "0.45",
             "0.85",
             "0.65",
             "0.27",
             "0.76",
             "0.44",
             "0.98",
             "0.43"
            ]
           ],
           "textfont": {
            "color": "black"
           },
           "texttemplate": "%{text}",
           "type": "heatmap",
           "x": [
            "Chase Smith",
            "Kelly Hansen",
            "Emily Vasquez",
            "Laura Bradley",
            "Matthew Stanton",
            "Alicia Lopez",
            "Corey Stephens",
            "Kelly Nicholson",
            "Thomas Pope",
            "Ana Butler"
           ],
           "y": [
            "Chase Smith",
            "Kelly Hansen",
            "Emily Vasquez",
            "Laura Bradley",
            "Matthew Stanton",
            "Alicia Lopez",
            "Corey Stephens",
            "Kelly Nicholson",
            "Thomas Pope",
            "Ana Butler"
           ],
           "z": [
            [
             0.0061768287842781655,
             0.721165786116842,
             0.6766044632445796,
             0.6569014499256771,
             0.6874150023133265,
             0.5862642110184831,
             0.11527895307851443,
             0.6692037223800513,
             0.006598523780704801,
             0.18284287895470064
            ],
            [
             0.42087840519534825,
             0.37836938040865464,
             0.1189651624145176,
             0.42695760403988736,
             0.6236172436233424,
             0.377463431532434,
             0.7084994832867091,
             0.23092209537827701,
             0.14382527227092345,
             0.7488998444884865
            ],
            [
             0.6687281297620549,
             0.4293706932947625,
             0.13676728481771305,
             0.6636837393289772,
             0.7499557499262143,
             0.16394265320782597,
             0.6893017369301842,
             0.3556370863817859,
             0.915118614889683,
             0.7515396876083913
            ],
            [
             0.2737311702333963,
             0.938026319637804,
             0.02523275610463449,
             0.18482401447839825,
             0.241902971147135,
             0.7320800833698843,
             0.5261680305016215,
             0.4643754078940663,
             0.2225333387721835,
             0.7564671103596112
            ],
            [
             0.11710640805159289,
             0.24734122040485584,
             0.8063603195749761,
             0.451047464466092,
             0.8768177365996089,
             0.601664104232256,
             0.789544646958382,
             0.18740327292912107,
             0.31622186767646676,
             0.3767060518006826
            ],
            [
             0.4941992058820347,
             0.4724670244775304,
             0.8224661575824719,
             0.1731905319120426,
             0.8514859146296521,
             0.8890462941434096,
             0.07551903556109762,
             0.009390369621182337,
             0.29275297281953516,
             0.4007447677615643
            ],
            [
             0.9704494067485071,
             0.07140859705348279,
             0.7813052652283013,
             0.47542495358772874,
             0.12987352477313463,
             0.36608030867065855,
             0.3809014070809107,
             0.24357250030214583,
             0.2943637575238798,
             0.419918831202575
            ],
            [
             0.9622613949147543,
             0.458860568981583,
             0.9501350121123174,
             0.03053207158355553,
             0.0661102585732195,
             0.027815906197269258,
             0.6659446382623543,
             0.22023269111379518,
             0.5764201812930485,
             0.7953661356054246
            ],
            [
             0.33181391865850374,
             0.2456774927090868,
             0.7254085871405749,
             0.4758977932995704,
             0.1492101460493006,
             0.08744511746968864,
             0.7371675011394206,
             0.8604123348789248,
             0.8903620782835129,
             0.5100890074847036
            ],
            [
             0.15345456636464716,
             0.22565741227847802,
             0.4535238890209351,
             0.8518573736056136,
             0.6501974188352687,
             0.2742069569533242,
             0.7559386415571794,
             0.4354401753206102,
             0.9827639451941653,
             0.4287271374848053
            ]
           ]
          }
         ],
         "name": "frame_0"
        },
        {
         "data": [
          {
           "colorscale": [
            [
             0,
             "#440154"
            ],
            [
             0.1111111111111111,
             "#482878"
            ],
            [
             0.2222222222222222,
             "#3e4989"
            ],
            [
             0.3333333333333333,
             "#31688e"
            ],
            [
             0.4444444444444444,
             "#26828e"
            ],
            [
             0.5555555555555556,
             "#1f9e89"
            ],
            [
             0.6666666666666666,
             "#35b779"
            ],
            [
             0.7777777777777778,
             "#6ece58"
            ],
            [
             0.8888888888888888,
             "#b5de2b"
            ],
            [
             1,
             "#fde725"
            ]
           ],
           "reversescale": false,
           "showscale": true,
           "text": [
            [
             "0.84",
             "0.01",
             "0.72",
             "0.40",
             "0.50",
             "0.20",
             "0.93",
             "0.20",
             "0.56",
             "0.60"
            ],
            [
             "0.86",
             "0.47",
             "0.83",
             "0.52",
             "0.96",
             "0.72",
             "0.91",
             "0.94",
             "0.80",
             "0.12"
            ],
            [
             "0.12",
             "0.62",
             "0.27",
             "0.39",
             "0.17",
             "0.76",
             "0.85",
             "0.13",
             "0.52",
             "0.40"
            ],
            [
             "0.79",
             "0.46",
             "0.73",
             "0.57",
             "0.98",
             "0.42",
             "0.99",
             "0.42",
             "0.18",
             "0.78"
            ],
            [
             "0.27",
             "0.57",
             "0.65",
             "0.20",
             "0.03",
             "0.99",
             "0.82",
             "0.12",
             "0.85",
             "0.26"
            ],
            [
             "0.25",
             "0.77",
             "0.76",
             "0.85",
             "0.14",
             "0.75",
             "0.47",
             "0.33",
             "0.73",
             "0.85"
            ],
            [
             "0.32",
             "0.15",
             "0.99",
             "0.92",
             "0.29",
             "0.81",
             "0.09",
             "0.91",
             "0.77",
             "0.20"
            ],
            [
             "0.30",
             "0.60",
             "0.36",
             "0.74",
             "0.59",
             "0.21",
             "0.61",
             "0.01",
             "0.11",
             "0.16"
            ],
            [
             "0.35",
             "0.01",
             "0.93",
             "0.24",
             "0.27",
             "0.38",
             "0.94",
             "0.35",
             "0.43",
             "0.30"
            ],
            [
             "0.98",
             "0.36",
             "0.08",
             "0.66",
             "0.72",
             "0.37",
             "0.21",
             "0.41",
             "0.44",
             "1.00"
            ]
           ],
           "textfont": {
            "color": "black"
           },
           "texttemplate": "%{text}",
           "type": "heatmap",
           "x": [
            "Chase Smith",
            "Kelly Hansen",
            "Emily Vasquez",
            "Laura Bradley",
            "Matthew Stanton",
            "Alicia Lopez",
            "Corey Stephens",
            "Kelly Nicholson",
            "Thomas Pope",
            "Ana Butler"
           ],
           "y": [
            "Chase Smith",
            "Kelly Hansen",
            "Emily Vasquez",
            "Laura Bradley",
            "Matthew Stanton",
            "Alicia Lopez",
            "Corey Stephens",
            "Kelly Nicholson",
            "Thomas Pope",
            "Ana Butler"
           ],
           "z": [
            [
             0.8371963489035462,
             0.01454163136101938,
             0.7182212650931682,
             0.39847844278491207,
             0.4990093079898348,
             0.19882580036557884,
             0.9295115137269889,
             0.19964501338118745,
             0.5615867040751434,
             0.5973456235768031
            ],
            [
             0.8584434272995116,
             0.4666665396856099,
             0.8298912811609488,
             0.5238965642269047,
             0.9563346594226189,
             0.7166078337322687,
             0.9121052609840152,
             0.9423605323086545,
             0.8022461563180587,
             0.12236754659550675
            ],
            [
             0.12442859823434937,
             0.6162417502970512,
             0.2712066827619659,
             0.38515232422627244,
             0.17382817662362737,
             0.7621716630603876,
             0.8544977036455471,
             0.1328046270642882,
             0.5168349367640347,
             0.39501292999758697
            ],
            [
             0.7900153179807999,
             0.4649923001754772,
             0.7308090491481728,
             0.5661038765794069,
             0.9782481140195477,
             0.4196330759479471,
             0.9876708696600728,
             0.4154385832931349,
             0.1826686513908088,
             0.78208106043741
            ],
            [
             0.2717190023531588,
             0.5657547308350559,
             0.6460150798913267,
             0.19967725815300985,
             0.03440693567802455,
             0.9870333435599575,
             0.8173901430779064,
             0.12370525495947704,
             0.8479694301231584,
             0.25813020175160895
            ],
            [
             0.24728474038832604,
             0.7726163503831625,
             0.7573620123571221,
             0.8459573439320407,
             0.13665200788665877,
             0.7475861752250856,
             0.46982387427320615,
             0.3258834081273855,
             0.7343028775489074,
             0.8451430809582015
            ],
            [
             0.3224607575631726,
             0.15481155666046198,
             0.991684718333888,
             0.9191899892378982,
             0.28984114981603737,
             0.8144143079996651,
             0.08969322221638654,
             0.9125459074536547,
             0.7746522352650038,
             0.19686311476052654
            ],
            [
             0.2956872469976992,
             0.5955548548409993,
             0.355757664231393,
             0.7362338159474545,
             0.5923628693439936,
             0.20702865256798964,
             0.6101095098839756,
             0.014059085148911854,
             0.11174781530304423,
             0.16120781710665166
            ],
            [
             0.3536777120194139,
             0.011909738341017828,
             0.9299075236636783,
             0.23950895547226136,
             0.2706385504450568,
             0.37564232570525413,
             0.9407387157284419,
             0.35181932914803804,
             0.4311328562045973,
             0.29850727250244835
            ],
            [
             0.9762450350517937,
             0.36485722486725036,
             0.0835374209896318,
             0.6579823942390767,
             0.7166049207154763,
             0.3722410241950189,
             0.21138515544988745,
             0.4092514511835781,
             0.4390682105123638,
             0.9952998033878611
            ]
           ]
          }
         ],
         "name": "frame_1"
        },
        {
         "data": [
          {
           "colorscale": [
            [
             0,
             "#440154"
            ],
            [
             0.1111111111111111,
             "#482878"
            ],
            [
             0.2222222222222222,
             "#3e4989"
            ],
            [
             0.3333333333333333,
             "#31688e"
            ],
            [
             0.4444444444444444,
             "#26828e"
            ],
            [
             0.5555555555555556,
             "#1f9e89"
            ],
            [
             0.6666666666666666,
             "#35b779"
            ],
            [
             0.7777777777777778,
             "#6ece58"
            ],
            [
             0.8888888888888888,
             "#b5de2b"
            ],
            [
             1,
             "#fde725"
            ]
           ],
           "reversescale": false,
           "showscale": true,
           "text": [
            [
             "0.86",
             "0.62",
             "0.19",
             "0.69",
             "0.76",
             "0.08",
             "0.38",
             "0.33",
             "0.57",
             "0.65"
            ],
            [
             "0.18",
             "0.47",
             "0.99",
             "0.02",
             "0.37",
             "0.33",
             "0.41",
             "0.87",
             "0.44",
             "0.88"
            ],
            [
             "0.58",
             "0.42",
             "0.25",
             "0.82",
             "0.64",
             "0.21",
             "0.13",
             "0.13",
             "0.91",
             "0.40"
            ],
            [
             "0.82",
             "0.90",
             "0.23",
             "0.03",
             "0.18",
             "0.77",
             "0.02",
             "0.56",
             "0.19",
             "0.77"
            ],
            [
             "0.48",
             "0.55",
             "0.29",
             "0.46",
             "0.05",
             "0.81",
             "0.91",
             "0.75",
             "0.50",
             "0.84"
            ],
            [
             "0.00",
             "0.67",
             "0.77",
             "0.33",
             "0.86",
             "0.00",
             "0.63",
             "0.30",
             "0.63",
             "0.25"
            ],
            [
             "0.21",
             "0.63",
             "0.50",
             "0.19",
             "0.89",
             "0.88",
             "0.55",
             "0.71",
             "0.45",
             "0.80"
            ],
            [
             "0.83",
             "0.76",
             "0.24",
             "0.02",
             "0.66",
             "0.41",
             "0.89",
             "0.86",
             "0.53",
             "0.38"
            ],
            [
             "0.71",
             "0.71",
             "0.68",
             "0.84",
             "0.58",
             "0.52",
             "0.52",
             "0.89",
             "0.37",
             "0.84"
            ],
            [
             "0.50",
             "0.09",
             "0.45",
             "0.29",
             "0.53",
             "0.85",
             "0.18",
             "0.48",
             "0.58",
             "0.77"
            ]
           ],
           "textfont": {
            "color": "black"
           },
           "texttemplate": "%{text}",
           "type": "heatmap",
           "x": [
            "Chase Smith",
            "Kelly Hansen",
            "Emily Vasquez",
            "Laura Bradley",
            "Matthew Stanton",
            "Alicia Lopez",
            "Corey Stephens",
            "Kelly Nicholson",
            "Thomas Pope",
            "Ana Butler"
           ],
           "y": [
            "Chase Smith",
            "Kelly Hansen",
            "Emily Vasquez",
            "Laura Bradley",
            "Matthew Stanton",
            "Alicia Lopez",
            "Corey Stephens",
            "Kelly Nicholson",
            "Thomas Pope",
            "Ana Butler"
           ],
           "z": [
            [
             0.8584353255541872,
             0.6209088984199513,
             0.19391794786825467,
             0.687914521389034,
             0.7589990022820635,
             0.0753887386943477,
             0.37948651670215705,
             0.32684779754580884,
             0.5704313226114667,
             0.653053218368288
            ],
            [
             0.18138778838836134,
             0.4696594361137143,
             0.9921678865358946,
             0.01585263922737412,
             0.3709936118290369,
             0.33431246385630486,
             0.4055830200225494,
             0.8691937155246815,
             0.43830503829947387,
             0.8830780014959977
            ],
            [
             0.5755398430302386,
             0.4246176949346334,
             0.2523030876577458,
             0.8236138553216305,
             0.6442005180032749,
             0.2122260698821593,
             0.13007049345508348,
             0.12543132865315298,
             0.9090719628493051,
             0.4033915375960583
            ],
            [
             0.8203077943609558,
             0.8953620927597769,
             0.2263330477942842,
             0.03257234981461099,
             0.18033608654568278,
             0.7729787056611062,
             0.015413176121161998,
             0.5641320600178602,
             0.19126676558804678,
             0.7666606823802343
            ],
            [
             0.4793756964294549,
             0.5490799390767672,
             0.2934082569002835,
             0.45657850369813724,
             0.045712602945798264,
             0.8095196470699202,
             0.907498923376134,
             0.7526475197183664,
             0.4956222724478515,
             0.8437843494440268
            ],
            [
             0.0038208757991569087,
             0.6659574069882108,
             0.7673859173155502,
             0.3266562371922701,
             0.8565716909439779,
             0.00019000160734350402,
             0.6321202114386374,
             0.30102398098061556,
             0.6286279237601524,
             0.25135865955029335
            ],
            [
             0.20977987008694876,
             0.626160386805535,
             0.4969348206161799,
             0.18728068830903188,
             0.8861749299123011,
             0.8823866619873597,
             0.5495684050294842,
             0.706096027537059,
             0.4513867350535361,
             0.8014433643708679
            ],
            [
             0.8338562462810244,
             0.7641596992838674,
             0.2431488392814517,
             0.02448846019798312,
             0.6582530782913107,
             0.4112576944834281,
             0.8942608451139047,
             0.8598475275467088,
             0.533752093995238,
             0.3774441506555125
            ],
            [
             0.7129895409253554,
             0.709369695512404,
             0.6822828931380144,
             0.8424240543403356,
             0.5773185852448267,
             0.5160434798402053,
             0.5169081336074016,
             0.8889806580193464,
             0.3667511334276281,
             0.8419158598104048
            ],
            [
             0.5048895637581793,
             0.08533895076932674,
             0.4489819873125963,
             0.291196397645873,
             0.5278850446638402,
             0.8533098553353946,
             0.17945552722045732,
             0.4752246242920236,
             0.5825022517351911,
             0.7698203115008191
            ]
           ]
          }
         ],
         "name": "frame_2"
        },
        {
         "data": [
          {
           "colorscale": [
            [
             0,
             "#440154"
            ],
            [
             0.1111111111111111,
             "#482878"
            ],
            [
             0.2222222222222222,
             "#3e4989"
            ],
            [
             0.3333333333333333,
             "#31688e"
            ],
            [
             0.4444444444444444,
             "#26828e"
            ],
            [
             0.5555555555555556,
             "#1f9e89"
            ],
            [
             0.6666666666666666,
             "#35b779"
            ],
            [
             0.7777777777777778,
             "#6ece58"
            ],
            [
             0.8888888888888888,
             "#b5de2b"
            ],
            [
             1,
             "#fde725"
            ]
           ],
           "reversescale": false,
           "showscale": true,
           "text": [
            [
             "0.94",
             "0.55",
             "0.92",
             "0.34",
             "0.76",
             "0.76",
             "0.55",
             "0.17",
             "0.39",
             "0.29"
            ],
            [
             "0.97",
             "0.64",
             "0.91",
             "0.30",
             "0.43",
             "0.57",
             "0.35",
             "0.46",
             "0.60",
             "0.03"
            ],
            [
             "0.34",
             "0.00",
             "0.48",
             "0.61",
             "0.09",
             "0.24",
             "0.80",
             "0.84",
             "0.39",
             "0.81"
            ],
            [
             "0.28",
             "0.71",
             "0.55",
             "0.44",
             "0.66",
             "0.01",
             "0.16",
             "0.29",
             "0.68",
             "0.71"
            ],
            [
             "0.68",
             "0.77",
             "0.08",
             "0.11",
             "0.86",
             "0.36",
             "0.57",
             "0.50",
             "0.63",
             "0.08"
            ],
            [
             "0.77",
             "0.12",
             "0.68",
             "0.40",
             "0.49",
             "0.67",
             "0.37",
             "0.05",
             "0.96",
             "0.52"
            ],
            [
             "0.74",
             "0.53",
             "0.82",
             "0.56",
             "0.12",
             "0.64",
             "0.17",
             "0.82",
             "0.68",
             "0.94"
            ],
            [
             "0.63",
             "0.23",
             "0.56",
             "0.77",
             "0.71",
             "0.34",
             "0.66",
             "0.94",
             "0.68",
             "0.37"
            ],
            [
             "0.91",
             "0.83",
             "0.86",
             "0.11",
             "0.29",
             "0.79",
             "0.27",
             "0.07",
             "0.68",
             "0.80"
            ],
            [
             "0.64",
             "0.34",
             "0.56",
             "0.02",
             "0.56",
             "0.86",
             "0.08",
             "0.38",
             "0.16",
             "0.38"
            ]
           ],
           "textfont": {
            "color": "black"
           },
           "texttemplate": "%{text}",
           "type": "heatmap",
           "x": [
            "Chase Smith",
            "Kelly Hansen",
            "Emily Vasquez",
            "Laura Bradley",
            "Matthew Stanton",
            "Alicia Lopez",
            "Corey Stephens",
            "Kelly Nicholson",
            "Thomas Pope",
            "Ana Butler"
           ],
           "y": [
            "Chase Smith",
            "Kelly Hansen",
            "Emily Vasquez",
            "Laura Bradley",
            "Matthew Stanton",
            "Alicia Lopez",
            "Corey Stephens",
            "Kelly Nicholson",
            "Thomas Pope",
            "Ana Butler"
           ],
           "z": [
            [
             0.9409769625013746,
             0.5506078812350768,
             0.9216180188623789,
             0.3365589623455405,
             0.76431977131766,
             0.7637254583177344,
             0.5512789807712775,
             0.17378871872749102,
             0.38620429566027503,
             0.2908501182392267
            ],
            [
             0.9668786192650846,
             0.6446224609754608,
             0.9090378367619917,
             0.2961597696343873,
             0.42894005858578843,
             0.5673723256985629,
             0.3547281833903093,
             0.45649962715394876,
             0.599307057201131,
             0.028285974350577336
            ],
            [
             0.3398111548971746,
             0.00022169971029817326,
             0.48253762200167294,
             0.6080006650804403,
             0.09299046006566758,
             0.24209440214479672,
             0.8039918210590137,
             0.8402815598495977,
             0.38773325427036465,
             0.8142237305412268
            ],
            [
             0.27714025303214274,
             0.7061082223134817,
             0.5454566236571144,
             0.4400990789026624,
             0.6564422761737766,
             0.01339067909718994,
             0.1624434427083553,
             0.2938234643879565,
             0.6805626097695981,
             0.7062353133613742
            ],
            [
             0.6807608241860267,
             0.7676171065637424,
             0.07955156101373462,
             0.1058889084153547,
             0.8553511602621139,
             0.3568377529611344,
             0.5683712904835098,
             0.5035028057334142,
             0.6266625713376246,
             0.07694671122795227
            ],
            [
             0.7697902263664144,
             0.12340232816315366,
             0.6813744618340352,
             0.40214209915071075,
             0.49226163606213835,
             0.6716937343607445,
             0.3710027506956368,
             0.04603747135147218,
             0.9642115517216056,
             0.522676899407916
            ],
            [
             0.7421446410608609,
             0.5312948337241725,
             0.8196869026699722,
             0.5646161790877259,
             0.12275687838719596,
             0.6419065646558053,
             0.1727406694369843,
             0.8236541350166275,
             0.6810616004728154,
             0.9398086381431077
            ],
            [
             0.6290807895415105,
             0.22516309745477103,
             0.5571375458252831,
             0.771772276959897,
             0.7118882975250763,
             0.3422967060014851,
             0.6553511506038042,
             0.9352690613010743,
             0.6848100430995354,
             0.36730140225246877
            ],
            [
             0.9107583303834285,
             0.8276241927281727,
             0.8551837602671677,
             0.10684137669330163,
             0.290828833640688,
             0.7901278026602023,
             0.2748074958846842,
             0.0737059355578561,
             0.6832660124725859,
             0.799269956479039
            ],
            [
             0.6417678081403646,
             0.34484333642500453,
             0.5597733189675487,
             0.02151995144746044,
             0.5626616557530582,
             0.8568011747150781,
             0.07805323501457007,
             0.383319396547832,
             0.16486371752648665,
             0.3800078966332565
            ]
           ]
          }
         ],
         "name": "frame_3"
        },
        {
         "data": [
          {
           "colorscale": [
            [
             0,
             "#440154"
            ],
            [
             0.1111111111111111,
             "#482878"
            ],
            [
             0.2222222222222222,
             "#3e4989"
            ],
            [
             0.3333333333333333,
             "#31688e"
            ],
            [
             0.4444444444444444,
             "#26828e"
            ],
            [
             0.5555555555555556,
             "#1f9e89"
            ],
            [
             0.6666666666666666,
             "#35b779"
            ],
            [
             0.7777777777777778,
             "#6ece58"
            ],
            [
             0.8888888888888888,
             "#b5de2b"
            ],
            [
             1,
             "#fde725"
            ]
           ],
           "reversescale": false,
           "showscale": true,
           "text": [
            [
             "0.01",
             "0.83",
             "0.50",
             "0.44",
             "0.60",
             "0.85",
             "0.29",
             "0.27",
             "0.05",
             "0.27"
            ],
            [
             "0.07",
             "0.04",
             "0.55",
             "0.18",
             "0.07",
             "0.92",
             "0.15",
             "0.09",
             "0.97",
             "0.67"
            ],
            [
             "0.73",
             "0.56",
             "0.07",
             "0.84",
             "0.42",
             "0.39",
             "0.14",
             "0.11",
             "0.52",
             "0.57"
            ],
            [
             "0.52",
             "0.61",
             "0.88",
             "0.50",
             "0.38",
             "0.26",
             "0.31",
             "0.56",
             "0.80",
             "0.44"
            ],
            [
             "0.04",
             "0.19",
             "0.09",
             "0.33",
             "0.68",
             "0.59",
             "0.66",
             "0.45",
             "0.11",
             "0.30"
            ],
            [
             "0.51",
             "0.50",
             "0.24",
             "0.83",
             "0.43",
             "0.85",
             "0.27",
             "0.94",
             "0.11",
             "0.77"
            ],
            [
             "0.02",
             "0.24",
             "0.87",
             "0.35",
             "0.93",
             "0.93",
             "0.80",
             "0.40",
             "0.86",
             "0.46"
            ],
            [
             "0.13",
             "0.85",
             "0.82",
             "0.14",
             "0.87",
             "0.52",
             "0.74",
             "0.27",
             "0.22",
             "0.85"
            ],
            [
             "0.60",
             "0.15",
             "0.37",
             "0.86",
             "0.47",
             "0.34",
             "0.34",
             "0.82",
             "0.45",
             "0.95"
            ],
            [
             "0.31",
             "0.76",
             "0.29",
             "0.77",
             "0.02",
             "0.13",
             "0.26",
             "0.87",
             "0.32",
             "0.48"
            ]
           ],
           "textfont": {
            "color": "black"
           },
           "texttemplate": "%{text}",
           "type": "heatmap",
           "x": [
            "Chase Smith",
            "Kelly Hansen",
            "Emily Vasquez",
            "Laura Bradley",
            "Matthew Stanton",
            "Alicia Lopez",
            "Corey Stephens",
            "Kelly Nicholson",
            "Thomas Pope",
            "Ana Butler"
           ],
           "y": [
            "Chase Smith",
            "Kelly Hansen",
            "Emily Vasquez",
            "Laura Bradley",
            "Matthew Stanton",
            "Alicia Lopez",
            "Corey Stephens",
            "Kelly Nicholson",
            "Thomas Pope",
            "Ana Butler"
           ],
           "z": [
            [
             0.013007673374885287,
             0.8277629198311454,
             0.4962433103412679,
             0.43591806556227874,
             0.6017947156364513,
             0.8500282042549004,
             0.2912607248243877,
             0.2675169724052795,
             0.04949420771216173,
             0.26639909373329085
            ],
            [
             0.06621184820476289,
             0.041558487173887326,
             0.5527305622103671,
             0.18383488740355458,
             0.07425772206542136,
             0.9167147414133402,
             0.1487338924706233,
             0.09483079072396783,
             0.9706780583272027,
             0.6669669639016361
            ],
            [
             0.7257540416698312,
             0.5632039958201955,
             0.07038971412017925,
             0.8418772404125445,
             0.4180290042052578,
             0.3924678243761738,
             0.13530924400438926,
             0.11321988583128051,
             0.5222459329102984,
             0.5687435895691126
            ],
            [
             0.5186855427460793,
             0.6131246779542143,
             0.8776434630874401,
             0.5042048449445539,
             0.37914767869986854,
             0.25657270258042775,
             0.30684664245492477,
             0.5608070533590342,
             0.795372341166364,
             0.4411210299320396
            ],
            [
             0.0407623273086144,
             0.1881545037427702,
             0.09065223342495876,
             0.3333434140297783,
             0.6843766580709426,
             0.5907147319048698,
             0.6621275899582407,
             0.4545951309204591,
             0.10978053695110701,
             0.2962559550393429
            ],
            [
             0.5109604789214502,
             0.4971649650726536,
             0.24366138788293934,
             0.8253015581668586,
             0.43331333598704,
             0.8454561251606802,
             0.2654926303315115,
             0.94193958587313,
             0.11185734640122513,
             0.7691824905147556
            ],
            [
             0.02018645300971933,
             0.23632066354151104,
             0.8705533043101933,
             0.3501049998112872,
             0.9324794930587861,
             0.9294170006228567,
             0.8001925768935053,
             0.3961054492248157,
             0.8582685034359774,
             0.45710433692881935
            ],
            [
             0.12617219508562783,
             0.8519583689191783,
             0.8162467044218958,
             0.13556544045230434,
             0.8665265169784578,
             0.5189630531037512,
             0.743590758512176,
             0.2681760207996594,
             0.21546148382164965,
             0.8483128149076781
            ],
            [
             0.6002137980585972,
             0.1477054656086515,
             0.3658700862517067,
             0.859035818221462,
             0.4682835817141465,
             0.3368528956123934,
             0.3409538648840309,
             0.8246442022339677,
             0.4542990275397899,
             0.9483535027347262
            ],
            [
             0.3122001509015734,
             0.7564803291690853,
             0.28570549269068624,
             0.7678388019758179,
             0.017597976477304877,
             0.12982098156158361,
             0.25925690652952893,
             0.870091964631436,
             0.32249837634659284,
             0.48352554120081614
            ]
           ]
          }
         ],
         "name": "frame_4"
        }
       ],
       "layout": {
        "dragmode": false,
        "height": 600,
        "sliders": [
         {
          "active": 0,
          "currentvalue": {
           "font": {
            "size": 20
           },
           "prefix": "Frame:",
           "visible": true,
           "xanchor": "right"
          },
          "len": 0.9,
          "pad": {
           "b": 10,
           "t": 50
          },
          "steps": [
           {
            "args": [
             [
              "frame_0"
             ],
             {
              "frame": {
               "duration": 500,
               "redraw": true
              },
              "mode": "immediate",
              "transition": {
               "duration": 500
              }
             }
            ],
            "label": "0",
            "method": "animate"
           },
           {
            "args": [
             [
              "frame_1"
             ],
             {
              "frame": {
               "duration": 500,
               "redraw": true
              },
              "mode": "immediate",
              "transition": {
               "duration": 500
              }
             }
            ],
            "label": "1",
            "method": "animate"
           },
           {
            "args": [
             [
              "frame_2"
             ],
             {
              "frame": {
               "duration": 500,
               "redraw": true
              },
              "mode": "immediate",
              "transition": {
               "duration": 500
              }
             }
            ],
            "label": "2",
            "method": "animate"
           },
           {
            "args": [
             [
              "frame_3"
             ],
             {
              "frame": {
               "duration": 500,
               "redraw": true
              },
              "mode": "immediate",
              "transition": {
               "duration": 500
              }
             }
            ],
            "label": "3",
            "method": "animate"
           },
           {
            "args": [
             [
              "frame_4"
             ],
             {
              "frame": {
               "duration": 500,
               "redraw": true
              },
              "mode": "immediate",
              "transition": {
               "duration": 500
              }
             }
            ],
            "label": "4",
            "method": "animate"
           }
          ],
          "transition": {
           "duration": 500,
           "easing": "cubic-in-out"
          },
          "x": 0.1,
          "xanchor": "left",
          "y": 0,
          "yanchor": "top"
         }
        ],
        "template": {
         "data": {
          "bar": [
           {
            "error_x": {
             "color": "#2a3f5f"
            },
            "error_y": {
             "color": "#2a3f5f"
            },
            "marker": {
             "line": {
              "color": "#E5ECF6",
              "width": 0.5
             },
             "pattern": {
              "fillmode": "overlay",
              "size": 10,
              "solidity": 0.2
             }
            },
            "type": "bar"
           }
          ],
          "barpolar": [
           {
            "marker": {
             "line": {
              "color": "#E5ECF6",
              "width": 0.5
             },
             "pattern": {
              "fillmode": "overlay",
              "size": 10,
              "solidity": 0.2
             }
            },
            "type": "barpolar"
           }
          ],
          "carpet": [
           {
            "aaxis": {
             "endlinecolor": "#2a3f5f",
             "gridcolor": "white",
             "linecolor": "white",
             "minorgridcolor": "white",
             "startlinecolor": "#2a3f5f"
            },
            "baxis": {
             "endlinecolor": "#2a3f5f",
             "gridcolor": "white",
             "linecolor": "white",
             "minorgridcolor": "white",
             "startlinecolor": "#2a3f5f"
            },
            "type": "carpet"
           }
          ],
          "choropleth": [
           {
            "colorbar": {
             "outlinewidth": 0,
             "ticks": ""
            },
            "type": "choropleth"
           }
          ],
          "contour": [
           {
            "colorbar": {
             "outlinewidth": 0,
             "ticks": ""
            },
            "colorscale": [
             [
              0,
              "#0d0887"
             ],
             [
              0.1111111111111111,
              "#46039f"
             ],
             [
              0.2222222222222222,
              "#7201a8"
             ],
             [
              0.3333333333333333,
              "#9c179e"
             ],
             [
              0.4444444444444444,
              "#bd3786"
             ],
             [
              0.5555555555555556,
              "#d8576b"
             ],
             [
              0.6666666666666666,
              "#ed7953"
             ],
             [
              0.7777777777777778,
              "#fb9f3a"
             ],
             [
              0.8888888888888888,
              "#fdca26"
             ],
             [
              1,
              "#f0f921"
             ]
            ],
            "type": "contour"
           }
          ],
          "contourcarpet": [
           {
            "colorbar": {
             "outlinewidth": 0,
             "ticks": ""
            },
            "type": "contourcarpet"
           }
          ],
          "heatmap": [
           {
            "colorbar": {
             "outlinewidth": 0,
             "ticks": ""
            },
            "colorscale": [
             [
              0,
              "#0d0887"
             ],
             [
              0.1111111111111111,
              "#46039f"
             ],
             [
              0.2222222222222222,
              "#7201a8"
             ],
             [
              0.3333333333333333,
              "#9c179e"
             ],
             [
              0.4444444444444444,
              "#bd3786"
             ],
             [
              0.5555555555555556,
              "#d8576b"
             ],
             [
              0.6666666666666666,
              "#ed7953"
             ],
             [
              0.7777777777777778,
              "#fb9f3a"
             ],
             [
              0.8888888888888888,
              "#fdca26"
             ],
             [
              1,
              "#f0f921"
             ]
            ],
            "type": "heatmap"
           }
          ],
          "heatmapgl": [
           {
            "colorbar": {
             "outlinewidth": 0,
             "ticks": ""
            },
            "colorscale": [
             [
              0,
              "#0d0887"
             ],
             [
              0.1111111111111111,
              "#46039f"
             ],
             [
              0.2222222222222222,
              "#7201a8"
             ],
             [
              0.3333333333333333,
              "#9c179e"
             ],
             [
              0.4444444444444444,
              "#bd3786"
             ],
             [
              0.5555555555555556,
              "#d8576b"
             ],
             [
              0.6666666666666666,
              "#ed7953"
             ],
             [
              0.7777777777777778,
              "#fb9f3a"
             ],
             [
              0.8888888888888888,
              "#fdca26"
             ],
             [
              1,
              "#f0f921"
             ]
            ],
            "type": "heatmapgl"
           }
          ],
          "histogram": [
           {
            "marker": {
             "pattern": {
              "fillmode": "overlay",
              "size": 10,
              "solidity": 0.2
             }
            },
            "type": "histogram"
           }
          ],
          "histogram2d": [
           {
            "colorbar": {
             "outlinewidth": 0,
             "ticks": ""
            },
            "colorscale": [
             [
              0,
              "#0d0887"
             ],
             [
              0.1111111111111111,
              "#46039f"
             ],
             [
              0.2222222222222222,
              "#7201a8"
             ],
             [
              0.3333333333333333,
              "#9c179e"
             ],
             [
              0.4444444444444444,
              "#bd3786"
             ],
             [
              0.5555555555555556,
              "#d8576b"
             ],
             [
              0.6666666666666666,
              "#ed7953"
             ],
             [
              0.7777777777777778,
              "#fb9f3a"
             ],
             [
              0.8888888888888888,
              "#fdca26"
             ],
             [
              1,
              "#f0f921"
             ]
            ],
            "type": "histogram2d"
           }
          ],
          "histogram2dcontour": [
           {
            "colorbar": {
             "outlinewidth": 0,
             "ticks": ""
            },
            "colorscale": [
             [
              0,
              "#0d0887"
             ],
             [
              0.1111111111111111,
              "#46039f"
             ],
             [
              0.2222222222222222,
              "#7201a8"
             ],
             [
              0.3333333333333333,
              "#9c179e"
             ],
             [
              0.4444444444444444,
              "#bd3786"
             ],
             [
              0.5555555555555556,
              "#d8576b"
             ],
             [
              0.6666666666666666,
              "#ed7953"
             ],
             [
              0.7777777777777778,
              "#fb9f3a"
             ],
             [
              0.8888888888888888,
              "#fdca26"
             ],
             [
              1,
              "#f0f921"
             ]
            ],
            "type": "histogram2dcontour"
           }
          ],
          "mesh3d": [
           {
            "colorbar": {
             "outlinewidth": 0,
             "ticks": ""
            },
            "type": "mesh3d"
           }
          ],
          "parcoords": [
           {
            "line": {
             "colorbar": {
              "outlinewidth": 0,
              "ticks": ""
             }
            },
            "type": "parcoords"
           }
          ],
          "pie": [
           {
            "automargin": true,
            "type": "pie"
           }
          ],
          "scatter": [
           {
            "fillpattern": {
             "fillmode": "overlay",
             "size": 10,
             "solidity": 0.2
            },
            "type": "scatter"
           }
          ],
          "scatter3d": [
           {
            "line": {
             "colorbar": {
              "outlinewidth": 0,
              "ticks": ""
             }
            },
            "marker": {
             "colorbar": {
              "outlinewidth": 0,
              "ticks": ""
             }
            },
            "type": "scatter3d"
           }
          ],
          "scattercarpet": [
           {
            "marker": {
             "colorbar": {
              "outlinewidth": 0,
              "ticks": ""
             }
            },
            "type": "scattercarpet"
           }
          ],
          "scattergeo": [
           {
            "marker": {
             "colorbar": {
              "outlinewidth": 0,
              "ticks": ""
             }
            },
            "type": "scattergeo"
           }
          ],
          "scattergl": [
           {
            "marker": {
             "colorbar": {
              "outlinewidth": 0,
              "ticks": ""
             }
            },
            "type": "scattergl"
           }
          ],
          "scattermapbox": [
           {
            "marker": {
             "colorbar": {
              "outlinewidth": 0,
              "ticks": ""
             }
            },
            "type": "scattermapbox"
           }
          ],
          "scatterpolar": [
           {
            "marker": {
             "colorbar": {
              "outlinewidth": 0,
              "ticks": ""
             }
            },
            "type": "scatterpolar"
           }
          ],
          "scatterpolargl": [
           {
            "marker": {
             "colorbar": {
              "outlinewidth": 0,
              "ticks": ""
             }
            },
            "type": "scatterpolargl"
           }
          ],
          "scatterternary": [
           {
            "marker": {
             "colorbar": {
              "outlinewidth": 0,
              "ticks": ""
             }
            },
            "type": "scatterternary"
           }
          ],
          "surface": [
           {
            "colorbar": {
             "outlinewidth": 0,
             "ticks": ""
            },
            "colorscale": [
             [
              0,
              "#0d0887"
             ],
             [
              0.1111111111111111,
              "#46039f"
             ],
             [
              0.2222222222222222,
              "#7201a8"
             ],
             [
              0.3333333333333333,
              "#9c179e"
             ],
             [
              0.4444444444444444,
              "#bd3786"
             ],
             [
              0.5555555555555556,
              "#d8576b"
             ],
             [
              0.6666666666666666,
              "#ed7953"
             ],
             [
              0.7777777777777778,
              "#fb9f3a"
             ],
             [
              0.8888888888888888,
              "#fdca26"
             ],
             [
              1,
              "#f0f921"
             ]
            ],
            "type": "surface"
           }
          ],
          "table": [
           {
            "cells": {
             "fill": {
              "color": "#EBF0F8"
             },
             "line": {
              "color": "white"
             }
            },
            "header": {
             "fill": {
              "color": "#C8D4E3"
             },
             "line": {
              "color": "white"
             }
            },
            "type": "table"
           }
          ]
         },
         "layout": {
          "annotationdefaults": {
           "arrowcolor": "#2a3f5f",
           "arrowhead": 0,
           "arrowwidth": 1
          },
          "autotypenumbers": "strict",
          "coloraxis": {
           "colorbar": {
            "outlinewidth": 0,
            "ticks": ""
           }
          },
          "colorscale": {
           "diverging": [
            [
             0,
             "#8e0152"
            ],
            [
             0.1,
             "#c51b7d"
            ],
            [
             0.2,
             "#de77ae"
            ],
            [
             0.3,
             "#f1b6da"
            ],
            [
             0.4,
             "#fde0ef"
            ],
            [
             0.5,
             "#f7f7f7"
            ],
            [
             0.6,
             "#e6f5d0"
            ],
            [
             0.7,
             "#b8e186"
            ],
            [
             0.8,
             "#7fbc41"
            ],
            [
             0.9,
             "#4d9221"
            ],
            [
             1,
             "#276419"
            ]
           ],
           "sequential": [
            [
             0,
             "#0d0887"
            ],
            [
             0.1111111111111111,
             "#46039f"
            ],
            [
             0.2222222222222222,
             "#7201a8"
            ],
            [
             0.3333333333333333,
             "#9c179e"
            ],
            [
             0.4444444444444444,
             "#bd3786"
            ],
            [
             0.5555555555555556,
             "#d8576b"
            ],
            [
             0.6666666666666666,
             "#ed7953"
            ],
            [
             0.7777777777777778,
             "#fb9f3a"
            ],
            [
             0.8888888888888888,
             "#fdca26"
            ],
            [
             1,
             "#f0f921"
            ]
           ],
           "sequentialminus": [
            [
             0,
             "#0d0887"
            ],
            [
             0.1111111111111111,
             "#46039f"
            ],
            [
             0.2222222222222222,
             "#7201a8"
            ],
            [
             0.3333333333333333,
             "#9c179e"
            ],
            [
             0.4444444444444444,
             "#bd3786"
            ],
            [
             0.5555555555555556,
             "#d8576b"
            ],
            [
             0.6666666666666666,
             "#ed7953"
            ],
            [
             0.7777777777777778,
             "#fb9f3a"
            ],
            [
             0.8888888888888888,
             "#fdca26"
            ],
            [
             1,
             "#f0f921"
            ]
           ]
          },
          "colorway": [
           "#636efa",
           "#EF553B",
           "#00cc96",
           "#ab63fa",
           "#FFA15A",
           "#19d3f3",
           "#FF6692",
           "#B6E880",
           "#FF97FF",
           "#FECB52"
          ],
          "font": {
           "color": "#2a3f5f"
          },
          "geo": {
           "bgcolor": "white",
           "lakecolor": "white",
           "landcolor": "#E5ECF6",
           "showlakes": true,
           "showland": true,
           "subunitcolor": "white"
          },
          "hoverlabel": {
           "align": "left"
          },
          "hovermode": "closest",
          "mapbox": {
           "style": "light"
          },
          "paper_bgcolor": "white",
          "plot_bgcolor": "#E5ECF6",
          "polar": {
           "angularaxis": {
            "gridcolor": "white",
            "linecolor": "white",
            "ticks": ""
           },
           "bgcolor": "#E5ECF6",
           "radialaxis": {
            "gridcolor": "white",
            "linecolor": "white",
            "ticks": ""
           }
          },
          "scene": {
           "xaxis": {
            "backgroundcolor": "#E5ECF6",
            "gridcolor": "white",
            "gridwidth": 2,
            "linecolor": "white",
            "showbackground": true,
            "ticks": "",
            "zerolinecolor": "white"
           },
           "yaxis": {
            "backgroundcolor": "#E5ECF6",
            "gridcolor": "white",
            "gridwidth": 2,
            "linecolor": "white",
            "showbackground": true,
            "ticks": "",
            "zerolinecolor": "white"
           },
           "zaxis": {
            "backgroundcolor": "#E5ECF6",
            "gridcolor": "white",
            "gridwidth": 2,
            "linecolor": "white",
            "showbackground": true,
            "ticks": "",
            "zerolinecolor": "white"
           }
          },
          "shapedefaults": {
           "line": {
            "color": "#2a3f5f"
           }
          },
          "ternary": {
           "aaxis": {
            "gridcolor": "white",
            "linecolor": "white",
            "ticks": ""
           },
           "baxis": {
            "gridcolor": "white",
            "linecolor": "white",
            "ticks": ""
           },
           "bgcolor": "#E5ECF6",
           "caxis": {
            "gridcolor": "white",
            "linecolor": "white",
            "ticks": ""
           }
          },
          "title": {
           "x": 0.05
          },
          "xaxis": {
           "automargin": true,
           "gridcolor": "white",
           "linecolor": "white",
           "ticks": "",
           "title": {
            "standoff": 15
           },
           "zerolinecolor": "white",
           "zerolinewidth": 2
          },
          "yaxis": {
           "automargin": true,
           "gridcolor": "white",
           "linecolor": "white",
           "ticks": "",
           "title": {
            "standoff": 15
           },
           "zerolinecolor": "white",
           "zerolinewidth": 2
          }
         }
        },
        "title": {
         "text": "DEFAULT TITLE"
        },
        "updatemenus": [
         {
          "buttons": [
           {
            "args": [
             null,
             {
              "frame": {
               "duration": 500,
               "redraw": true
              },
              "fromcurrent": true
             }
            ],
            "label": "Play",
            "method": "animate"
           },
           {
            "args": [
             [
              null
             ],
             {
              "frame": {
               "duration": 0,
               "redraw": true
              },
              "mode": "immediate",
              "transition": {
               "duration": 0
              }
             }
            ],
            "label": "Pause",
            "method": "animate"
           }
          ],
          "direction": "left",
          "pad": {
           "r": 10,
           "t": 87
          },
          "showactive": false,
          "type": "buttons",
          "x": 0.1,
          "xanchor": "right",
          "y": 0,
          "yanchor": "top"
         }
        ],
        "width": 800,
        "xaxis": {
         "fixedrange": true,
         "nticks": 10
        },
        "yaxis": {
         "fixedrange": true,
         "nticks": 10
        }
       }
      }
     },
     "metadata": {},
     "output_type": "display_data"
    }
   ],
   "source": [
    "def animated_heatmap(\n",
    "    matrices: np.ndarray | None = None,\n",
    "    labels: list | None = None,\n",
    "    title: str = \"DEFAULT TITLE\",\n",
    "    show_values: bool = True,\n",
    "    value_format: Literal[\".2f\", \".2e\"] = \".2f\",\n",
    "    width: int = 800,\n",
    "    height: int = 600,\n",
    "    xaxis_title: str | None = None,\n",
    "    yaxis_title: str | None = None,\n",
    "    log: bool = False,\n",
    "    nan_diagnal: bool = False,\n",
    "    frame_duration: int = 500,\n",
    "    slider_labels: list[str] | None = None,\n",
    "    slider_prefix: str = \"Frame:\",\n",
    "):\n",
    "    # Generate demo data if matrices is None\n",
    "    if matrices is None:\n",
    "        faker = Faker()\n",
    "        shape = (5, 10, 10)  # (time, rows, cols)\n",
    "        matrices = rng.random(shape)\n",
    "        # logger.info(matrices)\n",
    "    elif matrices.ndim != 3:\n",
    "        raise ValueError(\"Expected 3D array (time, rows, cols)\")\n",
    "\n",
    "    n_frames, n_rows, n_cols = matrices.shape\n",
    "\n",
    "    if labels is None:\n",
    "        faker = Faker()\n",
    "        labels = [faker.name() for _ in range(n_rows)]\n",
    "    col_labels = labels\n",
    "    row_labels = labels\n",
    "\n",
    "    # Process all matrices\n",
    "    processed_matrices = []\n",
    "    for matrix in matrices:\n",
    "        # Convert and process each time slice\n",
    "        matrix = np.array(matrix, dtype=object)\n",
    "        none_mask = matrix is None\n",
    "        matrix = matrix.astype(float)\n",
    "        if log:\n",
    "            matrix = np.log10(matrix)\n",
    "        matrix[none_mask] = np.nan\n",
    "        if nan_diagnal:\n",
    "            matrix[np.identity(matrix.shape[0], dtype=bool)] = np.nan\n",
    "        processed_matrices.append(matrix)\n",
    "        \n",
    "        # Update the sliders configuration with custom labels\n",
    "    if slider_labels is not None:\n",
    "        if len(slider_labels) != n_frames:\n",
    "            raise ValueError(f\"Expected {n_frames} slider labels, got {len(slider_labels)}\")\n",
    "        frame_labels = slider_labels\n",
    "    else:\n",
    "        frame_labels = [str(k) for k in range(n_frames)]\n",
    "\n",
    "    layout_sliders = [{\n",
    "        \"active\": 0,\n",
    "        \"yanchor\": \"top\",\n",
    "        \"xanchor\": \"left\",\n",
    "        \"currentvalue\": {\n",
    "            \"font\": {\"size\": 20},\n",
    "            \"prefix\": slider_prefix,  # <--- [CHANGED] Use custom prefix\n",
    "            \"visible\": True,\n",
    "            \"xanchor\": \"right\",\n",
    "        },\n",
    "        \"transition\": {\"duration\": frame_duration, \"easing\": \"cubic-in-out\"},\n",
    "        \"pad\": {\"b\": 10, \"t\": 50},\n",
    "        \"len\": 0.9,\n",
    "        \"x\": 0.1,\n",
    "        \"y\": 0,\n",
    "        \"steps\": [\n",
    "            {\n",
    "                \"args\": [\n",
    "                    [f\"frame_{k}\"],\n",
    "                    {\n",
    "                        \"frame\": {\"duration\": frame_duration, \"redraw\": True},\n",
    "                        \"mode\": \"immediate\",\n",
    "                        \"transition\": {\"duration\": frame_duration},\n",
    "                    },\n",
    "                ],\n",
    "                \"label\": label,  # <--- [CHANGED] Use custom label\n",
    "                \"method\": \"animate\",\n",
    "            }\n",
    "            for k, label in enumerate(frame_labels)\n",
    "        ],\n",
    "    }]\n",
    "\n",
    "    # Create frames for animation\n",
    "    frames = [\n",
    "        go.Frame(\n",
    "            data=[\n",
    "                go.Heatmap(\n",
    "                    z=matrix,\n",
    "                    x=col_labels,\n",
    "                    y=row_labels,\n",
    "                    colorscale=\"Viridis\",\n",
    "                    text=np.vectorize(lambda x: \"N/A\" if np.isnan(x) else f\"{x:{value_format}}\")(\n",
    "                        matrix\n",
    "                    )\n",
    "                    if show_values\n",
    "                    else None,\n",
    "                    texttemplate=\"%{text}\" if show_values else None,\n",
    "                    textfont={\"color\": \"black\"},\n",
    "                    reversescale=False,\n",
    "                    showscale=True,\n",
    "                )\n",
    "            ],\n",
    "            name=f\"frame_{i}\",  # name is required for frames\n",
    "        )\n",
    "        for i, matrix in enumerate(processed_matrices)\n",
    "    ]\n",
    "\n",
    "    # Create the figure with the initial frame\n",
    "    fig = go.Figure(\n",
    "        data=[\n",
    "            go.Heatmap(\n",
    "                z=processed_matrices[0],\n",
    "                x=col_labels,\n",
    "                y=row_labels,\n",
    "                colorscale=\"Viridis\",\n",
    "                text=np.vectorize(lambda x: \"N/A\" if np.isnan(x) else f\"{x:{value_format}}\")(\n",
    "                    processed_matrices[0]\n",
    "                )\n",
    "                if show_values\n",
    "                else None,\n",
    "                texttemplate=\"%{text}\" if show_values else None,\n",
    "                textfont={\"color\": \"black\"},\n",
    "                reversescale=False,\n",
    "                showscale=True,\n",
    "            )\n",
    "        ],\n",
    "        frames=frames,\n",
    "        layout={\n",
    "            \"title\": title,\n",
    "            \"width\": width,\n",
    "            \"height\": height,\n",
    "            \"xaxis\": {\n",
    "                \"title\": xaxis_title,\n",
    "                \"nticks\": len(col_labels) if col_labels else None,\n",
    "                \"fixedrange\": True,\n",
    "            },\n",
    "            \"yaxis\": {\n",
    "                \"title\": yaxis_title,\n",
    "                \"nticks\": len(row_labels) if row_labels else None,\n",
    "                \"fixedrange\": True,\n",
    "            },\n",
    "            \"dragmode\": False,\n",
    "            \"updatemenus\": [  # <--- [NEW] Add play and pause buttons\n",
    "                {\n",
    "                    \"buttons\": [\n",
    "                        {\n",
    "                            \"args\": [\n",
    "                                None,\n",
    "                                {\n",
    "                                    \"frame\": {\"duration\": frame_duration, \"redraw\": True},\n",
    "                                    \"fromcurrent\": True,\n",
    "                                },\n",
    "                            ],\n",
    "                            \"label\": \"Play\",\n",
    "                            \"method\": \"animate\",\n",
    "                        },\n",
    "                        {\n",
    "                            \"args\": [\n",
    "                                [None],\n",
    "                                {\n",
    "                                    \"frame\": {\"duration\": 0, \"redraw\": True},\n",
    "                                    \"mode\": \"immediate\",\n",
    "                                    \"transition\": {\"duration\": 0},\n",
    "                                },\n",
    "                            ],\n",
    "                            \"label\": \"Pause\",\n",
    "                            \"method\": \"animate\",\n",
    "                        },\n",
    "                    ],\n",
    "                    \"direction\": \"left\",\n",
    "                    \"pad\": {\"r\": 10, \"t\": 87},\n",
    "                    \"showactive\": False,\n",
    "                    \"type\": \"buttons\",\n",
    "                    \"x\": 0.1,\n",
    "                    \"xanchor\": \"right\",\n",
    "                    \"y\": 0,\n",
    "                    \"yanchor\": \"top\",\n",
    "                }\n",
    "            ],\n",
    "        },\n",
    "    )\n",
    "    \n",
    "    # Update the layout dictionary to include the new sliders\n",
    "    fig.update_layout(sliders=layout_sliders)\n",
    "\n",
    "    return fig\n",
    "\n",
    "\n",
    "animated_heatmap()"
   ]
  },
  {
   "cell_type": "code",
   "execution_count": 111,
   "metadata": {},
   "outputs": [
    {
     "name": "stdout",
     "output_type": "stream",
     "text": [
      "\u001b[2;36m[12/13/24 15:39:44]\u001b[0m\u001b[2;36m \u001b[0m\u001b[1;34mINFO    \u001b[0m\u001b[1;32m \u001b[0m\u001b[1m[\u001b[0m\u001b[1;36m1064263312.\u001b[0mpy:\u001b[1;36m31\u001b[0m\u001b[1m]\u001b[0m Creating        \u001b]8;id=212122;file:///var/folders/6f/f4k9qbkd5nqfywwdhvwdtl5m0000gn/T/ipykernel_17291/1064263312.py\u001b\\\u001b[1;36m1064263312.py\u001b[0m\u001b]8;;\u001b\\\u001b[1;36m:\u001b[0m\u001b]8;id=882043;file:///var/folders/6f/f4k9qbkd5nqfywwdhvwdtl5m0000gn/T/ipykernel_17291/1064263312.py#31\u001b\\\u001b[1;36m31\u001b[0m\u001b]8;;\u001b\\\n",
      "\u001b[2;36m                    \u001b[0m\u001b[1;32m         \u001b[0mheatmap visualization\u001b[33m...\u001b[0m           \u001b[1;36m                \u001b[0m\n"
     ]
    },
    {
     "data": {
      "application/vnd.plotly.v1+json": {
       "config": {
        "plotlyServerURL": "https://plot.ly"
       },
       "data": [
        {
         "colorscale": [
          [
           0,
           "#440154"
          ],
          [
           0.1111111111111111,
           "#482878"
          ],
          [
           0.2222222222222222,
           "#3e4989"
          ],
          [
           0.3333333333333333,
           "#31688e"
          ],
          [
           0.4444444444444444,
           "#26828e"
          ],
          [
           0.5555555555555556,
           "#1f9e89"
          ],
          [
           0.6666666666666666,
           "#35b779"
          ],
          [
           0.7777777777777778,
           "#6ece58"
          ],
          [
           0.8888888888888888,
           "#b5de2b"
          ],
          [
           1,
           "#fde725"
          ]
         ],
         "reversescale": false,
         "showscale": true,
         "text": [
          [
           "N/A",
           "-2.76",
           "-2.84",
           "-2.51",
           "-2.77",
           "-2.85",
           "-2.50",
           "-2.77",
           "-2.86",
           "-2.49",
           "-2.76",
           "-2.75",
           "-2.85",
           "-2.75",
           "-2.75",
           "-3.27",
           "-3.02"
          ],
          [
           "-2.84",
           "N/A",
           "-2.84",
           "-2.47",
           "-2.73",
           "-2.83",
           "-2.48",
           "-2.75",
           "-2.86",
           "-2.48",
           "-2.74",
           "-2.73",
           "-2.84",
           "-2.73",
           "-2.72",
           "-3.24",
           "-2.99"
          ],
          [
           "-2.85",
           "-2.77",
           "N/A",
           "-2.52",
           "-2.76",
           "-2.86",
           "-2.50",
           "-2.76",
           "-2.85",
           "-2.51",
           "-2.77",
           "-2.74",
           "-2.84",
           "-2.76",
           "-2.78",
           "-3.27",
           "-3.01"
          ],
          [
           "-2.79",
           "-2.68",
           "-2.81",
           "N/A",
           "-2.69",
           "-2.81",
           "-2.44",
           "-2.68",
           "-2.80",
           "-2.42",
           "-2.68",
           "-2.70",
           "-2.81",
           "-2.67",
           "-2.72",
           "-3.14",
           "-2.94"
          ],
          [
           "-2.84",
           "-2.73",
           "-2.82",
           "-2.49",
           "N/A",
           "-2.83",
           "-2.48",
           "-2.72",
           "-2.85",
           "-2.52",
           "-2.72",
           "-2.74",
           "-2.84",
           "-2.75",
           "-2.74",
           "-3.23",
           "-3.00"
          ],
          [
           "-2.85",
           "-2.76",
           "-2.86",
           "-2.52",
           "-2.76",
           "N/A",
           "-2.54",
           "-2.75",
           "-2.82",
           "-2.52",
           "-2.77",
           "-2.77",
           "-2.84",
           "-2.75",
           "-2.76",
           "-3.26",
           "-3.01"
          ],
          [
           "-2.79",
           "-2.67",
           "-2.81",
           "-2.42",
           "-2.68",
           "-2.79",
           "N/A",
           "-2.70",
           "-2.79",
           "-2.43",
           "-2.69",
           "-2.69",
           "-2.81",
           "-2.69",
           "-2.67",
           "-3.14",
           "-2.95"
          ],
          [
           "-2.85",
           "-2.72",
           "-2.86",
           "-2.50",
           "-2.73",
           "-2.84",
           "-2.50",
           "N/A",
           "-2.84",
           "-2.52",
           "-2.71",
           "-2.72",
           "-2.84",
           "-2.73",
           "-2.72",
           "-3.24",
           "-2.99"
          ],
          [
           "-2.85",
           "-2.75",
           "-2.85",
           "-2.52",
           "-2.74",
           "-2.85",
           "-2.54",
           "-2.76",
           "N/A",
           "-2.50",
           "-2.76",
           "-2.74",
           "-2.86",
           "-2.74",
           "-2.75",
           "-3.27",
           "-3.01"
          ],
          [
           "-2.79",
           "-2.71",
           "-2.80",
           "-2.42",
           "-2.70",
           "-2.78",
           "-2.41",
           "-2.71",
           "-2.79",
           "N/A",
           "-2.71",
           "-2.68",
           "-2.82",
           "-2.68",
           "-2.71",
           "-3.15",
           "-2.92"
          ],
          [
           "-2.84",
           "-2.72",
           "-2.84",
           "-2.49",
           "-2.75",
           "-2.85",
           "-2.48",
           "-2.71",
           "-2.85",
           "-2.49",
           "N/A",
           "-2.71",
           "-2.84",
           "-2.71",
           "-2.75",
           "-3.24",
           "-2.99"
          ],
          [
           "-2.84",
           "-2.74",
           "-2.84",
           "-2.50",
           "-2.70",
           "-2.86",
           "-2.50",
           "-2.73",
           "-2.87",
           "-2.51",
           "-2.72",
           "N/A",
           "-2.84",
           "-2.75",
           "-2.72",
           "-3.24",
           "-2.99"
          ],
          [
           "-2.86",
           "-2.76",
           "-2.84",
           "-2.51",
           "-2.78",
           "-2.86",
           "-2.51",
           "-2.77",
           "-2.85",
           "-2.54",
           "-2.77",
           "-2.77",
           "N/A",
           "-2.77",
           "-2.76",
           "-3.27",
           "-3.02"
          ],
          [
           "-2.83",
           "-2.74",
           "-2.83",
           "-2.50",
           "-2.73",
           "-2.84",
           "-2.48",
           "-2.70",
           "-2.84",
           "-2.48",
           "-2.72",
           "-2.71",
           "-2.82",
           "N/A",
           "-2.72",
           "-3.23",
           "-2.99"
          ],
          [
           "-2.85",
           "-2.74",
           "-2.84",
           "-2.50",
           "-2.74",
           "-2.83",
           "-2.50",
           "-2.71",
           "-2.83",
           "-2.50",
           "-2.74",
           "-2.73",
           "-2.84",
           "-2.71",
           "N/A",
           "-3.24",
           "-2.98"
          ],
          [
           "-2.96",
           "-2.84",
           "-2.95",
           "-2.56",
           "-2.84",
           "-2.96",
           "-2.56",
           "-2.84",
           "-2.96",
           "-2.56",
           "-2.83",
           "-2.83",
           "-2.95",
           "-2.84",
           "-2.82",
           "N/A",
           "-3.10"
          ],
          [
           "-2.91",
           "-2.79",
           "-2.90",
           "-2.53",
           "-2.78",
           "-2.91",
           "-2.52",
           "-2.81",
           "-2.90",
           "-2.52",
           "-2.80",
           "-2.82",
           "-2.90",
           "-2.80",
           "-2.81",
           "-3.30",
           "N/A"
          ]
         ],
         "textfont": {
          "color": "black"
         },
         "texttemplate": "%{text}",
         "type": "heatmap",
         "x": [
          "WhereIsAI_UAE-Large-V1",
          "BAAI_bge-base-en-v1.5",
          "BAAI_bge-large-en-v1.5",
          "BAAI_bge-small-en-v1.5",
          "intfloat_e5-base-v2",
          "intfloat_e5-large-v2",
          "intfloat_e5-small-v2",
          "thenlper_gte-base",
          "thenlper_gte-large",
          "thenlper_gte-small",
          "sentence-transformers_gtr-t5-base",
          "sentence-transformers_gtr-t5-large",
          "mixedbread-ai_mxbai-embed-large-v1",
          "sentence-transformers_sentence-t5-base",
          "sentence-transformers_sentence-t5-large",
          "openai_text-embedding-3-large",
          "openai_text-embedding-3-small"
         ],
         "y": [
          "WhereIsAI_UAE-Large-V1",
          "BAAI_bge-base-en-v1.5",
          "BAAI_bge-large-en-v1.5",
          "BAAI_bge-small-en-v1.5",
          "intfloat_e5-base-v2",
          "intfloat_e5-large-v2",
          "intfloat_e5-small-v2",
          "thenlper_gte-base",
          "thenlper_gte-large",
          "thenlper_gte-small",
          "sentence-transformers_gtr-t5-base",
          "sentence-transformers_gtr-t5-large",
          "mixedbread-ai_mxbai-embed-large-v1",
          "sentence-transformers_sentence-t5-base",
          "sentence-transformers_sentence-t5-large",
          "openai_text-embedding-3-large",
          "openai_text-embedding-3-small"
         ],
         "z": [
          [
           null,
           -2.7574663425948116,
           -2.8420995149022072,
           -2.5095080204774765,
           -2.772926057182547,
           -2.8495111364061194,
           -2.504729011234093,
           -2.771978108569226,
           -2.8644323823071316,
           -2.4903870476720407,
           -2.762528125724493,
           -2.7511733114121983,
           -2.8454498318091486,
           -2.7498421169253677,
           -2.7501509336190813,
           -3.2696157318654278,
           -3.02198423076025
          ],
          [
           -2.8439671840984952,
           null,
           -2.8425685649518804,
           -2.4749370961506623,
           -2.7262825567904367,
           -2.8291240980333727,
           -2.4784590184216295,
           -2.7468449351451576,
           -2.8555266586187416,
           -2.4797362835448697,
           -2.735703755380616,
           -2.7288352609804054,
           -2.844996909042494,
           -2.733095494011109,
           -2.723420118354665,
           -3.237153824629583,
           -2.98560012259634
          ],
          [
           -2.847032143924652,
           -2.769208332080826,
           null,
           -2.5159174758940686,
           -2.7647998813551764,
           -2.859104585314454,
           -2.500828877749649,
           -2.7574615990580216,
           -2.8504715783957004,
           -2.5095226630642307,
           -2.773071177477477,
           -2.737753963940291,
           -2.838673846847979,
           -2.7590395972498656,
           -2.775269038776332,
           -3.265478096932488,
           -3.0072780568853523
          ],
          [
           -2.793861657643175,
           -2.6806242728225356,
           -2.805010042893231,
           null,
           -2.6933186738606256,
           -2.8112592269492285,
           -2.4390978670404246,
           -2.6841598709638115,
           -2.7989696594110605,
           -2.418366493260947,
           -2.6777851988160783,
           -2.7018360273677144,
           -2.813204423160594,
           -2.6743761031771873,
           -2.7160313697399996,
           -3.137169966998491,
           -2.9366836102976093
          ],
          [
           -2.838349525279202,
           -2.726233080426001,
           -2.8222737559154836,
           -2.4857008456020866,
           null,
           -2.82648948208632,
           -2.476211658472666,
           -2.715059648720614,
           -2.846425889143047,
           -2.5203621985473252,
           -2.7243012129054516,
           -2.742306246985116,
           -2.840890019131271,
           -2.7537059548478817,
           -2.739483645985742,
           -3.2347535814133175,
           -3.0041197038012433
          ],
          [
           -2.848610680225495,
           -2.7633478602228982,
           -2.861550176205477,
           -2.5189607223864074,
           -2.7594822848260843,
           null,
           -2.537914955629029,
           -2.7478137777043647,
           -2.824773305410056,
           -2.5243649046974794,
           -2.772076932474613,
           -2.767920620860492,
           -2.8435499746200517,
           -2.746862294084466,
           -2.7647419048581545,
           -3.2638811808935446,
           -3.006200647937264
          ],
          [
           -2.7945975474406426,
           -2.672205624277428,
           -2.8055648996591964,
           -2.4192694036078586,
           -2.679833667465062,
           -2.790561112025961,
           null,
           -2.6976131427529637,
           -2.787996442364042,
           -2.4333433568378586,
           -2.6934248345409646,
           -2.689664582821246,
           -2.811017294196133,
           -2.6852397758964472,
           -2.665421900124522,
           -3.142477136686657,
           -2.945049031507515
          ],
          [
           -2.8527441484476204,
           -2.720312330187536,
           -2.8593186440541323,
           -2.4965141594896365,
           -2.73222070979967,
           -2.836172110176852,
           -2.5012113128768787,
           null,
           -2.8362701708791134,
           -2.5151507713784094,
           -2.7149571145777065,
           -2.71873632350183,
           -2.841471953687869,
           -2.7266619192590054,
           -2.7151816772719215,
           -3.2367913431774546,
           -2.990001772362981
          ],
          [
           -2.854049946191234,
           -2.7534789384444025,
           -2.8499774195833054,
           -2.517077975365861,
           -2.737490131068005,
           -2.853228773987639,
           -2.5350490674750676,
           -2.7629753227906853,
           null,
           -2.4978144834788654,
           -2.7639867117242987,
           -2.738939346759615,
           -2.856158975272222,
           -2.7364414423899426,
           -2.7543894975646266,
           -3.2653910855796293,
           -3.012757078980578
          ],
          [
           -2.7945773841275368,
           -2.710017958546196,
           -2.804236725987993,
           -2.4222160053990853,
           -2.6959802561360102,
           -2.7835828346946787,
           -2.4050714091801533,
           -2.706208423646955,
           -2.7928610469325696,
           null,
           -2.7065209440393088,
           -2.682494770419618,
           -2.8200673512399974,
           -2.677039779851422,
           -2.7090154729404157,
           -3.149138864063171,
           -2.9176048517444637
          ],
          [
           -2.838016532079381,
           -2.717282414331235,
           -2.8372934303265755,
           -2.492715648951941,
           -2.753655862859868,
           -2.852506520284063,
           -2.4822052322300467,
           -2.710654813825686,
           -2.8469891318429172,
           -2.4940913066284485,
           null,
           -2.7055503826655363,
           -2.837333128802843,
           -2.7122439864704684,
           -2.753149418287607,
           -3.2366751461774594,
           -2.9857239305725702
          ],
          [
           -2.841436577644957,
           -2.741197314512788,
           -2.8350086891014312,
           -2.5018797479162367,
           -2.7032368315174287,
           -2.8576168797407124,
           -2.5015080185430247,
           -2.7319167974208143,
           -2.866335087012379,
           -2.50599924665408,
           -2.7159763437912665,
           null,
           -2.8427741317658617,
           -2.7494958052689555,
           -2.7188830490325513,
           -3.2382536761355643,
           -2.989299907969369
          ],
          [
           -2.8574904999541713,
           -2.757874828121548,
           -2.836801602405946,
           -2.5145947926412124,
           -2.776514985995462,
           -2.8582888395432473,
           -2.5100568665760847,
           -2.7727799067214463,
           -2.847354870392868,
           -2.539932652546568,
           -2.7670191506382733,
           -2.7676537467638225,
           null,
           -2.768673253337806,
           -2.7621329590330648,
           -3.267328367615393,
           -3.018371082714945
          ],
          [
           -2.831625897800422,
           -2.743224193225815,
           -2.8253331810086357,
           -2.496564090264143,
           -2.7269613124593968,
           -2.84291883650624,
           -2.4755802877330217,
           -2.704577990630079,
           -2.839717997400511,
           -2.475167000083609,
           -2.7226632215846203,
           -2.7119516225256906,
           -2.8185491026905214,
           null,
           -2.719689163512609,
           -3.2348944898536733,
           -2.9934528032433056
          ],
          [
           -2.8514682300735994,
           -2.7448640037565926,
           -2.8427515678052133,
           -2.4966078081967917,
           -2.74235577309305,
           -2.8342725198140037,
           -2.4988083593057078,
           -2.7103880938991805,
           -2.8291400972749035,
           -2.503298547080734,
           -2.7360807575585264,
           -2.7330988575522306,
           -2.8441296601993993,
           -2.705682424581142,
           null,
           -3.2378874342952315,
           -2.9841915614481604
          ],
          [
           -2.962494039911259,
           -2.8423406582790576,
           -2.954507314221811,
           -2.5644603072164207,
           -2.8353951693433355,
           -2.964845090449149,
           -2.5556375683646704,
           -2.8386317940804386,
           -2.963308972093713,
           -2.560999283191517,
           -2.8333860962443933,
           -2.8308654658430337,
           -2.952742366845893,
           -2.8359384903778384,
           -2.8236707391222384,
           null,
           -3.095328214131093
          ],
          [
           -2.9080143017269084,
           -2.793943662230012,
           -2.8998820636227056,
           -2.527864651448688,
           -2.7838094308865386,
           -2.914045622553132,
           -2.52481682222563,
           -2.8084470135948747,
           -2.8951426735246373,
           -2.523727571881367,
           -2.799631799115948,
           -2.82328182590169,
           -2.9013001563461964,
           -2.7973275588650637,
           -2.8090540626581615,
           -3.2986171609264896,
           null
          ]
         ]
        }
       ],
       "layout": {
        "dragmode": false,
        "height": 600,
        "modebar": {
         "remove": [
          "zoomIn2d",
          "zoomOut2d",
          "autoScale2d",
          "resetScale2d",
          "hoverClosestCartesian",
          "hoverCompareCartesian",
          "toggleSpikelines"
         ]
        },
        "template": {
         "data": {
          "bar": [
           {
            "error_x": {
             "color": "#2a3f5f"
            },
            "error_y": {
             "color": "#2a3f5f"
            },
            "marker": {
             "line": {
              "color": "#E5ECF6",
              "width": 0.5
             },
             "pattern": {
              "fillmode": "overlay",
              "size": 10,
              "solidity": 0.2
             }
            },
            "type": "bar"
           }
          ],
          "barpolar": [
           {
            "marker": {
             "line": {
              "color": "#E5ECF6",
              "width": 0.5
             },
             "pattern": {
              "fillmode": "overlay",
              "size": 10,
              "solidity": 0.2
             }
            },
            "type": "barpolar"
           }
          ],
          "carpet": [
           {
            "aaxis": {
             "endlinecolor": "#2a3f5f",
             "gridcolor": "white",
             "linecolor": "white",
             "minorgridcolor": "white",
             "startlinecolor": "#2a3f5f"
            },
            "baxis": {
             "endlinecolor": "#2a3f5f",
             "gridcolor": "white",
             "linecolor": "white",
             "minorgridcolor": "white",
             "startlinecolor": "#2a3f5f"
            },
            "type": "carpet"
           }
          ],
          "choropleth": [
           {
            "colorbar": {
             "outlinewidth": 0,
             "ticks": ""
            },
            "type": "choropleth"
           }
          ],
          "contour": [
           {
            "colorbar": {
             "outlinewidth": 0,
             "ticks": ""
            },
            "colorscale": [
             [
              0,
              "#0d0887"
             ],
             [
              0.1111111111111111,
              "#46039f"
             ],
             [
              0.2222222222222222,
              "#7201a8"
             ],
             [
              0.3333333333333333,
              "#9c179e"
             ],
             [
              0.4444444444444444,
              "#bd3786"
             ],
             [
              0.5555555555555556,
              "#d8576b"
             ],
             [
              0.6666666666666666,
              "#ed7953"
             ],
             [
              0.7777777777777778,
              "#fb9f3a"
             ],
             [
              0.8888888888888888,
              "#fdca26"
             ],
             [
              1,
              "#f0f921"
             ]
            ],
            "type": "contour"
           }
          ],
          "contourcarpet": [
           {
            "colorbar": {
             "outlinewidth": 0,
             "ticks": ""
            },
            "type": "contourcarpet"
           }
          ],
          "heatmap": [
           {
            "colorbar": {
             "outlinewidth": 0,
             "ticks": ""
            },
            "colorscale": [
             [
              0,
              "#0d0887"
             ],
             [
              0.1111111111111111,
              "#46039f"
             ],
             [
              0.2222222222222222,
              "#7201a8"
             ],
             [
              0.3333333333333333,
              "#9c179e"
             ],
             [
              0.4444444444444444,
              "#bd3786"
             ],
             [
              0.5555555555555556,
              "#d8576b"
             ],
             [
              0.6666666666666666,
              "#ed7953"
             ],
             [
              0.7777777777777778,
              "#fb9f3a"
             ],
             [
              0.8888888888888888,
              "#fdca26"
             ],
             [
              1,
              "#f0f921"
             ]
            ],
            "type": "heatmap"
           }
          ],
          "heatmapgl": [
           {
            "colorbar": {
             "outlinewidth": 0,
             "ticks": ""
            },
            "colorscale": [
             [
              0,
              "#0d0887"
             ],
             [
              0.1111111111111111,
              "#46039f"
             ],
             [
              0.2222222222222222,
              "#7201a8"
             ],
             [
              0.3333333333333333,
              "#9c179e"
             ],
             [
              0.4444444444444444,
              "#bd3786"
             ],
             [
              0.5555555555555556,
              "#d8576b"
             ],
             [
              0.6666666666666666,
              "#ed7953"
             ],
             [
              0.7777777777777778,
              "#fb9f3a"
             ],
             [
              0.8888888888888888,
              "#fdca26"
             ],
             [
              1,
              "#f0f921"
             ]
            ],
            "type": "heatmapgl"
           }
          ],
          "histogram": [
           {
            "marker": {
             "pattern": {
              "fillmode": "overlay",
              "size": 10,
              "solidity": 0.2
             }
            },
            "type": "histogram"
           }
          ],
          "histogram2d": [
           {
            "colorbar": {
             "outlinewidth": 0,
             "ticks": ""
            },
            "colorscale": [
             [
              0,
              "#0d0887"
             ],
             [
              0.1111111111111111,
              "#46039f"
             ],
             [
              0.2222222222222222,
              "#7201a8"
             ],
             [
              0.3333333333333333,
              "#9c179e"
             ],
             [
              0.4444444444444444,
              "#bd3786"
             ],
             [
              0.5555555555555556,
              "#d8576b"
             ],
             [
              0.6666666666666666,
              "#ed7953"
             ],
             [
              0.7777777777777778,
              "#fb9f3a"
             ],
             [
              0.8888888888888888,
              "#fdca26"
             ],
             [
              1,
              "#f0f921"
             ]
            ],
            "type": "histogram2d"
           }
          ],
          "histogram2dcontour": [
           {
            "colorbar": {
             "outlinewidth": 0,
             "ticks": ""
            },
            "colorscale": [
             [
              0,
              "#0d0887"
             ],
             [
              0.1111111111111111,
              "#46039f"
             ],
             [
              0.2222222222222222,
              "#7201a8"
             ],
             [
              0.3333333333333333,
              "#9c179e"
             ],
             [
              0.4444444444444444,
              "#bd3786"
             ],
             [
              0.5555555555555556,
              "#d8576b"
             ],
             [
              0.6666666666666666,
              "#ed7953"
             ],
             [
              0.7777777777777778,
              "#fb9f3a"
             ],
             [
              0.8888888888888888,
              "#fdca26"
             ],
             [
              1,
              "#f0f921"
             ]
            ],
            "type": "histogram2dcontour"
           }
          ],
          "mesh3d": [
           {
            "colorbar": {
             "outlinewidth": 0,
             "ticks": ""
            },
            "type": "mesh3d"
           }
          ],
          "parcoords": [
           {
            "line": {
             "colorbar": {
              "outlinewidth": 0,
              "ticks": ""
             }
            },
            "type": "parcoords"
           }
          ],
          "pie": [
           {
            "automargin": true,
            "type": "pie"
           }
          ],
          "scatter": [
           {
            "fillpattern": {
             "fillmode": "overlay",
             "size": 10,
             "solidity": 0.2
            },
            "type": "scatter"
           }
          ],
          "scatter3d": [
           {
            "line": {
             "colorbar": {
              "outlinewidth": 0,
              "ticks": ""
             }
            },
            "marker": {
             "colorbar": {
              "outlinewidth": 0,
              "ticks": ""
             }
            },
            "type": "scatter3d"
           }
          ],
          "scattercarpet": [
           {
            "marker": {
             "colorbar": {
              "outlinewidth": 0,
              "ticks": ""
             }
            },
            "type": "scattercarpet"
           }
          ],
          "scattergeo": [
           {
            "marker": {
             "colorbar": {
              "outlinewidth": 0,
              "ticks": ""
             }
            },
            "type": "scattergeo"
           }
          ],
          "scattergl": [
           {
            "marker": {
             "colorbar": {
              "outlinewidth": 0,
              "ticks": ""
             }
            },
            "type": "scattergl"
           }
          ],
          "scattermapbox": [
           {
            "marker": {
             "colorbar": {
              "outlinewidth": 0,
              "ticks": ""
             }
            },
            "type": "scattermapbox"
           }
          ],
          "scatterpolar": [
           {
            "marker": {
             "colorbar": {
              "outlinewidth": 0,
              "ticks": ""
             }
            },
            "type": "scatterpolar"
           }
          ],
          "scatterpolargl": [
           {
            "marker": {
             "colorbar": {
              "outlinewidth": 0,
              "ticks": ""
             }
            },
            "type": "scatterpolargl"
           }
          ],
          "scatterternary": [
           {
            "marker": {
             "colorbar": {
              "outlinewidth": 0,
              "ticks": ""
             }
            },
            "type": "scatterternary"
           }
          ],
          "surface": [
           {
            "colorbar": {
             "outlinewidth": 0,
             "ticks": ""
            },
            "colorscale": [
             [
              0,
              "#0d0887"
             ],
             [
              0.1111111111111111,
              "#46039f"
             ],
             [
              0.2222222222222222,
              "#7201a8"
             ],
             [
              0.3333333333333333,
              "#9c179e"
             ],
             [
              0.4444444444444444,
              "#bd3786"
             ],
             [
              0.5555555555555556,
              "#d8576b"
             ],
             [
              0.6666666666666666,
              "#ed7953"
             ],
             [
              0.7777777777777778,
              "#fb9f3a"
             ],
             [
              0.8888888888888888,
              "#fdca26"
             ],
             [
              1,
              "#f0f921"
             ]
            ],
            "type": "surface"
           }
          ],
          "table": [
           {
            "cells": {
             "fill": {
              "color": "#EBF0F8"
             },
             "line": {
              "color": "white"
             }
            },
            "header": {
             "fill": {
              "color": "#C8D4E3"
             },
             "line": {
              "color": "white"
             }
            },
            "type": "table"
           }
          ]
         },
         "layout": {
          "annotationdefaults": {
           "arrowcolor": "#2a3f5f",
           "arrowhead": 0,
           "arrowwidth": 1
          },
          "autotypenumbers": "strict",
          "coloraxis": {
           "colorbar": {
            "outlinewidth": 0,
            "ticks": ""
           }
          },
          "colorscale": {
           "diverging": [
            [
             0,
             "#8e0152"
            ],
            [
             0.1,
             "#c51b7d"
            ],
            [
             0.2,
             "#de77ae"
            ],
            [
             0.3,
             "#f1b6da"
            ],
            [
             0.4,
             "#fde0ef"
            ],
            [
             0.5,
             "#f7f7f7"
            ],
            [
             0.6,
             "#e6f5d0"
            ],
            [
             0.7,
             "#b8e186"
            ],
            [
             0.8,
             "#7fbc41"
            ],
            [
             0.9,
             "#4d9221"
            ],
            [
             1,
             "#276419"
            ]
           ],
           "sequential": [
            [
             0,
             "#0d0887"
            ],
            [
             0.1111111111111111,
             "#46039f"
            ],
            [
             0.2222222222222222,
             "#7201a8"
            ],
            [
             0.3333333333333333,
             "#9c179e"
            ],
            [
             0.4444444444444444,
             "#bd3786"
            ],
            [
             0.5555555555555556,
             "#d8576b"
            ],
            [
             0.6666666666666666,
             "#ed7953"
            ],
            [
             0.7777777777777778,
             "#fb9f3a"
            ],
            [
             0.8888888888888888,
             "#fdca26"
            ],
            [
             1,
             "#f0f921"
            ]
           ],
           "sequentialminus": [
            [
             0,
             "#0d0887"
            ],
            [
             0.1111111111111111,
             "#46039f"
            ],
            [
             0.2222222222222222,
             "#7201a8"
            ],
            [
             0.3333333333333333,
             "#9c179e"
            ],
            [
             0.4444444444444444,
             "#bd3786"
            ],
            [
             0.5555555555555556,
             "#d8576b"
            ],
            [
             0.6666666666666666,
             "#ed7953"
            ],
            [
             0.7777777777777778,
             "#fb9f3a"
            ],
            [
             0.8888888888888888,
             "#fdca26"
            ],
            [
             1,
             "#f0f921"
            ]
           ]
          },
          "colorway": [
           "#636efa",
           "#EF553B",
           "#00cc96",
           "#ab63fa",
           "#FFA15A",
           "#19d3f3",
           "#FF6692",
           "#B6E880",
           "#FF97FF",
           "#FECB52"
          ],
          "font": {
           "color": "#2a3f5f"
          },
          "geo": {
           "bgcolor": "white",
           "lakecolor": "white",
           "landcolor": "#E5ECF6",
           "showlakes": true,
           "showland": true,
           "subunitcolor": "white"
          },
          "hoverlabel": {
           "align": "left"
          },
          "hovermode": "closest",
          "mapbox": {
           "style": "light"
          },
          "paper_bgcolor": "white",
          "plot_bgcolor": "#E5ECF6",
          "polar": {
           "angularaxis": {
            "gridcolor": "white",
            "linecolor": "white",
            "ticks": ""
           },
           "bgcolor": "#E5ECF6",
           "radialaxis": {
            "gridcolor": "white",
            "linecolor": "white",
            "ticks": ""
           }
          },
          "scene": {
           "xaxis": {
            "backgroundcolor": "#E5ECF6",
            "gridcolor": "white",
            "gridwidth": 2,
            "linecolor": "white",
            "showbackground": true,
            "ticks": "",
            "zerolinecolor": "white"
           },
           "yaxis": {
            "backgroundcolor": "#E5ECF6",
            "gridcolor": "white",
            "gridwidth": 2,
            "linecolor": "white",
            "showbackground": true,
            "ticks": "",
            "zerolinecolor": "white"
           },
           "zaxis": {
            "backgroundcolor": "#E5ECF6",
            "gridcolor": "white",
            "gridwidth": 2,
            "linecolor": "white",
            "showbackground": true,
            "ticks": "",
            "zerolinecolor": "white"
           }
          },
          "shapedefaults": {
           "line": {
            "color": "#2a3f5f"
           }
          },
          "ternary": {
           "aaxis": {
            "gridcolor": "white",
            "linecolor": "white",
            "ticks": ""
           },
           "baxis": {
            "gridcolor": "white",
            "linecolor": "white",
            "ticks": ""
           },
           "bgcolor": "#E5ECF6",
           "caxis": {
            "gridcolor": "white",
            "linecolor": "white",
            "ticks": ""
           }
          },
          "title": {
           "x": 0.05
          },
          "xaxis": {
           "automargin": true,
           "gridcolor": "white",
           "linecolor": "white",
           "ticks": "",
           "title": {
            "standoff": 15
           },
           "zerolinecolor": "white",
           "zerolinewidth": 2
          },
          "yaxis": {
           "automargin": true,
           "gridcolor": "white",
           "linecolor": "white",
           "ticks": "",
           "title": {
            "standoff": 15
           },
           "zerolinecolor": "white",
           "zerolinewidth": 2
          }
         }
        },
        "title": {
         "text": "Example Validation MSE (log)"
        },
        "width": 800,
        "xaxis": {
         "fixedrange": true,
         "nticks": 17
        },
        "yaxis": {
         "fixedrange": true,
         "nticks": 17
        }
       }
      }
     },
     "metadata": {},
     "output_type": "display_data"
    }
   ],
   "source": [
    "labels = sorted(meta[\"model2idx\"], key=lambda k: meta[\"model2idx\"][k])\n",
    "matrix = example_validation_mse\n",
    "heatmap(\n",
    "    matrix,\n",
    "    log=True,\n",
    "    title=\"Example Validation MSE (log)\",\n",
    "    labels=labels,\n",
    ")"
   ]
  }
 ],
 "metadata": {
  "kernelspec": {
   "display_name": ".venv",
   "language": "python",
   "name": "python3"
  },
  "language_info": {
   "codemirror_mode": {
    "name": "ipython",
    "version": 3
   },
   "file_extension": ".py",
   "mimetype": "text/x-python",
   "name": "python",
   "nbconvert_exporter": "python",
   "pygments_lexer": "ipython3",
   "version": "3.12.8"
  }
 },
 "nbformat": 4,
 "nbformat_minor": 2
}
