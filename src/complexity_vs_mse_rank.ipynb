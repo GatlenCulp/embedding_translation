{
 "cells": [
  {
   "cell_type": "markdown",
   "metadata": {},
   "source": [
    "# Complexity vs MSE and Rank Graphs\n"
   ]
  },
  {
   "cell_type": "markdown",
   "metadata": {},
   "source": [
    "## Setup"
   ]
  },
  {
   "cell_type": "code",
   "execution_count": 1,
   "metadata": {},
   "outputs": [
    {
     "name": "stdout",
     "output_type": "stream",
     "text": [
      "Requirement already satisfied: safetensors in /Users/gat/work/FA2024/embedding_translation/.venv/lib/python3.12/site-packages (0.4.5)\n",
      "Note: you may need to restart the kernel to use updated packages.\n"
     ]
    }
   ],
   "source": [
    "%pip install safetensors"
   ]
  },
  {
   "cell_type": "code",
   "execution_count": 82,
   "metadata": {},
   "outputs": [],
   "source": [
    "from safetensors.numpy import load_file\n",
    "from pathlib import Path\n",
    "from loguru import logger\n",
    "import orjson\n",
    "from rich import pretty\n",
    "import plotly.graph_objects as go\n",
    "from faker import Faker\n",
    "from typing import Literal\n",
    "\n",
    "# from IPython.display import display\n",
    "import numpy as np\n",
    "\n",
    "np.set_printoptions(\n",
    "    precision=3,\n",
    "    suppress=True,\n",
    "    threshold=5,\n",
    ")\n",
    "rng = np.random.default_rng(0)\n",
    "faker = Faker()"
   ]
  },
  {
   "cell_type": "code",
   "execution_count": 12,
   "metadata": {},
   "outputs": [
    {
     "name": "stderr",
     "output_type": "stream",
     "text": [
      "\u001b[32m2024-12-13 14:18:35.910\u001b[0m | \u001b[1mINFO    \u001b[0m | \u001b[36m__main__\u001b[0m:\u001b[36m<cell line: 0>\u001b[0m:\u001b[36m2\u001b[0m - \u001b[1m/Users/gat/work/FA2024/embedding_translation\u001b[0m\n",
      "\u001b[32m2024-12-13 14:18:35.911\u001b[0m | \u001b[1mINFO    \u001b[0m | \u001b[36m__main__\u001b[0m:\u001b[36m<cell line: 0>\u001b[0m:\u001b[36m4\u001b[0m - \u001b[1m/Users/gat/work/FA2024/embedding_translation/data\u001b[0m\n"
     ]
    }
   ],
   "source": [
    "PROJ_ROOT = Path.cwd().resolve().parent\n",
    "logger.info(PROJ_ROOT)\n",
    "DATA_DIR = PROJ_ROOT / \"data\"\n",
    "logger.info(DATA_DIR)\n",
    "MLP_MSE_VALIDATION = DATA_DIR / \"mlp_mse_validation\"\n",
    "MLP_MSE_VALIDATION_TENSORS = MLP_MSE_VALIDATION / \"validation_mses.safetensors\"\n",
    "MLP_MSE_VALIDATION_META = MLP_MSE_VALIDATION / \"validation_mses.json\""
   ]
  },
  {
   "cell_type": "code",
   "execution_count": 28,
   "metadata": {},
   "outputs": [
    {
     "data": {
      "text/html": [
       "<pre style=\"white-space:pre;overflow-x:auto;line-height:normal;font-family:Menlo,'DejaVu Sans Mono',consolas,'Courier New',monospace\"><span style=\"font-weight: bold\">{</span>\n",
       "<span style=\"color: #7fbf7f; text-decoration-color: #7fbf7f\">│   </span><span style=\"color: #008000; text-decoration-color: #008000\">'dataset2idx'</span>: <span style=\"font-weight: bold\">{</span><span style=\"color: #008000; text-decoration-color: #008000\">'arguana'</span>: <span style=\"color: #008080; text-decoration-color: #008080; font-weight: bold\">0</span>, <span style=\"color: #008000; text-decoration-color: #008000\">'fiqa'</span>: <span style=\"color: #008080; text-decoration-color: #008080; font-weight: bold\">1</span>, <span style=\"color: #008000; text-decoration-color: #008000\">'scidocs'</span>: <span style=\"color: #008080; text-decoration-color: #008080; font-weight: bold\">2</span>, <span style=\"color: #008000; text-decoration-color: #008000\">'nfcorpus'</span>: <span style=\"color: #008080; text-decoration-color: #008080; font-weight: bold\">3</span>, <span style=\"color: #008000; text-decoration-color: #008000\">'hotpotqa'</span>: <span style=\"color: #008080; text-decoration-color: #008080; font-weight: bold\">4</span>, <span style=\"color: #008000; text-decoration-color: #008000\">'trec-covid'</span>: <span style=\"color: #008080; text-decoration-color: #008080; font-weight: bold\">5</span><span style=\"font-weight: bold\">}</span>,\n",
       "<span style=\"color: #7fbf7f; text-decoration-color: #7fbf7f\">│   </span><span style=\"color: #008000; text-decoration-color: #008000\">'model2idx'</span>: <span style=\"font-weight: bold\">{</span>\n",
       "<span style=\"color: #7fbf7f; text-decoration-color: #7fbf7f\">│   │   </span><span style=\"color: #008000; text-decoration-color: #008000\">'WhereIsAI_UAE-Large-V1'</span>: <span style=\"color: #008080; text-decoration-color: #008080; font-weight: bold\">0</span>,\n",
       "<span style=\"color: #7fbf7f; text-decoration-color: #7fbf7f\">│   │   </span><span style=\"color: #008000; text-decoration-color: #008000\">'BAAI_bge-base-en-v1.5'</span>: <span style=\"color: #008080; text-decoration-color: #008080; font-weight: bold\">1</span>,\n",
       "<span style=\"color: #7fbf7f; text-decoration-color: #7fbf7f\">│   │   </span><span style=\"color: #008000; text-decoration-color: #008000\">'BAAI_bge-large-en-v1.5'</span>: <span style=\"color: #008080; text-decoration-color: #008080; font-weight: bold\">2</span>,\n",
       "<span style=\"color: #7fbf7f; text-decoration-color: #7fbf7f\">│   │   </span><span style=\"color: #008000; text-decoration-color: #008000\">'BAAI_bge-small-en-v1.5'</span>: <span style=\"color: #008080; text-decoration-color: #008080; font-weight: bold\">3</span>,\n",
       "<span style=\"color: #7fbf7f; text-decoration-color: #7fbf7f\">│   │   </span><span style=\"color: #008000; text-decoration-color: #008000\">'intfloat_e5-base-v2'</span>: <span style=\"color: #008080; text-decoration-color: #008080; font-weight: bold\">4</span>,\n",
       "<span style=\"color: #7fbf7f; text-decoration-color: #7fbf7f\">│   │   </span><span style=\"color: #008000; text-decoration-color: #008000\">'intfloat_e5-large-v2'</span>: <span style=\"color: #008080; text-decoration-color: #008080; font-weight: bold\">5</span>,\n",
       "<span style=\"color: #7fbf7f; text-decoration-color: #7fbf7f\">│   │   </span><span style=\"color: #008000; text-decoration-color: #008000\">'intfloat_e5-small-v2'</span>: <span style=\"color: #008080; text-decoration-color: #008080; font-weight: bold\">6</span>,\n",
       "<span style=\"color: #7fbf7f; text-decoration-color: #7fbf7f\">│   │   </span><span style=\"color: #008000; text-decoration-color: #008000\">'thenlper_gte-base'</span>: <span style=\"color: #008080; text-decoration-color: #008080; font-weight: bold\">7</span>,\n",
       "<span style=\"color: #7fbf7f; text-decoration-color: #7fbf7f\">│   │   </span><span style=\"color: #008000; text-decoration-color: #008000\">'thenlper_gte-large'</span>: <span style=\"color: #008080; text-decoration-color: #008080; font-weight: bold\">8</span>,\n",
       "<span style=\"color: #7fbf7f; text-decoration-color: #7fbf7f\">│   │   </span><span style=\"color: #008000; text-decoration-color: #008000\">'thenlper_gte-small'</span>: <span style=\"color: #008080; text-decoration-color: #008080; font-weight: bold\">9</span>,\n",
       "<span style=\"color: #7fbf7f; text-decoration-color: #7fbf7f\">│   │   </span><span style=\"color: #008000; text-decoration-color: #008000\">'sentence-transformers_gtr-t5-base'</span>: <span style=\"color: #008080; text-decoration-color: #008080; font-weight: bold\">10</span>,\n",
       "<span style=\"color: #7fbf7f; text-decoration-color: #7fbf7f\">│   │   </span><span style=\"color: #008000; text-decoration-color: #008000\">'sentence-transformers_gtr-t5-large'</span>: <span style=\"color: #008080; text-decoration-color: #008080; font-weight: bold\">11</span>,\n",
       "<span style=\"color: #7fbf7f; text-decoration-color: #7fbf7f\">│   │   </span><span style=\"color: #008000; text-decoration-color: #008000\">'mixedbread-ai_mxbai-embed-large-v1'</span>: <span style=\"color: #008080; text-decoration-color: #008080; font-weight: bold\">12</span>,\n",
       "<span style=\"color: #7fbf7f; text-decoration-color: #7fbf7f\">│   │   </span><span style=\"color: #008000; text-decoration-color: #008000\">'sentence-transformers_sentence-t5-base'</span>: <span style=\"color: #008080; text-decoration-color: #008080; font-weight: bold\">13</span>,\n",
       "<span style=\"color: #7fbf7f; text-decoration-color: #7fbf7f\">│   │   </span><span style=\"color: #008000; text-decoration-color: #008000\">'sentence-transformers_sentence-t5-large'</span>: <span style=\"color: #008080; text-decoration-color: #008080; font-weight: bold\">14</span>,\n",
       "<span style=\"color: #7fbf7f; text-decoration-color: #7fbf7f\">│   │   </span><span style=\"color: #008000; text-decoration-color: #008000\">'openai_text-embedding-3-large'</span>: <span style=\"color: #008080; text-decoration-color: #008080; font-weight: bold\">15</span>,\n",
       "<span style=\"color: #7fbf7f; text-decoration-color: #7fbf7f\">│   │   </span><span style=\"color: #008000; text-decoration-color: #008000\">'openai_text-embedding-3-small'</span>: <span style=\"color: #008080; text-decoration-color: #008080; font-weight: bold\">16</span>\n",
       "<span style=\"color: #7fbf7f; text-decoration-color: #7fbf7f\">│   </span><span style=\"font-weight: bold\">}</span>,\n",
       "<span style=\"color: #7fbf7f; text-decoration-color: #7fbf7f\">│   </span><span style=\"color: #008000; text-decoration-color: #008000\">'num_layers'</span>: <span style=\"font-weight: bold\">[</span><span style=\"color: #008080; text-decoration-color: #008080; font-weight: bold\">2</span>, <span style=\"color: #008080; text-decoration-color: #008080; font-weight: bold\">3</span>, <span style=\"color: #008080; text-decoration-color: #008080; font-weight: bold\">4</span>, <span style=\"color: #008080; text-decoration-color: #008080; font-weight: bold\">5</span>, <span style=\"color: #008080; text-decoration-color: #008080; font-weight: bold\">6</span>, <span style=\"color: #008080; text-decoration-color: #008080; font-weight: bold\">7</span><span style=\"font-weight: bold\">]</span>\n",
       "<span style=\"font-weight: bold\">}</span>\n",
       "</pre>\n"
      ],
      "text/plain": [
       "\u001b[1m{\u001b[0m\n",
       "\u001b[2;32m│   \u001b[0m\u001b[32m'dataset2idx'\u001b[0m: \u001b[1m{\u001b[0m\u001b[32m'arguana'\u001b[0m: \u001b[1;36m0\u001b[0m, \u001b[32m'fiqa'\u001b[0m: \u001b[1;36m1\u001b[0m, \u001b[32m'scidocs'\u001b[0m: \u001b[1;36m2\u001b[0m, \u001b[32m'nfcorpus'\u001b[0m: \u001b[1;36m3\u001b[0m, \u001b[32m'hotpotqa'\u001b[0m: \u001b[1;36m4\u001b[0m, \u001b[32m'trec-covid'\u001b[0m: \u001b[1;36m5\u001b[0m\u001b[1m}\u001b[0m,\n",
       "\u001b[2;32m│   \u001b[0m\u001b[32m'model2idx'\u001b[0m: \u001b[1m{\u001b[0m\n",
       "\u001b[2;32m│   │   \u001b[0m\u001b[32m'WhereIsAI_UAE-Large-V1'\u001b[0m: \u001b[1;36m0\u001b[0m,\n",
       "\u001b[2;32m│   │   \u001b[0m\u001b[32m'BAAI_bge-base-en-v1.5'\u001b[0m: \u001b[1;36m1\u001b[0m,\n",
       "\u001b[2;32m│   │   \u001b[0m\u001b[32m'BAAI_bge-large-en-v1.5'\u001b[0m: \u001b[1;36m2\u001b[0m,\n",
       "\u001b[2;32m│   │   \u001b[0m\u001b[32m'BAAI_bge-small-en-v1.5'\u001b[0m: \u001b[1;36m3\u001b[0m,\n",
       "\u001b[2;32m│   │   \u001b[0m\u001b[32m'intfloat_e5-base-v2'\u001b[0m: \u001b[1;36m4\u001b[0m,\n",
       "\u001b[2;32m│   │   \u001b[0m\u001b[32m'intfloat_e5-large-v2'\u001b[0m: \u001b[1;36m5\u001b[0m,\n",
       "\u001b[2;32m│   │   \u001b[0m\u001b[32m'intfloat_e5-small-v2'\u001b[0m: \u001b[1;36m6\u001b[0m,\n",
       "\u001b[2;32m│   │   \u001b[0m\u001b[32m'thenlper_gte-base'\u001b[0m: \u001b[1;36m7\u001b[0m,\n",
       "\u001b[2;32m│   │   \u001b[0m\u001b[32m'thenlper_gte-large'\u001b[0m: \u001b[1;36m8\u001b[0m,\n",
       "\u001b[2;32m│   │   \u001b[0m\u001b[32m'thenlper_gte-small'\u001b[0m: \u001b[1;36m9\u001b[0m,\n",
       "\u001b[2;32m│   │   \u001b[0m\u001b[32m'sentence-transformers_gtr-t5-base'\u001b[0m: \u001b[1;36m10\u001b[0m,\n",
       "\u001b[2;32m│   │   \u001b[0m\u001b[32m'sentence-transformers_gtr-t5-large'\u001b[0m: \u001b[1;36m11\u001b[0m,\n",
       "\u001b[2;32m│   │   \u001b[0m\u001b[32m'mixedbread-ai_mxbai-embed-large-v1'\u001b[0m: \u001b[1;36m12\u001b[0m,\n",
       "\u001b[2;32m│   │   \u001b[0m\u001b[32m'sentence-transformers_sentence-t5-base'\u001b[0m: \u001b[1;36m13\u001b[0m,\n",
       "\u001b[2;32m│   │   \u001b[0m\u001b[32m'sentence-transformers_sentence-t5-large'\u001b[0m: \u001b[1;36m14\u001b[0m,\n",
       "\u001b[2;32m│   │   \u001b[0m\u001b[32m'openai_text-embedding-3-large'\u001b[0m: \u001b[1;36m15\u001b[0m,\n",
       "\u001b[2;32m│   │   \u001b[0m\u001b[32m'openai_text-embedding-3-small'\u001b[0m: \u001b[1;36m16\u001b[0m\n",
       "\u001b[2;32m│   \u001b[0m\u001b[1m}\u001b[0m,\n",
       "\u001b[2;32m│   \u001b[0m\u001b[32m'num_layers'\u001b[0m: \u001b[1m[\u001b[0m\u001b[1;36m2\u001b[0m, \u001b[1;36m3\u001b[0m, \u001b[1;36m4\u001b[0m, \u001b[1;36m5\u001b[0m, \u001b[1;36m6\u001b[0m, \u001b[1;36m7\u001b[0m\u001b[1m]\u001b[0m\n",
       "\u001b[1m}\u001b[0m\n"
      ]
     },
     "metadata": {},
     "output_type": "display_data"
    }
   ],
   "source": [
    "# Load MSE Validation Data\n",
    "\"\"\"\n",
    "# 6 Datasets (ArguAna, FiQA, SciDocs, NFCorpus, HotPotQA, Trec-COVID)\n",
    "# 17 Native Embedding Spaces\n",
    "# 17 Stitched Embedding Spaces\n",
    "# 6 Architectures (2, 3, 4, 5, 6, or 7 layers)\n",
    "\"\"\"\n",
    "with MLP_MSE_VALIDATION_META.open() as f:\n",
    "    meta = orjson.loads(f.read())\n",
    "\n",
    "pretty.pprint(meta)"
   ]
  },
  {
   "cell_type": "code",
   "execution_count": 56,
   "metadata": {},
   "outputs": [
    {
     "name": "stdout",
     "output_type": "stream",
     "text": [
      "\u001b[2;36m[12/13/24 14:53:57]\u001b[0m\u001b[2;36m \u001b[0m\u001b[1;34mINFO    \u001b[0m\u001b[1;32m \u001b[0m\u001b[1m[\u001b[0m\u001b[1;36m2716447018.\u001b[0mpy:\u001b[1;36m8\u001b[0m\u001b[1m]\u001b[0m \u001b[1m(\u001b[0m\u001b[1;36m17\u001b[0m, \u001b[1;36m17\u001b[0m\u001b[1m)\u001b[0m          \u001b]8;id=34588;file:///var/folders/6f/f4k9qbkd5nqfywwdhvwdtl5m0000gn/T/ipykernel_17291/2716447018.py\u001b\\\u001b[1;36m2716447018.py\u001b[0m\u001b]8;;\u001b\\\u001b[1;36m:\u001b[0m\u001b]8;id=443200;file:///var/folders/6f/f4k9qbkd5nqfywwdhvwdtl5m0000gn/T/ipykernel_17291/2716447018.py#8\u001b\\\u001b[1;36m8\u001b[0m\u001b]8;;\u001b\\\n"
     ]
    },
    {
     "data": {
      "text/html": [
       "<pre style=\"white-space:pre;overflow-x:auto;line-height:normal;font-family:Menlo,'DejaVu Sans Mono',consolas,'Courier New',monospace\"><span style=\"color: #800080; text-decoration-color: #800080; font-weight: bold\">array</span><span style=\"font-weight: bold\">([[</span><span style=\"color: #008080; text-decoration-color: #008080; font-weight: bold\">1</span>.   , <span style=\"color: #008080; text-decoration-color: #008080; font-weight: bold\">0.002</span>, <span style=\"color: #008080; text-decoration-color: #008080; font-weight: bold\">0.001</span>, <span style=\"color: #808000; text-decoration-color: #808000\">...</span>, <span style=\"color: #008080; text-decoration-color: #008080; font-weight: bold\">0.002</span>, <span style=\"color: #008080; text-decoration-color: #008080; font-weight: bold\">0.001</span>, <span style=\"color: #008080; text-decoration-color: #008080; font-weight: bold\">0.001</span><span style=\"font-weight: bold\">]</span>,\n",
       "<span style=\"color: #7fbf7f; text-decoration-color: #7fbf7f\">│      </span><span style=\"font-weight: bold\">[</span><span style=\"color: #008080; text-decoration-color: #008080; font-weight: bold\">0.001</span>, <span style=\"color: #008080; text-decoration-color: #008080; font-weight: bold\">1</span>.   , <span style=\"color: #008080; text-decoration-color: #008080; font-weight: bold\">0.001</span>, <span style=\"color: #808000; text-decoration-color: #808000\">...</span>, <span style=\"color: #008080; text-decoration-color: #008080; font-weight: bold\">0.002</span>, <span style=\"color: #008080; text-decoration-color: #008080; font-weight: bold\">0.001</span>, <span style=\"color: #008080; text-decoration-color: #008080; font-weight: bold\">0.001</span><span style=\"font-weight: bold\">]</span>,\n",
       "<span style=\"color: #7fbf7f; text-decoration-color: #7fbf7f\">│      </span><span style=\"font-weight: bold\">[</span><span style=\"color: #008080; text-decoration-color: #008080; font-weight: bold\">0.001</span>, <span style=\"color: #008080; text-decoration-color: #008080; font-weight: bold\">0.002</span>, <span style=\"color: #008080; text-decoration-color: #008080; font-weight: bold\">1</span>.   , <span style=\"color: #808000; text-decoration-color: #808000\">...</span>, <span style=\"color: #008080; text-decoration-color: #008080; font-weight: bold\">0.002</span>, <span style=\"color: #008080; text-decoration-color: #008080; font-weight: bold\">0.001</span>, <span style=\"color: #008080; text-decoration-color: #008080; font-weight: bold\">0.001</span><span style=\"font-weight: bold\">]</span>,\n",
       "<span style=\"color: #7fbf7f; text-decoration-color: #7fbf7f\">│      </span><span style=\"color: #808000; text-decoration-color: #808000\">...</span>,\n",
       "<span style=\"color: #7fbf7f; text-decoration-color: #7fbf7f\">│      </span><span style=\"font-weight: bold\">[</span><span style=\"color: #008080; text-decoration-color: #008080; font-weight: bold\">0.001</span>, <span style=\"color: #008080; text-decoration-color: #008080; font-weight: bold\">0.002</span>, <span style=\"color: #008080; text-decoration-color: #008080; font-weight: bold\">0.001</span>, <span style=\"color: #808000; text-decoration-color: #808000\">...</span>, <span style=\"color: #008080; text-decoration-color: #008080; font-weight: bold\">1</span>.   , <span style=\"color: #008080; text-decoration-color: #008080; font-weight: bold\">0.001</span>, <span style=\"color: #008080; text-decoration-color: #008080; font-weight: bold\">0.001</span><span style=\"font-weight: bold\">]</span>,\n",
       "<span style=\"color: #7fbf7f; text-decoration-color: #7fbf7f\">│      </span><span style=\"font-weight: bold\">[</span><span style=\"color: #008080; text-decoration-color: #008080; font-weight: bold\">0.001</span>, <span style=\"color: #008080; text-decoration-color: #008080; font-weight: bold\">0.001</span>, <span style=\"color: #008080; text-decoration-color: #008080; font-weight: bold\">0.001</span>, <span style=\"color: #808000; text-decoration-color: #808000\">...</span>, <span style=\"color: #008080; text-decoration-color: #008080; font-weight: bold\">0.002</span>, <span style=\"color: #008080; text-decoration-color: #008080; font-weight: bold\">1</span>.   , <span style=\"color: #008080; text-decoration-color: #008080; font-weight: bold\">0.001</span><span style=\"font-weight: bold\">]</span>,\n",
       "<span style=\"color: #7fbf7f; text-decoration-color: #7fbf7f\">│      </span><span style=\"font-weight: bold\">[</span><span style=\"color: #008080; text-decoration-color: #008080; font-weight: bold\">0.001</span>, <span style=\"color: #008080; text-decoration-color: #008080; font-weight: bold\">0.002</span>, <span style=\"color: #008080; text-decoration-color: #008080; font-weight: bold\">0.001</span>, <span style=\"color: #808000; text-decoration-color: #808000\">...</span>, <span style=\"color: #008080; text-decoration-color: #008080; font-weight: bold\">0.002</span>, <span style=\"color: #008080; text-decoration-color: #008080; font-weight: bold\">0.001</span>, <span style=\"color: #008080; text-decoration-color: #008080; font-weight: bold\">1</span>.   <span style=\"font-weight: bold\">]]</span>, <span style=\"color: #808000; text-decoration-color: #808000\">dtype</span>=<span style=\"color: #800080; text-decoration-color: #800080\">float32</span><span style=\"font-weight: bold\">)</span>\n",
       "</pre>\n"
      ],
      "text/plain": [
       "\u001b[1;35marray\u001b[0m\u001b[1m(\u001b[0m\u001b[1m[\u001b[0m\u001b[1m[\u001b[0m\u001b[1;36m1\u001b[0m.   , \u001b[1;36m0.002\u001b[0m, \u001b[1;36m0.001\u001b[0m, \u001b[33m...\u001b[0m, \u001b[1;36m0.002\u001b[0m, \u001b[1;36m0.001\u001b[0m, \u001b[1;36m0.001\u001b[0m\u001b[1m]\u001b[0m,\n",
       "\u001b[2;32m│      \u001b[0m\u001b[1m[\u001b[0m\u001b[1;36m0.001\u001b[0m, \u001b[1;36m1\u001b[0m.   , \u001b[1;36m0.001\u001b[0m, \u001b[33m...\u001b[0m, \u001b[1;36m0.002\u001b[0m, \u001b[1;36m0.001\u001b[0m, \u001b[1;36m0.001\u001b[0m\u001b[1m]\u001b[0m,\n",
       "\u001b[2;32m│      \u001b[0m\u001b[1m[\u001b[0m\u001b[1;36m0.001\u001b[0m, \u001b[1;36m0.002\u001b[0m, \u001b[1;36m1\u001b[0m.   , \u001b[33m...\u001b[0m, \u001b[1;36m0.002\u001b[0m, \u001b[1;36m0.001\u001b[0m, \u001b[1;36m0.001\u001b[0m\u001b[1m]\u001b[0m,\n",
       "\u001b[2;32m│      \u001b[0m\u001b[33m...\u001b[0m,\n",
       "\u001b[2;32m│      \u001b[0m\u001b[1m[\u001b[0m\u001b[1;36m0.001\u001b[0m, \u001b[1;36m0.002\u001b[0m, \u001b[1;36m0.001\u001b[0m, \u001b[33m...\u001b[0m, \u001b[1;36m1\u001b[0m.   , \u001b[1;36m0.001\u001b[0m, \u001b[1;36m0.001\u001b[0m\u001b[1m]\u001b[0m,\n",
       "\u001b[2;32m│      \u001b[0m\u001b[1m[\u001b[0m\u001b[1;36m0.001\u001b[0m, \u001b[1;36m0.001\u001b[0m, \u001b[1;36m0.001\u001b[0m, \u001b[33m...\u001b[0m, \u001b[1;36m0.002\u001b[0m, \u001b[1;36m1\u001b[0m.   , \u001b[1;36m0.001\u001b[0m\u001b[1m]\u001b[0m,\n",
       "\u001b[2;32m│      \u001b[0m\u001b[1m[\u001b[0m\u001b[1;36m0.001\u001b[0m, \u001b[1;36m0.002\u001b[0m, \u001b[1;36m0.001\u001b[0m, \u001b[33m...\u001b[0m, \u001b[1;36m0.002\u001b[0m, \u001b[1;36m0.001\u001b[0m, \u001b[1;36m1\u001b[0m.   \u001b[1m]\u001b[0m\u001b[1m]\u001b[0m, \u001b[33mdtype\u001b[0m=\u001b[35mfloat32\u001b[0m\u001b[1m)\u001b[0m\n"
      ]
     },
     "metadata": {},
     "output_type": "display_data"
    }
   ],
   "source": [
    "# Plot heatmap for one architecture\n",
    "dataset_i = 0\n",
    "architecture_i = 0\n",
    "\n",
    "example_validation_mse = validation_mse[dataset_i, :, :, architecture_i]\n",
    "logger.info(example_validation_mse.shape)\n",
    "pretty.pprint(example_validation_mse)"
   ]
  },
  {
   "cell_type": "markdown",
   "metadata": {},
   "source": [
    "## Helper Viz"
   ]
  },
  {
   "cell_type": "code",
   "execution_count": 99,
   "metadata": {},
   "outputs": [
    {
     "name": "stdout",
     "output_type": "stream",
     "text": [
      "\u001b[2;36m[12/13/24 15:23:46]\u001b[0m\u001b[2;36m \u001b[0m\u001b[1;34mINFO    \u001b[0m\u001b[1;32m \u001b[0m\u001b[1m[\u001b[0m\u001b[1;36m1064263312.\u001b[0mpy:\u001b[1;36m28\u001b[0m\u001b[1m]\u001b[0m \u001b[1m[\u001b[0m\u001b[32m'Gerald \u001b[0m       \u001b]8;id=904166;file:///var/folders/6f/f4k9qbkd5nqfywwdhvwdtl5m0000gn/T/ipykernel_17291/1064263312.py\u001b\\\u001b[1;36m1064263312.py\u001b[0m\u001b]8;;\u001b\\\u001b[1;36m:\u001b[0m\u001b]8;id=943911;file:///var/folders/6f/f4k9qbkd5nqfywwdhvwdtl5m0000gn/T/ipykernel_17291/1064263312.py#28\u001b\\\u001b[1;36m28\u001b[0m\u001b]8;;\u001b\\\n",
      "\u001b[2;36m                    \u001b[0m\u001b[1;32m         \u001b[0m\u001b[32mDavila'\u001b[0m, \u001b[32m'Christopher Nunez'\u001b[0m,      \u001b[1;36m                \u001b[0m\n",
      "\u001b[2;36m                    \u001b[0m\u001b[1;32m         \u001b[0m\u001b[32m'Richard Archer'\u001b[0m, \u001b[32m'Jessica \u001b[0m        \u001b[1;36m                \u001b[0m\n",
      "\u001b[2;36m                    \u001b[0m\u001b[1;32m         \u001b[0m\u001b[32mBaldwin'\u001b[0m, \u001b[32m'Andrea Williams'\u001b[0m,       \u001b[1;36m                \u001b[0m\n",
      "\u001b[2;36m                    \u001b[0m\u001b[1;32m         \u001b[0m\u001b[32m'Elizabeth Pratt'\u001b[0m, \u001b[32m'Jeremy \u001b[0m        \u001b[1;36m                \u001b[0m\n",
      "\u001b[2;36m                    \u001b[0m\u001b[1;32m         \u001b[0m\u001b[32mTorres'\u001b[0m, \u001b[32m'Brenda Franklin'\u001b[0m, \u001b[32m'Nancy\u001b[0m \u001b[1;36m                \u001b[0m\n",
      "\u001b[2;36m                    \u001b[0m\u001b[1;32m         \u001b[0m\u001b[32mJames'\u001b[0m, \u001b[32m'Anthony Parker'\u001b[0m\u001b[1m]\u001b[0m          \u001b[1;36m                \u001b[0m\n",
      "\u001b[2;36m                   \u001b[0m\u001b[2;36m \u001b[0m\u001b[1;34mINFO    \u001b[0m\u001b[1;32m \u001b[0m\u001b[1m[\u001b[0m\u001b[1;36m1064263312.\u001b[0mpy:\u001b[1;36m31\u001b[0m\u001b[1m]\u001b[0m Creating        \u001b]8;id=87908;file:///var/folders/6f/f4k9qbkd5nqfywwdhvwdtl5m0000gn/T/ipykernel_17291/1064263312.py\u001b\\\u001b[1;36m1064263312.py\u001b[0m\u001b]8;;\u001b\\\u001b[1;36m:\u001b[0m\u001b]8;id=373851;file:///var/folders/6f/f4k9qbkd5nqfywwdhvwdtl5m0000gn/T/ipykernel_17291/1064263312.py#31\u001b\\\u001b[1;36m31\u001b[0m\u001b]8;;\u001b\\\n",
      "\u001b[2;36m                    \u001b[0m\u001b[1;32m         \u001b[0mheatmap visualization\u001b[33m...\u001b[0m           \u001b[1;36m                \u001b[0m\n"
     ]
    },
    {
     "data": {
      "application/vnd.plotly.v1+json": {
       "config": {
        "plotlyServerURL": "https://plot.ly"
       },
       "data": [
        {
         "colorscale": [
          [
           0,
           "#440154"
          ],
          [
           0.1111111111111111,
           "#482878"
          ],
          [
           0.2222222222222222,
           "#3e4989"
          ],
          [
           0.3333333333333333,
           "#31688e"
          ],
          [
           0.4444444444444444,
           "#26828e"
          ],
          [
           0.5555555555555556,
           "#1f9e89"
          ],
          [
           0.6666666666666666,
           "#35b779"
          ],
          [
           0.7777777777777778,
           "#6ece58"
          ],
          [
           0.8888888888888888,
           "#b5de2b"
          ],
          [
           1,
           "#fde725"
          ]
         ],
         "reversescale": false,
         "showscale": true,
         "text": [
          [
           "0.64",
           "0.27",
           "0.04",
           "0.02",
           "0.81",
           "0.91",
           "0.61",
           "0.73",
           "0.54",
           "0.94"
          ],
          [
           "0.82",
           "0.00",
           "0.86",
           "0.03",
           "0.73",
           "0.18",
           "0.86",
           "0.54",
           "0.30",
           "0.42"
          ],
          [
           "0.03",
           "0.12",
           "0.67",
           "0.65",
           "0.62",
           "0.38",
           "1.00",
           "0.98",
           "0.69",
           "0.65"
          ],
          [
           "0.69",
           "0.39",
           "0.14",
           "0.72",
           "0.53",
           "0.31",
           "0.49",
           "0.89",
           "0.93",
           "0.36"
          ],
          [
           "0.57",
           "0.32",
           "0.59",
           "0.34",
           "0.39",
           "0.89",
           "0.23",
           "0.62",
           "0.08",
           "0.83"
          ],
          [
           "0.79",
           "0.24",
           "0.88",
           "0.06",
           "0.34",
           "0.15",
           "0.45",
           "0.80",
           "0.23",
           "0.05"
          ],
          [
           "0.40",
           "0.20",
           "0.09",
           "0.58",
           "0.30",
           "0.67",
           "0.20",
           "0.94",
           "0.37",
           "0.11"
          ],
          [
           "0.63",
           "0.93",
           "0.44",
           "0.95",
           "0.50",
           "0.43",
           "0.62",
           "1.00",
           "0.95",
           "0.46"
          ],
          [
           "0.76",
           "0.50",
           "0.53",
           "0.79",
           "0.41",
           "0.73",
           "0.71",
           "0.93",
           "0.11",
           "0.73"
          ],
          [
           "0.93",
           "0.97",
           "0.01",
           "0.86",
           "0.98",
           "0.96",
           "0.15",
           "0.97",
           "0.89",
           "0.82"
          ]
         ],
         "textfont": {
          "color": "black"
         },
         "texttemplate": "%{text}",
         "type": "heatmap",
         "x": [
          "Gerald Davila",
          "Christopher Nunez",
          "Richard Archer",
          "Jessica Baldwin",
          "Andrea Williams",
          "Elizabeth Pratt",
          "Jeremy Torres",
          "Brenda Franklin",
          "Nancy James",
          "Anthony Parker"
         ],
         "y": [
          "Gerald Davila",
          "Christopher Nunez",
          "Richard Archer",
          "Jessica Baldwin",
          "Andrea Williams",
          "Elizabeth Pratt",
          "Jeremy Torres",
          "Brenda Franklin",
          "Nancy James",
          "Anthony Parker"
         ],
         "z": [
          [
           0.6369616873214543,
           0.2697867137638703,
           0.04097352393619469,
           0.016527635528529094,
           0.8132702392002724,
           0.9127555772777217,
           0.6066357757671799,
           0.7294965609839984,
           0.5436249914654229,
           0.9350724237877682
          ],
          [
           0.8158535541215322,
           0.002738500170148095,
           0.8574042765875693,
           0.033585575305464355,
           0.7296554464299441,
           0.17565562060255901,
           0.8631789223498866,
           0.5414612202490917,
           0.2997118905373848,
           0.42268722119765845
          ],
          [
           0.028319671145462966,
           0.12428327649956394,
           0.6706244146936303,
           0.6471895115742501,
           0.6153851114812539,
           0.38367755426188344,
           0.997209935789211,
           0.9808353387762301,
           0.6855419844806947,
           0.6504592762678163
          ],
          [
           0.6884467305709401,
           0.3889214239791038,
           0.13509650502241122,
           0.7214883401940817,
           0.5253543224757259,
           0.31024187555895566,
           0.4858353588317891,
           0.8894878343490003,
           0.9340435159562497,
           0.35779519670907023
          ],
          [
           0.5715298307297609,
           0.32186939107594215,
           0.5943000301996968,
           0.33791122550713326,
           0.39161900052816123,
           0.8902743520047923,
           0.22715759353337972,
           0.6231871446860424,
           0.08401534358238483,
           0.8326441476533978
          ],
          [
           0.7870983074886834,
           0.23936944299295215,
           0.8764842308107038,
           0.05856803480519435,
           0.3361170605456604,
           0.15027946689483906,
           0.450339366649287,
           0.7963242702872942,
           0.23064220899374743,
           0.05202130106440961
          ],
          [
           0.4045518398215282,
           0.19851304450925533,
           0.0907530456191219,
           0.5803323859868507,
           0.2986961328189226,
           0.6719948779563594,
           0.1995154439682133,
           0.9421131105064978,
           0.36511016824482856,
           0.10549527957022953
          ],
          [
           0.6291081515397092,
           0.9271545530678674,
           0.440377154715784,
           0.9545904936907372,
           0.499895813687647,
           0.42522862484907553,
           0.6202134520153778,
           0.9950965052353241,
           0.9489436749377653,
           0.4600451393090961
          ],
          [
           0.7577288453082914,
           0.49742269548761897,
           0.5293121601967704,
           0.7857857007138075,
           0.4146558493556708,
           0.7344835717887294,
           0.7111428779897498,
           0.9320596866133782,
           0.1149326332809052,
           0.7290151170763094
          ],
          [
           0.9274239286245599,
           0.9679261899246464,
           0.014706304965369288,
           0.8636400902455758,
           0.9811950400663443,
           0.9572101796109636,
           0.1487640122324979,
           0.972628813822955,
           0.8899355557205206,
           0.8223738275430704
          ]
         ]
        }
       ],
       "layout": {
        "dragmode": false,
        "height": 600,
        "modebar": {
         "remove": [
          "zoomIn2d",
          "zoomOut2d",
          "autoScale2d",
          "resetScale2d",
          "hoverClosestCartesian",
          "hoverCompareCartesian",
          "toggleSpikelines"
         ]
        },
        "template": {
         "data": {
          "bar": [
           {
            "error_x": {
             "color": "#2a3f5f"
            },
            "error_y": {
             "color": "#2a3f5f"
            },
            "marker": {
             "line": {
              "color": "#E5ECF6",
              "width": 0.5
             },
             "pattern": {
              "fillmode": "overlay",
              "size": 10,
              "solidity": 0.2
             }
            },
            "type": "bar"
           }
          ],
          "barpolar": [
           {
            "marker": {
             "line": {
              "color": "#E5ECF6",
              "width": 0.5
             },
             "pattern": {
              "fillmode": "overlay",
              "size": 10,
              "solidity": 0.2
             }
            },
            "type": "barpolar"
           }
          ],
          "carpet": [
           {
            "aaxis": {
             "endlinecolor": "#2a3f5f",
             "gridcolor": "white",
             "linecolor": "white",
             "minorgridcolor": "white",
             "startlinecolor": "#2a3f5f"
            },
            "baxis": {
             "endlinecolor": "#2a3f5f",
             "gridcolor": "white",
             "linecolor": "white",
             "minorgridcolor": "white",
             "startlinecolor": "#2a3f5f"
            },
            "type": "carpet"
           }
          ],
          "choropleth": [
           {
            "colorbar": {
             "outlinewidth": 0,
             "ticks": ""
            },
            "type": "choropleth"
           }
          ],
          "contour": [
           {
            "colorbar": {
             "outlinewidth": 0,
             "ticks": ""
            },
            "colorscale": [
             [
              0,
              "#0d0887"
             ],
             [
              0.1111111111111111,
              "#46039f"
             ],
             [
              0.2222222222222222,
              "#7201a8"
             ],
             [
              0.3333333333333333,
              "#9c179e"
             ],
             [
              0.4444444444444444,
              "#bd3786"
             ],
             [
              0.5555555555555556,
              "#d8576b"
             ],
             [
              0.6666666666666666,
              "#ed7953"
             ],
             [
              0.7777777777777778,
              "#fb9f3a"
             ],
             [
              0.8888888888888888,
              "#fdca26"
             ],
             [
              1,
              "#f0f921"
             ]
            ],
            "type": "contour"
           }
          ],
          "contourcarpet": [
           {
            "colorbar": {
             "outlinewidth": 0,
             "ticks": ""
            },
            "type": "contourcarpet"
           }
          ],
          "heatmap": [
           {
            "colorbar": {
             "outlinewidth": 0,
             "ticks": ""
            },
            "colorscale": [
             [
              0,
              "#0d0887"
             ],
             [
              0.1111111111111111,
              "#46039f"
             ],
             [
              0.2222222222222222,
              "#7201a8"
             ],
             [
              0.3333333333333333,
              "#9c179e"
             ],
             [
              0.4444444444444444,
              "#bd3786"
             ],
             [
              0.5555555555555556,
              "#d8576b"
             ],
             [
              0.6666666666666666,
              "#ed7953"
             ],
             [
              0.7777777777777778,
              "#fb9f3a"
             ],
             [
              0.8888888888888888,
              "#fdca26"
             ],
             [
              1,
              "#f0f921"
             ]
            ],
            "type": "heatmap"
           }
          ],
          "heatmapgl": [
           {
            "colorbar": {
             "outlinewidth": 0,
             "ticks": ""
            },
            "colorscale": [
             [
              0,
              "#0d0887"
             ],
             [
              0.1111111111111111,
              "#46039f"
             ],
             [
              0.2222222222222222,
              "#7201a8"
             ],
             [
              0.3333333333333333,
              "#9c179e"
             ],
             [
              0.4444444444444444,
              "#bd3786"
             ],
             [
              0.5555555555555556,
              "#d8576b"
             ],
             [
              0.6666666666666666,
              "#ed7953"
             ],
             [
              0.7777777777777778,
              "#fb9f3a"
             ],
             [
              0.8888888888888888,
              "#fdca26"
             ],
             [
              1,
              "#f0f921"
             ]
            ],
            "type": "heatmapgl"
           }
          ],
          "histogram": [
           {
            "marker": {
             "pattern": {
              "fillmode": "overlay",
              "size": 10,
              "solidity": 0.2
             }
            },
            "type": "histogram"
           }
          ],
          "histogram2d": [
           {
            "colorbar": {
             "outlinewidth": 0,
             "ticks": ""
            },
            "colorscale": [
             [
              0,
              "#0d0887"
             ],
             [
              0.1111111111111111,
              "#46039f"
             ],
             [
              0.2222222222222222,
              "#7201a8"
             ],
             [
              0.3333333333333333,
              "#9c179e"
             ],
             [
              0.4444444444444444,
              "#bd3786"
             ],
             [
              0.5555555555555556,
              "#d8576b"
             ],
             [
              0.6666666666666666,
              "#ed7953"
             ],
             [
              0.7777777777777778,
              "#fb9f3a"
             ],
             [
              0.8888888888888888,
              "#fdca26"
             ],
             [
              1,
              "#f0f921"
             ]
            ],
            "type": "histogram2d"
           }
          ],
          "histogram2dcontour": [
           {
            "colorbar": {
             "outlinewidth": 0,
             "ticks": ""
            },
            "colorscale": [
             [
              0,
              "#0d0887"
             ],
             [
              0.1111111111111111,
              "#46039f"
             ],
             [
              0.2222222222222222,
              "#7201a8"
             ],
             [
              0.3333333333333333,
              "#9c179e"
             ],
             [
              0.4444444444444444,
              "#bd3786"
             ],
             [
              0.5555555555555556,
              "#d8576b"
             ],
             [
              0.6666666666666666,
              "#ed7953"
             ],
             [
              0.7777777777777778,
              "#fb9f3a"
             ],
             [
              0.8888888888888888,
              "#fdca26"
             ],
             [
              1,
              "#f0f921"
             ]
            ],
            "type": "histogram2dcontour"
           }
          ],
          "mesh3d": [
           {
            "colorbar": {
             "outlinewidth": 0,
             "ticks": ""
            },
            "type": "mesh3d"
           }
          ],
          "parcoords": [
           {
            "line": {
             "colorbar": {
              "outlinewidth": 0,
              "ticks": ""
             }
            },
            "type": "parcoords"
           }
          ],
          "pie": [
           {
            "automargin": true,
            "type": "pie"
           }
          ],
          "scatter": [
           {
            "fillpattern": {
             "fillmode": "overlay",
             "size": 10,
             "solidity": 0.2
            },
            "type": "scatter"
           }
          ],
          "scatter3d": [
           {
            "line": {
             "colorbar": {
              "outlinewidth": 0,
              "ticks": ""
             }
            },
            "marker": {
             "colorbar": {
              "outlinewidth": 0,
              "ticks": ""
             }
            },
            "type": "scatter3d"
           }
          ],
          "scattercarpet": [
           {
            "marker": {
             "colorbar": {
              "outlinewidth": 0,
              "ticks": ""
             }
            },
            "type": "scattercarpet"
           }
          ],
          "scattergeo": [
           {
            "marker": {
             "colorbar": {
              "outlinewidth": 0,
              "ticks": ""
             }
            },
            "type": "scattergeo"
           }
          ],
          "scattergl": [
           {
            "marker": {
             "colorbar": {
              "outlinewidth": 0,
              "ticks": ""
             }
            },
            "type": "scattergl"
           }
          ],
          "scattermapbox": [
           {
            "marker": {
             "colorbar": {
              "outlinewidth": 0,
              "ticks": ""
             }
            },
            "type": "scattermapbox"
           }
          ],
          "scatterpolar": [
           {
            "marker": {
             "colorbar": {
              "outlinewidth": 0,
              "ticks": ""
             }
            },
            "type": "scatterpolar"
           }
          ],
          "scatterpolargl": [
           {
            "marker": {
             "colorbar": {
              "outlinewidth": 0,
              "ticks": ""
             }
            },
            "type": "scatterpolargl"
           }
          ],
          "scatterternary": [
           {
            "marker": {
             "colorbar": {
              "outlinewidth": 0,
              "ticks": ""
             }
            },
            "type": "scatterternary"
           }
          ],
          "surface": [
           {
            "colorbar": {
             "outlinewidth": 0,
             "ticks": ""
            },
            "colorscale": [
             [
              0,
              "#0d0887"
             ],
             [
              0.1111111111111111,
              "#46039f"
             ],
             [
              0.2222222222222222,
              "#7201a8"
             ],
             [
              0.3333333333333333,
              "#9c179e"
             ],
             [
              0.4444444444444444,
              "#bd3786"
             ],
             [
              0.5555555555555556,
              "#d8576b"
             ],
             [
              0.6666666666666666,
              "#ed7953"
             ],
             [
              0.7777777777777778,
              "#fb9f3a"
             ],
             [
              0.8888888888888888,
              "#fdca26"
             ],
             [
              1,
              "#f0f921"
             ]
            ],
            "type": "surface"
           }
          ],
          "table": [
           {
            "cells": {
             "fill": {
              "color": "#EBF0F8"
             },
             "line": {
              "color": "white"
             }
            },
            "header": {
             "fill": {
              "color": "#C8D4E3"
             },
             "line": {
              "color": "white"
             }
            },
            "type": "table"
           }
          ]
         },
         "layout": {
          "annotationdefaults": {
           "arrowcolor": "#2a3f5f",
           "arrowhead": 0,
           "arrowwidth": 1
          },
          "autotypenumbers": "strict",
          "coloraxis": {
           "colorbar": {
            "outlinewidth": 0,
            "ticks": ""
           }
          },
          "colorscale": {
           "diverging": [
            [
             0,
             "#8e0152"
            ],
            [
             0.1,
             "#c51b7d"
            ],
            [
             0.2,
             "#de77ae"
            ],
            [
             0.3,
             "#f1b6da"
            ],
            [
             0.4,
             "#fde0ef"
            ],
            [
             0.5,
             "#f7f7f7"
            ],
            [
             0.6,
             "#e6f5d0"
            ],
            [
             0.7,
             "#b8e186"
            ],
            [
             0.8,
             "#7fbc41"
            ],
            [
             0.9,
             "#4d9221"
            ],
            [
             1,
             "#276419"
            ]
           ],
           "sequential": [
            [
             0,
             "#0d0887"
            ],
            [
             0.1111111111111111,
             "#46039f"
            ],
            [
             0.2222222222222222,
             "#7201a8"
            ],
            [
             0.3333333333333333,
             "#9c179e"
            ],
            [
             0.4444444444444444,
             "#bd3786"
            ],
            [
             0.5555555555555556,
             "#d8576b"
            ],
            [
             0.6666666666666666,
             "#ed7953"
            ],
            [
             0.7777777777777778,
             "#fb9f3a"
            ],
            [
             0.8888888888888888,
             "#fdca26"
            ],
            [
             1,
             "#f0f921"
            ]
           ],
           "sequentialminus": [
            [
             0,
             "#0d0887"
            ],
            [
             0.1111111111111111,
             "#46039f"
            ],
            [
             0.2222222222222222,
             "#7201a8"
            ],
            [
             0.3333333333333333,
             "#9c179e"
            ],
            [
             0.4444444444444444,
             "#bd3786"
            ],
            [
             0.5555555555555556,
             "#d8576b"
            ],
            [
             0.6666666666666666,
             "#ed7953"
            ],
            [
             0.7777777777777778,
             "#fb9f3a"
            ],
            [
             0.8888888888888888,
             "#fdca26"
            ],
            [
             1,
             "#f0f921"
            ]
           ]
          },
          "colorway": [
           "#636efa",
           "#EF553B",
           "#00cc96",
           "#ab63fa",
           "#FFA15A",
           "#19d3f3",
           "#FF6692",
           "#B6E880",
           "#FF97FF",
           "#FECB52"
          ],
          "font": {
           "color": "#2a3f5f"
          },
          "geo": {
           "bgcolor": "white",
           "lakecolor": "white",
           "landcolor": "#E5ECF6",
           "showlakes": true,
           "showland": true,
           "subunitcolor": "white"
          },
          "hoverlabel": {
           "align": "left"
          },
          "hovermode": "closest",
          "mapbox": {
           "style": "light"
          },
          "paper_bgcolor": "white",
          "plot_bgcolor": "#E5ECF6",
          "polar": {
           "angularaxis": {
            "gridcolor": "white",
            "linecolor": "white",
            "ticks": ""
           },
           "bgcolor": "#E5ECF6",
           "radialaxis": {
            "gridcolor": "white",
            "linecolor": "white",
            "ticks": ""
           }
          },
          "scene": {
           "xaxis": {
            "backgroundcolor": "#E5ECF6",
            "gridcolor": "white",
            "gridwidth": 2,
            "linecolor": "white",
            "showbackground": true,
            "ticks": "",
            "zerolinecolor": "white"
           },
           "yaxis": {
            "backgroundcolor": "#E5ECF6",
            "gridcolor": "white",
            "gridwidth": 2,
            "linecolor": "white",
            "showbackground": true,
            "ticks": "",
            "zerolinecolor": "white"
           },
           "zaxis": {
            "backgroundcolor": "#E5ECF6",
            "gridcolor": "white",
            "gridwidth": 2,
            "linecolor": "white",
            "showbackground": true,
            "ticks": "",
            "zerolinecolor": "white"
           }
          },
          "shapedefaults": {
           "line": {
            "color": "#2a3f5f"
           }
          },
          "ternary": {
           "aaxis": {
            "gridcolor": "white",
            "linecolor": "white",
            "ticks": ""
           },
           "baxis": {
            "gridcolor": "white",
            "linecolor": "white",
            "ticks": ""
           },
           "bgcolor": "#E5ECF6",
           "caxis": {
            "gridcolor": "white",
            "linecolor": "white",
            "ticks": ""
           }
          },
          "title": {
           "x": 0.05
          },
          "xaxis": {
           "automargin": true,
           "gridcolor": "white",
           "linecolor": "white",
           "ticks": "",
           "title": {
            "standoff": 15
           },
           "zerolinecolor": "white",
           "zerolinewidth": 2
          },
          "yaxis": {
           "automargin": true,
           "gridcolor": "white",
           "linecolor": "white",
           "ticks": "",
           "title": {
            "standoff": 15
           },
           "zerolinecolor": "white",
           "zerolinewidth": 2
          }
         }
        },
        "title": {
         "text": "DEFAULT TITLE"
        },
        "width": 800,
        "xaxis": {
         "fixedrange": true,
         "nticks": 10
        },
        "yaxis": {
         "fixedrange": true,
         "nticks": 10
        }
       }
      }
     },
     "metadata": {},
     "output_type": "display_data"
    }
   ],
   "source": [
    "def heatmap(\n",
    "    matrix: np.ndarray | None = None,\n",
    "    labels: list | None = None,\n",
    "    title: str = \"DEFAULT TITLE\",\n",
    "    show_values: bool = True,\n",
    "    value_format: Literal[\".2f\", \".2e\"] = \".2f\",\n",
    "    width: int = 800,\n",
    "    height: int = 600,\n",
    "    xaxis_title: str | None = None,\n",
    "    yaxis_title: str | None = None,\n",
    "    log: bool = False,\n",
    "    nan_diagnal: bool = False,\n",
    "):\n",
    "    if matrix is None:\n",
    "        faker = Faker()\n",
    "        shape = (10, 10)\n",
    "        matrix = rng.random(shape)\n",
    "        # logger.info(matrix)\n",
    "    else:\n",
    "        shape = matrix.shape\n",
    "\n",
    "    if labels is None:\n",
    "        labels = [faker.name() for _ in range(shape[0])]\n",
    "        # logger.info(\"Using example labels and matrix\")\n",
    "        logger.info(labels)\n",
    "    col_labels = labels\n",
    "    row_labels = labels\n",
    "    logger.info(\"Creating heatmap visualization...\")\n",
    "\n",
    "    # Convert input to numpy array and handle None values\n",
    "    matrix = np.array(matrix, dtype=object)\n",
    "    none_mask = matrix is None\n",
    "    matrix = matrix.astype(float)\n",
    "    if log:\n",
    "        matrix = np.log10(matrix)\n",
    "    matrix[none_mask] = np.nan\n",
    "    if nan_diagnal:\n",
    "        matrix[np.identity(matrix.shape[0], dtype=bool)] = np.nan\n",
    "\n",
    "    # Format cell values if needed\n",
    "    text_vals = None\n",
    "    if show_values:\n",
    "        text_vals = np.vectorize(lambda x: \"N/A\" if np.isnan(x) else f\"{x:{value_format}}\")(matrix)\n",
    "\n",
    "    fig = go.Figure(\n",
    "        data=[\n",
    "            go.Heatmap(\n",
    "                z=matrix,\n",
    "                x=col_labels,\n",
    "                y=row_labels,\n",
    "                colorscale=\"Viridis\",\n",
    "                text=text_vals,\n",
    "                texttemplate=\"%{text}\" if show_values else None,\n",
    "                textfont={\"color\": \"black\"},\n",
    "                reversescale=False,\n",
    "                showscale=True,\n",
    "            )\n",
    "        ],\n",
    "        layout={\n",
    "            \"title\": title,\n",
    "            \"width\": width,\n",
    "            \"height\": height,\n",
    "            \"xaxis\": {\n",
    "                \"title\": xaxis_title,\n",
    "                \"nticks\": len(col_labels) if col_labels else None,\n",
    "                \"fixedrange\": True,  # Disable zoom/pan\n",
    "            },\n",
    "            \"yaxis\": {\n",
    "                \"title\": yaxis_title,\n",
    "                \"nticks\": len(row_labels) if row_labels else None,\n",
    "                \"fixedrange\": True,  # Disable zoom/pan\n",
    "            },\n",
    "            \"dragmode\": False,  # Disable dragging/panning\n",
    "            \"modebar\": {\n",
    "                \"remove\": [\n",
    "                    \"zoomIn2d\",\n",
    "                    \"zoomOut2d\",\n",
    "                    \"autoScale2d\",\n",
    "                    \"resetScale2d\",\n",
    "                    \"hoverClosestCartesian\",\n",
    "                    \"hoverCompareCartesian\",\n",
    "                    \"toggleSpikelines\",\n",
    "                ]\n",
    "            },\n",
    "        },\n",
    "    )\n",
    "    return fig\n",
    "\n",
    "\n",
    "heatmap()"
   ]
  },
  {
   "cell_type": "code",
   "execution_count": 112,
   "metadata": {},
   "outputs": [
    {
     "data": {
      "application/vnd.plotly.v1+json": {
       "config": {
        "plotlyServerURL": "https://plot.ly"
       },
       "data": [
        {
         "colorscale": [
          [
           0,
           "#440154"
          ],
          [
           0.1111111111111111,
           "#482878"
          ],
          [
           0.2222222222222222,
           "#3e4989"
          ],
          [
           0.3333333333333333,
           "#31688e"
          ],
          [
           0.4444444444444444,
           "#26828e"
          ],
          [
           0.5555555555555556,
           "#1f9e89"
          ],
          [
           0.6666666666666666,
           "#35b779"
          ],
          [
           0.7777777777777778,
           "#6ece58"
          ],
          [
           0.8888888888888888,
           "#b5de2b"
          ],
          [
           1,
           "#fde725"
          ]
         ],
         "reversescale": false,
         "showscale": true,
         "text": [
          [
           "0.11",
           "0.57",
           "0.10",
           "0.14",
           "0.80",
           "0.24",
           "0.06",
           "0.60",
           "0.15",
           "0.05"
          ],
          [
           "0.83",
           "0.40",
           "0.87",
           "0.74",
           "0.20",
           "0.08",
           "0.17",
           "0.49",
           "0.36",
           "0.83"
          ],
          [
           "0.47",
           "0.55",
           "0.39",
           "0.75",
           "0.69",
           "0.69",
           "0.77",
           "0.40",
           "0.12",
           "0.82"
          ],
          [
           "0.35",
           "0.69",
           "0.99",
           "0.70",
           "0.91",
           "0.01",
           "0.60",
           "0.10",
           "0.87",
           "0.96"
          ],
          [
           "0.03",
           "0.13",
           "0.83",
           "0.69",
           "0.98",
           "0.76",
           "0.59",
           "0.54",
           "0.01",
           "0.78"
          ],
          [
           "0.38",
           "0.11",
           "0.55",
           "0.37",
           "0.61",
           "0.02",
           "0.16",
           "0.54",
           "0.61",
           "0.08"
          ],
          [
           "0.64",
           "0.84",
           "0.29",
           "0.52",
           "0.91",
           "0.70",
           "0.21",
           "0.97",
           "0.34",
           "0.82"
          ],
          [
           "0.45",
           "0.79",
           "0.92",
           "0.90",
           "0.80",
           "0.32",
           "0.91",
           "0.15",
           "0.26",
           "0.65"
          ],
          [
           "0.75",
           "0.05",
           "0.27",
           "0.37",
           "0.85",
           "0.00",
           "0.89",
           "0.33",
           "0.62",
           "0.94"
          ],
          [
           "0.06",
           "0.55",
           "0.22",
           "0.70",
           "0.82",
           "0.25",
           "0.86",
           "0.18",
           "0.48",
           "0.13"
          ]
         ],
         "textfont": {
          "color": "black"
         },
         "texttemplate": "%{text}",
         "type": "heatmap",
         "x": [
          "Deborah Rivera",
          "Martin Ryan",
          "Ashley Hall",
          "Joseph Ayers",
          "Chelsea Yates DVM",
          "Steven Fleming",
          "Brian Morales",
          "Erica Simpson",
          "Elizabeth Higgins",
          "Monica Flynn"
         ],
         "y": [
          "Deborah Rivera",
          "Martin Ryan",
          "Ashley Hall",
          "Joseph Ayers",
          "Chelsea Yates DVM",
          "Steven Fleming",
          "Brian Morales",
          "Erica Simpson",
          "Elizabeth Higgins",
          "Monica Flynn"
         ],
         "z": [
          [
           0.10704452004473874,
           0.5666782860196686,
           0.09599453394338342,
           0.14160233782312348,
           0.8009723951910761,
           0.24391028624261135,
           0.06125371109147981,
           0.6018248802352767,
           0.1465001560206799,
           0.05281672374379953
          ],
          [
           0.8305523165288154,
           0.39718282095416035,
           0.8654750760717376,
           0.7440314680528893,
           0.2009640299899489,
           0.0848112958859929,
           0.17135725240697341,
           0.49458016446717656,
           0.35774813957259866,
           0.8319820431690634
          ],
          [
           0.46924084305357583,
           0.5547497004438227,
           0.3874522444574018,
           0.7549003383649948,
           0.688939791286174,
           0.6857723340752234,
           0.7715943884023879,
           0.39860612871710566,
           0.11908584123976218,
           0.8179334441482549
          ],
          [
           0.34552248556107346,
           0.691762616056458,
           0.9884659093745672,
           0.701761735444785,
           0.9066857311312557,
           0.01335494863448805,
           0.6037174698534201,
           0.09732269218818412,
           0.8725046308244404,
           0.9602477530312853
          ],
          [
           0.03415357753568293,
           0.13326135036890807,
           0.8327610351493956,
           0.6868864269896168,
           0.9816577765860093,
           0.7565091948524348,
           0.5941900745245673,
           0.5392432537065587,
           0.00986735970751551,
           0.7838147042162945
          ],
          [
           0.38400178640768756,
           0.10665319951510266,
           0.5468347971127406,
           0.3699627401117499,
           0.6058579549524877,
           0.016672126722240388,
           0.16497611157512027,
           0.5398309298185687,
           0.6099074162239753,
           0.08221415927282527
          ],
          [
           0.6363778754449417,
           0.8412211483671104,
           0.2867836259119313,
           0.5213307786402108,
           0.9061192749231478,
           0.7029596852457668,
           0.2067223279584668,
           0.9664926749985038,
           0.3420750439623803,
           0.8242024408289295
          ],
          [
           0.4525174757234932,
           0.7897675622034946,
           0.920922674130749,
           0.9027233339116116,
           0.8046024606542672,
           0.3229723309001037,
           0.9126296644637996,
           0.15333977409208044,
           0.26019497662267865,
           0.6463532240715741
          ],
          [
           0.7481811202419492,
           0.05033628319554151,
           0.26886417202219004,
           0.3690332136597736,
           0.8472465243609197,
           0.0019173575277701138,
           0.889995580142049,
           0.33473055846829436,
           0.6165735537428427,
           0.9357607872283482
          ],
          [
           0.061598544897392804,
           0.5452534544692407,
           0.22221749204972863,
           0.7022474860130695,
           0.8178183296912478,
           0.2462494439205265,
           0.8598945712694445,
           0.1774134705314514,
           0.48007226916250967,
           0.13128261119878604
          ]
         ]
        }
       ],
       "frames": [
        {
         "data": [
          {
           "colorscale": [
            [
             0,
             "#440154"
            ],
            [
             0.1111111111111111,
             "#482878"
            ],
            [
             0.2222222222222222,
             "#3e4989"
            ],
            [
             0.3333333333333333,
             "#31688e"
            ],
            [
             0.4444444444444444,
             "#26828e"
            ],
            [
             0.5555555555555556,
             "#1f9e89"
            ],
            [
             0.6666666666666666,
             "#35b779"
            ],
            [
             0.7777777777777778,
             "#6ece58"
            ],
            [
             0.8888888888888888,
             "#b5de2b"
            ],
            [
             1,
             "#fde725"
            ]
           ],
           "reversescale": false,
           "showscale": true,
           "text": [
            [
             "0.11",
             "0.57",
             "0.10",
             "0.14",
             "0.80",
             "0.24",
             "0.06",
             "0.60",
             "0.15",
             "0.05"
            ],
            [
             "0.83",
             "0.40",
             "0.87",
             "0.74",
             "0.20",
             "0.08",
             "0.17",
             "0.49",
             "0.36",
             "0.83"
            ],
            [
             "0.47",
             "0.55",
             "0.39",
             "0.75",
             "0.69",
             "0.69",
             "0.77",
             "0.40",
             "0.12",
             "0.82"
            ],
            [
             "0.35",
             "0.69",
             "0.99",
             "0.70",
             "0.91",
             "0.01",
             "0.60",
             "0.10",
             "0.87",
             "0.96"
            ],
            [
             "0.03",
             "0.13",
             "0.83",
             "0.69",
             "0.98",
             "0.76",
             "0.59",
             "0.54",
             "0.01",
             "0.78"
            ],
            [
             "0.38",
             "0.11",
             "0.55",
             "0.37",
             "0.61",
             "0.02",
             "0.16",
             "0.54",
             "0.61",
             "0.08"
            ],
            [
             "0.64",
             "0.84",
             "0.29",
             "0.52",
             "0.91",
             "0.70",
             "0.21",
             "0.97",
             "0.34",
             "0.82"
            ],
            [
             "0.45",
             "0.79",
             "0.92",
             "0.90",
             "0.80",
             "0.32",
             "0.91",
             "0.15",
             "0.26",
             "0.65"
            ],
            [
             "0.75",
             "0.05",
             "0.27",
             "0.37",
             "0.85",
             "0.00",
             "0.89",
             "0.33",
             "0.62",
             "0.94"
            ],
            [
             "0.06",
             "0.55",
             "0.22",
             "0.70",
             "0.82",
             "0.25",
             "0.86",
             "0.18",
             "0.48",
             "0.13"
            ]
           ],
           "textfont": {
            "color": "black"
           },
           "texttemplate": "%{text}",
           "type": "heatmap",
           "x": [
            "Deborah Rivera",
            "Martin Ryan",
            "Ashley Hall",
            "Joseph Ayers",
            "Chelsea Yates DVM",
            "Steven Fleming",
            "Brian Morales",
            "Erica Simpson",
            "Elizabeth Higgins",
            "Monica Flynn"
           ],
           "y": [
            "Deborah Rivera",
            "Martin Ryan",
            "Ashley Hall",
            "Joseph Ayers",
            "Chelsea Yates DVM",
            "Steven Fleming",
            "Brian Morales",
            "Erica Simpson",
            "Elizabeth Higgins",
            "Monica Flynn"
           ],
           "z": [
            [
             0.10704452004473874,
             0.5666782860196686,
             0.09599453394338342,
             0.14160233782312348,
             0.8009723951910761,
             0.24391028624261135,
             0.06125371109147981,
             0.6018248802352767,
             0.1465001560206799,
             0.05281672374379953
            ],
            [
             0.8305523165288154,
             0.39718282095416035,
             0.8654750760717376,
             0.7440314680528893,
             0.2009640299899489,
             0.0848112958859929,
             0.17135725240697341,
             0.49458016446717656,
             0.35774813957259866,
             0.8319820431690634
            ],
            [
             0.46924084305357583,
             0.5547497004438227,
             0.3874522444574018,
             0.7549003383649948,
             0.688939791286174,
             0.6857723340752234,
             0.7715943884023879,
             0.39860612871710566,
             0.11908584123976218,
             0.8179334441482549
            ],
            [
             0.34552248556107346,
             0.691762616056458,
             0.9884659093745672,
             0.701761735444785,
             0.9066857311312557,
             0.01335494863448805,
             0.6037174698534201,
             0.09732269218818412,
             0.8725046308244404,
             0.9602477530312853
            ],
            [
             0.03415357753568293,
             0.13326135036890807,
             0.8327610351493956,
             0.6868864269896168,
             0.9816577765860093,
             0.7565091948524348,
             0.5941900745245673,
             0.5392432537065587,
             0.00986735970751551,
             0.7838147042162945
            ],
            [
             0.38400178640768756,
             0.10665319951510266,
             0.5468347971127406,
             0.3699627401117499,
             0.6058579549524877,
             0.016672126722240388,
             0.16497611157512027,
             0.5398309298185687,
             0.6099074162239753,
             0.08221415927282527
            ],
            [
             0.6363778754449417,
             0.8412211483671104,
             0.2867836259119313,
             0.5213307786402108,
             0.9061192749231478,
             0.7029596852457668,
             0.2067223279584668,
             0.9664926749985038,
             0.3420750439623803,
             0.8242024408289295
            ],
            [
             0.4525174757234932,
             0.7897675622034946,
             0.920922674130749,
             0.9027233339116116,
             0.8046024606542672,
             0.3229723309001037,
             0.9126296644637996,
             0.15333977409208044,
             0.26019497662267865,
             0.6463532240715741
            ],
            [
             0.7481811202419492,
             0.05033628319554151,
             0.26886417202219004,
             0.3690332136597736,
             0.8472465243609197,
             0.0019173575277701138,
             0.889995580142049,
             0.33473055846829436,
             0.6165735537428427,
             0.9357607872283482
            ],
            [
             0.061598544897392804,
             0.5452534544692407,
             0.22221749204972863,
             0.7022474860130695,
             0.8178183296912478,
             0.2462494439205265,
             0.8598945712694445,
             0.1774134705314514,
             0.48007226916250967,
             0.13128261119878604
            ]
           ]
          }
         ],
         "name": "frame_0"
        },
        {
         "data": [
          {
           "colorscale": [
            [
             0,
             "#440154"
            ],
            [
             0.1111111111111111,
             "#482878"
            ],
            [
             0.2222222222222222,
             "#3e4989"
            ],
            [
             0.3333333333333333,
             "#31688e"
            ],
            [
             0.4444444444444444,
             "#26828e"
            ],
            [
             0.5555555555555556,
             "#1f9e89"
            ],
            [
             0.6666666666666666,
             "#35b779"
            ],
            [
             0.7777777777777778,
             "#6ece58"
            ],
            [
             0.8888888888888888,
             "#b5de2b"
            ],
            [
             1,
             "#fde725"
            ]
           ],
           "reversescale": false,
           "showscale": true,
           "text": [
            [
             "0.31",
             "0.37",
             "0.70",
             "0.32",
             "0.53",
             "0.65",
             "0.79",
             "0.29",
             "0.06",
             "0.24"
            ],
            [
             "0.55",
             "0.88",
             "0.66",
             "0.61",
             "0.03",
             "0.50",
             "0.33",
             "0.35",
             "0.96",
             "0.16"
            ],
            [
             "0.09",
             "0.31",
             "0.64",
             "0.27",
             "0.71",
             "0.70",
             "0.44",
             "0.83",
             "0.32",
             "0.62"
            ],
            [
             "0.54",
             "0.07",
             "0.35",
             "0.56",
             "0.98",
             "0.78",
             "0.48",
             "0.20",
             "0.27",
             "0.04"
            ],
            [
             "0.58",
             "0.42",
             "0.66",
             "0.53",
             "0.42",
             "0.35",
             "0.04",
             "0.98",
             "0.08",
             "0.03"
            ],
            [
             "0.22",
             "0.14",
             "0.79",
             "0.15",
             "0.34",
             "0.01",
             "0.93",
             "0.32",
             "0.84",
             "0.96"
            ],
            [
             "0.73",
             "0.26",
             "0.49",
             "0.78",
             "0.70",
             "0.83",
             "0.54",
             "0.66",
             "0.36",
             "0.19"
            ],
            [
             "0.70",
             "0.00",
             "0.78",
             "0.01",
             "0.62",
             "0.59",
             "0.11",
             "0.59",
             "0.76",
             "0.54"
            ],
            [
             "0.67",
             "0.71",
             "0.21",
             "0.93",
             "0.33",
             "0.58",
             "0.10",
             "1.00",
             "0.65",
             "0.46"
            ],
            [
             "0.57",
             "0.03",
             "0.24",
             "0.97",
             "0.08",
             "0.14",
             "0.57",
             "0.77",
             "0.85",
             "0.86"
            ]
           ],
           "textfont": {
            "color": "black"
           },
           "texttemplate": "%{text}",
           "type": "heatmap",
           "x": [
            "Deborah Rivera",
            "Martin Ryan",
            "Ashley Hall",
            "Joseph Ayers",
            "Chelsea Yates DVM",
            "Steven Fleming",
            "Brian Morales",
            "Erica Simpson",
            "Elizabeth Higgins",
            "Monica Flynn"
           ],
           "y": [
            "Deborah Rivera",
            "Martin Ryan",
            "Ashley Hall",
            "Joseph Ayers",
            "Chelsea Yates DVM",
            "Steven Fleming",
            "Brian Morales",
            "Erica Simpson",
            "Elizabeth Higgins",
            "Monica Flynn"
           ],
           "z": [
            [
             0.30751670721706326,
             0.3741268879378249,
             0.6952669150405878,
             0.3168501192011717,
             0.5296553251483823,
             0.6513202131274192,
             0.7857353223182313,
             0.29353842921599294,
             0.056349439060443984,
             0.23705207687420748
            ],
            [
             0.5459469771383435,
             0.8776772577642765,
             0.6575448689174724,
             0.607278810468621,
             0.03177242506839173,
             0.49803681919601495,
             0.33090179806351594,
             0.34741642664974226,
             0.9593880455018128,
             0.16346740496988044
            ],
            [
             0.0883677177585066,
             0.3050891606763261,
             0.6426983422873438,
             0.2696085847831856,
             0.7058208604199626,
             0.6950918695550626,
             0.43819407606230476,
             0.8346992928069484,
             0.32378354211943594,
             0.6231937935705739
            ],
            [
             0.540022972411323,
             0.07169412267120479,
             0.34722576907158753,
             0.5631385524840993,
             0.9760574447376523,
             0.7836516468724274,
             0.4809069961107222,
             0.19647047256994332,
             0.2699624701089316,
             0.042424021918729404
            ],
            [
             0.5815808121114838,
             0.42423022686762035,
             0.65854274728412,
             0.5314625331171092,
             0.4167841381885743,
             0.3520259749571497,
             0.04062224652090485,
             0.9829670705788488,
             0.0751972884863652,
             0.025466089827207772
            ],
            [
             0.21530291800605605,
             0.1361862466674435,
             0.7944328371222266,
             0.1516296644606545,
             0.3399500669714246,
             0.013248380983513885,
             0.9315690877063811,
             0.3210403945645063,
             0.8428784127039487,
             0.9619348413460918
            ],
            [
             0.7274520208179809,
             0.2607418542537089,
             0.49214547473655834,
             0.7826519390154763,
             0.6986461570509097,
             0.8275716982308023,
             0.5445742427218005,
             0.6575026051497537,
             0.36319622405254226,
             0.19140628724709818
            ],
            [
             0.6972402657739201,
             0.002882341053802362,
             0.783880941299395,
             0.0072332203980695065,
             0.616800920631613,
             0.5946138506606733,
             0.10551242079876066,
             0.5922022917999895,
             0.7578470632733478,
             0.5359919582166901
            ],
            [
             0.6727605506157384,
             0.7086717127055003,
             0.20590988238547225,
             0.9266165064133105,
             0.3275414490412224,
             0.5837019560930296,
             0.10318288831478728,
             0.9964050170391298,
             0.6541411085423814,
             0.46178563346818413
            ],
            [
             0.5661197462911464,
             0.027188322292675537,
             0.24007964606358656,
             0.9746890565837918,
             0.08103152002912051,
             0.14170089404569386,
             0.57307726116772,
             0.7739721253411203,
             0.8528731602842214,
             0.8612282828422183
            ]
           ]
          }
         ],
         "name": "frame_1"
        },
        {
         "data": [
          {
           "colorscale": [
            [
             0,
             "#440154"
            ],
            [
             0.1111111111111111,
             "#482878"
            ],
            [
             0.2222222222222222,
             "#3e4989"
            ],
            [
             0.3333333333333333,
             "#31688e"
            ],
            [
             0.4444444444444444,
             "#26828e"
            ],
            [
             0.5555555555555556,
             "#1f9e89"
            ],
            [
             0.6666666666666666,
             "#35b779"
            ],
            [
             0.7777777777777778,
             "#6ece58"
            ],
            [
             0.8888888888888888,
             "#b5de2b"
            ],
            [
             1,
             "#fde725"
            ]
           ],
           "reversescale": false,
           "showscale": true,
           "text": [
            [
             "0.76",
             "0.35",
             "0.58",
             "0.81",
             "0.14",
             "0.08",
             "0.46",
             "0.31",
             "0.00",
             "0.52"
            ],
            [
             "0.37",
             "0.88",
             "0.33",
             "0.66",
             "0.57",
             "0.30",
             "0.47",
             "0.37",
             "0.24",
             "0.09"
            ],
            [
             "0.05",
             "0.22",
             "0.08",
             "0.15",
             "0.12",
             "0.37",
             "0.24",
             "0.00",
             "0.03",
             "0.99"
            ],
            [
             "0.25",
             "0.04",
             "0.63",
             "0.55",
             "0.39",
             "0.73",
             "0.94",
             "0.40",
             "0.38",
             "0.51"
            ],
            [
             "0.23",
             "0.17",
             "0.39",
             "0.68",
             "0.01",
             "0.14",
             "0.81",
             "0.33",
             "0.56",
             "0.06"
            ],
            [
             "0.55",
             "0.03",
             "0.21",
             "0.45",
             "0.52",
             "0.13",
             "0.46",
             "0.78",
             "0.71",
             "0.37"
            ],
            [
             "0.50",
             "0.80",
             "0.26",
             "0.14",
             "0.97",
             "0.87",
             "0.87",
             "0.48",
             "0.04",
             "0.74"
            ],
            [
             "0.79",
             "0.97",
             "0.04",
             "0.81",
             "0.34",
             "0.67",
             "0.90",
             "0.25",
             "0.99",
             "0.04"
            ],
            [
             "0.11",
             "0.48",
             "0.72",
             "0.93",
             "0.85",
             "0.97",
             "0.44",
             "0.41",
             "0.59",
             "0.69"
            ],
            [
             "0.90",
             "0.59",
             "0.91",
             "0.42",
             "0.77",
             "1.00",
             "0.08",
             "0.71",
             "0.90",
             "0.89"
            ]
           ],
           "textfont": {
            "color": "black"
           },
           "texttemplate": "%{text}",
           "type": "heatmap",
           "x": [
            "Deborah Rivera",
            "Martin Ryan",
            "Ashley Hall",
            "Joseph Ayers",
            "Chelsea Yates DVM",
            "Steven Fleming",
            "Brian Morales",
            "Erica Simpson",
            "Elizabeth Higgins",
            "Monica Flynn"
           ],
           "y": [
            "Deborah Rivera",
            "Martin Ryan",
            "Ashley Hall",
            "Joseph Ayers",
            "Chelsea Yates DVM",
            "Steven Fleming",
            "Brian Morales",
            "Erica Simpson",
            "Elizabeth Higgins",
            "Monica Flynn"
           ],
           "z": [
            [
             0.7602221564048733,
             0.3476577357467211,
             0.581581153904974,
             0.8131231184406524,
             0.13884584151447088,
             0.08142057315466611,
             0.4585851958450149,
             0.3103403364285561,
             0.003734730026382249,
             0.516863517689244
            ],
            [
             0.3729777764220863,
             0.8831345443419867,
             0.3341760256989055,
             0.6626710635814592,
             0.5680783804283241,
             0.29966661013815954,
             0.4676120564259997,
             0.36765996078549423,
             0.23758604997457922,
             0.08812253790930158
            ],
            [
             0.05212132581284923,
             0.22270312231213518,
             0.08331928511482978,
             0.1506312452155365,
             0.12491988549150479,
             0.37329888023476876,
             0.23817385100892718,
             0.0044088663224430835,
             0.03291211771933644,
             0.9900536153551075
            ],
            [
             0.24514448354512286,
             0.04082760139286301,
             0.6260097898081132,
             0.5516410473905112,
             0.38885151921681604,
             0.733331833675533,
             0.9369829015551946,
             0.39635525239483294,
             0.37532582691540106,
             0.5141833478905778
            ],
            [
             0.23447609972464034,
             0.17397391084045366,
             0.38868101611537376,
             0.6770190274219668,
             0.01477000491945013,
             0.1383952476761443,
             0.8081081213705834,
             0.332145291639766,
             0.5591559142258661,
             0.05549368547185474
            ],
            [
             0.5507735100335186,
             0.027738093358870453,
             0.20725843621143214,
             0.44789679853894804,
             0.523812301502496,
             0.12530838949638745,
             0.45903669789284485,
             0.7804835015321541,
             0.705787415532297,
             0.369079644193114
            ],
            [
             0.4961446812931869,
             0.7990027925904307,
             0.2631760625764509,
             0.14022047838405616,
             0.9690072223509325,
             0.873007348410714,
             0.8741878474623905,
             0.4771722614914966,
             0.035352088188460584,
             0.7429635082731386
            ],
            [
             0.790157858482888,
             0.9651307886119497,
             0.03578055936215785,
             0.8128116582970133,
             0.33679812170584567,
             0.6665897137616186,
             0.90056029605617,
             0.25161810467999846,
             0.9934282195815692,
             0.037848691412873614
            ],
            [
             0.11471558572938301,
             0.48067774111907613,
             0.7189508165431672,
             0.9264939323012852,
             0.8472714475500778,
             0.9705133415909647,
             0.4413586394246871,
             0.406315392012355,
             0.5894500922944562,
             0.6919489770114057
            ],
            [
             0.902881155174481,
             0.5920234257685243,
             0.9059679495820856,
             0.41567836584721196,
             0.7713584350478655,
             0.9980674567330113,
             0.07876970472818312,
             0.7072440369438052,
             0.9031598588825651,
             0.8944909043468074
            ]
           ]
          }
         ],
         "name": "frame_2"
        },
        {
         "data": [
          {
           "colorscale": [
            [
             0,
             "#440154"
            ],
            [
             0.1111111111111111,
             "#482878"
            ],
            [
             0.2222222222222222,
             "#3e4989"
            ],
            [
             0.3333333333333333,
             "#31688e"
            ],
            [
             0.4444444444444444,
             "#26828e"
            ],
            [
             0.5555555555555556,
             "#1f9e89"
            ],
            [
             0.6666666666666666,
             "#35b779"
            ],
            [
             0.7777777777777778,
             "#6ece58"
            ],
            [
             0.8888888888888888,
             "#b5de2b"
            ],
            [
             1,
             "#fde725"
            ]
           ],
           "reversescale": false,
           "showscale": true,
           "text": [
            [
             "0.87",
             "0.28",
             "0.41",
             "0.51",
             "0.97",
             "0.27",
             "0.66",
             "0.76",
             "0.15",
             "0.87"
            ],
            [
             "0.51",
             "0.96",
             "0.89",
             "0.95",
             "0.18",
             "0.83",
             "0.86",
             "0.95",
             "0.65",
             "0.37"
            ],
            [
             "0.59",
             "0.16",
             "1.00",
             "0.72",
             "0.34",
             "0.92",
             "0.71",
             "0.33",
             "0.93",
             "0.32"
            ],
            [
             "0.32",
             "0.03",
             "0.70",
             "0.11",
             "0.05",
             "0.66",
             "0.97",
             "0.06",
             "0.76",
             "0.23"
            ],
            [
             "0.86",
             "0.01",
             "0.19",
             "0.98",
             "0.58",
             "0.13",
             "0.00",
             "0.41",
             "0.43",
             "0.53"
            ],
            [
             "0.68",
             "0.15",
             "0.32",
             "0.05",
             "1.00",
             "0.42",
             "0.68",
             "0.29",
             "0.14",
             "0.19"
            ],
            [
             "0.02",
             "0.69",
             "0.99",
             "0.09",
             "0.17",
             "0.80",
             "0.64",
             "0.95",
             "0.36",
             "0.43"
            ],
            [
             "0.29",
             "0.80",
             "0.19",
             "0.38",
             "0.66",
             "0.91",
             "0.81",
             "0.08",
             "0.86",
             "0.79"
            ],
            [
             "0.47",
             "0.55",
             "0.44",
             "0.06",
             "0.32",
             "0.91",
             "0.60",
             "0.10",
             "0.55",
             "0.62"
            ],
            [
             "0.81",
             "0.58",
             "0.20",
             "0.97",
             "0.30",
             "0.73",
             "0.69",
             "0.92",
             "0.77",
             "0.39"
            ]
           ],
           "textfont": {
            "color": "black"
           },
           "texttemplate": "%{text}",
           "type": "heatmap",
           "x": [
            "Deborah Rivera",
            "Martin Ryan",
            "Ashley Hall",
            "Joseph Ayers",
            "Chelsea Yates DVM",
            "Steven Fleming",
            "Brian Morales",
            "Erica Simpson",
            "Elizabeth Higgins",
            "Monica Flynn"
           ],
           "y": [
            "Deborah Rivera",
            "Martin Ryan",
            "Ashley Hall",
            "Joseph Ayers",
            "Chelsea Yates DVM",
            "Steven Fleming",
            "Brian Morales",
            "Erica Simpson",
            "Elizabeth Higgins",
            "Monica Flynn"
           ],
           "z": [
            [
             0.8727585905064119,
             0.27874715668162764,
             0.4063009048306149,
             0.5080966961754236,
             0.9696728125819605,
             0.2655625707001805,
             0.660496100841534,
             0.7597791414559913,
             0.1466882319095667,
             0.8703437965211187
            ],
            [
             0.5052290228293579,
             0.9562958764887672,
             0.8896911572963954,
             0.9474389718648755,
             0.18281794506295856,
             0.8346490669725638,
             0.8628193481161649,
             0.9472783133470418,
             0.649547041328845,
             0.3685320628242328
            ],
            [
             0.5868920866466956,
             0.1578820957249074,
             0.9961861755797515,
             0.7222199893269942,
             0.3395567095887363,
             0.9188747162343676,
             0.7123908747730557,
             0.33312454395992885,
             0.9293845054583103,
             0.3243418734507054
            ],
            [
             0.3199610234502863,
             0.029724695889211672,
             0.7009080928666303,
             0.10800157695018353,
             0.048672246638759575,
             0.6560677562824467,
             0.9683552068906633,
             0.06417629048724471,
             0.7598467671421846,
             0.22866049204664185
            ],
            [
             0.8612330488057818,
             0.012144285720426251,
             0.19414925110151404,
             0.9751452710466864,
             0.5753904748336897,
             0.13171911854898544,
             0.004719357160004378,
             0.4090322144224343,
             0.4344264414439891,
             0.5328033964475818
            ],
            [
             0.6807979123700109,
             0.15397513816797948,
             0.31836271317067555,
             0.052985721519301365,
             0.9965038654273245,
             0.4238503113700631,
             0.6784851110540516,
             0.2852632140504945,
             0.14221787699006117,
             0.19353455406725684
            ],
            [
             0.01519034340601011,
             0.6882786011315314,
             0.9896895416653955,
             0.09160093709710837,
             0.1652399904741988,
             0.8016968258810094,
             0.6363889632375562,
             0.9477998112020981,
             0.3647120655441536,
             0.42806236272923326
            ],
            [
             0.28640252521902043,
             0.8043891931718715,
             0.18751631487223186,
             0.3798008869435249,
             0.6593980374623443,
             0.9133841380901355,
             0.8128296162522526,
             0.08496261587290155,
             0.8640794944806949,
             0.7913256657064283
            ],
            [
             0.47073436747045316,
             0.5537765922140939,
             0.4432132376626746,
             0.055462328315721954,
             0.320281923509786,
             0.9130845251817841,
             0.5986382880621386,
             0.09818189217637663,
             0.5514409062392723,
             0.6184311379949738
            ],
            [
             0.8112386298776488,
             0.5815857623189855,
             0.20134379645159273,
             0.9699284384611543,
             0.29626488921986127,
             0.7253639332902304,
             0.6877254468463578,
             0.9232767482499823,
             0.7650268426147872,
             0.3877049607967491
            ]
           ]
          }
         ],
         "name": "frame_3"
        },
        {
         "data": [
          {
           "colorscale": [
            [
             0,
             "#440154"
            ],
            [
             0.1111111111111111,
             "#482878"
            ],
            [
             0.2222222222222222,
             "#3e4989"
            ],
            [
             0.3333333333333333,
             "#31688e"
            ],
            [
             0.4444444444444444,
             "#26828e"
            ],
            [
             0.5555555555555556,
             "#1f9e89"
            ],
            [
             0.6666666666666666,
             "#35b779"
            ],
            [
             0.7777777777777778,
             "#6ece58"
            ],
            [
             0.8888888888888888,
             "#b5de2b"
            ],
            [
             1,
             "#fde725"
            ]
           ],
           "reversescale": false,
           "showscale": true,
           "text": [
            [
             "0.05",
             "0.66",
             "0.01",
             "0.05",
             "0.02",
             "0.57",
             "0.79",
             "0.07",
             "0.32",
             "0.38"
            ],
            [
             "0.90",
             "0.65",
             "0.40",
             "0.92",
             "0.69",
             "0.67",
             "0.71",
             "0.54",
             "0.47",
             "0.97"
            ],
            [
             "0.57",
             "0.41",
             "0.09",
             "0.19",
             "0.98",
             "0.96",
             "0.00",
             "0.08",
             "0.68",
             "0.22"
            ],
            [
             "0.66",
             "0.21",
             "0.40",
             "0.33",
             "0.25",
             "0.78",
             "0.30",
             "0.91",
             "0.19",
             "0.89"
            ],
            [
             "0.15",
             "0.30",
             "0.98",
             "0.05",
             "0.84",
             "0.16",
             "0.52",
             "0.96",
             "0.12",
             "0.38"
            ],
            [
             "0.51",
             "0.65",
             "0.34",
             "0.25",
             "0.91",
             "0.01",
             "0.98",
             "0.15",
             "0.23",
             "0.73"
            ],
            [
             "0.75",
             "0.51",
             "0.02",
             "0.22",
             "0.21",
             "0.89",
             "0.46",
             "0.77",
             "0.91",
             "0.39"
            ],
            [
             "0.92",
             "0.68",
             "0.60",
             "0.45",
             "0.44",
             "0.32",
             "0.28",
             "0.49",
             "0.41",
             "0.26"
            ],
            [
             "0.07",
             "0.97",
             "0.57",
             "0.34",
             "0.84",
             "0.49",
             "0.84",
             "0.16",
             "0.15",
             "0.24"
            ],
            [
             "0.86",
             "0.76",
             "0.33",
             "0.93",
             "0.86",
             "0.39",
             "0.60",
             "0.98",
             "0.71",
             "0.20"
            ]
           ],
           "textfont": {
            "color": "black"
           },
           "texttemplate": "%{text}",
           "type": "heatmap",
           "x": [
            "Deborah Rivera",
            "Martin Ryan",
            "Ashley Hall",
            "Joseph Ayers",
            "Chelsea Yates DVM",
            "Steven Fleming",
            "Brian Morales",
            "Erica Simpson",
            "Elizabeth Higgins",
            "Monica Flynn"
           ],
           "y": [
            "Deborah Rivera",
            "Martin Ryan",
            "Ashley Hall",
            "Joseph Ayers",
            "Chelsea Yates DVM",
            "Steven Fleming",
            "Brian Morales",
            "Erica Simpson",
            "Elizabeth Higgins",
            "Monica Flynn"
           ],
           "z": [
            [
             0.048017423417903715,
             0.6563378068365956,
             0.011885340029185065,
             0.05240291107898698,
             0.023161239773150433,
             0.5731304825670096,
             0.7874425114599553,
             0.07025205916566668,
             0.31929649126012305,
             0.3791795049599731
            ],
            [
             0.8994313825403332,
             0.6463360791251781,
             0.404750998061712,
             0.9220087587572329,
             0.6871312080823443,
             0.672246468862194,
             0.7120932769706187,
             0.5418278877889166,
             0.4674985323709647,
             0.972491623274669
            ],
            [
             0.5718270150892478,
             0.4061976273896819,
             0.09357603053272023,
             0.1922593468006304,
             0.9832895848581314,
             0.9617045770773358,
             0.002976136901003401,
             0.07779515476408427,
             0.6788904646350759,
             0.21801661628300062
            ],
            [
             0.663653018588982,
             0.20982199805580348,
             0.39684265151939624,
             0.3258861949464129,
             0.2464836490875102,
             0.7751144234184928,
             0.3038138272136174,
             0.9146551523255316,
             0.18872080860046891,
             0.8949361088360288
            ],
            [
             0.15348855289675456,
             0.29594452657589165,
             0.9837029416064158,
             0.04731794038949255,
             0.8382944902559409,
             0.1636833948346328,
             0.5190957467905465,
             0.9581999799237879,
             0.11892989568066403,
             0.37690351180002635
            ],
            [
             0.5081799643797116,
             0.6522325136291333,
             0.33623810195298665,
             0.24874676748009694,
             0.9078203088214287,
             0.008068107915057965,
             0.9812231685569505,
             0.14930397248331428,
             0.2310301668342275,
             0.7316312352046624
            ],
            [
             0.7530611951948528,
             0.5130191102867431,
             0.02154749461735672,
             0.22266032452771278,
             0.2079863453812555,
             0.8923172906395322,
             0.45883471987744406,
             0.7674430515709446,
             0.9062356278005628,
             0.3931510270623203
            ],
            [
             0.9238844141325961,
             0.6804144312524434,
             0.604859934776749,
             0.45068128950363906,
             0.4421114973707443,
             0.3239866143658905,
             0.2789035146145268,
             0.48514431097777966,
             0.4076604927390114,
             0.2623171760632541
            ],
            [
             0.07372605981494151,
             0.9732692900650494,
             0.5727314561615166,
             0.335967016763969,
             0.8403078146120643,
             0.4870476851626736,
             0.8358466860149937,
             0.16476661089780598,
             0.14559734006768144,
             0.23526156170263923
            ],
            [
             0.8602274555677152,
             0.7646201305730171,
             0.32804084674257716,
             0.9335354233655815,
             0.8603542064177171,
             0.38808052925555103,
             0.5998572323747073,
             0.9848328040306227,
             0.7062988328752062,
             0.19774057094293784
            ]
           ]
          }
         ],
         "name": "frame_4"
        }
       ],
       "layout": {
        "dragmode": false,
        "height": 600,
        "sliders": [
         {
          "active": 0,
          "currentvalue": {
           "font": {
            "size": 20
           },
           "prefix": "Frame:",
           "visible": true,
           "xanchor": "right"
          },
          "len": 0.9,
          "pad": {
           "b": 10,
           "t": 50
          },
          "steps": [
           {
            "args": [
             [
              "frame_0"
             ],
             {
              "frame": {
               "duration": 500,
               "redraw": true
              },
              "mode": "immediate",
              "transition": {
               "duration": 500
              }
             }
            ],
            "label": "0",
            "method": "animate"
           },
           {
            "args": [
             [
              "frame_1"
             ],
             {
              "frame": {
               "duration": 500,
               "redraw": true
              },
              "mode": "immediate",
              "transition": {
               "duration": 500
              }
             }
            ],
            "label": "1",
            "method": "animate"
           },
           {
            "args": [
             [
              "frame_2"
             ],
             {
              "frame": {
               "duration": 500,
               "redraw": true
              },
              "mode": "immediate",
              "transition": {
               "duration": 500
              }
             }
            ],
            "label": "2",
            "method": "animate"
           },
           {
            "args": [
             [
              "frame_3"
             ],
             {
              "frame": {
               "duration": 500,
               "redraw": true
              },
              "mode": "immediate",
              "transition": {
               "duration": 500
              }
             }
            ],
            "label": "3",
            "method": "animate"
           },
           {
            "args": [
             [
              "frame_4"
             ],
             {
              "frame": {
               "duration": 500,
               "redraw": true
              },
              "mode": "immediate",
              "transition": {
               "duration": 500
              }
             }
            ],
            "label": "4",
            "method": "animate"
           }
          ],
          "transition": {
           "duration": 500,
           "easing": "cubic-in-out"
          },
          "x": 0.1,
          "xanchor": "left",
          "y": 0,
          "yanchor": "top"
         }
        ],
        "template": {
         "data": {
          "bar": [
           {
            "error_x": {
             "color": "#2a3f5f"
            },
            "error_y": {
             "color": "#2a3f5f"
            },
            "marker": {
             "line": {
              "color": "#E5ECF6",
              "width": 0.5
             },
             "pattern": {
              "fillmode": "overlay",
              "size": 10,
              "solidity": 0.2
             }
            },
            "type": "bar"
           }
          ],
          "barpolar": [
           {
            "marker": {
             "line": {
              "color": "#E5ECF6",
              "width": 0.5
             },
             "pattern": {
              "fillmode": "overlay",
              "size": 10,
              "solidity": 0.2
             }
            },
            "type": "barpolar"
           }
          ],
          "carpet": [
           {
            "aaxis": {
             "endlinecolor": "#2a3f5f",
             "gridcolor": "white",
             "linecolor": "white",
             "minorgridcolor": "white",
             "startlinecolor": "#2a3f5f"
            },
            "baxis": {
             "endlinecolor": "#2a3f5f",
             "gridcolor": "white",
             "linecolor": "white",
             "minorgridcolor": "white",
             "startlinecolor": "#2a3f5f"
            },
            "type": "carpet"
           }
          ],
          "choropleth": [
           {
            "colorbar": {
             "outlinewidth": 0,
             "ticks": ""
            },
            "type": "choropleth"
           }
          ],
          "contour": [
           {
            "colorbar": {
             "outlinewidth": 0,
             "ticks": ""
            },
            "colorscale": [
             [
              0,
              "#0d0887"
             ],
             [
              0.1111111111111111,
              "#46039f"
             ],
             [
              0.2222222222222222,
              "#7201a8"
             ],
             [
              0.3333333333333333,
              "#9c179e"
             ],
             [
              0.4444444444444444,
              "#bd3786"
             ],
             [
              0.5555555555555556,
              "#d8576b"
             ],
             [
              0.6666666666666666,
              "#ed7953"
             ],
             [
              0.7777777777777778,
              "#fb9f3a"
             ],
             [
              0.8888888888888888,
              "#fdca26"
             ],
             [
              1,
              "#f0f921"
             ]
            ],
            "type": "contour"
           }
          ],
          "contourcarpet": [
           {
            "colorbar": {
             "outlinewidth": 0,
             "ticks": ""
            },
            "type": "contourcarpet"
           }
          ],
          "heatmap": [
           {
            "colorbar": {
             "outlinewidth": 0,
             "ticks": ""
            },
            "colorscale": [
             [
              0,
              "#0d0887"
             ],
             [
              0.1111111111111111,
              "#46039f"
             ],
             [
              0.2222222222222222,
              "#7201a8"
             ],
             [
              0.3333333333333333,
              "#9c179e"
             ],
             [
              0.4444444444444444,
              "#bd3786"
             ],
             [
              0.5555555555555556,
              "#d8576b"
             ],
             [
              0.6666666666666666,
              "#ed7953"
             ],
             [
              0.7777777777777778,
              "#fb9f3a"
             ],
             [
              0.8888888888888888,
              "#fdca26"
             ],
             [
              1,
              "#f0f921"
             ]
            ],
            "type": "heatmap"
           }
          ],
          "heatmapgl": [
           {
            "colorbar": {
             "outlinewidth": 0,
             "ticks": ""
            },
            "colorscale": [
             [
              0,
              "#0d0887"
             ],
             [
              0.1111111111111111,
              "#46039f"
             ],
             [
              0.2222222222222222,
              "#7201a8"
             ],
             [
              0.3333333333333333,
              "#9c179e"
             ],
             [
              0.4444444444444444,
              "#bd3786"
             ],
             [
              0.5555555555555556,
              "#d8576b"
             ],
             [
              0.6666666666666666,
              "#ed7953"
             ],
             [
              0.7777777777777778,
              "#fb9f3a"
             ],
             [
              0.8888888888888888,
              "#fdca26"
             ],
             [
              1,
              "#f0f921"
             ]
            ],
            "type": "heatmapgl"
           }
          ],
          "histogram": [
           {
            "marker": {
             "pattern": {
              "fillmode": "overlay",
              "size": 10,
              "solidity": 0.2
             }
            },
            "type": "histogram"
           }
          ],
          "histogram2d": [
           {
            "colorbar": {
             "outlinewidth": 0,
             "ticks": ""
            },
            "colorscale": [
             [
              0,
              "#0d0887"
             ],
             [
              0.1111111111111111,
              "#46039f"
             ],
             [
              0.2222222222222222,
              "#7201a8"
             ],
             [
              0.3333333333333333,
              "#9c179e"
             ],
             [
              0.4444444444444444,
              "#bd3786"
             ],
             [
              0.5555555555555556,
              "#d8576b"
             ],
             [
              0.6666666666666666,
              "#ed7953"
             ],
             [
              0.7777777777777778,
              "#fb9f3a"
             ],
             [
              0.8888888888888888,
              "#fdca26"
             ],
             [
              1,
              "#f0f921"
             ]
            ],
            "type": "histogram2d"
           }
          ],
          "histogram2dcontour": [
           {
            "colorbar": {
             "outlinewidth": 0,
             "ticks": ""
            },
            "colorscale": [
             [
              0,
              "#0d0887"
             ],
             [
              0.1111111111111111,
              "#46039f"
             ],
             [
              0.2222222222222222,
              "#7201a8"
             ],
             [
              0.3333333333333333,
              "#9c179e"
             ],
             [
              0.4444444444444444,
              "#bd3786"
             ],
             [
              0.5555555555555556,
              "#d8576b"
             ],
             [
              0.6666666666666666,
              "#ed7953"
             ],
             [
              0.7777777777777778,
              "#fb9f3a"
             ],
             [
              0.8888888888888888,
              "#fdca26"
             ],
             [
              1,
              "#f0f921"
             ]
            ],
            "type": "histogram2dcontour"
           }
          ],
          "mesh3d": [
           {
            "colorbar": {
             "outlinewidth": 0,
             "ticks": ""
            },
            "type": "mesh3d"
           }
          ],
          "parcoords": [
           {
            "line": {
             "colorbar": {
              "outlinewidth": 0,
              "ticks": ""
             }
            },
            "type": "parcoords"
           }
          ],
          "pie": [
           {
            "automargin": true,
            "type": "pie"
           }
          ],
          "scatter": [
           {
            "fillpattern": {
             "fillmode": "overlay",
             "size": 10,
             "solidity": 0.2
            },
            "type": "scatter"
           }
          ],
          "scatter3d": [
           {
            "line": {
             "colorbar": {
              "outlinewidth": 0,
              "ticks": ""
             }
            },
            "marker": {
             "colorbar": {
              "outlinewidth": 0,
              "ticks": ""
             }
            },
            "type": "scatter3d"
           }
          ],
          "scattercarpet": [
           {
            "marker": {
             "colorbar": {
              "outlinewidth": 0,
              "ticks": ""
             }
            },
            "type": "scattercarpet"
           }
          ],
          "scattergeo": [
           {
            "marker": {
             "colorbar": {
              "outlinewidth": 0,
              "ticks": ""
             }
            },
            "type": "scattergeo"
           }
          ],
          "scattergl": [
           {
            "marker": {
             "colorbar": {
              "outlinewidth": 0,
              "ticks": ""
             }
            },
            "type": "scattergl"
           }
          ],
          "scattermapbox": [
           {
            "marker": {
             "colorbar": {
              "outlinewidth": 0,
              "ticks": ""
             }
            },
            "type": "scattermapbox"
           }
          ],
          "scatterpolar": [
           {
            "marker": {
             "colorbar": {
              "outlinewidth": 0,
              "ticks": ""
             }
            },
            "type": "scatterpolar"
           }
          ],
          "scatterpolargl": [
           {
            "marker": {
             "colorbar": {
              "outlinewidth": 0,
              "ticks": ""
             }
            },
            "type": "scatterpolargl"
           }
          ],
          "scatterternary": [
           {
            "marker": {
             "colorbar": {
              "outlinewidth": 0,
              "ticks": ""
             }
            },
            "type": "scatterternary"
           }
          ],
          "surface": [
           {
            "colorbar": {
             "outlinewidth": 0,
             "ticks": ""
            },
            "colorscale": [
             [
              0,
              "#0d0887"
             ],
             [
              0.1111111111111111,
              "#46039f"
             ],
             [
              0.2222222222222222,
              "#7201a8"
             ],
             [
              0.3333333333333333,
              "#9c179e"
             ],
             [
              0.4444444444444444,
              "#bd3786"
             ],
             [
              0.5555555555555556,
              "#d8576b"
             ],
             [
              0.6666666666666666,
              "#ed7953"
             ],
             [
              0.7777777777777778,
              "#fb9f3a"
             ],
             [
              0.8888888888888888,
              "#fdca26"
             ],
             [
              1,
              "#f0f921"
             ]
            ],
            "type": "surface"
           }
          ],
          "table": [
           {
            "cells": {
             "fill": {
              "color": "#EBF0F8"
             },
             "line": {
              "color": "white"
             }
            },
            "header": {
             "fill": {
              "color": "#C8D4E3"
             },
             "line": {
              "color": "white"
             }
            },
            "type": "table"
           }
          ]
         },
         "layout": {
          "annotationdefaults": {
           "arrowcolor": "#2a3f5f",
           "arrowhead": 0,
           "arrowwidth": 1
          },
          "autotypenumbers": "strict",
          "coloraxis": {
           "colorbar": {
            "outlinewidth": 0,
            "ticks": ""
           }
          },
          "colorscale": {
           "diverging": [
            [
             0,
             "#8e0152"
            ],
            [
             0.1,
             "#c51b7d"
            ],
            [
             0.2,
             "#de77ae"
            ],
            [
             0.3,
             "#f1b6da"
            ],
            [
             0.4,
             "#fde0ef"
            ],
            [
             0.5,
             "#f7f7f7"
            ],
            [
             0.6,
             "#e6f5d0"
            ],
            [
             0.7,
             "#b8e186"
            ],
            [
             0.8,
             "#7fbc41"
            ],
            [
             0.9,
             "#4d9221"
            ],
            [
             1,
             "#276419"
            ]
           ],
           "sequential": [
            [
             0,
             "#0d0887"
            ],
            [
             0.1111111111111111,
             "#46039f"
            ],
            [
             0.2222222222222222,
             "#7201a8"
            ],
            [
             0.3333333333333333,
             "#9c179e"
            ],
            [
             0.4444444444444444,
             "#bd3786"
            ],
            [
             0.5555555555555556,
             "#d8576b"
            ],
            [
             0.6666666666666666,
             "#ed7953"
            ],
            [
             0.7777777777777778,
             "#fb9f3a"
            ],
            [
             0.8888888888888888,
             "#fdca26"
            ],
            [
             1,
             "#f0f921"
            ]
           ],
           "sequentialminus": [
            [
             0,
             "#0d0887"
            ],
            [
             0.1111111111111111,
             "#46039f"
            ],
            [
             0.2222222222222222,
             "#7201a8"
            ],
            [
             0.3333333333333333,
             "#9c179e"
            ],
            [
             0.4444444444444444,
             "#bd3786"
            ],
            [
             0.5555555555555556,
             "#d8576b"
            ],
            [
             0.6666666666666666,
             "#ed7953"
            ],
            [
             0.7777777777777778,
             "#fb9f3a"
            ],
            [
             0.8888888888888888,
             "#fdca26"
            ],
            [
             1,
             "#f0f921"
            ]
           ]
          },
          "colorway": [
           "#636efa",
           "#EF553B",
           "#00cc96",
           "#ab63fa",
           "#FFA15A",
           "#19d3f3",
           "#FF6692",
           "#B6E880",
           "#FF97FF",
           "#FECB52"
          ],
          "font": {
           "color": "#2a3f5f"
          },
          "geo": {
           "bgcolor": "white",
           "lakecolor": "white",
           "landcolor": "#E5ECF6",
           "showlakes": true,
           "showland": true,
           "subunitcolor": "white"
          },
          "hoverlabel": {
           "align": "left"
          },
          "hovermode": "closest",
          "mapbox": {
           "style": "light"
          },
          "paper_bgcolor": "white",
          "plot_bgcolor": "#E5ECF6",
          "polar": {
           "angularaxis": {
            "gridcolor": "white",
            "linecolor": "white",
            "ticks": ""
           },
           "bgcolor": "#E5ECF6",
           "radialaxis": {
            "gridcolor": "white",
            "linecolor": "white",
            "ticks": ""
           }
          },
          "scene": {
           "xaxis": {
            "backgroundcolor": "#E5ECF6",
            "gridcolor": "white",
            "gridwidth": 2,
            "linecolor": "white",
            "showbackground": true,
            "ticks": "",
            "zerolinecolor": "white"
           },
           "yaxis": {
            "backgroundcolor": "#E5ECF6",
            "gridcolor": "white",
            "gridwidth": 2,
            "linecolor": "white",
            "showbackground": true,
            "ticks": "",
            "zerolinecolor": "white"
           },
           "zaxis": {
            "backgroundcolor": "#E5ECF6",
            "gridcolor": "white",
            "gridwidth": 2,
            "linecolor": "white",
            "showbackground": true,
            "ticks": "",
            "zerolinecolor": "white"
           }
          },
          "shapedefaults": {
           "line": {
            "color": "#2a3f5f"
           }
          },
          "ternary": {
           "aaxis": {
            "gridcolor": "white",
            "linecolor": "white",
            "ticks": ""
           },
           "baxis": {
            "gridcolor": "white",
            "linecolor": "white",
            "ticks": ""
           },
           "bgcolor": "#E5ECF6",
           "caxis": {
            "gridcolor": "white",
            "linecolor": "white",
            "ticks": ""
           }
          },
          "title": {
           "x": 0.05
          },
          "xaxis": {
           "automargin": true,
           "gridcolor": "white",
           "linecolor": "white",
           "ticks": "",
           "title": {
            "standoff": 15
           },
           "zerolinecolor": "white",
           "zerolinewidth": 2
          },
          "yaxis": {
           "automargin": true,
           "gridcolor": "white",
           "linecolor": "white",
           "ticks": "",
           "title": {
            "standoff": 15
           },
           "zerolinecolor": "white",
           "zerolinewidth": 2
          }
         }
        },
        "title": {
         "text": "DEFAULT TITLE"
        },
        "updatemenus": [
         {
          "buttons": [
           {
            "args": [
             null,
             {
              "frame": {
               "duration": 500,
               "redraw": true
              },
              "fromcurrent": true
             }
            ],
            "label": "Play",
            "method": "animate"
           },
           {
            "args": [
             [
              null
             ],
             {
              "frame": {
               "duration": 0,
               "redraw": true
              },
              "mode": "immediate",
              "transition": {
               "duration": 0
              }
             }
            ],
            "label": "Pause",
            "method": "animate"
           }
          ],
          "direction": "left",
          "pad": {
           "r": 10,
           "t": 87
          },
          "showactive": false,
          "type": "buttons",
          "x": 0.1,
          "xanchor": "right",
          "y": 0,
          "yanchor": "top"
         }
        ],
        "width": 800,
        "xaxis": {
         "fixedrange": true,
         "nticks": 10
        },
        "yaxis": {
         "fixedrange": true,
         "nticks": 10
        }
       }
      }
     },
     "metadata": {},
     "output_type": "display_data"
    }
   ],
   "source": [
    "def animated_heatmap(\n",
    "    matrices: np.ndarray | None = None,\n",
    "    labels: list | None = None,\n",
    "    title: str = \"DEFAULT TITLE\",\n",
    "    show_values: bool = True,\n",
    "    value_format: Literal[\".2f\", \".2e\"] = \".2f\",\n",
    "    width: int = 800,\n",
    "    height: int = 600,\n",
    "    xaxis_title: str | None = None,\n",
    "    yaxis_title: str | None = None,\n",
    "    log: bool = False,\n",
    "    nan_diagnal: bool = False,\n",
    "    frame_duration: int = 500,\n",
    "    slider_labels: list[str] | None = None,\n",
    "    slider_prefix: str = \"Frame:\",\n",
    "):\n",
    "    # Generate demo data if matrices is None\n",
    "    if matrices is None:\n",
    "        faker = Faker()\n",
    "        shape = (5, 10, 10)  # (time, rows, cols)\n",
    "        matrices = rng.random(shape)\n",
    "        # logger.info(matrices)\n",
    "    elif matrices.ndim != 3:\n",
    "        raise ValueError(\"Expected 3D array (time, rows, cols)\")\n",
    "\n",
    "    n_frames, n_rows, n_cols = matrices.shape\n",
    "\n",
    "    if labels is None:\n",
    "        faker = Faker()\n",
    "        labels = [faker.name() for _ in range(n_rows)]\n",
    "    col_labels = labels\n",
    "    row_labels = labels\n",
    "\n",
    "    # Process all matrices\n",
    "    processed_matrices = []\n",
    "    for matrix in matrices:\n",
    "        # Convert and process each time slice\n",
    "        matrix = np.array(matrix, dtype=object)\n",
    "        none_mask = matrix is None\n",
    "        matrix = matrix.astype(float)\n",
    "        if log:\n",
    "            matrix = np.log10(matrix)\n",
    "        matrix[none_mask] = np.nan\n",
    "        if nan_diagnal:\n",
    "            matrix[np.identity(matrix.shape[0], dtype=bool)] = np.nan\n",
    "        processed_matrices.append(matrix)\n",
    "        \n",
    "        # Update the sliders configuration with custom labels\n",
    "    if slider_labels is not None:\n",
    "        if len(slider_labels) != n_frames:\n",
    "            raise ValueError(f\"Expected {n_frames} slider labels, got {len(slider_labels)}\")\n",
    "        frame_labels = slider_labels\n",
    "    else:\n",
    "        frame_labels = [str(k) for k in range(n_frames)]\n",
    "\n",
    "    layout_sliders = [{\n",
    "        \"active\": 0,\n",
    "        \"yanchor\": \"top\",\n",
    "        \"xanchor\": \"left\",\n",
    "        \"currentvalue\": {\n",
    "            \"font\": {\"size\": 20},\n",
    "            \"prefix\": slider_prefix,  # <--- [CHANGED] Use custom prefix\n",
    "            \"visible\": True,\n",
    "            \"xanchor\": \"right\",\n",
    "        },\n",
    "        \"transition\": {\"duration\": frame_duration, \"easing\": \"cubic-in-out\"},\n",
    "        \"pad\": {\"b\": 10, \"t\": 50},\n",
    "        \"len\": 0.9,\n",
    "        \"x\": 0.1,\n",
    "        \"y\": 0,\n",
    "        \"steps\": [\n",
    "            {\n",
    "                \"args\": [\n",
    "                    [f\"frame_{k}\"],\n",
    "                    {\n",
    "                        \"frame\": {\"duration\": frame_duration, \"redraw\": True},\n",
    "                        \"mode\": \"immediate\",\n",
    "                        \"transition\": {\"duration\": frame_duration},\n",
    "                    },\n",
    "                ],\n",
    "                \"label\": label,  # <--- [CHANGED] Use custom label\n",
    "                \"method\": \"animate\",\n",
    "            }\n",
    "            for k, label in enumerate(frame_labels)\n",
    "        ],\n",
    "    }]\n",
    "\n",
    "    # Create frames for animation\n",
    "    frames = [\n",
    "        go.Frame(\n",
    "            data=[\n",
    "                go.Heatmap(\n",
    "                    z=matrix,\n",
    "                    x=col_labels,\n",
    "                    y=row_labels,\n",
    "                    colorscale=\"Viridis\",\n",
    "                    text=np.vectorize(lambda x: \"N/A\" if np.isnan(x) else f\"{x:{value_format}}\")(\n",
    "                        matrix\n",
    "                    )\n",
    "                    if show_values\n",
    "                    else None,\n",
    "                    texttemplate=\"%{text}\" if show_values else None,\n",
    "                    textfont={\"color\": \"black\"},\n",
    "                    reversescale=False,\n",
    "                    showscale=True,\n",
    "                )\n",
    "            ],\n",
    "            name=f\"frame_{i}\",  # name is required for frames\n",
    "        )\n",
    "        for i, matrix in enumerate(processed_matrices)\n",
    "    ]\n",
    "\n",
    "    # Create the figure with the initial frame\n",
    "    fig = go.Figure(\n",
    "        data=[\n",
    "            go.Heatmap(\n",
    "                z=processed_matrices[0],\n",
    "                x=col_labels,\n",
    "                y=row_labels,\n",
    "                colorscale=\"Viridis\",\n",
    "                text=np.vectorize(lambda x: \"N/A\" if np.isnan(x) else f\"{x:{value_format}}\")(\n",
    "                    processed_matrices[0]\n",
    "                )\n",
    "                if show_values\n",
    "                else None,\n",
    "                texttemplate=\"%{text}\" if show_values else None,\n",
    "                textfont={\"color\": \"black\"},\n",
    "                reversescale=False,\n",
    "                showscale=True,\n",
    "            )\n",
    "        ],\n",
    "        frames=frames,\n",
    "        layout={\n",
    "            \"title\": title,\n",
    "            \"width\": width,\n",
    "            \"height\": height,\n",
    "            \"xaxis\": {\n",
    "                \"title\": xaxis_title,\n",
    "                \"nticks\": len(col_labels) if col_labels else None,\n",
    "                \"fixedrange\": True,\n",
    "            },\n",
    "            \"yaxis\": {\n",
    "                \"title\": yaxis_title,\n",
    "                \"nticks\": len(row_labels) if row_labels else None,\n",
    "                \"fixedrange\": True,\n",
    "            },\n",
    "            \"dragmode\": False,\n",
    "            \"updatemenus\": [  # <--- [NEW] Add play and pause buttons\n",
    "                {\n",
    "                    \"buttons\": [\n",
    "                        {\n",
    "                            \"args\": [\n",
    "                                None,\n",
    "                                {\n",
    "                                    \"frame\": {\"duration\": frame_duration, \"redraw\": True},\n",
    "                                    \"fromcurrent\": True,\n",
    "                                },\n",
    "                            ],\n",
    "                            \"label\": \"Play\",\n",
    "                            \"method\": \"animate\",\n",
    "                        },\n",
    "                        {\n",
    "                            \"args\": [\n",
    "                                [None],\n",
    "                                {\n",
    "                                    \"frame\": {\"duration\": 0, \"redraw\": True},\n",
    "                                    \"mode\": \"immediate\",\n",
    "                                    \"transition\": {\"duration\": 0},\n",
    "                                },\n",
    "                            ],\n",
    "                            \"label\": \"Pause\",\n",
    "                            \"method\": \"animate\",\n",
    "                        },\n",
    "                    ],\n",
    "                    \"direction\": \"left\",\n",
    "                    \"pad\": {\"r\": 10, \"t\": 87},\n",
    "                    \"showactive\": False,\n",
    "                    \"type\": \"buttons\",\n",
    "                    \"x\": 0.1,\n",
    "                    \"xanchor\": \"right\",\n",
    "                    \"y\": 0,\n",
    "                    \"yanchor\": \"top\",\n",
    "                }\n",
    "            ],\n",
    "        },\n",
    "    )\n",
    "    \n",
    "    # Update the layout dictionary to include the new sliders\n",
    "    fig.update_layout(sliders=layout_sliders)\n",
    "\n",
    "    return fig\n",
    "\n",
    "\n",
    "animated_heatmap()"
   ]
  },
  {
   "cell_type": "markdown",
   "metadata": {},
   "source": [
    "## Import Data"
   ]
  },
  {
   "cell_type": "code",
   "execution_count": 26,
   "metadata": {},
   "outputs": [
    {
     "name": "stdout",
     "output_type": "stream",
     "text": [
      "\u001b[2;36m[12/13/24 14:33:27]\u001b[0m\u001b[2;36m \u001b[0m\u001b[1;34mINFO    \u001b[0m\u001b[1;32m \u001b[0m\u001b[1m[\u001b[0m\u001b[1;36m3396536193.\u001b[0mpy:\u001b[1;36m2\u001b[0m\u001b[1m]\u001b[0m                   \u001b]8;id=747558;file:///var/folders/6f/f4k9qbkd5nqfywwdhvwdtl5m0000gn/T/ipykernel_17291/3396536193.py\u001b\\\u001b[1;36m3396536193.py\u001b[0m\u001b]8;;\u001b\\\u001b[1;36m:\u001b[0m\u001b]8;id=363556;file:///var/folders/6f/f4k9qbkd5nqfywwdhvwdtl5m0000gn/T/ipykernel_17291/3396536193.py#2\u001b\\\u001b[1;36m2\u001b[0m\u001b]8;;\u001b\\\n",
      "\u001b[2;36m                    \u001b[0m\u001b[1;32m         \u001b[0m\u001b[1m[\u001b[0m\u001b[32m'validation_mses'\u001b[0m\u001b[1m]\u001b[0m                 \u001b[1;36m               \u001b[0m\n",
      "\u001b[2;36m                   \u001b[0m\u001b[2;36m \u001b[0m\u001b[1;34mINFO    \u001b[0m\u001b[1;32m \u001b[0m\u001b[1m[\u001b[0m\u001b[1;36m3396536193.\u001b[0mpy:\u001b[1;36m4\u001b[0m\u001b[1m]\u001b[0m \u001b[1m(\u001b[0m\u001b[1;36m6\u001b[0m, \u001b[1;36m17\u001b[0m, \u001b[1;36m17\u001b[0m, \u001b[1;36m6\u001b[0m\u001b[1m)\u001b[0m    \u001b]8;id=420402;file:///var/folders/6f/f4k9qbkd5nqfywwdhvwdtl5m0000gn/T/ipykernel_17291/3396536193.py\u001b\\\u001b[1;36m3396536193.py\u001b[0m\u001b]8;;\u001b\\\u001b[1;36m:\u001b[0m\u001b]8;id=307068;file:///var/folders/6f/f4k9qbkd5nqfywwdhvwdtl5m0000gn/T/ipykernel_17291/3396536193.py#4\u001b\\\u001b[1;36m4\u001b[0m\u001b]8;;\u001b\\\n"
     ]
    }
   ],
   "source": [
    "tensors = load_file(MLP_MSE_VALIDATION_TENSORS)\n",
    "logger.info(list(tensors.keys()))\n",
    "validation_mse = tensors[\"validation_mses\"]\n",
    "logger.info(tensors[\"validation_mses\"].shape)"
   ]
  },
  {
   "cell_type": "code",
   "execution_count": 113,
   "metadata": {},
   "outputs": [
    {
     "name": "stdout",
     "output_type": "stream",
     "text": [
      "\u001b[2;36m[12/13/24 15:42:32]\u001b[0m\u001b[2;36m \u001b[0m\u001b[1;34mINFO    \u001b[0m\u001b[1;32m \u001b[0m\u001b[1m[\u001b[0m\u001b[1;36m1064263312.\u001b[0mpy:\u001b[1;36m31\u001b[0m\u001b[1m]\u001b[0m Creating        \u001b]8;id=416026;file:///var/folders/6f/f4k9qbkd5nqfywwdhvwdtl5m0000gn/T/ipykernel_17291/1064263312.py\u001b\\\u001b[1;36m1064263312.py\u001b[0m\u001b]8;;\u001b\\\u001b[1;36m:\u001b[0m\u001b]8;id=916732;file:///var/folders/6f/f4k9qbkd5nqfywwdhvwdtl5m0000gn/T/ipykernel_17291/1064263312.py#31\u001b\\\u001b[1;36m31\u001b[0m\u001b]8;;\u001b\\\n",
      "\u001b[2;36m                    \u001b[0m\u001b[1;32m         \u001b[0mheatmap visualization\u001b[33m...\u001b[0m           \u001b[1;36m                \u001b[0m\n"
     ]
    },
    {
     "data": {
      "application/vnd.plotly.v1+json": {
       "config": {
        "plotlyServerURL": "https://plot.ly"
       },
       "data": [
        {
         "colorscale": [
          [
           0,
           "#440154"
          ],
          [
           0.1111111111111111,
           "#482878"
          ],
          [
           0.2222222222222222,
           "#3e4989"
          ],
          [
           0.3333333333333333,
           "#31688e"
          ],
          [
           0.4444444444444444,
           "#26828e"
          ],
          [
           0.5555555555555556,
           "#1f9e89"
          ],
          [
           0.6666666666666666,
           "#35b779"
          ],
          [
           0.7777777777777778,
           "#6ece58"
          ],
          [
           0.8888888888888888,
           "#b5de2b"
          ],
          [
           1,
           "#fde725"
          ]
         ],
         "reversescale": false,
         "showscale": true,
         "text": [
          [
           "N/A",
           "-2.76",
           "-2.84",
           "-2.51",
           "-2.77",
           "-2.85",
           "-2.50",
           "-2.77",
           "-2.86",
           "-2.49",
           "-2.76",
           "-2.75",
           "-2.85",
           "-2.75",
           "-2.75",
           "-3.27",
           "-3.02"
          ],
          [
           "-2.84",
           "N/A",
           "-2.84",
           "-2.47",
           "-2.73",
           "-2.83",
           "-2.48",
           "-2.75",
           "-2.86",
           "-2.48",
           "-2.74",
           "-2.73",
           "-2.84",
           "-2.73",
           "-2.72",
           "-3.24",
           "-2.99"
          ],
          [
           "-2.85",
           "-2.77",
           "N/A",
           "-2.52",
           "-2.76",
           "-2.86",
           "-2.50",
           "-2.76",
           "-2.85",
           "-2.51",
           "-2.77",
           "-2.74",
           "-2.84",
           "-2.76",
           "-2.78",
           "-3.27",
           "-3.01"
          ],
          [
           "-2.79",
           "-2.68",
           "-2.81",
           "N/A",
           "-2.69",
           "-2.81",
           "-2.44",
           "-2.68",
           "-2.80",
           "-2.42",
           "-2.68",
           "-2.70",
           "-2.81",
           "-2.67",
           "-2.72",
           "-3.14",
           "-2.94"
          ],
          [
           "-2.84",
           "-2.73",
           "-2.82",
           "-2.49",
           "N/A",
           "-2.83",
           "-2.48",
           "-2.72",
           "-2.85",
           "-2.52",
           "-2.72",
           "-2.74",
           "-2.84",
           "-2.75",
           "-2.74",
           "-3.23",
           "-3.00"
          ],
          [
           "-2.85",
           "-2.76",
           "-2.86",
           "-2.52",
           "-2.76",
           "N/A",
           "-2.54",
           "-2.75",
           "-2.82",
           "-2.52",
           "-2.77",
           "-2.77",
           "-2.84",
           "-2.75",
           "-2.76",
           "-3.26",
           "-3.01"
          ],
          [
           "-2.79",
           "-2.67",
           "-2.81",
           "-2.42",
           "-2.68",
           "-2.79",
           "N/A",
           "-2.70",
           "-2.79",
           "-2.43",
           "-2.69",
           "-2.69",
           "-2.81",
           "-2.69",
           "-2.67",
           "-3.14",
           "-2.95"
          ],
          [
           "-2.85",
           "-2.72",
           "-2.86",
           "-2.50",
           "-2.73",
           "-2.84",
           "-2.50",
           "N/A",
           "-2.84",
           "-2.52",
           "-2.71",
           "-2.72",
           "-2.84",
           "-2.73",
           "-2.72",
           "-3.24",
           "-2.99"
          ],
          [
           "-2.85",
           "-2.75",
           "-2.85",
           "-2.52",
           "-2.74",
           "-2.85",
           "-2.54",
           "-2.76",
           "N/A",
           "-2.50",
           "-2.76",
           "-2.74",
           "-2.86",
           "-2.74",
           "-2.75",
           "-3.27",
           "-3.01"
          ],
          [
           "-2.79",
           "-2.71",
           "-2.80",
           "-2.42",
           "-2.70",
           "-2.78",
           "-2.41",
           "-2.71",
           "-2.79",
           "N/A",
           "-2.71",
           "-2.68",
           "-2.82",
           "-2.68",
           "-2.71",
           "-3.15",
           "-2.92"
          ],
          [
           "-2.84",
           "-2.72",
           "-2.84",
           "-2.49",
           "-2.75",
           "-2.85",
           "-2.48",
           "-2.71",
           "-2.85",
           "-2.49",
           "N/A",
           "-2.71",
           "-2.84",
           "-2.71",
           "-2.75",
           "-3.24",
           "-2.99"
          ],
          [
           "-2.84",
           "-2.74",
           "-2.84",
           "-2.50",
           "-2.70",
           "-2.86",
           "-2.50",
           "-2.73",
           "-2.87",
           "-2.51",
           "-2.72",
           "N/A",
           "-2.84",
           "-2.75",
           "-2.72",
           "-3.24",
           "-2.99"
          ],
          [
           "-2.86",
           "-2.76",
           "-2.84",
           "-2.51",
           "-2.78",
           "-2.86",
           "-2.51",
           "-2.77",
           "-2.85",
           "-2.54",
           "-2.77",
           "-2.77",
           "N/A",
           "-2.77",
           "-2.76",
           "-3.27",
           "-3.02"
          ],
          [
           "-2.83",
           "-2.74",
           "-2.83",
           "-2.50",
           "-2.73",
           "-2.84",
           "-2.48",
           "-2.70",
           "-2.84",
           "-2.48",
           "-2.72",
           "-2.71",
           "-2.82",
           "N/A",
           "-2.72",
           "-3.23",
           "-2.99"
          ],
          [
           "-2.85",
           "-2.74",
           "-2.84",
           "-2.50",
           "-2.74",
           "-2.83",
           "-2.50",
           "-2.71",
           "-2.83",
           "-2.50",
           "-2.74",
           "-2.73",
           "-2.84",
           "-2.71",
           "N/A",
           "-3.24",
           "-2.98"
          ],
          [
           "-2.96",
           "-2.84",
           "-2.95",
           "-2.56",
           "-2.84",
           "-2.96",
           "-2.56",
           "-2.84",
           "-2.96",
           "-2.56",
           "-2.83",
           "-2.83",
           "-2.95",
           "-2.84",
           "-2.82",
           "N/A",
           "-3.10"
          ],
          [
           "-2.91",
           "-2.79",
           "-2.90",
           "-2.53",
           "-2.78",
           "-2.91",
           "-2.52",
           "-2.81",
           "-2.90",
           "-2.52",
           "-2.80",
           "-2.82",
           "-2.90",
           "-2.80",
           "-2.81",
           "-3.30",
           "N/A"
          ]
         ],
         "textfont": {
          "color": "black"
         },
         "texttemplate": "%{text}",
         "type": "heatmap",
         "x": [
          "WhereIsAI_UAE-Large-V1",
          "BAAI_bge-base-en-v1.5",
          "BAAI_bge-large-en-v1.5",
          "BAAI_bge-small-en-v1.5",
          "intfloat_e5-base-v2",
          "intfloat_e5-large-v2",
          "intfloat_e5-small-v2",
          "thenlper_gte-base",
          "thenlper_gte-large",
          "thenlper_gte-small",
          "sentence-transformers_gtr-t5-base",
          "sentence-transformers_gtr-t5-large",
          "mixedbread-ai_mxbai-embed-large-v1",
          "sentence-transformers_sentence-t5-base",
          "sentence-transformers_sentence-t5-large",
          "openai_text-embedding-3-large",
          "openai_text-embedding-3-small"
         ],
         "y": [
          "WhereIsAI_UAE-Large-V1",
          "BAAI_bge-base-en-v1.5",
          "BAAI_bge-large-en-v1.5",
          "BAAI_bge-small-en-v1.5",
          "intfloat_e5-base-v2",
          "intfloat_e5-large-v2",
          "intfloat_e5-small-v2",
          "thenlper_gte-base",
          "thenlper_gte-large",
          "thenlper_gte-small",
          "sentence-transformers_gtr-t5-base",
          "sentence-transformers_gtr-t5-large",
          "mixedbread-ai_mxbai-embed-large-v1",
          "sentence-transformers_sentence-t5-base",
          "sentence-transformers_sentence-t5-large",
          "openai_text-embedding-3-large",
          "openai_text-embedding-3-small"
         ],
         "z": [
          [
           null,
           -2.7574663425948116,
           -2.8420995149022072,
           -2.5095080204774765,
           -2.772926057182547,
           -2.8495111364061194,
           -2.504729011234093,
           -2.771978108569226,
           -2.8644323823071316,
           -2.4903870476720407,
           -2.762528125724493,
           -2.7511733114121983,
           -2.8454498318091486,
           -2.7498421169253677,
           -2.7501509336190813,
           -3.2696157318654278,
           -3.02198423076025
          ],
          [
           -2.8439671840984952,
           null,
           -2.8425685649518804,
           -2.4749370961506623,
           -2.7262825567904367,
           -2.8291240980333727,
           -2.4784590184216295,
           -2.7468449351451576,
           -2.8555266586187416,
           -2.4797362835448697,
           -2.735703755380616,
           -2.7288352609804054,
           -2.844996909042494,
           -2.733095494011109,
           -2.723420118354665,
           -3.237153824629583,
           -2.98560012259634
          ],
          [
           -2.847032143924652,
           -2.769208332080826,
           null,
           -2.5159174758940686,
           -2.7647998813551764,
           -2.859104585314454,
           -2.500828877749649,
           -2.7574615990580216,
           -2.8504715783957004,
           -2.5095226630642307,
           -2.773071177477477,
           -2.737753963940291,
           -2.838673846847979,
           -2.7590395972498656,
           -2.775269038776332,
           -3.265478096932488,
           -3.0072780568853523
          ],
          [
           -2.793861657643175,
           -2.6806242728225356,
           -2.805010042893231,
           null,
           -2.6933186738606256,
           -2.8112592269492285,
           -2.4390978670404246,
           -2.6841598709638115,
           -2.7989696594110605,
           -2.418366493260947,
           -2.6777851988160783,
           -2.7018360273677144,
           -2.813204423160594,
           -2.6743761031771873,
           -2.7160313697399996,
           -3.137169966998491,
           -2.9366836102976093
          ],
          [
           -2.838349525279202,
           -2.726233080426001,
           -2.8222737559154836,
           -2.4857008456020866,
           null,
           -2.82648948208632,
           -2.476211658472666,
           -2.715059648720614,
           -2.846425889143047,
           -2.5203621985473252,
           -2.7243012129054516,
           -2.742306246985116,
           -2.840890019131271,
           -2.7537059548478817,
           -2.739483645985742,
           -3.2347535814133175,
           -3.0041197038012433
          ],
          [
           -2.848610680225495,
           -2.7633478602228982,
           -2.861550176205477,
           -2.5189607223864074,
           -2.7594822848260843,
           null,
           -2.537914955629029,
           -2.7478137777043647,
           -2.824773305410056,
           -2.5243649046974794,
           -2.772076932474613,
           -2.767920620860492,
           -2.8435499746200517,
           -2.746862294084466,
           -2.7647419048581545,
           -3.2638811808935446,
           -3.006200647937264
          ],
          [
           -2.7945975474406426,
           -2.672205624277428,
           -2.8055648996591964,
           -2.4192694036078586,
           -2.679833667465062,
           -2.790561112025961,
           null,
           -2.6976131427529637,
           -2.787996442364042,
           -2.4333433568378586,
           -2.6934248345409646,
           -2.689664582821246,
           -2.811017294196133,
           -2.6852397758964472,
           -2.665421900124522,
           -3.142477136686657,
           -2.945049031507515
          ],
          [
           -2.8527441484476204,
           -2.720312330187536,
           -2.8593186440541323,
           -2.4965141594896365,
           -2.73222070979967,
           -2.836172110176852,
           -2.5012113128768787,
           null,
           -2.8362701708791134,
           -2.5151507713784094,
           -2.7149571145777065,
           -2.71873632350183,
           -2.841471953687869,
           -2.7266619192590054,
           -2.7151816772719215,
           -3.2367913431774546,
           -2.990001772362981
          ],
          [
           -2.854049946191234,
           -2.7534789384444025,
           -2.8499774195833054,
           -2.517077975365861,
           -2.737490131068005,
           -2.853228773987639,
           -2.5350490674750676,
           -2.7629753227906853,
           null,
           -2.4978144834788654,
           -2.7639867117242987,
           -2.738939346759615,
           -2.856158975272222,
           -2.7364414423899426,
           -2.7543894975646266,
           -3.2653910855796293,
           -3.012757078980578
          ],
          [
           -2.7945773841275368,
           -2.710017958546196,
           -2.804236725987993,
           -2.4222160053990853,
           -2.6959802561360102,
           -2.7835828346946787,
           -2.4050714091801533,
           -2.706208423646955,
           -2.7928610469325696,
           null,
           -2.7065209440393088,
           -2.682494770419618,
           -2.8200673512399974,
           -2.677039779851422,
           -2.7090154729404157,
           -3.149138864063171,
           -2.9176048517444637
          ],
          [
           -2.838016532079381,
           -2.717282414331235,
           -2.8372934303265755,
           -2.492715648951941,
           -2.753655862859868,
           -2.852506520284063,
           -2.4822052322300467,
           -2.710654813825686,
           -2.8469891318429172,
           -2.4940913066284485,
           null,
           -2.7055503826655363,
           -2.837333128802843,
           -2.7122439864704684,
           -2.753149418287607,
           -3.2366751461774594,
           -2.9857239305725702
          ],
          [
           -2.841436577644957,
           -2.741197314512788,
           -2.8350086891014312,
           -2.5018797479162367,
           -2.7032368315174287,
           -2.8576168797407124,
           -2.5015080185430247,
           -2.7319167974208143,
           -2.866335087012379,
           -2.50599924665408,
           -2.7159763437912665,
           null,
           -2.8427741317658617,
           -2.7494958052689555,
           -2.7188830490325513,
           -3.2382536761355643,
           -2.989299907969369
          ],
          [
           -2.8574904999541713,
           -2.757874828121548,
           -2.836801602405946,
           -2.5145947926412124,
           -2.776514985995462,
           -2.8582888395432473,
           -2.5100568665760847,
           -2.7727799067214463,
           -2.847354870392868,
           -2.539932652546568,
           -2.7670191506382733,
           -2.7676537467638225,
           null,
           -2.768673253337806,
           -2.7621329590330648,
           -3.267328367615393,
           -3.018371082714945
          ],
          [
           -2.831625897800422,
           -2.743224193225815,
           -2.8253331810086357,
           -2.496564090264143,
           -2.7269613124593968,
           -2.84291883650624,
           -2.4755802877330217,
           -2.704577990630079,
           -2.839717997400511,
           -2.475167000083609,
           -2.7226632215846203,
           -2.7119516225256906,
           -2.8185491026905214,
           null,
           -2.719689163512609,
           -3.2348944898536733,
           -2.9934528032433056
          ],
          [
           -2.8514682300735994,
           -2.7448640037565926,
           -2.8427515678052133,
           -2.4966078081967917,
           -2.74235577309305,
           -2.8342725198140037,
           -2.4988083593057078,
           -2.7103880938991805,
           -2.8291400972749035,
           -2.503298547080734,
           -2.7360807575585264,
           -2.7330988575522306,
           -2.8441296601993993,
           -2.705682424581142,
           null,
           -3.2378874342952315,
           -2.9841915614481604
          ],
          [
           -2.962494039911259,
           -2.8423406582790576,
           -2.954507314221811,
           -2.5644603072164207,
           -2.8353951693433355,
           -2.964845090449149,
           -2.5556375683646704,
           -2.8386317940804386,
           -2.963308972093713,
           -2.560999283191517,
           -2.8333860962443933,
           -2.8308654658430337,
           -2.952742366845893,
           -2.8359384903778384,
           -2.8236707391222384,
           null,
           -3.095328214131093
          ],
          [
           -2.9080143017269084,
           -2.793943662230012,
           -2.8998820636227056,
           -2.527864651448688,
           -2.7838094308865386,
           -2.914045622553132,
           -2.52481682222563,
           -2.8084470135948747,
           -2.8951426735246373,
           -2.523727571881367,
           -2.799631799115948,
           -2.82328182590169,
           -2.9013001563461964,
           -2.7973275588650637,
           -2.8090540626581615,
           -3.2986171609264896,
           null
          ]
         ]
        }
       ],
       "layout": {
        "dragmode": false,
        "height": 600,
        "modebar": {
         "remove": [
          "zoomIn2d",
          "zoomOut2d",
          "autoScale2d",
          "resetScale2d",
          "hoverClosestCartesian",
          "hoverCompareCartesian",
          "toggleSpikelines"
         ]
        },
        "template": {
         "data": {
          "bar": [
           {
            "error_x": {
             "color": "#2a3f5f"
            },
            "error_y": {
             "color": "#2a3f5f"
            },
            "marker": {
             "line": {
              "color": "#E5ECF6",
              "width": 0.5
             },
             "pattern": {
              "fillmode": "overlay",
              "size": 10,
              "solidity": 0.2
             }
            },
            "type": "bar"
           }
          ],
          "barpolar": [
           {
            "marker": {
             "line": {
              "color": "#E5ECF6",
              "width": 0.5
             },
             "pattern": {
              "fillmode": "overlay",
              "size": 10,
              "solidity": 0.2
             }
            },
            "type": "barpolar"
           }
          ],
          "carpet": [
           {
            "aaxis": {
             "endlinecolor": "#2a3f5f",
             "gridcolor": "white",
             "linecolor": "white",
             "minorgridcolor": "white",
             "startlinecolor": "#2a3f5f"
            },
            "baxis": {
             "endlinecolor": "#2a3f5f",
             "gridcolor": "white",
             "linecolor": "white",
             "minorgridcolor": "white",
             "startlinecolor": "#2a3f5f"
            },
            "type": "carpet"
           }
          ],
          "choropleth": [
           {
            "colorbar": {
             "outlinewidth": 0,
             "ticks": ""
            },
            "type": "choropleth"
           }
          ],
          "contour": [
           {
            "colorbar": {
             "outlinewidth": 0,
             "ticks": ""
            },
            "colorscale": [
             [
              0,
              "#0d0887"
             ],
             [
              0.1111111111111111,
              "#46039f"
             ],
             [
              0.2222222222222222,
              "#7201a8"
             ],
             [
              0.3333333333333333,
              "#9c179e"
             ],
             [
              0.4444444444444444,
              "#bd3786"
             ],
             [
              0.5555555555555556,
              "#d8576b"
             ],
             [
              0.6666666666666666,
              "#ed7953"
             ],
             [
              0.7777777777777778,
              "#fb9f3a"
             ],
             [
              0.8888888888888888,
              "#fdca26"
             ],
             [
              1,
              "#f0f921"
             ]
            ],
            "type": "contour"
           }
          ],
          "contourcarpet": [
           {
            "colorbar": {
             "outlinewidth": 0,
             "ticks": ""
            },
            "type": "contourcarpet"
           }
          ],
          "heatmap": [
           {
            "colorbar": {
             "outlinewidth": 0,
             "ticks": ""
            },
            "colorscale": [
             [
              0,
              "#0d0887"
             ],
             [
              0.1111111111111111,
              "#46039f"
             ],
             [
              0.2222222222222222,
              "#7201a8"
             ],
             [
              0.3333333333333333,
              "#9c179e"
             ],
             [
              0.4444444444444444,
              "#bd3786"
             ],
             [
              0.5555555555555556,
              "#d8576b"
             ],
             [
              0.6666666666666666,
              "#ed7953"
             ],
             [
              0.7777777777777778,
              "#fb9f3a"
             ],
             [
              0.8888888888888888,
              "#fdca26"
             ],
             [
              1,
              "#f0f921"
             ]
            ],
            "type": "heatmap"
           }
          ],
          "heatmapgl": [
           {
            "colorbar": {
             "outlinewidth": 0,
             "ticks": ""
            },
            "colorscale": [
             [
              0,
              "#0d0887"
             ],
             [
              0.1111111111111111,
              "#46039f"
             ],
             [
              0.2222222222222222,
              "#7201a8"
             ],
             [
              0.3333333333333333,
              "#9c179e"
             ],
             [
              0.4444444444444444,
              "#bd3786"
             ],
             [
              0.5555555555555556,
              "#d8576b"
             ],
             [
              0.6666666666666666,
              "#ed7953"
             ],
             [
              0.7777777777777778,
              "#fb9f3a"
             ],
             [
              0.8888888888888888,
              "#fdca26"
             ],
             [
              1,
              "#f0f921"
             ]
            ],
            "type": "heatmapgl"
           }
          ],
          "histogram": [
           {
            "marker": {
             "pattern": {
              "fillmode": "overlay",
              "size": 10,
              "solidity": 0.2
             }
            },
            "type": "histogram"
           }
          ],
          "histogram2d": [
           {
            "colorbar": {
             "outlinewidth": 0,
             "ticks": ""
            },
            "colorscale": [
             [
              0,
              "#0d0887"
             ],
             [
              0.1111111111111111,
              "#46039f"
             ],
             [
              0.2222222222222222,
              "#7201a8"
             ],
             [
              0.3333333333333333,
              "#9c179e"
             ],
             [
              0.4444444444444444,
              "#bd3786"
             ],
             [
              0.5555555555555556,
              "#d8576b"
             ],
             [
              0.6666666666666666,
              "#ed7953"
             ],
             [
              0.7777777777777778,
              "#fb9f3a"
             ],
             [
              0.8888888888888888,
              "#fdca26"
             ],
             [
              1,
              "#f0f921"
             ]
            ],
            "type": "histogram2d"
           }
          ],
          "histogram2dcontour": [
           {
            "colorbar": {
             "outlinewidth": 0,
             "ticks": ""
            },
            "colorscale": [
             [
              0,
              "#0d0887"
             ],
             [
              0.1111111111111111,
              "#46039f"
             ],
             [
              0.2222222222222222,
              "#7201a8"
             ],
             [
              0.3333333333333333,
              "#9c179e"
             ],
             [
              0.4444444444444444,
              "#bd3786"
             ],
             [
              0.5555555555555556,
              "#d8576b"
             ],
             [
              0.6666666666666666,
              "#ed7953"
             ],
             [
              0.7777777777777778,
              "#fb9f3a"
             ],
             [
              0.8888888888888888,
              "#fdca26"
             ],
             [
              1,
              "#f0f921"
             ]
            ],
            "type": "histogram2dcontour"
           }
          ],
          "mesh3d": [
           {
            "colorbar": {
             "outlinewidth": 0,
             "ticks": ""
            },
            "type": "mesh3d"
           }
          ],
          "parcoords": [
           {
            "line": {
             "colorbar": {
              "outlinewidth": 0,
              "ticks": ""
             }
            },
            "type": "parcoords"
           }
          ],
          "pie": [
           {
            "automargin": true,
            "type": "pie"
           }
          ],
          "scatter": [
           {
            "fillpattern": {
             "fillmode": "overlay",
             "size": 10,
             "solidity": 0.2
            },
            "type": "scatter"
           }
          ],
          "scatter3d": [
           {
            "line": {
             "colorbar": {
              "outlinewidth": 0,
              "ticks": ""
             }
            },
            "marker": {
             "colorbar": {
              "outlinewidth": 0,
              "ticks": ""
             }
            },
            "type": "scatter3d"
           }
          ],
          "scattercarpet": [
           {
            "marker": {
             "colorbar": {
              "outlinewidth": 0,
              "ticks": ""
             }
            },
            "type": "scattercarpet"
           }
          ],
          "scattergeo": [
           {
            "marker": {
             "colorbar": {
              "outlinewidth": 0,
              "ticks": ""
             }
            },
            "type": "scattergeo"
           }
          ],
          "scattergl": [
           {
            "marker": {
             "colorbar": {
              "outlinewidth": 0,
              "ticks": ""
             }
            },
            "type": "scattergl"
           }
          ],
          "scattermapbox": [
           {
            "marker": {
             "colorbar": {
              "outlinewidth": 0,
              "ticks": ""
             }
            },
            "type": "scattermapbox"
           }
          ],
          "scatterpolar": [
           {
            "marker": {
             "colorbar": {
              "outlinewidth": 0,
              "ticks": ""
             }
            },
            "type": "scatterpolar"
           }
          ],
          "scatterpolargl": [
           {
            "marker": {
             "colorbar": {
              "outlinewidth": 0,
              "ticks": ""
             }
            },
            "type": "scatterpolargl"
           }
          ],
          "scatterternary": [
           {
            "marker": {
             "colorbar": {
              "outlinewidth": 0,
              "ticks": ""
             }
            },
            "type": "scatterternary"
           }
          ],
          "surface": [
           {
            "colorbar": {
             "outlinewidth": 0,
             "ticks": ""
            },
            "colorscale": [
             [
              0,
              "#0d0887"
             ],
             [
              0.1111111111111111,
              "#46039f"
             ],
             [
              0.2222222222222222,
              "#7201a8"
             ],
             [
              0.3333333333333333,
              "#9c179e"
             ],
             [
              0.4444444444444444,
              "#bd3786"
             ],
             [
              0.5555555555555556,
              "#d8576b"
             ],
             [
              0.6666666666666666,
              "#ed7953"
             ],
             [
              0.7777777777777778,
              "#fb9f3a"
             ],
             [
              0.8888888888888888,
              "#fdca26"
             ],
             [
              1,
              "#f0f921"
             ]
            ],
            "type": "surface"
           }
          ],
          "table": [
           {
            "cells": {
             "fill": {
              "color": "#EBF0F8"
             },
             "line": {
              "color": "white"
             }
            },
            "header": {
             "fill": {
              "color": "#C8D4E3"
             },
             "line": {
              "color": "white"
             }
            },
            "type": "table"
           }
          ]
         },
         "layout": {
          "annotationdefaults": {
           "arrowcolor": "#2a3f5f",
           "arrowhead": 0,
           "arrowwidth": 1
          },
          "autotypenumbers": "strict",
          "coloraxis": {
           "colorbar": {
            "outlinewidth": 0,
            "ticks": ""
           }
          },
          "colorscale": {
           "diverging": [
            [
             0,
             "#8e0152"
            ],
            [
             0.1,
             "#c51b7d"
            ],
            [
             0.2,
             "#de77ae"
            ],
            [
             0.3,
             "#f1b6da"
            ],
            [
             0.4,
             "#fde0ef"
            ],
            [
             0.5,
             "#f7f7f7"
            ],
            [
             0.6,
             "#e6f5d0"
            ],
            [
             0.7,
             "#b8e186"
            ],
            [
             0.8,
             "#7fbc41"
            ],
            [
             0.9,
             "#4d9221"
            ],
            [
             1,
             "#276419"
            ]
           ],
           "sequential": [
            [
             0,
             "#0d0887"
            ],
            [
             0.1111111111111111,
             "#46039f"
            ],
            [
             0.2222222222222222,
             "#7201a8"
            ],
            [
             0.3333333333333333,
             "#9c179e"
            ],
            [
             0.4444444444444444,
             "#bd3786"
            ],
            [
             0.5555555555555556,
             "#d8576b"
            ],
            [
             0.6666666666666666,
             "#ed7953"
            ],
            [
             0.7777777777777778,
             "#fb9f3a"
            ],
            [
             0.8888888888888888,
             "#fdca26"
            ],
            [
             1,
             "#f0f921"
            ]
           ],
           "sequentialminus": [
            [
             0,
             "#0d0887"
            ],
            [
             0.1111111111111111,
             "#46039f"
            ],
            [
             0.2222222222222222,
             "#7201a8"
            ],
            [
             0.3333333333333333,
             "#9c179e"
            ],
            [
             0.4444444444444444,
             "#bd3786"
            ],
            [
             0.5555555555555556,
             "#d8576b"
            ],
            [
             0.6666666666666666,
             "#ed7953"
            ],
            [
             0.7777777777777778,
             "#fb9f3a"
            ],
            [
             0.8888888888888888,
             "#fdca26"
            ],
            [
             1,
             "#f0f921"
            ]
           ]
          },
          "colorway": [
           "#636efa",
           "#EF553B",
           "#00cc96",
           "#ab63fa",
           "#FFA15A",
           "#19d3f3",
           "#FF6692",
           "#B6E880",
           "#FF97FF",
           "#FECB52"
          ],
          "font": {
           "color": "#2a3f5f"
          },
          "geo": {
           "bgcolor": "white",
           "lakecolor": "white",
           "landcolor": "#E5ECF6",
           "showlakes": true,
           "showland": true,
           "subunitcolor": "white"
          },
          "hoverlabel": {
           "align": "left"
          },
          "hovermode": "closest",
          "mapbox": {
           "style": "light"
          },
          "paper_bgcolor": "white",
          "plot_bgcolor": "#E5ECF6",
          "polar": {
           "angularaxis": {
            "gridcolor": "white",
            "linecolor": "white",
            "ticks": ""
           },
           "bgcolor": "#E5ECF6",
           "radialaxis": {
            "gridcolor": "white",
            "linecolor": "white",
            "ticks": ""
           }
          },
          "scene": {
           "xaxis": {
            "backgroundcolor": "#E5ECF6",
            "gridcolor": "white",
            "gridwidth": 2,
            "linecolor": "white",
            "showbackground": true,
            "ticks": "",
            "zerolinecolor": "white"
           },
           "yaxis": {
            "backgroundcolor": "#E5ECF6",
            "gridcolor": "white",
            "gridwidth": 2,
            "linecolor": "white",
            "showbackground": true,
            "ticks": "",
            "zerolinecolor": "white"
           },
           "zaxis": {
            "backgroundcolor": "#E5ECF6",
            "gridcolor": "white",
            "gridwidth": 2,
            "linecolor": "white",
            "showbackground": true,
            "ticks": "",
            "zerolinecolor": "white"
           }
          },
          "shapedefaults": {
           "line": {
            "color": "#2a3f5f"
           }
          },
          "ternary": {
           "aaxis": {
            "gridcolor": "white",
            "linecolor": "white",
            "ticks": ""
           },
           "baxis": {
            "gridcolor": "white",
            "linecolor": "white",
            "ticks": ""
           },
           "bgcolor": "#E5ECF6",
           "caxis": {
            "gridcolor": "white",
            "linecolor": "white",
            "ticks": ""
           }
          },
          "title": {
           "x": 0.05
          },
          "xaxis": {
           "automargin": true,
           "gridcolor": "white",
           "linecolor": "white",
           "ticks": "",
           "title": {
            "standoff": 15
           },
           "zerolinecolor": "white",
           "zerolinewidth": 2
          },
          "yaxis": {
           "automargin": true,
           "gridcolor": "white",
           "linecolor": "white",
           "ticks": "",
           "title": {
            "standoff": 15
           },
           "zerolinecolor": "white",
           "zerolinewidth": 2
          }
         }
        },
        "title": {
         "text": "Example Validation MSE (log)"
        },
        "width": 800,
        "xaxis": {
         "fixedrange": true,
         "nticks": 17
        },
        "yaxis": {
         "fixedrange": true,
         "nticks": 17
        }
       }
      }
     },
     "metadata": {},
     "output_type": "display_data"
    }
   ],
   "source": [
    "labels = sorted(meta[\"model2idx\"], key=lambda k: meta[\"model2idx\"][k])\n",
    "matrix = example_validation_mse\n",
    "heatmap(\n",
    "    matrix,\n",
    "    log=True,\n",
    "    title=\"Example Validation MSE (log)\",\n",
    "    labels=labels,\n",
    ")"
   ]
  }
 ],
 "metadata": {
  "kernelspec": {
   "display_name": ".venv",
   "language": "python",
   "name": "python3"
  },
  "language_info": {
   "codemirror_mode": {
    "name": "ipython",
    "version": 3
   },
   "file_extension": ".py",
   "mimetype": "text/x-python",
   "name": "python",
   "nbconvert_exporter": "python",
   "pygments_lexer": "ipython3",
   "version": "3.12.8"
  }
 },
 "nbformat": 4,
 "nbformat_minor": 2
}
