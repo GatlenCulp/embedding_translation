{
 "cells": [
  {
   "cell_type": "markdown",
   "metadata": {},
   "source": [
    "# Complexity vs MSE and Rank Graphs\n"
   ]
  },
  {
   "cell_type": "markdown",
   "metadata": {},
   "source": [
    "## Setup\n"
   ]
  },
  {
   "cell_type": "code",
   "execution_count": 1,
   "metadata": {},
   "outputs": [
    {
     "name": "stdout",
     "output_type": "stream",
     "text": [
      "Requirement already satisfied: safetensors in /Users/gat/work/FA2024/embedding_translation/.venv/lib/python3.12/site-packages (0.4.5)\n",
      "Note: you may need to restart the kernel to use updated packages.\n"
     ]
    }
   ],
   "source": [
    "# Installs\n",
    "%pip install safetensors"
   ]
  },
  {
   "cell_type": "code",
   "execution_count": 43,
   "metadata": {},
   "outputs": [],
   "source": [
    "# Imports\n",
    "from safetensors.numpy import load_file\n",
    "from pathlib import Path\n",
    "from loguru import logger\n",
    "import orjson\n",
    "from rich import pretty\n",
    "import plotly.graph_objects as go\n",
    "import plotly.io as pio\n",
    "import plotly\n",
    "from faker import Faker\n",
    "from typing import Literal\n",
    "import polars as pl\n",
    "\n",
    "# from IPython.display import display\n",
    "import numpy as np\n",
    "\n",
    "np.set_printoptions(\n",
    "    precision=3,\n",
    "    suppress=True,\n",
    "    threshold=5,\n",
    ")\n",
    "rng = np.random.default_rng(0)\n",
    "faker = Faker()"
   ]
  },
  {
   "cell_type": "code",
   "execution_count": 3,
   "metadata": {},
   "outputs": [
    {
     "name": "stderr",
     "output_type": "stream",
     "text": [
      "\u001b[32m2024-12-13 16:04:12.847\u001b[0m | \u001b[1mINFO    \u001b[0m | \u001b[36m__main__\u001b[0m:\u001b[36m<cell line: 0>\u001b[0m:\u001b[36m3\u001b[0m - \u001b[1m/Users/gat/work/FA2024/embedding_translation\u001b[0m\n",
      "\u001b[32m2024-12-13 16:04:12.848\u001b[0m | \u001b[1mINFO    \u001b[0m | \u001b[36m__main__\u001b[0m:\u001b[36m<cell line: 0>\u001b[0m:\u001b[36m5\u001b[0m - \u001b[1m/Users/gat/work/FA2024/embedding_translation/data\u001b[0m\n"
     ]
    }
   ],
   "source": [
    "# Directories\n",
    "PROJ_ROOT = Path.cwd().resolve().parent\n",
    "logger.info(PROJ_ROOT)\n",
    "DATA_DIR = PROJ_ROOT / \"data\"\n",
    "logger.info(DATA_DIR)\n",
    "MLP_MSE_VALIDATION = DATA_DIR / \"mlp_mse_validation\"\n",
    "MLP_MSE_VALIDATION_TENSORS = MLP_MSE_VALIDATION / \"validation_mses.safetensors\"\n",
    "MLP_MSE_VALIDATION_META = MLP_MSE_VALIDATION / \"validation_mses.json\""
   ]
  },
  {
   "cell_type": "markdown",
   "metadata": {},
   "source": [
    "## Helper Viz\n"
   ]
  },
  {
   "cell_type": "code",
   "execution_count": 40,
   "metadata": {},
   "outputs": [
    {
     "data": {
      "text/plain": [
       "Heatmap({\n",
       "    'colorscale': [[0.0, '#440154'], [0.1111111111111111, '#482878'],\n",
       "                   [0.2222222222222222, '#3e4989'], [0.3333333333333333,\n",
       "                   '#31688e'], [0.4444444444444444, '#26828e'],\n",
       "                   [0.5555555555555556, '#1f9e89'], [0.6666666666666666,\n",
       "                   '#35b779'], [0.7777777777777778, '#6ece58'],\n",
       "                   [0.8888888888888888, '#b5de2b'], [1.0, '#fde725']],\n",
       "    'reversescale': False,\n",
       "    'showlegend': True,\n",
       "    'showscale': True,\n",
       "    'textfont': {'color': 'black'}\n",
       "})"
      ]
     },
     "execution_count": 40,
     "metadata": {},
     "output_type": "execute_result"
    }
   ],
   "source": [
    "# General Viz Config\n",
    "heatmap_modebar = go.layout.Modebar(\n",
    "    remove=[\n",
    "        \"zoomIn2d\",\n",
    "        \"zoomOut2d\",\n",
    "        \"autoScale2d\",\n",
    "        \"resetScale2d\",\n",
    "        \"hoverClosestCartesian\",\n",
    "        \"hoverCompareCartesian\",\n",
    "        \"toggleSpikelines\",\n",
    "    ]\n",
    ")\n",
    "heatmap_layout = go.Layout(\n",
    "    modebar=heatmap_modebar,\n",
    "    dragmode=False,\n",
    ")\n",
    "\n",
    "heatmap_trace_config = go.Heatmap(\n",
    "    colorscale=\"Viridis\",\n",
    "    textfont={\"color\": \"black\"},\n",
    "    reversescale=False,\n",
    "    showscale=True,\n",
    "    showlegend=True,\n",
    ")\n",
    "\n",
    "pio.templates = []"
   ]
  },
  {
   "cell_type": "code",
   "execution_count": 35,
   "metadata": {},
   "outputs": [
    {
     "name": "stderr",
     "output_type": "stream",
     "text": [
      "\u001b[32m2024-12-13 16:58:27.668\u001b[0m | \u001b[1mINFO    \u001b[0m | \u001b[36m__main__\u001b[0m:\u001b[36mheatmap\u001b[0m:\u001b[36m41\u001b[0m - \u001b[1m['Paula Thompson', 'Scott Brown', 'Laura Petersen', 'Lisa Conrad', 'Matthew Bell', 'Allen Kane', 'Robert Morgan', 'John Horton', 'Michael Montoya', 'Angel Shaffer']\u001b[0m\n",
      "\u001b[32m2024-12-13 16:58:27.669\u001b[0m | \u001b[1mINFO    \u001b[0m | \u001b[36m__main__\u001b[0m:\u001b[36mheatmap\u001b[0m:\u001b[36m44\u001b[0m - \u001b[1mCreating heatmap visualization...\u001b[0m\n"
     ]
    },
    {
     "ename": "ValueError",
     "evalue": "dictionary update sequence element #0 has length 17; 2 is required",
     "output_type": "error",
     "traceback": [
      "\u001b[0;31m---------------------------------------------------------------------------\u001b[0m",
      "\u001b[0;31mValueError\u001b[0m                                Traceback (most recent call last)",
      "\u001b[0;32m/var/folders/6f/f4k9qbkd5nqfywwdhvwdtl5m0000gn/T/ipykernel_30586/3140678888.py\u001b[0m in \u001b[0;36m<cell line: 0>\u001b[0;34m()\u001b[0m\n\u001b[1;32m     95\u001b[0m \u001b[0;34m\u001b[0m\u001b[0m\n\u001b[1;32m     96\u001b[0m \u001b[0;34m\u001b[0m\u001b[0m\n\u001b[0;32m---> 97\u001b[0;31m \u001b[0mheatmap\u001b[0m\u001b[0;34m(\u001b[0m\u001b[0;34m)\u001b[0m\u001b[0;34m\u001b[0m\u001b[0;34m\u001b[0m\u001b[0m\n\u001b[0m",
      "\u001b[0;32m/var/folders/6f/f4k9qbkd5nqfywwdhvwdtl5m0000gn/T/ipykernel_30586/3140678888.py\u001b[0m in \u001b[0;36mheatmap\u001b[0;34m(matrix, labels, title, show_values, value_format, width, height, xaxis_title, yaxis_title, log, nan_diagnal)\u001b[0m\n\u001b[1;32m     61\u001b[0m     \u001b[0;31m# Create heatmap trace\u001b[0m\u001b[0;34m\u001b[0m\u001b[0;34m\u001b[0m\u001b[0m\n\u001b[1;32m     62\u001b[0m     heatmap_trace = go.Heatmap(\n\u001b[0;32m---> 63\u001b[0;31m         \u001b[0;34m**\u001b[0m\u001b[0mdict\u001b[0m\u001b[0;34m(\u001b[0m\u001b[0mheatmap_layout\u001b[0m\u001b[0;34m)\u001b[0m\u001b[0;34m,\u001b[0m\u001b[0;34m\u001b[0m\u001b[0;34m\u001b[0m\u001b[0m\n\u001b[0m\u001b[1;32m     64\u001b[0m         \u001b[0mz\u001b[0m\u001b[0;34m=\u001b[0m\u001b[0mmatrix\u001b[0m\u001b[0;34m,\u001b[0m\u001b[0;34m\u001b[0m\u001b[0;34m\u001b[0m\u001b[0m\n\u001b[1;32m     65\u001b[0m         \u001b[0mx\u001b[0m\u001b[0;34m=\u001b[0m\u001b[0mcol_labels\u001b[0m\u001b[0;34m,\u001b[0m\u001b[0;34m\u001b[0m\u001b[0;34m\u001b[0m\u001b[0m\n",
      "\u001b[0;31mValueError\u001b[0m: dictionary update sequence element #0 has length 17; 2 is required"
     ]
    }
   ],
   "source": [
    "def heatmap(\n",
    "    matrix: np.ndarray | None = None,\n",
    "    labels: list | None = None,\n",
    "    title: str = \"DEFAULT TITLE\",\n",
    "    show_values: bool = True,\n",
    "    value_format: Literal[\".2f\", \".2e\"] = \".2f\",\n",
    "    width: int = 800,\n",
    "    height: int = 600,\n",
    "    xaxis_title: str | None = None,\n",
    "    yaxis_title: str | None = None,\n",
    "    log: bool = False,\n",
    "    nan_diagnal: bool = False,\n",
    ") -> go.Figure:\n",
    "    \"\"\"Create a heatmap visualization using plotly.\n",
    "\n",
    "    Args:\n",
    "        matrix: Input matrix to visualize. If None, generates random demo data\n",
    "        labels: Labels for rows and columns. If None, generates fake names\n",
    "        title: Title of the heatmap\n",
    "        show_values: Whether to show values in cells\n",
    "        value_format: Format string for cell values\n",
    "        width: Width of the figure in pixels\n",
    "        height: Height of the figure in pixels\n",
    "        xaxis_title: Title for x-axis\n",
    "        yaxis_title: Title for y-axis\n",
    "        log: Whether to log10 transform the values\n",
    "        nan_diagnal: Whether to set diagonal to NaN\n",
    "\n",
    "    Returns:\n",
    "        go.Figure: Plotly figure object\n",
    "    \"\"\"\n",
    "    if matrix is None:\n",
    "        faker = Faker()\n",
    "        shape = (10, 10)\n",
    "        matrix = rng.random(shape)\n",
    "    else:\n",
    "        shape = matrix.shape\n",
    "\n",
    "    if labels is None:\n",
    "        labels = [faker.name() for _ in range(shape[0])]\n",
    "        logger.info(labels)\n",
    "    col_labels = labels\n",
    "    row_labels = labels\n",
    "    logger.info(\"Creating heatmap visualization...\")\n",
    "\n",
    "    # Convert input to numpy array and handle None values\n",
    "    matrix = np.array(matrix, dtype=object)\n",
    "    none_mask = matrix is None\n",
    "    matrix = matrix.astype(float)\n",
    "    if log:\n",
    "        matrix = np.log10(matrix)\n",
    "    matrix[none_mask] = np.nan\n",
    "    if nan_diagnal:\n",
    "        matrix[np.identity(matrix.shape[0], dtype=bool)] = np.nan\n",
    "\n",
    "    # Format cell values if needed\n",
    "    text_vals = None\n",
    "    if show_values:\n",
    "        text_vals = np.vectorize(lambda x: \"N/A\" if np.isnan(x) else f\"{x:{value_format}}\")(matrix)\n",
    "\n",
    "    # Create heatmap trace\n",
    "    heatmap_trace = heatmap_trace_config.copy\n",
    "    heatmap_trace = go.Heatmap(\n",
    "        **dict(heatmap_layout),\n",
    "        z=matrix,\n",
    "        x=col_labels,\n",
    "        y=row_labels,\n",
    "        text=text_vals,\n",
    "        texttemplate=\"%{text}\" if show_values else None,\n",
    "    )\n",
    "\n",
    "    # Create figure\n",
    "    fig = go.Figure(\n",
    "        data=[heatmap_trace],\n",
    "    )\n",
    "    fig.layout.update_polars\n",
    "\n",
    "    # Update layout using plotly objects\n",
    "    fig.update_layout(\n",
    "        title=title,\n",
    "    )\n",
    "\n",
    "    # Update axes\n",
    "    fig.update_xaxes(\n",
    "        title=xaxis_title,\n",
    "        nticks=len(col_labels) if col_labels else None,\n",
    "        fixedrange=True,  # Disable zoom/pan\n",
    "    )\n",
    "\n",
    "    fig.update_yaxes(\n",
    "        title=yaxis_title,\n",
    "        nticks=len(row_labels) if row_labels else None,\n",
    "        fixedrange=True,  # Disable zoom/pan\n",
    "    )\n",
    "\n",
    "    return fig\n",
    "\n",
    "\n",
    "heatmap()"
   ]
  },
  {
   "cell_type": "code",
   "execution_count": 5,
   "metadata": {},
   "outputs": [
    {
     "data": {
      "application/vnd.plotly.v1+json": {
       "config": {
        "plotlyServerURL": "https://plot.ly"
       },
       "data": [
        {
         "colorscale": [
          [
           0,
           "#440154"
          ],
          [
           0.1111111111111111,
           "#482878"
          ],
          [
           0.2222222222222222,
           "#3e4989"
          ],
          [
           0.3333333333333333,
           "#31688e"
          ],
          [
           0.4444444444444444,
           "#26828e"
          ],
          [
           0.5555555555555556,
           "#1f9e89"
          ],
          [
           0.6666666666666666,
           "#35b779"
          ],
          [
           0.7777777777777778,
           "#6ece58"
          ],
          [
           0.8888888888888888,
           "#b5de2b"
          ],
          [
           1,
           "#fde725"
          ]
         ],
         "reversescale": false,
         "showscale": true,
         "text": [
          [
           "0.48",
           "0.23",
           "0.80",
           "0.92",
           "0.27",
           "0.54",
           "0.44",
           "0.93",
           "0.04",
           "0.73"
          ],
          [
           "0.61",
           "0.03",
           "0.72",
           "0.02",
           "0.76",
           "0.51",
           "0.93",
           "0.07",
           "0.84",
           "0.07"
          ],
          [
           "0.34",
           "0.43",
           "0.97",
           "0.56",
           "0.26",
           "0.24",
           "0.89",
           "0.23",
           "0.12",
           "0.29"
          ],
          [
           "0.59",
           "0.55",
           "0.81",
           "0.56",
           "0.29",
           "0.41",
           "0.82",
           "0.63",
           "0.96",
           "0.37"
          ],
          [
           "0.55",
           "0.59",
           "0.85",
           "0.15",
           "0.41",
           "0.91",
           "0.04",
           "0.82",
           "0.42",
           "0.83"
          ],
          [
           "0.01",
           "0.37",
           "0.08",
           "0.65",
           "0.27",
           "0.70",
           "0.94",
           "0.13",
           "0.86",
           "0.06"
          ],
          [
           "0.38",
           "0.43",
           "0.49",
           "0.98",
           "0.78",
           "0.31",
           "0.27",
           "0.86",
           "0.88",
           "0.51"
          ],
          [
           "0.34",
           "0.99",
           "0.32",
           "0.18",
           "0.88",
           "0.81",
           "0.67",
           "0.96",
           "0.93",
           "0.75"
          ],
          [
           "0.86",
           "0.25",
           "0.14",
           "0.67",
           "0.71",
           "0.17",
           "0.40",
           "0.91",
           "0.56",
           "0.58"
          ],
          [
           "0.19",
           "0.53",
           "0.52",
           "0.09",
           "0.98",
           "0.57",
           "0.01",
           "0.77",
           "0.98",
           "0.59"
          ]
         ],
         "textfont": {
          "color": "black"
         },
         "texttemplate": "%{text}",
         "type": "heatmap",
         "x": [
          "Erica Swanson",
          "Bruce Nicholson",
          "Oscar Morgan",
          "Jasmine Lowe",
          "Kathryn Steele",
          "Manuel Fields",
          "Kristen Welch",
          "Renee Lee",
          "David Garcia DDS",
          "Anthony Randolph"
         ],
         "y": [
          "Erica Swanson",
          "Bruce Nicholson",
          "Oscar Morgan",
          "Jasmine Lowe",
          "Kathryn Steele",
          "Manuel Fields",
          "Kristen Welch",
          "Renee Lee",
          "David Garcia DDS",
          "Anthony Randolph"
         ],
         "z": [
          [
           0.4799879238078322,
           0.23237291963930384,
           0.8018805787183079,
           0.9235301597834695,
           0.2661302722922926,
           0.5389344076221869,
           0.4427528289745315,
           0.931017315981155,
           0.040510711188434634,
           0.7320061956565608
          ],
          [
           0.6143732469489966,
           0.028365365113521057,
           0.7192197728267403,
           0.015991729523571974,
           0.7579510023564281,
           0.512758723262078,
           0.9291042207970062,
           0.06608249672407474,
           0.8413172796123832,
           0.0666900087671014
          ],
          [
           0.34430997880412517,
           0.4302987319478333,
           0.9660620807840702,
           0.562231842228457,
           0.25886459317093224,
           0.24167571409434496,
           0.8881183206591798,
           0.22586942841732438,
           0.1245547058352835,
           0.2883307570075776
          ],
          [
           0.5861230648127328,
           0.5540905021732678,
           0.8097107759127777,
           0.5604759520061858,
           0.2884212144312105,
           0.4128963426808927,
           0.8181209709709104,
           0.6265064624197535,
           0.9590776426974422,
           0.3694044110916809
          ],
          [
           0.5526115105212872,
           0.5939242016131683,
           0.84829120827506,
           0.14547353818653175,
           0.40651033674812664,
           0.909958961662297,
           0.043066888568204176,
           0.8227062801815019,
           0.41538403737122465,
           0.8298039852781027
          ],
          [
           0.009954560807291957,
           0.36504615775827065,
           0.07863003716563988,
           0.6526145763366384,
           0.2738490985995572,
           0.7026520706597863,
           0.9438014269420908,
           0.12681710226124776,
           0.8647782954007741,
           0.059464151600338466
          ],
          [
           0.38077050831088943,
           0.42977406117857664,
           0.48884954683346427,
           0.9764623219360445,
           0.7756911881018284,
           0.308857362719261,
           0.26983678550080015,
           0.8631202041893178,
           0.8813071727376899,
           0.5107065055436453
          ],
          [
           0.34429573096232524,
           0.9949173481609178,
           0.3159435453677002,
           0.18271237892656245,
           0.8800981213040697,
           0.812335398111254,
           0.6678894055713512,
           0.9584136317779519,
           0.9257145772144187,
           0.7482485033017541
          ],
          [
           0.8607014095476777,
           0.24714674032210748,
           0.1412465569010316,
           0.670061849314936,
           0.7146185366547527,
           0.16705292878227218,
           0.395557273104876,
           0.9102557662160548,
           0.561400767550223,
           0.5783359149262727
          ],
          [
           0.19412977289079358,
           0.5260222486178752,
           0.5234347273949199,
           0.08893564024627199,
           0.9819426931267062,
           0.5713956004557744,
           0.006408882664310167,
           0.7726492012253886,
           0.9782657138401457,
           0.5898700283209505
          ]
         ]
        }
       ],
       "frames": [
        {
         "data": [
          {
           "colorscale": [
            [
             0,
             "#440154"
            ],
            [
             0.1111111111111111,
             "#482878"
            ],
            [
             0.2222222222222222,
             "#3e4989"
            ],
            [
             0.3333333333333333,
             "#31688e"
            ],
            [
             0.4444444444444444,
             "#26828e"
            ],
            [
             0.5555555555555556,
             "#1f9e89"
            ],
            [
             0.6666666666666666,
             "#35b779"
            ],
            [
             0.7777777777777778,
             "#6ece58"
            ],
            [
             0.8888888888888888,
             "#b5de2b"
            ],
            [
             1,
             "#fde725"
            ]
           ],
           "reversescale": false,
           "showscale": true,
           "text": [
            [
             "0.48",
             "0.23",
             "0.80",
             "0.92",
             "0.27",
             "0.54",
             "0.44",
             "0.93",
             "0.04",
             "0.73"
            ],
            [
             "0.61",
             "0.03",
             "0.72",
             "0.02",
             "0.76",
             "0.51",
             "0.93",
             "0.07",
             "0.84",
             "0.07"
            ],
            [
             "0.34",
             "0.43",
             "0.97",
             "0.56",
             "0.26",
             "0.24",
             "0.89",
             "0.23",
             "0.12",
             "0.29"
            ],
            [
             "0.59",
             "0.55",
             "0.81",
             "0.56",
             "0.29",
             "0.41",
             "0.82",
             "0.63",
             "0.96",
             "0.37"
            ],
            [
             "0.55",
             "0.59",
             "0.85",
             "0.15",
             "0.41",
             "0.91",
             "0.04",
             "0.82",
             "0.42",
             "0.83"
            ],
            [
             "0.01",
             "0.37",
             "0.08",
             "0.65",
             "0.27",
             "0.70",
             "0.94",
             "0.13",
             "0.86",
             "0.06"
            ],
            [
             "0.38",
             "0.43",
             "0.49",
             "0.98",
             "0.78",
             "0.31",
             "0.27",
             "0.86",
             "0.88",
             "0.51"
            ],
            [
             "0.34",
             "0.99",
             "0.32",
             "0.18",
             "0.88",
             "0.81",
             "0.67",
             "0.96",
             "0.93",
             "0.75"
            ],
            [
             "0.86",
             "0.25",
             "0.14",
             "0.67",
             "0.71",
             "0.17",
             "0.40",
             "0.91",
             "0.56",
             "0.58"
            ],
            [
             "0.19",
             "0.53",
             "0.52",
             "0.09",
             "0.98",
             "0.57",
             "0.01",
             "0.77",
             "0.98",
             "0.59"
            ]
           ],
           "textfont": {
            "color": "black"
           },
           "texttemplate": "%{text}",
           "type": "heatmap",
           "x": [
            "Erica Swanson",
            "Bruce Nicholson",
            "Oscar Morgan",
            "Jasmine Lowe",
            "Kathryn Steele",
            "Manuel Fields",
            "Kristen Welch",
            "Renee Lee",
            "David Garcia DDS",
            "Anthony Randolph"
           ],
           "y": [
            "Erica Swanson",
            "Bruce Nicholson",
            "Oscar Morgan",
            "Jasmine Lowe",
            "Kathryn Steele",
            "Manuel Fields",
            "Kristen Welch",
            "Renee Lee",
            "David Garcia DDS",
            "Anthony Randolph"
           ],
           "z": [
            [
             0.4799879238078322,
             0.23237291963930384,
             0.8018805787183079,
             0.9235301597834695,
             0.2661302722922926,
             0.5389344076221869,
             0.4427528289745315,
             0.931017315981155,
             0.040510711188434634,
             0.7320061956565608
            ],
            [
             0.6143732469489966,
             0.028365365113521057,
             0.7192197728267403,
             0.015991729523571974,
             0.7579510023564281,
             0.512758723262078,
             0.9291042207970062,
             0.06608249672407474,
             0.8413172796123832,
             0.0666900087671014
            ],
            [
             0.34430997880412517,
             0.4302987319478333,
             0.9660620807840702,
             0.562231842228457,
             0.25886459317093224,
             0.24167571409434496,
             0.8881183206591798,
             0.22586942841732438,
             0.1245547058352835,
             0.2883307570075776
            ],
            [
             0.5861230648127328,
             0.5540905021732678,
             0.8097107759127777,
             0.5604759520061858,
             0.2884212144312105,
             0.4128963426808927,
             0.8181209709709104,
             0.6265064624197535,
             0.9590776426974422,
             0.3694044110916809
            ],
            [
             0.5526115105212872,
             0.5939242016131683,
             0.84829120827506,
             0.14547353818653175,
             0.40651033674812664,
             0.909958961662297,
             0.043066888568204176,
             0.8227062801815019,
             0.41538403737122465,
             0.8298039852781027
            ],
            [
             0.009954560807291957,
             0.36504615775827065,
             0.07863003716563988,
             0.6526145763366384,
             0.2738490985995572,
             0.7026520706597863,
             0.9438014269420908,
             0.12681710226124776,
             0.8647782954007741,
             0.059464151600338466
            ],
            [
             0.38077050831088943,
             0.42977406117857664,
             0.48884954683346427,
             0.9764623219360445,
             0.7756911881018284,
             0.308857362719261,
             0.26983678550080015,
             0.8631202041893178,
             0.8813071727376899,
             0.5107065055436453
            ],
            [
             0.34429573096232524,
             0.9949173481609178,
             0.3159435453677002,
             0.18271237892656245,
             0.8800981213040697,
             0.812335398111254,
             0.6678894055713512,
             0.9584136317779519,
             0.9257145772144187,
             0.7482485033017541
            ],
            [
             0.8607014095476777,
             0.24714674032210748,
             0.1412465569010316,
             0.670061849314936,
             0.7146185366547527,
             0.16705292878227218,
             0.395557273104876,
             0.9102557662160548,
             0.561400767550223,
             0.5783359149262727
            ],
            [
             0.19412977289079358,
             0.5260222486178752,
             0.5234347273949199,
             0.08893564024627199,
             0.9819426931267062,
             0.5713956004557744,
             0.006408882664310167,
             0.7726492012253886,
             0.9782657138401457,
             0.5898700283209505
            ]
           ]
          }
         ],
         "name": "frame_0"
        },
        {
         "data": [
          {
           "colorscale": [
            [
             0,
             "#440154"
            ],
            [
             0.1111111111111111,
             "#482878"
            ],
            [
             0.2222222222222222,
             "#3e4989"
            ],
            [
             0.3333333333333333,
             "#31688e"
            ],
            [
             0.4444444444444444,
             "#26828e"
            ],
            [
             0.5555555555555556,
             "#1f9e89"
            ],
            [
             0.6666666666666666,
             "#35b779"
            ],
            [
             0.7777777777777778,
             "#6ece58"
            ],
            [
             0.8888888888888888,
             "#b5de2b"
            ],
            [
             1,
             "#fde725"
            ]
           ],
           "reversescale": false,
           "showscale": true,
           "text": [
            [
             "0.32",
             "0.19",
             "0.67",
             "0.20",
             "0.58",
             "0.60",
             "0.96",
             "0.07",
             "0.50",
             "0.74"
            ],
            [
             "0.18",
             "0.39",
             "0.06",
             "0.73",
             "0.09",
             "0.40",
             "0.87",
             "0.47",
             "0.91",
             "0.77"
            ],
            [
             "0.92",
             "0.13",
             "0.07",
             "0.07",
             "0.87",
             "0.63",
             "0.50",
             "0.16",
             "0.67",
             "0.32"
            ],
            [
             "0.71",
             "0.46",
             "0.51",
             "0.79",
             "0.09",
             "0.58",
             "0.20",
             "0.81",
             "0.49",
             "0.99"
            ],
            [
             "0.18",
             "0.96",
             "0.80",
             "0.48",
             "0.81",
             "0.60",
             "0.66",
             "0.91",
             "0.07",
             "0.83"
            ],
            [
             "0.38",
             "0.33",
             "0.99",
             "0.78",
             "0.49",
             "0.42",
             "0.88",
             "0.09",
             "0.71",
             "0.79"
            ],
            [
             "0.80",
             "0.32",
             "0.80",
             "0.23",
             "0.36",
             "0.42",
             "0.54",
             "0.11",
             "0.41",
             "0.00"
            ],
            [
             "0.74",
             "0.85",
             "0.14",
             "0.70",
             "0.82",
             "0.98",
             "0.84",
             "0.42",
             "0.98",
             "0.97"
            ],
            [
             "0.50",
             "0.75",
             "0.91",
             "0.48",
             "0.86",
             "0.70",
             "0.29",
             "0.77",
             "0.57",
             "0.09"
            ],
            [
             "0.39",
             "0.07",
             "0.48",
             "0.43",
             "0.42",
             "0.59",
             "0.12",
             "0.93",
             "0.68",
             "0.82"
            ]
           ],
           "textfont": {
            "color": "black"
           },
           "texttemplate": "%{text}",
           "type": "heatmap",
           "x": [
            "Erica Swanson",
            "Bruce Nicholson",
            "Oscar Morgan",
            "Jasmine Lowe",
            "Kathryn Steele",
            "Manuel Fields",
            "Kristen Welch",
            "Renee Lee",
            "David Garcia DDS",
            "Anthony Randolph"
           ],
           "y": [
            "Erica Swanson",
            "Bruce Nicholson",
            "Oscar Morgan",
            "Jasmine Lowe",
            "Kathryn Steele",
            "Manuel Fields",
            "Kristen Welch",
            "Renee Lee",
            "David Garcia DDS",
            "Anthony Randolph"
           ],
           "z": [
            [
             0.319681636282665,
             0.1875077157277849,
             0.6725266339168693,
             0.19510739845680503,
             0.5776878925178592,
             0.6022391763796258,
             0.962423093124381,
             0.07226526552987678,
             0.4999728236586185,
             0.7440974792826482
            ],
            [
             0.1772267404746588,
             0.3880667317845192,
             0.06289549845497133,
             0.7258808637757768,
             0.08776788675948677,
             0.3950917083579676,
             0.8735226311207321,
             0.4723003367500115,
             0.9126219336408856,
             0.7659171177388724
            ],
            [
             0.9153239601117659,
             0.12740300904890633,
             0.07356290533063203,
             0.07032625356921807,
             0.8688542943473193,
             0.6340699793474432,
             0.496571693798853,
             0.16354341619648027,
             0.6737334377272737,
             0.318017387845798
            ],
            [
             0.7108798632659449,
             0.4603553288673248,
             0.5074698605445271,
             0.7896657324598704,
             0.09274547552338075,
             0.5787585033235025,
             0.19723494729586855,
             0.8081367518135681,
             0.4888460361292599,
             0.9886953333678197
            ],
            [
             0.18294332467571872,
             0.9630191401242673,
             0.800917036608609,
             0.4812604965752686,
             0.8135340641796355,
             0.6028489052411163,
             0.6551210639913803,
             0.9136907627073889,
             0.06527041641129139,
             0.8349882039584006
            ],
            [
             0.3818147799662388,
             0.3255456161007044,
             0.9940267712099843,
             0.7811905020763782,
             0.48553513877958776,
             0.4226283964247812,
             0.8775289058717961,
             0.08681487221489415,
             0.708418756913866,
             0.789154623705146
            ],
            [
             0.7991963797161148,
             0.3222867247398318,
             0.7966391827460546,
             0.22532844187566514,
             0.3623079504845691,
             0.41744811220437983,
             0.5414099836301646,
             0.11261366554055718,
             0.40694780063930613,
             0.0003006901069229073
            ],
            [
             0.744380726347399,
             0.851875912234257,
             0.13893167912019755,
             0.7037857692667978,
             0.8211030883946387,
             0.9818283228717938,
             0.8437905623687267,
             0.42410648544401286,
             0.9796887085096565,
             0.9739844048523552
            ],
            [
             0.503676979200579,
             0.7534465385839052,
             0.9138376676731629,
             0.47614707196875306,
             0.8637862410970849,
             0.7015685660618728,
             0.2939242559745576,
             0.7676522699834736,
             0.5706847858594991,
             0.09384515343330624
            ],
            [
             0.3913804263046642,
             0.07374101339780592,
             0.4761669632169956,
             0.4285396081429238,
             0.42373744297044735,
             0.5863003535907844,
             0.12269066017607344,
             0.9337689099568427,
             0.684050448075033,
             0.8237813583927717
            ]
           ]
          }
         ],
         "name": "frame_1"
        },
        {
         "data": [
          {
           "colorscale": [
            [
             0,
             "#440154"
            ],
            [
             0.1111111111111111,
             "#482878"
            ],
            [
             0.2222222222222222,
             "#3e4989"
            ],
            [
             0.3333333333333333,
             "#31688e"
            ],
            [
             0.4444444444444444,
             "#26828e"
            ],
            [
             0.5555555555555556,
             "#1f9e89"
            ],
            [
             0.6666666666666666,
             "#35b779"
            ],
            [
             0.7777777777777778,
             "#6ece58"
            ],
            [
             0.8888888888888888,
             "#b5de2b"
            ],
            [
             1,
             "#fde725"
            ]
           ],
           "reversescale": false,
           "showscale": true,
           "text": [
            [
             "0.90",
             "0.58",
             "0.04",
             "0.71",
             "0.57",
             "0.83",
             "0.53",
             "0.81",
             "1.00",
             "0.35"
            ],
            [
             "0.17",
             "0.39",
             "0.75",
             "0.44",
             "0.59",
             "0.13",
             "0.73",
             "0.28",
             "0.19",
             "0.86"
            ],
            [
             "0.56",
             "0.48",
             "0.90",
             "0.09",
             "0.70",
             "0.33",
             "0.18",
             "0.67",
             "0.36",
             "0.33"
            ],
            [
             "0.94",
             "0.20",
             "0.51",
             "0.02",
             "0.16",
             "0.88",
             "0.79",
             "0.56",
             "0.22",
             "0.56"
            ],
            [
             "0.01",
             "0.71",
             "0.72",
             "0.65",
             "0.61",
             "0.07",
             "0.25",
             "0.57",
             "0.39",
             "0.99"
            ],
            [
             "0.92",
             "0.15",
             "0.59",
             "0.70",
             "0.14",
             "0.31",
             "0.72",
             "0.90",
             "0.34",
             "0.24"
            ],
            [
             "0.82",
             "0.58",
             "0.48",
             "0.26",
             "0.07",
             "0.02",
             "0.58",
             "0.19",
             "0.98",
             "0.11"
            ],
            [
             "0.45",
             "0.39",
             "0.23",
             "0.75",
             "0.64",
             "0.73",
             "0.08",
             "0.35",
             "0.52",
             "0.43"
            ],
            [
             "0.04",
             "0.19",
             "0.95",
             "0.16",
             "0.85",
             "0.82",
             "0.39",
             "0.47",
             "0.82",
             "0.68"
            ],
            [
             "0.84",
             "0.76",
             "0.69",
             "0.91",
             "0.82",
             "0.18",
             "0.75",
             "0.09",
             "0.43",
             "0.40"
            ]
           ],
           "textfont": {
            "color": "black"
           },
           "texttemplate": "%{text}",
           "type": "heatmap",
           "x": [
            "Erica Swanson",
            "Bruce Nicholson",
            "Oscar Morgan",
            "Jasmine Lowe",
            "Kathryn Steele",
            "Manuel Fields",
            "Kristen Welch",
            "Renee Lee",
            "David Garcia DDS",
            "Anthony Randolph"
           ],
           "y": [
            "Erica Swanson",
            "Bruce Nicholson",
            "Oscar Morgan",
            "Jasmine Lowe",
            "Kathryn Steele",
            "Manuel Fields",
            "Kristen Welch",
            "Renee Lee",
            "David Garcia DDS",
            "Anthony Randolph"
           ],
           "z": [
            [
             0.8968012322637599,
             0.5833200469234759,
             0.0402182209046007,
             0.711486824117758,
             0.5690258542633582,
             0.8259572221703992,
             0.5321604734743441,
             0.8132440953641924,
             0.9970102930724918,
             0.35055481136788813
            ],
            [
             0.1710214400206741,
             0.3916747994539028,
             0.7530499898656764,
             0.43922893185830647,
             0.5883801094292148,
             0.12735847192167105,
             0.7261235109339803,
             0.28008240186649946,
             0.19061756040401823,
             0.8629499985831945
            ],
            [
             0.5644128211205941,
             0.48449894234625035,
             0.8988237652484845,
             0.08601243606100262,
             0.6961544503408927,
             0.32798228976460253,
             0.17540974998508108,
             0.6747986499672789,
             0.3628219508629361,
             0.32989583249393584
            ],
            [
             0.9436777652291878,
             0.19929834067948615,
             0.512173657837735,
             0.024013200671349266,
             0.16336809113695616,
             0.8834187336335619,
             0.7892475482526763,
             0.5568354900539902,
             0.22245339599136027,
             0.5577475826213064
            ],
            [
             0.012146526113612555,
             0.7129936309379207,
             0.7167506805637281,
             0.6460450235663548,
             0.6113386842752012,
             0.07371643262453753,
             0.24640596905097556,
             0.5743780480979319,
             0.3941867660288976,
             0.992023228581445
            ],
            [
             0.9237453573751813,
             0.15200790252253704,
             0.5899605926495307,
             0.6962151061034566,
             0.13654341430088612,
             0.31259564710117127,
             0.7159178469254943,
             0.9011080934228366,
             0.34174265020613526,
             0.2389437116912806
            ],
            [
             0.8217920027302146,
             0.5849826802256783,
             0.4765884217057704,
             0.25615002142789234,
             0.07265834864832099,
             0.017891420896975263,
             0.5799701805640948,
             0.1911102734600748,
             0.9755329784268204,
             0.10747722838614726
            ],
            [
             0.4520887883271084,
             0.39465979707096,
             0.23231147528553098,
             0.7487557250039351,
             0.6437047620803104,
             0.7257576850518699,
             0.08280857589649471,
             0.3527434156964051,
             0.5198330743342318,
             0.42672114373024106
            ],
            [
             0.040617561872745234,
             0.1940274549007932,
             0.9450246483046265,
             0.1625697247533182,
             0.8520523324627752,
             0.8221371590644401,
             0.391293757078108,
             0.4667835198442635,
             0.8240018076499193,
             0.6806863255702125
            ],
            [
             0.8369437364290709,
             0.7575965858321237,
             0.6912714794406046,
             0.9129741060068781,
             0.8228071330945887,
             0.17906268758299326,
             0.7482242750812449,
             0.0866813231145428,
             0.4258562402940216,
             0.39675188715342524
            ]
           ]
          }
         ],
         "name": "frame_2"
        },
        {
         "data": [
          {
           "colorscale": [
            [
             0,
             "#440154"
            ],
            [
             0.1111111111111111,
             "#482878"
            ],
            [
             0.2222222222222222,
             "#3e4989"
            ],
            [
             0.3333333333333333,
             "#31688e"
            ],
            [
             0.4444444444444444,
             "#26828e"
            ],
            [
             0.5555555555555556,
             "#1f9e89"
            ],
            [
             0.6666666666666666,
             "#35b779"
            ],
            [
             0.7777777777777778,
             "#6ece58"
            ],
            [
             0.8888888888888888,
             "#b5de2b"
            ],
            [
             1,
             "#fde725"
            ]
           ],
           "reversescale": false,
           "showscale": true,
           "text": [
            [
             "0.20",
             "0.94",
             "0.09",
             "0.00",
             "0.32",
             "0.99",
             "0.26",
             "0.83",
             "0.17",
             "0.59"
            ],
            [
             "0.96",
             "0.72",
             "0.98",
             "0.57",
             "0.98",
             "0.84",
             "0.78",
             "0.89",
             "0.63",
             "0.36"
            ],
            [
             "0.53",
             "0.23",
             "0.78",
             "0.17",
             "0.58",
             "0.54",
             "0.67",
             "0.76",
             "0.11",
             "0.62"
            ],
            [
             "0.41",
             "0.61",
             "0.69",
             "0.59",
             "0.73",
             "0.52",
             "0.46",
             "0.29",
             "0.23",
             "0.70"
            ],
            [
             "0.70",
             "0.20",
             "0.97",
             "0.67",
             "0.53",
             "0.84",
             "0.49",
             "0.48",
             "0.26",
             "0.16"
            ],
            [
             "0.71",
             "0.84",
             "0.68",
             "0.37",
             "0.58",
             "0.56",
             "0.94",
             "0.39",
             "0.16",
             "0.88"
            ],
            [
             "0.89",
             "0.05",
             "0.20",
             "0.64",
             "0.79",
             "0.61",
             "0.19",
             "0.12",
             "0.51",
             "0.82"
            ],
            [
             "0.22",
             "0.08",
             "0.55",
             "0.19",
             "0.07",
             "0.77",
             "0.82",
             "0.40",
             "0.29",
             "0.28"
            ],
            [
             "0.36",
             "0.58",
             "0.53",
             "0.36",
             "0.64",
             "0.68",
             "0.56",
             "0.39",
             "0.62",
             "0.59"
            ],
            [
             "0.34",
             "0.30",
             "0.55",
             "0.61",
             "0.61",
             "0.38",
             "0.57",
             "0.99",
             "0.43",
             "0.84"
            ]
           ],
           "textfont": {
            "color": "black"
           },
           "texttemplate": "%{text}",
           "type": "heatmap",
           "x": [
            "Erica Swanson",
            "Bruce Nicholson",
            "Oscar Morgan",
            "Jasmine Lowe",
            "Kathryn Steele",
            "Manuel Fields",
            "Kristen Welch",
            "Renee Lee",
            "David Garcia DDS",
            "Anthony Randolph"
           ],
           "y": [
            "Erica Swanson",
            "Bruce Nicholson",
            "Oscar Morgan",
            "Jasmine Lowe",
            "Kathryn Steele",
            "Manuel Fields",
            "Kristen Welch",
            "Renee Lee",
            "David Garcia DDS",
            "Anthony Randolph"
           ],
           "z": [
            [
             0.20216809397548463,
             0.9379051086359893,
             0.09477667836116699,
             0.004899414988575601,
             0.32292080366397835,
             0.990744718241222,
             0.2646951283884399,
             0.830694265517731,
             0.17311363702046545,
             0.5863783547983777
            ],
            [
             0.958409335179392,
             0.7165132345658071,
             0.9805079751784863,
             0.5745566490890397,
             0.9833347065534214,
             0.8370470317200038,
             0.7782482261019282,
             0.8884898869115002,
             0.6314915172616167,
             0.35636454637657144
            ],
            [
             0.528282440056993,
             0.22650039568236358,
             0.7775441238817054,
             0.17007850161486648,
             0.5771979489865907,
             0.5358989295791143,
             0.6719028034776905,
             0.76048659866525,
             0.10982788606390892,
             0.6249409616679835
            ],
            [
             0.41395588246519277,
             0.6142014356679537,
             0.6939845431464953,
             0.5854795857606219,
             0.7328860768587152,
             0.520025257204648,
             0.4628678091292717,
             0.2867688654485352,
             0.22915166999670655,
             0.6953021060918184
            ],
            [
             0.6957113528124577,
             0.19548251297659636,
             0.9718374166111121,
             0.671150780289396,
             0.5312161232098263,
             0.8411753515449676,
             0.48652043330315486,
             0.4759448701003268,
             0.2582744000775369,
             0.15613548139069233
            ],
            [
             0.7116205788809175,
             0.8441109682390425,
             0.677798778095959,
             0.3688215166959502,
             0.5757220912190522,
             0.5634124736739899,
             0.9365660834742939,
             0.3876742119556893,
             0.1647826520660035,
             0.8769328933290108
            ],
            [
             0.8947284968868684,
             0.04826559500189531,
             0.19822403083948237,
             0.6362836535994598,
             0.7888451556348379,
             0.6066925067405504,
             0.19158919612655823,
             0.1176415752621991,
             0.5059726340651836,
             0.8155104066590114
            ],
            [
             0.2170671810721262,
             0.07513269487278362,
             0.5510449957933047,
             0.19181714813525463,
             0.06742372048426959,
             0.7732645980412682,
             0.8212266060779224,
             0.3983355510982354,
             0.2940763601682844,
             0.2771208894369578
            ],
            [
             0.36097142582835084,
             0.5769076431162621,
             0.5278200781124773,
             0.3553491811726963,
             0.6374209792381814,
             0.67576744194746,
             0.5582789479750343,
             0.38729491505187397,
             0.6239027819391343,
             0.5919027832141105
            ],
            [
             0.3403238573806664,
             0.30320101266424526,
             0.5457488790192866,
             0.6123417390018507,
             0.6107984389218087,
             0.3828380088978549,
             0.5657739072162552,
             0.9857696351964191,
             0.42802451904395167,
             0.8430147145899906
            ]
           ]
          }
         ],
         "name": "frame_3"
        },
        {
         "data": [
          {
           "colorscale": [
            [
             0,
             "#440154"
            ],
            [
             0.1111111111111111,
             "#482878"
            ],
            [
             0.2222222222222222,
             "#3e4989"
            ],
            [
             0.3333333333333333,
             "#31688e"
            ],
            [
             0.4444444444444444,
             "#26828e"
            ],
            [
             0.5555555555555556,
             "#1f9e89"
            ],
            [
             0.6666666666666666,
             "#35b779"
            ],
            [
             0.7777777777777778,
             "#6ece58"
            ],
            [
             0.8888888888888888,
             "#b5de2b"
            ],
            [
             1,
             "#fde725"
            ]
           ],
           "reversescale": false,
           "showscale": true,
           "text": [
            [
             "0.08",
             "0.88",
             "0.94",
             "0.26",
             "0.01",
             "0.48",
             "0.18",
             "0.97",
             "0.90",
             "0.96"
            ],
            [
             "0.60",
             "0.52",
             "0.83",
             "0.65",
             "0.25",
             "0.93",
             "0.44",
             "0.77",
             "0.50",
             "0.18"
            ],
            [
             "0.30",
             "0.57",
             "0.14",
             "0.01",
             "0.43",
             "0.76",
             "0.61",
             "0.32",
             "0.72",
             "0.48"
            ],
            [
             "1.00",
             "0.78",
             "0.83",
             "0.26",
             "0.15",
             "0.20",
             "0.43",
             "0.51",
             "0.19",
             "0.78"
            ],
            [
             "0.87",
             "0.32",
             "0.51",
             "0.59",
             "0.72",
             "0.15",
             "0.28",
             "0.73",
             "0.57",
             "0.90"
            ],
            [
             "0.45",
             "0.41",
             "0.31",
             "0.23",
             "0.65",
             "0.26",
             "0.86",
             "0.27",
             "0.67",
             "0.57"
            ],
            [
             "0.63",
             "0.90",
             "0.17",
             "0.15",
             "0.12",
             "0.08",
             "0.53",
             "0.17",
             "0.81",
             "0.02"
            ],
            [
             "0.37",
             "0.47",
             "0.22",
             "0.36",
             "0.22",
             "0.28",
             "0.93",
             "0.42",
             "0.39",
             "0.61"
            ],
            [
             "0.66",
             "0.66",
             "0.08",
             "0.58",
             "0.74",
             "0.80",
             "0.59",
             "0.13",
             "0.08",
             "0.32"
            ],
            [
             "0.93",
             "0.47",
             "0.90",
             "0.46",
             "0.76",
             "0.49",
             "0.71",
             "0.32",
             "0.89",
             "0.27"
            ]
           ],
           "textfont": {
            "color": "black"
           },
           "texttemplate": "%{text}",
           "type": "heatmap",
           "x": [
            "Erica Swanson",
            "Bruce Nicholson",
            "Oscar Morgan",
            "Jasmine Lowe",
            "Kathryn Steele",
            "Manuel Fields",
            "Kristen Welch",
            "Renee Lee",
            "David Garcia DDS",
            "Anthony Randolph"
           ],
           "y": [
            "Erica Swanson",
            "Bruce Nicholson",
            "Oscar Morgan",
            "Jasmine Lowe",
            "Kathryn Steele",
            "Manuel Fields",
            "Kristen Welch",
            "Renee Lee",
            "David Garcia DDS",
            "Anthony Randolph"
           ],
           "z": [
            [
             0.08132369130695694,
             0.8752282537019719,
             0.9417061555298863,
             0.26186401585393726,
             0.012101415672192695,
             0.4830084134337993,
             0.18271225766227794,
             0.9716312542852679,
             0.8976984351175483,
             0.9606648859302717
            ],
            [
             0.6038696577407527,
             0.5151603669026421,
             0.8327178493802309,
             0.6523489656890211,
             0.24855767636724513,
             0.9342860382578622,
             0.43969944996553134,
             0.773556228309299,
             0.5009379569884868,
             0.18335624310512755
            ],
            [
             0.2959268470094133,
             0.5744107688028172,
             0.14300208426428052,
             0.013737858616478582,
             0.43389122434993144,
             0.7621971718592196,
             0.614157273742888,
             0.32414637580737604,
             0.7172409392954933,
             0.4845146331098733
            ],
            [
             0.9995013522570269,
             0.7760316524447806,
             0.830631441271759,
             0.2595489061387781,
             0.15229496284881394,
             0.19930390910700002,
             0.43226496434626605,
             0.5121491196209004,
             0.19460934773223448,
             0.7799447709885816
            ],
            [
             0.8684311544172296,
             0.31600498576024083,
             0.50806419675629,
             0.5943746025127589,
             0.7223781739311237,
             0.1474724544653564,
             0.28087106140315643,
             0.7307059958584028,
             0.5681923142926266,
             0.8999457934389484
            ],
            [
             0.4478583619887434,
             0.406612845033848,
             0.3065072175307022,
             0.23137257265474553,
             0.6507663347633983,
             0.2646860018226955,
             0.8622755206430474,
             0.2706483956521083,
             0.6733596312251477,
             0.5681841419017319
            ],
            [
             0.6284587978789083,
             0.8954167756318381,
             0.16998845146941277,
             0.1498155458754621,
             0.12190222133530626,
             0.07643902091821697,
             0.5342310236037406,
             0.16573115195227217,
             0.8071679300934899,
             0.022610530546880114
            ],
            [
             0.3746069717348577,
             0.47320397138856884,
             0.2165283006768245,
             0.3559062195172905,
             0.22279143552845215,
             0.28182810633472577,
             0.9268710607285915,
             0.4171753663098261,
             0.38586494126072,
             0.6111744524341742
            ],
            [
             0.6641418567485056,
             0.6602765449276847,
             0.08475896722401388,
             0.5819025790346892,
             0.7359235998979756,
             0.7955683661434495,
             0.5885342519393526,
             0.1305730582345579,
             0.08374032389677899,
             0.3230536931058179
            ],
            [
             0.9275588094659627,
             0.4726175288334824,
             0.8954739071476481,
             0.4596749532770249,
             0.755118106560127,
             0.48512717568964037,
             0.7087022614323838,
             0.3171792766671796,
             0.8898652636367038,
             0.26570806873658315
            ]
           ]
          }
         ],
         "name": "frame_4"
        }
       ],
       "layout": {
        "dragmode": false,
        "height": 600,
        "sliders": [
         {
          "active": 0,
          "currentvalue": {
           "font": {
            "size": 20
           },
           "prefix": "Frame:",
           "visible": true,
           "xanchor": "right"
          },
          "len": 0.9,
          "pad": {
           "b": 10,
           "t": 50
          },
          "steps": [
           {
            "args": [
             [
              "frame_0"
             ],
             {
              "frame": {
               "duration": 500,
               "redraw": true
              },
              "mode": "immediate",
              "transition": {
               "duration": 500
              }
             }
            ],
            "label": "0",
            "method": "animate"
           },
           {
            "args": [
             [
              "frame_1"
             ],
             {
              "frame": {
               "duration": 500,
               "redraw": true
              },
              "mode": "immediate",
              "transition": {
               "duration": 500
              }
             }
            ],
            "label": "1",
            "method": "animate"
           },
           {
            "args": [
             [
              "frame_2"
             ],
             {
              "frame": {
               "duration": 500,
               "redraw": true
              },
              "mode": "immediate",
              "transition": {
               "duration": 500
              }
             }
            ],
            "label": "2",
            "method": "animate"
           },
           {
            "args": [
             [
              "frame_3"
             ],
             {
              "frame": {
               "duration": 500,
               "redraw": true
              },
              "mode": "immediate",
              "transition": {
               "duration": 500
              }
             }
            ],
            "label": "3",
            "method": "animate"
           },
           {
            "args": [
             [
              "frame_4"
             ],
             {
              "frame": {
               "duration": 500,
               "redraw": true
              },
              "mode": "immediate",
              "transition": {
               "duration": 500
              }
             }
            ],
            "label": "4",
            "method": "animate"
           }
          ],
          "transition": {
           "duration": 500,
           "easing": "cubic-in-out"
          },
          "x": 0.1,
          "xanchor": "left",
          "y": 0,
          "yanchor": "top"
         }
        ],
        "template": {
         "data": {
          "bar": [
           {
            "error_x": {
             "color": "#2a3f5f"
            },
            "error_y": {
             "color": "#2a3f5f"
            },
            "marker": {
             "line": {
              "color": "#E5ECF6",
              "width": 0.5
             },
             "pattern": {
              "fillmode": "overlay",
              "size": 10,
              "solidity": 0.2
             }
            },
            "type": "bar"
           }
          ],
          "barpolar": [
           {
            "marker": {
             "line": {
              "color": "#E5ECF6",
              "width": 0.5
             },
             "pattern": {
              "fillmode": "overlay",
              "size": 10,
              "solidity": 0.2
             }
            },
            "type": "barpolar"
           }
          ],
          "carpet": [
           {
            "aaxis": {
             "endlinecolor": "#2a3f5f",
             "gridcolor": "white",
             "linecolor": "white",
             "minorgridcolor": "white",
             "startlinecolor": "#2a3f5f"
            },
            "baxis": {
             "endlinecolor": "#2a3f5f",
             "gridcolor": "white",
             "linecolor": "white",
             "minorgridcolor": "white",
             "startlinecolor": "#2a3f5f"
            },
            "type": "carpet"
           }
          ],
          "choropleth": [
           {
            "colorbar": {
             "outlinewidth": 0,
             "ticks": ""
            },
            "type": "choropleth"
           }
          ],
          "contour": [
           {
            "colorbar": {
             "outlinewidth": 0,
             "ticks": ""
            },
            "colorscale": [
             [
              0,
              "#0d0887"
             ],
             [
              0.1111111111111111,
              "#46039f"
             ],
             [
              0.2222222222222222,
              "#7201a8"
             ],
             [
              0.3333333333333333,
              "#9c179e"
             ],
             [
              0.4444444444444444,
              "#bd3786"
             ],
             [
              0.5555555555555556,
              "#d8576b"
             ],
             [
              0.6666666666666666,
              "#ed7953"
             ],
             [
              0.7777777777777778,
              "#fb9f3a"
             ],
             [
              0.8888888888888888,
              "#fdca26"
             ],
             [
              1,
              "#f0f921"
             ]
            ],
            "type": "contour"
           }
          ],
          "contourcarpet": [
           {
            "colorbar": {
             "outlinewidth": 0,
             "ticks": ""
            },
            "type": "contourcarpet"
           }
          ],
          "heatmap": [
           {
            "colorbar": {
             "outlinewidth": 0,
             "ticks": ""
            },
            "colorscale": [
             [
              0,
              "#0d0887"
             ],
             [
              0.1111111111111111,
              "#46039f"
             ],
             [
              0.2222222222222222,
              "#7201a8"
             ],
             [
              0.3333333333333333,
              "#9c179e"
             ],
             [
              0.4444444444444444,
              "#bd3786"
             ],
             [
              0.5555555555555556,
              "#d8576b"
             ],
             [
              0.6666666666666666,
              "#ed7953"
             ],
             [
              0.7777777777777778,
              "#fb9f3a"
             ],
             [
              0.8888888888888888,
              "#fdca26"
             ],
             [
              1,
              "#f0f921"
             ]
            ],
            "type": "heatmap"
           }
          ],
          "heatmapgl": [
           {
            "colorbar": {
             "outlinewidth": 0,
             "ticks": ""
            },
            "colorscale": [
             [
              0,
              "#0d0887"
             ],
             [
              0.1111111111111111,
              "#46039f"
             ],
             [
              0.2222222222222222,
              "#7201a8"
             ],
             [
              0.3333333333333333,
              "#9c179e"
             ],
             [
              0.4444444444444444,
              "#bd3786"
             ],
             [
              0.5555555555555556,
              "#d8576b"
             ],
             [
              0.6666666666666666,
              "#ed7953"
             ],
             [
              0.7777777777777778,
              "#fb9f3a"
             ],
             [
              0.8888888888888888,
              "#fdca26"
             ],
             [
              1,
              "#f0f921"
             ]
            ],
            "type": "heatmapgl"
           }
          ],
          "histogram": [
           {
            "marker": {
             "pattern": {
              "fillmode": "overlay",
              "size": 10,
              "solidity": 0.2
             }
            },
            "type": "histogram"
           }
          ],
          "histogram2d": [
           {
            "colorbar": {
             "outlinewidth": 0,
             "ticks": ""
            },
            "colorscale": [
             [
              0,
              "#0d0887"
             ],
             [
              0.1111111111111111,
              "#46039f"
             ],
             [
              0.2222222222222222,
              "#7201a8"
             ],
             [
              0.3333333333333333,
              "#9c179e"
             ],
             [
              0.4444444444444444,
              "#bd3786"
             ],
             [
              0.5555555555555556,
              "#d8576b"
             ],
             [
              0.6666666666666666,
              "#ed7953"
             ],
             [
              0.7777777777777778,
              "#fb9f3a"
             ],
             [
              0.8888888888888888,
              "#fdca26"
             ],
             [
              1,
              "#f0f921"
             ]
            ],
            "type": "histogram2d"
           }
          ],
          "histogram2dcontour": [
           {
            "colorbar": {
             "outlinewidth": 0,
             "ticks": ""
            },
            "colorscale": [
             [
              0,
              "#0d0887"
             ],
             [
              0.1111111111111111,
              "#46039f"
             ],
             [
              0.2222222222222222,
              "#7201a8"
             ],
             [
              0.3333333333333333,
              "#9c179e"
             ],
             [
              0.4444444444444444,
              "#bd3786"
             ],
             [
              0.5555555555555556,
              "#d8576b"
             ],
             [
              0.6666666666666666,
              "#ed7953"
             ],
             [
              0.7777777777777778,
              "#fb9f3a"
             ],
             [
              0.8888888888888888,
              "#fdca26"
             ],
             [
              1,
              "#f0f921"
             ]
            ],
            "type": "histogram2dcontour"
           }
          ],
          "mesh3d": [
           {
            "colorbar": {
             "outlinewidth": 0,
             "ticks": ""
            },
            "type": "mesh3d"
           }
          ],
          "parcoords": [
           {
            "line": {
             "colorbar": {
              "outlinewidth": 0,
              "ticks": ""
             }
            },
            "type": "parcoords"
           }
          ],
          "pie": [
           {
            "automargin": true,
            "type": "pie"
           }
          ],
          "scatter": [
           {
            "fillpattern": {
             "fillmode": "overlay",
             "size": 10,
             "solidity": 0.2
            },
            "type": "scatter"
           }
          ],
          "scatter3d": [
           {
            "line": {
             "colorbar": {
              "outlinewidth": 0,
              "ticks": ""
             }
            },
            "marker": {
             "colorbar": {
              "outlinewidth": 0,
              "ticks": ""
             }
            },
            "type": "scatter3d"
           }
          ],
          "scattercarpet": [
           {
            "marker": {
             "colorbar": {
              "outlinewidth": 0,
              "ticks": ""
             }
            },
            "type": "scattercarpet"
           }
          ],
          "scattergeo": [
           {
            "marker": {
             "colorbar": {
              "outlinewidth": 0,
              "ticks": ""
             }
            },
            "type": "scattergeo"
           }
          ],
          "scattergl": [
           {
            "marker": {
             "colorbar": {
              "outlinewidth": 0,
              "ticks": ""
             }
            },
            "type": "scattergl"
           }
          ],
          "scattermapbox": [
           {
            "marker": {
             "colorbar": {
              "outlinewidth": 0,
              "ticks": ""
             }
            },
            "type": "scattermapbox"
           }
          ],
          "scatterpolar": [
           {
            "marker": {
             "colorbar": {
              "outlinewidth": 0,
              "ticks": ""
             }
            },
            "type": "scatterpolar"
           }
          ],
          "scatterpolargl": [
           {
            "marker": {
             "colorbar": {
              "outlinewidth": 0,
              "ticks": ""
             }
            },
            "type": "scatterpolargl"
           }
          ],
          "scatterternary": [
           {
            "marker": {
             "colorbar": {
              "outlinewidth": 0,
              "ticks": ""
             }
            },
            "type": "scatterternary"
           }
          ],
          "surface": [
           {
            "colorbar": {
             "outlinewidth": 0,
             "ticks": ""
            },
            "colorscale": [
             [
              0,
              "#0d0887"
             ],
             [
              0.1111111111111111,
              "#46039f"
             ],
             [
              0.2222222222222222,
              "#7201a8"
             ],
             [
              0.3333333333333333,
              "#9c179e"
             ],
             [
              0.4444444444444444,
              "#bd3786"
             ],
             [
              0.5555555555555556,
              "#d8576b"
             ],
             [
              0.6666666666666666,
              "#ed7953"
             ],
             [
              0.7777777777777778,
              "#fb9f3a"
             ],
             [
              0.8888888888888888,
              "#fdca26"
             ],
             [
              1,
              "#f0f921"
             ]
            ],
            "type": "surface"
           }
          ],
          "table": [
           {
            "cells": {
             "fill": {
              "color": "#EBF0F8"
             },
             "line": {
              "color": "white"
             }
            },
            "header": {
             "fill": {
              "color": "#C8D4E3"
             },
             "line": {
              "color": "white"
             }
            },
            "type": "table"
           }
          ]
         },
         "layout": {
          "annotationdefaults": {
           "arrowcolor": "#2a3f5f",
           "arrowhead": 0,
           "arrowwidth": 1
          },
          "autotypenumbers": "strict",
          "coloraxis": {
           "colorbar": {
            "outlinewidth": 0,
            "ticks": ""
           }
          },
          "colorscale": {
           "diverging": [
            [
             0,
             "#8e0152"
            ],
            [
             0.1,
             "#c51b7d"
            ],
            [
             0.2,
             "#de77ae"
            ],
            [
             0.3,
             "#f1b6da"
            ],
            [
             0.4,
             "#fde0ef"
            ],
            [
             0.5,
             "#f7f7f7"
            ],
            [
             0.6,
             "#e6f5d0"
            ],
            [
             0.7,
             "#b8e186"
            ],
            [
             0.8,
             "#7fbc41"
            ],
            [
             0.9,
             "#4d9221"
            ],
            [
             1,
             "#276419"
            ]
           ],
           "sequential": [
            [
             0,
             "#0d0887"
            ],
            [
             0.1111111111111111,
             "#46039f"
            ],
            [
             0.2222222222222222,
             "#7201a8"
            ],
            [
             0.3333333333333333,
             "#9c179e"
            ],
            [
             0.4444444444444444,
             "#bd3786"
            ],
            [
             0.5555555555555556,
             "#d8576b"
            ],
            [
             0.6666666666666666,
             "#ed7953"
            ],
            [
             0.7777777777777778,
             "#fb9f3a"
            ],
            [
             0.8888888888888888,
             "#fdca26"
            ],
            [
             1,
             "#f0f921"
            ]
           ],
           "sequentialminus": [
            [
             0,
             "#0d0887"
            ],
            [
             0.1111111111111111,
             "#46039f"
            ],
            [
             0.2222222222222222,
             "#7201a8"
            ],
            [
             0.3333333333333333,
             "#9c179e"
            ],
            [
             0.4444444444444444,
             "#bd3786"
            ],
            [
             0.5555555555555556,
             "#d8576b"
            ],
            [
             0.6666666666666666,
             "#ed7953"
            ],
            [
             0.7777777777777778,
             "#fb9f3a"
            ],
            [
             0.8888888888888888,
             "#fdca26"
            ],
            [
             1,
             "#f0f921"
            ]
           ]
          },
          "colorway": [
           "#636efa",
           "#EF553B",
           "#00cc96",
           "#ab63fa",
           "#FFA15A",
           "#19d3f3",
           "#FF6692",
           "#B6E880",
           "#FF97FF",
           "#FECB52"
          ],
          "font": {
           "color": "#2a3f5f"
          },
          "geo": {
           "bgcolor": "white",
           "lakecolor": "white",
           "landcolor": "#E5ECF6",
           "showlakes": true,
           "showland": true,
           "subunitcolor": "white"
          },
          "hoverlabel": {
           "align": "left"
          },
          "hovermode": "closest",
          "mapbox": {
           "style": "light"
          },
          "paper_bgcolor": "white",
          "plot_bgcolor": "#E5ECF6",
          "polar": {
           "angularaxis": {
            "gridcolor": "white",
            "linecolor": "white",
            "ticks": ""
           },
           "bgcolor": "#E5ECF6",
           "radialaxis": {
            "gridcolor": "white",
            "linecolor": "white",
            "ticks": ""
           }
          },
          "scene": {
           "xaxis": {
            "backgroundcolor": "#E5ECF6",
            "gridcolor": "white",
            "gridwidth": 2,
            "linecolor": "white",
            "showbackground": true,
            "ticks": "",
            "zerolinecolor": "white"
           },
           "yaxis": {
            "backgroundcolor": "#E5ECF6",
            "gridcolor": "white",
            "gridwidth": 2,
            "linecolor": "white",
            "showbackground": true,
            "ticks": "",
            "zerolinecolor": "white"
           },
           "zaxis": {
            "backgroundcolor": "#E5ECF6",
            "gridcolor": "white",
            "gridwidth": 2,
            "linecolor": "white",
            "showbackground": true,
            "ticks": "",
            "zerolinecolor": "white"
           }
          },
          "shapedefaults": {
           "line": {
            "color": "#2a3f5f"
           }
          },
          "ternary": {
           "aaxis": {
            "gridcolor": "white",
            "linecolor": "white",
            "ticks": ""
           },
           "baxis": {
            "gridcolor": "white",
            "linecolor": "white",
            "ticks": ""
           },
           "bgcolor": "#E5ECF6",
           "caxis": {
            "gridcolor": "white",
            "linecolor": "white",
            "ticks": ""
           }
          },
          "title": {
           "x": 0.05
          },
          "xaxis": {
           "automargin": true,
           "gridcolor": "white",
           "linecolor": "white",
           "ticks": "",
           "title": {
            "standoff": 15
           },
           "zerolinecolor": "white",
           "zerolinewidth": 2
          },
          "yaxis": {
           "automargin": true,
           "gridcolor": "white",
           "linecolor": "white",
           "ticks": "",
           "title": {
            "standoff": 15
           },
           "zerolinecolor": "white",
           "zerolinewidth": 2
          }
         }
        },
        "title": {
         "text": "DEFAULT TITLE"
        },
        "updatemenus": [
         {
          "buttons": [
           {
            "args": [
             null,
             {
              "frame": {
               "duration": 500,
               "redraw": true
              },
              "fromcurrent": true
             }
            ],
            "label": "Play",
            "method": "animate"
           },
           {
            "args": [
             [
              null
             ],
             {
              "frame": {
               "duration": 0,
               "redraw": true
              },
              "mode": "immediate",
              "transition": {
               "duration": 0
              }
             }
            ],
            "label": "Pause",
            "method": "animate"
           }
          ],
          "direction": "left",
          "pad": {
           "r": 10,
           "t": 87
          },
          "showactive": false,
          "type": "buttons",
          "x": 0.1,
          "xanchor": "right",
          "y": 0,
          "yanchor": "top"
         }
        ],
        "width": 800,
        "xaxis": {
         "fixedrange": true,
         "nticks": 10
        },
        "yaxis": {
         "fixedrange": true,
         "nticks": 10
        }
       }
      }
     },
     "metadata": {},
     "output_type": "display_data"
    }
   ],
   "source": [
    "def animated_heatmap(\n",
    "    matrices: np.ndarray | None = None,\n",
    "    labels: list | None = None,\n",
    "    title: str = \"DEFAULT TITLE\",\n",
    "    show_values: bool = True,\n",
    "    value_format: Literal[\".2f\", \".2e\"] = \".2f\",\n",
    "    width: int = 800,\n",
    "    height: int = 600,\n",
    "    xaxis_title: str | None = None,\n",
    "    yaxis_title: str | None = None,\n",
    "    log: bool = False,\n",
    "    nan_diagnal: bool = False,\n",
    "    frame_duration: int = 500,\n",
    "    slider_labels: list[str] | None = None,\n",
    "    slider_prefix: str = \"Frame:\",\n",
    "):\n",
    "    # Generate demo data if matrices is None\n",
    "    if matrices is None:\n",
    "        faker = Faker()\n",
    "        shape = (5, 10, 10)  # (time, rows, cols)\n",
    "        matrices = rng.random(shape)\n",
    "        # logger.info(matrices)\n",
    "    elif matrices.ndim != 3:\n",
    "        raise ValueError(\"Expected 3D array (time, rows, cols)\")\n",
    "\n",
    "    n_frames, n_rows, n_cols = matrices.shape\n",
    "\n",
    "    if labels is None:\n",
    "        faker = Faker()\n",
    "        labels = [faker.name() for _ in range(n_rows)]\n",
    "    col_labels = labels\n",
    "    row_labels = labels\n",
    "\n",
    "    # Process all matrices\n",
    "    processed_matrices = []\n",
    "    for matrix in matrices:\n",
    "        # Convert and process each time slice\n",
    "        matrix = np.array(matrix, dtype=object)\n",
    "        none_mask = matrix is None\n",
    "        matrix = matrix.astype(float)\n",
    "        if log:\n",
    "            matrix = np.log10(matrix)\n",
    "        matrix[none_mask] = np.nan\n",
    "        if nan_diagnal:\n",
    "            matrix[np.identity(matrix.shape[0], dtype=bool)] = np.nan\n",
    "        processed_matrices.append(matrix)\n",
    "\n",
    "        # Update the sliders configuration with custom labels\n",
    "    if slider_labels is not None:\n",
    "        if len(slider_labels) != n_frames:\n",
    "            raise ValueError(f\"Expected {n_frames} slider labels, got {len(slider_labels)}\")\n",
    "        frame_labels = slider_labels\n",
    "    else:\n",
    "        frame_labels = [str(k) for k in range(n_frames)]\n",
    "\n",
    "    layout_sliders = [\n",
    "        {\n",
    "            \"active\": 0,\n",
    "            \"yanchor\": \"top\",\n",
    "            \"xanchor\": \"left\",\n",
    "            \"currentvalue\": {\n",
    "                \"font\": {\"size\": 20},\n",
    "                \"prefix\": slider_prefix,  # <--- [CHANGED] Use custom prefix\n",
    "                \"visible\": True,\n",
    "                \"xanchor\": \"right\",\n",
    "            },\n",
    "            \"transition\": {\"duration\": frame_duration, \"easing\": \"cubic-in-out\"},\n",
    "            \"pad\": {\"b\": 10, \"t\": 50},\n",
    "            \"len\": 0.9,\n",
    "            \"x\": 0.1,\n",
    "            \"y\": 0,\n",
    "            \"steps\": [\n",
    "                {\n",
    "                    \"args\": [\n",
    "                        [f\"frame_{k}\"],\n",
    "                        {\n",
    "                            \"frame\": {\"duration\": frame_duration, \"redraw\": True},\n",
    "                            \"mode\": \"immediate\",\n",
    "                            \"transition\": {\"duration\": frame_duration},\n",
    "                        },\n",
    "                    ],\n",
    "                    \"label\": label,  # <--- [CHANGED] Use custom label\n",
    "                    \"method\": \"animate\",\n",
    "                }\n",
    "                for k, label in enumerate(frame_labels)\n",
    "            ],\n",
    "        }\n",
    "    ]\n",
    "\n",
    "    # Create frames for animation\n",
    "    frames = [\n",
    "        go.Frame(\n",
    "            data=[\n",
    "                go.Heatmap(\n",
    "                    z=matrix,\n",
    "                    x=col_labels,\n",
    "                    y=row_labels,\n",
    "                    colorscale=\"Viridis\",\n",
    "                    text=np.vectorize(lambda x: \"N/A\" if np.isnan(x) else f\"{x:{value_format}}\")(\n",
    "                        matrix\n",
    "                    )\n",
    "                    if show_values\n",
    "                    else None,\n",
    "                    texttemplate=\"%{text}\" if show_values else None,\n",
    "                    textfont={\"color\": \"black\"},\n",
    "                    reversescale=False,\n",
    "                    showscale=True,\n",
    "                )\n",
    "            ],\n",
    "            name=f\"frame_{i}\",  # name is required for frames\n",
    "        )\n",
    "        for i, matrix in enumerate(processed_matrices)\n",
    "    ]\n",
    "\n",
    "    # Create the figure with the initial frame\n",
    "    fig = go.Figure(\n",
    "        data=[\n",
    "            go.Heatmap(\n",
    "                z=processed_matrices[0],\n",
    "                x=col_labels,\n",
    "                y=row_labels,\n",
    "                colorscale=\"Viridis\",\n",
    "                text=np.vectorize(lambda x: \"N/A\" if np.isnan(x) else f\"{x:{value_format}}\")(\n",
    "                    processed_matrices[0]\n",
    "                )\n",
    "                if show_values\n",
    "                else None,\n",
    "                texttemplate=\"%{text}\" if show_values else None,\n",
    "                textfont={\"color\": \"black\"},\n",
    "                reversescale=False,\n",
    "                showscale=True,\n",
    "            )\n",
    "        ],\n",
    "        frames=frames,\n",
    "        layout={\n",
    "            \"title\": title,\n",
    "            \"width\": width,\n",
    "            \"height\": height,\n",
    "            \"xaxis\": {\n",
    "                \"title\": xaxis_title,\n",
    "                \"nticks\": len(col_labels) if col_labels else None,\n",
    "                \"fixedrange\": True,\n",
    "            },\n",
    "            \"yaxis\": {\n",
    "                \"title\": yaxis_title,\n",
    "                \"nticks\": len(row_labels) if row_labels else None,\n",
    "                \"fixedrange\": True,\n",
    "            },\n",
    "            \"dragmode\": False,\n",
    "            \"updatemenus\": [  # <--- [NEW] Add play and pause buttons\n",
    "                {\n",
    "                    \"buttons\": [\n",
    "                        {\n",
    "                            \"args\": [\n",
    "                                None,\n",
    "                                {\n",
    "                                    \"frame\": {\"duration\": frame_duration, \"redraw\": True},\n",
    "                                    \"fromcurrent\": True,\n",
    "                                },\n",
    "                            ],\n",
    "                            \"label\": \"Play\",\n",
    "                            \"method\": \"animate\",\n",
    "                        },\n",
    "                        {\n",
    "                            \"args\": [\n",
    "                                [None],\n",
    "                                {\n",
    "                                    \"frame\": {\"duration\": 0, \"redraw\": True},\n",
    "                                    \"mode\": \"immediate\",\n",
    "                                    \"transition\": {\"duration\": 0},\n",
    "                                },\n",
    "                            ],\n",
    "                            \"label\": \"Pause\",\n",
    "                            \"method\": \"animate\",\n",
    "                        },\n",
    "                    ],\n",
    "                    \"direction\": \"left\",\n",
    "                    \"pad\": {\"r\": 10, \"t\": 87},\n",
    "                    \"showactive\": False,\n",
    "                    \"type\": \"buttons\",\n",
    "                    \"x\": 0.1,\n",
    "                    \"xanchor\": \"right\",\n",
    "                    \"y\": 0,\n",
    "                    \"yanchor\": \"top\",\n",
    "                }\n",
    "            ],\n",
    "        },\n",
    "    )\n",
    "\n",
    "    # Update the layout dictionary to include the new sliders\n",
    "    fig.update_layout(sliders=layout_sliders)\n",
    "\n",
    "    return fig\n",
    "\n",
    "\n",
    "animated_heatmap()"
   ]
  },
  {
   "cell_type": "markdown",
   "metadata": {},
   "source": [
    "## Import Data\n"
   ]
  },
  {
   "cell_type": "code",
   "execution_count": 75,
   "metadata": {},
   "outputs": [
    {
     "ename": "AttributeError",
     "evalue": "'Series' object has no attribute 'cast_dict'",
     "output_type": "error",
     "traceback": [
      "\u001b[0;31m---------------------------------------------------------------------------\u001b[0m",
      "\u001b[0;31mAttributeError\u001b[0m                            Traceback (most recent call last)",
      "\u001b[0;32m/var/folders/6f/f4k9qbkd5nqfywwdhvwdtl5m0000gn/T/ipykernel_30586/1832212235.py\u001b[0m in \u001b[0;36m<cell line: 0>\u001b[0;34m()\u001b[0m\n\u001b[1;32m     49\u001b[0m \u001b[0;34m\u001b[0m\u001b[0m\n\u001b[1;32m     50\u001b[0m \u001b[0;34m\u001b[0m\u001b[0m\n\u001b[0;32m---> 51\u001b[0;31m \u001b[0mcreate_index_df\u001b[0m\u001b[0;34m(\u001b[0m\u001b[0mmeta\u001b[0m\u001b[0;34m)\u001b[0m\u001b[0;34m\u001b[0m\u001b[0;34m\u001b[0m\u001b[0m\n\u001b[0m",
      "\u001b[0;32m/var/folders/6f/f4k9qbkd5nqfywwdhvwdtl5m0000gn/T/ipykernel_30586/1832212235.py\u001b[0m in \u001b[0;36mcreate_index_df\u001b[0;34m(meta)\u001b[0m\n\u001b[1;32m     38\u001b[0m     return pl.DataFrame(\n\u001b[1;32m     39\u001b[0m         {\n\u001b[0;32m---> 40\u001b[0;31m             \u001b[0;34m\"dataset\"\u001b[0m\u001b[0;34m:\u001b[0m \u001b[0mpl\u001b[0m\u001b[0;34m.\u001b[0m\u001b[0mSeries\u001b[0m\u001b[0;34m(\u001b[0m\u001b[0mdatasets\u001b[0m\u001b[0;34m.\u001b[0m\u001b[0mflatten\u001b[0m\u001b[0;34m(\u001b[0m\u001b[0;34m)\u001b[0m\u001b[0;34m)\u001b[0m\u001b[0;34m.\u001b[0m\u001b[0mcast_dict\u001b[0m\u001b[0;34m(\u001b[0m\u001b[0mdataset_map\u001b[0m\u001b[0;34m)\u001b[0m\u001b[0;34m,\u001b[0m\u001b[0;34m\u001b[0m\u001b[0;34m\u001b[0m\u001b[0m\n\u001b[0m\u001b[1;32m     41\u001b[0m             \u001b[0;34m\"source_model\"\u001b[0m\u001b[0;34m:\u001b[0m \u001b[0mpl\u001b[0m\u001b[0;34m.\u001b[0m\u001b[0mSeries\u001b[0m\u001b[0;34m(\u001b[0m\u001b[0msources\u001b[0m\u001b[0;34m.\u001b[0m\u001b[0mflatten\u001b[0m\u001b[0;34m(\u001b[0m\u001b[0;34m)\u001b[0m\u001b[0;34m)\u001b[0m\u001b[0;34m.\u001b[0m\u001b[0mcast_dict\u001b[0m\u001b[0;34m(\u001b[0m\u001b[0mmodel_map\u001b[0m\u001b[0;34m)\u001b[0m\u001b[0;34m,\u001b[0m\u001b[0;34m\u001b[0m\u001b[0;34m\u001b[0m\u001b[0m\n\u001b[1;32m     42\u001b[0m             \u001b[0;34m\"target_model\"\u001b[0m\u001b[0;34m:\u001b[0m \u001b[0mpl\u001b[0m\u001b[0;34m.\u001b[0m\u001b[0mSeries\u001b[0m\u001b[0;34m(\u001b[0m\u001b[0mtargets\u001b[0m\u001b[0;34m.\u001b[0m\u001b[0mflatten\u001b[0m\u001b[0;34m(\u001b[0m\u001b[0;34m)\u001b[0m\u001b[0;34m)\u001b[0m\u001b[0;34m.\u001b[0m\u001b[0mcast_dict\u001b[0m\u001b[0;34m(\u001b[0m\u001b[0mmodel_map\u001b[0m\u001b[0;34m)\u001b[0m\u001b[0;34m,\u001b[0m\u001b[0;34m\u001b[0m\u001b[0;34m\u001b[0m\u001b[0m\n",
      "\u001b[0;31mAttributeError\u001b[0m: 'Series' object has no attribute 'cast_dict'"
     ]
    }
   ],
   "source": [
    "# Load Metadata\n",
    "\"\"\"\n",
    "# 6 Datasets (ArguAna, FiQA, SciDocs, NFCorpus, HotPotQA, Trec-COVID)\n",
    "# 17 Native Embedding Spaces\n",
    "# 17 Stitched Embedding Spaces\n",
    "# 6 Architectures (2, 3, 4, 5, 6, or 7 layers)\n",
    "\"\"\"\n",
    "with MLP_MSE_VALIDATION_META.open() as f:\n",
    "    meta = orjson.loads(f.read())\n",
    "\n",
    "# pretty.pprint(meta)\n",
    "\n",
    "meta_df = pl.read_json(MLP_MSE_VALIDATION_META)\n",
    "\n",
    "\n",
    "# def create_index_df(meta: dict) -> pl.DataFrame:\n",
    "#     \"\"\"Create an index DataFrame for easy tensor lookup using np.indices.\n",
    "\n",
    "#     Args:\n",
    "#         meta: Dictionary containing dataset2idx and model2idx mappings\n",
    "\n",
    "#     Returns:\n",
    "#         pl.DataFrame: DataFrame with hierarchical index for tensor lookup\n",
    "#     \"\"\"\n",
    "#     # Get shape from metadata\n",
    "#     n_datasets = len(meta[\"dataset2idx\"])\n",
    "#     n_models = len(meta[\"model2idx\"])\n",
    "#     n_layers = len(meta[\"num_layers\"])\n",
    "\n",
    "#     # Create indices arrays for each dimension\n",
    "#     datasets, sources, targets, layers = np.indices((n_datasets, n_models, n_models, n_layers))\n",
    "\n",
    "#     # Create reverse mapping dictionaries\n",
    "#     dataset_map = {v: k for k, v in meta[\"dataset2idx\"].items()}\n",
    "#     model_map = {v: k for k, v in meta[\"model2idx\"].items()}\n",
    "\n",
    "#     # Create DataFrame\n",
    "#     return pl.DataFrame(\n",
    "#         {\n",
    "#             \"dataset\": pl.Series(datasets.flatten()).cast_dict(dataset_map),\n",
    "#             \"source_model\": pl.Series(sources.flatten()).cast_dict(model_map),\n",
    "#             \"target_model\": pl.Series(targets.flatten()).cast_dict(model_map),\n",
    "#             \"num_layers\": pl.Series(layers.flatten()) + 2,  # Convert 0-based to 2-based\n",
    "#             \"index\": list(\n",
    "#                 zip(datasets.flatten(), sources.flatten(), targets.flatten(), layers.flatten())\n",
    "#             ),\n",
    "#         }\n",
    "#     )\n",
    "\n",
    "\n",
    "# create_index_df(meta)\n",
    "# why am I being silly, work on this later."
   ]
  },
  {
   "cell_type": "code",
   "execution_count": 7,
   "metadata": {},
   "outputs": [
    {
     "name": "stderr",
     "output_type": "stream",
     "text": [
      "\u001b[32m2024-12-13 16:04:13.060\u001b[0m | \u001b[1mINFO    \u001b[0m | \u001b[36m__main__\u001b[0m:\u001b[36m<cell line: 0>\u001b[0m:\u001b[36m3\u001b[0m - \u001b[1m['validation_mses']\u001b[0m\n"
     ]
    },
    {
     "data": {
      "text/plain": [
       "'tensors[\"validation_mses\"].shape=(6, 17, 17, 6)'"
      ]
     },
     "execution_count": 7,
     "metadata": {},
     "output_type": "execute_result"
    }
   ],
   "source": [
    "# Load Tensors\n",
    "tensors = load_file(MLP_MSE_VALIDATION_TENSORS)\n",
    "logger.info(list(tensors.keys()))\n",
    "validation_mse = tensors[\"validation_mses\"]\n",
    "# f\"{tensors[\"validation_mses\"].shape=}\"\n",
    "f\"{tensors[\"validation_mses\"].shape=}\""
   ]
  },
  {
   "cell_type": "code",
   "execution_count": 71,
   "metadata": {},
   "outputs": [
    {
     "ename": "AttributeError",
     "evalue": "'Expr' object has no attribute 'map_dict'",
     "output_type": "error",
     "traceback": [
      "\u001b[0;31m---------------------------------------------------------------------------\u001b[0m",
      "\u001b[0;31mAttributeError\u001b[0m                            Traceback (most recent call last)",
      "\u001b[0;32m/var/folders/6f/f4k9qbkd5nqfywwdhvwdtl5m0000gn/T/ipykernel_30586/1295016108.py\u001b[0m in \u001b[0;36m<cell line: 0>\u001b[0;34m()\u001b[0m\n\u001b[1;32m     55\u001b[0m \u001b[0;34m\u001b[0m\u001b[0m\n\u001b[1;32m     56\u001b[0m \u001b[0;31m# Usage\u001b[0m\u001b[0;34m\u001b[0m\u001b[0;34m\u001b[0m\u001b[0m\n\u001b[0;32m---> 57\u001b[0;31m mse_df = safetensor_to_polars(\n\u001b[0m\u001b[1;32m     58\u001b[0m     \u001b[0mtensor_path\u001b[0m\u001b[0;34m=\u001b[0m\u001b[0mMLP_MSE_VALIDATION_TENSORS\u001b[0m\u001b[0;34m,\u001b[0m \u001b[0mmeta_path\u001b[0m\u001b[0;34m=\u001b[0m\u001b[0mMLP_MSE_VALIDATION_META\u001b[0m\u001b[0;34m\u001b[0m\u001b[0;34m\u001b[0m\u001b[0m\n\u001b[1;32m     59\u001b[0m \u001b[0;34m)\u001b[0m\u001b[0;34m\u001b[0m\u001b[0;34m\u001b[0m\u001b[0m\n",
      "\u001b[0;32m/var/folders/6f/f4k9qbkd5nqfywwdhvwdtl5m0000gn/T/ipykernel_30586/1295016108.py\u001b[0m in \u001b[0;36msafetensor_to_polars\u001b[0;34m(tensor_path, meta_path)\u001b[0m\n\u001b[1;32m     44\u001b[0m     mse_df = mse_df.with_columns(\n\u001b[1;32m     45\u001b[0m         [\n\u001b[0;32m---> 46\u001b[0;31m             \u001b[0mpl\u001b[0m\u001b[0;34m.\u001b[0m\u001b[0mcol\u001b[0m\u001b[0;34m(\u001b[0m\u001b[0;34m\"dataset\"\u001b[0m\u001b[0;34m)\u001b[0m\u001b[0;34m.\u001b[0m\u001b[0mmap_dict\u001b[0m\u001b[0;34m(\u001b[0m\u001b[0mdataset_map\u001b[0m\u001b[0;34m)\u001b[0m\u001b[0;34m.\u001b[0m\u001b[0malias\u001b[0m\u001b[0;34m(\u001b[0m\u001b[0;34m\"dataset_name\"\u001b[0m\u001b[0;34m)\u001b[0m\u001b[0;34m,\u001b[0m\u001b[0;34m\u001b[0m\u001b[0;34m\u001b[0m\u001b[0m\n\u001b[0m\u001b[1;32m     47\u001b[0m             \u001b[0mpl\u001b[0m\u001b[0;34m.\u001b[0m\u001b[0mcol\u001b[0m\u001b[0;34m(\u001b[0m\u001b[0;34m\"source_model\"\u001b[0m\u001b[0;34m)\u001b[0m\u001b[0;34m.\u001b[0m\u001b[0mmap_dict\u001b[0m\u001b[0;34m(\u001b[0m\u001b[0mmodel_map\u001b[0m\u001b[0;34m)\u001b[0m\u001b[0;34m.\u001b[0m\u001b[0malias\u001b[0m\u001b[0;34m(\u001b[0m\u001b[0;34m\"source_model_name\"\u001b[0m\u001b[0;34m)\u001b[0m\u001b[0;34m,\u001b[0m\u001b[0;34m\u001b[0m\u001b[0;34m\u001b[0m\u001b[0m\n\u001b[1;32m     48\u001b[0m             \u001b[0mpl\u001b[0m\u001b[0;34m.\u001b[0m\u001b[0mcol\u001b[0m\u001b[0;34m(\u001b[0m\u001b[0;34m\"target_model\"\u001b[0m\u001b[0;34m)\u001b[0m\u001b[0;34m.\u001b[0m\u001b[0mmap_dict\u001b[0m\u001b[0;34m(\u001b[0m\u001b[0mmodel_map\u001b[0m\u001b[0;34m)\u001b[0m\u001b[0;34m.\u001b[0m\u001b[0malias\u001b[0m\u001b[0;34m(\u001b[0m\u001b[0;34m\"target_model_name\"\u001b[0m\u001b[0;34m)\u001b[0m\u001b[0;34m,\u001b[0m\u001b[0;34m\u001b[0m\u001b[0;34m\u001b[0m\u001b[0m\n",
      "\u001b[0;31mAttributeError\u001b[0m: 'Expr' object has no attribute 'map_dict'"
     ]
    }
   ],
   "source": [
    "from safetensors.numpy import load_file\n",
    "\n",
    "\n",
    "def safetensor_to_polars(\n",
    "    tensor_path: Path,\n",
    "    meta_path: Path,\n",
    ") -> pl.DataFrame:\n",
    "    \"\"\"Convert safetensor validation MSEs to a polars dataframe.\n",
    "\n",
    "    Args:\n",
    "        tensor_path: Path to .safetensors file\n",
    "        meta_path: Path to metadata JSON file\n",
    "\n",
    "    Returns:\n",
    "        pl.DataFrame: Long-format dataframe with validation MSEs\n",
    "    \"\"\"\n",
    "    # Load metadata\n",
    "    with meta_path.open() as f:\n",
    "        meta = orjson.loads(f.read())\n",
    "\n",
    "    # Load tensor\n",
    "    tensor_dict = load_file(tensor_path)  # (6, 17, 17, 6)\n",
    "    validation_mses = tensor_dict[\"validation_mses\"]\n",
    "\n",
    "    # Create mapping dictionaries\n",
    "    dataset_map = {v: k for k, v in meta[\"dataset2idx\"].items()}\n",
    "    model_map = {v: k for k, v in meta[\"model2idx\"].items()}\n",
    "\n",
    "    # Create index arrays for each dimension\n",
    "    datasets, source_models, target_models, architectures = np.indices(validation_mses.shape)\n",
    "\n",
    "    # Create dataframe\n",
    "    mse_df = pl.DataFrame(\n",
    "        {\n",
    "            \"dataset\": datasets.flatten(),\n",
    "            \"source_model\": source_models.flatten(),\n",
    "            \"target_model\": target_models.flatten(),\n",
    "            \"num_layers\": architectures.flatten(),\n",
    "            \"mse\": validation_mses.flatten(),\n",
    "        }\n",
    "    )\n",
    "\n",
    "    # Map indices to names\n",
    "    mse_df = mse_df.with_columns(\n",
    "        [\n",
    "            pl.col(\"dataset\").map_dict(dataset_map).alias(\"dataset_name\"),\n",
    "            pl.col(\"source_model\").map_dict(model_map).alias(\"source_model_name\"),\n",
    "            pl.col(\"target_model\").map_dict(model_map).alias(\"target_model_name\"),\n",
    "            pl.col(\"num_layers\").map_dict(dict(enumerate(meta[\"num_layers\"]))).alias(\"num_layers\"),\n",
    "        ]\n",
    "    ).drop(\"dataset\", \"source_model\", \"target_model\")\n",
    "\n",
    "    return mse_df\n",
    "\n",
    "\n",
    "# Usage\n",
    "mse_df = safetensor_to_polars(\n",
    "    tensor_path=MLP_MSE_VALIDATION_TENSORS, meta_path=MLP_MSE_VALIDATION_META\n",
    ")"
   ]
  },
  {
   "cell_type": "code",
   "execution_count": 12,
   "metadata": {},
   "outputs": [
    {
     "name": "stderr",
     "output_type": "stream",
     "text": [
      "\u001b[32m2024-12-13 16:09:16.309\u001b[0m | \u001b[1mINFO    \u001b[0m | \u001b[36m__main__\u001b[0m:\u001b[36m<cell line: 0>\u001b[0m:\u001b[36m6\u001b[0m - \u001b[1m(17, 17)\u001b[0m\n"
     ]
    },
    {
     "data": {
      "text/html": [
       "<pre style=\"white-space:pre;overflow-x:auto;line-height:normal;font-family:Menlo,'DejaVu Sans Mono',consolas,'Courier New',monospace\"><span style=\"color: #800080; text-decoration-color: #800080; font-weight: bold\">array</span><span style=\"font-weight: bold\">([[</span><span style=\"color: #008080; text-decoration-color: #008080; font-weight: bold\">1</span>.   , <span style=\"color: #008080; text-decoration-color: #008080; font-weight: bold\">0.002</span>, <span style=\"color: #008080; text-decoration-color: #008080; font-weight: bold\">0.001</span>, <span style=\"color: #808000; text-decoration-color: #808000\">...</span>, <span style=\"color: #008080; text-decoration-color: #008080; font-weight: bold\">0.002</span>, <span style=\"color: #008080; text-decoration-color: #008080; font-weight: bold\">0.001</span>, <span style=\"color: #008080; text-decoration-color: #008080; font-weight: bold\">0.001</span><span style=\"font-weight: bold\">]</span>,\n",
       "<span style=\"color: #7fbf7f; text-decoration-color: #7fbf7f\">│      </span><span style=\"font-weight: bold\">[</span><span style=\"color: #008080; text-decoration-color: #008080; font-weight: bold\">0.001</span>, <span style=\"color: #008080; text-decoration-color: #008080; font-weight: bold\">1</span>.   , <span style=\"color: #008080; text-decoration-color: #008080; font-weight: bold\">0.001</span>, <span style=\"color: #808000; text-decoration-color: #808000\">...</span>, <span style=\"color: #008080; text-decoration-color: #008080; font-weight: bold\">0.002</span>, <span style=\"color: #008080; text-decoration-color: #008080; font-weight: bold\">0.001</span>, <span style=\"color: #008080; text-decoration-color: #008080; font-weight: bold\">0.001</span><span style=\"font-weight: bold\">]</span>,\n",
       "<span style=\"color: #7fbf7f; text-decoration-color: #7fbf7f\">│      </span><span style=\"font-weight: bold\">[</span><span style=\"color: #008080; text-decoration-color: #008080; font-weight: bold\">0.001</span>, <span style=\"color: #008080; text-decoration-color: #008080; font-weight: bold\">0.002</span>, <span style=\"color: #008080; text-decoration-color: #008080; font-weight: bold\">1</span>.   , <span style=\"color: #808000; text-decoration-color: #808000\">...</span>, <span style=\"color: #008080; text-decoration-color: #008080; font-weight: bold\">0.002</span>, <span style=\"color: #008080; text-decoration-color: #008080; font-weight: bold\">0.001</span>, <span style=\"color: #008080; text-decoration-color: #008080; font-weight: bold\">0.001</span><span style=\"font-weight: bold\">]</span>,\n",
       "<span style=\"color: #7fbf7f; text-decoration-color: #7fbf7f\">│      </span><span style=\"color: #808000; text-decoration-color: #808000\">...</span>,\n",
       "<span style=\"color: #7fbf7f; text-decoration-color: #7fbf7f\">│      </span><span style=\"font-weight: bold\">[</span><span style=\"color: #008080; text-decoration-color: #008080; font-weight: bold\">0.001</span>, <span style=\"color: #008080; text-decoration-color: #008080; font-weight: bold\">0.002</span>, <span style=\"color: #008080; text-decoration-color: #008080; font-weight: bold\">0.001</span>, <span style=\"color: #808000; text-decoration-color: #808000\">...</span>, <span style=\"color: #008080; text-decoration-color: #008080; font-weight: bold\">1</span>.   , <span style=\"color: #008080; text-decoration-color: #008080; font-weight: bold\">0.001</span>, <span style=\"color: #008080; text-decoration-color: #008080; font-weight: bold\">0.001</span><span style=\"font-weight: bold\">]</span>,\n",
       "<span style=\"color: #7fbf7f; text-decoration-color: #7fbf7f\">│      </span><span style=\"font-weight: bold\">[</span><span style=\"color: #008080; text-decoration-color: #008080; font-weight: bold\">0.001</span>, <span style=\"color: #008080; text-decoration-color: #008080; font-weight: bold\">0.001</span>, <span style=\"color: #008080; text-decoration-color: #008080; font-weight: bold\">0.001</span>, <span style=\"color: #808000; text-decoration-color: #808000\">...</span>, <span style=\"color: #008080; text-decoration-color: #008080; font-weight: bold\">0.002</span>, <span style=\"color: #008080; text-decoration-color: #008080; font-weight: bold\">1</span>.   , <span style=\"color: #008080; text-decoration-color: #008080; font-weight: bold\">0.001</span><span style=\"font-weight: bold\">]</span>,\n",
       "<span style=\"color: #7fbf7f; text-decoration-color: #7fbf7f\">│      </span><span style=\"font-weight: bold\">[</span><span style=\"color: #008080; text-decoration-color: #008080; font-weight: bold\">0.001</span>, <span style=\"color: #008080; text-decoration-color: #008080; font-weight: bold\">0.002</span>, <span style=\"color: #008080; text-decoration-color: #008080; font-weight: bold\">0.001</span>, <span style=\"color: #808000; text-decoration-color: #808000\">...</span>, <span style=\"color: #008080; text-decoration-color: #008080; font-weight: bold\">0.002</span>, <span style=\"color: #008080; text-decoration-color: #008080; font-weight: bold\">0.001</span>, <span style=\"color: #008080; text-decoration-color: #008080; font-weight: bold\">1</span>.   <span style=\"font-weight: bold\">]]</span>, <span style=\"color: #808000; text-decoration-color: #808000\">dtype</span>=<span style=\"color: #800080; text-decoration-color: #800080\">float32</span><span style=\"font-weight: bold\">)</span>\n",
       "</pre>\n"
      ],
      "text/plain": [
       "\u001b[1;35marray\u001b[0m\u001b[1m(\u001b[0m\u001b[1m[\u001b[0m\u001b[1m[\u001b[0m\u001b[1;36m1\u001b[0m.   , \u001b[1;36m0.002\u001b[0m, \u001b[1;36m0.001\u001b[0m, \u001b[33m...\u001b[0m, \u001b[1;36m0.002\u001b[0m, \u001b[1;36m0.001\u001b[0m, \u001b[1;36m0.001\u001b[0m\u001b[1m]\u001b[0m,\n",
       "\u001b[2;32m│      \u001b[0m\u001b[1m[\u001b[0m\u001b[1;36m0.001\u001b[0m, \u001b[1;36m1\u001b[0m.   , \u001b[1;36m0.001\u001b[0m, \u001b[33m...\u001b[0m, \u001b[1;36m0.002\u001b[0m, \u001b[1;36m0.001\u001b[0m, \u001b[1;36m0.001\u001b[0m\u001b[1m]\u001b[0m,\n",
       "\u001b[2;32m│      \u001b[0m\u001b[1m[\u001b[0m\u001b[1;36m0.001\u001b[0m, \u001b[1;36m0.002\u001b[0m, \u001b[1;36m1\u001b[0m.   , \u001b[33m...\u001b[0m, \u001b[1;36m0.002\u001b[0m, \u001b[1;36m0.001\u001b[0m, \u001b[1;36m0.001\u001b[0m\u001b[1m]\u001b[0m,\n",
       "\u001b[2;32m│      \u001b[0m\u001b[33m...\u001b[0m,\n",
       "\u001b[2;32m│      \u001b[0m\u001b[1m[\u001b[0m\u001b[1;36m0.001\u001b[0m, \u001b[1;36m0.002\u001b[0m, \u001b[1;36m0.001\u001b[0m, \u001b[33m...\u001b[0m, \u001b[1;36m1\u001b[0m.   , \u001b[1;36m0.001\u001b[0m, \u001b[1;36m0.001\u001b[0m\u001b[1m]\u001b[0m,\n",
       "\u001b[2;32m│      \u001b[0m\u001b[1m[\u001b[0m\u001b[1;36m0.001\u001b[0m, \u001b[1;36m0.001\u001b[0m, \u001b[1;36m0.001\u001b[0m, \u001b[33m...\u001b[0m, \u001b[1;36m0.002\u001b[0m, \u001b[1;36m1\u001b[0m.   , \u001b[1;36m0.001\u001b[0m\u001b[1m]\u001b[0m,\n",
       "\u001b[2;32m│      \u001b[0m\u001b[1m[\u001b[0m\u001b[1;36m0.001\u001b[0m, \u001b[1;36m0.002\u001b[0m, \u001b[1;36m0.001\u001b[0m, \u001b[33m...\u001b[0m, \u001b[1;36m0.002\u001b[0m, \u001b[1;36m0.001\u001b[0m, \u001b[1;36m1\u001b[0m.   \u001b[1m]\u001b[0m\u001b[1m]\u001b[0m, \u001b[33mdtype\u001b[0m=\u001b[35mfloat32\u001b[0m\u001b[1m)\u001b[0m\n"
      ]
     },
     "metadata": {},
     "output_type": "display_data"
    }
   ],
   "source": [
    "# Print Imported Data (One Dataset, One Architecture)\n",
    "dataset_i = 0\n",
    "architecture_i = 0\n",
    "\n",
    "example_validation_mse = validation_mse[dataset_i, :, :, architecture_i]\n",
    "logger.info(example_validation_mse.shape)\n",
    "pretty.pprint(example_validation_mse)"
   ]
  },
  {
   "cell_type": "code",
   "execution_count": 22,
   "metadata": {},
   "outputs": [
    {
     "name": "stderr",
     "output_type": "stream",
     "text": [
      "\u001b[32m2024-12-13 16:19:59.063\u001b[0m | \u001b[1mINFO    \u001b[0m | \u001b[36m__main__\u001b[0m:\u001b[36mheatmap\u001b[0m:\u001b[36m28\u001b[0m - \u001b[1mCreating heatmap visualization...\u001b[0m\n"
     ]
    },
    {
     "data": {
      "application/vnd.plotly.v1+json": {
       "config": {
        "plotlyServerURL": "https://plot.ly"
       },
       "data": [
        {
         "colorscale": [
          [
           0,
           "#440154"
          ],
          [
           0.1111111111111111,
           "#482878"
          ],
          [
           0.2222222222222222,
           "#3e4989"
          ],
          [
           0.3333333333333333,
           "#31688e"
          ],
          [
           0.4444444444444444,
           "#26828e"
          ],
          [
           0.5555555555555556,
           "#1f9e89"
          ],
          [
           0.6666666666666666,
           "#35b779"
          ],
          [
           0.7777777777777778,
           "#6ece58"
          ],
          [
           0.8888888888888888,
           "#b5de2b"
          ],
          [
           1,
           "#fde725"
          ]
         ],
         "reversescale": false,
         "showscale": false,
         "text": [
          [
           "N/A",
           "-2.76",
           "-2.84",
           "-2.51",
           "-2.77",
           "-2.85",
           "-2.50",
           "-2.77",
           "-2.86",
           "-2.49",
           "-2.76",
           "-2.75",
           "-2.85",
           "-2.75",
           "-2.75",
           "-3.27",
           "-3.02"
          ],
          [
           "-2.84",
           "N/A",
           "-2.84",
           "-2.47",
           "-2.73",
           "-2.83",
           "-2.48",
           "-2.75",
           "-2.86",
           "-2.48",
           "-2.74",
           "-2.73",
           "-2.84",
           "-2.73",
           "-2.72",
           "-3.24",
           "-2.99"
          ],
          [
           "-2.85",
           "-2.77",
           "N/A",
           "-2.52",
           "-2.76",
           "-2.86",
           "-2.50",
           "-2.76",
           "-2.85",
           "-2.51",
           "-2.77",
           "-2.74",
           "-2.84",
           "-2.76",
           "-2.78",
           "-3.27",
           "-3.01"
          ],
          [
           "-2.79",
           "-2.68",
           "-2.81",
           "N/A",
           "-2.69",
           "-2.81",
           "-2.44",
           "-2.68",
           "-2.80",
           "-2.42",
           "-2.68",
           "-2.70",
           "-2.81",
           "-2.67",
           "-2.72",
           "-3.14",
           "-2.94"
          ],
          [
           "-2.84",
           "-2.73",
           "-2.82",
           "-2.49",
           "N/A",
           "-2.83",
           "-2.48",
           "-2.72",
           "-2.85",
           "-2.52",
           "-2.72",
           "-2.74",
           "-2.84",
           "-2.75",
           "-2.74",
           "-3.23",
           "-3.00"
          ],
          [
           "-2.85",
           "-2.76",
           "-2.86",
           "-2.52",
           "-2.76",
           "N/A",
           "-2.54",
           "-2.75",
           "-2.82",
           "-2.52",
           "-2.77",
           "-2.77",
           "-2.84",
           "-2.75",
           "-2.76",
           "-3.26",
           "-3.01"
          ],
          [
           "-2.79",
           "-2.67",
           "-2.81",
           "-2.42",
           "-2.68",
           "-2.79",
           "N/A",
           "-2.70",
           "-2.79",
           "-2.43",
           "-2.69",
           "-2.69",
           "-2.81",
           "-2.69",
           "-2.67",
           "-3.14",
           "-2.95"
          ],
          [
           "-2.85",
           "-2.72",
           "-2.86",
           "-2.50",
           "-2.73",
           "-2.84",
           "-2.50",
           "N/A",
           "-2.84",
           "-2.52",
           "-2.71",
           "-2.72",
           "-2.84",
           "-2.73",
           "-2.72",
           "-3.24",
           "-2.99"
          ],
          [
           "-2.85",
           "-2.75",
           "-2.85",
           "-2.52",
           "-2.74",
           "-2.85",
           "-2.54",
           "-2.76",
           "N/A",
           "-2.50",
           "-2.76",
           "-2.74",
           "-2.86",
           "-2.74",
           "-2.75",
           "-3.27",
           "-3.01"
          ],
          [
           "-2.79",
           "-2.71",
           "-2.80",
           "-2.42",
           "-2.70",
           "-2.78",
           "-2.41",
           "-2.71",
           "-2.79",
           "N/A",
           "-2.71",
           "-2.68",
           "-2.82",
           "-2.68",
           "-2.71",
           "-3.15",
           "-2.92"
          ],
          [
           "-2.84",
           "-2.72",
           "-2.84",
           "-2.49",
           "-2.75",
           "-2.85",
           "-2.48",
           "-2.71",
           "-2.85",
           "-2.49",
           "N/A",
           "-2.71",
           "-2.84",
           "-2.71",
           "-2.75",
           "-3.24",
           "-2.99"
          ],
          [
           "-2.84",
           "-2.74",
           "-2.84",
           "-2.50",
           "-2.70",
           "-2.86",
           "-2.50",
           "-2.73",
           "-2.87",
           "-2.51",
           "-2.72",
           "N/A",
           "-2.84",
           "-2.75",
           "-2.72",
           "-3.24",
           "-2.99"
          ],
          [
           "-2.86",
           "-2.76",
           "-2.84",
           "-2.51",
           "-2.78",
           "-2.86",
           "-2.51",
           "-2.77",
           "-2.85",
           "-2.54",
           "-2.77",
           "-2.77",
           "N/A",
           "-2.77",
           "-2.76",
           "-3.27",
           "-3.02"
          ],
          [
           "-2.83",
           "-2.74",
           "-2.83",
           "-2.50",
           "-2.73",
           "-2.84",
           "-2.48",
           "-2.70",
           "-2.84",
           "-2.48",
           "-2.72",
           "-2.71",
           "-2.82",
           "N/A",
           "-2.72",
           "-3.23",
           "-2.99"
          ],
          [
           "-2.85",
           "-2.74",
           "-2.84",
           "-2.50",
           "-2.74",
           "-2.83",
           "-2.50",
           "-2.71",
           "-2.83",
           "-2.50",
           "-2.74",
           "-2.73",
           "-2.84",
           "-2.71",
           "N/A",
           "-3.24",
           "-2.98"
          ],
          [
           "-2.96",
           "-2.84",
           "-2.95",
           "-2.56",
           "-2.84",
           "-2.96",
           "-2.56",
           "-2.84",
           "-2.96",
           "-2.56",
           "-2.83",
           "-2.83",
           "-2.95",
           "-2.84",
           "-2.82",
           "N/A",
           "-3.10"
          ],
          [
           "-2.91",
           "-2.79",
           "-2.90",
           "-2.53",
           "-2.78",
           "-2.91",
           "-2.52",
           "-2.81",
           "-2.90",
           "-2.52",
           "-2.80",
           "-2.82",
           "-2.90",
           "-2.80",
           "-2.81",
           "-3.30",
           "N/A"
          ]
         ],
         "textfont": {
          "color": "black"
         },
         "texttemplate": "%{text}",
         "type": "heatmap",
         "x": [
          "WhereIsAI_UAE-Large-V1",
          "BAAI_bge-base-en-v1.5",
          "BAAI_bge-large-en-v1.5",
          "BAAI_bge-small-en-v1.5",
          "intfloat_e5-base-v2",
          "intfloat_e5-large-v2",
          "intfloat_e5-small-v2",
          "thenlper_gte-base",
          "thenlper_gte-large",
          "thenlper_gte-small",
          "sentence-transformers_gtr-t5-base",
          "sentence-transformers_gtr-t5-large",
          "mixedbread-ai_mxbai-embed-large-v1",
          "sentence-transformers_sentence-t5-base",
          "sentence-transformers_sentence-t5-large",
          "openai_text-embedding-3-large",
          "openai_text-embedding-3-small"
         ],
         "y": [
          "WhereIsAI_UAE-Large-V1",
          "BAAI_bge-base-en-v1.5",
          "BAAI_bge-large-en-v1.5",
          "BAAI_bge-small-en-v1.5",
          "intfloat_e5-base-v2",
          "intfloat_e5-large-v2",
          "intfloat_e5-small-v2",
          "thenlper_gte-base",
          "thenlper_gte-large",
          "thenlper_gte-small",
          "sentence-transformers_gtr-t5-base",
          "sentence-transformers_gtr-t5-large",
          "mixedbread-ai_mxbai-embed-large-v1",
          "sentence-transformers_sentence-t5-base",
          "sentence-transformers_sentence-t5-large",
          "openai_text-embedding-3-large",
          "openai_text-embedding-3-small"
         ],
         "z": [
          [
           null,
           -2.7574663425948116,
           -2.8420995149022072,
           -2.5095080204774765,
           -2.772926057182547,
           -2.8495111364061194,
           -2.504729011234093,
           -2.771978108569226,
           -2.8644323823071316,
           -2.4903870476720407,
           -2.762528125724493,
           -2.7511733114121983,
           -2.8454498318091486,
           -2.7498421169253677,
           -2.7501509336190813,
           -3.2696157318654278,
           -3.02198423076025
          ],
          [
           -2.8439671840984952,
           null,
           -2.8425685649518804,
           -2.4749370961506623,
           -2.7262825567904367,
           -2.8291240980333727,
           -2.4784590184216295,
           -2.7468449351451576,
           -2.8555266586187416,
           -2.4797362835448697,
           -2.735703755380616,
           -2.7288352609804054,
           -2.844996909042494,
           -2.733095494011109,
           -2.723420118354665,
           -3.237153824629583,
           -2.98560012259634
          ],
          [
           -2.847032143924652,
           -2.769208332080826,
           null,
           -2.5159174758940686,
           -2.7647998813551764,
           -2.859104585314454,
           -2.500828877749649,
           -2.7574615990580216,
           -2.8504715783957004,
           -2.5095226630642307,
           -2.773071177477477,
           -2.737753963940291,
           -2.838673846847979,
           -2.7590395972498656,
           -2.775269038776332,
           -3.265478096932488,
           -3.0072780568853523
          ],
          [
           -2.793861657643175,
           -2.6806242728225356,
           -2.805010042893231,
           null,
           -2.6933186738606256,
           -2.8112592269492285,
           -2.4390978670404246,
           -2.6841598709638115,
           -2.7989696594110605,
           -2.418366493260947,
           -2.6777851988160783,
           -2.7018360273677144,
           -2.813204423160594,
           -2.6743761031771873,
           -2.7160313697399996,
           -3.137169966998491,
           -2.9366836102976093
          ],
          [
           -2.838349525279202,
           -2.726233080426001,
           -2.8222737559154836,
           -2.4857008456020866,
           null,
           -2.82648948208632,
           -2.476211658472666,
           -2.715059648720614,
           -2.846425889143047,
           -2.5203621985473252,
           -2.7243012129054516,
           -2.742306246985116,
           -2.840890019131271,
           -2.7537059548478817,
           -2.739483645985742,
           -3.2347535814133175,
           -3.0041197038012433
          ],
          [
           -2.848610680225495,
           -2.7633478602228982,
           -2.861550176205477,
           -2.5189607223864074,
           -2.7594822848260843,
           null,
           -2.537914955629029,
           -2.7478137777043647,
           -2.824773305410056,
           -2.5243649046974794,
           -2.772076932474613,
           -2.767920620860492,
           -2.8435499746200517,
           -2.746862294084466,
           -2.7647419048581545,
           -3.2638811808935446,
           -3.006200647937264
          ],
          [
           -2.7945975474406426,
           -2.672205624277428,
           -2.8055648996591964,
           -2.4192694036078586,
           -2.679833667465062,
           -2.790561112025961,
           null,
           -2.6976131427529637,
           -2.787996442364042,
           -2.4333433568378586,
           -2.6934248345409646,
           -2.689664582821246,
           -2.811017294196133,
           -2.6852397758964472,
           -2.665421900124522,
           -3.142477136686657,
           -2.945049031507515
          ],
          [
           -2.8527441484476204,
           -2.720312330187536,
           -2.8593186440541323,
           -2.4965141594896365,
           -2.73222070979967,
           -2.836172110176852,
           -2.5012113128768787,
           null,
           -2.8362701708791134,
           -2.5151507713784094,
           -2.7149571145777065,
           -2.71873632350183,
           -2.841471953687869,
           -2.7266619192590054,
           -2.7151816772719215,
           -3.2367913431774546,
           -2.990001772362981
          ],
          [
           -2.854049946191234,
           -2.7534789384444025,
           -2.8499774195833054,
           -2.517077975365861,
           -2.737490131068005,
           -2.853228773987639,
           -2.5350490674750676,
           -2.7629753227906853,
           null,
           -2.4978144834788654,
           -2.7639867117242987,
           -2.738939346759615,
           -2.856158975272222,
           -2.7364414423899426,
           -2.7543894975646266,
           -3.2653910855796293,
           -3.012757078980578
          ],
          [
           -2.7945773841275368,
           -2.710017958546196,
           -2.804236725987993,
           -2.4222160053990853,
           -2.6959802561360102,
           -2.7835828346946787,
           -2.4050714091801533,
           -2.706208423646955,
           -2.7928610469325696,
           null,
           -2.7065209440393088,
           -2.682494770419618,
           -2.8200673512399974,
           -2.677039779851422,
           -2.7090154729404157,
           -3.149138864063171,
           -2.9176048517444637
          ],
          [
           -2.838016532079381,
           -2.717282414331235,
           -2.8372934303265755,
           -2.492715648951941,
           -2.753655862859868,
           -2.852506520284063,
           -2.4822052322300467,
           -2.710654813825686,
           -2.8469891318429172,
           -2.4940913066284485,
           null,
           -2.7055503826655363,
           -2.837333128802843,
           -2.7122439864704684,
           -2.753149418287607,
           -3.2366751461774594,
           -2.9857239305725702
          ],
          [
           -2.841436577644957,
           -2.741197314512788,
           -2.8350086891014312,
           -2.5018797479162367,
           -2.7032368315174287,
           -2.8576168797407124,
           -2.5015080185430247,
           -2.7319167974208143,
           -2.866335087012379,
           -2.50599924665408,
           -2.7159763437912665,
           null,
           -2.8427741317658617,
           -2.7494958052689555,
           -2.7188830490325513,
           -3.2382536761355643,
           -2.989299907969369
          ],
          [
           -2.8574904999541713,
           -2.757874828121548,
           -2.836801602405946,
           -2.5145947926412124,
           -2.776514985995462,
           -2.8582888395432473,
           -2.5100568665760847,
           -2.7727799067214463,
           -2.847354870392868,
           -2.539932652546568,
           -2.7670191506382733,
           -2.7676537467638225,
           null,
           -2.768673253337806,
           -2.7621329590330648,
           -3.267328367615393,
           -3.018371082714945
          ],
          [
           -2.831625897800422,
           -2.743224193225815,
           -2.8253331810086357,
           -2.496564090264143,
           -2.7269613124593968,
           -2.84291883650624,
           -2.4755802877330217,
           -2.704577990630079,
           -2.839717997400511,
           -2.475167000083609,
           -2.7226632215846203,
           -2.7119516225256906,
           -2.8185491026905214,
           null,
           -2.719689163512609,
           -3.2348944898536733,
           -2.9934528032433056
          ],
          [
           -2.8514682300735994,
           -2.7448640037565926,
           -2.8427515678052133,
           -2.4966078081967917,
           -2.74235577309305,
           -2.8342725198140037,
           -2.4988083593057078,
           -2.7103880938991805,
           -2.8291400972749035,
           -2.503298547080734,
           -2.7360807575585264,
           -2.7330988575522306,
           -2.8441296601993993,
           -2.705682424581142,
           null,
           -3.2378874342952315,
           -2.9841915614481604
          ],
          [
           -2.962494039911259,
           -2.8423406582790576,
           -2.954507314221811,
           -2.5644603072164207,
           -2.8353951693433355,
           -2.964845090449149,
           -2.5556375683646704,
           -2.8386317940804386,
           -2.963308972093713,
           -2.560999283191517,
           -2.8333860962443933,
           -2.8308654658430337,
           -2.952742366845893,
           -2.8359384903778384,
           -2.8236707391222384,
           null,
           -3.095328214131093
          ],
          [
           -2.9080143017269084,
           -2.793943662230012,
           -2.8998820636227056,
           -2.527864651448688,
           -2.7838094308865386,
           -2.914045622553132,
           -2.52481682222563,
           -2.8084470135948747,
           -2.8951426735246373,
           -2.523727571881367,
           -2.799631799115948,
           -2.82328182590169,
           -2.9013001563461964,
           -2.7973275588650637,
           -2.8090540626581615,
           -3.2986171609264896,
           null
          ]
         ]
        }
       ],
       "layout": {
        "dragmode": false,
        "height": 600,
        "modebar": {
         "remove": [
          "zoomIn2d",
          "zoomOut2d",
          "autoScale2d",
          "resetScale2d",
          "hoverClosestCartesian",
          "hoverCompareCartesian",
          "toggleSpikelines"
         ]
        },
        "template": {
         "data": {
          "bar": [
           {
            "error_x": {
             "color": "#2a3f5f"
            },
            "error_y": {
             "color": "#2a3f5f"
            },
            "marker": {
             "line": {
              "color": "#E5ECF6",
              "width": 0.5
             },
             "pattern": {
              "fillmode": "overlay",
              "size": 10,
              "solidity": 0.2
             }
            },
            "type": "bar"
           }
          ],
          "barpolar": [
           {
            "marker": {
             "line": {
              "color": "#E5ECF6",
              "width": 0.5
             },
             "pattern": {
              "fillmode": "overlay",
              "size": 10,
              "solidity": 0.2
             }
            },
            "type": "barpolar"
           }
          ],
          "carpet": [
           {
            "aaxis": {
             "endlinecolor": "#2a3f5f",
             "gridcolor": "white",
             "linecolor": "white",
             "minorgridcolor": "white",
             "startlinecolor": "#2a3f5f"
            },
            "baxis": {
             "endlinecolor": "#2a3f5f",
             "gridcolor": "white",
             "linecolor": "white",
             "minorgridcolor": "white",
             "startlinecolor": "#2a3f5f"
            },
            "type": "carpet"
           }
          ],
          "choropleth": [
           {
            "colorbar": {
             "outlinewidth": 0,
             "ticks": ""
            },
            "type": "choropleth"
           }
          ],
          "contour": [
           {
            "colorbar": {
             "outlinewidth": 0,
             "ticks": ""
            },
            "colorscale": [
             [
              0,
              "#0d0887"
             ],
             [
              0.1111111111111111,
              "#46039f"
             ],
             [
              0.2222222222222222,
              "#7201a8"
             ],
             [
              0.3333333333333333,
              "#9c179e"
             ],
             [
              0.4444444444444444,
              "#bd3786"
             ],
             [
              0.5555555555555556,
              "#d8576b"
             ],
             [
              0.6666666666666666,
              "#ed7953"
             ],
             [
              0.7777777777777778,
              "#fb9f3a"
             ],
             [
              0.8888888888888888,
              "#fdca26"
             ],
             [
              1,
              "#f0f921"
             ]
            ],
            "type": "contour"
           }
          ],
          "contourcarpet": [
           {
            "colorbar": {
             "outlinewidth": 0,
             "ticks": ""
            },
            "type": "contourcarpet"
           }
          ],
          "heatmap": [
           {
            "colorbar": {
             "outlinewidth": 0,
             "ticks": ""
            },
            "colorscale": [
             [
              0,
              "#0d0887"
             ],
             [
              0.1111111111111111,
              "#46039f"
             ],
             [
              0.2222222222222222,
              "#7201a8"
             ],
             [
              0.3333333333333333,
              "#9c179e"
             ],
             [
              0.4444444444444444,
              "#bd3786"
             ],
             [
              0.5555555555555556,
              "#d8576b"
             ],
             [
              0.6666666666666666,
              "#ed7953"
             ],
             [
              0.7777777777777778,
              "#fb9f3a"
             ],
             [
              0.8888888888888888,
              "#fdca26"
             ],
             [
              1,
              "#f0f921"
             ]
            ],
            "type": "heatmap"
           }
          ],
          "heatmapgl": [
           {
            "colorbar": {
             "outlinewidth": 0,
             "ticks": ""
            },
            "colorscale": [
             [
              0,
              "#0d0887"
             ],
             [
              0.1111111111111111,
              "#46039f"
             ],
             [
              0.2222222222222222,
              "#7201a8"
             ],
             [
              0.3333333333333333,
              "#9c179e"
             ],
             [
              0.4444444444444444,
              "#bd3786"
             ],
             [
              0.5555555555555556,
              "#d8576b"
             ],
             [
              0.6666666666666666,
              "#ed7953"
             ],
             [
              0.7777777777777778,
              "#fb9f3a"
             ],
             [
              0.8888888888888888,
              "#fdca26"
             ],
             [
              1,
              "#f0f921"
             ]
            ],
            "type": "heatmapgl"
           }
          ],
          "histogram": [
           {
            "marker": {
             "pattern": {
              "fillmode": "overlay",
              "size": 10,
              "solidity": 0.2
             }
            },
            "type": "histogram"
           }
          ],
          "histogram2d": [
           {
            "colorbar": {
             "outlinewidth": 0,
             "ticks": ""
            },
            "colorscale": [
             [
              0,
              "#0d0887"
             ],
             [
              0.1111111111111111,
              "#46039f"
             ],
             [
              0.2222222222222222,
              "#7201a8"
             ],
             [
              0.3333333333333333,
              "#9c179e"
             ],
             [
              0.4444444444444444,
              "#bd3786"
             ],
             [
              0.5555555555555556,
              "#d8576b"
             ],
             [
              0.6666666666666666,
              "#ed7953"
             ],
             [
              0.7777777777777778,
              "#fb9f3a"
             ],
             [
              0.8888888888888888,
              "#fdca26"
             ],
             [
              1,
              "#f0f921"
             ]
            ],
            "type": "histogram2d"
           }
          ],
          "histogram2dcontour": [
           {
            "colorbar": {
             "outlinewidth": 0,
             "ticks": ""
            },
            "colorscale": [
             [
              0,
              "#0d0887"
             ],
             [
              0.1111111111111111,
              "#46039f"
             ],
             [
              0.2222222222222222,
              "#7201a8"
             ],
             [
              0.3333333333333333,
              "#9c179e"
             ],
             [
              0.4444444444444444,
              "#bd3786"
             ],
             [
              0.5555555555555556,
              "#d8576b"
             ],
             [
              0.6666666666666666,
              "#ed7953"
             ],
             [
              0.7777777777777778,
              "#fb9f3a"
             ],
             [
              0.8888888888888888,
              "#fdca26"
             ],
             [
              1,
              "#f0f921"
             ]
            ],
            "type": "histogram2dcontour"
           }
          ],
          "mesh3d": [
           {
            "colorbar": {
             "outlinewidth": 0,
             "ticks": ""
            },
            "type": "mesh3d"
           }
          ],
          "parcoords": [
           {
            "line": {
             "colorbar": {
              "outlinewidth": 0,
              "ticks": ""
             }
            },
            "type": "parcoords"
           }
          ],
          "pie": [
           {
            "automargin": true,
            "type": "pie"
           }
          ],
          "scatter": [
           {
            "fillpattern": {
             "fillmode": "overlay",
             "size": 10,
             "solidity": 0.2
            },
            "type": "scatter"
           }
          ],
          "scatter3d": [
           {
            "line": {
             "colorbar": {
              "outlinewidth": 0,
              "ticks": ""
             }
            },
            "marker": {
             "colorbar": {
              "outlinewidth": 0,
              "ticks": ""
             }
            },
            "type": "scatter3d"
           }
          ],
          "scattercarpet": [
           {
            "marker": {
             "colorbar": {
              "outlinewidth": 0,
              "ticks": ""
             }
            },
            "type": "scattercarpet"
           }
          ],
          "scattergeo": [
           {
            "marker": {
             "colorbar": {
              "outlinewidth": 0,
              "ticks": ""
             }
            },
            "type": "scattergeo"
           }
          ],
          "scattergl": [
           {
            "marker": {
             "colorbar": {
              "outlinewidth": 0,
              "ticks": ""
             }
            },
            "type": "scattergl"
           }
          ],
          "scattermapbox": [
           {
            "marker": {
             "colorbar": {
              "outlinewidth": 0,
              "ticks": ""
             }
            },
            "type": "scattermapbox"
           }
          ],
          "scatterpolar": [
           {
            "marker": {
             "colorbar": {
              "outlinewidth": 0,
              "ticks": ""
             }
            },
            "type": "scatterpolar"
           }
          ],
          "scatterpolargl": [
           {
            "marker": {
             "colorbar": {
              "outlinewidth": 0,
              "ticks": ""
             }
            },
            "type": "scatterpolargl"
           }
          ],
          "scatterternary": [
           {
            "marker": {
             "colorbar": {
              "outlinewidth": 0,
              "ticks": ""
             }
            },
            "type": "scatterternary"
           }
          ],
          "surface": [
           {
            "colorbar": {
             "outlinewidth": 0,
             "ticks": ""
            },
            "colorscale": [
             [
              0,
              "#0d0887"
             ],
             [
              0.1111111111111111,
              "#46039f"
             ],
             [
              0.2222222222222222,
              "#7201a8"
             ],
             [
              0.3333333333333333,
              "#9c179e"
             ],
             [
              0.4444444444444444,
              "#bd3786"
             ],
             [
              0.5555555555555556,
              "#d8576b"
             ],
             [
              0.6666666666666666,
              "#ed7953"
             ],
             [
              0.7777777777777778,
              "#fb9f3a"
             ],
             [
              0.8888888888888888,
              "#fdca26"
             ],
             [
              1,
              "#f0f921"
             ]
            ],
            "type": "surface"
           }
          ],
          "table": [
           {
            "cells": {
             "fill": {
              "color": "#EBF0F8"
             },
             "line": {
              "color": "white"
             }
            },
            "header": {
             "fill": {
              "color": "#C8D4E3"
             },
             "line": {
              "color": "white"
             }
            },
            "type": "table"
           }
          ]
         },
         "layout": {
          "annotationdefaults": {
           "arrowcolor": "#2a3f5f",
           "arrowhead": 0,
           "arrowwidth": 1
          },
          "autotypenumbers": "strict",
          "coloraxis": {
           "colorbar": {
            "outlinewidth": 0,
            "ticks": ""
           }
          },
          "colorscale": {
           "diverging": [
            [
             0,
             "#8e0152"
            ],
            [
             0.1,
             "#c51b7d"
            ],
            [
             0.2,
             "#de77ae"
            ],
            [
             0.3,
             "#f1b6da"
            ],
            [
             0.4,
             "#fde0ef"
            ],
            [
             0.5,
             "#f7f7f7"
            ],
            [
             0.6,
             "#e6f5d0"
            ],
            [
             0.7,
             "#b8e186"
            ],
            [
             0.8,
             "#7fbc41"
            ],
            [
             0.9,
             "#4d9221"
            ],
            [
             1,
             "#276419"
            ]
           ],
           "sequential": [
            [
             0,
             "#0d0887"
            ],
            [
             0.1111111111111111,
             "#46039f"
            ],
            [
             0.2222222222222222,
             "#7201a8"
            ],
            [
             0.3333333333333333,
             "#9c179e"
            ],
            [
             0.4444444444444444,
             "#bd3786"
            ],
            [
             0.5555555555555556,
             "#d8576b"
            ],
            [
             0.6666666666666666,
             "#ed7953"
            ],
            [
             0.7777777777777778,
             "#fb9f3a"
            ],
            [
             0.8888888888888888,
             "#fdca26"
            ],
            [
             1,
             "#f0f921"
            ]
           ],
           "sequentialminus": [
            [
             0,
             "#0d0887"
            ],
            [
             0.1111111111111111,
             "#46039f"
            ],
            [
             0.2222222222222222,
             "#7201a8"
            ],
            [
             0.3333333333333333,
             "#9c179e"
            ],
            [
             0.4444444444444444,
             "#bd3786"
            ],
            [
             0.5555555555555556,
             "#d8576b"
            ],
            [
             0.6666666666666666,
             "#ed7953"
            ],
            [
             0.7777777777777778,
             "#fb9f3a"
            ],
            [
             0.8888888888888888,
             "#fdca26"
            ],
            [
             1,
             "#f0f921"
            ]
           ]
          },
          "colorway": [
           "#636efa",
           "#EF553B",
           "#00cc96",
           "#ab63fa",
           "#FFA15A",
           "#19d3f3",
           "#FF6692",
           "#B6E880",
           "#FF97FF",
           "#FECB52"
          ],
          "font": {
           "color": "#2a3f5f"
          },
          "geo": {
           "bgcolor": "white",
           "lakecolor": "white",
           "landcolor": "#E5ECF6",
           "showlakes": true,
           "showland": true,
           "subunitcolor": "white"
          },
          "hoverlabel": {
           "align": "left"
          },
          "hovermode": "closest",
          "mapbox": {
           "style": "light"
          },
          "paper_bgcolor": "white",
          "plot_bgcolor": "#E5ECF6",
          "polar": {
           "angularaxis": {
            "gridcolor": "white",
            "linecolor": "white",
            "ticks": ""
           },
           "bgcolor": "#E5ECF6",
           "radialaxis": {
            "gridcolor": "white",
            "linecolor": "white",
            "ticks": ""
           }
          },
          "scene": {
           "xaxis": {
            "backgroundcolor": "#E5ECF6",
            "gridcolor": "white",
            "gridwidth": 2,
            "linecolor": "white",
            "showbackground": true,
            "ticks": "",
            "zerolinecolor": "white"
           },
           "yaxis": {
            "backgroundcolor": "#E5ECF6",
            "gridcolor": "white",
            "gridwidth": 2,
            "linecolor": "white",
            "showbackground": true,
            "ticks": "",
            "zerolinecolor": "white"
           },
           "zaxis": {
            "backgroundcolor": "#E5ECF6",
            "gridcolor": "white",
            "gridwidth": 2,
            "linecolor": "white",
            "showbackground": true,
            "ticks": "",
            "zerolinecolor": "white"
           }
          },
          "shapedefaults": {
           "line": {
            "color": "#2a3f5f"
           }
          },
          "ternary": {
           "aaxis": {
            "gridcolor": "white",
            "linecolor": "white",
            "ticks": ""
           },
           "baxis": {
            "gridcolor": "white",
            "linecolor": "white",
            "ticks": ""
           },
           "bgcolor": "#E5ECF6",
           "caxis": {
            "gridcolor": "white",
            "linecolor": "white",
            "ticks": ""
           }
          },
          "title": {
           "x": 0.05
          },
          "xaxis": {
           "automargin": true,
           "gridcolor": "white",
           "linecolor": "white",
           "ticks": "",
           "title": {
            "standoff": 15
           },
           "zerolinecolor": "white",
           "zerolinewidth": 2
          },
          "yaxis": {
           "automargin": true,
           "gridcolor": "white",
           "linecolor": "white",
           "ticks": "",
           "title": {
            "standoff": 15
           },
           "zerolinecolor": "white",
           "zerolinewidth": 2
          }
         }
        },
        "title": {
         "text": "Example Validation MSE (log)"
        },
        "width": 800,
        "xaxis": {
         "fixedrange": true,
         "nticks": 17
        },
        "yaxis": {
         "fixedrange": true,
         "nticks": 17
        }
       }
      }
     },
     "metadata": {},
     "output_type": "display_data"
    }
   ],
   "source": [
    "# Visualize Imported Data (One Dataset, One Architecture)\n",
    "labels = sorted(meta[\"model2idx\"], key=lambda k: meta[\"model2idx\"][k])\n",
    "matrix = example_validation_mse\n",
    "heatmap(matrix, log=True, title=\"Example Validation MSE (log)\", labels=labels, nan_diagnal=True)"
   ]
  },
  {
   "cell_type": "code",
   "execution_count": 21,
   "metadata": {},
   "outputs": [
    {
     "data": {
      "application/vnd.plotly.v1+json": {
       "config": {
        "plotlyServerURL": "https://plot.ly"
       },
       "data": [
        {
         "colorscale": [
          [
           0,
           "#440154"
          ],
          [
           0.1111111111111111,
           "#482878"
          ],
          [
           0.2222222222222222,
           "#3e4989"
          ],
          [
           0.3333333333333333,
           "#31688e"
          ],
          [
           0.4444444444444444,
           "#26828e"
          ],
          [
           0.5555555555555556,
           "#1f9e89"
          ],
          [
           0.6666666666666666,
           "#35b779"
          ],
          [
           0.7777777777777778,
           "#6ece58"
          ],
          [
           0.8888888888888888,
           "#b5de2b"
          ],
          [
           1,
           "#fde725"
          ]
         ],
         "reversescale": false,
         "showscale": true,
         "text": [
          [
           "N/A",
           "-2.76",
           "-2.84",
           "-2.51",
           "-2.77",
           "-2.85",
           "-2.50",
           "-2.77",
           "-2.86",
           "-2.49",
           "-2.76",
           "-2.75",
           "-2.85",
           "-2.75",
           "-2.75",
           "-3.27",
           "-3.02"
          ],
          [
           "-2.84",
           "N/A",
           "-2.84",
           "-2.47",
           "-2.73",
           "-2.83",
           "-2.48",
           "-2.75",
           "-2.86",
           "-2.48",
           "-2.74",
           "-2.73",
           "-2.84",
           "-2.73",
           "-2.72",
           "-3.24",
           "-2.99"
          ],
          [
           "-2.85",
           "-2.77",
           "N/A",
           "-2.52",
           "-2.76",
           "-2.86",
           "-2.50",
           "-2.76",
           "-2.85",
           "-2.51",
           "-2.77",
           "-2.74",
           "-2.84",
           "-2.76",
           "-2.78",
           "-3.27",
           "-3.01"
          ],
          [
           "-2.79",
           "-2.68",
           "-2.81",
           "N/A",
           "-2.69",
           "-2.81",
           "-2.44",
           "-2.68",
           "-2.80",
           "-2.42",
           "-2.68",
           "-2.70",
           "-2.81",
           "-2.67",
           "-2.72",
           "-3.14",
           "-2.94"
          ],
          [
           "-2.84",
           "-2.73",
           "-2.82",
           "-2.49",
           "N/A",
           "-2.83",
           "-2.48",
           "-2.72",
           "-2.85",
           "-2.52",
           "-2.72",
           "-2.74",
           "-2.84",
           "-2.75",
           "-2.74",
           "-3.23",
           "-3.00"
          ],
          [
           "-2.85",
           "-2.76",
           "-2.86",
           "-2.52",
           "-2.76",
           "N/A",
           "-2.54",
           "-2.75",
           "-2.82",
           "-2.52",
           "-2.77",
           "-2.77",
           "-2.84",
           "-2.75",
           "-2.76",
           "-3.26",
           "-3.01"
          ],
          [
           "-2.79",
           "-2.67",
           "-2.81",
           "-2.42",
           "-2.68",
           "-2.79",
           "N/A",
           "-2.70",
           "-2.79",
           "-2.43",
           "-2.69",
           "-2.69",
           "-2.81",
           "-2.69",
           "-2.67",
           "-3.14",
           "-2.95"
          ],
          [
           "-2.85",
           "-2.72",
           "-2.86",
           "-2.50",
           "-2.73",
           "-2.84",
           "-2.50",
           "N/A",
           "-2.84",
           "-2.52",
           "-2.71",
           "-2.72",
           "-2.84",
           "-2.73",
           "-2.72",
           "-3.24",
           "-2.99"
          ],
          [
           "-2.85",
           "-2.75",
           "-2.85",
           "-2.52",
           "-2.74",
           "-2.85",
           "-2.54",
           "-2.76",
           "N/A",
           "-2.50",
           "-2.76",
           "-2.74",
           "-2.86",
           "-2.74",
           "-2.75",
           "-3.27",
           "-3.01"
          ],
          [
           "-2.79",
           "-2.71",
           "-2.80",
           "-2.42",
           "-2.70",
           "-2.78",
           "-2.41",
           "-2.71",
           "-2.79",
           "N/A",
           "-2.71",
           "-2.68",
           "-2.82",
           "-2.68",
           "-2.71",
           "-3.15",
           "-2.92"
          ],
          [
           "-2.84",
           "-2.72",
           "-2.84",
           "-2.49",
           "-2.75",
           "-2.85",
           "-2.48",
           "-2.71",
           "-2.85",
           "-2.49",
           "N/A",
           "-2.71",
           "-2.84",
           "-2.71",
           "-2.75",
           "-3.24",
           "-2.99"
          ],
          [
           "-2.84",
           "-2.74",
           "-2.84",
           "-2.50",
           "-2.70",
           "-2.86",
           "-2.50",
           "-2.73",
           "-2.87",
           "-2.51",
           "-2.72",
           "N/A",
           "-2.84",
           "-2.75",
           "-2.72",
           "-3.24",
           "-2.99"
          ],
          [
           "-2.86",
           "-2.76",
           "-2.84",
           "-2.51",
           "-2.78",
           "-2.86",
           "-2.51",
           "-2.77",
           "-2.85",
           "-2.54",
           "-2.77",
           "-2.77",
           "N/A",
           "-2.77",
           "-2.76",
           "-3.27",
           "-3.02"
          ],
          [
           "-2.83",
           "-2.74",
           "-2.83",
           "-2.50",
           "-2.73",
           "-2.84",
           "-2.48",
           "-2.70",
           "-2.84",
           "-2.48",
           "-2.72",
           "-2.71",
           "-2.82",
           "N/A",
           "-2.72",
           "-3.23",
           "-2.99"
          ],
          [
           "-2.85",
           "-2.74",
           "-2.84",
           "-2.50",
           "-2.74",
           "-2.83",
           "-2.50",
           "-2.71",
           "-2.83",
           "-2.50",
           "-2.74",
           "-2.73",
           "-2.84",
           "-2.71",
           "N/A",
           "-3.24",
           "-2.98"
          ],
          [
           "-2.96",
           "-2.84",
           "-2.95",
           "-2.56",
           "-2.84",
           "-2.96",
           "-2.56",
           "-2.84",
           "-2.96",
           "-2.56",
           "-2.83",
           "-2.83",
           "-2.95",
           "-2.84",
           "-2.82",
           "N/A",
           "-3.10"
          ],
          [
           "-2.91",
           "-2.79",
           "-2.90",
           "-2.53",
           "-2.78",
           "-2.91",
           "-2.52",
           "-2.81",
           "-2.90",
           "-2.52",
           "-2.80",
           "-2.82",
           "-2.90",
           "-2.80",
           "-2.81",
           "-3.30",
           "N/A"
          ]
         ],
         "textfont": {
          "color": "black"
         },
         "texttemplate": "%{text}",
         "type": "heatmap",
         "x": [
          "WhereIsAI_UAE-Large-V1",
          "BAAI_bge-base-en-v1.5",
          "BAAI_bge-large-en-v1.5",
          "BAAI_bge-small-en-v1.5",
          "intfloat_e5-base-v2",
          "intfloat_e5-large-v2",
          "intfloat_e5-small-v2",
          "thenlper_gte-base",
          "thenlper_gte-large",
          "thenlper_gte-small",
          "sentence-transformers_gtr-t5-base",
          "sentence-transformers_gtr-t5-large",
          "mixedbread-ai_mxbai-embed-large-v1",
          "sentence-transformers_sentence-t5-base",
          "sentence-transformers_sentence-t5-large",
          "openai_text-embedding-3-large",
          "openai_text-embedding-3-small"
         ],
         "y": [
          "WhereIsAI_UAE-Large-V1",
          "BAAI_bge-base-en-v1.5",
          "BAAI_bge-large-en-v1.5",
          "BAAI_bge-small-en-v1.5",
          "intfloat_e5-base-v2",
          "intfloat_e5-large-v2",
          "intfloat_e5-small-v2",
          "thenlper_gte-base",
          "thenlper_gte-large",
          "thenlper_gte-small",
          "sentence-transformers_gtr-t5-base",
          "sentence-transformers_gtr-t5-large",
          "mixedbread-ai_mxbai-embed-large-v1",
          "sentence-transformers_sentence-t5-base",
          "sentence-transformers_sentence-t5-large",
          "openai_text-embedding-3-large",
          "openai_text-embedding-3-small"
         ],
         "z": [
          [
           null,
           -2.7574663425948116,
           -2.8420995149022072,
           -2.5095080204774765,
           -2.772926057182547,
           -2.8495111364061194,
           -2.504729011234093,
           -2.771978108569226,
           -2.8644323823071316,
           -2.4903870476720407,
           -2.762528125724493,
           -2.7511733114121983,
           -2.8454498318091486,
           -2.7498421169253677,
           -2.7501509336190813,
           -3.2696157318654278,
           -3.02198423076025
          ],
          [
           -2.8439671840984952,
           null,
           -2.8425685649518804,
           -2.4749370961506623,
           -2.7262825567904367,
           -2.8291240980333727,
           -2.4784590184216295,
           -2.7468449351451576,
           -2.8555266586187416,
           -2.4797362835448697,
           -2.735703755380616,
           -2.7288352609804054,
           -2.844996909042494,
           -2.733095494011109,
           -2.723420118354665,
           -3.237153824629583,
           -2.98560012259634
          ],
          [
           -2.847032143924652,
           -2.769208332080826,
           null,
           -2.5159174758940686,
           -2.7647998813551764,
           -2.859104585314454,
           -2.500828877749649,
           -2.7574615990580216,
           -2.8504715783957004,
           -2.5095226630642307,
           -2.773071177477477,
           -2.737753963940291,
           -2.838673846847979,
           -2.7590395972498656,
           -2.775269038776332,
           -3.265478096932488,
           -3.0072780568853523
          ],
          [
           -2.793861657643175,
           -2.6806242728225356,
           -2.805010042893231,
           null,
           -2.6933186738606256,
           -2.8112592269492285,
           -2.4390978670404246,
           -2.6841598709638115,
           -2.7989696594110605,
           -2.418366493260947,
           -2.6777851988160783,
           -2.7018360273677144,
           -2.813204423160594,
           -2.6743761031771873,
           -2.7160313697399996,
           -3.137169966998491,
           -2.9366836102976093
          ],
          [
           -2.838349525279202,
           -2.726233080426001,
           -2.8222737559154836,
           -2.4857008456020866,
           null,
           -2.82648948208632,
           -2.476211658472666,
           -2.715059648720614,
           -2.846425889143047,
           -2.5203621985473252,
           -2.7243012129054516,
           -2.742306246985116,
           -2.840890019131271,
           -2.7537059548478817,
           -2.739483645985742,
           -3.2347535814133175,
           -3.0041197038012433
          ],
          [
           -2.848610680225495,
           -2.7633478602228982,
           -2.861550176205477,
           -2.5189607223864074,
           -2.7594822848260843,
           null,
           -2.537914955629029,
           -2.7478137777043647,
           -2.824773305410056,
           -2.5243649046974794,
           -2.772076932474613,
           -2.767920620860492,
           -2.8435499746200517,
           -2.746862294084466,
           -2.7647419048581545,
           -3.2638811808935446,
           -3.006200647937264
          ],
          [
           -2.7945975474406426,
           -2.672205624277428,
           -2.8055648996591964,
           -2.4192694036078586,
           -2.679833667465062,
           -2.790561112025961,
           null,
           -2.6976131427529637,
           -2.787996442364042,
           -2.4333433568378586,
           -2.6934248345409646,
           -2.689664582821246,
           -2.811017294196133,
           -2.6852397758964472,
           -2.665421900124522,
           -3.142477136686657,
           -2.945049031507515
          ],
          [
           -2.8527441484476204,
           -2.720312330187536,
           -2.8593186440541323,
           -2.4965141594896365,
           -2.73222070979967,
           -2.836172110176852,
           -2.5012113128768787,
           null,
           -2.8362701708791134,
           -2.5151507713784094,
           -2.7149571145777065,
           -2.71873632350183,
           -2.841471953687869,
           -2.7266619192590054,
           -2.7151816772719215,
           -3.2367913431774546,
           -2.990001772362981
          ],
          [
           -2.854049946191234,
           -2.7534789384444025,
           -2.8499774195833054,
           -2.517077975365861,
           -2.737490131068005,
           -2.853228773987639,
           -2.5350490674750676,
           -2.7629753227906853,
           null,
           -2.4978144834788654,
           -2.7639867117242987,
           -2.738939346759615,
           -2.856158975272222,
           -2.7364414423899426,
           -2.7543894975646266,
           -3.2653910855796293,
           -3.012757078980578
          ],
          [
           -2.7945773841275368,
           -2.710017958546196,
           -2.804236725987993,
           -2.4222160053990853,
           -2.6959802561360102,
           -2.7835828346946787,
           -2.4050714091801533,
           -2.706208423646955,
           -2.7928610469325696,
           null,
           -2.7065209440393088,
           -2.682494770419618,
           -2.8200673512399974,
           -2.677039779851422,
           -2.7090154729404157,
           -3.149138864063171,
           -2.9176048517444637
          ],
          [
           -2.838016532079381,
           -2.717282414331235,
           -2.8372934303265755,
           -2.492715648951941,
           -2.753655862859868,
           -2.852506520284063,
           -2.4822052322300467,
           -2.710654813825686,
           -2.8469891318429172,
           -2.4940913066284485,
           null,
           -2.7055503826655363,
           -2.837333128802843,
           -2.7122439864704684,
           -2.753149418287607,
           -3.2366751461774594,
           -2.9857239305725702
          ],
          [
           -2.841436577644957,
           -2.741197314512788,
           -2.8350086891014312,
           -2.5018797479162367,
           -2.7032368315174287,
           -2.8576168797407124,
           -2.5015080185430247,
           -2.7319167974208143,
           -2.866335087012379,
           -2.50599924665408,
           -2.7159763437912665,
           null,
           -2.8427741317658617,
           -2.7494958052689555,
           -2.7188830490325513,
           -3.2382536761355643,
           -2.989299907969369
          ],
          [
           -2.8574904999541713,
           -2.757874828121548,
           -2.836801602405946,
           -2.5145947926412124,
           -2.776514985995462,
           -2.8582888395432473,
           -2.5100568665760847,
           -2.7727799067214463,
           -2.847354870392868,
           -2.539932652546568,
           -2.7670191506382733,
           -2.7676537467638225,
           null,
           -2.768673253337806,
           -2.7621329590330648,
           -3.267328367615393,
           -3.018371082714945
          ],
          [
           -2.831625897800422,
           -2.743224193225815,
           -2.8253331810086357,
           -2.496564090264143,
           -2.7269613124593968,
           -2.84291883650624,
           -2.4755802877330217,
           -2.704577990630079,
           -2.839717997400511,
           -2.475167000083609,
           -2.7226632215846203,
           -2.7119516225256906,
           -2.8185491026905214,
           null,
           -2.719689163512609,
           -3.2348944898536733,
           -2.9934528032433056
          ],
          [
           -2.8514682300735994,
           -2.7448640037565926,
           -2.8427515678052133,
           -2.4966078081967917,
           -2.74235577309305,
           -2.8342725198140037,
           -2.4988083593057078,
           -2.7103880938991805,
           -2.8291400972749035,
           -2.503298547080734,
           -2.7360807575585264,
           -2.7330988575522306,
           -2.8441296601993993,
           -2.705682424581142,
           null,
           -3.2378874342952315,
           -2.9841915614481604
          ],
          [
           -2.962494039911259,
           -2.8423406582790576,
           -2.954507314221811,
           -2.5644603072164207,
           -2.8353951693433355,
           -2.964845090449149,
           -2.5556375683646704,
           -2.8386317940804386,
           -2.963308972093713,
           -2.560999283191517,
           -2.8333860962443933,
           -2.8308654658430337,
           -2.952742366845893,
           -2.8359384903778384,
           -2.8236707391222384,
           null,
           -3.095328214131093
          ],
          [
           -2.9080143017269084,
           -2.793943662230012,
           -2.8998820636227056,
           -2.527864651448688,
           -2.7838094308865386,
           -2.914045622553132,
           -2.52481682222563,
           -2.8084470135948747,
           -2.8951426735246373,
           -2.523727571881367,
           -2.799631799115948,
           -2.82328182590169,
           -2.9013001563461964,
           -2.7973275588650637,
           -2.8090540626581615,
           -3.2986171609264896,
           null
          ]
         ]
        }
       ],
       "frames": [
        {
         "data": [
          {
           "colorscale": [
            [
             0,
             "#440154"
            ],
            [
             0.1111111111111111,
             "#482878"
            ],
            [
             0.2222222222222222,
             "#3e4989"
            ],
            [
             0.3333333333333333,
             "#31688e"
            ],
            [
             0.4444444444444444,
             "#26828e"
            ],
            [
             0.5555555555555556,
             "#1f9e89"
            ],
            [
             0.6666666666666666,
             "#35b779"
            ],
            [
             0.7777777777777778,
             "#6ece58"
            ],
            [
             0.8888888888888888,
             "#b5de2b"
            ],
            [
             1,
             "#fde725"
            ]
           ],
           "reversescale": false,
           "showscale": true,
           "text": [
            [
             "N/A",
             "-2.76",
             "-2.84",
             "-2.51",
             "-2.77",
             "-2.85",
             "-2.50",
             "-2.77",
             "-2.86",
             "-2.49",
             "-2.76",
             "-2.75",
             "-2.85",
             "-2.75",
             "-2.75",
             "-3.27",
             "-3.02"
            ],
            [
             "-2.84",
             "N/A",
             "-2.84",
             "-2.47",
             "-2.73",
             "-2.83",
             "-2.48",
             "-2.75",
             "-2.86",
             "-2.48",
             "-2.74",
             "-2.73",
             "-2.84",
             "-2.73",
             "-2.72",
             "-3.24",
             "-2.99"
            ],
            [
             "-2.85",
             "-2.77",
             "N/A",
             "-2.52",
             "-2.76",
             "-2.86",
             "-2.50",
             "-2.76",
             "-2.85",
             "-2.51",
             "-2.77",
             "-2.74",
             "-2.84",
             "-2.76",
             "-2.78",
             "-3.27",
             "-3.01"
            ],
            [
             "-2.79",
             "-2.68",
             "-2.81",
             "N/A",
             "-2.69",
             "-2.81",
             "-2.44",
             "-2.68",
             "-2.80",
             "-2.42",
             "-2.68",
             "-2.70",
             "-2.81",
             "-2.67",
             "-2.72",
             "-3.14",
             "-2.94"
            ],
            [
             "-2.84",
             "-2.73",
             "-2.82",
             "-2.49",
             "N/A",
             "-2.83",
             "-2.48",
             "-2.72",
             "-2.85",
             "-2.52",
             "-2.72",
             "-2.74",
             "-2.84",
             "-2.75",
             "-2.74",
             "-3.23",
             "-3.00"
            ],
            [
             "-2.85",
             "-2.76",
             "-2.86",
             "-2.52",
             "-2.76",
             "N/A",
             "-2.54",
             "-2.75",
             "-2.82",
             "-2.52",
             "-2.77",
             "-2.77",
             "-2.84",
             "-2.75",
             "-2.76",
             "-3.26",
             "-3.01"
            ],
            [
             "-2.79",
             "-2.67",
             "-2.81",
             "-2.42",
             "-2.68",
             "-2.79",
             "N/A",
             "-2.70",
             "-2.79",
             "-2.43",
             "-2.69",
             "-2.69",
             "-2.81",
             "-2.69",
             "-2.67",
             "-3.14",
             "-2.95"
            ],
            [
             "-2.85",
             "-2.72",
             "-2.86",
             "-2.50",
             "-2.73",
             "-2.84",
             "-2.50",
             "N/A",
             "-2.84",
             "-2.52",
             "-2.71",
             "-2.72",
             "-2.84",
             "-2.73",
             "-2.72",
             "-3.24",
             "-2.99"
            ],
            [
             "-2.85",
             "-2.75",
             "-2.85",
             "-2.52",
             "-2.74",
             "-2.85",
             "-2.54",
             "-2.76",
             "N/A",
             "-2.50",
             "-2.76",
             "-2.74",
             "-2.86",
             "-2.74",
             "-2.75",
             "-3.27",
             "-3.01"
            ],
            [
             "-2.79",
             "-2.71",
             "-2.80",
             "-2.42",
             "-2.70",
             "-2.78",
             "-2.41",
             "-2.71",
             "-2.79",
             "N/A",
             "-2.71",
             "-2.68",
             "-2.82",
             "-2.68",
             "-2.71",
             "-3.15",
             "-2.92"
            ],
            [
             "-2.84",
             "-2.72",
             "-2.84",
             "-2.49",
             "-2.75",
             "-2.85",
             "-2.48",
             "-2.71",
             "-2.85",
             "-2.49",
             "N/A",
             "-2.71",
             "-2.84",
             "-2.71",
             "-2.75",
             "-3.24",
             "-2.99"
            ],
            [
             "-2.84",
             "-2.74",
             "-2.84",
             "-2.50",
             "-2.70",
             "-2.86",
             "-2.50",
             "-2.73",
             "-2.87",
             "-2.51",
             "-2.72",
             "N/A",
             "-2.84",
             "-2.75",
             "-2.72",
             "-3.24",
             "-2.99"
            ],
            [
             "-2.86",
             "-2.76",
             "-2.84",
             "-2.51",
             "-2.78",
             "-2.86",
             "-2.51",
             "-2.77",
             "-2.85",
             "-2.54",
             "-2.77",
             "-2.77",
             "N/A",
             "-2.77",
             "-2.76",
             "-3.27",
             "-3.02"
            ],
            [
             "-2.83",
             "-2.74",
             "-2.83",
             "-2.50",
             "-2.73",
             "-2.84",
             "-2.48",
             "-2.70",
             "-2.84",
             "-2.48",
             "-2.72",
             "-2.71",
             "-2.82",
             "N/A",
             "-2.72",
             "-3.23",
             "-2.99"
            ],
            [
             "-2.85",
             "-2.74",
             "-2.84",
             "-2.50",
             "-2.74",
             "-2.83",
             "-2.50",
             "-2.71",
             "-2.83",
             "-2.50",
             "-2.74",
             "-2.73",
             "-2.84",
             "-2.71",
             "N/A",
             "-3.24",
             "-2.98"
            ],
            [
             "-2.96",
             "-2.84",
             "-2.95",
             "-2.56",
             "-2.84",
             "-2.96",
             "-2.56",
             "-2.84",
             "-2.96",
             "-2.56",
             "-2.83",
             "-2.83",
             "-2.95",
             "-2.84",
             "-2.82",
             "N/A",
             "-3.10"
            ],
            [
             "-2.91",
             "-2.79",
             "-2.90",
             "-2.53",
             "-2.78",
             "-2.91",
             "-2.52",
             "-2.81",
             "-2.90",
             "-2.52",
             "-2.80",
             "-2.82",
             "-2.90",
             "-2.80",
             "-2.81",
             "-3.30",
             "N/A"
            ]
           ],
           "textfont": {
            "color": "black"
           },
           "texttemplate": "%{text}",
           "type": "heatmap",
           "x": [
            "WhereIsAI_UAE-Large-V1",
            "BAAI_bge-base-en-v1.5",
            "BAAI_bge-large-en-v1.5",
            "BAAI_bge-small-en-v1.5",
            "intfloat_e5-base-v2",
            "intfloat_e5-large-v2",
            "intfloat_e5-small-v2",
            "thenlper_gte-base",
            "thenlper_gte-large",
            "thenlper_gte-small",
            "sentence-transformers_gtr-t5-base",
            "sentence-transformers_gtr-t5-large",
            "mixedbread-ai_mxbai-embed-large-v1",
            "sentence-transformers_sentence-t5-base",
            "sentence-transformers_sentence-t5-large",
            "openai_text-embedding-3-large",
            "openai_text-embedding-3-small"
           ],
           "y": [
            "WhereIsAI_UAE-Large-V1",
            "BAAI_bge-base-en-v1.5",
            "BAAI_bge-large-en-v1.5",
            "BAAI_bge-small-en-v1.5",
            "intfloat_e5-base-v2",
            "intfloat_e5-large-v2",
            "intfloat_e5-small-v2",
            "thenlper_gte-base",
            "thenlper_gte-large",
            "thenlper_gte-small",
            "sentence-transformers_gtr-t5-base",
            "sentence-transformers_gtr-t5-large",
            "mixedbread-ai_mxbai-embed-large-v1",
            "sentence-transformers_sentence-t5-base",
            "sentence-transformers_sentence-t5-large",
            "openai_text-embedding-3-large",
            "openai_text-embedding-3-small"
           ],
           "z": [
            [
             null,
             -2.7574663425948116,
             -2.8420995149022072,
             -2.5095080204774765,
             -2.772926057182547,
             -2.8495111364061194,
             -2.504729011234093,
             -2.771978108569226,
             -2.8644323823071316,
             -2.4903870476720407,
             -2.762528125724493,
             -2.7511733114121983,
             -2.8454498318091486,
             -2.7498421169253677,
             -2.7501509336190813,
             -3.2696157318654278,
             -3.02198423076025
            ],
            [
             -2.8439671840984952,
             null,
             -2.8425685649518804,
             -2.4749370961506623,
             -2.7262825567904367,
             -2.8291240980333727,
             -2.4784590184216295,
             -2.7468449351451576,
             -2.8555266586187416,
             -2.4797362835448697,
             -2.735703755380616,
             -2.7288352609804054,
             -2.844996909042494,
             -2.733095494011109,
             -2.723420118354665,
             -3.237153824629583,
             -2.98560012259634
            ],
            [
             -2.847032143924652,
             -2.769208332080826,
             null,
             -2.5159174758940686,
             -2.7647998813551764,
             -2.859104585314454,
             -2.500828877749649,
             -2.7574615990580216,
             -2.8504715783957004,
             -2.5095226630642307,
             -2.773071177477477,
             -2.737753963940291,
             -2.838673846847979,
             -2.7590395972498656,
             -2.775269038776332,
             -3.265478096932488,
             -3.0072780568853523
            ],
            [
             -2.793861657643175,
             -2.6806242728225356,
             -2.805010042893231,
             null,
             -2.6933186738606256,
             -2.8112592269492285,
             -2.4390978670404246,
             -2.6841598709638115,
             -2.7989696594110605,
             -2.418366493260947,
             -2.6777851988160783,
             -2.7018360273677144,
             -2.813204423160594,
             -2.6743761031771873,
             -2.7160313697399996,
             -3.137169966998491,
             -2.9366836102976093
            ],
            [
             -2.838349525279202,
             -2.726233080426001,
             -2.8222737559154836,
             -2.4857008456020866,
             null,
             -2.82648948208632,
             -2.476211658472666,
             -2.715059648720614,
             -2.846425889143047,
             -2.5203621985473252,
             -2.7243012129054516,
             -2.742306246985116,
             -2.840890019131271,
             -2.7537059548478817,
             -2.739483645985742,
             -3.2347535814133175,
             -3.0041197038012433
            ],
            [
             -2.848610680225495,
             -2.7633478602228982,
             -2.861550176205477,
             -2.5189607223864074,
             -2.7594822848260843,
             null,
             -2.537914955629029,
             -2.7478137777043647,
             -2.824773305410056,
             -2.5243649046974794,
             -2.772076932474613,
             -2.767920620860492,
             -2.8435499746200517,
             -2.746862294084466,
             -2.7647419048581545,
             -3.2638811808935446,
             -3.006200647937264
            ],
            [
             -2.7945975474406426,
             -2.672205624277428,
             -2.8055648996591964,
             -2.4192694036078586,
             -2.679833667465062,
             -2.790561112025961,
             null,
             -2.6976131427529637,
             -2.787996442364042,
             -2.4333433568378586,
             -2.6934248345409646,
             -2.689664582821246,
             -2.811017294196133,
             -2.6852397758964472,
             -2.665421900124522,
             -3.142477136686657,
             -2.945049031507515
            ],
            [
             -2.8527441484476204,
             -2.720312330187536,
             -2.8593186440541323,
             -2.4965141594896365,
             -2.73222070979967,
             -2.836172110176852,
             -2.5012113128768787,
             null,
             -2.8362701708791134,
             -2.5151507713784094,
             -2.7149571145777065,
             -2.71873632350183,
             -2.841471953687869,
             -2.7266619192590054,
             -2.7151816772719215,
             -3.2367913431774546,
             -2.990001772362981
            ],
            [
             -2.854049946191234,
             -2.7534789384444025,
             -2.8499774195833054,
             -2.517077975365861,
             -2.737490131068005,
             -2.853228773987639,
             -2.5350490674750676,
             -2.7629753227906853,
             null,
             -2.4978144834788654,
             -2.7639867117242987,
             -2.738939346759615,
             -2.856158975272222,
             -2.7364414423899426,
             -2.7543894975646266,
             -3.2653910855796293,
             -3.012757078980578
            ],
            [
             -2.7945773841275368,
             -2.710017958546196,
             -2.804236725987993,
             -2.4222160053990853,
             -2.6959802561360102,
             -2.7835828346946787,
             -2.4050714091801533,
             -2.706208423646955,
             -2.7928610469325696,
             null,
             -2.7065209440393088,
             -2.682494770419618,
             -2.8200673512399974,
             -2.677039779851422,
             -2.7090154729404157,
             -3.149138864063171,
             -2.9176048517444637
            ],
            [
             -2.838016532079381,
             -2.717282414331235,
             -2.8372934303265755,
             -2.492715648951941,
             -2.753655862859868,
             -2.852506520284063,
             -2.4822052322300467,
             -2.710654813825686,
             -2.8469891318429172,
             -2.4940913066284485,
             null,
             -2.7055503826655363,
             -2.837333128802843,
             -2.7122439864704684,
             -2.753149418287607,
             -3.2366751461774594,
             -2.9857239305725702
            ],
            [
             -2.841436577644957,
             -2.741197314512788,
             -2.8350086891014312,
             -2.5018797479162367,
             -2.7032368315174287,
             -2.8576168797407124,
             -2.5015080185430247,
             -2.7319167974208143,
             -2.866335087012379,
             -2.50599924665408,
             -2.7159763437912665,
             null,
             -2.8427741317658617,
             -2.7494958052689555,
             -2.7188830490325513,
             -3.2382536761355643,
             -2.989299907969369
            ],
            [
             -2.8574904999541713,
             -2.757874828121548,
             -2.836801602405946,
             -2.5145947926412124,
             -2.776514985995462,
             -2.8582888395432473,
             -2.5100568665760847,
             -2.7727799067214463,
             -2.847354870392868,
             -2.539932652546568,
             -2.7670191506382733,
             -2.7676537467638225,
             null,
             -2.768673253337806,
             -2.7621329590330648,
             -3.267328367615393,
             -3.018371082714945
            ],
            [
             -2.831625897800422,
             -2.743224193225815,
             -2.8253331810086357,
             -2.496564090264143,
             -2.7269613124593968,
             -2.84291883650624,
             -2.4755802877330217,
             -2.704577990630079,
             -2.839717997400511,
             -2.475167000083609,
             -2.7226632215846203,
             -2.7119516225256906,
             -2.8185491026905214,
             null,
             -2.719689163512609,
             -3.2348944898536733,
             -2.9934528032433056
            ],
            [
             -2.8514682300735994,
             -2.7448640037565926,
             -2.8427515678052133,
             -2.4966078081967917,
             -2.74235577309305,
             -2.8342725198140037,
             -2.4988083593057078,
             -2.7103880938991805,
             -2.8291400972749035,
             -2.503298547080734,
             -2.7360807575585264,
             -2.7330988575522306,
             -2.8441296601993993,
             -2.705682424581142,
             null,
             -3.2378874342952315,
             -2.9841915614481604
            ],
            [
             -2.962494039911259,
             -2.8423406582790576,
             -2.954507314221811,
             -2.5644603072164207,
             -2.8353951693433355,
             -2.964845090449149,
             -2.5556375683646704,
             -2.8386317940804386,
             -2.963308972093713,
             -2.560999283191517,
             -2.8333860962443933,
             -2.8308654658430337,
             -2.952742366845893,
             -2.8359384903778384,
             -2.8236707391222384,
             null,
             -3.095328214131093
            ],
            [
             -2.9080143017269084,
             -2.793943662230012,
             -2.8998820636227056,
             -2.527864651448688,
             -2.7838094308865386,
             -2.914045622553132,
             -2.52481682222563,
             -2.8084470135948747,
             -2.8951426735246373,
             -2.523727571881367,
             -2.799631799115948,
             -2.82328182590169,
             -2.9013001563461964,
             -2.7973275588650637,
             -2.8090540626581615,
             -3.2986171609264896,
             null
            ]
           ]
          }
         ],
         "name": "frame_0"
        },
        {
         "data": [
          {
           "colorscale": [
            [
             0,
             "#440154"
            ],
            [
             0.1111111111111111,
             "#482878"
            ],
            [
             0.2222222222222222,
             "#3e4989"
            ],
            [
             0.3333333333333333,
             "#31688e"
            ],
            [
             0.4444444444444444,
             "#26828e"
            ],
            [
             0.5555555555555556,
             "#1f9e89"
            ],
            [
             0.6666666666666666,
             "#35b779"
            ],
            [
             0.7777777777777778,
             "#6ece58"
            ],
            [
             0.8888888888888888,
             "#b5de2b"
            ],
            [
             1,
             "#fde725"
            ]
           ],
           "reversescale": false,
           "showscale": true,
           "text": [
            [
             "N/A",
             "-2.76",
             "-2.85",
             "-2.53",
             "-2.76",
             "-2.87",
             "-2.52",
             "-2.77",
             "-2.86",
             "-2.53",
             "-2.77",
             "-2.77",
             "-2.86",
             "-2.77",
             "-2.77",
             "-3.32",
             "-3.03"
            ],
            [
             "-2.87",
             "N/A",
             "-2.85",
             "-2.49",
             "-2.75",
             "-2.85",
             "-2.52",
             "-2.74",
             "-2.86",
             "-2.51",
             "-2.75",
             "-2.72",
             "-2.87",
             "-2.74",
             "-2.74",
             "-3.33",
             "-3.04"
            ],
            [
             "-2.85",
             "-2.77",
             "N/A",
             "-2.51",
             "-2.77",
             "-2.86",
             "-2.53",
             "-2.78",
             "-2.87",
             "-2.50",
             "-2.78",
             "-2.78",
             "-2.88",
             "-2.77",
             "-2.76",
             "-3.33",
             "-3.03"
            ],
            [
             "-2.86",
             "-2.72",
             "-2.85",
             "N/A",
             "-2.76",
             "-2.85",
             "-2.45",
             "-2.72",
             "-2.85",
             "-2.45",
             "-2.76",
             "-2.73",
             "-2.84",
             "-2.75",
             "-2.74",
             "-3.30",
             "-3.02"
            ],
            [
             "-2.88",
             "-2.73",
             "-2.86",
             "-2.52",
             "N/A",
             "-2.85",
             "-2.52",
             "-2.74",
             "-2.85",
             "-2.49",
             "-2.74",
             "-2.72",
             "-2.87",
             "-2.75",
             "-2.71",
             "-3.32",
             "-3.04"
            ],
            [
             "-2.85",
             "-2.76",
             "-2.84",
             "-2.54",
             "-2.77",
             "N/A",
             "-2.51",
             "-2.77",
             "-2.86",
             "-2.52",
             "-2.77",
             "-2.77",
             "-2.86",
             "-2.79",
             "-2.76",
             "-3.33",
             "-3.03"
            ],
            [
             "-2.86",
             "-2.72",
             "-2.84",
             "-2.45",
             "-2.73",
             "-2.86",
             "N/A",
             "-2.73",
             "-2.87",
             "-2.44",
             "-2.73",
             "-2.73",
             "-2.86",
             "-2.72",
             "-2.73",
             "-3.32",
             "-3.01"
            ],
            [
             "-2.87",
             "-2.72",
             "-2.85",
             "-2.50",
             "-2.74",
             "-2.85",
             "-2.50",
             "N/A",
             "-2.87",
             "-2.49",
             "-2.72",
             "-2.75",
             "-2.88",
             "-2.76",
             "-2.74",
             "-3.32",
             "-3.03"
            ],
            [
             "-2.86",
             "-2.77",
             "-2.86",
             "-2.50",
             "-2.77",
             "-2.85",
             "-2.53",
             "-2.77",
             "N/A",
             "-2.51",
             "-2.75",
             "-2.77",
             "-2.86",
             "-2.76",
             "-2.77",
             "-3.32",
             "-3.04"
            ],
            [
             "-2.85",
             "-2.74",
             "-2.85",
             "-2.45",
             "-2.72",
             "-2.86",
             "-2.46",
             "-2.77",
             "-2.86",
             "N/A",
             "-2.74",
             "-2.73",
             "-2.86",
             "-2.73",
             "-2.75",
             "-3.30",
             "-3.02"
            ],
            [
             "-2.86",
             "-2.74",
             "-2.86",
             "-2.53",
             "-2.76",
             "-2.86",
             "-2.52",
             "-2.73",
             "-2.87",
             "-2.50",
             "N/A",
             "-2.74",
             "-2.87",
             "-2.76",
             "-2.73",
             "-3.31",
             "-3.04"
            ],
            [
             "-2.87",
             "-2.73",
             "-2.86",
             "-2.50",
             "-2.73",
             "-2.87",
             "-2.51",
             "-2.74",
             "-2.87",
             "-2.49",
             "-2.72",
             "N/A",
             "-2.85",
             "-2.74",
             "-2.72",
             "-3.33",
             "-3.04"
            ],
            [
             "-2.86",
             "-2.77",
             "-2.85",
             "-2.55",
             "-2.77",
             "-2.86",
             "-2.52",
             "-2.77",
             "-2.88",
             "-2.50",
             "-2.76",
             "-2.75",
             "N/A",
             "-2.77",
             "-2.77",
             "-3.32",
             "-3.02"
            ],
            [
             "-2.86",
             "-2.73",
             "-2.86",
             "-2.50",
             "-2.72",
             "-2.85",
             "-2.52",
             "-2.74",
             "-2.83",
             "-2.55",
             "-2.73",
             "-2.73",
             "-2.86",
             "N/A",
             "-2.75",
             "-3.32",
             "-3.04"
            ],
            [
             "-2.85",
             "-2.73",
             "-2.86",
             "-2.49",
             "-2.75",
             "-2.87",
             "-2.49",
             "-2.72",
             "-2.85",
             "-2.52",
             "-2.77",
             "-2.74",
             "-2.85",
             "-2.76",
             "N/A",
             "-3.33",
             "-3.03"
            ],
            [
             "-2.95",
             "-2.84",
             "-2.96",
             "-2.58",
             "-2.84",
             "-2.95",
             "-2.56",
             "-2.86",
             "-2.96",
             "-2.56",
             "-2.83",
             "-2.85",
             "-2.96",
             "-2.82",
             "-2.83",
             "N/A",
             "-3.11"
            ],
            [
             "-2.91",
             "-2.80",
             "-2.91",
             "-2.53",
             "-2.80",
             "-2.89",
             "-2.55",
             "-2.81",
             "-2.91",
             "-2.55",
             "-2.80",
             "-2.81",
             "-2.90",
             "-2.79",
             "-2.81",
             "-3.33",
             "N/A"
            ]
           ],
           "textfont": {
            "color": "black"
           },
           "texttemplate": "%{text}",
           "type": "heatmap",
           "x": [
            "WhereIsAI_UAE-Large-V1",
            "BAAI_bge-base-en-v1.5",
            "BAAI_bge-large-en-v1.5",
            "BAAI_bge-small-en-v1.5",
            "intfloat_e5-base-v2",
            "intfloat_e5-large-v2",
            "intfloat_e5-small-v2",
            "thenlper_gte-base",
            "thenlper_gte-large",
            "thenlper_gte-small",
            "sentence-transformers_gtr-t5-base",
            "sentence-transformers_gtr-t5-large",
            "mixedbread-ai_mxbai-embed-large-v1",
            "sentence-transformers_sentence-t5-base",
            "sentence-transformers_sentence-t5-large",
            "openai_text-embedding-3-large",
            "openai_text-embedding-3-small"
           ],
           "y": [
            "WhereIsAI_UAE-Large-V1",
            "BAAI_bge-base-en-v1.5",
            "BAAI_bge-large-en-v1.5",
            "BAAI_bge-small-en-v1.5",
            "intfloat_e5-base-v2",
            "intfloat_e5-large-v2",
            "intfloat_e5-small-v2",
            "thenlper_gte-base",
            "thenlper_gte-large",
            "thenlper_gte-small",
            "sentence-transformers_gtr-t5-base",
            "sentence-transformers_gtr-t5-large",
            "mixedbread-ai_mxbai-embed-large-v1",
            "sentence-transformers_sentence-t5-base",
            "sentence-transformers_sentence-t5-large",
            "openai_text-embedding-3-large",
            "openai_text-embedding-3-small"
           ],
           "z": [
            [
             null,
             -2.7586646157069556,
             -2.8514629866744587,
             -2.5252180708989505,
             -2.758584861814864,
             -2.869603307514369,
             -2.5202884137191437,
             -2.7745070344780096,
             -2.862846409819395,
             -2.5344359895600466,
             -2.772435776896531,
             -2.7718790679447958,
             -2.86203225950042,
             -2.7718826260784937,
             -2.7676251734094293,
             -3.3224816522625935,
             -3.0275411644435386
            ],
            [
             -2.8703708659285234,
             null,
             -2.8541111152704217,
             -2.4891692420785305,
             -2.7463853873574875,
             -2.8465739111361175,
             -2.516371010144109,
             -2.7389250731474104,
             -2.8561679061264793,
             -2.506320980111235,
             -2.7466017571438717,
             -2.7152288606912545,
             -2.8705320080426198,
             -2.7351021878255692,
             -2.7357337153295935,
             -3.3268639230158437,
             -3.042091538429793
            ],
            [
             -2.849055746249893,
             -2.7698964059318287,
             null,
             -2.511554197628636,
             -2.768093717575885,
             -2.863427199273659,
             -2.525135697631635,
             -2.7849897023422283,
             -2.8665256717627896,
             -2.503713672152697,
             -2.776522148441576,
             -2.780864345667275,
             -2.8774961417493907,
             -2.7690876092957653,
             -2.7558319670664693,
             -3.3256264200336307,
             -3.031649185368236
            ],
            [
             -2.85969480938551,
             -2.7163836694264574,
             -2.8456303324390113,
             null,
             -2.759420248852808,
             -2.8488345840934444,
             -2.4505415564173165,
             -2.7178202849185205,
             -2.8512249455772056,
             -2.4540695801688623,
             -2.757865042665062,
             -2.7282753342476673,
             -2.842169253065601,
             -2.7474498586404135,
             -2.737472866489879,
             -3.302095234123099,
             -3.0172965596251315
            ],
            [
             -2.8750224787413834,
             -2.7341960774195875,
             -2.864689290129941,
             -2.515699505972107,
             null,
             -2.8533998392716904,
             -2.5221790024492052,
             -2.7403906336893447,
             -2.852594908967431,
             -2.4949571983634224,
             -2.7365485982015034,
             -2.720887680774584,
             -2.869156589779969,
             -2.7476360781089606,
             -2.711675671502142,
             -3.3237299507108453,
             -3.0364869971068966
            ],
            [
             -2.8507161978497053,
             -2.763435062309923,
             -2.844727128755279,
             -2.5403636643214536,
             -2.774872589946664,
             null,
             -2.50583811276456,
             -2.768563509601616,
             -2.8579888754923832,
             -2.5150966710099234,
             -2.765890846013496,
             -2.7667462698548055,
             -2.8638391992698287,
             -2.7940821646635605,
             -2.7562676456253308,
             -3.325415743392351,
             -3.0303489640667984
            ],
            [
             -2.8603978918203072,
             -2.720170589076402,
             -2.8370359302655492,
             -2.450622115991833,
             -2.725200398192916,
             -2.861870120051668,
             null,
             -2.728406922895998,
             -2.8677975955255297,
             -2.4429649979753734,
             -2.7328829601102242,
             -2.732839995737666,
             -2.855431944839732,
             -2.7209873964097038,
             -2.73226560537218,
             -3.3168671910049183,
             -3.0074611769958755
            ],
            [
             -2.8717861555916664,
             -2.718393478070725,
             -2.853113578228335,
             -2.4996318284894055,
             -2.7426464792105096,
             -2.847634760784249,
             -2.5035462591843434,
             null,
             -2.867989270980063,
             -2.488811689053987,
             -2.717375872509265,
             -2.746797180472696,
             -2.880226498740932,
             -2.7583498615183957,
             -2.738362484595137,
             -3.323722386232716,
             -3.031354977478185
            ],
            [
             -2.8639343231938423,
             -2.7691866987521254,
             -2.855672086101444,
             -2.5027700450154318,
             -2.7673594276462667,
             -2.8541499962574495,
             -2.532805138275548,
             -2.7708572071690742,
             null,
             -2.5141649118552443,
             -2.753873361920988,
             -2.7708754634458725,
             -2.8635507028478044,
             -2.7578293189353533,
             -2.7666312513765345,
             -3.3246675271544297,
             -3.0362467585205564
            ],
            [
             -2.853933015468688,
             -2.7353731502261773,
             -2.8469175492771956,
             -2.4547161384587324,
             -2.724357652287953,
             -2.8593596398393153,
             -2.460279271818777,
             -2.7658496789267084,
             -2.8552007386079445,
             null,
             -2.744844195891422,
             -2.7330823409012286,
             -2.8627027987206644,
             -2.731679026550498,
             -2.7537173675685453,
             -3.30428878704301,
             -3.0216942635921735
            ],
            [
             -2.8561123272502353,
             -2.7417547743672723,
             -2.8635182451432066,
             -2.530025838858757,
             -2.75809531989786,
             -2.8630456862056426,
             -2.523690458445891,
             -2.731757287624467,
             -2.8685868086269437,
             -2.49776733544759,
             null,
             -2.739187505417508,
             -2.8713485795536586,
             -2.755779958171913,
             -2.728382252059213,
             -3.308717955716127,
             -3.036219719385437
            ],
            [
             -2.8732200806907238,
             -2.7288040131477467,
             -2.861155140498018,
             -2.5009148738656086,
             -2.7330018175516657,
             -2.8708315272504956,
             -2.5087038290159756,
             -2.7368148658549845,
             -2.868050159346642,
             -2.4883091996331372,
             -2.721888267318469,
             null,
             -2.848786895814159,
             -2.7356787765807242,
             -2.720516700396901,
             -3.3309673421067503,
             -3.036906964070214
            ],
            [
             -2.8554719954098275,
             -2.7737436622342955,
             -2.8522598112383353,
             -2.5466190402717452,
             -2.767592486613045,
             -2.861352356251413,
             -2.5211997739433287,
             -2.7749882462157256,
             -2.877059748656581,
             -2.4992428328710967,
             -2.7621260592415773,
             -2.7547290141033187,
             null,
             -2.771389519532128,
             -2.7697516283514516,
             -3.3228882258871275,
             -3.02480257289258
            ],
            [
             -2.863186311467222,
             -2.734282224345633,
             -2.8627019879098574,
             -2.504018321623262,
             -2.72349928566073,
             -2.852727255594768,
             -2.522383482983389,
             -2.738970750357863,
             -2.8321703607785427,
             -2.5468041613473593,
             -2.734052336194414,
             -2.7273845559768333,
             -2.858450012167407,
             null,
             -2.74732768754677,
             -3.3193487340206227,
             -3.036801569679264
            ],
            [
             -2.8523611411304026,
             -2.7325832000682384,
             -2.859903593293855,
             -2.4882361513161078,
             -2.748285799606247,
             -2.870132132858694,
             -2.491901662425075,
             -2.719250463950896,
             -2.854796197457221,
             -2.5217862660483417,
             -2.7696547302224577,
             -2.7402160561855333,
             -2.853069238709684,
             -2.7599443028895227,
             null,
             -3.3266435281511852,
             -3.030343623627553
            ],
            [
             -2.9528668588374276,
             -2.8365731962828105,
             -2.9579676714944942,
             -2.5757355400375403,
             -2.843485902761779,
             -2.949812099994279,
             -2.562270229081586,
             -2.8577347337997723,
             -2.9578795626918484,
             -2.5604496120921274,
             -2.8314019114593068,
             -2.845716907247692,
             -2.9649405935005326,
             -2.8246976945727513,
             -2.83456866168035,
             null,
             -3.1081026191759857
            ],
            [
             -2.9122301455683792,
             -2.8019425944503102,
             -2.908963668996236,
             -2.5325563661477077,
             -2.8005788607144506,
             -2.894519858140843,
             -2.54676765787108,
             -2.80598402258751,
             -2.9068114723907317,
             -2.553538263534035,
             -2.8000649174029513,
             -2.813038944092762,
             -2.900076670071387,
             -2.7854146239791184,
             -2.8073304386868587,
             -3.3317336088282827,
             null
            ]
           ]
          }
         ],
         "name": "frame_1"
        },
        {
         "data": [
          {
           "colorscale": [
            [
             0,
             "#440154"
            ],
            [
             0.1111111111111111,
             "#482878"
            ],
            [
             0.2222222222222222,
             "#3e4989"
            ],
            [
             0.3333333333333333,
             "#31688e"
            ],
            [
             0.4444444444444444,
             "#26828e"
            ],
            [
             0.5555555555555556,
             "#1f9e89"
            ],
            [
             0.6666666666666666,
             "#35b779"
            ],
            [
             0.7777777777777778,
             "#6ece58"
            ],
            [
             0.8888888888888888,
             "#b5de2b"
            ],
            [
             1,
             "#fde725"
            ]
           ],
           "reversescale": false,
           "showscale": true,
           "text": [
            [
             "N/A",
             "-2.79",
             "-2.86",
             "-2.52",
             "-2.78",
             "-2.89",
             "-2.53",
             "-2.78",
             "-2.87",
             "-2.52",
             "-2.78",
             "-2.77",
             "-2.86",
             "-2.77",
             "-2.78",
             "-3.34",
             "-3.04"
            ],
            [
             "-2.87",
             "N/A",
             "-2.85",
             "-2.52",
             "-2.76",
             "-2.88",
             "-2.50",
             "-2.73",
             "-2.85",
             "-2.55",
             "-2.72",
             "-2.74",
             "-2.86",
             "-2.72",
             "-2.74",
             "-3.33",
             "-3.04"
            ],
            [
             "-2.86",
             "-2.78",
             "N/A",
             "-2.52",
             "-2.76",
             "-2.86",
             "-2.55",
             "-2.79",
             "-2.87",
             "-2.53",
             "-2.79",
             "-2.76",
             "-2.86",
             "-2.76",
             "-2.76",
             "-3.34",
             "-3.04"
            ],
            [
             "-2.87",
             "-2.75",
             "-2.86",
             "N/A",
             "-2.74",
             "-2.87",
             "-2.43",
             "-2.74",
             "-2.86",
             "-2.43",
             "-2.74",
             "-2.74",
             "-2.86",
             "-2.74",
             "-2.75",
             "-3.33",
             "-3.04"
            ],
            [
             "-2.86",
             "-2.74",
             "-2.87",
             "-2.49",
             "N/A",
             "-2.87",
             "-2.50",
             "-2.76",
             "-2.85",
             "-2.50",
             "-2.74",
             "-2.74",
             "-2.86",
             "-2.73",
             "-2.73",
             "-3.34",
             "-3.04"
            ],
            [
             "-2.86",
             "-2.78",
             "-2.87",
             "-2.51",
             "-2.78",
             "N/A",
             "-2.50",
             "-2.76",
             "-2.87",
             "-2.50",
             "-2.77",
             "-2.78",
             "-2.86",
             "-2.77",
             "-2.77",
             "-3.34",
             "-3.05"
            ],
            [
             "-2.86",
             "-2.74",
             "-2.86",
             "-2.44",
             "-2.75",
             "-2.88",
             "N/A",
             "-2.72",
             "-2.86",
             "-2.45",
             "-2.75",
             "-2.73",
             "-2.86",
             "-2.73",
             "-2.72",
             "-3.34",
             "-3.04"
            ],
            [
             "-2.86",
             "-2.76",
             "-2.85",
             "-2.51",
             "-2.75",
             "-2.86",
             "-2.52",
             "N/A",
             "-2.86",
             "-2.52",
             "-2.72",
             "-2.74",
             "-2.86",
             "-2.73",
             "-2.71",
             "-3.33",
             "-3.04"
            ],
            [
             "-2.88",
             "-2.78",
             "-2.86",
             "-2.53",
             "-2.77",
             "-2.87",
             "-2.53",
             "-2.77",
             "N/A",
             "-2.54",
             "-2.77",
             "-2.77",
             "-2.87",
             "-2.76",
             "-2.77",
             "-3.34",
             "-3.05"
            ],
            [
             "-2.87",
             "-2.73",
             "-2.87",
             "-2.42",
             "-2.72",
             "-2.86",
             "-2.47",
             "-2.75",
             "-2.87",
             "N/A",
             "-2.73",
             "-2.75",
             "-2.87",
             "-2.73",
             "-2.75",
             "-3.33",
             "-3.04"
            ],
            [
             "-2.85",
             "-2.74",
             "-2.86",
             "-2.50",
             "-2.74",
             "-2.85",
             "-2.50",
             "-2.74",
             "-2.86",
             "-2.49",
             "N/A",
             "-2.73",
             "-2.84",
             "-2.74",
             "-2.73",
             "-3.34",
             "-3.04"
            ],
            [
             "-2.87",
             "-2.75",
             "-2.87",
             "-2.53",
             "-2.74",
             "-2.85",
             "-2.52",
             "-2.73",
             "-2.85",
             "-2.48",
             "-2.74",
             "N/A",
             "-2.87",
             "-2.73",
             "-2.73",
             "-3.34",
             "-3.04"
            ],
            [
             "-2.86",
             "-2.76",
             "-2.87",
             "-2.53",
             "-2.78",
             "-2.87",
             "-2.51",
             "-2.76",
             "-2.86",
             "-2.53",
             "-2.79",
             "-2.77",
             "N/A",
             "-2.76",
             "-2.76",
             "-3.34",
             "-3.04"
            ],
            [
             "-2.85",
             "-2.72",
             "-2.85",
             "-2.50",
             "-2.74",
             "-2.86",
             "-2.50",
             "-2.75",
             "-2.87",
             "-2.49",
             "-2.73",
             "-2.74",
             "-2.84",
             "N/A",
             "-2.72",
             "-3.34",
             "-3.04"
            ],
            [
             "-2.86",
             "-2.74",
             "-2.86",
             "-2.53",
             "-2.74",
             "-2.87",
             "-2.52",
             "-2.75",
             "-2.86",
             "-2.51",
             "-2.74",
             "-2.71",
             "-2.86",
             "-2.73",
             "N/A",
             "-3.34",
             "-3.04"
            ],
            [
             "-2.96",
             "-2.83",
             "-2.96",
             "-2.57",
             "-2.83",
             "-2.95",
             "-2.55",
             "-2.85",
             "-2.97",
             "-2.53",
             "-2.85",
             "-2.85",
             "-2.95",
             "-2.86",
             "-2.85",
             "N/A",
             "-3.10"
            ],
            [
             "-2.90",
             "-2.79",
             "-2.89",
             "-2.54",
             "-2.80",
             "-2.91",
             "-2.54",
             "-2.79",
             "-2.91",
             "-2.53",
             "-2.81",
             "-2.81",
             "-2.90",
             "-2.80",
             "-2.81",
             "-3.34",
             "N/A"
            ]
           ],
           "textfont": {
            "color": "black"
           },
           "texttemplate": "%{text}",
           "type": "heatmap",
           "x": [
            "WhereIsAI_UAE-Large-V1",
            "BAAI_bge-base-en-v1.5",
            "BAAI_bge-large-en-v1.5",
            "BAAI_bge-small-en-v1.5",
            "intfloat_e5-base-v2",
            "intfloat_e5-large-v2",
            "intfloat_e5-small-v2",
            "thenlper_gte-base",
            "thenlper_gte-large",
            "thenlper_gte-small",
            "sentence-transformers_gtr-t5-base",
            "sentence-transformers_gtr-t5-large",
            "mixedbread-ai_mxbai-embed-large-v1",
            "sentence-transformers_sentence-t5-base",
            "sentence-transformers_sentence-t5-large",
            "openai_text-embedding-3-large",
            "openai_text-embedding-3-small"
           ],
           "y": [
            "WhereIsAI_UAE-Large-V1",
            "BAAI_bge-base-en-v1.5",
            "BAAI_bge-large-en-v1.5",
            "BAAI_bge-small-en-v1.5",
            "intfloat_e5-base-v2",
            "intfloat_e5-large-v2",
            "intfloat_e5-small-v2",
            "thenlper_gte-base",
            "thenlper_gte-large",
            "thenlper_gte-small",
            "sentence-transformers_gtr-t5-base",
            "sentence-transformers_gtr-t5-large",
            "mixedbread-ai_mxbai-embed-large-v1",
            "sentence-transformers_sentence-t5-base",
            "sentence-transformers_sentence-t5-large",
            "openai_text-embedding-3-large",
            "openai_text-embedding-3-small"
           ],
           "z": [
            [
             null,
             -2.787829591574313,
             -2.857085058247189,
             -2.5217326438527903,
             -2.7750426372906536,
             -2.8931643357141743,
             -2.528171033756628,
             -2.780924576102332,
             -2.866756329066821,
             -2.5213019566180868,
             -2.778860021603567,
             -2.766094114091343,
             -2.8617246618107677,
             -2.768501853980236,
             -2.7843089436601476,
             -3.343762714004344,
             -3.0383716461698427
            ],
            [
             -2.8675484581206274,
             null,
             -2.8513752589138543,
             -2.5243443418784874,
             -2.761209333239165,
             -2.8780662473185443,
             -2.4953018817238286,
             -2.725475273202154,
             -2.8486289836204612,
             -2.5470154431881844,
             -2.7175195799574055,
             -2.736880623832882,
             -2.859542357675076,
             -2.7173819384923634,
             -2.74015860192231,
             -3.3320378283238754,
             -3.043990649487058
            ],
            [
             -2.860110316108766,
             -2.77615085424497,
             null,
             -2.5209977963268755,
             -2.762261180611942,
             -2.857736227673164,
             -2.546115955312932,
             -2.78551164776998,
             -2.8703165150547947,
             -2.5326219583783005,
             -2.7859529552378515,
             -2.762010971681367,
             -2.860156589492411,
             -2.7644987878945275,
             -2.760924741494704,
             -3.3440496895914067,
             -3.035386645847811
            ],
            [
             -2.8726893697872264,
             -2.746511439545759,
             -2.856284750235434,
             null,
             -2.741392243734453,
             -2.868338263619177,
             -2.426556211337809,
             -2.7433823432617634,
             -2.8571493125681964,
             -2.4282306380988246,
             -2.739874666562883,
             -2.7404833309178245,
             -2.8611069246052256,
             -2.735767226701964,
             -2.754270728018752,
             -3.334661273322087,
             -3.037225944785483
            ],
            [
             -2.860439759547321,
             -2.740046105862653,
             -2.869255841471944,
             -2.491040331887517,
             null,
             -2.8675316503137074,
             -2.5020147470823293,
             -2.7581032566771886,
             -2.8527587006003454,
             -2.502168330342793,
             -2.7390950288803464,
             -2.73749065592193,
             -2.861498792418345,
             -2.728584962363873,
             -2.7295025622110014,
             -3.3397398017068856,
             -3.036643883596451
            ],
            [
             -2.8639529882580486,
             -2.778740079503796,
             -2.8730024953111726,
             -2.5125041926851526,
             -2.781761553302925,
             null,
             -2.504960689604657,
             -2.7610600436845907,
             -2.87256685957873,
             -2.5044574275307587,
             -2.7736676059196297,
             -2.7781982921848742,
             -2.8614919196545694,
             -2.7739830878611067,
             -2.774743119170997,
             -3.3400160831674754,
             -3.0459754599827926
            ],
            [
             -2.859762708971633,
             -2.73775023246714,
             -2.8637406604403672,
             -2.44329401239429,
             -2.7490817019456784,
             -2.876120610027587,
             null,
             -2.719433426823625,
             -2.8636730595519255,
             -2.4511485322947637,
             -2.748536524785976,
             -2.733485291232407,
             -2.8559742276596296,
             -2.7337297769207862,
             -2.7215693146660365,
             -3.3374515324513814,
             -3.0412139743667312
            ],
            [
             -2.863764563381775,
             -2.760096672203995,
             -2.8549296511251048,
             -2.5134018859793077,
             -2.7465041066489166,
             -2.8569540685501997,
             -2.5230342536818977,
             null,
             -2.858604526933976,
             -2.5199184723335626,
             -2.72280970441354,
             -2.7443770765231936,
             -2.858448588828366,
             -2.734495389419423,
             -2.7132357002951655,
             -3.332960990912285,
             -3.036977176982556
            ],
            [
             -2.878010695802078,
             -2.777570256106563,
             -2.8616637346190825,
             -2.531320102906032,
             -2.7720396614962124,
             -2.8686855565111604,
             -2.5270549715073924,
             -2.766507167216906,
             null,
             -2.543601740239756,
             -2.77415702528374,
             -2.7714586957982412,
             -2.8651776895231285,
             -2.7577841039707502,
             -2.7665847562765435,
             -3.339235462369063,
             -3.046899458133612
            ],
            [
             -2.8672516035075657,
             -2.732150632857234,
             -2.8657579326976292,
             -2.415361567875236,
             -2.722862905449982,
             -2.860998210617021,
             -2.4652685148308984,
             -2.748556445103851,
             -2.8694266763304728,
             null,
             -2.7303154174233057,
             -2.7471717665605175,
             -2.8658666939968733,
             -2.731713017001694,
             -2.7508289280057916,
             -3.332714720179327,
             -3.0381077876054934
            ],
            [
             -2.8533908930119853,
             -2.7364742918758163,
             -2.862910784826604,
             -2.49645348260971,
             -2.7407866750694074,
             -2.853996624477751,
             -2.504899403261238,
             -2.7433760150344235,
             -2.858623840581897,
             -2.4922684916184656,
             null,
             -2.7315274784142503,
             -2.839955023731226,
             -2.7373286166898345,
             -2.7279105837266067,
             -3.3395353714977274,
             -3.043531055575143
            ],
            [
             -2.8677653781852883,
             -2.750318369819908,
             -2.871088868030628,
             -2.5283001590057945,
             -2.7412925249045226,
             -2.854631310146744,
             -2.5219189884408943,
             -2.7271551871796706,
             -2.8504144666028624,
             -2.48099634989994,
             -2.735427005590481,
             null,
             -2.865896506030306,
             -2.729186994758687,
             -2.7325673585162398,
             -3.342565407852309,
             -3.0397057858469654
            ],
            [
             -2.859175500007354,
             -2.7584781015311775,
             -2.8709429940702393,
             -2.5285762827833653,
             -2.782831351386755,
             -2.8704749730312367,
             -2.5105584723321894,
             -2.756155224553118,
             -2.8595950473657226,
             -2.5251595846095545,
             -2.787833624028244,
             -2.769375878284433,
             null,
             -2.7648019111140156,
             -2.759934470693205,
             -3.342651980907671,
             -3.0448007213105015
            ],
            [
             -2.851131344642486,
             -2.7164678280573833,
             -2.854312314997347,
             -2.497026079358897,
             -2.7417813605155383,
             -2.8610266256283228,
             -2.502267385009532,
             -2.7502474732190487,
             -2.865716180048773,
             -2.4851613335332385,
             -2.7344793407997323,
             -2.738147911411629,
             -2.8407436061106432,
             null,
             -2.7236382912884975,
             -3.3384521641474247,
             -3.043101482507152
            ],
            [
             -2.8593997616738536,
             -2.7387608356444635,
             -2.8606430330287447,
             -2.5338560270938837,
             -2.739287490963079,
             -2.8699899529149553,
             -2.517835898719564,
             -2.7498993033757895,
             -2.8604113462451695,
             -2.5099871022128952,
             -2.740536711026033,
             -2.7096634246745674,
             -2.861701495969156,
             -2.7347342684639635,
             null,
             -3.3355730369434107,
             -3.03884217473706
            ],
            [
             -2.9593314591336086,
             -2.831965596403292,
             -2.96084652607136,
             -2.5651787872182026,
             -2.8342310291202732,
             -2.9469901554978377,
             -2.5538437280617257,
             -2.8540979630106778,
             -2.9672659495856157,
             -2.533760248355379,
             -2.849700486806163,
             -2.8476317349395934,
             -2.9508281479862895,
             -2.857977646819448,
             -2.8502129155566998,
             null,
             -3.097812609483179
            ],
            [
             -2.8951707915257985,
             -2.792707091655592,
             -2.8931510528593494,
             -2.5354015658651,
             -2.799459399094408,
             -2.9140533794061443,
             -2.5386995720794507,
             -2.7938953446501333,
             -2.9053848135189724,
             -2.534426401396912,
             -2.8144040819495957,
             -2.8059872892290776,
             -2.8984544599279127,
             -2.804999974641692,
             -2.8148135075688483,
             -3.3390895452403506,
             null
            ]
           ]
          }
         ],
         "name": "frame_2"
        },
        {
         "data": [
          {
           "colorscale": [
            [
             0,
             "#440154"
            ],
            [
             0.1111111111111111,
             "#482878"
            ],
            [
             0.2222222222222222,
             "#3e4989"
            ],
            [
             0.3333333333333333,
             "#31688e"
            ],
            [
             0.4444444444444444,
             "#26828e"
            ],
            [
             0.5555555555555556,
             "#1f9e89"
            ],
            [
             0.6666666666666666,
             "#35b779"
            ],
            [
             0.7777777777777778,
             "#6ece58"
            ],
            [
             0.8888888888888888,
             "#b5de2b"
            ],
            [
             1,
             "#fde725"
            ]
           ],
           "reversescale": false,
           "showscale": true,
           "text": [
            [
             "N/A",
             "-2.77",
             "-2.86",
             "-2.54",
             "-2.78",
             "-2.87",
             "-2.55",
             "-2.77",
             "-2.87",
             "-2.54",
             "-2.78",
             "-2.77",
             "-2.87",
             "-2.76",
             "-2.75",
             "-3.34",
             "-3.03"
            ],
            [
             "-2.85",
             "N/A",
             "-2.85",
             "-2.49",
             "-2.73",
             "-2.85",
             "-2.53",
             "-2.74",
             "-2.87",
             "-2.51",
             "-2.74",
             "-2.72",
             "-2.87",
             "-2.73",
             "-2.72",
             "-3.34",
             "-3.04"
            ],
            [
             "-2.87",
             "-2.76",
             "N/A",
             "-2.54",
             "-2.78",
             "-2.86",
             "-2.50",
             "-2.76",
             "-2.85",
             "-2.50",
             "-2.78",
             "-2.77",
             "-2.86",
             "-2.79",
             "-2.78",
             "-3.34",
             "-3.04"
            ],
            [
             "-2.85",
             "-2.74",
             "-2.86",
             "N/A",
             "-2.74",
             "-2.86",
             "-2.43",
             "-2.75",
             "-2.85",
             "-2.42",
             "-2.75",
             "-2.74",
             "-2.85",
             "-2.74",
             "-2.73",
             "-3.34",
             "-3.04"
            ],
            [
             "-2.87",
             "-2.75",
             "-2.86",
             "-2.48",
             "N/A",
             "-2.87",
             "-2.47",
             "-2.74",
             "-2.87",
             "-2.52",
             "-2.74",
             "-2.74",
             "-2.85",
             "-2.74",
             "-2.74",
             "-3.34",
             "-3.03"
            ],
            [
             "-2.86",
             "-2.77",
             "-2.86",
             "-2.52",
             "-2.77",
             "N/A",
             "-2.52",
             "-2.77",
             "-2.87",
             "-2.51",
             "-2.78",
             "-2.78",
             "-2.86",
             "-2.77",
             "-2.77",
             "-3.34",
             "-3.04"
            ],
            [
             "-2.87",
             "-2.75",
             "-2.85",
             "-2.46",
             "-2.75",
             "-2.87",
             "N/A",
             "-2.74",
             "-2.88",
             "-2.45",
             "-2.73",
             "-2.73",
             "-2.86",
             "-2.74",
             "-2.74",
             "-3.35",
             "-3.04"
            ],
            [
             "-2.87",
             "-2.73",
             "-2.88",
             "-2.51",
             "-2.73",
             "-2.87",
             "-2.50",
             "N/A",
             "-2.88",
             "-2.51",
             "-2.73",
             "-2.74",
             "-2.86",
             "-2.71",
             "-2.76",
             "-3.34",
             "-3.03"
            ],
            [
             "-2.86",
             "-2.77",
             "-2.86",
             "-2.51",
             "-2.77",
             "-2.86",
             "-2.52",
             "-2.77",
             "N/A",
             "-2.52",
             "-2.78",
             "-2.75",
             "-2.85",
             "-2.75",
             "-2.77",
             "-3.34",
             "-3.05"
            ],
            [
             "-2.88",
             "-2.74",
             "-2.86",
             "-2.43",
             "-2.75",
             "-2.86",
             "-2.44",
             "-2.75",
             "-2.87",
             "N/A",
             "-2.72",
             "-2.75",
             "-2.86",
             "-2.75",
             "-2.72",
             "-3.35",
             "-3.04"
            ],
            [
             "-2.87",
             "-2.74",
             "-2.87",
             "-2.51",
             "-2.74",
             "-2.87",
             "-2.54",
             "-2.76",
             "-2.87",
             "-2.50",
             "N/A",
             "-2.74",
             "-2.87",
             "-2.75",
             "-2.76",
             "-3.34",
             "-3.04"
            ],
            [
             "-2.86",
             "-2.75",
             "-2.87",
             "-2.52",
             "-2.75",
             "-2.88",
             "-2.48",
             "-2.71",
             "-2.89",
             "-2.52",
             "-2.75",
             "N/A",
             "-2.86",
             "-2.74",
             "-2.74",
             "-3.34",
             "-3.05"
            ],
            [
             "-2.88",
             "-2.77",
             "-2.87",
             "-2.53",
             "-2.78",
             "-2.87",
             "-2.52",
             "-2.78",
             "-2.86",
             "-2.52",
             "-2.78",
             "-2.78",
             "N/A",
             "-2.76",
             "-2.78",
             "-3.34",
             "-3.04"
            ],
            [
             "-2.86",
             "-2.73",
             "-2.87",
             "-2.50",
             "-2.75",
             "-2.85",
             "-2.53",
             "-2.74",
             "-2.86",
             "-2.50",
             "-2.73",
             "-2.73",
             "-2.86",
             "N/A",
             "-2.72",
             "-3.34",
             "-3.05"
            ],
            [
             "-2.85",
             "-2.72",
             "-2.87",
             "-2.47",
             "-2.74",
             "-2.86",
             "-2.52",
             "-2.74",
             "-2.85",
             "-2.53",
             "-2.74",
             "-2.75",
             "-2.89",
             "-2.76",
             "N/A",
             "-3.34",
             "-3.04"
            ],
            [
             "-2.96",
             "-2.85",
             "-2.96",
             "-2.56",
             "-2.86",
             "-2.96",
             "-2.57",
             "-2.83",
             "-2.96",
             "-2.59",
             "-2.85",
             "-2.84",
             "-2.95",
             "-2.84",
             "-2.85",
             "N/A",
             "-3.11"
            ],
            [
             "-2.91",
             "-2.83",
             "-2.91",
             "-2.54",
             "-2.82",
             "-2.90",
             "-2.55",
             "-2.79",
             "-2.92",
             "-2.54",
             "-2.80",
             "-2.80",
             "-2.90",
             "-2.80",
             "-2.80",
             "-3.34",
             "N/A"
            ]
           ],
           "textfont": {
            "color": "black"
           },
           "texttemplate": "%{text}",
           "type": "heatmap",
           "x": [
            "WhereIsAI_UAE-Large-V1",
            "BAAI_bge-base-en-v1.5",
            "BAAI_bge-large-en-v1.5",
            "BAAI_bge-small-en-v1.5",
            "intfloat_e5-base-v2",
            "intfloat_e5-large-v2",
            "intfloat_e5-small-v2",
            "thenlper_gte-base",
            "thenlper_gte-large",
            "thenlper_gte-small",
            "sentence-transformers_gtr-t5-base",
            "sentence-transformers_gtr-t5-large",
            "mixedbread-ai_mxbai-embed-large-v1",
            "sentence-transformers_sentence-t5-base",
            "sentence-transformers_sentence-t5-large",
            "openai_text-embedding-3-large",
            "openai_text-embedding-3-small"
           ],
           "y": [
            "WhereIsAI_UAE-Large-V1",
            "BAAI_bge-base-en-v1.5",
            "BAAI_bge-large-en-v1.5",
            "BAAI_bge-small-en-v1.5",
            "intfloat_e5-base-v2",
            "intfloat_e5-large-v2",
            "intfloat_e5-small-v2",
            "thenlper_gte-base",
            "thenlper_gte-large",
            "thenlper_gte-small",
            "sentence-transformers_gtr-t5-base",
            "sentence-transformers_gtr-t5-large",
            "mixedbread-ai_mxbai-embed-large-v1",
            "sentence-transformers_sentence-t5-base",
            "sentence-transformers_sentence-t5-large",
            "openai_text-embedding-3-large",
            "openai_text-embedding-3-small"
           ],
           "z": [
            [
             null,
             -2.7678180282054035,
             -2.859329797742716,
             -2.5387647352956684,
             -2.7839808314904775,
             -2.865004404909949,
             -2.5462139293479513,
             -2.7661444517213054,
             -2.874325885164115,
             -2.536940090920689,
             -2.781349265204522,
             -2.773674451343265,
             -2.8704495348297945,
             -2.7646354141689877,
             -2.751111795361277,
             -3.339311213986057,
             -3.0322921129098552
            ],
            [
             -2.8515733987335268,
             null,
             -2.845677994289708,
             -2.494903817621288,
             -2.73119173195237,
             -2.8488115602808737,
             -2.5275041795969893,
             -2.7420993487229133,
             -2.8691814660422748,
             -2.5081568520141415,
             -2.743259603303378,
             -2.719964099938958,
             -2.8676526363118486,
             -2.7275134722627667,
             -2.718503569547615,
             -3.340162284322461,
             -3.0388420918039705
            ],
            [
             -2.873985931211736,
             -2.76018229247624,
             null,
             -2.539108507211953,
             -2.7781566092166163,
             -2.8590347054607266,
             -2.503953457224561,
             -2.76433252463641,
             -2.8525547627938996,
             -2.502670553915146,
             -2.7826526489367107,
             -2.770600954533559,
             -2.8591239943191566,
             -2.7891527550174158,
             -2.7812041937744754,
             -3.3416868559088453,
             -3.0399026069240738
            ],
            [
             -2.853479678370565,
             -2.743956271105762,
             -2.8598762036774046,
             null,
             -2.7427988262126894,
             -2.864809042366926,
             -2.425107082240055,
             -2.750913310163614,
             -2.8525034243059775,
             -2.422888448470534,
             -2.750716396496146,
             -2.7393907734345655,
             -2.854238864668028,
             -2.7441024590444276,
             -2.7315588955760433,
             -3.3353240773037434,
             -3.0405472771226063
            ],
            [
             -2.8668465128583493,
             -2.7498248658315583,
             -2.8615517567759934,
             -2.4760907400616303,
             null,
             -2.871340722035537,
             -2.4710480735359988,
             -2.7377831811013187,
             -2.8679329792211545,
             -2.5168077345191624,
             -2.737304041278821,
             -2.7354617580791216,
             -2.8524200571954013,
             -2.7364347184726747,
             -2.741588905747695,
             -3.3420785334312098,
             -3.032173049993472
            ],
            [
             -2.860720913114498,
             -2.770217171610305,
             -2.8645036912840096,
             -2.519741383108984,
             -2.7725559068252044,
             null,
             -2.5154393984629873,
             -2.770183574345149,
             -2.868910148626775,
             -2.509990079731154,
             -2.777612397890023,
             -2.7789323735212994,
             -2.861519558381426,
             -2.767494085784609,
             -2.7679110508412155,
             -3.3428541539028487,
             -3.0447653816318043
            ],
            [
             -2.8686706476162978,
             -2.7453744028401768,
             -2.8488855263856334,
             -2.457893877855672,
             -2.746581559573265,
             -2.8695613707599854,
             null,
             -2.7419010880920807,
             -2.880764585223015,
             -2.449892488700049,
             -2.730450914489768,
             -2.7327696821789433,
             -2.8629492447821105,
             -2.744092474185829,
             -2.744096709308492,
             -3.350052135666378,
             -3.0352264020654216
            ],
            [
             -2.871706265915877,
             -2.728098286693076,
             -2.8803653145305925,
             -2.508502785355318,
             -2.734484223906713,
             -2.8701985719255196,
             -2.5034287024013553,
             null,
             -2.8825597449560854,
             -2.5056585728806877,
             -2.7275658216870893,
             -2.738139694763165,
             -2.856486269427227,
             -2.7117884210173373,
             -2.756749441841625,
             -3.342183268350012,
             -3.0320840123753983
            ],
            [
             -2.8571941434096058,
             -2.7662985104948796,
             -2.859718746895954,
             -2.5085244703701326,
             -2.770351258921116,
             -2.8578005419733747,
             -2.5216099260512173,
             -2.769387264379345,
             null,
             -2.5151556718670527,
             -2.781848738842516,
             -2.7529612496070217,
             -2.8508544284353743,
             -2.748164157563623,
             -2.773282394504042,
             -3.3382249571664384,
             -3.0459443238901383
            ],
            [
             -2.8756599269426393,
             -2.7399641143736706,
             -2.862099605449271,
             -2.430076009612707,
             -2.7478557597043234,
             -2.8627689954730395,
             -2.440609553678577,
             -2.7469318779359755,
             -2.871863349826527,
             null,
             -2.7204907470876436,
             -2.75031367526502,
             -2.8602004493405895,
             -2.750553361561187,
             -2.716209062030747,
             -3.346063677683261,
             -3.0406119189380405
            ],
            [
             -2.8715228725419353,
             -2.742110935100912,
             -2.8731028564236287,
             -2.512984583107397,
             -2.7436502574552932,
             -2.865800394619054,
             -2.542709958029048,
             -2.7599187920004034,
             -2.8659438827866057,
             -2.501748193817628,
             null,
             -2.741287230246277,
             -2.8704931333668053,
             -2.754982912697587,
             -2.758257154587948,
             -3.342854042563532,
             -3.0364468839639662
            ],
            [
             -2.858626980499967,
             -2.7459577875685866,
             -2.867376832930754,
             -2.5162867123885713,
             -2.74617439528108,
             -2.8780051983064387,
             -2.4833054710743414,
             -2.7076435918755597,
             -2.8924163060275667,
             -2.5192442057429063,
             -2.7543046957789468,
             null,
             -2.863329418218258,
             -2.740261897185905,
             -2.7406879300118816,
             -3.344383277115061,
             -3.0508960719996927
            ],
            [
             -2.8812206412354953,
             -2.768002374604716,
             -2.8707211777448793,
             -2.529996132150376,
             -2.7751739749427244,
             -2.8683272868492877,
             -2.5164066731194206,
             -2.7795052937478553,
             -2.8582371835497136,
             -2.522220328364586,
             -2.7790998836187537,
             -2.780768507052495,
             null,
             -2.7617043276343907,
             -2.7818853925861564,
             -3.343958400464935,
             -3.044985986387449
            ],
            [
             -2.8620706785327457,
             -2.7278008643915896,
             -2.8694611882652996,
             -2.5048343748102093,
             -2.7526460236232833,
             -2.8516080654333296,
             -2.5278406493200207,
             -2.742502932193123,
             -2.8595104542474434,
             -2.502882080226003,
             -2.728907323695475,
             -2.727977331282044,
             -2.858003312784187,
             null,
             -2.721090885560951,
             -3.3379429044096045,
             -3.0452973783185406
            ],
            [
             -2.854829240341599,
             -2.7235267033792967,
             -2.8714708217440252,
             -2.472582370434585,
             -2.744642347666219,
             -2.8587662550483945,
             -2.523595004697108,
             -2.7357902019201363,
             -2.845709322845715,
             -2.5254693872554097,
             -2.740846161155365,
             -2.7495438576203517,
             -2.888493273286234,
             -2.7623847594581874,
             null,
             -3.342393787177939,
             -3.038307474972509
            ],
            [
             -2.9620761196560625,
             -2.8497664480502336,
             -2.960200162585809,
             -2.5598912027331493,
             -2.861984608430482,
             -2.9603440234471634,
             -2.5659607981156327,
             -2.8340089038724865,
             -2.9589056230360375,
             -2.5880764856877962,
             -2.854428480072087,
             -2.8371241094527293,
             -2.945422562015463,
             -2.842374384725377,
             -2.8498882379708483,
             null,
             -3.1050579993593224
            ],
            [
             -2.9061387960887495,
             -2.8258456667722243,
             -2.907159102484823,
             -2.5407623336435305,
             -2.81805858499189,
             -2.8993704231183304,
             -2.547045553250695,
             -2.7890341981055604,
             -2.920258232551165,
             -2.538049210087607,
             -2.803653514827069,
             -2.8047986263572673,
             -2.9001115767360686,
             -2.7992489790012467,
             -2.804945797257035,
             -3.342929008218774,
             null
            ]
           ]
          }
         ],
         "name": "frame_3"
        },
        {
         "data": [
          {
           "colorscale": [
            [
             0,
             "#440154"
            ],
            [
             0.1111111111111111,
             "#482878"
            ],
            [
             0.2222222222222222,
             "#3e4989"
            ],
            [
             0.3333333333333333,
             "#31688e"
            ],
            [
             0.4444444444444444,
             "#26828e"
            ],
            [
             0.5555555555555556,
             "#1f9e89"
            ],
            [
             0.6666666666666666,
             "#35b779"
            ],
            [
             0.7777777777777778,
             "#6ece58"
            ],
            [
             0.8888888888888888,
             "#b5de2b"
            ],
            [
             1,
             "#fde725"
            ]
           ],
           "reversescale": false,
           "showscale": true,
           "text": [
            [
             "N/A",
             "-2.77",
             "-2.88",
             "-2.51",
             "-2.78",
             "-2.87",
             "-2.52",
             "-2.77",
             "-2.85",
             "-2.52",
             "-2.78",
             "-2.78",
             "-2.86",
             "-2.77",
             "-2.78",
             "-3.34",
             "-3.03"
            ],
            [
             "-2.86",
             "N/A",
             "-2.86",
             "-2.50",
             "-2.76",
             "-2.86",
             "-2.49",
             "-2.73",
             "-2.85",
             "-2.49",
             "-2.75",
             "-2.74",
             "-2.86",
             "-2.73",
             "-2.73",
             "-3.34",
             "-3.04"
            ],
            [
             "-2.87",
             "-2.77",
             "N/A",
             "-2.53",
             "-2.78",
             "-2.87",
             "-2.51",
             "-2.80",
             "-2.85",
             "-2.52",
             "-2.78",
             "-2.75",
             "-2.86",
             "-2.79",
             "-2.77",
             "-3.34",
             "-3.04"
            ],
            [
             "-2.86",
             "-2.73",
             "-2.86",
             "N/A",
             "-2.74",
             "-2.86",
             "-2.41",
             "-2.74",
             "-2.86",
             "-2.45",
             "-2.74",
             "-2.75",
             "-2.86",
             "-2.74",
             "-2.74",
             "-3.34",
             "-3.04"
            ],
            [
             "-2.87",
             "-2.75",
             "-2.86",
             "-2.49",
             "N/A",
             "-2.89",
             "-2.50",
             "-2.73",
             "-2.86",
             "-2.51",
             "-2.74",
             "-2.74",
             "-2.87",
             "-2.75",
             "-2.75",
             "-3.34",
             "-3.02"
            ],
            [
             "-2.86",
             "-2.78",
             "-2.85",
             "-2.54",
             "-2.77",
             "N/A",
             "-2.52",
             "-2.79",
             "-2.89",
             "-2.53",
             "-2.77",
             "-2.76",
             "-2.87",
             "-2.77",
             "-2.76",
             "-3.34",
             "-3.03"
            ],
            [
             "-2.86",
             "-2.74",
             "-2.86",
             "-2.46",
             "-2.74",
             "-2.85",
             "N/A",
             "-2.74",
             "-2.87",
             "-2.46",
             "-2.74",
             "-2.74",
             "-2.85",
             "-2.74",
             "-2.77",
             "-3.34",
             "-3.04"
            ],
            [
             "-2.85",
             "-2.74",
             "-2.87",
             "-2.52",
             "-2.73",
             "-2.87",
             "-2.49",
             "N/A",
             "-2.86",
             "-2.51",
             "-2.73",
             "-2.75",
             "-2.85",
             "-2.72",
             "-2.74",
             "-3.34",
             "-3.05"
            ],
            [
             "-2.86",
             "-2.79",
             "-2.86",
             "-2.51",
             "-2.76",
             "-2.85",
             "-2.51",
             "-2.77",
             "N/A",
             "-2.55",
             "-2.77",
             "-2.76",
             "-2.86",
             "-2.77",
             "-2.77",
             "-3.34",
             "-3.03"
            ],
            [
             "-2.87",
             "-2.74",
             "-2.86",
             "-2.45",
             "-2.73",
             "-2.87",
             "-2.42",
             "-2.75",
             "-2.86",
             "N/A",
             "-2.74",
             "-2.73",
             "-2.86",
             "-2.75",
             "-2.72",
             "-3.35",
             "-3.04"
            ],
            [
             "-2.87",
             "-2.75",
             "-2.87",
             "-2.48",
             "-2.75",
             "-2.86",
             "-2.48",
             "-2.74",
             "-2.87",
             "-2.49",
             "N/A",
             "-2.75",
             "-2.87",
             "-2.75",
             "-2.75",
             "-3.34",
             "-3.03"
            ],
            [
             "-2.86",
             "-2.75",
             "-2.87",
             "-2.50",
             "-2.75",
             "-2.86",
             "-2.51",
             "-2.76",
             "-2.87",
             "-2.48",
             "-2.74",
             "N/A",
             "-2.87",
             "-2.76",
             "-2.71",
             "-3.35",
             "-3.04"
            ],
            [
             "-2.87",
             "-2.76",
             "-2.86",
             "-2.52",
             "-2.76",
             "-2.88",
             "-2.52",
             "-2.76",
             "-2.86",
             "-2.55",
             "-2.78",
             "-2.76",
             "N/A",
             "-2.78",
             "-2.79",
             "-3.34",
             "-3.04"
            ],
            [
             "-2.87",
             "-2.74",
             "-2.86",
             "-2.51",
             "-2.74",
             "-2.86",
             "-2.51",
             "-2.73",
             "-2.87",
             "-2.53",
             "-2.75",
             "-2.74",
             "-2.88",
             "N/A",
             "-2.74",
             "-3.35",
             "-3.04"
            ],
            [
             "-2.86",
             "-2.73",
             "-2.86",
             "-2.53",
             "-2.73",
             "-2.87",
             "-2.49",
             "-2.73",
             "-2.85",
             "-2.49",
             "-2.75",
             "-2.74",
             "-2.87",
             "-2.75",
             "N/A",
             "-3.34",
             "-3.04"
            ],
            [
             "-2.95",
             "-2.85",
             "-2.96",
             "-2.57",
             "-2.85",
             "-2.97",
             "-2.57",
             "-2.86",
             "-2.95",
             "-2.55",
             "-2.83",
             "-2.84",
             "-2.95",
             "-2.84",
             "-2.85",
             "N/A",
             "-3.10"
            ],
            [
             "-2.91",
             "-2.81",
             "-2.90",
             "-2.54",
             "-2.81",
             "-2.90",
             "-2.53",
             "-2.80",
             "-2.93",
             "-2.56",
             "-2.81",
             "-2.80",
             "-2.91",
             "-2.81",
             "-2.80",
             "-3.34",
             "N/A"
            ]
           ],
           "textfont": {
            "color": "black"
           },
           "texttemplate": "%{text}",
           "type": "heatmap",
           "x": [
            "WhereIsAI_UAE-Large-V1",
            "BAAI_bge-base-en-v1.5",
            "BAAI_bge-large-en-v1.5",
            "BAAI_bge-small-en-v1.5",
            "intfloat_e5-base-v2",
            "intfloat_e5-large-v2",
            "intfloat_e5-small-v2",
            "thenlper_gte-base",
            "thenlper_gte-large",
            "thenlper_gte-small",
            "sentence-transformers_gtr-t5-base",
            "sentence-transformers_gtr-t5-large",
            "mixedbread-ai_mxbai-embed-large-v1",
            "sentence-transformers_sentence-t5-base",
            "sentence-transformers_sentence-t5-large",
            "openai_text-embedding-3-large",
            "openai_text-embedding-3-small"
           ],
           "y": [
            "WhereIsAI_UAE-Large-V1",
            "BAAI_bge-base-en-v1.5",
            "BAAI_bge-large-en-v1.5",
            "BAAI_bge-small-en-v1.5",
            "intfloat_e5-base-v2",
            "intfloat_e5-large-v2",
            "intfloat_e5-small-v2",
            "thenlper_gte-base",
            "thenlper_gte-large",
            "thenlper_gte-small",
            "sentence-transformers_gtr-t5-base",
            "sentence-transformers_gtr-t5-large",
            "mixedbread-ai_mxbai-embed-large-v1",
            "sentence-transformers_sentence-t5-base",
            "sentence-transformers_sentence-t5-large",
            "openai_text-embedding-3-large",
            "openai_text-embedding-3-small"
           ],
           "z": [
            [
             null,
             -2.7660879771943327,
             -2.878894291284408,
             -2.5070474429804,
             -2.778707304738443,
             -2.86679669367153,
             -2.522491096917765,
             -2.767721175488504,
             -2.8510241662025386,
             -2.5201492552075924,
             -2.78109954511213,
             -2.7843983655240807,
             -2.8557917349928634,
             -2.773007229838697,
             -2.7824444854124484,
             -3.3383092368673783,
             -3.0323335325665894
            ],
            [
             -2.8557428414357178,
             null,
             -2.8608690448737586,
             -2.4988887574183,
             -2.7602480179229874,
             -2.8639326230496382,
             -2.4896115634276814,
             -2.7326765403919206,
             -2.8533289957153105,
             -2.4875740793718055,
             -2.7494103068142777,
             -2.740515625238403,
             -2.8603935293033675,
             -2.7321640033635197,
             -2.733426558514784,
             -3.336718589109072,
             -3.040595375934379
            ],
            [
             -2.874117242073962,
             -2.7651099266258212,
             null,
             -2.5252762261428887,
             -2.7772877905833706,
             -2.8727475638726148,
             -2.508945080284349,
             -2.8037040886516205,
             -2.853801997989914,
             -2.520559019396952,
             -2.776880784397089,
             -2.7543214078583658,
             -2.855362617153689,
             -2.786433637109841,
             -2.774053399715988,
             -3.3431832027446755,
             -3.039530151818677
            ],
            [
             -2.8558863821537845,
             -2.7328871146515157,
             -2.8604715479865788,
             null,
             -2.7443488716929503,
             -2.864757345637746,
             -2.4112250941452826,
             -2.743253052921192,
             -2.856167724603223,
             -2.4494936184821814,
             -2.7394098901822495,
             -2.7455576518162603,
             -2.857418148603127,
             -2.7442676351796136,
             -2.7391552819719767,
             -3.341367426683336,
             -3.0357883651405135
            ],
            [
             -2.8659327435860753,
             -2.754738154291949,
             -2.862338307643743,
             -2.487739798075285,
             null,
             -2.8878034908913897,
             -2.5011387230283764,
             -2.7344486717539285,
             -2.862289223822103,
             -2.5078127892675828,
             -2.741441386951346,
             -2.735406166428712,
             -2.866975421877373,
             -2.747558747897549,
             -2.7482598317196647,
             -3.338838286374696,
             -3.024538830519025
            ],
            [
             -2.862099789468902,
             -2.77718523144441,
             -2.851920729588476,
             -2.5359887038807516,
             -2.7657591899292835,
             null,
             -2.518803589809957,
             -2.7850829324422035,
             -2.888799886503395,
             -2.5346713639902925,
             -2.7714459409690284,
             -2.763493040569566,
             -2.8706897938950133,
             -2.773486211486728,
             -2.7598781580229437,
             -3.3372310304518455,
             -3.0280493077471906
            ],
            [
             -2.864781045380052,
             -2.738868260505947,
             -2.863898917216789,
             -2.4611092785285584,
             -2.7430668282619837,
             -2.8518475747560856,
             null,
             -2.739855695994666,
             -2.8746774330188587,
             -2.4569241375301045,
             -2.741574293825833,
             -2.743452828026599,
             -2.8549991631740124,
             -2.736548129612881,
             -2.7706656818490836,
             -3.335452862851614,
             -3.038288948821882
            ],
            [
             -2.85441759618599,
             -2.7382738364704275,
             -2.8673784721037214,
             -2.5227851171974685,
             -2.7345646110307777,
             -2.867781411979491,
             -2.4929722777206296,
             null,
             -2.8607872854531013,
             -2.5121799522248733,
             -2.730696607324883,
             -2.74754611059431,
             -2.850672675976651,
             -2.721770494219402,
             -2.737075860109669,
             -3.3444719734791444,
             -3.048557673983151
            ],
            [
             -2.8585943410648538,
             -2.785818533698565,
             -2.859954385830755,
             -2.5148522769723405,
             -2.7618990704564284,
             -2.851080317660602,
             -2.5093067022878346,
             -2.771411113530693,
             null,
             -2.551418136750366,
             -2.76805254862186,
             -2.756301885324374,
             -2.8614797915132213,
             -2.768702875247928,
             -2.7675898220370065,
             -3.3386970791492483,
             -3.033455270369994
            ],
            [
             -2.8687992770273354,
             -2.7421447467566424,
             -2.863724701249014,
             -2.451756214606662,
             -2.7331745304399107,
             -2.873610905754142,
             -2.424692284239832,
             -2.7514970270930794,
             -2.864149408148641,
             null,
             -2.739689079463,
             -2.7317019227929404,
             -2.8637303903379236,
             -2.750903794272293,
             -2.7215877427031185,
             -3.3468110321285214,
             -3.0424893353530025
            ],
            [
             -2.869298983561302,
             -2.7511757346046255,
             -2.8673832406420794,
             -2.482225796569643,
             -2.7535038731998287,
             -2.862690673571543,
             -2.4826726821652247,
             -2.7411230999930067,
             -2.865878239884076,
             -2.4911838467334686,
             null,
             -2.747634664270375,
             -2.866121145911119,
             -2.7459793927744327,
             -2.7510904178657443,
             -3.343941964320834,
             -3.031555198748682
            ],
            [
             -2.85736182703273,
             -2.7530746793345426,
             -2.871215923106296,
             -2.503403628598176,
             -2.7468513705734314,
             -2.860770627207396,
             -2.50933652978709,
             -2.758597882449947,
             -2.865434964567974,
             -2.479867898515623,
             -2.744972330828167,
             null,
             -2.870410592505289,
             -2.762530057103388,
             -2.7142123508988294,
             -3.3461918733833165,
             -3.0389557526427025
            ],
            [
             -2.866459085840649,
             -2.7640040648344497,
             -2.856870533690018,
             -2.515185605781926,
             -2.7586268540386296,
             -2.883275710514862,
             -2.5157083910899583,
             -2.7635620849719964,
             -2.859588094887672,
             -2.550027035303205,
             -2.7767249823391675,
             -2.759416675153337,
             null,
             -2.777344105487141,
             -2.790418267022344,
             -3.338344991825174,
             -3.042353035778008
            ],
            [
             -2.866027733005213,
             -2.7420377367196274,
             -2.855579697207285,
             -2.5082558482242554,
             -2.740325287498492,
             -2.8565823399621815,
             -2.5082301031281746,
             -2.7344717419166082,
             -2.8671338567250224,
             -2.5263545584693556,
             -2.747810496263512,
             -2.7372132347728964,
             -2.8766899392456193,
             null,
             -2.742397957142423,
             -3.347323379471861,
             -3.0429538555417075
            ],
            [
             -2.8630257692047936,
             -2.73067509651362,
             -2.8625475192140994,
             -2.5267067660412468,
             -2.7272679002895335,
             -2.870281522543068,
             -2.486549315852168,
             -2.7286578226549545,
             -2.849090498298964,
             -2.488340950069366,
             -2.7464644265434077,
             -2.742674517782156,
             -2.8698203200165744,
             -2.7492187843563767,
             null,
             -3.3437105569921637,
             -3.0361892199425053
            ],
            [
             -2.94852076387895,
             -2.8532889619524915,
             -2.9583227199667075,
             -2.5681332525848894,
             -2.8481789367458545,
             -2.9659372598395835,
             -2.5732341149478746,
             -2.862966724353555,
             -2.9532977540928553,
             -2.5451056768232885,
             -2.8268120194579756,
             -2.8369380091169507,
             -2.9549689648952766,
             -2.842091887969938,
             -2.846128080768626,
             null,
             -3.103227184546889
            ],
            [
             -2.914096438681496,
             -2.811340588787933,
             -2.89633897833746,
             -2.5373544808391193,
             -2.809650186517995,
             -2.8971909493809633,
             -2.5297492373709294,
             -2.8048358821400434,
             -2.9269536160464997,
             -2.5567898242353255,
             -2.807545590986905,
             -2.7993482517097448,
             -2.909911048486722,
             -2.808589179019232,
             -2.8025383992541504,
             -3.341866278853946,
             null
            ]
           ]
          }
         ],
         "name": "frame_4"
        },
        {
         "data": [
          {
           "colorscale": [
            [
             0,
             "#440154"
            ],
            [
             0.1111111111111111,
             "#482878"
            ],
            [
             0.2222222222222222,
             "#3e4989"
            ],
            [
             0.3333333333333333,
             "#31688e"
            ],
            [
             0.4444444444444444,
             "#26828e"
            ],
            [
             0.5555555555555556,
             "#1f9e89"
            ],
            [
             0.6666666666666666,
             "#35b779"
            ],
            [
             0.7777777777777778,
             "#6ece58"
            ],
            [
             0.8888888888888888,
             "#b5de2b"
            ],
            [
             1,
             "#fde725"
            ]
           ],
           "reversescale": false,
           "showscale": true,
           "text": [
            [
             "N/A",
             "-2.76",
             "-2.86",
             "-2.52",
             "-2.76",
             "-2.84",
             "-2.52",
             "-2.80",
             "-2.87",
             "-2.52",
             "-2.78",
             "-2.77",
             "-2.86",
             "-2.77",
             "-2.77",
             "-3.34",
             "-3.05"
            ],
            [
             "-2.86",
             "N/A",
             "-2.86",
             "-2.52",
             "-2.74",
             "-2.86",
             "-2.50",
             "-2.74",
             "-2.88",
             "-2.52",
             "-2.73",
             "-2.76",
             "-2.86",
             "-2.74",
             "-2.74",
             "-3.34",
             "-3.04"
            ],
            [
             "-2.86",
             "-2.76",
             "N/A",
             "-2.53",
             "-2.77",
             "-2.85",
             "-2.51",
             "-2.74",
             "-2.85",
             "-2.53",
             "-2.79",
             "-2.76",
             "-2.88",
             "-2.78",
             "-2.78",
             "-3.34",
             "-3.04"
            ],
            [
             "-2.86",
             "-2.76",
             "-2.86",
             "N/A",
             "-2.72",
             "-2.88",
             "-2.46",
             "-2.76",
             "-2.85",
             "-2.43",
             "-2.75",
             "-2.75",
             "-2.85",
             "-2.74",
             "-2.73",
             "-3.34",
             "-3.05"
            ],
            [
             "-2.86",
             "-2.73",
             "-2.88",
             "-2.50",
             "N/A",
             "-2.85",
             "-2.48",
             "-2.75",
             "-2.84",
             "-2.50",
             "-2.74",
             "-2.74",
             "-2.87",
             "-2.76",
             "-2.72",
             "-3.34",
             "-3.03"
            ],
            [
             "-2.86",
             "-2.79",
             "-2.88",
             "-2.52",
             "-2.78",
             "N/A",
             "-2.52",
             "-2.79",
             "-2.86",
             "-2.53",
             "-2.78",
             "-2.76",
             "-2.86",
             "-2.78",
             "-2.77",
             "-3.35",
             "-3.05"
            ],
            [
             "-2.87",
             "-2.74",
             "-2.87",
             "-2.44",
             "-2.73",
             "-2.88",
             "N/A",
             "-2.73",
             "-2.86",
             "-2.46",
             "-2.74",
             "-2.71",
             "-2.84",
             "-2.72",
             "-2.75",
             "-3.34",
             "-3.04"
            ],
            [
             "-2.89",
             "-2.73",
             "-2.86",
             "-2.52",
             "-2.75",
             "-2.85",
             "-2.50",
             "N/A",
             "-2.85",
             "-2.51",
             "-2.75",
             "-2.74",
             "-2.86",
             "-2.76",
             "-2.75",
             "-3.34",
             "-3.05"
            ],
            [
             "-2.87",
             "-2.77",
             "-2.86",
             "-2.52",
             "-2.77",
             "-2.90",
             "-2.51",
             "-2.77",
             "N/A",
             "-2.52",
             "-2.77",
             "-2.77",
             "-2.87",
             "-2.77",
             "-2.78",
             "-3.34",
             "-3.04"
            ],
            [
             "-2.86",
             "-2.73",
             "-2.85",
             "-2.45",
             "-2.76",
             "-2.84",
             "-2.42",
             "-2.74",
             "-2.86",
             "N/A",
             "-2.73",
             "-2.75",
             "-2.85",
             "-2.75",
             "-2.75",
             "-3.34",
             "-3.04"
            ],
            [
             "-2.86",
             "-2.74",
             "-2.86",
             "-2.51",
             "-2.73",
             "-2.89",
             "-2.53",
             "-2.75",
             "-2.87",
             "-2.50",
             "N/A",
             "-2.75",
             "-2.88",
             "-2.75",
             "-2.71",
             "-3.34",
             "-3.04"
            ],
            [
             "-2.87",
             "-2.75",
             "-2.87",
             "-2.53",
             "-2.75",
             "-2.86",
             "-2.48",
             "-2.73",
             "-2.86",
             "-2.52",
             "-2.72",
             "N/A",
             "-2.86",
             "-2.74",
             "-2.77",
             "-3.34",
             "-3.05"
            ],
            [
             "-2.86",
             "-2.76",
             "-2.86",
             "-2.54",
             "-2.77",
             "-2.86",
             "-2.51",
             "-2.77",
             "-2.87",
             "-2.50",
             "-2.76",
             "-2.77",
             "N/A",
             "-2.79",
             "-2.79",
             "-3.35",
             "-3.05"
            ],
            [
             "-2.85",
             "-2.72",
             "-2.87",
             "-2.52",
             "-2.75",
             "-2.86",
             "-2.50",
             "-2.72",
             "-2.86",
             "-2.50",
             "-2.75",
             "-2.75",
             "-2.85",
             "N/A",
             "-2.75",
             "-3.34",
             "-3.04"
            ],
            [
             "-2.85",
             "-2.72",
             "-2.85",
             "-2.50",
             "-2.73",
             "-2.87",
             "-2.54",
             "-2.75",
             "-2.88",
             "-2.50",
             "-2.72",
             "-2.73",
             "-2.87",
             "-2.77",
             "N/A",
             "-3.34",
             "-3.04"
            ],
            [
             "-2.96",
             "-2.85",
             "-2.95",
             "-2.57",
             "-2.85",
             "-2.96",
             "-2.57",
             "-2.84",
             "-2.95",
             "-2.58",
             "-2.84",
             "-2.84",
             "-2.95",
             "-2.84",
             "-2.84",
             "N/A",
             "-3.11"
            ],
            [
             "-2.91",
             "-2.80",
             "-2.89",
             "-2.55",
             "-2.82",
             "-2.90",
             "-2.54",
             "-2.79",
             "-2.89",
             "-2.53",
             "-2.79",
             "-2.80",
             "-2.91",
             "-2.80",
             "-2.81",
             "-3.34",
             "N/A"
            ]
           ],
           "textfont": {
            "color": "black"
           },
           "texttemplate": "%{text}",
           "type": "heatmap",
           "x": [
            "WhereIsAI_UAE-Large-V1",
            "BAAI_bge-base-en-v1.5",
            "BAAI_bge-large-en-v1.5",
            "BAAI_bge-small-en-v1.5",
            "intfloat_e5-base-v2",
            "intfloat_e5-large-v2",
            "intfloat_e5-small-v2",
            "thenlper_gte-base",
            "thenlper_gte-large",
            "thenlper_gte-small",
            "sentence-transformers_gtr-t5-base",
            "sentence-transformers_gtr-t5-large",
            "mixedbread-ai_mxbai-embed-large-v1",
            "sentence-transformers_sentence-t5-base",
            "sentence-transformers_sentence-t5-large",
            "openai_text-embedding-3-large",
            "openai_text-embedding-3-small"
           ],
           "y": [
            "WhereIsAI_UAE-Large-V1",
            "BAAI_bge-base-en-v1.5",
            "BAAI_bge-large-en-v1.5",
            "BAAI_bge-small-en-v1.5",
            "intfloat_e5-base-v2",
            "intfloat_e5-large-v2",
            "intfloat_e5-small-v2",
            "thenlper_gte-base",
            "thenlper_gte-large",
            "thenlper_gte-small",
            "sentence-transformers_gtr-t5-base",
            "sentence-transformers_gtr-t5-large",
            "mixedbread-ai_mxbai-embed-large-v1",
            "sentence-transformers_sentence-t5-base",
            "sentence-transformers_sentence-t5-large",
            "openai_text-embedding-3-large",
            "openai_text-embedding-3-small"
           ],
           "z": [
            [
             null,
             -2.757238624524237,
             -2.8587887535021124,
             -2.5155633675891087,
             -2.757992994781269,
             -2.841430681917951,
             -2.5237577309940757,
             -2.7960832579639985,
             -2.87255373957381,
             -2.5237789077928667,
             -2.7812624853996994,
             -2.7709443191858205,
             -2.855867081020124,
             -2.7724745190608293,
             -2.7652213333003726,
             -3.3372055327686474,
             -3.047111879923639
            ],
            [
             -2.864824300743955,
             null,
             -2.8586526483559433,
             -2.5221070953083897,
             -2.7388086567918184,
             -2.8625679669478017,
             -2.5012663084059947,
             -2.736875741291832,
             -2.8758070902934185,
             -2.5167765918233336,
             -2.7346931241539743,
             -2.759896714800828,
             -2.862382425219355,
             -2.7361989236329602,
             -2.7437826369712797,
             -3.3416162676638193,
             -3.0401794266471662
            ],
            [
             -2.8600085539925537,
             -2.757364512556763,
             null,
             -2.525729873799599,
             -2.7694786017694923,
             -2.8523784156297776,
             -2.509783730414172,
             -2.740640263221079,
             -2.852218256986011,
             -2.526010512543337,
             -2.788993234898977,
             -2.764913503613013,
             -2.8778367567069973,
             -2.7825097766701896,
             -2.7767607223585062,
             -3.343719844386745,
             -3.039291351444517
            ],
            [
             -2.8582146406986597,
             -2.755119454259913,
             -2.8555010298517667,
             null,
             -2.723958232088021,
             -2.880881359752385,
             -2.461281021747377,
             -2.757248222418509,
             -2.853125979684311,
             -2.430534731274553,
             -2.7461066233213742,
             -2.7509564191932214,
             -2.8523345829278903,
             -2.743397492180545,
             -2.732289651657243,
             -3.3394012000031466,
             -3.045271228741149
            ],
            [
             -2.8586964661245386,
             -2.7281450561394154,
             -2.877658691128018,
             -2.503365891708243,
             null,
             -2.853176742823407,
             -2.4805357446037126,
             -2.746649123567045,
             -2.835081655360596,
             -2.50451096171051,
             -2.7399385837564223,
             -2.7372542320148763,
             -2.868758314777292,
             -2.75693631271226,
             -2.7229971655518668,
             -3.3435383438868262,
             -3.034697118567268
            ],
            [
             -2.8645640928920186,
             -2.786827571588096,
             -2.878332840731282,
             -2.5213052478169775,
             -2.7815092727292736,
             null,
             -2.521456871507181,
             -2.7934824109499603,
             -2.8574332587350035,
             -2.5331558883526126,
             -2.7828034175741228,
             -2.764584104448982,
             -2.858315691413136,
             -2.7817578521287145,
             -2.7668314675732657,
             -3.3466362938190013,
             -3.047844900071346
            ],
            [
             -2.873052540864607,
             -2.743679593804161,
             -2.8708052045260066,
             -2.4398731261136257,
             -2.725469227465542,
             -2.8753112634478044,
             null,
             -2.733389314154788,
             -2.8628584287125305,
             -2.4597384717820674,
             -2.7393926601008296,
             -2.712533104633197,
             -2.83842528552918,
             -2.7228146182923205,
             -2.7490856739176754,
             -3.3390351321099043,
             -3.0416395412036294
            ],
            [
             -2.8873970360739154,
             -2.7341493645264854,
             -2.8569942233692873,
             -2.522139766660698,
             -2.7489961147745237,
             -2.8461679210329747,
             -2.500324586171041,
             null,
             -2.8461275486437914,
             -2.510287705496535,
             -2.749660233362223,
             -2.7359060595606506,
             -2.8566161368446354,
             -2.7605501685514784,
             -2.749840269576136,
             -3.341893718051471,
             -3.045813509251668
            ],
            [
             -2.869101044171992,
             -2.770942409694042,
             -2.8581686466982807,
             -2.52269794812784,
             -2.771698359074895,
             -2.895056543689823,
             -2.5126626176846822,
             -2.766097359600781,
             null,
             -2.5236222509392854,
             -2.7731251490562845,
             -2.771991357563538,
             -2.8702890608844926,
             -2.7668038644009516,
             -2.7779531967061835,
             -3.3444386997435633,
             -3.044423567556085
            ],
            [
             -2.864077787595228,
             -2.7348030614539054,
             -2.8476932171209466,
             -2.445205924861512,
             -2.7637099484800047,
             -2.8374203252345382,
             -2.4184333229499284,
             -2.7352590286168468,
             -2.8552046145824224,
             null,
             -2.727383746322098,
             -2.7454800717615195,
             -2.8464650111836,
             -2.7466570513885196,
             -2.750519429745029,
             -3.344625635657315,
             -3.039053816274539
            ],
            [
             -2.8641663444202012,
             -2.736397435689261,
             -2.862844050321151,
             -2.5137106712445227,
             -2.731748264120283,
             -2.894292606585896,
             -2.5306865928585474,
             -2.745159768159227,
             -2.8720802897704787,
             -2.4986387779877286,
             null,
             -2.747975136365064,
             -2.8828865186862993,
             -2.7497976690408286,
             -2.7128609386074793,
             -3.3426428832488115,
             -3.042421709808119
            ],
            [
             -2.866513513772287,
             -2.746776352951607,
             -2.8663665294078315,
             -2.5291781975398155,
             -2.7545563351807605,
             -2.8629727354236,
             -2.4778739643901497,
             -2.733788441104167,
             -2.8636954073152054,
             -2.518167425197196,
             -2.7184984662278504,
             null,
             -2.8626475564826723,
             -2.7352930530688977,
             -2.7673306961167556,
             -3.342176098107374,
             -3.049812173746543
            ],
            [
             -2.8558736839430034,
             -2.759286995908076,
             -2.8615512421710076,
             -2.5400686193504787,
             -2.7678946371196087,
             -2.862042673519197,
             -2.512203202893222,
             -2.7742298604827,
             -2.865526358175108,
             -2.498357754867487,
             -2.764542061460902,
             -2.765672463203908,
             null,
             -2.7924948377135754,
             -2.787777421200089,
             -3.348212461715961,
             -3.0468311987437184
            ],
            [
             -2.8471752164044593,
             -2.723822041740791,
             -2.871696821617061,
             -2.515956054002514,
             -2.7542640381475194,
             -2.861472000279882,
             -2.4958374565026493,
             -2.716604995783009,
             -2.8564979682576257,
             -2.495765569261032,
             -2.750763929028624,
             -2.7499114692580666,
             -2.8546147416556655,
             null,
             -2.746339177387109,
             -3.3356059394071216,
             -3.0363624907510998
            ],
            [
             -2.8539596354819596,
             -2.7244103731893223,
             -2.852723941935263,
             -2.504765961550932,
             -2.7253119066869345,
             -2.871003659364348,
             -2.544751561582373,
             -2.745221571622461,
             -2.878461918508384,
             -2.500645343897667,
             -2.724486209237274,
             -2.72660270116128,
             -2.8696385450074793,
             -2.76514251542036,
             null,
             -3.336951654222046,
             -3.0425914068672664
            ],
            [
             -2.957854418249791,
             -2.849479746905112,
             -2.945731487657033,
             -2.566192149534665,
             -2.8506158603254486,
             -2.956434607648409,
             -2.566595167979595,
             -2.835930104585224,
             -2.954300018116457,
             -2.5752706361452558,
             -2.843730357510193,
             -2.836802991260421,
             -2.9545058572504383,
             -2.840501351577639,
             -2.840123737720417,
             null,
             -3.111754807172651
            ],
            [
             -2.9082103773481167,
             -2.804955154392742,
             -2.894875047936086,
             -2.551989105190252,
             -2.818870358827541,
             -2.904648942553749,
             -2.5386332303087493,
             -2.7945246488878466,
             -2.886331110482655,
             -2.5315134616229407,
             -2.791569040117877,
             -2.799386348898899,
             -2.9064770829355475,
             -2.8028777584926723,
             -2.8055945627817955,
             -3.3395105391883653,
             null
            ]
           ]
          }
         ],
         "name": "frame_5"
        }
       ],
       "layout": {
        "dragmode": false,
        "height": 600,
        "sliders": [
         {
          "active": 0,
          "currentvalue": {
           "font": {
            "size": 20
           },
           "prefix": "Number of Layers",
           "visible": true,
           "xanchor": "right"
          },
          "len": 0.9,
          "pad": {
           "b": 10,
           "t": 50
          },
          "steps": [
           {
            "args": [
             [
              "frame_0"
             ],
             {
              "frame": {
               "duration": 500,
               "redraw": true
              },
              "mode": "immediate",
              "transition": {
               "duration": 500
              }
             }
            ],
            "label": "2",
            "method": "animate"
           },
           {
            "args": [
             [
              "frame_1"
             ],
             {
              "frame": {
               "duration": 500,
               "redraw": true
              },
              "mode": "immediate",
              "transition": {
               "duration": 500
              }
             }
            ],
            "label": "3",
            "method": "animate"
           },
           {
            "args": [
             [
              "frame_2"
             ],
             {
              "frame": {
               "duration": 500,
               "redraw": true
              },
              "mode": "immediate",
              "transition": {
               "duration": 500
              }
             }
            ],
            "label": "4",
            "method": "animate"
           },
           {
            "args": [
             [
              "frame_3"
             ],
             {
              "frame": {
               "duration": 500,
               "redraw": true
              },
              "mode": "immediate",
              "transition": {
               "duration": 500
              }
             }
            ],
            "label": "5",
            "method": "animate"
           },
           {
            "args": [
             [
              "frame_4"
             ],
             {
              "frame": {
               "duration": 500,
               "redraw": true
              },
              "mode": "immediate",
              "transition": {
               "duration": 500
              }
             }
            ],
            "label": "6",
            "method": "animate"
           },
           {
            "args": [
             [
              "frame_5"
             ],
             {
              "frame": {
               "duration": 500,
               "redraw": true
              },
              "mode": "immediate",
              "transition": {
               "duration": 500
              }
             }
            ],
            "label": "7",
            "method": "animate"
           }
          ],
          "transition": {
           "duration": 500,
           "easing": "cubic-in-out"
          },
          "x": 0.1,
          "xanchor": "left",
          "y": 0,
          "yanchor": "top"
         }
        ],
        "template": {
         "data": {
          "bar": [
           {
            "error_x": {
             "color": "#2a3f5f"
            },
            "error_y": {
             "color": "#2a3f5f"
            },
            "marker": {
             "line": {
              "color": "#E5ECF6",
              "width": 0.5
             },
             "pattern": {
              "fillmode": "overlay",
              "size": 10,
              "solidity": 0.2
             }
            },
            "type": "bar"
           }
          ],
          "barpolar": [
           {
            "marker": {
             "line": {
              "color": "#E5ECF6",
              "width": 0.5
             },
             "pattern": {
              "fillmode": "overlay",
              "size": 10,
              "solidity": 0.2
             }
            },
            "type": "barpolar"
           }
          ],
          "carpet": [
           {
            "aaxis": {
             "endlinecolor": "#2a3f5f",
             "gridcolor": "white",
             "linecolor": "white",
             "minorgridcolor": "white",
             "startlinecolor": "#2a3f5f"
            },
            "baxis": {
             "endlinecolor": "#2a3f5f",
             "gridcolor": "white",
             "linecolor": "white",
             "minorgridcolor": "white",
             "startlinecolor": "#2a3f5f"
            },
            "type": "carpet"
           }
          ],
          "choropleth": [
           {
            "colorbar": {
             "outlinewidth": 0,
             "ticks": ""
            },
            "type": "choropleth"
           }
          ],
          "contour": [
           {
            "colorbar": {
             "outlinewidth": 0,
             "ticks": ""
            },
            "colorscale": [
             [
              0,
              "#0d0887"
             ],
             [
              0.1111111111111111,
              "#46039f"
             ],
             [
              0.2222222222222222,
              "#7201a8"
             ],
             [
              0.3333333333333333,
              "#9c179e"
             ],
             [
              0.4444444444444444,
              "#bd3786"
             ],
             [
              0.5555555555555556,
              "#d8576b"
             ],
             [
              0.6666666666666666,
              "#ed7953"
             ],
             [
              0.7777777777777778,
              "#fb9f3a"
             ],
             [
              0.8888888888888888,
              "#fdca26"
             ],
             [
              1,
              "#f0f921"
             ]
            ],
            "type": "contour"
           }
          ],
          "contourcarpet": [
           {
            "colorbar": {
             "outlinewidth": 0,
             "ticks": ""
            },
            "type": "contourcarpet"
           }
          ],
          "heatmap": [
           {
            "colorbar": {
             "outlinewidth": 0,
             "ticks": ""
            },
            "colorscale": [
             [
              0,
              "#0d0887"
             ],
             [
              0.1111111111111111,
              "#46039f"
             ],
             [
              0.2222222222222222,
              "#7201a8"
             ],
             [
              0.3333333333333333,
              "#9c179e"
             ],
             [
              0.4444444444444444,
              "#bd3786"
             ],
             [
              0.5555555555555556,
              "#d8576b"
             ],
             [
              0.6666666666666666,
              "#ed7953"
             ],
             [
              0.7777777777777778,
              "#fb9f3a"
             ],
             [
              0.8888888888888888,
              "#fdca26"
             ],
             [
              1,
              "#f0f921"
             ]
            ],
            "type": "heatmap"
           }
          ],
          "heatmapgl": [
           {
            "colorbar": {
             "outlinewidth": 0,
             "ticks": ""
            },
            "colorscale": [
             [
              0,
              "#0d0887"
             ],
             [
              0.1111111111111111,
              "#46039f"
             ],
             [
              0.2222222222222222,
              "#7201a8"
             ],
             [
              0.3333333333333333,
              "#9c179e"
             ],
             [
              0.4444444444444444,
              "#bd3786"
             ],
             [
              0.5555555555555556,
              "#d8576b"
             ],
             [
              0.6666666666666666,
              "#ed7953"
             ],
             [
              0.7777777777777778,
              "#fb9f3a"
             ],
             [
              0.8888888888888888,
              "#fdca26"
             ],
             [
              1,
              "#f0f921"
             ]
            ],
            "type": "heatmapgl"
           }
          ],
          "histogram": [
           {
            "marker": {
             "pattern": {
              "fillmode": "overlay",
              "size": 10,
              "solidity": 0.2
             }
            },
            "type": "histogram"
           }
          ],
          "histogram2d": [
           {
            "colorbar": {
             "outlinewidth": 0,
             "ticks": ""
            },
            "colorscale": [
             [
              0,
              "#0d0887"
             ],
             [
              0.1111111111111111,
              "#46039f"
             ],
             [
              0.2222222222222222,
              "#7201a8"
             ],
             [
              0.3333333333333333,
              "#9c179e"
             ],
             [
              0.4444444444444444,
              "#bd3786"
             ],
             [
              0.5555555555555556,
              "#d8576b"
             ],
             [
              0.6666666666666666,
              "#ed7953"
             ],
             [
              0.7777777777777778,
              "#fb9f3a"
             ],
             [
              0.8888888888888888,
              "#fdca26"
             ],
             [
              1,
              "#f0f921"
             ]
            ],
            "type": "histogram2d"
           }
          ],
          "histogram2dcontour": [
           {
            "colorbar": {
             "outlinewidth": 0,
             "ticks": ""
            },
            "colorscale": [
             [
              0,
              "#0d0887"
             ],
             [
              0.1111111111111111,
              "#46039f"
             ],
             [
              0.2222222222222222,
              "#7201a8"
             ],
             [
              0.3333333333333333,
              "#9c179e"
             ],
             [
              0.4444444444444444,
              "#bd3786"
             ],
             [
              0.5555555555555556,
              "#d8576b"
             ],
             [
              0.6666666666666666,
              "#ed7953"
             ],
             [
              0.7777777777777778,
              "#fb9f3a"
             ],
             [
              0.8888888888888888,
              "#fdca26"
             ],
             [
              1,
              "#f0f921"
             ]
            ],
            "type": "histogram2dcontour"
           }
          ],
          "mesh3d": [
           {
            "colorbar": {
             "outlinewidth": 0,
             "ticks": ""
            },
            "type": "mesh3d"
           }
          ],
          "parcoords": [
           {
            "line": {
             "colorbar": {
              "outlinewidth": 0,
              "ticks": ""
             }
            },
            "type": "parcoords"
           }
          ],
          "pie": [
           {
            "automargin": true,
            "type": "pie"
           }
          ],
          "scatter": [
           {
            "fillpattern": {
             "fillmode": "overlay",
             "size": 10,
             "solidity": 0.2
            },
            "type": "scatter"
           }
          ],
          "scatter3d": [
           {
            "line": {
             "colorbar": {
              "outlinewidth": 0,
              "ticks": ""
             }
            },
            "marker": {
             "colorbar": {
              "outlinewidth": 0,
              "ticks": ""
             }
            },
            "type": "scatter3d"
           }
          ],
          "scattercarpet": [
           {
            "marker": {
             "colorbar": {
              "outlinewidth": 0,
              "ticks": ""
             }
            },
            "type": "scattercarpet"
           }
          ],
          "scattergeo": [
           {
            "marker": {
             "colorbar": {
              "outlinewidth": 0,
              "ticks": ""
             }
            },
            "type": "scattergeo"
           }
          ],
          "scattergl": [
           {
            "marker": {
             "colorbar": {
              "outlinewidth": 0,
              "ticks": ""
             }
            },
            "type": "scattergl"
           }
          ],
          "scattermapbox": [
           {
            "marker": {
             "colorbar": {
              "outlinewidth": 0,
              "ticks": ""
             }
            },
            "type": "scattermapbox"
           }
          ],
          "scatterpolar": [
           {
            "marker": {
             "colorbar": {
              "outlinewidth": 0,
              "ticks": ""
             }
            },
            "type": "scatterpolar"
           }
          ],
          "scatterpolargl": [
           {
            "marker": {
             "colorbar": {
              "outlinewidth": 0,
              "ticks": ""
             }
            },
            "type": "scatterpolargl"
           }
          ],
          "scatterternary": [
           {
            "marker": {
             "colorbar": {
              "outlinewidth": 0,
              "ticks": ""
             }
            },
            "type": "scatterternary"
           }
          ],
          "surface": [
           {
            "colorbar": {
             "outlinewidth": 0,
             "ticks": ""
            },
            "colorscale": [
             [
              0,
              "#0d0887"
             ],
             [
              0.1111111111111111,
              "#46039f"
             ],
             [
              0.2222222222222222,
              "#7201a8"
             ],
             [
              0.3333333333333333,
              "#9c179e"
             ],
             [
              0.4444444444444444,
              "#bd3786"
             ],
             [
              0.5555555555555556,
              "#d8576b"
             ],
             [
              0.6666666666666666,
              "#ed7953"
             ],
             [
              0.7777777777777778,
              "#fb9f3a"
             ],
             [
              0.8888888888888888,
              "#fdca26"
             ],
             [
              1,
              "#f0f921"
             ]
            ],
            "type": "surface"
           }
          ],
          "table": [
           {
            "cells": {
             "fill": {
              "color": "#EBF0F8"
             },
             "line": {
              "color": "white"
             }
            },
            "header": {
             "fill": {
              "color": "#C8D4E3"
             },
             "line": {
              "color": "white"
             }
            },
            "type": "table"
           }
          ]
         },
         "layout": {
          "annotationdefaults": {
           "arrowcolor": "#2a3f5f",
           "arrowhead": 0,
           "arrowwidth": 1
          },
          "autotypenumbers": "strict",
          "coloraxis": {
           "colorbar": {
            "outlinewidth": 0,
            "ticks": ""
           }
          },
          "colorscale": {
           "diverging": [
            [
             0,
             "#8e0152"
            ],
            [
             0.1,
             "#c51b7d"
            ],
            [
             0.2,
             "#de77ae"
            ],
            [
             0.3,
             "#f1b6da"
            ],
            [
             0.4,
             "#fde0ef"
            ],
            [
             0.5,
             "#f7f7f7"
            ],
            [
             0.6,
             "#e6f5d0"
            ],
            [
             0.7,
             "#b8e186"
            ],
            [
             0.8,
             "#7fbc41"
            ],
            [
             0.9,
             "#4d9221"
            ],
            [
             1,
             "#276419"
            ]
           ],
           "sequential": [
            [
             0,
             "#0d0887"
            ],
            [
             0.1111111111111111,
             "#46039f"
            ],
            [
             0.2222222222222222,
             "#7201a8"
            ],
            [
             0.3333333333333333,
             "#9c179e"
            ],
            [
             0.4444444444444444,
             "#bd3786"
            ],
            [
             0.5555555555555556,
             "#d8576b"
            ],
            [
             0.6666666666666666,
             "#ed7953"
            ],
            [
             0.7777777777777778,
             "#fb9f3a"
            ],
            [
             0.8888888888888888,
             "#fdca26"
            ],
            [
             1,
             "#f0f921"
            ]
           ],
           "sequentialminus": [
            [
             0,
             "#0d0887"
            ],
            [
             0.1111111111111111,
             "#46039f"
            ],
            [
             0.2222222222222222,
             "#7201a8"
            ],
            [
             0.3333333333333333,
             "#9c179e"
            ],
            [
             0.4444444444444444,
             "#bd3786"
            ],
            [
             0.5555555555555556,
             "#d8576b"
            ],
            [
             0.6666666666666666,
             "#ed7953"
            ],
            [
             0.7777777777777778,
             "#fb9f3a"
            ],
            [
             0.8888888888888888,
             "#fdca26"
            ],
            [
             1,
             "#f0f921"
            ]
           ]
          },
          "colorway": [
           "#636efa",
           "#EF553B",
           "#00cc96",
           "#ab63fa",
           "#FFA15A",
           "#19d3f3",
           "#FF6692",
           "#B6E880",
           "#FF97FF",
           "#FECB52"
          ],
          "font": {
           "color": "#2a3f5f"
          },
          "geo": {
           "bgcolor": "white",
           "lakecolor": "white",
           "landcolor": "#E5ECF6",
           "showlakes": true,
           "showland": true,
           "subunitcolor": "white"
          },
          "hoverlabel": {
           "align": "left"
          },
          "hovermode": "closest",
          "mapbox": {
           "style": "light"
          },
          "paper_bgcolor": "white",
          "plot_bgcolor": "#E5ECF6",
          "polar": {
           "angularaxis": {
            "gridcolor": "white",
            "linecolor": "white",
            "ticks": ""
           },
           "bgcolor": "#E5ECF6",
           "radialaxis": {
            "gridcolor": "white",
            "linecolor": "white",
            "ticks": ""
           }
          },
          "scene": {
           "xaxis": {
            "backgroundcolor": "#E5ECF6",
            "gridcolor": "white",
            "gridwidth": 2,
            "linecolor": "white",
            "showbackground": true,
            "ticks": "",
            "zerolinecolor": "white"
           },
           "yaxis": {
            "backgroundcolor": "#E5ECF6",
            "gridcolor": "white",
            "gridwidth": 2,
            "linecolor": "white",
            "showbackground": true,
            "ticks": "",
            "zerolinecolor": "white"
           },
           "zaxis": {
            "backgroundcolor": "#E5ECF6",
            "gridcolor": "white",
            "gridwidth": 2,
            "linecolor": "white",
            "showbackground": true,
            "ticks": "",
            "zerolinecolor": "white"
           }
          },
          "shapedefaults": {
           "line": {
            "color": "#2a3f5f"
           }
          },
          "ternary": {
           "aaxis": {
            "gridcolor": "white",
            "linecolor": "white",
            "ticks": ""
           },
           "baxis": {
            "gridcolor": "white",
            "linecolor": "white",
            "ticks": ""
           },
           "bgcolor": "#E5ECF6",
           "caxis": {
            "gridcolor": "white",
            "linecolor": "white",
            "ticks": ""
           }
          },
          "title": {
           "x": 0.05
          },
          "xaxis": {
           "automargin": true,
           "gridcolor": "white",
           "linecolor": "white",
           "ticks": "",
           "title": {
            "standoff": 15
           },
           "zerolinecolor": "white",
           "zerolinewidth": 2
          },
          "yaxis": {
           "automargin": true,
           "gridcolor": "white",
           "linecolor": "white",
           "ticks": "",
           "title": {
            "standoff": 15
           },
           "zerolinecolor": "white",
           "zerolinewidth": 2
          }
         }
        },
        "title": {
         "text": "Example Validation MSE (log) (ArguAna)"
        },
        "updatemenus": [
         {
          "buttons": [
           {
            "args": [
             null,
             {
              "frame": {
               "duration": 500,
               "redraw": true
              },
              "fromcurrent": true
             }
            ],
            "label": "Play",
            "method": "animate"
           },
           {
            "args": [
             [
              null
             ],
             {
              "frame": {
               "duration": 0,
               "redraw": true
              },
              "mode": "immediate",
              "transition": {
               "duration": 0
              }
             }
            ],
            "label": "Pause",
            "method": "animate"
           }
          ],
          "direction": "left",
          "pad": {
           "r": 10,
           "t": 87
          },
          "showactive": false,
          "type": "buttons",
          "x": 0.1,
          "xanchor": "right",
          "y": 0,
          "yanchor": "top"
         }
        ],
        "width": 800,
        "xaxis": {
         "fixedrange": true,
         "nticks": 17
        },
        "yaxis": {
         "fixedrange": true,
         "nticks": 17
        }
       }
      }
     },
     "metadata": {},
     "output_type": "display_data"
    }
   ],
   "source": [
    "# Visualize Imported Data (One Dataset, All Architectures)\n",
    "labels = sorted(meta[\"model2idx\"], key=lambda k: meta[\"model2idx\"][k])\n",
    "num_layers = sorted(meta[\"num_layers\"])\n",
    "matrix = validation_mse[0, :, :, :].transpose(2, 0, 1)\n",
    "animated_heatmap(\n",
    "    matrices=matrix,\n",
    "    log=True,\n",
    "    title=\"Example Validation MSE (log) (ArguAna)\",\n",
    "    labels=labels,\n",
    "    nan_diagnal=True,\n",
    "    slider_prefix=\"Number of Layers\",\n",
    "    slider_labels=num_layers,\n",
    ")"
   ]
  }
 ],
 "metadata": {
  "kernelspec": {
   "display_name": ".venv",
   "language": "python",
   "name": "python3"
  },
  "language_info": {
   "codemirror_mode": {
    "name": "ipython",
    "version": 3
   },
   "file_extension": ".py",
   "mimetype": "text/x-python",
   "name": "python",
   "nbconvert_exporter": "python",
   "pygments_lexer": "ipython3",
   "version": "3.12.8"
  }
 },
 "nbformat": 4,
 "nbformat_minor": 2
}
