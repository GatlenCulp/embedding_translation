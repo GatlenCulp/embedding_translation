{
 "cells": [
  {
   "cell_type": "markdown",
   "metadata": {},
   "source": [
    "# Complexity vs MSE and Rank Graphs\n"
   ]
  },
  {
   "cell_type": "markdown",
   "metadata": {},
   "source": [
    "## Setup\n"
   ]
  },
  {
   "cell_type": "code",
   "execution_count": 1,
   "metadata": {},
   "outputs": [
    {
     "name": "stdout",
     "output_type": "stream",
     "text": [
      "Requirement already satisfied: safetensors in /Users/gat/work/FA2024/embedding_translation/.venv/lib/python3.12/site-packages (0.4.5)\n",
      "Note: you may need to restart the kernel to use updated packages.\n"
     ]
    }
   ],
   "source": [
    "# Installs\n",
    "%pip install safetensors"
   ]
  },
  {
   "cell_type": "code",
   "execution_count": 7,
   "metadata": {},
   "outputs": [],
   "source": [
    "# Imports\n",
    "from safetensors.numpy import load_file\n",
    "from pathlib import Path\n",
    "from loguru import logger\n",
    "import orjson\n",
    "from rich import pretty\n",
    "import plotly.graph_objects as go\n",
    "import plotly.io as pio\n",
    "import plotly\n",
    "from faker import Faker\n",
    "from typing import Literal\n",
    "import polars as pl\n",
    "\n",
    "# from IPython.display import display\n",
    "import numpy as np\n",
    "\n",
    "np.set_printoptions(\n",
    "    precision=3,\n",
    "    suppress=True,\n",
    "    threshold=5,\n",
    ")\n",
    "rng = np.random.default_rng(0)\n",
    "faker = Faker()\n",
    "pio.templates.default = \"plotly\""
   ]
  },
  {
   "cell_type": "code",
   "execution_count": 3,
   "metadata": {},
   "outputs": [
    {
     "name": "stderr",
     "output_type": "stream",
     "text": [
      "\u001b[32m2024-12-13 18:04:14.852\u001b[0m | \u001b[1mINFO    \u001b[0m | \u001b[36m__main__\u001b[0m:\u001b[36m<cell line: 0>\u001b[0m:\u001b[36m3\u001b[0m - \u001b[1m/Users/gat/work/FA2024/embedding_translation\u001b[0m\n",
      "\u001b[32m2024-12-13 18:04:14.853\u001b[0m | \u001b[1mINFO    \u001b[0m | \u001b[36m__main__\u001b[0m:\u001b[36m<cell line: 0>\u001b[0m:\u001b[36m5\u001b[0m - \u001b[1m/Users/gat/work/FA2024/embedding_translation/data\u001b[0m\n"
     ]
    }
   ],
   "source": [
    "# Directories\n",
    "PROJ_ROOT = Path.cwd().resolve().parent\n",
    "logger.info(PROJ_ROOT)\n",
    "DATA_DIR = PROJ_ROOT / \"data\"\n",
    "logger.info(DATA_DIR)\n",
    "MLP_MSE_VALIDATION = DATA_DIR / \"mlp_mse_validation\"\n",
    "MLP_MSE_VALIDATION_TENSORS = MLP_MSE_VALIDATION / \"validation_mses.safetensors\"\n",
    "MLP_MSE_VALIDATION_META = MLP_MSE_VALIDATION / \"validation_mses.json\""
   ]
  },
  {
   "cell_type": "markdown",
   "metadata": {},
   "source": [
    "## Helper Viz\n"
   ]
  },
  {
   "cell_type": "code",
   "execution_count": 40,
   "metadata": {},
   "outputs": [
    {
     "data": {
      "application/vnd.plotly.v1+json": {
       "config": {
        "plotlyServerURL": "https://plot.ly"
       },
       "data": [
        {
         "colorscale": [
          [
           0,
           "#440154"
          ],
          [
           0.1111111111111111,
           "#482878"
          ],
          [
           0.2222222222222222,
           "#3e4989"
          ],
          [
           0.3333333333333333,
           "#31688e"
          ],
          [
           0.4444444444444444,
           "#26828e"
          ],
          [
           0.5555555555555556,
           "#1f9e89"
          ],
          [
           0.6666666666666666,
           "#35b779"
          ],
          [
           0.7777777777777778,
           "#6ece58"
          ],
          [
           0.8888888888888888,
           "#b5de2b"
          ],
          [
           1,
           "#fde725"
          ]
         ],
         "reversescale": false,
         "showlegend": false,
         "showscale": true,
         "textfont": {
          "color": "black"
         },
         "type": "heatmap",
         "x": [
          "A",
          "B",
          "C"
         ],
         "y": [
          "X",
          "Y",
          "Z"
         ],
         "z": [
          [
           1,
           2,
           3
          ],
          [
           4,
           5,
           6
          ],
          [
           7,
           8,
           9
          ]
         ]
        }
       ],
       "layout": {
        "dragmode": false,
        "height": 600,
        "modebar": {
         "remove": [
          "zoomIn2d",
          "zoomOut2d",
          "autoScale2d",
          "resetScale2d",
          "hoverClosestCartesian",
          "hoverCompareCartesian",
          "toggleSpikelines"
         ]
        },
        "template": {
         "data": {
          "bar": [
           {
            "error_x": {
             "color": "#2a3f5f"
            },
            "error_y": {
             "color": "#2a3f5f"
            },
            "marker": {
             "line": {
              "color": "white",
              "width": 0.5
             },
             "pattern": {
              "fillmode": "overlay",
              "size": 10,
              "solidity": 0.2
             }
            },
            "type": "bar"
           }
          ],
          "barpolar": [
           {
            "marker": {
             "line": {
              "color": "white",
              "width": 0.5
             },
             "pattern": {
              "fillmode": "overlay",
              "size": 10,
              "solidity": 0.2
             }
            },
            "type": "barpolar"
           }
          ],
          "carpet": [
           {
            "aaxis": {
             "endlinecolor": "#2a3f5f",
             "gridcolor": "#C8D4E3",
             "linecolor": "#C8D4E3",
             "minorgridcolor": "#C8D4E3",
             "startlinecolor": "#2a3f5f"
            },
            "baxis": {
             "endlinecolor": "#2a3f5f",
             "gridcolor": "#C8D4E3",
             "linecolor": "#C8D4E3",
             "minorgridcolor": "#C8D4E3",
             "startlinecolor": "#2a3f5f"
            },
            "type": "carpet"
           }
          ],
          "choropleth": [
           {
            "colorbar": {
             "outlinewidth": 0,
             "ticks": ""
            },
            "type": "choropleth"
           }
          ],
          "contour": [
           {
            "colorbar": {
             "outlinewidth": 0,
             "ticks": ""
            },
            "colorscale": [
             [
              0,
              "#0d0887"
             ],
             [
              0.1111111111111111,
              "#46039f"
             ],
             [
              0.2222222222222222,
              "#7201a8"
             ],
             [
              0.3333333333333333,
              "#9c179e"
             ],
             [
              0.4444444444444444,
              "#bd3786"
             ],
             [
              0.5555555555555556,
              "#d8576b"
             ],
             [
              0.6666666666666666,
              "#ed7953"
             ],
             [
              0.7777777777777778,
              "#fb9f3a"
             ],
             [
              0.8888888888888888,
              "#fdca26"
             ],
             [
              1,
              "#f0f921"
             ]
            ],
            "type": "contour"
           }
          ],
          "contourcarpet": [
           {
            "colorbar": {
             "outlinewidth": 0,
             "ticks": ""
            },
            "type": "contourcarpet"
           }
          ],
          "heatmap": [
           {
            "colorbar": {
             "outlinewidth": 0,
             "ticks": ""
            },
            "colorscale": [
             [
              0,
              "#0d0887"
             ],
             [
              0.1111111111111111,
              "#46039f"
             ],
             [
              0.2222222222222222,
              "#7201a8"
             ],
             [
              0.3333333333333333,
              "#9c179e"
             ],
             [
              0.4444444444444444,
              "#bd3786"
             ],
             [
              0.5555555555555556,
              "#d8576b"
             ],
             [
              0.6666666666666666,
              "#ed7953"
             ],
             [
              0.7777777777777778,
              "#fb9f3a"
             ],
             [
              0.8888888888888888,
              "#fdca26"
             ],
             [
              1,
              "#f0f921"
             ]
            ],
            "type": "heatmap"
           }
          ],
          "heatmapgl": [
           {
            "colorbar": {
             "outlinewidth": 0,
             "ticks": ""
            },
            "colorscale": [
             [
              0,
              "#0d0887"
             ],
             [
              0.1111111111111111,
              "#46039f"
             ],
             [
              0.2222222222222222,
              "#7201a8"
             ],
             [
              0.3333333333333333,
              "#9c179e"
             ],
             [
              0.4444444444444444,
              "#bd3786"
             ],
             [
              0.5555555555555556,
              "#d8576b"
             ],
             [
              0.6666666666666666,
              "#ed7953"
             ],
             [
              0.7777777777777778,
              "#fb9f3a"
             ],
             [
              0.8888888888888888,
              "#fdca26"
             ],
             [
              1,
              "#f0f921"
             ]
            ],
            "type": "heatmapgl"
           }
          ],
          "histogram": [
           {
            "marker": {
             "pattern": {
              "fillmode": "overlay",
              "size": 10,
              "solidity": 0.2
             }
            },
            "type": "histogram"
           }
          ],
          "histogram2d": [
           {
            "colorbar": {
             "outlinewidth": 0,
             "ticks": ""
            },
            "colorscale": [
             [
              0,
              "#0d0887"
             ],
             [
              0.1111111111111111,
              "#46039f"
             ],
             [
              0.2222222222222222,
              "#7201a8"
             ],
             [
              0.3333333333333333,
              "#9c179e"
             ],
             [
              0.4444444444444444,
              "#bd3786"
             ],
             [
              0.5555555555555556,
              "#d8576b"
             ],
             [
              0.6666666666666666,
              "#ed7953"
             ],
             [
              0.7777777777777778,
              "#fb9f3a"
             ],
             [
              0.8888888888888888,
              "#fdca26"
             ],
             [
              1,
              "#f0f921"
             ]
            ],
            "type": "histogram2d"
           }
          ],
          "histogram2dcontour": [
           {
            "colorbar": {
             "outlinewidth": 0,
             "ticks": ""
            },
            "colorscale": [
             [
              0,
              "#0d0887"
             ],
             [
              0.1111111111111111,
              "#46039f"
             ],
             [
              0.2222222222222222,
              "#7201a8"
             ],
             [
              0.3333333333333333,
              "#9c179e"
             ],
             [
              0.4444444444444444,
              "#bd3786"
             ],
             [
              0.5555555555555556,
              "#d8576b"
             ],
             [
              0.6666666666666666,
              "#ed7953"
             ],
             [
              0.7777777777777778,
              "#fb9f3a"
             ],
             [
              0.8888888888888888,
              "#fdca26"
             ],
             [
              1,
              "#f0f921"
             ]
            ],
            "type": "histogram2dcontour"
           }
          ],
          "mesh3d": [
           {
            "colorbar": {
             "outlinewidth": 0,
             "ticks": ""
            },
            "type": "mesh3d"
           }
          ],
          "parcoords": [
           {
            "line": {
             "colorbar": {
              "outlinewidth": 0,
              "ticks": ""
             }
            },
            "type": "parcoords"
           }
          ],
          "pie": [
           {
            "automargin": true,
            "type": "pie"
           }
          ],
          "scatter": [
           {
            "fillpattern": {
             "fillmode": "overlay",
             "size": 10,
             "solidity": 0.2
            },
            "type": "scatter"
           }
          ],
          "scatter3d": [
           {
            "line": {
             "colorbar": {
              "outlinewidth": 0,
              "ticks": ""
             }
            },
            "marker": {
             "colorbar": {
              "outlinewidth": 0,
              "ticks": ""
             }
            },
            "type": "scatter3d"
           }
          ],
          "scattercarpet": [
           {
            "marker": {
             "colorbar": {
              "outlinewidth": 0,
              "ticks": ""
             }
            },
            "type": "scattercarpet"
           }
          ],
          "scattergeo": [
           {
            "marker": {
             "colorbar": {
              "outlinewidth": 0,
              "ticks": ""
             }
            },
            "type": "scattergeo"
           }
          ],
          "scattergl": [
           {
            "marker": {
             "colorbar": {
              "outlinewidth": 0,
              "ticks": ""
             }
            },
            "type": "scattergl"
           }
          ],
          "scattermapbox": [
           {
            "marker": {
             "colorbar": {
              "outlinewidth": 0,
              "ticks": ""
             }
            },
            "type": "scattermapbox"
           }
          ],
          "scatterpolar": [
           {
            "marker": {
             "colorbar": {
              "outlinewidth": 0,
              "ticks": ""
             }
            },
            "type": "scatterpolar"
           }
          ],
          "scatterpolargl": [
           {
            "marker": {
             "colorbar": {
              "outlinewidth": 0,
              "ticks": ""
             }
            },
            "type": "scatterpolargl"
           }
          ],
          "scatterternary": [
           {
            "marker": {
             "colorbar": {
              "outlinewidth": 0,
              "ticks": ""
             }
            },
            "type": "scatterternary"
           }
          ],
          "surface": [
           {
            "colorbar": {
             "outlinewidth": 0,
             "ticks": ""
            },
            "colorscale": [
             [
              0,
              "#0d0887"
             ],
             [
              0.1111111111111111,
              "#46039f"
             ],
             [
              0.2222222222222222,
              "#7201a8"
             ],
             [
              0.3333333333333333,
              "#9c179e"
             ],
             [
              0.4444444444444444,
              "#bd3786"
             ],
             [
              0.5555555555555556,
              "#d8576b"
             ],
             [
              0.6666666666666666,
              "#ed7953"
             ],
             [
              0.7777777777777778,
              "#fb9f3a"
             ],
             [
              0.8888888888888888,
              "#fdca26"
             ],
             [
              1,
              "#f0f921"
             ]
            ],
            "type": "surface"
           }
          ],
          "table": [
           {
            "cells": {
             "fill": {
              "color": "#EBF0F8"
             },
             "line": {
              "color": "white"
             }
            },
            "header": {
             "fill": {
              "color": "#C8D4E3"
             },
             "line": {
              "color": "white"
             }
            },
            "type": "table"
           }
          ]
         },
         "layout": {
          "annotationdefaults": {
           "arrowcolor": "#2a3f5f",
           "arrowhead": 0,
           "arrowwidth": 1
          },
          "autotypenumbers": "strict",
          "coloraxis": {
           "colorbar": {
            "outlinewidth": 0,
            "ticks": ""
           }
          },
          "colorscale": {
           "diverging": [
            [
             0,
             "#8e0152"
            ],
            [
             0.1,
             "#c51b7d"
            ],
            [
             0.2,
             "#de77ae"
            ],
            [
             0.3,
             "#f1b6da"
            ],
            [
             0.4,
             "#fde0ef"
            ],
            [
             0.5,
             "#f7f7f7"
            ],
            [
             0.6,
             "#e6f5d0"
            ],
            [
             0.7,
             "#b8e186"
            ],
            [
             0.8,
             "#7fbc41"
            ],
            [
             0.9,
             "#4d9221"
            ],
            [
             1,
             "#276419"
            ]
           ],
           "sequential": [
            [
             0,
             "#0d0887"
            ],
            [
             0.1111111111111111,
             "#46039f"
            ],
            [
             0.2222222222222222,
             "#7201a8"
            ],
            [
             0.3333333333333333,
             "#9c179e"
            ],
            [
             0.4444444444444444,
             "#bd3786"
            ],
            [
             0.5555555555555556,
             "#d8576b"
            ],
            [
             0.6666666666666666,
             "#ed7953"
            ],
            [
             0.7777777777777778,
             "#fb9f3a"
            ],
            [
             0.8888888888888888,
             "#fdca26"
            ],
            [
             1,
             "#f0f921"
            ]
           ],
           "sequentialminus": [
            [
             0,
             "#0d0887"
            ],
            [
             0.1111111111111111,
             "#46039f"
            ],
            [
             0.2222222222222222,
             "#7201a8"
            ],
            [
             0.3333333333333333,
             "#9c179e"
            ],
            [
             0.4444444444444444,
             "#bd3786"
            ],
            [
             0.5555555555555556,
             "#d8576b"
            ],
            [
             0.6666666666666666,
             "#ed7953"
            ],
            [
             0.7777777777777778,
             "#fb9f3a"
            ],
            [
             0.8888888888888888,
             "#fdca26"
            ],
            [
             1,
             "#f0f921"
            ]
           ]
          },
          "colorway": [
           "#636efa",
           "#EF553B",
           "#00cc96",
           "#ab63fa",
           "#FFA15A",
           "#19d3f3",
           "#FF6692",
           "#B6E880",
           "#FF97FF",
           "#FECB52"
          ],
          "font": {
           "color": "#2a3f5f"
          },
          "geo": {
           "bgcolor": "white",
           "lakecolor": "white",
           "landcolor": "white",
           "showlakes": true,
           "showland": true,
           "subunitcolor": "#C8D4E3"
          },
          "hoverlabel": {
           "align": "left"
          },
          "hovermode": "closest",
          "mapbox": {
           "style": "light"
          },
          "paper_bgcolor": "white",
          "plot_bgcolor": "white",
          "polar": {
           "angularaxis": {
            "gridcolor": "#EBF0F8",
            "linecolor": "#EBF0F8",
            "ticks": ""
           },
           "bgcolor": "white",
           "radialaxis": {
            "gridcolor": "#EBF0F8",
            "linecolor": "#EBF0F8",
            "ticks": ""
           }
          },
          "scene": {
           "xaxis": {
            "backgroundcolor": "white",
            "gridcolor": "#DFE8F3",
            "gridwidth": 2,
            "linecolor": "#EBF0F8",
            "showbackground": true,
            "ticks": "",
            "zerolinecolor": "#EBF0F8"
           },
           "yaxis": {
            "backgroundcolor": "white",
            "gridcolor": "#DFE8F3",
            "gridwidth": 2,
            "linecolor": "#EBF0F8",
            "showbackground": true,
            "ticks": "",
            "zerolinecolor": "#EBF0F8"
           },
           "zaxis": {
            "backgroundcolor": "white",
            "gridcolor": "#DFE8F3",
            "gridwidth": 2,
            "linecolor": "#EBF0F8",
            "showbackground": true,
            "ticks": "",
            "zerolinecolor": "#EBF0F8"
           }
          },
          "shapedefaults": {
           "line": {
            "color": "#2a3f5f"
           }
          },
          "ternary": {
           "aaxis": {
            "gridcolor": "#DFE8F3",
            "linecolor": "#A2B1C6",
            "ticks": ""
           },
           "baxis": {
            "gridcolor": "#DFE8F3",
            "linecolor": "#A2B1C6",
            "ticks": ""
           },
           "bgcolor": "white",
           "caxis": {
            "gridcolor": "#DFE8F3",
            "linecolor": "#A2B1C6",
            "ticks": ""
           }
          },
          "title": {
           "x": 0.05
          },
          "xaxis": {
           "automargin": true,
           "gridcolor": "#EBF0F8",
           "linecolor": "#EBF0F8",
           "ticks": "",
           "title": {
            "standoff": 15
           },
           "zerolinecolor": "#EBF0F8",
           "zerolinewidth": 2
          },
          "yaxis": {
           "automargin": true,
           "gridcolor": "#EBF0F8",
           "linecolor": "#EBF0F8",
           "ticks": "",
           "title": {
            "standoff": 15
           },
           "zerolinecolor": "#EBF0F8",
           "zerolinewidth": 2
          }
         }
        },
        "title": {
         "text": "Example Heatmap"
        },
        "width": 800,
        "xaxis": {
         "title": {
          "text": "X Axis"
         }
        },
        "yaxis": {
         "title": {
          "text": "Y Axis"
         }
        }
       }
      }
     },
     "metadata": {},
     "output_type": "display_data"
    }
   ],
   "source": [
    "def get_default_heatmap_fig() -> go.Figure:\n",
    "    \"\"\"Create a default heatmap figure with standard configuration.\n",
    "\n",
    "    Returns:\n",
    "        go.Figure: A plotly figure with default heatmap settings\n",
    "    \"\"\"\n",
    "    # General Viz Config\n",
    "    heatmap_layout = go.Layout(\n",
    "        modebar=go.layout.Modebar(\n",
    "            remove=[\n",
    "                \"zoomIn2d\",\n",
    "                \"zoomOut2d\",\n",
    "                \"autoScale2d\",\n",
    "                \"resetScale2d\",\n",
    "                \"hoverClosestCartesian\",\n",
    "                \"hoverCompareCartesian\",\n",
    "                \"toggleSpikelines\",\n",
    "            ]\n",
    "        ),\n",
    "        dragmode=False,\n",
    "        width=800,\n",
    "        height=600,\n",
    "    )\n",
    "\n",
    "    heatmap_trace = go.Heatmap(\n",
    "        colorscale=\"Viridis\",\n",
    "        textfont={\"color\": \"black\"},\n",
    "        reversescale=False,\n",
    "        showscale=True,\n",
    "        showlegend=False,\n",
    "    )\n",
    "\n",
    "    return go.Figure(data=heatmap_trace, layout=heatmap_layout)\n",
    "\n",
    "\n",
    "# Create example data\n",
    "x_labels = [\"A\", \"B\", \"C\"]  # <--- [NEW] Added example x labels\n",
    "y_labels = [\"X\", \"Y\", \"Z\"]  # <--- [NEW] Added example y labels\n",
    "z_values = [\n",
    "    [1, 2, 3],  # <--- [NEW] Added 2D array for heatmap values\n",
    "    [4, 5, 6],\n",
    "    [7, 8, 9],\n",
    "]\n",
    "\n",
    "# Create and configure figure\n",
    "fig = get_default_heatmap_fig()\n",
    "heatmap_trace: go.Heatmap = fig.data[0]\n",
    "heatmap_trace.x = x_labels  # <--- [CHANGED] Set x axis labels\n",
    "heatmap_trace.y = y_labels  # <--- [CHANGED] Set y axis labels\n",
    "heatmap_trace.z = z_values  # <--- [CHANGED] Set z values as 2D array\n",
    "\n",
    "# Update layout with titles\n",
    "fig.update_layout(  # <--- [NEW] Added titles\n",
    "    title=\"Example Heatmap\", xaxis_title=\"X Axis\", yaxis_title=\"Y Axis\"\n",
    ")\n",
    "\n",
    "fig  # Display the figure"
   ]
  },
  {
   "cell_type": "code",
   "execution_count": 41,
   "metadata": {},
   "outputs": [
    {
     "name": "stderr",
     "output_type": "stream",
     "text": [
      "\u001b[32m2024-12-13 18:55:47.752\u001b[0m | \u001b[1mINFO    \u001b[0m | \u001b[36m__main__\u001b[0m:\u001b[36mheatmap\u001b[0m:\u001b[36m41\u001b[0m - \u001b[1m['Charles Henderson', 'Melinda Trujillo', 'Sarah Blake', 'Sandra Gonzales', 'Tammy Carson', 'Paul York', 'Patricia Torres', 'Rachel Tanner', 'James Thompson', 'Micheal Lucas']\u001b[0m\n",
      "\u001b[32m2024-12-13 18:55:47.752\u001b[0m | \u001b[1mINFO    \u001b[0m | \u001b[36m__main__\u001b[0m:\u001b[36mheatmap\u001b[0m:\u001b[36m42\u001b[0m - \u001b[1mCreating heatmap visualization...\u001b[0m\n"
     ]
    },
    {
     "data": {
      "application/vnd.plotly.v1+json": {
       "config": {
        "plotlyServerURL": "https://plot.ly"
       },
       "data": [
        {
         "colorscale": [
          [
           0,
           "#440154"
          ],
          [
           0.1111111111111111,
           "#482878"
          ],
          [
           0.2222222222222222,
           "#3e4989"
          ],
          [
           0.3333333333333333,
           "#31688e"
          ],
          [
           0.4444444444444444,
           "#26828e"
          ],
          [
           0.5555555555555556,
           "#1f9e89"
          ],
          [
           0.6666666666666666,
           "#35b779"
          ],
          [
           0.7777777777777778,
           "#6ece58"
          ],
          [
           0.8888888888888888,
           "#b5de2b"
          ],
          [
           1,
           "#fde725"
          ]
         ],
         "reversescale": false,
         "showlegend": false,
         "showscale": true,
         "text": [
          [
           "0.01",
           "0.10",
           "0.57",
           "0.29",
           "0.29",
           "0.77",
           "0.99",
           "0.53",
           "0.00",
           "0.60"
          ],
          [
           "0.76",
           "0.18",
           "0.24",
           "0.21",
           "0.78",
           "0.93",
           "0.80",
           "0.38",
           "0.78",
           "0.55"
          ],
          [
           "0.41",
           "0.46",
           "0.13",
           "0.97",
           "0.82",
           "0.21",
           "0.64",
           "0.11",
           "0.10",
           "0.15"
          ],
          [
           "0.57",
           "0.32",
           "0.84",
           "0.61",
           "0.86",
           "0.96",
           "0.11",
           "0.32",
           "0.40",
           "0.37"
          ],
          [
           "0.24",
           "0.71",
           "0.18",
           "0.70",
           "0.39",
           "0.53",
           "0.66",
           "0.65",
           "0.24",
           "0.47"
          ],
          [
           "0.34",
           "0.98",
           "0.63",
           "0.33",
           "0.25",
           "0.01",
           "0.08",
           "0.81",
           "0.24",
           "0.64"
          ],
          [
           "0.95",
           "0.12",
           "0.93",
           "0.19",
           "0.89",
           "0.73",
           "0.82",
           "0.36",
           "0.29",
           "0.59"
          ],
          [
           "0.62",
           "0.86",
           "0.12",
           "0.40",
           "0.23",
           "0.36",
           "0.26",
           "0.12",
           "0.31",
           "0.99"
          ],
          [
           "0.69",
           "0.59",
           "0.80",
           "0.64",
           "0.46",
           "0.52",
           "0.05",
           "0.74",
           "0.36",
           "0.83"
          ],
          [
           "0.41",
           "0.68",
           "0.44",
           "0.16",
           "0.52",
           "0.96",
           "0.25",
           "0.19",
           "0.84",
           "0.38"
          ]
         ],
         "textfont": {
          "color": "black"
         },
         "texttemplate": "%{text}",
         "type": "heatmap",
         "x": [
          "Charles Henderson",
          "Melinda Trujillo",
          "Sarah Blake",
          "Sandra Gonzales",
          "Tammy Carson",
          "Paul York",
          "Patricia Torres",
          "Rachel Tanner",
          "James Thompson",
          "Micheal Lucas"
         ],
         "y": [
          "Charles Henderson",
          "Melinda Trujillo",
          "Sarah Blake",
          "Sandra Gonzales",
          "Tammy Carson",
          "Paul York",
          "Patricia Torres",
          "Rachel Tanner",
          "James Thompson",
          "Micheal Lucas"
         ],
         "z": [
          [
           0.01332988124137724,
           0.10155258700850078,
           0.5672629011845808,
           0.2892206846885119,
           0.287229730981448,
           0.7686950821950589,
           0.9915454694976327,
           0.5320054580970641,
           0.0025835635887759834,
           0.6014039333823012
          ],
          [
           0.7558637036604008,
           0.18135179414467484,
           0.24291871936160225,
           0.20842556954203784,
           0.784185036908595,
           0.9310849410419282,
           0.8025302111269813,
           0.3838455602223009,
           0.7811028451096586,
           0.5458051519571109
          ],
          [
           0.4097119854220458,
           0.45638901004443433,
           0.13377116028995617,
           0.9717723010056111,
           0.8235136585772058,
           0.2085229807780311,
           0.6449142168868106,
           0.1052213830494001,
           0.09516779111577822,
           0.14655900460563587
          ],
          [
           0.5703007745551871,
           0.31900611588561134,
           0.8364080330318824,
           0.6077639586108872,
           0.856144633443706,
           0.9632089187143751,
           0.11312307050045778,
           0.3247540726302097,
           0.4001096408539353,
           0.3658521489346641
          ],
          [
           0.23915892320687648,
           0.7072311005254844,
           0.17894672001100131,
           0.704386005957822,
           0.38881318359781014,
           0.5298567532960476,
           0.6564353773343607,
           0.6483246364546388,
           0.24077037380085864,
           0.4660182811441669
          ],
          [
           0.3368061274138431,
           0.9790910607268486,
           0.629095908651274,
           0.3311994676068186,
           0.24978320039228719,
           0.013156060236741207,
           0.07966734812390908,
           0.8121271317816278,
           0.23979952238850488,
           0.6422073159189602
          ],
          [
           0.9510815876120227,
           0.12084827046555624,
           0.9341940568911796,
           0.18959333336279272,
           0.8852450027520634,
           0.7286419533462265,
           0.8211061213892988,
           0.35592813714581195,
           0.28969900345177113,
           0.5916995715790265
          ],
          [
           0.6181936521313326,
           0.8598221346992201,
           0.12179486340981227,
           0.40490863418384615,
           0.225052466464701,
           0.3570262109431558,
           0.26358525305973124,
           0.11988160284746818,
           0.3053679150896612,
           0.9948969475048494
          ],
          [
           0.6921981973125715,
           0.5901298605859714,
           0.8001588802559912,
           0.6439465836952363,
           0.4640695261003014,
           0.5163498431018556,
           0.04842348932679885,
           0.7436275042485496,
           0.35720465345573693,
           0.8331755667636177
          ],
          [
           0.41271431234695766,
           0.6816887827112171,
           0.43612946652831,
           0.15543774569577362,
           0.5192094191533293,
           0.9648478423467696,
           0.24595258022377353,
           0.191206136357155,
           0.8431622002209399,
           0.3802204887894308
          ]
         ]
        }
       ],
       "layout": {
        "dragmode": false,
        "height": 600,
        "modebar": {
         "remove": [
          "zoomIn2d",
          "zoomOut2d",
          "autoScale2d",
          "resetScale2d",
          "hoverClosestCartesian",
          "hoverCompareCartesian",
          "toggleSpikelines"
         ]
        },
        "template": {
         "data": {
          "bar": [
           {
            "error_x": {
             "color": "#2a3f5f"
            },
            "error_y": {
             "color": "#2a3f5f"
            },
            "marker": {
             "line": {
              "color": "white",
              "width": 0.5
             },
             "pattern": {
              "fillmode": "overlay",
              "size": 10,
              "solidity": 0.2
             }
            },
            "type": "bar"
           }
          ],
          "barpolar": [
           {
            "marker": {
             "line": {
              "color": "white",
              "width": 0.5
             },
             "pattern": {
              "fillmode": "overlay",
              "size": 10,
              "solidity": 0.2
             }
            },
            "type": "barpolar"
           }
          ],
          "carpet": [
           {
            "aaxis": {
             "endlinecolor": "#2a3f5f",
             "gridcolor": "#C8D4E3",
             "linecolor": "#C8D4E3",
             "minorgridcolor": "#C8D4E3",
             "startlinecolor": "#2a3f5f"
            },
            "baxis": {
             "endlinecolor": "#2a3f5f",
             "gridcolor": "#C8D4E3",
             "linecolor": "#C8D4E3",
             "minorgridcolor": "#C8D4E3",
             "startlinecolor": "#2a3f5f"
            },
            "type": "carpet"
           }
          ],
          "choropleth": [
           {
            "colorbar": {
             "outlinewidth": 0,
             "ticks": ""
            },
            "type": "choropleth"
           }
          ],
          "contour": [
           {
            "colorbar": {
             "outlinewidth": 0,
             "ticks": ""
            },
            "colorscale": [
             [
              0,
              "#0d0887"
             ],
             [
              0.1111111111111111,
              "#46039f"
             ],
             [
              0.2222222222222222,
              "#7201a8"
             ],
             [
              0.3333333333333333,
              "#9c179e"
             ],
             [
              0.4444444444444444,
              "#bd3786"
             ],
             [
              0.5555555555555556,
              "#d8576b"
             ],
             [
              0.6666666666666666,
              "#ed7953"
             ],
             [
              0.7777777777777778,
              "#fb9f3a"
             ],
             [
              0.8888888888888888,
              "#fdca26"
             ],
             [
              1,
              "#f0f921"
             ]
            ],
            "type": "contour"
           }
          ],
          "contourcarpet": [
           {
            "colorbar": {
             "outlinewidth": 0,
             "ticks": ""
            },
            "type": "contourcarpet"
           }
          ],
          "heatmap": [
           {
            "colorbar": {
             "outlinewidth": 0,
             "ticks": ""
            },
            "colorscale": [
             [
              0,
              "#0d0887"
             ],
             [
              0.1111111111111111,
              "#46039f"
             ],
             [
              0.2222222222222222,
              "#7201a8"
             ],
             [
              0.3333333333333333,
              "#9c179e"
             ],
             [
              0.4444444444444444,
              "#bd3786"
             ],
             [
              0.5555555555555556,
              "#d8576b"
             ],
             [
              0.6666666666666666,
              "#ed7953"
             ],
             [
              0.7777777777777778,
              "#fb9f3a"
             ],
             [
              0.8888888888888888,
              "#fdca26"
             ],
             [
              1,
              "#f0f921"
             ]
            ],
            "type": "heatmap"
           }
          ],
          "heatmapgl": [
           {
            "colorbar": {
             "outlinewidth": 0,
             "ticks": ""
            },
            "colorscale": [
             [
              0,
              "#0d0887"
             ],
             [
              0.1111111111111111,
              "#46039f"
             ],
             [
              0.2222222222222222,
              "#7201a8"
             ],
             [
              0.3333333333333333,
              "#9c179e"
             ],
             [
              0.4444444444444444,
              "#bd3786"
             ],
             [
              0.5555555555555556,
              "#d8576b"
             ],
             [
              0.6666666666666666,
              "#ed7953"
             ],
             [
              0.7777777777777778,
              "#fb9f3a"
             ],
             [
              0.8888888888888888,
              "#fdca26"
             ],
             [
              1,
              "#f0f921"
             ]
            ],
            "type": "heatmapgl"
           }
          ],
          "histogram": [
           {
            "marker": {
             "pattern": {
              "fillmode": "overlay",
              "size": 10,
              "solidity": 0.2
             }
            },
            "type": "histogram"
           }
          ],
          "histogram2d": [
           {
            "colorbar": {
             "outlinewidth": 0,
             "ticks": ""
            },
            "colorscale": [
             [
              0,
              "#0d0887"
             ],
             [
              0.1111111111111111,
              "#46039f"
             ],
             [
              0.2222222222222222,
              "#7201a8"
             ],
             [
              0.3333333333333333,
              "#9c179e"
             ],
             [
              0.4444444444444444,
              "#bd3786"
             ],
             [
              0.5555555555555556,
              "#d8576b"
             ],
             [
              0.6666666666666666,
              "#ed7953"
             ],
             [
              0.7777777777777778,
              "#fb9f3a"
             ],
             [
              0.8888888888888888,
              "#fdca26"
             ],
             [
              1,
              "#f0f921"
             ]
            ],
            "type": "histogram2d"
           }
          ],
          "histogram2dcontour": [
           {
            "colorbar": {
             "outlinewidth": 0,
             "ticks": ""
            },
            "colorscale": [
             [
              0,
              "#0d0887"
             ],
             [
              0.1111111111111111,
              "#46039f"
             ],
             [
              0.2222222222222222,
              "#7201a8"
             ],
             [
              0.3333333333333333,
              "#9c179e"
             ],
             [
              0.4444444444444444,
              "#bd3786"
             ],
             [
              0.5555555555555556,
              "#d8576b"
             ],
             [
              0.6666666666666666,
              "#ed7953"
             ],
             [
              0.7777777777777778,
              "#fb9f3a"
             ],
             [
              0.8888888888888888,
              "#fdca26"
             ],
             [
              1,
              "#f0f921"
             ]
            ],
            "type": "histogram2dcontour"
           }
          ],
          "mesh3d": [
           {
            "colorbar": {
             "outlinewidth": 0,
             "ticks": ""
            },
            "type": "mesh3d"
           }
          ],
          "parcoords": [
           {
            "line": {
             "colorbar": {
              "outlinewidth": 0,
              "ticks": ""
             }
            },
            "type": "parcoords"
           }
          ],
          "pie": [
           {
            "automargin": true,
            "type": "pie"
           }
          ],
          "scatter": [
           {
            "fillpattern": {
             "fillmode": "overlay",
             "size": 10,
             "solidity": 0.2
            },
            "type": "scatter"
           }
          ],
          "scatter3d": [
           {
            "line": {
             "colorbar": {
              "outlinewidth": 0,
              "ticks": ""
             }
            },
            "marker": {
             "colorbar": {
              "outlinewidth": 0,
              "ticks": ""
             }
            },
            "type": "scatter3d"
           }
          ],
          "scattercarpet": [
           {
            "marker": {
             "colorbar": {
              "outlinewidth": 0,
              "ticks": ""
             }
            },
            "type": "scattercarpet"
           }
          ],
          "scattergeo": [
           {
            "marker": {
             "colorbar": {
              "outlinewidth": 0,
              "ticks": ""
             }
            },
            "type": "scattergeo"
           }
          ],
          "scattergl": [
           {
            "marker": {
             "colorbar": {
              "outlinewidth": 0,
              "ticks": ""
             }
            },
            "type": "scattergl"
           }
          ],
          "scattermapbox": [
           {
            "marker": {
             "colorbar": {
              "outlinewidth": 0,
              "ticks": ""
             }
            },
            "type": "scattermapbox"
           }
          ],
          "scatterpolar": [
           {
            "marker": {
             "colorbar": {
              "outlinewidth": 0,
              "ticks": ""
             }
            },
            "type": "scatterpolar"
           }
          ],
          "scatterpolargl": [
           {
            "marker": {
             "colorbar": {
              "outlinewidth": 0,
              "ticks": ""
             }
            },
            "type": "scatterpolargl"
           }
          ],
          "scatterternary": [
           {
            "marker": {
             "colorbar": {
              "outlinewidth": 0,
              "ticks": ""
             }
            },
            "type": "scatterternary"
           }
          ],
          "surface": [
           {
            "colorbar": {
             "outlinewidth": 0,
             "ticks": ""
            },
            "colorscale": [
             [
              0,
              "#0d0887"
             ],
             [
              0.1111111111111111,
              "#46039f"
             ],
             [
              0.2222222222222222,
              "#7201a8"
             ],
             [
              0.3333333333333333,
              "#9c179e"
             ],
             [
              0.4444444444444444,
              "#bd3786"
             ],
             [
              0.5555555555555556,
              "#d8576b"
             ],
             [
              0.6666666666666666,
              "#ed7953"
             ],
             [
              0.7777777777777778,
              "#fb9f3a"
             ],
             [
              0.8888888888888888,
              "#fdca26"
             ],
             [
              1,
              "#f0f921"
             ]
            ],
            "type": "surface"
           }
          ],
          "table": [
           {
            "cells": {
             "fill": {
              "color": "#EBF0F8"
             },
             "line": {
              "color": "white"
             }
            },
            "header": {
             "fill": {
              "color": "#C8D4E3"
             },
             "line": {
              "color": "white"
             }
            },
            "type": "table"
           }
          ]
         },
         "layout": {
          "annotationdefaults": {
           "arrowcolor": "#2a3f5f",
           "arrowhead": 0,
           "arrowwidth": 1
          },
          "autotypenumbers": "strict",
          "coloraxis": {
           "colorbar": {
            "outlinewidth": 0,
            "ticks": ""
           }
          },
          "colorscale": {
           "diverging": [
            [
             0,
             "#8e0152"
            ],
            [
             0.1,
             "#c51b7d"
            ],
            [
             0.2,
             "#de77ae"
            ],
            [
             0.3,
             "#f1b6da"
            ],
            [
             0.4,
             "#fde0ef"
            ],
            [
             0.5,
             "#f7f7f7"
            ],
            [
             0.6,
             "#e6f5d0"
            ],
            [
             0.7,
             "#b8e186"
            ],
            [
             0.8,
             "#7fbc41"
            ],
            [
             0.9,
             "#4d9221"
            ],
            [
             1,
             "#276419"
            ]
           ],
           "sequential": [
            [
             0,
             "#0d0887"
            ],
            [
             0.1111111111111111,
             "#46039f"
            ],
            [
             0.2222222222222222,
             "#7201a8"
            ],
            [
             0.3333333333333333,
             "#9c179e"
            ],
            [
             0.4444444444444444,
             "#bd3786"
            ],
            [
             0.5555555555555556,
             "#d8576b"
            ],
            [
             0.6666666666666666,
             "#ed7953"
            ],
            [
             0.7777777777777778,
             "#fb9f3a"
            ],
            [
             0.8888888888888888,
             "#fdca26"
            ],
            [
             1,
             "#f0f921"
            ]
           ],
           "sequentialminus": [
            [
             0,
             "#0d0887"
            ],
            [
             0.1111111111111111,
             "#46039f"
            ],
            [
             0.2222222222222222,
             "#7201a8"
            ],
            [
             0.3333333333333333,
             "#9c179e"
            ],
            [
             0.4444444444444444,
             "#bd3786"
            ],
            [
             0.5555555555555556,
             "#d8576b"
            ],
            [
             0.6666666666666666,
             "#ed7953"
            ],
            [
             0.7777777777777778,
             "#fb9f3a"
            ],
            [
             0.8888888888888888,
             "#fdca26"
            ],
            [
             1,
             "#f0f921"
            ]
           ]
          },
          "colorway": [
           "#636efa",
           "#EF553B",
           "#00cc96",
           "#ab63fa",
           "#FFA15A",
           "#19d3f3",
           "#FF6692",
           "#B6E880",
           "#FF97FF",
           "#FECB52"
          ],
          "font": {
           "color": "#2a3f5f"
          },
          "geo": {
           "bgcolor": "white",
           "lakecolor": "white",
           "landcolor": "white",
           "showlakes": true,
           "showland": true,
           "subunitcolor": "#C8D4E3"
          },
          "hoverlabel": {
           "align": "left"
          },
          "hovermode": "closest",
          "mapbox": {
           "style": "light"
          },
          "paper_bgcolor": "white",
          "plot_bgcolor": "white",
          "polar": {
           "angularaxis": {
            "gridcolor": "#EBF0F8",
            "linecolor": "#EBF0F8",
            "ticks": ""
           },
           "bgcolor": "white",
           "radialaxis": {
            "gridcolor": "#EBF0F8",
            "linecolor": "#EBF0F8",
            "ticks": ""
           }
          },
          "scene": {
           "xaxis": {
            "backgroundcolor": "white",
            "gridcolor": "#DFE8F3",
            "gridwidth": 2,
            "linecolor": "#EBF0F8",
            "showbackground": true,
            "ticks": "",
            "zerolinecolor": "#EBF0F8"
           },
           "yaxis": {
            "backgroundcolor": "white",
            "gridcolor": "#DFE8F3",
            "gridwidth": 2,
            "linecolor": "#EBF0F8",
            "showbackground": true,
            "ticks": "",
            "zerolinecolor": "#EBF0F8"
           },
           "zaxis": {
            "backgroundcolor": "white",
            "gridcolor": "#DFE8F3",
            "gridwidth": 2,
            "linecolor": "#EBF0F8",
            "showbackground": true,
            "ticks": "",
            "zerolinecolor": "#EBF0F8"
           }
          },
          "shapedefaults": {
           "line": {
            "color": "#2a3f5f"
           }
          },
          "ternary": {
           "aaxis": {
            "gridcolor": "#DFE8F3",
            "linecolor": "#A2B1C6",
            "ticks": ""
           },
           "baxis": {
            "gridcolor": "#DFE8F3",
            "linecolor": "#A2B1C6",
            "ticks": ""
           },
           "bgcolor": "white",
           "caxis": {
            "gridcolor": "#DFE8F3",
            "linecolor": "#A2B1C6",
            "ticks": ""
           }
          },
          "title": {
           "x": 0.05
          },
          "xaxis": {
           "automargin": true,
           "gridcolor": "#EBF0F8",
           "linecolor": "#EBF0F8",
           "ticks": "",
           "title": {
            "standoff": 15
           },
           "zerolinecolor": "#EBF0F8",
           "zerolinewidth": 2
          },
          "yaxis": {
           "automargin": true,
           "gridcolor": "#EBF0F8",
           "linecolor": "#EBF0F8",
           "ticks": "",
           "title": {
            "standoff": 15
           },
           "zerolinecolor": "#EBF0F8",
           "zerolinewidth": 2
          }
         }
        },
        "title": {
         "text": "DEFAULT TITLE"
        },
        "width": 800,
        "xaxis": {
         "fixedrange": true,
         "nticks": 10,
         "title": {}
        },
        "yaxis": {
         "fixedrange": true,
         "nticks": 10,
         "title": {}
        }
       }
      }
     },
     "metadata": {},
     "output_type": "display_data"
    }
   ],
   "source": [
    "def heatmap(\n",
    "    matrix: np.ndarray | None = None,\n",
    "    labels: list | None = None,\n",
    "    title: str = \"DEFAULT TITLE\",\n",
    "    show_values: bool = True,\n",
    "    value_format: Literal[\".2f\", \".2e\"] = \".2f\",\n",
    "    width: int = 800,\n",
    "    height: int = 600,\n",
    "    xaxis_title: str | None = None,\n",
    "    yaxis_title: str | None = None,\n",
    "    log: bool = False,\n",
    "    nan_diagnal: bool = False,\n",
    ") -> go.Figure:\n",
    "    \"\"\"Create a heatmap visualization using plotly.\n",
    "\n",
    "    Args:\n",
    "        matrix: Input matrix to visualize. If None, generates random demo data\n",
    "        labels: Labels for rows and columns. If None, generates fake names\n",
    "        title: Title of the heatmap\n",
    "        show_values: Whether to show values in cells\n",
    "        value_format: Format string for cell values\n",
    "        width: Width of the figure in pixels\n",
    "        height: Height of the figure in pixels\n",
    "        xaxis_title: Title for x-axis\n",
    "        yaxis_title: Title for y-axis\n",
    "        log: Whether to log10 transform the values\n",
    "        nan_diagnal: Whether to set diagonal to NaN\n",
    "\n",
    "    Returns:\n",
    "        go.Figure: Plotly figure object\n",
    "    \"\"\"\n",
    "    if matrix is None:\n",
    "        faker = Faker()\n",
    "        shape = (10, 10)\n",
    "        matrix = rng.random(shape)\n",
    "    else:\n",
    "        shape = matrix.shape\n",
    "\n",
    "    if labels is None:\n",
    "        labels = [faker.name() for _ in range(shape[0])]\n",
    "        logger.info(labels)\n",
    "    logger.info(\"Creating heatmap visualization...\")\n",
    "\n",
    "    # Convert input to numpy array and handle None values\n",
    "    matrix = np.array(matrix, dtype=object)\n",
    "    none_mask = matrix is None\n",
    "    matrix = matrix.astype(float)\n",
    "    if log:\n",
    "        matrix = np.log10(matrix)\n",
    "    matrix[none_mask] = np.nan\n",
    "    if nan_diagnal:\n",
    "        matrix[np.identity(matrix.shape[0], dtype=bool)] = np.nan\n",
    "\n",
    "    # Format cell values if needed\n",
    "    text_vals = None\n",
    "    if show_values:\n",
    "        text_vals = np.vectorize(lambda x: \"N/A\" if np.isnan(x) else f\"{x:{value_format}}\")(matrix)\n",
    "\n",
    "    # Create figure\n",
    "    fig = get_default_heatmap_fig()\n",
    "    heatmap_trace: go.Heatmap = fig.data[0]\n",
    "    heatmap_trace.update(\n",
    "        go.Heatmap(\n",
    "            z=matrix,\n",
    "            x=labels,\n",
    "            y=labels,\n",
    "            text=text_vals,\n",
    "            texttemplate=\"%{text}\" if show_values else None,\n",
    "        ),\n",
    "        overwrite=True,\n",
    "    )\n",
    "\n",
    "    # Update layout using plotly objects\n",
    "    fig.update_layout(\n",
    "        title=title,\n",
    "        height=height,\n",
    "        width=width,\n",
    "    )\n",
    "\n",
    "    # Update axes\n",
    "    fig.update_xaxes(\n",
    "        title=xaxis_title,\n",
    "        nticks=len(labels) if labels else None,\n",
    "        fixedrange=True,  # Disable zoom/pan\n",
    "    )\n",
    "\n",
    "    fig.update_yaxes(\n",
    "        title=yaxis_title,\n",
    "        nticks=len(labels) if labels else None,\n",
    "        fixedrange=True,  # Disable zoom/pan\n",
    "    )\n",
    "\n",
    "    return fig\n",
    "\n",
    "\n",
    "heatmap()"
   ]
  },
  {
   "cell_type": "code",
   "execution_count": 53,
   "metadata": {},
   "outputs": [
    {
     "name": "stderr",
     "output_type": "stream",
     "text": [
      "\u001b[32m2024-12-13 19:44:18.596\u001b[0m | \u001b[1mINFO    \u001b[0m | \u001b[36m__main__\u001b[0m:\u001b[36mheatmap\u001b[0m:\u001b[36m42\u001b[0m - \u001b[1mCreating heatmap visualization...\u001b[0m\n",
      "\u001b[32m2024-12-13 19:44:18.603\u001b[0m | \u001b[1mINFO    \u001b[0m | \u001b[36m__main__\u001b[0m:\u001b[36mheatmap\u001b[0m:\u001b[36m42\u001b[0m - \u001b[1mCreating heatmap visualization...\u001b[0m\n",
      "\u001b[32m2024-12-13 19:44:18.609\u001b[0m | \u001b[1mINFO    \u001b[0m | \u001b[36m__main__\u001b[0m:\u001b[36mheatmap\u001b[0m:\u001b[36m42\u001b[0m - \u001b[1mCreating heatmap visualization...\u001b[0m\n",
      "\u001b[32m2024-12-13 19:44:18.615\u001b[0m | \u001b[1mINFO    \u001b[0m | \u001b[36m__main__\u001b[0m:\u001b[36mheatmap\u001b[0m:\u001b[36m42\u001b[0m - \u001b[1mCreating heatmap visualization...\u001b[0m\n",
      "\u001b[32m2024-12-13 19:44:18.621\u001b[0m | \u001b[1mINFO    \u001b[0m | \u001b[36m__main__\u001b[0m:\u001b[36mheatmap\u001b[0m:\u001b[36m42\u001b[0m - \u001b[1mCreating heatmap visualization...\u001b[0m\n",
      "\u001b[32m2024-12-13 19:44:18.626\u001b[0m | \u001b[1mINFO    \u001b[0m | \u001b[36m__main__\u001b[0m:\u001b[36mheatmap\u001b[0m:\u001b[36m42\u001b[0m - \u001b[1mCreating heatmap visualization...\u001b[0m\n"
     ]
    },
    {
     "data": {
      "application/vnd.plotly.v1+json": {
       "config": {
        "plotlyServerURL": "https://plot.ly"
       },
       "data": [
        {
         "colorscale": [
          [
           0,
           "#440154"
          ],
          [
           0.1111111111111111,
           "#482878"
          ],
          [
           0.2222222222222222,
           "#3e4989"
          ],
          [
           0.3333333333333333,
           "#31688e"
          ],
          [
           0.4444444444444444,
           "#26828e"
          ],
          [
           0.5555555555555556,
           "#1f9e89"
          ],
          [
           0.6666666666666666,
           "#35b779"
          ],
          [
           0.7777777777777778,
           "#6ece58"
          ],
          [
           0.8888888888888888,
           "#b5de2b"
          ],
          [
           1,
           "#fde725"
          ]
         ],
         "reversescale": false,
         "showlegend": false,
         "showscale": true,
         "text": [
          [
           "0.66",
           "0.08",
           "0.37",
           "0.68",
           "0.98",
           "0.50",
           "0.56",
           "0.86",
           "0.17",
           "0.66"
          ],
          [
           "0.24",
           "0.42",
           "0.60",
           "0.23",
           "0.61",
           "0.29",
           "0.25",
           "0.74",
           "0.90",
           "0.49"
          ],
          [
           "0.16",
           "0.45",
           "0.79",
           "0.17",
           "0.19",
           "0.88",
           "0.74",
           "0.68",
           "0.95",
           "0.75"
          ],
          [
           "0.18",
           "0.99",
           "0.96",
           "0.14",
           "0.65",
           "0.24",
           "0.28",
           "0.73",
           "0.01",
           "0.56"
          ],
          [
           "0.97",
           "0.65",
           "0.28",
           "1.00",
           "0.29",
           "0.27",
           "0.33",
           "0.43",
           "0.22",
           "0.05"
          ],
          [
           "0.71",
           "0.10",
           "0.51",
           "0.18",
           "0.87",
           "0.51",
           "0.56",
           "0.69",
           "0.79",
           "0.96"
          ],
          [
           "0.21",
           "0.39",
           "0.38",
           "0.37",
           "0.69",
           "0.61",
           "0.83",
           "0.78",
           "0.91",
           "0.88"
          ],
          [
           "0.87",
           "0.12",
           "0.26",
           "0.35",
           "0.06",
           "0.84",
           "0.13",
           "0.64",
           "0.28",
           "0.09"
          ],
          [
           "0.83",
           "0.64",
           "0.19",
           "0.93",
           "0.57",
           "0.57",
           "0.02",
           "0.02",
           "0.09",
           "0.39"
          ],
          [
           "0.55",
           "0.53",
           "0.82",
           "0.17",
           "0.52",
           "0.85",
           "0.05",
           "0.51",
           "0.27",
           "0.97"
          ]
         ],
         "textfont": {
          "color": "black"
         },
         "texttemplate": "%{text}",
         "type": "heatmap",
         "x": [
          "Lindsey Ellis",
          "Eric Cervantes",
          "Melanie Lyons",
          "David Estrada",
          "Linda Powers",
          "Dawn Perkins",
          "Melissa Key",
          "Dylan Gilbert",
          "Jennifer Norton",
          "Bryan Garcia"
         ],
         "y": [
          "Lindsey Ellis",
          "Eric Cervantes",
          "Melanie Lyons",
          "David Estrada",
          "Linda Powers",
          "Dawn Perkins",
          "Melissa Key",
          "Dylan Gilbert",
          "Jennifer Norton",
          "Bryan Garcia"
         ],
         "z": [
          [
           0.6600889374195796,
           0.0751044311466551,
           0.36786810525831704,
           0.6791587296463926,
           0.9773191490346808,
           0.5040688832436899,
           0.5572326373643123,
           0.8617964630106378,
           0.1731658843790569,
           0.6614379472426721
          ],
          [
           0.2383558050441862,
           0.42437667474896623,
           0.604323694136712,
           0.2285232509886964,
           0.6149064721729772,
           0.2858001933076526,
           0.25063846981739246,
           0.7352487814197843,
           0.9015563232078688,
           0.4925900535394496
          ],
          [
           0.1559605353143999,
           0.4510109682984452,
           0.7934299511686831,
           0.17132568459369912,
           0.1878706940450665,
           0.8784248383650632,
           0.7381903441973446,
           0.678774229907976,
           0.9464599040412978,
           0.7479202767522576
          ],
          [
           0.18104518883674814,
           0.9856772679988606,
           0.9576986843901107,
           0.1388018489706473,
           0.6545159381813038,
           0.23586061499821953,
           0.28178164925350924,
           0.7300115164484877,
           0.014332937893742237,
           0.5565077977649437
          ],
          [
           0.9659994523901372,
           0.6491636823805751,
           0.2793735752440587,
           0.9981984711882927,
           0.29198614722597926,
           0.2676338536265209,
           0.33244151142380163,
           0.4280564963684529,
           0.2190713273033108,
           0.05201804810416888
          ],
          [
           0.710315123548072,
           0.0958962691129227,
           0.5143889004522183,
           0.1750918955422971,
           0.8730721994861572,
           0.5094068282101025,
           0.5591771860666569,
           0.6880062295119465,
           0.7887297682074856,
           0.9569477221578649
          ],
          [
           0.20645430504142614,
           0.3873233230010188,
           0.3814415542434446,
           0.3728984833786294,
           0.6929832258143934,
           0.6145924945091513,
           0.8291296071887788,
           0.7805696096523723,
           0.9089188155483297,
           0.8805607001893325
          ],
          [
           0.8694448435782842,
           0.12015238521175142,
           0.2590595619463101,
           0.35458946395655533,
           0.059612514567416786,
           0.8374607143338403,
           0.13485911857384658,
           0.6403666443973851,
           0.28176927027709453,
           0.08663506531322074
          ],
          [
           0.8346412173156144,
           0.6429168521845219,
           0.18602440384151564,
           0.9266475658800606,
           0.566571860133643,
           0.5706876199018517,
           0.01941094525897602,
           0.023865866795175106,
           0.0894722284880265,
           0.38943355854889805
          ],
          [
           0.5531721302797132,
           0.5284457284324859,
           0.8218964759137167,
           0.16629061851800897,
           0.5181714013401479,
           0.8497638104276575,
           0.053652842451567206,
           0.5144140815185748,
           0.2650212246131839,
           0.9674956141471333
          ]
         ]
        }
       ],
       "frames": [
        {
         "data": [
          {
           "colorscale": [
            [
             0,
             "#440154"
            ],
            [
             0.1111111111111111,
             "#482878"
            ],
            [
             0.2222222222222222,
             "#3e4989"
            ],
            [
             0.3333333333333333,
             "#31688e"
            ],
            [
             0.4444444444444444,
             "#26828e"
            ],
            [
             0.5555555555555556,
             "#1f9e89"
            ],
            [
             0.6666666666666666,
             "#35b779"
            ],
            [
             0.7777777777777778,
             "#6ece58"
            ],
            [
             0.8888888888888888,
             "#b5de2b"
            ],
            [
             1,
             "#fde725"
            ]
           ],
           "reversescale": false,
           "showlegend": false,
           "showscale": true,
           "text": [
            [
             "0.66",
             "0.08",
             "0.37",
             "0.68",
             "0.98",
             "0.50",
             "0.56",
             "0.86",
             "0.17",
             "0.66"
            ],
            [
             "0.24",
             "0.42",
             "0.60",
             "0.23",
             "0.61",
             "0.29",
             "0.25",
             "0.74",
             "0.90",
             "0.49"
            ],
            [
             "0.16",
             "0.45",
             "0.79",
             "0.17",
             "0.19",
             "0.88",
             "0.74",
             "0.68",
             "0.95",
             "0.75"
            ],
            [
             "0.18",
             "0.99",
             "0.96",
             "0.14",
             "0.65",
             "0.24",
             "0.28",
             "0.73",
             "0.01",
             "0.56"
            ],
            [
             "0.97",
             "0.65",
             "0.28",
             "1.00",
             "0.29",
             "0.27",
             "0.33",
             "0.43",
             "0.22",
             "0.05"
            ],
            [
             "0.71",
             "0.10",
             "0.51",
             "0.18",
             "0.87",
             "0.51",
             "0.56",
             "0.69",
             "0.79",
             "0.96"
            ],
            [
             "0.21",
             "0.39",
             "0.38",
             "0.37",
             "0.69",
             "0.61",
             "0.83",
             "0.78",
             "0.91",
             "0.88"
            ],
            [
             "0.87",
             "0.12",
             "0.26",
             "0.35",
             "0.06",
             "0.84",
             "0.13",
             "0.64",
             "0.28",
             "0.09"
            ],
            [
             "0.83",
             "0.64",
             "0.19",
             "0.93",
             "0.57",
             "0.57",
             "0.02",
             "0.02",
             "0.09",
             "0.39"
            ],
            [
             "0.55",
             "0.53",
             "0.82",
             "0.17",
             "0.52",
             "0.85",
             "0.05",
             "0.51",
             "0.27",
             "0.97"
            ]
           ],
           "textfont": {
            "color": "black"
           },
           "texttemplate": "%{text}",
           "type": "heatmap",
           "x": [
            "Lindsey Ellis",
            "Eric Cervantes",
            "Melanie Lyons",
            "David Estrada",
            "Linda Powers",
            "Dawn Perkins",
            "Melissa Key",
            "Dylan Gilbert",
            "Jennifer Norton",
            "Bryan Garcia"
           ],
           "y": [
            "Lindsey Ellis",
            "Eric Cervantes",
            "Melanie Lyons",
            "David Estrada",
            "Linda Powers",
            "Dawn Perkins",
            "Melissa Key",
            "Dylan Gilbert",
            "Jennifer Norton",
            "Bryan Garcia"
           ],
           "z": [
            [
             0.6600889374195796,
             0.0751044311466551,
             0.36786810525831704,
             0.6791587296463926,
             0.9773191490346808,
             0.5040688832436899,
             0.5572326373643123,
             0.8617964630106378,
             0.1731658843790569,
             0.6614379472426721
            ],
            [
             0.2383558050441862,
             0.42437667474896623,
             0.604323694136712,
             0.2285232509886964,
             0.6149064721729772,
             0.2858001933076526,
             0.25063846981739246,
             0.7352487814197843,
             0.9015563232078688,
             0.4925900535394496
            ],
            [
             0.1559605353143999,
             0.4510109682984452,
             0.7934299511686831,
             0.17132568459369912,
             0.1878706940450665,
             0.8784248383650632,
             0.7381903441973446,
             0.678774229907976,
             0.9464599040412978,
             0.7479202767522576
            ],
            [
             0.18104518883674814,
             0.9856772679988606,
             0.9576986843901107,
             0.1388018489706473,
             0.6545159381813038,
             0.23586061499821953,
             0.28178164925350924,
             0.7300115164484877,
             0.014332937893742237,
             0.5565077977649437
            ],
            [
             0.9659994523901372,
             0.6491636823805751,
             0.2793735752440587,
             0.9981984711882927,
             0.29198614722597926,
             0.2676338536265209,
             0.33244151142380163,
             0.4280564963684529,
             0.2190713273033108,
             0.05201804810416888
            ],
            [
             0.710315123548072,
             0.0958962691129227,
             0.5143889004522183,
             0.1750918955422971,
             0.8730721994861572,
             0.5094068282101025,
             0.5591771860666569,
             0.6880062295119465,
             0.7887297682074856,
             0.9569477221578649
            ],
            [
             0.20645430504142614,
             0.3873233230010188,
             0.3814415542434446,
             0.3728984833786294,
             0.6929832258143934,
             0.6145924945091513,
             0.8291296071887788,
             0.7805696096523723,
             0.9089188155483297,
             0.8805607001893325
            ],
            [
             0.8694448435782842,
             0.12015238521175142,
             0.2590595619463101,
             0.35458946395655533,
             0.059612514567416786,
             0.8374607143338403,
             0.13485911857384658,
             0.6403666443973851,
             0.28176927027709453,
             0.08663506531322074
            ],
            [
             0.8346412173156144,
             0.6429168521845219,
             0.18602440384151564,
             0.9266475658800606,
             0.566571860133643,
             0.5706876199018517,
             0.01941094525897602,
             0.023865866795175106,
             0.0894722284880265,
             0.38943355854889805
            ],
            [
             0.5531721302797132,
             0.5284457284324859,
             0.8218964759137167,
             0.16629061851800897,
             0.5181714013401479,
             0.8497638104276575,
             0.053652842451567206,
             0.5144140815185748,
             0.2650212246131839,
             0.9674956141471333
            ]
           ]
          }
         ],
         "name": "frame_0"
        },
        {
         "data": [
          {
           "colorscale": [
            [
             0,
             "#440154"
            ],
            [
             0.1111111111111111,
             "#482878"
            ],
            [
             0.2222222222222222,
             "#3e4989"
            ],
            [
             0.3333333333333333,
             "#31688e"
            ],
            [
             0.4444444444444444,
             "#26828e"
            ],
            [
             0.5555555555555556,
             "#1f9e89"
            ],
            [
             0.6666666666666666,
             "#35b779"
            ],
            [
             0.7777777777777778,
             "#6ece58"
            ],
            [
             0.8888888888888888,
             "#b5de2b"
            ],
            [
             1,
             "#fde725"
            ]
           ],
           "reversescale": false,
           "showlegend": false,
           "showscale": true,
           "text": [
            [
             "0.09",
             "0.36",
             "0.15",
             "0.40",
             "0.77",
             "0.06",
             "0.41",
             "0.85",
             "0.21",
             "0.87"
            ],
            [
             "0.05",
             "0.16",
             "0.76",
             "0.21",
             "0.10",
             "0.54",
             "0.40",
             "0.27",
             "0.02",
             "0.01"
            ],
            [
             "0.34",
             "0.37",
             "0.04",
             "0.34",
             "0.93",
             "0.51",
             "0.34",
             "0.76",
             "0.73",
             "0.76"
            ],
            [
             "0.60",
             "0.03",
             "0.08",
             "0.86",
             "0.87",
             "0.40",
             "0.91",
             "0.64",
             "0.77",
             "0.46"
            ],
            [
             "0.38",
             "0.39",
             "0.33",
             "0.28",
             "0.96",
             "0.21",
             "0.41",
             "0.47",
             "0.46",
             "0.18"
            ],
            [
             "0.36",
             "0.45",
             "0.37",
             "0.10",
             "0.07",
             "0.86",
             "0.20",
             "0.35",
             "0.97",
             "0.41"
            ],
            [
             "0.30",
             "0.21",
             "0.49",
             "0.64",
             "0.58",
             "0.46",
             "0.09",
             "0.52",
             "0.21",
             "0.73"
            ],
            [
             "0.92",
             "0.87",
             "0.08",
             "0.36",
             "0.25",
             "0.03",
             "1.00",
             "0.24",
             "0.13",
             "0.65"
            ],
            [
             "0.18",
             "0.23",
             "0.07",
             "0.61",
             "0.70",
             "0.67",
             "0.29",
             "0.64",
             "0.90",
             "0.25"
            ],
            [
             "0.22",
             "0.82",
             "0.33",
             "0.91",
             "0.79",
             "0.12",
             "0.04",
             "0.79",
             "0.45",
             "0.08"
            ]
           ],
           "textfont": {
            "color": "black"
           },
           "texttemplate": "%{text}",
           "type": "heatmap",
           "x": [
            "Lindsey Ellis",
            "Eric Cervantes",
            "Melanie Lyons",
            "David Estrada",
            "Linda Powers",
            "Dawn Perkins",
            "Melissa Key",
            "Dylan Gilbert",
            "Jennifer Norton",
            "Bryan Garcia"
           ],
           "y": [
            "Lindsey Ellis",
            "Eric Cervantes",
            "Melanie Lyons",
            "David Estrada",
            "Linda Powers",
            "Dawn Perkins",
            "Melissa Key",
            "Dylan Gilbert",
            "Jennifer Norton",
            "Bryan Garcia"
           ],
           "z": [
            [
             0.09095571290731974,
             0.35732204106255416,
             0.14641916269047983,
             0.4043176791157954,
             0.7725923809289194,
             0.055849172310246775,
             0.4136086062070109,
             0.8494552613299304,
             0.20674678272954194,
             0.8666852304771645
            ],
            [
             0.05059962686301689,
             0.15628111732627847,
             0.7629453122244817,
             0.21026370858469745,
             0.10441014938991278,
             0.5434049936421377,
             0.40055899223264835,
             0.2739988565916792,
             0.02323514199599319,
             0.013366164986995166
            ],
            [
             0.3405899029524725,
             0.3732607261471399,
             0.04395135926319482,
             0.34442566201091407,
             0.9273533878080633,
             0.5113018362676968,
             0.3403671330254602,
             0.7643421520258634,
             0.7254057167417729,
             0.7597901065887915
            ],
            [
             0.6046934617260067,
             0.029941921494684443,
             0.07510436601149273,
             0.8562851693075711,
             0.8662349355532729,
             0.4028762214466638,
             0.9148021951128936,
             0.6438998010107094,
             0.7704274353595562,
             0.458007158660909
            ],
            [
             0.38421291560830695,
             0.3918567186946216,
             0.3251733965735145,
             0.28244983011570957,
             0.9587545755310852,
             0.2076100112494912,
             0.4116449988812092,
             0.4729531797678056,
             0.4585755130643756,
             0.1786664055662207
            ],
            [
             0.3640278405392714,
             0.45370099831118194,
             0.3739354469651849,
             0.09529164855428007,
             0.07222650907065575,
             0.8581839462807073,
             0.19879038691921846,
             0.34955069214332235,
             0.9699432601199492,
             0.40623232311312285
            ],
            [
             0.3044954160429536,
             0.21368577195023164,
             0.49421254946990223,
             0.6389072883656217,
             0.5751095151063086,
             0.45790156782798264,
             0.08942461987947459,
             0.5190305324924284,
             0.2079736010152683,
             0.7317394546433961
            ],
            [
             0.919753700273513,
             0.8731779048907125,
             0.08030886246600111,
             0.357714989847827,
             0.2528334644847222,
             0.02854749656673239,
             0.9987507373625645,
             0.23987137024794103,
             0.13073007194879327,
             0.6528028174651489
            ],
            [
             0.17881024272303547,
             0.23437939889929782,
             0.07076640960333791,
             0.6136153495362188,
             0.7041675039130216,
             0.6702831802220162,
             0.28688729229398535,
             0.6409749216681863,
             0.8950103245771361,
             0.24924670607361765
            ],
            [
             0.21825793477955935,
             0.8179383462960129,
             0.33062666675367436,
             0.906838100560089,
             0.7872656561273732,
             0.11680646174698972,
             0.040797339687667855,
             0.7943559832959093,
             0.44974237953062013,
             0.07821061305470656
            ]
           ]
          }
         ],
         "name": "frame_1"
        },
        {
         "data": [
          {
           "colorscale": [
            [
             0,
             "#440154"
            ],
            [
             0.1111111111111111,
             "#482878"
            ],
            [
             0.2222222222222222,
             "#3e4989"
            ],
            [
             0.3333333333333333,
             "#31688e"
            ],
            [
             0.4444444444444444,
             "#26828e"
            ],
            [
             0.5555555555555556,
             "#1f9e89"
            ],
            [
             0.6666666666666666,
             "#35b779"
            ],
            [
             0.7777777777777778,
             "#6ece58"
            ],
            [
             0.8888888888888888,
             "#b5de2b"
            ],
            [
             1,
             "#fde725"
            ]
           ],
           "reversescale": false,
           "showlegend": false,
           "showscale": true,
           "text": [
            [
             "0.88",
             "0.02",
             "0.71",
             "0.52",
             "0.51",
             "0.84",
             "0.66",
             "0.62",
             "0.87",
             "0.92"
            ],
            [
             "0.64",
             "0.91",
             "0.48",
             "0.10",
             "0.02",
             "0.04",
             "0.96",
             "0.14",
             "0.05",
             "0.97"
            ],
            [
             "0.40",
             "0.96",
             "0.63",
             "0.30",
             "0.49",
             "0.37",
             "0.95",
             "0.39",
             "0.55",
             "0.05"
            ],
            [
             "0.01",
             "0.48",
             "0.26",
             "0.39",
             "0.38",
             "0.71",
             "0.16",
             "0.96",
             "0.07",
             "0.23"
            ],
            [
             "0.14",
             "0.44",
             "0.10",
             "0.13",
             "0.39",
             "0.00",
             "0.90",
             "0.12",
             "0.30",
             "0.91"
            ],
            [
             "0.40",
             "0.46",
             "0.78",
             "0.52",
             "0.25",
             "0.75",
             "0.16",
             "0.87",
             "0.37",
             "0.45"
            ],
            [
             "0.74",
             "0.21",
             "0.78",
             "0.18",
             "0.33",
             "0.38",
             "0.05",
             "0.36",
             "0.11",
             "0.01"
            ],
            [
             "0.48",
             "0.90",
             "0.50",
             "0.82",
             "0.40",
             "0.54",
             "0.11",
             "0.60",
             "0.05",
             "0.77"
            ],
            [
             "0.72",
             "0.71",
             "0.00",
             "0.41",
             "0.30",
             "0.84",
             "0.74",
             "0.25",
             "0.65",
             "0.19"
            ],
            [
             "0.26",
             "0.17",
             "0.03",
             "0.67",
             "0.64",
             "0.55",
             "0.68",
             "0.49",
             "0.83",
             "0.82"
            ]
           ],
           "textfont": {
            "color": "black"
           },
           "texttemplate": "%{text}",
           "type": "heatmap",
           "x": [
            "Lindsey Ellis",
            "Eric Cervantes",
            "Melanie Lyons",
            "David Estrada",
            "Linda Powers",
            "Dawn Perkins",
            "Melissa Key",
            "Dylan Gilbert",
            "Jennifer Norton",
            "Bryan Garcia"
           ],
           "y": [
            "Lindsey Ellis",
            "Eric Cervantes",
            "Melanie Lyons",
            "David Estrada",
            "Linda Powers",
            "Dawn Perkins",
            "Melissa Key",
            "Dylan Gilbert",
            "Jennifer Norton",
            "Bryan Garcia"
           ],
           "z": [
            [
             0.8821709794464438,
             0.02010292758467358,
             0.7130674926726926,
             0.5236313261379469,
             0.5117703186179025,
             0.8359993376583439,
             0.6592068947542227,
             0.6210666921900899,
             0.8675820172935872,
             0.919078670362219
            ],
            [
             0.6354013815926014,
             0.9076814439518514,
             0.48125894659088186,
             0.10007363698644456,
             0.016886884864968366,
             0.036979067237080665,
             0.9605403803424739,
             0.1405139017334387,
             0.05289736353125507,
             0.9712239191564336
            ],
            [
             0.4048000130256795,
             0.955803319500588,
             0.6268956634990259,
             0.3000975348112789,
             0.4947962865745018,
             0.36910664551710437,
             0.9457406796800745,
             0.3887972043284559,
             0.5508575836727929,
             0.054021644291417203
            ],
            [
             0.008997713913360794,
             0.4771926145515173,
             0.26491930279477727,
             0.38693414227581413,
             0.3756870870573362,
             0.7106079641312589,
             0.15670398743831027,
             0.9604633796895388,
             0.07274772304005106,
             0.23206178709443648
            ],
            [
             0.14107150095886023,
             0.4409228499307274,
             0.09803675515650512,
             0.1319762928714593,
             0.3941491092396199,
             0.004745809404350099,
             0.9003555930551601,
             0.12331718020469329,
             0.3026694502518116,
             0.9094126645282861
            ],
            [
             0.39704410420350233,
             0.45933439238686213,
             0.7786507277073275,
             0.5175900277825838,
             0.253772255134025,
             0.7467036717914103,
             0.16223246315121764,
             0.8658253066521506,
             0.36920051583711266,
             0.450744031260486
            ],
            [
             0.7369215855165752,
             0.2124906602748945,
             0.7797675816263667,
             0.17955722838433352,
             0.33232357318733985,
             0.37530536677740134,
             0.05357876718580257,
             0.35731183066990935,
             0.10897501875774718,
             0.005422422093494084
            ],
            [
             0.4766846842040231,
             0.8957189894954767,
             0.500156928030143,
             0.816808293337779,
             0.4021882235400198,
             0.5411386131007585,
             0.10935273328562145,
             0.596903106258868,
             0.04785504092651427,
             0.7738091098911353
            ],
            [
             0.7152050784833679,
             0.713346022412789,
             0.002635884061167326,
             0.40552805237608247,
             0.29706145700111686,
             0.8363381784384578,
             0.741893066677345,
             0.24851614708203407,
             0.6486334166331976,
             0.1932057648401081
            ],
            [
             0.263801912908334,
             0.16546054174757918,
             0.030020792014707087,
             0.6670142947923644,
             0.6394980517033105,
             0.5511185107239462,
             0.6787063848027507,
             0.4897936038880193,
             0.8258976716155996,
             0.8230429803951725
            ]
           ]
          }
         ],
         "name": "frame_2"
        },
        {
         "data": [
          {
           "colorscale": [
            [
             0,
             "#440154"
            ],
            [
             0.1111111111111111,
             "#482878"
            ],
            [
             0.2222222222222222,
             "#3e4989"
            ],
            [
             0.3333333333333333,
             "#31688e"
            ],
            [
             0.4444444444444444,
             "#26828e"
            ],
            [
             0.5555555555555556,
             "#1f9e89"
            ],
            [
             0.6666666666666666,
             "#35b779"
            ],
            [
             0.7777777777777778,
             "#6ece58"
            ],
            [
             0.8888888888888888,
             "#b5de2b"
            ],
            [
             1,
             "#fde725"
            ]
           ],
           "reversescale": false,
           "showlegend": false,
           "showscale": true,
           "text": [
            [
             "0.28",
             "0.08",
             "0.58",
             "0.04",
             "0.29",
             "0.82",
             "0.04",
             "0.16",
             "0.51",
             "0.78"
            ],
            [
             "0.56",
             "0.66",
             "0.43",
             "0.55",
             "0.42",
             "0.87",
             "0.31",
             "0.11",
             "0.65",
             "0.70"
            ],
            [
             "0.07",
             "0.73",
             "0.85",
             "0.10",
             "0.49",
             "0.13",
             "0.29",
             "0.42",
             "1.00",
             "0.49"
            ],
            [
             "0.07",
             "0.73",
             "0.55",
             "0.08",
             "0.80",
             "0.49",
             "0.37",
             "0.54",
             "0.37",
             "0.82"
            ],
            [
             "0.54",
             "0.71",
             "0.65",
             "0.99",
             "0.03",
             "0.15",
             "0.63",
             "0.10",
             "0.91",
             "0.25"
            ],
            [
             "0.32",
             "0.94",
             "0.70",
             "0.02",
             "0.53",
             "0.33",
             "0.24",
             "0.03",
             "0.54",
             "0.22"
            ],
            [
             "0.80",
             "0.89",
             "0.59",
             "0.18",
             "0.41",
             "0.23",
             "0.58",
             "0.36",
             "0.28",
             "0.58"
            ],
            [
             "0.23",
             "0.33",
             "0.57",
             "0.34",
             "0.33",
             "0.07",
             "0.06",
             "0.83",
             "0.04",
             "0.35"
            ],
            [
             "0.39",
             "0.76",
             "0.40",
             "0.42",
             "0.44",
             "0.01",
             "0.68",
             "0.21",
             "0.97",
             "0.73"
            ],
            [
             "0.80",
             "0.27",
             "0.45",
             "0.57",
             "0.88",
             "0.23",
             "0.04",
             "0.48",
             "0.40",
             "0.46"
            ]
           ],
           "textfont": {
            "color": "black"
           },
           "texttemplate": "%{text}",
           "type": "heatmap",
           "x": [
            "Lindsey Ellis",
            "Eric Cervantes",
            "Melanie Lyons",
            "David Estrada",
            "Linda Powers",
            "Dawn Perkins",
            "Melissa Key",
            "Dylan Gilbert",
            "Jennifer Norton",
            "Bryan Garcia"
           ],
           "y": [
            "Lindsey Ellis",
            "Eric Cervantes",
            "Melanie Lyons",
            "David Estrada",
            "Linda Powers",
            "Dawn Perkins",
            "Melissa Key",
            "Dylan Gilbert",
            "Jennifer Norton",
            "Bryan Garcia"
           ],
           "z": [
            [
             0.2781960298840118,
             0.08379769201303067,
             0.584421303534195,
             0.035408683184944945,
             0.2943661827204883,
             0.8174149554089487,
             0.03820760954512703,
             0.1607940785379932,
             0.5050273137287139,
             0.7844410057228323
            ],
            [
             0.556980114889109,
             0.6623288028372739,
             0.4261889749260499,
             0.5454512042653997,
             0.4180830637694619,
             0.8694555283136882,
             0.30994714914219457,
             0.11274870988409513,
             0.6515467728414275,
             0.6958719928429455
            ],
            [
             0.06929375498640922,
             0.729689137533923,
             0.8547569117682087,
             0.10295408813299045,
             0.48597089858273734,
             0.13168654132543622,
             0.2861631432975176,
             0.41702428475871667,
             0.9995269948671068,
             0.4930164065472674
            ],
            [
             0.07364817208796537,
             0.7345088731409425,
             0.5512685330207598,
             0.07551573206511697,
             0.8013588491017014,
             0.48630734707457945,
             0.3708354715406472,
             0.5386493504939892,
             0.374613063837573,
             0.8181785970027068
            ],
            [
             0.538118262099535,
             0.7149539609209465,
             0.6546916827120568,
             0.9860499639870415,
             0.03210413664149869,
             0.14960549929422717,
             0.631103592486021,
             0.09593721575772685,
             0.9119550399550601,
             0.24651885754542768
            ],
            [
             0.31566425247797747,
             0.935181966917874,
             0.6961297034631966,
             0.0214464813380143,
             0.5282848191561064,
             0.33442190361598934,
             0.24089302707993987,
             0.028493959483014364,
             0.535388064143224,
             0.2221251790454848
            ],
            [
             0.804842942489967,
             0.888186691986226,
             0.585189896048844,
             0.17579725088911102,
             0.4087763504747146,
             0.22895571390558922,
             0.5751511251987351,
             0.3615774413078048,
             0.2827124225070654,
             0.5847329360385145
            ],
            [
             0.2266668817938533,
             0.3277858651282394,
             0.5728830340043057,
             0.3352360657843516,
             0.32703316268510896,
             0.06546172806960093,
             0.06098308589650092,
             0.8311409832042479,
             0.04132058807826866,
             0.3533444951692686
            ],
            [
             0.3858273914819551,
             0.7574922414494,
             0.39946366675164113,
             0.42293856623545556,
             0.4438250928133223,
             0.00668918425099474,
             0.6802441460846794,
             0.21463374042183092,
             0.9726835491330814,
             0.7257547907277258
            ],
            [
             0.7967433350611515,
             0.2741052932584518,
             0.446304839606002,
             0.5654687919671438,
             0.8763826406814974,
             0.22938364871155015,
             0.04462162495959188,
             0.48335959129982187,
             0.4041991182651785,
             0.4587112125440592
            ]
           ]
          }
         ],
         "name": "frame_3"
        },
        {
         "data": [
          {
           "colorscale": [
            [
             0,
             "#440154"
            ],
            [
             0.1111111111111111,
             "#482878"
            ],
            [
             0.2222222222222222,
             "#3e4989"
            ],
            [
             0.3333333333333333,
             "#31688e"
            ],
            [
             0.4444444444444444,
             "#26828e"
            ],
            [
             0.5555555555555556,
             "#1f9e89"
            ],
            [
             0.6666666666666666,
             "#35b779"
            ],
            [
             0.7777777777777778,
             "#6ece58"
            ],
            [
             0.8888888888888888,
             "#b5de2b"
            ],
            [
             1,
             "#fde725"
            ]
           ],
           "reversescale": false,
           "showlegend": false,
           "showscale": true,
           "text": [
            [
             "0.87",
             "0.06",
             "0.67",
             "0.43",
             "0.60",
             "0.85",
             "0.30",
             "0.09",
             "0.40",
             "0.45"
            ],
            [
             "0.70",
             "0.81",
             "0.13",
             "0.08",
             "0.97",
             "1.00",
             "0.26",
             "0.08",
             "0.64",
             "0.74"
            ],
            [
             "0.45",
             "0.23",
             "0.18",
             "0.68",
             "0.35",
             "0.11",
             "0.18",
             "0.91",
             "0.46",
             "0.78"
            ],
            [
             "0.85",
             "0.32",
             "0.76",
             "0.79",
             "0.75",
             "0.40",
             "0.98",
             "0.59",
             "0.85",
             "0.52"
            ],
            [
             "0.32",
             "0.38",
             "0.28",
             "0.77",
             "0.97",
             "0.03",
             "0.29",
             "0.29",
             "0.14",
             "0.75"
            ],
            [
             "0.06",
             "0.14",
             "0.56",
             "0.94",
             "0.60",
             "0.85",
             "0.69",
             "0.90",
             "0.81",
             "0.75"
            ],
            [
             "0.16",
             "0.62",
             "0.74",
             "0.78",
             "0.83",
             "0.52",
             "0.31",
             "0.35",
             "0.64",
             "0.53"
            ],
            [
             "0.65",
             "0.93",
             "0.98",
             "0.83",
             "0.71",
             "0.43",
             "0.82",
             "0.36",
             "0.65",
             "0.91"
            ],
            [
             "0.58",
             "0.38",
             "0.18",
             "0.69",
             "0.44",
             "0.14",
             "0.39",
             "0.86",
             "0.92",
             "0.91"
            ],
            [
             "0.01",
             "0.35",
             "0.30",
             "0.71",
             "0.19",
             "0.21",
             "0.87",
             "0.48",
             "0.79",
             "0.67"
            ]
           ],
           "textfont": {
            "color": "black"
           },
           "texttemplate": "%{text}",
           "type": "heatmap",
           "x": [
            "Lindsey Ellis",
            "Eric Cervantes",
            "Melanie Lyons",
            "David Estrada",
            "Linda Powers",
            "Dawn Perkins",
            "Melissa Key",
            "Dylan Gilbert",
            "Jennifer Norton",
            "Bryan Garcia"
           ],
           "y": [
            "Lindsey Ellis",
            "Eric Cervantes",
            "Melanie Lyons",
            "David Estrada",
            "Linda Powers",
            "Dawn Perkins",
            "Melissa Key",
            "Dylan Gilbert",
            "Jennifer Norton",
            "Bryan Garcia"
           ],
           "z": [
            [
             0.8653340011930313,
             0.06010652105530934,
             0.6652709149571963,
             0.4282616988510186,
             0.5954107418552672,
             0.8489180838022713,
             0.298885610314664,
             0.09485677706753326,
             0.3961295854154111,
             0.4484057558488602
            ],
            [
             0.7045267490885347,
             0.8085640363667747,
             0.12706855605752154,
             0.0836652402715038,
             0.9653176853894473,
             0.9973424618043295,
             0.2600916635099565,
             0.07523191679100794,
             0.6394249383036659,
             0.7426377654761159
            ],
            [
             0.45176210499586866,
             0.22787562632568803,
             0.18411746848968336,
             0.6791423087304331,
             0.3453971351059565,
             0.11305015671435281,
             0.1800963578263851,
             0.9139495773774475,
             0.4621537309874848,
             0.7803767570725306
            ],
            [
             0.8456985979696694,
             0.31957053127416335,
             0.7586438081851259,
             0.7899101850874954,
             0.74988854342137,
             0.3992761452925301,
             0.9784953933011642,
             0.5918182579597675,
             0.8459639958105527,
             0.5201339490782474
            ],
            [
             0.32494741882936873,
             0.3834837076827776,
             0.2754973323722748,
             0.7716473991382109,
             0.9717081678667676,
             0.03255837023153707,
             0.2884767373298598,
             0.2933452584862061,
             0.14087130639821577,
             0.7470887402279593
            ],
            [
             0.06216684857306354,
             0.14437038945134695,
             0.5568587983873883,
             0.9408583226287662,
             0.6024453853403258,
             0.8519052827803885,
             0.6882397242168247,
             0.9020075116177924,
             0.8108808191559405,
             0.753499158601202
            ],
            [
             0.164027470944468,
             0.6182769718332592,
             0.7449209184904607,
             0.7823453337025674,
             0.8277333290527421,
             0.520963480191744,
             0.31384898236174363,
             0.34554602869358697,
             0.6369761838315373,
             0.5253395135331705
            ],
            [
             0.6478317482486725,
             0.9297155602265031,
             0.9786063550802847,
             0.8272388397667,
             0.712212428574076,
             0.430472474180043,
             0.8205461403126895,
             0.35681321308745073,
             0.6484547839621865,
             0.9072313485003185
            ],
            [
             0.5821149591946693,
             0.37838289990348184,
             0.18179266004485073,
             0.6919760357200142,
             0.44365753765971894,
             0.1417996372430652,
             0.39447250862462224,
             0.8596281120602697,
             0.921543417889451,
             0.9149300616909491
            ],
            [
             0.011320381727086049,
             0.3477141421549951,
             0.2968520107302429,
             0.7125473610641626,
             0.18630989680364418,
             0.21070189463915423,
             0.8744414589874975,
             0.4840010943573918,
             0.7854537501757926,
             0.6718849519889607
            ]
           ]
          }
         ],
         "name": "frame_4"
        }
       ],
       "layout": {
        "dragmode": false,
        "height": 600,
        "sliders": [
         {
          "active": 0,
          "currentvalue": {
           "font": {
            "size": 20
           },
           "prefix": "Frame: ",
           "visible": true,
           "xanchor": "right"
          },
          "len": 0.9,
          "pad": {
           "b": 10,
           "t": 50
          },
          "steps": [
           {
            "args": [
             [
              "frame_0"
             ],
             {
              "frame": {
               "duration": 500,
               "redraw": true
              },
              "mode": "immediate",
              "transition": {
               "duration": 500
              }
             }
            ],
            "label": "0",
            "method": "animate"
           },
           {
            "args": [
             [
              "frame_1"
             ],
             {
              "frame": {
               "duration": 500,
               "redraw": true
              },
              "mode": "immediate",
              "transition": {
               "duration": 500
              }
             }
            ],
            "label": "1",
            "method": "animate"
           },
           {
            "args": [
             [
              "frame_2"
             ],
             {
              "frame": {
               "duration": 500,
               "redraw": true
              },
              "mode": "immediate",
              "transition": {
               "duration": 500
              }
             }
            ],
            "label": "2",
            "method": "animate"
           },
           {
            "args": [
             [
              "frame_3"
             ],
             {
              "frame": {
               "duration": 500,
               "redraw": true
              },
              "mode": "immediate",
              "transition": {
               "duration": 500
              }
             }
            ],
            "label": "3",
            "method": "animate"
           },
           {
            "args": [
             [
              "frame_4"
             ],
             {
              "frame": {
               "duration": 500,
               "redraw": true
              },
              "mode": "immediate",
              "transition": {
               "duration": 500
              }
             }
            ],
            "label": "4",
            "method": "animate"
           }
          ],
          "transition": {
           "duration": 500,
           "easing": "cubic-in-out"
          },
          "x": 0.1,
          "xanchor": "left",
          "y": 1.1,
          "yanchor": "bottom"
         }
        ],
        "template": {
         "data": {
          "bar": [
           {
            "error_x": {
             "color": "#2a3f5f"
            },
            "error_y": {
             "color": "#2a3f5f"
            },
            "marker": {
             "line": {
              "color": "white",
              "width": 0.5
             },
             "pattern": {
              "fillmode": "overlay",
              "size": 10,
              "solidity": 0.2
             }
            },
            "type": "bar"
           }
          ],
          "barpolar": [
           {
            "marker": {
             "line": {
              "color": "white",
              "width": 0.5
             },
             "pattern": {
              "fillmode": "overlay",
              "size": 10,
              "solidity": 0.2
             }
            },
            "type": "barpolar"
           }
          ],
          "carpet": [
           {
            "aaxis": {
             "endlinecolor": "#2a3f5f",
             "gridcolor": "#C8D4E3",
             "linecolor": "#C8D4E3",
             "minorgridcolor": "#C8D4E3",
             "startlinecolor": "#2a3f5f"
            },
            "baxis": {
             "endlinecolor": "#2a3f5f",
             "gridcolor": "#C8D4E3",
             "linecolor": "#C8D4E3",
             "minorgridcolor": "#C8D4E3",
             "startlinecolor": "#2a3f5f"
            },
            "type": "carpet"
           }
          ],
          "choropleth": [
           {
            "colorbar": {
             "outlinewidth": 0,
             "ticks": ""
            },
            "type": "choropleth"
           }
          ],
          "contour": [
           {
            "colorbar": {
             "outlinewidth": 0,
             "ticks": ""
            },
            "colorscale": [
             [
              0,
              "#0d0887"
             ],
             [
              0.1111111111111111,
              "#46039f"
             ],
             [
              0.2222222222222222,
              "#7201a8"
             ],
             [
              0.3333333333333333,
              "#9c179e"
             ],
             [
              0.4444444444444444,
              "#bd3786"
             ],
             [
              0.5555555555555556,
              "#d8576b"
             ],
             [
              0.6666666666666666,
              "#ed7953"
             ],
             [
              0.7777777777777778,
              "#fb9f3a"
             ],
             [
              0.8888888888888888,
              "#fdca26"
             ],
             [
              1,
              "#f0f921"
             ]
            ],
            "type": "contour"
           }
          ],
          "contourcarpet": [
           {
            "colorbar": {
             "outlinewidth": 0,
             "ticks": ""
            },
            "type": "contourcarpet"
           }
          ],
          "heatmap": [
           {
            "colorbar": {
             "outlinewidth": 0,
             "ticks": ""
            },
            "colorscale": [
             [
              0,
              "#0d0887"
             ],
             [
              0.1111111111111111,
              "#46039f"
             ],
             [
              0.2222222222222222,
              "#7201a8"
             ],
             [
              0.3333333333333333,
              "#9c179e"
             ],
             [
              0.4444444444444444,
              "#bd3786"
             ],
             [
              0.5555555555555556,
              "#d8576b"
             ],
             [
              0.6666666666666666,
              "#ed7953"
             ],
             [
              0.7777777777777778,
              "#fb9f3a"
             ],
             [
              0.8888888888888888,
              "#fdca26"
             ],
             [
              1,
              "#f0f921"
             ]
            ],
            "type": "heatmap"
           }
          ],
          "heatmapgl": [
           {
            "colorbar": {
             "outlinewidth": 0,
             "ticks": ""
            },
            "colorscale": [
             [
              0,
              "#0d0887"
             ],
             [
              0.1111111111111111,
              "#46039f"
             ],
             [
              0.2222222222222222,
              "#7201a8"
             ],
             [
              0.3333333333333333,
              "#9c179e"
             ],
             [
              0.4444444444444444,
              "#bd3786"
             ],
             [
              0.5555555555555556,
              "#d8576b"
             ],
             [
              0.6666666666666666,
              "#ed7953"
             ],
             [
              0.7777777777777778,
              "#fb9f3a"
             ],
             [
              0.8888888888888888,
              "#fdca26"
             ],
             [
              1,
              "#f0f921"
             ]
            ],
            "type": "heatmapgl"
           }
          ],
          "histogram": [
           {
            "marker": {
             "pattern": {
              "fillmode": "overlay",
              "size": 10,
              "solidity": 0.2
             }
            },
            "type": "histogram"
           }
          ],
          "histogram2d": [
           {
            "colorbar": {
             "outlinewidth": 0,
             "ticks": ""
            },
            "colorscale": [
             [
              0,
              "#0d0887"
             ],
             [
              0.1111111111111111,
              "#46039f"
             ],
             [
              0.2222222222222222,
              "#7201a8"
             ],
             [
              0.3333333333333333,
              "#9c179e"
             ],
             [
              0.4444444444444444,
              "#bd3786"
             ],
             [
              0.5555555555555556,
              "#d8576b"
             ],
             [
              0.6666666666666666,
              "#ed7953"
             ],
             [
              0.7777777777777778,
              "#fb9f3a"
             ],
             [
              0.8888888888888888,
              "#fdca26"
             ],
             [
              1,
              "#f0f921"
             ]
            ],
            "type": "histogram2d"
           }
          ],
          "histogram2dcontour": [
           {
            "colorbar": {
             "outlinewidth": 0,
             "ticks": ""
            },
            "colorscale": [
             [
              0,
              "#0d0887"
             ],
             [
              0.1111111111111111,
              "#46039f"
             ],
             [
              0.2222222222222222,
              "#7201a8"
             ],
             [
              0.3333333333333333,
              "#9c179e"
             ],
             [
              0.4444444444444444,
              "#bd3786"
             ],
             [
              0.5555555555555556,
              "#d8576b"
             ],
             [
              0.6666666666666666,
              "#ed7953"
             ],
             [
              0.7777777777777778,
              "#fb9f3a"
             ],
             [
              0.8888888888888888,
              "#fdca26"
             ],
             [
              1,
              "#f0f921"
             ]
            ],
            "type": "histogram2dcontour"
           }
          ],
          "mesh3d": [
           {
            "colorbar": {
             "outlinewidth": 0,
             "ticks": ""
            },
            "type": "mesh3d"
           }
          ],
          "parcoords": [
           {
            "line": {
             "colorbar": {
              "outlinewidth": 0,
              "ticks": ""
             }
            },
            "type": "parcoords"
           }
          ],
          "pie": [
           {
            "automargin": true,
            "type": "pie"
           }
          ],
          "scatter": [
           {
            "fillpattern": {
             "fillmode": "overlay",
             "size": 10,
             "solidity": 0.2
            },
            "type": "scatter"
           }
          ],
          "scatter3d": [
           {
            "line": {
             "colorbar": {
              "outlinewidth": 0,
              "ticks": ""
             }
            },
            "marker": {
             "colorbar": {
              "outlinewidth": 0,
              "ticks": ""
             }
            },
            "type": "scatter3d"
           }
          ],
          "scattercarpet": [
           {
            "marker": {
             "colorbar": {
              "outlinewidth": 0,
              "ticks": ""
             }
            },
            "type": "scattercarpet"
           }
          ],
          "scattergeo": [
           {
            "marker": {
             "colorbar": {
              "outlinewidth": 0,
              "ticks": ""
             }
            },
            "type": "scattergeo"
           }
          ],
          "scattergl": [
           {
            "marker": {
             "colorbar": {
              "outlinewidth": 0,
              "ticks": ""
             }
            },
            "type": "scattergl"
           }
          ],
          "scattermapbox": [
           {
            "marker": {
             "colorbar": {
              "outlinewidth": 0,
              "ticks": ""
             }
            },
            "type": "scattermapbox"
           }
          ],
          "scatterpolar": [
           {
            "marker": {
             "colorbar": {
              "outlinewidth": 0,
              "ticks": ""
             }
            },
            "type": "scatterpolar"
           }
          ],
          "scatterpolargl": [
           {
            "marker": {
             "colorbar": {
              "outlinewidth": 0,
              "ticks": ""
             }
            },
            "type": "scatterpolargl"
           }
          ],
          "scatterternary": [
           {
            "marker": {
             "colorbar": {
              "outlinewidth": 0,
              "ticks": ""
             }
            },
            "type": "scatterternary"
           }
          ],
          "surface": [
           {
            "colorbar": {
             "outlinewidth": 0,
             "ticks": ""
            },
            "colorscale": [
             [
              0,
              "#0d0887"
             ],
             [
              0.1111111111111111,
              "#46039f"
             ],
             [
              0.2222222222222222,
              "#7201a8"
             ],
             [
              0.3333333333333333,
              "#9c179e"
             ],
             [
              0.4444444444444444,
              "#bd3786"
             ],
             [
              0.5555555555555556,
              "#d8576b"
             ],
             [
              0.6666666666666666,
              "#ed7953"
             ],
             [
              0.7777777777777778,
              "#fb9f3a"
             ],
             [
              0.8888888888888888,
              "#fdca26"
             ],
             [
              1,
              "#f0f921"
             ]
            ],
            "type": "surface"
           }
          ],
          "table": [
           {
            "cells": {
             "fill": {
              "color": "#EBF0F8"
             },
             "line": {
              "color": "white"
             }
            },
            "header": {
             "fill": {
              "color": "#C8D4E3"
             },
             "line": {
              "color": "white"
             }
            },
            "type": "table"
           }
          ]
         },
         "layout": {
          "annotationdefaults": {
           "arrowcolor": "#2a3f5f",
           "arrowhead": 0,
           "arrowwidth": 1
          },
          "autotypenumbers": "strict",
          "coloraxis": {
           "colorbar": {
            "outlinewidth": 0,
            "ticks": ""
           }
          },
          "colorscale": {
           "diverging": [
            [
             0,
             "#8e0152"
            ],
            [
             0.1,
             "#c51b7d"
            ],
            [
             0.2,
             "#de77ae"
            ],
            [
             0.3,
             "#f1b6da"
            ],
            [
             0.4,
             "#fde0ef"
            ],
            [
             0.5,
             "#f7f7f7"
            ],
            [
             0.6,
             "#e6f5d0"
            ],
            [
             0.7,
             "#b8e186"
            ],
            [
             0.8,
             "#7fbc41"
            ],
            [
             0.9,
             "#4d9221"
            ],
            [
             1,
             "#276419"
            ]
           ],
           "sequential": [
            [
             0,
             "#0d0887"
            ],
            [
             0.1111111111111111,
             "#46039f"
            ],
            [
             0.2222222222222222,
             "#7201a8"
            ],
            [
             0.3333333333333333,
             "#9c179e"
            ],
            [
             0.4444444444444444,
             "#bd3786"
            ],
            [
             0.5555555555555556,
             "#d8576b"
            ],
            [
             0.6666666666666666,
             "#ed7953"
            ],
            [
             0.7777777777777778,
             "#fb9f3a"
            ],
            [
             0.8888888888888888,
             "#fdca26"
            ],
            [
             1,
             "#f0f921"
            ]
           ],
           "sequentialminus": [
            [
             0,
             "#0d0887"
            ],
            [
             0.1111111111111111,
             "#46039f"
            ],
            [
             0.2222222222222222,
             "#7201a8"
            ],
            [
             0.3333333333333333,
             "#9c179e"
            ],
            [
             0.4444444444444444,
             "#bd3786"
            ],
            [
             0.5555555555555556,
             "#d8576b"
            ],
            [
             0.6666666666666666,
             "#ed7953"
            ],
            [
             0.7777777777777778,
             "#fb9f3a"
            ],
            [
             0.8888888888888888,
             "#fdca26"
            ],
            [
             1,
             "#f0f921"
            ]
           ]
          },
          "colorway": [
           "#636efa",
           "#EF553B",
           "#00cc96",
           "#ab63fa",
           "#FFA15A",
           "#19d3f3",
           "#FF6692",
           "#B6E880",
           "#FF97FF",
           "#FECB52"
          ],
          "font": {
           "color": "#2a3f5f"
          },
          "geo": {
           "bgcolor": "white",
           "lakecolor": "white",
           "landcolor": "white",
           "showlakes": true,
           "showland": true,
           "subunitcolor": "#C8D4E3"
          },
          "hoverlabel": {
           "align": "left"
          },
          "hovermode": "closest",
          "mapbox": {
           "style": "light"
          },
          "paper_bgcolor": "white",
          "plot_bgcolor": "white",
          "polar": {
           "angularaxis": {
            "gridcolor": "#EBF0F8",
            "linecolor": "#EBF0F8",
            "ticks": ""
           },
           "bgcolor": "white",
           "radialaxis": {
            "gridcolor": "#EBF0F8",
            "linecolor": "#EBF0F8",
            "ticks": ""
           }
          },
          "scene": {
           "xaxis": {
            "backgroundcolor": "white",
            "gridcolor": "#DFE8F3",
            "gridwidth": 2,
            "linecolor": "#EBF0F8",
            "showbackground": true,
            "ticks": "",
            "zerolinecolor": "#EBF0F8"
           },
           "yaxis": {
            "backgroundcolor": "white",
            "gridcolor": "#DFE8F3",
            "gridwidth": 2,
            "linecolor": "#EBF0F8",
            "showbackground": true,
            "ticks": "",
            "zerolinecolor": "#EBF0F8"
           },
           "zaxis": {
            "backgroundcolor": "white",
            "gridcolor": "#DFE8F3",
            "gridwidth": 2,
            "linecolor": "#EBF0F8",
            "showbackground": true,
            "ticks": "",
            "zerolinecolor": "#EBF0F8"
           }
          },
          "shapedefaults": {
           "line": {
            "color": "#2a3f5f"
           }
          },
          "ternary": {
           "aaxis": {
            "gridcolor": "#DFE8F3",
            "linecolor": "#A2B1C6",
            "ticks": ""
           },
           "baxis": {
            "gridcolor": "#DFE8F3",
            "linecolor": "#A2B1C6",
            "ticks": ""
           },
           "bgcolor": "white",
           "caxis": {
            "gridcolor": "#DFE8F3",
            "linecolor": "#A2B1C6",
            "ticks": ""
           }
          },
          "title": {
           "x": 0.05
          },
          "xaxis": {
           "automargin": true,
           "gridcolor": "#EBF0F8",
           "linecolor": "#EBF0F8",
           "ticks": "",
           "title": {
            "standoff": 15
           },
           "zerolinecolor": "#EBF0F8",
           "zerolinewidth": 2
          },
          "yaxis": {
           "automargin": true,
           "gridcolor": "#EBF0F8",
           "linecolor": "#EBF0F8",
           "ticks": "",
           "title": {
            "standoff": 15
           },
           "zerolinecolor": "#EBF0F8",
           "zerolinewidth": 2
          }
         }
        },
        "title": {
         "text": "DEFAULT TITLE"
        },
        "updatemenus": [
         {
          "direction": "left",
          "pad": {
           "r": 10,
           "t": 87
          },
          "showactive": false,
          "type": "buttons",
          "x": 0.1,
          "xanchor": "right",
          "y": 1.1,
          "yanchor": "bottom"
         }
        ],
        "width": 800,
        "xaxis": {
         "fixedrange": true,
         "nticks": 10
        },
        "yaxis": {
         "fixedrange": true,
         "nticks": 10
        }
       }
      }
     },
     "metadata": {},
     "output_type": "display_data"
    }
   ],
   "source": [
    "def animated_heatmap(\n",
    "    matrices: np.ndarray | None = None,\n",
    "    labels: list | None = None,\n",
    "    title: str = \"DEFAULT TITLE\",\n",
    "    show_values: bool = True,\n",
    "    value_format: Literal[\".2f\", \".2e\"] = \".2f\",\n",
    "    width: int = 800,\n",
    "    height: int = 600,\n",
    "    xaxis_title: str | None = None,\n",
    "    yaxis_title: str | None = None,\n",
    "    log: bool = False,\n",
    "    nan_diagnal: bool = False,\n",
    "    frame_duration: int = 500,\n",
    "    slider_labels: list[str] | None = None,\n",
    "    slider_prefix: str = \"Frame: \",\n",
    "):\n",
    "    # Generate demo data if matrices is None\n",
    "    if matrices is None:\n",
    "        faker = Faker()\n",
    "        shape = (5, 10, 10)  # (time, rows, cols)\n",
    "        matrices = rng.random(shape)\n",
    "        # logger.info(matrices)\n",
    "    elif matrices.ndim != 3:\n",
    "        raise ValueError(\"Expected 3D array (time, rows, cols)\")\n",
    "\n",
    "    n_frames, n_rows, n_cols = matrices.shape\n",
    "\n",
    "    if labels is None:\n",
    "        faker = Faker()\n",
    "        labels = [faker.name() for _ in range(n_rows)]\n",
    "    col_labels = labels\n",
    "    row_labels = labels\n",
    "\n",
    "    # Process all matrices\n",
    "    processed_matrices = []\n",
    "    for matrix in matrices:\n",
    "        # Convert and process each time slice\n",
    "        matrix = np.array(matrix, dtype=object)\n",
    "        none_mask = matrix is None\n",
    "        matrix = matrix.astype(float)\n",
    "        if log:\n",
    "            matrix = np.log10(matrix)\n",
    "        matrix[none_mask] = np.nan\n",
    "        if nan_diagnal:\n",
    "            matrix[np.identity(matrix.shape[0], dtype=bool)] = np.nan\n",
    "        processed_matrices.append(matrix)\n",
    "\n",
    "        # Update the sliders configuration with custom labels\n",
    "    if slider_labels is not None:\n",
    "        if len(slider_labels) != n_frames:\n",
    "            raise ValueError(f\"Expected {n_frames} slider labels, got {len(slider_labels)}\")\n",
    "        frame_labels = slider_labels\n",
    "    else:\n",
    "        frame_labels = [str(k) for k in range(n_frames)]\n",
    "\n",
    "    layout_sliders = [\n",
    "        go.layout.Slider(\n",
    "            active=0,\n",
    "            yanchor=\"bottom\",\n",
    "            xanchor=\"left\",\n",
    "            currentvalue=go.layout.slider.Currentvalue(\n",
    "                font=dict(size=20), prefix=slider_prefix, visible=True, xanchor=\"right\"\n",
    "            ),\n",
    "            transition=go.layout.slider.Transition(duration=frame_duration, easing=\"cubic-in-out\"),\n",
    "            pad=dict(b=10, t=50),\n",
    "            len=0.9,\n",
    "            x=0.1,\n",
    "            y=1.1,\n",
    "            steps=[\n",
    "                go.layout.slider.Step(\n",
    "                    args=[\n",
    "                        [f\"frame_{k}\"],\n",
    "                        {\n",
    "                            \"frame\": {\"duration\": frame_duration, \"redraw\": True},\n",
    "                            \"mode\": \"immediate\",\n",
    "                            \"transition\": {\"duration\": frame_duration},\n",
    "                        },\n",
    "                    ],\n",
    "                    label=label,\n",
    "                    method=\"animate\",\n",
    "                )\n",
    "                for k, label in enumerate(frame_labels)\n",
    "            ],\n",
    "        )\n",
    "    ]\n",
    "\n",
    "    # Create frames for animation\n",
    "    frames = [\n",
    "        go.Frame(\n",
    "            data=[heatmap(matrix, row_labels, show_values=show_values).data[0]],\n",
    "            name=f\"frame_{i}\",  # name is required for frames\n",
    "        )\n",
    "        for i, matrix in enumerate(processed_matrices)\n",
    "    ]\n",
    "\n",
    "    # Create the figure with the initial frame\n",
    "    fig = go.Figure(\n",
    "        data=[heatmap(processed_matrices[0], row_labels, show_values=show_values).data[0]],\n",
    "        frames=frames,\n",
    "        layout=go.Layout(\n",
    "            title=title,\n",
    "            width=width,\n",
    "            height=height,\n",
    "            xaxis=go.layout.XAxis(\n",
    "                title=xaxis_title,\n",
    "                nticks=len(col_labels) if col_labels else None,\n",
    "                fixedrange=True,\n",
    "            ),\n",
    "            yaxis=go.layout.YAxis(\n",
    "                title=yaxis_title,\n",
    "                nticks=len(row_labels) if row_labels else None,\n",
    "                fixedrange=True,\n",
    "            ),\n",
    "            dragmode=False,\n",
    "            updatemenus=[\n",
    "                go.layout.Updatemenu(\n",
    "                    buttons=[\n",
    "                        # go.layout.updatemenu.Button(\n",
    "                        #     args=[\n",
    "                        #         None,\n",
    "                        #         {\n",
    "                        #             \"frame\": {\"duration\": frame_duration, \"redraw\": True},\n",
    "                        #             \"fromcurrent\": True,\n",
    "                        #         },\n",
    "                        #     ],\n",
    "                        #     label=\"Play\",\n",
    "                        #     method=\"animate\",\n",
    "                        # ),\n",
    "                        # go.layout.updatemenu.Button(\n",
    "                        #     args=[\n",
    "                        #         [None],\n",
    "                        #         {\n",
    "                        #             \"frame\": {\"duration\": 0, \"redraw\": True},\n",
    "                        #             \"mode\": \"immediate\",\n",
    "                        #             \"transition\": {\"duration\": 0},\n",
    "                        #         },\n",
    "                        #     ],\n",
    "                        #     label=\"Pause\",\n",
    "                        #     method=\"animate\",\n",
    "                        # ),\n",
    "                    ],\n",
    "                    direction=\"left\",\n",
    "                    pad={\"r\": 10, \"t\": 87},\n",
    "                    showactive=False,\n",
    "                    type=\"buttons\",\n",
    "                    x=0.1,\n",
    "                    xanchor=\"right\",\n",
    "                    y=1.1,\n",
    "                    yanchor=\"bottom\",\n",
    "                )\n",
    "            ],\n",
    "        ),\n",
    "    )\n",
    "\n",
    "    # Update the layout dictionary to include the new sliders\n",
    "    fig.update_layout(sliders=layout_sliders)\n",
    "\n",
    "    return fig\n",
    "\n",
    "\n",
    "animated_heatmap()"
   ]
  },
  {
   "cell_type": "markdown",
   "metadata": {},
   "source": [
    "## Import Data\n"
   ]
  },
  {
   "cell_type": "code",
   "execution_count": 31,
   "metadata": {},
   "outputs": [],
   "source": [
    "# Load Metadata\n",
    "\"\"\"\n",
    "# 6 Datasets (ArguAna, FiQA, SciDocs, NFCorpus, HotPotQA, Trec-COVID)\n",
    "# 17 Native Embedding Spaces\n",
    "# 17 Stitched Embedding Spaces\n",
    "# 6 Architectures (2, 3, 4, 5, 6, or 7 layers)\n",
    "\"\"\"\n",
    "with MLP_MSE_VALIDATION_META.open() as f:\n",
    "    meta = orjson.loads(f.read())\n",
    "\n",
    "# pretty.pprint(meta)\n",
    "\n",
    "meta_df = pl.read_json(MLP_MSE_VALIDATION_META)\n",
    "\n",
    "\n",
    "# def create_index_df(meta: dict) -> pl.DataFrame:\n",
    "#     \"\"\"Create an index DataFrame for easy tensor lookup using np.indices.\n",
    "\n",
    "#     Args:\n",
    "#         meta: Dictionary containing dataset2idx and model2idx mappings\n",
    "\n",
    "#     Returns:\n",
    "#         pl.DataFrame: DataFrame with hierarchical index for tensor lookup\n",
    "#     \"\"\"\n",
    "#     # Get shape from metadata\n",
    "#     n_datasets = len(meta[\"dataset2idx\"])\n",
    "#     n_models = len(meta[\"model2idx\"])\n",
    "#     n_layers = len(meta[\"num_layers\"])\n",
    "\n",
    "#     # Create indices arrays for each dimension\n",
    "#     datasets, sources, targets, layers = np.indices((n_datasets, n_models, n_models, n_layers))\n",
    "\n",
    "#     # Create reverse mapping dictionaries\n",
    "#     dataset_map = {v: k for k, v in meta[\"dataset2idx\"].items()}\n",
    "#     model_map = {v: k for k, v in meta[\"model2idx\"].items()}\n",
    "\n",
    "#     # Create DataFrame\n",
    "#     return pl.DataFrame(\n",
    "#         {\n",
    "#             \"dataset\": pl.Series(datasets.flatten()).cast_dict(dataset_map),\n",
    "#             \"source_model\": pl.Series(sources.flatten()).cast_dict(model_map),\n",
    "#             \"target_model\": pl.Series(targets.flatten()).cast_dict(model_map),\n",
    "#             \"num_layers\": pl.Series(layers.flatten()) + 2,  # Convert 0-based to 2-based\n",
    "#             \"index\": list(\n",
    "#                 zip(datasets.flatten(), sources.flatten(), targets.flatten(), layers.flatten())\n",
    "#             ),\n",
    "#         }\n",
    "#     )\n",
    "\n",
    "\n",
    "# create_index_df(meta)\n",
    "# why am I being silly, work on this later."
   ]
  },
  {
   "cell_type": "code",
   "execution_count": 32,
   "metadata": {},
   "outputs": [
    {
     "name": "stderr",
     "output_type": "stream",
     "text": [
      "\u001b[32m2024-12-13 18:50:24.839\u001b[0m | \u001b[1mINFO    \u001b[0m | \u001b[36m__main__\u001b[0m:\u001b[36m<cell line: 0>\u001b[0m:\u001b[36m3\u001b[0m - \u001b[1m['validation_mses']\u001b[0m\n"
     ]
    },
    {
     "data": {
      "text/plain": [
       "'tensors[\"validation_mses\"].shape=(6, 17, 17, 6)'"
      ]
     },
     "execution_count": 32,
     "metadata": {},
     "output_type": "execute_result"
    }
   ],
   "source": [
    "# Load Tensors\n",
    "tensors = load_file(MLP_MSE_VALIDATION_TENSORS)\n",
    "logger.info(list(tensors.keys()))\n",
    "validation_mse = tensors[\"validation_mses\"]\n",
    "# f\"{tensors[\"validation_mses\"].shape=}\"\n",
    "f\"{tensors[\"validation_mses\"].shape=}\""
   ]
  },
  {
   "cell_type": "code",
   "execution_count": 33,
   "metadata": {},
   "outputs": [],
   "source": [
    "# from safetensors.numpy import load_file\n",
    "\n",
    "\n",
    "# def safetensor_to_polars(\n",
    "#     tensor_path: Path,\n",
    "#     meta_path: Path,\n",
    "# ) -> pl.DataFrame:\n",
    "#     \"\"\"Convert safetensor validation MSEs to a polars dataframe.\n",
    "\n",
    "#     Args:\n",
    "#         tensor_path: Path to .safetensors file\n",
    "#         meta_path: Path to metadata JSON file\n",
    "\n",
    "#     Returns:\n",
    "#         pl.DataFrame: Long-format dataframe with validation MSEs\n",
    "#     \"\"\"\n",
    "#     # Load metadata\n",
    "#     with meta_path.open() as f:\n",
    "#         meta = orjson.loads(f.read())\n",
    "\n",
    "#     # Load tensor\n",
    "#     tensor_dict = load_file(tensor_path)  # (6, 17, 17, 6)\n",
    "#     validation_mses = tensor_dict[\"validation_mses\"]\n",
    "\n",
    "#     # Create mapping dictionaries\n",
    "#     dataset_map = {v: k for k, v in meta[\"dataset2idx\"].items()}\n",
    "#     model_map = {v: k for k, v in meta[\"model2idx\"].items()}\n",
    "\n",
    "#     # Create index arrays for each dimension\n",
    "#     datasets, source_models, target_models, architectures = np.indices(validation_mses.shape)\n",
    "\n",
    "#     # Create dataframe\n",
    "#     mse_df = pl.DataFrame(\n",
    "#         {\n",
    "#             \"dataset\": datasets.flatten(),\n",
    "#             \"source_model\": source_models.flatten(),\n",
    "#             \"target_model\": target_models.flatten(),\n",
    "#             \"num_layers\": architectures.flatten(),\n",
    "#             \"mse\": validation_mses.flatten(),\n",
    "#         }\n",
    "#     )\n",
    "\n",
    "#     # Map indices to names\n",
    "#     mse_df = mse_df.with_columns(\n",
    "#         [\n",
    "#             pl.col(\"dataset\").map_dict(dataset_map).alias(\"dataset_name\"),\n",
    "#             pl.col(\"source_model\").map_dict(model_map).alias(\"source_model_name\"),\n",
    "#             pl.col(\"target_model\").map_dict(model_map).alias(\"target_model_name\"),\n",
    "#             pl.col(\"num_layers\").map_dict(dict(enumerate(meta[\"num_layers\"]))).alias(\"num_layers\"),\n",
    "#         ]\n",
    "#     ).drop(\"dataset\", \"source_model\", \"target_model\")\n",
    "\n",
    "#     return mse_df\n",
    "\n",
    "\n",
    "# # Usage\n",
    "# mse_df = safetensor_to_polars(\n",
    "#     tensor_path=MLP_MSE_VALIDATION_TENSORS, meta_path=MLP_MSE_VALIDATION_META\n",
    "# )\n",
    "# not working, also fucked around here."
   ]
  },
  {
   "cell_type": "code",
   "execution_count": 34,
   "metadata": {},
   "outputs": [
    {
     "name": "stderr",
     "output_type": "stream",
     "text": [
      "\u001b[32m2024-12-13 18:50:26.756\u001b[0m | \u001b[1mINFO    \u001b[0m | \u001b[36m__main__\u001b[0m:\u001b[36m<cell line: 0>\u001b[0m:\u001b[36m6\u001b[0m - \u001b[1m(17, 17)\u001b[0m\n"
     ]
    },
    {
     "data": {
      "text/html": [
       "<pre style=\"white-space:pre;overflow-x:auto;line-height:normal;font-family:Menlo,'DejaVu Sans Mono',consolas,'Courier New',monospace\"><span style=\"color: #800080; text-decoration-color: #800080; font-weight: bold\">array</span><span style=\"font-weight: bold\">([[</span><span style=\"color: #008080; text-decoration-color: #008080; font-weight: bold\">1</span>.   , <span style=\"color: #008080; text-decoration-color: #008080; font-weight: bold\">0.002</span>, <span style=\"color: #008080; text-decoration-color: #008080; font-weight: bold\">0.001</span>, <span style=\"color: #808000; text-decoration-color: #808000\">...</span>, <span style=\"color: #008080; text-decoration-color: #008080; font-weight: bold\">0.002</span>, <span style=\"color: #008080; text-decoration-color: #008080; font-weight: bold\">0.001</span>, <span style=\"color: #008080; text-decoration-color: #008080; font-weight: bold\">0.001</span><span style=\"font-weight: bold\">]</span>,\n",
       "<span style=\"color: #7fbf7f; text-decoration-color: #7fbf7f\">│      </span><span style=\"font-weight: bold\">[</span><span style=\"color: #008080; text-decoration-color: #008080; font-weight: bold\">0.001</span>, <span style=\"color: #008080; text-decoration-color: #008080; font-weight: bold\">1</span>.   , <span style=\"color: #008080; text-decoration-color: #008080; font-weight: bold\">0.001</span>, <span style=\"color: #808000; text-decoration-color: #808000\">...</span>, <span style=\"color: #008080; text-decoration-color: #008080; font-weight: bold\">0.002</span>, <span style=\"color: #008080; text-decoration-color: #008080; font-weight: bold\">0.001</span>, <span style=\"color: #008080; text-decoration-color: #008080; font-weight: bold\">0.001</span><span style=\"font-weight: bold\">]</span>,\n",
       "<span style=\"color: #7fbf7f; text-decoration-color: #7fbf7f\">│      </span><span style=\"font-weight: bold\">[</span><span style=\"color: #008080; text-decoration-color: #008080; font-weight: bold\">0.001</span>, <span style=\"color: #008080; text-decoration-color: #008080; font-weight: bold\">0.002</span>, <span style=\"color: #008080; text-decoration-color: #008080; font-weight: bold\">1</span>.   , <span style=\"color: #808000; text-decoration-color: #808000\">...</span>, <span style=\"color: #008080; text-decoration-color: #008080; font-weight: bold\">0.002</span>, <span style=\"color: #008080; text-decoration-color: #008080; font-weight: bold\">0.001</span>, <span style=\"color: #008080; text-decoration-color: #008080; font-weight: bold\">0.001</span><span style=\"font-weight: bold\">]</span>,\n",
       "<span style=\"color: #7fbf7f; text-decoration-color: #7fbf7f\">│      </span><span style=\"color: #808000; text-decoration-color: #808000\">...</span>,\n",
       "<span style=\"color: #7fbf7f; text-decoration-color: #7fbf7f\">│      </span><span style=\"font-weight: bold\">[</span><span style=\"color: #008080; text-decoration-color: #008080; font-weight: bold\">0.001</span>, <span style=\"color: #008080; text-decoration-color: #008080; font-weight: bold\">0.002</span>, <span style=\"color: #008080; text-decoration-color: #008080; font-weight: bold\">0.001</span>, <span style=\"color: #808000; text-decoration-color: #808000\">...</span>, <span style=\"color: #008080; text-decoration-color: #008080; font-weight: bold\">1</span>.   , <span style=\"color: #008080; text-decoration-color: #008080; font-weight: bold\">0.001</span>, <span style=\"color: #008080; text-decoration-color: #008080; font-weight: bold\">0.001</span><span style=\"font-weight: bold\">]</span>,\n",
       "<span style=\"color: #7fbf7f; text-decoration-color: #7fbf7f\">│      </span><span style=\"font-weight: bold\">[</span><span style=\"color: #008080; text-decoration-color: #008080; font-weight: bold\">0.001</span>, <span style=\"color: #008080; text-decoration-color: #008080; font-weight: bold\">0.001</span>, <span style=\"color: #008080; text-decoration-color: #008080; font-weight: bold\">0.001</span>, <span style=\"color: #808000; text-decoration-color: #808000\">...</span>, <span style=\"color: #008080; text-decoration-color: #008080; font-weight: bold\">0.002</span>, <span style=\"color: #008080; text-decoration-color: #008080; font-weight: bold\">1</span>.   , <span style=\"color: #008080; text-decoration-color: #008080; font-weight: bold\">0.001</span><span style=\"font-weight: bold\">]</span>,\n",
       "<span style=\"color: #7fbf7f; text-decoration-color: #7fbf7f\">│      </span><span style=\"font-weight: bold\">[</span><span style=\"color: #008080; text-decoration-color: #008080; font-weight: bold\">0.001</span>, <span style=\"color: #008080; text-decoration-color: #008080; font-weight: bold\">0.002</span>, <span style=\"color: #008080; text-decoration-color: #008080; font-weight: bold\">0.001</span>, <span style=\"color: #808000; text-decoration-color: #808000\">...</span>, <span style=\"color: #008080; text-decoration-color: #008080; font-weight: bold\">0.002</span>, <span style=\"color: #008080; text-decoration-color: #008080; font-weight: bold\">0.001</span>, <span style=\"color: #008080; text-decoration-color: #008080; font-weight: bold\">1</span>.   <span style=\"font-weight: bold\">]]</span>, <span style=\"color: #808000; text-decoration-color: #808000\">dtype</span>=<span style=\"color: #800080; text-decoration-color: #800080\">float32</span><span style=\"font-weight: bold\">)</span>\n",
       "</pre>\n"
      ],
      "text/plain": [
       "\u001b[1;35marray\u001b[0m\u001b[1m(\u001b[0m\u001b[1m[\u001b[0m\u001b[1m[\u001b[0m\u001b[1;36m1\u001b[0m.   , \u001b[1;36m0.002\u001b[0m, \u001b[1;36m0.001\u001b[0m, \u001b[33m...\u001b[0m, \u001b[1;36m0.002\u001b[0m, \u001b[1;36m0.001\u001b[0m, \u001b[1;36m0.001\u001b[0m\u001b[1m]\u001b[0m,\n",
       "\u001b[2;32m│      \u001b[0m\u001b[1m[\u001b[0m\u001b[1;36m0.001\u001b[0m, \u001b[1;36m1\u001b[0m.   , \u001b[1;36m0.001\u001b[0m, \u001b[33m...\u001b[0m, \u001b[1;36m0.002\u001b[0m, \u001b[1;36m0.001\u001b[0m, \u001b[1;36m0.001\u001b[0m\u001b[1m]\u001b[0m,\n",
       "\u001b[2;32m│      \u001b[0m\u001b[1m[\u001b[0m\u001b[1;36m0.001\u001b[0m, \u001b[1;36m0.002\u001b[0m, \u001b[1;36m1\u001b[0m.   , \u001b[33m...\u001b[0m, \u001b[1;36m0.002\u001b[0m, \u001b[1;36m0.001\u001b[0m, \u001b[1;36m0.001\u001b[0m\u001b[1m]\u001b[0m,\n",
       "\u001b[2;32m│      \u001b[0m\u001b[33m...\u001b[0m,\n",
       "\u001b[2;32m│      \u001b[0m\u001b[1m[\u001b[0m\u001b[1;36m0.001\u001b[0m, \u001b[1;36m0.002\u001b[0m, \u001b[1;36m0.001\u001b[0m, \u001b[33m...\u001b[0m, \u001b[1;36m1\u001b[0m.   , \u001b[1;36m0.001\u001b[0m, \u001b[1;36m0.001\u001b[0m\u001b[1m]\u001b[0m,\n",
       "\u001b[2;32m│      \u001b[0m\u001b[1m[\u001b[0m\u001b[1;36m0.001\u001b[0m, \u001b[1;36m0.001\u001b[0m, \u001b[1;36m0.001\u001b[0m, \u001b[33m...\u001b[0m, \u001b[1;36m0.002\u001b[0m, \u001b[1;36m1\u001b[0m.   , \u001b[1;36m0.001\u001b[0m\u001b[1m]\u001b[0m,\n",
       "\u001b[2;32m│      \u001b[0m\u001b[1m[\u001b[0m\u001b[1;36m0.001\u001b[0m, \u001b[1;36m0.002\u001b[0m, \u001b[1;36m0.001\u001b[0m, \u001b[33m...\u001b[0m, \u001b[1;36m0.002\u001b[0m, \u001b[1;36m0.001\u001b[0m, \u001b[1;36m1\u001b[0m.   \u001b[1m]\u001b[0m\u001b[1m]\u001b[0m, \u001b[33mdtype\u001b[0m=\u001b[35mfloat32\u001b[0m\u001b[1m)\u001b[0m\n"
      ]
     },
     "metadata": {},
     "output_type": "display_data"
    }
   ],
   "source": [
    "# Print Imported Data (One Dataset, One Architecture)\n",
    "dataset_i = 0\n",
    "architecture_i = 0\n",
    "\n",
    "example_validation_mse = validation_mse[dataset_i, :, :, architecture_i]\n",
    "logger.info(example_validation_mse.shape)\n",
    "pretty.pprint(example_validation_mse)"
   ]
  },
  {
   "cell_type": "code",
   "execution_count": 35,
   "metadata": {},
   "outputs": [
    {
     "name": "stderr",
     "output_type": "stream",
     "text": [
      "\u001b[32m2024-12-13 18:50:27.515\u001b[0m | \u001b[1mINFO    \u001b[0m | \u001b[36m__main__\u001b[0m:\u001b[36mheatmap\u001b[0m:\u001b[36m42\u001b[0m - \u001b[1mCreating heatmap visualization...\u001b[0m\n"
     ]
    },
    {
     "data": {
      "application/vnd.plotly.v1+json": {
       "config": {
        "plotlyServerURL": "https://plot.ly"
       },
       "data": [
        {
         "colorscale": [
          [
           0,
           "#440154"
          ],
          [
           0.1111111111111111,
           "#482878"
          ],
          [
           0.2222222222222222,
           "#3e4989"
          ],
          [
           0.3333333333333333,
           "#31688e"
          ],
          [
           0.4444444444444444,
           "#26828e"
          ],
          [
           0.5555555555555556,
           "#1f9e89"
          ],
          [
           0.6666666666666666,
           "#35b779"
          ],
          [
           0.7777777777777778,
           "#6ece58"
          ],
          [
           0.8888888888888888,
           "#b5de2b"
          ],
          [
           1,
           "#fde725"
          ]
         ],
         "reversescale": false,
         "showlegend": true,
         "showscale": true,
         "text": [
          [
           "N/A",
           "-2.76",
           "-2.84",
           "-2.51",
           "-2.77",
           "-2.85",
           "-2.50",
           "-2.77",
           "-2.86",
           "-2.49",
           "-2.76",
           "-2.75",
           "-2.85",
           "-2.75",
           "-2.75",
           "-3.27",
           "-3.02"
          ],
          [
           "-2.84",
           "N/A",
           "-2.84",
           "-2.47",
           "-2.73",
           "-2.83",
           "-2.48",
           "-2.75",
           "-2.86",
           "-2.48",
           "-2.74",
           "-2.73",
           "-2.84",
           "-2.73",
           "-2.72",
           "-3.24",
           "-2.99"
          ],
          [
           "-2.85",
           "-2.77",
           "N/A",
           "-2.52",
           "-2.76",
           "-2.86",
           "-2.50",
           "-2.76",
           "-2.85",
           "-2.51",
           "-2.77",
           "-2.74",
           "-2.84",
           "-2.76",
           "-2.78",
           "-3.27",
           "-3.01"
          ],
          [
           "-2.79",
           "-2.68",
           "-2.81",
           "N/A",
           "-2.69",
           "-2.81",
           "-2.44",
           "-2.68",
           "-2.80",
           "-2.42",
           "-2.68",
           "-2.70",
           "-2.81",
           "-2.67",
           "-2.72",
           "-3.14",
           "-2.94"
          ],
          [
           "-2.84",
           "-2.73",
           "-2.82",
           "-2.49",
           "N/A",
           "-2.83",
           "-2.48",
           "-2.72",
           "-2.85",
           "-2.52",
           "-2.72",
           "-2.74",
           "-2.84",
           "-2.75",
           "-2.74",
           "-3.23",
           "-3.00"
          ],
          [
           "-2.85",
           "-2.76",
           "-2.86",
           "-2.52",
           "-2.76",
           "N/A",
           "-2.54",
           "-2.75",
           "-2.82",
           "-2.52",
           "-2.77",
           "-2.77",
           "-2.84",
           "-2.75",
           "-2.76",
           "-3.26",
           "-3.01"
          ],
          [
           "-2.79",
           "-2.67",
           "-2.81",
           "-2.42",
           "-2.68",
           "-2.79",
           "N/A",
           "-2.70",
           "-2.79",
           "-2.43",
           "-2.69",
           "-2.69",
           "-2.81",
           "-2.69",
           "-2.67",
           "-3.14",
           "-2.95"
          ],
          [
           "-2.85",
           "-2.72",
           "-2.86",
           "-2.50",
           "-2.73",
           "-2.84",
           "-2.50",
           "N/A",
           "-2.84",
           "-2.52",
           "-2.71",
           "-2.72",
           "-2.84",
           "-2.73",
           "-2.72",
           "-3.24",
           "-2.99"
          ],
          [
           "-2.85",
           "-2.75",
           "-2.85",
           "-2.52",
           "-2.74",
           "-2.85",
           "-2.54",
           "-2.76",
           "N/A",
           "-2.50",
           "-2.76",
           "-2.74",
           "-2.86",
           "-2.74",
           "-2.75",
           "-3.27",
           "-3.01"
          ],
          [
           "-2.79",
           "-2.71",
           "-2.80",
           "-2.42",
           "-2.70",
           "-2.78",
           "-2.41",
           "-2.71",
           "-2.79",
           "N/A",
           "-2.71",
           "-2.68",
           "-2.82",
           "-2.68",
           "-2.71",
           "-3.15",
           "-2.92"
          ],
          [
           "-2.84",
           "-2.72",
           "-2.84",
           "-2.49",
           "-2.75",
           "-2.85",
           "-2.48",
           "-2.71",
           "-2.85",
           "-2.49",
           "N/A",
           "-2.71",
           "-2.84",
           "-2.71",
           "-2.75",
           "-3.24",
           "-2.99"
          ],
          [
           "-2.84",
           "-2.74",
           "-2.84",
           "-2.50",
           "-2.70",
           "-2.86",
           "-2.50",
           "-2.73",
           "-2.87",
           "-2.51",
           "-2.72",
           "N/A",
           "-2.84",
           "-2.75",
           "-2.72",
           "-3.24",
           "-2.99"
          ],
          [
           "-2.86",
           "-2.76",
           "-2.84",
           "-2.51",
           "-2.78",
           "-2.86",
           "-2.51",
           "-2.77",
           "-2.85",
           "-2.54",
           "-2.77",
           "-2.77",
           "N/A",
           "-2.77",
           "-2.76",
           "-3.27",
           "-3.02"
          ],
          [
           "-2.83",
           "-2.74",
           "-2.83",
           "-2.50",
           "-2.73",
           "-2.84",
           "-2.48",
           "-2.70",
           "-2.84",
           "-2.48",
           "-2.72",
           "-2.71",
           "-2.82",
           "N/A",
           "-2.72",
           "-3.23",
           "-2.99"
          ],
          [
           "-2.85",
           "-2.74",
           "-2.84",
           "-2.50",
           "-2.74",
           "-2.83",
           "-2.50",
           "-2.71",
           "-2.83",
           "-2.50",
           "-2.74",
           "-2.73",
           "-2.84",
           "-2.71",
           "N/A",
           "-3.24",
           "-2.98"
          ],
          [
           "-2.96",
           "-2.84",
           "-2.95",
           "-2.56",
           "-2.84",
           "-2.96",
           "-2.56",
           "-2.84",
           "-2.96",
           "-2.56",
           "-2.83",
           "-2.83",
           "-2.95",
           "-2.84",
           "-2.82",
           "N/A",
           "-3.10"
          ],
          [
           "-2.91",
           "-2.79",
           "-2.90",
           "-2.53",
           "-2.78",
           "-2.91",
           "-2.52",
           "-2.81",
           "-2.90",
           "-2.52",
           "-2.80",
           "-2.82",
           "-2.90",
           "-2.80",
           "-2.81",
           "-3.30",
           "N/A"
          ]
         ],
         "textfont": {
          "color": "black"
         },
         "texttemplate": "%{text}",
         "type": "heatmap",
         "x": [
          "WhereIsAI_UAE-Large-V1",
          "BAAI_bge-base-en-v1.5",
          "BAAI_bge-large-en-v1.5",
          "BAAI_bge-small-en-v1.5",
          "intfloat_e5-base-v2",
          "intfloat_e5-large-v2",
          "intfloat_e5-small-v2",
          "thenlper_gte-base",
          "thenlper_gte-large",
          "thenlper_gte-small",
          "sentence-transformers_gtr-t5-base",
          "sentence-transformers_gtr-t5-large",
          "mixedbread-ai_mxbai-embed-large-v1",
          "sentence-transformers_sentence-t5-base",
          "sentence-transformers_sentence-t5-large",
          "openai_text-embedding-3-large",
          "openai_text-embedding-3-small"
         ],
         "y": [
          "WhereIsAI_UAE-Large-V1",
          "BAAI_bge-base-en-v1.5",
          "BAAI_bge-large-en-v1.5",
          "BAAI_bge-small-en-v1.5",
          "intfloat_e5-base-v2",
          "intfloat_e5-large-v2",
          "intfloat_e5-small-v2",
          "thenlper_gte-base",
          "thenlper_gte-large",
          "thenlper_gte-small",
          "sentence-transformers_gtr-t5-base",
          "sentence-transformers_gtr-t5-large",
          "mixedbread-ai_mxbai-embed-large-v1",
          "sentence-transformers_sentence-t5-base",
          "sentence-transformers_sentence-t5-large",
          "openai_text-embedding-3-large",
          "openai_text-embedding-3-small"
         ],
         "z": [
          [
           null,
           -2.7574663425948116,
           -2.8420995149022072,
           -2.5095080204774765,
           -2.772926057182547,
           -2.8495111364061194,
           -2.504729011234093,
           -2.771978108569226,
           -2.8644323823071316,
           -2.4903870476720407,
           -2.762528125724493,
           -2.7511733114121983,
           -2.8454498318091486,
           -2.7498421169253677,
           -2.7501509336190813,
           -3.2696157318654278,
           -3.02198423076025
          ],
          [
           -2.8439671840984952,
           null,
           -2.8425685649518804,
           -2.4749370961506623,
           -2.7262825567904367,
           -2.8291240980333727,
           -2.4784590184216295,
           -2.7468449351451576,
           -2.8555266586187416,
           -2.4797362835448697,
           -2.735703755380616,
           -2.7288352609804054,
           -2.844996909042494,
           -2.733095494011109,
           -2.723420118354665,
           -3.237153824629583,
           -2.98560012259634
          ],
          [
           -2.847032143924652,
           -2.769208332080826,
           null,
           -2.5159174758940686,
           -2.7647998813551764,
           -2.859104585314454,
           -2.500828877749649,
           -2.7574615990580216,
           -2.8504715783957004,
           -2.5095226630642307,
           -2.773071177477477,
           -2.737753963940291,
           -2.838673846847979,
           -2.7590395972498656,
           -2.775269038776332,
           -3.265478096932488,
           -3.0072780568853523
          ],
          [
           -2.793861657643175,
           -2.6806242728225356,
           -2.805010042893231,
           null,
           -2.6933186738606256,
           -2.8112592269492285,
           -2.4390978670404246,
           -2.6841598709638115,
           -2.7989696594110605,
           -2.418366493260947,
           -2.6777851988160783,
           -2.7018360273677144,
           -2.813204423160594,
           -2.6743761031771873,
           -2.7160313697399996,
           -3.137169966998491,
           -2.9366836102976093
          ],
          [
           -2.838349525279202,
           -2.726233080426001,
           -2.8222737559154836,
           -2.4857008456020866,
           null,
           -2.82648948208632,
           -2.476211658472666,
           -2.715059648720614,
           -2.846425889143047,
           -2.5203621985473252,
           -2.7243012129054516,
           -2.742306246985116,
           -2.840890019131271,
           -2.7537059548478817,
           -2.739483645985742,
           -3.2347535814133175,
           -3.0041197038012433
          ],
          [
           -2.848610680225495,
           -2.7633478602228982,
           -2.861550176205477,
           -2.5189607223864074,
           -2.7594822848260843,
           null,
           -2.537914955629029,
           -2.7478137777043647,
           -2.824773305410056,
           -2.5243649046974794,
           -2.772076932474613,
           -2.767920620860492,
           -2.8435499746200517,
           -2.746862294084466,
           -2.7647419048581545,
           -3.2638811808935446,
           -3.006200647937264
          ],
          [
           -2.7945975474406426,
           -2.672205624277428,
           -2.8055648996591964,
           -2.4192694036078586,
           -2.679833667465062,
           -2.790561112025961,
           null,
           -2.6976131427529637,
           -2.787996442364042,
           -2.4333433568378586,
           -2.6934248345409646,
           -2.689664582821246,
           -2.811017294196133,
           -2.6852397758964472,
           -2.665421900124522,
           -3.142477136686657,
           -2.945049031507515
          ],
          [
           -2.8527441484476204,
           -2.720312330187536,
           -2.8593186440541323,
           -2.4965141594896365,
           -2.73222070979967,
           -2.836172110176852,
           -2.5012113128768787,
           null,
           -2.8362701708791134,
           -2.5151507713784094,
           -2.7149571145777065,
           -2.71873632350183,
           -2.841471953687869,
           -2.7266619192590054,
           -2.7151816772719215,
           -3.2367913431774546,
           -2.990001772362981
          ],
          [
           -2.854049946191234,
           -2.7534789384444025,
           -2.8499774195833054,
           -2.517077975365861,
           -2.737490131068005,
           -2.853228773987639,
           -2.5350490674750676,
           -2.7629753227906853,
           null,
           -2.4978144834788654,
           -2.7639867117242987,
           -2.738939346759615,
           -2.856158975272222,
           -2.7364414423899426,
           -2.7543894975646266,
           -3.2653910855796293,
           -3.012757078980578
          ],
          [
           -2.7945773841275368,
           -2.710017958546196,
           -2.804236725987993,
           -2.4222160053990853,
           -2.6959802561360102,
           -2.7835828346946787,
           -2.4050714091801533,
           -2.706208423646955,
           -2.7928610469325696,
           null,
           -2.7065209440393088,
           -2.682494770419618,
           -2.8200673512399974,
           -2.677039779851422,
           -2.7090154729404157,
           -3.149138864063171,
           -2.9176048517444637
          ],
          [
           -2.838016532079381,
           -2.717282414331235,
           -2.8372934303265755,
           -2.492715648951941,
           -2.753655862859868,
           -2.852506520284063,
           -2.4822052322300467,
           -2.710654813825686,
           -2.8469891318429172,
           -2.4940913066284485,
           null,
           -2.7055503826655363,
           -2.837333128802843,
           -2.7122439864704684,
           -2.753149418287607,
           -3.2366751461774594,
           -2.9857239305725702
          ],
          [
           -2.841436577644957,
           -2.741197314512788,
           -2.8350086891014312,
           -2.5018797479162367,
           -2.7032368315174287,
           -2.8576168797407124,
           -2.5015080185430247,
           -2.7319167974208143,
           -2.866335087012379,
           -2.50599924665408,
           -2.7159763437912665,
           null,
           -2.8427741317658617,
           -2.7494958052689555,
           -2.7188830490325513,
           -3.2382536761355643,
           -2.989299907969369
          ],
          [
           -2.8574904999541713,
           -2.757874828121548,
           -2.836801602405946,
           -2.5145947926412124,
           -2.776514985995462,
           -2.8582888395432473,
           -2.5100568665760847,
           -2.7727799067214463,
           -2.847354870392868,
           -2.539932652546568,
           -2.7670191506382733,
           -2.7676537467638225,
           null,
           -2.768673253337806,
           -2.7621329590330648,
           -3.267328367615393,
           -3.018371082714945
          ],
          [
           -2.831625897800422,
           -2.743224193225815,
           -2.8253331810086357,
           -2.496564090264143,
           -2.7269613124593968,
           -2.84291883650624,
           -2.4755802877330217,
           -2.704577990630079,
           -2.839717997400511,
           -2.475167000083609,
           -2.7226632215846203,
           -2.7119516225256906,
           -2.8185491026905214,
           null,
           -2.719689163512609,
           -3.2348944898536733,
           -2.9934528032433056
          ],
          [
           -2.8514682300735994,
           -2.7448640037565926,
           -2.8427515678052133,
           -2.4966078081967917,
           -2.74235577309305,
           -2.8342725198140037,
           -2.4988083593057078,
           -2.7103880938991805,
           -2.8291400972749035,
           -2.503298547080734,
           -2.7360807575585264,
           -2.7330988575522306,
           -2.8441296601993993,
           -2.705682424581142,
           null,
           -3.2378874342952315,
           -2.9841915614481604
          ],
          [
           -2.962494039911259,
           -2.8423406582790576,
           -2.954507314221811,
           -2.5644603072164207,
           -2.8353951693433355,
           -2.964845090449149,
           -2.5556375683646704,
           -2.8386317940804386,
           -2.963308972093713,
           -2.560999283191517,
           -2.8333860962443933,
           -2.8308654658430337,
           -2.952742366845893,
           -2.8359384903778384,
           -2.8236707391222384,
           null,
           -3.095328214131093
          ],
          [
           -2.9080143017269084,
           -2.793943662230012,
           -2.8998820636227056,
           -2.527864651448688,
           -2.7838094308865386,
           -2.914045622553132,
           -2.52481682222563,
           -2.8084470135948747,
           -2.8951426735246373,
           -2.523727571881367,
           -2.799631799115948,
           -2.82328182590169,
           -2.9013001563461964,
           -2.7973275588650637,
           -2.8090540626581615,
           -3.2986171609264896,
           null
          ]
         ]
        }
       ],
       "layout": {
        "dragmode": false,
        "height": 600,
        "modebar": {
         "remove": [
          "zoomIn2d",
          "zoomOut2d",
          "autoScale2d",
          "resetScale2d",
          "hoverClosestCartesian",
          "hoverCompareCartesian",
          "toggleSpikelines"
         ]
        },
        "template": {
         "data": {
          "bar": [
           {
            "error_x": {
             "color": "#2a3f5f"
            },
            "error_y": {
             "color": "#2a3f5f"
            },
            "marker": {
             "line": {
              "color": "white",
              "width": 0.5
             },
             "pattern": {
              "fillmode": "overlay",
              "size": 10,
              "solidity": 0.2
             }
            },
            "type": "bar"
           }
          ],
          "barpolar": [
           {
            "marker": {
             "line": {
              "color": "white",
              "width": 0.5
             },
             "pattern": {
              "fillmode": "overlay",
              "size": 10,
              "solidity": 0.2
             }
            },
            "type": "barpolar"
           }
          ],
          "carpet": [
           {
            "aaxis": {
             "endlinecolor": "#2a3f5f",
             "gridcolor": "#C8D4E3",
             "linecolor": "#C8D4E3",
             "minorgridcolor": "#C8D4E3",
             "startlinecolor": "#2a3f5f"
            },
            "baxis": {
             "endlinecolor": "#2a3f5f",
             "gridcolor": "#C8D4E3",
             "linecolor": "#C8D4E3",
             "minorgridcolor": "#C8D4E3",
             "startlinecolor": "#2a3f5f"
            },
            "type": "carpet"
           }
          ],
          "choropleth": [
           {
            "colorbar": {
             "outlinewidth": 0,
             "ticks": ""
            },
            "type": "choropleth"
           }
          ],
          "contour": [
           {
            "colorbar": {
             "outlinewidth": 0,
             "ticks": ""
            },
            "colorscale": [
             [
              0,
              "#0d0887"
             ],
             [
              0.1111111111111111,
              "#46039f"
             ],
             [
              0.2222222222222222,
              "#7201a8"
             ],
             [
              0.3333333333333333,
              "#9c179e"
             ],
             [
              0.4444444444444444,
              "#bd3786"
             ],
             [
              0.5555555555555556,
              "#d8576b"
             ],
             [
              0.6666666666666666,
              "#ed7953"
             ],
             [
              0.7777777777777778,
              "#fb9f3a"
             ],
             [
              0.8888888888888888,
              "#fdca26"
             ],
             [
              1,
              "#f0f921"
             ]
            ],
            "type": "contour"
           }
          ],
          "contourcarpet": [
           {
            "colorbar": {
             "outlinewidth": 0,
             "ticks": ""
            },
            "type": "contourcarpet"
           }
          ],
          "heatmap": [
           {
            "colorbar": {
             "outlinewidth": 0,
             "ticks": ""
            },
            "colorscale": [
             [
              0,
              "#0d0887"
             ],
             [
              0.1111111111111111,
              "#46039f"
             ],
             [
              0.2222222222222222,
              "#7201a8"
             ],
             [
              0.3333333333333333,
              "#9c179e"
             ],
             [
              0.4444444444444444,
              "#bd3786"
             ],
             [
              0.5555555555555556,
              "#d8576b"
             ],
             [
              0.6666666666666666,
              "#ed7953"
             ],
             [
              0.7777777777777778,
              "#fb9f3a"
             ],
             [
              0.8888888888888888,
              "#fdca26"
             ],
             [
              1,
              "#f0f921"
             ]
            ],
            "type": "heatmap"
           }
          ],
          "heatmapgl": [
           {
            "colorbar": {
             "outlinewidth": 0,
             "ticks": ""
            },
            "colorscale": [
             [
              0,
              "#0d0887"
             ],
             [
              0.1111111111111111,
              "#46039f"
             ],
             [
              0.2222222222222222,
              "#7201a8"
             ],
             [
              0.3333333333333333,
              "#9c179e"
             ],
             [
              0.4444444444444444,
              "#bd3786"
             ],
             [
              0.5555555555555556,
              "#d8576b"
             ],
             [
              0.6666666666666666,
              "#ed7953"
             ],
             [
              0.7777777777777778,
              "#fb9f3a"
             ],
             [
              0.8888888888888888,
              "#fdca26"
             ],
             [
              1,
              "#f0f921"
             ]
            ],
            "type": "heatmapgl"
           }
          ],
          "histogram": [
           {
            "marker": {
             "pattern": {
              "fillmode": "overlay",
              "size": 10,
              "solidity": 0.2
             }
            },
            "type": "histogram"
           }
          ],
          "histogram2d": [
           {
            "colorbar": {
             "outlinewidth": 0,
             "ticks": ""
            },
            "colorscale": [
             [
              0,
              "#0d0887"
             ],
             [
              0.1111111111111111,
              "#46039f"
             ],
             [
              0.2222222222222222,
              "#7201a8"
             ],
             [
              0.3333333333333333,
              "#9c179e"
             ],
             [
              0.4444444444444444,
              "#bd3786"
             ],
             [
              0.5555555555555556,
              "#d8576b"
             ],
             [
              0.6666666666666666,
              "#ed7953"
             ],
             [
              0.7777777777777778,
              "#fb9f3a"
             ],
             [
              0.8888888888888888,
              "#fdca26"
             ],
             [
              1,
              "#f0f921"
             ]
            ],
            "type": "histogram2d"
           }
          ],
          "histogram2dcontour": [
           {
            "colorbar": {
             "outlinewidth": 0,
             "ticks": ""
            },
            "colorscale": [
             [
              0,
              "#0d0887"
             ],
             [
              0.1111111111111111,
              "#46039f"
             ],
             [
              0.2222222222222222,
              "#7201a8"
             ],
             [
              0.3333333333333333,
              "#9c179e"
             ],
             [
              0.4444444444444444,
              "#bd3786"
             ],
             [
              0.5555555555555556,
              "#d8576b"
             ],
             [
              0.6666666666666666,
              "#ed7953"
             ],
             [
              0.7777777777777778,
              "#fb9f3a"
             ],
             [
              0.8888888888888888,
              "#fdca26"
             ],
             [
              1,
              "#f0f921"
             ]
            ],
            "type": "histogram2dcontour"
           }
          ],
          "mesh3d": [
           {
            "colorbar": {
             "outlinewidth": 0,
             "ticks": ""
            },
            "type": "mesh3d"
           }
          ],
          "parcoords": [
           {
            "line": {
             "colorbar": {
              "outlinewidth": 0,
              "ticks": ""
             }
            },
            "type": "parcoords"
           }
          ],
          "pie": [
           {
            "automargin": true,
            "type": "pie"
           }
          ],
          "scatter": [
           {
            "fillpattern": {
             "fillmode": "overlay",
             "size": 10,
             "solidity": 0.2
            },
            "type": "scatter"
           }
          ],
          "scatter3d": [
           {
            "line": {
             "colorbar": {
              "outlinewidth": 0,
              "ticks": ""
             }
            },
            "marker": {
             "colorbar": {
              "outlinewidth": 0,
              "ticks": ""
             }
            },
            "type": "scatter3d"
           }
          ],
          "scattercarpet": [
           {
            "marker": {
             "colorbar": {
              "outlinewidth": 0,
              "ticks": ""
             }
            },
            "type": "scattercarpet"
           }
          ],
          "scattergeo": [
           {
            "marker": {
             "colorbar": {
              "outlinewidth": 0,
              "ticks": ""
             }
            },
            "type": "scattergeo"
           }
          ],
          "scattergl": [
           {
            "marker": {
             "colorbar": {
              "outlinewidth": 0,
              "ticks": ""
             }
            },
            "type": "scattergl"
           }
          ],
          "scattermapbox": [
           {
            "marker": {
             "colorbar": {
              "outlinewidth": 0,
              "ticks": ""
             }
            },
            "type": "scattermapbox"
           }
          ],
          "scatterpolar": [
           {
            "marker": {
             "colorbar": {
              "outlinewidth": 0,
              "ticks": ""
             }
            },
            "type": "scatterpolar"
           }
          ],
          "scatterpolargl": [
           {
            "marker": {
             "colorbar": {
              "outlinewidth": 0,
              "ticks": ""
             }
            },
            "type": "scatterpolargl"
           }
          ],
          "scatterternary": [
           {
            "marker": {
             "colorbar": {
              "outlinewidth": 0,
              "ticks": ""
             }
            },
            "type": "scatterternary"
           }
          ],
          "surface": [
           {
            "colorbar": {
             "outlinewidth": 0,
             "ticks": ""
            },
            "colorscale": [
             [
              0,
              "#0d0887"
             ],
             [
              0.1111111111111111,
              "#46039f"
             ],
             [
              0.2222222222222222,
              "#7201a8"
             ],
             [
              0.3333333333333333,
              "#9c179e"
             ],
             [
              0.4444444444444444,
              "#bd3786"
             ],
             [
              0.5555555555555556,
              "#d8576b"
             ],
             [
              0.6666666666666666,
              "#ed7953"
             ],
             [
              0.7777777777777778,
              "#fb9f3a"
             ],
             [
              0.8888888888888888,
              "#fdca26"
             ],
             [
              1,
              "#f0f921"
             ]
            ],
            "type": "surface"
           }
          ],
          "table": [
           {
            "cells": {
             "fill": {
              "color": "#EBF0F8"
             },
             "line": {
              "color": "white"
             }
            },
            "header": {
             "fill": {
              "color": "#C8D4E3"
             },
             "line": {
              "color": "white"
             }
            },
            "type": "table"
           }
          ]
         },
         "layout": {
          "annotationdefaults": {
           "arrowcolor": "#2a3f5f",
           "arrowhead": 0,
           "arrowwidth": 1
          },
          "autotypenumbers": "strict",
          "coloraxis": {
           "colorbar": {
            "outlinewidth": 0,
            "ticks": ""
           }
          },
          "colorscale": {
           "diverging": [
            [
             0,
             "#8e0152"
            ],
            [
             0.1,
             "#c51b7d"
            ],
            [
             0.2,
             "#de77ae"
            ],
            [
             0.3,
             "#f1b6da"
            ],
            [
             0.4,
             "#fde0ef"
            ],
            [
             0.5,
             "#f7f7f7"
            ],
            [
             0.6,
             "#e6f5d0"
            ],
            [
             0.7,
             "#b8e186"
            ],
            [
             0.8,
             "#7fbc41"
            ],
            [
             0.9,
             "#4d9221"
            ],
            [
             1,
             "#276419"
            ]
           ],
           "sequential": [
            [
             0,
             "#0d0887"
            ],
            [
             0.1111111111111111,
             "#46039f"
            ],
            [
             0.2222222222222222,
             "#7201a8"
            ],
            [
             0.3333333333333333,
             "#9c179e"
            ],
            [
             0.4444444444444444,
             "#bd3786"
            ],
            [
             0.5555555555555556,
             "#d8576b"
            ],
            [
             0.6666666666666666,
             "#ed7953"
            ],
            [
             0.7777777777777778,
             "#fb9f3a"
            ],
            [
             0.8888888888888888,
             "#fdca26"
            ],
            [
             1,
             "#f0f921"
            ]
           ],
           "sequentialminus": [
            [
             0,
             "#0d0887"
            ],
            [
             0.1111111111111111,
             "#46039f"
            ],
            [
             0.2222222222222222,
             "#7201a8"
            ],
            [
             0.3333333333333333,
             "#9c179e"
            ],
            [
             0.4444444444444444,
             "#bd3786"
            ],
            [
             0.5555555555555556,
             "#d8576b"
            ],
            [
             0.6666666666666666,
             "#ed7953"
            ],
            [
             0.7777777777777778,
             "#fb9f3a"
            ],
            [
             0.8888888888888888,
             "#fdca26"
            ],
            [
             1,
             "#f0f921"
            ]
           ]
          },
          "colorway": [
           "#636efa",
           "#EF553B",
           "#00cc96",
           "#ab63fa",
           "#FFA15A",
           "#19d3f3",
           "#FF6692",
           "#B6E880",
           "#FF97FF",
           "#FECB52"
          ],
          "font": {
           "color": "#2a3f5f"
          },
          "geo": {
           "bgcolor": "white",
           "lakecolor": "white",
           "landcolor": "white",
           "showlakes": true,
           "showland": true,
           "subunitcolor": "#C8D4E3"
          },
          "hoverlabel": {
           "align": "left"
          },
          "hovermode": "closest",
          "mapbox": {
           "style": "light"
          },
          "paper_bgcolor": "white",
          "plot_bgcolor": "white",
          "polar": {
           "angularaxis": {
            "gridcolor": "#EBF0F8",
            "linecolor": "#EBF0F8",
            "ticks": ""
           },
           "bgcolor": "white",
           "radialaxis": {
            "gridcolor": "#EBF0F8",
            "linecolor": "#EBF0F8",
            "ticks": ""
           }
          },
          "scene": {
           "xaxis": {
            "backgroundcolor": "white",
            "gridcolor": "#DFE8F3",
            "gridwidth": 2,
            "linecolor": "#EBF0F8",
            "showbackground": true,
            "ticks": "",
            "zerolinecolor": "#EBF0F8"
           },
           "yaxis": {
            "backgroundcolor": "white",
            "gridcolor": "#DFE8F3",
            "gridwidth": 2,
            "linecolor": "#EBF0F8",
            "showbackground": true,
            "ticks": "",
            "zerolinecolor": "#EBF0F8"
           },
           "zaxis": {
            "backgroundcolor": "white",
            "gridcolor": "#DFE8F3",
            "gridwidth": 2,
            "linecolor": "#EBF0F8",
            "showbackground": true,
            "ticks": "",
            "zerolinecolor": "#EBF0F8"
           }
          },
          "shapedefaults": {
           "line": {
            "color": "#2a3f5f"
           }
          },
          "ternary": {
           "aaxis": {
            "gridcolor": "#DFE8F3",
            "linecolor": "#A2B1C6",
            "ticks": ""
           },
           "baxis": {
            "gridcolor": "#DFE8F3",
            "linecolor": "#A2B1C6",
            "ticks": ""
           },
           "bgcolor": "white",
           "caxis": {
            "gridcolor": "#DFE8F3",
            "linecolor": "#A2B1C6",
            "ticks": ""
           }
          },
          "title": {
           "x": 0.05
          },
          "xaxis": {
           "automargin": true,
           "gridcolor": "#EBF0F8",
           "linecolor": "#EBF0F8",
           "ticks": "",
           "title": {
            "standoff": 15
           },
           "zerolinecolor": "#EBF0F8",
           "zerolinewidth": 2
          },
          "yaxis": {
           "automargin": true,
           "gridcolor": "#EBF0F8",
           "linecolor": "#EBF0F8",
           "ticks": "",
           "title": {
            "standoff": 15
           },
           "zerolinecolor": "#EBF0F8",
           "zerolinewidth": 2
          }
         }
        },
        "title": {
         "text": "Example Validation MSE (log)"
        },
        "width": 800,
        "xaxis": {
         "fixedrange": true,
         "nticks": 17,
         "title": {}
        },
        "yaxis": {
         "fixedrange": true,
         "nticks": 17,
         "title": {}
        }
       }
      }
     },
     "metadata": {},
     "output_type": "display_data"
    }
   ],
   "source": [
    "# Visualize Imported Data (One Dataset, One Architecture)\n",
    "labels = sorted(meta[\"model2idx\"], key=lambda k: meta[\"model2idx\"][k])\n",
    "matrix = example_validation_mse\n",
    "heatmap(matrix, log=True, title=\"Example Validation MSE (log)\", labels=labels, nan_diagnal=True)"
   ]
  },
  {
   "cell_type": "code",
   "execution_count": 61,
   "metadata": {},
   "outputs": [
    {
     "name": "stdout",
     "output_type": "stream",
     "text": [
      "\u001b[2;36m[12/13/24 19:53:58]\u001b[0m\u001b[2;36m \u001b[0m\u001b[1;34mINFO    \u001b[0m\u001b[1;32m \u001b[0m Saving HTML figure to            \u001b]8;id=266647;file:///Users/gat/work/FA2024/embedding_translation/src/viz/save_figure.py\u001b\\\u001b[1;36msave_figure.py\u001b[0m\u001b]8;;\u001b\\\u001b[1;36m:\u001b[0m\u001b]8;id=368577;file:///Users/gat/work/FA2024/embedding_translation/src/viz/save_figure.py#32\u001b\\\u001b[1;36m32\u001b[0m\u001b]8;;\u001b\\\n",
      "\u001b[2;36m                    \u001b[0m\u001b[1;32m         \u001b[0mdata/figs/html/complexity_vs_rank \u001b[1;36m                 \u001b[0m\n",
      "\u001b[2;36m                    \u001b[0m\u001b[1;32m         \u001b[0m.html                             \u001b[1;36m                 \u001b[0m\n",
      "\u001b[2;36m                   \u001b[0m\u001b[2;36m \u001b[0m\u001b[1;32mSUCCESS \u001b[0m\u001b[1;32m \u001b[0m Successfully saved HTML to       \u001b]8;id=682869;file:///Users/gat/work/FA2024/embedding_translation/src/viz/save_figure.py\u001b\\\u001b[1;36msave_figure.py\u001b[0m\u001b]8;;\u001b\\\u001b[1;36m:\u001b[0m\u001b]8;id=253389;file:///Users/gat/work/FA2024/embedding_translation/src/viz/save_figure.py#40\u001b\\\u001b[1;36m40\u001b[0m\u001b]8;;\u001b\\\n",
      "\u001b[2;36m                    \u001b[0m\u001b[1;32m         \u001b[0mdata/figs/html/complexity_vs_rank \u001b[1;36m                 \u001b[0m\n",
      "\u001b[2;36m                    \u001b[0m\u001b[1;32m         \u001b[0m.html                             \u001b[1;36m                 \u001b[0m\n",
      "\u001b[2;36m                   \u001b[0m\u001b[2;36m \u001b[0m\u001b[1;34mINFO    \u001b[0m\u001b[1;32m \u001b[0m Saving PNG figure to             \u001b]8;id=734367;file:///Users/gat/work/FA2024/embedding_translation/src/viz/save_figure.py\u001b\\\u001b[1;36msave_figure.py\u001b[0m\u001b]8;;\u001b\\\u001b[1;36m:\u001b[0m\u001b]8;id=161631;file:///Users/gat/work/FA2024/embedding_translation/src/viz/save_figure.py#67\u001b\\\u001b[1;36m67\u001b[0m\u001b]8;;\u001b\\\n",
      "\u001b[2;36m                    \u001b[0m\u001b[1;32m         \u001b[0mdata/figs/imgs/complexity_vs_rank \u001b[1;36m                 \u001b[0m\n",
      "\u001b[2;36m                    \u001b[0m\u001b[1;32m         \u001b[0m.png                              \u001b[1;36m                 \u001b[0m\n",
      "\u001b[2;36m                   \u001b[0m\u001b[2;36m \u001b[0m\u001b[1;32mSUCCESS \u001b[0m\u001b[1;32m \u001b[0m Successfully saved PNG to        \u001b]8;id=661031;file:///Users/gat/work/FA2024/embedding_translation/src/viz/save_figure.py\u001b\\\u001b[1;36msave_figure.py\u001b[0m\u001b]8;;\u001b\\\u001b[1;36m:\u001b[0m\u001b]8;id=401247;file:///Users/gat/work/FA2024/embedding_translation/src/viz/save_figure.py#76\u001b\\\u001b[1;36m76\u001b[0m\u001b]8;;\u001b\\\n",
      "\u001b[2;36m                    \u001b[0m\u001b[1;32m         \u001b[0mdata/figs/imgs/complexity_vs_rank \u001b[1;36m                 \u001b[0m\n",
      "\u001b[2;36m                    \u001b[0m\u001b[1;32m         \u001b[0m.png                              \u001b[1;36m                 \u001b[0m\n",
      "\u001b[2;36m                   \u001b[0m\u001b[2;36m \u001b[0m\u001b[1;34mINFO    \u001b[0m\u001b[1;32m \u001b[0m\u001b[1m[\u001b[0m\u001b[1;36m220785227.\u001b[0mpy:\u001b[1;36m42\u001b[0m\u001b[1m]\u001b[0m Creating heatmap  \u001b]8;id=148405;file:///var/folders/6f/f4k9qbkd5nqfywwdhvwdtl5m0000gn/T/ipykernel_39579/220785227.py\u001b\\\u001b[1;36m220785227.py\u001b[0m\u001b]8;;\u001b\\\u001b[1;36m:\u001b[0m\u001b]8;id=149505;file:///var/folders/6f/f4k9qbkd5nqfywwdhvwdtl5m0000gn/T/ipykernel_39579/220785227.py#42\u001b\\\u001b[1;36m42\u001b[0m\u001b]8;;\u001b\\\n",
      "\u001b[2;36m                    \u001b[0m\u001b[1;32m         \u001b[0mvisualization\u001b[33m...\u001b[0m                    \u001b[1;36m               \u001b[0m\n",
      "\u001b[2;36m                   \u001b[0m\u001b[2;36m \u001b[0m\u001b[1;34mINFO    \u001b[0m\u001b[1;32m \u001b[0m\u001b[1m[\u001b[0m\u001b[1;36m220785227.\u001b[0mpy:\u001b[1;36m42\u001b[0m\u001b[1m]\u001b[0m Creating heatmap  \u001b]8;id=927519;file:///var/folders/6f/f4k9qbkd5nqfywwdhvwdtl5m0000gn/T/ipykernel_39579/220785227.py\u001b\\\u001b[1;36m220785227.py\u001b[0m\u001b]8;;\u001b\\\u001b[1;36m:\u001b[0m\u001b]8;id=827192;file:///var/folders/6f/f4k9qbkd5nqfywwdhvwdtl5m0000gn/T/ipykernel_39579/220785227.py#42\u001b\\\u001b[1;36m42\u001b[0m\u001b]8;;\u001b\\\n",
      "\u001b[2;36m                    \u001b[0m\u001b[1;32m         \u001b[0mvisualization\u001b[33m...\u001b[0m                    \u001b[1;36m               \u001b[0m\n",
      "\u001b[2;36m                   \u001b[0m\u001b[2;36m \u001b[0m\u001b[1;34mINFO    \u001b[0m\u001b[1;32m \u001b[0m\u001b[1m[\u001b[0m\u001b[1;36m220785227.\u001b[0mpy:\u001b[1;36m42\u001b[0m\u001b[1m]\u001b[0m Creating heatmap  \u001b]8;id=427255;file:///var/folders/6f/f4k9qbkd5nqfywwdhvwdtl5m0000gn/T/ipykernel_39579/220785227.py\u001b\\\u001b[1;36m220785227.py\u001b[0m\u001b]8;;\u001b\\\u001b[1;36m:\u001b[0m\u001b]8;id=623215;file:///var/folders/6f/f4k9qbkd5nqfywwdhvwdtl5m0000gn/T/ipykernel_39579/220785227.py#42\u001b\\\u001b[1;36m42\u001b[0m\u001b]8;;\u001b\\\n",
      "\u001b[2;36m                    \u001b[0m\u001b[1;32m         \u001b[0mvisualization\u001b[33m...\u001b[0m                    \u001b[1;36m               \u001b[0m\n",
      "\u001b[2;36m                   \u001b[0m\u001b[2;36m \u001b[0m\u001b[1;34mINFO    \u001b[0m\u001b[1;32m \u001b[0m\u001b[1m[\u001b[0m\u001b[1;36m220785227.\u001b[0mpy:\u001b[1;36m42\u001b[0m\u001b[1m]\u001b[0m Creating heatmap  \u001b]8;id=496930;file:///var/folders/6f/f4k9qbkd5nqfywwdhvwdtl5m0000gn/T/ipykernel_39579/220785227.py\u001b\\\u001b[1;36m220785227.py\u001b[0m\u001b]8;;\u001b\\\u001b[1;36m:\u001b[0m\u001b]8;id=74223;file:///var/folders/6f/f4k9qbkd5nqfywwdhvwdtl5m0000gn/T/ipykernel_39579/220785227.py#42\u001b\\\u001b[1;36m42\u001b[0m\u001b]8;;\u001b\\\n",
      "\u001b[2;36m                    \u001b[0m\u001b[1;32m         \u001b[0mvisualization\u001b[33m...\u001b[0m                    \u001b[1;36m               \u001b[0m\n",
      "\u001b[2;36m                   \u001b[0m\u001b[2;36m \u001b[0m\u001b[1;34mINFO    \u001b[0m\u001b[1;32m \u001b[0m\u001b[1m[\u001b[0m\u001b[1;36m220785227.\u001b[0mpy:\u001b[1;36m42\u001b[0m\u001b[1m]\u001b[0m Creating heatmap  \u001b]8;id=106445;file:///var/folders/6f/f4k9qbkd5nqfywwdhvwdtl5m0000gn/T/ipykernel_39579/220785227.py\u001b\\\u001b[1;36m220785227.py\u001b[0m\u001b]8;;\u001b\\\u001b[1;36m:\u001b[0m\u001b]8;id=46015;file:///var/folders/6f/f4k9qbkd5nqfywwdhvwdtl5m0000gn/T/ipykernel_39579/220785227.py#42\u001b\\\u001b[1;36m42\u001b[0m\u001b]8;;\u001b\\\n",
      "\u001b[2;36m                    \u001b[0m\u001b[1;32m         \u001b[0mvisualization\u001b[33m...\u001b[0m                    \u001b[1;36m               \u001b[0m\n",
      "\u001b[2;36m                   \u001b[0m\u001b[2;36m \u001b[0m\u001b[1;34mINFO    \u001b[0m\u001b[1;32m \u001b[0m\u001b[1m[\u001b[0m\u001b[1;36m220785227.\u001b[0mpy:\u001b[1;36m42\u001b[0m\u001b[1m]\u001b[0m Creating heatmap  \u001b]8;id=358630;file:///var/folders/6f/f4k9qbkd5nqfywwdhvwdtl5m0000gn/T/ipykernel_39579/220785227.py\u001b\\\u001b[1;36m220785227.py\u001b[0m\u001b]8;;\u001b\\\u001b[1;36m:\u001b[0m\u001b]8;id=195989;file:///var/folders/6f/f4k9qbkd5nqfywwdhvwdtl5m0000gn/T/ipykernel_39579/220785227.py#42\u001b\\\u001b[1;36m42\u001b[0m\u001b]8;;\u001b\\\n",
      "\u001b[2;36m                    \u001b[0m\u001b[1;32m         \u001b[0mvisualization\u001b[33m...\u001b[0m                    \u001b[1;36m               \u001b[0m\n",
      "\u001b[2;36m                   \u001b[0m\u001b[2;36m \u001b[0m\u001b[1;34mINFO    \u001b[0m\u001b[1;32m \u001b[0m\u001b[1m[\u001b[0m\u001b[1;36m220785227.\u001b[0mpy:\u001b[1;36m42\u001b[0m\u001b[1m]\u001b[0m Creating heatmap  \u001b]8;id=50298;file:///var/folders/6f/f4k9qbkd5nqfywwdhvwdtl5m0000gn/T/ipykernel_39579/220785227.py\u001b\\\u001b[1;36m220785227.py\u001b[0m\u001b]8;;\u001b\\\u001b[1;36m:\u001b[0m\u001b]8;id=163346;file:///var/folders/6f/f4k9qbkd5nqfywwdhvwdtl5m0000gn/T/ipykernel_39579/220785227.py#42\u001b\\\u001b[1;36m42\u001b[0m\u001b]8;;\u001b\\\n",
      "\u001b[2;36m                    \u001b[0m\u001b[1;32m         \u001b[0mvisualization\u001b[33m...\u001b[0m                    \u001b[1;36m               \u001b[0m\n",
      "\u001b[2;36m                   \u001b[0m\u001b[2;36m \u001b[0m\u001b[1;34mINFO    \u001b[0m\u001b[1;32m \u001b[0m Saving HTML figure to            \u001b]8;id=73312;file:///Users/gat/work/FA2024/embedding_translation/src/viz/save_figure.py\u001b\\\u001b[1;36msave_figure.py\u001b[0m\u001b]8;;\u001b\\\u001b[1;36m:\u001b[0m\u001b]8;id=789966;file:///Users/gat/work/FA2024/embedding_translation/src/viz/save_figure.py#32\u001b\\\u001b[1;36m32\u001b[0m\u001b]8;;\u001b\\\n",
      "\u001b[2;36m                    \u001b[0m\u001b[1;32m         \u001b[0m\u001b[35m/Users/gat/work/FA2024/embedding_\u001b[0m \u001b[1;36m                 \u001b[0m\n",
      "\u001b[2;36m                    \u001b[0m\u001b[1;32m         \u001b[0m\u001b[35mtranslation/data/figs/html/\u001b[0m\u001b[95marguan\u001b[0m \u001b[1;36m                 \u001b[0m\n",
      "\u001b[2;36m                    \u001b[0m\u001b[1;32m         \u001b[0m\u001b[95ma_all_layers_mse_withlog_validati\u001b[0m \u001b[1;36m                 \u001b[0m\n",
      "\u001b[2;36m                    \u001b[0m\u001b[1;32m         \u001b[0m\u001b[95mon.html\u001b[0m                           \u001b[1;36m                 \u001b[0m\n",
      "\u001b[2;36m                   \u001b[0m\u001b[2;36m \u001b[0m\u001b[1;32mSUCCESS \u001b[0m\u001b[1;32m \u001b[0m Successfully saved HTML to       \u001b]8;id=363240;file:///Users/gat/work/FA2024/embedding_translation/src/viz/save_figure.py\u001b\\\u001b[1;36msave_figure.py\u001b[0m\u001b]8;;\u001b\\\u001b[1;36m:\u001b[0m\u001b]8;id=240466;file:///Users/gat/work/FA2024/embedding_translation/src/viz/save_figure.py#40\u001b\\\u001b[1;36m40\u001b[0m\u001b]8;;\u001b\\\n",
      "\u001b[2;36m                    \u001b[0m\u001b[1;32m         \u001b[0m\u001b[35m/Users/gat/work/FA2024/embedding_\u001b[0m \u001b[1;36m                 \u001b[0m\n",
      "\u001b[2;36m                    \u001b[0m\u001b[1;32m         \u001b[0m\u001b[35mtranslation/data/figs/html/\u001b[0m\u001b[95marguan\u001b[0m \u001b[1;36m                 \u001b[0m\n",
      "\u001b[2;36m                    \u001b[0m\u001b[1;32m         \u001b[0m\u001b[95ma_all_layers_mse_withlog_validati\u001b[0m \u001b[1;36m                 \u001b[0m\n",
      "\u001b[2;36m                    \u001b[0m\u001b[1;32m         \u001b[0m\u001b[95mon.html\u001b[0m                           \u001b[1;36m                 \u001b[0m\n",
      "\u001b[2;36m                   \u001b[0m\u001b[2;36m \u001b[0m\u001b[1;34mINFO    \u001b[0m\u001b[1;32m \u001b[0m Saving PNG figure to             \u001b]8;id=225983;file:///Users/gat/work/FA2024/embedding_translation/src/viz/save_figure.py\u001b\\\u001b[1;36msave_figure.py\u001b[0m\u001b]8;;\u001b\\\u001b[1;36m:\u001b[0m\u001b]8;id=428307;file:///Users/gat/work/FA2024/embedding_translation/src/viz/save_figure.py#67\u001b\\\u001b[1;36m67\u001b[0m\u001b]8;;\u001b\\\n",
      "\u001b[2;36m                    \u001b[0m\u001b[1;32m         \u001b[0m\u001b[35m/Users/gat/work/FA2024/embedding_\u001b[0m \u001b[1;36m                 \u001b[0m\n",
      "\u001b[2;36m                    \u001b[0m\u001b[1;32m         \u001b[0m\u001b[35mtranslation/data/figs/imgs/\u001b[0m\u001b[95marguan\u001b[0m \u001b[1;36m                 \u001b[0m\n",
      "\u001b[2;36m                    \u001b[0m\u001b[1;32m         \u001b[0m\u001b[95ma_all_layers_mse_withlog_validati\u001b[0m \u001b[1;36m                 \u001b[0m\n",
      "\u001b[2;36m                    \u001b[0m\u001b[1;32m         \u001b[0m\u001b[95mon.png\u001b[0m                            \u001b[1;36m                 \u001b[0m\n",
      "\u001b[2;36m                   \u001b[0m\u001b[2;36m \u001b[0m\u001b[1;32mSUCCESS \u001b[0m\u001b[1;32m \u001b[0m Successfully saved PNG to        \u001b]8;id=442854;file:///Users/gat/work/FA2024/embedding_translation/src/viz/save_figure.py\u001b\\\u001b[1;36msave_figure.py\u001b[0m\u001b]8;;\u001b\\\u001b[1;36m:\u001b[0m\u001b]8;id=61329;file:///Users/gat/work/FA2024/embedding_translation/src/viz/save_figure.py#76\u001b\\\u001b[1;36m76\u001b[0m\u001b]8;;\u001b\\\n",
      "\u001b[2;36m                    \u001b[0m\u001b[1;32m         \u001b[0m\u001b[35m/Users/gat/work/FA2024/embedding_\u001b[0m \u001b[1;36m                 \u001b[0m\n",
      "\u001b[2;36m                    \u001b[0m\u001b[1;32m         \u001b[0m\u001b[35mtranslation/data/figs/imgs/\u001b[0m\u001b[95marguan\u001b[0m \u001b[1;36m                 \u001b[0m\n",
      "\u001b[2;36m                    \u001b[0m\u001b[1;32m         \u001b[0m\u001b[95ma_all_layers_mse_withlog_validati\u001b[0m \u001b[1;36m                 \u001b[0m\n",
      "\u001b[2;36m                    \u001b[0m\u001b[1;32m         \u001b[0m\u001b[95mon.png\u001b[0m                            \u001b[1;36m                 \u001b[0m\n",
      "\u001b[2;36m                   \u001b[0m\u001b[2;36m \u001b[0m\u001b[1;34mINFO    \u001b[0m\u001b[1;32m \u001b[0m Saving HTML figure to            \u001b]8;id=192211;file:///Users/gat/work/FA2024/embedding_translation/src/viz/save_figure.py\u001b\\\u001b[1;36msave_figure.py\u001b[0m\u001b]8;;\u001b\\\u001b[1;36m:\u001b[0m\u001b]8;id=546218;file:///Users/gat/work/FA2024/embedding_translation/src/viz/save_figure.py#32\u001b\\\u001b[1;36m32\u001b[0m\u001b]8;;\u001b\\\n",
      "\u001b[2;36m                    \u001b[0m\u001b[1;32m         \u001b[0m\u001b[35m/Users/gat/work/FA2024/embedding_\u001b[0m \u001b[1;36m                 \u001b[0m\n",
      "\u001b[2;36m                    \u001b[0m\u001b[1;32m         \u001b[0m\u001b[35mtranslation/src/blog/figs/html/\u001b[0m\u001b[95mar\u001b[0m \u001b[1;36m                 \u001b[0m\n",
      "\u001b[2;36m                    \u001b[0m\u001b[1;32m         \u001b[0m\u001b[95mguana_all_layers_mse_withlog_vali\u001b[0m \u001b[1;36m                 \u001b[0m\n",
      "\u001b[2;36m                    \u001b[0m\u001b[1;32m         \u001b[0m\u001b[95mdation.html\u001b[0m                       \u001b[1;36m                 \u001b[0m\n",
      "\u001b[2;36m                   \u001b[0m\u001b[2;36m \u001b[0m\u001b[1;32mSUCCESS \u001b[0m\u001b[1;32m \u001b[0m Successfully saved HTML to       \u001b]8;id=260822;file:///Users/gat/work/FA2024/embedding_translation/src/viz/save_figure.py\u001b\\\u001b[1;36msave_figure.py\u001b[0m\u001b]8;;\u001b\\\u001b[1;36m:\u001b[0m\u001b]8;id=106000;file:///Users/gat/work/FA2024/embedding_translation/src/viz/save_figure.py#40\u001b\\\u001b[1;36m40\u001b[0m\u001b]8;;\u001b\\\n",
      "\u001b[2;36m                    \u001b[0m\u001b[1;32m         \u001b[0m\u001b[35m/Users/gat/work/FA2024/embedding_\u001b[0m \u001b[1;36m                 \u001b[0m\n",
      "\u001b[2;36m                    \u001b[0m\u001b[1;32m         \u001b[0m\u001b[35mtranslation/src/blog/figs/html/\u001b[0m\u001b[95mar\u001b[0m \u001b[1;36m                 \u001b[0m\n",
      "\u001b[2;36m                    \u001b[0m\u001b[1;32m         \u001b[0m\u001b[95mguana_all_layers_mse_withlog_vali\u001b[0m \u001b[1;36m                 \u001b[0m\n",
      "\u001b[2;36m                    \u001b[0m\u001b[1;32m         \u001b[0m\u001b[95mdation.html\u001b[0m                       \u001b[1;36m                 \u001b[0m\n",
      "\u001b[2;36m                   \u001b[0m\u001b[2;36m \u001b[0m\u001b[1;34mINFO    \u001b[0m\u001b[1;32m \u001b[0m Saving PNG figure to             \u001b]8;id=235125;file:///Users/gat/work/FA2024/embedding_translation/src/viz/save_figure.py\u001b\\\u001b[1;36msave_figure.py\u001b[0m\u001b]8;;\u001b\\\u001b[1;36m:\u001b[0m\u001b]8;id=470368;file:///Users/gat/work/FA2024/embedding_translation/src/viz/save_figure.py#67\u001b\\\u001b[1;36m67\u001b[0m\u001b]8;;\u001b\\\n",
      "\u001b[2;36m                    \u001b[0m\u001b[1;32m         \u001b[0m\u001b[35m/Users/gat/work/FA2024/embedding_\u001b[0m \u001b[1;36m                 \u001b[0m\n",
      "\u001b[2;36m                    \u001b[0m\u001b[1;32m         \u001b[0m\u001b[35mtranslation/src/blog/figs/imgs/\u001b[0m\u001b[95mar\u001b[0m \u001b[1;36m                 \u001b[0m\n",
      "\u001b[2;36m                    \u001b[0m\u001b[1;32m         \u001b[0m\u001b[95mguana_all_layers_mse_withlog_vali\u001b[0m \u001b[1;36m                 \u001b[0m\n",
      "\u001b[2;36m                    \u001b[0m\u001b[1;32m         \u001b[0m\u001b[95mdation.png\u001b[0m                        \u001b[1;36m                 \u001b[0m\n",
      "\u001b[2;36m                   \u001b[0m\u001b[2;36m \u001b[0m\u001b[1;32mSUCCESS \u001b[0m\u001b[1;32m \u001b[0m Successfully saved PNG to        \u001b]8;id=399128;file:///Users/gat/work/FA2024/embedding_translation/src/viz/save_figure.py\u001b\\\u001b[1;36msave_figure.py\u001b[0m\u001b]8;;\u001b\\\u001b[1;36m:\u001b[0m\u001b]8;id=433545;file:///Users/gat/work/FA2024/embedding_translation/src/viz/save_figure.py#76\u001b\\\u001b[1;36m76\u001b[0m\u001b]8;;\u001b\\\n",
      "\u001b[2;36m                    \u001b[0m\u001b[1;32m         \u001b[0m\u001b[35m/Users/gat/work/FA2024/embedding_\u001b[0m \u001b[1;36m                 \u001b[0m\n",
      "\u001b[2;36m                    \u001b[0m\u001b[1;32m         \u001b[0m\u001b[35mtranslation/src/blog/figs/imgs/\u001b[0m\u001b[95mar\u001b[0m \u001b[1;36m                 \u001b[0m\n",
      "\u001b[2;36m                    \u001b[0m\u001b[1;32m         \u001b[0m\u001b[95mguana_all_layers_mse_withlog_vali\u001b[0m \u001b[1;36m                 \u001b[0m\n",
      "\u001b[2;36m                    \u001b[0m\u001b[1;32m         \u001b[0m\u001b[95mdation.png\u001b[0m                        \u001b[1;36m                 \u001b[0m\n",
      "\u001b[2;36m                   \u001b[0m\u001b[2;36m \u001b[0m\u001b[1;34mINFO    \u001b[0m\u001b[1;32m \u001b[0m\u001b[1m[\u001b[0m\u001b[1;36m220785227.\u001b[0mpy:\u001b[1;36m42\u001b[0m\u001b[1m]\u001b[0m Creating heatmap  \u001b]8;id=990524;file:///var/folders/6f/f4k9qbkd5nqfywwdhvwdtl5m0000gn/T/ipykernel_39579/220785227.py\u001b\\\u001b[1;36m220785227.py\u001b[0m\u001b]8;;\u001b\\\u001b[1;36m:\u001b[0m\u001b]8;id=142822;file:///var/folders/6f/f4k9qbkd5nqfywwdhvwdtl5m0000gn/T/ipykernel_39579/220785227.py#42\u001b\\\u001b[1;36m42\u001b[0m\u001b]8;;\u001b\\\n",
      "\u001b[2;36m                    \u001b[0m\u001b[1;32m         \u001b[0mvisualization\u001b[33m...\u001b[0m                    \u001b[1;36m               \u001b[0m\n",
      "\u001b[2;36m                   \u001b[0m\u001b[2;36m \u001b[0m\u001b[1;34mINFO    \u001b[0m\u001b[1;32m \u001b[0m\u001b[1m[\u001b[0m\u001b[1;36m220785227.\u001b[0mpy:\u001b[1;36m42\u001b[0m\u001b[1m]\u001b[0m Creating heatmap  \u001b]8;id=865457;file:///var/folders/6f/f4k9qbkd5nqfywwdhvwdtl5m0000gn/T/ipykernel_39579/220785227.py\u001b\\\u001b[1;36m220785227.py\u001b[0m\u001b]8;;\u001b\\\u001b[1;36m:\u001b[0m\u001b]8;id=869979;file:///var/folders/6f/f4k9qbkd5nqfywwdhvwdtl5m0000gn/T/ipykernel_39579/220785227.py#42\u001b\\\u001b[1;36m42\u001b[0m\u001b]8;;\u001b\\\n",
      "\u001b[2;36m                    \u001b[0m\u001b[1;32m         \u001b[0mvisualization\u001b[33m...\u001b[0m                    \u001b[1;36m               \u001b[0m\n",
      "\u001b[2;36m                   \u001b[0m\u001b[2;36m \u001b[0m\u001b[1;34mINFO    \u001b[0m\u001b[1;32m \u001b[0m\u001b[1m[\u001b[0m\u001b[1;36m220785227.\u001b[0mpy:\u001b[1;36m42\u001b[0m\u001b[1m]\u001b[0m Creating heatmap  \u001b]8;id=337667;file:///var/folders/6f/f4k9qbkd5nqfywwdhvwdtl5m0000gn/T/ipykernel_39579/220785227.py\u001b\\\u001b[1;36m220785227.py\u001b[0m\u001b]8;;\u001b\\\u001b[1;36m:\u001b[0m\u001b]8;id=106516;file:///var/folders/6f/f4k9qbkd5nqfywwdhvwdtl5m0000gn/T/ipykernel_39579/220785227.py#42\u001b\\\u001b[1;36m42\u001b[0m\u001b]8;;\u001b\\\n",
      "\u001b[2;36m                    \u001b[0m\u001b[1;32m         \u001b[0mvisualization\u001b[33m...\u001b[0m                    \u001b[1;36m               \u001b[0m\n",
      "\u001b[2;36m                   \u001b[0m\u001b[2;36m \u001b[0m\u001b[1;34mINFO    \u001b[0m\u001b[1;32m \u001b[0m\u001b[1m[\u001b[0m\u001b[1;36m220785227.\u001b[0mpy:\u001b[1;36m42\u001b[0m\u001b[1m]\u001b[0m Creating heatmap  \u001b]8;id=706713;file:///var/folders/6f/f4k9qbkd5nqfywwdhvwdtl5m0000gn/T/ipykernel_39579/220785227.py\u001b\\\u001b[1;36m220785227.py\u001b[0m\u001b]8;;\u001b\\\u001b[1;36m:\u001b[0m\u001b]8;id=514908;file:///var/folders/6f/f4k9qbkd5nqfywwdhvwdtl5m0000gn/T/ipykernel_39579/220785227.py#42\u001b\\\u001b[1;36m42\u001b[0m\u001b]8;;\u001b\\\n",
      "\u001b[2;36m                    \u001b[0m\u001b[1;32m         \u001b[0mvisualization\u001b[33m...\u001b[0m                    \u001b[1;36m               \u001b[0m\n",
      "\u001b[2;36m                   \u001b[0m\u001b[2;36m \u001b[0m\u001b[1;34mINFO    \u001b[0m\u001b[1;32m \u001b[0m\u001b[1m[\u001b[0m\u001b[1;36m220785227.\u001b[0mpy:\u001b[1;36m42\u001b[0m\u001b[1m]\u001b[0m Creating heatmap  \u001b]8;id=402067;file:///var/folders/6f/f4k9qbkd5nqfywwdhvwdtl5m0000gn/T/ipykernel_39579/220785227.py\u001b\\\u001b[1;36m220785227.py\u001b[0m\u001b]8;;\u001b\\\u001b[1;36m:\u001b[0m\u001b]8;id=495506;file:///var/folders/6f/f4k9qbkd5nqfywwdhvwdtl5m0000gn/T/ipykernel_39579/220785227.py#42\u001b\\\u001b[1;36m42\u001b[0m\u001b]8;;\u001b\\\n",
      "\u001b[2;36m                    \u001b[0m\u001b[1;32m         \u001b[0mvisualization\u001b[33m...\u001b[0m                    \u001b[1;36m               \u001b[0m\n",
      "\u001b[2;36m                   \u001b[0m\u001b[2;36m \u001b[0m\u001b[1;34mINFO    \u001b[0m\u001b[1;32m \u001b[0m\u001b[1m[\u001b[0m\u001b[1;36m220785227.\u001b[0mpy:\u001b[1;36m42\u001b[0m\u001b[1m]\u001b[0m Creating heatmap  \u001b]8;id=430568;file:///var/folders/6f/f4k9qbkd5nqfywwdhvwdtl5m0000gn/T/ipykernel_39579/220785227.py\u001b\\\u001b[1;36m220785227.py\u001b[0m\u001b]8;;\u001b\\\u001b[1;36m:\u001b[0m\u001b]8;id=108450;file:///var/folders/6f/f4k9qbkd5nqfywwdhvwdtl5m0000gn/T/ipykernel_39579/220785227.py#42\u001b\\\u001b[1;36m42\u001b[0m\u001b]8;;\u001b\\\n",
      "\u001b[2;36m                    \u001b[0m\u001b[1;32m         \u001b[0mvisualization\u001b[33m...\u001b[0m                    \u001b[1;36m               \u001b[0m\n",
      "\u001b[2;36m                   \u001b[0m\u001b[2;36m \u001b[0m\u001b[1;34mINFO    \u001b[0m\u001b[1;32m \u001b[0m\u001b[1m[\u001b[0m\u001b[1;36m220785227.\u001b[0mpy:\u001b[1;36m42\u001b[0m\u001b[1m]\u001b[0m Creating heatmap  \u001b]8;id=700362;file:///var/folders/6f/f4k9qbkd5nqfywwdhvwdtl5m0000gn/T/ipykernel_39579/220785227.py\u001b\\\u001b[1;36m220785227.py\u001b[0m\u001b]8;;\u001b\\\u001b[1;36m:\u001b[0m\u001b]8;id=237853;file:///var/folders/6f/f4k9qbkd5nqfywwdhvwdtl5m0000gn/T/ipykernel_39579/220785227.py#42\u001b\\\u001b[1;36m42\u001b[0m\u001b]8;;\u001b\\\n",
      "\u001b[2;36m                    \u001b[0m\u001b[1;32m         \u001b[0mvisualization\u001b[33m...\u001b[0m                    \u001b[1;36m               \u001b[0m\n",
      "\u001b[2;36m                   \u001b[0m\u001b[2;36m \u001b[0m\u001b[1;34mINFO    \u001b[0m\u001b[1;32m \u001b[0m Saving HTML figure to            \u001b]8;id=160245;file:///Users/gat/work/FA2024/embedding_translation/src/viz/save_figure.py\u001b\\\u001b[1;36msave_figure.py\u001b[0m\u001b]8;;\u001b\\\u001b[1;36m:\u001b[0m\u001b]8;id=749861;file:///Users/gat/work/FA2024/embedding_translation/src/viz/save_figure.py#32\u001b\\\u001b[1;36m32\u001b[0m\u001b]8;;\u001b\\\n",
      "\u001b[2;36m                    \u001b[0m\u001b[1;32m         \u001b[0m\u001b[35m/Users/gat/work/FA2024/embedding_\u001b[0m \u001b[1;36m                 \u001b[0m\n",
      "\u001b[2;36m                    \u001b[0m\u001b[1;32m         \u001b[0m\u001b[35mtranslation/data/figs/html/\u001b[0m\u001b[95mfiqa_a\u001b[0m \u001b[1;36m                 \u001b[0m\n",
      "\u001b[2;36m                    \u001b[0m\u001b[1;32m         \u001b[0m\u001b[95mll_layers_mse_withlog_validation.\u001b[0m \u001b[1;36m                 \u001b[0m\n",
      "\u001b[2;36m                    \u001b[0m\u001b[1;32m         \u001b[0m\u001b[95mhtml\u001b[0m                              \u001b[1;36m                 \u001b[0m\n",
      "\u001b[2;36m[12/13/24 19:53:59]\u001b[0m\u001b[2;36m \u001b[0m\u001b[1;32mSUCCESS \u001b[0m\u001b[1;32m \u001b[0m Successfully saved HTML to       \u001b]8;id=974506;file:///Users/gat/work/FA2024/embedding_translation/src/viz/save_figure.py\u001b\\\u001b[1;36msave_figure.py\u001b[0m\u001b]8;;\u001b\\\u001b[1;36m:\u001b[0m\u001b]8;id=358688;file:///Users/gat/work/FA2024/embedding_translation/src/viz/save_figure.py#40\u001b\\\u001b[1;36m40\u001b[0m\u001b]8;;\u001b\\\n",
      "\u001b[2;36m                    \u001b[0m\u001b[1;32m         \u001b[0m\u001b[35m/Users/gat/work/FA2024/embedding_\u001b[0m \u001b[1;36m                 \u001b[0m\n",
      "\u001b[2;36m                    \u001b[0m\u001b[1;32m         \u001b[0m\u001b[35mtranslation/data/figs/html/\u001b[0m\u001b[95mfiqa_a\u001b[0m \u001b[1;36m                 \u001b[0m\n",
      "\u001b[2;36m                    \u001b[0m\u001b[1;32m         \u001b[0m\u001b[95mll_layers_mse_withlog_validation.\u001b[0m \u001b[1;36m                 \u001b[0m\n",
      "\u001b[2;36m                    \u001b[0m\u001b[1;32m         \u001b[0m\u001b[95mhtml\u001b[0m                              \u001b[1;36m                 \u001b[0m\n",
      "\u001b[2;36m                   \u001b[0m\u001b[2;36m \u001b[0m\u001b[1;34mINFO    \u001b[0m\u001b[1;32m \u001b[0m Saving PNG figure to             \u001b]8;id=329249;file:///Users/gat/work/FA2024/embedding_translation/src/viz/save_figure.py\u001b\\\u001b[1;36msave_figure.py\u001b[0m\u001b]8;;\u001b\\\u001b[1;36m:\u001b[0m\u001b]8;id=248809;file:///Users/gat/work/FA2024/embedding_translation/src/viz/save_figure.py#67\u001b\\\u001b[1;36m67\u001b[0m\u001b]8;;\u001b\\\n",
      "\u001b[2;36m                    \u001b[0m\u001b[1;32m         \u001b[0m\u001b[35m/Users/gat/work/FA2024/embedding_\u001b[0m \u001b[1;36m                 \u001b[0m\n",
      "\u001b[2;36m                    \u001b[0m\u001b[1;32m         \u001b[0m\u001b[35mtranslation/data/figs/imgs/\u001b[0m\u001b[95mfiqa_a\u001b[0m \u001b[1;36m                 \u001b[0m\n",
      "\u001b[2;36m                    \u001b[0m\u001b[1;32m         \u001b[0m\u001b[95mll_layers_mse_withlog_validation.\u001b[0m \u001b[1;36m                 \u001b[0m\n",
      "\u001b[2;36m                    \u001b[0m\u001b[1;32m         \u001b[0m\u001b[95mpng\u001b[0m                               \u001b[1;36m                 \u001b[0m\n",
      "\u001b[2;36m                   \u001b[0m\u001b[2;36m \u001b[0m\u001b[1;32mSUCCESS \u001b[0m\u001b[1;32m \u001b[0m Successfully saved PNG to        \u001b]8;id=188564;file:///Users/gat/work/FA2024/embedding_translation/src/viz/save_figure.py\u001b\\\u001b[1;36msave_figure.py\u001b[0m\u001b]8;;\u001b\\\u001b[1;36m:\u001b[0m\u001b]8;id=915546;file:///Users/gat/work/FA2024/embedding_translation/src/viz/save_figure.py#76\u001b\\\u001b[1;36m76\u001b[0m\u001b]8;;\u001b\\\n",
      "\u001b[2;36m                    \u001b[0m\u001b[1;32m         \u001b[0m\u001b[35m/Users/gat/work/FA2024/embedding_\u001b[0m \u001b[1;36m                 \u001b[0m\n",
      "\u001b[2;36m                    \u001b[0m\u001b[1;32m         \u001b[0m\u001b[35mtranslation/data/figs/imgs/\u001b[0m\u001b[95mfiqa_a\u001b[0m \u001b[1;36m                 \u001b[0m\n",
      "\u001b[2;36m                    \u001b[0m\u001b[1;32m         \u001b[0m\u001b[95mll_layers_mse_withlog_validation.\u001b[0m \u001b[1;36m                 \u001b[0m\n",
      "\u001b[2;36m                    \u001b[0m\u001b[1;32m         \u001b[0m\u001b[95mpng\u001b[0m                               \u001b[1;36m                 \u001b[0m\n",
      "\u001b[2;36m                   \u001b[0m\u001b[2;36m \u001b[0m\u001b[1;34mINFO    \u001b[0m\u001b[1;32m \u001b[0m Saving HTML figure to            \u001b]8;id=894332;file:///Users/gat/work/FA2024/embedding_translation/src/viz/save_figure.py\u001b\\\u001b[1;36msave_figure.py\u001b[0m\u001b]8;;\u001b\\\u001b[1;36m:\u001b[0m\u001b]8;id=546006;file:///Users/gat/work/FA2024/embedding_translation/src/viz/save_figure.py#32\u001b\\\u001b[1;36m32\u001b[0m\u001b]8;;\u001b\\\n",
      "\u001b[2;36m                    \u001b[0m\u001b[1;32m         \u001b[0m\u001b[35m/Users/gat/work/FA2024/embedding_\u001b[0m \u001b[1;36m                 \u001b[0m\n",
      "\u001b[2;36m                    \u001b[0m\u001b[1;32m         \u001b[0m\u001b[35mtranslation/src/blog/figs/html/\u001b[0m\u001b[95mfi\u001b[0m \u001b[1;36m                 \u001b[0m\n",
      "\u001b[2;36m                    \u001b[0m\u001b[1;32m         \u001b[0m\u001b[95mqa_all_layers_mse_withlog_validat\u001b[0m \u001b[1;36m                 \u001b[0m\n",
      "\u001b[2;36m                    \u001b[0m\u001b[1;32m         \u001b[0m\u001b[95mion.html\u001b[0m                          \u001b[1;36m                 \u001b[0m\n",
      "\u001b[2;36m                   \u001b[0m\u001b[2;36m \u001b[0m\u001b[1;32mSUCCESS \u001b[0m\u001b[1;32m \u001b[0m Successfully saved HTML to       \u001b]8;id=3891;file:///Users/gat/work/FA2024/embedding_translation/src/viz/save_figure.py\u001b\\\u001b[1;36msave_figure.py\u001b[0m\u001b]8;;\u001b\\\u001b[1;36m:\u001b[0m\u001b]8;id=426040;file:///Users/gat/work/FA2024/embedding_translation/src/viz/save_figure.py#40\u001b\\\u001b[1;36m40\u001b[0m\u001b]8;;\u001b\\\n",
      "\u001b[2;36m                    \u001b[0m\u001b[1;32m         \u001b[0m\u001b[35m/Users/gat/work/FA2024/embedding_\u001b[0m \u001b[1;36m                 \u001b[0m\n",
      "\u001b[2;36m                    \u001b[0m\u001b[1;32m         \u001b[0m\u001b[35mtranslation/src/blog/figs/html/\u001b[0m\u001b[95mfi\u001b[0m \u001b[1;36m                 \u001b[0m\n",
      "\u001b[2;36m                    \u001b[0m\u001b[1;32m         \u001b[0m\u001b[95mqa_all_layers_mse_withlog_validat\u001b[0m \u001b[1;36m                 \u001b[0m\n",
      "\u001b[2;36m                    \u001b[0m\u001b[1;32m         \u001b[0m\u001b[95mion.html\u001b[0m                          \u001b[1;36m                 \u001b[0m\n",
      "\u001b[2;36m                   \u001b[0m\u001b[2;36m \u001b[0m\u001b[1;34mINFO    \u001b[0m\u001b[1;32m \u001b[0m Saving PNG figure to             \u001b]8;id=443344;file:///Users/gat/work/FA2024/embedding_translation/src/viz/save_figure.py\u001b\\\u001b[1;36msave_figure.py\u001b[0m\u001b]8;;\u001b\\\u001b[1;36m:\u001b[0m\u001b]8;id=764431;file:///Users/gat/work/FA2024/embedding_translation/src/viz/save_figure.py#67\u001b\\\u001b[1;36m67\u001b[0m\u001b]8;;\u001b\\\n",
      "\u001b[2;36m                    \u001b[0m\u001b[1;32m         \u001b[0m\u001b[35m/Users/gat/work/FA2024/embedding_\u001b[0m \u001b[1;36m                 \u001b[0m\n",
      "\u001b[2;36m                    \u001b[0m\u001b[1;32m         \u001b[0m\u001b[35mtranslation/src/blog/figs/imgs/\u001b[0m\u001b[95mfi\u001b[0m \u001b[1;36m                 \u001b[0m\n",
      "\u001b[2;36m                    \u001b[0m\u001b[1;32m         \u001b[0m\u001b[95mqa_all_layers_mse_withlog_validat\u001b[0m \u001b[1;36m                 \u001b[0m\n",
      "\u001b[2;36m                    \u001b[0m\u001b[1;32m         \u001b[0m\u001b[95mion.png\u001b[0m                           \u001b[1;36m                 \u001b[0m\n",
      "\u001b[2;36m                   \u001b[0m\u001b[2;36m \u001b[0m\u001b[1;32mSUCCESS \u001b[0m\u001b[1;32m \u001b[0m Successfully saved PNG to        \u001b]8;id=897682;file:///Users/gat/work/FA2024/embedding_translation/src/viz/save_figure.py\u001b\\\u001b[1;36msave_figure.py\u001b[0m\u001b]8;;\u001b\\\u001b[1;36m:\u001b[0m\u001b]8;id=997229;file:///Users/gat/work/FA2024/embedding_translation/src/viz/save_figure.py#76\u001b\\\u001b[1;36m76\u001b[0m\u001b]8;;\u001b\\\n",
      "\u001b[2;36m                    \u001b[0m\u001b[1;32m         \u001b[0m\u001b[35m/Users/gat/work/FA2024/embedding_\u001b[0m \u001b[1;36m                 \u001b[0m\n",
      "\u001b[2;36m                    \u001b[0m\u001b[1;32m         \u001b[0m\u001b[35mtranslation/src/blog/figs/imgs/\u001b[0m\u001b[95mfi\u001b[0m \u001b[1;36m                 \u001b[0m\n",
      "\u001b[2;36m                    \u001b[0m\u001b[1;32m         \u001b[0m\u001b[95mqa_all_layers_mse_withlog_validat\u001b[0m \u001b[1;36m                 \u001b[0m\n",
      "\u001b[2;36m                    \u001b[0m\u001b[1;32m         \u001b[0m\u001b[95mion.png\u001b[0m                           \u001b[1;36m                 \u001b[0m\n",
      "\u001b[2;36m                   \u001b[0m\u001b[2;36m \u001b[0m\u001b[1;34mINFO    \u001b[0m\u001b[1;32m \u001b[0m\u001b[1m[\u001b[0m\u001b[1;36m220785227.\u001b[0mpy:\u001b[1;36m42\u001b[0m\u001b[1m]\u001b[0m Creating heatmap  \u001b]8;id=824478;file:///var/folders/6f/f4k9qbkd5nqfywwdhvwdtl5m0000gn/T/ipykernel_39579/220785227.py\u001b\\\u001b[1;36m220785227.py\u001b[0m\u001b]8;;\u001b\\\u001b[1;36m:\u001b[0m\u001b]8;id=274094;file:///var/folders/6f/f4k9qbkd5nqfywwdhvwdtl5m0000gn/T/ipykernel_39579/220785227.py#42\u001b\\\u001b[1;36m42\u001b[0m\u001b]8;;\u001b\\\n",
      "\u001b[2;36m                    \u001b[0m\u001b[1;32m         \u001b[0mvisualization\u001b[33m...\u001b[0m                    \u001b[1;36m               \u001b[0m\n",
      "\u001b[2;36m                   \u001b[0m\u001b[2;36m \u001b[0m\u001b[1;34mINFO    \u001b[0m\u001b[1;32m \u001b[0m\u001b[1m[\u001b[0m\u001b[1;36m220785227.\u001b[0mpy:\u001b[1;36m42\u001b[0m\u001b[1m]\u001b[0m Creating heatmap  \u001b]8;id=651987;file:///var/folders/6f/f4k9qbkd5nqfywwdhvwdtl5m0000gn/T/ipykernel_39579/220785227.py\u001b\\\u001b[1;36m220785227.py\u001b[0m\u001b]8;;\u001b\\\u001b[1;36m:\u001b[0m\u001b]8;id=751855;file:///var/folders/6f/f4k9qbkd5nqfywwdhvwdtl5m0000gn/T/ipykernel_39579/220785227.py#42\u001b\\\u001b[1;36m42\u001b[0m\u001b]8;;\u001b\\\n",
      "\u001b[2;36m                    \u001b[0m\u001b[1;32m         \u001b[0mvisualization\u001b[33m...\u001b[0m                    \u001b[1;36m               \u001b[0m\n",
      "\u001b[2;36m                   \u001b[0m\u001b[2;36m \u001b[0m\u001b[1;34mINFO    \u001b[0m\u001b[1;32m \u001b[0m\u001b[1m[\u001b[0m\u001b[1;36m220785227.\u001b[0mpy:\u001b[1;36m42\u001b[0m\u001b[1m]\u001b[0m Creating heatmap  \u001b]8;id=883155;file:///var/folders/6f/f4k9qbkd5nqfywwdhvwdtl5m0000gn/T/ipykernel_39579/220785227.py\u001b\\\u001b[1;36m220785227.py\u001b[0m\u001b]8;;\u001b\\\u001b[1;36m:\u001b[0m\u001b]8;id=67916;file:///var/folders/6f/f4k9qbkd5nqfywwdhvwdtl5m0000gn/T/ipykernel_39579/220785227.py#42\u001b\\\u001b[1;36m42\u001b[0m\u001b]8;;\u001b\\\n",
      "\u001b[2;36m                    \u001b[0m\u001b[1;32m         \u001b[0mvisualization\u001b[33m...\u001b[0m                    \u001b[1;36m               \u001b[0m\n",
      "\u001b[2;36m                   \u001b[0m\u001b[2;36m \u001b[0m\u001b[1;34mINFO    \u001b[0m\u001b[1;32m \u001b[0m\u001b[1m[\u001b[0m\u001b[1;36m220785227.\u001b[0mpy:\u001b[1;36m42\u001b[0m\u001b[1m]\u001b[0m Creating heatmap  \u001b]8;id=990328;file:///var/folders/6f/f4k9qbkd5nqfywwdhvwdtl5m0000gn/T/ipykernel_39579/220785227.py\u001b\\\u001b[1;36m220785227.py\u001b[0m\u001b]8;;\u001b\\\u001b[1;36m:\u001b[0m\u001b]8;id=180774;file:///var/folders/6f/f4k9qbkd5nqfywwdhvwdtl5m0000gn/T/ipykernel_39579/220785227.py#42\u001b\\\u001b[1;36m42\u001b[0m\u001b]8;;\u001b\\\n",
      "\u001b[2;36m                    \u001b[0m\u001b[1;32m         \u001b[0mvisualization\u001b[33m...\u001b[0m                    \u001b[1;36m               \u001b[0m\n",
      "\u001b[2;36m                   \u001b[0m\u001b[2;36m \u001b[0m\u001b[1;34mINFO    \u001b[0m\u001b[1;32m \u001b[0m\u001b[1m[\u001b[0m\u001b[1;36m220785227.\u001b[0mpy:\u001b[1;36m42\u001b[0m\u001b[1m]\u001b[0m Creating heatmap  \u001b]8;id=797497;file:///var/folders/6f/f4k9qbkd5nqfywwdhvwdtl5m0000gn/T/ipykernel_39579/220785227.py\u001b\\\u001b[1;36m220785227.py\u001b[0m\u001b]8;;\u001b\\\u001b[1;36m:\u001b[0m\u001b]8;id=771645;file:///var/folders/6f/f4k9qbkd5nqfywwdhvwdtl5m0000gn/T/ipykernel_39579/220785227.py#42\u001b\\\u001b[1;36m42\u001b[0m\u001b]8;;\u001b\\\n",
      "\u001b[2;36m                    \u001b[0m\u001b[1;32m         \u001b[0mvisualization\u001b[33m...\u001b[0m                    \u001b[1;36m               \u001b[0m\n",
      "\u001b[2;36m                   \u001b[0m\u001b[2;36m \u001b[0m\u001b[1;34mINFO    \u001b[0m\u001b[1;32m \u001b[0m\u001b[1m[\u001b[0m\u001b[1;36m220785227.\u001b[0mpy:\u001b[1;36m42\u001b[0m\u001b[1m]\u001b[0m Creating heatmap  \u001b]8;id=307096;file:///var/folders/6f/f4k9qbkd5nqfywwdhvwdtl5m0000gn/T/ipykernel_39579/220785227.py\u001b\\\u001b[1;36m220785227.py\u001b[0m\u001b]8;;\u001b\\\u001b[1;36m:\u001b[0m\u001b]8;id=52546;file:///var/folders/6f/f4k9qbkd5nqfywwdhvwdtl5m0000gn/T/ipykernel_39579/220785227.py#42\u001b\\\u001b[1;36m42\u001b[0m\u001b]8;;\u001b\\\n",
      "\u001b[2;36m                    \u001b[0m\u001b[1;32m         \u001b[0mvisualization\u001b[33m...\u001b[0m                    \u001b[1;36m               \u001b[0m\n",
      "\u001b[2;36m                   \u001b[0m\u001b[2;36m \u001b[0m\u001b[1;34mINFO    \u001b[0m\u001b[1;32m \u001b[0m\u001b[1m[\u001b[0m\u001b[1;36m220785227.\u001b[0mpy:\u001b[1;36m42\u001b[0m\u001b[1m]\u001b[0m Creating heatmap  \u001b]8;id=258209;file:///var/folders/6f/f4k9qbkd5nqfywwdhvwdtl5m0000gn/T/ipykernel_39579/220785227.py\u001b\\\u001b[1;36m220785227.py\u001b[0m\u001b]8;;\u001b\\\u001b[1;36m:\u001b[0m\u001b]8;id=245063;file:///var/folders/6f/f4k9qbkd5nqfywwdhvwdtl5m0000gn/T/ipykernel_39579/220785227.py#42\u001b\\\u001b[1;36m42\u001b[0m\u001b]8;;\u001b\\\n",
      "\u001b[2;36m                    \u001b[0m\u001b[1;32m         \u001b[0mvisualization\u001b[33m...\u001b[0m                    \u001b[1;36m               \u001b[0m\n",
      "\u001b[2;36m                   \u001b[0m\u001b[2;36m \u001b[0m\u001b[1;34mINFO    \u001b[0m\u001b[1;32m \u001b[0m Saving HTML figure to            \u001b]8;id=568393;file:///Users/gat/work/FA2024/embedding_translation/src/viz/save_figure.py\u001b\\\u001b[1;36msave_figure.py\u001b[0m\u001b]8;;\u001b\\\u001b[1;36m:\u001b[0m\u001b]8;id=986497;file:///Users/gat/work/FA2024/embedding_translation/src/viz/save_figure.py#32\u001b\\\u001b[1;36m32\u001b[0m\u001b]8;;\u001b\\\n",
      "\u001b[2;36m                    \u001b[0m\u001b[1;32m         \u001b[0m\u001b[35m/Users/gat/work/FA2024/embedding_\u001b[0m \u001b[1;36m                 \u001b[0m\n",
      "\u001b[2;36m                    \u001b[0m\u001b[1;32m         \u001b[0m\u001b[35mtranslation/data/figs/html/\u001b[0m\u001b[95mscidoc\u001b[0m \u001b[1;36m                 \u001b[0m\n",
      "\u001b[2;36m                    \u001b[0m\u001b[1;32m         \u001b[0m\u001b[95ms_all_layers_mse_withlog_validati\u001b[0m \u001b[1;36m                 \u001b[0m\n",
      "\u001b[2;36m                    \u001b[0m\u001b[1;32m         \u001b[0m\u001b[95mon.html\u001b[0m                           \u001b[1;36m                 \u001b[0m\n",
      "\u001b[2;36m                   \u001b[0m\u001b[2;36m \u001b[0m\u001b[1;32mSUCCESS \u001b[0m\u001b[1;32m \u001b[0m Successfully saved HTML to       \u001b]8;id=837606;file:///Users/gat/work/FA2024/embedding_translation/src/viz/save_figure.py\u001b\\\u001b[1;36msave_figure.py\u001b[0m\u001b]8;;\u001b\\\u001b[1;36m:\u001b[0m\u001b]8;id=649073;file:///Users/gat/work/FA2024/embedding_translation/src/viz/save_figure.py#40\u001b\\\u001b[1;36m40\u001b[0m\u001b]8;;\u001b\\\n",
      "\u001b[2;36m                    \u001b[0m\u001b[1;32m         \u001b[0m\u001b[35m/Users/gat/work/FA2024/embedding_\u001b[0m \u001b[1;36m                 \u001b[0m\n",
      "\u001b[2;36m                    \u001b[0m\u001b[1;32m         \u001b[0m\u001b[35mtranslation/data/figs/html/\u001b[0m\u001b[95mscidoc\u001b[0m \u001b[1;36m                 \u001b[0m\n",
      "\u001b[2;36m                    \u001b[0m\u001b[1;32m         \u001b[0m\u001b[95ms_all_layers_mse_withlog_validati\u001b[0m \u001b[1;36m                 \u001b[0m\n",
      "\u001b[2;36m                    \u001b[0m\u001b[1;32m         \u001b[0m\u001b[95mon.html\u001b[0m                           \u001b[1;36m                 \u001b[0m\n",
      "\u001b[2;36m                   \u001b[0m\u001b[2;36m \u001b[0m\u001b[1;34mINFO    \u001b[0m\u001b[1;32m \u001b[0m Saving PNG figure to             \u001b]8;id=344731;file:///Users/gat/work/FA2024/embedding_translation/src/viz/save_figure.py\u001b\\\u001b[1;36msave_figure.py\u001b[0m\u001b]8;;\u001b\\\u001b[1;36m:\u001b[0m\u001b]8;id=259475;file:///Users/gat/work/FA2024/embedding_translation/src/viz/save_figure.py#67\u001b\\\u001b[1;36m67\u001b[0m\u001b]8;;\u001b\\\n",
      "\u001b[2;36m                    \u001b[0m\u001b[1;32m         \u001b[0m\u001b[35m/Users/gat/work/FA2024/embedding_\u001b[0m \u001b[1;36m                 \u001b[0m\n",
      "\u001b[2;36m                    \u001b[0m\u001b[1;32m         \u001b[0m\u001b[35mtranslation/data/figs/imgs/\u001b[0m\u001b[95mscidoc\u001b[0m \u001b[1;36m                 \u001b[0m\n",
      "\u001b[2;36m                    \u001b[0m\u001b[1;32m         \u001b[0m\u001b[95ms_all_layers_mse_withlog_validati\u001b[0m \u001b[1;36m                 \u001b[0m\n",
      "\u001b[2;36m                    \u001b[0m\u001b[1;32m         \u001b[0m\u001b[95mon.png\u001b[0m                            \u001b[1;36m                 \u001b[0m\n",
      "\u001b[2;36m                   \u001b[0m\u001b[2;36m \u001b[0m\u001b[1;32mSUCCESS \u001b[0m\u001b[1;32m \u001b[0m Successfully saved PNG to        \u001b]8;id=257530;file:///Users/gat/work/FA2024/embedding_translation/src/viz/save_figure.py\u001b\\\u001b[1;36msave_figure.py\u001b[0m\u001b]8;;\u001b\\\u001b[1;36m:\u001b[0m\u001b]8;id=368695;file:///Users/gat/work/FA2024/embedding_translation/src/viz/save_figure.py#76\u001b\\\u001b[1;36m76\u001b[0m\u001b]8;;\u001b\\\n",
      "\u001b[2;36m                    \u001b[0m\u001b[1;32m         \u001b[0m\u001b[35m/Users/gat/work/FA2024/embedding_\u001b[0m \u001b[1;36m                 \u001b[0m\n",
      "\u001b[2;36m                    \u001b[0m\u001b[1;32m         \u001b[0m\u001b[35mtranslation/data/figs/imgs/\u001b[0m\u001b[95mscidoc\u001b[0m \u001b[1;36m                 \u001b[0m\n",
      "\u001b[2;36m                    \u001b[0m\u001b[1;32m         \u001b[0m\u001b[95ms_all_layers_mse_withlog_validati\u001b[0m \u001b[1;36m                 \u001b[0m\n",
      "\u001b[2;36m                    \u001b[0m\u001b[1;32m         \u001b[0m\u001b[95mon.png\u001b[0m                            \u001b[1;36m                 \u001b[0m\n",
      "\u001b[2;36m                   \u001b[0m\u001b[2;36m \u001b[0m\u001b[1;34mINFO    \u001b[0m\u001b[1;32m \u001b[0m Saving HTML figure to            \u001b]8;id=695103;file:///Users/gat/work/FA2024/embedding_translation/src/viz/save_figure.py\u001b\\\u001b[1;36msave_figure.py\u001b[0m\u001b]8;;\u001b\\\u001b[1;36m:\u001b[0m\u001b]8;id=386648;file:///Users/gat/work/FA2024/embedding_translation/src/viz/save_figure.py#32\u001b\\\u001b[1;36m32\u001b[0m\u001b]8;;\u001b\\\n",
      "\u001b[2;36m                    \u001b[0m\u001b[1;32m         \u001b[0m\u001b[35m/Users/gat/work/FA2024/embedding_\u001b[0m \u001b[1;36m                 \u001b[0m\n",
      "\u001b[2;36m                    \u001b[0m\u001b[1;32m         \u001b[0m\u001b[35mtranslation/src/blog/figs/html/\u001b[0m\u001b[95msc\u001b[0m \u001b[1;36m                 \u001b[0m\n",
      "\u001b[2;36m                    \u001b[0m\u001b[1;32m         \u001b[0m\u001b[95midocs_all_layers_mse_withlog_vali\u001b[0m \u001b[1;36m                 \u001b[0m\n",
      "\u001b[2;36m                    \u001b[0m\u001b[1;32m         \u001b[0m\u001b[95mdation.html\u001b[0m                       \u001b[1;36m                 \u001b[0m\n",
      "\u001b[2;36m                   \u001b[0m\u001b[2;36m \u001b[0m\u001b[1;32mSUCCESS \u001b[0m\u001b[1;32m \u001b[0m Successfully saved HTML to       \u001b]8;id=344629;file:///Users/gat/work/FA2024/embedding_translation/src/viz/save_figure.py\u001b\\\u001b[1;36msave_figure.py\u001b[0m\u001b]8;;\u001b\\\u001b[1;36m:\u001b[0m\u001b]8;id=166022;file:///Users/gat/work/FA2024/embedding_translation/src/viz/save_figure.py#40\u001b\\\u001b[1;36m40\u001b[0m\u001b]8;;\u001b\\\n",
      "\u001b[2;36m                    \u001b[0m\u001b[1;32m         \u001b[0m\u001b[35m/Users/gat/work/FA2024/embedding_\u001b[0m \u001b[1;36m                 \u001b[0m\n",
      "\u001b[2;36m                    \u001b[0m\u001b[1;32m         \u001b[0m\u001b[35mtranslation/src/blog/figs/html/\u001b[0m\u001b[95msc\u001b[0m \u001b[1;36m                 \u001b[0m\n",
      "\u001b[2;36m                    \u001b[0m\u001b[1;32m         \u001b[0m\u001b[95midocs_all_layers_mse_withlog_vali\u001b[0m \u001b[1;36m                 \u001b[0m\n",
      "\u001b[2;36m                    \u001b[0m\u001b[1;32m         \u001b[0m\u001b[95mdation.html\u001b[0m                       \u001b[1;36m                 \u001b[0m\n",
      "\u001b[2;36m                   \u001b[0m\u001b[2;36m \u001b[0m\u001b[1;34mINFO    \u001b[0m\u001b[1;32m \u001b[0m Saving PNG figure to             \u001b]8;id=18202;file:///Users/gat/work/FA2024/embedding_translation/src/viz/save_figure.py\u001b\\\u001b[1;36msave_figure.py\u001b[0m\u001b]8;;\u001b\\\u001b[1;36m:\u001b[0m\u001b]8;id=711705;file:///Users/gat/work/FA2024/embedding_translation/src/viz/save_figure.py#67\u001b\\\u001b[1;36m67\u001b[0m\u001b]8;;\u001b\\\n",
      "\u001b[2;36m                    \u001b[0m\u001b[1;32m         \u001b[0m\u001b[35m/Users/gat/work/FA2024/embedding_\u001b[0m \u001b[1;36m                 \u001b[0m\n",
      "\u001b[2;36m                    \u001b[0m\u001b[1;32m         \u001b[0m\u001b[35mtranslation/src/blog/figs/imgs/\u001b[0m\u001b[95msc\u001b[0m \u001b[1;36m                 \u001b[0m\n",
      "\u001b[2;36m                    \u001b[0m\u001b[1;32m         \u001b[0m\u001b[95midocs_all_layers_mse_withlog_vali\u001b[0m \u001b[1;36m                 \u001b[0m\n",
      "\u001b[2;36m                    \u001b[0m\u001b[1;32m         \u001b[0m\u001b[95mdation.png\u001b[0m                        \u001b[1;36m                 \u001b[0m\n",
      "\u001b[2;36m                   \u001b[0m\u001b[2;36m \u001b[0m\u001b[1;32mSUCCESS \u001b[0m\u001b[1;32m \u001b[0m Successfully saved PNG to        \u001b]8;id=805442;file:///Users/gat/work/FA2024/embedding_translation/src/viz/save_figure.py\u001b\\\u001b[1;36msave_figure.py\u001b[0m\u001b]8;;\u001b\\\u001b[1;36m:\u001b[0m\u001b]8;id=674771;file:///Users/gat/work/FA2024/embedding_translation/src/viz/save_figure.py#76\u001b\\\u001b[1;36m76\u001b[0m\u001b]8;;\u001b\\\n",
      "\u001b[2;36m                    \u001b[0m\u001b[1;32m         \u001b[0m\u001b[35m/Users/gat/work/FA2024/embedding_\u001b[0m \u001b[1;36m                 \u001b[0m\n",
      "\u001b[2;36m                    \u001b[0m\u001b[1;32m         \u001b[0m\u001b[35mtranslation/src/blog/figs/imgs/\u001b[0m\u001b[95msc\u001b[0m \u001b[1;36m                 \u001b[0m\n",
      "\u001b[2;36m                    \u001b[0m\u001b[1;32m         \u001b[0m\u001b[95midocs_all_layers_mse_withlog_vali\u001b[0m \u001b[1;36m                 \u001b[0m\n",
      "\u001b[2;36m                    \u001b[0m\u001b[1;32m         \u001b[0m\u001b[95mdation.png\u001b[0m                        \u001b[1;36m                 \u001b[0m\n",
      "\u001b[2;36m                   \u001b[0m\u001b[2;36m \u001b[0m\u001b[1;34mINFO    \u001b[0m\u001b[1;32m \u001b[0m\u001b[1m[\u001b[0m\u001b[1;36m220785227.\u001b[0mpy:\u001b[1;36m42\u001b[0m\u001b[1m]\u001b[0m Creating heatmap  \u001b]8;id=942751;file:///var/folders/6f/f4k9qbkd5nqfywwdhvwdtl5m0000gn/T/ipykernel_39579/220785227.py\u001b\\\u001b[1;36m220785227.py\u001b[0m\u001b]8;;\u001b\\\u001b[1;36m:\u001b[0m\u001b]8;id=926793;file:///var/folders/6f/f4k9qbkd5nqfywwdhvwdtl5m0000gn/T/ipykernel_39579/220785227.py#42\u001b\\\u001b[1;36m42\u001b[0m\u001b]8;;\u001b\\\n",
      "\u001b[2;36m                    \u001b[0m\u001b[1;32m         \u001b[0mvisualization\u001b[33m...\u001b[0m                    \u001b[1;36m               \u001b[0m\n",
      "\u001b[2;36m                   \u001b[0m\u001b[2;36m \u001b[0m\u001b[1;34mINFO    \u001b[0m\u001b[1;32m \u001b[0m\u001b[1m[\u001b[0m\u001b[1;36m220785227.\u001b[0mpy:\u001b[1;36m42\u001b[0m\u001b[1m]\u001b[0m Creating heatmap  \u001b]8;id=739004;file:///var/folders/6f/f4k9qbkd5nqfywwdhvwdtl5m0000gn/T/ipykernel_39579/220785227.py\u001b\\\u001b[1;36m220785227.py\u001b[0m\u001b]8;;\u001b\\\u001b[1;36m:\u001b[0m\u001b]8;id=925922;file:///var/folders/6f/f4k9qbkd5nqfywwdhvwdtl5m0000gn/T/ipykernel_39579/220785227.py#42\u001b\\\u001b[1;36m42\u001b[0m\u001b]8;;\u001b\\\n",
      "\u001b[2;36m                    \u001b[0m\u001b[1;32m         \u001b[0mvisualization\u001b[33m...\u001b[0m                    \u001b[1;36m               \u001b[0m\n",
      "\u001b[2;36m                   \u001b[0m\u001b[2;36m \u001b[0m\u001b[1;34mINFO    \u001b[0m\u001b[1;32m \u001b[0m\u001b[1m[\u001b[0m\u001b[1;36m220785227.\u001b[0mpy:\u001b[1;36m42\u001b[0m\u001b[1m]\u001b[0m Creating heatmap  \u001b]8;id=867176;file:///var/folders/6f/f4k9qbkd5nqfywwdhvwdtl5m0000gn/T/ipykernel_39579/220785227.py\u001b\\\u001b[1;36m220785227.py\u001b[0m\u001b]8;;\u001b\\\u001b[1;36m:\u001b[0m\u001b]8;id=268755;file:///var/folders/6f/f4k9qbkd5nqfywwdhvwdtl5m0000gn/T/ipykernel_39579/220785227.py#42\u001b\\\u001b[1;36m42\u001b[0m\u001b]8;;\u001b\\\n",
      "\u001b[2;36m                    \u001b[0m\u001b[1;32m         \u001b[0mvisualization\u001b[33m...\u001b[0m                    \u001b[1;36m               \u001b[0m\n",
      "\u001b[2;36m                   \u001b[0m\u001b[2;36m \u001b[0m\u001b[1;34mINFO    \u001b[0m\u001b[1;32m \u001b[0m\u001b[1m[\u001b[0m\u001b[1;36m220785227.\u001b[0mpy:\u001b[1;36m42\u001b[0m\u001b[1m]\u001b[0m Creating heatmap  \u001b]8;id=847473;file:///var/folders/6f/f4k9qbkd5nqfywwdhvwdtl5m0000gn/T/ipykernel_39579/220785227.py\u001b\\\u001b[1;36m220785227.py\u001b[0m\u001b]8;;\u001b\\\u001b[1;36m:\u001b[0m\u001b]8;id=551214;file:///var/folders/6f/f4k9qbkd5nqfywwdhvwdtl5m0000gn/T/ipykernel_39579/220785227.py#42\u001b\\\u001b[1;36m42\u001b[0m\u001b]8;;\u001b\\\n",
      "\u001b[2;36m                    \u001b[0m\u001b[1;32m         \u001b[0mvisualization\u001b[33m...\u001b[0m                    \u001b[1;36m               \u001b[0m\n",
      "\u001b[2;36m                   \u001b[0m\u001b[2;36m \u001b[0m\u001b[1;34mINFO    \u001b[0m\u001b[1;32m \u001b[0m\u001b[1m[\u001b[0m\u001b[1;36m220785227.\u001b[0mpy:\u001b[1;36m42\u001b[0m\u001b[1m]\u001b[0m Creating heatmap  \u001b]8;id=706286;file:///var/folders/6f/f4k9qbkd5nqfywwdhvwdtl5m0000gn/T/ipykernel_39579/220785227.py\u001b\\\u001b[1;36m220785227.py\u001b[0m\u001b]8;;\u001b\\\u001b[1;36m:\u001b[0m\u001b]8;id=94297;file:///var/folders/6f/f4k9qbkd5nqfywwdhvwdtl5m0000gn/T/ipykernel_39579/220785227.py#42\u001b\\\u001b[1;36m42\u001b[0m\u001b]8;;\u001b\\\n",
      "\u001b[2;36m                    \u001b[0m\u001b[1;32m         \u001b[0mvisualization\u001b[33m...\u001b[0m                    \u001b[1;36m               \u001b[0m\n",
      "\u001b[2;36m                   \u001b[0m\u001b[2;36m \u001b[0m\u001b[1;34mINFO    \u001b[0m\u001b[1;32m \u001b[0m\u001b[1m[\u001b[0m\u001b[1;36m220785227.\u001b[0mpy:\u001b[1;36m42\u001b[0m\u001b[1m]\u001b[0m Creating heatmap  \u001b]8;id=723533;file:///var/folders/6f/f4k9qbkd5nqfywwdhvwdtl5m0000gn/T/ipykernel_39579/220785227.py\u001b\\\u001b[1;36m220785227.py\u001b[0m\u001b]8;;\u001b\\\u001b[1;36m:\u001b[0m\u001b]8;id=474560;file:///var/folders/6f/f4k9qbkd5nqfywwdhvwdtl5m0000gn/T/ipykernel_39579/220785227.py#42\u001b\\\u001b[1;36m42\u001b[0m\u001b]8;;\u001b\\\n",
      "\u001b[2;36m                    \u001b[0m\u001b[1;32m         \u001b[0mvisualization\u001b[33m...\u001b[0m                    \u001b[1;36m               \u001b[0m\n",
      "\u001b[2;36m                   \u001b[0m\u001b[2;36m \u001b[0m\u001b[1;34mINFO    \u001b[0m\u001b[1;32m \u001b[0m\u001b[1m[\u001b[0m\u001b[1;36m220785227.\u001b[0mpy:\u001b[1;36m42\u001b[0m\u001b[1m]\u001b[0m Creating heatmap  \u001b]8;id=917621;file:///var/folders/6f/f4k9qbkd5nqfywwdhvwdtl5m0000gn/T/ipykernel_39579/220785227.py\u001b\\\u001b[1;36m220785227.py\u001b[0m\u001b]8;;\u001b\\\u001b[1;36m:\u001b[0m\u001b]8;id=916770;file:///var/folders/6f/f4k9qbkd5nqfywwdhvwdtl5m0000gn/T/ipykernel_39579/220785227.py#42\u001b\\\u001b[1;36m42\u001b[0m\u001b]8;;\u001b\\\n",
      "\u001b[2;36m                    \u001b[0m\u001b[1;32m         \u001b[0mvisualization\u001b[33m...\u001b[0m                    \u001b[1;36m               \u001b[0m\n",
      "\u001b[2;36m                   \u001b[0m\u001b[2;36m \u001b[0m\u001b[1;34mINFO    \u001b[0m\u001b[1;32m \u001b[0m Saving HTML figure to            \u001b]8;id=3299;file:///Users/gat/work/FA2024/embedding_translation/src/viz/save_figure.py\u001b\\\u001b[1;36msave_figure.py\u001b[0m\u001b]8;;\u001b\\\u001b[1;36m:\u001b[0m\u001b]8;id=922420;file:///Users/gat/work/FA2024/embedding_translation/src/viz/save_figure.py#32\u001b\\\u001b[1;36m32\u001b[0m\u001b]8;;\u001b\\\n",
      "\u001b[2;36m                    \u001b[0m\u001b[1;32m         \u001b[0m\u001b[35m/Users/gat/work/FA2024/embedding_\u001b[0m \u001b[1;36m                 \u001b[0m\n",
      "\u001b[2;36m                    \u001b[0m\u001b[1;32m         \u001b[0m\u001b[35mtranslation/data/figs/html/\u001b[0m\u001b[95mnfcorp\u001b[0m \u001b[1;36m                 \u001b[0m\n",
      "\u001b[2;36m                    \u001b[0m\u001b[1;32m         \u001b[0m\u001b[95mus_all_layers_mse_withlog_validat\u001b[0m \u001b[1;36m                 \u001b[0m\n",
      "\u001b[2;36m                    \u001b[0m\u001b[1;32m         \u001b[0m\u001b[95mion.html\u001b[0m                          \u001b[1;36m                 \u001b[0m\n",
      "\u001b[2;36m                   \u001b[0m\u001b[2;36m \u001b[0m\u001b[1;32mSUCCESS \u001b[0m\u001b[1;32m \u001b[0m Successfully saved HTML to       \u001b]8;id=262781;file:///Users/gat/work/FA2024/embedding_translation/src/viz/save_figure.py\u001b\\\u001b[1;36msave_figure.py\u001b[0m\u001b]8;;\u001b\\\u001b[1;36m:\u001b[0m\u001b]8;id=645601;file:///Users/gat/work/FA2024/embedding_translation/src/viz/save_figure.py#40\u001b\\\u001b[1;36m40\u001b[0m\u001b]8;;\u001b\\\n",
      "\u001b[2;36m                    \u001b[0m\u001b[1;32m         \u001b[0m\u001b[35m/Users/gat/work/FA2024/embedding_\u001b[0m \u001b[1;36m                 \u001b[0m\n",
      "\u001b[2;36m                    \u001b[0m\u001b[1;32m         \u001b[0m\u001b[35mtranslation/data/figs/html/\u001b[0m\u001b[95mnfcorp\u001b[0m \u001b[1;36m                 \u001b[0m\n",
      "\u001b[2;36m                    \u001b[0m\u001b[1;32m         \u001b[0m\u001b[95mus_all_layers_mse_withlog_validat\u001b[0m \u001b[1;36m                 \u001b[0m\n",
      "\u001b[2;36m                    \u001b[0m\u001b[1;32m         \u001b[0m\u001b[95mion.html\u001b[0m                          \u001b[1;36m                 \u001b[0m\n",
      "\u001b[2;36m                   \u001b[0m\u001b[2;36m \u001b[0m\u001b[1;34mINFO    \u001b[0m\u001b[1;32m \u001b[0m Saving PNG figure to             \u001b]8;id=413576;file:///Users/gat/work/FA2024/embedding_translation/src/viz/save_figure.py\u001b\\\u001b[1;36msave_figure.py\u001b[0m\u001b]8;;\u001b\\\u001b[1;36m:\u001b[0m\u001b]8;id=633804;file:///Users/gat/work/FA2024/embedding_translation/src/viz/save_figure.py#67\u001b\\\u001b[1;36m67\u001b[0m\u001b]8;;\u001b\\\n",
      "\u001b[2;36m                    \u001b[0m\u001b[1;32m         \u001b[0m\u001b[35m/Users/gat/work/FA2024/embedding_\u001b[0m \u001b[1;36m                 \u001b[0m\n",
      "\u001b[2;36m                    \u001b[0m\u001b[1;32m         \u001b[0m\u001b[35mtranslation/data/figs/imgs/\u001b[0m\u001b[95mnfcorp\u001b[0m \u001b[1;36m                 \u001b[0m\n",
      "\u001b[2;36m                    \u001b[0m\u001b[1;32m         \u001b[0m\u001b[95mus_all_layers_mse_withlog_validat\u001b[0m \u001b[1;36m                 \u001b[0m\n",
      "\u001b[2;36m                    \u001b[0m\u001b[1;32m         \u001b[0m\u001b[95mion.png\u001b[0m                           \u001b[1;36m                 \u001b[0m\n",
      "\u001b[2;36m[12/13/24 19:54:00]\u001b[0m\u001b[2;36m \u001b[0m\u001b[1;32mSUCCESS \u001b[0m\u001b[1;32m \u001b[0m Successfully saved PNG to        \u001b]8;id=95768;file:///Users/gat/work/FA2024/embedding_translation/src/viz/save_figure.py\u001b\\\u001b[1;36msave_figure.py\u001b[0m\u001b]8;;\u001b\\\u001b[1;36m:\u001b[0m\u001b]8;id=572545;file:///Users/gat/work/FA2024/embedding_translation/src/viz/save_figure.py#76\u001b\\\u001b[1;36m76\u001b[0m\u001b]8;;\u001b\\\n",
      "\u001b[2;36m                    \u001b[0m\u001b[1;32m         \u001b[0m\u001b[35m/Users/gat/work/FA2024/embedding_\u001b[0m \u001b[1;36m                 \u001b[0m\n",
      "\u001b[2;36m                    \u001b[0m\u001b[1;32m         \u001b[0m\u001b[35mtranslation/data/figs/imgs/\u001b[0m\u001b[95mnfcorp\u001b[0m \u001b[1;36m                 \u001b[0m\n",
      "\u001b[2;36m                    \u001b[0m\u001b[1;32m         \u001b[0m\u001b[95mus_all_layers_mse_withlog_validat\u001b[0m \u001b[1;36m                 \u001b[0m\n",
      "\u001b[2;36m                    \u001b[0m\u001b[1;32m         \u001b[0m\u001b[95mion.png\u001b[0m                           \u001b[1;36m                 \u001b[0m\n",
      "\u001b[2;36m                   \u001b[0m\u001b[2;36m \u001b[0m\u001b[1;34mINFO    \u001b[0m\u001b[1;32m \u001b[0m Saving HTML figure to            \u001b]8;id=66952;file:///Users/gat/work/FA2024/embedding_translation/src/viz/save_figure.py\u001b\\\u001b[1;36msave_figure.py\u001b[0m\u001b]8;;\u001b\\\u001b[1;36m:\u001b[0m\u001b]8;id=40013;file:///Users/gat/work/FA2024/embedding_translation/src/viz/save_figure.py#32\u001b\\\u001b[1;36m32\u001b[0m\u001b]8;;\u001b\\\n",
      "\u001b[2;36m                    \u001b[0m\u001b[1;32m         \u001b[0m\u001b[35m/Users/gat/work/FA2024/embedding_\u001b[0m \u001b[1;36m                 \u001b[0m\n",
      "\u001b[2;36m                    \u001b[0m\u001b[1;32m         \u001b[0m\u001b[35mtranslation/src/blog/figs/html/\u001b[0m\u001b[95mnf\u001b[0m \u001b[1;36m                 \u001b[0m\n",
      "\u001b[2;36m                    \u001b[0m\u001b[1;32m         \u001b[0m\u001b[95mcorpus_all_layers_mse_withlog_val\u001b[0m \u001b[1;36m                 \u001b[0m\n",
      "\u001b[2;36m                    \u001b[0m\u001b[1;32m         \u001b[0m\u001b[95midation.html\u001b[0m                      \u001b[1;36m                 \u001b[0m\n",
      "\u001b[2;36m                   \u001b[0m\u001b[2;36m \u001b[0m\u001b[1;32mSUCCESS \u001b[0m\u001b[1;32m \u001b[0m Successfully saved HTML to       \u001b]8;id=958532;file:///Users/gat/work/FA2024/embedding_translation/src/viz/save_figure.py\u001b\\\u001b[1;36msave_figure.py\u001b[0m\u001b]8;;\u001b\\\u001b[1;36m:\u001b[0m\u001b]8;id=273239;file:///Users/gat/work/FA2024/embedding_translation/src/viz/save_figure.py#40\u001b\\\u001b[1;36m40\u001b[0m\u001b]8;;\u001b\\\n",
      "\u001b[2;36m                    \u001b[0m\u001b[1;32m         \u001b[0m\u001b[35m/Users/gat/work/FA2024/embedding_\u001b[0m \u001b[1;36m                 \u001b[0m\n",
      "\u001b[2;36m                    \u001b[0m\u001b[1;32m         \u001b[0m\u001b[35mtranslation/src/blog/figs/html/\u001b[0m\u001b[95mnf\u001b[0m \u001b[1;36m                 \u001b[0m\n",
      "\u001b[2;36m                    \u001b[0m\u001b[1;32m         \u001b[0m\u001b[95mcorpus_all_layers_mse_withlog_val\u001b[0m \u001b[1;36m                 \u001b[0m\n",
      "\u001b[2;36m                    \u001b[0m\u001b[1;32m         \u001b[0m\u001b[95midation.html\u001b[0m                      \u001b[1;36m                 \u001b[0m\n",
      "\u001b[2;36m                   \u001b[0m\u001b[2;36m \u001b[0m\u001b[1;34mINFO    \u001b[0m\u001b[1;32m \u001b[0m Saving PNG figure to             \u001b]8;id=714753;file:///Users/gat/work/FA2024/embedding_translation/src/viz/save_figure.py\u001b\\\u001b[1;36msave_figure.py\u001b[0m\u001b]8;;\u001b\\\u001b[1;36m:\u001b[0m\u001b]8;id=882775;file:///Users/gat/work/FA2024/embedding_translation/src/viz/save_figure.py#67\u001b\\\u001b[1;36m67\u001b[0m\u001b]8;;\u001b\\\n",
      "\u001b[2;36m                    \u001b[0m\u001b[1;32m         \u001b[0m\u001b[35m/Users/gat/work/FA2024/embedding_\u001b[0m \u001b[1;36m                 \u001b[0m\n",
      "\u001b[2;36m                    \u001b[0m\u001b[1;32m         \u001b[0m\u001b[35mtranslation/src/blog/figs/imgs/\u001b[0m\u001b[95mnf\u001b[0m \u001b[1;36m                 \u001b[0m\n",
      "\u001b[2;36m                    \u001b[0m\u001b[1;32m         \u001b[0m\u001b[95mcorpus_all_layers_mse_withlog_val\u001b[0m \u001b[1;36m                 \u001b[0m\n",
      "\u001b[2;36m                    \u001b[0m\u001b[1;32m         \u001b[0m\u001b[95midation.png\u001b[0m                       \u001b[1;36m                 \u001b[0m\n",
      "\u001b[2;36m                   \u001b[0m\u001b[2;36m \u001b[0m\u001b[1;32mSUCCESS \u001b[0m\u001b[1;32m \u001b[0m Successfully saved PNG to        \u001b]8;id=456180;file:///Users/gat/work/FA2024/embedding_translation/src/viz/save_figure.py\u001b\\\u001b[1;36msave_figure.py\u001b[0m\u001b]8;;\u001b\\\u001b[1;36m:\u001b[0m\u001b]8;id=992809;file:///Users/gat/work/FA2024/embedding_translation/src/viz/save_figure.py#76\u001b\\\u001b[1;36m76\u001b[0m\u001b]8;;\u001b\\\n",
      "\u001b[2;36m                    \u001b[0m\u001b[1;32m         \u001b[0m\u001b[35m/Users/gat/work/FA2024/embedding_\u001b[0m \u001b[1;36m                 \u001b[0m\n",
      "\u001b[2;36m                    \u001b[0m\u001b[1;32m         \u001b[0m\u001b[35mtranslation/src/blog/figs/imgs/\u001b[0m\u001b[95mnf\u001b[0m \u001b[1;36m                 \u001b[0m\n",
      "\u001b[2;36m                    \u001b[0m\u001b[1;32m         \u001b[0m\u001b[95mcorpus_all_layers_mse_withlog_val\u001b[0m \u001b[1;36m                 \u001b[0m\n",
      "\u001b[2;36m                    \u001b[0m\u001b[1;32m         \u001b[0m\u001b[95midation.png\u001b[0m                       \u001b[1;36m                 \u001b[0m\n",
      "\u001b[2;36m                   \u001b[0m\u001b[2;36m \u001b[0m\u001b[1;34mINFO    \u001b[0m\u001b[1;32m \u001b[0m\u001b[1m[\u001b[0m\u001b[1;36m220785227.\u001b[0mpy:\u001b[1;36m42\u001b[0m\u001b[1m]\u001b[0m Creating heatmap  \u001b]8;id=465320;file:///var/folders/6f/f4k9qbkd5nqfywwdhvwdtl5m0000gn/T/ipykernel_39579/220785227.py\u001b\\\u001b[1;36m220785227.py\u001b[0m\u001b]8;;\u001b\\\u001b[1;36m:\u001b[0m\u001b]8;id=804475;file:///var/folders/6f/f4k9qbkd5nqfywwdhvwdtl5m0000gn/T/ipykernel_39579/220785227.py#42\u001b\\\u001b[1;36m42\u001b[0m\u001b]8;;\u001b\\\n",
      "\u001b[2;36m                    \u001b[0m\u001b[1;32m         \u001b[0mvisualization\u001b[33m...\u001b[0m                    \u001b[1;36m               \u001b[0m\n",
      "\u001b[2;36m                   \u001b[0m\u001b[2;36m \u001b[0m\u001b[1;34mINFO    \u001b[0m\u001b[1;32m \u001b[0m\u001b[1m[\u001b[0m\u001b[1;36m220785227.\u001b[0mpy:\u001b[1;36m42\u001b[0m\u001b[1m]\u001b[0m Creating heatmap  \u001b]8;id=207083;file:///var/folders/6f/f4k9qbkd5nqfywwdhvwdtl5m0000gn/T/ipykernel_39579/220785227.py\u001b\\\u001b[1;36m220785227.py\u001b[0m\u001b]8;;\u001b\\\u001b[1;36m:\u001b[0m\u001b]8;id=614419;file:///var/folders/6f/f4k9qbkd5nqfywwdhvwdtl5m0000gn/T/ipykernel_39579/220785227.py#42\u001b\\\u001b[1;36m42\u001b[0m\u001b]8;;\u001b\\\n",
      "\u001b[2;36m                    \u001b[0m\u001b[1;32m         \u001b[0mvisualization\u001b[33m...\u001b[0m                    \u001b[1;36m               \u001b[0m\n",
      "\u001b[2;36m                   \u001b[0m\u001b[2;36m \u001b[0m\u001b[1;34mINFO    \u001b[0m\u001b[1;32m \u001b[0m\u001b[1m[\u001b[0m\u001b[1;36m220785227.\u001b[0mpy:\u001b[1;36m42\u001b[0m\u001b[1m]\u001b[0m Creating heatmap  \u001b]8;id=764472;file:///var/folders/6f/f4k9qbkd5nqfywwdhvwdtl5m0000gn/T/ipykernel_39579/220785227.py\u001b\\\u001b[1;36m220785227.py\u001b[0m\u001b]8;;\u001b\\\u001b[1;36m:\u001b[0m\u001b]8;id=107331;file:///var/folders/6f/f4k9qbkd5nqfywwdhvwdtl5m0000gn/T/ipykernel_39579/220785227.py#42\u001b\\\u001b[1;36m42\u001b[0m\u001b]8;;\u001b\\\n",
      "\u001b[2;36m                    \u001b[0m\u001b[1;32m         \u001b[0mvisualization\u001b[33m...\u001b[0m                    \u001b[1;36m               \u001b[0m\n",
      "\u001b[2;36m                   \u001b[0m\u001b[2;36m \u001b[0m\u001b[1;34mINFO    \u001b[0m\u001b[1;32m \u001b[0m\u001b[1m[\u001b[0m\u001b[1;36m220785227.\u001b[0mpy:\u001b[1;36m42\u001b[0m\u001b[1m]\u001b[0m Creating heatmap  \u001b]8;id=973347;file:///var/folders/6f/f4k9qbkd5nqfywwdhvwdtl5m0000gn/T/ipykernel_39579/220785227.py\u001b\\\u001b[1;36m220785227.py\u001b[0m\u001b]8;;\u001b\\\u001b[1;36m:\u001b[0m\u001b]8;id=534157;file:///var/folders/6f/f4k9qbkd5nqfywwdhvwdtl5m0000gn/T/ipykernel_39579/220785227.py#42\u001b\\\u001b[1;36m42\u001b[0m\u001b]8;;\u001b\\\n",
      "\u001b[2;36m                    \u001b[0m\u001b[1;32m         \u001b[0mvisualization\u001b[33m...\u001b[0m                    \u001b[1;36m               \u001b[0m\n",
      "\u001b[2;36m                   \u001b[0m\u001b[2;36m \u001b[0m\u001b[1;34mINFO    \u001b[0m\u001b[1;32m \u001b[0m\u001b[1m[\u001b[0m\u001b[1;36m220785227.\u001b[0mpy:\u001b[1;36m42\u001b[0m\u001b[1m]\u001b[0m Creating heatmap  \u001b]8;id=904024;file:///var/folders/6f/f4k9qbkd5nqfywwdhvwdtl5m0000gn/T/ipykernel_39579/220785227.py\u001b\\\u001b[1;36m220785227.py\u001b[0m\u001b]8;;\u001b\\\u001b[1;36m:\u001b[0m\u001b]8;id=341348;file:///var/folders/6f/f4k9qbkd5nqfywwdhvwdtl5m0000gn/T/ipykernel_39579/220785227.py#42\u001b\\\u001b[1;36m42\u001b[0m\u001b]8;;\u001b\\\n",
      "\u001b[2;36m                    \u001b[0m\u001b[1;32m         \u001b[0mvisualization\u001b[33m...\u001b[0m                    \u001b[1;36m               \u001b[0m\n",
      "\u001b[2;36m                   \u001b[0m\u001b[2;36m \u001b[0m\u001b[1;34mINFO    \u001b[0m\u001b[1;32m \u001b[0m\u001b[1m[\u001b[0m\u001b[1;36m220785227.\u001b[0mpy:\u001b[1;36m42\u001b[0m\u001b[1m]\u001b[0m Creating heatmap  \u001b]8;id=256484;file:///var/folders/6f/f4k9qbkd5nqfywwdhvwdtl5m0000gn/T/ipykernel_39579/220785227.py\u001b\\\u001b[1;36m220785227.py\u001b[0m\u001b]8;;\u001b\\\u001b[1;36m:\u001b[0m\u001b]8;id=58273;file:///var/folders/6f/f4k9qbkd5nqfywwdhvwdtl5m0000gn/T/ipykernel_39579/220785227.py#42\u001b\\\u001b[1;36m42\u001b[0m\u001b]8;;\u001b\\\n",
      "\u001b[2;36m                    \u001b[0m\u001b[1;32m         \u001b[0mvisualization\u001b[33m...\u001b[0m                    \u001b[1;36m               \u001b[0m\n",
      "\u001b[2;36m                   \u001b[0m\u001b[2;36m \u001b[0m\u001b[1;34mINFO    \u001b[0m\u001b[1;32m \u001b[0m\u001b[1m[\u001b[0m\u001b[1;36m220785227.\u001b[0mpy:\u001b[1;36m42\u001b[0m\u001b[1m]\u001b[0m Creating heatmap  \u001b]8;id=426767;file:///var/folders/6f/f4k9qbkd5nqfywwdhvwdtl5m0000gn/T/ipykernel_39579/220785227.py\u001b\\\u001b[1;36m220785227.py\u001b[0m\u001b]8;;\u001b\\\u001b[1;36m:\u001b[0m\u001b]8;id=911945;file:///var/folders/6f/f4k9qbkd5nqfywwdhvwdtl5m0000gn/T/ipykernel_39579/220785227.py#42\u001b\\\u001b[1;36m42\u001b[0m\u001b]8;;\u001b\\\n",
      "\u001b[2;36m                    \u001b[0m\u001b[1;32m         \u001b[0mvisualization\u001b[33m...\u001b[0m                    \u001b[1;36m               \u001b[0m\n",
      "\u001b[2;36m                   \u001b[0m\u001b[2;36m \u001b[0m\u001b[1;34mINFO    \u001b[0m\u001b[1;32m \u001b[0m Saving HTML figure to            \u001b]8;id=591601;file:///Users/gat/work/FA2024/embedding_translation/src/viz/save_figure.py\u001b\\\u001b[1;36msave_figure.py\u001b[0m\u001b]8;;\u001b\\\u001b[1;36m:\u001b[0m\u001b]8;id=256127;file:///Users/gat/work/FA2024/embedding_translation/src/viz/save_figure.py#32\u001b\\\u001b[1;36m32\u001b[0m\u001b]8;;\u001b\\\n",
      "\u001b[2;36m                    \u001b[0m\u001b[1;32m         \u001b[0m\u001b[35m/Users/gat/work/FA2024/embedding_\u001b[0m \u001b[1;36m                 \u001b[0m\n",
      "\u001b[2;36m                    \u001b[0m\u001b[1;32m         \u001b[0m\u001b[35mtranslation/data/figs/html/\u001b[0m\u001b[95mhotpot\u001b[0m \u001b[1;36m                 \u001b[0m\n",
      "\u001b[2;36m                    \u001b[0m\u001b[1;32m         \u001b[0m\u001b[95mqa_all_layers_mse_withlog_validat\u001b[0m \u001b[1;36m                 \u001b[0m\n",
      "\u001b[2;36m                    \u001b[0m\u001b[1;32m         \u001b[0m\u001b[95mion.html\u001b[0m                          \u001b[1;36m                 \u001b[0m\n",
      "\u001b[2;36m                   \u001b[0m\u001b[2;36m \u001b[0m\u001b[1;32mSUCCESS \u001b[0m\u001b[1;32m \u001b[0m Successfully saved HTML to       \u001b]8;id=144311;file:///Users/gat/work/FA2024/embedding_translation/src/viz/save_figure.py\u001b\\\u001b[1;36msave_figure.py\u001b[0m\u001b]8;;\u001b\\\u001b[1;36m:\u001b[0m\u001b]8;id=499238;file:///Users/gat/work/FA2024/embedding_translation/src/viz/save_figure.py#40\u001b\\\u001b[1;36m40\u001b[0m\u001b]8;;\u001b\\\n",
      "\u001b[2;36m                    \u001b[0m\u001b[1;32m         \u001b[0m\u001b[35m/Users/gat/work/FA2024/embedding_\u001b[0m \u001b[1;36m                 \u001b[0m\n",
      "\u001b[2;36m                    \u001b[0m\u001b[1;32m         \u001b[0m\u001b[35mtranslation/data/figs/html/\u001b[0m\u001b[95mhotpot\u001b[0m \u001b[1;36m                 \u001b[0m\n",
      "\u001b[2;36m                    \u001b[0m\u001b[1;32m         \u001b[0m\u001b[95mqa_all_layers_mse_withlog_validat\u001b[0m \u001b[1;36m                 \u001b[0m\n",
      "\u001b[2;36m                    \u001b[0m\u001b[1;32m         \u001b[0m\u001b[95mion.html\u001b[0m                          \u001b[1;36m                 \u001b[0m\n",
      "\u001b[2;36m                   \u001b[0m\u001b[2;36m \u001b[0m\u001b[1;34mINFO    \u001b[0m\u001b[1;32m \u001b[0m Saving PNG figure to             \u001b]8;id=285848;file:///Users/gat/work/FA2024/embedding_translation/src/viz/save_figure.py\u001b\\\u001b[1;36msave_figure.py\u001b[0m\u001b]8;;\u001b\\\u001b[1;36m:\u001b[0m\u001b]8;id=31333;file:///Users/gat/work/FA2024/embedding_translation/src/viz/save_figure.py#67\u001b\\\u001b[1;36m67\u001b[0m\u001b]8;;\u001b\\\n",
      "\u001b[2;36m                    \u001b[0m\u001b[1;32m         \u001b[0m\u001b[35m/Users/gat/work/FA2024/embedding_\u001b[0m \u001b[1;36m                 \u001b[0m\n",
      "\u001b[2;36m                    \u001b[0m\u001b[1;32m         \u001b[0m\u001b[35mtranslation/data/figs/imgs/\u001b[0m\u001b[95mhotpot\u001b[0m \u001b[1;36m                 \u001b[0m\n",
      "\u001b[2;36m                    \u001b[0m\u001b[1;32m         \u001b[0m\u001b[95mqa_all_layers_mse_withlog_validat\u001b[0m \u001b[1;36m                 \u001b[0m\n",
      "\u001b[2;36m                    \u001b[0m\u001b[1;32m         \u001b[0m\u001b[95mion.png\u001b[0m                           \u001b[1;36m                 \u001b[0m\n",
      "\u001b[2;36m                   \u001b[0m\u001b[2;36m \u001b[0m\u001b[1;32mSUCCESS \u001b[0m\u001b[1;32m \u001b[0m Successfully saved PNG to        \u001b]8;id=585118;file:///Users/gat/work/FA2024/embedding_translation/src/viz/save_figure.py\u001b\\\u001b[1;36msave_figure.py\u001b[0m\u001b]8;;\u001b\\\u001b[1;36m:\u001b[0m\u001b]8;id=648220;file:///Users/gat/work/FA2024/embedding_translation/src/viz/save_figure.py#76\u001b\\\u001b[1;36m76\u001b[0m\u001b]8;;\u001b\\\n",
      "\u001b[2;36m                    \u001b[0m\u001b[1;32m         \u001b[0m\u001b[35m/Users/gat/work/FA2024/embedding_\u001b[0m \u001b[1;36m                 \u001b[0m\n",
      "\u001b[2;36m                    \u001b[0m\u001b[1;32m         \u001b[0m\u001b[35mtranslation/data/figs/imgs/\u001b[0m\u001b[95mhotpot\u001b[0m \u001b[1;36m                 \u001b[0m\n",
      "\u001b[2;36m                    \u001b[0m\u001b[1;32m         \u001b[0m\u001b[95mqa_all_layers_mse_withlog_validat\u001b[0m \u001b[1;36m                 \u001b[0m\n",
      "\u001b[2;36m                    \u001b[0m\u001b[1;32m         \u001b[0m\u001b[95mion.png\u001b[0m                           \u001b[1;36m                 \u001b[0m\n",
      "\u001b[2;36m                   \u001b[0m\u001b[2;36m \u001b[0m\u001b[1;34mINFO    \u001b[0m\u001b[1;32m \u001b[0m Saving HTML figure to            \u001b]8;id=369164;file:///Users/gat/work/FA2024/embedding_translation/src/viz/save_figure.py\u001b\\\u001b[1;36msave_figure.py\u001b[0m\u001b]8;;\u001b\\\u001b[1;36m:\u001b[0m\u001b]8;id=774827;file:///Users/gat/work/FA2024/embedding_translation/src/viz/save_figure.py#32\u001b\\\u001b[1;36m32\u001b[0m\u001b]8;;\u001b\\\n",
      "\u001b[2;36m                    \u001b[0m\u001b[1;32m         \u001b[0m\u001b[35m/Users/gat/work/FA2024/embedding_\u001b[0m \u001b[1;36m                 \u001b[0m\n",
      "\u001b[2;36m                    \u001b[0m\u001b[1;32m         \u001b[0m\u001b[35mtranslation/src/blog/figs/html/\u001b[0m\u001b[95mho\u001b[0m \u001b[1;36m                 \u001b[0m\n",
      "\u001b[2;36m                    \u001b[0m\u001b[1;32m         \u001b[0m\u001b[95mtpotqa_all_layers_mse_withlog_val\u001b[0m \u001b[1;36m                 \u001b[0m\n",
      "\u001b[2;36m                    \u001b[0m\u001b[1;32m         \u001b[0m\u001b[95midation.html\u001b[0m                      \u001b[1;36m                 \u001b[0m\n",
      "\u001b[2;36m                   \u001b[0m\u001b[2;36m \u001b[0m\u001b[1;32mSUCCESS \u001b[0m\u001b[1;32m \u001b[0m Successfully saved HTML to       \u001b]8;id=341497;file:///Users/gat/work/FA2024/embedding_translation/src/viz/save_figure.py\u001b\\\u001b[1;36msave_figure.py\u001b[0m\u001b]8;;\u001b\\\u001b[1;36m:\u001b[0m\u001b]8;id=23585;file:///Users/gat/work/FA2024/embedding_translation/src/viz/save_figure.py#40\u001b\\\u001b[1;36m40\u001b[0m\u001b]8;;\u001b\\\n",
      "\u001b[2;36m                    \u001b[0m\u001b[1;32m         \u001b[0m\u001b[35m/Users/gat/work/FA2024/embedding_\u001b[0m \u001b[1;36m                 \u001b[0m\n",
      "\u001b[2;36m                    \u001b[0m\u001b[1;32m         \u001b[0m\u001b[35mtranslation/src/blog/figs/html/\u001b[0m\u001b[95mho\u001b[0m \u001b[1;36m                 \u001b[0m\n",
      "\u001b[2;36m                    \u001b[0m\u001b[1;32m         \u001b[0m\u001b[95mtpotqa_all_layers_mse_withlog_val\u001b[0m \u001b[1;36m                 \u001b[0m\n",
      "\u001b[2;36m                    \u001b[0m\u001b[1;32m         \u001b[0m\u001b[95midation.html\u001b[0m                      \u001b[1;36m                 \u001b[0m\n",
      "\u001b[2;36m                   \u001b[0m\u001b[2;36m \u001b[0m\u001b[1;34mINFO    \u001b[0m\u001b[1;32m \u001b[0m Saving PNG figure to             \u001b]8;id=247932;file:///Users/gat/work/FA2024/embedding_translation/src/viz/save_figure.py\u001b\\\u001b[1;36msave_figure.py\u001b[0m\u001b]8;;\u001b\\\u001b[1;36m:\u001b[0m\u001b]8;id=536074;file:///Users/gat/work/FA2024/embedding_translation/src/viz/save_figure.py#67\u001b\\\u001b[1;36m67\u001b[0m\u001b]8;;\u001b\\\n",
      "\u001b[2;36m                    \u001b[0m\u001b[1;32m         \u001b[0m\u001b[35m/Users/gat/work/FA2024/embedding_\u001b[0m \u001b[1;36m                 \u001b[0m\n",
      "\u001b[2;36m                    \u001b[0m\u001b[1;32m         \u001b[0m\u001b[35mtranslation/src/blog/figs/imgs/\u001b[0m\u001b[95mho\u001b[0m \u001b[1;36m                 \u001b[0m\n",
      "\u001b[2;36m                    \u001b[0m\u001b[1;32m         \u001b[0m\u001b[95mtpotqa_all_layers_mse_withlog_val\u001b[0m \u001b[1;36m                 \u001b[0m\n",
      "\u001b[2;36m                    \u001b[0m\u001b[1;32m         \u001b[0m\u001b[95midation.png\u001b[0m                       \u001b[1;36m                 \u001b[0m\n",
      "\u001b[2;36m                   \u001b[0m\u001b[2;36m \u001b[0m\u001b[1;32mSUCCESS \u001b[0m\u001b[1;32m \u001b[0m Successfully saved PNG to        \u001b]8;id=887869;file:///Users/gat/work/FA2024/embedding_translation/src/viz/save_figure.py\u001b\\\u001b[1;36msave_figure.py\u001b[0m\u001b]8;;\u001b\\\u001b[1;36m:\u001b[0m\u001b]8;id=894110;file:///Users/gat/work/FA2024/embedding_translation/src/viz/save_figure.py#76\u001b\\\u001b[1;36m76\u001b[0m\u001b]8;;\u001b\\\n",
      "\u001b[2;36m                    \u001b[0m\u001b[1;32m         \u001b[0m\u001b[35m/Users/gat/work/FA2024/embedding_\u001b[0m \u001b[1;36m                 \u001b[0m\n",
      "\u001b[2;36m                    \u001b[0m\u001b[1;32m         \u001b[0m\u001b[35mtranslation/src/blog/figs/imgs/\u001b[0m\u001b[95mho\u001b[0m \u001b[1;36m                 \u001b[0m\n",
      "\u001b[2;36m                    \u001b[0m\u001b[1;32m         \u001b[0m\u001b[95mtpotqa_all_layers_mse_withlog_val\u001b[0m \u001b[1;36m                 \u001b[0m\n",
      "\u001b[2;36m                    \u001b[0m\u001b[1;32m         \u001b[0m\u001b[95midation.png\u001b[0m                       \u001b[1;36m                 \u001b[0m\n",
      "\u001b[2;36m                   \u001b[0m\u001b[2;36m \u001b[0m\u001b[1;34mINFO    \u001b[0m\u001b[1;32m \u001b[0m\u001b[1m[\u001b[0m\u001b[1;36m220785227.\u001b[0mpy:\u001b[1;36m42\u001b[0m\u001b[1m]\u001b[0m Creating heatmap  \u001b]8;id=369827;file:///var/folders/6f/f4k9qbkd5nqfywwdhvwdtl5m0000gn/T/ipykernel_39579/220785227.py\u001b\\\u001b[1;36m220785227.py\u001b[0m\u001b]8;;\u001b\\\u001b[1;36m:\u001b[0m\u001b]8;id=339710;file:///var/folders/6f/f4k9qbkd5nqfywwdhvwdtl5m0000gn/T/ipykernel_39579/220785227.py#42\u001b\\\u001b[1;36m42\u001b[0m\u001b]8;;\u001b\\\n",
      "\u001b[2;36m                    \u001b[0m\u001b[1;32m         \u001b[0mvisualization\u001b[33m...\u001b[0m                    \u001b[1;36m               \u001b[0m\n",
      "\u001b[2;36m                   \u001b[0m\u001b[2;36m \u001b[0m\u001b[1;34mINFO    \u001b[0m\u001b[1;32m \u001b[0m\u001b[1m[\u001b[0m\u001b[1;36m220785227.\u001b[0mpy:\u001b[1;36m42\u001b[0m\u001b[1m]\u001b[0m Creating heatmap  \u001b]8;id=432792;file:///var/folders/6f/f4k9qbkd5nqfywwdhvwdtl5m0000gn/T/ipykernel_39579/220785227.py\u001b\\\u001b[1;36m220785227.py\u001b[0m\u001b]8;;\u001b\\\u001b[1;36m:\u001b[0m\u001b]8;id=581666;file:///var/folders/6f/f4k9qbkd5nqfywwdhvwdtl5m0000gn/T/ipykernel_39579/220785227.py#42\u001b\\\u001b[1;36m42\u001b[0m\u001b]8;;\u001b\\\n",
      "\u001b[2;36m                    \u001b[0m\u001b[1;32m         \u001b[0mvisualization\u001b[33m...\u001b[0m                    \u001b[1;36m               \u001b[0m\n",
      "\u001b[2;36m                   \u001b[0m\u001b[2;36m \u001b[0m\u001b[1;34mINFO    \u001b[0m\u001b[1;32m \u001b[0m\u001b[1m[\u001b[0m\u001b[1;36m220785227.\u001b[0mpy:\u001b[1;36m42\u001b[0m\u001b[1m]\u001b[0m Creating heatmap  \u001b]8;id=716754;file:///var/folders/6f/f4k9qbkd5nqfywwdhvwdtl5m0000gn/T/ipykernel_39579/220785227.py\u001b\\\u001b[1;36m220785227.py\u001b[0m\u001b]8;;\u001b\\\u001b[1;36m:\u001b[0m\u001b]8;id=830310;file:///var/folders/6f/f4k9qbkd5nqfywwdhvwdtl5m0000gn/T/ipykernel_39579/220785227.py#42\u001b\\\u001b[1;36m42\u001b[0m\u001b]8;;\u001b\\\n",
      "\u001b[2;36m                    \u001b[0m\u001b[1;32m         \u001b[0mvisualization\u001b[33m...\u001b[0m                    \u001b[1;36m               \u001b[0m\n",
      "\u001b[2;36m                   \u001b[0m\u001b[2;36m \u001b[0m\u001b[1;34mINFO    \u001b[0m\u001b[1;32m \u001b[0m\u001b[1m[\u001b[0m\u001b[1;36m220785227.\u001b[0mpy:\u001b[1;36m42\u001b[0m\u001b[1m]\u001b[0m Creating heatmap  \u001b]8;id=368634;file:///var/folders/6f/f4k9qbkd5nqfywwdhvwdtl5m0000gn/T/ipykernel_39579/220785227.py\u001b\\\u001b[1;36m220785227.py\u001b[0m\u001b]8;;\u001b\\\u001b[1;36m:\u001b[0m\u001b]8;id=808733;file:///var/folders/6f/f4k9qbkd5nqfywwdhvwdtl5m0000gn/T/ipykernel_39579/220785227.py#42\u001b\\\u001b[1;36m42\u001b[0m\u001b]8;;\u001b\\\n",
      "\u001b[2;36m                    \u001b[0m\u001b[1;32m         \u001b[0mvisualization\u001b[33m...\u001b[0m                    \u001b[1;36m               \u001b[0m\n",
      "\u001b[2;36m                   \u001b[0m\u001b[2;36m \u001b[0m\u001b[1;34mINFO    \u001b[0m\u001b[1;32m \u001b[0m\u001b[1m[\u001b[0m\u001b[1;36m220785227.\u001b[0mpy:\u001b[1;36m42\u001b[0m\u001b[1m]\u001b[0m Creating heatmap  \u001b]8;id=578316;file:///var/folders/6f/f4k9qbkd5nqfywwdhvwdtl5m0000gn/T/ipykernel_39579/220785227.py\u001b\\\u001b[1;36m220785227.py\u001b[0m\u001b]8;;\u001b\\\u001b[1;36m:\u001b[0m\u001b]8;id=275847;file:///var/folders/6f/f4k9qbkd5nqfywwdhvwdtl5m0000gn/T/ipykernel_39579/220785227.py#42\u001b\\\u001b[1;36m42\u001b[0m\u001b]8;;\u001b\\\n",
      "\u001b[2;36m                    \u001b[0m\u001b[1;32m         \u001b[0mvisualization\u001b[33m...\u001b[0m                    \u001b[1;36m               \u001b[0m\n",
      "\u001b[2;36m                   \u001b[0m\u001b[2;36m \u001b[0m\u001b[1;34mINFO    \u001b[0m\u001b[1;32m \u001b[0m\u001b[1m[\u001b[0m\u001b[1;36m220785227.\u001b[0mpy:\u001b[1;36m42\u001b[0m\u001b[1m]\u001b[0m Creating heatmap  \u001b]8;id=762021;file:///var/folders/6f/f4k9qbkd5nqfywwdhvwdtl5m0000gn/T/ipykernel_39579/220785227.py\u001b\\\u001b[1;36m220785227.py\u001b[0m\u001b]8;;\u001b\\\u001b[1;36m:\u001b[0m\u001b]8;id=527890;file:///var/folders/6f/f4k9qbkd5nqfywwdhvwdtl5m0000gn/T/ipykernel_39579/220785227.py#42\u001b\\\u001b[1;36m42\u001b[0m\u001b]8;;\u001b\\\n",
      "\u001b[2;36m                    \u001b[0m\u001b[1;32m         \u001b[0mvisualization\u001b[33m...\u001b[0m                    \u001b[1;36m               \u001b[0m\n",
      "\u001b[2;36m                   \u001b[0m\u001b[2;36m \u001b[0m\u001b[1;34mINFO    \u001b[0m\u001b[1;32m \u001b[0m\u001b[1m[\u001b[0m\u001b[1;36m220785227.\u001b[0mpy:\u001b[1;36m42\u001b[0m\u001b[1m]\u001b[0m Creating heatmap  \u001b]8;id=541464;file:///var/folders/6f/f4k9qbkd5nqfywwdhvwdtl5m0000gn/T/ipykernel_39579/220785227.py\u001b\\\u001b[1;36m220785227.py\u001b[0m\u001b]8;;\u001b\\\u001b[1;36m:\u001b[0m\u001b]8;id=14622;file:///var/folders/6f/f4k9qbkd5nqfywwdhvwdtl5m0000gn/T/ipykernel_39579/220785227.py#42\u001b\\\u001b[1;36m42\u001b[0m\u001b]8;;\u001b\\\n",
      "\u001b[2;36m                    \u001b[0m\u001b[1;32m         \u001b[0mvisualization\u001b[33m...\u001b[0m                    \u001b[1;36m               \u001b[0m\n",
      "\u001b[2;36m                   \u001b[0m\u001b[2;36m \u001b[0m\u001b[1;34mINFO    \u001b[0m\u001b[1;32m \u001b[0m Saving HTML figure to            \u001b]8;id=989871;file:///Users/gat/work/FA2024/embedding_translation/src/viz/save_figure.py\u001b\\\u001b[1;36msave_figure.py\u001b[0m\u001b]8;;\u001b\\\u001b[1;36m:\u001b[0m\u001b]8;id=454245;file:///Users/gat/work/FA2024/embedding_translation/src/viz/save_figure.py#32\u001b\\\u001b[1;36m32\u001b[0m\u001b]8;;\u001b\\\n",
      "\u001b[2;36m                    \u001b[0m\u001b[1;32m         \u001b[0m\u001b[35m/Users/gat/work/FA2024/embedding_\u001b[0m \u001b[1;36m                 \u001b[0m\n",
      "\u001b[2;36m                    \u001b[0m\u001b[1;32m         \u001b[0m\u001b[35mtranslation/data/figs/html/\u001b[0m\u001b[95mtrec-c\u001b[0m \u001b[1;36m                 \u001b[0m\n",
      "\u001b[2;36m                    \u001b[0m\u001b[1;32m         \u001b[0m\u001b[95movid_all_layers_mse_withlog_valid\u001b[0m \u001b[1;36m                 \u001b[0m\n",
      "\u001b[2;36m                    \u001b[0m\u001b[1;32m         \u001b[0m\u001b[95mation.html\u001b[0m                        \u001b[1;36m                 \u001b[0m\n",
      "\u001b[2;36m                   \u001b[0m\u001b[2;36m \u001b[0m\u001b[1;32mSUCCESS \u001b[0m\u001b[1;32m \u001b[0m Successfully saved HTML to       \u001b]8;id=702549;file:///Users/gat/work/FA2024/embedding_translation/src/viz/save_figure.py\u001b\\\u001b[1;36msave_figure.py\u001b[0m\u001b]8;;\u001b\\\u001b[1;36m:\u001b[0m\u001b]8;id=32793;file:///Users/gat/work/FA2024/embedding_translation/src/viz/save_figure.py#40\u001b\\\u001b[1;36m40\u001b[0m\u001b]8;;\u001b\\\n",
      "\u001b[2;36m                    \u001b[0m\u001b[1;32m         \u001b[0m\u001b[35m/Users/gat/work/FA2024/embedding_\u001b[0m \u001b[1;36m                 \u001b[0m\n",
      "\u001b[2;36m                    \u001b[0m\u001b[1;32m         \u001b[0m\u001b[35mtranslation/data/figs/html/\u001b[0m\u001b[95mtrec-c\u001b[0m \u001b[1;36m                 \u001b[0m\n",
      "\u001b[2;36m                    \u001b[0m\u001b[1;32m         \u001b[0m\u001b[95movid_all_layers_mse_withlog_valid\u001b[0m \u001b[1;36m                 \u001b[0m\n",
      "\u001b[2;36m                    \u001b[0m\u001b[1;32m         \u001b[0m\u001b[95mation.html\u001b[0m                        \u001b[1;36m                 \u001b[0m\n",
      "\u001b[2;36m                   \u001b[0m\u001b[2;36m \u001b[0m\u001b[1;34mINFO    \u001b[0m\u001b[1;32m \u001b[0m Saving PNG figure to             \u001b]8;id=42261;file:///Users/gat/work/FA2024/embedding_translation/src/viz/save_figure.py\u001b\\\u001b[1;36msave_figure.py\u001b[0m\u001b]8;;\u001b\\\u001b[1;36m:\u001b[0m\u001b]8;id=460639;file:///Users/gat/work/FA2024/embedding_translation/src/viz/save_figure.py#67\u001b\\\u001b[1;36m67\u001b[0m\u001b]8;;\u001b\\\n",
      "\u001b[2;36m                    \u001b[0m\u001b[1;32m         \u001b[0m\u001b[35m/Users/gat/work/FA2024/embedding_\u001b[0m \u001b[1;36m                 \u001b[0m\n",
      "\u001b[2;36m                    \u001b[0m\u001b[1;32m         \u001b[0m\u001b[35mtranslation/data/figs/imgs/\u001b[0m\u001b[95mtrec-c\u001b[0m \u001b[1;36m                 \u001b[0m\n",
      "\u001b[2;36m                    \u001b[0m\u001b[1;32m         \u001b[0m\u001b[95movid_all_layers_mse_withlog_valid\u001b[0m \u001b[1;36m                 \u001b[0m\n",
      "\u001b[2;36m                    \u001b[0m\u001b[1;32m         \u001b[0m\u001b[95mation.png\u001b[0m                         \u001b[1;36m                 \u001b[0m\n",
      "\u001b[2;36m[12/13/24 19:54:01]\u001b[0m\u001b[2;36m \u001b[0m\u001b[1;32mSUCCESS \u001b[0m\u001b[1;32m \u001b[0m Successfully saved PNG to        \u001b]8;id=600220;file:///Users/gat/work/FA2024/embedding_translation/src/viz/save_figure.py\u001b\\\u001b[1;36msave_figure.py\u001b[0m\u001b]8;;\u001b\\\u001b[1;36m:\u001b[0m\u001b]8;id=646908;file:///Users/gat/work/FA2024/embedding_translation/src/viz/save_figure.py#76\u001b\\\u001b[1;36m76\u001b[0m\u001b]8;;\u001b\\\n",
      "\u001b[2;36m                    \u001b[0m\u001b[1;32m         \u001b[0m\u001b[35m/Users/gat/work/FA2024/embedding_\u001b[0m \u001b[1;36m                 \u001b[0m\n",
      "\u001b[2;36m                    \u001b[0m\u001b[1;32m         \u001b[0m\u001b[35mtranslation/data/figs/imgs/\u001b[0m\u001b[95mtrec-c\u001b[0m \u001b[1;36m                 \u001b[0m\n",
      "\u001b[2;36m                    \u001b[0m\u001b[1;32m         \u001b[0m\u001b[95movid_all_layers_mse_withlog_valid\u001b[0m \u001b[1;36m                 \u001b[0m\n",
      "\u001b[2;36m                    \u001b[0m\u001b[1;32m         \u001b[0m\u001b[95mation.png\u001b[0m                         \u001b[1;36m                 \u001b[0m\n",
      "\u001b[2;36m                   \u001b[0m\u001b[2;36m \u001b[0m\u001b[1;34mINFO    \u001b[0m\u001b[1;32m \u001b[0m Saving HTML figure to            \u001b]8;id=684444;file:///Users/gat/work/FA2024/embedding_translation/src/viz/save_figure.py\u001b\\\u001b[1;36msave_figure.py\u001b[0m\u001b]8;;\u001b\\\u001b[1;36m:\u001b[0m\u001b]8;id=952213;file:///Users/gat/work/FA2024/embedding_translation/src/viz/save_figure.py#32\u001b\\\u001b[1;36m32\u001b[0m\u001b]8;;\u001b\\\n",
      "\u001b[2;36m                    \u001b[0m\u001b[1;32m         \u001b[0m\u001b[35m/Users/gat/work/FA2024/embedding_\u001b[0m \u001b[1;36m                 \u001b[0m\n",
      "\u001b[2;36m                    \u001b[0m\u001b[1;32m         \u001b[0m\u001b[35mtranslation/src/blog/figs/html/\u001b[0m\u001b[95mtr\u001b[0m \u001b[1;36m                 \u001b[0m\n",
      "\u001b[2;36m                    \u001b[0m\u001b[1;32m         \u001b[0m\u001b[95mec-covid_all_layers_mse_withlog_v\u001b[0m \u001b[1;36m                 \u001b[0m\n",
      "\u001b[2;36m                    \u001b[0m\u001b[1;32m         \u001b[0m\u001b[95malidation.html\u001b[0m                    \u001b[1;36m                 \u001b[0m\n",
      "\u001b[2;36m                   \u001b[0m\u001b[2;36m \u001b[0m\u001b[1;32mSUCCESS \u001b[0m\u001b[1;32m \u001b[0m Successfully saved HTML to       \u001b]8;id=991247;file:///Users/gat/work/FA2024/embedding_translation/src/viz/save_figure.py\u001b\\\u001b[1;36msave_figure.py\u001b[0m\u001b]8;;\u001b\\\u001b[1;36m:\u001b[0m\u001b]8;id=491582;file:///Users/gat/work/FA2024/embedding_translation/src/viz/save_figure.py#40\u001b\\\u001b[1;36m40\u001b[0m\u001b]8;;\u001b\\\n",
      "\u001b[2;36m                    \u001b[0m\u001b[1;32m         \u001b[0m\u001b[35m/Users/gat/work/FA2024/embedding_\u001b[0m \u001b[1;36m                 \u001b[0m\n",
      "\u001b[2;36m                    \u001b[0m\u001b[1;32m         \u001b[0m\u001b[35mtranslation/src/blog/figs/html/\u001b[0m\u001b[95mtr\u001b[0m \u001b[1;36m                 \u001b[0m\n",
      "\u001b[2;36m                    \u001b[0m\u001b[1;32m         \u001b[0m\u001b[95mec-covid_all_layers_mse_withlog_v\u001b[0m \u001b[1;36m                 \u001b[0m\n",
      "\u001b[2;36m                    \u001b[0m\u001b[1;32m         \u001b[0m\u001b[95malidation.html\u001b[0m                    \u001b[1;36m                 \u001b[0m\n",
      "\u001b[2;36m                   \u001b[0m\u001b[2;36m \u001b[0m\u001b[1;34mINFO    \u001b[0m\u001b[1;32m \u001b[0m Saving PNG figure to             \u001b]8;id=330291;file:///Users/gat/work/FA2024/embedding_translation/src/viz/save_figure.py\u001b\\\u001b[1;36msave_figure.py\u001b[0m\u001b]8;;\u001b\\\u001b[1;36m:\u001b[0m\u001b]8;id=620090;file:///Users/gat/work/FA2024/embedding_translation/src/viz/save_figure.py#67\u001b\\\u001b[1;36m67\u001b[0m\u001b]8;;\u001b\\\n",
      "\u001b[2;36m                    \u001b[0m\u001b[1;32m         \u001b[0m\u001b[35m/Users/gat/work/FA2024/embedding_\u001b[0m \u001b[1;36m                 \u001b[0m\n",
      "\u001b[2;36m                    \u001b[0m\u001b[1;32m         \u001b[0m\u001b[35mtranslation/src/blog/figs/imgs/\u001b[0m\u001b[95mtr\u001b[0m \u001b[1;36m                 \u001b[0m\n",
      "\u001b[2;36m                    \u001b[0m\u001b[1;32m         \u001b[0m\u001b[95mec-covid_all_layers_mse_withlog_v\u001b[0m \u001b[1;36m                 \u001b[0m\n",
      "\u001b[2;36m                    \u001b[0m\u001b[1;32m         \u001b[0m\u001b[95malidation.png\u001b[0m                     \u001b[1;36m                 \u001b[0m\n",
      "\u001b[2;36m                   \u001b[0m\u001b[2;36m \u001b[0m\u001b[1;32mSUCCESS \u001b[0m\u001b[1;32m \u001b[0m Successfully saved PNG to        \u001b]8;id=266471;file:///Users/gat/work/FA2024/embedding_translation/src/viz/save_figure.py\u001b\\\u001b[1;36msave_figure.py\u001b[0m\u001b]8;;\u001b\\\u001b[1;36m:\u001b[0m\u001b]8;id=814567;file:///Users/gat/work/FA2024/embedding_translation/src/viz/save_figure.py#76\u001b\\\u001b[1;36m76\u001b[0m\u001b]8;;\u001b\\\n",
      "\u001b[2;36m                    \u001b[0m\u001b[1;32m         \u001b[0m\u001b[35m/Users/gat/work/FA2024/embedding_\u001b[0m \u001b[1;36m                 \u001b[0m\n",
      "\u001b[2;36m                    \u001b[0m\u001b[1;32m         \u001b[0m\u001b[35mtranslation/src/blog/figs/imgs/\u001b[0m\u001b[95mtr\u001b[0m \u001b[1;36m                 \u001b[0m\n",
      "\u001b[2;36m                    \u001b[0m\u001b[1;32m         \u001b[0m\u001b[95mec-covid_all_layers_mse_withlog_v\u001b[0m \u001b[1;36m                 \u001b[0m\n",
      "\u001b[2;36m                    \u001b[0m\u001b[1;32m         \u001b[0m\u001b[95malidation.png\u001b[0m                     \u001b[1;36m                 \u001b[0m\n"
     ]
    }
   ],
   "source": [
    "# Visualize Imported Data (One Dataset, All Architectures)\n",
    "\n",
    "from src.viz.save_figure import save_figure\n",
    "\n",
    "save_figure(fig, \"complexity_vs_rank\")\n",
    "\n",
    "for dataset_name, dataset_i in meta[\"dataset2idx\"].items():\n",
    "    labels = sorted(meta[\"model2idx\"], key=lambda k: meta[\"model2idx\"][k])\n",
    "    num_layers = sorted(meta[\"num_layers\"])\n",
    "    matrix = validation_mse[0, :, :, :].transpose(2, 0, 1)\n",
    "    fig = animated_heatmap(\n",
    "        matrices=matrix,\n",
    "        log=True,\n",
    "        title=f\"Validation MSE (log) ({dataset_name})\",\n",
    "        labels=labels,\n",
    "        nan_diagnal=True,\n",
    "        slider_prefix=\"Number of Layers: \",\n",
    "        slider_labels=num_layers,\n",
    "    )\n",
    "    save_figure(\n",
    "        fig,\n",
    "        f\"{dataset_name}_all_layers_mse_withlog_validation\",\n",
    "        output_dir=PROJ_ROOT / \"data\" / \"figs\",\n",
    "    )\n",
    "    save_figure(\n",
    "        fig,\n",
    "        f\"{dataset_name}_all_layers_mse_withlog_validation\",\n",
    "        output_dir=PROJ_ROOT / \"src\" / \"blog\" / \"figs\" / \"gatlen\",\n",
    "    )"
   ]
  },
  {
   "cell_type": "code",
   "execution_count": 57,
   "metadata": {},
   "outputs": [
    {
     "name": "stdout",
     "output_type": "stream",
     "text": [
      "\u001b[2;36m[12/13/24 19:46:00]\u001b[0m\u001b[2;36m \u001b[0m\u001b[1;34mINFO    \u001b[0m\u001b[1;32m \u001b[0m Saving HTML figure to            \u001b]8;id=871398;file:///Users/gat/work/FA2024/embedding_translation/src/viz/save_figure.py\u001b\\\u001b[1;36msave_figure.py\u001b[0m\u001b]8;;\u001b\\\u001b[1;36m:\u001b[0m\u001b]8;id=973891;file:///Users/gat/work/FA2024/embedding_translation/src/viz/save_figure.py#32\u001b\\\u001b[1;36m32\u001b[0m\u001b]8;;\u001b\\\n",
      "\u001b[2;36m                    \u001b[0m\u001b[1;32m         \u001b[0mdata/figs/html/complexity_vs_rank \u001b[1;36m                 \u001b[0m\n",
      "\u001b[2;36m                    \u001b[0m\u001b[1;32m         \u001b[0m.html                             \u001b[1;36m                 \u001b[0m\n",
      "\u001b[2;36m                   \u001b[0m\u001b[2;36m \u001b[0m\u001b[1;32mSUCCESS \u001b[0m\u001b[1;32m \u001b[0m Successfully saved HTML to       \u001b]8;id=699148;file:///Users/gat/work/FA2024/embedding_translation/src/viz/save_figure.py\u001b\\\u001b[1;36msave_figure.py\u001b[0m\u001b]8;;\u001b\\\u001b[1;36m:\u001b[0m\u001b]8;id=562073;file:///Users/gat/work/FA2024/embedding_translation/src/viz/save_figure.py#40\u001b\\\u001b[1;36m40\u001b[0m\u001b]8;;\u001b\\\n",
      "\u001b[2;36m                    \u001b[0m\u001b[1;32m         \u001b[0mdata/figs/html/complexity_vs_rank \u001b[1;36m                 \u001b[0m\n",
      "\u001b[2;36m                    \u001b[0m\u001b[1;32m         \u001b[0m.html                             \u001b[1;36m                 \u001b[0m\n",
      "\u001b[2;36m                   \u001b[0m\u001b[2;36m \u001b[0m\u001b[1;34mINFO    \u001b[0m\u001b[1;32m \u001b[0m Saving PNG figure to             \u001b]8;id=904510;file:///Users/gat/work/FA2024/embedding_translation/src/viz/save_figure.py\u001b\\\u001b[1;36msave_figure.py\u001b[0m\u001b]8;;\u001b\\\u001b[1;36m:\u001b[0m\u001b]8;id=508105;file:///Users/gat/work/FA2024/embedding_translation/src/viz/save_figure.py#67\u001b\\\u001b[1;36m67\u001b[0m\u001b]8;;\u001b\\\n",
      "\u001b[2;36m                    \u001b[0m\u001b[1;32m         \u001b[0mdata/figs/imgs/complexity_vs_rank \u001b[1;36m                 \u001b[0m\n",
      "\u001b[2;36m                    \u001b[0m\u001b[1;32m         \u001b[0m.png                              \u001b[1;36m                 \u001b[0m\n",
      "\u001b[2;36m                   \u001b[0m\u001b[2;36m \u001b[0m\u001b[1;32mSUCCESS \u001b[0m\u001b[1;32m \u001b[0m Successfully saved PNG to        \u001b]8;id=260591;file:///Users/gat/work/FA2024/embedding_translation/src/viz/save_figure.py\u001b\\\u001b[1;36msave_figure.py\u001b[0m\u001b]8;;\u001b\\\u001b[1;36m:\u001b[0m\u001b]8;id=837732;file:///Users/gat/work/FA2024/embedding_translation/src/viz/save_figure.py#76\u001b\\\u001b[1;36m76\u001b[0m\u001b]8;;\u001b\\\n",
      "\u001b[2;36m                    \u001b[0m\u001b[1;32m         \u001b[0mdata/figs/imgs/complexity_vs_rank \u001b[1;36m                 \u001b[0m\n",
      "\u001b[2;36m                    \u001b[0m\u001b[1;32m         \u001b[0m.png                              \u001b[1;36m                 \u001b[0m\n"
     ]
    },
    {
     "data": {
      "text/plain": [
       "(PosixPath('data/figs/html/complexity_vs_rank.html'),\n",
       " PosixPath('data/figs/imgs/complexity_vs_rank.png'))"
      ]
     },
     "execution_count": 57,
     "metadata": {},
     "output_type": "execute_result"
    }
   ],
   "source": []
  }
 ],
 "metadata": {
  "kernelspec": {
   "display_name": ".venv",
   "language": "python",
   "name": "python3"
  },
  "language_info": {
   "codemirror_mode": {
    "name": "ipython",
    "version": 3
   },
   "file_extension": ".py",
   "mimetype": "text/x-python",
   "name": "python",
   "nbconvert_exporter": "python",
   "pygments_lexer": "ipython3",
   "version": "3.12.8"
  }
 },
 "nbformat": 4,
 "nbformat_minor": 2
}
