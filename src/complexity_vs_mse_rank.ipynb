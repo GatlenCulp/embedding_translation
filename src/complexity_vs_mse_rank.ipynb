{
 "cells": [
  {
   "cell_type": "markdown",
   "metadata": {},
   "source": [
    "# Complexity vs MSE and Rank Graphs\n"
   ]
  },
  {
   "cell_type": "markdown",
   "metadata": {},
   "source": [
    "## Setup\n"
   ]
  },
  {
   "cell_type": "code",
   "execution_count": 1,
   "metadata": {},
   "outputs": [
    {
     "name": "stdout",
     "output_type": "stream",
     "text": [
      "Requirement already satisfied: safetensors in /Users/gat/work/FA2024/embedding_translation/.venv/lib/python3.12/site-packages (0.4.5)\n",
      "Note: you may need to restart the kernel to use updated packages.\n"
     ]
    }
   ],
   "source": [
    "# Installs\n",
    "%pip install safetensors"
   ]
  },
  {
   "cell_type": "code",
   "execution_count": 7,
   "metadata": {},
   "outputs": [],
   "source": [
    "# Imports\n",
    "from safetensors.numpy import load_file\n",
    "from pathlib import Path\n",
    "from loguru import logger\n",
    "import orjson\n",
    "from rich import pretty\n",
    "import plotly.graph_objects as go\n",
    "import plotly.io as pio\n",
    "import plotly\n",
    "from faker import Faker\n",
    "from typing import Literal\n",
    "import polars as pl\n",
    "\n",
    "# from IPython.display import display\n",
    "import numpy as np\n",
    "\n",
    "np.set_printoptions(\n",
    "    precision=3,\n",
    "    suppress=True,\n",
    "    threshold=5,\n",
    ")\n",
    "rng = np.random.default_rng(0)\n",
    "faker = Faker()\n",
    "pio.templates.default = \"plotly\""
   ]
  },
  {
   "cell_type": "code",
   "execution_count": 3,
   "metadata": {},
   "outputs": [
    {
     "name": "stderr",
     "output_type": "stream",
     "text": [
      "\u001b[32m2024-12-13 18:04:14.852\u001b[0m | \u001b[1mINFO    \u001b[0m | \u001b[36m__main__\u001b[0m:\u001b[36m<cell line: 0>\u001b[0m:\u001b[36m3\u001b[0m - \u001b[1m/Users/gat/work/FA2024/embedding_translation\u001b[0m\n",
      "\u001b[32m2024-12-13 18:04:14.853\u001b[0m | \u001b[1mINFO    \u001b[0m | \u001b[36m__main__\u001b[0m:\u001b[36m<cell line: 0>\u001b[0m:\u001b[36m5\u001b[0m - \u001b[1m/Users/gat/work/FA2024/embedding_translation/data\u001b[0m\n"
     ]
    }
   ],
   "source": [
    "# Directories\n",
    "PROJ_ROOT = Path.cwd().resolve().parent\n",
    "logger.info(PROJ_ROOT)\n",
    "DATA_DIR = PROJ_ROOT / \"data\"\n",
    "logger.info(DATA_DIR)\n",
    "MLP_MSE_VALIDATION = DATA_DIR / \"mlp_mse_validation\"\n",
    "MLP_MSE_VALIDATION_TENSORS = MLP_MSE_VALIDATION / \"validation_mses.safetensors\"\n",
    "MLP_MSE_VALIDATION_META = MLP_MSE_VALIDATION / \"validation_mses.json\""
   ]
  },
  {
   "cell_type": "markdown",
   "metadata": {},
   "source": [
    "## Helper Viz\n"
   ]
  },
  {
   "cell_type": "code",
   "execution_count": 40,
   "metadata": {},
   "outputs": [
    {
     "data": {
      "application/vnd.plotly.v1+json": {
       "config": {
        "plotlyServerURL": "https://plot.ly"
       },
       "data": [
        {
         "colorscale": [
          [
           0,
           "#440154"
          ],
          [
           0.1111111111111111,
           "#482878"
          ],
          [
           0.2222222222222222,
           "#3e4989"
          ],
          [
           0.3333333333333333,
           "#31688e"
          ],
          [
           0.4444444444444444,
           "#26828e"
          ],
          [
           0.5555555555555556,
           "#1f9e89"
          ],
          [
           0.6666666666666666,
           "#35b779"
          ],
          [
           0.7777777777777778,
           "#6ece58"
          ],
          [
           0.8888888888888888,
           "#b5de2b"
          ],
          [
           1,
           "#fde725"
          ]
         ],
         "reversescale": false,
         "showlegend": false,
         "showscale": true,
         "textfont": {
          "color": "black"
         },
         "type": "heatmap",
         "x": [
          "A",
          "B",
          "C"
         ],
         "y": [
          "X",
          "Y",
          "Z"
         ],
         "z": [
          [
           1,
           2,
           3
          ],
          [
           4,
           5,
           6
          ],
          [
           7,
           8,
           9
          ]
         ]
        }
       ],
       "layout": {
        "dragmode": false,
        "height": 600,
        "modebar": {
         "remove": [
          "zoomIn2d",
          "zoomOut2d",
          "autoScale2d",
          "resetScale2d",
          "hoverClosestCartesian",
          "hoverCompareCartesian",
          "toggleSpikelines"
         ]
        },
        "template": {
         "data": {
          "bar": [
           {
            "error_x": {
             "color": "#2a3f5f"
            },
            "error_y": {
             "color": "#2a3f5f"
            },
            "marker": {
             "line": {
              "color": "white",
              "width": 0.5
             },
             "pattern": {
              "fillmode": "overlay",
              "size": 10,
              "solidity": 0.2
             }
            },
            "type": "bar"
           }
          ],
          "barpolar": [
           {
            "marker": {
             "line": {
              "color": "white",
              "width": 0.5
             },
             "pattern": {
              "fillmode": "overlay",
              "size": 10,
              "solidity": 0.2
             }
            },
            "type": "barpolar"
           }
          ],
          "carpet": [
           {
            "aaxis": {
             "endlinecolor": "#2a3f5f",
             "gridcolor": "#C8D4E3",
             "linecolor": "#C8D4E3",
             "minorgridcolor": "#C8D4E3",
             "startlinecolor": "#2a3f5f"
            },
            "baxis": {
             "endlinecolor": "#2a3f5f",
             "gridcolor": "#C8D4E3",
             "linecolor": "#C8D4E3",
             "minorgridcolor": "#C8D4E3",
             "startlinecolor": "#2a3f5f"
            },
            "type": "carpet"
           }
          ],
          "choropleth": [
           {
            "colorbar": {
             "outlinewidth": 0,
             "ticks": ""
            },
            "type": "choropleth"
           }
          ],
          "contour": [
           {
            "colorbar": {
             "outlinewidth": 0,
             "ticks": ""
            },
            "colorscale": [
             [
              0,
              "#0d0887"
             ],
             [
              0.1111111111111111,
              "#46039f"
             ],
             [
              0.2222222222222222,
              "#7201a8"
             ],
             [
              0.3333333333333333,
              "#9c179e"
             ],
             [
              0.4444444444444444,
              "#bd3786"
             ],
             [
              0.5555555555555556,
              "#d8576b"
             ],
             [
              0.6666666666666666,
              "#ed7953"
             ],
             [
              0.7777777777777778,
              "#fb9f3a"
             ],
             [
              0.8888888888888888,
              "#fdca26"
             ],
             [
              1,
              "#f0f921"
             ]
            ],
            "type": "contour"
           }
          ],
          "contourcarpet": [
           {
            "colorbar": {
             "outlinewidth": 0,
             "ticks": ""
            },
            "type": "contourcarpet"
           }
          ],
          "heatmap": [
           {
            "colorbar": {
             "outlinewidth": 0,
             "ticks": ""
            },
            "colorscale": [
             [
              0,
              "#0d0887"
             ],
             [
              0.1111111111111111,
              "#46039f"
             ],
             [
              0.2222222222222222,
              "#7201a8"
             ],
             [
              0.3333333333333333,
              "#9c179e"
             ],
             [
              0.4444444444444444,
              "#bd3786"
             ],
             [
              0.5555555555555556,
              "#d8576b"
             ],
             [
              0.6666666666666666,
              "#ed7953"
             ],
             [
              0.7777777777777778,
              "#fb9f3a"
             ],
             [
              0.8888888888888888,
              "#fdca26"
             ],
             [
              1,
              "#f0f921"
             ]
            ],
            "type": "heatmap"
           }
          ],
          "heatmapgl": [
           {
            "colorbar": {
             "outlinewidth": 0,
             "ticks": ""
            },
            "colorscale": [
             [
              0,
              "#0d0887"
             ],
             [
              0.1111111111111111,
              "#46039f"
             ],
             [
              0.2222222222222222,
              "#7201a8"
             ],
             [
              0.3333333333333333,
              "#9c179e"
             ],
             [
              0.4444444444444444,
              "#bd3786"
             ],
             [
              0.5555555555555556,
              "#d8576b"
             ],
             [
              0.6666666666666666,
              "#ed7953"
             ],
             [
              0.7777777777777778,
              "#fb9f3a"
             ],
             [
              0.8888888888888888,
              "#fdca26"
             ],
             [
              1,
              "#f0f921"
             ]
            ],
            "type": "heatmapgl"
           }
          ],
          "histogram": [
           {
            "marker": {
             "pattern": {
              "fillmode": "overlay",
              "size": 10,
              "solidity": 0.2
             }
            },
            "type": "histogram"
           }
          ],
          "histogram2d": [
           {
            "colorbar": {
             "outlinewidth": 0,
             "ticks": ""
            },
            "colorscale": [
             [
              0,
              "#0d0887"
             ],
             [
              0.1111111111111111,
              "#46039f"
             ],
             [
              0.2222222222222222,
              "#7201a8"
             ],
             [
              0.3333333333333333,
              "#9c179e"
             ],
             [
              0.4444444444444444,
              "#bd3786"
             ],
             [
              0.5555555555555556,
              "#d8576b"
             ],
             [
              0.6666666666666666,
              "#ed7953"
             ],
             [
              0.7777777777777778,
              "#fb9f3a"
             ],
             [
              0.8888888888888888,
              "#fdca26"
             ],
             [
              1,
              "#f0f921"
             ]
            ],
            "type": "histogram2d"
           }
          ],
          "histogram2dcontour": [
           {
            "colorbar": {
             "outlinewidth": 0,
             "ticks": ""
            },
            "colorscale": [
             [
              0,
              "#0d0887"
             ],
             [
              0.1111111111111111,
              "#46039f"
             ],
             [
              0.2222222222222222,
              "#7201a8"
             ],
             [
              0.3333333333333333,
              "#9c179e"
             ],
             [
              0.4444444444444444,
              "#bd3786"
             ],
             [
              0.5555555555555556,
              "#d8576b"
             ],
             [
              0.6666666666666666,
              "#ed7953"
             ],
             [
              0.7777777777777778,
              "#fb9f3a"
             ],
             [
              0.8888888888888888,
              "#fdca26"
             ],
             [
              1,
              "#f0f921"
             ]
            ],
            "type": "histogram2dcontour"
           }
          ],
          "mesh3d": [
           {
            "colorbar": {
             "outlinewidth": 0,
             "ticks": ""
            },
            "type": "mesh3d"
           }
          ],
          "parcoords": [
           {
            "line": {
             "colorbar": {
              "outlinewidth": 0,
              "ticks": ""
             }
            },
            "type": "parcoords"
           }
          ],
          "pie": [
           {
            "automargin": true,
            "type": "pie"
           }
          ],
          "scatter": [
           {
            "fillpattern": {
             "fillmode": "overlay",
             "size": 10,
             "solidity": 0.2
            },
            "type": "scatter"
           }
          ],
          "scatter3d": [
           {
            "line": {
             "colorbar": {
              "outlinewidth": 0,
              "ticks": ""
             }
            },
            "marker": {
             "colorbar": {
              "outlinewidth": 0,
              "ticks": ""
             }
            },
            "type": "scatter3d"
           }
          ],
          "scattercarpet": [
           {
            "marker": {
             "colorbar": {
              "outlinewidth": 0,
              "ticks": ""
             }
            },
            "type": "scattercarpet"
           }
          ],
          "scattergeo": [
           {
            "marker": {
             "colorbar": {
              "outlinewidth": 0,
              "ticks": ""
             }
            },
            "type": "scattergeo"
           }
          ],
          "scattergl": [
           {
            "marker": {
             "colorbar": {
              "outlinewidth": 0,
              "ticks": ""
             }
            },
            "type": "scattergl"
           }
          ],
          "scattermapbox": [
           {
            "marker": {
             "colorbar": {
              "outlinewidth": 0,
              "ticks": ""
             }
            },
            "type": "scattermapbox"
           }
          ],
          "scatterpolar": [
           {
            "marker": {
             "colorbar": {
              "outlinewidth": 0,
              "ticks": ""
             }
            },
            "type": "scatterpolar"
           }
          ],
          "scatterpolargl": [
           {
            "marker": {
             "colorbar": {
              "outlinewidth": 0,
              "ticks": ""
             }
            },
            "type": "scatterpolargl"
           }
          ],
          "scatterternary": [
           {
            "marker": {
             "colorbar": {
              "outlinewidth": 0,
              "ticks": ""
             }
            },
            "type": "scatterternary"
           }
          ],
          "surface": [
           {
            "colorbar": {
             "outlinewidth": 0,
             "ticks": ""
            },
            "colorscale": [
             [
              0,
              "#0d0887"
             ],
             [
              0.1111111111111111,
              "#46039f"
             ],
             [
              0.2222222222222222,
              "#7201a8"
             ],
             [
              0.3333333333333333,
              "#9c179e"
             ],
             [
              0.4444444444444444,
              "#bd3786"
             ],
             [
              0.5555555555555556,
              "#d8576b"
             ],
             [
              0.6666666666666666,
              "#ed7953"
             ],
             [
              0.7777777777777778,
              "#fb9f3a"
             ],
             [
              0.8888888888888888,
              "#fdca26"
             ],
             [
              1,
              "#f0f921"
             ]
            ],
            "type": "surface"
           }
          ],
          "table": [
           {
            "cells": {
             "fill": {
              "color": "#EBF0F8"
             },
             "line": {
              "color": "white"
             }
            },
            "header": {
             "fill": {
              "color": "#C8D4E3"
             },
             "line": {
              "color": "white"
             }
            },
            "type": "table"
           }
          ]
         },
         "layout": {
          "annotationdefaults": {
           "arrowcolor": "#2a3f5f",
           "arrowhead": 0,
           "arrowwidth": 1
          },
          "autotypenumbers": "strict",
          "coloraxis": {
           "colorbar": {
            "outlinewidth": 0,
            "ticks": ""
           }
          },
          "colorscale": {
           "diverging": [
            [
             0,
             "#8e0152"
            ],
            [
             0.1,
             "#c51b7d"
            ],
            [
             0.2,
             "#de77ae"
            ],
            [
             0.3,
             "#f1b6da"
            ],
            [
             0.4,
             "#fde0ef"
            ],
            [
             0.5,
             "#f7f7f7"
            ],
            [
             0.6,
             "#e6f5d0"
            ],
            [
             0.7,
             "#b8e186"
            ],
            [
             0.8,
             "#7fbc41"
            ],
            [
             0.9,
             "#4d9221"
            ],
            [
             1,
             "#276419"
            ]
           ],
           "sequential": [
            [
             0,
             "#0d0887"
            ],
            [
             0.1111111111111111,
             "#46039f"
            ],
            [
             0.2222222222222222,
             "#7201a8"
            ],
            [
             0.3333333333333333,
             "#9c179e"
            ],
            [
             0.4444444444444444,
             "#bd3786"
            ],
            [
             0.5555555555555556,
             "#d8576b"
            ],
            [
             0.6666666666666666,
             "#ed7953"
            ],
            [
             0.7777777777777778,
             "#fb9f3a"
            ],
            [
             0.8888888888888888,
             "#fdca26"
            ],
            [
             1,
             "#f0f921"
            ]
           ],
           "sequentialminus": [
            [
             0,
             "#0d0887"
            ],
            [
             0.1111111111111111,
             "#46039f"
            ],
            [
             0.2222222222222222,
             "#7201a8"
            ],
            [
             0.3333333333333333,
             "#9c179e"
            ],
            [
             0.4444444444444444,
             "#bd3786"
            ],
            [
             0.5555555555555556,
             "#d8576b"
            ],
            [
             0.6666666666666666,
             "#ed7953"
            ],
            [
             0.7777777777777778,
             "#fb9f3a"
            ],
            [
             0.8888888888888888,
             "#fdca26"
            ],
            [
             1,
             "#f0f921"
            ]
           ]
          },
          "colorway": [
           "#636efa",
           "#EF553B",
           "#00cc96",
           "#ab63fa",
           "#FFA15A",
           "#19d3f3",
           "#FF6692",
           "#B6E880",
           "#FF97FF",
           "#FECB52"
          ],
          "font": {
           "color": "#2a3f5f"
          },
          "geo": {
           "bgcolor": "white",
           "lakecolor": "white",
           "landcolor": "white",
           "showlakes": true,
           "showland": true,
           "subunitcolor": "#C8D4E3"
          },
          "hoverlabel": {
           "align": "left"
          },
          "hovermode": "closest",
          "mapbox": {
           "style": "light"
          },
          "paper_bgcolor": "white",
          "plot_bgcolor": "white",
          "polar": {
           "angularaxis": {
            "gridcolor": "#EBF0F8",
            "linecolor": "#EBF0F8",
            "ticks": ""
           },
           "bgcolor": "white",
           "radialaxis": {
            "gridcolor": "#EBF0F8",
            "linecolor": "#EBF0F8",
            "ticks": ""
           }
          },
          "scene": {
           "xaxis": {
            "backgroundcolor": "white",
            "gridcolor": "#DFE8F3",
            "gridwidth": 2,
            "linecolor": "#EBF0F8",
            "showbackground": true,
            "ticks": "",
            "zerolinecolor": "#EBF0F8"
           },
           "yaxis": {
            "backgroundcolor": "white",
            "gridcolor": "#DFE8F3",
            "gridwidth": 2,
            "linecolor": "#EBF0F8",
            "showbackground": true,
            "ticks": "",
            "zerolinecolor": "#EBF0F8"
           },
           "zaxis": {
            "backgroundcolor": "white",
            "gridcolor": "#DFE8F3",
            "gridwidth": 2,
            "linecolor": "#EBF0F8",
            "showbackground": true,
            "ticks": "",
            "zerolinecolor": "#EBF0F8"
           }
          },
          "shapedefaults": {
           "line": {
            "color": "#2a3f5f"
           }
          },
          "ternary": {
           "aaxis": {
            "gridcolor": "#DFE8F3",
            "linecolor": "#A2B1C6",
            "ticks": ""
           },
           "baxis": {
            "gridcolor": "#DFE8F3",
            "linecolor": "#A2B1C6",
            "ticks": ""
           },
           "bgcolor": "white",
           "caxis": {
            "gridcolor": "#DFE8F3",
            "linecolor": "#A2B1C6",
            "ticks": ""
           }
          },
          "title": {
           "x": 0.05
          },
          "xaxis": {
           "automargin": true,
           "gridcolor": "#EBF0F8",
           "linecolor": "#EBF0F8",
           "ticks": "",
           "title": {
            "standoff": 15
           },
           "zerolinecolor": "#EBF0F8",
           "zerolinewidth": 2
          },
          "yaxis": {
           "automargin": true,
           "gridcolor": "#EBF0F8",
           "linecolor": "#EBF0F8",
           "ticks": "",
           "title": {
            "standoff": 15
           },
           "zerolinecolor": "#EBF0F8",
           "zerolinewidth": 2
          }
         }
        },
        "title": {
         "text": "Example Heatmap"
        },
        "width": 800,
        "xaxis": {
         "title": {
          "text": "X Axis"
         }
        },
        "yaxis": {
         "title": {
          "text": "Y Axis"
         }
        }
       }
      }
     },
     "metadata": {},
     "output_type": "display_data"
    }
   ],
   "source": [
    "def get_default_heatmap_fig() -> go.Figure:\n",
    "    \"\"\"Create a default heatmap figure with standard configuration.\n",
    "\n",
    "    Returns:\n",
    "        go.Figure: A plotly figure with default heatmap settings\n",
    "    \"\"\"\n",
    "    # General Viz Config\n",
    "    heatmap_layout = go.Layout(\n",
    "        modebar=go.layout.Modebar(\n",
    "            remove=[\n",
    "                \"zoomIn2d\",\n",
    "                \"zoomOut2d\",\n",
    "                \"autoScale2d\",\n",
    "                \"resetScale2d\",\n",
    "                \"hoverClosestCartesian\",\n",
    "                \"hoverCompareCartesian\",\n",
    "                \"toggleSpikelines\",\n",
    "            ]\n",
    "        ),\n",
    "        dragmode=False,\n",
    "        width=800,\n",
    "        height=600,\n",
    "    )\n",
    "\n",
    "    heatmap_trace = go.Heatmap(\n",
    "        colorscale=\"Viridis\",\n",
    "        textfont={\"color\": \"black\"},\n",
    "        reversescale=False,\n",
    "        showscale=True,\n",
    "        showlegend=False,\n",
    "    )\n",
    "\n",
    "    return go.Figure(data=heatmap_trace, layout=heatmap_layout)\n",
    "\n",
    "\n",
    "# Create example data\n",
    "x_labels = [\"A\", \"B\", \"C\"]  # <--- [NEW] Added example x labels\n",
    "y_labels = [\"X\", \"Y\", \"Z\"]  # <--- [NEW] Added example y labels\n",
    "z_values = [\n",
    "    [1, 2, 3],  # <--- [NEW] Added 2D array for heatmap values\n",
    "    [4, 5, 6],\n",
    "    [7, 8, 9],\n",
    "]\n",
    "\n",
    "# Create and configure figure\n",
    "fig = get_default_heatmap_fig()\n",
    "heatmap_trace: go.Heatmap = fig.data[0]\n",
    "heatmap_trace.x = x_labels  # <--- [CHANGED] Set x axis labels\n",
    "heatmap_trace.y = y_labels  # <--- [CHANGED] Set y axis labels\n",
    "heatmap_trace.z = z_values  # <--- [CHANGED] Set z values as 2D array\n",
    "\n",
    "# Update layout with titles\n",
    "fig.update_layout(  # <--- [NEW] Added titles\n",
    "    title=\"Example Heatmap\", xaxis_title=\"X Axis\", yaxis_title=\"Y Axis\"\n",
    ")\n",
    "\n",
    "fig  # Display the figure"
   ]
  },
  {
   "cell_type": "code",
   "execution_count": 41,
   "metadata": {},
   "outputs": [
    {
     "name": "stderr",
     "output_type": "stream",
     "text": [
      "\u001b[32m2024-12-13 18:55:47.752\u001b[0m | \u001b[1mINFO    \u001b[0m | \u001b[36m__main__\u001b[0m:\u001b[36mheatmap\u001b[0m:\u001b[36m41\u001b[0m - \u001b[1m['Charles Henderson', 'Melinda Trujillo', 'Sarah Blake', 'Sandra Gonzales', 'Tammy Carson', 'Paul York', 'Patricia Torres', 'Rachel Tanner', 'James Thompson', 'Micheal Lucas']\u001b[0m\n",
      "\u001b[32m2024-12-13 18:55:47.752\u001b[0m | \u001b[1mINFO    \u001b[0m | \u001b[36m__main__\u001b[0m:\u001b[36mheatmap\u001b[0m:\u001b[36m42\u001b[0m - \u001b[1mCreating heatmap visualization...\u001b[0m\n"
     ]
    },
    {
     "data": {
      "application/vnd.plotly.v1+json": {
       "config": {
        "plotlyServerURL": "https://plot.ly"
       },
       "data": [
        {
         "colorscale": [
          [
           0,
           "#440154"
          ],
          [
           0.1111111111111111,
           "#482878"
          ],
          [
           0.2222222222222222,
           "#3e4989"
          ],
          [
           0.3333333333333333,
           "#31688e"
          ],
          [
           0.4444444444444444,
           "#26828e"
          ],
          [
           0.5555555555555556,
           "#1f9e89"
          ],
          [
           0.6666666666666666,
           "#35b779"
          ],
          [
           0.7777777777777778,
           "#6ece58"
          ],
          [
           0.8888888888888888,
           "#b5de2b"
          ],
          [
           1,
           "#fde725"
          ]
         ],
         "reversescale": false,
         "showlegend": false,
         "showscale": true,
         "text": [
          [
           "0.01",
           "0.10",
           "0.57",
           "0.29",
           "0.29",
           "0.77",
           "0.99",
           "0.53",
           "0.00",
           "0.60"
          ],
          [
           "0.76",
           "0.18",
           "0.24",
           "0.21",
           "0.78",
           "0.93",
           "0.80",
           "0.38",
           "0.78",
           "0.55"
          ],
          [
           "0.41",
           "0.46",
           "0.13",
           "0.97",
           "0.82",
           "0.21",
           "0.64",
           "0.11",
           "0.10",
           "0.15"
          ],
          [
           "0.57",
           "0.32",
           "0.84",
           "0.61",
           "0.86",
           "0.96",
           "0.11",
           "0.32",
           "0.40",
           "0.37"
          ],
          [
           "0.24",
           "0.71",
           "0.18",
           "0.70",
           "0.39",
           "0.53",
           "0.66",
           "0.65",
           "0.24",
           "0.47"
          ],
          [
           "0.34",
           "0.98",
           "0.63",
           "0.33",
           "0.25",
           "0.01",
           "0.08",
           "0.81",
           "0.24",
           "0.64"
          ],
          [
           "0.95",
           "0.12",
           "0.93",
           "0.19",
           "0.89",
           "0.73",
           "0.82",
           "0.36",
           "0.29",
           "0.59"
          ],
          [
           "0.62",
           "0.86",
           "0.12",
           "0.40",
           "0.23",
           "0.36",
           "0.26",
           "0.12",
           "0.31",
           "0.99"
          ],
          [
           "0.69",
           "0.59",
           "0.80",
           "0.64",
           "0.46",
           "0.52",
           "0.05",
           "0.74",
           "0.36",
           "0.83"
          ],
          [
           "0.41",
           "0.68",
           "0.44",
           "0.16",
           "0.52",
           "0.96",
           "0.25",
           "0.19",
           "0.84",
           "0.38"
          ]
         ],
         "textfont": {
          "color": "black"
         },
         "texttemplate": "%{text}",
         "type": "heatmap",
         "x": [
          "Charles Henderson",
          "Melinda Trujillo",
          "Sarah Blake",
          "Sandra Gonzales",
          "Tammy Carson",
          "Paul York",
          "Patricia Torres",
          "Rachel Tanner",
          "James Thompson",
          "Micheal Lucas"
         ],
         "y": [
          "Charles Henderson",
          "Melinda Trujillo",
          "Sarah Blake",
          "Sandra Gonzales",
          "Tammy Carson",
          "Paul York",
          "Patricia Torres",
          "Rachel Tanner",
          "James Thompson",
          "Micheal Lucas"
         ],
         "z": [
          [
           0.01332988124137724,
           0.10155258700850078,
           0.5672629011845808,
           0.2892206846885119,
           0.287229730981448,
           0.7686950821950589,
           0.9915454694976327,
           0.5320054580970641,
           0.0025835635887759834,
           0.6014039333823012
          ],
          [
           0.7558637036604008,
           0.18135179414467484,
           0.24291871936160225,
           0.20842556954203784,
           0.784185036908595,
           0.9310849410419282,
           0.8025302111269813,
           0.3838455602223009,
           0.7811028451096586,
           0.5458051519571109
          ],
          [
           0.4097119854220458,
           0.45638901004443433,
           0.13377116028995617,
           0.9717723010056111,
           0.8235136585772058,
           0.2085229807780311,
           0.6449142168868106,
           0.1052213830494001,
           0.09516779111577822,
           0.14655900460563587
          ],
          [
           0.5703007745551871,
           0.31900611588561134,
           0.8364080330318824,
           0.6077639586108872,
           0.856144633443706,
           0.9632089187143751,
           0.11312307050045778,
           0.3247540726302097,
           0.4001096408539353,
           0.3658521489346641
          ],
          [
           0.23915892320687648,
           0.7072311005254844,
           0.17894672001100131,
           0.704386005957822,
           0.38881318359781014,
           0.5298567532960476,
           0.6564353773343607,
           0.6483246364546388,
           0.24077037380085864,
           0.4660182811441669
          ],
          [
           0.3368061274138431,
           0.9790910607268486,
           0.629095908651274,
           0.3311994676068186,
           0.24978320039228719,
           0.013156060236741207,
           0.07966734812390908,
           0.8121271317816278,
           0.23979952238850488,
           0.6422073159189602
          ],
          [
           0.9510815876120227,
           0.12084827046555624,
           0.9341940568911796,
           0.18959333336279272,
           0.8852450027520634,
           0.7286419533462265,
           0.8211061213892988,
           0.35592813714581195,
           0.28969900345177113,
           0.5916995715790265
          ],
          [
           0.6181936521313326,
           0.8598221346992201,
           0.12179486340981227,
           0.40490863418384615,
           0.225052466464701,
           0.3570262109431558,
           0.26358525305973124,
           0.11988160284746818,
           0.3053679150896612,
           0.9948969475048494
          ],
          [
           0.6921981973125715,
           0.5901298605859714,
           0.8001588802559912,
           0.6439465836952363,
           0.4640695261003014,
           0.5163498431018556,
           0.04842348932679885,
           0.7436275042485496,
           0.35720465345573693,
           0.8331755667636177
          ],
          [
           0.41271431234695766,
           0.6816887827112171,
           0.43612946652831,
           0.15543774569577362,
           0.5192094191533293,
           0.9648478423467696,
           0.24595258022377353,
           0.191206136357155,
           0.8431622002209399,
           0.3802204887894308
          ]
         ]
        }
       ],
       "layout": {
        "dragmode": false,
        "height": 600,
        "modebar": {
         "remove": [
          "zoomIn2d",
          "zoomOut2d",
          "autoScale2d",
          "resetScale2d",
          "hoverClosestCartesian",
          "hoverCompareCartesian",
          "toggleSpikelines"
         ]
        },
        "template": {
         "data": {
          "bar": [
           {
            "error_x": {
             "color": "#2a3f5f"
            },
            "error_y": {
             "color": "#2a3f5f"
            },
            "marker": {
             "line": {
              "color": "white",
              "width": 0.5
             },
             "pattern": {
              "fillmode": "overlay",
              "size": 10,
              "solidity": 0.2
             }
            },
            "type": "bar"
           }
          ],
          "barpolar": [
           {
            "marker": {
             "line": {
              "color": "white",
              "width": 0.5
             },
             "pattern": {
              "fillmode": "overlay",
              "size": 10,
              "solidity": 0.2
             }
            },
            "type": "barpolar"
           }
          ],
          "carpet": [
           {
            "aaxis": {
             "endlinecolor": "#2a3f5f",
             "gridcolor": "#C8D4E3",
             "linecolor": "#C8D4E3",
             "minorgridcolor": "#C8D4E3",
             "startlinecolor": "#2a3f5f"
            },
            "baxis": {
             "endlinecolor": "#2a3f5f",
             "gridcolor": "#C8D4E3",
             "linecolor": "#C8D4E3",
             "minorgridcolor": "#C8D4E3",
             "startlinecolor": "#2a3f5f"
            },
            "type": "carpet"
           }
          ],
          "choropleth": [
           {
            "colorbar": {
             "outlinewidth": 0,
             "ticks": ""
            },
            "type": "choropleth"
           }
          ],
          "contour": [
           {
            "colorbar": {
             "outlinewidth": 0,
             "ticks": ""
            },
            "colorscale": [
             [
              0,
              "#0d0887"
             ],
             [
              0.1111111111111111,
              "#46039f"
             ],
             [
              0.2222222222222222,
              "#7201a8"
             ],
             [
              0.3333333333333333,
              "#9c179e"
             ],
             [
              0.4444444444444444,
              "#bd3786"
             ],
             [
              0.5555555555555556,
              "#d8576b"
             ],
             [
              0.6666666666666666,
              "#ed7953"
             ],
             [
              0.7777777777777778,
              "#fb9f3a"
             ],
             [
              0.8888888888888888,
              "#fdca26"
             ],
             [
              1,
              "#f0f921"
             ]
            ],
            "type": "contour"
           }
          ],
          "contourcarpet": [
           {
            "colorbar": {
             "outlinewidth": 0,
             "ticks": ""
            },
            "type": "contourcarpet"
           }
          ],
          "heatmap": [
           {
            "colorbar": {
             "outlinewidth": 0,
             "ticks": ""
            },
            "colorscale": [
             [
              0,
              "#0d0887"
             ],
             [
              0.1111111111111111,
              "#46039f"
             ],
             [
              0.2222222222222222,
              "#7201a8"
             ],
             [
              0.3333333333333333,
              "#9c179e"
             ],
             [
              0.4444444444444444,
              "#bd3786"
             ],
             [
              0.5555555555555556,
              "#d8576b"
             ],
             [
              0.6666666666666666,
              "#ed7953"
             ],
             [
              0.7777777777777778,
              "#fb9f3a"
             ],
             [
              0.8888888888888888,
              "#fdca26"
             ],
             [
              1,
              "#f0f921"
             ]
            ],
            "type": "heatmap"
           }
          ],
          "heatmapgl": [
           {
            "colorbar": {
             "outlinewidth": 0,
             "ticks": ""
            },
            "colorscale": [
             [
              0,
              "#0d0887"
             ],
             [
              0.1111111111111111,
              "#46039f"
             ],
             [
              0.2222222222222222,
              "#7201a8"
             ],
             [
              0.3333333333333333,
              "#9c179e"
             ],
             [
              0.4444444444444444,
              "#bd3786"
             ],
             [
              0.5555555555555556,
              "#d8576b"
             ],
             [
              0.6666666666666666,
              "#ed7953"
             ],
             [
              0.7777777777777778,
              "#fb9f3a"
             ],
             [
              0.8888888888888888,
              "#fdca26"
             ],
             [
              1,
              "#f0f921"
             ]
            ],
            "type": "heatmapgl"
           }
          ],
          "histogram": [
           {
            "marker": {
             "pattern": {
              "fillmode": "overlay",
              "size": 10,
              "solidity": 0.2
             }
            },
            "type": "histogram"
           }
          ],
          "histogram2d": [
           {
            "colorbar": {
             "outlinewidth": 0,
             "ticks": ""
            },
            "colorscale": [
             [
              0,
              "#0d0887"
             ],
             [
              0.1111111111111111,
              "#46039f"
             ],
             [
              0.2222222222222222,
              "#7201a8"
             ],
             [
              0.3333333333333333,
              "#9c179e"
             ],
             [
              0.4444444444444444,
              "#bd3786"
             ],
             [
              0.5555555555555556,
              "#d8576b"
             ],
             [
              0.6666666666666666,
              "#ed7953"
             ],
             [
              0.7777777777777778,
              "#fb9f3a"
             ],
             [
              0.8888888888888888,
              "#fdca26"
             ],
             [
              1,
              "#f0f921"
             ]
            ],
            "type": "histogram2d"
           }
          ],
          "histogram2dcontour": [
           {
            "colorbar": {
             "outlinewidth": 0,
             "ticks": ""
            },
            "colorscale": [
             [
              0,
              "#0d0887"
             ],
             [
              0.1111111111111111,
              "#46039f"
             ],
             [
              0.2222222222222222,
              "#7201a8"
             ],
             [
              0.3333333333333333,
              "#9c179e"
             ],
             [
              0.4444444444444444,
              "#bd3786"
             ],
             [
              0.5555555555555556,
              "#d8576b"
             ],
             [
              0.6666666666666666,
              "#ed7953"
             ],
             [
              0.7777777777777778,
              "#fb9f3a"
             ],
             [
              0.8888888888888888,
              "#fdca26"
             ],
             [
              1,
              "#f0f921"
             ]
            ],
            "type": "histogram2dcontour"
           }
          ],
          "mesh3d": [
           {
            "colorbar": {
             "outlinewidth": 0,
             "ticks": ""
            },
            "type": "mesh3d"
           }
          ],
          "parcoords": [
           {
            "line": {
             "colorbar": {
              "outlinewidth": 0,
              "ticks": ""
             }
            },
            "type": "parcoords"
           }
          ],
          "pie": [
           {
            "automargin": true,
            "type": "pie"
           }
          ],
          "scatter": [
           {
            "fillpattern": {
             "fillmode": "overlay",
             "size": 10,
             "solidity": 0.2
            },
            "type": "scatter"
           }
          ],
          "scatter3d": [
           {
            "line": {
             "colorbar": {
              "outlinewidth": 0,
              "ticks": ""
             }
            },
            "marker": {
             "colorbar": {
              "outlinewidth": 0,
              "ticks": ""
             }
            },
            "type": "scatter3d"
           }
          ],
          "scattercarpet": [
           {
            "marker": {
             "colorbar": {
              "outlinewidth": 0,
              "ticks": ""
             }
            },
            "type": "scattercarpet"
           }
          ],
          "scattergeo": [
           {
            "marker": {
             "colorbar": {
              "outlinewidth": 0,
              "ticks": ""
             }
            },
            "type": "scattergeo"
           }
          ],
          "scattergl": [
           {
            "marker": {
             "colorbar": {
              "outlinewidth": 0,
              "ticks": ""
             }
            },
            "type": "scattergl"
           }
          ],
          "scattermapbox": [
           {
            "marker": {
             "colorbar": {
              "outlinewidth": 0,
              "ticks": ""
             }
            },
            "type": "scattermapbox"
           }
          ],
          "scatterpolar": [
           {
            "marker": {
             "colorbar": {
              "outlinewidth": 0,
              "ticks": ""
             }
            },
            "type": "scatterpolar"
           }
          ],
          "scatterpolargl": [
           {
            "marker": {
             "colorbar": {
              "outlinewidth": 0,
              "ticks": ""
             }
            },
            "type": "scatterpolargl"
           }
          ],
          "scatterternary": [
           {
            "marker": {
             "colorbar": {
              "outlinewidth": 0,
              "ticks": ""
             }
            },
            "type": "scatterternary"
           }
          ],
          "surface": [
           {
            "colorbar": {
             "outlinewidth": 0,
             "ticks": ""
            },
            "colorscale": [
             [
              0,
              "#0d0887"
             ],
             [
              0.1111111111111111,
              "#46039f"
             ],
             [
              0.2222222222222222,
              "#7201a8"
             ],
             [
              0.3333333333333333,
              "#9c179e"
             ],
             [
              0.4444444444444444,
              "#bd3786"
             ],
             [
              0.5555555555555556,
              "#d8576b"
             ],
             [
              0.6666666666666666,
              "#ed7953"
             ],
             [
              0.7777777777777778,
              "#fb9f3a"
             ],
             [
              0.8888888888888888,
              "#fdca26"
             ],
             [
              1,
              "#f0f921"
             ]
            ],
            "type": "surface"
           }
          ],
          "table": [
           {
            "cells": {
             "fill": {
              "color": "#EBF0F8"
             },
             "line": {
              "color": "white"
             }
            },
            "header": {
             "fill": {
              "color": "#C8D4E3"
             },
             "line": {
              "color": "white"
             }
            },
            "type": "table"
           }
          ]
         },
         "layout": {
          "annotationdefaults": {
           "arrowcolor": "#2a3f5f",
           "arrowhead": 0,
           "arrowwidth": 1
          },
          "autotypenumbers": "strict",
          "coloraxis": {
           "colorbar": {
            "outlinewidth": 0,
            "ticks": ""
           }
          },
          "colorscale": {
           "diverging": [
            [
             0,
             "#8e0152"
            ],
            [
             0.1,
             "#c51b7d"
            ],
            [
             0.2,
             "#de77ae"
            ],
            [
             0.3,
             "#f1b6da"
            ],
            [
             0.4,
             "#fde0ef"
            ],
            [
             0.5,
             "#f7f7f7"
            ],
            [
             0.6,
             "#e6f5d0"
            ],
            [
             0.7,
             "#b8e186"
            ],
            [
             0.8,
             "#7fbc41"
            ],
            [
             0.9,
             "#4d9221"
            ],
            [
             1,
             "#276419"
            ]
           ],
           "sequential": [
            [
             0,
             "#0d0887"
            ],
            [
             0.1111111111111111,
             "#46039f"
            ],
            [
             0.2222222222222222,
             "#7201a8"
            ],
            [
             0.3333333333333333,
             "#9c179e"
            ],
            [
             0.4444444444444444,
             "#bd3786"
            ],
            [
             0.5555555555555556,
             "#d8576b"
            ],
            [
             0.6666666666666666,
             "#ed7953"
            ],
            [
             0.7777777777777778,
             "#fb9f3a"
            ],
            [
             0.8888888888888888,
             "#fdca26"
            ],
            [
             1,
             "#f0f921"
            ]
           ],
           "sequentialminus": [
            [
             0,
             "#0d0887"
            ],
            [
             0.1111111111111111,
             "#46039f"
            ],
            [
             0.2222222222222222,
             "#7201a8"
            ],
            [
             0.3333333333333333,
             "#9c179e"
            ],
            [
             0.4444444444444444,
             "#bd3786"
            ],
            [
             0.5555555555555556,
             "#d8576b"
            ],
            [
             0.6666666666666666,
             "#ed7953"
            ],
            [
             0.7777777777777778,
             "#fb9f3a"
            ],
            [
             0.8888888888888888,
             "#fdca26"
            ],
            [
             1,
             "#f0f921"
            ]
           ]
          },
          "colorway": [
           "#636efa",
           "#EF553B",
           "#00cc96",
           "#ab63fa",
           "#FFA15A",
           "#19d3f3",
           "#FF6692",
           "#B6E880",
           "#FF97FF",
           "#FECB52"
          ],
          "font": {
           "color": "#2a3f5f"
          },
          "geo": {
           "bgcolor": "white",
           "lakecolor": "white",
           "landcolor": "white",
           "showlakes": true,
           "showland": true,
           "subunitcolor": "#C8D4E3"
          },
          "hoverlabel": {
           "align": "left"
          },
          "hovermode": "closest",
          "mapbox": {
           "style": "light"
          },
          "paper_bgcolor": "white",
          "plot_bgcolor": "white",
          "polar": {
           "angularaxis": {
            "gridcolor": "#EBF0F8",
            "linecolor": "#EBF0F8",
            "ticks": ""
           },
           "bgcolor": "white",
           "radialaxis": {
            "gridcolor": "#EBF0F8",
            "linecolor": "#EBF0F8",
            "ticks": ""
           }
          },
          "scene": {
           "xaxis": {
            "backgroundcolor": "white",
            "gridcolor": "#DFE8F3",
            "gridwidth": 2,
            "linecolor": "#EBF0F8",
            "showbackground": true,
            "ticks": "",
            "zerolinecolor": "#EBF0F8"
           },
           "yaxis": {
            "backgroundcolor": "white",
            "gridcolor": "#DFE8F3",
            "gridwidth": 2,
            "linecolor": "#EBF0F8",
            "showbackground": true,
            "ticks": "",
            "zerolinecolor": "#EBF0F8"
           },
           "zaxis": {
            "backgroundcolor": "white",
            "gridcolor": "#DFE8F3",
            "gridwidth": 2,
            "linecolor": "#EBF0F8",
            "showbackground": true,
            "ticks": "",
            "zerolinecolor": "#EBF0F8"
           }
          },
          "shapedefaults": {
           "line": {
            "color": "#2a3f5f"
           }
          },
          "ternary": {
           "aaxis": {
            "gridcolor": "#DFE8F3",
            "linecolor": "#A2B1C6",
            "ticks": ""
           },
           "baxis": {
            "gridcolor": "#DFE8F3",
            "linecolor": "#A2B1C6",
            "ticks": ""
           },
           "bgcolor": "white",
           "caxis": {
            "gridcolor": "#DFE8F3",
            "linecolor": "#A2B1C6",
            "ticks": ""
           }
          },
          "title": {
           "x": 0.05
          },
          "xaxis": {
           "automargin": true,
           "gridcolor": "#EBF0F8",
           "linecolor": "#EBF0F8",
           "ticks": "",
           "title": {
            "standoff": 15
           },
           "zerolinecolor": "#EBF0F8",
           "zerolinewidth": 2
          },
          "yaxis": {
           "automargin": true,
           "gridcolor": "#EBF0F8",
           "linecolor": "#EBF0F8",
           "ticks": "",
           "title": {
            "standoff": 15
           },
           "zerolinecolor": "#EBF0F8",
           "zerolinewidth": 2
          }
         }
        },
        "title": {
         "text": "DEFAULT TITLE"
        },
        "width": 800,
        "xaxis": {
         "fixedrange": true,
         "nticks": 10,
         "title": {}
        },
        "yaxis": {
         "fixedrange": true,
         "nticks": 10,
         "title": {}
        }
       }
      }
     },
     "metadata": {},
     "output_type": "display_data"
    }
   ],
   "source": [
    "def heatmap(\n",
    "    matrix: np.ndarray | None = None,\n",
    "    labels: list | None = None,\n",
    "    title: str = \"DEFAULT TITLE\",\n",
    "    show_values: bool = True,\n",
    "    value_format: Literal[\".2f\", \".2e\"] = \".2f\",\n",
    "    width: int = 800,\n",
    "    height: int = 600,\n",
    "    xaxis_title: str | None = None,\n",
    "    yaxis_title: str | None = None,\n",
    "    log: bool = False,\n",
    "    nan_diagnal: bool = False,\n",
    ") -> go.Figure:\n",
    "    \"\"\"Create a heatmap visualization using plotly.\n",
    "\n",
    "    Args:\n",
    "        matrix: Input matrix to visualize. If None, generates random demo data\n",
    "        labels: Labels for rows and columns. If None, generates fake names\n",
    "        title: Title of the heatmap\n",
    "        show_values: Whether to show values in cells\n",
    "        value_format: Format string for cell values\n",
    "        width: Width of the figure in pixels\n",
    "        height: Height of the figure in pixels\n",
    "        xaxis_title: Title for x-axis\n",
    "        yaxis_title: Title for y-axis\n",
    "        log: Whether to log10 transform the values\n",
    "        nan_diagnal: Whether to set diagonal to NaN\n",
    "\n",
    "    Returns:\n",
    "        go.Figure: Plotly figure object\n",
    "    \"\"\"\n",
    "    if matrix is None:\n",
    "        faker = Faker()\n",
    "        shape = (10, 10)\n",
    "        matrix = rng.random(shape)\n",
    "    else:\n",
    "        shape = matrix.shape\n",
    "\n",
    "    if labels is None:\n",
    "        labels = [faker.name() for _ in range(shape[0])]\n",
    "        logger.info(labels)\n",
    "    logger.info(\"Creating heatmap visualization...\")\n",
    "\n",
    "    # Convert input to numpy array and handle None values\n",
    "    matrix = np.array(matrix, dtype=object)\n",
    "    none_mask = matrix is None\n",
    "    matrix = matrix.astype(float)\n",
    "    if log:\n",
    "        matrix = np.log10(matrix)\n",
    "    matrix[none_mask] = np.nan\n",
    "    if nan_diagnal:\n",
    "        matrix[np.identity(matrix.shape[0], dtype=bool)] = np.nan\n",
    "\n",
    "    # Format cell values if needed\n",
    "    text_vals = None\n",
    "    if show_values:\n",
    "        text_vals = np.vectorize(lambda x: \"N/A\" if np.isnan(x) else f\"{x:{value_format}}\")(matrix)\n",
    "\n",
    "    # Create figure\n",
    "    fig = get_default_heatmap_fig()\n",
    "    heatmap_trace: go.Heatmap = fig.data[0]\n",
    "    heatmap_trace.update(\n",
    "        go.Heatmap(\n",
    "            z=matrix,\n",
    "            x=labels,\n",
    "            y=labels,\n",
    "            text=text_vals,\n",
    "            texttemplate=\"%{text}\" if show_values else None,\n",
    "        ),\n",
    "        overwrite=True,\n",
    "    )\n",
    "\n",
    "    # Update layout using plotly objects\n",
    "    fig.update_layout(\n",
    "        title=title,\n",
    "        height=height,\n",
    "        width=width,\n",
    "    )\n",
    "\n",
    "    # Update axes\n",
    "    fig.update_xaxes(\n",
    "        title=xaxis_title,\n",
    "        nticks=len(labels) if labels else None,\n",
    "        fixedrange=True,  # Disable zoom/pan\n",
    "    )\n",
    "\n",
    "    fig.update_yaxes(\n",
    "        title=yaxis_title,\n",
    "        nticks=len(labels) if labels else None,\n",
    "        fixedrange=True,  # Disable zoom/pan\n",
    "    )\n",
    "\n",
    "    return fig\n",
    "\n",
    "\n",
    "heatmap()"
   ]
  },
  {
   "cell_type": "code",
   "execution_count": 49,
   "metadata": {},
   "outputs": [
    {
     "name": "stderr",
     "output_type": "stream",
     "text": [
      "\u001b[32m2024-12-13 18:59:24.093\u001b[0m | \u001b[1mINFO    \u001b[0m | \u001b[36m__main__\u001b[0m:\u001b[36mheatmap\u001b[0m:\u001b[36m42\u001b[0m - \u001b[1mCreating heatmap visualization...\u001b[0m\n",
      "\u001b[32m2024-12-13 18:59:24.100\u001b[0m | \u001b[1mINFO    \u001b[0m | \u001b[36m__main__\u001b[0m:\u001b[36mheatmap\u001b[0m:\u001b[36m42\u001b[0m - \u001b[1mCreating heatmap visualization...\u001b[0m\n",
      "\u001b[32m2024-12-13 18:59:24.105\u001b[0m | \u001b[1mINFO    \u001b[0m | \u001b[36m__main__\u001b[0m:\u001b[36mheatmap\u001b[0m:\u001b[36m42\u001b[0m - \u001b[1mCreating heatmap visualization...\u001b[0m\n",
      "\u001b[32m2024-12-13 18:59:24.110\u001b[0m | \u001b[1mINFO    \u001b[0m | \u001b[36m__main__\u001b[0m:\u001b[36mheatmap\u001b[0m:\u001b[36m42\u001b[0m - \u001b[1mCreating heatmap visualization...\u001b[0m\n",
      "\u001b[32m2024-12-13 18:59:24.116\u001b[0m | \u001b[1mINFO    \u001b[0m | \u001b[36m__main__\u001b[0m:\u001b[36mheatmap\u001b[0m:\u001b[36m42\u001b[0m - \u001b[1mCreating heatmap visualization...\u001b[0m\n",
      "\u001b[32m2024-12-13 18:59:24.122\u001b[0m | \u001b[1mINFO    \u001b[0m | \u001b[36m__main__\u001b[0m:\u001b[36mheatmap\u001b[0m:\u001b[36m42\u001b[0m - \u001b[1mCreating heatmap visualization...\u001b[0m\n"
     ]
    },
    {
     "data": {
      "application/vnd.plotly.v1+json": {
       "config": {
        "plotlyServerURL": "https://plot.ly"
       },
       "data": [
        {
         "colorscale": [
          [
           0,
           "#440154"
          ],
          [
           0.1111111111111111,
           "#482878"
          ],
          [
           0.2222222222222222,
           "#3e4989"
          ],
          [
           0.3333333333333333,
           "#31688e"
          ],
          [
           0.4444444444444444,
           "#26828e"
          ],
          [
           0.5555555555555556,
           "#1f9e89"
          ],
          [
           0.6666666666666666,
           "#35b779"
          ],
          [
           0.7777777777777778,
           "#6ece58"
          ],
          [
           0.8888888888888888,
           "#b5de2b"
          ],
          [
           1,
           "#fde725"
          ]
         ],
         "reversescale": false,
         "showlegend": false,
         "showscale": true,
         "text": [
          [
           "0.47",
           "0.61",
           "0.30",
           "0.50",
           "0.03",
           "0.56",
           "0.47",
           "0.24",
           "0.83",
           "0.82"
          ],
          [
           "0.48",
           "0.98",
           "0.46",
           "0.49",
           "0.70",
           "0.66",
           "0.31",
           "0.94",
           "0.90",
           "0.06"
          ],
          [
           "0.15",
           "0.69",
           "0.49",
           "0.14",
           "0.39",
           "0.40",
           "0.58",
           "0.78",
           "0.36",
           "0.67"
          ],
          [
           "0.66",
           "0.54",
           "0.59",
           "0.16",
           "0.48",
           "0.43",
           "0.57",
           "0.53",
           "0.00",
           "0.51"
          ],
          [
           "0.49",
           "0.26",
           "0.43",
           "0.09",
           "0.87",
           "0.88",
           "0.92",
           "0.79",
           "0.87",
           "0.63"
          ],
          [
           "0.74",
           "0.46",
           "0.64",
           "0.06",
           "0.57",
           "0.34",
           "0.08",
           "0.44",
           "0.79",
           "0.84"
          ],
          [
           "0.12",
           "0.07",
           "0.39",
           "0.39",
           "0.85",
           "0.59",
           "0.79",
           "0.16",
           "0.05",
           "0.95"
          ],
          [
           "0.02",
           "0.69",
           "0.41",
           "0.42",
           "0.96",
           "0.67",
           "0.81",
           "0.30",
           "0.02",
           "0.32"
          ],
          [
           "0.81",
           "0.25",
           "0.22",
           "0.35",
           "0.42",
           "0.80",
           "0.15",
           "0.45",
           "0.64",
           "0.25"
          ],
          [
           "0.42",
           "0.13",
           "0.25",
           "0.57",
           "0.37",
           "0.44",
           "0.89",
           "0.10",
           "0.63",
           "0.52"
          ]
         ],
         "textfont": {
          "color": "black"
         },
         "texttemplate": "%{text}",
         "type": "heatmap",
         "x": [
          "Stephanie Larson",
          "Jesse Williams",
          "Justin Ferguson",
          "Jason Jones",
          "Timothy Dixon",
          "Nicholas Compton",
          "Kylie Carr",
          "Mary Daugherty",
          "Kristine Gonzalez",
          "John Wise"
         ],
         "y": [
          "Stephanie Larson",
          "Jesse Williams",
          "Justin Ferguson",
          "Jason Jones",
          "Timothy Dixon",
          "Nicholas Compton",
          "Kylie Carr",
          "Mary Daugherty",
          "Kristine Gonzalez",
          "John Wise"
         ],
         "z": [
          [
           0.46729454752171296,
           0.6064265540611151,
           0.3034568854246251,
           0.5018163537304371,
           0.029932594182358385,
           0.5582328728314891,
           0.47234910165571864,
           0.23602983766077978,
           0.8286304154935686,
           0.8216418062518664
          ],
          [
           0.4845475608618257,
           0.977470846479023,
           0.46271860057940106,
           0.4864096069413063,
           0.6988649000464501,
           0.6599419127077386,
           0.3089947144777292,
           0.9400729203004333,
           0.9047673088623304,
           0.06367063283323393
          ],
          [
           0.1536112790990889,
           0.6899513470872526,
           0.4943128583539702,
           0.13786441700384278,
           0.39081500924233414,
           0.4008996508851732,
           0.5781506682781818,
           0.7761575947769598,
           0.3585281319917537,
           0.6672967020796665
          ],
          [
           0.6641335390410505,
           0.5356749163887893,
           0.593752104068429,
           0.16022310490304825,
           0.47567869192669454,
           0.4320469844598577,
           0.5653190798985841,
           0.5296205149520831,
           0.0027867586150148727,
           0.5130927593990458
          ],
          [
           0.4858896713197701,
           0.25508211529825653,
           0.4325018068559262,
           0.09099158253209061,
           0.8728377557585332,
           0.8774441275184249,
           0.9198810314629743,
           0.786856779172172,
           0.8685504996170905,
           0.6318243766022579
          ],
          [
           0.7407294784553959,
           0.4613543737446629,
           0.6387209766360976,
           0.0638023936167994,
           0.5711471430950273,
           0.3372214868289509,
           0.07646339418222037,
           0.44199584121709634,
           0.7911498467451721,
           0.8400580377210196
          ],
          [
           0.12192005473212653,
           0.06751491689944211,
           0.38787163736888775,
           0.38716776105302997,
           0.8533537398806349,
           0.5874346530954963,
           0.789539405916148,
           0.16113835824547085,
           0.05209994180256261,
           0.9525335334887068
          ],
          [
           0.021269335445904702,
           0.6935842203403589,
           0.411353247924354,
           0.42306801142906036,
           0.9571291374956725,
           0.6746277246043868,
           0.8102667900640715,
           0.304791440980582,
           0.015059290200273079,
           0.3180540858286923
          ],
          [
           0.8148756082041632,
           0.24906969830331216,
           0.21662817178486604,
           0.3511380375135944,
           0.419925528793335,
           0.7992796475606081,
           0.15200892609767325,
           0.4502694622824598,
           0.6437487346722581,
           0.2509498595575078
          ],
          [
           0.41642276261103006,
           0.13360555822207676,
           0.24957737015379544,
           0.5684791020045821,
           0.37406711032847584,
           0.43977989567921083,
           0.8876087118605895,
           0.09522602168139538,
           0.626570265268726,
           0.5208479478624949
          ]
         ]
        }
       ],
       "frames": [
        {
         "data": [
          {
           "colorscale": [
            [
             0,
             "#440154"
            ],
            [
             0.1111111111111111,
             "#482878"
            ],
            [
             0.2222222222222222,
             "#3e4989"
            ],
            [
             0.3333333333333333,
             "#31688e"
            ],
            [
             0.4444444444444444,
             "#26828e"
            ],
            [
             0.5555555555555556,
             "#1f9e89"
            ],
            [
             0.6666666666666666,
             "#35b779"
            ],
            [
             0.7777777777777778,
             "#6ece58"
            ],
            [
             0.8888888888888888,
             "#b5de2b"
            ],
            [
             1,
             "#fde725"
            ]
           ],
           "reversescale": false,
           "showlegend": false,
           "showscale": true,
           "text": [
            [
             "0.47",
             "0.61",
             "0.30",
             "0.50",
             "0.03",
             "0.56",
             "0.47",
             "0.24",
             "0.83",
             "0.82"
            ],
            [
             "0.48",
             "0.98",
             "0.46",
             "0.49",
             "0.70",
             "0.66",
             "0.31",
             "0.94",
             "0.90",
             "0.06"
            ],
            [
             "0.15",
             "0.69",
             "0.49",
             "0.14",
             "0.39",
             "0.40",
             "0.58",
             "0.78",
             "0.36",
             "0.67"
            ],
            [
             "0.66",
             "0.54",
             "0.59",
             "0.16",
             "0.48",
             "0.43",
             "0.57",
             "0.53",
             "0.00",
             "0.51"
            ],
            [
             "0.49",
             "0.26",
             "0.43",
             "0.09",
             "0.87",
             "0.88",
             "0.92",
             "0.79",
             "0.87",
             "0.63"
            ],
            [
             "0.74",
             "0.46",
             "0.64",
             "0.06",
             "0.57",
             "0.34",
             "0.08",
             "0.44",
             "0.79",
             "0.84"
            ],
            [
             "0.12",
             "0.07",
             "0.39",
             "0.39",
             "0.85",
             "0.59",
             "0.79",
             "0.16",
             "0.05",
             "0.95"
            ],
            [
             "0.02",
             "0.69",
             "0.41",
             "0.42",
             "0.96",
             "0.67",
             "0.81",
             "0.30",
             "0.02",
             "0.32"
            ],
            [
             "0.81",
             "0.25",
             "0.22",
             "0.35",
             "0.42",
             "0.80",
             "0.15",
             "0.45",
             "0.64",
             "0.25"
            ],
            [
             "0.42",
             "0.13",
             "0.25",
             "0.57",
             "0.37",
             "0.44",
             "0.89",
             "0.10",
             "0.63",
             "0.52"
            ]
           ],
           "textfont": {
            "color": "black"
           },
           "texttemplate": "%{text}",
           "type": "heatmap",
           "x": [
            "Stephanie Larson",
            "Jesse Williams",
            "Justin Ferguson",
            "Jason Jones",
            "Timothy Dixon",
            "Nicholas Compton",
            "Kylie Carr",
            "Mary Daugherty",
            "Kristine Gonzalez",
            "John Wise"
           ],
           "y": [
            "Stephanie Larson",
            "Jesse Williams",
            "Justin Ferguson",
            "Jason Jones",
            "Timothy Dixon",
            "Nicholas Compton",
            "Kylie Carr",
            "Mary Daugherty",
            "Kristine Gonzalez",
            "John Wise"
           ],
           "z": [
            [
             0.46729454752171296,
             0.6064265540611151,
             0.3034568854246251,
             0.5018163537304371,
             0.029932594182358385,
             0.5582328728314891,
             0.47234910165571864,
             0.23602983766077978,
             0.8286304154935686,
             0.8216418062518664
            ],
            [
             0.4845475608618257,
             0.977470846479023,
             0.46271860057940106,
             0.4864096069413063,
             0.6988649000464501,
             0.6599419127077386,
             0.3089947144777292,
             0.9400729203004333,
             0.9047673088623304,
             0.06367063283323393
            ],
            [
             0.1536112790990889,
             0.6899513470872526,
             0.4943128583539702,
             0.13786441700384278,
             0.39081500924233414,
             0.4008996508851732,
             0.5781506682781818,
             0.7761575947769598,
             0.3585281319917537,
             0.6672967020796665
            ],
            [
             0.6641335390410505,
             0.5356749163887893,
             0.593752104068429,
             0.16022310490304825,
             0.47567869192669454,
             0.4320469844598577,
             0.5653190798985841,
             0.5296205149520831,
             0.0027867586150148727,
             0.5130927593990458
            ],
            [
             0.4858896713197701,
             0.25508211529825653,
             0.4325018068559262,
             0.09099158253209061,
             0.8728377557585332,
             0.8774441275184249,
             0.9198810314629743,
             0.786856779172172,
             0.8685504996170905,
             0.6318243766022579
            ],
            [
             0.7407294784553959,
             0.4613543737446629,
             0.6387209766360976,
             0.0638023936167994,
             0.5711471430950273,
             0.3372214868289509,
             0.07646339418222037,
             0.44199584121709634,
             0.7911498467451721,
             0.8400580377210196
            ],
            [
             0.12192005473212653,
             0.06751491689944211,
             0.38787163736888775,
             0.38716776105302997,
             0.8533537398806349,
             0.5874346530954963,
             0.789539405916148,
             0.16113835824547085,
             0.05209994180256261,
             0.9525335334887068
            ],
            [
             0.021269335445904702,
             0.6935842203403589,
             0.411353247924354,
             0.42306801142906036,
             0.9571291374956725,
             0.6746277246043868,
             0.8102667900640715,
             0.304791440980582,
             0.015059290200273079,
             0.3180540858286923
            ],
            [
             0.8148756082041632,
             0.24906969830331216,
             0.21662817178486604,
             0.3511380375135944,
             0.419925528793335,
             0.7992796475606081,
             0.15200892609767325,
             0.4502694622824598,
             0.6437487346722581,
             0.2509498595575078
            ],
            [
             0.41642276261103006,
             0.13360555822207676,
             0.24957737015379544,
             0.5684791020045821,
             0.37406711032847584,
             0.43977989567921083,
             0.8876087118605895,
             0.09522602168139538,
             0.626570265268726,
             0.5208479478624949
            ]
           ]
          }
         ],
         "name": "frame_0"
        },
        {
         "data": [
          {
           "colorscale": [
            [
             0,
             "#440154"
            ],
            [
             0.1111111111111111,
             "#482878"
            ],
            [
             0.2222222222222222,
             "#3e4989"
            ],
            [
             0.3333333333333333,
             "#31688e"
            ],
            [
             0.4444444444444444,
             "#26828e"
            ],
            [
             0.5555555555555556,
             "#1f9e89"
            ],
            [
             0.6666666666666666,
             "#35b779"
            ],
            [
             0.7777777777777778,
             "#6ece58"
            ],
            [
             0.8888888888888888,
             "#b5de2b"
            ],
            [
             1,
             "#fde725"
            ]
           ],
           "reversescale": false,
           "showlegend": false,
           "showscale": true,
           "text": [
            [
             "0.16",
             "0.38",
             "0.16",
             "0.24",
             "0.59",
             "0.77",
             "0.72",
             "0.40",
             "0.80",
             "0.70"
            ],
            [
             "0.16",
             "0.53",
             "0.48",
             "0.58",
             "0.23",
             "0.34",
             "0.33",
             "0.98",
             "0.00",
             "0.64"
            ],
            [
             "0.59",
             "0.32",
             "0.49",
             "0.89",
             "0.29",
             "0.48",
             "0.14",
             "0.74",
             "0.08",
             "0.16"
            ],
            [
             "0.36",
             "0.49",
             "0.61",
             "0.00",
             "0.83",
             "0.72",
             "0.36",
             "0.48",
             "0.31",
             "0.98"
            ],
            [
             "0.43",
             "0.06",
             "0.76",
             "0.31",
             "0.40",
             "0.92",
             "0.06",
             "0.48",
             "0.88",
             "0.54"
            ],
            [
             "0.35",
             "0.61",
             "0.81",
             "0.24",
             "0.99",
             "0.81",
             "0.04",
             "0.44",
             "0.49",
             "0.32"
            ],
            [
             "0.99",
             "0.66",
             "0.88",
             "0.12",
             "0.54",
             "0.48",
             "0.73",
             "0.40",
             "0.90",
             "0.87"
            ],
            [
             "0.14",
             "0.34",
             "0.27",
             "0.36",
             "0.76",
             "0.18",
             "0.06",
             "0.55",
             "0.79",
             "0.10"
            ],
            [
             "0.84",
             "0.16",
             "0.06",
             "0.57",
             "0.74",
             "0.00",
             "0.32",
             "0.13",
             "0.54",
             "0.78"
            ],
            [
             "0.57",
             "0.26",
             "0.25",
             "0.65",
             "0.83",
             "0.56",
             "0.65",
             "0.45",
             "0.63",
             "0.97"
            ]
           ],
           "textfont": {
            "color": "black"
           },
           "texttemplate": "%{text}",
           "type": "heatmap",
           "x": [
            "Stephanie Larson",
            "Jesse Williams",
            "Justin Ferguson",
            "Jason Jones",
            "Timothy Dixon",
            "Nicholas Compton",
            "Kylie Carr",
            "Mary Daugherty",
            "Kristine Gonzalez",
            "John Wise"
           ],
           "y": [
            "Stephanie Larson",
            "Jesse Williams",
            "Justin Ferguson",
            "Jason Jones",
            "Timothy Dixon",
            "Nicholas Compton",
            "Kylie Carr",
            "Mary Daugherty",
            "Kristine Gonzalez",
            "John Wise"
           ],
           "z": [
            [
             0.15961852656028186,
             0.3837931832051127,
             0.1626282167590557,
             0.24143674014151517,
             0.5905514192523732,
             0.7717330602483751,
             0.7198475320400222,
             0.4015376516044852,
             0.801202501382898,
             0.6961576792445751
            ],
            [
             0.15921659288055123,
             0.5274407309474891,
             0.47616882762062684,
             0.5805463612709724,
             0.2273529555737107,
             0.3379235120066184,
             0.3264564521847255,
             0.9754446930221518,
             0.0022290075028803535,
             0.6378112747272039
            ],
            [
             0.5914681180287276,
             0.3236076803732547,
             0.4895328666783584,
             0.8864068971014903,
             0.2895644983913471,
             0.48004614931518197,
             0.13571998580946543,
             0.7365566760488255,
             0.077984124674366,
             0.1568218036480551
            ],
            [
             0.35727473088069606,
             0.48899809479442424,
             0.6056563471374048,
             0.0039627671981319335,
             0.830849661629049,
             0.7182784902331888,
             0.36105651852994003,
             0.47548547065665436,
             0.3060846488690917,
             0.9793663957036982
            ],
            [
             0.43031464845912626,
             0.055041510363837975,
             0.7556569314870062,
             0.30700301994368606,
             0.3987081837521551,
             0.9241103283990315,
             0.056432803828381006,
             0.47724976424585974,
             0.8804227405201625,
             0.5440782824329795
            ],
            [
             0.3540661873043843,
             0.6083894520214453,
             0.814514906603821,
             0.24154104525494813,
             0.9908086786958019,
             0.8056157842116173,
             0.03557259335265939,
             0.4393858000975006,
             0.4868680997073468,
             0.3159893788152992
            ],
            [
             0.9864353815380392,
             0.6600877187872183,
             0.880453326661621,
             0.12421696797267323,
             0.5413252976478242,
             0.47888646918285094,
             0.7260900063969018,
             0.3964968688016356,
             0.8954394868103354,
             0.8714717313770411
            ],
            [
             0.13733693969131655,
             0.3412536624874388,
             0.26887283837001896,
             0.3607450692927652,
             0.764745521926036,
             0.18475906125574837,
             0.059038218969094114,
             0.5468436193735547,
             0.7857844362414483,
             0.10183832435733953
            ],
            [
             0.8350073962182962,
             0.16079652138499068,
             0.06453711789747119,
             0.5678295964143394,
             0.7447108876571644,
             0.0014892079536404923,
             0.3150294282318413,
             0.13232776455526696,
             0.5426841786484321,
             0.7755031276191525
            ],
            [
             0.570481916908622,
             0.26080734830252483,
             0.2466879899137815,
             0.6547777920035832,
             0.8348595223773666,
             0.558765525928875,
             0.648634960705711,
             0.4450091536503413,
             0.630990800130813,
             0.9675497975450295
            ]
           ]
          }
         ],
         "name": "frame_1"
        },
        {
         "data": [
          {
           "colorscale": [
            [
             0,
             "#440154"
            ],
            [
             0.1111111111111111,
             "#482878"
            ],
            [
             0.2222222222222222,
             "#3e4989"
            ],
            [
             0.3333333333333333,
             "#31688e"
            ],
            [
             0.4444444444444444,
             "#26828e"
            ],
            [
             0.5555555555555556,
             "#1f9e89"
            ],
            [
             0.6666666666666666,
             "#35b779"
            ],
            [
             0.7777777777777778,
             "#6ece58"
            ],
            [
             0.8888888888888888,
             "#b5de2b"
            ],
            [
             1,
             "#fde725"
            ]
           ],
           "reversescale": false,
           "showlegend": false,
           "showscale": true,
           "text": [
            [
             "0.81",
             "0.01",
             "0.53",
             "0.51",
             "0.09",
             "0.82",
             "0.43",
             "0.70",
             "0.26",
             "0.95"
            ],
            [
             "0.34",
             "0.67",
             "0.36",
             "0.11",
             "0.03",
             "0.88",
             "0.58",
             "0.59",
             "0.14",
             "0.31"
            ],
            [
             "0.73",
             "0.39",
             "0.48",
             "0.22",
             "0.07",
             "0.52",
             "0.80",
             "0.04",
             "0.14",
             "0.89"
            ],
            [
             "0.78",
             "0.78",
             "0.89",
             "0.81",
             "0.31",
             "0.58",
             "0.98",
             "0.30",
             "0.58",
             "0.77"
            ],
            [
             "0.62",
             "0.58",
             "0.41",
             "0.60",
             "0.22",
             "0.23",
             "0.10",
             "0.66",
             "0.37",
             "0.89"
            ],
            [
             "0.11",
             "0.02",
             "0.25",
             "0.35",
             "0.68",
             "0.26",
             "0.91",
             "0.72",
             "0.99",
             "0.97"
            ],
            [
             "0.81",
             "0.89",
             "0.34",
             "0.40",
             "0.81",
             "0.47",
             "0.40",
             "0.09",
             "0.31",
             "0.24"
            ],
            [
             "0.39",
             "0.70",
             "0.78",
             "0.46",
             "0.18",
             "0.13",
             "0.17",
             "0.11",
             "0.86",
             "0.29"
            ],
            [
             "0.50",
             "0.11",
             "0.87",
             "0.03",
             "0.13",
             "0.33",
             "0.81",
             "0.31",
             "0.29",
             "0.09"
            ],
            [
             "0.36",
             "0.69",
             "0.82",
             "0.79",
             "0.75",
             "0.03",
             "0.71",
             "0.42",
             "0.24",
             "0.91"
            ]
           ],
           "textfont": {
            "color": "black"
           },
           "texttemplate": "%{text}",
           "type": "heatmap",
           "x": [
            "Stephanie Larson",
            "Jesse Williams",
            "Justin Ferguson",
            "Jason Jones",
            "Timothy Dixon",
            "Nicholas Compton",
            "Kylie Carr",
            "Mary Daugherty",
            "Kristine Gonzalez",
            "John Wise"
           ],
           "y": [
            "Stephanie Larson",
            "Jesse Williams",
            "Justin Ferguson",
            "Jason Jones",
            "Timothy Dixon",
            "Nicholas Compton",
            "Kylie Carr",
            "Mary Daugherty",
            "Kristine Gonzalez",
            "John Wise"
           ],
           "z": [
            [
             0.8064473258244141,
             0.00811786871513187,
             0.5336544126273584,
             0.5112099551926019,
             0.08556610542436682,
             0.8241983357646855,
             0.4295956778490867,
             0.6995557226081073,
             0.25973670552222183,
             0.9478640075483022
            ],
            [
             0.33511279690854057,
             0.6726717813374647,
             0.3580198415770295,
             0.11320229304625229,
             0.02524079500910137,
             0.8799213127118272,
             0.579752028189274,
             0.5912398718158263,
             0.14034432568558486,
             0.311071709910959
            ],
            [
             0.7273052994448231,
             0.3857251230102168,
             0.4842642998568356,
             0.21593092248760282,
             0.0665950245994551,
             0.5170823594349763,
             0.8009558308697968,
             0.037363068710016045,
             0.14341609206911365,
             0.8902489291399753
            ],
            [
             0.776570529788052,
             0.783342363311289,
             0.8948415878582174,
             0.8089991829642561,
             0.3082719477488186,
             0.5816411956156966,
             0.9775213953778442,
             0.29724458753635774,
             0.5771429466077502,
             0.7674564439925566
            ],
            [
             0.6199898700950288,
             0.5807256845670424,
             0.41123643347259786,
             0.6018083603209173,
             0.21597489800276415,
             0.23020288891788443,
             0.10264512747245547,
             0.6557562057451864,
             0.37293458605681484,
             0.8906922489341694
            ],
            [
             0.11197171165170461,
             0.023767757534675082,
             0.2518226892625871,
             0.3504218485751964,
             0.6753420460786099,
             0.2646719615105877,
             0.9053483655984939,
             0.7201379843582709,
             0.9850028067357696,
             0.9666327567637666
            ],
            [
             0.8096923483604365,
             0.8859016668493201,
             0.33660341901012725,
             0.4033203746029843,
             0.814092175046798,
             0.4707584905343354,
             0.39606814892457887,
             0.08738693853775448,
             0.31313613219922287,
             0.2403931607971791
            ],
            [
             0.3897224344233635,
             0.7025637121376549,
             0.7754299067676278,
             0.4638284111308527,
             0.17952556473393655,
             0.1303957445994557,
             0.16961445837617262,
             0.11038385299155162,
             0.8585276828752781,
             0.293649142357031
            ],
            [
             0.50430622825853,
             0.1137942796043826,
             0.8698464871457464,
             0.025539359745772705,
             0.1327882754536689,
             0.33168930630032367,
             0.8113001255785363,
             0.31364148876326325,
             0.2860119040553101,
             0.08846014098782051
            ],
            [
             0.36221489877084345,
             0.6930338182503368,
             0.822816887496231,
             0.7857009477012714,
             0.7544125185808292,
             0.03119775075533493,
             0.7058414844741959,
             0.42321924913551,
             0.24219226951631967,
             0.9092549074769746
            ]
           ]
          }
         ],
         "name": "frame_2"
        },
        {
         "data": [
          {
           "colorscale": [
            [
             0,
             "#440154"
            ],
            [
             0.1111111111111111,
             "#482878"
            ],
            [
             0.2222222222222222,
             "#3e4989"
            ],
            [
             0.3333333333333333,
             "#31688e"
            ],
            [
             0.4444444444444444,
             "#26828e"
            ],
            [
             0.5555555555555556,
             "#1f9e89"
            ],
            [
             0.6666666666666666,
             "#35b779"
            ],
            [
             0.7777777777777778,
             "#6ece58"
            ],
            [
             0.8888888888888888,
             "#b5de2b"
            ],
            [
             1,
             "#fde725"
            ]
           ],
           "reversescale": false,
           "showlegend": false,
           "showscale": true,
           "text": [
            [
             "0.65",
             "0.83",
             "0.07",
             "0.15",
             "0.91",
             "0.93",
             "0.37",
             "0.61",
             "0.06",
             "0.58"
            ],
            [
             "0.13",
             "0.49",
             "0.04",
             "0.76",
             "0.39",
             "0.93",
             "0.08",
             "0.92",
             "0.03",
             "0.91"
            ],
            [
             "0.65",
             "0.59",
             "0.20",
             "0.92",
             "0.05",
             "0.84",
             "0.99",
             "0.36",
             "0.67",
             "0.86"
            ],
            [
             "0.55",
             "0.02",
             "0.25",
             "0.61",
             "0.16",
             "0.07",
             "0.99",
             "0.00",
             "0.03",
             "0.09"
            ],
            [
             "0.70",
             "0.01",
             "0.64",
             "0.87",
             "0.90",
             "0.10",
             "0.24",
             "0.17",
             "0.58",
             "0.84"
            ],
            [
             "0.16",
             "0.43",
             "0.38",
             "0.58",
             "0.64",
             "0.57",
             "0.52",
             "0.60",
             "0.11",
             "0.13"
            ],
            [
             "0.56",
             "0.20",
             "0.56",
             "0.75",
             "0.81",
             "0.13",
             "0.08",
             "0.04",
             "0.48",
             "0.14"
            ],
            [
             "0.83",
             "0.23",
             "0.45",
             "0.28",
             "0.20",
             "0.94",
             "0.07",
             "0.73",
             "0.25",
             "0.10"
            ],
            [
             "0.17",
             "0.38",
             "0.65",
             "0.69",
             "0.12",
             "0.42",
             "0.12",
             "0.19",
             "0.23",
             "0.94"
            ],
            [
             "0.28",
             "0.19",
             "0.98",
             "0.69",
             "0.43",
             "0.96",
             "0.86",
             "0.93",
             "0.64",
             "0.25"
            ]
           ],
           "textfont": {
            "color": "black"
           },
           "texttemplate": "%{text}",
           "type": "heatmap",
           "x": [
            "Stephanie Larson",
            "Jesse Williams",
            "Justin Ferguson",
            "Jason Jones",
            "Timothy Dixon",
            "Nicholas Compton",
            "Kylie Carr",
            "Mary Daugherty",
            "Kristine Gonzalez",
            "John Wise"
           ],
           "y": [
            "Stephanie Larson",
            "Jesse Williams",
            "Justin Ferguson",
            "Jason Jones",
            "Timothy Dixon",
            "Nicholas Compton",
            "Kylie Carr",
            "Mary Daugherty",
            "Kristine Gonzalez",
            "John Wise"
           ],
           "z": [
            [
             0.6497196832933038,
             0.8272736223864767,
             0.0666301421675024,
             0.1526266026763058,
             0.9140981545634769,
             0.9258577026915691,
             0.3658475912380166,
             0.6079752985330591,
             0.05918643456994732,
             0.5799732627352366
            ],
            [
             0.12599821847951698,
             0.48670369914824707,
             0.03601349149859334,
             0.762763051304437,
             0.38667888063927125,
             0.9303610151587304,
             0.07979783519152872,
             0.9240356117947824,
             0.032205557255613915,
             0.9059266019411841
            ],
            [
             0.6494454826591279,
             0.593843358294637,
             0.20192125220729273,
             0.9198505558411836,
             0.05206435669286813,
             0.8407677182457528,
             0.9887274134103887,
             0.35799790935549713,
             0.6691315877572193,
             0.8603244229210703
            ],
            [
             0.5516451051926017,
             0.017623163916745788,
             0.2472674142517376,
             0.6116526487853822,
             0.15767951483559517,
             0.07205612205041001,
             0.9898950270607026,
             0.00010800680093148163,
             0.026266568545502578,
             0.08800275566480875
            ],
            [
             0.7040401649368728,
             0.007468354750500117,
             0.6436021489346456,
             0.872602289438646,
             0.9031132543596314,
             0.10486910179433728,
             0.24432652300625235,
             0.17253374176597203,
             0.5839454647821993,
             0.8407770836074514
            ],
            [
             0.1620414311580901,
             0.4322844417036358,
             0.3789516224373053,
             0.5780183852989372,
             0.637526792707455,
             0.5734995017055761,
             0.5189185902141557,
             0.5993900305989911,
             0.11033169125366704,
             0.12774474177503325
            ],
            [
             0.5557801169484589,
             0.19627178891506636,
             0.5614348747796423,
             0.7499983160197868,
             0.8081417276045125,
             0.12741525753264027,
             0.08093594911038582,
             0.04297668060305604,
             0.478229714689529,
             0.14148256422830385
            ],
            [
             0.8267646530918481,
             0.2328184505379871,
             0.4472435081328726,
             0.27990676582033447,
             0.1966773845493257,
             0.9415629880045638,
             0.07220419353182439,
             0.7322364051833282,
             0.25465382497814526,
             0.10205475562718391
            ],
            [
             0.16931949525077805,
             0.3807989655020031,
             0.6516175985729599,
             0.687087689618264,
             0.1178827127314046,
             0.41976468159365665,
             0.11633343986020417,
             0.1873285470652324,
             0.23102580387112626,
             0.9363547964421458
            ],
            [
             0.2791495542862963,
             0.19147420754881073,
             0.9831030583624762,
             0.6933185549743037,
             0.4319701932611616,
             0.9563124695533831,
             0.8608647194795523,
             0.9300040125532544,
             0.6398488438886439,
             0.2541009312931678
            ]
           ]
          }
         ],
         "name": "frame_3"
        },
        {
         "data": [
          {
           "colorscale": [
            [
             0,
             "#440154"
            ],
            [
             0.1111111111111111,
             "#482878"
            ],
            [
             0.2222222222222222,
             "#3e4989"
            ],
            [
             0.3333333333333333,
             "#31688e"
            ],
            [
             0.4444444444444444,
             "#26828e"
            ],
            [
             0.5555555555555556,
             "#1f9e89"
            ],
            [
             0.6666666666666666,
             "#35b779"
            ],
            [
             0.7777777777777778,
             "#6ece58"
            ],
            [
             0.8888888888888888,
             "#b5de2b"
            ],
            [
             1,
             "#fde725"
            ]
           ],
           "reversescale": false,
           "showlegend": false,
           "showscale": true,
           "text": [
            [
             "0.82",
             "0.82",
             "0.65",
             "0.98",
             "0.41",
             "0.39",
             "0.88",
             "0.35",
             "0.97",
             "0.90"
            ],
            [
             "0.67",
             "0.91",
             "0.15",
             "0.69",
             "0.76",
             "0.26",
             "0.16",
             "0.01",
             "0.37",
             "0.59"
            ],
            [
             "0.63",
             "0.20",
             "0.73",
             "0.28",
             "0.87",
             "0.63",
             "0.96",
             "0.41",
             "0.21",
             "0.67"
            ],
            [
             "0.74",
             "0.65",
             "0.25",
             "0.17",
             "0.72",
             "0.08",
             "0.36",
             "0.42",
             "1.00",
             "0.31"
            ],
            [
             "0.80",
             "0.57",
             "0.53",
             "0.54",
             "0.70",
             "0.88",
             "0.59",
             "0.44",
             "0.08",
             "0.10"
            ],
            [
             "0.30",
             "0.83",
             "0.78",
             "0.02",
             "0.68",
             "0.22",
             "0.74",
             "0.15",
             "0.49",
             "0.57"
            ],
            [
             "0.84",
             "0.63",
             "0.39",
             "0.96",
             "0.54",
             "0.34",
             "0.23",
             "0.63",
             "0.29",
             "0.91"
            ],
            [
             "0.69",
             "0.70",
             "0.27",
             "0.15",
             "0.08",
             "0.93",
             "0.59",
             "0.65",
             "0.69",
             "0.36"
            ],
            [
             "0.46",
             "0.26",
             "0.13",
             "0.72",
             "0.98",
             "0.26",
             "0.20",
             "0.52",
             "0.25",
             "0.13"
            ],
            [
             "0.23",
             "0.87",
             "0.99",
             "0.33",
             "0.36",
             "0.81",
             "0.05",
             "0.42",
             "0.71",
             "0.71"
            ]
           ],
           "textfont": {
            "color": "black"
           },
           "texttemplate": "%{text}",
           "type": "heatmap",
           "x": [
            "Stephanie Larson",
            "Jesse Williams",
            "Justin Ferguson",
            "Jason Jones",
            "Timothy Dixon",
            "Nicholas Compton",
            "Kylie Carr",
            "Mary Daugherty",
            "Kristine Gonzalez",
            "John Wise"
           ],
           "y": [
            "Stephanie Larson",
            "Jesse Williams",
            "Justin Ferguson",
            "Jason Jones",
            "Timothy Dixon",
            "Nicholas Compton",
            "Kylie Carr",
            "Mary Daugherty",
            "Kristine Gonzalez",
            "John Wise"
           ],
           "z": [
            [
             0.8191139694388084,
             0.8230389814356887,
             0.6525286882509065,
             0.9772095291080614,
             0.40560665056577583,
             0.3897113114449493,
             0.8823766788758513,
             0.3474355254104352,
             0.9697389722779549,
             0.9034865682019456
            ],
            [
             0.6701547408449074,
             0.9051786870158391,
             0.14788442379059108,
             0.6866161058084402,
             0.7567971904861028,
             0.26475410084759443,
             0.15640119642541006,
             0.0052037784066391035,
             0.36564059673061255,
             0.5928643194128241
            ],
            [
             0.6302800807893034,
             0.20092265783390784,
             0.728541670571077,
             0.2838725804039297,
             0.8749843005624257,
             0.6295227727433965,
             0.9595341179150095,
             0.40994996219703583,
             0.20607342731309997,
             0.669488338356725
            ],
            [
             0.7426530405763524,
             0.6517968654796699,
             0.25128989802751955,
             0.1697354781913013,
             0.7210328474953281,
             0.08211613294315212,
             0.35562427734230784,
             0.41633508745942227,
             0.9999967667212489,
             0.31381151841816823
            ],
            [
             0.8000279869036413,
             0.5739543673454478,
             0.5302300771507973,
             0.5373879638087701,
             0.6982701115322218,
             0.8788305643682937,
             0.5930565919024909,
             0.4351549976293355,
             0.08017584507703746,
             0.09910338837984622
            ],
            [
             0.2979204987287294,
             0.8303150285832324,
             0.7754943439133918,
             0.023356387448754568,
             0.6786069088523675,
             0.21942918839149916,
             0.7351896719349933,
             0.1527466065983033,
             0.49486851180423364,
             0.5677318166140876
            ],
            [
             0.8369292664960208,
             0.6336248777282389,
             0.3879429688519237,
             0.9553088940178285,
             0.5360089512920261,
             0.33997726082916646,
             0.23288319371038324,
             0.6336907163033745,
             0.2880621381606544,
             0.9084900639987324
            ],
            [
             0.6937089414149785,
             0.7005424395204033,
             0.2701672306898585,
             0.15015942743201838,
             0.08441732191894347,
             0.9284845617492156,
             0.5893422556783835,
             0.6481987035345695,
             0.6881668618867486,
             0.3603242046450543
            ],
            [
             0.45890455542169484,
             0.2608978941954586,
             0.13040035049854948,
             0.717734071191463,
             0.9764023417695377,
             0.26095486062028095,
             0.20139822085731784,
             0.5188266663023964,
             0.2454569533118809,
             0.13189440268811903
            ],
            [
             0.2296449339164094,
             0.873544665442298,
             0.9926159690042748,
             0.3264727014064833,
             0.36458222958593967,
             0.8101171017319266,
             0.04660109795930922,
             0.4192220235574585,
             0.7068493327998693,
             0.7122916978360365
            ]
           ]
          }
         ],
         "name": "frame_4"
        }
       ],
       "layout": {
        "dragmode": false,
        "height": 600,
        "sliders": [
         {
          "active": 0,
          "currentvalue": {
           "font": {
            "size": 20
           },
           "prefix": "Frame: ",
           "visible": true,
           "xanchor": "right"
          },
          "len": 0.9,
          "pad": {
           "b": 10,
           "t": 50
          },
          "steps": [
           {
            "args": [
             [
              "frame_0"
             ],
             {
              "frame": {
               "duration": 500,
               "redraw": true
              },
              "mode": "immediate",
              "transition": {
               "duration": 500
              }
             }
            ],
            "label": "0",
            "method": "animate"
           },
           {
            "args": [
             [
              "frame_1"
             ],
             {
              "frame": {
               "duration": 500,
               "redraw": true
              },
              "mode": "immediate",
              "transition": {
               "duration": 500
              }
             }
            ],
            "label": "1",
            "method": "animate"
           },
           {
            "args": [
             [
              "frame_2"
             ],
             {
              "frame": {
               "duration": 500,
               "redraw": true
              },
              "mode": "immediate",
              "transition": {
               "duration": 500
              }
             }
            ],
            "label": "2",
            "method": "animate"
           },
           {
            "args": [
             [
              "frame_3"
             ],
             {
              "frame": {
               "duration": 500,
               "redraw": true
              },
              "mode": "immediate",
              "transition": {
               "duration": 500
              }
             }
            ],
            "label": "3",
            "method": "animate"
           },
           {
            "args": [
             [
              "frame_4"
             ],
             {
              "frame": {
               "duration": 500,
               "redraw": true
              },
              "mode": "immediate",
              "transition": {
               "duration": 500
              }
             }
            ],
            "label": "4",
            "method": "animate"
           }
          ],
          "transition": {
           "duration": 500,
           "easing": "cubic-in-out"
          },
          "x": 0.1,
          "xanchor": "left",
          "y": 1.1,
          "yanchor": "bottom"
         }
        ],
        "template": {
         "data": {
          "bar": [
           {
            "error_x": {
             "color": "#2a3f5f"
            },
            "error_y": {
             "color": "#2a3f5f"
            },
            "marker": {
             "line": {
              "color": "white",
              "width": 0.5
             },
             "pattern": {
              "fillmode": "overlay",
              "size": 10,
              "solidity": 0.2
             }
            },
            "type": "bar"
           }
          ],
          "barpolar": [
           {
            "marker": {
             "line": {
              "color": "white",
              "width": 0.5
             },
             "pattern": {
              "fillmode": "overlay",
              "size": 10,
              "solidity": 0.2
             }
            },
            "type": "barpolar"
           }
          ],
          "carpet": [
           {
            "aaxis": {
             "endlinecolor": "#2a3f5f",
             "gridcolor": "#C8D4E3",
             "linecolor": "#C8D4E3",
             "minorgridcolor": "#C8D4E3",
             "startlinecolor": "#2a3f5f"
            },
            "baxis": {
             "endlinecolor": "#2a3f5f",
             "gridcolor": "#C8D4E3",
             "linecolor": "#C8D4E3",
             "minorgridcolor": "#C8D4E3",
             "startlinecolor": "#2a3f5f"
            },
            "type": "carpet"
           }
          ],
          "choropleth": [
           {
            "colorbar": {
             "outlinewidth": 0,
             "ticks": ""
            },
            "type": "choropleth"
           }
          ],
          "contour": [
           {
            "colorbar": {
             "outlinewidth": 0,
             "ticks": ""
            },
            "colorscale": [
             [
              0,
              "#0d0887"
             ],
             [
              0.1111111111111111,
              "#46039f"
             ],
             [
              0.2222222222222222,
              "#7201a8"
             ],
             [
              0.3333333333333333,
              "#9c179e"
             ],
             [
              0.4444444444444444,
              "#bd3786"
             ],
             [
              0.5555555555555556,
              "#d8576b"
             ],
             [
              0.6666666666666666,
              "#ed7953"
             ],
             [
              0.7777777777777778,
              "#fb9f3a"
             ],
             [
              0.8888888888888888,
              "#fdca26"
             ],
             [
              1,
              "#f0f921"
             ]
            ],
            "type": "contour"
           }
          ],
          "contourcarpet": [
           {
            "colorbar": {
             "outlinewidth": 0,
             "ticks": ""
            },
            "type": "contourcarpet"
           }
          ],
          "heatmap": [
           {
            "colorbar": {
             "outlinewidth": 0,
             "ticks": ""
            },
            "colorscale": [
             [
              0,
              "#0d0887"
             ],
             [
              0.1111111111111111,
              "#46039f"
             ],
             [
              0.2222222222222222,
              "#7201a8"
             ],
             [
              0.3333333333333333,
              "#9c179e"
             ],
             [
              0.4444444444444444,
              "#bd3786"
             ],
             [
              0.5555555555555556,
              "#d8576b"
             ],
             [
              0.6666666666666666,
              "#ed7953"
             ],
             [
              0.7777777777777778,
              "#fb9f3a"
             ],
             [
              0.8888888888888888,
              "#fdca26"
             ],
             [
              1,
              "#f0f921"
             ]
            ],
            "type": "heatmap"
           }
          ],
          "heatmapgl": [
           {
            "colorbar": {
             "outlinewidth": 0,
             "ticks": ""
            },
            "colorscale": [
             [
              0,
              "#0d0887"
             ],
             [
              0.1111111111111111,
              "#46039f"
             ],
             [
              0.2222222222222222,
              "#7201a8"
             ],
             [
              0.3333333333333333,
              "#9c179e"
             ],
             [
              0.4444444444444444,
              "#bd3786"
             ],
             [
              0.5555555555555556,
              "#d8576b"
             ],
             [
              0.6666666666666666,
              "#ed7953"
             ],
             [
              0.7777777777777778,
              "#fb9f3a"
             ],
             [
              0.8888888888888888,
              "#fdca26"
             ],
             [
              1,
              "#f0f921"
             ]
            ],
            "type": "heatmapgl"
           }
          ],
          "histogram": [
           {
            "marker": {
             "pattern": {
              "fillmode": "overlay",
              "size": 10,
              "solidity": 0.2
             }
            },
            "type": "histogram"
           }
          ],
          "histogram2d": [
           {
            "colorbar": {
             "outlinewidth": 0,
             "ticks": ""
            },
            "colorscale": [
             [
              0,
              "#0d0887"
             ],
             [
              0.1111111111111111,
              "#46039f"
             ],
             [
              0.2222222222222222,
              "#7201a8"
             ],
             [
              0.3333333333333333,
              "#9c179e"
             ],
             [
              0.4444444444444444,
              "#bd3786"
             ],
             [
              0.5555555555555556,
              "#d8576b"
             ],
             [
              0.6666666666666666,
              "#ed7953"
             ],
             [
              0.7777777777777778,
              "#fb9f3a"
             ],
             [
              0.8888888888888888,
              "#fdca26"
             ],
             [
              1,
              "#f0f921"
             ]
            ],
            "type": "histogram2d"
           }
          ],
          "histogram2dcontour": [
           {
            "colorbar": {
             "outlinewidth": 0,
             "ticks": ""
            },
            "colorscale": [
             [
              0,
              "#0d0887"
             ],
             [
              0.1111111111111111,
              "#46039f"
             ],
             [
              0.2222222222222222,
              "#7201a8"
             ],
             [
              0.3333333333333333,
              "#9c179e"
             ],
             [
              0.4444444444444444,
              "#bd3786"
             ],
             [
              0.5555555555555556,
              "#d8576b"
             ],
             [
              0.6666666666666666,
              "#ed7953"
             ],
             [
              0.7777777777777778,
              "#fb9f3a"
             ],
             [
              0.8888888888888888,
              "#fdca26"
             ],
             [
              1,
              "#f0f921"
             ]
            ],
            "type": "histogram2dcontour"
           }
          ],
          "mesh3d": [
           {
            "colorbar": {
             "outlinewidth": 0,
             "ticks": ""
            },
            "type": "mesh3d"
           }
          ],
          "parcoords": [
           {
            "line": {
             "colorbar": {
              "outlinewidth": 0,
              "ticks": ""
             }
            },
            "type": "parcoords"
           }
          ],
          "pie": [
           {
            "automargin": true,
            "type": "pie"
           }
          ],
          "scatter": [
           {
            "fillpattern": {
             "fillmode": "overlay",
             "size": 10,
             "solidity": 0.2
            },
            "type": "scatter"
           }
          ],
          "scatter3d": [
           {
            "line": {
             "colorbar": {
              "outlinewidth": 0,
              "ticks": ""
             }
            },
            "marker": {
             "colorbar": {
              "outlinewidth": 0,
              "ticks": ""
             }
            },
            "type": "scatter3d"
           }
          ],
          "scattercarpet": [
           {
            "marker": {
             "colorbar": {
              "outlinewidth": 0,
              "ticks": ""
             }
            },
            "type": "scattercarpet"
           }
          ],
          "scattergeo": [
           {
            "marker": {
             "colorbar": {
              "outlinewidth": 0,
              "ticks": ""
             }
            },
            "type": "scattergeo"
           }
          ],
          "scattergl": [
           {
            "marker": {
             "colorbar": {
              "outlinewidth": 0,
              "ticks": ""
             }
            },
            "type": "scattergl"
           }
          ],
          "scattermapbox": [
           {
            "marker": {
             "colorbar": {
              "outlinewidth": 0,
              "ticks": ""
             }
            },
            "type": "scattermapbox"
           }
          ],
          "scatterpolar": [
           {
            "marker": {
             "colorbar": {
              "outlinewidth": 0,
              "ticks": ""
             }
            },
            "type": "scatterpolar"
           }
          ],
          "scatterpolargl": [
           {
            "marker": {
             "colorbar": {
              "outlinewidth": 0,
              "ticks": ""
             }
            },
            "type": "scatterpolargl"
           }
          ],
          "scatterternary": [
           {
            "marker": {
             "colorbar": {
              "outlinewidth": 0,
              "ticks": ""
             }
            },
            "type": "scatterternary"
           }
          ],
          "surface": [
           {
            "colorbar": {
             "outlinewidth": 0,
             "ticks": ""
            },
            "colorscale": [
             [
              0,
              "#0d0887"
             ],
             [
              0.1111111111111111,
              "#46039f"
             ],
             [
              0.2222222222222222,
              "#7201a8"
             ],
             [
              0.3333333333333333,
              "#9c179e"
             ],
             [
              0.4444444444444444,
              "#bd3786"
             ],
             [
              0.5555555555555556,
              "#d8576b"
             ],
             [
              0.6666666666666666,
              "#ed7953"
             ],
             [
              0.7777777777777778,
              "#fb9f3a"
             ],
             [
              0.8888888888888888,
              "#fdca26"
             ],
             [
              1,
              "#f0f921"
             ]
            ],
            "type": "surface"
           }
          ],
          "table": [
           {
            "cells": {
             "fill": {
              "color": "#EBF0F8"
             },
             "line": {
              "color": "white"
             }
            },
            "header": {
             "fill": {
              "color": "#C8D4E3"
             },
             "line": {
              "color": "white"
             }
            },
            "type": "table"
           }
          ]
         },
         "layout": {
          "annotationdefaults": {
           "arrowcolor": "#2a3f5f",
           "arrowhead": 0,
           "arrowwidth": 1
          },
          "autotypenumbers": "strict",
          "coloraxis": {
           "colorbar": {
            "outlinewidth": 0,
            "ticks": ""
           }
          },
          "colorscale": {
           "diverging": [
            [
             0,
             "#8e0152"
            ],
            [
             0.1,
             "#c51b7d"
            ],
            [
             0.2,
             "#de77ae"
            ],
            [
             0.3,
             "#f1b6da"
            ],
            [
             0.4,
             "#fde0ef"
            ],
            [
             0.5,
             "#f7f7f7"
            ],
            [
             0.6,
             "#e6f5d0"
            ],
            [
             0.7,
             "#b8e186"
            ],
            [
             0.8,
             "#7fbc41"
            ],
            [
             0.9,
             "#4d9221"
            ],
            [
             1,
             "#276419"
            ]
           ],
           "sequential": [
            [
             0,
             "#0d0887"
            ],
            [
             0.1111111111111111,
             "#46039f"
            ],
            [
             0.2222222222222222,
             "#7201a8"
            ],
            [
             0.3333333333333333,
             "#9c179e"
            ],
            [
             0.4444444444444444,
             "#bd3786"
            ],
            [
             0.5555555555555556,
             "#d8576b"
            ],
            [
             0.6666666666666666,
             "#ed7953"
            ],
            [
             0.7777777777777778,
             "#fb9f3a"
            ],
            [
             0.8888888888888888,
             "#fdca26"
            ],
            [
             1,
             "#f0f921"
            ]
           ],
           "sequentialminus": [
            [
             0,
             "#0d0887"
            ],
            [
             0.1111111111111111,
             "#46039f"
            ],
            [
             0.2222222222222222,
             "#7201a8"
            ],
            [
             0.3333333333333333,
             "#9c179e"
            ],
            [
             0.4444444444444444,
             "#bd3786"
            ],
            [
             0.5555555555555556,
             "#d8576b"
            ],
            [
             0.6666666666666666,
             "#ed7953"
            ],
            [
             0.7777777777777778,
             "#fb9f3a"
            ],
            [
             0.8888888888888888,
             "#fdca26"
            ],
            [
             1,
             "#f0f921"
            ]
           ]
          },
          "colorway": [
           "#636efa",
           "#EF553B",
           "#00cc96",
           "#ab63fa",
           "#FFA15A",
           "#19d3f3",
           "#FF6692",
           "#B6E880",
           "#FF97FF",
           "#FECB52"
          ],
          "font": {
           "color": "#2a3f5f"
          },
          "geo": {
           "bgcolor": "white",
           "lakecolor": "white",
           "landcolor": "white",
           "showlakes": true,
           "showland": true,
           "subunitcolor": "#C8D4E3"
          },
          "hoverlabel": {
           "align": "left"
          },
          "hovermode": "closest",
          "mapbox": {
           "style": "light"
          },
          "paper_bgcolor": "white",
          "plot_bgcolor": "white",
          "polar": {
           "angularaxis": {
            "gridcolor": "#EBF0F8",
            "linecolor": "#EBF0F8",
            "ticks": ""
           },
           "bgcolor": "white",
           "radialaxis": {
            "gridcolor": "#EBF0F8",
            "linecolor": "#EBF0F8",
            "ticks": ""
           }
          },
          "scene": {
           "xaxis": {
            "backgroundcolor": "white",
            "gridcolor": "#DFE8F3",
            "gridwidth": 2,
            "linecolor": "#EBF0F8",
            "showbackground": true,
            "ticks": "",
            "zerolinecolor": "#EBF0F8"
           },
           "yaxis": {
            "backgroundcolor": "white",
            "gridcolor": "#DFE8F3",
            "gridwidth": 2,
            "linecolor": "#EBF0F8",
            "showbackground": true,
            "ticks": "",
            "zerolinecolor": "#EBF0F8"
           },
           "zaxis": {
            "backgroundcolor": "white",
            "gridcolor": "#DFE8F3",
            "gridwidth": 2,
            "linecolor": "#EBF0F8",
            "showbackground": true,
            "ticks": "",
            "zerolinecolor": "#EBF0F8"
           }
          },
          "shapedefaults": {
           "line": {
            "color": "#2a3f5f"
           }
          },
          "ternary": {
           "aaxis": {
            "gridcolor": "#DFE8F3",
            "linecolor": "#A2B1C6",
            "ticks": ""
           },
           "baxis": {
            "gridcolor": "#DFE8F3",
            "linecolor": "#A2B1C6",
            "ticks": ""
           },
           "bgcolor": "white",
           "caxis": {
            "gridcolor": "#DFE8F3",
            "linecolor": "#A2B1C6",
            "ticks": ""
           }
          },
          "title": {
           "x": 0.05
          },
          "xaxis": {
           "automargin": true,
           "gridcolor": "#EBF0F8",
           "linecolor": "#EBF0F8",
           "ticks": "",
           "title": {
            "standoff": 15
           },
           "zerolinecolor": "#EBF0F8",
           "zerolinewidth": 2
          },
          "yaxis": {
           "automargin": true,
           "gridcolor": "#EBF0F8",
           "linecolor": "#EBF0F8",
           "ticks": "",
           "title": {
            "standoff": 15
           },
           "zerolinecolor": "#EBF0F8",
           "zerolinewidth": 2
          }
         }
        },
        "title": {
         "text": "DEFAULT TITLE"
        },
        "updatemenus": [
         {
          "buttons": [
           {
            "args": [
             null,
             {
              "frame": {
               "duration": 500,
               "redraw": true
              },
              "fromcurrent": true
             }
            ],
            "label": "Play",
            "method": "animate"
           },
           {
            "args": [
             [
              null
             ],
             {
              "frame": {
               "duration": 0,
               "redraw": true
              },
              "mode": "immediate",
              "transition": {
               "duration": 0
              }
             }
            ],
            "label": "Pause",
            "method": "animate"
           }
          ],
          "direction": "left",
          "pad": {
           "r": 10,
           "t": 87
          },
          "showactive": false,
          "type": "buttons",
          "x": 0.1,
          "xanchor": "right",
          "y": 1.1,
          "yanchor": "bottom"
         }
        ],
        "width": 800,
        "xaxis": {
         "fixedrange": true,
         "nticks": 10
        },
        "yaxis": {
         "fixedrange": true,
         "nticks": 10
        }
       }
      }
     },
     "metadata": {},
     "output_type": "display_data"
    }
   ],
   "source": [
    "def animated_heatmap(\n",
    "    matrices: np.ndarray | None = None,\n",
    "    labels: list | None = None,\n",
    "    title: str = \"DEFAULT TITLE\",\n",
    "    show_values: bool = True,\n",
    "    value_format: Literal[\".2f\", \".2e\"] = \".2f\",\n",
    "    width: int = 800,\n",
    "    height: int = 600,\n",
    "    xaxis_title: str | None = None,\n",
    "    yaxis_title: str | None = None,\n",
    "    log: bool = False,\n",
    "    nan_diagnal: bool = False,\n",
    "    frame_duration: int = 500,\n",
    "    slider_labels: list[str] | None = None,\n",
    "    slider_prefix: str = \"Frame: \",\n",
    "):\n",
    "    # Generate demo data if matrices is None\n",
    "    if matrices is None:\n",
    "        faker = Faker()\n",
    "        shape = (5, 10, 10)  # (time, rows, cols)\n",
    "        matrices = rng.random(shape)\n",
    "        # logger.info(matrices)\n",
    "    elif matrices.ndim != 3:\n",
    "        raise ValueError(\"Expected 3D array (time, rows, cols)\")\n",
    "\n",
    "    n_frames, n_rows, n_cols = matrices.shape\n",
    "\n",
    "    if labels is None:\n",
    "        faker = Faker()\n",
    "        labels = [faker.name() for _ in range(n_rows)]\n",
    "    col_labels = labels\n",
    "    row_labels = labels\n",
    "\n",
    "    # Process all matrices\n",
    "    processed_matrices = []\n",
    "    for matrix in matrices:\n",
    "        # Convert and process each time slice\n",
    "        matrix = np.array(matrix, dtype=object)\n",
    "        none_mask = matrix is None\n",
    "        matrix = matrix.astype(float)\n",
    "        if log:\n",
    "            matrix = np.log10(matrix)\n",
    "        matrix[none_mask] = np.nan\n",
    "        if nan_diagnal:\n",
    "            matrix[np.identity(matrix.shape[0], dtype=bool)] = np.nan\n",
    "        processed_matrices.append(matrix)\n",
    "\n",
    "        # Update the sliders configuration with custom labels\n",
    "    if slider_labels is not None:\n",
    "        if len(slider_labels) != n_frames:\n",
    "            raise ValueError(f\"Expected {n_frames} slider labels, got {len(slider_labels)}\")\n",
    "        frame_labels = slider_labels\n",
    "    else:\n",
    "        frame_labels = [str(k) for k in range(n_frames)]\n",
    "\n",
    "    layout_sliders = [\n",
    "        go.layout.Slider(\n",
    "            active=0,\n",
    "            yanchor=\"bottom\",\n",
    "            xanchor=\"left\",\n",
    "            currentvalue=go.layout.slider.Currentvalue(\n",
    "                font=dict(size=20), prefix=slider_prefix, visible=True, xanchor=\"right\"\n",
    "            ),\n",
    "            transition=go.layout.slider.Transition(duration=frame_duration, easing=\"cubic-in-out\"),\n",
    "            pad=dict(b=10, t=50),\n",
    "            len=0.9,\n",
    "            x=0.1,\n",
    "            y=1.1,\n",
    "            steps=[\n",
    "                go.layout.slider.Step(\n",
    "                    args=[\n",
    "                        [f\"frame_{k}\"],\n",
    "                        {\n",
    "                            \"frame\": {\"duration\": frame_duration, \"redraw\": True},\n",
    "                            \"mode\": \"immediate\",\n",
    "                            \"transition\": {\"duration\": frame_duration},\n",
    "                        },\n",
    "                    ],\n",
    "                    label=label,\n",
    "                    method=\"animate\",\n",
    "                )\n",
    "                for k, label in enumerate(frame_labels)\n",
    "            ],\n",
    "        )\n",
    "    ]\n",
    "\n",
    "    # Create frames for animation\n",
    "    frames = [\n",
    "        go.Frame(\n",
    "            data=[heatmap(matrix, row_labels, show_values=show_values).data[0]],\n",
    "            name=f\"frame_{i}\",  # name is required for frames\n",
    "        )\n",
    "        for i, matrix in enumerate(processed_matrices)\n",
    "    ]\n",
    "\n",
    "    # Create the figure with the initial frame\n",
    "    fig = go.Figure(\n",
    "        data=[heatmap(processed_matrices[0], row_labels, show_values=show_values).data[0]],\n",
    "        frames=frames,\n",
    "        layout=go.Layout(\n",
    "            title=title,\n",
    "            width=width,\n",
    "            height=height,\n",
    "            xaxis=go.layout.XAxis(\n",
    "                title=xaxis_title,\n",
    "                nticks=len(col_labels) if col_labels else None,\n",
    "                fixedrange=True,\n",
    "            ),\n",
    "            yaxis=go.layout.YAxis(\n",
    "                title=yaxis_title,\n",
    "                nticks=len(row_labels) if row_labels else None,\n",
    "                fixedrange=True,\n",
    "            ),\n",
    "            dragmode=False,\n",
    "            updatemenus=[\n",
    "                go.layout.Updatemenu(\n",
    "                    buttons=[\n",
    "                        go.layout.updatemenu.Button(\n",
    "                            args=[\n",
    "                                None,\n",
    "                                {\n",
    "                                    \"frame\": {\"duration\": frame_duration, \"redraw\": True},\n",
    "                                    \"fromcurrent\": True,\n",
    "                                },\n",
    "                            ],\n",
    "                            label=\"Play\",\n",
    "                            method=\"animate\",\n",
    "                        ),\n",
    "                        go.layout.updatemenu.Button(\n",
    "                            args=[\n",
    "                                [None],\n",
    "                                {\n",
    "                                    \"frame\": {\"duration\": 0, \"redraw\": True},\n",
    "                                    \"mode\": \"immediate\",\n",
    "                                    \"transition\": {\"duration\": 0},\n",
    "                                },\n",
    "                            ],\n",
    "                            label=\"Pause\",\n",
    "                            method=\"animate\",\n",
    "                        ),\n",
    "                    ],\n",
    "                    direction=\"left\",\n",
    "                    pad={\"r\": 10, \"t\": 87},\n",
    "                    showactive=False,\n",
    "                    type=\"buttons\",\n",
    "                    x=0.1,\n",
    "                    xanchor=\"right\",\n",
    "                    y=1.1,\n",
    "                    yanchor=\"bottom\",\n",
    "                )\n",
    "            ],\n",
    "        ),\n",
    "    )\n",
    "\n",
    "    # Update the layout dictionary to include the new sliders\n",
    "    fig.update_layout(sliders=layout_sliders)\n",
    "\n",
    "    return fig\n",
    "\n",
    "\n",
    "animated_heatmap()"
   ]
  },
  {
   "cell_type": "markdown",
   "metadata": {},
   "source": [
    "## Import Data\n"
   ]
  },
  {
   "cell_type": "code",
   "execution_count": 31,
   "metadata": {},
   "outputs": [],
   "source": [
    "# Load Metadata\n",
    "\"\"\"\n",
    "# 6 Datasets (ArguAna, FiQA, SciDocs, NFCorpus, HotPotQA, Trec-COVID)\n",
    "# 17 Native Embedding Spaces\n",
    "# 17 Stitched Embedding Spaces\n",
    "# 6 Architectures (2, 3, 4, 5, 6, or 7 layers)\n",
    "\"\"\"\n",
    "with MLP_MSE_VALIDATION_META.open() as f:\n",
    "    meta = orjson.loads(f.read())\n",
    "\n",
    "# pretty.pprint(meta)\n",
    "\n",
    "meta_df = pl.read_json(MLP_MSE_VALIDATION_META)\n",
    "\n",
    "\n",
    "# def create_index_df(meta: dict) -> pl.DataFrame:\n",
    "#     \"\"\"Create an index DataFrame for easy tensor lookup using np.indices.\n",
    "\n",
    "#     Args:\n",
    "#         meta: Dictionary containing dataset2idx and model2idx mappings\n",
    "\n",
    "#     Returns:\n",
    "#         pl.DataFrame: DataFrame with hierarchical index for tensor lookup\n",
    "#     \"\"\"\n",
    "#     # Get shape from metadata\n",
    "#     n_datasets = len(meta[\"dataset2idx\"])\n",
    "#     n_models = len(meta[\"model2idx\"])\n",
    "#     n_layers = len(meta[\"num_layers\"])\n",
    "\n",
    "#     # Create indices arrays for each dimension\n",
    "#     datasets, sources, targets, layers = np.indices((n_datasets, n_models, n_models, n_layers))\n",
    "\n",
    "#     # Create reverse mapping dictionaries\n",
    "#     dataset_map = {v: k for k, v in meta[\"dataset2idx\"].items()}\n",
    "#     model_map = {v: k for k, v in meta[\"model2idx\"].items()}\n",
    "\n",
    "#     # Create DataFrame\n",
    "#     return pl.DataFrame(\n",
    "#         {\n",
    "#             \"dataset\": pl.Series(datasets.flatten()).cast_dict(dataset_map),\n",
    "#             \"source_model\": pl.Series(sources.flatten()).cast_dict(model_map),\n",
    "#             \"target_model\": pl.Series(targets.flatten()).cast_dict(model_map),\n",
    "#             \"num_layers\": pl.Series(layers.flatten()) + 2,  # Convert 0-based to 2-based\n",
    "#             \"index\": list(\n",
    "#                 zip(datasets.flatten(), sources.flatten(), targets.flatten(), layers.flatten())\n",
    "#             ),\n",
    "#         }\n",
    "#     )\n",
    "\n",
    "\n",
    "# create_index_df(meta)\n",
    "# why am I being silly, work on this later."
   ]
  },
  {
   "cell_type": "code",
   "execution_count": 32,
   "metadata": {},
   "outputs": [
    {
     "name": "stderr",
     "output_type": "stream",
     "text": [
      "\u001b[32m2024-12-13 18:50:24.839\u001b[0m | \u001b[1mINFO    \u001b[0m | \u001b[36m__main__\u001b[0m:\u001b[36m<cell line: 0>\u001b[0m:\u001b[36m3\u001b[0m - \u001b[1m['validation_mses']\u001b[0m\n"
     ]
    },
    {
     "data": {
      "text/plain": [
       "'tensors[\"validation_mses\"].shape=(6, 17, 17, 6)'"
      ]
     },
     "execution_count": 32,
     "metadata": {},
     "output_type": "execute_result"
    }
   ],
   "source": [
    "# Load Tensors\n",
    "tensors = load_file(MLP_MSE_VALIDATION_TENSORS)\n",
    "logger.info(list(tensors.keys()))\n",
    "validation_mse = tensors[\"validation_mses\"]\n",
    "# f\"{tensors[\"validation_mses\"].shape=}\"\n",
    "f\"{tensors[\"validation_mses\"].shape=}\""
   ]
  },
  {
   "cell_type": "code",
   "execution_count": 33,
   "metadata": {},
   "outputs": [],
   "source": [
    "# from safetensors.numpy import load_file\n",
    "\n",
    "\n",
    "# def safetensor_to_polars(\n",
    "#     tensor_path: Path,\n",
    "#     meta_path: Path,\n",
    "# ) -> pl.DataFrame:\n",
    "#     \"\"\"Convert safetensor validation MSEs to a polars dataframe.\n",
    "\n",
    "#     Args:\n",
    "#         tensor_path: Path to .safetensors file\n",
    "#         meta_path: Path to metadata JSON file\n",
    "\n",
    "#     Returns:\n",
    "#         pl.DataFrame: Long-format dataframe with validation MSEs\n",
    "#     \"\"\"\n",
    "#     # Load metadata\n",
    "#     with meta_path.open() as f:\n",
    "#         meta = orjson.loads(f.read())\n",
    "\n",
    "#     # Load tensor\n",
    "#     tensor_dict = load_file(tensor_path)  # (6, 17, 17, 6)\n",
    "#     validation_mses = tensor_dict[\"validation_mses\"]\n",
    "\n",
    "#     # Create mapping dictionaries\n",
    "#     dataset_map = {v: k for k, v in meta[\"dataset2idx\"].items()}\n",
    "#     model_map = {v: k for k, v in meta[\"model2idx\"].items()}\n",
    "\n",
    "#     # Create index arrays for each dimension\n",
    "#     datasets, source_models, target_models, architectures = np.indices(validation_mses.shape)\n",
    "\n",
    "#     # Create dataframe\n",
    "#     mse_df = pl.DataFrame(\n",
    "#         {\n",
    "#             \"dataset\": datasets.flatten(),\n",
    "#             \"source_model\": source_models.flatten(),\n",
    "#             \"target_model\": target_models.flatten(),\n",
    "#             \"num_layers\": architectures.flatten(),\n",
    "#             \"mse\": validation_mses.flatten(),\n",
    "#         }\n",
    "#     )\n",
    "\n",
    "#     # Map indices to names\n",
    "#     mse_df = mse_df.with_columns(\n",
    "#         [\n",
    "#             pl.col(\"dataset\").map_dict(dataset_map).alias(\"dataset_name\"),\n",
    "#             pl.col(\"source_model\").map_dict(model_map).alias(\"source_model_name\"),\n",
    "#             pl.col(\"target_model\").map_dict(model_map).alias(\"target_model_name\"),\n",
    "#             pl.col(\"num_layers\").map_dict(dict(enumerate(meta[\"num_layers\"]))).alias(\"num_layers\"),\n",
    "#         ]\n",
    "#     ).drop(\"dataset\", \"source_model\", \"target_model\")\n",
    "\n",
    "#     return mse_df\n",
    "\n",
    "\n",
    "# # Usage\n",
    "# mse_df = safetensor_to_polars(\n",
    "#     tensor_path=MLP_MSE_VALIDATION_TENSORS, meta_path=MLP_MSE_VALIDATION_META\n",
    "# )\n",
    "# not working, also fucked around here."
   ]
  },
  {
   "cell_type": "code",
   "execution_count": 34,
   "metadata": {},
   "outputs": [
    {
     "name": "stderr",
     "output_type": "stream",
     "text": [
      "\u001b[32m2024-12-13 18:50:26.756\u001b[0m | \u001b[1mINFO    \u001b[0m | \u001b[36m__main__\u001b[0m:\u001b[36m<cell line: 0>\u001b[0m:\u001b[36m6\u001b[0m - \u001b[1m(17, 17)\u001b[0m\n"
     ]
    },
    {
     "data": {
      "text/html": [
       "<pre style=\"white-space:pre;overflow-x:auto;line-height:normal;font-family:Menlo,'DejaVu Sans Mono',consolas,'Courier New',monospace\"><span style=\"color: #800080; text-decoration-color: #800080; font-weight: bold\">array</span><span style=\"font-weight: bold\">([[</span><span style=\"color: #008080; text-decoration-color: #008080; font-weight: bold\">1</span>.   , <span style=\"color: #008080; text-decoration-color: #008080; font-weight: bold\">0.002</span>, <span style=\"color: #008080; text-decoration-color: #008080; font-weight: bold\">0.001</span>, <span style=\"color: #808000; text-decoration-color: #808000\">...</span>, <span style=\"color: #008080; text-decoration-color: #008080; font-weight: bold\">0.002</span>, <span style=\"color: #008080; text-decoration-color: #008080; font-weight: bold\">0.001</span>, <span style=\"color: #008080; text-decoration-color: #008080; font-weight: bold\">0.001</span><span style=\"font-weight: bold\">]</span>,\n",
       "<span style=\"color: #7fbf7f; text-decoration-color: #7fbf7f\">│      </span><span style=\"font-weight: bold\">[</span><span style=\"color: #008080; text-decoration-color: #008080; font-weight: bold\">0.001</span>, <span style=\"color: #008080; text-decoration-color: #008080; font-weight: bold\">1</span>.   , <span style=\"color: #008080; text-decoration-color: #008080; font-weight: bold\">0.001</span>, <span style=\"color: #808000; text-decoration-color: #808000\">...</span>, <span style=\"color: #008080; text-decoration-color: #008080; font-weight: bold\">0.002</span>, <span style=\"color: #008080; text-decoration-color: #008080; font-weight: bold\">0.001</span>, <span style=\"color: #008080; text-decoration-color: #008080; font-weight: bold\">0.001</span><span style=\"font-weight: bold\">]</span>,\n",
       "<span style=\"color: #7fbf7f; text-decoration-color: #7fbf7f\">│      </span><span style=\"font-weight: bold\">[</span><span style=\"color: #008080; text-decoration-color: #008080; font-weight: bold\">0.001</span>, <span style=\"color: #008080; text-decoration-color: #008080; font-weight: bold\">0.002</span>, <span style=\"color: #008080; text-decoration-color: #008080; font-weight: bold\">1</span>.   , <span style=\"color: #808000; text-decoration-color: #808000\">...</span>, <span style=\"color: #008080; text-decoration-color: #008080; font-weight: bold\">0.002</span>, <span style=\"color: #008080; text-decoration-color: #008080; font-weight: bold\">0.001</span>, <span style=\"color: #008080; text-decoration-color: #008080; font-weight: bold\">0.001</span><span style=\"font-weight: bold\">]</span>,\n",
       "<span style=\"color: #7fbf7f; text-decoration-color: #7fbf7f\">│      </span><span style=\"color: #808000; text-decoration-color: #808000\">...</span>,\n",
       "<span style=\"color: #7fbf7f; text-decoration-color: #7fbf7f\">│      </span><span style=\"font-weight: bold\">[</span><span style=\"color: #008080; text-decoration-color: #008080; font-weight: bold\">0.001</span>, <span style=\"color: #008080; text-decoration-color: #008080; font-weight: bold\">0.002</span>, <span style=\"color: #008080; text-decoration-color: #008080; font-weight: bold\">0.001</span>, <span style=\"color: #808000; text-decoration-color: #808000\">...</span>, <span style=\"color: #008080; text-decoration-color: #008080; font-weight: bold\">1</span>.   , <span style=\"color: #008080; text-decoration-color: #008080; font-weight: bold\">0.001</span>, <span style=\"color: #008080; text-decoration-color: #008080; font-weight: bold\">0.001</span><span style=\"font-weight: bold\">]</span>,\n",
       "<span style=\"color: #7fbf7f; text-decoration-color: #7fbf7f\">│      </span><span style=\"font-weight: bold\">[</span><span style=\"color: #008080; text-decoration-color: #008080; font-weight: bold\">0.001</span>, <span style=\"color: #008080; text-decoration-color: #008080; font-weight: bold\">0.001</span>, <span style=\"color: #008080; text-decoration-color: #008080; font-weight: bold\">0.001</span>, <span style=\"color: #808000; text-decoration-color: #808000\">...</span>, <span style=\"color: #008080; text-decoration-color: #008080; font-weight: bold\">0.002</span>, <span style=\"color: #008080; text-decoration-color: #008080; font-weight: bold\">1</span>.   , <span style=\"color: #008080; text-decoration-color: #008080; font-weight: bold\">0.001</span><span style=\"font-weight: bold\">]</span>,\n",
       "<span style=\"color: #7fbf7f; text-decoration-color: #7fbf7f\">│      </span><span style=\"font-weight: bold\">[</span><span style=\"color: #008080; text-decoration-color: #008080; font-weight: bold\">0.001</span>, <span style=\"color: #008080; text-decoration-color: #008080; font-weight: bold\">0.002</span>, <span style=\"color: #008080; text-decoration-color: #008080; font-weight: bold\">0.001</span>, <span style=\"color: #808000; text-decoration-color: #808000\">...</span>, <span style=\"color: #008080; text-decoration-color: #008080; font-weight: bold\">0.002</span>, <span style=\"color: #008080; text-decoration-color: #008080; font-weight: bold\">0.001</span>, <span style=\"color: #008080; text-decoration-color: #008080; font-weight: bold\">1</span>.   <span style=\"font-weight: bold\">]]</span>, <span style=\"color: #808000; text-decoration-color: #808000\">dtype</span>=<span style=\"color: #800080; text-decoration-color: #800080\">float32</span><span style=\"font-weight: bold\">)</span>\n",
       "</pre>\n"
      ],
      "text/plain": [
       "\u001b[1;35marray\u001b[0m\u001b[1m(\u001b[0m\u001b[1m[\u001b[0m\u001b[1m[\u001b[0m\u001b[1;36m1\u001b[0m.   , \u001b[1;36m0.002\u001b[0m, \u001b[1;36m0.001\u001b[0m, \u001b[33m...\u001b[0m, \u001b[1;36m0.002\u001b[0m, \u001b[1;36m0.001\u001b[0m, \u001b[1;36m0.001\u001b[0m\u001b[1m]\u001b[0m,\n",
       "\u001b[2;32m│      \u001b[0m\u001b[1m[\u001b[0m\u001b[1;36m0.001\u001b[0m, \u001b[1;36m1\u001b[0m.   , \u001b[1;36m0.001\u001b[0m, \u001b[33m...\u001b[0m, \u001b[1;36m0.002\u001b[0m, \u001b[1;36m0.001\u001b[0m, \u001b[1;36m0.001\u001b[0m\u001b[1m]\u001b[0m,\n",
       "\u001b[2;32m│      \u001b[0m\u001b[1m[\u001b[0m\u001b[1;36m0.001\u001b[0m, \u001b[1;36m0.002\u001b[0m, \u001b[1;36m1\u001b[0m.   , \u001b[33m...\u001b[0m, \u001b[1;36m0.002\u001b[0m, \u001b[1;36m0.001\u001b[0m, \u001b[1;36m0.001\u001b[0m\u001b[1m]\u001b[0m,\n",
       "\u001b[2;32m│      \u001b[0m\u001b[33m...\u001b[0m,\n",
       "\u001b[2;32m│      \u001b[0m\u001b[1m[\u001b[0m\u001b[1;36m0.001\u001b[0m, \u001b[1;36m0.002\u001b[0m, \u001b[1;36m0.001\u001b[0m, \u001b[33m...\u001b[0m, \u001b[1;36m1\u001b[0m.   , \u001b[1;36m0.001\u001b[0m, \u001b[1;36m0.001\u001b[0m\u001b[1m]\u001b[0m,\n",
       "\u001b[2;32m│      \u001b[0m\u001b[1m[\u001b[0m\u001b[1;36m0.001\u001b[0m, \u001b[1;36m0.001\u001b[0m, \u001b[1;36m0.001\u001b[0m, \u001b[33m...\u001b[0m, \u001b[1;36m0.002\u001b[0m, \u001b[1;36m1\u001b[0m.   , \u001b[1;36m0.001\u001b[0m\u001b[1m]\u001b[0m,\n",
       "\u001b[2;32m│      \u001b[0m\u001b[1m[\u001b[0m\u001b[1;36m0.001\u001b[0m, \u001b[1;36m0.002\u001b[0m, \u001b[1;36m0.001\u001b[0m, \u001b[33m...\u001b[0m, \u001b[1;36m0.002\u001b[0m, \u001b[1;36m0.001\u001b[0m, \u001b[1;36m1\u001b[0m.   \u001b[1m]\u001b[0m\u001b[1m]\u001b[0m, \u001b[33mdtype\u001b[0m=\u001b[35mfloat32\u001b[0m\u001b[1m)\u001b[0m\n"
      ]
     },
     "metadata": {},
     "output_type": "display_data"
    }
   ],
   "source": [
    "# Print Imported Data (One Dataset, One Architecture)\n",
    "dataset_i = 0\n",
    "architecture_i = 0\n",
    "\n",
    "example_validation_mse = validation_mse[dataset_i, :, :, architecture_i]\n",
    "logger.info(example_validation_mse.shape)\n",
    "pretty.pprint(example_validation_mse)"
   ]
  },
  {
   "cell_type": "code",
   "execution_count": 35,
   "metadata": {},
   "outputs": [
    {
     "name": "stderr",
     "output_type": "stream",
     "text": [
      "\u001b[32m2024-12-13 18:50:27.515\u001b[0m | \u001b[1mINFO    \u001b[0m | \u001b[36m__main__\u001b[0m:\u001b[36mheatmap\u001b[0m:\u001b[36m42\u001b[0m - \u001b[1mCreating heatmap visualization...\u001b[0m\n"
     ]
    },
    {
     "data": {
      "application/vnd.plotly.v1+json": {
       "config": {
        "plotlyServerURL": "https://plot.ly"
       },
       "data": [
        {
         "colorscale": [
          [
           0,
           "#440154"
          ],
          [
           0.1111111111111111,
           "#482878"
          ],
          [
           0.2222222222222222,
           "#3e4989"
          ],
          [
           0.3333333333333333,
           "#31688e"
          ],
          [
           0.4444444444444444,
           "#26828e"
          ],
          [
           0.5555555555555556,
           "#1f9e89"
          ],
          [
           0.6666666666666666,
           "#35b779"
          ],
          [
           0.7777777777777778,
           "#6ece58"
          ],
          [
           0.8888888888888888,
           "#b5de2b"
          ],
          [
           1,
           "#fde725"
          ]
         ],
         "reversescale": false,
         "showlegend": true,
         "showscale": true,
         "text": [
          [
           "N/A",
           "-2.76",
           "-2.84",
           "-2.51",
           "-2.77",
           "-2.85",
           "-2.50",
           "-2.77",
           "-2.86",
           "-2.49",
           "-2.76",
           "-2.75",
           "-2.85",
           "-2.75",
           "-2.75",
           "-3.27",
           "-3.02"
          ],
          [
           "-2.84",
           "N/A",
           "-2.84",
           "-2.47",
           "-2.73",
           "-2.83",
           "-2.48",
           "-2.75",
           "-2.86",
           "-2.48",
           "-2.74",
           "-2.73",
           "-2.84",
           "-2.73",
           "-2.72",
           "-3.24",
           "-2.99"
          ],
          [
           "-2.85",
           "-2.77",
           "N/A",
           "-2.52",
           "-2.76",
           "-2.86",
           "-2.50",
           "-2.76",
           "-2.85",
           "-2.51",
           "-2.77",
           "-2.74",
           "-2.84",
           "-2.76",
           "-2.78",
           "-3.27",
           "-3.01"
          ],
          [
           "-2.79",
           "-2.68",
           "-2.81",
           "N/A",
           "-2.69",
           "-2.81",
           "-2.44",
           "-2.68",
           "-2.80",
           "-2.42",
           "-2.68",
           "-2.70",
           "-2.81",
           "-2.67",
           "-2.72",
           "-3.14",
           "-2.94"
          ],
          [
           "-2.84",
           "-2.73",
           "-2.82",
           "-2.49",
           "N/A",
           "-2.83",
           "-2.48",
           "-2.72",
           "-2.85",
           "-2.52",
           "-2.72",
           "-2.74",
           "-2.84",
           "-2.75",
           "-2.74",
           "-3.23",
           "-3.00"
          ],
          [
           "-2.85",
           "-2.76",
           "-2.86",
           "-2.52",
           "-2.76",
           "N/A",
           "-2.54",
           "-2.75",
           "-2.82",
           "-2.52",
           "-2.77",
           "-2.77",
           "-2.84",
           "-2.75",
           "-2.76",
           "-3.26",
           "-3.01"
          ],
          [
           "-2.79",
           "-2.67",
           "-2.81",
           "-2.42",
           "-2.68",
           "-2.79",
           "N/A",
           "-2.70",
           "-2.79",
           "-2.43",
           "-2.69",
           "-2.69",
           "-2.81",
           "-2.69",
           "-2.67",
           "-3.14",
           "-2.95"
          ],
          [
           "-2.85",
           "-2.72",
           "-2.86",
           "-2.50",
           "-2.73",
           "-2.84",
           "-2.50",
           "N/A",
           "-2.84",
           "-2.52",
           "-2.71",
           "-2.72",
           "-2.84",
           "-2.73",
           "-2.72",
           "-3.24",
           "-2.99"
          ],
          [
           "-2.85",
           "-2.75",
           "-2.85",
           "-2.52",
           "-2.74",
           "-2.85",
           "-2.54",
           "-2.76",
           "N/A",
           "-2.50",
           "-2.76",
           "-2.74",
           "-2.86",
           "-2.74",
           "-2.75",
           "-3.27",
           "-3.01"
          ],
          [
           "-2.79",
           "-2.71",
           "-2.80",
           "-2.42",
           "-2.70",
           "-2.78",
           "-2.41",
           "-2.71",
           "-2.79",
           "N/A",
           "-2.71",
           "-2.68",
           "-2.82",
           "-2.68",
           "-2.71",
           "-3.15",
           "-2.92"
          ],
          [
           "-2.84",
           "-2.72",
           "-2.84",
           "-2.49",
           "-2.75",
           "-2.85",
           "-2.48",
           "-2.71",
           "-2.85",
           "-2.49",
           "N/A",
           "-2.71",
           "-2.84",
           "-2.71",
           "-2.75",
           "-3.24",
           "-2.99"
          ],
          [
           "-2.84",
           "-2.74",
           "-2.84",
           "-2.50",
           "-2.70",
           "-2.86",
           "-2.50",
           "-2.73",
           "-2.87",
           "-2.51",
           "-2.72",
           "N/A",
           "-2.84",
           "-2.75",
           "-2.72",
           "-3.24",
           "-2.99"
          ],
          [
           "-2.86",
           "-2.76",
           "-2.84",
           "-2.51",
           "-2.78",
           "-2.86",
           "-2.51",
           "-2.77",
           "-2.85",
           "-2.54",
           "-2.77",
           "-2.77",
           "N/A",
           "-2.77",
           "-2.76",
           "-3.27",
           "-3.02"
          ],
          [
           "-2.83",
           "-2.74",
           "-2.83",
           "-2.50",
           "-2.73",
           "-2.84",
           "-2.48",
           "-2.70",
           "-2.84",
           "-2.48",
           "-2.72",
           "-2.71",
           "-2.82",
           "N/A",
           "-2.72",
           "-3.23",
           "-2.99"
          ],
          [
           "-2.85",
           "-2.74",
           "-2.84",
           "-2.50",
           "-2.74",
           "-2.83",
           "-2.50",
           "-2.71",
           "-2.83",
           "-2.50",
           "-2.74",
           "-2.73",
           "-2.84",
           "-2.71",
           "N/A",
           "-3.24",
           "-2.98"
          ],
          [
           "-2.96",
           "-2.84",
           "-2.95",
           "-2.56",
           "-2.84",
           "-2.96",
           "-2.56",
           "-2.84",
           "-2.96",
           "-2.56",
           "-2.83",
           "-2.83",
           "-2.95",
           "-2.84",
           "-2.82",
           "N/A",
           "-3.10"
          ],
          [
           "-2.91",
           "-2.79",
           "-2.90",
           "-2.53",
           "-2.78",
           "-2.91",
           "-2.52",
           "-2.81",
           "-2.90",
           "-2.52",
           "-2.80",
           "-2.82",
           "-2.90",
           "-2.80",
           "-2.81",
           "-3.30",
           "N/A"
          ]
         ],
         "textfont": {
          "color": "black"
         },
         "texttemplate": "%{text}",
         "type": "heatmap",
         "x": [
          "WhereIsAI_UAE-Large-V1",
          "BAAI_bge-base-en-v1.5",
          "BAAI_bge-large-en-v1.5",
          "BAAI_bge-small-en-v1.5",
          "intfloat_e5-base-v2",
          "intfloat_e5-large-v2",
          "intfloat_e5-small-v2",
          "thenlper_gte-base",
          "thenlper_gte-large",
          "thenlper_gte-small",
          "sentence-transformers_gtr-t5-base",
          "sentence-transformers_gtr-t5-large",
          "mixedbread-ai_mxbai-embed-large-v1",
          "sentence-transformers_sentence-t5-base",
          "sentence-transformers_sentence-t5-large",
          "openai_text-embedding-3-large",
          "openai_text-embedding-3-small"
         ],
         "y": [
          "WhereIsAI_UAE-Large-V1",
          "BAAI_bge-base-en-v1.5",
          "BAAI_bge-large-en-v1.5",
          "BAAI_bge-small-en-v1.5",
          "intfloat_e5-base-v2",
          "intfloat_e5-large-v2",
          "intfloat_e5-small-v2",
          "thenlper_gte-base",
          "thenlper_gte-large",
          "thenlper_gte-small",
          "sentence-transformers_gtr-t5-base",
          "sentence-transformers_gtr-t5-large",
          "mixedbread-ai_mxbai-embed-large-v1",
          "sentence-transformers_sentence-t5-base",
          "sentence-transformers_sentence-t5-large",
          "openai_text-embedding-3-large",
          "openai_text-embedding-3-small"
         ],
         "z": [
          [
           null,
           -2.7574663425948116,
           -2.8420995149022072,
           -2.5095080204774765,
           -2.772926057182547,
           -2.8495111364061194,
           -2.504729011234093,
           -2.771978108569226,
           -2.8644323823071316,
           -2.4903870476720407,
           -2.762528125724493,
           -2.7511733114121983,
           -2.8454498318091486,
           -2.7498421169253677,
           -2.7501509336190813,
           -3.2696157318654278,
           -3.02198423076025
          ],
          [
           -2.8439671840984952,
           null,
           -2.8425685649518804,
           -2.4749370961506623,
           -2.7262825567904367,
           -2.8291240980333727,
           -2.4784590184216295,
           -2.7468449351451576,
           -2.8555266586187416,
           -2.4797362835448697,
           -2.735703755380616,
           -2.7288352609804054,
           -2.844996909042494,
           -2.733095494011109,
           -2.723420118354665,
           -3.237153824629583,
           -2.98560012259634
          ],
          [
           -2.847032143924652,
           -2.769208332080826,
           null,
           -2.5159174758940686,
           -2.7647998813551764,
           -2.859104585314454,
           -2.500828877749649,
           -2.7574615990580216,
           -2.8504715783957004,
           -2.5095226630642307,
           -2.773071177477477,
           -2.737753963940291,
           -2.838673846847979,
           -2.7590395972498656,
           -2.775269038776332,
           -3.265478096932488,
           -3.0072780568853523
          ],
          [
           -2.793861657643175,
           -2.6806242728225356,
           -2.805010042893231,
           null,
           -2.6933186738606256,
           -2.8112592269492285,
           -2.4390978670404246,
           -2.6841598709638115,
           -2.7989696594110605,
           -2.418366493260947,
           -2.6777851988160783,
           -2.7018360273677144,
           -2.813204423160594,
           -2.6743761031771873,
           -2.7160313697399996,
           -3.137169966998491,
           -2.9366836102976093
          ],
          [
           -2.838349525279202,
           -2.726233080426001,
           -2.8222737559154836,
           -2.4857008456020866,
           null,
           -2.82648948208632,
           -2.476211658472666,
           -2.715059648720614,
           -2.846425889143047,
           -2.5203621985473252,
           -2.7243012129054516,
           -2.742306246985116,
           -2.840890019131271,
           -2.7537059548478817,
           -2.739483645985742,
           -3.2347535814133175,
           -3.0041197038012433
          ],
          [
           -2.848610680225495,
           -2.7633478602228982,
           -2.861550176205477,
           -2.5189607223864074,
           -2.7594822848260843,
           null,
           -2.537914955629029,
           -2.7478137777043647,
           -2.824773305410056,
           -2.5243649046974794,
           -2.772076932474613,
           -2.767920620860492,
           -2.8435499746200517,
           -2.746862294084466,
           -2.7647419048581545,
           -3.2638811808935446,
           -3.006200647937264
          ],
          [
           -2.7945975474406426,
           -2.672205624277428,
           -2.8055648996591964,
           -2.4192694036078586,
           -2.679833667465062,
           -2.790561112025961,
           null,
           -2.6976131427529637,
           -2.787996442364042,
           -2.4333433568378586,
           -2.6934248345409646,
           -2.689664582821246,
           -2.811017294196133,
           -2.6852397758964472,
           -2.665421900124522,
           -3.142477136686657,
           -2.945049031507515
          ],
          [
           -2.8527441484476204,
           -2.720312330187536,
           -2.8593186440541323,
           -2.4965141594896365,
           -2.73222070979967,
           -2.836172110176852,
           -2.5012113128768787,
           null,
           -2.8362701708791134,
           -2.5151507713784094,
           -2.7149571145777065,
           -2.71873632350183,
           -2.841471953687869,
           -2.7266619192590054,
           -2.7151816772719215,
           -3.2367913431774546,
           -2.990001772362981
          ],
          [
           -2.854049946191234,
           -2.7534789384444025,
           -2.8499774195833054,
           -2.517077975365861,
           -2.737490131068005,
           -2.853228773987639,
           -2.5350490674750676,
           -2.7629753227906853,
           null,
           -2.4978144834788654,
           -2.7639867117242987,
           -2.738939346759615,
           -2.856158975272222,
           -2.7364414423899426,
           -2.7543894975646266,
           -3.2653910855796293,
           -3.012757078980578
          ],
          [
           -2.7945773841275368,
           -2.710017958546196,
           -2.804236725987993,
           -2.4222160053990853,
           -2.6959802561360102,
           -2.7835828346946787,
           -2.4050714091801533,
           -2.706208423646955,
           -2.7928610469325696,
           null,
           -2.7065209440393088,
           -2.682494770419618,
           -2.8200673512399974,
           -2.677039779851422,
           -2.7090154729404157,
           -3.149138864063171,
           -2.9176048517444637
          ],
          [
           -2.838016532079381,
           -2.717282414331235,
           -2.8372934303265755,
           -2.492715648951941,
           -2.753655862859868,
           -2.852506520284063,
           -2.4822052322300467,
           -2.710654813825686,
           -2.8469891318429172,
           -2.4940913066284485,
           null,
           -2.7055503826655363,
           -2.837333128802843,
           -2.7122439864704684,
           -2.753149418287607,
           -3.2366751461774594,
           -2.9857239305725702
          ],
          [
           -2.841436577644957,
           -2.741197314512788,
           -2.8350086891014312,
           -2.5018797479162367,
           -2.7032368315174287,
           -2.8576168797407124,
           -2.5015080185430247,
           -2.7319167974208143,
           -2.866335087012379,
           -2.50599924665408,
           -2.7159763437912665,
           null,
           -2.8427741317658617,
           -2.7494958052689555,
           -2.7188830490325513,
           -3.2382536761355643,
           -2.989299907969369
          ],
          [
           -2.8574904999541713,
           -2.757874828121548,
           -2.836801602405946,
           -2.5145947926412124,
           -2.776514985995462,
           -2.8582888395432473,
           -2.5100568665760847,
           -2.7727799067214463,
           -2.847354870392868,
           -2.539932652546568,
           -2.7670191506382733,
           -2.7676537467638225,
           null,
           -2.768673253337806,
           -2.7621329590330648,
           -3.267328367615393,
           -3.018371082714945
          ],
          [
           -2.831625897800422,
           -2.743224193225815,
           -2.8253331810086357,
           -2.496564090264143,
           -2.7269613124593968,
           -2.84291883650624,
           -2.4755802877330217,
           -2.704577990630079,
           -2.839717997400511,
           -2.475167000083609,
           -2.7226632215846203,
           -2.7119516225256906,
           -2.8185491026905214,
           null,
           -2.719689163512609,
           -3.2348944898536733,
           -2.9934528032433056
          ],
          [
           -2.8514682300735994,
           -2.7448640037565926,
           -2.8427515678052133,
           -2.4966078081967917,
           -2.74235577309305,
           -2.8342725198140037,
           -2.4988083593057078,
           -2.7103880938991805,
           -2.8291400972749035,
           -2.503298547080734,
           -2.7360807575585264,
           -2.7330988575522306,
           -2.8441296601993993,
           -2.705682424581142,
           null,
           -3.2378874342952315,
           -2.9841915614481604
          ],
          [
           -2.962494039911259,
           -2.8423406582790576,
           -2.954507314221811,
           -2.5644603072164207,
           -2.8353951693433355,
           -2.964845090449149,
           -2.5556375683646704,
           -2.8386317940804386,
           -2.963308972093713,
           -2.560999283191517,
           -2.8333860962443933,
           -2.8308654658430337,
           -2.952742366845893,
           -2.8359384903778384,
           -2.8236707391222384,
           null,
           -3.095328214131093
          ],
          [
           -2.9080143017269084,
           -2.793943662230012,
           -2.8998820636227056,
           -2.527864651448688,
           -2.7838094308865386,
           -2.914045622553132,
           -2.52481682222563,
           -2.8084470135948747,
           -2.8951426735246373,
           -2.523727571881367,
           -2.799631799115948,
           -2.82328182590169,
           -2.9013001563461964,
           -2.7973275588650637,
           -2.8090540626581615,
           -3.2986171609264896,
           null
          ]
         ]
        }
       ],
       "layout": {
        "dragmode": false,
        "height": 600,
        "modebar": {
         "remove": [
          "zoomIn2d",
          "zoomOut2d",
          "autoScale2d",
          "resetScale2d",
          "hoverClosestCartesian",
          "hoverCompareCartesian",
          "toggleSpikelines"
         ]
        },
        "template": {
         "data": {
          "bar": [
           {
            "error_x": {
             "color": "#2a3f5f"
            },
            "error_y": {
             "color": "#2a3f5f"
            },
            "marker": {
             "line": {
              "color": "white",
              "width": 0.5
             },
             "pattern": {
              "fillmode": "overlay",
              "size": 10,
              "solidity": 0.2
             }
            },
            "type": "bar"
           }
          ],
          "barpolar": [
           {
            "marker": {
             "line": {
              "color": "white",
              "width": 0.5
             },
             "pattern": {
              "fillmode": "overlay",
              "size": 10,
              "solidity": 0.2
             }
            },
            "type": "barpolar"
           }
          ],
          "carpet": [
           {
            "aaxis": {
             "endlinecolor": "#2a3f5f",
             "gridcolor": "#C8D4E3",
             "linecolor": "#C8D4E3",
             "minorgridcolor": "#C8D4E3",
             "startlinecolor": "#2a3f5f"
            },
            "baxis": {
             "endlinecolor": "#2a3f5f",
             "gridcolor": "#C8D4E3",
             "linecolor": "#C8D4E3",
             "minorgridcolor": "#C8D4E3",
             "startlinecolor": "#2a3f5f"
            },
            "type": "carpet"
           }
          ],
          "choropleth": [
           {
            "colorbar": {
             "outlinewidth": 0,
             "ticks": ""
            },
            "type": "choropleth"
           }
          ],
          "contour": [
           {
            "colorbar": {
             "outlinewidth": 0,
             "ticks": ""
            },
            "colorscale": [
             [
              0,
              "#0d0887"
             ],
             [
              0.1111111111111111,
              "#46039f"
             ],
             [
              0.2222222222222222,
              "#7201a8"
             ],
             [
              0.3333333333333333,
              "#9c179e"
             ],
             [
              0.4444444444444444,
              "#bd3786"
             ],
             [
              0.5555555555555556,
              "#d8576b"
             ],
             [
              0.6666666666666666,
              "#ed7953"
             ],
             [
              0.7777777777777778,
              "#fb9f3a"
             ],
             [
              0.8888888888888888,
              "#fdca26"
             ],
             [
              1,
              "#f0f921"
             ]
            ],
            "type": "contour"
           }
          ],
          "contourcarpet": [
           {
            "colorbar": {
             "outlinewidth": 0,
             "ticks": ""
            },
            "type": "contourcarpet"
           }
          ],
          "heatmap": [
           {
            "colorbar": {
             "outlinewidth": 0,
             "ticks": ""
            },
            "colorscale": [
             [
              0,
              "#0d0887"
             ],
             [
              0.1111111111111111,
              "#46039f"
             ],
             [
              0.2222222222222222,
              "#7201a8"
             ],
             [
              0.3333333333333333,
              "#9c179e"
             ],
             [
              0.4444444444444444,
              "#bd3786"
             ],
             [
              0.5555555555555556,
              "#d8576b"
             ],
             [
              0.6666666666666666,
              "#ed7953"
             ],
             [
              0.7777777777777778,
              "#fb9f3a"
             ],
             [
              0.8888888888888888,
              "#fdca26"
             ],
             [
              1,
              "#f0f921"
             ]
            ],
            "type": "heatmap"
           }
          ],
          "heatmapgl": [
           {
            "colorbar": {
             "outlinewidth": 0,
             "ticks": ""
            },
            "colorscale": [
             [
              0,
              "#0d0887"
             ],
             [
              0.1111111111111111,
              "#46039f"
             ],
             [
              0.2222222222222222,
              "#7201a8"
             ],
             [
              0.3333333333333333,
              "#9c179e"
             ],
             [
              0.4444444444444444,
              "#bd3786"
             ],
             [
              0.5555555555555556,
              "#d8576b"
             ],
             [
              0.6666666666666666,
              "#ed7953"
             ],
             [
              0.7777777777777778,
              "#fb9f3a"
             ],
             [
              0.8888888888888888,
              "#fdca26"
             ],
             [
              1,
              "#f0f921"
             ]
            ],
            "type": "heatmapgl"
           }
          ],
          "histogram": [
           {
            "marker": {
             "pattern": {
              "fillmode": "overlay",
              "size": 10,
              "solidity": 0.2
             }
            },
            "type": "histogram"
           }
          ],
          "histogram2d": [
           {
            "colorbar": {
             "outlinewidth": 0,
             "ticks": ""
            },
            "colorscale": [
             [
              0,
              "#0d0887"
             ],
             [
              0.1111111111111111,
              "#46039f"
             ],
             [
              0.2222222222222222,
              "#7201a8"
             ],
             [
              0.3333333333333333,
              "#9c179e"
             ],
             [
              0.4444444444444444,
              "#bd3786"
             ],
             [
              0.5555555555555556,
              "#d8576b"
             ],
             [
              0.6666666666666666,
              "#ed7953"
             ],
             [
              0.7777777777777778,
              "#fb9f3a"
             ],
             [
              0.8888888888888888,
              "#fdca26"
             ],
             [
              1,
              "#f0f921"
             ]
            ],
            "type": "histogram2d"
           }
          ],
          "histogram2dcontour": [
           {
            "colorbar": {
             "outlinewidth": 0,
             "ticks": ""
            },
            "colorscale": [
             [
              0,
              "#0d0887"
             ],
             [
              0.1111111111111111,
              "#46039f"
             ],
             [
              0.2222222222222222,
              "#7201a8"
             ],
             [
              0.3333333333333333,
              "#9c179e"
             ],
             [
              0.4444444444444444,
              "#bd3786"
             ],
             [
              0.5555555555555556,
              "#d8576b"
             ],
             [
              0.6666666666666666,
              "#ed7953"
             ],
             [
              0.7777777777777778,
              "#fb9f3a"
             ],
             [
              0.8888888888888888,
              "#fdca26"
             ],
             [
              1,
              "#f0f921"
             ]
            ],
            "type": "histogram2dcontour"
           }
          ],
          "mesh3d": [
           {
            "colorbar": {
             "outlinewidth": 0,
             "ticks": ""
            },
            "type": "mesh3d"
           }
          ],
          "parcoords": [
           {
            "line": {
             "colorbar": {
              "outlinewidth": 0,
              "ticks": ""
             }
            },
            "type": "parcoords"
           }
          ],
          "pie": [
           {
            "automargin": true,
            "type": "pie"
           }
          ],
          "scatter": [
           {
            "fillpattern": {
             "fillmode": "overlay",
             "size": 10,
             "solidity": 0.2
            },
            "type": "scatter"
           }
          ],
          "scatter3d": [
           {
            "line": {
             "colorbar": {
              "outlinewidth": 0,
              "ticks": ""
             }
            },
            "marker": {
             "colorbar": {
              "outlinewidth": 0,
              "ticks": ""
             }
            },
            "type": "scatter3d"
           }
          ],
          "scattercarpet": [
           {
            "marker": {
             "colorbar": {
              "outlinewidth": 0,
              "ticks": ""
             }
            },
            "type": "scattercarpet"
           }
          ],
          "scattergeo": [
           {
            "marker": {
             "colorbar": {
              "outlinewidth": 0,
              "ticks": ""
             }
            },
            "type": "scattergeo"
           }
          ],
          "scattergl": [
           {
            "marker": {
             "colorbar": {
              "outlinewidth": 0,
              "ticks": ""
             }
            },
            "type": "scattergl"
           }
          ],
          "scattermapbox": [
           {
            "marker": {
             "colorbar": {
              "outlinewidth": 0,
              "ticks": ""
             }
            },
            "type": "scattermapbox"
           }
          ],
          "scatterpolar": [
           {
            "marker": {
             "colorbar": {
              "outlinewidth": 0,
              "ticks": ""
             }
            },
            "type": "scatterpolar"
           }
          ],
          "scatterpolargl": [
           {
            "marker": {
             "colorbar": {
              "outlinewidth": 0,
              "ticks": ""
             }
            },
            "type": "scatterpolargl"
           }
          ],
          "scatterternary": [
           {
            "marker": {
             "colorbar": {
              "outlinewidth": 0,
              "ticks": ""
             }
            },
            "type": "scatterternary"
           }
          ],
          "surface": [
           {
            "colorbar": {
             "outlinewidth": 0,
             "ticks": ""
            },
            "colorscale": [
             [
              0,
              "#0d0887"
             ],
             [
              0.1111111111111111,
              "#46039f"
             ],
             [
              0.2222222222222222,
              "#7201a8"
             ],
             [
              0.3333333333333333,
              "#9c179e"
             ],
             [
              0.4444444444444444,
              "#bd3786"
             ],
             [
              0.5555555555555556,
              "#d8576b"
             ],
             [
              0.6666666666666666,
              "#ed7953"
             ],
             [
              0.7777777777777778,
              "#fb9f3a"
             ],
             [
              0.8888888888888888,
              "#fdca26"
             ],
             [
              1,
              "#f0f921"
             ]
            ],
            "type": "surface"
           }
          ],
          "table": [
           {
            "cells": {
             "fill": {
              "color": "#EBF0F8"
             },
             "line": {
              "color": "white"
             }
            },
            "header": {
             "fill": {
              "color": "#C8D4E3"
             },
             "line": {
              "color": "white"
             }
            },
            "type": "table"
           }
          ]
         },
         "layout": {
          "annotationdefaults": {
           "arrowcolor": "#2a3f5f",
           "arrowhead": 0,
           "arrowwidth": 1
          },
          "autotypenumbers": "strict",
          "coloraxis": {
           "colorbar": {
            "outlinewidth": 0,
            "ticks": ""
           }
          },
          "colorscale": {
           "diverging": [
            [
             0,
             "#8e0152"
            ],
            [
             0.1,
             "#c51b7d"
            ],
            [
             0.2,
             "#de77ae"
            ],
            [
             0.3,
             "#f1b6da"
            ],
            [
             0.4,
             "#fde0ef"
            ],
            [
             0.5,
             "#f7f7f7"
            ],
            [
             0.6,
             "#e6f5d0"
            ],
            [
             0.7,
             "#b8e186"
            ],
            [
             0.8,
             "#7fbc41"
            ],
            [
             0.9,
             "#4d9221"
            ],
            [
             1,
             "#276419"
            ]
           ],
           "sequential": [
            [
             0,
             "#0d0887"
            ],
            [
             0.1111111111111111,
             "#46039f"
            ],
            [
             0.2222222222222222,
             "#7201a8"
            ],
            [
             0.3333333333333333,
             "#9c179e"
            ],
            [
             0.4444444444444444,
             "#bd3786"
            ],
            [
             0.5555555555555556,
             "#d8576b"
            ],
            [
             0.6666666666666666,
             "#ed7953"
            ],
            [
             0.7777777777777778,
             "#fb9f3a"
            ],
            [
             0.8888888888888888,
             "#fdca26"
            ],
            [
             1,
             "#f0f921"
            ]
           ],
           "sequentialminus": [
            [
             0,
             "#0d0887"
            ],
            [
             0.1111111111111111,
             "#46039f"
            ],
            [
             0.2222222222222222,
             "#7201a8"
            ],
            [
             0.3333333333333333,
             "#9c179e"
            ],
            [
             0.4444444444444444,
             "#bd3786"
            ],
            [
             0.5555555555555556,
             "#d8576b"
            ],
            [
             0.6666666666666666,
             "#ed7953"
            ],
            [
             0.7777777777777778,
             "#fb9f3a"
            ],
            [
             0.8888888888888888,
             "#fdca26"
            ],
            [
             1,
             "#f0f921"
            ]
           ]
          },
          "colorway": [
           "#636efa",
           "#EF553B",
           "#00cc96",
           "#ab63fa",
           "#FFA15A",
           "#19d3f3",
           "#FF6692",
           "#B6E880",
           "#FF97FF",
           "#FECB52"
          ],
          "font": {
           "color": "#2a3f5f"
          },
          "geo": {
           "bgcolor": "white",
           "lakecolor": "white",
           "landcolor": "white",
           "showlakes": true,
           "showland": true,
           "subunitcolor": "#C8D4E3"
          },
          "hoverlabel": {
           "align": "left"
          },
          "hovermode": "closest",
          "mapbox": {
           "style": "light"
          },
          "paper_bgcolor": "white",
          "plot_bgcolor": "white",
          "polar": {
           "angularaxis": {
            "gridcolor": "#EBF0F8",
            "linecolor": "#EBF0F8",
            "ticks": ""
           },
           "bgcolor": "white",
           "radialaxis": {
            "gridcolor": "#EBF0F8",
            "linecolor": "#EBF0F8",
            "ticks": ""
           }
          },
          "scene": {
           "xaxis": {
            "backgroundcolor": "white",
            "gridcolor": "#DFE8F3",
            "gridwidth": 2,
            "linecolor": "#EBF0F8",
            "showbackground": true,
            "ticks": "",
            "zerolinecolor": "#EBF0F8"
           },
           "yaxis": {
            "backgroundcolor": "white",
            "gridcolor": "#DFE8F3",
            "gridwidth": 2,
            "linecolor": "#EBF0F8",
            "showbackground": true,
            "ticks": "",
            "zerolinecolor": "#EBF0F8"
           },
           "zaxis": {
            "backgroundcolor": "white",
            "gridcolor": "#DFE8F3",
            "gridwidth": 2,
            "linecolor": "#EBF0F8",
            "showbackground": true,
            "ticks": "",
            "zerolinecolor": "#EBF0F8"
           }
          },
          "shapedefaults": {
           "line": {
            "color": "#2a3f5f"
           }
          },
          "ternary": {
           "aaxis": {
            "gridcolor": "#DFE8F3",
            "linecolor": "#A2B1C6",
            "ticks": ""
           },
           "baxis": {
            "gridcolor": "#DFE8F3",
            "linecolor": "#A2B1C6",
            "ticks": ""
           },
           "bgcolor": "white",
           "caxis": {
            "gridcolor": "#DFE8F3",
            "linecolor": "#A2B1C6",
            "ticks": ""
           }
          },
          "title": {
           "x": 0.05
          },
          "xaxis": {
           "automargin": true,
           "gridcolor": "#EBF0F8",
           "linecolor": "#EBF0F8",
           "ticks": "",
           "title": {
            "standoff": 15
           },
           "zerolinecolor": "#EBF0F8",
           "zerolinewidth": 2
          },
          "yaxis": {
           "automargin": true,
           "gridcolor": "#EBF0F8",
           "linecolor": "#EBF0F8",
           "ticks": "",
           "title": {
            "standoff": 15
           },
           "zerolinecolor": "#EBF0F8",
           "zerolinewidth": 2
          }
         }
        },
        "title": {
         "text": "Example Validation MSE (log)"
        },
        "width": 800,
        "xaxis": {
         "fixedrange": true,
         "nticks": 17,
         "title": {}
        },
        "yaxis": {
         "fixedrange": true,
         "nticks": 17,
         "title": {}
        }
       }
      }
     },
     "metadata": {},
     "output_type": "display_data"
    }
   ],
   "source": [
    "# Visualize Imported Data (One Dataset, One Architecture)\n",
    "labels = sorted(meta[\"model2idx\"], key=lambda k: meta[\"model2idx\"][k])\n",
    "matrix = example_validation_mse\n",
    "heatmap(matrix, log=True, title=\"Example Validation MSE (log)\", labels=labels, nan_diagnal=True)"
   ]
  },
  {
   "cell_type": "code",
   "execution_count": 51,
   "metadata": {},
   "outputs": [
    {
     "name": "stderr",
     "output_type": "stream",
     "text": [
      "\u001b[32m2024-12-13 19:43:06.472\u001b[0m | \u001b[1mINFO    \u001b[0m | \u001b[36m__main__\u001b[0m:\u001b[36mheatmap\u001b[0m:\u001b[36m42\u001b[0m - \u001b[1mCreating heatmap visualization...\u001b[0m\n",
      "\u001b[32m2024-12-13 19:43:06.481\u001b[0m | \u001b[1mINFO    \u001b[0m | \u001b[36m__main__\u001b[0m:\u001b[36mheatmap\u001b[0m:\u001b[36m42\u001b[0m - \u001b[1mCreating heatmap visualization...\u001b[0m\n",
      "\u001b[32m2024-12-13 19:43:06.486\u001b[0m | \u001b[1mINFO    \u001b[0m | \u001b[36m__main__\u001b[0m:\u001b[36mheatmap\u001b[0m:\u001b[36m42\u001b[0m - \u001b[1mCreating heatmap visualization...\u001b[0m\n",
      "\u001b[32m2024-12-13 19:43:06.494\u001b[0m | \u001b[1mINFO    \u001b[0m | \u001b[36m__main__\u001b[0m:\u001b[36mheatmap\u001b[0m:\u001b[36m42\u001b[0m - \u001b[1mCreating heatmap visualization...\u001b[0m\n",
      "\u001b[32m2024-12-13 19:43:06.504\u001b[0m | \u001b[1mINFO    \u001b[0m | \u001b[36m__main__\u001b[0m:\u001b[36mheatmap\u001b[0m:\u001b[36m42\u001b[0m - \u001b[1mCreating heatmap visualization...\u001b[0m\n",
      "\u001b[32m2024-12-13 19:43:06.509\u001b[0m | \u001b[1mINFO    \u001b[0m | \u001b[36m__main__\u001b[0m:\u001b[36mheatmap\u001b[0m:\u001b[36m42\u001b[0m - \u001b[1mCreating heatmap visualization...\u001b[0m\n",
      "\u001b[32m2024-12-13 19:43:06.515\u001b[0m | \u001b[1mINFO    \u001b[0m | \u001b[36m__main__\u001b[0m:\u001b[36mheatmap\u001b[0m:\u001b[36m42\u001b[0m - \u001b[1mCreating heatmap visualization...\u001b[0m\n"
     ]
    },
    {
     "data": {
      "application/vnd.plotly.v1+json": {
       "config": {
        "plotlyServerURL": "https://plot.ly"
       },
       "data": [
        {
         "colorscale": [
          [
           0,
           "#440154"
          ],
          [
           0.1111111111111111,
           "#482878"
          ],
          [
           0.2222222222222222,
           "#3e4989"
          ],
          [
           0.3333333333333333,
           "#31688e"
          ],
          [
           0.4444444444444444,
           "#26828e"
          ],
          [
           0.5555555555555556,
           "#1f9e89"
          ],
          [
           0.6666666666666666,
           "#35b779"
          ],
          [
           0.7777777777777778,
           "#6ece58"
          ],
          [
           0.8888888888888888,
           "#b5de2b"
          ],
          [
           1,
           "#fde725"
          ]
         ],
         "reversescale": false,
         "showlegend": false,
         "showscale": true,
         "text": [
          [
           "N/A",
           "-2.76",
           "-2.84",
           "-2.51",
           "-2.77",
           "-2.85",
           "-2.50",
           "-2.77",
           "-2.86",
           "-2.49",
           "-2.76",
           "-2.75",
           "-2.85",
           "-2.75",
           "-2.75",
           "-3.27",
           "-3.02"
          ],
          [
           "-2.84",
           "N/A",
           "-2.84",
           "-2.47",
           "-2.73",
           "-2.83",
           "-2.48",
           "-2.75",
           "-2.86",
           "-2.48",
           "-2.74",
           "-2.73",
           "-2.84",
           "-2.73",
           "-2.72",
           "-3.24",
           "-2.99"
          ],
          [
           "-2.85",
           "-2.77",
           "N/A",
           "-2.52",
           "-2.76",
           "-2.86",
           "-2.50",
           "-2.76",
           "-2.85",
           "-2.51",
           "-2.77",
           "-2.74",
           "-2.84",
           "-2.76",
           "-2.78",
           "-3.27",
           "-3.01"
          ],
          [
           "-2.79",
           "-2.68",
           "-2.81",
           "N/A",
           "-2.69",
           "-2.81",
           "-2.44",
           "-2.68",
           "-2.80",
           "-2.42",
           "-2.68",
           "-2.70",
           "-2.81",
           "-2.67",
           "-2.72",
           "-3.14",
           "-2.94"
          ],
          [
           "-2.84",
           "-2.73",
           "-2.82",
           "-2.49",
           "N/A",
           "-2.83",
           "-2.48",
           "-2.72",
           "-2.85",
           "-2.52",
           "-2.72",
           "-2.74",
           "-2.84",
           "-2.75",
           "-2.74",
           "-3.23",
           "-3.00"
          ],
          [
           "-2.85",
           "-2.76",
           "-2.86",
           "-2.52",
           "-2.76",
           "N/A",
           "-2.54",
           "-2.75",
           "-2.82",
           "-2.52",
           "-2.77",
           "-2.77",
           "-2.84",
           "-2.75",
           "-2.76",
           "-3.26",
           "-3.01"
          ],
          [
           "-2.79",
           "-2.67",
           "-2.81",
           "-2.42",
           "-2.68",
           "-2.79",
           "N/A",
           "-2.70",
           "-2.79",
           "-2.43",
           "-2.69",
           "-2.69",
           "-2.81",
           "-2.69",
           "-2.67",
           "-3.14",
           "-2.95"
          ],
          [
           "-2.85",
           "-2.72",
           "-2.86",
           "-2.50",
           "-2.73",
           "-2.84",
           "-2.50",
           "N/A",
           "-2.84",
           "-2.52",
           "-2.71",
           "-2.72",
           "-2.84",
           "-2.73",
           "-2.72",
           "-3.24",
           "-2.99"
          ],
          [
           "-2.85",
           "-2.75",
           "-2.85",
           "-2.52",
           "-2.74",
           "-2.85",
           "-2.54",
           "-2.76",
           "N/A",
           "-2.50",
           "-2.76",
           "-2.74",
           "-2.86",
           "-2.74",
           "-2.75",
           "-3.27",
           "-3.01"
          ],
          [
           "-2.79",
           "-2.71",
           "-2.80",
           "-2.42",
           "-2.70",
           "-2.78",
           "-2.41",
           "-2.71",
           "-2.79",
           "N/A",
           "-2.71",
           "-2.68",
           "-2.82",
           "-2.68",
           "-2.71",
           "-3.15",
           "-2.92"
          ],
          [
           "-2.84",
           "-2.72",
           "-2.84",
           "-2.49",
           "-2.75",
           "-2.85",
           "-2.48",
           "-2.71",
           "-2.85",
           "-2.49",
           "N/A",
           "-2.71",
           "-2.84",
           "-2.71",
           "-2.75",
           "-3.24",
           "-2.99"
          ],
          [
           "-2.84",
           "-2.74",
           "-2.84",
           "-2.50",
           "-2.70",
           "-2.86",
           "-2.50",
           "-2.73",
           "-2.87",
           "-2.51",
           "-2.72",
           "N/A",
           "-2.84",
           "-2.75",
           "-2.72",
           "-3.24",
           "-2.99"
          ],
          [
           "-2.86",
           "-2.76",
           "-2.84",
           "-2.51",
           "-2.78",
           "-2.86",
           "-2.51",
           "-2.77",
           "-2.85",
           "-2.54",
           "-2.77",
           "-2.77",
           "N/A",
           "-2.77",
           "-2.76",
           "-3.27",
           "-3.02"
          ],
          [
           "-2.83",
           "-2.74",
           "-2.83",
           "-2.50",
           "-2.73",
           "-2.84",
           "-2.48",
           "-2.70",
           "-2.84",
           "-2.48",
           "-2.72",
           "-2.71",
           "-2.82",
           "N/A",
           "-2.72",
           "-3.23",
           "-2.99"
          ],
          [
           "-2.85",
           "-2.74",
           "-2.84",
           "-2.50",
           "-2.74",
           "-2.83",
           "-2.50",
           "-2.71",
           "-2.83",
           "-2.50",
           "-2.74",
           "-2.73",
           "-2.84",
           "-2.71",
           "N/A",
           "-3.24",
           "-2.98"
          ],
          [
           "-2.96",
           "-2.84",
           "-2.95",
           "-2.56",
           "-2.84",
           "-2.96",
           "-2.56",
           "-2.84",
           "-2.96",
           "-2.56",
           "-2.83",
           "-2.83",
           "-2.95",
           "-2.84",
           "-2.82",
           "N/A",
           "-3.10"
          ],
          [
           "-2.91",
           "-2.79",
           "-2.90",
           "-2.53",
           "-2.78",
           "-2.91",
           "-2.52",
           "-2.81",
           "-2.90",
           "-2.52",
           "-2.80",
           "-2.82",
           "-2.90",
           "-2.80",
           "-2.81",
           "-3.30",
           "N/A"
          ]
         ],
         "textfont": {
          "color": "black"
         },
         "texttemplate": "%{text}",
         "type": "heatmap",
         "x": [
          "WhereIsAI_UAE-Large-V1",
          "BAAI_bge-base-en-v1.5",
          "BAAI_bge-large-en-v1.5",
          "BAAI_bge-small-en-v1.5",
          "intfloat_e5-base-v2",
          "intfloat_e5-large-v2",
          "intfloat_e5-small-v2",
          "thenlper_gte-base",
          "thenlper_gte-large",
          "thenlper_gte-small",
          "sentence-transformers_gtr-t5-base",
          "sentence-transformers_gtr-t5-large",
          "mixedbread-ai_mxbai-embed-large-v1",
          "sentence-transformers_sentence-t5-base",
          "sentence-transformers_sentence-t5-large",
          "openai_text-embedding-3-large",
          "openai_text-embedding-3-small"
         ],
         "y": [
          "WhereIsAI_UAE-Large-V1",
          "BAAI_bge-base-en-v1.5",
          "BAAI_bge-large-en-v1.5",
          "BAAI_bge-small-en-v1.5",
          "intfloat_e5-base-v2",
          "intfloat_e5-large-v2",
          "intfloat_e5-small-v2",
          "thenlper_gte-base",
          "thenlper_gte-large",
          "thenlper_gte-small",
          "sentence-transformers_gtr-t5-base",
          "sentence-transformers_gtr-t5-large",
          "mixedbread-ai_mxbai-embed-large-v1",
          "sentence-transformers_sentence-t5-base",
          "sentence-transformers_sentence-t5-large",
          "openai_text-embedding-3-large",
          "openai_text-embedding-3-small"
         ],
         "z": [
          [
           null,
           -2.7574663425948116,
           -2.8420995149022072,
           -2.5095080204774765,
           -2.772926057182547,
           -2.8495111364061194,
           -2.504729011234093,
           -2.771978108569226,
           -2.8644323823071316,
           -2.4903870476720407,
           -2.762528125724493,
           -2.7511733114121983,
           -2.8454498318091486,
           -2.7498421169253677,
           -2.7501509336190813,
           -3.2696157318654278,
           -3.02198423076025
          ],
          [
           -2.8439671840984952,
           null,
           -2.8425685649518804,
           -2.4749370961506623,
           -2.7262825567904367,
           -2.8291240980333727,
           -2.4784590184216295,
           -2.7468449351451576,
           -2.8555266586187416,
           -2.4797362835448697,
           -2.735703755380616,
           -2.7288352609804054,
           -2.844996909042494,
           -2.733095494011109,
           -2.723420118354665,
           -3.237153824629583,
           -2.98560012259634
          ],
          [
           -2.847032143924652,
           -2.769208332080826,
           null,
           -2.5159174758940686,
           -2.7647998813551764,
           -2.859104585314454,
           -2.500828877749649,
           -2.7574615990580216,
           -2.8504715783957004,
           -2.5095226630642307,
           -2.773071177477477,
           -2.737753963940291,
           -2.838673846847979,
           -2.7590395972498656,
           -2.775269038776332,
           -3.265478096932488,
           -3.0072780568853523
          ],
          [
           -2.793861657643175,
           -2.6806242728225356,
           -2.805010042893231,
           null,
           -2.6933186738606256,
           -2.8112592269492285,
           -2.4390978670404246,
           -2.6841598709638115,
           -2.7989696594110605,
           -2.418366493260947,
           -2.6777851988160783,
           -2.7018360273677144,
           -2.813204423160594,
           -2.6743761031771873,
           -2.7160313697399996,
           -3.137169966998491,
           -2.9366836102976093
          ],
          [
           -2.838349525279202,
           -2.726233080426001,
           -2.8222737559154836,
           -2.4857008456020866,
           null,
           -2.82648948208632,
           -2.476211658472666,
           -2.715059648720614,
           -2.846425889143047,
           -2.5203621985473252,
           -2.7243012129054516,
           -2.742306246985116,
           -2.840890019131271,
           -2.7537059548478817,
           -2.739483645985742,
           -3.2347535814133175,
           -3.0041197038012433
          ],
          [
           -2.848610680225495,
           -2.7633478602228982,
           -2.861550176205477,
           -2.5189607223864074,
           -2.7594822848260843,
           null,
           -2.537914955629029,
           -2.7478137777043647,
           -2.824773305410056,
           -2.5243649046974794,
           -2.772076932474613,
           -2.767920620860492,
           -2.8435499746200517,
           -2.746862294084466,
           -2.7647419048581545,
           -3.2638811808935446,
           -3.006200647937264
          ],
          [
           -2.7945975474406426,
           -2.672205624277428,
           -2.8055648996591964,
           -2.4192694036078586,
           -2.679833667465062,
           -2.790561112025961,
           null,
           -2.6976131427529637,
           -2.787996442364042,
           -2.4333433568378586,
           -2.6934248345409646,
           -2.689664582821246,
           -2.811017294196133,
           -2.6852397758964472,
           -2.665421900124522,
           -3.142477136686657,
           -2.945049031507515
          ],
          [
           -2.8527441484476204,
           -2.720312330187536,
           -2.8593186440541323,
           -2.4965141594896365,
           -2.73222070979967,
           -2.836172110176852,
           -2.5012113128768787,
           null,
           -2.8362701708791134,
           -2.5151507713784094,
           -2.7149571145777065,
           -2.71873632350183,
           -2.841471953687869,
           -2.7266619192590054,
           -2.7151816772719215,
           -3.2367913431774546,
           -2.990001772362981
          ],
          [
           -2.854049946191234,
           -2.7534789384444025,
           -2.8499774195833054,
           -2.517077975365861,
           -2.737490131068005,
           -2.853228773987639,
           -2.5350490674750676,
           -2.7629753227906853,
           null,
           -2.4978144834788654,
           -2.7639867117242987,
           -2.738939346759615,
           -2.856158975272222,
           -2.7364414423899426,
           -2.7543894975646266,
           -3.2653910855796293,
           -3.012757078980578
          ],
          [
           -2.7945773841275368,
           -2.710017958546196,
           -2.804236725987993,
           -2.4222160053990853,
           -2.6959802561360102,
           -2.7835828346946787,
           -2.4050714091801533,
           -2.706208423646955,
           -2.7928610469325696,
           null,
           -2.7065209440393088,
           -2.682494770419618,
           -2.8200673512399974,
           -2.677039779851422,
           -2.7090154729404157,
           -3.149138864063171,
           -2.9176048517444637
          ],
          [
           -2.838016532079381,
           -2.717282414331235,
           -2.8372934303265755,
           -2.492715648951941,
           -2.753655862859868,
           -2.852506520284063,
           -2.4822052322300467,
           -2.710654813825686,
           -2.8469891318429172,
           -2.4940913066284485,
           null,
           -2.7055503826655363,
           -2.837333128802843,
           -2.7122439864704684,
           -2.753149418287607,
           -3.2366751461774594,
           -2.9857239305725702
          ],
          [
           -2.841436577644957,
           -2.741197314512788,
           -2.8350086891014312,
           -2.5018797479162367,
           -2.7032368315174287,
           -2.8576168797407124,
           -2.5015080185430247,
           -2.7319167974208143,
           -2.866335087012379,
           -2.50599924665408,
           -2.7159763437912665,
           null,
           -2.8427741317658617,
           -2.7494958052689555,
           -2.7188830490325513,
           -3.2382536761355643,
           -2.989299907969369
          ],
          [
           -2.8574904999541713,
           -2.757874828121548,
           -2.836801602405946,
           -2.5145947926412124,
           -2.776514985995462,
           -2.8582888395432473,
           -2.5100568665760847,
           -2.7727799067214463,
           -2.847354870392868,
           -2.539932652546568,
           -2.7670191506382733,
           -2.7676537467638225,
           null,
           -2.768673253337806,
           -2.7621329590330648,
           -3.267328367615393,
           -3.018371082714945
          ],
          [
           -2.831625897800422,
           -2.743224193225815,
           -2.8253331810086357,
           -2.496564090264143,
           -2.7269613124593968,
           -2.84291883650624,
           -2.4755802877330217,
           -2.704577990630079,
           -2.839717997400511,
           -2.475167000083609,
           -2.7226632215846203,
           -2.7119516225256906,
           -2.8185491026905214,
           null,
           -2.719689163512609,
           -3.2348944898536733,
           -2.9934528032433056
          ],
          [
           -2.8514682300735994,
           -2.7448640037565926,
           -2.8427515678052133,
           -2.4966078081967917,
           -2.74235577309305,
           -2.8342725198140037,
           -2.4988083593057078,
           -2.7103880938991805,
           -2.8291400972749035,
           -2.503298547080734,
           -2.7360807575585264,
           -2.7330988575522306,
           -2.8441296601993993,
           -2.705682424581142,
           null,
           -3.2378874342952315,
           -2.9841915614481604
          ],
          [
           -2.962494039911259,
           -2.8423406582790576,
           -2.954507314221811,
           -2.5644603072164207,
           -2.8353951693433355,
           -2.964845090449149,
           -2.5556375683646704,
           -2.8386317940804386,
           -2.963308972093713,
           -2.560999283191517,
           -2.8333860962443933,
           -2.8308654658430337,
           -2.952742366845893,
           -2.8359384903778384,
           -2.8236707391222384,
           null,
           -3.095328214131093
          ],
          [
           -2.9080143017269084,
           -2.793943662230012,
           -2.8998820636227056,
           -2.527864651448688,
           -2.7838094308865386,
           -2.914045622553132,
           -2.52481682222563,
           -2.8084470135948747,
           -2.8951426735246373,
           -2.523727571881367,
           -2.799631799115948,
           -2.82328182590169,
           -2.9013001563461964,
           -2.7973275588650637,
           -2.8090540626581615,
           -3.2986171609264896,
           null
          ]
         ]
        }
       ],
       "frames": [
        {
         "data": [
          {
           "colorscale": [
            [
             0,
             "#440154"
            ],
            [
             0.1111111111111111,
             "#482878"
            ],
            [
             0.2222222222222222,
             "#3e4989"
            ],
            [
             0.3333333333333333,
             "#31688e"
            ],
            [
             0.4444444444444444,
             "#26828e"
            ],
            [
             0.5555555555555556,
             "#1f9e89"
            ],
            [
             0.6666666666666666,
             "#35b779"
            ],
            [
             0.7777777777777778,
             "#6ece58"
            ],
            [
             0.8888888888888888,
             "#b5de2b"
            ],
            [
             1,
             "#fde725"
            ]
           ],
           "reversescale": false,
           "showlegend": false,
           "showscale": true,
           "text": [
            [
             "N/A",
             "-2.76",
             "-2.84",
             "-2.51",
             "-2.77",
             "-2.85",
             "-2.50",
             "-2.77",
             "-2.86",
             "-2.49",
             "-2.76",
             "-2.75",
             "-2.85",
             "-2.75",
             "-2.75",
             "-3.27",
             "-3.02"
            ],
            [
             "-2.84",
             "N/A",
             "-2.84",
             "-2.47",
             "-2.73",
             "-2.83",
             "-2.48",
             "-2.75",
             "-2.86",
             "-2.48",
             "-2.74",
             "-2.73",
             "-2.84",
             "-2.73",
             "-2.72",
             "-3.24",
             "-2.99"
            ],
            [
             "-2.85",
             "-2.77",
             "N/A",
             "-2.52",
             "-2.76",
             "-2.86",
             "-2.50",
             "-2.76",
             "-2.85",
             "-2.51",
             "-2.77",
             "-2.74",
             "-2.84",
             "-2.76",
             "-2.78",
             "-3.27",
             "-3.01"
            ],
            [
             "-2.79",
             "-2.68",
             "-2.81",
             "N/A",
             "-2.69",
             "-2.81",
             "-2.44",
             "-2.68",
             "-2.80",
             "-2.42",
             "-2.68",
             "-2.70",
             "-2.81",
             "-2.67",
             "-2.72",
             "-3.14",
             "-2.94"
            ],
            [
             "-2.84",
             "-2.73",
             "-2.82",
             "-2.49",
             "N/A",
             "-2.83",
             "-2.48",
             "-2.72",
             "-2.85",
             "-2.52",
             "-2.72",
             "-2.74",
             "-2.84",
             "-2.75",
             "-2.74",
             "-3.23",
             "-3.00"
            ],
            [
             "-2.85",
             "-2.76",
             "-2.86",
             "-2.52",
             "-2.76",
             "N/A",
             "-2.54",
             "-2.75",
             "-2.82",
             "-2.52",
             "-2.77",
             "-2.77",
             "-2.84",
             "-2.75",
             "-2.76",
             "-3.26",
             "-3.01"
            ],
            [
             "-2.79",
             "-2.67",
             "-2.81",
             "-2.42",
             "-2.68",
             "-2.79",
             "N/A",
             "-2.70",
             "-2.79",
             "-2.43",
             "-2.69",
             "-2.69",
             "-2.81",
             "-2.69",
             "-2.67",
             "-3.14",
             "-2.95"
            ],
            [
             "-2.85",
             "-2.72",
             "-2.86",
             "-2.50",
             "-2.73",
             "-2.84",
             "-2.50",
             "N/A",
             "-2.84",
             "-2.52",
             "-2.71",
             "-2.72",
             "-2.84",
             "-2.73",
             "-2.72",
             "-3.24",
             "-2.99"
            ],
            [
             "-2.85",
             "-2.75",
             "-2.85",
             "-2.52",
             "-2.74",
             "-2.85",
             "-2.54",
             "-2.76",
             "N/A",
             "-2.50",
             "-2.76",
             "-2.74",
             "-2.86",
             "-2.74",
             "-2.75",
             "-3.27",
             "-3.01"
            ],
            [
             "-2.79",
             "-2.71",
             "-2.80",
             "-2.42",
             "-2.70",
             "-2.78",
             "-2.41",
             "-2.71",
             "-2.79",
             "N/A",
             "-2.71",
             "-2.68",
             "-2.82",
             "-2.68",
             "-2.71",
             "-3.15",
             "-2.92"
            ],
            [
             "-2.84",
             "-2.72",
             "-2.84",
             "-2.49",
             "-2.75",
             "-2.85",
             "-2.48",
             "-2.71",
             "-2.85",
             "-2.49",
             "N/A",
             "-2.71",
             "-2.84",
             "-2.71",
             "-2.75",
             "-3.24",
             "-2.99"
            ],
            [
             "-2.84",
             "-2.74",
             "-2.84",
             "-2.50",
             "-2.70",
             "-2.86",
             "-2.50",
             "-2.73",
             "-2.87",
             "-2.51",
             "-2.72",
             "N/A",
             "-2.84",
             "-2.75",
             "-2.72",
             "-3.24",
             "-2.99"
            ],
            [
             "-2.86",
             "-2.76",
             "-2.84",
             "-2.51",
             "-2.78",
             "-2.86",
             "-2.51",
             "-2.77",
             "-2.85",
             "-2.54",
             "-2.77",
             "-2.77",
             "N/A",
             "-2.77",
             "-2.76",
             "-3.27",
             "-3.02"
            ],
            [
             "-2.83",
             "-2.74",
             "-2.83",
             "-2.50",
             "-2.73",
             "-2.84",
             "-2.48",
             "-2.70",
             "-2.84",
             "-2.48",
             "-2.72",
             "-2.71",
             "-2.82",
             "N/A",
             "-2.72",
             "-3.23",
             "-2.99"
            ],
            [
             "-2.85",
             "-2.74",
             "-2.84",
             "-2.50",
             "-2.74",
             "-2.83",
             "-2.50",
             "-2.71",
             "-2.83",
             "-2.50",
             "-2.74",
             "-2.73",
             "-2.84",
             "-2.71",
             "N/A",
             "-3.24",
             "-2.98"
            ],
            [
             "-2.96",
             "-2.84",
             "-2.95",
             "-2.56",
             "-2.84",
             "-2.96",
             "-2.56",
             "-2.84",
             "-2.96",
             "-2.56",
             "-2.83",
             "-2.83",
             "-2.95",
             "-2.84",
             "-2.82",
             "N/A",
             "-3.10"
            ],
            [
             "-2.91",
             "-2.79",
             "-2.90",
             "-2.53",
             "-2.78",
             "-2.91",
             "-2.52",
             "-2.81",
             "-2.90",
             "-2.52",
             "-2.80",
             "-2.82",
             "-2.90",
             "-2.80",
             "-2.81",
             "-3.30",
             "N/A"
            ]
           ],
           "textfont": {
            "color": "black"
           },
           "texttemplate": "%{text}",
           "type": "heatmap",
           "x": [
            "WhereIsAI_UAE-Large-V1",
            "BAAI_bge-base-en-v1.5",
            "BAAI_bge-large-en-v1.5",
            "BAAI_bge-small-en-v1.5",
            "intfloat_e5-base-v2",
            "intfloat_e5-large-v2",
            "intfloat_e5-small-v2",
            "thenlper_gte-base",
            "thenlper_gte-large",
            "thenlper_gte-small",
            "sentence-transformers_gtr-t5-base",
            "sentence-transformers_gtr-t5-large",
            "mixedbread-ai_mxbai-embed-large-v1",
            "sentence-transformers_sentence-t5-base",
            "sentence-transformers_sentence-t5-large",
            "openai_text-embedding-3-large",
            "openai_text-embedding-3-small"
           ],
           "y": [
            "WhereIsAI_UAE-Large-V1",
            "BAAI_bge-base-en-v1.5",
            "BAAI_bge-large-en-v1.5",
            "BAAI_bge-small-en-v1.5",
            "intfloat_e5-base-v2",
            "intfloat_e5-large-v2",
            "intfloat_e5-small-v2",
            "thenlper_gte-base",
            "thenlper_gte-large",
            "thenlper_gte-small",
            "sentence-transformers_gtr-t5-base",
            "sentence-transformers_gtr-t5-large",
            "mixedbread-ai_mxbai-embed-large-v1",
            "sentence-transformers_sentence-t5-base",
            "sentence-transformers_sentence-t5-large",
            "openai_text-embedding-3-large",
            "openai_text-embedding-3-small"
           ],
           "z": [
            [
             null,
             -2.7574663425948116,
             -2.8420995149022072,
             -2.5095080204774765,
             -2.772926057182547,
             -2.8495111364061194,
             -2.504729011234093,
             -2.771978108569226,
             -2.8644323823071316,
             -2.4903870476720407,
             -2.762528125724493,
             -2.7511733114121983,
             -2.8454498318091486,
             -2.7498421169253677,
             -2.7501509336190813,
             -3.2696157318654278,
             -3.02198423076025
            ],
            [
             -2.8439671840984952,
             null,
             -2.8425685649518804,
             -2.4749370961506623,
             -2.7262825567904367,
             -2.8291240980333727,
             -2.4784590184216295,
             -2.7468449351451576,
             -2.8555266586187416,
             -2.4797362835448697,
             -2.735703755380616,
             -2.7288352609804054,
             -2.844996909042494,
             -2.733095494011109,
             -2.723420118354665,
             -3.237153824629583,
             -2.98560012259634
            ],
            [
             -2.847032143924652,
             -2.769208332080826,
             null,
             -2.5159174758940686,
             -2.7647998813551764,
             -2.859104585314454,
             -2.500828877749649,
             -2.7574615990580216,
             -2.8504715783957004,
             -2.5095226630642307,
             -2.773071177477477,
             -2.737753963940291,
             -2.838673846847979,
             -2.7590395972498656,
             -2.775269038776332,
             -3.265478096932488,
             -3.0072780568853523
            ],
            [
             -2.793861657643175,
             -2.6806242728225356,
             -2.805010042893231,
             null,
             -2.6933186738606256,
             -2.8112592269492285,
             -2.4390978670404246,
             -2.6841598709638115,
             -2.7989696594110605,
             -2.418366493260947,
             -2.6777851988160783,
             -2.7018360273677144,
             -2.813204423160594,
             -2.6743761031771873,
             -2.7160313697399996,
             -3.137169966998491,
             -2.9366836102976093
            ],
            [
             -2.838349525279202,
             -2.726233080426001,
             -2.8222737559154836,
             -2.4857008456020866,
             null,
             -2.82648948208632,
             -2.476211658472666,
             -2.715059648720614,
             -2.846425889143047,
             -2.5203621985473252,
             -2.7243012129054516,
             -2.742306246985116,
             -2.840890019131271,
             -2.7537059548478817,
             -2.739483645985742,
             -3.2347535814133175,
             -3.0041197038012433
            ],
            [
             -2.848610680225495,
             -2.7633478602228982,
             -2.861550176205477,
             -2.5189607223864074,
             -2.7594822848260843,
             null,
             -2.537914955629029,
             -2.7478137777043647,
             -2.824773305410056,
             -2.5243649046974794,
             -2.772076932474613,
             -2.767920620860492,
             -2.8435499746200517,
             -2.746862294084466,
             -2.7647419048581545,
             -3.2638811808935446,
             -3.006200647937264
            ],
            [
             -2.7945975474406426,
             -2.672205624277428,
             -2.8055648996591964,
             -2.4192694036078586,
             -2.679833667465062,
             -2.790561112025961,
             null,
             -2.6976131427529637,
             -2.787996442364042,
             -2.4333433568378586,
             -2.6934248345409646,
             -2.689664582821246,
             -2.811017294196133,
             -2.6852397758964472,
             -2.665421900124522,
             -3.142477136686657,
             -2.945049031507515
            ],
            [
             -2.8527441484476204,
             -2.720312330187536,
             -2.8593186440541323,
             -2.4965141594896365,
             -2.73222070979967,
             -2.836172110176852,
             -2.5012113128768787,
             null,
             -2.8362701708791134,
             -2.5151507713784094,
             -2.7149571145777065,
             -2.71873632350183,
             -2.841471953687869,
             -2.7266619192590054,
             -2.7151816772719215,
             -3.2367913431774546,
             -2.990001772362981
            ],
            [
             -2.854049946191234,
             -2.7534789384444025,
             -2.8499774195833054,
             -2.517077975365861,
             -2.737490131068005,
             -2.853228773987639,
             -2.5350490674750676,
             -2.7629753227906853,
             null,
             -2.4978144834788654,
             -2.7639867117242987,
             -2.738939346759615,
             -2.856158975272222,
             -2.7364414423899426,
             -2.7543894975646266,
             -3.2653910855796293,
             -3.012757078980578
            ],
            [
             -2.7945773841275368,
             -2.710017958546196,
             -2.804236725987993,
             -2.4222160053990853,
             -2.6959802561360102,
             -2.7835828346946787,
             -2.4050714091801533,
             -2.706208423646955,
             -2.7928610469325696,
             null,
             -2.7065209440393088,
             -2.682494770419618,
             -2.8200673512399974,
             -2.677039779851422,
             -2.7090154729404157,
             -3.149138864063171,
             -2.9176048517444637
            ],
            [
             -2.838016532079381,
             -2.717282414331235,
             -2.8372934303265755,
             -2.492715648951941,
             -2.753655862859868,
             -2.852506520284063,
             -2.4822052322300467,
             -2.710654813825686,
             -2.8469891318429172,
             -2.4940913066284485,
             null,
             -2.7055503826655363,
             -2.837333128802843,
             -2.7122439864704684,
             -2.753149418287607,
             -3.2366751461774594,
             -2.9857239305725702
            ],
            [
             -2.841436577644957,
             -2.741197314512788,
             -2.8350086891014312,
             -2.5018797479162367,
             -2.7032368315174287,
             -2.8576168797407124,
             -2.5015080185430247,
             -2.7319167974208143,
             -2.866335087012379,
             -2.50599924665408,
             -2.7159763437912665,
             null,
             -2.8427741317658617,
             -2.7494958052689555,
             -2.7188830490325513,
             -3.2382536761355643,
             -2.989299907969369
            ],
            [
             -2.8574904999541713,
             -2.757874828121548,
             -2.836801602405946,
             -2.5145947926412124,
             -2.776514985995462,
             -2.8582888395432473,
             -2.5100568665760847,
             -2.7727799067214463,
             -2.847354870392868,
             -2.539932652546568,
             -2.7670191506382733,
             -2.7676537467638225,
             null,
             -2.768673253337806,
             -2.7621329590330648,
             -3.267328367615393,
             -3.018371082714945
            ],
            [
             -2.831625897800422,
             -2.743224193225815,
             -2.8253331810086357,
             -2.496564090264143,
             -2.7269613124593968,
             -2.84291883650624,
             -2.4755802877330217,
             -2.704577990630079,
             -2.839717997400511,
             -2.475167000083609,
             -2.7226632215846203,
             -2.7119516225256906,
             -2.8185491026905214,
             null,
             -2.719689163512609,
             -3.2348944898536733,
             -2.9934528032433056
            ],
            [
             -2.8514682300735994,
             -2.7448640037565926,
             -2.8427515678052133,
             -2.4966078081967917,
             -2.74235577309305,
             -2.8342725198140037,
             -2.4988083593057078,
             -2.7103880938991805,
             -2.8291400972749035,
             -2.503298547080734,
             -2.7360807575585264,
             -2.7330988575522306,
             -2.8441296601993993,
             -2.705682424581142,
             null,
             -3.2378874342952315,
             -2.9841915614481604
            ],
            [
             -2.962494039911259,
             -2.8423406582790576,
             -2.954507314221811,
             -2.5644603072164207,
             -2.8353951693433355,
             -2.964845090449149,
             -2.5556375683646704,
             -2.8386317940804386,
             -2.963308972093713,
             -2.560999283191517,
             -2.8333860962443933,
             -2.8308654658430337,
             -2.952742366845893,
             -2.8359384903778384,
             -2.8236707391222384,
             null,
             -3.095328214131093
            ],
            [
             -2.9080143017269084,
             -2.793943662230012,
             -2.8998820636227056,
             -2.527864651448688,
             -2.7838094308865386,
             -2.914045622553132,
             -2.52481682222563,
             -2.8084470135948747,
             -2.8951426735246373,
             -2.523727571881367,
             -2.799631799115948,
             -2.82328182590169,
             -2.9013001563461964,
             -2.7973275588650637,
             -2.8090540626581615,
             -3.2986171609264896,
             null
            ]
           ]
          }
         ],
         "name": "frame_0"
        },
        {
         "data": [
          {
           "colorscale": [
            [
             0,
             "#440154"
            ],
            [
             0.1111111111111111,
             "#482878"
            ],
            [
             0.2222222222222222,
             "#3e4989"
            ],
            [
             0.3333333333333333,
             "#31688e"
            ],
            [
             0.4444444444444444,
             "#26828e"
            ],
            [
             0.5555555555555556,
             "#1f9e89"
            ],
            [
             0.6666666666666666,
             "#35b779"
            ],
            [
             0.7777777777777778,
             "#6ece58"
            ],
            [
             0.8888888888888888,
             "#b5de2b"
            ],
            [
             1,
             "#fde725"
            ]
           ],
           "reversescale": false,
           "showlegend": false,
           "showscale": true,
           "text": [
            [
             "N/A",
             "-2.76",
             "-2.85",
             "-2.53",
             "-2.76",
             "-2.87",
             "-2.52",
             "-2.77",
             "-2.86",
             "-2.53",
             "-2.77",
             "-2.77",
             "-2.86",
             "-2.77",
             "-2.77",
             "-3.32",
             "-3.03"
            ],
            [
             "-2.87",
             "N/A",
             "-2.85",
             "-2.49",
             "-2.75",
             "-2.85",
             "-2.52",
             "-2.74",
             "-2.86",
             "-2.51",
             "-2.75",
             "-2.72",
             "-2.87",
             "-2.74",
             "-2.74",
             "-3.33",
             "-3.04"
            ],
            [
             "-2.85",
             "-2.77",
             "N/A",
             "-2.51",
             "-2.77",
             "-2.86",
             "-2.53",
             "-2.78",
             "-2.87",
             "-2.50",
             "-2.78",
             "-2.78",
             "-2.88",
             "-2.77",
             "-2.76",
             "-3.33",
             "-3.03"
            ],
            [
             "-2.86",
             "-2.72",
             "-2.85",
             "N/A",
             "-2.76",
             "-2.85",
             "-2.45",
             "-2.72",
             "-2.85",
             "-2.45",
             "-2.76",
             "-2.73",
             "-2.84",
             "-2.75",
             "-2.74",
             "-3.30",
             "-3.02"
            ],
            [
             "-2.88",
             "-2.73",
             "-2.86",
             "-2.52",
             "N/A",
             "-2.85",
             "-2.52",
             "-2.74",
             "-2.85",
             "-2.49",
             "-2.74",
             "-2.72",
             "-2.87",
             "-2.75",
             "-2.71",
             "-3.32",
             "-3.04"
            ],
            [
             "-2.85",
             "-2.76",
             "-2.84",
             "-2.54",
             "-2.77",
             "N/A",
             "-2.51",
             "-2.77",
             "-2.86",
             "-2.52",
             "-2.77",
             "-2.77",
             "-2.86",
             "-2.79",
             "-2.76",
             "-3.33",
             "-3.03"
            ],
            [
             "-2.86",
             "-2.72",
             "-2.84",
             "-2.45",
             "-2.73",
             "-2.86",
             "N/A",
             "-2.73",
             "-2.87",
             "-2.44",
             "-2.73",
             "-2.73",
             "-2.86",
             "-2.72",
             "-2.73",
             "-3.32",
             "-3.01"
            ],
            [
             "-2.87",
             "-2.72",
             "-2.85",
             "-2.50",
             "-2.74",
             "-2.85",
             "-2.50",
             "N/A",
             "-2.87",
             "-2.49",
             "-2.72",
             "-2.75",
             "-2.88",
             "-2.76",
             "-2.74",
             "-3.32",
             "-3.03"
            ],
            [
             "-2.86",
             "-2.77",
             "-2.86",
             "-2.50",
             "-2.77",
             "-2.85",
             "-2.53",
             "-2.77",
             "N/A",
             "-2.51",
             "-2.75",
             "-2.77",
             "-2.86",
             "-2.76",
             "-2.77",
             "-3.32",
             "-3.04"
            ],
            [
             "-2.85",
             "-2.74",
             "-2.85",
             "-2.45",
             "-2.72",
             "-2.86",
             "-2.46",
             "-2.77",
             "-2.86",
             "N/A",
             "-2.74",
             "-2.73",
             "-2.86",
             "-2.73",
             "-2.75",
             "-3.30",
             "-3.02"
            ],
            [
             "-2.86",
             "-2.74",
             "-2.86",
             "-2.53",
             "-2.76",
             "-2.86",
             "-2.52",
             "-2.73",
             "-2.87",
             "-2.50",
             "N/A",
             "-2.74",
             "-2.87",
             "-2.76",
             "-2.73",
             "-3.31",
             "-3.04"
            ],
            [
             "-2.87",
             "-2.73",
             "-2.86",
             "-2.50",
             "-2.73",
             "-2.87",
             "-2.51",
             "-2.74",
             "-2.87",
             "-2.49",
             "-2.72",
             "N/A",
             "-2.85",
             "-2.74",
             "-2.72",
             "-3.33",
             "-3.04"
            ],
            [
             "-2.86",
             "-2.77",
             "-2.85",
             "-2.55",
             "-2.77",
             "-2.86",
             "-2.52",
             "-2.77",
             "-2.88",
             "-2.50",
             "-2.76",
             "-2.75",
             "N/A",
             "-2.77",
             "-2.77",
             "-3.32",
             "-3.02"
            ],
            [
             "-2.86",
             "-2.73",
             "-2.86",
             "-2.50",
             "-2.72",
             "-2.85",
             "-2.52",
             "-2.74",
             "-2.83",
             "-2.55",
             "-2.73",
             "-2.73",
             "-2.86",
             "N/A",
             "-2.75",
             "-3.32",
             "-3.04"
            ],
            [
             "-2.85",
             "-2.73",
             "-2.86",
             "-2.49",
             "-2.75",
             "-2.87",
             "-2.49",
             "-2.72",
             "-2.85",
             "-2.52",
             "-2.77",
             "-2.74",
             "-2.85",
             "-2.76",
             "N/A",
             "-3.33",
             "-3.03"
            ],
            [
             "-2.95",
             "-2.84",
             "-2.96",
             "-2.58",
             "-2.84",
             "-2.95",
             "-2.56",
             "-2.86",
             "-2.96",
             "-2.56",
             "-2.83",
             "-2.85",
             "-2.96",
             "-2.82",
             "-2.83",
             "N/A",
             "-3.11"
            ],
            [
             "-2.91",
             "-2.80",
             "-2.91",
             "-2.53",
             "-2.80",
             "-2.89",
             "-2.55",
             "-2.81",
             "-2.91",
             "-2.55",
             "-2.80",
             "-2.81",
             "-2.90",
             "-2.79",
             "-2.81",
             "-3.33",
             "N/A"
            ]
           ],
           "textfont": {
            "color": "black"
           },
           "texttemplate": "%{text}",
           "type": "heatmap",
           "x": [
            "WhereIsAI_UAE-Large-V1",
            "BAAI_bge-base-en-v1.5",
            "BAAI_bge-large-en-v1.5",
            "BAAI_bge-small-en-v1.5",
            "intfloat_e5-base-v2",
            "intfloat_e5-large-v2",
            "intfloat_e5-small-v2",
            "thenlper_gte-base",
            "thenlper_gte-large",
            "thenlper_gte-small",
            "sentence-transformers_gtr-t5-base",
            "sentence-transformers_gtr-t5-large",
            "mixedbread-ai_mxbai-embed-large-v1",
            "sentence-transformers_sentence-t5-base",
            "sentence-transformers_sentence-t5-large",
            "openai_text-embedding-3-large",
            "openai_text-embedding-3-small"
           ],
           "y": [
            "WhereIsAI_UAE-Large-V1",
            "BAAI_bge-base-en-v1.5",
            "BAAI_bge-large-en-v1.5",
            "BAAI_bge-small-en-v1.5",
            "intfloat_e5-base-v2",
            "intfloat_e5-large-v2",
            "intfloat_e5-small-v2",
            "thenlper_gte-base",
            "thenlper_gte-large",
            "thenlper_gte-small",
            "sentence-transformers_gtr-t5-base",
            "sentence-transformers_gtr-t5-large",
            "mixedbread-ai_mxbai-embed-large-v1",
            "sentence-transformers_sentence-t5-base",
            "sentence-transformers_sentence-t5-large",
            "openai_text-embedding-3-large",
            "openai_text-embedding-3-small"
           ],
           "z": [
            [
             null,
             -2.7586646157069556,
             -2.8514629866744587,
             -2.5252180708989505,
             -2.758584861814864,
             -2.869603307514369,
             -2.5202884137191437,
             -2.7745070344780096,
             -2.862846409819395,
             -2.5344359895600466,
             -2.772435776896531,
             -2.7718790679447958,
             -2.86203225950042,
             -2.7718826260784937,
             -2.7676251734094293,
             -3.3224816522625935,
             -3.0275411644435386
            ],
            [
             -2.8703708659285234,
             null,
             -2.8541111152704217,
             -2.4891692420785305,
             -2.7463853873574875,
             -2.8465739111361175,
             -2.516371010144109,
             -2.7389250731474104,
             -2.8561679061264793,
             -2.506320980111235,
             -2.7466017571438717,
             -2.7152288606912545,
             -2.8705320080426198,
             -2.7351021878255692,
             -2.7357337153295935,
             -3.3268639230158437,
             -3.042091538429793
            ],
            [
             -2.849055746249893,
             -2.7698964059318287,
             null,
             -2.511554197628636,
             -2.768093717575885,
             -2.863427199273659,
             -2.525135697631635,
             -2.7849897023422283,
             -2.8665256717627896,
             -2.503713672152697,
             -2.776522148441576,
             -2.780864345667275,
             -2.8774961417493907,
             -2.7690876092957653,
             -2.7558319670664693,
             -3.3256264200336307,
             -3.031649185368236
            ],
            [
             -2.85969480938551,
             -2.7163836694264574,
             -2.8456303324390113,
             null,
             -2.759420248852808,
             -2.8488345840934444,
             -2.4505415564173165,
             -2.7178202849185205,
             -2.8512249455772056,
             -2.4540695801688623,
             -2.757865042665062,
             -2.7282753342476673,
             -2.842169253065601,
             -2.7474498586404135,
             -2.737472866489879,
             -3.302095234123099,
             -3.0172965596251315
            ],
            [
             -2.8750224787413834,
             -2.7341960774195875,
             -2.864689290129941,
             -2.515699505972107,
             null,
             -2.8533998392716904,
             -2.5221790024492052,
             -2.7403906336893447,
             -2.852594908967431,
             -2.4949571983634224,
             -2.7365485982015034,
             -2.720887680774584,
             -2.869156589779969,
             -2.7476360781089606,
             -2.711675671502142,
             -3.3237299507108453,
             -3.0364869971068966
            ],
            [
             -2.8507161978497053,
             -2.763435062309923,
             -2.844727128755279,
             -2.5403636643214536,
             -2.774872589946664,
             null,
             -2.50583811276456,
             -2.768563509601616,
             -2.8579888754923832,
             -2.5150966710099234,
             -2.765890846013496,
             -2.7667462698548055,
             -2.8638391992698287,
             -2.7940821646635605,
             -2.7562676456253308,
             -3.325415743392351,
             -3.0303489640667984
            ],
            [
             -2.8603978918203072,
             -2.720170589076402,
             -2.8370359302655492,
             -2.450622115991833,
             -2.725200398192916,
             -2.861870120051668,
             null,
             -2.728406922895998,
             -2.8677975955255297,
             -2.4429649979753734,
             -2.7328829601102242,
             -2.732839995737666,
             -2.855431944839732,
             -2.7209873964097038,
             -2.73226560537218,
             -3.3168671910049183,
             -3.0074611769958755
            ],
            [
             -2.8717861555916664,
             -2.718393478070725,
             -2.853113578228335,
             -2.4996318284894055,
             -2.7426464792105096,
             -2.847634760784249,
             -2.5035462591843434,
             null,
             -2.867989270980063,
             -2.488811689053987,
             -2.717375872509265,
             -2.746797180472696,
             -2.880226498740932,
             -2.7583498615183957,
             -2.738362484595137,
             -3.323722386232716,
             -3.031354977478185
            ],
            [
             -2.8639343231938423,
             -2.7691866987521254,
             -2.855672086101444,
             -2.5027700450154318,
             -2.7673594276462667,
             -2.8541499962574495,
             -2.532805138275548,
             -2.7708572071690742,
             null,
             -2.5141649118552443,
             -2.753873361920988,
             -2.7708754634458725,
             -2.8635507028478044,
             -2.7578293189353533,
             -2.7666312513765345,
             -3.3246675271544297,
             -3.0362467585205564
            ],
            [
             -2.853933015468688,
             -2.7353731502261773,
             -2.8469175492771956,
             -2.4547161384587324,
             -2.724357652287953,
             -2.8593596398393153,
             -2.460279271818777,
             -2.7658496789267084,
             -2.8552007386079445,
             null,
             -2.744844195891422,
             -2.7330823409012286,
             -2.8627027987206644,
             -2.731679026550498,
             -2.7537173675685453,
             -3.30428878704301,
             -3.0216942635921735
            ],
            [
             -2.8561123272502353,
             -2.7417547743672723,
             -2.8635182451432066,
             -2.530025838858757,
             -2.75809531989786,
             -2.8630456862056426,
             -2.523690458445891,
             -2.731757287624467,
             -2.8685868086269437,
             -2.49776733544759,
             null,
             -2.739187505417508,
             -2.8713485795536586,
             -2.755779958171913,
             -2.728382252059213,
             -3.308717955716127,
             -3.036219719385437
            ],
            [
             -2.8732200806907238,
             -2.7288040131477467,
             -2.861155140498018,
             -2.5009148738656086,
             -2.7330018175516657,
             -2.8708315272504956,
             -2.5087038290159756,
             -2.7368148658549845,
             -2.868050159346642,
             -2.4883091996331372,
             -2.721888267318469,
             null,
             -2.848786895814159,
             -2.7356787765807242,
             -2.720516700396901,
             -3.3309673421067503,
             -3.036906964070214
            ],
            [
             -2.8554719954098275,
             -2.7737436622342955,
             -2.8522598112383353,
             -2.5466190402717452,
             -2.767592486613045,
             -2.861352356251413,
             -2.5211997739433287,
             -2.7749882462157256,
             -2.877059748656581,
             -2.4992428328710967,
             -2.7621260592415773,
             -2.7547290141033187,
             null,
             -2.771389519532128,
             -2.7697516283514516,
             -3.3228882258871275,
             -3.02480257289258
            ],
            [
             -2.863186311467222,
             -2.734282224345633,
             -2.8627019879098574,
             -2.504018321623262,
             -2.72349928566073,
             -2.852727255594768,
             -2.522383482983389,
             -2.738970750357863,
             -2.8321703607785427,
             -2.5468041613473593,
             -2.734052336194414,
             -2.7273845559768333,
             -2.858450012167407,
             null,
             -2.74732768754677,
             -3.3193487340206227,
             -3.036801569679264
            ],
            [
             -2.8523611411304026,
             -2.7325832000682384,
             -2.859903593293855,
             -2.4882361513161078,
             -2.748285799606247,
             -2.870132132858694,
             -2.491901662425075,
             -2.719250463950896,
             -2.854796197457221,
             -2.5217862660483417,
             -2.7696547302224577,
             -2.7402160561855333,
             -2.853069238709684,
             -2.7599443028895227,
             null,
             -3.3266435281511852,
             -3.030343623627553
            ],
            [
             -2.9528668588374276,
             -2.8365731962828105,
             -2.9579676714944942,
             -2.5757355400375403,
             -2.843485902761779,
             -2.949812099994279,
             -2.562270229081586,
             -2.8577347337997723,
             -2.9578795626918484,
             -2.5604496120921274,
             -2.8314019114593068,
             -2.845716907247692,
             -2.9649405935005326,
             -2.8246976945727513,
             -2.83456866168035,
             null,
             -3.1081026191759857
            ],
            [
             -2.9122301455683792,
             -2.8019425944503102,
             -2.908963668996236,
             -2.5325563661477077,
             -2.8005788607144506,
             -2.894519858140843,
             -2.54676765787108,
             -2.80598402258751,
             -2.9068114723907317,
             -2.553538263534035,
             -2.8000649174029513,
             -2.813038944092762,
             -2.900076670071387,
             -2.7854146239791184,
             -2.8073304386868587,
             -3.3317336088282827,
             null
            ]
           ]
          }
         ],
         "name": "frame_1"
        },
        {
         "data": [
          {
           "colorscale": [
            [
             0,
             "#440154"
            ],
            [
             0.1111111111111111,
             "#482878"
            ],
            [
             0.2222222222222222,
             "#3e4989"
            ],
            [
             0.3333333333333333,
             "#31688e"
            ],
            [
             0.4444444444444444,
             "#26828e"
            ],
            [
             0.5555555555555556,
             "#1f9e89"
            ],
            [
             0.6666666666666666,
             "#35b779"
            ],
            [
             0.7777777777777778,
             "#6ece58"
            ],
            [
             0.8888888888888888,
             "#b5de2b"
            ],
            [
             1,
             "#fde725"
            ]
           ],
           "reversescale": false,
           "showlegend": false,
           "showscale": true,
           "text": [
            [
             "N/A",
             "-2.79",
             "-2.86",
             "-2.52",
             "-2.78",
             "-2.89",
             "-2.53",
             "-2.78",
             "-2.87",
             "-2.52",
             "-2.78",
             "-2.77",
             "-2.86",
             "-2.77",
             "-2.78",
             "-3.34",
             "-3.04"
            ],
            [
             "-2.87",
             "N/A",
             "-2.85",
             "-2.52",
             "-2.76",
             "-2.88",
             "-2.50",
             "-2.73",
             "-2.85",
             "-2.55",
             "-2.72",
             "-2.74",
             "-2.86",
             "-2.72",
             "-2.74",
             "-3.33",
             "-3.04"
            ],
            [
             "-2.86",
             "-2.78",
             "N/A",
             "-2.52",
             "-2.76",
             "-2.86",
             "-2.55",
             "-2.79",
             "-2.87",
             "-2.53",
             "-2.79",
             "-2.76",
             "-2.86",
             "-2.76",
             "-2.76",
             "-3.34",
             "-3.04"
            ],
            [
             "-2.87",
             "-2.75",
             "-2.86",
             "N/A",
             "-2.74",
             "-2.87",
             "-2.43",
             "-2.74",
             "-2.86",
             "-2.43",
             "-2.74",
             "-2.74",
             "-2.86",
             "-2.74",
             "-2.75",
             "-3.33",
             "-3.04"
            ],
            [
             "-2.86",
             "-2.74",
             "-2.87",
             "-2.49",
             "N/A",
             "-2.87",
             "-2.50",
             "-2.76",
             "-2.85",
             "-2.50",
             "-2.74",
             "-2.74",
             "-2.86",
             "-2.73",
             "-2.73",
             "-3.34",
             "-3.04"
            ],
            [
             "-2.86",
             "-2.78",
             "-2.87",
             "-2.51",
             "-2.78",
             "N/A",
             "-2.50",
             "-2.76",
             "-2.87",
             "-2.50",
             "-2.77",
             "-2.78",
             "-2.86",
             "-2.77",
             "-2.77",
             "-3.34",
             "-3.05"
            ],
            [
             "-2.86",
             "-2.74",
             "-2.86",
             "-2.44",
             "-2.75",
             "-2.88",
             "N/A",
             "-2.72",
             "-2.86",
             "-2.45",
             "-2.75",
             "-2.73",
             "-2.86",
             "-2.73",
             "-2.72",
             "-3.34",
             "-3.04"
            ],
            [
             "-2.86",
             "-2.76",
             "-2.85",
             "-2.51",
             "-2.75",
             "-2.86",
             "-2.52",
             "N/A",
             "-2.86",
             "-2.52",
             "-2.72",
             "-2.74",
             "-2.86",
             "-2.73",
             "-2.71",
             "-3.33",
             "-3.04"
            ],
            [
             "-2.88",
             "-2.78",
             "-2.86",
             "-2.53",
             "-2.77",
             "-2.87",
             "-2.53",
             "-2.77",
             "N/A",
             "-2.54",
             "-2.77",
             "-2.77",
             "-2.87",
             "-2.76",
             "-2.77",
             "-3.34",
             "-3.05"
            ],
            [
             "-2.87",
             "-2.73",
             "-2.87",
             "-2.42",
             "-2.72",
             "-2.86",
             "-2.47",
             "-2.75",
             "-2.87",
             "N/A",
             "-2.73",
             "-2.75",
             "-2.87",
             "-2.73",
             "-2.75",
             "-3.33",
             "-3.04"
            ],
            [
             "-2.85",
             "-2.74",
             "-2.86",
             "-2.50",
             "-2.74",
             "-2.85",
             "-2.50",
             "-2.74",
             "-2.86",
             "-2.49",
             "N/A",
             "-2.73",
             "-2.84",
             "-2.74",
             "-2.73",
             "-3.34",
             "-3.04"
            ],
            [
             "-2.87",
             "-2.75",
             "-2.87",
             "-2.53",
             "-2.74",
             "-2.85",
             "-2.52",
             "-2.73",
             "-2.85",
             "-2.48",
             "-2.74",
             "N/A",
             "-2.87",
             "-2.73",
             "-2.73",
             "-3.34",
             "-3.04"
            ],
            [
             "-2.86",
             "-2.76",
             "-2.87",
             "-2.53",
             "-2.78",
             "-2.87",
             "-2.51",
             "-2.76",
             "-2.86",
             "-2.53",
             "-2.79",
             "-2.77",
             "N/A",
             "-2.76",
             "-2.76",
             "-3.34",
             "-3.04"
            ],
            [
             "-2.85",
             "-2.72",
             "-2.85",
             "-2.50",
             "-2.74",
             "-2.86",
             "-2.50",
             "-2.75",
             "-2.87",
             "-2.49",
             "-2.73",
             "-2.74",
             "-2.84",
             "N/A",
             "-2.72",
             "-3.34",
             "-3.04"
            ],
            [
             "-2.86",
             "-2.74",
             "-2.86",
             "-2.53",
             "-2.74",
             "-2.87",
             "-2.52",
             "-2.75",
             "-2.86",
             "-2.51",
             "-2.74",
             "-2.71",
             "-2.86",
             "-2.73",
             "N/A",
             "-3.34",
             "-3.04"
            ],
            [
             "-2.96",
             "-2.83",
             "-2.96",
             "-2.57",
             "-2.83",
             "-2.95",
             "-2.55",
             "-2.85",
             "-2.97",
             "-2.53",
             "-2.85",
             "-2.85",
             "-2.95",
             "-2.86",
             "-2.85",
             "N/A",
             "-3.10"
            ],
            [
             "-2.90",
             "-2.79",
             "-2.89",
             "-2.54",
             "-2.80",
             "-2.91",
             "-2.54",
             "-2.79",
             "-2.91",
             "-2.53",
             "-2.81",
             "-2.81",
             "-2.90",
             "-2.80",
             "-2.81",
             "-3.34",
             "N/A"
            ]
           ],
           "textfont": {
            "color": "black"
           },
           "texttemplate": "%{text}",
           "type": "heatmap",
           "x": [
            "WhereIsAI_UAE-Large-V1",
            "BAAI_bge-base-en-v1.5",
            "BAAI_bge-large-en-v1.5",
            "BAAI_bge-small-en-v1.5",
            "intfloat_e5-base-v2",
            "intfloat_e5-large-v2",
            "intfloat_e5-small-v2",
            "thenlper_gte-base",
            "thenlper_gte-large",
            "thenlper_gte-small",
            "sentence-transformers_gtr-t5-base",
            "sentence-transformers_gtr-t5-large",
            "mixedbread-ai_mxbai-embed-large-v1",
            "sentence-transformers_sentence-t5-base",
            "sentence-transformers_sentence-t5-large",
            "openai_text-embedding-3-large",
            "openai_text-embedding-3-small"
           ],
           "y": [
            "WhereIsAI_UAE-Large-V1",
            "BAAI_bge-base-en-v1.5",
            "BAAI_bge-large-en-v1.5",
            "BAAI_bge-small-en-v1.5",
            "intfloat_e5-base-v2",
            "intfloat_e5-large-v2",
            "intfloat_e5-small-v2",
            "thenlper_gte-base",
            "thenlper_gte-large",
            "thenlper_gte-small",
            "sentence-transformers_gtr-t5-base",
            "sentence-transformers_gtr-t5-large",
            "mixedbread-ai_mxbai-embed-large-v1",
            "sentence-transformers_sentence-t5-base",
            "sentence-transformers_sentence-t5-large",
            "openai_text-embedding-3-large",
            "openai_text-embedding-3-small"
           ],
           "z": [
            [
             null,
             -2.787829591574313,
             -2.857085058247189,
             -2.5217326438527903,
             -2.7750426372906536,
             -2.8931643357141743,
             -2.528171033756628,
             -2.780924576102332,
             -2.866756329066821,
             -2.5213019566180868,
             -2.778860021603567,
             -2.766094114091343,
             -2.8617246618107677,
             -2.768501853980236,
             -2.7843089436601476,
             -3.343762714004344,
             -3.0383716461698427
            ],
            [
             -2.8675484581206274,
             null,
             -2.8513752589138543,
             -2.5243443418784874,
             -2.761209333239165,
             -2.8780662473185443,
             -2.4953018817238286,
             -2.725475273202154,
             -2.8486289836204612,
             -2.5470154431881844,
             -2.7175195799574055,
             -2.736880623832882,
             -2.859542357675076,
             -2.7173819384923634,
             -2.74015860192231,
             -3.3320378283238754,
             -3.043990649487058
            ],
            [
             -2.860110316108766,
             -2.77615085424497,
             null,
             -2.5209977963268755,
             -2.762261180611942,
             -2.857736227673164,
             -2.546115955312932,
             -2.78551164776998,
             -2.8703165150547947,
             -2.5326219583783005,
             -2.7859529552378515,
             -2.762010971681367,
             -2.860156589492411,
             -2.7644987878945275,
             -2.760924741494704,
             -3.3440496895914067,
             -3.035386645847811
            ],
            [
             -2.8726893697872264,
             -2.746511439545759,
             -2.856284750235434,
             null,
             -2.741392243734453,
             -2.868338263619177,
             -2.426556211337809,
             -2.7433823432617634,
             -2.8571493125681964,
             -2.4282306380988246,
             -2.739874666562883,
             -2.7404833309178245,
             -2.8611069246052256,
             -2.735767226701964,
             -2.754270728018752,
             -3.334661273322087,
             -3.037225944785483
            ],
            [
             -2.860439759547321,
             -2.740046105862653,
             -2.869255841471944,
             -2.491040331887517,
             null,
             -2.8675316503137074,
             -2.5020147470823293,
             -2.7581032566771886,
             -2.8527587006003454,
             -2.502168330342793,
             -2.7390950288803464,
             -2.73749065592193,
             -2.861498792418345,
             -2.728584962363873,
             -2.7295025622110014,
             -3.3397398017068856,
             -3.036643883596451
            ],
            [
             -2.8639529882580486,
             -2.778740079503796,
             -2.8730024953111726,
             -2.5125041926851526,
             -2.781761553302925,
             null,
             -2.504960689604657,
             -2.7610600436845907,
             -2.87256685957873,
             -2.5044574275307587,
             -2.7736676059196297,
             -2.7781982921848742,
             -2.8614919196545694,
             -2.7739830878611067,
             -2.774743119170997,
             -3.3400160831674754,
             -3.0459754599827926
            ],
            [
             -2.859762708971633,
             -2.73775023246714,
             -2.8637406604403672,
             -2.44329401239429,
             -2.7490817019456784,
             -2.876120610027587,
             null,
             -2.719433426823625,
             -2.8636730595519255,
             -2.4511485322947637,
             -2.748536524785976,
             -2.733485291232407,
             -2.8559742276596296,
             -2.7337297769207862,
             -2.7215693146660365,
             -3.3374515324513814,
             -3.0412139743667312
            ],
            [
             -2.863764563381775,
             -2.760096672203995,
             -2.8549296511251048,
             -2.5134018859793077,
             -2.7465041066489166,
             -2.8569540685501997,
             -2.5230342536818977,
             null,
             -2.858604526933976,
             -2.5199184723335626,
             -2.72280970441354,
             -2.7443770765231936,
             -2.858448588828366,
             -2.734495389419423,
             -2.7132357002951655,
             -3.332960990912285,
             -3.036977176982556
            ],
            [
             -2.878010695802078,
             -2.777570256106563,
             -2.8616637346190825,
             -2.531320102906032,
             -2.7720396614962124,
             -2.8686855565111604,
             -2.5270549715073924,
             -2.766507167216906,
             null,
             -2.543601740239756,
             -2.77415702528374,
             -2.7714586957982412,
             -2.8651776895231285,
             -2.7577841039707502,
             -2.7665847562765435,
             -3.339235462369063,
             -3.046899458133612
            ],
            [
             -2.8672516035075657,
             -2.732150632857234,
             -2.8657579326976292,
             -2.415361567875236,
             -2.722862905449982,
             -2.860998210617021,
             -2.4652685148308984,
             -2.748556445103851,
             -2.8694266763304728,
             null,
             -2.7303154174233057,
             -2.7471717665605175,
             -2.8658666939968733,
             -2.731713017001694,
             -2.7508289280057916,
             -3.332714720179327,
             -3.0381077876054934
            ],
            [
             -2.8533908930119853,
             -2.7364742918758163,
             -2.862910784826604,
             -2.49645348260971,
             -2.7407866750694074,
             -2.853996624477751,
             -2.504899403261238,
             -2.7433760150344235,
             -2.858623840581897,
             -2.4922684916184656,
             null,
             -2.7315274784142503,
             -2.839955023731226,
             -2.7373286166898345,
             -2.7279105837266067,
             -3.3395353714977274,
             -3.043531055575143
            ],
            [
             -2.8677653781852883,
             -2.750318369819908,
             -2.871088868030628,
             -2.5283001590057945,
             -2.7412925249045226,
             -2.854631310146744,
             -2.5219189884408943,
             -2.7271551871796706,
             -2.8504144666028624,
             -2.48099634989994,
             -2.735427005590481,
             null,
             -2.865896506030306,
             -2.729186994758687,
             -2.7325673585162398,
             -3.342565407852309,
             -3.0397057858469654
            ],
            [
             -2.859175500007354,
             -2.7584781015311775,
             -2.8709429940702393,
             -2.5285762827833653,
             -2.782831351386755,
             -2.8704749730312367,
             -2.5105584723321894,
             -2.756155224553118,
             -2.8595950473657226,
             -2.5251595846095545,
             -2.787833624028244,
             -2.769375878284433,
             null,
             -2.7648019111140156,
             -2.759934470693205,
             -3.342651980907671,
             -3.0448007213105015
            ],
            [
             -2.851131344642486,
             -2.7164678280573833,
             -2.854312314997347,
             -2.497026079358897,
             -2.7417813605155383,
             -2.8610266256283228,
             -2.502267385009532,
             -2.7502474732190487,
             -2.865716180048773,
             -2.4851613335332385,
             -2.7344793407997323,
             -2.738147911411629,
             -2.8407436061106432,
             null,
             -2.7236382912884975,
             -3.3384521641474247,
             -3.043101482507152
            ],
            [
             -2.8593997616738536,
             -2.7387608356444635,
             -2.8606430330287447,
             -2.5338560270938837,
             -2.739287490963079,
             -2.8699899529149553,
             -2.517835898719564,
             -2.7498993033757895,
             -2.8604113462451695,
             -2.5099871022128952,
             -2.740536711026033,
             -2.7096634246745674,
             -2.861701495969156,
             -2.7347342684639635,
             null,
             -3.3355730369434107,
             -3.03884217473706
            ],
            [
             -2.9593314591336086,
             -2.831965596403292,
             -2.96084652607136,
             -2.5651787872182026,
             -2.8342310291202732,
             -2.9469901554978377,
             -2.5538437280617257,
             -2.8540979630106778,
             -2.9672659495856157,
             -2.533760248355379,
             -2.849700486806163,
             -2.8476317349395934,
             -2.9508281479862895,
             -2.857977646819448,
             -2.8502129155566998,
             null,
             -3.097812609483179
            ],
            [
             -2.8951707915257985,
             -2.792707091655592,
             -2.8931510528593494,
             -2.5354015658651,
             -2.799459399094408,
             -2.9140533794061443,
             -2.5386995720794507,
             -2.7938953446501333,
             -2.9053848135189724,
             -2.534426401396912,
             -2.8144040819495957,
             -2.8059872892290776,
             -2.8984544599279127,
             -2.804999974641692,
             -2.8148135075688483,
             -3.3390895452403506,
             null
            ]
           ]
          }
         ],
         "name": "frame_2"
        },
        {
         "data": [
          {
           "colorscale": [
            [
             0,
             "#440154"
            ],
            [
             0.1111111111111111,
             "#482878"
            ],
            [
             0.2222222222222222,
             "#3e4989"
            ],
            [
             0.3333333333333333,
             "#31688e"
            ],
            [
             0.4444444444444444,
             "#26828e"
            ],
            [
             0.5555555555555556,
             "#1f9e89"
            ],
            [
             0.6666666666666666,
             "#35b779"
            ],
            [
             0.7777777777777778,
             "#6ece58"
            ],
            [
             0.8888888888888888,
             "#b5de2b"
            ],
            [
             1,
             "#fde725"
            ]
           ],
           "reversescale": false,
           "showlegend": false,
           "showscale": true,
           "text": [
            [
             "N/A",
             "-2.77",
             "-2.86",
             "-2.54",
             "-2.78",
             "-2.87",
             "-2.55",
             "-2.77",
             "-2.87",
             "-2.54",
             "-2.78",
             "-2.77",
             "-2.87",
             "-2.76",
             "-2.75",
             "-3.34",
             "-3.03"
            ],
            [
             "-2.85",
             "N/A",
             "-2.85",
             "-2.49",
             "-2.73",
             "-2.85",
             "-2.53",
             "-2.74",
             "-2.87",
             "-2.51",
             "-2.74",
             "-2.72",
             "-2.87",
             "-2.73",
             "-2.72",
             "-3.34",
             "-3.04"
            ],
            [
             "-2.87",
             "-2.76",
             "N/A",
             "-2.54",
             "-2.78",
             "-2.86",
             "-2.50",
             "-2.76",
             "-2.85",
             "-2.50",
             "-2.78",
             "-2.77",
             "-2.86",
             "-2.79",
             "-2.78",
             "-3.34",
             "-3.04"
            ],
            [
             "-2.85",
             "-2.74",
             "-2.86",
             "N/A",
             "-2.74",
             "-2.86",
             "-2.43",
             "-2.75",
             "-2.85",
             "-2.42",
             "-2.75",
             "-2.74",
             "-2.85",
             "-2.74",
             "-2.73",
             "-3.34",
             "-3.04"
            ],
            [
             "-2.87",
             "-2.75",
             "-2.86",
             "-2.48",
             "N/A",
             "-2.87",
             "-2.47",
             "-2.74",
             "-2.87",
             "-2.52",
             "-2.74",
             "-2.74",
             "-2.85",
             "-2.74",
             "-2.74",
             "-3.34",
             "-3.03"
            ],
            [
             "-2.86",
             "-2.77",
             "-2.86",
             "-2.52",
             "-2.77",
             "N/A",
             "-2.52",
             "-2.77",
             "-2.87",
             "-2.51",
             "-2.78",
             "-2.78",
             "-2.86",
             "-2.77",
             "-2.77",
             "-3.34",
             "-3.04"
            ],
            [
             "-2.87",
             "-2.75",
             "-2.85",
             "-2.46",
             "-2.75",
             "-2.87",
             "N/A",
             "-2.74",
             "-2.88",
             "-2.45",
             "-2.73",
             "-2.73",
             "-2.86",
             "-2.74",
             "-2.74",
             "-3.35",
             "-3.04"
            ],
            [
             "-2.87",
             "-2.73",
             "-2.88",
             "-2.51",
             "-2.73",
             "-2.87",
             "-2.50",
             "N/A",
             "-2.88",
             "-2.51",
             "-2.73",
             "-2.74",
             "-2.86",
             "-2.71",
             "-2.76",
             "-3.34",
             "-3.03"
            ],
            [
             "-2.86",
             "-2.77",
             "-2.86",
             "-2.51",
             "-2.77",
             "-2.86",
             "-2.52",
             "-2.77",
             "N/A",
             "-2.52",
             "-2.78",
             "-2.75",
             "-2.85",
             "-2.75",
             "-2.77",
             "-3.34",
             "-3.05"
            ],
            [
             "-2.88",
             "-2.74",
             "-2.86",
             "-2.43",
             "-2.75",
             "-2.86",
             "-2.44",
             "-2.75",
             "-2.87",
             "N/A",
             "-2.72",
             "-2.75",
             "-2.86",
             "-2.75",
             "-2.72",
             "-3.35",
             "-3.04"
            ],
            [
             "-2.87",
             "-2.74",
             "-2.87",
             "-2.51",
             "-2.74",
             "-2.87",
             "-2.54",
             "-2.76",
             "-2.87",
             "-2.50",
             "N/A",
             "-2.74",
             "-2.87",
             "-2.75",
             "-2.76",
             "-3.34",
             "-3.04"
            ],
            [
             "-2.86",
             "-2.75",
             "-2.87",
             "-2.52",
             "-2.75",
             "-2.88",
             "-2.48",
             "-2.71",
             "-2.89",
             "-2.52",
             "-2.75",
             "N/A",
             "-2.86",
             "-2.74",
             "-2.74",
             "-3.34",
             "-3.05"
            ],
            [
             "-2.88",
             "-2.77",
             "-2.87",
             "-2.53",
             "-2.78",
             "-2.87",
             "-2.52",
             "-2.78",
             "-2.86",
             "-2.52",
             "-2.78",
             "-2.78",
             "N/A",
             "-2.76",
             "-2.78",
             "-3.34",
             "-3.04"
            ],
            [
             "-2.86",
             "-2.73",
             "-2.87",
             "-2.50",
             "-2.75",
             "-2.85",
             "-2.53",
             "-2.74",
             "-2.86",
             "-2.50",
             "-2.73",
             "-2.73",
             "-2.86",
             "N/A",
             "-2.72",
             "-3.34",
             "-3.05"
            ],
            [
             "-2.85",
             "-2.72",
             "-2.87",
             "-2.47",
             "-2.74",
             "-2.86",
             "-2.52",
             "-2.74",
             "-2.85",
             "-2.53",
             "-2.74",
             "-2.75",
             "-2.89",
             "-2.76",
             "N/A",
             "-3.34",
             "-3.04"
            ],
            [
             "-2.96",
             "-2.85",
             "-2.96",
             "-2.56",
             "-2.86",
             "-2.96",
             "-2.57",
             "-2.83",
             "-2.96",
             "-2.59",
             "-2.85",
             "-2.84",
             "-2.95",
             "-2.84",
             "-2.85",
             "N/A",
             "-3.11"
            ],
            [
             "-2.91",
             "-2.83",
             "-2.91",
             "-2.54",
             "-2.82",
             "-2.90",
             "-2.55",
             "-2.79",
             "-2.92",
             "-2.54",
             "-2.80",
             "-2.80",
             "-2.90",
             "-2.80",
             "-2.80",
             "-3.34",
             "N/A"
            ]
           ],
           "textfont": {
            "color": "black"
           },
           "texttemplate": "%{text}",
           "type": "heatmap",
           "x": [
            "WhereIsAI_UAE-Large-V1",
            "BAAI_bge-base-en-v1.5",
            "BAAI_bge-large-en-v1.5",
            "BAAI_bge-small-en-v1.5",
            "intfloat_e5-base-v2",
            "intfloat_e5-large-v2",
            "intfloat_e5-small-v2",
            "thenlper_gte-base",
            "thenlper_gte-large",
            "thenlper_gte-small",
            "sentence-transformers_gtr-t5-base",
            "sentence-transformers_gtr-t5-large",
            "mixedbread-ai_mxbai-embed-large-v1",
            "sentence-transformers_sentence-t5-base",
            "sentence-transformers_sentence-t5-large",
            "openai_text-embedding-3-large",
            "openai_text-embedding-3-small"
           ],
           "y": [
            "WhereIsAI_UAE-Large-V1",
            "BAAI_bge-base-en-v1.5",
            "BAAI_bge-large-en-v1.5",
            "BAAI_bge-small-en-v1.5",
            "intfloat_e5-base-v2",
            "intfloat_e5-large-v2",
            "intfloat_e5-small-v2",
            "thenlper_gte-base",
            "thenlper_gte-large",
            "thenlper_gte-small",
            "sentence-transformers_gtr-t5-base",
            "sentence-transformers_gtr-t5-large",
            "mixedbread-ai_mxbai-embed-large-v1",
            "sentence-transformers_sentence-t5-base",
            "sentence-transformers_sentence-t5-large",
            "openai_text-embedding-3-large",
            "openai_text-embedding-3-small"
           ],
           "z": [
            [
             null,
             -2.7678180282054035,
             -2.859329797742716,
             -2.5387647352956684,
             -2.7839808314904775,
             -2.865004404909949,
             -2.5462139293479513,
             -2.7661444517213054,
             -2.874325885164115,
             -2.536940090920689,
             -2.781349265204522,
             -2.773674451343265,
             -2.8704495348297945,
             -2.7646354141689877,
             -2.751111795361277,
             -3.339311213986057,
             -3.0322921129098552
            ],
            [
             -2.8515733987335268,
             null,
             -2.845677994289708,
             -2.494903817621288,
             -2.73119173195237,
             -2.8488115602808737,
             -2.5275041795969893,
             -2.7420993487229133,
             -2.8691814660422748,
             -2.5081568520141415,
             -2.743259603303378,
             -2.719964099938958,
             -2.8676526363118486,
             -2.7275134722627667,
             -2.718503569547615,
             -3.340162284322461,
             -3.0388420918039705
            ],
            [
             -2.873985931211736,
             -2.76018229247624,
             null,
             -2.539108507211953,
             -2.7781566092166163,
             -2.8590347054607266,
             -2.503953457224561,
             -2.76433252463641,
             -2.8525547627938996,
             -2.502670553915146,
             -2.7826526489367107,
             -2.770600954533559,
             -2.8591239943191566,
             -2.7891527550174158,
             -2.7812041937744754,
             -3.3416868559088453,
             -3.0399026069240738
            ],
            [
             -2.853479678370565,
             -2.743956271105762,
             -2.8598762036774046,
             null,
             -2.7427988262126894,
             -2.864809042366926,
             -2.425107082240055,
             -2.750913310163614,
             -2.8525034243059775,
             -2.422888448470534,
             -2.750716396496146,
             -2.7393907734345655,
             -2.854238864668028,
             -2.7441024590444276,
             -2.7315588955760433,
             -3.3353240773037434,
             -3.0405472771226063
            ],
            [
             -2.8668465128583493,
             -2.7498248658315583,
             -2.8615517567759934,
             -2.4760907400616303,
             null,
             -2.871340722035537,
             -2.4710480735359988,
             -2.7377831811013187,
             -2.8679329792211545,
             -2.5168077345191624,
             -2.737304041278821,
             -2.7354617580791216,
             -2.8524200571954013,
             -2.7364347184726747,
             -2.741588905747695,
             -3.3420785334312098,
             -3.032173049993472
            ],
            [
             -2.860720913114498,
             -2.770217171610305,
             -2.8645036912840096,
             -2.519741383108984,
             -2.7725559068252044,
             null,
             -2.5154393984629873,
             -2.770183574345149,
             -2.868910148626775,
             -2.509990079731154,
             -2.777612397890023,
             -2.7789323735212994,
             -2.861519558381426,
             -2.767494085784609,
             -2.7679110508412155,
             -3.3428541539028487,
             -3.0447653816318043
            ],
            [
             -2.8686706476162978,
             -2.7453744028401768,
             -2.8488855263856334,
             -2.457893877855672,
             -2.746581559573265,
             -2.8695613707599854,
             null,
             -2.7419010880920807,
             -2.880764585223015,
             -2.449892488700049,
             -2.730450914489768,
             -2.7327696821789433,
             -2.8629492447821105,
             -2.744092474185829,
             -2.744096709308492,
             -3.350052135666378,
             -3.0352264020654216
            ],
            [
             -2.871706265915877,
             -2.728098286693076,
             -2.8803653145305925,
             -2.508502785355318,
             -2.734484223906713,
             -2.8701985719255196,
             -2.5034287024013553,
             null,
             -2.8825597449560854,
             -2.5056585728806877,
             -2.7275658216870893,
             -2.738139694763165,
             -2.856486269427227,
             -2.7117884210173373,
             -2.756749441841625,
             -3.342183268350012,
             -3.0320840123753983
            ],
            [
             -2.8571941434096058,
             -2.7662985104948796,
             -2.859718746895954,
             -2.5085244703701326,
             -2.770351258921116,
             -2.8578005419733747,
             -2.5216099260512173,
             -2.769387264379345,
             null,
             -2.5151556718670527,
             -2.781848738842516,
             -2.7529612496070217,
             -2.8508544284353743,
             -2.748164157563623,
             -2.773282394504042,
             -3.3382249571664384,
             -3.0459443238901383
            ],
            [
             -2.8756599269426393,
             -2.7399641143736706,
             -2.862099605449271,
             -2.430076009612707,
             -2.7478557597043234,
             -2.8627689954730395,
             -2.440609553678577,
             -2.7469318779359755,
             -2.871863349826527,
             null,
             -2.7204907470876436,
             -2.75031367526502,
             -2.8602004493405895,
             -2.750553361561187,
             -2.716209062030747,
             -3.346063677683261,
             -3.0406119189380405
            ],
            [
             -2.8715228725419353,
             -2.742110935100912,
             -2.8731028564236287,
             -2.512984583107397,
             -2.7436502574552932,
             -2.865800394619054,
             -2.542709958029048,
             -2.7599187920004034,
             -2.8659438827866057,
             -2.501748193817628,
             null,
             -2.741287230246277,
             -2.8704931333668053,
             -2.754982912697587,
             -2.758257154587948,
             -3.342854042563532,
             -3.0364468839639662
            ],
            [
             -2.858626980499967,
             -2.7459577875685866,
             -2.867376832930754,
             -2.5162867123885713,
             -2.74617439528108,
             -2.8780051983064387,
             -2.4833054710743414,
             -2.7076435918755597,
             -2.8924163060275667,
             -2.5192442057429063,
             -2.7543046957789468,
             null,
             -2.863329418218258,
             -2.740261897185905,
             -2.7406879300118816,
             -3.344383277115061,
             -3.0508960719996927
            ],
            [
             -2.8812206412354953,
             -2.768002374604716,
             -2.8707211777448793,
             -2.529996132150376,
             -2.7751739749427244,
             -2.8683272868492877,
             -2.5164066731194206,
             -2.7795052937478553,
             -2.8582371835497136,
             -2.522220328364586,
             -2.7790998836187537,
             -2.780768507052495,
             null,
             -2.7617043276343907,
             -2.7818853925861564,
             -3.343958400464935,
             -3.044985986387449
            ],
            [
             -2.8620706785327457,
             -2.7278008643915896,
             -2.8694611882652996,
             -2.5048343748102093,
             -2.7526460236232833,
             -2.8516080654333296,
             -2.5278406493200207,
             -2.742502932193123,
             -2.8595104542474434,
             -2.502882080226003,
             -2.728907323695475,
             -2.727977331282044,
             -2.858003312784187,
             null,
             -2.721090885560951,
             -3.3379429044096045,
             -3.0452973783185406
            ],
            [
             -2.854829240341599,
             -2.7235267033792967,
             -2.8714708217440252,
             -2.472582370434585,
             -2.744642347666219,
             -2.8587662550483945,
             -2.523595004697108,
             -2.7357902019201363,
             -2.845709322845715,
             -2.5254693872554097,
             -2.740846161155365,
             -2.7495438576203517,
             -2.888493273286234,
             -2.7623847594581874,
             null,
             -3.342393787177939,
             -3.038307474972509
            ],
            [
             -2.9620761196560625,
             -2.8497664480502336,
             -2.960200162585809,
             -2.5598912027331493,
             -2.861984608430482,
             -2.9603440234471634,
             -2.5659607981156327,
             -2.8340089038724865,
             -2.9589056230360375,
             -2.5880764856877962,
             -2.854428480072087,
             -2.8371241094527293,
             -2.945422562015463,
             -2.842374384725377,
             -2.8498882379708483,
             null,
             -3.1050579993593224
            ],
            [
             -2.9061387960887495,
             -2.8258456667722243,
             -2.907159102484823,
             -2.5407623336435305,
             -2.81805858499189,
             -2.8993704231183304,
             -2.547045553250695,
             -2.7890341981055604,
             -2.920258232551165,
             -2.538049210087607,
             -2.803653514827069,
             -2.8047986263572673,
             -2.9001115767360686,
             -2.7992489790012467,
             -2.804945797257035,
             -3.342929008218774,
             null
            ]
           ]
          }
         ],
         "name": "frame_3"
        },
        {
         "data": [
          {
           "colorscale": [
            [
             0,
             "#440154"
            ],
            [
             0.1111111111111111,
             "#482878"
            ],
            [
             0.2222222222222222,
             "#3e4989"
            ],
            [
             0.3333333333333333,
             "#31688e"
            ],
            [
             0.4444444444444444,
             "#26828e"
            ],
            [
             0.5555555555555556,
             "#1f9e89"
            ],
            [
             0.6666666666666666,
             "#35b779"
            ],
            [
             0.7777777777777778,
             "#6ece58"
            ],
            [
             0.8888888888888888,
             "#b5de2b"
            ],
            [
             1,
             "#fde725"
            ]
           ],
           "reversescale": false,
           "showlegend": false,
           "showscale": true,
           "text": [
            [
             "N/A",
             "-2.77",
             "-2.88",
             "-2.51",
             "-2.78",
             "-2.87",
             "-2.52",
             "-2.77",
             "-2.85",
             "-2.52",
             "-2.78",
             "-2.78",
             "-2.86",
             "-2.77",
             "-2.78",
             "-3.34",
             "-3.03"
            ],
            [
             "-2.86",
             "N/A",
             "-2.86",
             "-2.50",
             "-2.76",
             "-2.86",
             "-2.49",
             "-2.73",
             "-2.85",
             "-2.49",
             "-2.75",
             "-2.74",
             "-2.86",
             "-2.73",
             "-2.73",
             "-3.34",
             "-3.04"
            ],
            [
             "-2.87",
             "-2.77",
             "N/A",
             "-2.53",
             "-2.78",
             "-2.87",
             "-2.51",
             "-2.80",
             "-2.85",
             "-2.52",
             "-2.78",
             "-2.75",
             "-2.86",
             "-2.79",
             "-2.77",
             "-3.34",
             "-3.04"
            ],
            [
             "-2.86",
             "-2.73",
             "-2.86",
             "N/A",
             "-2.74",
             "-2.86",
             "-2.41",
             "-2.74",
             "-2.86",
             "-2.45",
             "-2.74",
             "-2.75",
             "-2.86",
             "-2.74",
             "-2.74",
             "-3.34",
             "-3.04"
            ],
            [
             "-2.87",
             "-2.75",
             "-2.86",
             "-2.49",
             "N/A",
             "-2.89",
             "-2.50",
             "-2.73",
             "-2.86",
             "-2.51",
             "-2.74",
             "-2.74",
             "-2.87",
             "-2.75",
             "-2.75",
             "-3.34",
             "-3.02"
            ],
            [
             "-2.86",
             "-2.78",
             "-2.85",
             "-2.54",
             "-2.77",
             "N/A",
             "-2.52",
             "-2.79",
             "-2.89",
             "-2.53",
             "-2.77",
             "-2.76",
             "-2.87",
             "-2.77",
             "-2.76",
             "-3.34",
             "-3.03"
            ],
            [
             "-2.86",
             "-2.74",
             "-2.86",
             "-2.46",
             "-2.74",
             "-2.85",
             "N/A",
             "-2.74",
             "-2.87",
             "-2.46",
             "-2.74",
             "-2.74",
             "-2.85",
             "-2.74",
             "-2.77",
             "-3.34",
             "-3.04"
            ],
            [
             "-2.85",
             "-2.74",
             "-2.87",
             "-2.52",
             "-2.73",
             "-2.87",
             "-2.49",
             "N/A",
             "-2.86",
             "-2.51",
             "-2.73",
             "-2.75",
             "-2.85",
             "-2.72",
             "-2.74",
             "-3.34",
             "-3.05"
            ],
            [
             "-2.86",
             "-2.79",
             "-2.86",
             "-2.51",
             "-2.76",
             "-2.85",
             "-2.51",
             "-2.77",
             "N/A",
             "-2.55",
             "-2.77",
             "-2.76",
             "-2.86",
             "-2.77",
             "-2.77",
             "-3.34",
             "-3.03"
            ],
            [
             "-2.87",
             "-2.74",
             "-2.86",
             "-2.45",
             "-2.73",
             "-2.87",
             "-2.42",
             "-2.75",
             "-2.86",
             "N/A",
             "-2.74",
             "-2.73",
             "-2.86",
             "-2.75",
             "-2.72",
             "-3.35",
             "-3.04"
            ],
            [
             "-2.87",
             "-2.75",
             "-2.87",
             "-2.48",
             "-2.75",
             "-2.86",
             "-2.48",
             "-2.74",
             "-2.87",
             "-2.49",
             "N/A",
             "-2.75",
             "-2.87",
             "-2.75",
             "-2.75",
             "-3.34",
             "-3.03"
            ],
            [
             "-2.86",
             "-2.75",
             "-2.87",
             "-2.50",
             "-2.75",
             "-2.86",
             "-2.51",
             "-2.76",
             "-2.87",
             "-2.48",
             "-2.74",
             "N/A",
             "-2.87",
             "-2.76",
             "-2.71",
             "-3.35",
             "-3.04"
            ],
            [
             "-2.87",
             "-2.76",
             "-2.86",
             "-2.52",
             "-2.76",
             "-2.88",
             "-2.52",
             "-2.76",
             "-2.86",
             "-2.55",
             "-2.78",
             "-2.76",
             "N/A",
             "-2.78",
             "-2.79",
             "-3.34",
             "-3.04"
            ],
            [
             "-2.87",
             "-2.74",
             "-2.86",
             "-2.51",
             "-2.74",
             "-2.86",
             "-2.51",
             "-2.73",
             "-2.87",
             "-2.53",
             "-2.75",
             "-2.74",
             "-2.88",
             "N/A",
             "-2.74",
             "-3.35",
             "-3.04"
            ],
            [
             "-2.86",
             "-2.73",
             "-2.86",
             "-2.53",
             "-2.73",
             "-2.87",
             "-2.49",
             "-2.73",
             "-2.85",
             "-2.49",
             "-2.75",
             "-2.74",
             "-2.87",
             "-2.75",
             "N/A",
             "-3.34",
             "-3.04"
            ],
            [
             "-2.95",
             "-2.85",
             "-2.96",
             "-2.57",
             "-2.85",
             "-2.97",
             "-2.57",
             "-2.86",
             "-2.95",
             "-2.55",
             "-2.83",
             "-2.84",
             "-2.95",
             "-2.84",
             "-2.85",
             "N/A",
             "-3.10"
            ],
            [
             "-2.91",
             "-2.81",
             "-2.90",
             "-2.54",
             "-2.81",
             "-2.90",
             "-2.53",
             "-2.80",
             "-2.93",
             "-2.56",
             "-2.81",
             "-2.80",
             "-2.91",
             "-2.81",
             "-2.80",
             "-3.34",
             "N/A"
            ]
           ],
           "textfont": {
            "color": "black"
           },
           "texttemplate": "%{text}",
           "type": "heatmap",
           "x": [
            "WhereIsAI_UAE-Large-V1",
            "BAAI_bge-base-en-v1.5",
            "BAAI_bge-large-en-v1.5",
            "BAAI_bge-small-en-v1.5",
            "intfloat_e5-base-v2",
            "intfloat_e5-large-v2",
            "intfloat_e5-small-v2",
            "thenlper_gte-base",
            "thenlper_gte-large",
            "thenlper_gte-small",
            "sentence-transformers_gtr-t5-base",
            "sentence-transformers_gtr-t5-large",
            "mixedbread-ai_mxbai-embed-large-v1",
            "sentence-transformers_sentence-t5-base",
            "sentence-transformers_sentence-t5-large",
            "openai_text-embedding-3-large",
            "openai_text-embedding-3-small"
           ],
           "y": [
            "WhereIsAI_UAE-Large-V1",
            "BAAI_bge-base-en-v1.5",
            "BAAI_bge-large-en-v1.5",
            "BAAI_bge-small-en-v1.5",
            "intfloat_e5-base-v2",
            "intfloat_e5-large-v2",
            "intfloat_e5-small-v2",
            "thenlper_gte-base",
            "thenlper_gte-large",
            "thenlper_gte-small",
            "sentence-transformers_gtr-t5-base",
            "sentence-transformers_gtr-t5-large",
            "mixedbread-ai_mxbai-embed-large-v1",
            "sentence-transformers_sentence-t5-base",
            "sentence-transformers_sentence-t5-large",
            "openai_text-embedding-3-large",
            "openai_text-embedding-3-small"
           ],
           "z": [
            [
             null,
             -2.7660879771943327,
             -2.878894291284408,
             -2.5070474429804,
             -2.778707304738443,
             -2.86679669367153,
             -2.522491096917765,
             -2.767721175488504,
             -2.8510241662025386,
             -2.5201492552075924,
             -2.78109954511213,
             -2.7843983655240807,
             -2.8557917349928634,
             -2.773007229838697,
             -2.7824444854124484,
             -3.3383092368673783,
             -3.0323335325665894
            ],
            [
             -2.8557428414357178,
             null,
             -2.8608690448737586,
             -2.4988887574183,
             -2.7602480179229874,
             -2.8639326230496382,
             -2.4896115634276814,
             -2.7326765403919206,
             -2.8533289957153105,
             -2.4875740793718055,
             -2.7494103068142777,
             -2.740515625238403,
             -2.8603935293033675,
             -2.7321640033635197,
             -2.733426558514784,
             -3.336718589109072,
             -3.040595375934379
            ],
            [
             -2.874117242073962,
             -2.7651099266258212,
             null,
             -2.5252762261428887,
             -2.7772877905833706,
             -2.8727475638726148,
             -2.508945080284349,
             -2.8037040886516205,
             -2.853801997989914,
             -2.520559019396952,
             -2.776880784397089,
             -2.7543214078583658,
             -2.855362617153689,
             -2.786433637109841,
             -2.774053399715988,
             -3.3431832027446755,
             -3.039530151818677
            ],
            [
             -2.8558863821537845,
             -2.7328871146515157,
             -2.8604715479865788,
             null,
             -2.7443488716929503,
             -2.864757345637746,
             -2.4112250941452826,
             -2.743253052921192,
             -2.856167724603223,
             -2.4494936184821814,
             -2.7394098901822495,
             -2.7455576518162603,
             -2.857418148603127,
             -2.7442676351796136,
             -2.7391552819719767,
             -3.341367426683336,
             -3.0357883651405135
            ],
            [
             -2.8659327435860753,
             -2.754738154291949,
             -2.862338307643743,
             -2.487739798075285,
             null,
             -2.8878034908913897,
             -2.5011387230283764,
             -2.7344486717539285,
             -2.862289223822103,
             -2.5078127892675828,
             -2.741441386951346,
             -2.735406166428712,
             -2.866975421877373,
             -2.747558747897549,
             -2.7482598317196647,
             -3.338838286374696,
             -3.024538830519025
            ],
            [
             -2.862099789468902,
             -2.77718523144441,
             -2.851920729588476,
             -2.5359887038807516,
             -2.7657591899292835,
             null,
             -2.518803589809957,
             -2.7850829324422035,
             -2.888799886503395,
             -2.5346713639902925,
             -2.7714459409690284,
             -2.763493040569566,
             -2.8706897938950133,
             -2.773486211486728,
             -2.7598781580229437,
             -3.3372310304518455,
             -3.0280493077471906
            ],
            [
             -2.864781045380052,
             -2.738868260505947,
             -2.863898917216789,
             -2.4611092785285584,
             -2.7430668282619837,
             -2.8518475747560856,
             null,
             -2.739855695994666,
             -2.8746774330188587,
             -2.4569241375301045,
             -2.741574293825833,
             -2.743452828026599,
             -2.8549991631740124,
             -2.736548129612881,
             -2.7706656818490836,
             -3.335452862851614,
             -3.038288948821882
            ],
            [
             -2.85441759618599,
             -2.7382738364704275,
             -2.8673784721037214,
             -2.5227851171974685,
             -2.7345646110307777,
             -2.867781411979491,
             -2.4929722777206296,
             null,
             -2.8607872854531013,
             -2.5121799522248733,
             -2.730696607324883,
             -2.74754611059431,
             -2.850672675976651,
             -2.721770494219402,
             -2.737075860109669,
             -3.3444719734791444,
             -3.048557673983151
            ],
            [
             -2.8585943410648538,
             -2.785818533698565,
             -2.859954385830755,
             -2.5148522769723405,
             -2.7618990704564284,
             -2.851080317660602,
             -2.5093067022878346,
             -2.771411113530693,
             null,
             -2.551418136750366,
             -2.76805254862186,
             -2.756301885324374,
             -2.8614797915132213,
             -2.768702875247928,
             -2.7675898220370065,
             -3.3386970791492483,
             -3.033455270369994
            ],
            [
             -2.8687992770273354,
             -2.7421447467566424,
             -2.863724701249014,
             -2.451756214606662,
             -2.7331745304399107,
             -2.873610905754142,
             -2.424692284239832,
             -2.7514970270930794,
             -2.864149408148641,
             null,
             -2.739689079463,
             -2.7317019227929404,
             -2.8637303903379236,
             -2.750903794272293,
             -2.7215877427031185,
             -3.3468110321285214,
             -3.0424893353530025
            ],
            [
             -2.869298983561302,
             -2.7511757346046255,
             -2.8673832406420794,
             -2.482225796569643,
             -2.7535038731998287,
             -2.862690673571543,
             -2.4826726821652247,
             -2.7411230999930067,
             -2.865878239884076,
             -2.4911838467334686,
             null,
             -2.747634664270375,
             -2.866121145911119,
             -2.7459793927744327,
             -2.7510904178657443,
             -3.343941964320834,
             -3.031555198748682
            ],
            [
             -2.85736182703273,
             -2.7530746793345426,
             -2.871215923106296,
             -2.503403628598176,
             -2.7468513705734314,
             -2.860770627207396,
             -2.50933652978709,
             -2.758597882449947,
             -2.865434964567974,
             -2.479867898515623,
             -2.744972330828167,
             null,
             -2.870410592505289,
             -2.762530057103388,
             -2.7142123508988294,
             -3.3461918733833165,
             -3.0389557526427025
            ],
            [
             -2.866459085840649,
             -2.7640040648344497,
             -2.856870533690018,
             -2.515185605781926,
             -2.7586268540386296,
             -2.883275710514862,
             -2.5157083910899583,
             -2.7635620849719964,
             -2.859588094887672,
             -2.550027035303205,
             -2.7767249823391675,
             -2.759416675153337,
             null,
             -2.777344105487141,
             -2.790418267022344,
             -3.338344991825174,
             -3.042353035778008
            ],
            [
             -2.866027733005213,
             -2.7420377367196274,
             -2.855579697207285,
             -2.5082558482242554,
             -2.740325287498492,
             -2.8565823399621815,
             -2.5082301031281746,
             -2.7344717419166082,
             -2.8671338567250224,
             -2.5263545584693556,
             -2.747810496263512,
             -2.7372132347728964,
             -2.8766899392456193,
             null,
             -2.742397957142423,
             -3.347323379471861,
             -3.0429538555417075
            ],
            [
             -2.8630257692047936,
             -2.73067509651362,
             -2.8625475192140994,
             -2.5267067660412468,
             -2.7272679002895335,
             -2.870281522543068,
             -2.486549315852168,
             -2.7286578226549545,
             -2.849090498298964,
             -2.488340950069366,
             -2.7464644265434077,
             -2.742674517782156,
             -2.8698203200165744,
             -2.7492187843563767,
             null,
             -3.3437105569921637,
             -3.0361892199425053
            ],
            [
             -2.94852076387895,
             -2.8532889619524915,
             -2.9583227199667075,
             -2.5681332525848894,
             -2.8481789367458545,
             -2.9659372598395835,
             -2.5732341149478746,
             -2.862966724353555,
             -2.9532977540928553,
             -2.5451056768232885,
             -2.8268120194579756,
             -2.8369380091169507,
             -2.9549689648952766,
             -2.842091887969938,
             -2.846128080768626,
             null,
             -3.103227184546889
            ],
            [
             -2.914096438681496,
             -2.811340588787933,
             -2.89633897833746,
             -2.5373544808391193,
             -2.809650186517995,
             -2.8971909493809633,
             -2.5297492373709294,
             -2.8048358821400434,
             -2.9269536160464997,
             -2.5567898242353255,
             -2.807545590986905,
             -2.7993482517097448,
             -2.909911048486722,
             -2.808589179019232,
             -2.8025383992541504,
             -3.341866278853946,
             null
            ]
           ]
          }
         ],
         "name": "frame_4"
        },
        {
         "data": [
          {
           "colorscale": [
            [
             0,
             "#440154"
            ],
            [
             0.1111111111111111,
             "#482878"
            ],
            [
             0.2222222222222222,
             "#3e4989"
            ],
            [
             0.3333333333333333,
             "#31688e"
            ],
            [
             0.4444444444444444,
             "#26828e"
            ],
            [
             0.5555555555555556,
             "#1f9e89"
            ],
            [
             0.6666666666666666,
             "#35b779"
            ],
            [
             0.7777777777777778,
             "#6ece58"
            ],
            [
             0.8888888888888888,
             "#b5de2b"
            ],
            [
             1,
             "#fde725"
            ]
           ],
           "reversescale": false,
           "showlegend": false,
           "showscale": true,
           "text": [
            [
             "N/A",
             "-2.76",
             "-2.86",
             "-2.52",
             "-2.76",
             "-2.84",
             "-2.52",
             "-2.80",
             "-2.87",
             "-2.52",
             "-2.78",
             "-2.77",
             "-2.86",
             "-2.77",
             "-2.77",
             "-3.34",
             "-3.05"
            ],
            [
             "-2.86",
             "N/A",
             "-2.86",
             "-2.52",
             "-2.74",
             "-2.86",
             "-2.50",
             "-2.74",
             "-2.88",
             "-2.52",
             "-2.73",
             "-2.76",
             "-2.86",
             "-2.74",
             "-2.74",
             "-3.34",
             "-3.04"
            ],
            [
             "-2.86",
             "-2.76",
             "N/A",
             "-2.53",
             "-2.77",
             "-2.85",
             "-2.51",
             "-2.74",
             "-2.85",
             "-2.53",
             "-2.79",
             "-2.76",
             "-2.88",
             "-2.78",
             "-2.78",
             "-3.34",
             "-3.04"
            ],
            [
             "-2.86",
             "-2.76",
             "-2.86",
             "N/A",
             "-2.72",
             "-2.88",
             "-2.46",
             "-2.76",
             "-2.85",
             "-2.43",
             "-2.75",
             "-2.75",
             "-2.85",
             "-2.74",
             "-2.73",
             "-3.34",
             "-3.05"
            ],
            [
             "-2.86",
             "-2.73",
             "-2.88",
             "-2.50",
             "N/A",
             "-2.85",
             "-2.48",
             "-2.75",
             "-2.84",
             "-2.50",
             "-2.74",
             "-2.74",
             "-2.87",
             "-2.76",
             "-2.72",
             "-3.34",
             "-3.03"
            ],
            [
             "-2.86",
             "-2.79",
             "-2.88",
             "-2.52",
             "-2.78",
             "N/A",
             "-2.52",
             "-2.79",
             "-2.86",
             "-2.53",
             "-2.78",
             "-2.76",
             "-2.86",
             "-2.78",
             "-2.77",
             "-3.35",
             "-3.05"
            ],
            [
             "-2.87",
             "-2.74",
             "-2.87",
             "-2.44",
             "-2.73",
             "-2.88",
             "N/A",
             "-2.73",
             "-2.86",
             "-2.46",
             "-2.74",
             "-2.71",
             "-2.84",
             "-2.72",
             "-2.75",
             "-3.34",
             "-3.04"
            ],
            [
             "-2.89",
             "-2.73",
             "-2.86",
             "-2.52",
             "-2.75",
             "-2.85",
             "-2.50",
             "N/A",
             "-2.85",
             "-2.51",
             "-2.75",
             "-2.74",
             "-2.86",
             "-2.76",
             "-2.75",
             "-3.34",
             "-3.05"
            ],
            [
             "-2.87",
             "-2.77",
             "-2.86",
             "-2.52",
             "-2.77",
             "-2.90",
             "-2.51",
             "-2.77",
             "N/A",
             "-2.52",
             "-2.77",
             "-2.77",
             "-2.87",
             "-2.77",
             "-2.78",
             "-3.34",
             "-3.04"
            ],
            [
             "-2.86",
             "-2.73",
             "-2.85",
             "-2.45",
             "-2.76",
             "-2.84",
             "-2.42",
             "-2.74",
             "-2.86",
             "N/A",
             "-2.73",
             "-2.75",
             "-2.85",
             "-2.75",
             "-2.75",
             "-3.34",
             "-3.04"
            ],
            [
             "-2.86",
             "-2.74",
             "-2.86",
             "-2.51",
             "-2.73",
             "-2.89",
             "-2.53",
             "-2.75",
             "-2.87",
             "-2.50",
             "N/A",
             "-2.75",
             "-2.88",
             "-2.75",
             "-2.71",
             "-3.34",
             "-3.04"
            ],
            [
             "-2.87",
             "-2.75",
             "-2.87",
             "-2.53",
             "-2.75",
             "-2.86",
             "-2.48",
             "-2.73",
             "-2.86",
             "-2.52",
             "-2.72",
             "N/A",
             "-2.86",
             "-2.74",
             "-2.77",
             "-3.34",
             "-3.05"
            ],
            [
             "-2.86",
             "-2.76",
             "-2.86",
             "-2.54",
             "-2.77",
             "-2.86",
             "-2.51",
             "-2.77",
             "-2.87",
             "-2.50",
             "-2.76",
             "-2.77",
             "N/A",
             "-2.79",
             "-2.79",
             "-3.35",
             "-3.05"
            ],
            [
             "-2.85",
             "-2.72",
             "-2.87",
             "-2.52",
             "-2.75",
             "-2.86",
             "-2.50",
             "-2.72",
             "-2.86",
             "-2.50",
             "-2.75",
             "-2.75",
             "-2.85",
             "N/A",
             "-2.75",
             "-3.34",
             "-3.04"
            ],
            [
             "-2.85",
             "-2.72",
             "-2.85",
             "-2.50",
             "-2.73",
             "-2.87",
             "-2.54",
             "-2.75",
             "-2.88",
             "-2.50",
             "-2.72",
             "-2.73",
             "-2.87",
             "-2.77",
             "N/A",
             "-3.34",
             "-3.04"
            ],
            [
             "-2.96",
             "-2.85",
             "-2.95",
             "-2.57",
             "-2.85",
             "-2.96",
             "-2.57",
             "-2.84",
             "-2.95",
             "-2.58",
             "-2.84",
             "-2.84",
             "-2.95",
             "-2.84",
             "-2.84",
             "N/A",
             "-3.11"
            ],
            [
             "-2.91",
             "-2.80",
             "-2.89",
             "-2.55",
             "-2.82",
             "-2.90",
             "-2.54",
             "-2.79",
             "-2.89",
             "-2.53",
             "-2.79",
             "-2.80",
             "-2.91",
             "-2.80",
             "-2.81",
             "-3.34",
             "N/A"
            ]
           ],
           "textfont": {
            "color": "black"
           },
           "texttemplate": "%{text}",
           "type": "heatmap",
           "x": [
            "WhereIsAI_UAE-Large-V1",
            "BAAI_bge-base-en-v1.5",
            "BAAI_bge-large-en-v1.5",
            "BAAI_bge-small-en-v1.5",
            "intfloat_e5-base-v2",
            "intfloat_e5-large-v2",
            "intfloat_e5-small-v2",
            "thenlper_gte-base",
            "thenlper_gte-large",
            "thenlper_gte-small",
            "sentence-transformers_gtr-t5-base",
            "sentence-transformers_gtr-t5-large",
            "mixedbread-ai_mxbai-embed-large-v1",
            "sentence-transformers_sentence-t5-base",
            "sentence-transformers_sentence-t5-large",
            "openai_text-embedding-3-large",
            "openai_text-embedding-3-small"
           ],
           "y": [
            "WhereIsAI_UAE-Large-V1",
            "BAAI_bge-base-en-v1.5",
            "BAAI_bge-large-en-v1.5",
            "BAAI_bge-small-en-v1.5",
            "intfloat_e5-base-v2",
            "intfloat_e5-large-v2",
            "intfloat_e5-small-v2",
            "thenlper_gte-base",
            "thenlper_gte-large",
            "thenlper_gte-small",
            "sentence-transformers_gtr-t5-base",
            "sentence-transformers_gtr-t5-large",
            "mixedbread-ai_mxbai-embed-large-v1",
            "sentence-transformers_sentence-t5-base",
            "sentence-transformers_sentence-t5-large",
            "openai_text-embedding-3-large",
            "openai_text-embedding-3-small"
           ],
           "z": [
            [
             null,
             -2.757238624524237,
             -2.8587887535021124,
             -2.5155633675891087,
             -2.757992994781269,
             -2.841430681917951,
             -2.5237577309940757,
             -2.7960832579639985,
             -2.87255373957381,
             -2.5237789077928667,
             -2.7812624853996994,
             -2.7709443191858205,
             -2.855867081020124,
             -2.7724745190608293,
             -2.7652213333003726,
             -3.3372055327686474,
             -3.047111879923639
            ],
            [
             -2.864824300743955,
             null,
             -2.8586526483559433,
             -2.5221070953083897,
             -2.7388086567918184,
             -2.8625679669478017,
             -2.5012663084059947,
             -2.736875741291832,
             -2.8758070902934185,
             -2.5167765918233336,
             -2.7346931241539743,
             -2.759896714800828,
             -2.862382425219355,
             -2.7361989236329602,
             -2.7437826369712797,
             -3.3416162676638193,
             -3.0401794266471662
            ],
            [
             -2.8600085539925537,
             -2.757364512556763,
             null,
             -2.525729873799599,
             -2.7694786017694923,
             -2.8523784156297776,
             -2.509783730414172,
             -2.740640263221079,
             -2.852218256986011,
             -2.526010512543337,
             -2.788993234898977,
             -2.764913503613013,
             -2.8778367567069973,
             -2.7825097766701896,
             -2.7767607223585062,
             -3.343719844386745,
             -3.039291351444517
            ],
            [
             -2.8582146406986597,
             -2.755119454259913,
             -2.8555010298517667,
             null,
             -2.723958232088021,
             -2.880881359752385,
             -2.461281021747377,
             -2.757248222418509,
             -2.853125979684311,
             -2.430534731274553,
             -2.7461066233213742,
             -2.7509564191932214,
             -2.8523345829278903,
             -2.743397492180545,
             -2.732289651657243,
             -3.3394012000031466,
             -3.045271228741149
            ],
            [
             -2.8586964661245386,
             -2.7281450561394154,
             -2.877658691128018,
             -2.503365891708243,
             null,
             -2.853176742823407,
             -2.4805357446037126,
             -2.746649123567045,
             -2.835081655360596,
             -2.50451096171051,
             -2.7399385837564223,
             -2.7372542320148763,
             -2.868758314777292,
             -2.75693631271226,
             -2.7229971655518668,
             -3.3435383438868262,
             -3.034697118567268
            ],
            [
             -2.8645640928920186,
             -2.786827571588096,
             -2.878332840731282,
             -2.5213052478169775,
             -2.7815092727292736,
             null,
             -2.521456871507181,
             -2.7934824109499603,
             -2.8574332587350035,
             -2.5331558883526126,
             -2.7828034175741228,
             -2.764584104448982,
             -2.858315691413136,
             -2.7817578521287145,
             -2.7668314675732657,
             -3.3466362938190013,
             -3.047844900071346
            ],
            [
             -2.873052540864607,
             -2.743679593804161,
             -2.8708052045260066,
             -2.4398731261136257,
             -2.725469227465542,
             -2.8753112634478044,
             null,
             -2.733389314154788,
             -2.8628584287125305,
             -2.4597384717820674,
             -2.7393926601008296,
             -2.712533104633197,
             -2.83842528552918,
             -2.7228146182923205,
             -2.7490856739176754,
             -3.3390351321099043,
             -3.0416395412036294
            ],
            [
             -2.8873970360739154,
             -2.7341493645264854,
             -2.8569942233692873,
             -2.522139766660698,
             -2.7489961147745237,
             -2.8461679210329747,
             -2.500324586171041,
             null,
             -2.8461275486437914,
             -2.510287705496535,
             -2.749660233362223,
             -2.7359060595606506,
             -2.8566161368446354,
             -2.7605501685514784,
             -2.749840269576136,
             -3.341893718051471,
             -3.045813509251668
            ],
            [
             -2.869101044171992,
             -2.770942409694042,
             -2.8581686466982807,
             -2.52269794812784,
             -2.771698359074895,
             -2.895056543689823,
             -2.5126626176846822,
             -2.766097359600781,
             null,
             -2.5236222509392854,
             -2.7731251490562845,
             -2.771991357563538,
             -2.8702890608844926,
             -2.7668038644009516,
             -2.7779531967061835,
             -3.3444386997435633,
             -3.044423567556085
            ],
            [
             -2.864077787595228,
             -2.7348030614539054,
             -2.8476932171209466,
             -2.445205924861512,
             -2.7637099484800047,
             -2.8374203252345382,
             -2.4184333229499284,
             -2.7352590286168468,
             -2.8552046145824224,
             null,
             -2.727383746322098,
             -2.7454800717615195,
             -2.8464650111836,
             -2.7466570513885196,
             -2.750519429745029,
             -3.344625635657315,
             -3.039053816274539
            ],
            [
             -2.8641663444202012,
             -2.736397435689261,
             -2.862844050321151,
             -2.5137106712445227,
             -2.731748264120283,
             -2.894292606585896,
             -2.5306865928585474,
             -2.745159768159227,
             -2.8720802897704787,
             -2.4986387779877286,
             null,
             -2.747975136365064,
             -2.8828865186862993,
             -2.7497976690408286,
             -2.7128609386074793,
             -3.3426428832488115,
             -3.042421709808119
            ],
            [
             -2.866513513772287,
             -2.746776352951607,
             -2.8663665294078315,
             -2.5291781975398155,
             -2.7545563351807605,
             -2.8629727354236,
             -2.4778739643901497,
             -2.733788441104167,
             -2.8636954073152054,
             -2.518167425197196,
             -2.7184984662278504,
             null,
             -2.8626475564826723,
             -2.7352930530688977,
             -2.7673306961167556,
             -3.342176098107374,
             -3.049812173746543
            ],
            [
             -2.8558736839430034,
             -2.759286995908076,
             -2.8615512421710076,
             -2.5400686193504787,
             -2.7678946371196087,
             -2.862042673519197,
             -2.512203202893222,
             -2.7742298604827,
             -2.865526358175108,
             -2.498357754867487,
             -2.764542061460902,
             -2.765672463203908,
             null,
             -2.7924948377135754,
             -2.787777421200089,
             -3.348212461715961,
             -3.0468311987437184
            ],
            [
             -2.8471752164044593,
             -2.723822041740791,
             -2.871696821617061,
             -2.515956054002514,
             -2.7542640381475194,
             -2.861472000279882,
             -2.4958374565026493,
             -2.716604995783009,
             -2.8564979682576257,
             -2.495765569261032,
             -2.750763929028624,
             -2.7499114692580666,
             -2.8546147416556655,
             null,
             -2.746339177387109,
             -3.3356059394071216,
             -3.0363624907510998
            ],
            [
             -2.8539596354819596,
             -2.7244103731893223,
             -2.852723941935263,
             -2.504765961550932,
             -2.7253119066869345,
             -2.871003659364348,
             -2.544751561582373,
             -2.745221571622461,
             -2.878461918508384,
             -2.500645343897667,
             -2.724486209237274,
             -2.72660270116128,
             -2.8696385450074793,
             -2.76514251542036,
             null,
             -3.336951654222046,
             -3.0425914068672664
            ],
            [
             -2.957854418249791,
             -2.849479746905112,
             -2.945731487657033,
             -2.566192149534665,
             -2.8506158603254486,
             -2.956434607648409,
             -2.566595167979595,
             -2.835930104585224,
             -2.954300018116457,
             -2.5752706361452558,
             -2.843730357510193,
             -2.836802991260421,
             -2.9545058572504383,
             -2.840501351577639,
             -2.840123737720417,
             null,
             -3.111754807172651
            ],
            [
             -2.9082103773481167,
             -2.804955154392742,
             -2.894875047936086,
             -2.551989105190252,
             -2.818870358827541,
             -2.904648942553749,
             -2.5386332303087493,
             -2.7945246488878466,
             -2.886331110482655,
             -2.5315134616229407,
             -2.791569040117877,
             -2.799386348898899,
             -2.9064770829355475,
             -2.8028777584926723,
             -2.8055945627817955,
             -3.3395105391883653,
             null
            ]
           ]
          }
         ],
         "name": "frame_5"
        }
       ],
       "layout": {
        "dragmode": false,
        "height": 600,
        "sliders": [
         {
          "active": 0,
          "currentvalue": {
           "font": {
            "size": 20
           },
           "prefix": "Number of Layers",
           "visible": true,
           "xanchor": "right"
          },
          "len": 0.9,
          "pad": {
           "b": 10,
           "t": 50
          },
          "steps": [
           {
            "args": [
             [
              "frame_0"
             ],
             {
              "frame": {
               "duration": 500,
               "redraw": true
              },
              "mode": "immediate",
              "transition": {
               "duration": 500
              }
             }
            ],
            "label": "2",
            "method": "animate"
           },
           {
            "args": [
             [
              "frame_1"
             ],
             {
              "frame": {
               "duration": 500,
               "redraw": true
              },
              "mode": "immediate",
              "transition": {
               "duration": 500
              }
             }
            ],
            "label": "3",
            "method": "animate"
           },
           {
            "args": [
             [
              "frame_2"
             ],
             {
              "frame": {
               "duration": 500,
               "redraw": true
              },
              "mode": "immediate",
              "transition": {
               "duration": 500
              }
             }
            ],
            "label": "4",
            "method": "animate"
           },
           {
            "args": [
             [
              "frame_3"
             ],
             {
              "frame": {
               "duration": 500,
               "redraw": true
              },
              "mode": "immediate",
              "transition": {
               "duration": 500
              }
             }
            ],
            "label": "5",
            "method": "animate"
           },
           {
            "args": [
             [
              "frame_4"
             ],
             {
              "frame": {
               "duration": 500,
               "redraw": true
              },
              "mode": "immediate",
              "transition": {
               "duration": 500
              }
             }
            ],
            "label": "6",
            "method": "animate"
           },
           {
            "args": [
             [
              "frame_5"
             ],
             {
              "frame": {
               "duration": 500,
               "redraw": true
              },
              "mode": "immediate",
              "transition": {
               "duration": 500
              }
             }
            ],
            "label": "7",
            "method": "animate"
           }
          ],
          "transition": {
           "duration": 500,
           "easing": "cubic-in-out"
          },
          "x": 0.1,
          "xanchor": "left",
          "y": 1.1,
          "yanchor": "bottom"
         }
        ],
        "template": {
         "data": {
          "bar": [
           {
            "error_x": {
             "color": "#2a3f5f"
            },
            "error_y": {
             "color": "#2a3f5f"
            },
            "marker": {
             "line": {
              "color": "white",
              "width": 0.5
             },
             "pattern": {
              "fillmode": "overlay",
              "size": 10,
              "solidity": 0.2
             }
            },
            "type": "bar"
           }
          ],
          "barpolar": [
           {
            "marker": {
             "line": {
              "color": "white",
              "width": 0.5
             },
             "pattern": {
              "fillmode": "overlay",
              "size": 10,
              "solidity": 0.2
             }
            },
            "type": "barpolar"
           }
          ],
          "carpet": [
           {
            "aaxis": {
             "endlinecolor": "#2a3f5f",
             "gridcolor": "#C8D4E3",
             "linecolor": "#C8D4E3",
             "minorgridcolor": "#C8D4E3",
             "startlinecolor": "#2a3f5f"
            },
            "baxis": {
             "endlinecolor": "#2a3f5f",
             "gridcolor": "#C8D4E3",
             "linecolor": "#C8D4E3",
             "minorgridcolor": "#C8D4E3",
             "startlinecolor": "#2a3f5f"
            },
            "type": "carpet"
           }
          ],
          "choropleth": [
           {
            "colorbar": {
             "outlinewidth": 0,
             "ticks": ""
            },
            "type": "choropleth"
           }
          ],
          "contour": [
           {
            "colorbar": {
             "outlinewidth": 0,
             "ticks": ""
            },
            "colorscale": [
             [
              0,
              "#0d0887"
             ],
             [
              0.1111111111111111,
              "#46039f"
             ],
             [
              0.2222222222222222,
              "#7201a8"
             ],
             [
              0.3333333333333333,
              "#9c179e"
             ],
             [
              0.4444444444444444,
              "#bd3786"
             ],
             [
              0.5555555555555556,
              "#d8576b"
             ],
             [
              0.6666666666666666,
              "#ed7953"
             ],
             [
              0.7777777777777778,
              "#fb9f3a"
             ],
             [
              0.8888888888888888,
              "#fdca26"
             ],
             [
              1,
              "#f0f921"
             ]
            ],
            "type": "contour"
           }
          ],
          "contourcarpet": [
           {
            "colorbar": {
             "outlinewidth": 0,
             "ticks": ""
            },
            "type": "contourcarpet"
           }
          ],
          "heatmap": [
           {
            "colorbar": {
             "outlinewidth": 0,
             "ticks": ""
            },
            "colorscale": [
             [
              0,
              "#0d0887"
             ],
             [
              0.1111111111111111,
              "#46039f"
             ],
             [
              0.2222222222222222,
              "#7201a8"
             ],
             [
              0.3333333333333333,
              "#9c179e"
             ],
             [
              0.4444444444444444,
              "#bd3786"
             ],
             [
              0.5555555555555556,
              "#d8576b"
             ],
             [
              0.6666666666666666,
              "#ed7953"
             ],
             [
              0.7777777777777778,
              "#fb9f3a"
             ],
             [
              0.8888888888888888,
              "#fdca26"
             ],
             [
              1,
              "#f0f921"
             ]
            ],
            "type": "heatmap"
           }
          ],
          "heatmapgl": [
           {
            "colorbar": {
             "outlinewidth": 0,
             "ticks": ""
            },
            "colorscale": [
             [
              0,
              "#0d0887"
             ],
             [
              0.1111111111111111,
              "#46039f"
             ],
             [
              0.2222222222222222,
              "#7201a8"
             ],
             [
              0.3333333333333333,
              "#9c179e"
             ],
             [
              0.4444444444444444,
              "#bd3786"
             ],
             [
              0.5555555555555556,
              "#d8576b"
             ],
             [
              0.6666666666666666,
              "#ed7953"
             ],
             [
              0.7777777777777778,
              "#fb9f3a"
             ],
             [
              0.8888888888888888,
              "#fdca26"
             ],
             [
              1,
              "#f0f921"
             ]
            ],
            "type": "heatmapgl"
           }
          ],
          "histogram": [
           {
            "marker": {
             "pattern": {
              "fillmode": "overlay",
              "size": 10,
              "solidity": 0.2
             }
            },
            "type": "histogram"
           }
          ],
          "histogram2d": [
           {
            "colorbar": {
             "outlinewidth": 0,
             "ticks": ""
            },
            "colorscale": [
             [
              0,
              "#0d0887"
             ],
             [
              0.1111111111111111,
              "#46039f"
             ],
             [
              0.2222222222222222,
              "#7201a8"
             ],
             [
              0.3333333333333333,
              "#9c179e"
             ],
             [
              0.4444444444444444,
              "#bd3786"
             ],
             [
              0.5555555555555556,
              "#d8576b"
             ],
             [
              0.6666666666666666,
              "#ed7953"
             ],
             [
              0.7777777777777778,
              "#fb9f3a"
             ],
             [
              0.8888888888888888,
              "#fdca26"
             ],
             [
              1,
              "#f0f921"
             ]
            ],
            "type": "histogram2d"
           }
          ],
          "histogram2dcontour": [
           {
            "colorbar": {
             "outlinewidth": 0,
             "ticks": ""
            },
            "colorscale": [
             [
              0,
              "#0d0887"
             ],
             [
              0.1111111111111111,
              "#46039f"
             ],
             [
              0.2222222222222222,
              "#7201a8"
             ],
             [
              0.3333333333333333,
              "#9c179e"
             ],
             [
              0.4444444444444444,
              "#bd3786"
             ],
             [
              0.5555555555555556,
              "#d8576b"
             ],
             [
              0.6666666666666666,
              "#ed7953"
             ],
             [
              0.7777777777777778,
              "#fb9f3a"
             ],
             [
              0.8888888888888888,
              "#fdca26"
             ],
             [
              1,
              "#f0f921"
             ]
            ],
            "type": "histogram2dcontour"
           }
          ],
          "mesh3d": [
           {
            "colorbar": {
             "outlinewidth": 0,
             "ticks": ""
            },
            "type": "mesh3d"
           }
          ],
          "parcoords": [
           {
            "line": {
             "colorbar": {
              "outlinewidth": 0,
              "ticks": ""
             }
            },
            "type": "parcoords"
           }
          ],
          "pie": [
           {
            "automargin": true,
            "type": "pie"
           }
          ],
          "scatter": [
           {
            "fillpattern": {
             "fillmode": "overlay",
             "size": 10,
             "solidity": 0.2
            },
            "type": "scatter"
           }
          ],
          "scatter3d": [
           {
            "line": {
             "colorbar": {
              "outlinewidth": 0,
              "ticks": ""
             }
            },
            "marker": {
             "colorbar": {
              "outlinewidth": 0,
              "ticks": ""
             }
            },
            "type": "scatter3d"
           }
          ],
          "scattercarpet": [
           {
            "marker": {
             "colorbar": {
              "outlinewidth": 0,
              "ticks": ""
             }
            },
            "type": "scattercarpet"
           }
          ],
          "scattergeo": [
           {
            "marker": {
             "colorbar": {
              "outlinewidth": 0,
              "ticks": ""
             }
            },
            "type": "scattergeo"
           }
          ],
          "scattergl": [
           {
            "marker": {
             "colorbar": {
              "outlinewidth": 0,
              "ticks": ""
             }
            },
            "type": "scattergl"
           }
          ],
          "scattermapbox": [
           {
            "marker": {
             "colorbar": {
              "outlinewidth": 0,
              "ticks": ""
             }
            },
            "type": "scattermapbox"
           }
          ],
          "scatterpolar": [
           {
            "marker": {
             "colorbar": {
              "outlinewidth": 0,
              "ticks": ""
             }
            },
            "type": "scatterpolar"
           }
          ],
          "scatterpolargl": [
           {
            "marker": {
             "colorbar": {
              "outlinewidth": 0,
              "ticks": ""
             }
            },
            "type": "scatterpolargl"
           }
          ],
          "scatterternary": [
           {
            "marker": {
             "colorbar": {
              "outlinewidth": 0,
              "ticks": ""
             }
            },
            "type": "scatterternary"
           }
          ],
          "surface": [
           {
            "colorbar": {
             "outlinewidth": 0,
             "ticks": ""
            },
            "colorscale": [
             [
              0,
              "#0d0887"
             ],
             [
              0.1111111111111111,
              "#46039f"
             ],
             [
              0.2222222222222222,
              "#7201a8"
             ],
             [
              0.3333333333333333,
              "#9c179e"
             ],
             [
              0.4444444444444444,
              "#bd3786"
             ],
             [
              0.5555555555555556,
              "#d8576b"
             ],
             [
              0.6666666666666666,
              "#ed7953"
             ],
             [
              0.7777777777777778,
              "#fb9f3a"
             ],
             [
              0.8888888888888888,
              "#fdca26"
             ],
             [
              1,
              "#f0f921"
             ]
            ],
            "type": "surface"
           }
          ],
          "table": [
           {
            "cells": {
             "fill": {
              "color": "#EBF0F8"
             },
             "line": {
              "color": "white"
             }
            },
            "header": {
             "fill": {
              "color": "#C8D4E3"
             },
             "line": {
              "color": "white"
             }
            },
            "type": "table"
           }
          ]
         },
         "layout": {
          "annotationdefaults": {
           "arrowcolor": "#2a3f5f",
           "arrowhead": 0,
           "arrowwidth": 1
          },
          "autotypenumbers": "strict",
          "coloraxis": {
           "colorbar": {
            "outlinewidth": 0,
            "ticks": ""
           }
          },
          "colorscale": {
           "diverging": [
            [
             0,
             "#8e0152"
            ],
            [
             0.1,
             "#c51b7d"
            ],
            [
             0.2,
             "#de77ae"
            ],
            [
             0.3,
             "#f1b6da"
            ],
            [
             0.4,
             "#fde0ef"
            ],
            [
             0.5,
             "#f7f7f7"
            ],
            [
             0.6,
             "#e6f5d0"
            ],
            [
             0.7,
             "#b8e186"
            ],
            [
             0.8,
             "#7fbc41"
            ],
            [
             0.9,
             "#4d9221"
            ],
            [
             1,
             "#276419"
            ]
           ],
           "sequential": [
            [
             0,
             "#0d0887"
            ],
            [
             0.1111111111111111,
             "#46039f"
            ],
            [
             0.2222222222222222,
             "#7201a8"
            ],
            [
             0.3333333333333333,
             "#9c179e"
            ],
            [
             0.4444444444444444,
             "#bd3786"
            ],
            [
             0.5555555555555556,
             "#d8576b"
            ],
            [
             0.6666666666666666,
             "#ed7953"
            ],
            [
             0.7777777777777778,
             "#fb9f3a"
            ],
            [
             0.8888888888888888,
             "#fdca26"
            ],
            [
             1,
             "#f0f921"
            ]
           ],
           "sequentialminus": [
            [
             0,
             "#0d0887"
            ],
            [
             0.1111111111111111,
             "#46039f"
            ],
            [
             0.2222222222222222,
             "#7201a8"
            ],
            [
             0.3333333333333333,
             "#9c179e"
            ],
            [
             0.4444444444444444,
             "#bd3786"
            ],
            [
             0.5555555555555556,
             "#d8576b"
            ],
            [
             0.6666666666666666,
             "#ed7953"
            ],
            [
             0.7777777777777778,
             "#fb9f3a"
            ],
            [
             0.8888888888888888,
             "#fdca26"
            ],
            [
             1,
             "#f0f921"
            ]
           ]
          },
          "colorway": [
           "#636efa",
           "#EF553B",
           "#00cc96",
           "#ab63fa",
           "#FFA15A",
           "#19d3f3",
           "#FF6692",
           "#B6E880",
           "#FF97FF",
           "#FECB52"
          ],
          "font": {
           "color": "#2a3f5f"
          },
          "geo": {
           "bgcolor": "white",
           "lakecolor": "white",
           "landcolor": "white",
           "showlakes": true,
           "showland": true,
           "subunitcolor": "#C8D4E3"
          },
          "hoverlabel": {
           "align": "left"
          },
          "hovermode": "closest",
          "mapbox": {
           "style": "light"
          },
          "paper_bgcolor": "white",
          "plot_bgcolor": "white",
          "polar": {
           "angularaxis": {
            "gridcolor": "#EBF0F8",
            "linecolor": "#EBF0F8",
            "ticks": ""
           },
           "bgcolor": "white",
           "radialaxis": {
            "gridcolor": "#EBF0F8",
            "linecolor": "#EBF0F8",
            "ticks": ""
           }
          },
          "scene": {
           "xaxis": {
            "backgroundcolor": "white",
            "gridcolor": "#DFE8F3",
            "gridwidth": 2,
            "linecolor": "#EBF0F8",
            "showbackground": true,
            "ticks": "",
            "zerolinecolor": "#EBF0F8"
           },
           "yaxis": {
            "backgroundcolor": "white",
            "gridcolor": "#DFE8F3",
            "gridwidth": 2,
            "linecolor": "#EBF0F8",
            "showbackground": true,
            "ticks": "",
            "zerolinecolor": "#EBF0F8"
           },
           "zaxis": {
            "backgroundcolor": "white",
            "gridcolor": "#DFE8F3",
            "gridwidth": 2,
            "linecolor": "#EBF0F8",
            "showbackground": true,
            "ticks": "",
            "zerolinecolor": "#EBF0F8"
           }
          },
          "shapedefaults": {
           "line": {
            "color": "#2a3f5f"
           }
          },
          "ternary": {
           "aaxis": {
            "gridcolor": "#DFE8F3",
            "linecolor": "#A2B1C6",
            "ticks": ""
           },
           "baxis": {
            "gridcolor": "#DFE8F3",
            "linecolor": "#A2B1C6",
            "ticks": ""
           },
           "bgcolor": "white",
           "caxis": {
            "gridcolor": "#DFE8F3",
            "linecolor": "#A2B1C6",
            "ticks": ""
           }
          },
          "title": {
           "x": 0.05
          },
          "xaxis": {
           "automargin": true,
           "gridcolor": "#EBF0F8",
           "linecolor": "#EBF0F8",
           "ticks": "",
           "title": {
            "standoff": 15
           },
           "zerolinecolor": "#EBF0F8",
           "zerolinewidth": 2
          },
          "yaxis": {
           "automargin": true,
           "gridcolor": "#EBF0F8",
           "linecolor": "#EBF0F8",
           "ticks": "",
           "title": {
            "standoff": 15
           },
           "zerolinecolor": "#EBF0F8",
           "zerolinewidth": 2
          }
         }
        },
        "title": {
         "text": "Example Validation MSE (log) (ArguAna)"
        },
        "updatemenus": [
         {
          "buttons": [
           {
            "args": [
             null,
             {
              "frame": {
               "duration": 500,
               "redraw": true
              },
              "fromcurrent": true
             }
            ],
            "label": "Play",
            "method": "animate"
           },
           {
            "args": [
             [
              null
             ],
             {
              "frame": {
               "duration": 0,
               "redraw": true
              },
              "mode": "immediate",
              "transition": {
               "duration": 0
              }
             }
            ],
            "label": "Pause",
            "method": "animate"
           }
          ],
          "direction": "left",
          "pad": {
           "r": 10,
           "t": 87
          },
          "showactive": false,
          "type": "buttons",
          "x": 0.1,
          "xanchor": "right",
          "y": 1.1,
          "yanchor": "bottom"
         }
        ],
        "width": 800,
        "xaxis": {
         "fixedrange": true,
         "nticks": 17
        },
        "yaxis": {
         "fixedrange": true,
         "nticks": 17
        }
       }
      }
     },
     "metadata": {},
     "output_type": "display_data"
    }
   ],
   "source": [
    "# Visualize Imported Data (One Dataset, All Architectures)\n",
    "labels = sorted(meta[\"model2idx\"], key=lambda k: meta[\"model2idx\"][k])\n",
    "num_layers = sorted(meta[\"num_layers\"])\n",
    "matrix = validation_mse[0, :, :, :].transpose(2, 0, 1)\n",
    "animated_heatmap(\n",
    "    matrices=matrix,\n",
    "    log=True,\n",
    "    title=\"Example Validation MSE (log) (ArguAna)\",\n",
    "    labels=labels,\n",
    "    nan_diagnal=True,\n",
    "    slider_prefix=\"Number of Layers\",\n",
    "    slider_labels=num_layers,\n",
    ")"
   ]
  }
 ],
 "metadata": {
  "kernelspec": {
   "display_name": ".venv",
   "language": "python",
   "name": "python3"
  },
  "language_info": {
   "codemirror_mode": {
    "name": "ipython",
    "version": 3
   },
   "file_extension": ".py",
   "mimetype": "text/x-python",
   "name": "python",
   "nbconvert_exporter": "python",
   "pygments_lexer": "ipython3",
   "version": "3.12.8"
  }
 },
 "nbformat": 4,
 "nbformat_minor": 2
}
